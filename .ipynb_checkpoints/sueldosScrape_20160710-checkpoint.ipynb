{
 "cells": [
  {
   "cell_type": "code",
   "execution_count": null,
   "metadata": {
    "collapsed": true
   },
   "outputs": [],
   "source": []
  },
  {
   "cell_type": "code",
   "execution_count": null,
   "metadata": {
    "collapsed": true
   },
   "outputs": [],
   "source": []
  },
  {
   "cell_type": "code",
   "execution_count": 20,
   "metadata": {
    "collapsed": false
   },
   "outputs": [
    {
     "name": "stdout",
     "output_type": "stream",
     "text": [
      "Done with 0..\n",
      "Done with 5..\n",
      "Done with 10..\n",
      "Done with 15..\n"
     ]
    }
   ],
   "source": [
    "import datetime\n",
    "import os.path\n",
    "import urllib.request as ur\n",
    "from bs4 import BeautifulSoup\n",
    "import csv\n",
    "\n",
    "## Imput what dates you want to scrape\n",
    "date1 = '2016-02-01'\n",
    "date2 = '2016-02-17'\n",
    "\n",
    "## What fields we want to get\n",
    "fields = ['Mean Temperature', 'Max Temperature', 'Min Temperature',\\\n",
    "          'Dew Point', 'Average Humidity', 'Maximum Humidity',\\\n",
    "          'Minimum Humidity', 'Precipitation', 'Wind Speed',\\\n",
    "          'Max Wind Speed', 'Max Gust Speed']\n",
    "\n",
    "# Format of weather underground web address\n",
    "link_format = \"http://www.gobiernotransparentechile.cl/directorio/entidad/25/351/per_planta/Ao-2016\"\n",
    "\n",
    "## Prepare set of dates and links\n",
    "links = list()\n",
    "start = datetime.datetime.strptime(date1, '%Y-%m-%d')\n",
    "end = datetime.datetime.strptime(date2, '%Y-%m-%d')\n",
    "step = datetime.timedelta(days=1)\n",
    "while start <= end:\n",
    "    links.append(link_format.format(start.year,start.month,start.day))\n",
    "    start += step\n",
    "#print(\"\\n\".join(links[:5]))\n",
    "\n",
    "## Main function\n",
    "def scrape_link_wunderground(name):\n",
    "\n",
    "    url_req=ur.Request(name)\n",
    "    url_response=ur.urlopen(url_req) #we press enter and go into the browser\n",
    "    soup = BeautifulSoup(url_response)\n",
    "    data = {}\n",
    "    for row in soup.find(id=\"historyTable\").find_all(\"tr\"):\n",
    "        cells = row.find_all(\"td\")\n",
    "        if len(cells) == 4:\n",
    "            name = cells[0].text.strip()\n",
    "            if name in fields:\n",
    "                data[name] = cells[1].text.split()[0].strip()   # Split to remove units\n",
    "    return data\n",
    "\n",
    "## Prepare output\n",
    "csv_fields = [\"Month\", \"Day\", \"Year\"] + fields\n",
    "\n",
    "with open(\"weather_data_scraped.csv\", \"w\") as fout:\n",
    "    writer = csv.DictWriter(fout, csv_fields)\n",
    "    writer.writeheader()\n",
    "    \n",
    "    for i, link in enumerate(links):\n",
    "        data = scrape_link_wunderground(link)\n",
    "        url_parts = link.split(\"/\")\n",
    "        data[\"Month\"] = int(url_parts[-3])\n",
    "        data[\"Year\"] = int(url_parts[-4])\n",
    "        data[\"Day\"] = int(url_parts[-2])\n",
    "        writer.writerow(data)\n",
    "        if i % 5 == 0:\n",
    "            print(\"Done with %d..\" % i)\n"
   ]
  },
  {
   "cell_type": "code",
   "execution_count": null,
   "metadata": {
    "collapsed": false
   },
   "outputs": [],
   "source": []
  },
  {
   "cell_type": "code",
   "execution_count": 54,
   "metadata": {
    "collapsed": false
   },
   "outputs": [
    {
     "name": "stdout",
     "output_type": "stream",
     "text": [
      "Done with 0..\n"
     ]
    }
   ],
   "source": []
  },
  {
   "cell_type": "code",
   "execution_count": 55,
   "metadata": {
    "collapsed": false
   },
   "outputs": [],
   "source": []
  },
  {
   "cell_type": "code",
   "execution_count": 56,
   "metadata": {
    "collapsed": false
   },
   "outputs": [
    {
     "name": "stdout",
     "output_type": "stream",
     "text": [
      "<a href=\"https://www.wunderground.com/member/registration\">\n",
      "<i class=\"fi-torso sidebar-icon\"></i> Sign Up / Sign In\n",
      "  </a>\n",
      "\n",
      "<a href=\"/wutv/?cm_ven=wutv_toast\">\n",
      "<iframe class=\"underlay\" frameborder=\"no\" id=\"ustream-tdu-player\" src=\"//www.ustream.tv/embed/21416049\" width=\"240\"></iframe>\n",
      "</a>\n",
      "\n",
      "<a class=\"modal-close close\">×</a>\n",
      "\n",
      "<a aria-label=\"Close\" class=\"close-reveal-modal\">×</a>\n",
      "\n",
      "<a class=\"button medium radius\" href=\"/member/registration\">Remove Ads</a>\n",
      "\n"
     ]
    }
   ],
   "source": []
  },
  {
   "cell_type": "code",
   "execution_count": 57,
   "metadata": {
    "collapsed": true
   },
   "outputs": [],
   "source": []
  },
  {
   "cell_type": "code",
   "execution_count": 58,
   "metadata": {
    "collapsed": false
   },
   "outputs": [
    {
     "name": "stdout",
     "output_type": "stream",
     "text": [
      "34\n",
      "<tr>\n",
      "<th> </th>\n",
      "<th>Actual</th>\n",
      "<th>Average </th>\n",
      "<th>Record </th>\n",
      "</tr>\n",
      "\n",
      "<tr>\n",
      "<td class=\"history-table-grey-header\">Temperature</td>\n",
      "<td class=\"history-table-grey-header\" colspan=\"3\"> </td>\n",
      "</tr>\n",
      "\n",
      "<tr>\n",
      "<td class=\"indent\"><span>Mean Temperature</span></td>\n",
      "<td>\n",
      "<span class=\"wx-data\"><span class=\"wx-value\">38</span><span class=\"wx-unit\"> °F</span></span>\n",
      "</td>\n",
      "<td>\n",
      "<span class=\"wx-data\"><span class=\"wx-value\">33</span><span class=\"wx-unit\"> °F</span></span>\n",
      "</td>\n",
      "<td> </td>\n",
      "</tr>\n",
      "\n"
     ]
    }
   ],
   "source": []
  },
  {
   "cell_type": "code",
   "execution_count": 59,
   "metadata": {
    "collapsed": false
   },
   "outputs": [
    {
     "name": "stdout",
     "output_type": "stream",
     "text": [
      "<td class=\"indent\"><span>Mean Temperature</span></td>\n",
      "\n",
      "<td>\n",
      "<span class=\"wx-data\"><span class=\"wx-value\">38</span><span class=\"wx-unit\"> °F</span></span>\n",
      "</td>\n",
      "\n",
      "<td>\n",
      "<span class=\"wx-data\"><span class=\"wx-value\">33</span><span class=\"wx-unit\"> °F</span></span>\n",
      "</td>\n",
      "\n",
      "<td> </td>\n",
      "\n",
      "Mean Temperature : 38 °F\n"
     ]
    }
   ],
   "source": []
  },
  {
   "cell_type": "code",
   "execution_count": 60,
   "metadata": {
    "collapsed": false
   },
   "outputs": [
    {
     "name": "stdout",
     "output_type": "stream",
     "text": [
      "Mean Temperature : 38 °F\n",
      "Max Temperature : 42 °F\n",
      "Min Temperature : 34 °F\n",
      "Heating Degree Days : 27\n",
      "Month to date heating degree days : 27\n",
      "Since 1 July heating degree days : 1049\n",
      "Cooling Degree Days : 0\n",
      "Month to date cooling degree days : 0\n",
      "Year to date cooling degree days : 0\n",
      "Dew Point : 23 °F\n",
      "Average Humidity : 52\n",
      "Maximum Humidity : 59\n",
      "Minimum Humidity : 44\n",
      "Precipitation : 0.00 in\n",
      "Month to date precipitation : 0.00\n",
      "Year to date precipitation : 0.00\n",
      "Snow : 0.00 in\n",
      "Month to date snowfall : 0.0\n",
      "Since 1 July snowfall : T\n",
      "Snow Depth : 0.00 in\n",
      "Sea Level Pressure : 30.03 in\n",
      "Wind Speed : 8 mph\n",
      " (West)\n",
      "Max Wind Speed : 17 mph\n",
      "Max Gust Speed : 26 mph\n",
      "Visibility : 10 miles\n",
      "Events : \n"
     ]
    }
   ],
   "source": [
    "for row in rows:\n",
    "    #Only process the rows with 4 cells to eliminate heading rows, etc.\n",
    "    if len(row.find_all('td')) == 4:\n",
    "        row_name = row.find_all('td')[0].text.strip()\n",
    "        row_value = row.find_all('td')[1].text.strip() \n",
    "        print(row_name, \":\", row_value)  "
   ]
  },
  {
   "cell_type": "code",
   "execution_count": 61,
   "metadata": {
    "collapsed": false
   },
   "outputs": [
    {
     "data": {
      "text/plain": [
       "{'Average Humidity': '52',\n",
       " 'Dew Point': '23',\n",
       " 'Max Gust Speed': '26',\n",
       " 'Max Temperature': '42',\n",
       " 'Max Wind Speed': '17',\n",
       " 'Maximum Humidity': '59',\n",
       " 'Mean Temperature': '38',\n",
       " 'Min Temperature': '34',\n",
       " 'Minimum Humidity': '44',\n",
       " 'Precipitation': '0.00',\n",
       " 'Wind Speed': '8'}"
      ]
     },
     "execution_count": 61,
     "metadata": {},
     "output_type": "execute_result"
    }
   ],
   "source": [
    "fields = ['Mean Temperature', 'Max Temperature', 'Min Temperature',\\\n",
    "          'Dew Point', 'Average Humidity', 'Maximum Humidity',\\\n",
    "          'Minimum Humidity', 'Precipitation', 'Wind Speed',\\\n",
    "          'Max Wind Speed', 'Max Gust Speed']\n"
   ]
  },
  {
   "cell_type": "code",
   "execution_count": 62,
   "metadata": {
    "collapsed": true
   },
   "outputs": [],
   "source": [
    "import csv\n",
    "\n",
    "csv_fields = [\"Month\", \"Day\", \"Year\"] + fields\n",
    "\n",
    "with open(\"weather_data.csv\", \"w\") as fout:\n",
    "    writer = csv.DictWriter(fout, csv_fields)\n",
    "    writer.writeheader()\n",
    "    \n",
    "    for i, link in enumerate(links):\n",
    "        data = scrape_file(\"{}.html\".format(i))\n",
    "        url_parts = link.split(\"/\")\n",
    "        data[\"Month\"] = int(url_parts[-3])\n",
    "        data[\"Year\"] = int(url_parts[-4])\n",
    "        data[\"Day\"] = int(url_parts[-2])\n",
    "        \n",
    "        writer.writerow(data)"
   ]
  },
  {
   "cell_type": "code",
   "execution_count": 63,
   "metadata": {
    "collapsed": true
   },
   "outputs": [],
   "source": [
    "## LEVEL 2"
   ]
  },
  {
   "cell_type": "code",
   "execution_count": 64,
   "metadata": {
    "collapsed": true
   },
   "outputs": [],
   "source": [
    "import pandas as pd\n",
    "\n",
    "data = pd.read_csv('weather_data.csv')"
   ]
  },
  {
   "cell_type": "code",
   "execution_count": 65,
   "metadata": {
    "collapsed": false
   },
   "outputs": [
    {
     "data": {
      "text/html": [
       "<div>\n",
       "<table border=\"1\" class=\"dataframe\">\n",
       "  <thead>\n",
       "    <tr style=\"text-align: right;\">\n",
       "      <th></th>\n",
       "      <th>Month</th>\n",
       "      <th>Day</th>\n",
       "      <th>Year</th>\n",
       "      <th>Mean Temperature</th>\n",
       "      <th>Max Temperature</th>\n",
       "      <th>Min Temperature</th>\n",
       "      <th>Dew Point</th>\n",
       "      <th>Average Humidity</th>\n",
       "      <th>Maximum Humidity</th>\n",
       "      <th>Minimum Humidity</th>\n",
       "      <th>Precipitation</th>\n",
       "      <th>Wind Speed</th>\n",
       "      <th>Max Wind Speed</th>\n",
       "      <th>Max Gust Speed</th>\n",
       "    </tr>\n",
       "  </thead>\n",
       "  <tbody>\n",
       "    <tr>\n",
       "      <th>0</th>\n",
       "      <td>1</td>\n",
       "      <td>1</td>\n",
       "      <td>2016</td>\n",
       "      <td>38</td>\n",
       "      <td>42</td>\n",
       "      <td>34</td>\n",
       "      <td>23</td>\n",
       "      <td>52</td>\n",
       "      <td>59</td>\n",
       "      <td>44</td>\n",
       "      <td>0.00</td>\n",
       "      <td>8</td>\n",
       "      <td>17</td>\n",
       "      <td>26</td>\n",
       "    </tr>\n",
       "    <tr>\n",
       "      <th>1</th>\n",
       "      <td>1</td>\n",
       "      <td>2</td>\n",
       "      <td>2016</td>\n",
       "      <td>36</td>\n",
       "      <td>40</td>\n",
       "      <td>32</td>\n",
       "      <td>18</td>\n",
       "      <td>46</td>\n",
       "      <td>52</td>\n",
       "      <td>40</td>\n",
       "      <td>0.00</td>\n",
       "      <td>7</td>\n",
       "      <td>15</td>\n",
       "      <td>23</td>\n",
       "    </tr>\n",
       "    <tr>\n",
       "      <th>2</th>\n",
       "      <td>1</td>\n",
       "      <td>3</td>\n",
       "      <td>2016</td>\n",
       "      <td>40</td>\n",
       "      <td>45</td>\n",
       "      <td>35</td>\n",
       "      <td>21</td>\n",
       "      <td>47</td>\n",
       "      <td>56</td>\n",
       "      <td>37</td>\n",
       "      <td>0.00</td>\n",
       "      <td>8</td>\n",
       "      <td>17</td>\n",
       "      <td>26</td>\n",
       "    </tr>\n",
       "    <tr>\n",
       "      <th>...</th>\n",
       "      <td>...</td>\n",
       "      <td>...</td>\n",
       "      <td>...</td>\n",
       "      <td>...</td>\n",
       "      <td>...</td>\n",
       "      <td>...</td>\n",
       "      <td>...</td>\n",
       "      <td>...</td>\n",
       "      <td>...</td>\n",
       "      <td>...</td>\n",
       "      <td>...</td>\n",
       "      <td>...</td>\n",
       "      <td>...</td>\n",
       "      <td>...</td>\n",
       "    </tr>\n",
       "    <tr>\n",
       "      <th>28</th>\n",
       "      <td>1</td>\n",
       "      <td>29</td>\n",
       "      <td>2016</td>\n",
       "      <td>36</td>\n",
       "      <td>41</td>\n",
       "      <td>30</td>\n",
       "      <td>21</td>\n",
       "      <td>50</td>\n",
       "      <td>59</td>\n",
       "      <td>40</td>\n",
       "      <td>0.00</td>\n",
       "      <td>8</td>\n",
       "      <td>17</td>\n",
       "      <td>32</td>\n",
       "    </tr>\n",
       "    <tr>\n",
       "      <th>29</th>\n",
       "      <td>1</td>\n",
       "      <td>30</td>\n",
       "      <td>2016</td>\n",
       "      <td>34</td>\n",
       "      <td>39</td>\n",
       "      <td>28</td>\n",
       "      <td>16</td>\n",
       "      <td>46</td>\n",
       "      <td>58</td>\n",
       "      <td>34</td>\n",
       "      <td>0.00</td>\n",
       "      <td>7</td>\n",
       "      <td>16</td>\n",
       "      <td>25</td>\n",
       "    </tr>\n",
       "    <tr>\n",
       "      <th>30</th>\n",
       "      <td>1</td>\n",
       "      <td>31</td>\n",
       "      <td>2016</td>\n",
       "      <td>46</td>\n",
       "      <td>56</td>\n",
       "      <td>36</td>\n",
       "      <td>28</td>\n",
       "      <td>52</td>\n",
       "      <td>71</td>\n",
       "      <td>32</td>\n",
       "      <td>0.00</td>\n",
       "      <td>5</td>\n",
       "      <td>14</td>\n",
       "      <td>22</td>\n",
       "    </tr>\n",
       "  </tbody>\n",
       "</table>\n",
       "<p>31 rows × 14 columns</p>\n",
       "</div>"
      ],
      "text/plain": [
       "    Month  Day  Year  Mean Temperature  Max Temperature  Min Temperature  \\\n",
       "0       1    1  2016                38               42               34   \n",
       "1       1    2  2016                36               40               32   \n",
       "2       1    3  2016                40               45               35   \n",
       "..    ...  ...   ...               ...              ...              ...   \n",
       "28      1   29  2016                36               41               30   \n",
       "29      1   30  2016                34               39               28   \n",
       "30      1   31  2016                46               56               36   \n",
       "\n",
       "    Dew Point  Average Humidity  Maximum Humidity  Minimum Humidity  \\\n",
       "0          23                52                59                44   \n",
       "1          18                46                52                40   \n",
       "2          21                47                56                37   \n",
       "..        ...               ...               ...               ...   \n",
       "28         21                50                59                40   \n",
       "29         16                46                58                34   \n",
       "30         28                52                71                32   \n",
       "\n",
       "   Precipitation  Wind Speed  Max Wind Speed Max Gust Speed  \n",
       "0           0.00           8              17             26  \n",
       "1           0.00           7              15             23  \n",
       "2           0.00           8              17             26  \n",
       "..           ...         ...             ...            ...  \n",
       "28          0.00           8              17             32  \n",
       "29          0.00           7              16             25  \n",
       "30          0.00           5              14             22  \n",
       "\n",
       "[31 rows x 14 columns]"
      ]
     },
     "execution_count": 65,
     "metadata": {},
     "output_type": "execute_result"
    }
   ],
   "source": [
    "pd.options.display.max_rows = 7\n",
    "data"
   ]
  },
  {
   "cell_type": "code",
   "execution_count": 66,
   "metadata": {
    "collapsed": false
   },
   "outputs": [
    {
     "data": {
      "text/html": [
       "<div>\n",
       "<table border=\"1\" class=\"dataframe\">\n",
       "  <thead>\n",
       "    <tr style=\"text-align: right;\">\n",
       "      <th></th>\n",
       "      <th>month</th>\n",
       "      <th>day</th>\n",
       "      <th>year</th>\n",
       "      <th>mean_temperature</th>\n",
       "      <th>max_temperature</th>\n",
       "      <th>min_temperature</th>\n",
       "      <th>dew_point</th>\n",
       "      <th>average_humidity</th>\n",
       "      <th>maximum_humidity</th>\n",
       "      <th>minimum_humidity</th>\n",
       "      <th>precipitation</th>\n",
       "      <th>wind_speed</th>\n",
       "      <th>max_wind_speed</th>\n",
       "      <th>max_gust_speed</th>\n",
       "    </tr>\n",
       "  </thead>\n",
       "  <tbody>\n",
       "    <tr>\n",
       "      <th>0</th>\n",
       "      <td>1</td>\n",
       "      <td>1</td>\n",
       "      <td>2016</td>\n",
       "      <td>38</td>\n",
       "      <td>42</td>\n",
       "      <td>34</td>\n",
       "      <td>23</td>\n",
       "      <td>52</td>\n",
       "      <td>59</td>\n",
       "      <td>44</td>\n",
       "      <td>0.00</td>\n",
       "      <td>8</td>\n",
       "      <td>17</td>\n",
       "      <td>26</td>\n",
       "    </tr>\n",
       "    <tr>\n",
       "      <th>1</th>\n",
       "      <td>1</td>\n",
       "      <td>2</td>\n",
       "      <td>2016</td>\n",
       "      <td>36</td>\n",
       "      <td>40</td>\n",
       "      <td>32</td>\n",
       "      <td>18</td>\n",
       "      <td>46</td>\n",
       "      <td>52</td>\n",
       "      <td>40</td>\n",
       "      <td>0.00</td>\n",
       "      <td>7</td>\n",
       "      <td>15</td>\n",
       "      <td>23</td>\n",
       "    </tr>\n",
       "    <tr>\n",
       "      <th>2</th>\n",
       "      <td>1</td>\n",
       "      <td>3</td>\n",
       "      <td>2016</td>\n",
       "      <td>40</td>\n",
       "      <td>45</td>\n",
       "      <td>35</td>\n",
       "      <td>21</td>\n",
       "      <td>47</td>\n",
       "      <td>56</td>\n",
       "      <td>37</td>\n",
       "      <td>0.00</td>\n",
       "      <td>8</td>\n",
       "      <td>17</td>\n",
       "      <td>26</td>\n",
       "    </tr>\n",
       "    <tr>\n",
       "      <th>...</th>\n",
       "      <td>...</td>\n",
       "      <td>...</td>\n",
       "      <td>...</td>\n",
       "      <td>...</td>\n",
       "      <td>...</td>\n",
       "      <td>...</td>\n",
       "      <td>...</td>\n",
       "      <td>...</td>\n",
       "      <td>...</td>\n",
       "      <td>...</td>\n",
       "      <td>...</td>\n",
       "      <td>...</td>\n",
       "      <td>...</td>\n",
       "      <td>...</td>\n",
       "    </tr>\n",
       "    <tr>\n",
       "      <th>28</th>\n",
       "      <td>1</td>\n",
       "      <td>29</td>\n",
       "      <td>2016</td>\n",
       "      <td>36</td>\n",
       "      <td>41</td>\n",
       "      <td>30</td>\n",
       "      <td>21</td>\n",
       "      <td>50</td>\n",
       "      <td>59</td>\n",
       "      <td>40</td>\n",
       "      <td>0.00</td>\n",
       "      <td>8</td>\n",
       "      <td>17</td>\n",
       "      <td>32</td>\n",
       "    </tr>\n",
       "    <tr>\n",
       "      <th>29</th>\n",
       "      <td>1</td>\n",
       "      <td>30</td>\n",
       "      <td>2016</td>\n",
       "      <td>34</td>\n",
       "      <td>39</td>\n",
       "      <td>28</td>\n",
       "      <td>16</td>\n",
       "      <td>46</td>\n",
       "      <td>58</td>\n",
       "      <td>34</td>\n",
       "      <td>0.00</td>\n",
       "      <td>7</td>\n",
       "      <td>16</td>\n",
       "      <td>25</td>\n",
       "    </tr>\n",
       "    <tr>\n",
       "      <th>30</th>\n",
       "      <td>1</td>\n",
       "      <td>31</td>\n",
       "      <td>2016</td>\n",
       "      <td>46</td>\n",
       "      <td>56</td>\n",
       "      <td>36</td>\n",
       "      <td>28</td>\n",
       "      <td>52</td>\n",
       "      <td>71</td>\n",
       "      <td>32</td>\n",
       "      <td>0.00</td>\n",
       "      <td>5</td>\n",
       "      <td>14</td>\n",
       "      <td>22</td>\n",
       "    </tr>\n",
       "  </tbody>\n",
       "</table>\n",
       "<p>31 rows × 14 columns</p>\n",
       "</div>"
      ],
      "text/plain": [
       "    month  day  year  mean_temperature  max_temperature  min_temperature  \\\n",
       "0       1    1  2016                38               42               34   \n",
       "1       1    2  2016                36               40               32   \n",
       "2       1    3  2016                40               45               35   \n",
       "..    ...  ...   ...               ...              ...              ...   \n",
       "28      1   29  2016                36               41               30   \n",
       "29      1   30  2016                34               39               28   \n",
       "30      1   31  2016                46               56               36   \n",
       "\n",
       "    dew_point  average_humidity  maximum_humidity  minimum_humidity  \\\n",
       "0          23                52                59                44   \n",
       "1          18                46                52                40   \n",
       "2          21                47                56                37   \n",
       "..        ...               ...               ...               ...   \n",
       "28         21                50                59                40   \n",
       "29         16                46                58                34   \n",
       "30         28                52                71                32   \n",
       "\n",
       "   precipitation  wind_speed  max_wind_speed max_gust_speed  \n",
       "0           0.00           8              17             26  \n",
       "1           0.00           7              15             23  \n",
       "2           0.00           8              17             26  \n",
       "..           ...         ...             ...            ...  \n",
       "28          0.00           8              17             32  \n",
       "29          0.00           7              16             25  \n",
       "30          0.00           5              14             22  \n",
       "\n",
       "[31 rows x 14 columns]"
      ]
     },
     "execution_count": 66,
     "metadata": {},
     "output_type": "execute_result"
    }
   ],
   "source": [
    "data.columns = [name.lower().replace(\" \", \"_\")\n",
    "                for name in data.columns]\n",
    "data"
   ]
  },
  {
   "cell_type": "code",
   "execution_count": 67,
   "metadata": {
    "collapsed": false
   },
   "outputs": [
    {
     "data": {
      "text/plain": [
       "0     23\n",
       "1     18\n",
       "2     21\n",
       "      ..\n",
       "28    21\n",
       "29    16\n",
       "30    28\n",
       "Name: dew_point, dtype: int64"
      ]
     },
     "execution_count": 67,
     "metadata": {},
     "output_type": "execute_result"
    }
   ],
   "source": [
    "data[\"dew_point\"]"
   ]
  },
  {
   "cell_type": "code",
   "execution_count": 68,
   "metadata": {
    "collapsed": false
   },
   "outputs": [
    {
     "name": "stdout",
     "output_type": "stream",
     "text": [
      "17.838709677419356\n"
     ]
    },
    {
     "data": {
      "text/plain": [
       "0     115\n",
       "1      90\n",
       "2     105\n",
       "     ... \n",
       "28    105\n",
       "29     80\n",
       "30    140\n",
       "Name: dew_point, dtype: int64"
      ]
     },
     "execution_count": 68,
     "metadata": {},
     "output_type": "execute_result"
    }
   ],
   "source": [
    "print(data[\"dew_point\"].mean())\n",
    "data[\"dew_point\"] * 5"
   ]
  },
  {
   "cell_type": "code",
   "execution_count": 69,
   "metadata": {
    "collapsed": false
   },
   "outputs": [
    {
     "name": "stdout",
     "output_type": "stream",
     "text": [
      "31\n",
      "14\n"
     ]
    },
    {
     "data": {
      "text/plain": [
       "Index(['month', 'day', 'year', 'mean_temperature', 'max_temperature',\n",
       "       'min_temperature', 'dew_point', 'average_humidity', 'maximum_humidity',\n",
       "       'minimum_humidity', 'precipitation', 'wind_speed', 'max_wind_speed',\n",
       "       'max_gust_speed'],\n",
       "      dtype='object')"
      ]
     },
     "execution_count": 69,
     "metadata": {},
     "output_type": "execute_result"
    }
   ],
   "source": [
    "print(len(data))\n",
    "print(len(data.columns))\n",
    "data.columns"
   ]
  },
  {
   "cell_type": "code",
   "execution_count": 70,
   "metadata": {
    "collapsed": false
   },
   "outputs": [
    {
     "data": {
      "text/plain": [
       "(31, 14)"
      ]
     },
     "execution_count": 70,
     "metadata": {},
     "output_type": "execute_result"
    }
   ],
   "source": [
    "data.shape"
   ]
  },
  {
   "cell_type": "code",
   "execution_count": 71,
   "metadata": {
    "collapsed": false
   },
   "outputs": [
    {
     "data": {
      "text/plain": [
       "month                1\n",
       "day                  1\n",
       "year              2016\n",
       "                  ... \n",
       "wind_speed           8\n",
       "max_wind_speed      17\n",
       "max_gust_speed      26\n",
       "Name: 0, dtype: object"
      ]
     },
     "execution_count": 71,
     "metadata": {},
     "output_type": "execute_result"
    }
   ],
   "source": [
    "data.iloc[0]"
   ]
  },
  {
   "cell_type": "code",
   "execution_count": 72,
   "metadata": {
    "collapsed": false
   },
   "outputs": [
    {
     "data": {
      "text/html": [
       "<div>\n",
       "<table border=\"1\" class=\"dataframe\">\n",
       "  <thead>\n",
       "    <tr style=\"text-align: right;\">\n",
       "      <th></th>\n",
       "      <th>month</th>\n",
       "      <th>day</th>\n",
       "      <th>year</th>\n",
       "      <th>mean_temperature</th>\n",
       "      <th>max_temperature</th>\n",
       "      <th>min_temperature</th>\n",
       "      <th>dew_point</th>\n",
       "      <th>average_humidity</th>\n",
       "      <th>maximum_humidity</th>\n",
       "      <th>minimum_humidity</th>\n",
       "      <th>precipitation</th>\n",
       "      <th>wind_speed</th>\n",
       "      <th>max_wind_speed</th>\n",
       "      <th>max_gust_speed</th>\n",
       "    </tr>\n",
       "  </thead>\n",
       "  <tbody>\n",
       "    <tr>\n",
       "      <th>0</th>\n",
       "      <td>1</td>\n",
       "      <td>1</td>\n",
       "      <td>2016</td>\n",
       "      <td>38</td>\n",
       "      <td>42</td>\n",
       "      <td>34</td>\n",
       "      <td>23</td>\n",
       "      <td>52</td>\n",
       "      <td>59</td>\n",
       "      <td>44</td>\n",
       "      <td>0.00</td>\n",
       "      <td>8</td>\n",
       "      <td>17</td>\n",
       "      <td>26</td>\n",
       "    </tr>\n",
       "    <tr>\n",
       "      <th>1</th>\n",
       "      <td>1</td>\n",
       "      <td>2</td>\n",
       "      <td>2016</td>\n",
       "      <td>36</td>\n",
       "      <td>40</td>\n",
       "      <td>32</td>\n",
       "      <td>18</td>\n",
       "      <td>46</td>\n",
       "      <td>52</td>\n",
       "      <td>40</td>\n",
       "      <td>0.00</td>\n",
       "      <td>7</td>\n",
       "      <td>15</td>\n",
       "      <td>23</td>\n",
       "    </tr>\n",
       "    <tr>\n",
       "      <th>2</th>\n",
       "      <td>1</td>\n",
       "      <td>3</td>\n",
       "      <td>2016</td>\n",
       "      <td>40</td>\n",
       "      <td>45</td>\n",
       "      <td>35</td>\n",
       "      <td>21</td>\n",
       "      <td>47</td>\n",
       "      <td>56</td>\n",
       "      <td>37</td>\n",
       "      <td>0.00</td>\n",
       "      <td>8</td>\n",
       "      <td>17</td>\n",
       "      <td>26</td>\n",
       "    </tr>\n",
       "    <tr>\n",
       "      <th>3</th>\n",
       "      <td>1</td>\n",
       "      <td>4</td>\n",
       "      <td>2016</td>\n",
       "      <td>25</td>\n",
       "      <td>36</td>\n",
       "      <td>14</td>\n",
       "      <td>9</td>\n",
       "      <td>44</td>\n",
       "      <td>59</td>\n",
       "      <td>28</td>\n",
       "      <td>0.00</td>\n",
       "      <td>9</td>\n",
       "      <td>21</td>\n",
       "      <td>31</td>\n",
       "    </tr>\n",
       "    <tr>\n",
       "      <th>4</th>\n",
       "      <td>1</td>\n",
       "      <td>5</td>\n",
       "      <td>2016</td>\n",
       "      <td>20</td>\n",
       "      <td>29</td>\n",
       "      <td>11</td>\n",
       "      <td>-3</td>\n",
       "      <td>41</td>\n",
       "      <td>58</td>\n",
       "      <td>24</td>\n",
       "      <td>0.00</td>\n",
       "      <td>5</td>\n",
       "      <td>20</td>\n",
       "      <td>30</td>\n",
       "    </tr>\n",
       "  </tbody>\n",
       "</table>\n",
       "</div>"
      ],
      "text/plain": [
       "   month  day  year  mean_temperature  max_temperature  min_temperature  \\\n",
       "0      1    1  2016                38               42               34   \n",
       "1      1    2  2016                36               40               32   \n",
       "2      1    3  2016                40               45               35   \n",
       "3      1    4  2016                25               36               14   \n",
       "4      1    5  2016                20               29               11   \n",
       "\n",
       "   dew_point  average_humidity  maximum_humidity  minimum_humidity  \\\n",
       "0         23                52                59                44   \n",
       "1         18                46                52                40   \n",
       "2         21                47                56                37   \n",
       "3          9                44                59                28   \n",
       "4         -3                41                58                24   \n",
       "\n",
       "  precipitation  wind_speed  max_wind_speed max_gust_speed  \n",
       "0          0.00           8              17             26  \n",
       "1          0.00           7              15             23  \n",
       "2          0.00           8              17             26  \n",
       "3          0.00           9              21             31  \n",
       "4          0.00           5              20             30  "
      ]
     },
     "execution_count": 72,
     "metadata": {},
     "output_type": "execute_result"
    }
   ],
   "source": [
    "data.iloc[:5]"
   ]
  },
  {
   "cell_type": "code",
   "execution_count": 73,
   "metadata": {
    "collapsed": false
   },
   "outputs": [
    {
     "data": {
      "text/html": [
       "<div>\n",
       "<table border=\"1\" class=\"dataframe\">\n",
       "  <thead>\n",
       "    <tr style=\"text-align: right;\">\n",
       "      <th></th>\n",
       "      <th>month</th>\n",
       "      <th>day</th>\n",
       "      <th>year</th>\n",
       "      <th>mean_temperature</th>\n",
       "      <th>max_temperature</th>\n",
       "      <th>min_temperature</th>\n",
       "      <th>dew_point</th>\n",
       "      <th>average_humidity</th>\n",
       "      <th>maximum_humidity</th>\n",
       "      <th>minimum_humidity</th>\n",
       "      <th>precipitation</th>\n",
       "      <th>wind_speed</th>\n",
       "      <th>max_wind_speed</th>\n",
       "      <th>max_gust_speed</th>\n",
       "    </tr>\n",
       "  </thead>\n",
       "  <tbody>\n",
       "  </tbody>\n",
       "</table>\n",
       "</div>"
      ],
      "text/plain": [
       "Empty DataFrame\n",
       "Columns: [month, day, year, mean_temperature, max_temperature, min_temperature, dew_point, average_humidity, maximum_humidity, minimum_humidity, precipitation, wind_speed, max_wind_speed, max_gust_speed]\n",
       "Index: []"
      ]
     },
     "execution_count": 73,
     "metadata": {},
     "output_type": "execute_result"
    }
   ],
   "source": [
    "december_data = data[data.month == 12]\n",
    "december_data[:5]"
   ]
  },
  {
   "cell_type": "code",
   "execution_count": 74,
   "metadata": {
    "collapsed": false
   },
   "outputs": [
    {
     "data": {
      "text/html": [
       "<div>\n",
       "<table border=\"1\" class=\"dataframe\">\n",
       "  <thead>\n",
       "    <tr style=\"text-align: right;\">\n",
       "      <th></th>\n",
       "      <th>month</th>\n",
       "      <th>day</th>\n",
       "      <th>year</th>\n",
       "      <th>mean_temperature</th>\n",
       "      <th>max_temperature</th>\n",
       "      <th>min_temperature</th>\n",
       "      <th>dew_point</th>\n",
       "      <th>average_humidity</th>\n",
       "      <th>maximum_humidity</th>\n",
       "      <th>minimum_humidity</th>\n",
       "      <th>precipitation</th>\n",
       "      <th>wind_speed</th>\n",
       "      <th>max_wind_speed</th>\n",
       "      <th>max_gust_speed</th>\n",
       "    </tr>\n",
       "  </thead>\n",
       "  <tbody>\n",
       "  </tbody>\n",
       "</table>\n",
       "</div>"
      ],
      "text/plain": [
       "Empty DataFrame\n",
       "Columns: [month, day, year, mean_temperature, max_temperature, min_temperature, dew_point, average_humidity, maximum_humidity, minimum_humidity, precipitation, wind_speed, max_wind_speed, max_gust_speed]\n",
       "Index: []"
      ]
     },
     "execution_count": 74,
     "metadata": {},
     "output_type": "execute_result"
    }
   ],
   "source": [
    "may_2015_data = data[(data.month == 5) & (data.year == 2015)]\n",
    "may_2015_data[:5]"
   ]
  },
  {
   "cell_type": "code",
   "execution_count": 75,
   "metadata": {
    "collapsed": false
   },
   "outputs": [
    {
     "data": {
      "text/plain": [
       "month              int64\n",
       "day                int64\n",
       "year               int64\n",
       "                   ...  \n",
       "wind_speed         int64\n",
       "max_wind_speed     int64\n",
       "max_gust_speed    object\n",
       "dtype: object"
      ]
     },
     "execution_count": 75,
     "metadata": {},
     "output_type": "execute_result"
    }
   ],
   "source": [
    "data.dtypes"
   ]
  },
  {
   "cell_type": "code",
   "execution_count": 76,
   "metadata": {
    "collapsed": false
   },
   "outputs": [
    {
     "data": {
      "text/plain": [
       "array(['0.00', 'T', '1.80', '0.24', '0.05', '0.01', '2.31'], dtype=object)"
      ]
     },
     "execution_count": 76,
     "metadata": {},
     "output_type": "execute_result"
    }
   ],
   "source": [
    "data.precipitation.unique()"
   ]
  },
  {
   "cell_type": "code",
   "execution_count": 77,
   "metadata": {
    "collapsed": false
   },
   "outputs": [
    {
     "name": "stdout",
     "output_type": "stream",
     "text": [
      "month               int64\n",
      "day                 int64\n",
      "year                int64\n",
      "                   ...   \n",
      "wind_speed          int64\n",
      "max_wind_speed      int64\n",
      "max_gust_speed    float64\n",
      "dtype: object\n"
     ]
    },
    {
     "data": {
      "text/plain": [
       "array([ 0.  ,   nan,  1.8 ,  0.24,  0.05,  0.01,  2.31])"
      ]
     },
     "execution_count": 77,
     "metadata": {},
     "output_type": "execute_result"
    }
   ],
   "source": [
    "clean_data = data.convert_objects(convert_numeric=True)\n",
    "print(clean_data.dtypes)\n",
    "clean_data.precipitation.unique()"
   ]
  },
  {
   "cell_type": "code",
   "execution_count": 78,
   "metadata": {
    "collapsed": true
   },
   "outputs": [],
   "source": [
    "clean_data = clean_data.dropna()"
   ]
  },
  {
   "cell_type": "code",
   "execution_count": 79,
   "metadata": {
    "collapsed": false
   },
   "outputs": [
    {
     "data": {
      "text/html": [
       "<div>\n",
       "<table border=\"1\" class=\"dataframe\">\n",
       "  <thead>\n",
       "    <tr style=\"text-align: right;\">\n",
       "      <th></th>\n",
       "      <th>count</th>\n",
       "      <th>mean</th>\n",
       "      <th>std</th>\n",
       "      <th>min</th>\n",
       "      <th>25%</th>\n",
       "      <th>50%</th>\n",
       "      <th>75%</th>\n",
       "      <th>max</th>\n",
       "    </tr>\n",
       "  </thead>\n",
       "  <tbody>\n",
       "    <tr>\n",
       "      <th>month</th>\n",
       "      <td>23</td>\n",
       "      <td>1.000000</td>\n",
       "      <td>0.000000</td>\n",
       "      <td>1</td>\n",
       "      <td>1.0</td>\n",
       "      <td>1</td>\n",
       "      <td>1.0</td>\n",
       "      <td>1.00</td>\n",
       "    </tr>\n",
       "    <tr>\n",
       "      <th>day</th>\n",
       "      <td>23</td>\n",
       "      <td>16.086957</td>\n",
       "      <td>9.862293</td>\n",
       "      <td>1</td>\n",
       "      <td>7.0</td>\n",
       "      <td>17</td>\n",
       "      <td>24.0</td>\n",
       "      <td>31.00</td>\n",
       "    </tr>\n",
       "    <tr>\n",
       "      <th>year</th>\n",
       "      <td>23</td>\n",
       "      <td>2016.000000</td>\n",
       "      <td>0.000000</td>\n",
       "      <td>2016</td>\n",
       "      <td>2016.0</td>\n",
       "      <td>2016</td>\n",
       "      <td>2016.0</td>\n",
       "      <td>2016.00</td>\n",
       "    </tr>\n",
       "    <tr>\n",
       "      <th>mean_temperature</th>\n",
       "      <td>23</td>\n",
       "      <td>34.347826</td>\n",
       "      <td>7.900568</td>\n",
       "      <td>20</td>\n",
       "      <td>28.5</td>\n",
       "      <td>34</td>\n",
       "      <td>38.5</td>\n",
       "      <td>50.00</td>\n",
       "    </tr>\n",
       "    <tr>\n",
       "      <th>max_temperature</th>\n",
       "      <td>23</td>\n",
       "      <td>40.217391</td>\n",
       "      <td>8.463593</td>\n",
       "      <td>27</td>\n",
       "      <td>36.0</td>\n",
       "      <td>40</td>\n",
       "      <td>43.5</td>\n",
       "      <td>59.00</td>\n",
       "    </tr>\n",
       "    <tr>\n",
       "      <th>min_temperature</th>\n",
       "      <td>23</td>\n",
       "      <td>28.173913</td>\n",
       "      <td>7.935262</td>\n",
       "      <td>11</td>\n",
       "      <td>24.5</td>\n",
       "      <td>28</td>\n",
       "      <td>33.0</td>\n",
       "      <td>42.00</td>\n",
       "    </tr>\n",
       "    <tr>\n",
       "      <th>dew_point</th>\n",
       "      <td>23</td>\n",
       "      <td>17.695652</td>\n",
       "      <td>11.698620</td>\n",
       "      <td>-3</td>\n",
       "      <td>8.5</td>\n",
       "      <td>18</td>\n",
       "      <td>23.0</td>\n",
       "      <td>46.00</td>\n",
       "    </tr>\n",
       "    <tr>\n",
       "      <th>average_humidity</th>\n",
       "      <td>23</td>\n",
       "      <td>51.260870</td>\n",
       "      <td>11.458294</td>\n",
       "      <td>35</td>\n",
       "      <td>43.0</td>\n",
       "      <td>49</td>\n",
       "      <td>55.0</td>\n",
       "      <td>78.00</td>\n",
       "    </tr>\n",
       "    <tr>\n",
       "      <th>maximum_humidity</th>\n",
       "      <td>23</td>\n",
       "      <td>63.260870</td>\n",
       "      <td>13.840709</td>\n",
       "      <td>47</td>\n",
       "      <td>54.0</td>\n",
       "      <td>59</td>\n",
       "      <td>67.0</td>\n",
       "      <td>93.00</td>\n",
       "    </tr>\n",
       "    <tr>\n",
       "      <th>minimum_humidity</th>\n",
       "      <td>23</td>\n",
       "      <td>38.826087</td>\n",
       "      <td>10.840380</td>\n",
       "      <td>19</td>\n",
       "      <td>31.5</td>\n",
       "      <td>38</td>\n",
       "      <td>45.5</td>\n",
       "      <td>63.00</td>\n",
       "    </tr>\n",
       "    <tr>\n",
       "      <th>precipitation</th>\n",
       "      <td>23</td>\n",
       "      <td>0.191739</td>\n",
       "      <td>0.595083</td>\n",
       "      <td>0</td>\n",
       "      <td>0.0</td>\n",
       "      <td>0</td>\n",
       "      <td>0.0</td>\n",
       "      <td>2.31</td>\n",
       "    </tr>\n",
       "    <tr>\n",
       "      <th>wind_speed</th>\n",
       "      <td>23</td>\n",
       "      <td>7.347826</td>\n",
       "      <td>2.838192</td>\n",
       "      <td>3</td>\n",
       "      <td>5.5</td>\n",
       "      <td>7</td>\n",
       "      <td>8.5</td>\n",
       "      <td>16.00</td>\n",
       "    </tr>\n",
       "    <tr>\n",
       "      <th>max_wind_speed</th>\n",
       "      <td>23</td>\n",
       "      <td>16.695652</td>\n",
       "      <td>3.648596</td>\n",
       "      <td>9</td>\n",
       "      <td>14.0</td>\n",
       "      <td>16</td>\n",
       "      <td>20.0</td>\n",
       "      <td>25.00</td>\n",
       "    </tr>\n",
       "    <tr>\n",
       "      <th>max_gust_speed</th>\n",
       "      <td>23</td>\n",
       "      <td>26.565217</td>\n",
       "      <td>6.604586</td>\n",
       "      <td>17</td>\n",
       "      <td>22.0</td>\n",
       "      <td>25</td>\n",
       "      <td>31.5</td>\n",
       "      <td>42.00</td>\n",
       "    </tr>\n",
       "  </tbody>\n",
       "</table>\n",
       "</div>"
      ],
      "text/plain": [
       "                  count         mean        std   min     25%   50%     75%  \\\n",
       "month                23     1.000000   0.000000     1     1.0     1     1.0   \n",
       "day                  23    16.086957   9.862293     1     7.0    17    24.0   \n",
       "year                 23  2016.000000   0.000000  2016  2016.0  2016  2016.0   \n",
       "mean_temperature     23    34.347826   7.900568    20    28.5    34    38.5   \n",
       "max_temperature      23    40.217391   8.463593    27    36.0    40    43.5   \n",
       "min_temperature      23    28.173913   7.935262    11    24.5    28    33.0   \n",
       "dew_point            23    17.695652  11.698620    -3     8.5    18    23.0   \n",
       "average_humidity     23    51.260870  11.458294    35    43.0    49    55.0   \n",
       "maximum_humidity     23    63.260870  13.840709    47    54.0    59    67.0   \n",
       "minimum_humidity     23    38.826087  10.840380    19    31.5    38    45.5   \n",
       "precipitation        23     0.191739   0.595083     0     0.0     0     0.0   \n",
       "wind_speed           23     7.347826   2.838192     3     5.5     7     8.5   \n",
       "max_wind_speed       23    16.695652   3.648596     9    14.0    16    20.0   \n",
       "max_gust_speed       23    26.565217   6.604586    17    22.0    25    31.5   \n",
       "\n",
       "                      max  \n",
       "month                1.00  \n",
       "day                 31.00  \n",
       "year              2016.00  \n",
       "mean_temperature    50.00  \n",
       "max_temperature     59.00  \n",
       "min_temperature     42.00  \n",
       "dew_point           46.00  \n",
       "average_humidity    78.00  \n",
       "maximum_humidity    93.00  \n",
       "minimum_humidity    63.00  \n",
       "precipitation        2.31  \n",
       "wind_speed          16.00  \n",
       "max_wind_speed      25.00  \n",
       "max_gust_speed      42.00  "
      ]
     },
     "execution_count": 79,
     "metadata": {},
     "output_type": "execute_result"
    }
   ],
   "source": [
    "pd.options.display.max_rows = 999\n",
    "clean_data.describe().transpose()"
   ]
  },
  {
   "cell_type": "code",
   "execution_count": 80,
   "metadata": {
    "collapsed": false
   },
   "outputs": [
    {
     "data": {
      "text/plain": [
       "<matplotlib.axes._subplots.AxesSubplot at 0xa626128>"
      ]
     },
     "execution_count": 80,
     "metadata": {},
     "output_type": "execute_result"
    },
    {
     "data": {
      "image/png": "[encoded data removed]",
      "text/plain": [
       "<matplotlib.figure.Figure at 0xa627668>"
      ]
     },
     "metadata": {},
     "output_type": "display_data"
    }
   ],
   "source": [
    "%matplotlib inline\n",
    "import matplotlib.pyplot as plt\n",
    "import seaborn as sns\n",
    "import numpy as np\n",
    "sns.distplot(clean_data.mean_temperature)"
   ]
  },
  {
   "cell_type": "code",
   "execution_count": 81,
   "metadata": {
    "collapsed": false
   },
   "outputs": [
    {
     "data": {
      "text/plain": [
       "<matplotlib.axes._subplots.AxesSubplot at 0xc0b550>"
      ]
     },
     "execution_count": 81,
     "metadata": {},
     "output_type": "execute_result"
    },
    {
     "data": {
      "image/png": "[encoded data removed]",
      "text/plain": [
       "<matplotlib.figure.Figure at 0xa627d30>"
      ]
     },
     "metadata": {},
     "output_type": "display_data"
    }
   ],
   "source": [
    "sns.distplot(clean_data.mean_temperature, kde=False)"
   ]
  },
  {
   "cell_type": "code",
   "execution_count": 82,
   "metadata": {
    "collapsed": false
   },
   "outputs": [
    {
     "data": {
      "text/plain": [
       "<matplotlib.text.Text at 0xc70908>"
      ]
     },
     "execution_count": 82,
     "metadata": {},
     "output_type": "execute_result"
    },
    {
     "data": {
      "image/png": "[encoded data removed]",
      "text/plain": [
       "<matplotlib.figure.Figure at 0xa574780>"
      ]
     },
     "metadata": {},
     "output_type": "display_data"
    }
   ],
   "source": [
    "sns.distplot(clean_data.mean_temperature, kde=False)\n",
    "sns.plt.title('Daily Average Temperature (2013 - 2015)')\n",
    "sns.plt.xlabel('Temperature')\n",
    "sns.plt.ylabel('Frequency')"
   ]
  },
  {
   "cell_type": "code",
   "execution_count": 83,
   "metadata": {
    "collapsed": false
   },
   "outputs": [
    {
     "data": {
      "text/plain": [
       "(0, 50)"
      ]
     },
     "execution_count": 83,
     "metadata": {},
     "output_type": "execute_result"
    },
    {
     "data": {
      "image/png": "[encoded data removed]",
      "text/plain": [
       "<matplotlib.figure.Figure at 0x9f8bcc0>"
      ]
     },
     "metadata": {},
     "output_type": "display_data"
    }
   ],
   "source": [
    "sns.distplot(clean_data.mean_temperature, kde=False, bins=40)\n",
    "sns.plt.title('Zoomed In - Daily Average Temperature (2013 - 2015)')\n",
    "sns.plt.xlabel('Temperature')\n",
    "sns.plt.ylabel('Frequency')\n",
    "sns.plt.xlim((30, 60))\n",
    "sns.plt.ylim((0, 50))"
   ]
  },
  {
   "cell_type": "code",
   "execution_count": 84,
   "metadata": {
    "collapsed": false
   },
   "outputs": [
    {
     "data": {
      "text/plain": [
       "<matplotlib.text.Text at 0x585cda0>"
      ]
     },
     "execution_count": 84,
     "metadata": {},
     "output_type": "execute_result"
    },
    {
     "data": {
      "image/png": "[encoded data removed]",
      "text/plain": [
       "<matplotlib.figure.Figure at 0x9f2f6d8>"
      ]
     },
     "metadata": {},
     "output_type": "display_data"
    }
   ],
   "source": [
    "sns.distplot(clean_data.mean_temperature, kde=False)\n",
    "sns.distplot(clean_data.max_temperature, kde=False)\n",
    "sns.plt.title('Daily Average and Max Temperature (2013 - 2015)')\n",
    "sns.plt.xlabel('Temperature')\n",
    "sns.plt.ylabel('Frequency')"
   ]
  },
  {
   "cell_type": "code",
   "execution_count": 85,
   "metadata": {
    "collapsed": false
   },
   "outputs": [
    {
     "data": {
      "text/plain": [
       "<matplotlib.legend.Legend at 0xa035d68>"
      ]
     },
     "execution_count": 85,
     "metadata": {},
     "output_type": "execute_result"
    },
    {
     "data": {
      "image/png": "[encoded data removed]",
      "text/plain": [
       "<matplotlib.figure.Figure at 0x9fe69b0>"
      ]
     },
     "metadata": {},
     "output_type": "display_data"
    }
   ],
   "source": [
    "sns.distplot(clean_data.mean_temperature, kde=False, label=\"Average Temperature\")\n",
    "sns.distplot(clean_data.max_temperature, kde=False, label=\"Max Temperature\")\n",
    "sns.plt.title('Daily Average and Max Temperature (2013 - 2015)')\n",
    "sns.plt.xlabel('Temperature')\n",
    "sns.plt.ylabel('Frequency')\n",
    "sns.plt.legend()"
   ]
  },
  {
   "cell_type": "code",
   "execution_count": 86,
   "metadata": {
    "collapsed": false
   },
   "outputs": [
    {
     "data": {
      "text/plain": [
       "<matplotlib.text.Text at 0x9e68e10>"
      ]
     },
     "execution_count": 86,
     "metadata": {},
     "output_type": "execute_result"
    },
    {
     "data": {
      "image/png": "[encoded data removed]",
      "text/plain": [
       "<matplotlib.figure.Figure at 0xa02fcf8>"
      ]
     },
     "metadata": {},
     "output_type": "display_data"
    }
   ],
   "source": [
    "sns.plt.scatter(clean_data.mean_temperature, clean_data.precipitation)\n",
    "sns.plt.title('Temperature vs Precipitation')\n",
    "sns.plt.xlabel('Temperature')\n",
    "sns.plt.ylabel('Precipitation')"
   ]
  },
  {
   "cell_type": "code",
   "execution_count": 87,
   "metadata": {
    "collapsed": false
   },
   "outputs": [
    {
     "data": {
      "text/plain": [
       "<seaborn.axisgrid.PairGrid at 0x9efcdd8>"
      ]
     },
     "execution_count": 87,
     "metadata": {},
     "output_type": "execute_result"
    },
    {
     "data": {
      "image/png": "[encoded data removed]",
      "text/plain": [
       "<matplotlib.figure.Figure at 0x9efcc50>"
      ]
     },
     "metadata": {},
     "output_type": "display_data"
    }
   ],
   "source": [
    " sns.pairplot(clean_data, vars=[\"mean_temperature\", \"precipitation\", \"dew_point\", \"wind_speed\"])"
   ]
  },
  {
   "cell_type": "code",
   "execution_count": 88,
   "metadata": {
    "collapsed": false
   },
   "outputs": [
    {
     "name": "stdout",
     "output_type": "stream",
     "text": [
      "Unnamed: 0            int64\n",
      "month                 int64\n",
      "day                   int64\n",
      "year                  int64\n",
      "mean_temperature      int64\n",
      "max_temperature       int64\n",
      "min_temperature       int64\n",
      "dew_point             int64\n",
      "average_humidity      int64\n",
      "maximum_humidity      int64\n",
      "minimum_humidity      int64\n",
      "precipitation       float64\n",
      "wind_speed            int64\n",
      "max_wind_speed        int64\n",
      "max_gust_speed      float64\n",
      "dtype: object\n"
     ]
    },
    {
     "data": {
      "text/html": [
       "<div>\n",
       "<table border=\"1\" class=\"dataframe\">\n",
       "  <thead>\n",
       "    <tr style=\"text-align: right;\">\n",
       "      <th></th>\n",
       "      <th>Unnamed: 0</th>\n",
       "      <th>month</th>\n",
       "      <th>day</th>\n",
       "      <th>year</th>\n",
       "      <th>mean_temperature</th>\n",
       "      <th>max_temperature</th>\n",
       "      <th>min_temperature</th>\n",
       "      <th>dew_point</th>\n",
       "      <th>average_humidity</th>\n",
       "      <th>maximum_humidity</th>\n",
       "      <th>minimum_humidity</th>\n",
       "      <th>precipitation</th>\n",
       "      <th>wind_speed</th>\n",
       "      <th>max_wind_speed</th>\n",
       "      <th>max_gust_speed</th>\n",
       "    </tr>\n",
       "  </thead>\n",
       "  <tbody>\n",
       "    <tr>\n",
       "      <th>0</th>\n",
       "      <td>0</td>\n",
       "      <td>1</td>\n",
       "      <td>1</td>\n",
       "      <td>2016</td>\n",
       "      <td>38</td>\n",
       "      <td>42</td>\n",
       "      <td>34</td>\n",
       "      <td>23</td>\n",
       "      <td>52</td>\n",
       "      <td>59</td>\n",
       "      <td>44</td>\n",
       "      <td>0</td>\n",
       "      <td>8</td>\n",
       "      <td>17</td>\n",
       "      <td>26</td>\n",
       "    </tr>\n",
       "    <tr>\n",
       "      <th>1</th>\n",
       "      <td>1</td>\n",
       "      <td>1</td>\n",
       "      <td>2</td>\n",
       "      <td>2016</td>\n",
       "      <td>36</td>\n",
       "      <td>40</td>\n",
       "      <td>32</td>\n",
       "      <td>18</td>\n",
       "      <td>46</td>\n",
       "      <td>52</td>\n",
       "      <td>40</td>\n",
       "      <td>0</td>\n",
       "      <td>7</td>\n",
       "      <td>15</td>\n",
       "      <td>23</td>\n",
       "    </tr>\n",
       "    <tr>\n",
       "      <th>2</th>\n",
       "      <td>2</td>\n",
       "      <td>1</td>\n",
       "      <td>3</td>\n",
       "      <td>2016</td>\n",
       "      <td>40</td>\n",
       "      <td>45</td>\n",
       "      <td>35</td>\n",
       "      <td>21</td>\n",
       "      <td>47</td>\n",
       "      <td>56</td>\n",
       "      <td>37</td>\n",
       "      <td>0</td>\n",
       "      <td>8</td>\n",
       "      <td>17</td>\n",
       "      <td>26</td>\n",
       "    </tr>\n",
       "    <tr>\n",
       "      <th>3</th>\n",
       "      <td>3</td>\n",
       "      <td>1</td>\n",
       "      <td>4</td>\n",
       "      <td>2016</td>\n",
       "      <td>25</td>\n",
       "      <td>36</td>\n",
       "      <td>14</td>\n",
       "      <td>9</td>\n",
       "      <td>44</td>\n",
       "      <td>59</td>\n",
       "      <td>28</td>\n",
       "      <td>0</td>\n",
       "      <td>9</td>\n",
       "      <td>21</td>\n",
       "      <td>31</td>\n",
       "    </tr>\n",
       "    <tr>\n",
       "      <th>4</th>\n",
       "      <td>4</td>\n",
       "      <td>1</td>\n",
       "      <td>5</td>\n",
       "      <td>2016</td>\n",
       "      <td>20</td>\n",
       "      <td>29</td>\n",
       "      <td>11</td>\n",
       "      <td>-3</td>\n",
       "      <td>41</td>\n",
       "      <td>58</td>\n",
       "      <td>24</td>\n",
       "      <td>0</td>\n",
       "      <td>5</td>\n",
       "      <td>20</td>\n",
       "      <td>30</td>\n",
       "    </tr>\n",
       "  </tbody>\n",
       "</table>\n",
       "</div>"
      ],
      "text/plain": [
       "   Unnamed: 0  month  day  year  mean_temperature  max_temperature  \\\n",
       "0           0      1    1  2016                38               42   \n",
       "1           1      1    2  2016                36               40   \n",
       "2           2      1    3  2016                40               45   \n",
       "3           3      1    4  2016                25               36   \n",
       "4           4      1    5  2016                20               29   \n",
       "\n",
       "   min_temperature  dew_point  average_humidity  maximum_humidity  \\\n",
       "0               34         23                52                59   \n",
       "1               32         18                46                52   \n",
       "2               35         21                47                56   \n",
       "3               14          9                44                59   \n",
       "4               11         -3                41                58   \n",
       "\n",
       "   minimum_humidity  precipitation  wind_speed  max_wind_speed  max_gust_speed  \n",
       "0                44              0           8              17              26  \n",
       "1                40              0           7              15              23  \n",
       "2                37              0           8              17              26  \n",
       "3                28              0           9              21              31  \n",
       "4                24              0           5              20              30  "
      ]
     },
     "execution_count": 88,
     "metadata": {},
     "output_type": "execute_result"
    }
   ],
   "source": [
    "clean_data.to_csv('clean_weather_data.csv')\n",
    "\n",
    "import pandas as pd\n",
    "\n",
    "data = pd.read_csv('clean_weather_data.csv')\n",
    "print(data.dtypes)\n",
    "data[:5]"
   ]
  },
  {
   "cell_type": "code",
   "execution_count": 89,
   "metadata": {
    "collapsed": false
   },
   "outputs": [],
   "source": [
    "from sklearn.cross_validation import train_test_split\n",
    "\n",
    "X = data.drop('precipitation', axis=1)\n",
    "y = data.precipitation\n",
    "X_train, X_test, y_train, y_test = train_test_split(X, y, test_size=0.2)"
   ]
  },
  {
   "cell_type": "code",
   "execution_count": 90,
   "metadata": {
    "collapsed": false
   },
   "outputs": [
    {
     "data": {
      "text/plain": [
       "KNeighborsRegressor(algorithm='auto', leaf_size=30, metric='minkowski',\n",
       "          metric_params=None, n_neighbors=3, p=2, weights='uniform')"
      ]
     },
     "execution_count": 90,
     "metadata": {},
     "output_type": "execute_result"
    }
   ],
   "source": [
    "from sklearn.neighbors import KNeighborsRegressor\n",
    "\n",
    "knn_model = KNeighborsRegressor(n_neighbors=3)\n",
    "knn_model.fit(X_train, y_train)"
   ]
  },
  {
   "cell_type": "code",
   "execution_count": 91,
   "metadata": {
    "collapsed": false
   },
   "outputs": [
    {
     "name": "stdout",
     "output_type": "stream",
     "text": [
      "Average loss: 2.4652799999999995\n",
      "KNN loss: 3.2301555555555557\n",
      "Variation explained: -31.025910061151517%\n"
     ]
    }
   ],
   "source": [
    "knn_y = knn_model.predict(X_test)\n",
    "\n",
    "knn_sum_squares = ((knn_y - y_test) ** 2).sum()\n",
    "mean_sum_squares = ((y_test.mean() - y_test) ** 2).sum()\n",
    "\n",
    "print(\"Average loss:\", mean_sum_squares)\n",
    "print(\"KNN loss:\", knn_sum_squares)\n",
    "print(\"Variation explained: \", 100 * (1 - knn_sum_squares / mean_sum_squares), \"%\", sep=\"\")"
   ]
  },
  {
   "cell_type": "code",
   "execution_count": 92,
   "metadata": {
    "collapsed": false
   },
   "outputs": [
    {
     "name": "stdout",
     "output_type": "stream",
     "text": [
      "R^2:  -0.310259100612\n"
     ]
    }
   ],
   "source": [
    "print(\"R^2: \", knn_model.score(X_test, y_test))"
   ]
  },
  {
   "cell_type": "code",
   "execution_count": 93,
   "metadata": {
    "collapsed": false
   },
   "outputs": [
    {
     "data": {
      "text/plain": [
       "LinearRegression(copy_X=True, fit_intercept=True, n_jobs=1, normalize=False)"
      ]
     },
     "execution_count": 93,
     "metadata": {},
     "output_type": "execute_result"
    }
   ],
   "source": [
    "from sklearn.linear_model import LinearRegression\n",
    "linear_model = LinearRegression()\n",
    "linear_model.fit(X_train, y_train)"
   ]
  },
  {
   "cell_type": "code",
   "execution_count": null,
   "metadata": {
    "collapsed": true
   },
   "outputs": [],
   "source": []
  }
 ],
 "metadata": {
  "kernelspec": {
   "display_name": "Python 3",
   "language": "python",
   "name": "python3"
  },
  "language_info": {
   "codemirror_mode": {
    "name": "ipython",
    "version": 3
   },
   "file_extension": ".py",
   "mimetype": "text/x-python",
   "name": "python",
   "nbconvert_exporter": "python",
   "pygments_lexer": "ipython3",
   "version": "3.4.3"
  }
 },
 "nbformat": 4,
 "nbformat_minor": 0
}
