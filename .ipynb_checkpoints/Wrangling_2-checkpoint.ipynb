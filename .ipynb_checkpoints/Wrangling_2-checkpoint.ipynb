{
 "cells": [
  {
   "cell_type": "code",
   "execution_count": 1,
   "metadata": {
    "collapsed": false
   },
   "outputs": [
    {
     "data": {
      "text/html": [
       "<style>.container { width:100% !important; }</style>"
      ],
      "text/plain": [
       "<IPython.core.display.HTML object>"
      ]
     },
     "metadata": {},
     "output_type": "display_data"
    },
    {
     "name": "stderr",
     "output_type": "stream",
     "text": [
      "/home/jaime/anaconda3/lib/python3.6/site-packages/matplotlib/font_manager.py:280: UserWarning: Matplotlib is building the font cache using fc-list. This may take a moment.\n",
      "  'Matplotlib is building the font cache using fc-list. '\n"
     ]
    }
   ],
   "source": [
    "import pandas as pd\n",
    "import numpy as np\n",
    "import time\n",
    "import unicodedata\n",
    "from selenium import webdriver\n",
    "from selenium.common.exceptions import NoSuchElementException, WebDriverException\n",
    "\n",
    "import datetime\n",
    "from datetime import timedelta, datetime\n",
    "\n",
    "import csv\n",
    "import os\n",
    "\n",
    "import sys\n",
    "sys.path.append('./lib/')\n",
    "from functions import *\n",
    "from tqdm import tnrange, tqdm_notebook\n",
    "from unidecode import unidecode\n",
    "\n",
    "from IPython.core.display import display, HTML\n",
    "display(HTML(\"<style>.container { width:100% !important; }</style>\"))\n",
    "\n",
    "import lxml.html\n",
    "import lxml\n",
    "\n",
    "import glob\n",
    "\n",
    "%matplotlib inline\n",
    "\n",
    "import matplotlib\n",
    "import numpy as np\n",
    "import matplotlib.pyplot as plt\n",
    "\n",
    "import seaborn as sns\n",
    "sns.set_style(\"darkgrid\")"
   ]
  },
  {
   "cell_type": "code",
   "execution_count": 2,
   "metadata": {
    "collapsed": false
   },
   "outputs": [
    {
     "data": {
      "text/plain": [
       "22"
      ]
     },
     "execution_count": 2,
     "metadata": {},
     "output_type": "execute_result"
    }
   ],
   "source": [
    "col_names = ['entity', 'department', 'contract', 'year', 'month', 'group', 'lastn', 'lastn2', 'givenn', 'degree', \n",
    "             'qualif', 'position', 'region', 'specials', 'currency', 'salary', 'overt', 'start_date', 'end_date', 'obs', 'url', 'other']\n",
    "len(col_names)"
   ]
  },
  {
   "cell_type": "code",
   "execution_count": 6,
   "metadata": {
    "collapsed": false
   },
   "outputs": [
    {
     "name": "stderr",
     "output_type": "stream",
     "text": [
      "/home/jaime/anaconda3/lib/python3.6/site-packages/IPython/core/interactiveshell.py:2717: DtypeWarning: Columns (21) have mixed types. Specify dtype option on import or set low_memory=False.\n",
      "  interactivity=interactivity, compiler=compiler, result=result)\n"
     ]
    },
    {
     "name": "stdout",
     "output_type": "stream",
     "text": [
      "(4962912, 23)\n"
     ]
    }
   ],
   "source": [
    "f = './output/scraped_data_new.csv'\n",
    "df = pd.read_csv(f, header=None, encoding='latin1', names=col_names, warn_bad_lines=True)\n",
    "df['filename'] = f \n",
    "\n",
    "\n",
    "print(df.shape)"
   ]
  },
  {
   "cell_type": "code",
   "execution_count": 7,
   "metadata": {
    "collapsed": false
   },
   "outputs": [
    {
     "data": {
      "text/plain": [
       "(4173528, 23)"
      ]
     },
     "execution_count": 7,
     "metadata": {},
     "output_type": "execute_result"
    }
   ],
   "source": [
    "df = df.drop_duplicates()\n",
    "df.shape"
   ]
  },
  {
   "cell_type": "code",
   "execution_count": 13,
   "metadata": {
    "collapsed": false
   },
   "outputs": [
    {
     "data": {
      "text/plain": [
       "'http://www.gobiernotransparentechile.cl/directorio/entidad/1/1/per_planta/Ao-2017'"
      ]
     },
     "execution_count": 13,
     "metadata": {},
     "output_type": "execute_result"
    }
   ],
   "source": [
    "df.loc[0, 'url']"
   ]
  },
  {
   "cell_type": "code",
   "execution_count": 19,
   "metadata": {
    "collapsed": false
   },
   "outputs": [
    {
     "data": {
      "text/plain": [
       "['http://www.gobiernotransparentechile.cl/directorio/entidad/1/1/per_planta/Ao-2017',\n",
       " 'http://www.gobiernotransparentechile.cl/directorio/entidad/1/1/per_planta/Ao-2017?x=0&y=0&page_number=2&sort=id&direction=asc',\n",
       " 'http://www.gobiernotransparentechile.cl/directorio/entidad/1/1/per_planta/Ao-2016',\n",
       " 'http://www.gobiernotransparentechile.cl/directorio/entidad/1/1/per_planta/Ao-2016?x=0&y=0&page_number=2&sort=id&direction=asc',\n",
       " 'http://www.gobiernotransparentechile.cl/directorio/entidad/1/1/per_planta/Ao-2016?x=0&y=0&page_number=3&sort=id&direction=asc',\n",
       " 'http://www.gobiernotransparentechile.cl/directorio/entidad/1/1/per_planta/Ao-2015',\n",
       " 'http://www.gobiernotransparentechile.cl/directorio/entidad/1/1/per_planta/Ao-2015?x=0&y=0&page_number=2&sort=id&direction=asc',\n",
       " 'http://www.gobiernotransparentechile.cl/directorio/entidad/1/1/per_planta/Ao-2015?x=0&y=0&page_number=3&sort=id&direction=asc',\n",
       " 'http://www.gobiernotransparentechile.cl/directorio/entidad/1/1/per_planta/Ao-2014',\n",
       " 'http://www.gobiernotransparentechile.cl/directorio/entidad/1/1/per_planta/Ao-2014?x=0&y=0&page_number=2&sort=id&direction=asc',\n",
       " 'http://www.gobiernotransparentechile.cl/directorio/entidad/1/1/per_planta/Ao-2014?x=0&y=0&page_number=3&sort=id&direction=asc',\n",
       " 'http://www.gobiernotransparentechile.cl/directorio/entidad/1/1/per_planta/Ao-2010',\n",
       " 'http://www.gobiernotransparentechile.cl/directorio/entidad/1/1/per_planta/Ao-2010?x=0&y=0&page_number=2&sort=id&direction=asc',\n",
       " 'http://www.gobiernotransparentechile.cl/directorio/entidad/1/1/per_planta/Ao-2010?x=0&y=0&page_number=3&sort=id&direction=asc',\n",
       " 'http://www.gobiernotransparentechile.cl/directorio/entidad/1/1/per_planta/Ao-2009',\n",
       " 'http://www.gobiernotransparentechile.cl/directorio/entidad/1/1/per_planta/Ao-2009?x=0&y=0&page_number=2&sort=id&direction=asc',\n",
       " 'http://www.gobiernotransparentechile.cl/directorio/entidad/1/1/per_planta/Ao-2009?x=0&y=0&page_number=3&sort=id&direction=asc',\n",
       " 'http://www.gobiernotransparentechile.cl/directorio/entidad/1/1/per_planta/Ao-2008',\n",
       " 'http://www.gobiernotransparentechile.cl/directorio/entidad/1/1/per_planta/Ao-2008?x=0&y=0&page_number=2&sort=id&direction=asc',\n",
       " 'http://www.gobiernotransparentechile.cl/directorio/entidad/1/1/per_planta/Ao-2008?x=0&y=0&page_number=3&sort=id&direction=asc',\n",
       " 'http://www.gobiernotransparentechile.cl/directorio/entidad/1/1/per_planta/Ao-2007',\n",
       " 'http://www.gobiernotransparentechile.cl/directorio/entidad/1/1/per_planta/Ao-2007?x=0&y=0&page_number=2&sort=id&direction=asc',\n",
       " 'http://www.gobiernotransparentechile.cl/directorio/entidad/1/1/per_planta/Ao-2007?x=0&y=0&page_number=3&sort=id&direction=asc',\n",
       " 'http://www.gobiernotransparentechile.cl/directorio/entidad/1/1/per_planta/Ao-2006',\n",
       " 'http://www.gobiernotransparentechile.cl/directorio/entidad/1/1/per_planta/Ao-2006?x=0&y=0&page_number=3&sort=id&direction=asc',\n",
       " 'http://www.gobiernotransparentechile.cl/directorio/entidad/1/1/per_planta/Ao-2006?x=0&y=0&page_number=4&sort=id&direction=asc']"
      ]
     },
     "execution_count": 19,
     "metadata": {},
     "output_type": "execute_result"
    }
   ],
   "source": [
    "list(df.loc[df.lastn == 'BACHELET', 'url'])"
   ]
  }
 ],
 "metadata": {
  "kernelspec": {
   "display_name": "Python 3",
   "language": "python",
   "name": "python3"
  },
  "language_info": {
   "codemirror_mode": {
    "name": "ipython",
    "version": 3
   },
   "file_extension": ".py",
   "mimetype": "text/x-python",
   "name": "python",
   "nbconvert_exporter": "python",
   "pygments_lexer": "ipython3",
   "version": "3.6.0"
  }
 },
 "nbformat": 4,
 "nbformat_minor": 2
}
