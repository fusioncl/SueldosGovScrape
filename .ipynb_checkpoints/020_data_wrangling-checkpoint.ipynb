{
 "cells": [
  {
   "cell_type": "code",
   "execution_count": 1,
   "metadata": {},
   "outputs": [
    {
     "data": {
      "text/html": [
       "<style>.container { width:100% !important; }</style>"
      ],
      "text/plain": [
       "<IPython.core.display.HTML object>"
      ]
     },
     "metadata": {},
     "output_type": "display_data"
    }
   ],
   "source": [
    "import pandas as pd\n",
    "import numpy as np\n",
    "import time\n",
    "import unicodedata\n",
    "from selenium import webdriver\n",
    "from selenium.common.exceptions import NoSuchElementException, WebDriverException\n",
    "\n",
    "import datetime\n",
    "from datetime import timedelta, datetime\n",
    "\n",
    "import csv\n",
    "import os\n",
    "\n",
    "import sys\n",
    "sys.path.append('./lib/')\n",
    "from functions import *\n",
    "from tqdm import tnrange, tqdm_notebook\n",
    "from unidecode import unidecode\n",
    "\n",
    "from IPython.core.display import display, HTML\n",
    "display(HTML(\"<style>.container { width:100% !important; }</style>\"))\n",
    "\n",
    "import lxml.html\n",
    "import lxml\n",
    "\n",
    "import glob\n",
    "\n",
    "%matplotlib inline\n",
    "\n",
    "import matplotlib\n",
    "import numpy as np\n",
    "import matplotlib.pyplot as plt\n",
    "\n",
    "import seaborn as sns\n",
    "sns.set_style(\"darkgrid\")"
   ]
  },
  {
   "cell_type": "markdown",
   "metadata": {},
   "source": [
    "# Import data"
   ]
  },
  {
   "cell_type": "markdown",
   "metadata": {},
   "source": [
    "Importin all outputs from all scraping experiments"
   ]
  },
  {
   "cell_type": "code",
   "execution_count": 2,
   "metadata": {
    "scrolled": true
   },
   "outputs": [
    {
     "data": {
      "text/plain": [
       "['output/scraped_data_20170225.csv',\n",
       " 'output/log_opened.csv',\n",
       " 'output/scraped_data_20170224.csv',\n",
       " 'output/log_error.csv',\n",
       " 'output/scraped_data_20170221.csv',\n",
       " 'output/scraped_data_20180113.csv',\n",
       " 'output/log_error_20170221.csv',\n",
       " 'output/doublename.csv',\n",
       " 'output/log_opened_20170221.csv',\n",
       " 'output/log_error_20170224.csv',\n",
       " 'output/log_opened_20170225.csv',\n",
       " 'output/log_opened_20170224.csv',\n",
       " 'output/log_error_20170225.csv',\n",
       " 'output/log_error_20170225-1.csv',\n",
       " 'output/debugging.csv',\n",
       " 'output/log_opened_20170215.csv',\n",
       " 'output/log_opened_20170214.csv',\n",
       " 'output/log_error_20170215.csv',\n",
       " 'output/log_opened_20170212.csv',\n",
       " 'output/retake_entity_0.csv',\n",
       " 'output/scraped_data_20170212.csv',\n",
       " 'output/scraped_data_clean.csv',\n",
       " 'output/scraped_data.csv',\n",
       " 'output/log_opened_20170225-1.csv',\n",
       " 'output/scraped_data_20170215.csv',\n",
       " 'output/scraped_data_20170214.csv',\n",
       " 'output/scraped_data_20170216.csv',\n",
       " 'output/scraped_data_20170215-1.csv',\n",
       " 'output/doublename1.csv',\n",
       " 'output/output_1/scraped_data_20170223_1.csv',\n",
       " 'output/output_1/log_error_1.csv',\n",
       " 'output/output_1/scraped_data_20170224_1.csv',\n",
       " 'output/output_1/log_opened_1.csv',\n",
       " 'output/output_1/log_opened_20170222_1.csv',\n",
       " 'output/output_1/scraped_data_1.csv',\n",
       " 'output/output_1/log_opened_20170224_1.csv',\n",
       " 'output/output_1/old/scraped_data_2_backup.csv',\n",
       " 'output/output_1/old/dept_contract_years_list_short.csv',\n",
       " 'output/output_1/old/visited_pages.csv',\n",
       " 'output/output_1/old/scraped_data_old.csv',\n",
       " 'output/output_1/old/scraped_data.csv',\n",
       " 'output/output_1/old/dept_contract_years_list.csv',\n",
       " 'output/old/retake_entity_0_old.csv',\n",
       " 'output/old/retake_entity_1_old.csv']"
      ]
     },
     "execution_count": 2,
     "metadata": {},
     "output_type": "execute_result"
    }
   ],
   "source": [
    "files = glob.glob('output/**/*.csv', recursive=True)\n",
    "files\n",
    "    "
   ]
  },
  {
   "cell_type": "code",
   "execution_count": 3,
   "metadata": {},
   "outputs": [
    {
     "data": {
      "text/plain": [
       "22"
      ]
     },
     "execution_count": 3,
     "metadata": {},
     "output_type": "execute_result"
    }
   ],
   "source": [
    "col_names = ['entity', 'department', 'contract', 'year', 'month', 'group', 'lastn', 'lastn2', 'givenn', 'degree', \n",
    "             'qualif', 'position', 'region', 'specials', 'currency', 'salary', 'overt', 'start_date', 'end_date', 'obs', 'url', 'other']\n",
    "len(col_names)"
   ]
  },
  {
   "cell_type": "code",
   "execution_count": 4,
   "metadata": {
    "scrolled": true
   },
   "outputs": [
    {
     "name": "stdout",
     "output_type": "stream",
     "text": [
      "(1899135, 23)\n"
     ]
    }
   ],
   "source": [
    "\n",
    "dfscraped = pd.DataFrame()\n",
    "\n",
    "for f in files:\n",
    "    if( ('scraped' in f) and (not 'data_clean' in f)):\n",
    "        df = pd.read_csv(f, header=None, encoding='latin1', names=col_names, warn_bad_lines=True, low_memory=False)\n",
    "        df['filename'] = f\n",
    "        dfscraped = pd.concat([dfscraped, df], ignore_index=True)\n",
    "\n",
    "print(dfscraped.shape)"
   ]
  },
  {
   "cell_type": "code",
   "execution_count": 5,
   "metadata": {},
   "outputs": [
    {
     "data": {
      "text/plain": [
       "output\\scraped_data_20170225.csv                 998922\n",
       "output\\output_1\\scraped_data_1.csv               360598\n",
       "output\\output_1\\scraped_data_20170224_1.csv      193449\n",
       "output\\scraped_data_20170224.csv                  78909\n",
       "output\\output_1\\scraped_data_20170223_1.csv       67889\n",
       "output\\scraped_data_20170215.csv                  50586\n",
       "output\\scraped_data_20170214.csv                  44783\n",
       "output\\scraped_data_20170216.csv                  36591\n",
       "output\\scraped_data_20170212.csv                  25227\n",
       "output\\scraped_data_20170221.csv                  15300\n",
       "output\\output_1\\old\\scraped_data_2_backup.csv      9215\n",
       "output\\output_1\\old\\scraped_data.csv               8224\n",
       "output\\scraped_data.csv                            4531\n",
       "output\\scraped_data_20170215-1.csv                 3145\n",
       "output\\output_1\\old\\scraped_data_old.csv           1766\n",
       "Name: filename, dtype: int64"
      ]
     },
     "execution_count": 5,
     "metadata": {},
     "output_type": "execute_result"
    }
   ],
   "source": [
    "dfscraped.filename.value_counts()"
   ]
  },
  {
   "cell_type": "code",
   "execution_count": 6,
   "metadata": {
    "scrolled": true
   },
   "outputs": [
    {
     "data": {
      "text/plain": [
       "Ministerio de Justicia                              336990\n",
       "Ministerio de Vivienda y Urbanismo                  196956\n",
       "Ministerio de Obras Públicas                        183468\n",
       "Ministerio de Educación                             128751\n",
       "Ministerio del Trabajo y Previsión Social           113612\n",
       "entity                                               92508\n",
       "Ministerio de Economía, Fomento y Turismo            92159\n",
       "Ministerio de Desarrollo Social                      84779\n",
       "Ministerio del Trabajo y PrevisiÃ³n Social           80198\n",
       "Ministerio de Defensa Nacional                       63995\n",
       "Consejo de Defensa del Estado                        52169\n",
       "b'Ministerio del Interior y Seguridad Pblica'        47911\n",
       "Ministerio de Agricultura                            44494\n",
       "b'Ministerio del Trabajo y Previsin Social'          43390\n",
       "Ministerio del Interior y Seguridad Pública          42636\n",
       "Ministerio de MinerÃ­a                               37899\n",
       "b'Ministerio de Obras Pblicas'                       27853\n",
       "Ministerio de Relaciones Exteriores                  21294\n",
       "b'Ministerio de Educacin'                            19799\n",
       "b'Ministerio de Economa, Fomento y Turismo'          14122\n",
       "Ministerio Secretaría General de la Presidencia      13534\n",
       "b'Ministerio de Justicia'                            12252\n",
       "b'Ministerio de Desarrollo Social'                    9425\n",
       "Ministerio de Bienes Nacionales                       6584\n",
       "Ministerio del Deporte                                6236\n",
       "Ministerio del Medio Ambiente                         6172\n",
       "Ministerio de EnergÃ­a                                5735\n",
       "Ministerio Secretaría General de Gobierno             4661\n",
       "b'Ministerio de Defensa Nacional'                     4552\n",
       "Consejo Nacional de la Cultura y las Artes            3922\n",
       "                                                     ...  \n",
       "74                                                     803\n",
       "76                                                     801\n",
       "75                                                     801\n",
       "77                                                     799\n",
       "78                                                     796\n",
       "79                                                     795\n",
       "80                                                     793\n",
       "81                                                     790\n",
       "82                                                     788\n",
       "83                                                     788\n",
       "84                                                     788\n",
       "86                                                     787\n",
       "85                                                     787\n",
       "87                                                     786\n",
       "88                                                     786\n",
       "89                                                     782\n",
       "90                                                     780\n",
       "91                                                     780\n",
       "92                                                     779\n",
       "93                                                     779\n",
       "94                                                     779\n",
       "95                                                     778\n",
       "96                                                     777\n",
       "97                                                     777\n",
       "98                                                     777\n",
       "99                                                     776\n",
       "b'entity'                                              465\n",
       "b'Ministerio de Transporte y Telecomunicaciones'       304\n",
       "b'Ministerio Secretara General de Gobierno'            100\n",
       "b'Presidencia de la Repblica'                           13\n",
       "Name: entity, dtype: int64"
      ]
     },
     "execution_count": 6,
     "metadata": {},
     "output_type": "execute_result"
    }
   ],
   "source": [
    "dfscraped.entity.value_counts()"
   ]
  },
  {
   "cell_type": "code",
   "execution_count": 7,
   "metadata": {},
   "outputs": [
    {
     "data": {
      "text/plain": [
       "20720"
      ]
     },
     "execution_count": 7,
     "metadata": {},
     "output_type": "execute_result"
    }
   ],
   "source": [
    "dfscraped.url.nunique()"
   ]
  },
  {
   "cell_type": "raw",
   "metadata": {},
   "source": []
  },
  {
   "cell_type": "markdown",
   "metadata": {},
   "source": [
    "## Data that was not captured with the right encoding, scrape again"
   ]
  },
  {
   "cell_type": "code",
   "execution_count": 8,
   "metadata": {
    "collapsed": true
   },
   "outputs": [],
   "source": [
    "retake_entity = list(dfscraped[dfscraped.entity.str.contains(\"b'\", na=False)].entity.value_counts().index)\n",
    "retake_entity = retake_entity + list(dfscraped[dfscraped.entity.str.contains(\"Ã\", na=False)].entity.value_counts().index)\n",
    "retake_entity = retake_entity + list(dfscraped[dfscraped.entity.str.contains(\"Ã­\", na=False)].entity.value_counts().index)\n",
    "retake_entity = retake_entity + ['Ministerio del Interior y Seguridad Pblica', 'Presidencia de la Repblica ']  "
   ]
  },
  {
   "cell_type": "code",
   "execution_count": 9,
   "metadata": {},
   "outputs": [
    {
     "name": "stdout",
     "output_type": "stream",
     "text": [
      "Total Urls 20720\n",
      "Urls to retake 3918\n"
     ]
    }
   ],
   "source": [
    "print('Total Urls', dfscraped.url.nunique())\n",
    "print('Urls to retake', dfscraped[dfscraped.entity.isin(retake_entity)].url.nunique())"
   ]
  },
  {
   "cell_type": "code",
   "execution_count": 10,
   "metadata": {},
   "outputs": [
    {
     "data": {
      "text/plain": [
       "3918"
      ]
     },
     "execution_count": 10,
     "metadata": {},
     "output_type": "execute_result"
    }
   ],
   "source": [
    "retake_entity_urls = []\n",
    "for u in list(set(dfscraped.ix[dfscraped.entity.isin(retake_entity), 'url'].unique())):\n",
    "    if str(u) != 'nan':\n",
    "        if \"b'\" in u:\n",
    "            u = u[2:]\n",
    "        if u[-1] == \"'\":\n",
    "            u = u[:len(u)-1]\n",
    "        retake_entity_urls.append(u)\n",
    "len(retake_entity_urls)"
   ]
  },
  {
   "cell_type": "code",
   "execution_count": 11,
   "metadata": {},
   "outputs": [
    {
     "data": {
      "text/plain": [
       "['http://www.gobiernotransparentechile.cl/directorio/entidad/12/173/per_contrata/A%EF%BF%BDo%202011/Febrero',\n",
       " 'http://www.gobiernotransparentechile.cl/directorio/entidad/12/173/per_contrata/A%EF%BF%BDo%202013/Septiembre?x=0&y=0&page_number=3&sort=id&direction=asc',\n",
       " 'http://www.gobiernotransparentechile.cl/directorio/entidad/19/271/per_contrata/A%C3%B1o%202014/A%C3%B1o%202014%20-%20Noviembre?x=0&y=0&page_number=4&sort=id&direction=asc',\n",
       " 'http://www.gobiernotransparentechile.cl/directorio/entidad/2/11/per_planta/2010/Abril',\n",
       " 'http://www.gobiernotransparentechile.cl/directorio/entidad/12/170/per_contrata/Ao-2012?x=0&y=0&page_number=2&sort=id&direction=asc',\n",
       " 'http://www.gobiernotransparentechile.cl/directorio/entidad/8/138/per_contrata/A%C3%B1o%202007/Septiembre?x=0&y=0&page_number=2&sort=id&direction=asc',\n",
       " 'http://www.gobiernotransparentechile.cl/directorio/entidad/12/169/per_planta/Ao-2008?x=0&y=0&page_number=7&sort=id&direction=asc',\n",
       " 'http://www.gobiernotransparentechile.cl/directorio/entidad/8/136/per_planta/Ao-2008',\n",
       " 'http://www.gobiernotransparentechile.cl/directorio/entidad/2/2/per_planta/2010/Mayo?x=0&y=0&page_number=5&sort=id&direction=asc',\n",
       " 'http://www.gobiernotransparentechile.cl/directorio/entidad/12/167/per_contrata/Ao-2008',\n",
       " 'http://www.gobiernotransparentechile.cl/directorio/entidad/10/146/per_planta/Ao-2008?x=0&y=0&page_number=16&sort=id&direction=asc',\n",
       " 'http://www.gobiernotransparentechile.cl/directorio/entidad/12/173/per_contrata/A%EF%BF%BDo%202014/Marzo?x=0&y=0&page_number=2&sort=id&direction=asc',\n",
       " 'http://www.gobiernotransparentechile.cl/directorio/entidad/12/169/per_planta/Ao-2009?x=0&y=0&page_number=11&sort=id&direction=asc',\n",
       " 'http://www.gobiernotransparentechile.cl/directorio/entidad/2/2/per_planta/2016/Agosto?x=0&y=0&page_number=2&sort=id&direction=asc',\n",
       " 'http://www.gobiernotransparentechile.cl/directorio/entidad/2/2/per_contrata/2013/Octubre?x=0&y=0&page_number=5&sort=id&direction=asc',\n",
       " 'http://www.gobiernotransparentechile.cl/directorio/entidad/21/273/per_contrata/Hist%EF%BF%BDrico/A%C3%B1o%202009',\n",
       " 'http://www.gobiernotransparentechile.cl/directorio/entidad/3/92/per_planta/Ao-2007',\n",
       " 'http://www.gobiernotransparentechile.cl/directorio/entidad/12/174/per_planta/Ao-2016',\n",
       " 'http://www.gobiernotransparentechile.cl/directorio/entidad/12/169/per_planta/Ao-2008',\n",
       " 'http://www.gobiernotransparentechile.cl/directorio/entidad/2/8/per_contrata/2013/Octubre',\n",
       " 'http://www.gobiernotransparentechile.cl/directorio/entidad/10/146/per_contrata/Ao-2008?x=0&y=0&page_number=11&sort=id&direction=asc',\n",
       " 'http://www.gobiernotransparentechile.cl/directorio/entidad/2/2/per_contrata/2011/Diciembre',\n",
       " 'http://www.gobiernotransparentechile.cl/directorio/entidad/2/2/per_contrata/2013/Octubre',\n",
       " 'http://www.gobiernotransparentechile.cl/directorio/entidad/2/8/per_planta/2014/Diciembre',\n",
       " 'http://www.gobiernotransparentechile.cl/directorio/entidad/12/171/per_contrata/A%C3%B1o%202016/Enero?x=0&y=0&page_number=21&sort=id&direction=asc',\n",
       " 'http://www.gobiernotransparentechile.cl/directorio/entidad/12/169/per_contrata/Ao-2011?x=0&y=0&page_number=9&sort=id&direction=asc',\n",
       " 'http://www.gobiernotransparentechile.cl/directorio/entidad/13/179/per_contrata/A%EF%BF%BDo%202016/Diciembre?x=0&y=0&page_number=2&sort=id&direction=asc',\n",
       " 'http://www.gobiernotransparentechile.cl/directorio/entidad/9/127/per_planta/A%C3%B1o%202013/Noviembre',\n",
       " 'http://www.gobiernotransparentechile.cl/directorio/entidad/10/146/per_planta/Ao-2008?x=0&y=0&page_number=2&sort=id&direction=asc',\n",
       " 'http://www.gobiernotransparentechile.cl/directorio/entidad/13/179/per_contrata/A%EF%BF%BDo%202010/Agosto?x=0&y=0&page_number=2&sort=id&direction=asc',\n",
       " 'http://www.gobiernotransparentechile.cl/directorio/entidad/14/190/per_contrata/Ao-2011?x=0&y=0&page_number=3&sort=id&direction=asc',\n",
       " 'http://www.gobiernotransparentechile.cl/directorio/entidad/2/2/per_planta/2010/Julio?x=0&y=0&page_number=2&sort=id&direction=asc',\n",
       " 'http://www.gobiernotransparentechile.cl/directorio/entidad/15/197/per_planta/Ao-2009',\n",
       " 'http://www.gobiernotransparentechile.cl/directorio/entidad/12/167/per_contrata/A%C3%B1o%202013/Agosto?x=0&y=0&page_number=2&sort=id&direction=asc',\n",
       " 'http://www.gobiernotransparentechile.cl/directorio/entidad/2/2/per_contrata/2013/Noviembre',\n",
       " 'http://www.gobiernotransparentechile.cl/directorio/entidad/12/167/per_contrata/A%C3%B1o%202015/Agosto',\n",
       " 'http://www.gobiernotransparentechile.cl/directorio/entidad/12/171/per_contrata/A%C3%B1o%202016/Enero?x=0&y=0&page_number=22&sort=id&direction=asc',\n",
       " 'http://www.gobiernotransparentechile.cl/directorio/entidad/10/146/per_planta/Ao-2006?x=0&y=0&page_number=10&sort=id&direction=asc',\n",
       " 'http://www.gobiernotransparentechile.cl/directorio/entidad/12/167/per_planta/A%C3%B1o%202016/Enero',\n",
       " 'http://www.gobiernotransparentechile.cl/directorio/entidad/12/170/per_contrata/-Junio?x=0&y=0&page_number=3&sort=id&direction=asc',\n",
       " 'http://www.gobiernotransparentechile.cl/directorio/entidad/12/167/per_planta/A%C3%B1o%202014/Julio',\n",
       " 'http://www.gobiernotransparentechile.cl/directorio/entidad/21/135/per_contrata/Ao-2015?x=0&y=0&page_number=2&sort=id&direction=asc',\n",
       " 'http://www.gobiernotransparentechile.cl/directorio/entidad/12/169/per_contrata/Ao-2012?x=0&y=0&page_number=8&sort=id&direction=asc',\n",
       " 'http://www.gobiernotransparentechile.cl/directorio/entidad/3/90/per_planta/Ao-2014',\n",
       " 'http://www.gobiernotransparentechile.cl/directorio/entidad/2/2/per_planta/2014/Abril?x=0&y=0&page_number=4&sort=id&direction=asc',\n",
       " 'http://www.gobiernotransparentechile.cl/directorio/entidad/2/2/per_contrata/2013/Julio',\n",
       " 'http://www.gobiernotransparentechile.cl/directorio/entidad/13/179/per_planta/A%EF%BF%BDo%202016/Noviembre',\n",
       " 'http://www.gobiernotransparentechile.cl/directorio/entidad/12/171/per_planta/A%C3%B1o%202016/Abril?x=0&y=0&page_number=2&sort=id&direction=asc',\n",
       " 'http://www.gobiernotransparentechile.cl/directorio/entidad/13/179/per_planta/A%EF%BF%BDo%202016/Febrero',\n",
       " 'http://www.gobiernotransparentechile.cl/directorio/entidad/2/2/per_planta/2010/Noviembre?x=0&y=0&page_number=4&sort=id&direction=asc',\n",
       " 'http://www.gobiernotransparentechile.cl/directorio/entidad/12/173/per_contrata/A%EF%BF%BDo%202014/Junio?x=0&y=0&page_number=2&sort=id&direction=asc',\n",
       " 'http://www.gobiernotransparentechile.cl/directorio/entidad/12/170/per_planta/-Agosto',\n",
       " 'http://www.gobiernotransparentechile.cl/directorio/entidad/12/171/per_contrata/A%C3%B1o%202016/Junio?x=0&y=0&page_number=6&sort=id&direction=asc',\n",
       " 'http://www.gobiernotransparentechile.cl/directorio/entidad/12/171/per_planta/A%C3%B1o%202016/Enero',\n",
       " 'http://www.gobiernotransparentechile.cl/directorio/entidad/2/5/per_contrata/A%C3%B1o%202016/Mayo?x=0&y=0&page_number=3&sort=id&direction=asc',\n",
       " 'http://www.gobiernotransparentechile.cl/directorio/entidad/19/271/per_contrata/A%C3%B1o%202016/A%C3%B1o%202016%20-%20Febrero?x=0&y=0&page_number=6&sort=id&direction=asc',\n",
       " 'http://www.gobiernotransparentechile.cl/directorio/entidad/12/171/per_contrata/A%C3%B1o%202016/Marzo?x=0&y=0&page_number=10&sort=id&direction=asc',\n",
       " 'http://www.gobiernotransparentechile.cl/directorio/entidad/19/271/per_contrata/A%C3%B1o%202015/A%C3%B1o%202015%20-%20Noviembre?x=0&y=0&page_number=4&sort=id&direction=asc',\n",
       " 'http://www.gobiernotransparentechile.cl/directorio/entidad/9/127/per_planta/A%C3%B1o%202011/Agosto',\n",
       " 'http://www.gobiernotransparentechile.cl/directorio/entidad/13/283/per_planta/Ao-2007?x=0&y=0&page_number=2&sort=id&direction=asc',\n",
       " 'http://www.gobiernotransparentechile.cl/directorio/entidad/10/146/per_planta/Ao-2008?x=0&y=0&page_number=3&sort=id&direction=asc',\n",
       " 'http://www.gobiernotransparentechile.cl/directorio/entidad/19/271/per_contrata/A%C3%B1o%202013/A%C3%B1o%202013%20-%20Septiembre?x=0&y=0&page_number=6&sort=id&direction=asc',\n",
       " 'http://www.gobiernotransparentechile.cl/directorio/entidad/19/271/per_contrata/A%C3%B1o%202013/A%C3%B1o%202013%20-%20Diciembre',\n",
       " 'http://www.gobiernotransparentechile.cl/directorio/entidad/19/271/per_planta/A%C3%B1o%202015/A%C3%B1o%202015%20-%20Septiembre',\n",
       " 'http://www.gobiernotransparentechile.cl/directorio/entidad/8/138/per_contrata/A%C3%B1o%202008/Marzo?x=0&y=0&page_number=2&sort=id&direction=asc',\n",
       " 'http://www.gobiernotransparentechile.cl/directorio/entidad/8/138/per_planta/A%C3%B1o%202007/Enero',\n",
       " 'http://www.gobiernotransparentechile.cl/directorio/entidad/2/8/per_contrata/2012/Junio',\n",
       " 'http://www.gobiernotransparentechile.cl/directorio/entidad/10/146/per_planta/Ao-2006?x=0&y=0&page_number=11&sort=id&direction=asc',\n",
       " 'http://www.gobiernotransparentechile.cl/directorio/entidad/12/170/per_planta/Ao-2014',\n",
       " 'http://www.gobiernotransparentechile.cl/directorio/entidad/13/283/per_planta/A%EF%BF%BDo%202014/A%C3%B1o%202014%20Abril',\n",
       " 'http://www.gobiernotransparentechile.cl/directorio/entidad/12/169/per_planta/Ao-2007?x=0&y=0&page_number=12&sort=id&direction=asc',\n",
       " 'http://www.gobiernotransparentechile.cl/directorio/entidad/12/171/per_contrata/A%C3%B1o%202016/Mayo?x=0&y=0&page_number=23&sort=id&direction=asc',\n",
       " 'http://www.gobiernotransparentechile.cl/directorio/entidad/12/171/per_contrata/A%C3%B1o%202016/Julio?x=0&y=0&page_number=4&sort=id&direction=asc',\n",
       " 'http://www.gobiernotransparentechile.cl/directorio/entidad/12/167/per_contrata/Ao-2012?x=0&y=0&page_number=2&sort=id&direction=asc',\n",
       " 'http://www.gobiernotransparentechile.cl/directorio/entidad/12/173/per_contrata/A%EF%BF%BDo%202012/Enero?x=0&y=0&page_number=4&sort=id&direction=asc',\n",
       " 'http://www.gobiernotransparentechile.cl/directorio/entidad/12/173/per_contrata/A%EF%BF%BDo%202012/Octubre?x=0&y=0&page_number=4&sort=id&direction=asc',\n",
       " 'http://www.gobiernotransparentechile.cl/directorio/entidad/12/174/per_planta/Ao-2013',\n",
       " 'http://www.gobiernotransparentechile.cl/directorio/entidad/19/271/per_contrata/A%C3%B1o%202012/A%C3%B1o%202012%20-%20Diciembre?x=0&y=0&page_number=4&sort=id&direction=asc',\n",
       " 'http://www.gobiernotransparentechile.cl/directorio/entidad/2/8/per_planta/2010/Junio',\n",
       " 'http://www.gobiernotransparentechile.cl/directorio/entidad/12/173/per_contrata/A%EF%BF%BDo%202013/Diciembre?x=0&y=0&page_number=5&sort=id&direction=asc',\n",
       " 'http://www.gobiernotransparentechile.cl/directorio/entidad/25/351/per_planta/A%C3%B1o%202016/Julio',\n",
       " 'http://www.gobiernotransparentechile.cl/directorio/entidad/12/171/per_planta/A%C3%B1o%202016/Agosto',\n",
       " 'http://www.gobiernotransparentechile.cl/directorio/entidad/2/5/per_contrata/A%C3%B1o%202016/Septiembre?x=0&y=0&page_number=4&sort=id&direction=asc',\n",
       " 'http://www.gobiernotransparentechile.cl/directorio/entidad/12/167/per_contrata/A%C3%B1o%202016/Septiembre?x=0&y=0&page_number=2&sort=id&direction=asc',\n",
       " 'http://www.gobiernotransparentechile.cl/directorio/entidad/2/11/per_planta/2013/Febrero',\n",
       " 'http://www.gobiernotransparentechile.cl/directorio/entidad/2/2/per_contrata/2015/Agosto?x=0&y=0&page_number=4&sort=id&direction=asc',\n",
       " 'http://www.gobiernotransparentechile.cl/directorio/entidad/13/179/per_contrata/A%EF%BF%BDo%202015/Diciembre',\n",
       " 'http://www.gobiernotransparentechile.cl/directorio/entidad/12/171/per_contrata/A%C3%B1o%202016/Julio?x=0&y=0&page_number=22&sort=id&direction=asc',\n",
       " 'http://www.gobiernotransparentechile.cl/directorio/entidad/19/271/per_planta/A%C3%B1o%202014/A%C3%B1o%202014%20-%20Diciembre',\n",
       " 'http://www.gobiernotransparentechile.cl/directorio/entidad/13/179/per_planta/A%EF%BF%BDo%202011/Noviembre',\n",
       " 'http://www.gobiernotransparentechile.cl/directorio/entidad/12/171/per_contrata/Ao-2015?x=0&y=0&page_number=7&sort=id&direction=asc',\n",
       " 'http://www.gobiernotransparentechile.cl/directorio/entidad/19/271/per_contrata/A%C3%B1o%202011/A%C3%B1o%202011%20-%20Julio?x=0&y=0&page_number=3&sort=id&direction=asc',\n",
       " 'http://www.gobiernotransparentechile.cl/directorio/entidad/2/2/per_contrata/2011/Noviembre',\n",
       " 'http://www.gobiernotransparentechile.cl/directorio/entidad/13/179/per_contrata/A%EF%BF%BDo%202011/Febrero',\n",
       " 'http://www.gobiernotransparentechile.cl/directorio/entidad/12/170/per_contrata/-Septiembre?x=0&y=0&page_number=5&sort=id&direction=asc',\n",
       " 'http://www.gobiernotransparentechile.cl/directorio/entidad/12/171/per_contrata/A%C3%B1o%202016/Septiembre?x=0&y=0&page_number=15&sort=id&direction=asc',\n",
       " 'http://www.gobiernotransparentechile.cl/directorio/entidad/2/5/per_contrata/A%C3%B1o%202016/Octubre?x=0&y=0&page_number=3&sort=id&direction=asc',\n",
       " 'http://www.gobiernotransparentechile.cl/directorio/entidad/12/169/per_planta/Ao-2007?x=0&y=0&page_number=6&sort=id&direction=asc',\n",
       " 'http://www.gobiernotransparentechile.cl/directorio/entidad/12/170/per_contrata/Ao-2012',\n",
       " 'http://www.gobiernotransparentechile.cl/directorio/entidad/2/2/per_contrata/2015/Agosto?x=0&y=0&page_number=2&sort=id&direction=asc',\n",
       " 'http://www.gobiernotransparentechile.cl/directorio/entidad/11/159/per_contrata/Ao-2008?x=0&y=0&page_number=27&sort=id&direction=asc',\n",
       " 'http://www.gobiernotransparentechile.cl/directorio/entidad/8/138/per_contrata/A%C3%B1o%202008/Noviembre?x=0&y=0&page_number=3&sort=id&direction=asc',\n",
       " 'http://www.gobiernotransparentechile.cl/directorio/entidad/11/157/per_planta/Ao-2009?x=0&y=0&page_number=2&sort=id&direction=asc',\n",
       " 'http://www.gobiernotransparentechile.cl/directorio/entidad/13/179/per_contrata/A%EF%BF%BDo%202014/Marzo?x=0&y=0&page_number=2&sort=id&direction=asc',\n",
       " 'http://www.gobiernotransparentechile.cl/directorio/entidad/13/179/per_contrata/A%EF%BF%BDo%202013/Mayo?x=0&y=0&page_number=2&sort=id&direction=asc',\n",
       " 'http://www.gobiernotransparentechile.cl/directorio/entidad/8/138/per_contrata/A%C3%B1o%202008/Octubre',\n",
       " 'http://www.gobiernotransparentechile.cl/directorio/entidad/2/5/per_contrata/A%C3%B1o%202016/Agosto',\n",
       " 'http://www.gobiernotransparentechile.cl/directorio/entidad/2/9/per_planta/2010/Junio',\n",
       " 'http://www.gobiernotransparentechile.cl/directorio/entidad/12/171/per_planta/Ao-2009',\n",
       " 'http://www.gobiernotransparentechile.cl/directorio/entidad/12/173/per_contrata/A%EF%BF%BDo%202013/Abril?x=0&y=0&page_number=3&sort=id&direction=asc',\n",
       " 'http://www.gobiernotransparentechile.cl/directorio/entidad/15/197/per_contrata/Ao-2014',\n",
       " 'http://www.gobiernotransparentechile.cl/directorio/entidad/12/167/per_contrata/A%C3%B1o%202016/Diciembre?x=0&y=0&page_number=2&sort=id&direction=asc',\n",
       " 'http://www.gobiernotransparentechile.cl/directorio/entidad/12/173/per_contrata/A%EF%BF%BDo%202013/Abril?x=0&y=0&page_number=2&sort=id&direction=asc',\n",
       " 'http://www.gobiernotransparentechile.cl/directorio/entidad/12/171/per_contrata/A%C3%B1o%202016/Julio?x=0&y=0&page_number=12&sort=id&direction=asc',\n",
       " 'http://www.gobiernotransparentechile.cl/directorio/entidad/12/169/per_contrata/Ao-2010?x=0&y=0&page_number=8&sort=id&direction=asc',\n",
       " 'http://www.gobiernotransparentechile.cl/directorio/entidad/12/173/per_contrata/A%EF%BF%BDo%202012/Mayo?x=0&y=0&page_number=4&sort=id&direction=asc',\n",
       " 'http://www.gobiernotransparentechile.cl/directorio/entidad/9/348/per_contrata/A%C3%B1o%202014/Octubre?x=0&y=0&page_number=4&sort=id&direction=asc',\n",
       " 'http://www.gobiernotransparentechile.cl/directorio/entidad/9/348/per_contrata/A%C3%B1o%202012/Abril?x=0&y=0&page_number=4&sort=id&direction=asc',\n",
       " 'http://www.gobiernotransparentechile.cl/directorio/entidad/19/271/per_planta/A%C3%B1o%202015/A%C3%B1o%202015%20-%20Octubre',\n",
       " 'http://www.gobiernotransparentechile.cl/directorio/entidad/12/167/per_contrata/A%C3%B1o%202014/Abril',\n",
       " 'http://www.gobiernotransparentechile.cl/directorio/entidad/11/159/per_contrata/Ao-2008?x=0&y=0&page_number=16&sort=id&direction=asc',\n",
       " 'http://www.gobiernotransparentechile.cl/directorio/entidad/2/2/per_contrata/2015/Marzo?x=0&y=0&page_number=3&sort=id&direction=asc',\n",
       " 'http://www.gobiernotransparentechile.cl/directorio/entidad/12/169/per_contrata/Ao-2007?x=0&y=0&page_number=11&sort=id&direction=asc',\n",
       " 'http://www.gobiernotransparentechile.cl/directorio/entidad/12/169/per_planta/Ao-2011?x=0&y=0&page_number=7&sort=id&direction=asc',\n",
       " 'http://www.gobiernotransparentechile.cl/directorio/entidad/12/169/per_contrata/Ao-2010?x=0&y=0&page_number=6&sort=id&direction=asc',\n",
       " 'http://www.gobiernotransparentechile.cl/directorio/entidad/2/2/per_planta/2010/Septiembre?x=0&y=0&page_number=5&sort=id&direction=asc',\n",
       " 'http://www.gobiernotransparentechile.cl/directorio/entidad/12/169/per_contrata/Ao-2008?x=0&y=0&page_number=11&sort=id&direction=asc',\n",
       " 'http://www.gobiernotransparentechile.cl/directorio/entidad/12/173/per_contrata/A%EF%BF%BDo%202014/Octubre?x=0&y=0&page_number=2&sort=id&direction=asc',\n",
       " 'http://www.gobiernotransparentechile.cl/directorio/entidad/13/179/per_contrata/A%EF%BF%BDo%202012/Septiembre?x=0&y=0&page_number=2&sort=id&direction=asc',\n",
       " 'http://www.gobiernotransparentechile.cl/directorio/entidad/19/271/per_contrata/A%C3%B1o%202012/A%C3%B1o%202012%20-%20Marzo?x=0&y=0&page_number=5&sort=id&direction=asc',\n",
       " 'http://www.gobiernotransparentechile.cl/directorio/entidad/10/146/per_contrata/Ao-2006?x=0&y=0&page_number=16&sort=id&direction=asc',\n",
       " 'http://www.gobiernotransparentechile.cl/directorio/entidad/13/177/per_planta/A%EF%BF%BDo%202016/Marzo',\n",
       " 'http://www.gobiernotransparentechile.cl/directorio/entidad/19/271/per_planta/A%C3%B1o%202016/A%C3%B1o%202016%20-%20Septiembre',\n",
       " 'http://www.gobiernotransparentechile.cl/directorio/entidad/12/173/per_contrata/A%EF%BF%BDo%202012/Marzo?x=0&y=0&page_number=3&sort=id&direction=asc',\n",
       " 'http://www.gobiernotransparentechile.cl/directorio/entidad/12/171/per_contrata/A%C3%B1o%202016/Marzo?x=0&y=0&page_number=7&sort=id&direction=asc',\n",
       " 'http://www.gobiernotransparentechile.cl/directorio/entidad/2/2/per_contrata/2011/Diciembre?x=0&y=0&page_number=5&sort=id&direction=asc',\n",
       " 'http://www.gobiernotransparentechile.cl/directorio/entidad/2/2/per_planta/2014/Agosto?x=0&y=0&page_number=2&sort=id&direction=asc',\n",
       " 'http://www.gobiernotransparentechile.cl/directorio/entidad/13/179/per_planta/A%EF%BF%BDo%202015/Enero',\n",
       " 'http://www.gobiernotransparentechile.cl/directorio/entidad/12/170/per_contrata/Ao-2010?x=0&y=0&page_number=2&sort=id&direction=asc',\n",
       " 'http://www.gobiernotransparentechile.cl/directorio/entidad/9/348/per_contrata/A%C3%B1o%202015/Enero?x=0&y=0&page_number=3&sort=id&direction=asc',\n",
       " 'http://www.gobiernotransparentechile.cl/directorio/entidad/8/136/per_contrata/Ao-2014',\n",
       " 'http://www.gobiernotransparentechile.cl/directorio/entidad/19/271/per_contrata/A%C3%B1o%202015/A%C3%B1o%202015%20-%20Marzo?x=0&y=0&page_number=6&sort=id&direction=asc',\n",
       " 'http://www.gobiernotransparentechile.cl/directorio/entidad/2/8/per_planta/2011/Agosto',\n",
       " 'http://www.gobiernotransparentechile.cl/directorio/entidad/12/171/per_contrata/Ao-2014?x=0&y=0&page_number=7&sort=id&direction=asc',\n",
       " 'http://www.gobiernotransparentechile.cl/directorio/entidad/13/179/per_contrata/A%EF%BF%BDo%202015/Marzo',\n",
       " 'http://www.gobiernotransparentechile.cl/directorio/entidad/12/173/per_contrata/A%EF%BF%BDo%202013/Febrero',\n",
       " 'http://www.gobiernotransparentechile.cl/directorio/entidad/12/171/per_contrata/A%C3%B1o%202016/Junio?x=0&y=0&page_number=10&sort=id&direction=asc',\n",
       " 'http://www.gobiernotransparentechile.cl/directorio/entidad/12/171/per_contrata/A%C3%B1o%202016/Marzo?x=0&y=0&page_number=17&sort=id&direction=asc',\n",
       " 'http://www.gobiernotransparentechile.cl/directorio/entidad/9/348/per_contrata/A%C3%B1o%202014/Enero?x=0&y=0&page_number=3&sort=id&direction=asc',\n",
       " 'http://www.gobiernotransparentechile.cl/directorio/entidad/25/351/per_planta/A%C3%B1o%202016/Octubre',\n",
       " 'http://www.gobiernotransparentechile.cl/directorio/entidad/2/2/per_planta/2009/Octubre?x=0&y=0&page_number=4&sort=id&direction=asc',\n",
       " 'http://www.gobiernotransparentechile.cl/directorio/entidad/2/2/per_contrata/2011/Mayo?x=0&y=0&page_number=4&sort=id&direction=asc',\n",
       " 'http://www.gobiernotransparentechile.cl/directorio/entidad/12/169/per_contrata/Ao-2008?x=0&y=0&page_number=12&sort=id&direction=asc',\n",
       " 'http://www.gobiernotransparentechile.cl/directorio/entidad/13/177/per_planta/A%EF%BF%BDo%202013/A%C3%B1o%202013%20Septiembre',\n",
       " 'http://www.gobiernotransparentechile.cl/directorio/entidad/12/171/per_contrata/A%C3%B1o%202016/Mayo?x=0&y=0&page_number=11&sort=id&direction=asc',\n",
       " 'http://www.gobiernotransparentechile.cl/directorio/entidad/2/8/per_contrata/2014/Agosto',\n",
       " 'http://www.gobiernotransparentechile.cl/directorio/entidad/8/139/per_contrata/A%C3%B1o%202014/Diciembre?x=0&y=0&page_number=5&sort=id&direction=asc',\n",
       " 'http://www.gobiernotransparentechile.cl/directorio/entidad/13/283/per_planta/A%EF%BF%BDo%202015/Noviembre',\n",
       " 'http://www.gobiernotransparentechile.cl/directorio/entidad/19/271/per_planta/A%C3%B1o%202012/A%C3%B1o%202012%20-%20Noviembre',\n",
       " 'http://www.gobiernotransparentechile.cl/directorio/entidad/12/173/per_contrata/A%EF%BF%BDo%202013/Octubre?x=0&y=0&page_number=4&sort=id&direction=asc',\n",
       " 'http://www.gobiernotransparentechile.cl/directorio/entidad/12/167/per_contrata/A%C3%B1o%202010/Mayo',\n",
       " 'http://www.gobiernotransparentechile.cl/directorio/entidad/8/138/per_planta/A%C3%B1o%202008/Diciembre',\n",
       " 'http://www.gobiernotransparentechile.cl/directorio/entidad/12/170/per_contrata/-Noviembre?x=0&y=0&page_number=5&sort=id&direction=asc',\n",
       " 'http://www.gobiernotransparentechile.cl/directorio/entidad/10/146/per_contrata/Ao-2009?x=0&y=0&page_number=12&sort=id&direction=asc',\n",
       " 'http://www.gobiernotransparentechile.cl/directorio/entidad/12/170/per_contrata/-Mayo?x=0&y=0&page_number=4&sort=id&direction=asc',\n",
       " 'http://www.gobiernotransparentechile.cl/directorio/entidad/12/171/per_planta/A%C3%B1o%202016/Julio',\n",
       " 'http://www.gobiernotransparentechile.cl/directorio/entidad/19/271/per_contrata/A%C3%B1o%202016/A%C3%B1o%202016%20-%20Agosto?x=0&y=0&page_number=3&sort=id&direction=asc',\n",
       " 'http://www.gobiernotransparentechile.cl/directorio/entidad/12/171/per_planta/Ao-2011?x=0&y=0&page_number=5&sort=id&direction=asc',\n",
       " 'http://www.gobiernotransparentechile.cl/directorio/entidad/13/179/per_contrata/A%EF%BF%BDo%202016/Abril',\n",
       " 'http://www.gobiernotransparentechile.cl/directorio/entidad/12/171/per_contrata/A%C3%B1o%202016/Mayo?x=0&y=0&page_number=19&sort=id&direction=asc',\n",
       " 'http://www.gobiernotransparentechile.cl/directorio/entidad/12/169/per_contrata/Ao-2010',\n",
       " 'http://www.gobiernotransparentechile.cl/directorio/entidad/10/146/per_contrata/Ao-2007?x=0&y=0&page_number=2&sort=id&direction=asc',\n",
       " 'http://www.gobiernotransparentechile.cl/directorio/entidad/10/146/per_contrata/Ao-2014?x=0&y=0&page_number=95&sort=id&direction=asc',\n",
       " 'http://www.gobiernotransparentechile.cl/directorio/entidad/12/171/per_contrata/A%C3%B1o%202016/Mayo?x=0&y=0&page_number=13&sort=id&direction=asc',\n",
       " 'http://www.gobiernotransparentechile.cl/directorio/entidad/19/271/per_planta/A%C3%B1o%202015/A%C3%B1o%202015%20-%20Mayo',\n",
       " 'http://www.gobiernotransparentechile.cl/directorio/entidad/12/169/per_contrata/Ao-2009?x=0&y=0&page_number=12&sort=id&direction=asc',\n",
       " 'http://www.gobiernotransparentechile.cl/directorio/entidad/19/271/per_contrata/A%C3%B1o%202013/A%C3%B1o%202013%20-%20Octubre?x=0&y=0&page_number=5&sort=id&direction=asc',\n",
       " 'http://www.gobiernotransparentechile.cl/directorio/entidad/12/169/per_contrata/Ao-2013?x=0&y=0&page_number=4&sort=id&direction=asc',\n",
       " 'http://www.gobiernotransparentechile.cl/directorio/entidad/2/8/per_planta/2014/Abril',\n",
       " 'http://www.gobiernotransparentechile.cl/directorio/entidad/8/136/per_contrata/Ao-2009?x=0&y=0&page_number=6&sort=id&direction=asc',\n",
       " 'http://www.gobiernotransparentechile.cl/directorio/entidad/9/348/per_contrata/A%C3%B1o%202012/Junio?x=0&y=0&page_number=4&sort=id&direction=asc',\n",
       " 'http://www.gobiernotransparentechile.cl/directorio/entidad/12/169/per_contrata/Ao-2011?x=0&y=0&page_number=12&sort=id&direction=asc',\n",
       " 'http://www.gobiernotransparentechile.cl/directorio/entidad/12/173/per_contrata/A%EF%BF%BDo%202014/Agosto?x=0&y=0&page_number=5&sort=id&direction=asc',\n",
       " 'http://www.gobiernotransparentechile.cl/directorio/entidad/12/169/per_planta/Ao-2011?x=0&y=0&page_number=8&sort=id&direction=asc',\n",
       " 'http://www.gobiernotransparentechile.cl/directorio/entidad/19/271/per_planta/A%C3%B1o%202012/A%C3%B1o%202012%20-%20Octubre',\n",
       " 'http://www.gobiernotransparentechile.cl/directorio/entidad/2/9/per_contrata/2014/Enero',\n",
       " 'http://www.gobiernotransparentechile.cl/directorio/entidad/8/138/per_contrata/A%C3%B1o%202008/Mayo',\n",
       " 'http://www.gobiernotransparentechile.cl/directorio/entidad/8/139/per_contrata/A%C3%B1o%202013/Enero?x=0&y=0&page_number=2&sort=id&direction=asc',\n",
       " 'http://www.gobiernotransparentechile.cl/directorio/entidad/10/146/per_contrata/Ao-2014?x=0&y=0&page_number=103&sort=id&direction=asc',\n",
       " 'http://www.gobiernotransparentechile.cl/directorio/entidad/19/271/per_contrata/A%C3%B1o%202014/A%C3%B1o%202014%20-%20Enero?x=0&y=0&page_number=5&sort=id&direction=asc',\n",
       " 'http://www.gobiernotransparentechile.cl/directorio/entidad/10/146/per_contrata/Ao-2008?x=0&y=0&page_number=8&sort=id&direction=asc',\n",
       " 'http://www.gobiernotransparentechile.cl/directorio/entidad/9/141/per_contrata/A%C3%B1o%202011/Septiembre?x=0&y=0&page_number=5&sort=id&direction=asc',\n",
       " 'http://www.gobiernotransparentechile.cl/directorio/entidad/12/173/per_contrata/A%EF%BF%BDo%202012/Abril?x=0&y=0&page_number=2&sort=id&direction=asc',\n",
       " 'http://www.gobiernotransparentechile.cl/directorio/entidad/12/173/per_contrata/A%EF%BF%BDo%202011/Noviembre?x=0&y=0&page_number=4&sort=id&direction=asc',\n",
       " 'http://www.gobiernotransparentechile.cl/directorio/entidad/12/173/per_contrata/A%EF%BF%BDo%202014/Mayo?x=0&y=0&page_number=4&sort=id&direction=asc',\n",
       " 'http://www.gobiernotransparentechile.cl/directorio/entidad/13/179/per_contrata/A%EF%BF%BDo%202016/Noviembre?x=0&y=0&page_number=2&sort=id&direction=asc',\n",
       " 'http://www.gobiernotransparentechile.cl/directorio/entidad/19/271/per_contrata/A%C3%B1o%202012/A%C3%B1o%202012%20-%20Julio?x=0&y=0&page_number=4&sort=id&direction=asc',\n",
       " 'http://www.gobiernotransparentechile.cl/directorio/entidad/12/171/per_contrata/A%C3%B1o%202016/Agosto?x=0&y=0&page_number=4&sort=id&direction=asc',\n",
       " 'http://www.gobiernotransparentechile.cl/directorio/entidad/12/173/per_contrata/A%EF%BF%BDo%202012/Noviembre?x=0&y=0&page_number=4&sort=id&direction=asc',\n",
       " 'http://www.gobiernotransparentechile.cl/directorio/entidad/11/159/per_contrata/SEPTIEMBRE?x=0&y=0&page_number=21&sort=id&direction=asc',\n",
       " 'http://www.gobiernotransparentechile.cl/directorio/entidad/2/2/per_contrata/2011/Enero?x=0&y=0&page_number=3&sort=id&direction=asc',\n",
       " 'http://www.gobiernotransparentechile.cl/directorio/entidad/12/167/per_planta/A%C3%B1o%202014/Abril',\n",
       " 'http://www.gobiernotransparentechile.cl/directorio/entidad/10/146/per_contrata/Ao-2014?x=0&y=0&page_number=38&sort=id&direction=asc',\n",
       " 'http://www.gobiernotransparentechile.cl/directorio/entidad/25/351/per_contrata/A%C3%B1o%202016/Septiembre',\n",
       " 'http://www.gobiernotransparentechile.cl/directorio/entidad/9/145/per_contrata/A%C3%B1o%202016/Agosto',\n",
       " 'http://www.gobiernotransparentechile.cl/directorio/entidad/12/171/per_planta/Ao-2013?x=0&y=0&page_number=4&sort=id&direction=asc',\n",
       " 'http://www.gobiernotransparentechile.cl/directorio/entidad/19/271/per_contrata/A%C3%B1o%202014/A%C3%B1o%202014%20-%20Julio?x=0&y=0&page_number=5&sort=id&direction=asc',\n",
       " 'http://www.gobiernotransparentechile.cl/directorio/entidad/13/179/per_planta/A%EF%BF%BDo%202010/Septiembre',\n",
       " 'http://www.gobiernotransparentechile.cl/directorio/entidad/2/9/per_planta/2014/Octubre',\n",
       " 'http://www.gobiernotransparentechile.cl/directorio/entidad/13/179/per_contrata/A%EF%BF%BDo%202012/Diciembre',\n",
       " 'http://www.gobiernotransparentechile.cl/directorio/entidad/19/271/per_contrata/A%C3%B1o%202014/A%C3%B1o%202014%20-%20Diciembre?x=0&y=0&page_number=4&sort=id&direction=asc',\n",
       " 'http://www.gobiernotransparentechile.cl/directorio/entidad/8/138/per_contrata/A%C3%B1o%202007/Mayo?x=0&y=0&page_number=2&sort=id&direction=asc',\n",
       " 'http://www.gobiernotransparentechile.cl/directorio/entidad/8/138/per_contrata/A%C3%B1o%202007/Febrero?x=0&y=0&page_number=2&sort=id&direction=asc',\n",
       " 'http://www.gobiernotransparentechile.cl/directorio/entidad/12/173/per_contrata/A%EF%BF%BDo%202016/Septiembre?x=0&y=0&page_number=6&sort=id&direction=asc',\n",
       " 'http://www.gobiernotransparentechile.cl/directorio/entidad/10/146/per_contrata/Ao-2009?x=0&y=0&page_number=28&sort=id&direction=asc',\n",
       " 'http://www.gobiernotransparentechile.cl/directorio/entidad/12/169/per_planta/Ao-2007?x=0&y=0&page_number=11&sort=id&direction=asc',\n",
       " 'http://www.gobiernotransparentechile.cl/directorio/entidad/12/169/per_contrata/Ao-2016?x=0&y=0&page_number=2&sort=id&direction=asc',\n",
       " 'http://www.gobiernotransparentechile.cl/directorio/entidad/12/167/per_planta/Ao-2011',\n",
       " 'http://www.gobiernotransparentechile.cl/directorio/entidad/12/173/per_contrata/A%EF%BF%BDo%202012/Octubre',\n",
       " 'http://www.gobiernotransparentechile.cl/directorio/entidad/12/168/per_planta/Ao-2011-Programa-01',\n",
       " 'http://www.gobiernotransparentechile.cl/directorio/entidad/12/173/per_contrata/A%EF%BF%BDo%202016/Octubre?x=0&y=0&page_number=3&sort=id&direction=asc',\n",
       " 'http://www.gobiernotransparentechile.cl/directorio/entidad/12/171/per_planta/A%C3%B1o%202016/Septiembre?x=0&y=0&page_number=3&sort=id&direction=asc',\n",
       " 'http://www.gobiernotransparentechile.cl/directorio/entidad/12/173/per_contrata/A%EF%BF%BDo%202016/Enero?x=0&y=0&page_number=3&sort=id&direction=asc',\n",
       " 'http://www.gobiernotransparentechile.cl/directorio/entidad/12/171/per_planta/Ao-2014?x=0&y=0&page_number=4&sort=id&direction=asc',\n",
       " 'http://www.gobiernotransparentechile.cl/directorio/entidad/12/173/per_contrata/A%EF%BF%BDo%202016/Agosto?x=0&y=0&page_number=2&sort=id&direction=asc',\n",
       " 'http://www.gobiernotransparentechile.cl/directorio/entidad/12/173/per_contrata/A%EF%BF%BDo%202015/Mayo?x=0&y=0&page_number=5&sort=id&direction=asc',\n",
       " 'http://www.gobiernotransparentechile.cl/directorio/entidad/12/171/per_contrata/A%C3%B1o%202016/Marzo?x=0&y=0&page_number=15&sort=id&direction=asc',\n",
       " 'http://www.gobiernotransparentechile.cl/directorio/entidad/12/169/per_contrata/Ao-2009',\n",
       " 'http://www.gobiernotransparentechile.cl/directorio/entidad/25/351/per_planta/A%C3%B1o%202016/Mayo',\n",
       " 'http://www.gobiernotransparentechile.cl/directorio/entidad/19/271/per_contrata/A%C3%B1o%202012/A%C3%B1o%202012%20-%20Marzo?x=0&y=0&page_number=2&sort=id&direction=asc',\n",
       " 'http://www.gobiernotransparentechile.cl/directorio/entidad/12/169/per_contrata/Ao-2013?x=0&y=0&page_number=8&sort=id&direction=asc',\n",
       " 'http://www.gobiernotransparentechile.cl/directorio/entidad/8/138/per_contrata/A%C3%B1o%202007/Abril',\n",
       " 'http://www.gobiernotransparentechile.cl/directorio/entidad/12/170/per_contrata/Ao-2015?x=0&y=0&page_number=4&sort=id&direction=asc',\n",
       " 'http://www.gobiernotransparentechile.cl/directorio/entidad/2/2/per_contrata/2011/Febrero?x=0&y=0&page_number=2&sort=id&direction=asc',\n",
       " 'http://www.gobiernotransparentechile.cl/directorio/entidad/2/9/per_contrata/2014/Octubre',\n",
       " 'http://www.gobiernotransparentechile.cl/directorio/entidad/12/173/per_contrata/A%EF%BF%BDo%202014/Agosto?x=0&y=0&page_number=2&sort=id&direction=asc',\n",
       " 'http://www.gobiernotransparentechile.cl/directorio/entidad/12/171/per_contrata/A%C3%B1o%202016/Agosto?x=0&y=0&page_number=11&sort=id&direction=asc',\n",
       " 'http://www.gobiernotransparentechile.cl/directorio/entidad/21/279/per_contrata/Ao-2012',\n",
       " 'http://www.gobiernotransparentechile.cl/directorio/entidad/12/169/per_contrata/Ao-2009?x=0&y=0&page_number=15&sort=id&direction=asc',\n",
       " 'http://www.gobiernotransparentechile.cl/directorio/entidad/2/2/per_planta/2016/Enero?x=0&y=0&page_number=2&sort=id&direction=asc',\n",
       " 'http://www.gobiernotransparentechile.cl/directorio/entidad/12/167/per_contrata/A%C3%B1o%202010/Diciembre',\n",
       " 'http://www.gobiernotransparentechile.cl/directorio/entidad/12/169/per_planta/Ao-2015?x=0&y=0&page_number=2&sort=id&direction=asc',\n",
       " 'http://www.gobiernotransparentechile.cl/directorio/entidad/19/271/per_planta/A%C3%B1o%202016/A%C3%B1o%202016%20-%20Marzo',\n",
       " 'http://www.gobiernotransparentechile.cl/directorio/entidad/2/2/per_contrata/2013/Febrero',\n",
       " 'http://www.gobiernotransparentechile.cl/directorio/entidad/13/179/per_contrata/A%EF%BF%BDo%202012/Abril?x=0&y=0&page_number=2&sort=id&direction=asc',\n",
       " 'http://www.gobiernotransparentechile.cl/directorio/entidad/12/171/per_contrata/A%C3%B1o%202016/Julio?x=0&y=0&page_number=10&sort=id&direction=asc',\n",
       " 'http://www.gobiernotransparentechile.cl/directorio/entidad/2/11/per_planta/2010/Octubre',\n",
       " 'http://www.gobiernotransparentechile.cl/directorio/entidad/12/167/per_planta/A%C3%B1o%202015/Septiembre',\n",
       " 'http://www.gobiernotransparentechile.cl/directorio/entidad/12/169/per_planta/Ao-2013?x=0&y=0&page_number=9&sort=id&direction=asc',\n",
       " 'http://www.gobiernotransparentechile.cl/directorio/entidad/12/169/per_contrata/Ao-2010?x=0&y=0&page_number=5&sort=id&direction=asc',\n",
       " 'http://www.gobiernotransparentechile.cl/directorio/entidad/12/167/per_contrata/A%C3%B1o%202014/Diciembre?x=0&y=0&page_number=2&sort=id&direction=asc',\n",
       " 'http://www.gobiernotransparentechile.cl/directorio/entidad/12/171/per_contrata/A%C3%B1o%202016/Julio?x=0&y=0&page_number=2&sort=id&direction=asc',\n",
       " 'http://www.gobiernotransparentechile.cl/directorio/entidad/8/139/per_contrata/Ao-2011?x=0&y=0&page_number=5&sort=id&direction=asc',\n",
       " 'http://www.gobiernotransparentechile.cl/directorio/entidad/2/11/per_planta/2012/Mayo',\n",
       " 'http://www.gobiernotransparentechile.cl/directorio/entidad/13/179/per_contrata/A%EF%BF%BDo%202011/Enero',\n",
       " 'http://www.gobiernotransparentechile.cl/directorio/entidad/8/138/per_contrata/A%C3%B1o%202013/Octubre?x=0&y=0&page_number=2&sort=id&direction=asc',\n",
       " 'http://www.gobiernotransparentechile.cl/directorio/entidad/19/271/per_contrata/A%C3%B1o%202015/A%C3%B1o%202015%20-%20Enero',\n",
       " 'http://www.gobiernotransparentechile.cl/directorio/entidad/9/141/per_contrata/Ao-2006?x=0&y=0&page_number=3&sort=id&direction=asc',\n",
       " 'http://www.gobiernotransparentechile.cl/directorio/entidad/12/169/per_planta/Ao-2011?x=0&y=0&page_number=4&sort=id&direction=asc',\n",
       " 'http://www.gobiernotransparentechile.cl/directorio/entidad/2/2/per_planta/2009/Mayo?x=0&y=0&page_number=5&sort=id&direction=asc',\n",
       " 'http://www.gobiernotransparentechile.cl/directorio/entidad/2/8/per_contrata/2012/Marzo',\n",
       " 'http://www.gobiernotransparentechile.cl/directorio/entidad/13/177/per_planta/A%EF%BF%BDo%202013/A%C3%B1o%202013%20Abril',\n",
       " 'http://www.gobiernotransparentechile.cl/directorio/entidad/19/271/per_contrata/A%C3%B1o%202014/A%C3%B1o%202014%20-%20Mayo?x=0&y=0&page_number=3&sort=id&direction=asc',\n",
       " 'http://www.gobiernotransparentechile.cl/directorio/entidad/2/9/per_planta/2014/Septiembre',\n",
       " 'http://www.gobiernotransparentechile.cl/directorio/entidad/21/135/per_planta/Ao-2009',\n",
       " 'http://www.gobiernotransparentechile.cl/directorio/entidad/12/169/per_contrata/Ao-2012?x=0&y=0&page_number=21&sort=id&direction=asc',\n",
       " 'http://www.gobiernotransparentechile.cl/directorio/entidad/12/170/per_planta/Ao-2006?x=0&y=0&page_number=3&sort=id&direction=asc',\n",
       " 'http://www.gobiernotransparentechile.cl/directorio/entidad/12/173/per_contrata/A%EF%BF%BDo%202015/Diciembre?x=0&y=0&page_number=5&sort=id&direction=asc',\n",
       " 'http://www.gobiernotransparentechile.cl/directorio/entidad/19/271/per_contrata/A%C3%B1o%202016/A%C3%B1o%202016%20-%20Septiembre',\n",
       " 'http://www.gobiernotransparentechile.cl/directorio/entidad/19/271/per_contrata/A%C3%B1o%202015/A%C3%B1o%202015%20-%20Agosto',\n",
       " 'http://www.gobiernotransparentechile.cl/directorio/entidad/2/8/per_planta/2011/Enero',\n",
       " 'http://www.gobiernotransparentechile.cl/directorio/entidad/12/170/per_contrata/Ao-2008',\n",
       " 'http://www.gobiernotransparentechile.cl/directorio/entidad/8/130/per_contrata/Ao-2013',\n",
       " 'http://www.gobiernotransparentechile.cl/directorio/entidad/12/169/per_contrata/Ao-2016?x=0&y=0&page_number=5&sort=id&direction=asc',\n",
       " 'http://www.gobiernotransparentechile.cl/directorio/entidad/19/271/per_contrata/A%C3%B1o%202014/A%C3%B1o%202014%20-%20Mayo?x=0&y=0&page_number=4&sort=id&direction=asc',\n",
       " 'http://www.gobiernotransparentechile.cl/directorio/entidad/21/135/per_planta/Ao-2012',\n",
       " 'http://www.gobiernotransparentechile.cl/directorio/entidad/19/271/per_contrata/A%C3%B1o%202013/A%C3%B1o%202013%20-%20Febrero?x=0&y=0&page_number=6&sort=id&direction=asc',\n",
       " 'http://www.gobiernotransparentechile.cl/directorio/entidad/2/2/per_planta/2009/Septiembre?x=0&y=0&page_number=4&sort=id&direction=asc',\n",
       " 'http://www.gobiernotransparentechile.cl/directorio/entidad/21/279/per_contrata/Ao-2015',\n",
       " 'http://www.gobiernotransparentechile.cl/directorio/entidad/12/173/per_contrata/A%EF%BF%BDo%202016/Septiembre?x=0&y=0&page_number=5&sort=id&direction=asc',\n",
       " 'http://www.gobiernotransparentechile.cl/directorio/entidad/12/167/per_contrata/A%C3%B1o%202015/Noviembre?x=0&y=0&page_number=2&sort=id&direction=asc',\n",
       " 'http://www.gobiernotransparentechile.cl/directorio/entidad/12/169/per_planta/Ao-2008',\n",
       " 'http://www.gobiernotransparentechile.cl/directorio/entidad/2/6/per_contrata/2014/Diciembre',\n",
       " 'http://www.gobiernotransparentechile.cl/directorio/entidad/8/138/per_contrata/A%C3%B1o%202007/Julio',\n",
       " 'http://www.gobiernotransparentechile.cl/directorio/entidad/13/177/per_planta/A%EF%BF%BDo%202014/A%C3%B1o%202014%20Mayo',\n",
       " 'http://www.gobiernotransparentechile.cl/directorio/entidad/12/167/per_contrata/A%C3%B1o%202015/Febrero?x=0&y=0&page_number=2&sort=id&direction=asc',\n",
       " 'http://www.gobiernotransparentechile.cl/directorio/entidad/12/169/per_contrata/Ao-2014?x=0&y=0&page_number=2&sort=id&direction=asc',\n",
       " 'http://www.gobiernotransparentechile.cl/directorio/entidad/8/138/per_contrata/A%C3%B1o%202008/Febrero',\n",
       " 'http://www.gobiernotransparentechile.cl/directorio/entidad/12/173/per_contrata/A%EF%BF%BDo%202013/Agosto?x=0&y=0&page_number=2&sort=id&direction=asc',\n",
       " 'http://www.gobiernotransparentechile.cl/directorio/entidad/2/2/per_planta/2009/Septiembre?x=0&y=0&page_number=5&sort=id&direction=asc',\n",
       " 'http://www.gobiernotransparentechile.cl/directorio/entidad/13/179/per_planta/A%EF%BF%BDo%202013/Marzo',\n",
       " 'http://www.gobiernotransparentechile.cl/directorio/entidad/4/114/per_planta/Ao-2008?x=0&y=0&page_number=13&sort=id&direction=asc',\n",
       " 'http://www.gobiernotransparentechile.cl/directorio/entidad/9/348/per_contrata/A%C3%B1o%202013/Noviembre?x=0&y=0&page_number=6&sort=id&direction=asc',\n",
       " 'http://www.gobiernotransparentechile.cl/directorio/entidad/25/351/per_contrata/Ao-2009',\n",
       " 'http://www.gobiernotransparentechile.cl/directorio/entidad/13/179/per_contrata/A%EF%BF%BDo%202014/Septiembre?x=0&y=0&page_number=2&sort=id&direction=asc',\n",
       " 'http://www.gobiernotransparentechile.cl/directorio/entidad/8/139/per_contrata/A%C3%B1o%202015/Septiembre?x=0&y=0&page_number=4&sort=id&direction=asc',\n",
       " 'http://www.gobiernotransparentechile.cl/directorio/entidad/19/271/per_contrata/A%C3%B1o%202012/A%C3%B1o%202012%20-%20Abril?x=0&y=0&page_number=3&sort=id&direction=asc',\n",
       " 'http://www.gobiernotransparentechile.cl/directorio/entidad/12/169/per_contrata/Ao-2008?x=0&y=0&page_number=6&sort=id&direction=asc',\n",
       " 'http://www.gobiernotransparentechile.cl/directorio/entidad/2/2/per_planta/2014/Febrero?x=0&y=0&page_number=4&sort=id&direction=asc',\n",
       " 'http://www.gobiernotransparentechile.cl/directorio/entidad/2/6/per_contrata/2011/Agosto',\n",
       " 'http://www.gobiernotransparentechile.cl/directorio/entidad/2/2/per_planta/2010/Septiembre?x=0&y=0&page_number=4&sort=id&direction=asc',\n",
       " 'http://www.gobiernotransparentechile.cl/directorio/entidad/2/8/per_planta/2013/Enero',\n",
       " 'http://www.gobiernotransparentechile.cl/directorio/entidad/2/2/per_planta/2014/Diciembre?x=0&y=0&page_number=2&sort=id&direction=asc',\n",
       " 'http://www.gobiernotransparentechile.cl/directorio/entidad/8/139/per_contrata/A%C3%B1o%202014/Junio?x=0&y=0&page_number=4&sort=id&direction=asc',\n",
       " 'http://www.gobiernotransparentechile.cl/directorio/entidad/2/2/per_planta/2014/Octubre?x=0&y=0&page_number=2&sort=id&direction=asc',\n",
       " 'http://www.gobiernotransparentechile.cl/directorio/entidad/12/173/per_contrata/A%EF%BF%BDo%202014/Noviembre?x=0&y=0&page_number=3&sort=id&direction=asc',\n",
       " 'http://www.gobiernotransparentechile.cl/directorio/entidad/2/5/per_contrata/A%C3%B1o%202012/Noviembre',\n",
       " 'http://www.gobiernotransparentechile.cl/directorio/entidad/4/114/per_planta/Ao-2008?x=0&y=0&page_number=10&sort=id&direction=asc',\n",
       " 'http://www.gobiernotransparentechile.cl/directorio/entidad/19/271/per_contrata/A%C3%B1o%202016/A%C3%B1o%202016%20-%20Enero',\n",
       " 'http://www.gobiernotransparentechile.cl/directorio/entidad/19/271/per_contrata/A%C3%B1o%202015/A%C3%B1o%202015%20-%20Abril?x=0&y=0&page_number=3&sort=id&direction=asc',\n",
       " 'http://www.gobiernotransparentechile.cl/directorio/entidad/12/170/per_contrata/-Enero?x=0&y=0&page_number=4&sort=id&direction=asc',\n",
       " 'http://www.gobiernotransparentechile.cl/directorio/entidad/12/170/per_contrata/Ao-2013?x=0&y=0&page_number=4&sort=id&direction=asc',\n",
       " 'http://www.gobiernotransparentechile.cl/directorio/entidad/12/169/per_planta/Ao-2014?x=0&y=0&page_number=4&sort=id&direction=asc',\n",
       " 'http://www.gobiernotransparentechile.cl/directorio/entidad/25/351/per_planta/A%C3%B1o%202016/Diciembre',\n",
       " 'http://www.gobiernotransparentechile.cl/directorio/entidad/4/285/per_planta/2006',\n",
       " 'http://www.gobiernotransparentechile.cl/directorio/entidad/12/167/per_contrata/A%C3%B1o%202015/Noviembre',\n",
       " 'http://www.gobiernotransparentechile.cl/directorio/entidad/2/11/per_planta/2012/Septiembre',\n",
       " 'http://www.gobiernotransparentechile.cl/directorio/entidad/12/171/per_contrata/A%C3%B1o%202016/Mayo?x=0&y=0&page_number=4&sort=id&direction=asc',\n",
       " 'http://www.gobiernotransparentechile.cl/directorio/entidad/13/179/per_planta/A%EF%BF%BDo%202013/Mayo',\n",
       " 'http://www.gobiernotransparentechile.cl/directorio/entidad/12/173/per_contrata/A%EF%BF%BDo%202013/Enero?x=0&y=0&page_number=5&sort=id&direction=asc',\n",
       " 'http://www.gobiernotransparentechile.cl/directorio/entidad/10/146/per_planta/Ao-2009?x=0&y=0&page_number=13&sort=id&direction=asc',\n",
       " 'http://www.gobiernotransparentechile.cl/directorio/entidad/12/169/per_contrata/Ao-2014?x=0&y=0&page_number=15&sort=id&direction=asc',\n",
       " 'http://www.gobiernotransparentechile.cl/directorio/entidad/2/8/per_planta/2012/Marzo',\n",
       " 'http://www.gobiernotransparentechile.cl/directorio/entidad/19/271/per_contrata/A%C3%B1o%202016/A%C3%B1o%202016%20-%20Marzo?x=0&y=0&page_number=5&sort=id&direction=asc',\n",
       " 'http://www.gobiernotransparentechile.cl/directorio/entidad/2/2/per_planta/2010/Diciembre',\n",
       " 'http://www.gobiernotransparentechile.cl/directorio/entidad/10/146/per_contrata/Ao-2006?x=0&y=0&page_number=4&sort=id&direction=asc',\n",
       " 'http://www.gobiernotransparentechile.cl/directorio/entidad/12/167/per_contrata/A%C3%B1o%202015/Junio?x=0&y=0&page_number=2&sort=id&direction=asc',\n",
       " 'http://www.gobiernotransparentechile.cl/directorio/entidad/2/5/per_contrata/A%C3%B1o%202016/Septiembre?x=0&y=0&page_number=3&sort=id&direction=asc',\n",
       " 'http://www.gobiernotransparentechile.cl/directorio/entidad/12/171/per_planta/Ao-2015',\n",
       " 'http://www.gobiernotransparentechile.cl/directorio/entidad/4/114/per_planta/Ao-2008?x=0&y=0&page_number=8&sort=id&direction=asc',\n",
       " 'http://www.gobiernotransparentechile.cl/directorio/entidad/12/170/per_planta/-Abril',\n",
       " 'http://www.gobiernotransparentechile.cl/directorio/entidad/12/167/per_planta/A%C3%B1o%202010/Agosto',\n",
       " 'http://www.gobiernotransparentechile.cl/directorio/entidad/19/271/per_contrata/A%C3%B1o%202016/A%C3%B1o%202016%20-%20Enero?x=0&y=0&page_number=2&sort=id&direction=asc',\n",
       " 'http://www.gobiernotransparentechile.cl/directorio/entidad/13/179/per_planta/A%EF%BF%BDo%202011/Mayo',\n",
       " 'http://www.gobiernotransparentechile.cl/directorio/entidad/11/159/per_contrata/AGOSTO?x=0&y=0&page_number=12&sort=id&direction=asc',\n",
       " 'http://www.gobiernotransparentechile.cl/directorio/entidad/8/139/per_contrata/A%C3%B1o%202014/Mayo?x=0&y=0&page_number=4&sort=id&direction=asc',\n",
       " 'http://www.gobiernotransparentechile.cl/directorio/entidad/12/169/per_contrata/Ao-2009?x=0&y=0&page_number=15&sort=id&direction=asc',\n",
       " 'http://www.gobiernotransparentechile.cl/directorio/entidad/8/136/per_planta/Ao-2009?x=0&y=0&page_number=3&sort=id&direction=asc',\n",
       " 'http://www.gobiernotransparentechile.cl/directorio/entidad/12/171/per_contrata/A%C3%B1o%202016/Junio?x=0&y=0&page_number=4&sort=id&direction=asc',\n",
       " 'http://www.gobiernotransparentechile.cl/directorio/entidad/8/138/per_planta/A%C3%B1o%202008/Agosto',\n",
       " 'http://www.gobiernotransparentechile.cl/directorio/entidad/13/283/per_planta/A%EF%BF%BDo%202011/A%C3%B1o%202011%20Junio',\n",
       " 'http://www.gobiernotransparentechile.cl/directorio/entidad/2/8/per_contrata/2014/Enero',\n",
       " 'http://www.gobiernotransparentechile.cl/directorio/entidad/12/173/per_contrata/A%EF%BF%BDo%202012/Mayo?x=0&y=0&page_number=2&sort=id&direction=asc',\n",
       " 'http://www.gobiernotransparentechile.cl/directorio/entidad/12/173/per_contrata/A%EF%BF%BDo%202016/Junio?x=0&y=0&page_number=6&sort=id&direction=asc',\n",
       " 'http://www.gobiernotransparentechile.cl/directorio/entidad/2/2/per_contrata/2015/Noviembre',\n",
       " 'http://www.gobiernotransparentechile.cl/directorio/entidad/19/271/per_contrata/A%C3%B1o%202016/A%C3%B1o%202016%20-%20Marzo?x=0&y=0&page_number=3&sort=id&direction=asc',\n",
       " 'http://www.gobiernotransparentechile.cl/directorio/entidad/12/170/per_contrata/-Febrero?x=0&y=0&page_number=3&sort=id&direction=asc',\n",
       " 'http://www.gobiernotransparentechile.cl/directorio/entidad/12/167/per_contrata/A%C3%B1o%202016/Julio?x=0&y=0&page_number=2&sort=id&direction=asc',\n",
       " 'http://www.gobiernotransparentechile.cl/directorio/entidad/12/169/per_contrata/Ao-2014?x=0&y=0&page_number=18&sort=id&direction=asc',\n",
       " 'http://www.gobiernotransparentechile.cl/directorio/entidad/2/6/per_contrata/2013/Mayo',\n",
       " 'http://www.gobiernotransparentechile.cl/directorio/entidad/12/173/per_contrata/A%EF%BF%BDo%202011/Febrero?x=0&y=0&page_number=5&sort=id&direction=asc',\n",
       " 'http://www.gobiernotransparentechile.cl/directorio/entidad/19/271/per_contrata/A%C3%B1o%202015/A%C3%B1o%202015%20-%20Septiembre',\n",
       " 'http://www.gobiernotransparentechile.cl/directorio/entidad/12/173/per_contrata/A%EF%BF%BDo%202016/Julio?x=0&y=0&page_number=5&sort=id&direction=asc',\n",
       " 'http://www.gobiernotransparentechile.cl/directorio/entidad/12/167/per_contrata/A%C3%B1o%202013/octubre?x=0&y=0&page_number=2&sort=id&direction=asc',\n",
       " 'http://www.gobiernotransparentechile.cl/directorio/entidad/2/10/per_planta/2013/Mayo',\n",
       " 'http://www.gobiernotransparentechile.cl/directorio/entidad/2/2/per_planta/2012/Enero?x=0&y=0&page_number=2&sort=id&direction=asc',\n",
       " 'http://www.gobiernotransparentechile.cl/directorio/entidad/12/171/per_contrata/A%C3%B1o%202016/Julio?x=0&y=0&page_number=3&sort=id&direction=asc',\n",
       " 'http://www.gobiernotransparentechile.cl/directorio/entidad/12/167/per_contrata/A%C3%B1o%202015/Octubre?x=0&y=0&page_number=2&sort=id&direction=asc',\n",
       " 'http://www.gobiernotransparentechile.cl/directorio/entidad/12/170/per_contrata/-Septiembre?x=0&y=0&page_number=3&sort=id&direction=asc',\n",
       " 'http://www.gobiernotransparentechile.cl/directorio/entidad/12/167/per_contrata/A%C3%B1o%202010/Noviembre',\n",
       " 'http://www.gobiernotransparentechile.cl/directorio/entidad/12/171/per_planta/Ao-2015?x=0&y=0&page_number=4&sort=id&direction=asc',\n",
       " 'http://www.gobiernotransparentechile.cl/directorio/entidad/12/169/per_planta/Ao-2006?x=0&y=0&page_number=6&sort=id&direction=asc',\n",
       " 'http://www.gobiernotransparentechile.cl/directorio/entidad/2/5/per_contrata/A%C3%B1o%202016/Noviembre',\n",
       " 'http://www.gobiernotransparentechile.cl/directorio/entidad/13/179/per_planta/A%EF%BF%BDo%202012/Enero',\n",
       " 'http://www.gobiernotransparentechile.cl/directorio/entidad/12/169/per_contrata/Ao-2010?x=0&y=0&page_number=12&sort=id&direction=asc',\n",
       " 'http://www.gobiernotransparentechile.cl/directorio/entidad/19/271/per_contrata/A%C3%B1o%202011/A%C3%B1o%202011%20-%20Julio',\n",
       " 'http://www.gobiernotransparentechile.cl/directorio/entidad/2/10/per_planta/2012/Abril',\n",
       " 'http://www.gobiernotransparentechile.cl/directorio/entidad/10/146/per_contrata/Ao-2014?x=0&y=0&page_number=82&sort=id&direction=asc',\n",
       " 'http://www.gobiernotransparentechile.cl/directorio/entidad/12/173/per_contrata/A%EF%BF%BDo%202014/Noviembre?x=0&y=0&page_number=5&sort=id&direction=asc',\n",
       " 'http://www.gobiernotransparentechile.cl/directorio/entidad/12/171/per_contrata/A%C3%B1o%202016/Julio?x=0&y=0&page_number=20&sort=id&direction=asc',\n",
       " 'http://www.gobiernotransparentechile.cl/directorio/entidad/2/2/per_planta/2014/Marzo?x=0&y=0&page_number=5&sort=id&direction=asc',\n",
       " 'http://www.gobiernotransparentechile.cl/directorio/entidad/12/169/per_contrata/Ao-2009?x=0&y=0&page_number=16&sort=id&direction=asc',\n",
       " 'http://www.gobiernotransparentechile.cl/directorio/entidad/2/2/per_contrata/2011/Abril?x=0&y=0&page_number=2&sort=id&direction=asc',\n",
       " 'http://www.gobiernotransparentechile.cl/directorio/entidad/4/114/per_planta/Ao-2008?x=0&y=0&page_number=9&sort=id&direction=asc',\n",
       " 'http://www.gobiernotransparentechile.cl/directorio/entidad/12/169/per_planta/Ao-2010?x=0&y=0&page_number=6&sort=id&direction=asc',\n",
       " 'http://www.gobiernotransparentechile.cl/directorio/entidad/8/138/per_planta/A%C3%B1o%202007/Octubre',\n",
       " 'http://www.gobiernotransparentechile.cl/directorio/entidad/9/348/per_contrata/A%C3%B1o%202015/Marzo?x=0&y=0&page_number=4&sort=id&direction=asc',\n",
       " 'http://www.gobiernotransparentechile.cl/directorio/entidad/13/179/per_planta/A%EF%BF%BDo%202013/Septiembre',\n",
       " 'http://www.gobiernotransparentechile.cl/directorio/entidad/19/271/per_contrata/A%C3%B1o%202015/A%C3%B1o%202015%20-%20Octubre?x=0&y=0&page_number=5&sort=id&direction=asc',\n",
       " 'http://www.gobiernotransparentechile.cl/directorio/entidad/12/169/per_contrata/Ao-2006?x=0&y=0&page_number=5&sort=id&direction=asc',\n",
       " 'http://www.gobiernotransparentechile.cl/directorio/entidad/13/179/per_planta/A%EF%BF%BDo%202013/Agosto',\n",
       " 'http://www.gobiernotransparentechile.cl/directorio/entidad/12/169/per_contrata/Ao-2015?x=0&y=0&page_number=12&sort=id&direction=asc',\n",
       " 'http://www.gobiernotransparentechile.cl/directorio/entidad/13/283/per_planta/Ao-2007',\n",
       " 'http://www.gobiernotransparentechile.cl/directorio/entidad/21/135/per_contrata/Ao-2013',\n",
       " 'http://www.gobiernotransparentechile.cl/directorio/entidad/12/170/per_planta/Ao-2009?x=0&y=0&page_number=2&sort=id&direction=asc',\n",
       " 'http://www.gobiernotransparentechile.cl/directorio/entidad/13/177/per_planta/A%EF%BF%BDo%202011/A%C3%B1o%202011%20Julio',\n",
       " 'http://www.gobiernotransparentechile.cl/directorio/entidad/2/2/per_contrata/2015/Noviembre?x=0&y=0&page_number=2&sort=id&direction=asc',\n",
       " 'http://www.gobiernotransparentechile.cl/directorio/entidad/2/2/per_contrata/2011/Febrero?x=0&y=0&page_number=5&sort=id&direction=asc',\n",
       " 'http://www.gobiernotransparentechile.cl/directorio/entidad/12/173/per_contrata/A%EF%BF%BDo%202011/Septiembre?x=0&y=0&page_number=2&sort=id&direction=asc',\n",
       " 'http://www.gobiernotransparentechile.cl/directorio/entidad/3/90/per_planta/Ao-2009?x=0&y=0&page_number=7&sort=id&direction=asc',\n",
       " 'http://www.gobiernotransparentechile.cl/directorio/entidad/13/179/per_contrata/A%EF%BF%BDo%202016/Noviembre',\n",
       " 'http://www.gobiernotransparentechile.cl/directorio/entidad/21/273/per_contrata/Hist%EF%BF%BDrico/A%C3%B1o%202013',\n",
       " 'http://www.gobiernotransparentechile.cl/directorio/entidad/12/168/per_contrata/Ao-2016-Programa-01',\n",
       " 'http://www.gobiernotransparentechile.cl/directorio/entidad/2/6/per_contrata/2014/Junio',\n",
       " 'http://www.gobiernotransparentechile.cl/directorio/entidad/2/2/per_contrata/2013/Febrero?x=0&y=0&page_number=2&sort=id&direction=asc',\n",
       " 'http://www.gobiernotransparentechile.cl/directorio/entidad/8/139/per_contrata/A%C3%B1o%202015/Junio?x=0&y=0&page_number=4&sort=id&direction=asc',\n",
       " 'http://www.gobiernotransparentechile.cl/directorio/entidad/12/167/per_planta/A%C3%B1o%202009%20%28Abril-Diciembre%29/Septiembre',\n",
       " 'http://www.gobiernotransparentechile.cl/directorio/entidad/12/169/per_planta/Ao-2007?x=0&y=0&page_number=8&sort=id&direction=asc',\n",
       " 'http://www.gobiernotransparentechile.cl/directorio/entidad/13/179/per_planta/A%EF%BF%BDo%202010/Diciembre',\n",
       " 'http://www.gobiernotransparentechile.cl/directorio/entidad/19/271/per_contrata/A%C3%B1o%202015/A%C3%B1o%202015%20-%20Septiembre?x=0&y=0&page_number=3&sort=id&direction=asc',\n",
       " 'http://www.gobiernotransparentechile.cl/directorio/entidad/12/170/per_planta/-Octubre',\n",
       " 'http://www.gobiernotransparentechile.cl/directorio/entidad/13/177/per_planta/A%EF%BF%BDo%202013/A%C3%B1o%202013%20Junio',\n",
       " 'http://www.gobiernotransparentechile.cl/directorio/entidad/2/8/per_contrata/2013/Septiembre',\n",
       " 'http://www.gobiernotransparentechile.cl/directorio/entidad/13/179/per_contrata/A%EF%BF%BDo%202013/Enero',\n",
       " 'http://www.gobiernotransparentechile.cl/directorio/entidad/12/171/per_planta/A%C3%B1o%202016/Mayo',\n",
       " 'http://www.gobiernotransparentechile.cl/directorio/entidad/12/171/per_contrata/A%C3%B1o%202016/Enero?x=0&y=0&page_number=15&sort=id&direction=asc',\n",
       " 'http://www.gobiernotransparentechile.cl/directorio/entidad/19/271/per_contrata/A%C3%B1o%202016/A%C3%B1o%202016%20-%20Abril?x=0&y=0&page_number=6&sort=id&direction=asc',\n",
       " 'http://www.gobiernotransparentechile.cl/directorio/entidad/2/2/per_planta/2010/Julio?x=0&y=0&page_number=5&sort=id&direction=asc',\n",
       " 'http://www.gobiernotransparentechile.cl/directorio/entidad/9/141/per_planta/Ao-2006',\n",
       " 'http://www.gobiernotransparentechile.cl/directorio/entidad/10/146/per_contrata/Ao-2006',\n",
       " 'http://www.gobiernotransparentechile.cl/directorio/entidad/2/8/per_contrata/2014/Junio',\n",
       " 'http://www.gobiernotransparentechile.cl/directorio/entidad/3/92/per_contrata/Ao-2006',\n",
       " 'http://www.gobiernotransparentechile.cl/directorio/entidad/12/170/per_contrata/-Febrero?x=0&y=0&page_number=4&sort=id&direction=asc',\n",
       " 'http://www.gobiernotransparentechile.cl/directorio/entidad/8/130/per_contrata/Ao-2007?x=0&y=0&page_number=2&sort=id&direction=asc',\n",
       " 'http://www.gobiernotransparentechile.cl/directorio/entidad/12/169/per_contrata/Ao-2008?x=0&y=0&page_number=4&sort=id&direction=asc',\n",
       " 'http://www.gobiernotransparentechile.cl/directorio/entidad/11/159/per_contrata/Ao-2008?x=0&y=0&page_number=26&sort=id&direction=asc',\n",
       " 'http://www.gobiernotransparentechile.cl/directorio/entidad/13/179/per_contrata/A%EF%BF%BDo%202016/Agosto?x=0&y=0&page_number=2&sort=id&direction=asc',\n",
       " 'http://www.gobiernotransparentechile.cl/directorio/entidad/12/169/per_contrata/Ao-2012?x=0&y=0&page_number=19&sort=id&direction=asc',\n",
       " 'http://www.gobiernotransparentechile.cl/directorio/entidad/21/279/per_contrata/Ao-2016?x=0&y=0&page_number=3&sort=id&direction=asc',\n",
       " 'http://www.gobiernotransparentechile.cl/directorio/entidad/13/179/per_contrata/A%EF%BF%BDo%202012/Noviembre?x=0&y=0&page_number=2&sort=id&direction=asc',\n",
       " 'http://www.gobiernotransparentechile.cl/directorio/entidad/13/178/per_contrata/A%C3%B1o%202007/A%C3%B1o%202007%20Enero-Diciembre?x=0&y=0&page_number=2&sort=id&direction=asc',\n",
       " 'http://www.gobiernotransparentechile.cl/directorio/entidad/12/173/per_contrata/A%EF%BF%BDo%202016/Octubre',\n",
       " 'http://www.gobiernotransparentechile.cl/directorio/entidad/19/271/per_contrata/A%C3%B1o%202016/A%C3%B1o%202016%20-%20Octubre?x=0&y=0&page_number=5&sort=id&direction=asc',\n",
       " 'http://www.gobiernotransparentechile.cl/directorio/entidad/2/2/per_contrata/2011/Abril?x=0&y=0&page_number=3&sort=id&direction=asc',\n",
       " 'http://www.gobiernotransparentechile.cl/directorio/entidad/2/2/per_planta/2010/Abril?x=0&y=0&page_number=4&sort=id&direction=asc',\n",
       " 'http://www.gobiernotransparentechile.cl/directorio/entidad/12/173/per_contrata/A%EF%BF%BDo%202011/Noviembre',\n",
       " 'http://www.gobiernotransparentechile.cl/directorio/entidad/13/177/per_planta/A%EF%BF%BDo%202015/Diciembre',\n",
       " 'http://www.gobiernotransparentechile.cl/directorio/entidad/2/2/per_contrata/2011/Noviembre?x=0&y=0&page_number=5&sort=id&direction=asc',\n",
       " 'http://www.gobiernotransparentechile.cl/directorio/entidad/13/177/per_planta/A%EF%BF%BDo%202012/A%C3%B1o%202012%20Junio',\n",
       " 'http://www.gobiernotransparentechile.cl/directorio/entidad/21/273/per_planta/Hist%C3%B3rico/A%C3%B1o%202009',\n",
       " 'http://www.gobiernotransparentechile.cl/directorio/entidad/19/271/per_contrata/A%C3%B1o%202015/A%C3%B1o%202015%20-%20Marzo?x=0&y=0&page_number=2&sort=id&direction=asc',\n",
       " 'http://www.gobiernotransparentechile.cl/directorio/entidad/12/171/per_contrata/A%C3%B1o%202016/Septiembre?x=0&y=0&page_number=10&sort=id&direction=asc',\n",
       " 'http://www.gobiernotransparentechile.cl/directorio/entidad/12/173/per_contrata/A%EF%BF%BDo%202011/Febrero?x=0&y=0&page_number=3&sort=id&direction=asc',\n",
       " 'http://www.gobiernotransparentechile.cl/directorio/entidad/8/138/per_contrata/A%C3%B1o%202008/Enero?x=0&y=0&page_number=3&sort=id&direction=asc',\n",
       " 'http://www.gobiernotransparentechile.cl/directorio/entidad/12/169/per_planta/Ao-2006?x=0&y=0&page_number=3&sort=id&direction=asc',\n",
       " 'http://www.gobiernotransparentechile.cl/directorio/entidad/12/169/per_planta/Ao-2010?x=0&y=0&page_number=2&sort=id&direction=asc',\n",
       " 'http://www.gobiernotransparentechile.cl/directorio/entidad/13/179/per_contrata/A%EF%BF%BDo%202016/Diciembre',\n",
       " 'http://www.gobiernotransparentechile.cl/directorio/entidad/12/173/per_contrata/A%EF%BF%BDo%202014/Abril',\n",
       " 'http://www.gobiernotransparentechile.cl/directorio/entidad/13/177/per_planta/A%EF%BF%BDo%202011/A%C3%B1o%202011%20Diciembre',\n",
       " 'http://www.gobiernotransparentechile.cl/directorio/entidad/13/283/per_planta/A%EF%BF%BDo%202013/A%C3%B1o%202013%20Noviembre',\n",
       " 'http://www.gobiernotransparentechile.cl/directorio/entidad/10/146/per_contrata/Ao-2007?x=0&y=0&page_number=4&sort=id&direction=asc',\n",
       " 'http://www.gobiernotransparentechile.cl/directorio/entidad/2/2/per_planta/2014/Junio?x=0&y=0&page_number=2&sort=id&direction=asc',\n",
       " 'http://www.gobiernotransparentechile.cl/directorio/entidad/10/146/per_contrata/Ao-2014?x=0&y=0&page_number=90&sort=id&direction=asc',\n",
       " 'http://www.gobiernotransparentechile.cl/directorio/entidad/12/173/per_contrata/A%EF%BF%BDo%202015/Julio?x=0&y=0&page_number=2&sort=id&direction=asc',\n",
       " 'http://www.gobiernotransparentechile.cl/directorio/entidad/12/169/per_planta/Ao-2009?x=0&y=0&page_number=2&sort=id&direction=asc',\n",
       " 'http://www.gobiernotransparentechile.cl/directorio/entidad/12/171/per_planta/A%C3%B1o%202016/Agosto?x=0&y=0&page_number=2&sort=id&direction=asc',\n",
       " 'http://www.gobiernotransparentechile.cl/directorio/entidad/12/173/per_contrata/A%EF%BF%BDo%202016/Enero?x=0&y=0&page_number=2&sort=id&direction=asc',\n",
       " 'http://www.gobiernotransparentechile.cl/directorio/entidad/19/271/per_contrata/A%C3%B1o%202014/A%C3%B1o%202014%20-%20Febrero?x=0&y=0&page_number=6&sort=id&direction=asc',\n",
       " 'http://www.gobiernotransparentechile.cl/directorio/entidad/10/146/per_contrata/Ao-2009?x=0&y=0&page_number=18&sort=id&direction=asc',\n",
       " 'http://www.gobiernotransparentechile.cl/directorio/entidad/12/173/per_contrata/A%EF%BF%BDo%202012/Diciembre?x=0&y=0&page_number=2&sort=id&direction=asc',\n",
       " 'http://www.gobiernotransparentechile.cl/directorio/entidad/2/8/per_contrata/2012/Abril',\n",
       " 'http://www.gobiernotransparentechile.cl/directorio/entidad/12/170/per_contrata/Ao-2013',\n",
       " 'http://www.gobiernotransparentechile.cl/directorio/entidad/10/146/per_contrata/Ao-2008?x=0&y=0&page_number=9&sort=id&direction=asc',\n",
       " 'http://www.gobiernotransparentechile.cl/directorio/entidad/2/2/per_contrata/2013/Febrero?x=0&y=0&page_number=4&sort=id&direction=asc',\n",
       " 'http://www.gobiernotransparentechile.cl/directorio/entidad/10/146/per_planta/Ao-2009?x=0&y=0&page_number=11&sort=id&direction=asc',\n",
       " 'http://www.gobiernotransparentechile.cl/directorio/entidad/19/271/per_contrata/A%C3%B1o%202012/A%C3%B1o%202012%20-%20Junio?x=0&y=0&page_number=4&sort=id&direction=asc',\n",
       " 'http://www.gobiernotransparentechile.cl/directorio/entidad/12/173/per_contrata/A%EF%BF%BDo%202015/Julio?x=0&y=0&page_number=5&sort=id&direction=asc',\n",
       " 'http://www.gobiernotransparentechile.cl/directorio/entidad/10/146/per_contrata/Ao-2007',\n",
       " 'http://www.gobiernotransparentechile.cl/directorio/entidad/2/10/per_planta/2012/Julio',\n",
       " 'http://www.gobiernotransparentechile.cl/directorio/entidad/8/138/per_contrata/A%C3%B1o%202008/Julio?x=0&y=0&page_number=3&sort=id&direction=asc',\n",
       " 'http://www.gobiernotransparentechile.cl/directorio/entidad/19/271/per_planta/A%C3%B1o%202016/A%C3%B1o%202016%20-%20Julio',\n",
       " 'http://www.gobiernotransparentechile.cl/directorio/entidad/12/171/per_contrata/A%C3%B1o%202016/Julio?x=0&y=0&page_number=8&sort=id&direction=asc',\n",
       " 'http://www.gobiernotransparentechile.cl/directorio/entidad/12/173/per_contrata/A%EF%BF%BDo%202014/Diciembre',\n",
       " 'http://www.gobiernotransparentechile.cl/directorio/entidad/2/2/per_planta/2016/Agosto?x=0&y=0&page_number=3&sort=id&direction=asc',\n",
       " 'http://www.gobiernotransparentechile.cl/directorio/entidad/13/177/per_planta/A%EF%BF%BDo%202011/A%C3%B1o%202011%20Marzo',\n",
       " 'http://www.gobiernotransparentechile.cl/directorio/entidad/12/169/per_contrata/Ao-2012?x=0&y=0&page_number=10&sort=id&direction=asc',\n",
       " 'http://www.gobiernotransparentechile.cl/directorio/entidad/13/179/per_contrata/A%EF%BF%BDo%202011/Julio',\n",
       " 'http://www.gobiernotransparentechile.cl/directorio/entidad/12/170/per_contrata/Ao-2006?x=0&y=0&page_number=2&sort=id&direction=asc',\n",
       " 'http://www.gobiernotransparentechile.cl/directorio/entidad/19/271/per_contrata/A%C3%B1o%202013/A%C3%B1o%202013%20-%20Octubre?x=0&y=0&page_number=2&sort=id&direction=asc',\n",
       " 'http://www.gobiernotransparentechile.cl/directorio/entidad/2/10/per_contrata/2012/Septiembre',\n",
       " 'http://www.gobiernotransparentechile.cl/directorio/entidad/12/173/per_contrata/A%EF%BF%BDo%202014/Octubre?x=0&y=0&page_number=5&sort=id&direction=asc',\n",
       " 'http://www.gobiernotransparentechile.cl/directorio/entidad/12/170/per_planta/-Junio',\n",
       " 'http://www.gobiernotransparentechile.cl/directorio/entidad/8/139/per_contrata/A%C3%B1o%202012/Septiembre?x=0&y=0&page_number=5&sort=id&direction=asc',\n",
       " 'http://www.gobiernotransparentechile.cl/directorio/entidad/12/173/per_contrata/A%EF%BF%BDo%202014/Febrero?x=0&y=0&page_number=2&sort=id&direction=asc',\n",
       " 'http://www.gobiernotransparentechile.cl/directorio/entidad/2/10/per_contrata/2013/Febrero',\n",
       " 'http://www.gobiernotransparentechile.cl/directorio/entidad/21/279/per_contrata/Ao-2016',\n",
       " 'http://www.gobiernotransparentechile.cl/directorio/entidad/12/170/per_contrata/-Agosto?x=0&y=0&page_number=5&sort=id&direction=asc',\n",
       " 'http://www.gobiernotransparentechile.cl/directorio/entidad/8/138/per_contrata/A%C3%B1o%202007/Marzo',\n",
       " 'http://www.gobiernotransparentechile.cl/directorio/entidad/12/169/per_planta/Ao-2006',\n",
       " 'http://www.gobiernotransparentechile.cl/directorio/entidad/12/171/per_planta/Ao-2010?x=0&y=0&page_number=3&sort=id&direction=asc',\n",
       " 'http://www.gobiernotransparentechile.cl/directorio/entidad/12/173/per_contrata/A%EF%BF%BDo%202016/Diciembre?x=0&y=0&page_number=3&sort=id&direction=asc',\n",
       " 'http://www.gobiernotransparentechile.cl/directorio/entidad/12/171/per_contrata/A%C3%B1o%202016/Septiembre?x=0&y=0&page_number=16&sort=id&direction=asc',\n",
       " 'http://www.gobiernotransparentechile.cl/directorio/entidad/12/171/per_contrata/A%C3%B1o%202016/Enero?x=0&y=0&page_number=7&sort=id&direction=asc',\n",
       " 'http://www.gobiernotransparentechile.cl/directorio/entidad/13/179/per_contrata/A%EF%BF%BDo%202016/Enero?x=0&y=0&page_number=2&sort=id&direction=asc',\n",
       " 'http://www.gobiernotransparentechile.cl/directorio/entidad/12/167/per_contrata/Ao-2011',\n",
       " 'http://www.gobiernotransparentechile.cl/directorio/entidad/12/169/per_planta/Ao-2015?x=0&y=0&page_number=4&sort=id&direction=asc',\n",
       " 'http://www.gobiernotransparentechile.cl/directorio/entidad/12/171/per_contrata/A%C3%B1o%202016/Abril?x=0&y=0&page_number=18&sort=id&direction=asc',\n",
       " 'http://www.gobiernotransparentechile.cl/directorio/entidad/12/173/per_contrata/A%EF%BF%BDo%202011/Julio?x=0&y=0&page_number=6&sort=id&direction=asc',\n",
       " 'http://www.gobiernotransparentechile.cl/directorio/entidad/2/2/per_contrata/2015/Septiembre?x=0&y=0&page_number=2&sort=id&direction=asc',\n",
       " 'http://www.gobiernotransparentechile.cl/directorio/entidad/13/177/per_planta/A%EF%BF%BDo%202013/A%C3%B1o%202013%20Agosto',\n",
       " 'http://www.gobiernotransparentechile.cl/directorio/entidad/8/138/per_planta/A%C3%B1o%202007/Junio',\n",
       " 'http://www.gobiernotransparentechile.cl/directorio/entidad/19/271/per_contrata/A%C3%B1o%202013/A%C3%B1o%202013%20-%20Abril?x=0&y=0&page_number=6&sort=id&direction=asc',\n",
       " 'http://www.gobiernotransparentechile.cl/directorio/entidad/12/169/per_contrata/Ao-2010?x=0&y=0&page_number=14&sort=id&direction=asc',\n",
       " 'http://www.gobiernotransparentechile.cl/directorio/entidad/12/171/per_contrata/A%C3%B1o%202016/Octubre?x=0&y=0&page_number=6&sort=id&direction=asc',\n",
       " 'http://www.gobiernotransparentechile.cl/directorio/entidad/11/159/per_contrata/Ao-2007?x=0&y=0&page_number=23&sort=id&direction=asc',\n",
       " 'http://www.gobiernotransparentechile.cl/directorio/entidad/12/169/per_planta/Ao-2012?x=0&y=0&page_number=4&sort=id&direction=asc',\n",
       " 'http://www.gobiernotransparentechile.cl/directorio/entidad/21/135/per_contrata/Ao-2016?x=0&y=0&page_number=4&sort=id&direction=asc',\n",
       " 'http://www.gobiernotransparentechile.cl/directorio/entidad/12/169/per_planta/Ao-2013?x=0&y=0&page_number=6&sort=id&direction=asc',\n",
       " 'http://www.gobiernotransparentechile.cl/directorio/entidad/12/169/per_contrata/Ao-2006?x=0&y=0&page_number=2&sort=id&direction=asc',\n",
       " 'http://www.gobiernotransparentechile.cl/directorio/entidad/10/146/per_contrata/Ao-2014?x=0&y=0&page_number=12&sort=id&direction=asc',\n",
       " 'http://www.gobiernotransparentechile.cl/directorio/entidad/12/167/per_planta/A%C3%B1o%202010/Abril',\n",
       " 'http://www.gobiernotransparentechile.cl/directorio/entidad/2/345/per_planta/2012/Octubre',\n",
       " 'http://www.gobiernotransparentechile.cl/directorio/entidad/12/171/per_contrata/A%C3%B1o%202016/Abril?x=0&y=0&page_number=24&sort=id&direction=asc',\n",
       " 'http://www.gobiernotransparentechile.cl/directorio/entidad/19/271/per_contrata/A%C3%B1o%202015/A%C3%B1o%202015%20-%20Marzo?x=0&y=0&page_number=4&sort=id&direction=asc',\n",
       " 'http://www.gobiernotransparentechile.cl/directorio/entidad/12/169/per_contrata/Ao-2016?x=0&y=0&page_number=11&sort=id&direction=asc',\n",
       " 'http://www.gobiernotransparentechile.cl/directorio/entidad/13/179/per_contrata/A%EF%BF%BDo%202010/Julio',\n",
       " 'http://www.gobiernotransparentechile.cl/directorio/entidad/12/171/per_contrata/A%C3%B1o%202016/Enero?x=0&y=0&page_number=9&sort=id&direction=asc',\n",
       " 'http://www.gobiernotransparentechile.cl/directorio/entidad/12/173/per_contrata/A%EF%BF%BDo%202014/Abril?x=0&y=0&page_number=2&sort=id&direction=asc',\n",
       " 'http://www.gobiernotransparentechile.cl/directorio/entidad/2/9/per_planta/2013/Marzo',\n",
       " 'http://www.gobiernotransparentechile.cl/directorio/entidad/12/167/per_contrata/A%C3%B1o%202015/Mayo?x=0&y=0&page_number=2&sort=id&direction=asc',\n",
       " 'http://www.gobiernotransparentechile.cl/directorio/entidad/8/131/per_contrata/Ao-2008',\n",
       " 'http://www.gobiernotransparentechile.cl/directorio/entidad/2/2/per_contrata/2015/Diciembre?x=0&y=0&page_number=2&sort=id&direction=asc',\n",
       " 'http://www.gobiernotransparentechile.cl/directorio/entidad/13/179/per_contrata/A%EF%BF%BDo%202016/Octubre?x=0&y=0&page_number=2&sort=id&direction=asc',\n",
       " 'http://www.gobiernotransparentechile.cl/directorio/entidad/19/271/per_planta/A%C3%B1o%202016/A%C3%B1o%202016%20-%20Diciembre',\n",
       " 'http://www.gobiernotransparentechile.cl/directorio/entidad/19/271/per_contrata/A%C3%B1o%202012/A%C3%B1o%202012%20-%20Enero?x=0&y=0&page_number=4&sort=id&direction=asc',\n",
       " 'http://www.gobiernotransparentechile.cl/directorio/entidad/2/11/per_planta/2014/Agosto',\n",
       " 'http://www.gobiernotransparentechile.cl/directorio/entidad/3/90/per_planta/Ao-2009?x=0&y=0&page_number=9&sort=id&direction=asc',\n",
       " 'http://www.gobiernotransparentechile.cl/directorio/entidad/9/141/per_contrata/A%C3%B1o%202011/Octubre?x=0&y=0&page_number=6&sort=id&direction=asc',\n",
       " 'http://www.gobiernotransparentechile.cl/directorio/entidad/12/169/per_planta/Ao-2010?x=0&y=0&page_number=7&sort=id&direction=asc',\n",
       " 'http://www.gobiernotransparentechile.cl/directorio/entidad/13/179/per_contrata/A%EF%BF%BDo%202013/Septiembre',\n",
       " 'http://www.gobiernotransparentechile.cl/directorio/entidad/19/271/per_contrata/A%C3%B1o%202016/A%C3%B1o%202016%20-%20Febrero?x=0&y=0&page_number=5&sort=id&direction=asc',\n",
       " 'http://www.gobiernotransparentechile.cl/directorio/entidad/2/2/per_planta/2014/Marzo?x=0&y=0&page_number=2&sort=id&direction=asc',\n",
       " 'http://www.gobiernotransparentechile.cl/directorio/entidad/2/2/per_planta/2016/Octubre',\n",
       " 'http://www.gobiernotransparentechile.cl/directorio/entidad/12/173/per_contrata/A%EF%BF%BDo%202014/Mayo?x=0&y=0&page_number=3&sort=id&direction=asc',\n",
       " 'http://www.gobiernotransparentechile.cl/directorio/entidad/19/271/per_planta/A%C3%B1o%202011/A%C3%B1o%202011%20-%20Noviembre',\n",
       " 'http://www.gobiernotransparentechile.cl/directorio/entidad/13/179/per_contrata/A%EF%BF%BDo%202014/Septiembre',\n",
       " 'http://www.gobiernotransparentechile.cl/directorio/entidad/2/2/per_planta/2009/Noviembre?x=0&y=0&page_number=4&sort=id&direction=asc',\n",
       " 'http://www.gobiernotransparentechile.cl/directorio/entidad/2/2/per_planta/2012/Junio?x=0&y=0&page_number=2&sort=id&direction=asc',\n",
       " 'http://www.gobiernotransparentechile.cl/directorio/entidad/19/271/per_contrata/A%C3%B1o%202016/A%C3%B1o%202016%20-%20Diciembre?x=0&y=0&page_number=7&sort=id&direction=asc',\n",
       " 'http://www.gobiernotransparentechile.cl/directorio/entidad/19/271/per_contrata/A%C3%B1o%202014/A%C3%B1o%202014%20-%20Octubre?x=0&y=0&page_number=6&sort=id&direction=asc',\n",
       " 'http://www.gobiernotransparentechile.cl/directorio/entidad/12/175/per_planta/Ao-2006',\n",
       " 'http://www.gobiernotransparentechile.cl/directorio/entidad/12/170/per_contrata/Ao-2010?x=0&y=0&page_number=3&sort=id&direction=asc',\n",
       " 'http://www.gobiernotransparentechile.cl/directorio/entidad/12/173/per_contrata/A%EF%BF%BDo%202016/Noviembre?x=0&y=0&page_number=6&sort=id&direction=asc',\n",
       " 'http://www.gobiernotransparentechile.cl/directorio/entidad/10/146/per_contrata/Ao-2008?x=0&y=0&page_number=13&sort=id&direction=asc',\n",
       " 'http://www.gobiernotransparentechile.cl/directorio/entidad/12/173/per_contrata/A%EF%BF%BDo%202016/Julio?x=0&y=0&page_number=2&sort=id&direction=asc',\n",
       " 'http://www.gobiernotransparentechile.cl/directorio/entidad/12/171/per_contrata/A%C3%B1o%202016/Mayo?x=0&y=0&page_number=5&sort=id&direction=asc',\n",
       " 'http://www.gobiernotransparentechile.cl/directorio/entidad/21/273/per_planta/Hist%C3%B3rico/A%C3%B1o%202013',\n",
       " 'http://www.gobiernotransparentechile.cl/directorio/entidad/10/146/per_contrata/Ao-2009?x=0&y=0&page_number=5&sort=id&direction=asc',\n",
       " 'http://www.gobiernotransparentechile.cl/directorio/entidad/21/273/per_contrata/Hist%EF%BF%BDrico/A%C3%B1o%202014',\n",
       " 'http://www.gobiernotransparentechile.cl/directorio/entidad/12/167/per_planta/A%C3%B1o%202013/Enero',\n",
       " 'http://www.gobiernotransparentechile.cl/directorio/entidad/19/271/per_contrata/A%C3%B1o%202012/A%C3%B1o%202012%20-%20Septiembre?x=0&y=0&page_number=2&sort=id&direction=asc',\n",
       " 'http://www.gobiernotransparentechile.cl/directorio/entidad/2/11/per_planta/2011/Marzo',\n",
       " 'http://www.gobiernotransparentechile.cl/directorio/entidad/13/177/per_planta/A%EF%BF%BDo%202015/Enero',\n",
       " 'http://www.gobiernotransparentechile.cl/directorio/entidad/15/197/per_contrata/Ao-2011',\n",
       " 'http://www.gobiernotransparentechile.cl/directorio/entidad/3/90/per_contrata/Ao-2009?x=0&y=0&page_number=4&sort=id&direction=asc',\n",
       " 'http://www.gobiernotransparentechile.cl/directorio/entidad/19/271/per_contrata/A%C3%B1o%202016/A%C3%B1o%202016%20-%20Diciembre?x=0&y=0&page_number=5&sort=id&direction=asc',\n",
       " 'http://www.gobiernotransparentechile.cl/directorio/entidad/11/156/per_contrata/Ao-2006?x=0&y=0&page_number=2&sort=id&direction=asc',\n",
       " 'http://www.gobiernotransparentechile.cl/directorio/entidad/12/171/per_contrata/A%C3%B1o%202016/Mayo?x=0&y=0&page_number=10&sort=id&direction=asc',\n",
       " 'http://www.gobiernotransparentechile.cl/directorio/entidad/12/173/per_contrata/A%EF%BF%BDo%202013/Junio?x=0&y=0&page_number=4&sort=id&direction=asc',\n",
       " 'http://www.gobiernotransparentechile.cl/directorio/entidad/2/5/per_contrata/A%C3%B1o%202016/Mayo?x=0&y=0&page_number=2&sort=id&direction=asc',\n",
       " 'http://www.gobiernotransparentechile.cl/directorio/entidad/12/169/per_contrata/Ao-2015?x=0&y=0&page_number=16&sort=id&direction=asc',\n",
       " 'http://www.gobiernotransparentechile.cl/directorio/entidad/12/169/per_contrata/Ao-2009?x=0&y=0&page_number=14&sort=id&direction=asc',\n",
       " 'http://www.gobiernotransparentechile.cl/directorio/entidad/21/279/per_contrata/Ao-2013',\n",
       " 'http://www.gobiernotransparentechile.cl/directorio/entidad/12/170/per_planta/-Septiembre',\n",
       " 'http://www.gobiernotransparentechile.cl/directorio/entidad/9/348/per_contrata/A%C3%B1o%202015/Febrero?x=0&y=0&page_number=4&sort=id&direction=asc',\n",
       " 'http://www.gobiernotransparentechile.cl/directorio/entidad/2/2/per_contrata/2011/Abril?x=0&y=0&page_number=4&sort=id&direction=asc',\n",
       " 'http://www.gobiernotransparentechile.cl/directorio/entidad/12/173/per_contrata/A%EF%BF%BDo%202014/Enero?x=0&y=0&page_number=3&sort=id&direction=asc',\n",
       " 'http://www.gobiernotransparentechile.cl/directorio/entidad/19/271/per_planta/A%C3%B1o%202012/A%C3%B1o%202012%20-%20Enero',\n",
       " 'http://www.gobiernotransparentechile.cl/directorio/entidad/11/159/per_contrata/SEPTIEMBRE?x=0&y=0&page_number=32&sort=id&direction=asc',\n",
       " 'http://www.gobiernotransparentechile.cl/directorio/entidad/13/179/per_contrata/A%EF%BF%BDo%202010/Diciembre?x=0&y=0&page_number=2&sort=id&direction=asc',\n",
       " 'http://www.gobiernotransparentechile.cl/directorio/entidad/21/279/per_planta/Ao-2014',\n",
       " 'http://www.gobiernotransparentechile.cl/directorio/entidad/12/167/per_contrata/A%C3%B1o%202016/Abril',\n",
       " 'http://www.gobiernotransparentechile.cl/directorio/entidad/19/271/per_contrata/A%C3%B1o%202014/A%C3%B1o%202014%20-%20Febrero?x=0&y=0&page_number=4&sort=id&direction=asc',\n",
       " 'http://www.gobiernotransparentechile.cl/directorio/entidad/4/285/per_contrata/2015/Junio',\n",
       " 'http://www.gobiernotransparentechile.cl/directorio/entidad/12/167/per_contrata/A%C3%B1o%202009%20%28Abril-Diciembre%29/Julio',\n",
       " 'http://www.gobiernotransparentechile.cl/directorio/entidad/2/8/per_contrata/2013/Abril',\n",
       " 'http://www.gobiernotransparentechile.cl/directorio/entidad/11/159/per_contrata/OCTUBRE?x=0&y=0&page_number=32&sort=id&direction=asc',\n",
       " 'http://www.gobiernotransparentechile.cl/directorio/entidad/2/8/per_planta/2013/Agosto',\n",
       " 'http://www.gobiernotransparentechile.cl/directorio/entidad/19/271/per_contrata/A%C3%B1o%202016/A%C3%B1o%202016%20-%20Julio?x=0&y=0&page_number=4&sort=id&direction=asc',\n",
       " 'http://www.gobiernotransparentechile.cl/directorio/entidad/12/169/per_contrata/Ao-2011?x=0&y=0&page_number=15&sort=id&direction=asc',\n",
       " 'http://www.gobiernotransparentechile.cl/directorio/entidad/12/171/per_contrata/A%C3%B1o%202016/Septiembre?x=0&y=0&page_number=11&sort=id&direction=asc',\n",
       " 'http://www.gobiernotransparentechile.cl/directorio/entidad/2/2/per_contrata/2013/Agosto?x=0&y=0&page_number=5&sort=id&direction=asc',\n",
       " 'http://www.gobiernotransparentechile.cl/directorio/entidad/11/159/per_contrata/Ao-2008?x=0&y=0&page_number=28&sort=id&direction=asc',\n",
       " 'http://www.gobiernotransparentechile.cl/directorio/entidad/13/177/per_planta/A%EF%BF%BDo%202016/Septiembre',\n",
       " 'http://www.gobiernotransparentechile.cl/directorio/entidad/2/9/per_planta/2014/Agosto',\n",
       " 'http://www.gobiernotransparentechile.cl/directorio/entidad/12/171/per_planta/A%C3%B1o%202016/Junio?x=0&y=0&page_number=2&sort=id&direction=asc',\n",
       " 'http://www.gobiernotransparentechile.cl/directorio/entidad/2/9/per_contrata/2013/Mayo',\n",
       " 'http://www.gobiernotransparentechile.cl/directorio/entidad/19/271/per_contrata/A%C3%B1o%202015/A%C3%B1o%202015%20-%20Enero?x=0&y=0&page_number=2&sort=id&direction=asc',\n",
       " 'http://www.gobiernotransparentechile.cl/directorio/entidad/10/146/per_planta/Ao-2006?x=0&y=0&page_number=4&sort=id&direction=asc',\n",
       " 'http://www.gobiernotransparentechile.cl/directorio/entidad/10/146/per_contrata/Ao-2014?x=0&y=0&page_number=86&sort=id&direction=asc',\n",
       " 'http://www.gobiernotransparentechile.cl/directorio/entidad/12/169/per_planta/Ao-2011?x=0&y=0&page_number=2&sort=id&direction=asc',\n",
       " 'http://www.gobiernotransparentechile.cl/directorio/entidad/12/167/per_contrata/A%C3%B1o%202014/Noviembre?x=0&y=0&page_number=2&sort=id&direction=asc',\n",
       " 'http://www.gobiernotransparentechile.cl/directorio/entidad/2/2/per_contrata/2011/Enero?x=0&y=0&page_number=4&sort=id&direction=asc',\n",
       " 'http://www.gobiernotransparentechile.cl/directorio/entidad/13/179/per_planta/A%EF%BF%BDo%202013/Diciembre',\n",
       " 'http://www.gobiernotransparentechile.cl/directorio/entidad/12/169/per_planta/Ao-2006?x=0&y=0&page_number=9&sort=id&direction=asc',\n",
       " 'http://www.gobiernotransparentechile.cl/directorio/entidad/12/171/per_contrata/A%C3%B1o%202016/Octubre?x=0&y=0&page_number=5&sort=id&direction=asc',\n",
       " 'http://www.gobiernotransparentechile.cl/directorio/entidad/2/8/per_planta/2012/Febrero',\n",
       " 'http://www.gobiernotransparentechile.cl/directorio/entidad/2/2/per_planta/2014/Agosto?x=0&y=0&page_number=4&sort=id&direction=asc',\n",
       " 'http://www.gobiernotransparentechile.cl/directorio/entidad/19/271/per_contrata/A%C3%B1o%202016/A%C3%B1o%202016%20-%20Julio?x=0&y=0&page_number=5&sort=id&direction=asc',\n",
       " 'http://www.gobiernotransparentechile.cl/directorio/entidad/2/2/per_contrata/2013/Marzo',\n",
       " 'http://www.gobiernotransparentechile.cl/directorio/entidad/8/138/per_contrata/A%C3%B1o%202008/Octubre?x=0&y=0&page_number=3&sort=id&direction=asc',\n",
       " 'http://www.gobiernotransparentechile.cl/directorio/entidad/9/348/per_contrata/A%C3%B1o%202014/Abril?x=0&y=0&page_number=5&sort=id&direction=asc',\n",
       " 'http://www.gobiernotransparentechile.cl/directorio/entidad/15/197/per_contrata/Ao-2007?x=0&y=0&page_number=2&sort=id&direction=asc',\n",
       " 'http://www.gobiernotransparentechile.cl/directorio/entidad/12/167/per_planta/A%C3%B1o%202010/Mayo',\n",
       " 'http://www.gobiernotransparentechile.cl/directorio/entidad/2/10/per_planta/2011/Junio',\n",
       " 'http://www.gobiernotransparentechile.cl/directorio/entidad/12/167/per_planta/A%C3%B1o%202015/Abril',\n",
       " 'http://www.gobiernotransparentechile.cl/directorio/entidad/8/138/per_planta/A%C3%B1o%202008/Marzo',\n",
       " 'http://www.gobiernotransparentechile.cl/directorio/entidad/10/146/per_contrata/Ao-2007?x=0&y=0&page_number=15&sort=id&direction=asc',\n",
       " 'http://www.gobiernotransparentechile.cl/directorio/entidad/13/179/per_contrata/A%EF%BF%BDo%202009/Enero-Marzo',\n",
       " 'http://www.gobiernotransparentechile.cl/directorio/entidad/2/2/per_contrata/2015/Diciembre?x=0&y=0&page_number=3&sort=id&direction=asc',\n",
       " 'http://www.gobiernotransparentechile.cl/directorio/entidad/12/167/per_planta/A%C3%B1o%202014/Marzo',\n",
       " 'http://www.gobiernotransparentechile.cl/directorio/entidad/12/171/per_contrata/A%C3%B1o%202016/Mayo',\n",
       " 'http://www.gobiernotransparentechile.cl/directorio/entidad/9/142/per_contrata/Ao-2008?x=0&y=0&page_number=2&sort=id&direction=asc',\n",
       " 'http://www.gobiernotransparentechile.cl/directorio/entidad/3/94/per_contrata/Ao-2009',\n",
       " 'http://www.gobiernotransparentechile.cl/directorio/entidad/2/5/per_planta/A%C3%B1o%202016/Agosto',\n",
       " 'http://www.gobiernotransparentechile.cl/directorio/entidad/2/8/per_planta/2012/Mayo',\n",
       " 'http://www.gobiernotransparentechile.cl/directorio/entidad/12/169/per_planta/Ao-2015?x=0&y=0&page_number=7&sort=id&direction=asc',\n",
       " 'http://www.gobiernotransparentechile.cl/directorio/entidad/2/10/per_planta/2012/Octubre',\n",
       " 'http://www.gobiernotransparentechile.cl/directorio/entidad/19/271/per_planta/A%C3%B1o%202014/A%C3%B1o%202014%20-%20Abril',\n",
       " 'http://www.gobiernotransparentechile.cl/directorio/entidad/9/348/per_contrata/A%C3%B1o%202012/Octubre?x=0&y=0&page_number=4&sort=id&direction=asc',\n",
       " 'http://www.gobiernotransparentechile.cl/directorio/entidad/11/156/per_contrata/Ao-2008?x=0&y=0&page_number=3&sort=id&direction=asc',\n",
       " 'http://www.gobiernotransparentechile.cl/directorio/entidad/12/169/per_contrata/Ao-2008?x=0&y=0&page_number=13&sort=id&direction=asc',\n",
       " 'http://www.gobiernotransparentechile.cl/directorio/entidad/12/170/per_contrata/-Abril?x=0&y=0&page_number=3&sort=id&direction=asc',\n",
       " 'http://www.gobiernotransparentechile.cl/directorio/entidad/3/94/per_planta/Ao-2007',\n",
       " 'http://www.gobiernotransparentechile.cl/directorio/entidad/12/167/per_planta/A%C3%B1o%202016/Marzo',\n",
       " 'http://www.gobiernotransparentechile.cl/directorio/entidad/19/271/per_contrata/A%C3%B1o%202013/A%C3%B1o%202013%20-%20Febrero',\n",
       " 'http://www.gobiernotransparentechile.cl/directorio/entidad/12/171/per_contrata/A%C3%B1o%202016/Marzo?x=0&y=0&page_number=12&sort=id&direction=asc',\n",
       " 'http://www.gobiernotransparentechile.cl/directorio/entidad/12/171/per_contrata/A%C3%B1o%202016/Junio?x=0&y=0&page_number=8&sort=id&direction=asc',\n",
       " 'http://www.gobiernotransparentechile.cl/directorio/entidad/11/159/per_contrata/Ao-2008?x=0&y=0&page_number=18&sort=id&direction=asc',\n",
       " 'http://www.gobiernotransparentechile.cl/directorio/entidad/19/271/per_contrata/A%C3%B1o%202012/A%C3%B1o%202012%20-%20Junio?x=0&y=0&page_number=5&sort=id&direction=asc',\n",
       " 'http://www.gobiernotransparentechile.cl/directorio/entidad/12/167/per_contrata/Ao-2007',\n",
       " 'http://www.gobiernotransparentechile.cl/directorio/entidad/12/171/per_contrata/A%C3%B1o%202016/Julio',\n",
       " 'http://www.gobiernotransparentechile.cl/directorio/entidad/21/135/per_contrata/Ao-2015',\n",
       " 'http://www.gobiernotransparentechile.cl/directorio/entidad/10/146/per_planta/Ao-2008',\n",
       " 'http://www.gobiernotransparentechile.cl/directorio/entidad/2/2/per_contrata/2013/Enero?x=0&y=0&page_number=4&sort=id&direction=asc',\n",
       " 'http://www.gobiernotransparentechile.cl/directorio/entidad/2/10/per_planta/2011/Diciembre',\n",
       " 'http://www.gobiernotransparentechile.cl/directorio/entidad/11/156/per_contrata/Ao-2016',\n",
       " 'http://www.gobiernotransparentechile.cl/directorio/entidad/19/271/per_contrata/A%C3%B1o%202014/A%C3%B1o%202014%20-%20Octubre?x=0&y=0&page_number=2&sort=id&direction=asc',\n",
       " 'http://www.gobiernotransparentechile.cl/directorio/entidad/12/171/per_contrata/A%C3%B1o%202016/Septiembre',\n",
       " 'http://www.gobiernotransparentechile.cl/directorio/entidad/12/169/per_contrata/Ao-2016?x=0&y=0&page_number=4&sort=id&direction=asc',\n",
       " 'http://www.gobiernotransparentechile.cl/directorio/entidad/2/2/per_contrata/2015/Julio?x=0&y=0&page_number=4&sort=id&direction=asc',\n",
       " 'http://www.gobiernotransparentechile.cl/directorio/entidad/2/2/per_contrata/2015/Octubre?x=0&y=0&page_number=2&sort=id&direction=asc',\n",
       " 'http://www.gobiernotransparentechile.cl/directorio/entidad/19/271/per_planta/A%C3%B1o%202011/A%C3%B1o%202011%20-%20Diciembre',\n",
       " 'http://www.gobiernotransparentechile.cl/directorio/entidad/8/138/per_contrata/A%C3%B1o%202007/Julio?x=0&y=0&page_number=2&sort=id&direction=asc',\n",
       " 'http://www.gobiernotransparentechile.cl/directorio/entidad/25/351/per_planta/A%C3%B1o%202016/Agosto',\n",
       " 'http://www.gobiernotransparentechile.cl/directorio/entidad/2/11/per_planta/2010/Julio',\n",
       " 'http://www.gobiernotransparentechile.cl/directorio/entidad/2/2/per_contrata/2013/Julio?x=0&y=0&page_number=2&sort=id&direction=asc',\n",
       " 'http://www.gobiernotransparentechile.cl/directorio/entidad/9/348/per_contrata/A%C3%B1o%202013/Octubre?x=0&y=0&page_number=6&sort=id&direction=asc',\n",
       " 'http://www.gobiernotransparentechile.cl/directorio/entidad/12/171/per_planta/A%C3%B1o%202016/Noviembre',\n",
       " 'http://www.gobiernotransparentechile.cl/directorio/entidad/12/173/per_contrata/A%EF%BF%BDo%202014/Junio?x=0&y=0&page_number=3&sort=id&direction=asc',\n",
       " 'http://www.gobiernotransparentechile.cl/directorio/entidad/12/173/per_contrata/A%EF%BF%BDo%202012/Marzo?x=0&y=0&page_number=5&sort=id&direction=asc',\n",
       " 'http://www.gobiernotransparentechile.cl/directorio/entidad/13/179/per_planta/A%EF%BF%BDo%202012/Septiembre',\n",
       " 'http://www.gobiernotransparentechile.cl/directorio/entidad/2/9/per_contrata/2014/Marzo',\n",
       " 'http://www.gobiernotransparentechile.cl/directorio/entidad/19/271/per_contrata/A%C3%B1o%202013/A%C3%B1o%202013%20-%20Marzo?x=0&y=0&page_number=6&sort=id&direction=asc',\n",
       " 'http://www.gobiernotransparentechile.cl/directorio/entidad/14/190/per_contrata/Ao-2013?x=0&y=0&page_number=3&sort=id&direction=asc',\n",
       " 'http://www.gobiernotransparentechile.cl/directorio/entidad/13/179/per_planta/A%EF%BF%BDo%202015/Agosto',\n",
       " 'http://www.gobiernotransparentechile.cl/directorio/entidad/10/146/per_planta/Ao-2008?x=0&y=0&page_number=10&sort=id&direction=asc',\n",
       " 'http://www.gobiernotransparentechile.cl/directorio/entidad/8/138/per_contrata/A%C3%B1o%202008/Enero?x=0&y=0&page_number=2&sort=id&direction=asc',\n",
       " 'http://www.gobiernotransparentechile.cl/directorio/entidad/11/156/per_planta/Ao-2008',\n",
       " 'http://www.gobiernotransparentechile.cl/directorio/entidad/12/173/per_contrata/A%EF%BF%BDo%202012/Enero?x=0&y=0&page_number=2&sort=id&direction=asc',\n",
       " 'http://www.gobiernotransparentechile.cl/directorio/entidad/12/171/per_contrata/A%C3%B1o%202016/Febrero?x=0&y=0&page_number=8&sort=id&direction=asc',\n",
       " 'http://www.gobiernotransparentechile.cl/directorio/entidad/8/131/per_planta/Ao-2012',\n",
       " 'http://www.gobiernotransparentechile.cl/directorio/entidad/19/271/per_planta/A%C3%B1o%202011/A%C3%B1o%202011%20-%20Octubre',\n",
       " 'http://www.gobiernotransparentechile.cl/directorio/entidad/9/127/per_planta/A%C3%B1o%202011/Diciembre',\n",
       " 'http://www.gobiernotransparentechile.cl/directorio/entidad/12/173/per_contrata/A%EF%BF%BDo%202016/Octubre?x=0&y=0&page_number=4&sort=id&direction=asc',\n",
       " 'http://www.gobiernotransparentechile.cl/directorio/entidad/19/271/per_planta/A%C3%B1o%202013/A%C3%B1o%202013%20-%20Julio',\n",
       " 'http://www.gobiernotransparentechile.cl/directorio/entidad/19/271/per_contrata/A%C3%B1o%202012/A%C3%B1o%202012%20-%20Septiembre?x=0&y=0&page_number=5&sort=id&direction=asc',\n",
       " 'http://www.gobiernotransparentechile.cl/directorio/entidad/12/173/per_contrata/A%EF%BF%BDo%202016/Septiembre?x=0&y=0&page_number=4&sort=id&direction=asc',\n",
       " 'http://www.gobiernotransparentechile.cl/directorio/entidad/13/177/per_planta/A%EF%BF%BDo%202013/A%C3%B1o%202013%20Febrero',\n",
       " 'http://www.gobiernotransparentechile.cl/directorio/entidad/2/2/per_contrata/2013/Abril?x=0&y=0&page_number=4&sort=id&direction=asc',\n",
       " 'http://www.gobiernotransparentechile.cl/directorio/entidad/11/156/per_contrata/Ao-2006',\n",
       " 'http://www.gobiernotransparentechile.cl/directorio/entidad/8/139/per_contrata/A%C3%B1o%202015/Julio?x=0&y=0&page_number=4&sort=id&direction=asc',\n",
       " 'http://www.gobiernotransparentechile.cl/directorio/entidad/12/167/per_contrata/A%C3%B1o%202014/Febrero',\n",
       " 'http://www.gobiernotransparentechile.cl/directorio/entidad/12/168/per_planta/Ao-2010-Programa-01',\n",
       " 'http://www.gobiernotransparentechile.cl/directorio/entidad/13/179/per_contrata/A%EF%BF%BDo%202012/Abril',\n",
       " 'http://www.gobiernotransparentechile.cl/directorio/entidad/2/2/per_planta/2010/Octubre?x=0&y=0&page_number=2&sort=id&direction=asc',\n",
       " 'http://www.gobiernotransparentechile.cl/directorio/entidad/10/146/per_contrata/Ao-2008?x=0&y=0&page_number=4&sort=id&direction=asc',\n",
       " 'http://www.gobiernotransparentechile.cl/directorio/entidad/2/9/per_planta/2013/Mayo',\n",
       " 'http://www.gobiernotransparentechile.cl/directorio/entidad/13/177/per_planta/A%EF%BF%BDo%202016/Diciembre',\n",
       " 'http://www.gobiernotransparentechile.cl/directorio/entidad/19/271/per_contrata/A%C3%B1o%202014/A%C3%B1o%202014%20-%20Octubre?x=0&y=0&page_number=3&sort=id&direction=asc',\n",
       " 'http://www.gobiernotransparentechile.cl/directorio/entidad/25/351/per_contrata/A%C3%B1o%202016/Junio',\n",
       " 'http://www.gobiernotransparentechile.cl/directorio/entidad/12/171/per_planta/Ao-2015?x=0&y=0&page_number=2&sort=id&direction=asc',\n",
       " 'http://www.gobiernotransparentechile.cl/directorio/entidad/13/177/per_planta/A%EF%BF%BDo%202014/A%C3%B1o%202014%20Junio',\n",
       " 'http://www.gobiernotransparentechile.cl/directorio/entidad/8/136/per_contrata/Ao-2012?x=0&y=0&page_number=3&sort=id&direction=asc',\n",
       " 'http://www.gobiernotransparentechile.cl/directorio/entidad/13/179/per_contrata/A%EF%BF%BDo%202012/Septiembre',\n",
       " 'http://www.gobiernotransparentechile.cl/directorio/entidad/12/171/per_contrata/A%C3%B1o%202016/Febrero?x=0&y=0&page_number=15&sort=id&direction=asc',\n",
       " 'http://www.gobiernotransparentechile.cl/directorio/entidad/19/271/per_contrata/A%C3%B1o%202012/A%C3%B1o%202012%20-%20Mayo?x=0&y=0&page_number=3&sort=id&direction=asc',\n",
       " 'http://www.gobiernotransparentechile.cl/directorio/entidad/2/5/per_planta/A%C3%B1o%202016/Octubre',\n",
       " 'http://www.gobiernotransparentechile.cl/directorio/entidad/12/171/per_contrata/A%C3%B1o%202016/Abril?x=0&y=0&page_number=7&sort=id&direction=asc',\n",
       " 'http://www.gobiernotransparentechile.cl/directorio/entidad/9/348/per_contrata/A%C3%B1o%202012/Octubre?x=0&y=0&page_number=5&sort=id&direction=asc',\n",
       " 'http://www.gobiernotransparentechile.cl/directorio/entidad/19/271/per_contrata/A%C3%B1o%202014/A%C3%B1o%202014%20-%20Septiembre?x=0&y=0&page_number=2&sort=id&direction=asc',\n",
       " 'http://www.gobiernotransparentechile.cl/directorio/entidad/2/11/per_planta/2011/Diciembre',\n",
       " 'http://www.gobiernotransparentechile.cl/directorio/entidad/13/179/per_contrata/A%EF%BF%BDo%202011/Noviembre?x=0&y=0&page_number=2&sort=id&direction=asc',\n",
       " 'http://www.gobiernotransparentechile.cl/directorio/entidad/19/271/per_contrata/A%C3%B1o%202012/A%C3%B1o%202012%20-%20Noviembre',\n",
       " 'http://www.gobiernotransparentechile.cl/directorio/entidad/12/173/per_contrata/A%EF%BF%BDo%202015/Agosto',\n",
       " 'http://www.gobiernotransparentechile.cl/directorio/entidad/2/2/per_planta/2014/Junio?x=0&y=0&page_number=4&sort=id&direction=asc',\n",
       " 'http://www.gobiernotransparentechile.cl/directorio/entidad/12/168/per_planta/Ao-2016-Programa-01',\n",
       " 'http://www.gobiernotransparentechile.cl/directorio/entidad/2/11/per_planta/2012/Noviembre',\n",
       " 'http://www.gobiernotransparentechile.cl/directorio/entidad/13/179/per_contrata/A%EF%BF%BDo%202015/Junio',\n",
       " 'http://www.gobiernotransparentechile.cl/directorio/entidad/12/171/per_planta/Ao-2008?x=0&y=0&page_number=4&sort=id&direction=asc',\n",
       " 'http://www.gobiernotransparentechile.cl/directorio/entidad/12/173/per_contrata/A%EF%BF%BDo%202013/Abril?x=0&y=0&page_number=4&sort=id&direction=asc',\n",
       " 'http://www.gobiernotransparentechile.cl/directorio/entidad/8/136/per_contrata/Ao-2008',\n",
       " 'http://www.gobiernotransparentechile.cl/directorio/entidad/3/94/per_contrata/Ao-2013',\n",
       " 'http://www.gobiernotransparentechile.cl/directorio/entidad/2/8/per_planta/2013/Abril',\n",
       " 'http://www.gobiernotransparentechile.cl/directorio/entidad/13/179/per_planta/A%EF%BF%BDo%202016/Junio',\n",
       " 'http://www.gobiernotransparentechile.cl/directorio/entidad/19/271/per_contrata/A%C3%B1o%202015/A%C3%B1o%202015%20-%20Septiembre?x=0&y=0&page_number=5&sort=id&direction=asc',\n",
       " 'http://www.gobiernotransparentechile.cl/directorio/entidad/12/173/per_contrata/A%EF%BF%BDo%202015/Junio?x=0&y=0&page_number=3&sort=id&direction=asc',\n",
       " 'http://www.gobiernotransparentechile.cl/directorio/entidad/15/197/per_contrata/Ao-2011?x=0&y=0&page_number=3&sort=id&direction=asc',\n",
       " 'http://www.gobiernotransparentechile.cl/directorio/entidad/12/169/per_planta/Ao-2006?x=0&y=0&page_number=12&sort=id&direction=asc',\n",
       " 'http://www.gobiernotransparentechile.cl/directorio/entidad/8/138/per_contrata/A%C3%B1o%202008/Agosto?x=0&y=0&page_number=2&sort=id&direction=asc',\n",
       " 'http://www.gobiernotransparentechile.cl/directorio/entidad/19/271/per_planta/A%C3%B1o%202013/A%C3%B1o%202013%20-%20Octubre',\n",
       " 'http://www.gobiernotransparentechile.cl/directorio/entidad/10/146/per_planta/Ao-2009?x=0&y=0&page_number=5&sort=id&direction=asc',\n",
       " 'http://www.gobiernotransparentechile.cl/directorio/entidad/2/9/per_planta/2010/Septiembre',\n",
       " 'http://www.gobiernotransparentechile.cl/directorio/entidad/10/146/per_contrata/Ao-2007?x=0&y=0&page_number=7&sort=id&direction=asc',\n",
       " 'http://www.gobiernotransparentechile.cl/directorio/entidad/13/283/per_planta/A%EF%BF%BDo%202015/Diciembre',\n",
       " 'http://www.gobiernotransparentechile.cl/directorio/entidad/12/170/per_contrata/-Abril?x=0&y=0&page_number=4&sort=id&direction=asc',\n",
       " 'http://www.gobiernotransparentechile.cl/directorio/entidad/12/171/per_planta/A%C3%B1o%202016/Noviembre?x=0&y=0&page_number=3&sort=id&direction=asc',\n",
       " 'http://www.gobiernotransparentechile.cl/directorio/entidad/12/171/per_contrata/A%C3%B1o%202016/Junio?x=0&y=0&page_number=19&sort=id&direction=asc',\n",
       " 'http://www.gobiernotransparentechile.cl/directorio/entidad/2/2/per_contrata/2013/Febrero?x=0&y=0&page_number=3&sort=id&direction=asc',\n",
       " 'http://www.gobiernotransparentechile.cl/directorio/entidad/12/167/per_planta/A%C3%B1o%202009%20%28Abril-Diciembre%29/Julio',\n",
       " 'http://www.gobiernotransparentechile.cl/directorio/entidad/8/139/per_contrata/A%C3%B1o%202015/Enero?x=0&y=0&page_number=4&sort=id&direction=asc',\n",
       " 'http://www.gobiernotransparentechile.cl/directorio/entidad/12/173/per_contrata/A%EF%BF%BDo%202015/Abril?x=0&y=0&page_number=6&sort=id&direction=asc',\n",
       " 'http://www.gobiernotransparentechile.cl/directorio/entidad/12/169/per_planta/Ao-2016?x=0&y=0&page_number=7&sort=id&direction=asc',\n",
       " 'http://www.gobiernotransparentechile.cl/directorio/entidad/10/146/per_contrata/Ao-2006?x=0&y=0&page_number=7&sort=id&direction=asc',\n",
       " 'http://www.gobiernotransparentechile.cl/directorio/entidad/2/9/per_planta/2014/Abril',\n",
       " 'http://www.gobiernotransparentechile.cl/directorio/entidad/10/146/per_contrata/Ao-2009?x=0&y=0&page_number=25&sort=id&direction=asc',\n",
       " 'http://www.gobiernotransparentechile.cl/directorio/entidad/19/271/per_contrata/A%C3%B1o%202013/A%C3%B1o%202013%20-%20Mayo?x=0&y=0&page_number=3&sort=id&direction=asc',\n",
       " 'http://www.gobiernotransparentechile.cl/directorio/entidad/2/2/per_planta/2010/Noviembre?x=0&y=0&page_number=3&sort=id&direction=asc',\n",
       " 'http://www.gobiernotransparentechile.cl/directorio/entidad/12/173/per_contrata/A%EF%BF%BDo%202013/Enero',\n",
       " 'http://www.gobiernotransparentechile.cl/directorio/entidad/2/10/per_planta/2011/Febrero',\n",
       " 'http://www.gobiernotransparentechile.cl/directorio/entidad/2/2/per_contrata/2015/Enero?x=0&y=0&page_number=3&sort=id&direction=asc',\n",
       " 'http://www.gobiernotransparentechile.cl/directorio/entidad/11/159/per_contrata/Ao-2008?x=0&y=0&page_number=22&sort=id&direction=asc',\n",
       " 'http://www.gobiernotransparentechile.cl/directorio/entidad/10/146/per_planta/Ao-2014?x=0&y=0&page_number=11&sort=id&direction=asc',\n",
       " 'http://www.gobiernotransparentechile.cl/directorio/entidad/19/271/per_contrata/A%C3%B1o%202013/A%C3%B1o%202013%20-%20Junio?x=0&y=0&page_number=6&sort=id&direction=asc',\n",
       " 'http://www.gobiernotransparentechile.cl/directorio/entidad/2/2/per_planta/2014/Julio?x=0&y=0&page_number=2&sort=id&direction=asc',\n",
       " 'http://www.gobiernotransparentechile.cl/directorio/entidad/13/179/per_contrata/A%EF%BF%BDo%202010/Diciembre',\n",
       " 'http://www.gobiernotransparentechile.cl/directorio/entidad/12/167/per_planta/A%C3%B1o%202010/Junio',\n",
       " 'http://www.gobiernotransparentechile.cl/directorio/entidad/2/8/per_contrata/2013/Mayo',\n",
       " 'http://www.gobiernotransparentechile.cl/directorio/entidad/21/273/per_planta/Hist%C3%B3rico/A%C3%B1o%202010',\n",
       " 'http://www.gobiernotransparentechile.cl/directorio/entidad/12/173/per_contrata/A%EF%BF%BDo%202016/Marzo?x=0&y=0&page_number=5&sort=id&direction=asc',\n",
       " 'http://www.gobiernotransparentechile.cl/directorio/entidad/10/146/per_contrata/Ao-2007?x=0&y=0&page_number=16&sort=id&direction=asc',\n",
       " 'http://www.gobiernotransparentechile.cl/directorio/entidad/2/2/per_planta/2014/Septiembre?x=0&y=0&page_number=2&sort=id&direction=asc',\n",
       " 'http://www.gobiernotransparentechile.cl/directorio/entidad/2/5/per_contrata/A%C3%B1o%202016/Junio?x=0&y=0&page_number=4&sort=id&direction=asc',\n",
       " 'http://www.gobiernotransparentechile.cl/directorio/entidad/13/179/per_contrata/A%EF%BF%BDo%202014/Noviembre',\n",
       " 'http://www.gobiernotransparentechile.cl/directorio/entidad/10/146/per_planta/Ao-2006?x=0&y=0&page_number=9&sort=id&direction=asc',\n",
       " 'http://www.gobiernotransparentechile.cl/directorio/entidad/13/179/per_contrata/A%EF%BF%BDo%202013/Julio?x=0&y=0&page_number=2&sort=id&direction=asc',\n",
       " 'http://www.gobiernotransparentechile.cl/directorio/entidad/11/159/per_contrata/Ao-2008?x=0&y=0&page_number=13&sort=id&direction=asc',\n",
       " 'http://www.gobiernotransparentechile.cl/directorio/entidad/12/173/per_contrata/A%EF%BF%BDo%202011/Abril?x=0&y=0&page_number=3&sort=id&direction=asc',\n",
       " 'http://www.gobiernotransparentechile.cl/directorio/entidad/19/271/per_planta/A%C3%B1o%202013/A%C3%B1o%202013%20-%20Mayo',\n",
       " 'http://www.gobiernotransparentechile.cl/directorio/entidad/19/271/per_planta/A%C3%B1o%202012/A%C3%B1o%202012%20-%20Marzo',\n",
       " 'http://www.gobiernotransparentechile.cl/directorio/entidad/19/271/per_contrata/A%C3%B1o%202016/A%C3%B1o%202016%20-%20Julio',\n",
       " 'http://www.gobiernotransparentechile.cl/directorio/entidad/19/271/per_contrata/A%C3%B1o%202013/A%C3%B1o%202013%20-%20Septiembre?x=0&y=0&page_number=4&sort=id&direction=asc',\n",
       " 'http://www.gobiernotransparentechile.cl/directorio/entidad/12/171/per_contrata/A%C3%B1o%202016/Febrero?x=0&y=0&page_number=5&sort=id&direction=asc',\n",
       " 'http://www.gobiernotransparentechile.cl/directorio/entidad/13/283/per_planta/A%EF%BF%BDo%202013/A%C3%B1o%202013%20Mayo',\n",
       " 'http://www.gobiernotransparentechile.cl/directorio/entidad/8/138/per_contrata/A%C3%B1o%202013/Febrero?x=0&y=0&page_number=2&sort=id&direction=asc',\n",
       " 'http://www.gobiernotransparentechile.cl/directorio/entidad/4/285/per_contrata/2015/Abril',\n",
       " 'http://www.gobiernotransparentechile.cl/directorio/entidad/13/179/per_contrata/A%EF%BF%BDo%202011/Abril?x=0&y=0&page_number=2&sort=id&direction=asc',\n",
       " 'http://www.gobiernotransparentechile.cl/directorio/entidad/2/2/per_planta/2014/Marzo?x=0&y=0&page_number=4&sort=id&direction=asc',\n",
       " 'http://www.gobiernotransparentechile.cl/directorio/entidad/19/271/per_contrata/A%C3%B1o%202016/A%C3%B1o%202016%20-%20Febrero?x=0&y=0&page_number=7&sort=id&direction=asc',\n",
       " 'http://www.gobiernotransparentechile.cl/directorio/entidad/12/167/per_contrata/A%C3%B1o%202015/Junio',\n",
       " 'http://www.gobiernotransparentechile.cl/directorio/entidad/2/2/per_contrata/2011/Abril?x=0&y=0&page_number=5&sort=id&direction=asc',\n",
       " 'http://www.gobiernotransparentechile.cl/directorio/entidad/13/179/per_contrata/A%EF%BF%BDo%202011/Abril',\n",
       " 'http://www.gobiernotransparentechile.cl/directorio/entidad/2/10/per_planta/2012/Diciembre',\n",
       " 'http://www.gobiernotransparentechile.cl/directorio/entidad/10/146/per_planta/Ao-2009?x=0&y=0&page_number=2&sort=id&direction=asc',\n",
       " 'http://www.gobiernotransparentechile.cl/directorio/entidad/11/159/per_contrata/Ao-2007?x=0&y=0&page_number=21&sort=id&direction=asc',\n",
       " 'http://www.gobiernotransparentechile.cl/directorio/entidad/2/2/per_planta/2017/Enero',\n",
       " 'http://www.gobiernotransparentechile.cl/directorio/entidad/10/146/per_contrata/Ao-2014?x=0&y=0&page_number=34&sort=id&direction=asc',\n",
       " 'http://www.gobiernotransparentechile.cl/directorio/entidad/3/90/per_planta/Ao-2009?x=0&y=0&page_number=3&sort=id&direction=asc',\n",
       " 'http://www.gobiernotransparentechile.cl/directorio/entidad/13/177/per_planta/A%EF%BF%BDo%202015/Octubre',\n",
       " 'http://www.gobiernotransparentechile.cl/directorio/entidad/12/170/per_contrata/Ao-2010?x=0&y=0&page_number=4&sort=id&direction=asc',\n",
       " 'http://www.gobiernotransparentechile.cl/directorio/entidad/8/136/per_contrata/Ao-2011?x=0&y=0&page_number=3&sort=id&direction=asc',\n",
       " 'http://www.gobiernotransparentechile.cl/directorio/entidad/12/170/per_planta/-Mayo',\n",
       " 'http://www.gobiernotransparentechile.cl/directorio/entidad/2/10/per_planta/2011/Enero',\n",
       " 'http://www.gobiernotransparentechile.cl/directorio/entidad/2/5/per_planta/A%C3%B1o%202016/Abril',\n",
       " 'http://www.gobiernotransparentechile.cl/directorio/entidad/12/173/per_contrata/A%EF%BF%BDo%202015/Febrero',\n",
       " 'http://www.gobiernotransparentechile.cl/directorio/entidad/9/348/per_contrata/A%C3%B1o%202014/Noviembre?x=0&y=0&page_number=5&sort=id&direction=asc',\n",
       " 'http://www.gobiernotransparentechile.cl/directorio/entidad/2/10/per_planta/2011/Abril',\n",
       " 'http://www.gobiernotransparentechile.cl/directorio/entidad/19/271/per_contrata/A%C3%B1o%202016/A%C3%B1o%202016%20-%20Enero?x=0&y=0&page_number=5&sort=id&direction=asc',\n",
       " 'http://www.gobiernotransparentechile.cl/directorio/entidad/19/271/per_contrata/A%C3%B1o%202011/A%C3%B1o%202011%20-%20Julio?x=0&y=0&page_number=4&sort=id&direction=asc',\n",
       " 'http://www.gobiernotransparentechile.cl/directorio/entidad/10/146/per_contrata/Ao-2006?x=0&y=0&page_number=3&sort=id&direction=asc',\n",
       " 'http://www.gobiernotransparentechile.cl/directorio/entidad/10/146/per_contrata/Ao-2009?x=0&y=0&page_number=8&sort=id&direction=asc',\n",
       " 'http://www.gobiernotransparentechile.cl/directorio/entidad/10/146/per_contrata/Ao-2009?x=0&y=0&page_number=16&sort=id&direction=asc',\n",
       " 'http://www.gobiernotransparentechile.cl/directorio/entidad/2/2/per_contrata/2015/Julio?x=0&y=0&page_number=5&sort=id&direction=asc',\n",
       " 'http://www.gobiernotransparentechile.cl/directorio/entidad/19/271/per_contrata/A%C3%B1o%202012/A%C3%B1o%202012%20-%20Julio',\n",
       " 'http://www.gobiernotransparentechile.cl/directorio/entidad/12/171/per_contrata/A%C3%B1o%202016/Mayo?x=0&y=0&page_number=20&sort=id&direction=asc',\n",
       " 'http://www.gobiernotransparentechile.cl/directorio/entidad/13/283/per_planta/A%EF%BF%BDo%202015/Mayo',\n",
       " 'http://www.gobiernotransparentechile.cl/directorio/entidad/12/173/per_contrata/A%EF%BF%BDo%202012/Diciembre?x=0&y=0&page_number=5&sort=id&direction=asc',\n",
       " 'http://www.gobiernotransparentechile.cl/directorio/entidad/2/8/per_planta/2010/Octubre',\n",
       " 'http://www.gobiernotransparentechile.cl/directorio/entidad/15/197/per_contrata/Ao-2008?x=0&y=0&page_number=2&sort=id&direction=asc',\n",
       " 'http://www.gobiernotransparentechile.cl/directorio/entidad/2/9/per_planta/2014/Julio',\n",
       " 'http://www.gobiernotransparentechile.cl/directorio/entidad/2/8/per_contrata/2013/Marzo',\n",
       " 'http://www.gobiernotransparentechile.cl/directorio/entidad/13/283/per_planta/A%EF%BF%BDo%202013/A%C3%B1o%202013%20Diciembre',\n",
       " 'http://www.gobiernotransparentechile.cl/directorio/entidad/11/159/per_contrata/Ao-2007',\n",
       " 'http://www.gobiernotransparentechile.cl/directorio/entidad/8/139/per_contrata/A%C3%B1o%202015/Agosto?x=0&y=0&page_number=4&sort=id&direction=asc',\n",
       " 'http://www.gobiernotransparentechile.cl/directorio/entidad/12/167/per_planta/Ao-2009-Enero-Marzo',\n",
       " 'http://www.gobiernotransparentechile.cl/directorio/entidad/10/146/per_contrata/Ao-2009?x=0&y=0&page_number=26&sort=id&direction=asc',\n",
       " 'http://www.gobiernotransparentechile.cl/directorio/entidad/10/146/per_contrata/Ao-2006?x=0&y=0&page_number=17&sort=id&direction=asc',\n",
       " 'http://www.gobiernotransparentechile.cl/directorio/entidad/2/2/per_planta/2009/Agosto?x=0&y=0&page_number=4&sort=id&direction=asc',\n",
       " 'http://www.gobiernotransparentechile.cl/directorio/entidad/19/271/per_contrata/A%C3%B1o%202011/A%C3%B1o%202011%20-%20Septiembre?x=0&y=0&page_number=3&sort=id&direction=asc',\n",
       " 'http://www.gobiernotransparentechile.cl/directorio/entidad/10/146/per_contrata/Ao-2014?x=0&y=0&page_number=61&sort=id&direction=asc',\n",
       " 'http://www.gobiernotransparentechile.cl/directorio/entidad/2/11/per_planta/2011/Noviembre',\n",
       " 'http://www.gobiernotransparentechile.cl/directorio/entidad/13/179/per_contrata/A%EF%BF%BDo%202011/Junio?x=0&y=0&page_number=2&sort=id&direction=asc',\n",
       " 'http://www.gobiernotransparentechile.cl/directorio/entidad/12/173/per_contrata/A%EF%BF%BDo%202016/Febrero',\n",
       " 'http://www.gobiernotransparentechile.cl/directorio/entidad/12/171/per_contrata/A%C3%B1o%202016/Septiembre?x=0&y=0&page_number=7&sort=id&direction=asc',\n",
       " 'http://www.gobiernotransparentechile.cl/directorio/entidad/13/177/per_planta/A%EF%BF%BDo%202015/Abril',\n",
       " 'http://www.gobiernotransparentechile.cl/directorio/entidad/13/179/per_planta/A%EF%BF%BDo%202014/Febrero',\n",
       " 'http://www.gobiernotransparentechile.cl/directorio/entidad/2/2/per_planta/2010/Enero',\n",
       " 'http://www.gobiernotransparentechile.cl/directorio/entidad/2/10/per_planta/2014/Mayo',\n",
       " 'http://www.gobiernotransparentechile.cl/directorio/entidad/2/10/per_contrata/2012/Diciembre',\n",
       " 'http://www.gobiernotransparentechile.cl/directorio/entidad/12/169/per_contrata/Ao-2009?x=0&y=0&page_number=4&sort=id&direction=asc',\n",
       " 'http://www.gobiernotransparentechile.cl/directorio/entidad/19/271/per_contrata/A%C3%B1o%202013/A%C3%B1o%202013%20-%20Junio?x=0&y=0&page_number=2&sort=id&direction=asc',\n",
       " 'http://www.gobiernotransparentechile.cl/directorio/entidad/12/171/per_contrata/A%C3%B1o%202016/Mayo?x=0&y=0&page_number=15&sort=id&direction=asc',\n",
       " 'http://www.gobiernotransparentechile.cl/directorio/entidad/11/159/per_contrata/DICIEMBRE?x=0&y=0&page_number=12&sort=id&direction=asc',\n",
       " 'http://www.gobiernotransparentechile.cl/directorio/entidad/3/92/per_planta/Ao-2006',\n",
       " 'http://www.gobiernotransparentechile.cl/directorio/entidad/21/135/per_contrata/Ao-2009',\n",
       " 'http://www.gobiernotransparentechile.cl/directorio/entidad/19/271/per_contrata/A%C3%B1o%202012/A%C3%B1o%202012%20-%20Noviembre?x=0&y=0&page_number=3&sort=id&direction=asc',\n",
       " 'http://www.gobiernotransparentechile.cl/directorio/entidad/21/273/per_contrata/Hist%EF%BF%BDrico/A%C3%B1o%202010?x=0&y=0&page_number=2&sort=id&direction=asc',\n",
       " 'http://www.gobiernotransparentechile.cl/directorio/entidad/12/173/per_contrata/A%EF%BF%BDo%202016/Marzo',\n",
       " 'http://www.gobiernotransparentechile.cl/directorio/entidad/2/10/per_contrata/2014/Septiembre',\n",
       " 'http://www.gobiernotransparentechile.cl/directorio/entidad/2/9/per_planta/2010/Noviembre',\n",
       " 'http://www.gobiernotransparentechile.cl/directorio/entidad/11/159/per_contrata/Ao-2008?x=0&y=0&page_number=11&sort=id&direction=asc',\n",
       " 'http://www.gobiernotransparentechile.cl/directorio/entidad/12/169/per_contrata/Ao-2008?x=0&y=0&page_number=8&sort=id&direction=asc',\n",
       " 'http://www.gobiernotransparentechile.cl/directorio/entidad/12/171/per_contrata/A%C3%B1o%202016/Marzo?x=0&y=0&page_number=3&sort=id&direction=asc',\n",
       " 'http://www.gobiernotransparentechile.cl/directorio/entidad/12/171/per_contrata/A%C3%B1o%202016/Junio?x=0&y=0&page_number=7&sort=id&direction=asc',\n",
       " 'http://www.gobiernotransparentechile.cl/directorio/entidad/19/271/per_contrata/A%C3%B1o%202012/A%C3%B1o%202012%20-%20Mayo',\n",
       " 'http://www.gobiernotransparentechile.cl/directorio/entidad/12/169/per_planta/Ao-2012?x=0&y=0&page_number=5&sort=id&direction=asc',\n",
       " 'http://www.gobiernotransparentechile.cl/directorio/entidad/11/159/per_contrata/Ao-2007?x=0&y=0&page_number=18&sort=id&direction=asc',\n",
       " 'http://www.gobiernotransparentechile.cl/directorio/entidad/12/173/per_contrata/A%EF%BF%BDo%202011/Agosto?x=0&y=0&page_number=4&sort=id&direction=asc',\n",
       " 'http://www.gobiernotransparentechile.cl/directorio/entidad/19/271/per_contrata/A%C3%B1o%202015/A%C3%B1o%202015%20-%20Noviembre?x=0&y=0&page_number=2&sort=id&direction=asc',\n",
       " 'http://www.gobiernotransparentechile.cl/directorio/entidad/12/171/per_contrata/A%C3%B1o%202016/Enero?x=0&y=0&page_number=16&sort=id&direction=asc',\n",
       " 'http://www.gobiernotransparentechile.cl/directorio/entidad/12/171/per_contrata/A%C3%B1o%202016/Agosto?x=0&y=0&page_number=15&sort=id&direction=asc',\n",
       " 'http://www.gobiernotransparentechile.cl/directorio/entidad/12/167/per_contrata/A%C3%B1o%202013/Septiembre',\n",
       " 'http://www.gobiernotransparentechile.cl/directorio/entidad/2/2/per_planta/2016/Diciembre?x=0&y=0&page_number=2&sort=id&direction=asc',\n",
       " 'http://www.gobiernotransparentechile.cl/directorio/entidad/25/351/per_contrata/A%C3%B1o%202016/Marzo',\n",
       " 'http://www.gobiernotransparentechile.cl/directorio/entidad/12/173/per_contrata/A%EF%BF%BDo%202013/Octubre',\n",
       " 'http://www.gobiernotransparentechile.cl/directorio/entidad/8/139/per_contrata/A%C3%B1o%202015/Marzo?x=0&y=0&page_number=4&sort=id&direction=asc',\n",
       " 'http://www.gobiernotransparentechile.cl/directorio/entidad/12/173/per_contrata/A%EF%BF%BDo%202013/Mayo',\n",
       " 'http://www.gobiernotransparentechile.cl/directorio/entidad/13/177/per_planta/A%EF%BF%BDo%202011/A%C3%B1o%202011%20Agosto',\n",
       " 'http://www.gobiernotransparentechile.cl/directorio/entidad/12/173/per_contrata/A%EF%BF%BDo%202013/Octubre?x=0&y=0&page_number=2&sort=id&direction=asc',\n",
       " 'http://www.gobiernotransparentechile.cl/directorio/entidad/2/2/per_contrata/2013/Abril?x=0&y=0&page_number=5&sort=id&direction=asc',\n",
       " 'http://www.gobiernotransparentechile.cl/directorio/entidad/12/173/per_contrata/A%EF%BF%BDo%202011/Enero?x=0&y=0&page_number=3&sort=id&direction=asc',\n",
       " 'http://www.gobiernotransparentechile.cl/directorio/entidad/19/271/per_contrata/A%C3%B1o%202012/A%C3%B1o%202012%20-%20Agosto?x=0&y=0&page_number=5&sort=id&direction=asc',\n",
       " 'http://www.gobiernotransparentechile.cl/directorio/entidad/12/174/per_contrata/Ao-2012?x=0&y=0&page_number=2&sort=id&direction=asc',\n",
       " 'http://www.gobiernotransparentechile.cl/directorio/entidad/10/146/per_contrata/Ao-2009?x=0&y=0&page_number=4&sort=id&direction=asc',\n",
       " 'http://www.gobiernotransparentechile.cl/directorio/entidad/12/173/per_contrata/A%EF%BF%BDo%202015/Septiembre?x=0&y=0&page_number=4&sort=id&direction=asc',\n",
       " 'http://www.gobiernotransparentechile.cl/directorio/entidad/12/173/per_contrata/A%EF%BF%BDo%202012/Septiembre?x=0&y=0&page_number=3&sort=id&direction=asc',\n",
       " 'http://www.gobiernotransparentechile.cl/directorio/entidad/12/169/per_contrata/Ao-2015?x=0&y=0&page_number=2&sort=id&direction=asc',\n",
       " 'http://www.gobiernotransparentechile.cl/directorio/entidad/2/2/per_contrata/2015/Noviembre?x=0&y=0&page_number=5&sort=id&direction=asc',\n",
       " 'http://www.gobiernotransparentechile.cl/directorio/entidad/4/114/per_planta/Ao-2008?x=0&y=0&page_number=3&sort=id&direction=asc',\n",
       " 'http://www.gobiernotransparentechile.cl/directorio/entidad/10/146/per_contrata/Ao-2014?x=0&y=0&page_number=2&sort=id&direction=asc',\n",
       " 'http://www.gobiernotransparentechile.cl/directorio/entidad/11/159/per_contrata/NOVIEMBRE?x=0&y=0&page_number=20&sort=id&direction=asc',\n",
       " 'http://www.gobiernotransparentechile.cl/directorio/entidad/9/141/per_contrata/A%C3%B1o%202011/Diciembre?x=0&y=0&page_number=5&sort=id&direction=asc',\n",
       " 'http://www.gobiernotransparentechile.cl/directorio/entidad/19/271/per_contrata/A%C3%B1o%202013/A%C3%B1o%202013%20-%20Agosto?x=0&y=0&page_number=5&sort=id&direction=asc',\n",
       " 'http://www.gobiernotransparentechile.cl/directorio/entidad/10/146/per_planta/Ao-2007?x=0&y=0&page_number=3&sort=id&direction=asc',\n",
       " 'http://www.gobiernotransparentechile.cl/directorio/entidad/8/138/per_contrata/A%C3%B1o%202007/Enero',\n",
       " 'http://www.gobiernotransparentechile.cl/directorio/entidad/2/2/per_planta/2010/Septiembre',\n",
       " 'http://www.gobiernotransparentechile.cl/directorio/entidad/13/283/per_planta/A%EF%BF%BDo%202012/A%C3%B1o%202012%20Junio',\n",
       " 'http://www.gobiernotransparentechile.cl/directorio/entidad/19/271/per_contrata/A%C3%B1o%202014/A%C3%B1o%202014%20-%20Septiembre?x=0&y=0&page_number=3&sort=id&direction=asc',\n",
       " 'http://www.gobiernotransparentechile.cl/directorio/entidad/21/135/per_planta/Ao-2010',\n",
       " 'http://www.gobiernotransparentechile.cl/directorio/entidad/12/169/per_planta/Ao-2008?x=0&y=0&page_number=4&sort=id&direction=asc',\n",
       " 'http://www.gobiernotransparentechile.cl/directorio/entidad/8/138/per_contrata/A%C3%B1o%202008/Septiembre?x=0&y=0&page_number=2&sort=id&direction=asc',\n",
       " 'http://www.gobiernotransparentechile.cl/directorio/entidad/12/173/per_contrata/A%EF%BF%BDo%202016/Junio',\n",
       " 'http://www.gobiernotransparentechile.cl/directorio/entidad/12/173/per_contrata/A%EF%BF%BDo%202016/Agosto?x=0&y=0&page_number=4&sort=id&direction=asc',\n",
       " 'http://www.gobiernotransparentechile.cl/directorio/entidad/19/271/per_contrata/A%C3%B1o%202013/A%C3%B1o%202013%20-%20Diciembre?x=0&y=0&page_number=4&sort=id&direction=asc',\n",
       " 'http://www.gobiernotransparentechile.cl/directorio/entidad/13/179/per_contrata/A%EF%BF%BDo%202015/Diciembre?x=0&y=0&page_number=2&sort=id&direction=asc',\n",
       " 'http://www.gobiernotransparentechile.cl/directorio/entidad/8/138/per_contrata/A%C3%B1o%202008/Diciembre',\n",
       " 'http://www.gobiernotransparentechile.cl/directorio/entidad/10/146/per_contrata/Ao-2014?x=0&y=0&page_number=91&sort=id&direction=asc',\n",
       " 'http://www.gobiernotransparentechile.cl/directorio/entidad/13/177/per_planta/A%EF%BF%BDo%202014/A%C3%B1o%202014%20Enero',\n",
       " 'http://www.gobiernotransparentechile.cl/directorio/entidad/12/169/per_contrata/Ao-2014',\n",
       " 'http://www.gobiernotransparentechile.cl/directorio/entidad/13/283/per_planta/A%EF%BF%BDo%202016/Marzo',\n",
       " 'http://www.gobiernotransparentechile.cl/directorio/entidad/2/2/per_planta/2010/Agosto?x=0&y=0&page_number=5&sort=id&direction=asc',\n",
       " 'http://www.gobiernotransparentechile.cl/directorio/entidad/12/171/per_contrata/A%C3%B1o%202016/Agosto?x=0&y=0&page_number=18&sort=id&direction=asc',\n",
       " 'http://www.gobiernotransparentechile.cl/directorio/entidad/12/167/per_contrata/A%C3%B1o%202014/Octubre?x=0&y=0&page_number=2&sort=id&direction=asc',\n",
       " 'http://www.gobiernotransparentechile.cl/directorio/entidad/2/5/per_contrata/A%C3%B1o%202016/Abril',\n",
       " 'http://www.gobiernotransparentechile.cl/directorio/entidad/8/139/per_contrata/A%C3%B1o%202012/Agosto?x=0&y=0&page_number=5&sort=id&direction=asc',\n",
       " 'http://www.gobiernotransparentechile.cl/directorio/entidad/12/169/per_contrata/Ao-2008?x=0&y=0&page_number=7&sort=id&direction=asc',\n",
       " 'http://www.gobiernotransparentechile.cl/directorio/entidad/2/10/per_planta/2012/Noviembre',\n",
       " 'http://www.gobiernotransparentechile.cl/directorio/entidad/13/179/per_contrata/A%EF%BF%BDo%202014/Diciembre',\n",
       " 'http://www.gobiernotransparentechile.cl/directorio/entidad/2/10/per_planta/2014/Junio',\n",
       " 'http://www.gobiernotransparentechile.cl/directorio/entidad/12/173/per_contrata/A%EF%BF%BDo%202011/Octubre?x=0&y=0&page_number=6&sort=id&direction=asc',\n",
       " 'http://www.gobiernotransparentechile.cl/directorio/entidad/13/179/per_planta/A%EF%BF%BDo%202012/Noviembre',\n",
       " 'http://www.gobiernotransparentechile.cl/directorio/entidad/8/136/per_contrata/Ao-2013?x=0&y=0&page_number=2&sort=id&direction=asc',\n",
       " 'http://www.gobiernotransparentechile.cl/directorio/entidad/2/2/per_planta/2016/Mayo?x=0&y=0&page_number=3&sort=id&direction=asc',\n",
       " 'http://www.gobiernotransparentechile.cl/directorio/entidad/19/271/per_contrata/A%C3%B1o%202012/A%C3%B1o%202012%20-%20Enero?x=0&y=0&page_number=5&sort=id&direction=asc',\n",
       " 'http://www.gobiernotransparentechile.cl/directorio/entidad/12/173/per_contrata/A%EF%BF%BDo%202012/Julio?x=0&y=0&page_number=5&sort=id&direction=asc',\n",
       " 'http://www.gobiernotransparentechile.cl/directorio/entidad/19/271/per_planta/A%C3%B1o%202012/A%C3%B1o%202012%20-%20Julio',\n",
       " 'http://www.gobiernotransparentechile.cl/directorio/entidad/8/138/per_contrata/A%C3%B1o%202007/Octubre?x=0&y=0&page_number=2&sort=id&direction=asc',\n",
       " 'http://www.gobiernotransparentechile.cl/directorio/entidad/19/271/per_contrata/A%C3%B1o%202015/A%C3%B1o%202015%20-%20Diciembre',\n",
       " 'http://www.gobiernotransparentechile.cl/directorio/entidad/13/179/per_planta/A%EF%BF%BDo%202014/Marzo',\n",
       " 'http://www.gobiernotransparentechile.cl/directorio/entidad/12/171/per_planta/Ao-2006?x=0&y=0&page_number=6&sort=id&direction=asc',\n",
       " 'http://www.gobiernotransparentechile.cl/directorio/entidad/12/173/per_contrata/A%EF%BF%BDo%202014/Agosto',\n",
       " 'http://www.gobiernotransparentechile.cl/directorio/entidad/12/167/per_planta/A%C3%B1o%202015/Enero',\n",
       " 'http://www.gobiernotransparentechile.cl/directorio/entidad/3/94/per_contrata/Ao-2006',\n",
       " 'http://www.gobiernotransparentechile.cl/directorio/entidad/12/173/per_contrata/A%EF%BF%BDo%202013/Abril?x=0&y=0&page_number=5&sort=id&direction=asc',\n",
       " 'http://www.gobiernotransparentechile.cl/directorio/entidad/12/167/per_planta/A%C3%B1o%202009%20%28Abril-Diciembre%29/Junio',\n",
       " 'http://www.gobiernotransparentechile.cl/directorio/entidad/12/171/per_contrata/A%C3%B1o%202016/Junio?x=0&y=0&page_number=23&sort=id&direction=asc',\n",
       " 'http://www.gobiernotransparentechile.cl/directorio/entidad/12/169/per_contrata/Ao-2009?x=0&y=0&page_number=13&sort=id&direction=asc',\n",
       " 'http://www.gobiernotransparentechile.cl/directorio/entidad/13/177/per_planta/A%EF%BF%BDo%202009/A%C3%B1o%202009%20Enero-Marzo',\n",
       " 'http://www.gobiernotransparentechile.cl/directorio/entidad/25/351/per_contrata/Ao-2014',\n",
       " 'http://www.gobiernotransparentechile.cl/directorio/entidad/13/179/per_planta/A%EF%BF%BDo%202013/Abril',\n",
       " 'http://www.gobiernotransparentechile.cl/directorio/entidad/2/2/per_planta/2010/Marzo?x=0&y=0&page_number=4&sort=id&direction=asc',\n",
       " 'http://www.gobiernotransparentechile.cl/directorio/entidad/13/179/per_contrata/A%EF%BF%BDo%202013/Julio',\n",
       " 'http://www.gobiernotransparentechile.cl/directorio/entidad/21/273/per_contrata/Hist%EF%BF%BDrico/A%C3%B1o%202015',\n",
       " 'http://www.gobiernotransparentechile.cl/directorio/entidad/12/167/per_contrata/A%C3%B1o%202010/Enero',\n",
       " 'http://www.gobiernotransparentechile.cl/directorio/entidad/13/283/per_planta/A%EF%BF%BDo%202014/A%C3%B1o%202014%20Julio',\n",
       " 'http://www.gobiernotransparentechile.cl/directorio/entidad/19/271/per_planta/A%C3%B1o%202014/A%C3%B1o%202014%20-%20Septiembre',\n",
       " 'http://www.gobiernotransparentechile.cl/directorio/entidad/12/173/per_contrata/A%EF%BF%BDo%202012/Abril?x=0&y=0&page_number=3&sort=id&direction=asc',\n",
       " 'http://www.gobiernotransparentechile.cl/directorio/entidad/13/179/per_contrata/A%EF%BF%BDo%202016/Septiembre?x=0&y=0&page_number=2&sort=id&direction=asc',\n",
       " 'http://www.gobiernotransparentechile.cl/directorio/entidad/8/138/per_contrata/A%C3%B1o%202008/Septiembre?x=0&y=0&page_number=3&sort=id&direction=asc',\n",
       " 'http://www.gobiernotransparentechile.cl/directorio/entidad/19/271/per_contrata/A%C3%B1o%202013/A%C3%B1o%202013%20-%20Agosto',\n",
       " 'http://www.gobiernotransparentechile.cl/directorio/entidad/13/179/per_contrata/A%EF%BF%BDo%202010/Junio?x=0&y=0&page_number=2&sort=id&direction=asc',\n",
       " 'http://www.gobiernotransparentechile.cl/directorio/entidad/19/271/per_contrata/A%C3%B1o%202016/A%C3%B1o%202016%20-%20Septiembre?x=0&y=0&page_number=7&sort=id&direction=asc',\n",
       " 'http://www.gobiernotransparentechile.cl/directorio/entidad/10/146/per_contrata/Ao-2008?x=0&y=0&page_number=26&sort=id&direction=asc',\n",
       " 'http://www.gobiernotransparentechile.cl/directorio/entidad/13/179/per_planta/A%EF%BF%BDo%202015/Marzo',\n",
       " 'http://www.gobiernotransparentechile.cl/directorio/entidad/19/271/per_contrata/A%C3%B1o%202015/A%C3%B1o%202015%20-%20Abril?x=0&y=0&page_number=6&sort=id&direction=asc',\n",
       " 'http://www.gobiernotransparentechile.cl/directorio/entidad/12/170/per_contrata/Ao-2013?x=0&y=0&page_number=3&sort=id&direction=asc',\n",
       " 'http://www.gobiernotransparentechile.cl/directorio/entidad/12/169/per_planta/Ao-2007?x=0&y=0&page_number=10&sort=id&direction=asc',\n",
       " 'http://www.gobiernotransparentechile.cl/directorio/entidad/12/173/per_contrata/A%EF%BF%BDo%202012/Abril?x=0&y=0&page_number=4&sort=id&direction=asc',\n",
       " 'http://www.gobiernotransparentechile.cl/directorio/entidad/12/169/per_planta/Ao-2008?x=0&y=0&page_number=7&sort=id&direction=asc',\n",
       " 'http://www.gobiernotransparentechile.cl/directorio/entidad/12/169/per_contrata/Ao-2009?x=0&y=0&page_number=5&sort=id&direction=asc',\n",
       " 'http://www.gobiernotransparentechile.cl/directorio/entidad/19/271/per_contrata/A%C3%B1o%202011/A%C3%B1o%202011%20-%20Septiembre?x=0&y=0&page_number=5&sort=id&direction=asc',\n",
       " 'http://www.gobiernotransparentechile.cl/directorio/entidad/19/271/per_planta/A%C3%B1o%202013/A%C3%B1o%202013%20-%20Abril',\n",
       " 'http://www.gobiernotransparentechile.cl/directorio/entidad/2/2/per_planta/2010/Noviembre?x=0&y=0&page_number=5&sort=id&direction=asc',\n",
       " 'http://www.gobiernotransparentechile.cl/directorio/entidad/2/2/per_planta/2010/Abril?x=0&y=0&page_number=3&sort=id&direction=asc',\n",
       " 'http://www.gobiernotransparentechile.cl/directorio/entidad/2/6/per_contrata/2013/Febrero',\n",
       " 'http://www.gobiernotransparentechile.cl/directorio/entidad/8/138/per_planta/A%C3%B1o%202007/Abril',\n",
       " 'http://www.gobiernotransparentechile.cl/directorio/entidad/12/173/per_contrata/A%EF%BF%BDo%202014/Enero?x=0&y=0&page_number=4&sort=id&direction=asc',\n",
       " 'http://www.gobiernotransparentechile.cl/directorio/entidad/13/283/per_planta/A%EF%BF%BDo%202013/A%C3%B1o%202013%20Agosto',\n",
       " 'http://www.gobiernotransparentechile.cl/directorio/entidad/13/283/per_planta/A%EF%BF%BDo%202009/A%C3%B1o%202009%20Enero-Marzo',\n",
       " 'http://www.gobiernotransparentechile.cl/directorio/entidad/19/271/per_planta/A%C3%B1o%202014/A%C3%B1o%202014%20-%20Febrero',\n",
       " 'http://www.gobiernotransparentechile.cl/directorio/entidad/19/271/per_contrata/A%C3%B1o%202013/A%C3%B1o%202013%20-%20Septiembre',\n",
       " 'http://www.gobiernotransparentechile.cl/directorio/entidad/19/271/per_contrata/A%C3%B1o%202016/A%C3%B1o%202016%20-%20Diciembre',\n",
       " 'http://www.gobiernotransparentechile.cl/directorio/entidad/10/146/per_contrata/Ao-2007?x=0&y=0&page_number=10&sort=id&direction=asc',\n",
       " 'http://www.gobiernotransparentechile.cl/directorio/entidad/12/167/per_contrata/A%C3%B1o%202015/Marzo?x=0&y=0&page_number=2&sort=id&direction=asc',\n",
       " 'http://www.gobiernotransparentechile.cl/directorio/entidad/12/169/per_contrata/Ao-2015?x=0&y=0&page_number=3&sort=id&direction=asc',\n",
       " 'http://www.gobiernotransparentechile.cl/directorio/entidad/12/171/per_contrata/A%C3%B1o%202016/Febrero?x=0&y=0&page_number=16&sort=id&direction=asc',\n",
       " 'http://www.gobiernotransparentechile.cl/directorio/entidad/21/135/per_contrata/Ao-2012?x=0&y=0&page_number=3&sort=id&direction=asc',\n",
       " 'http://www.gobiernotransparentechile.cl/directorio/entidad/13/179/per_contrata/A%EF%BF%BDo%202014/Febrero',\n",
       " 'http://www.gobiernotransparentechile.cl/directorio/entidad/13/179/per_contrata/A%EF%BF%BDo%202016/Agosto',\n",
       " 'http://www.gobiernotransparentechile.cl/directorio/entidad/12/173/per_contrata/A%EF%BF%BDo%202016/Diciembre?x=0&y=0&page_number=6&sort=id&direction=asc',\n",
       " 'http://www.gobiernotransparentechile.cl/directorio/entidad/9/145/per_contrata/Ao-2012?x=0&y=0&page_number=2&sort=id&direction=asc',\n",
       " 'http://www.gobiernotransparentechile.cl/directorio/entidad/21/135/per_planta/Ao-2008',\n",
       " 'http://www.gobiernotransparentechile.cl/directorio/entidad/13/178/per_planta/A%C3%B1o%202009/A%C3%B1o%202009%20Enero-Marzo?x=0&y=0&page_number=2&sort=id&direction=asc',\n",
       " 'http://www.gobiernotransparentechile.cl/directorio/entidad/4/285/per_planta/2014/Junio',\n",
       " 'http://www.gobiernotransparentechile.cl/directorio/entidad/15/197/per_contrata/Ao-2009?x=0&y=0&page_number=2&sort=id&direction=asc',\n",
       " 'http://www.gobiernotransparentechile.cl/directorio/entidad/12/170/per_contrata/-Junio',\n",
       " 'http://www.gobiernotransparentechile.cl/directorio/entidad/10/146/per_contrata/Ao-2014?x=0&y=0&page_number=42&sort=id&direction=asc',\n",
       " 'http://www.gobiernotransparentechile.cl/directorio/entidad/12/171/per_contrata/A%C3%B1o%202016/Enero?x=0&y=0&page_number=4&sort=id&direction=asc',\n",
       " 'http://www.gobiernotransparentechile.cl/directorio/entidad/2/10/per_planta/2011/Noviembre',\n",
       " 'http://www.gobiernotransparentechile.cl/directorio/entidad/2/2/per_contrata/2011/Agosto?x=0&y=0&page_number=3&sort=id&direction=asc',\n",
       " 'http://www.gobiernotransparentechile.cl/directorio/entidad/2/2/per_contrata/2011/Noviembre?x=0&y=0&page_number=3&sort=id&direction=asc',\n",
       " 'http://www.gobiernotransparentechile.cl/directorio/entidad/2/2/per_planta/2010/Enero?x=0&y=0&page_number=2&sort=id&direction=asc',\n",
       " 'http://www.gobiernotransparentechile.cl/directorio/entidad/11/159/per_contrata/AGOSTO?x=0&y=0&page_number=31&sort=id&direction=asc',\n",
       " 'http://www.gobiernotransparentechile.cl/directorio/entidad/12/171/per_planta/A%C3%B1o%202016/Febrero',\n",
       " 'http://www.gobiernotransparentechile.cl/directorio/entidad/19/271/per_contrata/A%C3%B1o%202014/A%C3%B1o%202014%20-%20Junio',\n",
       " 'http://www.gobiernotransparentechile.cl/directorio/entidad/12/170/per_contrata/-Julio?x=0&y=0&page_number=4&sort=id&direction=asc',\n",
       " 'http://www.gobiernotransparentechile.cl/directorio/entidad/12/173/per_contrata/A%EF%BF%BDo%202015/Julio?x=0&y=0&page_number=3&sort=id&direction=asc',\n",
       " 'http://www.gobiernotransparentechile.cl/directorio/entidad/12/173/per_contrata/A%EF%BF%BDo%202013/Febrero?x=0&y=0&page_number=3&sort=id&direction=asc',\n",
       " 'http://www.gobiernotransparentechile.cl/directorio/entidad/9/348/per_contrata/A%C3%B1o%202013/Julio?x=0&y=0&page_number=3&sort=id&direction=asc',\n",
       " 'http://www.gobiernotransparentechile.cl/directorio/entidad/9/348/per_contrata/A%C3%B1o%202014/Octubre?x=0&y=0&page_number=5&sort=id&direction=asc',\n",
       " 'http://www.gobiernotransparentechile.cl/directorio/entidad/2/2/per_contrata/2011/Julio?x=0&y=0&page_number=4&sort=id&direction=asc',\n",
       " 'http://www.gobiernotransparentechile.cl/directorio/entidad/2/2/per_contrata/2015/Mayo?x=0&y=0&page_number=4&sort=id&direction=asc',\n",
       " 'http://www.gobiernotransparentechile.cl/directorio/entidad/2/10/per_planta/2014/Marzo',\n",
       " 'http://www.gobiernotransparentechile.cl/directorio/entidad/12/167/per_planta/A%C3%B1o%202010/Febrero',\n",
       " 'http://www.gobiernotransparentechile.cl/directorio/entidad/2/6/per_contrata/2013/Agosto',\n",
       " 'http://www.gobiernotransparentechile.cl/directorio/entidad/12/173/per_contrata/A%EF%BF%BDo%202013/Marzo?x=0&y=0&page_number=4&sort=id&direction=asc',\n",
       " 'http://www.gobiernotransparentechile.cl/directorio/entidad/12/169/per_planta/Ao-2007',\n",
       " 'http://www.gobiernotransparentechile.cl/directorio/entidad/25/351/per_contrata/Ao-2013',\n",
       " 'http://www.gobiernotransparentechile.cl/directorio/entidad/2/2/per_contrata/2011/Junio?x=0&y=0&page_number=4&sort=id&direction=asc',\n",
       " 'http://www.gobiernotransparentechile.cl/directorio/entidad/19/271/per_contrata/A%C3%B1o%202016/A%C3%B1o%202016%20-%20Junio?x=0&y=0&page_number=2&sort=id&direction=asc',\n",
       " 'http://www.gobiernotransparentechile.cl/directorio/entidad/12/170/per_planta/Ao-2006?x=0&y=0&page_number=2&sort=id&direction=asc',\n",
       " 'http://www.gobiernotransparentechile.cl/directorio/entidad/12/171/per_planta/Ao-2013?x=0&y=0&page_number=2&sort=id&direction=asc',\n",
       " 'http://www.gobiernotransparentechile.cl/directorio/entidad/19/271/per_contrata/A%C3%B1o%202013/A%C3%B1o%202013%20-%20Noviembre?x=0&y=0&page_number=5&sort=id&direction=asc',\n",
       " 'http://www.gobiernotransparentechile.cl/directorio/entidad/2/10/per_contrata/2014/Julio',\n",
       " 'http://www.gobiernotransparentechile.cl/directorio/entidad/12/167/per_contrata/A%C3%B1o%202015/Dciembre',\n",
       " 'http://www.gobiernotransparentechile.cl/directorio/entidad/12/171/per_contrata/A%C3%B1o%202016/Abril?x=0&y=0&page_number=2&sort=id&direction=asc',\n",
       " 'http://www.gobiernotransparentechile.cl/directorio/entidad/12/167/per_contrata/A%C3%B1o%202010/Diciembre?x=0&y=0&page_number=2&sort=id&direction=asc',\n",
       " 'http://www.gobiernotransparentechile.cl/directorio/entidad/12/173/per_contrata/A%EF%BF%BDo%202014/Enero',\n",
       " 'http://www.gobiernotransparentechile.cl/directorio/entidad/2/10/per_contrata/2012/Junio',\n",
       " 'http://www.gobiernotransparentechile.cl/directorio/entidad/2/8/per_planta/2012/Noviembre',\n",
       " 'http://www.gobiernotransparentechile.cl/directorio/entidad/2/2/per_contrata/2013/Diciembre?x=0&y=0&page_number=2&sort=id&direction=asc',\n",
       " 'http://www.gobiernotransparentechile.cl/directorio/entidad/2/2/per_planta/2010/Diciembre?x=0&y=0&page_number=2&sort=id&direction=asc',\n",
       " 'http://www.gobiernotransparentechile.cl/directorio/entidad/12/173/per_contrata/A%EF%BF%BDo%202016/Febrero?x=0&y=0&page_number=6&sort=id&direction=asc',\n",
       " 'http://www.gobiernotransparentechile.cl/directorio/entidad/2/2/per_planta/2009/Julio?x=0&y=0&page_number=5&sort=id&direction=asc',\n",
       " 'http://www.gobiernotransparentechile.cl/directorio/entidad/19/271/per_contrata/A%C3%B1o%202015/A%C3%B1o%202015%20-%20Diciembre?x=0&y=0&page_number=7&sort=id&direction=asc',\n",
       " 'http://www.gobiernotransparentechile.cl/directorio/entidad/2/8/per_planta/2011/Abril',\n",
       " 'http://www.gobiernotransparentechile.cl/directorio/entidad/12/169/per_planta/Ao-2016?x=0&y=0&page_number=5&sort=id&direction=asc',\n",
       " 'http://www.gobiernotransparentechile.cl/directorio/entidad/12/169/per_contrata/Ao-2010?x=0&y=0&page_number=3&sort=id&direction=asc',\n",
       " 'http://www.gobiernotransparentechile.cl/directorio/entidad/11/159/per_contrata/Ao-2007?x=0&y=0&page_number=22&sort=id&direction=asc',\n",
       " 'http://www.gobiernotransparentechile.cl/directorio/entidad/13/177/per_planta/A%EF%BF%BDo%202012/A%C3%B1o%202012%20Mayo',\n",
       " 'http://www.gobiernotransparentechile.cl/directorio/entidad/12/169/per_contrata/Ao-2014?x=0&y=0&page_number=6&sort=id&direction=asc',\n",
       " 'http://www.gobiernotransparentechile.cl/directorio/entidad/12/171/per_planta/A%C3%B1o%202016/Septiembre',\n",
       " 'http://www.gobiernotransparentechile.cl/directorio/entidad/11/156/per_contrata/Ao-2017?x=0&y=0&page_number=3&sort=id&direction=asc',\n",
       " 'http://www.gobiernotransparentechile.cl/directorio/entidad/19/271/per_contrata/A%C3%B1o%202014/A%C3%B1o%202014%20-%20Diciembre?x=0&y=0&page_number=3&sort=id&direction=asc',\n",
       " 'http://www.gobiernotransparentechile.cl/directorio/entidad/13/177/per_planta/A%EF%BF%BDo%202012/A%C3%B1o%202012%20Noviembre',\n",
       " 'http://www.gobiernotransparentechile.cl/directorio/entidad/11/159/per_contrata/ENERO?x=0&y=0&page_number=38&sort=id&direction=asc',\n",
       " 'http://www.gobiernotransparentechile.cl/directorio/entidad/12/169/per_planta/Ao-2008?x=0&y=0&page_number=10&sort=id&direction=asc',\n",
       " 'http://www.gobiernotransparentechile.cl/directorio/entidad/21/273/per_contrata/Hist%EF%BF%BDrico/A%C3%B1o%202012',\n",
       " 'http://www.gobiernotransparentechile.cl/directorio/entidad/12/169/per_planta/Ao-2010?x=0&y=0&page_number=3&sort=id&direction=asc',\n",
       " 'http://www.gobiernotransparentechile.cl/directorio/entidad/4/285/per_contrata/2015/Marzo',\n",
       " 'http://www.gobiernotransparentechile.cl/directorio/entidad/25/351/per_contrata/A%C3%B1o%202016/Agosto',\n",
       " 'http://www.gobiernotransparentechile.cl/directorio/entidad/19/271/per_contrata/A%C3%B1o%202015/A%C3%B1o%202015%20-%20Mayo?x=0&y=0&page_number=6&sort=id&direction=asc',\n",
       " 'http://www.gobiernotransparentechile.cl/directorio/entidad/11/159/per_contrata/OCTUBRE?x=0&y=0&page_number=12&sort=id&direction=asc',\n",
       " 'http://www.gobiernotransparentechile.cl/directorio/entidad/11/159/per_contrata/Ao-2007?x=0&y=0&page_number=27&sort=id&direction=asc',\n",
       " 'http://www.gobiernotransparentechile.cl/directorio/entidad/12/173/per_contrata/A%EF%BF%BDo%202016/Abril?x=0&y=0&page_number=3&sort=id&direction=asc',\n",
       " 'http://www.gobiernotransparentechile.cl/directorio/entidad/12/174/per_contrata/Ao-2011?x=0&y=0&page_number=2&sort=id&direction=asc',\n",
       " 'http://www.gobiernotransparentechile.cl/directorio/entidad/2/2/per_planta/2016/Junio?x=0&y=0&page_number=4&sort=id&direction=asc',\n",
       " 'http://www.gobiernotransparentechile.cl/directorio/entidad/9/142/per_planta/Ao-2008',\n",
       " 'http://www.gobiernotransparentechile.cl/directorio/entidad/2/2/per_planta/2016/Agosto?x=0&y=0&page_number=4&sort=id&direction=asc',\n",
       " 'http://www.gobiernotransparentechile.cl/directorio/entidad/10/146/per_planta/Ao-2007?x=0&y=0&page_number=10&sort=id&direction=asc',\n",
       " ...]"
      ]
     },
     "execution_count": 11,
     "metadata": {},
     "output_type": "execute_result"
    }
   ],
   "source": [
    "retake_entity_urls"
   ]
  },
  {
   "cell_type": "markdown",
   "metadata": {},
   "source": [
    "### Open browser and re-scrape data "
   ]
  },
  {
   "cell_type": "code",
   "execution_count": 12,
   "metadata": {
    "collapsed": true
   },
   "outputs": [],
   "source": [
    "output_file = output_file = './output/retake_entity_0.csv'"
   ]
  },
  {
   "cell_type": "code",
   "execution_count": 13,
   "metadata": {
    "collapsed": true,
    "scrolled": true
   },
   "outputs": [],
   "source": [
    "if not os.path.isfile(output_file):\n",
    "    browser = webdriver.Firefox()\n",
    "    for url in retake_entity_urls[0:5]:\n",
    "        functions.getTableData2(output_file, url, browser)\n",
    "    "
   ]
  },
  {
   "cell_type": "code",
   "execution_count": 14,
   "metadata": {
    "collapsed": true
   },
   "outputs": [],
   "source": [
    "retake_entity_df = pd.read_csv(output_file, encoding='latin1', names=col_names)"
   ]
  },
  {
   "cell_type": "code",
   "execution_count": 15,
   "metadata": {
    "scrolled": true
   },
   "outputs": [
    {
     "data": {
      "text/plain": [
       "Ministerio del Trabajo y Previsión Social            75041\n",
       "b'Ministerio del Trabajo y Previsi\\xf3n Social'      50531\n",
       "b'Ministerio del Interior y Seguridad P\\xfablica'    45599\n",
       "Ministerio de Minería                                37565\n",
       "b'Ministerio de Obras P\\xfablicas'                   27766\n",
       "b'Ministerio de Educaci\\xf3n'                        19799\n",
       "b'Ministerio de Econom\\xeda, Fomento y Turismo'      14122\n",
       "b'Ministerio de Justicia'                            12252\n",
       "b'Ministerio de Desarrollo Social'                    9425\n",
       "b'Ministerio de Defensa Nacional'                     4552\n",
       "Ministerio de Energía                                 4545\n",
       "Ministerio de Desarrollo Social                       4113\n",
       "Ministerio de Educación                               3450\n",
       "Ministerio de Justicia                                3168\n",
       "Ministerio de Economía, Fomento y Turismo             3124\n",
       "b'Ministerio de Salud'                                3089\n",
       "Ministerio del Interior y Seguridad Pública           2483\n",
       "b'Ministerio de Relaciones Exteriores'                1901\n",
       "Ministerio de Defensa Nacional                        1359\n",
       "Consejo Nacional de Televisión                        1239\n",
       "b'Ministerio de Energ\\xeda'                           1204\n",
       "b'Ministerio de Miner\\xeda'                            630\n",
       "Ministerio de Relaciones Exteriores                    581\n",
       "Ministerio de Obras Públicas                           381\n",
       "b'Ministerio de Transporte y Telecomunicaciones'       304\n",
       "Ministerio de Transporte y Telecomunicaciones          206\n",
       "b'Presidencia de la Rep\\xfablica'                      142\n",
       "b'Ministerio Secretar\\xeda General de Gobierno'        100\n",
       "Presidencia de la República                             89\n",
       "Ministerio Secretaría General de Gobierno               45\n",
       "b'Consejo Nacional de Televisi\\xf3n'                    39\n",
       "Name: entity, dtype: int64"
      ]
     },
     "execution_count": 15,
     "metadata": {},
     "output_type": "execute_result"
    }
   ],
   "source": [
    "retake_entity_df.entity.value_counts()"
   ]
  },
  {
   "cell_type": "code",
   "execution_count": 16,
   "metadata": {},
   "outputs": [
    {
     "name": "stdout",
     "output_type": "stream",
     "text": [
      "Could not clean column: other\n",
      "Could not clean column: other\n",
      "Could not clean column: other\n",
      "Could not clean column: other\n",
      "Could not clean column: other\n",
      "Could not clean column: other\n",
      "Could not clean column: other\n",
      "Could not clean column: other\n",
      "Could not clean column: other\n",
      "Could not clean column: other\n",
      "Could not clean column: other\n",
      "Could not clean column: other\n",
      "Could not clean column: other\n",
      "Could not clean column: other\n",
      "Could not clean column: other\n",
      "Could not clean column: other\n",
      "Could not clean column: other\n",
      "Could not clean column: other\n",
      "Could not clean column: other\n",
      "Could not clean column: other\n",
      "Could not clean column: other\n",
      "Could not clean column: other\n",
      "Could not clean column: other\n",
      "Could not clean column: other\n",
      "\n"
     ]
    }
   ],
   "source": [
    "cleanLatin(retake_entity_df)"
   ]
  },
  {
   "cell_type": "markdown",
   "metadata": {},
   "source": [
    "### Delete the corresponding rows and add the new ones "
   ]
  },
  {
   "cell_type": "code",
   "execution_count": 17,
   "metadata": {
    "scrolled": false
   },
   "outputs": [
    {
     "name": "stdout",
     "output_type": "stream",
     "text": [
      "(328844, 23)\n",
      "(310284, 23)\n"
     ]
    },
    {
     "data": {
      "text/plain": [
       "(1917695, 23)"
      ]
     },
     "execution_count": 17,
     "metadata": {},
     "output_type": "execute_result"
    }
   ],
   "source": [
    "retake_entity_df['filename'] = output_file\n",
    "print(retake_entity_df.shape)\n",
    "print(dfscraped[dfscraped.entity.isin(retake_entity)].shape)\n",
    "dfscraped = dfscraped[~dfscraped.entity.isin(retake_entity)]\n",
    "dfscraped = pd.concat([dfscraped, retake_entity_df])\n",
    "dfscraped.shape"
   ]
  },
  {
   "cell_type": "markdown",
   "metadata": {},
   "source": [
    "# Write or Read clean file "
   ]
  },
  {
   "cell_type": "code",
   "execution_count": 18,
   "metadata": {
    "collapsed": true
   },
   "outputs": [],
   "source": [
    "write_clean_file = True\n",
    "apply_cleanup_again = False\n"
   ]
  },
  {
   "cell_type": "code",
   "execution_count": 19,
   "metadata": {
    "scrolled": true
   },
   "outputs": [
    {
     "name": "stdout",
     "output_type": "stream",
     "text": [
      "Before Processing: (1917695, 23)\n",
      "\n"
     ]
    },
    {
     "ename": "NameError",
     "evalue": "name 'dfscraped1' is not defined",
     "output_type": "error",
     "traceback": [
      "\u001b[0;31m---------------------------------------------------------------------------\u001b[0m",
      "\u001b[0;31mNameError\u001b[0m                                 Traceback (most recent call last)",
      "\u001b[0;32m<ipython-input-19-dd62cf21d05d>\u001b[0m in \u001b[0;36m<module>\u001b[0;34m()\u001b[0m\n\u001b[1;32m      4\u001b[0m     \u001b[0mcleanLatin\u001b[0m\u001b[1;33m(\u001b[0m\u001b[0mdfscraped\u001b[0m\u001b[1;33m)\u001b[0m\u001b[1;33m\u001b[0m\u001b[0m\n\u001b[1;32m      5\u001b[0m     \u001b[1;31m# Lower case values\u001b[0m\u001b[1;33m\u001b[0m\u001b[1;33m\u001b[0m\u001b[0m\n\u001b[0;32m----> 6\u001b[0;31m     \u001b[0mdfscraped1\u001b[0m\u001b[1;33m.\u001b[0m\u001b[0mgivenn\u001b[0m \u001b[1;33m=\u001b[0m \u001b[0mdfscraped1\u001b[0m\u001b[1;33m.\u001b[0m\u001b[0mgivenn\u001b[0m\u001b[1;33m.\u001b[0m\u001b[0mstr\u001b[0m\u001b[1;33m.\u001b[0m\u001b[0mlower\u001b[0m\u001b[1;33m(\u001b[0m\u001b[1;33m)\u001b[0m\u001b[1;33m\u001b[0m\u001b[0m\n\u001b[0m\u001b[1;32m      7\u001b[0m     \u001b[0mdfscraped1\u001b[0m\u001b[1;33m.\u001b[0m\u001b[0mlastn\u001b[0m \u001b[1;33m=\u001b[0m \u001b[0mdfscraped1\u001b[0m\u001b[1;33m.\u001b[0m\u001b[0mlastn\u001b[0m\u001b[1;33m.\u001b[0m\u001b[0mstr\u001b[0m\u001b[1;33m.\u001b[0m\u001b[0mlower\u001b[0m\u001b[1;33m(\u001b[0m\u001b[1;33m)\u001b[0m\u001b[1;33m\u001b[0m\u001b[0m\n\u001b[1;32m      8\u001b[0m     \u001b[0mdfscraped1\u001b[0m\u001b[1;33m.\u001b[0m\u001b[0mlastn2\u001b[0m \u001b[1;33m=\u001b[0m \u001b[0mdfscraped1\u001b[0m\u001b[1;33m.\u001b[0m\u001b[0mlastn2\u001b[0m\u001b[1;33m.\u001b[0m\u001b[0mstr\u001b[0m\u001b[1;33m.\u001b[0m\u001b[0mlower\u001b[0m\u001b[1;33m(\u001b[0m\u001b[1;33m)\u001b[0m\u001b[1;33m\u001b[0m\u001b[0m\n",
      "\u001b[0;31mNameError\u001b[0m: name 'dfscraped1' is not defined"
     ]
    }
   ],
   "source": [
    "if write_clean_file:\n",
    "    print('Before Processing:', dfscraped.shape)\n",
    "    columns_dupe = [col for col in dfscraped.columns if not 'filename' in col]\n",
    "    cleanLatin(dfscraped)\n",
    "    # Lower case values\n",
    "    dfscraped1.givenn = dfscraped1.givenn.str.lower()\n",
    "    dfscraped1.lastn = dfscraped1.lastn.str.lower()\n",
    "    dfscraped1.lastn2 = dfscraped1.lastn2.str.lower()\n",
    "\n",
    "    dfscraped1 = dfscraped.replace(np.nan, -1).drop_duplicates(columns_dupe) # Result used to be 1693274, with no replace()\n",
    "    print('After Processing:', dfscraped1.shape)\n",
    "    \n",
    "    \n",
    "    # Write file\n",
    "    dfscraped1.to_csv('./output/scraped_data_clean.csv', encoding='latin1', index=False)\n",
    "    "
   ]
  },
  {
   "cell_type": "code",
   "execution_count": null,
   "metadata": {
    "collapsed": true
   },
   "outputs": [],
   "source": [
    "if not write_clean_file:\n",
    "    dfscraped1 = pd.read_csv('./output/scraped_data_clean.csv', encoding='latin1', low_memory=False)\n",
    "    columns_dupe = [col for col in dfscraped1.columns if not 'filename' in col]\n",
    "\n",
    "if apply_cleanup_again:\n",
    "    cleanLatin(dfscraped1)\n",
    "    dfscraped1.drop_duplicates(columns_dupe, inplace=True)"
   ]
  },
  {
   "cell_type": "code",
   "execution_count": null,
   "metadata": {
    "collapsed": true
   },
   "outputs": [],
   "source": []
  },
  {
   "cell_type": "raw",
   "metadata": {},
   "source": []
  },
  {
   "cell_type": "markdown",
   "metadata": {},
   "source": [
    "# Cleaning SENAME"
   ]
  },
  {
   "cell_type": "code",
   "execution_count": null,
   "metadata": {
    "collapsed": true,
    "scrolled": true
   },
   "outputs": [],
   "source": [
    "dfjusticia = dfscraped1.ix[dfscraped1.entity == 'Ministerio de Justicia']"
   ]
  },
  {
   "cell_type": "code",
   "execution_count": null,
   "metadata": {
    "collapsed": true,
    "scrolled": false
   },
   "outputs": [],
   "source": [
    "dfjusticia.department.value_counts()"
   ]
  },
  {
   "cell_type": "code",
   "execution_count": null,
   "metadata": {
    "collapsed": true
   },
   "outputs": [],
   "source": [
    "dfsename = dfjusticia.ix[dfjusticia.department == 'Servicio Nacional de Menores (SENAME)']"
   ]
  },
  {
   "cell_type": "code",
   "execution_count": null,
   "metadata": {
    "collapsed": true,
    "scrolled": true
   },
   "outputs": [],
   "source": [
    "dfsename.groupby(['year', 'month'])['entity'].count()"
   ]
  },
  {
   "cell_type": "markdown",
   "metadata": {},
   "source": [
    "## Year label is a month + it is Known to be from a certain year "
   ]
  },
  {
   "cell_type": "code",
   "execution_count": null,
   "metadata": {
    "collapsed": true
   },
   "outputs": [],
   "source": [
    "print(dfsename.shape)\n",
    "# Monthly data, set define months\n",
    "dfmonths = pd.read_csv('./data/months.csv', dtype={'month2' : str, 'month3' : int})\n",
    "dfmonths.month3 = dfmonths.month3.astype(int)\n",
    "\n",
    "months = list(dfmonths.month2.values)\n",
    "\n",
    "# all the rows that are months we know they are 2016\n",
    "# mark them as this transformation\n",
    "dfsename.ix[:,'TmonthIsKnownYear'] = 0\n",
    "dfsename.ix[dfsename.year.str.lower().isin(months), 'TmonthIsKnownYear'] = 1\n",
    "\n",
    "# Write Months\n",
    "dfsename.ix[dfsename.TmonthIsKnownYear == 1, 'month2'] = dfsename.year.str.lower()\n",
    "dfsename.ix[dfsename.TmonthIsKnownYear == 0, 'month2'] = 'allyear'\n",
    "dfsename = pd.merge(dfsename, dfmonths, how='left', on='month2')\n",
    "\n",
    "# Write years\n",
    "dfsename.ix[:, 'year2'] = dfsename.year.str.extract('( [0-9]*)$', expand=False)\n",
    "dfsename.ix[dfsename.TmonthIsKnownYear == 1, 'year2'] = 2016\n",
    "dfsename.year2 = pd.to_numeric(dfsename.year2)\n",
    "\n",
    "# Include Rows Flag\n",
    "dfsename['include'] = 1\n",
    "dfsename.ix[(dfsename.year2 == 2016) & (dfsename.month2 == 'allyear'), 'include'] = 0 # year 2016\n",
    "dfsename.ix[(dfsename.year == 0) | (dfsename.year == 1), 'include'] = 0 # zeroes and ones\n",
    "\n",
    "print(dfsename.shape)"
   ]
  },
  {
   "cell_type": "code",
   "execution_count": null,
   "metadata": {
    "collapsed": true,
    "scrolled": false
   },
   "outputs": [],
   "source": [
    "print(dfsename.replace(np.nan, -1).groupby(['include' ,'TmonthIsKnownYear', 'year', 'year2', 'month2', 'month3'])['entity'].count())"
   ]
  },
  {
   "cell_type": "markdown",
   "metadata": {},
   "source": [
    "## Expand yearly data to months. Allows filtering people from months by start_date and end_date."
   ]
  },
  {
   "cell_type": "code",
   "execution_count": null,
   "metadata": {
    "collapsed": true
   },
   "outputs": [],
   "source": [
    "print(dfsename.shape)\n",
    "\n",
    "# Define what df we want to expand to months\n",
    "cols = [col for col in dfsename.columns if ((col !='month2') and (col != 'month3') )]\n",
    "df_to_monthly = dfsename.ix[dfsename.month2 == 'allyear', cols]\n",
    "print(df_to_monthly.shape)\n",
    "\n",
    "# Keys to mege\n",
    "df_to_monthly['key'] = 1\n",
    "dfmonths['key'] = 1\n",
    "\n",
    "# Generate cartesian product\n",
    "dfcartesian = pd.merge(df_to_monthly, dfmonths, on='key')\n",
    "cols2 = [col for col in dfcartesian.columns if col !='key']\n",
    "dfcartesian = dfcartesian.ix[:,cols2]\n",
    "print(dfcartesian.shape)\n",
    "\n",
    "# Remove yearly rows\n",
    "dfsename = dfsename.ix[dfsename.month2 != 'allyear', :]\n",
    "\n",
    "# Add monthly rows\n",
    "dfsename = pd.concat([dfsename, dfcartesian])"
   ]
  },
  {
   "cell_type": "code",
   "execution_count": null,
   "metadata": {
    "collapsed": true,
    "scrolled": true
   },
   "outputs": [],
   "source": [
    "print(dfsename.shape)\n",
    "print(dfsename.replace(np.nan, -1).groupby(['include' ,'TmonthIsKnownYear', 'year2', 'month3'])['entity'].count().unstack('year2'))"
   ]
  },
  {
   "cell_type": "code",
   "execution_count": null,
   "metadata": {
    "collapsed": true
   },
   "outputs": [],
   "source": [
    "# Set the datetimeindex index\n",
    "dfsename['curDate'] = dfsename.year2.map(int).map(str) + '-' + dfsename.month3.map(int).map(str)\n",
    "dfsename['curDate2'] = pd.to_datetime(dfsename.curDate, format='%Y-%m')\n",
    "dfsename = dfsename.set_index(pd.DatetimeIndex(dfsename['curDate2']))\n"
   ]
  },
  {
   "cell_type": "code",
   "execution_count": null,
   "metadata": {
    "collapsed": true
   },
   "outputs": [],
   "source": [
    "dfsename.ix[dfsename.include == 1].replace(np.nan, -1).groupby('contract').resample('M')['curDate2'].count().unstack('contract').plot()"
   ]
  },
  {
   "cell_type": "markdown",
   "metadata": {},
   "source": [
    "Year 2016 looks weird because we have the actual monthly data. The rest of the years are just unparsed yearly data."
   ]
  },
  {
   "cell_type": "code",
   "execution_count": null,
   "metadata": {
    "collapsed": true
   },
   "outputs": [],
   "source": []
  },
  {
   "cell_type": "code",
   "execution_count": null,
   "metadata": {
    "collapsed": true
   },
   "outputs": [],
   "source": [
    "dfsename['start_date'] = dfsename['start_date'].astype(str)\n",
    "dfsename['end_date'] = dfsename['end_date'].astype(str)\n",
    "\n",
    "# Fix some guys\n",
    "dfsename.start_date = dfsename.start_date.str.replace('28/10/201$', '28/10/2010')\n",
    "\n",
    "# Transform\n",
    "dfsename['start_date2'] = pd.to_datetime(dfsename['start_date'], format='%d/%m/%Y', errors='coerce')\n",
    "dfsename['end_date2'] = pd.to_datetime(dfsename['end_date'], format='%d/%m/%Y', errors='coerce')\n"
   ]
  },
  {
   "cell_type": "code",
   "execution_count": null,
   "metadata": {
    "collapsed": true,
    "scrolled": false
   },
   "outputs": [],
   "source": [
    "print('Start nulls\\n', dfsename.ix[pd.isnull(dfsename.start_date2), 'start_date'].value_counts())\n",
    "print('End nulls\\n', dfsename.ix[pd.isnull(dfsename.end_date2), 'end_date'].value_counts())"
   ]
  },
  {
   "cell_type": "code",
   "execution_count": null,
   "metadata": {
    "collapsed": true
   },
   "outputs": [],
   "source": [
    "\n",
    "# Finished before the report date and not indefinite contract\n",
    "dfsename.ix[(dfsename.end_date2 < dfsename.curDate2 + timedelta(days=14)) & (dfsename.end_date != 'Indefinido') , 'include'] = 0\n",
    "# Started after the report date\n",
    "dfsename.ix[dfsename.start_date2 > dfsename.curDate2 + timedelta(days=14), 'include'] = 0\n",
    "# Null values\n",
    "dfsename.ix[dfsename.start_date2 == 'nan', 'include'] = 0\n",
    "dfsename.ix[dfsename.start_date2 == '', 'include'] = 0\n"
   ]
  },
  {
   "cell_type": "code",
   "execution_count": null,
   "metadata": {
    "collapsed": true,
    "scrolled": true
   },
   "outputs": [],
   "source": []
  },
  {
   "cell_type": "code",
   "execution_count": null,
   "metadata": {
    "collapsed": true
   },
   "outputs": [],
   "source": [
    "dfsename.ix[dfsename.include == 1].replace(np.nan, -1).groupby('contract').resample('M')['curDate2'].count().unstack('contract').plot()"
   ]
  },
  {
   "cell_type": "code",
   "execution_count": null,
   "metadata": {
    "collapsed": true
   },
   "outputs": [],
   "source": [
    "# Percentage of included\n",
    "included_pct = pd.concat([dfsename.groupby(['include', 'curDate2'])['entity'].count().unstack('include'),\n",
    "                         dfsename.groupby(['include', 'curDate2'])['entity'].count().unstack('include').sum(axis=1)], axis=1, join='inner')\n",
    "included_pct.columns = ['no', 'yes', 'total']\n",
    "included_pct['no_pct'] = included_pct.no / included_pct.total\n",
    "list(included_pct.ix[included_pct.no_pct > 0.5].index)"
   ]
  },
  {
   "cell_type": "code",
   "execution_count": null,
   "metadata": {
    "collapsed": true,
    "scrolled": true
   },
   "outputs": [],
   "source": [
    "dfsename.ix[(dfsename.curDate2 == '2007-01-01') & (dfsename.include == 0), 'start_date'].value_counts().head()"
   ]
  },
  {
   "cell_type": "code",
   "execution_count": null,
   "metadata": {
    "collapsed": true
   },
   "outputs": [],
   "source": [
    "# ASSUMPTION: We will assume that the start_date 01/06/2007 is wrong and replace by 01/01/2007\n",
    "dfsename['TcorrectedDate'] = 0\n",
    "dfsename.ix[dfsename.start_date == '01/06/2007', 'TcorrectedDate'] = 1\n",
    "dfsename.ix[dfsename.start_date == '01/06/2007', 'start_date2'] = datetime.strptime('01/01/2007', '%d/%m/%Y')\n",
    "dfsename.ix[(dfsename.start_date2 <= dfsename.curDate2 + timedelta(days=14)) & \n",
    "            ((dfsename.end_date2 >= dfsename.curDate2 + timedelta(days=14)) |\n",
    "            (dfsename.end_date == 'Indefinido')) , 'include'] = 1\n"
   ]
  },
  {
   "cell_type": "code",
   "execution_count": null,
   "metadata": {
    "collapsed": true
   },
   "outputs": [],
   "source": [
    "dfsename.ix[dfsename.include == 1].replace(np.nan, -1).groupby('contract').resample('M')['curDate2'].count().unstack('contract').plot()"
   ]
  },
  {
   "cell_type": "markdown",
   "metadata": {},
   "source": [
    "Looking more reasonable, there are some strange spikes at the end of 2007, 2008 and 2009."
   ]
  },
  {
   "cell_type": "code",
   "execution_count": null,
   "metadata": {
    "collapsed": true,
    "scrolled": true
   },
   "outputs": [],
   "source": [
    "dfsename.ix[dfsename.include == 1].replace(np.nan, -1).groupby('contract').resample('M')['curDate2'].count().unstack('contract')"
   ]
  },
  {
   "cell_type": "markdown",
   "metadata": {},
   "source": [
    "## Can we translate the count into value?"
   ]
  },
  {
   "cell_type": "code",
   "execution_count": null,
   "metadata": {
    "collapsed": true
   },
   "outputs": [],
   "source": [
    "dfsename['salary2'] = dfsename['salary'].replace('\\.', '', regex=True)\n",
    "dfsename.salary2 = dfsename.salary2.astype(float)\n",
    "dfsename.salary2.value_counts().head()"
   ]
  },
  {
   "cell_type": "markdown",
   "metadata": {},
   "source": [
    "* There are too many zeroes, checking.\n",
    "* There are some values that are far too popular, checking source too"
   ]
  },
  {
   "cell_type": "code",
   "execution_count": null,
   "metadata": {
    "collapsed": true
   },
   "outputs": [],
   "source": []
  },
  {
   "cell_type": "code",
   "execution_count": null,
   "metadata": {
    "collapsed": true,
    "scrolled": true
   },
   "outputs": [],
   "source": [
    "dfsename.ix[dfsename.salary2 == 0].groupby(['curDate2'])['entity'].count().sort_index()"
   ]
  },
  {
   "cell_type": "code",
   "execution_count": null,
   "metadata": {
    "collapsed": true
   },
   "outputs": [],
   "source": [
    "dfsename.ix[(dfsename.salary2 == 0) & (dfsename.curDate2 == datetime(year=2014, month=7, day=1)), 'url'].value_counts()"
   ]
  },
  {
   "cell_type": "markdown",
   "metadata": {},
   "source": [
    "The zeroes in 2014 and over are because of people who resigned"
   ]
  },
  {
   "cell_type": "code",
   "execution_count": null,
   "metadata": {
    "collapsed": true
   },
   "outputs": [],
   "source": [
    "dfsename.columns"
   ]
  },
  {
   "cell_type": "code",
   "execution_count": null,
   "metadata": {
    "collapsed": true
   },
   "outputs": [],
   "source": []
  },
  {
   "cell_type": "code",
   "execution_count": null,
   "metadata": {
    "collapsed": true,
    "scrolled": true
   },
   "outputs": [],
   "source": [
    "dfsename.ix[dfsename.salary2 == 1580920.0].groupby(['curDate2', 'givenn', 'lastn', 'lastn2' ])['entity'].count()"
   ]
  },
  {
   "cell_type": "markdown",
   "metadata": {},
   "source": [
    "This popular salary is spread across several people"
   ]
  },
  {
   "cell_type": "markdown",
   "metadata": {},
   "source": [
    "## There seems to be duplicated names. Checking"
   ]
  },
  {
   "cell_type": "code",
   "execution_count": null,
   "metadata": {
    "collapsed": true,
    "scrolled": true
   },
   "outputs": [],
   "source": [
    "dfsename.ix[(dfsename.givenn == 'miguel angel') & (dfsename.include == 1) & (dfsename.curDate2 == datetime(year=2016, month=6, day=1))].to_csv('./output/doublename.csv')#"
   ]
  },
  {
   "cell_type": "code",
   "execution_count": null,
   "metadata": {
    "collapsed": true,
    "scrolled": true
   },
   "outputs": [],
   "source": [
    "dfsename.ix[dfsename.include == 1].groupby(['curDate2', 'givenn', 'lastn', 'lastn2'])['entity'].count().sort_values(ascending=False)"
   ]
  },
  {
   "cell_type": "code",
   "execution_count": null,
   "metadata": {
    "collapsed": true
   },
   "outputs": [],
   "source": [
    "dfsename.ix[(dfsename.givenn == 'miguel angel') & (dfsename.lastn2 == 'canales') & (dfsename.include == 1) & (dfsename.curDate2 == datetime(year=2016, month=6, day=1))].to_csv('./output/doublename.csv')#"
   ]
  },
  {
   "cell_type": "code",
   "execution_count": null,
   "metadata": {
    "collapsed": true
   },
   "outputs": [],
   "source": [
    "dfscraped.ix[(dfscraped.givenn.str.lower() == 'miguel angel') & (dfscraped.lastn2.str.lower() == 'canales') & (dfscraped.end_date == 'Indefinido')].to_csv('./output/doublename1.csv')#"
   ]
  },
  {
   "cell_type": "code",
   "execution_count": null,
   "metadata": {
    "collapsed": true
   },
   "outputs": [],
   "source": [
    "dfscraped.ix[[714977, 1705528]]"
   ]
  },
  {
   "cell_type": "code",
   "execution_count": null,
   "metadata": {
    "collapsed": true
   },
   "outputs": [],
   "source": []
  }
 ],
 "metadata": {
  "anaconda-cloud": {},
  "kernelspec": {
   "display_name": "Python 3",
   "language": "python",
   "name": "python3"
  },
  "language_info": {
   "codemirror_mode": {
    "name": "ipython",
    "version": 3
   },
   "file_extension": ".py",
   "mimetype": "text/x-python",
   "name": "python",
   "nbconvert_exporter": "python",
   "pygments_lexer": "ipython3",
   "version": "3.6.2"
  },
  "widgets": {
   "state": {
    "0c8091040c644c0e99d57b5b322ab22f": {
     "views": [
      {
       "cell_index": 18
      }
     ]
    },
    "6c1f6e5bbe634c699819b49f90a095d2": {
     "views": [
      {
       "cell_index": 23
      }
     ]
    }
   },
   "version": "1.2.0"
  }
 },
 "nbformat": 4,
 "nbformat_minor": 1
}
