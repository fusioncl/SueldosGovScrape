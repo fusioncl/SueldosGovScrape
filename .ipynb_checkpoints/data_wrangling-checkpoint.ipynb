{
 "cells": [
  {
   "cell_type": "code",
   "execution_count": 1,
   "metadata": {
    "collapsed": false
   },
   "outputs": [
    {
     "data": {
      "text/html": [
       "<style>.container { width:100% !important; }</style>"
      ],
      "text/plain": [
       "<IPython.core.display.HTML object>"
      ]
     },
     "metadata": {},
     "output_type": "display_data"
    }
   ],
   "source": [
    "import pandas as pd\n",
    "import numpy as np\n",
    "import time\n",
    "import unicodedata\n",
    "from selenium import webdriver\n",
    "from selenium.common.exceptions import NoSuchElementException, WebDriverException\n",
    "\n",
    "import datetime\n",
    "from datetime import timedelta, datetime\n",
    "\n",
    "import csv\n",
    "import os\n",
    "\n",
    "import sys\n",
    "sys.path.append('./lib/')\n",
    "\n",
    "from functions import *\n",
    "import functions\n",
    "\n",
    "from tqdm import tnrange, tqdm_notebook\n",
    "from unidecode import unidecode\n",
    "\n",
    "from IPython.core.display import display, HTML\n",
    "display(HTML(\"<style>.container { width:100% !important; }</style>\"))\n",
    "\n",
    "import lxml.html\n",
    "import lxml\n",
    "\n",
    "import glob\n",
    "\n",
    "%matplotlib inline\n",
    "\n",
    "import matplotlib\n",
    "import numpy as np\n",
    "import matplotlib.pyplot as plt\n",
    "\n",
    "import seaborn as sns\n",
    "sns.set_style(\"darkgrid\")\n",
    "\n",
    "%load_ext autoreload\n",
    "\n",
    "%autoreload 2"
   ]
  },
  {
   "cell_type": "code",
   "execution_count": 2,
   "metadata": {
    "collapsed": false,
    "scrolled": true
   },
   "outputs": [
    {
     "data": {
      "text/plain": [
       "['output/scraped_data_20170417.csv']"
      ]
     },
     "execution_count": 2,
     "metadata": {},
     "output_type": "execute_result"
    }
   ],
   "source": [
    "pattern = 'output/**/*.csv'\n",
    "pattern = 'output/scraped_data_20170417.csv'\n",
    "\n",
    "files = glob.glob(pattern, recursive=True)\n",
    "files\n",
    "    "
   ]
  },
  {
   "cell_type": "code",
   "execution_count": 3,
   "metadata": {
    "collapsed": false
   },
   "outputs": [
    {
     "data": {
      "text/plain": [
       "22"
      ]
     },
     "execution_count": 3,
     "metadata": {},
     "output_type": "execute_result"
    }
   ],
   "source": [
    "col_names = ['entity', 'department', 'contract', 'year', 'month', 'group', 'lastn', 'lastn2', 'givenn', 'degree', \n",
    "             'qualif', 'position', 'region', 'specials', 'currency', 'salary', 'overt', 'start_date', 'end_date', 'obs', 'url', 'other']\n",
    "len(col_names)"
   ]
  },
  {
   "cell_type": "code",
   "execution_count": 4,
   "metadata": {
    "collapsed": false,
    "scrolled": true
   },
   "outputs": [
    {
     "name": "stdout",
     "output_type": "stream",
     "text": [
      "(2183713, 23)\n"
     ]
    }
   ],
   "source": [
    "\n",
    "dfscraped = pd.DataFrame()\n",
    "\n",
    "for f in files:\n",
    "    if( ('scraped' in f) and (not 'data_clean' in f)):\n",
    "        df = pd.read_csv(f, header=None, encoding='latin1', names=col_names, warn_bad_lines=True, low_memory=False)\n",
    "        df['filename'] = f\n",
    "        dfscraped = pd.concat([dfscraped, df], ignore_index=True)\n",
    "\n",
    "print(dfscraped.shape)"
   ]
  },
  {
   "cell_type": "code",
   "execution_count": 5,
   "metadata": {
    "collapsed": false
   },
   "outputs": [
    {
     "data": {
      "text/plain": [
       "output/scraped_data_20170417.csv    2183713\n",
       "Name: filename, dtype: int64"
      ]
     },
     "execution_count": 5,
     "metadata": {},
     "output_type": "execute_result"
    }
   ],
   "source": [
    "dfscraped.filename.value_counts()"
   ]
  },
  {
   "cell_type": "code",
   "execution_count": 6,
   "metadata": {
    "collapsed": false,
    "scrolled": true
   },
   "outputs": [
    {
     "data": {
      "text/plain": [
       "Ministerio del Interior y Seguridad PÃºblica        563301\n",
       "Ministerio de Obras PÃºblicas                       216771\n",
       "Ministerio de Vivienda y Urbanismo                  194956\n",
       "Ministerio de Justicia                              184507\n",
       "Ministerio de Hacienda                              164059\n",
       "Ministerio de EducaciÃ³n                            151345\n",
       "entity                                              147542\n",
       "Ministerio de EconomÃ­a, Fomento y Turismo          106665\n",
       "Ministerio del Trabajo y PrevisiÃ³n Social           95891\n",
       "Ministerio de Desarrollo Social                      93470\n",
       "Consejo de Defensa del Estado                        52521\n",
       "Ministerio de Defensa Nacional                       45285\n",
       "Ministerio de Agricultura                            44495\n",
       "Ministerio de MinerÃ­a                               39141\n",
       "Ministerio de Relaciones Exteriores                  24826\n",
       "Ministerio SecretarÃ­a General de la Presidencia     13839\n",
       "Presidencia de la RepÃºblica                          7990\n",
       "Ministerio del Medio Ambiente                         6951\n",
       "Ministerio de EnergÃ­a                                6398\n",
       "Ministerio del Deporte                                6236\n",
       "Ministerio SecretarÃ­a General de Gobierno            5109\n",
       "Consejo Nacional de la Cultura y las Artes            3921\n",
       "Ministerio de Transporte y Telecomunicaciones         3581\n",
       "Ministerio de Salud                                   3400\n",
       "Consejo Nacional de TelevisiÃ³n                       1513\n",
       "Name: entity, dtype: int64"
      ]
     },
     "execution_count": 6,
     "metadata": {},
     "output_type": "execute_result"
    }
   ],
   "source": [
    "dfscraped.entity.value_counts()"
   ]
  },
  {
   "cell_type": "code",
   "execution_count": 7,
   "metadata": {
    "collapsed": false
   },
   "outputs": [
    {
     "data": {
      "text/plain": [
       "33850"
      ]
     },
     "execution_count": 7,
     "metadata": {},
     "output_type": "execute_result"
    }
   ],
   "source": [
    "dfscraped.url.nunique()"
   ]
  },
  {
   "cell_type": "raw",
   "metadata": {},
   "source": []
  },
  {
   "cell_type": "markdown",
   "metadata": {},
   "source": [
    "## Data that was not captured with the right encoding, get again"
   ]
  },
  {
   "cell_type": "code",
   "execution_count": 8,
   "metadata": {
    "collapsed": false
   },
   "outputs": [],
   "source": [
    "retake_entity = list(dfscraped[dfscraped.entity.str.contains(\"b'\", na=False)].entity.value_counts().index)\n",
    "retake_entity = retake_entity + list(dfscraped[dfscraped.entity.str.contains(\"Ã\", na=False)].entity.value_counts().index)\n",
    "retake_entity = retake_entity + list(dfscraped[dfscraped.entity.str.contains(\"Ã­\", na=False)].entity.value_counts().index)\n",
    "retake_entity = retake_entity + ['Ministerio del Interior y Seguridad Pblica', 'Presidencia de la Repblica ']  "
   ]
  },
  {
   "cell_type": "code",
   "execution_count": 9,
   "metadata": {
    "collapsed": false
   },
   "outputs": [
    {
     "name": "stdout",
     "output_type": "stream",
     "text": [
      "Total Urls 33850\n",
      "Urls to retake 23263\n"
     ]
    }
   ],
   "source": [
    "print('Total Urls', dfscraped.url.nunique())\n",
    "print('Urls to retake', dfscraped[dfscraped.entity.isin(retake_entity)].url.nunique())"
   ]
  },
  {
   "cell_type": "code",
   "execution_count": 10,
   "metadata": {
    "collapsed": false
   },
   "outputs": [
    {
     "data": {
      "text/plain": [
       "3918"
      ]
     },
     "execution_count": 10,
     "metadata": {},
     "output_type": "execute_result"
    }
   ],
   "source": [
    "retake_entity_urls = []\n",
    "for u in list(set(dfscraped.ix[dfscraped.entity.isin(retake_entity), 'url'].unique())):\n",
    "    if str(u) != 'nan':\n",
    "        if \"b'\" in u:\n",
    "            u = u[2:]\n",
    "        if u[-1] == \"'\":\n",
    "            u = u[:len(u)-1]\n",
    "        retake_entity_urls.append(u)\n",
    "len(retake_entity_urls)"
   ]
  },
  {
   "cell_type": "code",
   "execution_count": 11,
   "metadata": {
    "collapsed": false
   },
   "outputs": [
    {
     "data": {
      "text/plain": [
       "['http://www.gobiernotransparentechile.cl/directorio/entidad/12/173/per_contrata/A%EF%BF%BDo%202011/Abril?x=0&y=0&page_number=3&sort=id&direction=asc',\n",
       " 'http://www.gobiernotransparentechile.cl/directorio/entidad/12/169/per_contrata/Ao-2009?x=0&y=0&page_number=9&sort=id&direction=asc',\n",
       " 'http://www.gobiernotransparentechile.cl/directorio/entidad/9/141/per_planta/Ao-2006?x=0&y=0&page_number=2&sort=id&direction=asc',\n",
       " 'http://www.gobiernotransparentechile.cl/directorio/entidad/12/169/per_contrata/Ao-2010?x=0&y=0&page_number=6&sort=id&direction=asc',\n",
       " 'http://www.gobiernotransparentechile.cl/directorio/entidad/2/2/per_contrata/2011/Noviembre?x=0&y=0&page_number=5&sort=id&direction=asc',\n",
       " 'http://www.gobiernotransparentechile.cl/directorio/entidad/11/159/per_contrata/Ao-2008?x=0&y=0&page_number=9&sort=id&direction=asc',\n",
       " 'http://www.gobiernotransparentechile.cl/directorio/entidad/2/2/per_planta/2014/Febrero?x=0&y=0&page_number=3&sort=id&direction=asc',\n",
       " 'http://www.gobiernotransparentechile.cl/directorio/entidad/12/170/per_contrata/Ao-2015',\n",
       " 'http://www.gobiernotransparentechile.cl/directorio/entidad/12/170/per_contrata/Ao-2010?x=0&y=0&page_number=4&sort=id&direction=asc',\n",
       " 'http://www.gobiernotransparentechile.cl/directorio/entidad/12/167/per_contrata/A%C3%B1o%202016/Abril',\n",
       " 'http://www.gobiernotransparentechile.cl/directorio/entidad/2/8/per_contrata/2014/Diciembre',\n",
       " 'http://www.gobiernotransparentechile.cl/directorio/entidad/11/159/per_contrata/Ao-2007?x=0&y=0&page_number=16&sort=id&direction=asc',\n",
       " 'http://www.gobiernotransparentechile.cl/directorio/entidad/2/5/per_contrata/A%C3%B1o%202016/Julio',\n",
       " 'http://www.gobiernotransparentechile.cl/directorio/entidad/12/169/per_planta/Ao-2013?x=0&y=0&page_number=9&sort=id&direction=asc',\n",
       " 'http://www.gobiernotransparentechile.cl/directorio/entidad/2/2/per_planta/2016/Septiembre?x=0&y=0&page_number=3&sort=id&direction=asc',\n",
       " 'http://www.gobiernotransparentechile.cl/directorio/entidad/12/169/per_planta/Ao-2009?x=0&y=0&page_number=4&sort=id&direction=asc',\n",
       " 'http://www.gobiernotransparentechile.cl/directorio/entidad/2/2/per_planta/2010/Octubre?x=0&y=0&page_number=4&sort=id&direction=asc',\n",
       " 'http://www.gobiernotransparentechile.cl/directorio/entidad/13/179/per_contrata/A%EF%BF%BDo%202012/Mayo',\n",
       " 'http://www.gobiernotransparentechile.cl/directorio/entidad/12/171/per_contrata/A%C3%B1o%202016/Enero?x=0&y=0&page_number=22&sort=id&direction=asc',\n",
       " 'http://www.gobiernotransparentechile.cl/directorio/entidad/8/138/per_contrata/A%C3%B1o%202007/Julio',\n",
       " 'http://www.gobiernotransparentechile.cl/directorio/entidad/10/146/per_contrata/Ao-2009?x=0&y=0&page_number=5&sort=id&direction=asc',\n",
       " 'http://www.gobiernotransparentechile.cl/directorio/entidad/2/11/per_planta/2013/Marzo',\n",
       " 'http://www.gobiernotransparentechile.cl/directorio/entidad/19/271/per_contrata/A%C3%B1o%202016/A%C3%B1o%202016%20-%20Abril?x=0&y=0&page_number=3&sort=id&direction=asc',\n",
       " 'http://www.gobiernotransparentechile.cl/directorio/entidad/9/127/per_planta/A%C3%B1o%202011/Enero',\n",
       " 'http://www.gobiernotransparentechile.cl/directorio/entidad/12/167/per_contrata/A%C3%B1o%202013/Julio',\n",
       " 'http://www.gobiernotransparentechile.cl/directorio/entidad/12/169/per_planta/Ao-2010?x=0&y=0&page_number=6&sort=id&direction=asc',\n",
       " 'http://www.gobiernotransparentechile.cl/directorio/entidad/12/173/per_contrata/A%EF%BF%BDo%202013/Noviembre?x=0&y=0&page_number=4&sort=id&direction=asc',\n",
       " 'http://www.gobiernotransparentechile.cl/directorio/entidad/2/2/per_planta/2016/Julio?x=0&y=0&page_number=2&sort=id&direction=asc',\n",
       " 'http://www.gobiernotransparentechile.cl/directorio/entidad/12/169/per_contrata/Ao-2013?x=0&y=0&page_number=13&sort=id&direction=asc',\n",
       " 'http://www.gobiernotransparentechile.cl/directorio/entidad/2/5/per_contrata/A%C3%B1o%202016/Mayo',\n",
       " 'http://www.gobiernotransparentechile.cl/directorio/entidad/8/138/per_contrata/A%C3%B1o%202007/Junio',\n",
       " 'http://www.gobiernotransparentechile.cl/directorio/entidad/2/2/per_planta/2016/Enero?x=0&y=0&page_number=3&sort=id&direction=asc',\n",
       " 'http://www.gobiernotransparentechile.cl/directorio/entidad/13/283/per_planta/A%EF%BF%BDo%202015/Diciembre',\n",
       " 'http://www.gobiernotransparentechile.cl/directorio/entidad/12/171/per_contrata/A%C3%B1o%202016/Julio?x=0&y=0&page_number=10&sort=id&direction=asc',\n",
       " 'http://www.gobiernotransparentechile.cl/directorio/entidad/2/9/per_contrata/2014/Agosto',\n",
       " 'http://www.gobiernotransparentechile.cl/directorio/entidad/12/169/per_contrata/Ao-2009?x=0&y=0&page_number=7&sort=id&direction=asc',\n",
       " 'http://www.gobiernotransparentechile.cl/directorio/entidad/10/146/per_contrata/Ao-2014?x=0&y=0&page_number=79&sort=id&direction=asc',\n",
       " 'http://www.gobiernotransparentechile.cl/directorio/entidad/2/10/per_planta/2013/Septiembre',\n",
       " 'http://www.gobiernotransparentechile.cl/directorio/entidad/2/11/per_planta/2010/Septiembre',\n",
       " 'http://www.gobiernotransparentechile.cl/directorio/entidad/4/114/per_planta/Ao-2008?x=0&y=0&page_number=11&sort=id&direction=asc',\n",
       " 'http://www.gobiernotransparentechile.cl/directorio/entidad/12/174/per_planta/Ao-2014',\n",
       " 'http://www.gobiernotransparentechile.cl/directorio/entidad/8/139/per_contrata/Ao-2011?x=0&y=0&page_number=5&sort=id&direction=asc',\n",
       " 'http://www.gobiernotransparentechile.cl/directorio/entidad/13/179/per_planta/A%EF%BF%BDo%202014/Marzo',\n",
       " 'http://www.gobiernotransparentechile.cl/directorio/entidad/10/146/per_contrata/Ao-2014?x=0&y=0&page_number=47&sort=id&direction=asc',\n",
       " 'http://www.gobiernotransparentechile.cl/directorio/entidad/2/9/per_planta/2012/Febrero',\n",
       " 'http://www.gobiernotransparentechile.cl/directorio/entidad/19/271/per_planta/A%C3%B1o%202013/A%C3%B1o%202013%20-%20Noviembre',\n",
       " 'http://www.gobiernotransparentechile.cl/directorio/entidad/12/171/per_contrata/A%C3%B1o%202016/Marzo?x=0&y=0&page_number=6&sort=id&direction=asc',\n",
       " 'http://www.gobiernotransparentechile.cl/directorio/entidad/21/135/per_contrata/Ao-2014?x=0&y=0&page_number=3&sort=id&direction=asc',\n",
       " 'http://www.gobiernotransparentechile.cl/directorio/entidad/12/167/per_contrata/A%C3%B1o%202016/Febrero?x=0&y=0&page_number=2&sort=id&direction=asc',\n",
       " 'http://www.gobiernotransparentechile.cl/directorio/entidad/2/2/per_contrata/2015/Mayo?x=0&y=0&page_number=3&sort=id&direction=asc',\n",
       " 'http://www.gobiernotransparentechile.cl/directorio/entidad/12/171/per_planta/Ao-2006?x=0&y=0&page_number=2&sort=id&direction=asc',\n",
       " 'http://www.gobiernotransparentechile.cl/directorio/entidad/12/173/per_contrata/A%EF%BF%BDo%202016/Agosto?x=0&y=0&page_number=2&sort=id&direction=asc',\n",
       " 'http://www.gobiernotransparentechile.cl/directorio/entidad/11/157/per_planta/Ao-2009?x=0&y=0&page_number=2&sort=id&direction=asc',\n",
       " 'http://www.gobiernotransparentechile.cl/directorio/entidad/12/171/per_contrata/A%C3%B1o%202016/Octubre?x=0&y=0&page_number=3&sort=id&direction=asc',\n",
       " 'http://www.gobiernotransparentechile.cl/directorio/entidad/2/10/per_planta/2013/Junio',\n",
       " 'http://www.gobiernotransparentechile.cl/directorio/entidad/2/2/per_contrata/2011/Marzo?x=0&y=0&page_number=4&sort=id&direction=asc',\n",
       " 'http://www.gobiernotransparentechile.cl/directorio/entidad/12/171/per_contrata/A%C3%B1o%202016/Mayo?x=0&y=0&page_number=15&sort=id&direction=asc',\n",
       " 'http://www.gobiernotransparentechile.cl/directorio/entidad/2/8/per_contrata/2014/Mayo',\n",
       " 'http://www.gobiernotransparentechile.cl/directorio/entidad/12/167/per_contrata/Ao-2009-Enero-Marzo',\n",
       " 'http://www.gobiernotransparentechile.cl/directorio/entidad/12/170/per_contrata/-Agosto?x=0&y=0&page_number=2&sort=id&direction=asc',\n",
       " 'http://www.gobiernotransparentechile.cl/directorio/entidad/12/171/per_contrata/A%C3%B1o%202016/Septiembre?x=0&y=0&page_number=19&sort=id&direction=asc',\n",
       " 'http://www.gobiernotransparentechile.cl/directorio/entidad/8/138/per_contrata/A%C3%B1o%202007/Agosto?x=0&y=0&page_number=2&sort=id&direction=asc',\n",
       " 'http://www.gobiernotransparentechile.cl/directorio/entidad/19/271/per_planta/A%C3%B1o%202015/A%C3%B1o%202015%20-%20Septiembre',\n",
       " 'http://www.gobiernotransparentechile.cl/directorio/entidad/19/271/per_contrata/A%C3%B1o%202012/A%C3%B1o%202012%20-%20Agosto?x=0&y=0&page_number=2&sort=id&direction=asc',\n",
       " 'http://www.gobiernotransparentechile.cl/directorio/entidad/2/2/per_contrata/2015/Mayo?x=0&y=0&page_number=2&sort=id&direction=asc',\n",
       " 'http://www.gobiernotransparentechile.cl/directorio/entidad/10/152/per_contrata/Ao-2007',\n",
       " 'http://www.gobiernotransparentechile.cl/directorio/entidad/12/173/per_contrata/A%EF%BF%BDo%202014/Diciembre?x=0&y=0&page_number=5&sort=id&direction=asc',\n",
       " 'http://www.gobiernotransparentechile.cl/directorio/entidad/13/179/per_planta/A%EF%BF%BDo%202013/Junio',\n",
       " 'http://www.gobiernotransparentechile.cl/directorio/entidad/8/136/per_contrata/Ao-2016',\n",
       " 'http://www.gobiernotransparentechile.cl/directorio/entidad/19/271/per_contrata/A%C3%B1o%202014/A%C3%B1o%202014%20-%20Julio?x=0&y=0&page_number=3&sort=id&direction=asc',\n",
       " 'http://www.gobiernotransparentechile.cl/directorio/entidad/11/159/per_planta/Ao-2007',\n",
       " 'http://www.gobiernotransparentechile.cl/directorio/entidad/3/92/per_planta/Ao-2008',\n",
       " 'http://www.gobiernotransparentechile.cl/directorio/entidad/12/171/per_planta/Ao-2008?x=0&y=0&page_number=2&sort=id&direction=asc',\n",
       " 'http://www.gobiernotransparentechile.cl/directorio/entidad/12/170/per_contrata/Ao-2007',\n",
       " 'http://www.gobiernotransparentechile.cl/directorio/entidad/12/167/per_planta/A%C3%B1o%202010/Junio',\n",
       " 'http://www.gobiernotransparentechile.cl/directorio/entidad/12/171/per_contrata/A%C3%B1o%202016/Julio?x=0&y=0&page_number=2&sort=id&direction=asc',\n",
       " 'http://www.gobiernotransparentechile.cl/directorio/entidad/2/10/per_contrata/2013/Abril',\n",
       " 'http://www.gobiernotransparentechile.cl/directorio/entidad/12/173/per_contrata/A%EF%BF%BDo%202012/Marzo?x=0&y=0&page_number=3&sort=id&direction=asc',\n",
       " 'http://www.gobiernotransparentechile.cl/directorio/entidad/12/171/per_contrata/A%C3%B1o%202016/Marzo?x=0&y=0&page_number=7&sort=id&direction=asc',\n",
       " 'http://www.gobiernotransparentechile.cl/directorio/entidad/2/2/per_planta/2014/Julio?x=0&y=0&page_number=2&sort=id&direction=asc',\n",
       " 'http://www.gobiernotransparentechile.cl/directorio/entidad/19/271/per_contrata/A%C3%B1o%202016/A%C3%B1o%202016%20-%20Octubre?x=0&y=0&page_number=2&sort=id&direction=asc',\n",
       " 'http://www.gobiernotransparentechile.cl/directorio/entidad/9/141/per_contrata/A%C3%B1o%202011/Agosto?x=0&y=0&page_number=5&sort=id&direction=asc',\n",
       " 'http://www.gobiernotransparentechile.cl/directorio/entidad/2/2/per_contrata/2013/Octubre?x=0&y=0&page_number=5&sort=id&direction=asc',\n",
       " 'http://www.gobiernotransparentechile.cl/directorio/entidad/19/271/per_contrata/A%C3%B1o%202015/A%C3%B1o%202015%20-%20Marzo?x=0&y=0&page_number=5&sort=id&direction=asc',\n",
       " 'http://www.gobiernotransparentechile.cl/directorio/entidad/12/170/per_contrata/-Noviembre?x=0&y=0&page_number=5&sort=id&direction=asc',\n",
       " 'http://www.gobiernotransparentechile.cl/directorio/entidad/13/179/per_contrata/A%EF%BF%BDo%202014/Marzo?x=0&y=0&page_number=2&sort=id&direction=asc',\n",
       " 'http://www.gobiernotransparentechile.cl/directorio/entidad/2/8/per_planta/2013/Febrero',\n",
       " 'http://www.gobiernotransparentechile.cl/directorio/entidad/12/171/per_contrata/A%C3%B1o%202016/Agosto?x=0&y=0&page_number=4&sort=id&direction=asc',\n",
       " 'http://www.gobiernotransparentechile.cl/directorio/entidad/2/2/per_planta/2014/Abril?x=0&y=0&page_number=5&sort=id&direction=asc',\n",
       " 'http://www.gobiernotransparentechile.cl/directorio/entidad/12/173/per_contrata/A%EF%BF%BDo%202012/Junio?x=0&y=0&page_number=2&sort=id&direction=asc',\n",
       " 'http://www.gobiernotransparentechile.cl/directorio/entidad/2/2/per_contrata/2015/Agosto?x=0&y=0&page_number=4&sort=id&direction=asc',\n",
       " 'http://www.gobiernotransparentechile.cl/directorio/entidad/12/173/per_contrata/A%EF%BF%BDo%202014/Agosto?x=0&y=0&page_number=6&sort=id&direction=asc',\n",
       " 'http://www.gobiernotransparentechile.cl/directorio/entidad/12/171/per_contrata/A%C3%B1o%202016/Enero?x=0&y=0&page_number=23&sort=id&direction=asc',\n",
       " 'http://www.gobiernotransparentechile.cl/directorio/entidad/12/167/per_contrata/A%C3%B1o%202016/Mayo?x=0&y=0&page_number=2&sort=id&direction=asc',\n",
       " 'http://www.gobiernotransparentechile.cl/directorio/entidad/4/285/per_contrata/2015/Junio',\n",
       " 'http://www.gobiernotransparentechile.cl/directorio/entidad/12/167/per_contrata/A%C3%B1o%202015/Mayo?x=0&y=0&page_number=2&sort=id&direction=asc',\n",
       " 'http://www.gobiernotransparentechile.cl/directorio/entidad/12/173/per_contrata/A%EF%BF%BDo%202015/Septiembre?x=0&y=0&page_number=6&sort=id&direction=asc',\n",
       " 'http://www.gobiernotransparentechile.cl/directorio/entidad/12/167/per_contrata/A%C3%B1o%202015/Mayo',\n",
       " 'http://www.gobiernotransparentechile.cl/directorio/entidad/11/156/per_contrata/Ao-2017',\n",
       " 'http://www.gobiernotransparentechile.cl/directorio/entidad/19/271/per_contrata/A%C3%B1o%202014/A%C3%B1o%202014%20-%20Junio?x=0&y=0&page_number=5&sort=id&direction=asc',\n",
       " 'http://www.gobiernotransparentechile.cl/directorio/entidad/19/271/per_planta/A%C3%B1o%202016/A%C3%B1o%202016%20-%20Agosto',\n",
       " 'http://www.gobiernotransparentechile.cl/directorio/entidad/12/167/per_planta/A%C3%B1o%202016/Febrero',\n",
       " 'http://www.gobiernotransparentechile.cl/directorio/entidad/12/169/per_contrata/Ao-2009?x=0&y=0&page_number=5&sort=id&direction=asc',\n",
       " 'http://www.gobiernotransparentechile.cl/directorio/entidad/12/167/per_contrata/A%C3%B1o%202014/Julio',\n",
       " 'http://www.gobiernotransparentechile.cl/directorio/entidad/12/171/per_planta/A%C3%B1o%202016/Septiembre',\n",
       " 'http://www.gobiernotransparentechile.cl/directorio/entidad/2/2/per_planta/2010/Febrero?x=0&y=0&page_number=3&sort=id&direction=asc',\n",
       " 'http://www.gobiernotransparentechile.cl/directorio/entidad/19/271/per_planta/A%C3%B1o%202016/A%C3%B1o%202016%20-%20Mayo',\n",
       " 'http://www.gobiernotransparentechile.cl/directorio/entidad/12/171/per_planta/A%C3%B1o%202016/Febrero?x=0&y=0&page_number=2&sort=id&direction=asc',\n",
       " 'http://www.gobiernotransparentechile.cl/directorio/entidad/12/170/per_contrata/-Marzo?x=0&y=0&page_number=2&sort=id&direction=asc',\n",
       " 'http://www.gobiernotransparentechile.cl/directorio/entidad/12/173/per_contrata/A%EF%BF%BDo%202012/Septiembre?x=0&y=0&page_number=3&sort=id&direction=asc',\n",
       " 'http://www.gobiernotransparentechile.cl/directorio/entidad/12/173/per_contrata/A%EF%BF%BDo%202016/Enero?x=0&y=0&page_number=5&sort=id&direction=asc',\n",
       " 'http://www.gobiernotransparentechile.cl/directorio/entidad/12/169/per_contrata/Ao-2009?x=0&y=0&page_number=14&sort=id&direction=asc',\n",
       " 'http://www.gobiernotransparentechile.cl/directorio/entidad/13/283/per_planta/A%EF%BF%BDo%202011/A%C3%B1o%202011%20Enero',\n",
       " 'http://www.gobiernotransparentechile.cl/directorio/entidad/12/173/per_contrata/A%EF%BF%BDo%202016/Diciembre?x=0&y=0&page_number=4&sort=id&direction=asc',\n",
       " 'http://www.gobiernotransparentechile.cl/directorio/entidad/12/170/per_planta/-Marzo',\n",
       " 'http://www.gobiernotransparentechile.cl/directorio/entidad/12/169/per_contrata/Ao-2015?x=0&y=0&page_number=10&sort=id&direction=asc',\n",
       " 'http://www.gobiernotransparentechile.cl/directorio/entidad/12/173/per_contrata/A%EF%BF%BDo%202014/Junio?x=0&y=0&page_number=4&sort=id&direction=asc',\n",
       " 'http://www.gobiernotransparentechile.cl/directorio/entidad/12/169/per_contrata/Ao-2014?x=0&y=0&page_number=15&sort=id&direction=asc',\n",
       " 'http://www.gobiernotransparentechile.cl/directorio/entidad/2/2/per_contrata/2013/Agosto?x=0&y=0&page_number=2&sort=id&direction=asc',\n",
       " 'http://www.gobiernotransparentechile.cl/directorio/entidad/19/271/per_contrata/A%C3%B1o%202015/A%C3%B1o%202015%20-%20Mayo?x=0&y=0&page_number=5&sort=id&direction=asc',\n",
       " 'http://www.gobiernotransparentechile.cl/directorio/entidad/12/173/per_contrata/A%EF%BF%BDo%202016/Mayo?x=0&y=0&page_number=4&sort=id&direction=asc',\n",
       " 'http://www.gobiernotransparentechile.cl/directorio/entidad/19/271/per_contrata/A%C3%B1o%202014/A%C3%B1o%202014%20-%20Noviembre?x=0&y=0&page_number=4&sort=id&direction=asc',\n",
       " 'http://www.gobiernotransparentechile.cl/directorio/entidad/11/159/per_contrata/AGOSTO?x=0&y=0&page_number=31&sort=id&direction=asc',\n",
       " 'http://www.gobiernotransparentechile.cl/directorio/entidad/12/173/per_contrata/A%EF%BF%BDo%202012/Enero?x=0&y=0&page_number=3&sort=id&direction=asc',\n",
       " 'http://www.gobiernotransparentechile.cl/directorio/entidad/8/138/per_contrata/A%C3%B1o%202008/Octubre',\n",
       " 'http://www.gobiernotransparentechile.cl/directorio/entidad/13/179/per_planta/A%EF%BF%BDo%202013/Agosto',\n",
       " 'http://www.gobiernotransparentechile.cl/directorio/entidad/2/2/per_contrata/2015/Marzo?x=0&y=0&page_number=5&sort=id&direction=asc',\n",
       " 'http://www.gobiernotransparentechile.cl/directorio/entidad/4/285/per_planta/2015/Noviembre?x=0&y=0&page_number=2&sort=id&direction=asc',\n",
       " 'http://www.gobiernotransparentechile.cl/directorio/entidad/13/283/per_planta/A%EF%BF%BDo%202016/Septiembre',\n",
       " 'http://www.gobiernotransparentechile.cl/directorio/entidad/12/173/per_contrata/A%EF%BF%BDo%202015/Abril?x=0&y=0&page_number=6&sort=id&direction=asc',\n",
       " 'http://www.gobiernotransparentechile.cl/directorio/entidad/25/351/per_contrata/A%C3%B1o%202016/Diciembre',\n",
       " 'http://www.gobiernotransparentechile.cl/directorio/entidad/12/170/per_planta/-Abril',\n",
       " 'http://www.gobiernotransparentechile.cl/directorio/entidad/2/2/per_planta/2016/Abril?x=0&y=0&page_number=2&sort=id&direction=asc',\n",
       " 'http://www.gobiernotransparentechile.cl/directorio/entidad/2/2/per_planta/2010/Enero?x=0&y=0&page_number=2&sort=id&direction=asc',\n",
       " 'http://www.gobiernotransparentechile.cl/directorio/entidad/12/173/per_contrata/A%EF%BF%BDo%202015/Diciembre?x=0&y=0&page_number=2&sort=id&direction=asc',\n",
       " 'http://www.gobiernotransparentechile.cl/directorio/entidad/2/6/per_contrata/2011/Octubre',\n",
       " 'http://www.gobiernotransparentechile.cl/directorio/entidad/2/2/per_planta/2009/Mayo?x=0&y=0&page_number=5&sort=id&direction=asc',\n",
       " 'http://www.gobiernotransparentechile.cl/directorio/entidad/12/173/per_contrata/A%EF%BF%BDo%202015/Diciembre',\n",
       " 'http://www.gobiernotransparentechile.cl/directorio/entidad/13/179/per_contrata/A%EF%BF%BDo%202015/Julio?x=0&y=0&page_number=2&sort=id&direction=asc',\n",
       " 'http://www.gobiernotransparentechile.cl/directorio/entidad/13/179/per_contrata/A%EF%BF%BDo%202013/Marzo',\n",
       " 'http://www.gobiernotransparentechile.cl/directorio/entidad/12/173/per_contrata/A%EF%BF%BDo%202011/Abril?x=0&y=0&page_number=2&sort=id&direction=asc',\n",
       " 'http://www.gobiernotransparentechile.cl/directorio/entidad/19/271/per_contrata/A%C3%B1o%202016/A%C3%B1o%202016%20-%20Julio?x=0&y=0&page_number=2&sort=id&direction=asc',\n",
       " 'http://www.gobiernotransparentechile.cl/directorio/entidad/2/11/per_planta/2011/Marzo',\n",
       " 'http://www.gobiernotransparentechile.cl/directorio/entidad/10/146/per_contrata/Ao-2014?x=0&y=0&page_number=4&sort=id&direction=asc',\n",
       " 'http://www.gobiernotransparentechile.cl/directorio/entidad/25/351/per_contrata/A%C3%B1o%202016/Marzo',\n",
       " 'http://www.gobiernotransparentechile.cl/directorio/entidad/12/173/per_contrata/A%EF%BF%BDo%202015/Febrero?x=0&y=0&page_number=4&sort=id&direction=asc',\n",
       " 'http://www.gobiernotransparentechile.cl/directorio/entidad/12/173/per_contrata/A%EF%BF%BDo%202016/Febrero?x=0&y=0&page_number=2&sort=id&direction=asc',\n",
       " 'http://www.gobiernotransparentechile.cl/directorio/entidad/2/2/per_planta/2016/Junio?x=0&y=0&page_number=3&sort=id&direction=asc',\n",
       " 'http://www.gobiernotransparentechile.cl/directorio/entidad/12/173/per_contrata/A%EF%BF%BDo%202011/Mayo',\n",
       " 'http://www.gobiernotransparentechile.cl/directorio/entidad/12/169/per_planta/Ao-2008',\n",
       " 'http://www.gobiernotransparentechile.cl/directorio/entidad/12/171/per_planta/Ao-2015?x=0&y=0&page_number=3&sort=id&direction=asc',\n",
       " 'http://www.gobiernotransparentechile.cl/directorio/entidad/2/2/per_contrata/2015/Julio?x=0&y=0&page_number=5&sort=id&direction=asc',\n",
       " 'http://www.gobiernotransparentechile.cl/directorio/entidad/12/169/per_planta/Ao-2014',\n",
       " 'http://www.gobiernotransparentechile.cl/directorio/entidad/2/2/per_planta/2010/Diciembre?x=0&y=0&page_number=4&sort=id&direction=asc',\n",
       " 'http://www.gobiernotransparentechile.cl/directorio/entidad/12/171/per_planta/A%C3%B1o%202016/Junio',\n",
       " 'http://www.gobiernotransparentechile.cl/directorio/entidad/9/127/per_planta/A%C3%B1o%202011/Julio',\n",
       " 'http://www.gobiernotransparentechile.cl/directorio/entidad/8/139/per_contrata/A%C3%B1o%202012/Diciembre?x=0&y=0&page_number=2&sort=id&direction=asc',\n",
       " 'http://www.gobiernotransparentechile.cl/directorio/entidad/12/175/per_planta/Ao-2012',\n",
       " 'http://www.gobiernotransparentechile.cl/directorio/entidad/12/174/per_contrata/Ao-2011?x=0&y=0&page_number=2&sort=id&direction=asc',\n",
       " 'http://www.gobiernotransparentechile.cl/directorio/entidad/2/2/per_contrata/2013/Mayo?x=0&y=0&page_number=4&sort=id&direction=asc',\n",
       " 'http://www.gobiernotransparentechile.cl/directorio/entidad/12/171/per_planta/Ao-2014',\n",
       " 'http://www.gobiernotransparentechile.cl/directorio/entidad/10/146/per_planta/Ao-2008',\n",
       " 'http://www.gobiernotransparentechile.cl/directorio/entidad/19/271/per_contrata/A%C3%B1o%202013/A%C3%B1o%202013%20-%20Abril?x=0&y=0&page_number=3&sort=id&direction=asc',\n",
       " 'http://www.gobiernotransparentechile.cl/directorio/entidad/19/271/per_contrata/A%C3%B1o%202012/A%C3%B1o%202012%20-%20Diciembre',\n",
       " 'http://www.gobiernotransparentechile.cl/directorio/entidad/8/138/per_contrata/A%C3%B1o%202008/Diciembre?x=0&y=0&page_number=2&sort=id&direction=asc',\n",
       " 'http://www.gobiernotransparentechile.cl/directorio/entidad/12/171/per_contrata/A%C3%B1o%202016/Mayo?x=0&y=0&page_number=18&sort=id&direction=asc',\n",
       " 'http://www.gobiernotransparentechile.cl/directorio/entidad/10/152/per_contrata/Ao-2007?x=0&y=0&page_number=2&sort=id&direction=asc',\n",
       " 'http://www.gobiernotransparentechile.cl/directorio/entidad/19/271/per_contrata/A%C3%B1o%202016/A%C3%B1o%202016%20-%20Agosto',\n",
       " 'http://www.gobiernotransparentechile.cl/directorio/entidad/2/2/per_contrata/2011/Diciembre',\n",
       " 'http://www.gobiernotransparentechile.cl/directorio/entidad/10/146/per_contrata/Ao-2007',\n",
       " 'http://www.gobiernotransparentechile.cl/directorio/entidad/12/167/per_contrata/Ao-2007',\n",
       " 'http://www.gobiernotransparentechile.cl/directorio/entidad/12/171/per_contrata/A%C3%B1o%202016/Febrero?x=0&y=0&page_number=7&sort=id&direction=asc',\n",
       " 'http://www.gobiernotransparentechile.cl/directorio/entidad/4/285/per_contrata/2016/Febrero',\n",
       " 'http://www.gobiernotransparentechile.cl/directorio/entidad/13/179/per_contrata/A%EF%BF%BDo%202010/Diciembre?x=0&y=0&page_number=2&sort=id&direction=asc',\n",
       " 'http://www.gobiernotransparentechile.cl/directorio/entidad/2/5/per_contrata/A%C3%B1o%202016/Diciembre?x=0&y=0&page_number=4&sort=id&direction=asc',\n",
       " 'http://www.gobiernotransparentechile.cl/directorio/entidad/12/173/per_contrata/A%EF%BF%BDo%202015/Agosto?x=0&y=0&page_number=4&sort=id&direction=asc',\n",
       " 'http://www.gobiernotransparentechile.cl/directorio/entidad/13/179/per_contrata/A%EF%BF%BDo%202011/Febrero',\n",
       " 'http://www.gobiernotransparentechile.cl/directorio/entidad/9/141/per_contrata/Ao-2006?x=0&y=0&page_number=3&sort=id&direction=asc',\n",
       " 'http://www.gobiernotransparentechile.cl/directorio/entidad/13/179/per_planta/A%EF%BF%BDo%202016/Noviembre',\n",
       " 'http://www.gobiernotransparentechile.cl/directorio/entidad/10/146/per_contrata/Ao-2008?x=0&y=0&page_number=19&sort=id&direction=asc',\n",
       " 'http://www.gobiernotransparentechile.cl/directorio/entidad/12/169/per_contrata/Ao-2007?x=0&y=0&page_number=9&sort=id&direction=asc',\n",
       " 'http://www.gobiernotransparentechile.cl/directorio/entidad/21/279/per_planta/Ao-2010',\n",
       " 'http://www.gobiernotransparentechile.cl/directorio/entidad/21/273/per_contrata/Hist%EF%BF%BDrico/A%C3%B1o%202006',\n",
       " 'http://www.gobiernotransparentechile.cl/directorio/entidad/12/171/per_contrata/A%C3%B1o%202016/Febrero?x=0&y=0&page_number=20&sort=id&direction=asc',\n",
       " 'http://www.gobiernotransparentechile.cl/directorio/entidad/19/271/per_contrata/A%C3%B1o%202011/A%C3%B1o%202011%20-%20Noviembre',\n",
       " 'http://www.gobiernotransparentechile.cl/directorio/entidad/21/279/per_contrata/Ao-2014',\n",
       " 'http://www.gobiernotransparentechile.cl/directorio/entidad/12/173/per_contrata/A%EF%BF%BDo%202013/Mayo?x=0&y=0&page_number=2&sort=id&direction=asc',\n",
       " 'http://www.gobiernotransparentechile.cl/directorio/entidad/2/2/per_contrata/2015/Noviembre?x=0&y=0&page_number=2&sort=id&direction=asc',\n",
       " 'http://www.gobiernotransparentechile.cl/directorio/entidad/25/351/per_planta/A%C3%B1o%202016/Julio',\n",
       " 'http://www.gobiernotransparentechile.cl/directorio/entidad/12/173/per_contrata/A%EF%BF%BDo%202012/Abril?x=0&y=0&page_number=3&sort=id&direction=asc',\n",
       " 'http://www.gobiernotransparentechile.cl/directorio/entidad/19/271/per_contrata/A%C3%B1o%202012/A%C3%B1o%202012%20-%20Febrero?x=0&y=0&page_number=5&sort=id&direction=asc',\n",
       " 'http://www.gobiernotransparentechile.cl/directorio/entidad/8/130/per_contrata/Ao-2007?x=0&y=0&page_number=2&sort=id&direction=asc',\n",
       " 'http://www.gobiernotransparentechile.cl/directorio/entidad/2/10/per_planta/2012/Febrero',\n",
       " 'http://www.gobiernotransparentechile.cl/directorio/entidad/21/279/per_planta/Ao-2011',\n",
       " 'http://www.gobiernotransparentechile.cl/directorio/entidad/19/271/per_contrata/A%C3%B1o%202013/A%C3%B1o%202013%20-%20Julio',\n",
       " 'http://www.gobiernotransparentechile.cl/directorio/entidad/9/348/per_contrata/A%C3%B1o%202015/Febrero?x=0&y=0&page_number=4&sort=id&direction=asc',\n",
       " 'http://www.gobiernotransparentechile.cl/directorio/entidad/25/351/per_contrata/A%C3%B1o%202016/Agosto',\n",
       " 'http://www.gobiernotransparentechile.cl/directorio/entidad/12/167/per_planta/A%C3%B1o%202013/Diciembre',\n",
       " 'http://www.gobiernotransparentechile.cl/directorio/entidad/2/2/per_planta/2016/Diciembre?x=0&y=0&page_number=5&sort=id&direction=asc',\n",
       " 'http://www.gobiernotransparentechile.cl/directorio/entidad/12/171/per_planta/Ao-2008?x=0&y=0&page_number=5&sort=id&direction=asc',\n",
       " 'http://www.gobiernotransparentechile.cl/directorio/entidad/12/173/per_contrata/A%EF%BF%BDo%202013/Abril?x=0&y=0&page_number=2&sort=id&direction=asc',\n",
       " 'http://www.gobiernotransparentechile.cl/directorio/entidad/19/271/per_contrata/A%C3%B1o%202015/A%C3%B1o%202015%20-%20Enero?x=0&y=0&page_number=5&sort=id&direction=asc',\n",
       " 'http://www.gobiernotransparentechile.cl/directorio/entidad/2/2/per_contrata/2011/Octubre?x=0&y=0&page_number=3&sort=id&direction=asc',\n",
       " 'http://www.gobiernotransparentechile.cl/directorio/entidad/12/168/per_planta/Ao-2015-Programa-01',\n",
       " 'http://www.gobiernotransparentechile.cl/directorio/entidad/2/6/per_contrata/2012/Agosto',\n",
       " 'http://www.gobiernotransparentechile.cl/directorio/entidad/8/136/per_planta/Ao-2008',\n",
       " 'http://www.gobiernotransparentechile.cl/directorio/entidad/19/271/per_contrata/A%C3%B1o%202016/A%C3%B1o%202016%20-%20Mayo?x=0&y=0&page_number=4&sort=id&direction=asc',\n",
       " 'http://www.gobiernotransparentechile.cl/directorio/entidad/11/159/per_contrata/Ao-2008?x=0&y=0&page_number=33&sort=id&direction=asc',\n",
       " 'http://www.gobiernotransparentechile.cl/directorio/entidad/15/197/per_contrata/Ao-2010?x=0&y=0&page_number=3&sort=id&direction=asc',\n",
       " 'http://www.gobiernotransparentechile.cl/directorio/entidad/10/146/per_contrata/Ao-2007?x=0&y=0&page_number=14&sort=id&direction=asc',\n",
       " 'http://www.gobiernotransparentechile.cl/directorio/entidad/8/138/per_planta/A%C3%B1o%202008/Abril',\n",
       " 'http://www.gobiernotransparentechile.cl/directorio/entidad/12/173/per_contrata/A%EF%BF%BDo%202016/Noviembre?x=0&y=0&page_number=5&sort=id&direction=asc',\n",
       " 'http://www.gobiernotransparentechile.cl/directorio/entidad/2/345/per_planta/2012/Octubre',\n",
       " 'http://www.gobiernotransparentechile.cl/directorio/entidad/19/271/per_contrata/A%C3%B1o%202016/A%C3%B1o%202016%20-%20Junio?x=0&y=0&page_number=2&sort=id&direction=asc',\n",
       " 'http://www.gobiernotransparentechile.cl/directorio/entidad/4/285/per_planta/2006',\n",
       " 'http://www.gobiernotransparentechile.cl/directorio/entidad/13/179/per_planta/A%EF%BF%BDo%202012/Noviembre',\n",
       " 'http://www.gobiernotransparentechile.cl/directorio/entidad/12/171/per_planta/A%C3%B1o%202016/Septiembre?x=0&y=0&page_number=3&sort=id&direction=asc',\n",
       " 'http://www.gobiernotransparentechile.cl/directorio/entidad/12/171/per_planta/Ao-2007?x=0&y=0&page_number=5&sort=id&direction=asc',\n",
       " 'http://www.gobiernotransparentechile.cl/directorio/entidad/19/271/per_contrata/A%C3%B1o%202012/A%C3%B1o%202012%20-%20Mayo',\n",
       " 'http://www.gobiernotransparentechile.cl/directorio/entidad/12/173/per_contrata/A%EF%BF%BDo%202014/Enero?x=0&y=0&page_number=3&sort=id&direction=asc',\n",
       " 'http://www.gobiernotransparentechile.cl/directorio/entidad/19/271/per_planta/A%C3%B1o%202012/A%C3%B1o%202012%20-%20Noviembre',\n",
       " 'http://www.gobiernotransparentechile.cl/directorio/entidad/19/271/per_contrata/A%C3%B1o%202015/A%C3%B1o%202015%20-%20Julio?x=0&y=0&page_number=3&sort=id&direction=asc',\n",
       " 'http://www.gobiernotransparentechile.cl/directorio/entidad/2/11/per_planta/2011/Julio',\n",
       " 'http://www.gobiernotransparentechile.cl/directorio/entidad/19/271/per_contrata/A%C3%B1o%202012/A%C3%B1o%202012%20-%20Octubre?x=0&y=0&page_number=2&sort=id&direction=asc',\n",
       " 'http://www.gobiernotransparentechile.cl/directorio/entidad/13/177/per_planta/A%EF%BF%BDo%202015/Julio',\n",
       " 'http://www.gobiernotransparentechile.cl/directorio/entidad/13/179/per_contrata/A%EF%BF%BDo%202011/Marzo?x=0&y=0&page_number=2&sort=id&direction=asc',\n",
       " 'http://www.gobiernotransparentechile.cl/directorio/entidad/19/271/per_contrata/A%C3%B1o%202011/A%C3%B1o%202011%20-%20Octubre?x=0&y=0&page_number=5&sort=id&direction=asc',\n",
       " 'http://www.gobiernotransparentechile.cl/directorio/entidad/12/169/per_contrata/Ao-2011?x=0&y=0&page_number=11&sort=id&direction=asc',\n",
       " 'http://www.gobiernotransparentechile.cl/directorio/entidad/10/146/per_contrata/Ao-2009?x=0&y=0&page_number=11&sort=id&direction=asc',\n",
       " 'http://www.gobiernotransparentechile.cl/directorio/entidad/10/146/per_contrata/Ao-2006?x=0&y=0&page_number=17&sort=id&direction=asc',\n",
       " 'http://www.gobiernotransparentechile.cl/directorio/entidad/11/159/per_contrata/DICIEMBRE?x=0&y=0&page_number=20&sort=id&direction=asc',\n",
       " 'http://www.gobiernotransparentechile.cl/directorio/entidad/12/169/per_contrata/Ao-2009?x=0&y=0&page_number=13&sort=id&direction=asc',\n",
       " 'http://www.gobiernotransparentechile.cl/directorio/entidad/19/271/per_planta/A%C3%B1o%202015/A%C3%B1o%202015%20-%20Junio',\n",
       " 'http://www.gobiernotransparentechile.cl/directorio/entidad/12/170/per_planta/Ao-2014',\n",
       " 'http://www.gobiernotransparentechile.cl/directorio/entidad/2/8/per_planta/2013/Noviembre',\n",
       " 'http://www.gobiernotransparentechile.cl/directorio/entidad/8/138/per_contrata/A%C3%B1o%202008/Julio',\n",
       " 'http://www.gobiernotransparentechile.cl/directorio/entidad/2/2/per_planta/2014/Julio?x=0&y=0&page_number=4&sort=id&direction=asc',\n",
       " 'http://www.gobiernotransparentechile.cl/directorio/entidad/12/169/per_planta/Ao-2009?x=0&y=0&page_number=4&sort=id&direction=asc',\n",
       " 'http://www.gobiernotransparentechile.cl/directorio/entidad/12/173/per_contrata/A%EF%BF%BDo%202014/Mayo?x=0&y=0&page_number=5&sort=id&direction=asc',\n",
       " 'http://www.gobiernotransparentechile.cl/directorio/entidad/8/139/per_contrata/A%C3%B1o%202015/Mayo?x=0&y=0&page_number=4&sort=id&direction=asc',\n",
       " 'http://www.gobiernotransparentechile.cl/directorio/entidad/2/345/per_planta/2012/Noviembre',\n",
       " 'http://www.gobiernotransparentechile.cl/directorio/entidad/12/167/per_planta/A%C3%B1o%202010/Abril',\n",
       " 'http://www.gobiernotransparentechile.cl/directorio/entidad/12/167/per_planta/A%C3%B1o%202016/Agosto',\n",
       " 'http://www.gobiernotransparentechile.cl/directorio/entidad/21/135/per_contrata/Ao-2016?x=0&y=0&page_number=2&sort=id&direction=asc',\n",
       " 'http://www.gobiernotransparentechile.cl/directorio/entidad/19/271/per_contrata/A%C3%B1o%202012/A%C3%B1o%202012%20-%20Febrero?x=0&y=0&page_number=2&sort=id&direction=asc',\n",
       " 'http://www.gobiernotransparentechile.cl/directorio/entidad/21/279/per_contrata/Ao-2016?x=0&y=0&page_number=3&sort=id&direction=asc',\n",
       " 'http://www.gobiernotransparentechile.cl/directorio/entidad/2/2/per_contrata/2015/Enero?x=0&y=0&page_number=5&sort=id&direction=asc',\n",
       " 'http://www.gobiernotransparentechile.cl/directorio/entidad/2/2/per_planta/2010/Diciembre?x=0&y=0&page_number=5&sort=id&direction=asc',\n",
       " 'http://www.gobiernotransparentechile.cl/directorio/entidad/12/167/per_contrata/A%C3%B1o%202014/Agosto',\n",
       " 'http://www.gobiernotransparentechile.cl/directorio/entidad/19/271/per_contrata/A%C3%B1o%202016/A%C3%B1o%202016%20-%20Julio',\n",
       " 'http://www.gobiernotransparentechile.cl/directorio/entidad/10/146/per_contrata/Ao-2009?x=0&y=0&page_number=4&sort=id&direction=asc',\n",
       " 'http://www.gobiernotransparentechile.cl/directorio/entidad/2/11/per_planta/2012/Febrero',\n",
       " 'http://www.gobiernotransparentechile.cl/directorio/entidad/9/348/per_contrata/A%C3%B1o%202014/Mayo?x=0&y=0&page_number=4&sort=id&direction=asc',\n",
       " 'http://www.gobiernotransparentechile.cl/directorio/entidad/12/171/per_contrata/A%C3%B1o%202016/Octubre?x=0&y=0&page_number=5&sort=id&direction=asc',\n",
       " 'http://www.gobiernotransparentechile.cl/directorio/entidad/8/138/per_contrata/A%C3%B1o%202008/Septiembre',\n",
       " 'http://www.gobiernotransparentechile.cl/directorio/entidad/19/271/per_contrata/A%C3%B1o%202015/A%C3%B1o%202015%20-%20Septiembre?x=0&y=0&page_number=3&sort=id&direction=asc',\n",
       " 'http://www.gobiernotransparentechile.cl/directorio/entidad/19/271/per_planta/A%C3%B1o%202016/A%C3%B1o%202016%20-%20Abril',\n",
       " 'http://www.gobiernotransparentechile.cl/directorio/entidad/12/171/per_contrata/A%C3%B1o%202016/Octubre?x=0&y=0&page_number=7&sort=id&direction=asc',\n",
       " 'http://www.gobiernotransparentechile.cl/directorio/entidad/10/146/per_planta/Ao-2009?x=0&y=0&page_number=7&sort=id&direction=asc',\n",
       " 'http://www.gobiernotransparentechile.cl/directorio/entidad/12/173/per_contrata/A%EF%BF%BDo%202015/Marzo?x=0&y=0&page_number=6&sort=id&direction=asc',\n",
       " 'http://www.gobiernotransparentechile.cl/directorio/entidad/11/156/per_contrata/Ao-2014',\n",
       " 'http://www.gobiernotransparentechile.cl/directorio/entidad/19/271/per_contrata/A%C3%B1o%202016/A%C3%B1o%202016%20-%20Marzo?x=0&y=0&page_number=4&sort=id&direction=asc',\n",
       " 'http://www.gobiernotransparentechile.cl/directorio/entidad/10/151/per_contrata/Ao-2015',\n",
       " 'http://www.gobiernotransparentechile.cl/directorio/entidad/2/2/per_planta/2014/Julio?x=0&y=0&page_number=5&sort=id&direction=asc',\n",
       " 'http://www.gobiernotransparentechile.cl/directorio/entidad/12/171/per_contrata/A%C3%B1o%202016/Marzo?x=0&y=0&page_number=20&sort=id&direction=asc',\n",
       " 'http://www.gobiernotransparentechile.cl/directorio/entidad/12/171/per_contrata/A%C3%B1o%202016/Abril?x=0&y=0&page_number=12&sort=id&direction=asc',\n",
       " 'http://www.gobiernotransparentechile.cl/directorio/entidad/10/146/per_contrata/Ao-2009?x=0&y=0&page_number=6&sort=id&direction=asc',\n",
       " 'http://www.gobiernotransparentechile.cl/directorio/entidad/2/5/per_contrata/A%C3%B1o%202016/Octubre?x=0&y=0&page_number=3&sort=id&direction=asc',\n",
       " 'http://www.gobiernotransparentechile.cl/directorio/entidad/12/173/per_contrata/A%EF%BF%BDo%202014/Marzo?x=0&y=0&page_number=2&sort=id&direction=asc',\n",
       " 'http://www.gobiernotransparentechile.cl/directorio/entidad/12/173/per_contrata/A%EF%BF%BDo%202011/Marzo?x=0&y=0&page_number=5&sort=id&direction=asc',\n",
       " 'http://www.gobiernotransparentechile.cl/directorio/entidad/13/179/per_planta/A%EF%BF%BDo%202015/Enero',\n",
       " 'http://www.gobiernotransparentechile.cl/directorio/entidad/2/9/per_contrata/2014/Mayo',\n",
       " 'http://www.gobiernotransparentechile.cl/directorio/entidad/12/173/per_contrata/A%EF%BF%BDo%202016/Julio?x=0&y=0&page_number=5&sort=id&direction=asc',\n",
       " 'http://www.gobiernotransparentechile.cl/directorio/entidad/12/167/per_planta/A%C3%B1o%202010/Julio',\n",
       " 'http://www.gobiernotransparentechile.cl/directorio/entidad/13/179/per_contrata/A%EF%BF%BDo%202011/Junio',\n",
       " 'http://www.gobiernotransparentechile.cl/directorio/entidad/19/271/per_planta/A%C3%B1o%202015/A%C3%B1o%202015%20-%20Octubre',\n",
       " 'http://www.gobiernotransparentechile.cl/directorio/entidad/12/173/per_contrata/A%EF%BF%BDo%202011/Enero?x=0&y=0&page_number=5&sort=id&direction=asc',\n",
       " 'http://www.gobiernotransparentechile.cl/directorio/entidad/9/127/per_planta/A%C3%B1o%202011/Agosto',\n",
       " 'http://www.gobiernotransparentechile.cl/directorio/entidad/19/271/per_contrata/A%C3%B1o%202016/A%C3%B1o%202016%20-%20Diciembre?x=0&y=0&page_number=7&sort=id&direction=asc',\n",
       " 'http://www.gobiernotransparentechile.cl/directorio/entidad/12/173/per_contrata/A%EF%BF%BDo%202012/Diciembre?x=0&y=0&page_number=2&sort=id&direction=asc',\n",
       " 'http://www.gobiernotransparentechile.cl/directorio/entidad/19/271/per_contrata/A%C3%B1o%202014/A%C3%B1o%202014%20-%20Septiembre?x=0&y=0&page_number=4&sort=id&direction=asc',\n",
       " 'http://www.gobiernotransparentechile.cl/directorio/entidad/19/271/per_contrata/A%C3%B1o%202015/A%C3%B1o%202015%20-%20Diciembre?x=0&y=0&page_number=5&sort=id&direction=asc',\n",
       " 'http://www.gobiernotransparentechile.cl/directorio/entidad/12/173/per_contrata/A%EF%BF%BDo%202015/Agosto?x=0&y=0&page_number=2&sort=id&direction=asc',\n",
       " 'http://www.gobiernotransparentechile.cl/directorio/entidad/13/179/per_contrata/A%EF%BF%BDo%202014/Marzo',\n",
       " 'http://www.gobiernotransparentechile.cl/directorio/entidad/3/90/per_contrata/Ao-2009?x=0&y=0&page_number=4&sort=id&direction=asc',\n",
       " 'http://www.gobiernotransparentechile.cl/directorio/entidad/21/273/per_planta/Hist%C3%B3rico/A%C3%B1o%202015',\n",
       " 'http://www.gobiernotransparentechile.cl/directorio/entidad/11/156/per_contrata/Ao-2017?x=0&y=0&page_number=3&sort=id&direction=asc',\n",
       " 'http://www.gobiernotransparentechile.cl/directorio/entidad/12/167/per_planta/A%C3%B1o%202014/Octubre',\n",
       " 'http://www.gobiernotransparentechile.cl/directorio/entidad/19/271/per_contrata/A%C3%B1o%202012/A%C3%B1o%202012%20-%20Julio?x=0&y=0&page_number=5&sort=id&direction=asc',\n",
       " 'http://www.gobiernotransparentechile.cl/directorio/entidad/12/171/per_contrata/A%C3%B1o%202016/Abril?x=0&y=0&page_number=16&sort=id&direction=asc',\n",
       " 'http://www.gobiernotransparentechile.cl/directorio/entidad/12/170/per_planta/Ao-2009?x=0&y=0&page_number=2&sort=id&direction=asc',\n",
       " 'http://www.gobiernotransparentechile.cl/directorio/entidad/19/271/per_contrata/A%C3%B1o%202014/A%C3%B1o%202014%20-%20Septiembre',\n",
       " 'http://www.gobiernotransparentechile.cl/directorio/entidad/12/169/per_contrata/Ao-2013?x=0&y=0&page_number=16&sort=id&direction=asc',\n",
       " 'http://www.gobiernotransparentechile.cl/directorio/entidad/13/179/per_contrata/A%EF%BF%BDo%202015/Abril?x=0&y=0&page_number=2&sort=id&direction=asc',\n",
       " 'http://www.gobiernotransparentechile.cl/directorio/entidad/10/146/per_planta/Ao-2006?x=0&y=0&page_number=3&sort=id&direction=asc',\n",
       " 'http://www.gobiernotransparentechile.cl/directorio/entidad/19/271/per_contrata/A%C3%B1o%202013/A%C3%B1o%202013%20-%20Noviembre?x=0&y=0&page_number=5&sort=id&direction=asc',\n",
       " 'http://www.gobiernotransparentechile.cl/directorio/entidad/12/167/per_planta/A%C3%B1o%202015/Diciembre',\n",
       " 'http://www.gobiernotransparentechile.cl/directorio/entidad/12/171/per_planta/Ao-2007?x=0&y=0&page_number=2&sort=id&direction=asc',\n",
       " 'http://www.gobiernotransparentechile.cl/directorio/entidad/12/173/per_contrata/A%EF%BF%BDo%202012/Agosto?x=0&y=0&page_number=5&sort=id&direction=asc',\n",
       " 'http://www.gobiernotransparentechile.cl/directorio/entidad/19/271/per_contrata/A%C3%B1o%202016/A%C3%B1o%202016%20-%20Junio?x=0&y=0&page_number=6&sort=id&direction=asc',\n",
       " 'http://www.gobiernotransparentechile.cl/directorio/entidad/13/179/per_planta/A%EF%BF%BDo%202016/Julio',\n",
       " 'http://www.gobiernotransparentechile.cl/directorio/entidad/12/167/per_contrata/A%C3%B1o%202013/octubre',\n",
       " 'http://www.gobiernotransparentechile.cl/directorio/entidad/3/90/per_planta/Ao-2009?x=0&y=0&page_number=10&sort=id&direction=asc',\n",
       " 'http://www.gobiernotransparentechile.cl/directorio/entidad/2/2/per_contrata/2011/Abril',\n",
       " 'http://www.gobiernotransparentechile.cl/directorio/entidad/2/2/per_planta/2014/Octubre?x=0&y=0&page_number=2&sort=id&direction=asc',\n",
       " 'http://www.gobiernotransparentechile.cl/directorio/entidad/10/146/per_contrata/Ao-2009?x=0&y=0&page_number=16&sort=id&direction=asc',\n",
       " 'http://www.gobiernotransparentechile.cl/directorio/entidad/12/173/per_contrata/A%EF%BF%BDo%202015/Mayo?x=0&y=0&page_number=5&sort=id&direction=asc',\n",
       " 'http://www.gobiernotransparentechile.cl/directorio/entidad/19/271/per_contrata/A%C3%B1o%202016/A%C3%B1o%202016%20-%20Octubre?x=0&y=0&page_number=6&sort=id&direction=asc',\n",
       " 'http://www.gobiernotransparentechile.cl/directorio/entidad/12/170/per_contrata/-Septiembre?x=0&y=0&page_number=5&sort=id&direction=asc',\n",
       " 'http://www.gobiernotransparentechile.cl/directorio/entidad/19/271/per_contrata/A%C3%B1o%202011/A%C3%B1o%202011%20-%20Julio',\n",
       " 'http://www.gobiernotransparentechile.cl/directorio/entidad/2/9/per_planta/2012/Enero',\n",
       " 'http://www.gobiernotransparentechile.cl/directorio/entidad/13/179/per_contrata/A%EF%BF%BDo%202011/Marzo',\n",
       " 'http://www.gobiernotransparentechile.cl/directorio/entidad/12/169/per_contrata/Ao-2009?x=0&y=0&page_number=11&sort=id&direction=asc',\n",
       " 'http://www.gobiernotransparentechile.cl/directorio/entidad/21/273/per_contrata/Hist%EF%BF%BDrico/A%C3%B1o%202010?x=0&y=0&page_number=2&sort=id&direction=asc',\n",
       " 'http://www.gobiernotransparentechile.cl/directorio/entidad/15/197/per_contrata/Ao-2009',\n",
       " 'http://www.gobiernotransparentechile.cl/directorio/entidad/10/146/per_planta/Ao-2007',\n",
       " 'http://www.gobiernotransparentechile.cl/directorio/entidad/19/271/per_planta/A%C3%B1o%202014/A%C3%B1o%202014%20-%20Julio',\n",
       " 'http://www.gobiernotransparentechile.cl/directorio/entidad/3/92/per_contrata/Ao-2008',\n",
       " 'http://www.gobiernotransparentechile.cl/directorio/entidad/12/175/per_contrata/Ao-2006?x=0&y=0&page_number=3&sort=id&direction=asc',\n",
       " 'http://www.gobiernotransparentechile.cl/directorio/entidad/12/170/per_planta/Ao-2011',\n",
       " 'http://www.gobiernotransparentechile.cl/directorio/entidad/12/171/per_contrata/A%C3%B1o%202016/Abril?x=0&y=0&page_number=2&sort=id&direction=asc',\n",
       " 'http://www.gobiernotransparentechile.cl/directorio/entidad/12/173/per_contrata/A%EF%BF%BDo%202014/Junio?x=0&y=0&page_number=2&sort=id&direction=asc',\n",
       " 'http://www.gobiernotransparentechile.cl/directorio/entidad/12/169/per_contrata/Ao-2010?x=0&y=0&page_number=5&sort=id&direction=asc',\n",
       " 'http://www.gobiernotransparentechile.cl/directorio/entidad/2/8/per_planta/2011/Febrero',\n",
       " 'http://www.gobiernotransparentechile.cl/directorio/entidad/11/159/per_contrata/Ao-2007?x=0&y=0&page_number=18&sort=id&direction=asc',\n",
       " 'http://www.gobiernotransparentechile.cl/directorio/entidad/10/146/per_planta/Ao-2009?x=0&y=0&page_number=5&sort=id&direction=asc',\n",
       " 'http://www.gobiernotransparentechile.cl/directorio/entidad/12/167/per_planta/A%C3%B1o%202016/Abril',\n",
       " 'http://www.gobiernotransparentechile.cl/directorio/entidad/12/167/per_planta/A%C3%B1o%202016/Mayo',\n",
       " 'http://www.gobiernotransparentechile.cl/directorio/entidad/12/169/per_contrata/Ao-2012?x=0&y=0&page_number=17&sort=id&direction=asc',\n",
       " 'http://www.gobiernotransparentechile.cl/directorio/entidad/21/273/per_planta/Hist%C3%B3rico/A%C3%B1o%202011',\n",
       " 'http://www.gobiernotransparentechile.cl/directorio/entidad/12/170/per_planta/Ao-2008',\n",
       " 'http://www.gobiernotransparentechile.cl/directorio/entidad/2/9/per_planta/2014/Marzo',\n",
       " 'http://www.gobiernotransparentechile.cl/directorio/entidad/2/2/per_contrata/2015/Enero?x=0&y=0&page_number=3&sort=id&direction=asc',\n",
       " 'http://www.gobiernotransparentechile.cl/directorio/entidad/13/179/per_planta/A%EF%BF%BDo%202010/Agosto',\n",
       " 'http://www.gobiernotransparentechile.cl/directorio/entidad/2/11/per_planta/2014/Junio',\n",
       " 'http://www.gobiernotransparentechile.cl/directorio/entidad/11/159/per_contrata/Ao-2008?x=0&y=0&page_number=25&sort=id&direction=asc',\n",
       " 'http://www.gobiernotransparentechile.cl/directorio/entidad/19/271/per_planta/A%C3%B1o%202014/A%C3%B1o%202014%20-%20Diciembre',\n",
       " 'http://www.gobiernotransparentechile.cl/directorio/entidad/2/2/per_contrata/2013/Febrero?x=0&y=0&page_number=3&sort=id&direction=asc',\n",
       " 'http://www.gobiernotransparentechile.cl/directorio/entidad/13/179/per_contrata/A%EF%BF%BDo%202012/Febrero?x=0&y=0&page_number=2&sort=id&direction=asc',\n",
       " 'http://www.gobiernotransparentechile.cl/directorio/entidad/13/177/per_planta/A%EF%BF%BDo%202013/A%C3%B1o%202013%20Abril',\n",
       " 'http://www.gobiernotransparentechile.cl/directorio/entidad/2/2/per_planta/2016/Enero?x=0&y=0&page_number=4&sort=id&direction=asc',\n",
       " 'http://www.gobiernotransparentechile.cl/directorio/entidad/13/283/per_planta/A%EF%BF%BDo%202011/A%C3%B1o%202011%20Mayo',\n",
       " 'http://www.gobiernotransparentechile.cl/directorio/entidad/8/138/per_contrata/A%C3%B1o%202008/Abril?x=0&y=0&page_number=3&sort=id&direction=asc',\n",
       " 'http://www.gobiernotransparentechile.cl/directorio/entidad/13/177/per_planta/A%EF%BF%BDo%202012/A%C3%B1o%202012%20Diciembre',\n",
       " 'http://www.gobiernotransparentechile.cl/directorio/entidad/12/171/per_contrata/A%C3%B1o%202016/Agosto?x=0&y=0&page_number=15&sort=id&direction=asc',\n",
       " 'http://www.gobiernotransparentechile.cl/directorio/entidad/12/171/per_contrata/A%C3%B1o%202016/Septiembre?x=0&y=0&page_number=24&sort=id&direction=asc',\n",
       " 'http://www.gobiernotransparentechile.cl/directorio/entidad/3/94/per_planta/Ao-2014',\n",
       " 'http://www.gobiernotransparentechile.cl/directorio/entidad/12/171/per_contrata/Ao-2015?x=0&y=0&page_number=7&sort=id&direction=asc',\n",
       " 'http://www.gobiernotransparentechile.cl/directorio/entidad/13/179/per_planta/A%EF%BF%BDo%202013/Noviembre',\n",
       " 'http://www.gobiernotransparentechile.cl/directorio/entidad/2/2/per_planta/2010/Agosto',\n",
       " 'http://www.gobiernotransparentechile.cl/directorio/entidad/12/169/per_contrata/Ao-2008?x=0&y=0&page_number=13&sort=id&direction=asc',\n",
       " 'http://www.gobiernotransparentechile.cl/directorio/entidad/12/168/per_contrata/A%C3%B1o%202013%20Programa%2001/Julio%202013%20Programa01',\n",
       " 'http://www.gobiernotransparentechile.cl/directorio/entidad/2/8/per_planta/2010/Mayo',\n",
       " 'http://www.gobiernotransparentechile.cl/directorio/entidad/13/179/per_planta/A%EF%BF%BDo%202012/Abril',\n",
       " 'http://www.gobiernotransparentechile.cl/directorio/entidad/8/138/per_contrata/A%C3%B1o%202008/Agosto?x=0&y=0&page_number=3&sort=id&direction=asc',\n",
       " 'http://www.gobiernotransparentechile.cl/directorio/entidad/12/169/per_contrata/Ao-2014?x=0&y=0&page_number=2&sort=id&direction=asc',\n",
       " 'http://www.gobiernotransparentechile.cl/directorio/entidad/8/138/per_planta/A%C3%B1o%202007/Agosto',\n",
       " 'http://www.gobiernotransparentechile.cl/directorio/entidad/12/173/per_contrata/A%EF%BF%BDo%202014/Enero?x=0&y=0&page_number=2&sort=id&direction=asc',\n",
       " 'http://www.gobiernotransparentechile.cl/directorio/entidad/10/146/per_contrata/Ao-2007?x=0&y=0&page_number=18&sort=id&direction=asc',\n",
       " 'http://www.gobiernotransparentechile.cl/directorio/entidad/12/171/per_contrata/A%C3%B1o%202016/Mayo?x=0&y=0&page_number=14&sort=id&direction=asc',\n",
       " 'http://www.gobiernotransparentechile.cl/directorio/entidad/11/159/per_contrata/NOVIEMBRE?x=0&y=0&page_number=12&sort=id&direction=asc',\n",
       " 'http://www.gobiernotransparentechile.cl/directorio/entidad/2/8/per_contrata/2014/Septiembre',\n",
       " 'http://www.gobiernotransparentechile.cl/directorio/entidad/8/139/per_contrata/A%C3%B1o%202012/Abril?x=0&y=0&page_number=5&sort=id&direction=asc',\n",
       " 'http://www.gobiernotransparentechile.cl/directorio/entidad/12/173/per_contrata/A%EF%BF%BDo%202014/Mayo',\n",
       " 'http://www.gobiernotransparentechile.cl/directorio/entidad/13/283/per_planta/A%EF%BF%BDo%202013/A%C3%B1o%202013%20Agosto',\n",
       " 'http://www.gobiernotransparentechile.cl/directorio/entidad/19/271/per_contrata/A%C3%B1o%202011/A%C3%B1o%202011%20-%20Octubre',\n",
       " 'http://www.gobiernotransparentechile.cl/directorio/entidad/12/170/per_contrata/Ao-2013?x=0&y=0&page_number=3&sort=id&direction=asc',\n",
       " 'http://www.gobiernotransparentechile.cl/directorio/entidad/11/159/per_contrata/Ao-2007?x=0&y=0&page_number=20&sort=id&direction=asc',\n",
       " 'http://www.gobiernotransparentechile.cl/directorio/entidad/2/2/per_contrata/2011/Octubre?x=0&y=0&page_number=2&sort=id&direction=asc',\n",
       " 'http://www.gobiernotransparentechile.cl/directorio/entidad/2/2/per_planta/2016/Agosto',\n",
       " 'http://www.gobiernotransparentechile.cl/directorio/entidad/12/170/per_contrata/Ao-2007',\n",
       " 'http://www.gobiernotransparentechile.cl/directorio/entidad/19/271/per_contrata/A%C3%B1o%202016/A%C3%B1o%202016%20-%20Mayo?x=0&y=0&page_number=5&sort=id&direction=asc',\n",
       " 'http://www.gobiernotransparentechile.cl/directorio/entidad/2/5/per_planta/A%C3%B1o%202016/Julio',\n",
       " 'http://www.gobiernotransparentechile.cl/directorio/entidad/13/283/per_planta/A%EF%BF%BDo%202016/Marzo',\n",
       " 'http://www.gobiernotransparentechile.cl/directorio/entidad/12/171/per_contrata/A%C3%B1o%202016/Agosto?x=0&y=0&page_number=12&sort=id&direction=asc',\n",
       " 'http://www.gobiernotransparentechile.cl/directorio/entidad/12/173/per_contrata/A%EF%BF%BDo%202014/Abril',\n",
       " 'http://www.gobiernotransparentechile.cl/directorio/entidad/19/271/per_planta/A%C3%B1o%202013/A%C3%B1o%202013%20-%20Diciembre',\n",
       " 'http://www.gobiernotransparentechile.cl/directorio/entidad/13/177/per_planta/A%EF%BF%BDo%202013/A%C3%B1o%202013%20Octubre',\n",
       " 'http://www.gobiernotransparentechile.cl/directorio/entidad/11/159/per_contrata/Ao-2007?x=0&y=0&page_number=7&sort=id&direction=asc',\n",
       " 'http://www.gobiernotransparentechile.cl/directorio/entidad/2/9/per_planta/2012/Noviembre',\n",
       " 'http://www.gobiernotransparentechile.cl/directorio/entidad/2/2/per_contrata/2015/Septiembre',\n",
       " 'http://www.gobiernotransparentechile.cl/directorio/entidad/2/2/per_contrata/2013/Diciembre?x=0&y=0&page_number=2&sort=id&direction=asc',\n",
       " 'http://www.gobiernotransparentechile.cl/directorio/entidad/12/169/per_planta/Ao-2009?x=0&y=0&page_number=7&sort=id&direction=asc',\n",
       " 'http://www.gobiernotransparentechile.cl/directorio/entidad/12/168/per_contrata/A%C3%B1o%202013%20Programa%2001/Mayo%202013%20Programa01',\n",
       " 'http://www.gobiernotransparentechile.cl/directorio/entidad/10/146/per_planta/Ao-2008?x=0&y=0&page_number=14&sort=id&direction=asc',\n",
       " 'http://www.gobiernotransparentechile.cl/directorio/entidad/19/271/per_contrata/A%C3%B1o%202012/A%C3%B1o%202012%20-%20Febrero?x=0&y=0&page_number=3&sort=id&direction=asc',\n",
       " 'http://www.gobiernotransparentechile.cl/directorio/entidad/12/167/per_contrata/A%C3%B1o%202014/Septiembre',\n",
       " 'http://www.gobiernotransparentechile.cl/directorio/entidad/2/2/per_planta/2010/Noviembre?x=0&y=0&page_number=2&sort=id&direction=asc',\n",
       " 'http://www.gobiernotransparentechile.cl/directorio/entidad/2/2/per_planta/2012/Junio?x=0&y=0&page_number=2&sort=id&direction=asc',\n",
       " 'http://www.gobiernotransparentechile.cl/directorio/entidad/12/171/per_contrata/A%C3%B1o%202016/Septiembre?x=0&y=0&page_number=7&sort=id&direction=asc',\n",
       " 'http://www.gobiernotransparentechile.cl/directorio/entidad/12/167/per_contrata/A%C3%B1o%202016/Abril?x=0&y=0&page_number=2&sort=id&direction=asc',\n",
       " 'http://www.gobiernotransparentechile.cl/directorio/entidad/12/169/per_contrata/Ao-2009?x=0&y=0&page_number=12&sort=id&direction=asc',\n",
       " 'http://www.gobiernotransparentechile.cl/directorio/entidad/2/2/per_planta/2016/Julio',\n",
       " 'http://www.gobiernotransparentechile.cl/directorio/entidad/2/2/per_planta/2010/Abril?x=0&y=0&page_number=3&sort=id&direction=asc',\n",
       " 'http://www.gobiernotransparentechile.cl/directorio/entidad/13/179/per_contrata/A%EF%BF%BDo%202011/Mayo?x=0&y=0&page_number=2&sort=id&direction=asc',\n",
       " 'http://www.gobiernotransparentechile.cl/directorio/entidad/11/156/per_contrata/Ao-2008?x=0&y=0&page_number=3&sort=id&direction=asc',\n",
       " 'http://www.gobiernotransparentechile.cl/directorio/entidad/2/2/per_contrata/2013/Julio?x=0&y=0&page_number=4&sort=id&direction=asc',\n",
       " 'http://www.gobiernotransparentechile.cl/directorio/entidad/11/159/per_contrata/Ao-2015?x=0&y=0&page_number=3&sort=id&direction=asc',\n",
       " 'http://www.gobiernotransparentechile.cl/directorio/entidad/9/145/per_contrata/A%C3%B1o%202015/Octubre?x=0&y=0&page_number=2&sort=id&direction=asc',\n",
       " 'http://www.gobiernotransparentechile.cl/directorio/entidad/2/2/per_planta/2014/Junio?x=0&y=0&page_number=5&sort=id&direction=asc',\n",
       " 'http://www.gobiernotransparentechile.cl/directorio/entidad/2/2/per_planta/2010/Junio?x=0&y=0&page_number=5&sort=id&direction=asc',\n",
       " 'http://www.gobiernotransparentechile.cl/directorio/entidad/2/2/per_contrata/2013/Agosto?x=0&y=0&page_number=3&sort=id&direction=asc',\n",
       " 'http://www.gobiernotransparentechile.cl/directorio/entidad/12/171/per_contrata/A%C3%B1o%202016/Septiembre?x=0&y=0&page_number=17&sort=id&direction=asc',\n",
       " 'http://www.gobiernotransparentechile.cl/directorio/entidad/2/6/per_contrata/2012/Octubre',\n",
       " 'http://www.gobiernotransparentechile.cl/directorio/entidad/19/271/per_contrata/A%C3%B1o%202012/A%C3%B1o%202012%20-%20Diciembre?x=0&y=0&page_number=2&sort=id&direction=asc',\n",
       " 'http://www.gobiernotransparentechile.cl/directorio/entidad/12/169/per_contrata/Ao-2009?x=0&y=0&page_number=3&sort=id&direction=asc',\n",
       " 'http://www.gobiernotransparentechile.cl/directorio/entidad/12/169/per_planta/Ao-2015?x=0&y=0&page_number=6&sort=id&direction=asc',\n",
       " 'http://www.gobiernotransparentechile.cl/directorio/entidad/13/179/per_contrata/Ao-2008?x=0&y=0&page_number=2&sort=id&direction=asc',\n",
       " 'http://www.gobiernotransparentechile.cl/directorio/entidad/12/171/per_contrata/A%C3%B1o%202016/Abril?x=0&y=0&page_number=15&sort=id&direction=asc',\n",
       " 'http://www.gobiernotransparentechile.cl/directorio/entidad/2/2/per_contrata/2013/Julio?x=0&y=0&page_number=5&sort=id&direction=asc',\n",
       " 'http://www.gobiernotransparentechile.cl/directorio/entidad/2/10/per_contrata/2012/Septiembre',\n",
       " 'http://www.gobiernotransparentechile.cl/directorio/entidad/12/169/per_contrata/Ao-2013?x=0&y=0&page_number=8&sort=id&direction=asc',\n",
       " 'http://www.gobiernotransparentechile.cl/directorio/entidad/2/2/per_contrata/2011/Febrero',\n",
       " 'http://www.gobiernotransparentechile.cl/directorio/entidad/12/170/per_planta/Ao-2007',\n",
       " 'http://www.gobiernotransparentechile.cl/directorio/entidad/2/2/per_planta/2014/Abril?x=0&y=0&page_number=3&sort=id&direction=asc',\n",
       " 'http://www.gobiernotransparentechile.cl/directorio/entidad/13/179/per_contrata/A%EF%BF%BDo%202013/Enero',\n",
       " 'http://www.gobiernotransparentechile.cl/directorio/entidad/13/179/per_contrata/A%EF%BF%BDo%202010/Noviembre',\n",
       " 'http://www.gobiernotransparentechile.cl/directorio/entidad/13/177/per_planta/A%EF%BF%BDo%202013/A%C3%B1o%202013%20Enero',\n",
       " 'http://www.gobiernotransparentechile.cl/directorio/entidad/13/179/per_contrata/A%EF%BF%BDo%202010/Noviembre?x=0&y=0&page_number=2&sort=id&direction=asc',\n",
       " 'http://www.gobiernotransparentechile.cl/directorio/entidad/2/8/per_planta/2014/Enero',\n",
       " 'http://www.gobiernotransparentechile.cl/directorio/entidad/12/167/per_planta/A%C3%B1o%202013/Enero',\n",
       " 'http://www.gobiernotransparentechile.cl/directorio/entidad/13/177/per_planta/A%EF%BF%BDo%202011/A%C3%B1o%202011%20Julio',\n",
       " 'http://www.gobiernotransparentechile.cl/directorio/entidad/10/146/per_planta/Ao-2009?x=0&y=0&page_number=3&sort=id&direction=asc',\n",
       " 'http://www.gobiernotransparentechile.cl/directorio/entidad/19/271/per_contrata/A%C3%B1o%202014/A%C3%B1o%202014%20-%20Enero?x=0&y=0&page_number=2&sort=id&direction=asc',\n",
       " 'http://www.gobiernotransparentechile.cl/directorio/entidad/19/271/per_contrata/A%C3%B1o%202012/A%C3%B1o%202012%20-%20Noviembre?x=0&y=0&page_number=4&sort=id&direction=asc',\n",
       " 'http://www.gobiernotransparentechile.cl/directorio/entidad/12/170/per_planta/-Febrero',\n",
       " 'http://www.gobiernotransparentechile.cl/directorio/entidad/19/271/per_contrata/A%C3%B1o%202011/A%C3%B1o%202011%20-%20Julio?x=0&y=0&page_number=2&sort=id&direction=asc',\n",
       " 'http://www.gobiernotransparentechile.cl/directorio/entidad/13/179/per_contrata/A%EF%BF%BDo%202014/Octubre?x=0&y=0&page_number=2&sort=id&direction=asc',\n",
       " 'http://www.gobiernotransparentechile.cl/directorio/entidad/12/169/per_planta/Ao-2009?x=0&y=0&page_number=6&sort=id&direction=asc',\n",
       " 'http://www.gobiernotransparentechile.cl/directorio/entidad/12/173/per_contrata/A%EF%BF%BDo%202012/Septiembre?x=0&y=0&page_number=2&sort=id&direction=asc',\n",
       " 'http://www.gobiernotransparentechile.cl/directorio/entidad/13/177/per_planta/A%EF%BF%BDo%202014/A%C3%B1o%202014%20Diciembre',\n",
       " 'http://www.gobiernotransparentechile.cl/directorio/entidad/2/2/per_planta/2016/Junio?x=0&y=0&page_number=4&sort=id&direction=asc',\n",
       " 'http://www.gobiernotransparentechile.cl/directorio/entidad/12/171/per_contrata/A%C3%B1o%202016/Abril?x=0&y=0&page_number=17&sort=id&direction=asc',\n",
       " 'http://www.gobiernotransparentechile.cl/directorio/entidad/12/174/per_planta/Ao-2016',\n",
       " 'http://www.gobiernotransparentechile.cl/directorio/entidad/2/8/per_planta/2014/Noviembre',\n",
       " 'http://www.gobiernotransparentechile.cl/directorio/entidad/12/173/per_contrata/A%EF%BF%BDo%202016/Diciembre',\n",
       " 'http://www.gobiernotransparentechile.cl/directorio/entidad/12/174/per_planta/Ao-2015',\n",
       " 'http://www.gobiernotransparentechile.cl/directorio/entidad/15/197/per_contrata/Ao-2008?x=0&y=0&page_number=2&sort=id&direction=asc',\n",
       " 'http://www.gobiernotransparentechile.cl/directorio/entidad/19/271/per_contrata/A%C3%B1o%202011/A%C3%B1o%202011%20-%20Septiembre',\n",
       " 'http://www.gobiernotransparentechile.cl/directorio/entidad/12/168/per_contrata/A%C3%B1o%202013%20Programa%2001/Octubre%202013%20Programa01',\n",
       " 'http://www.gobiernotransparentechile.cl/directorio/entidad/12/169/per_contrata/Ao-2015',\n",
       " 'http://www.gobiernotransparentechile.cl/directorio/entidad/12/169/per_contrata/Ao-2013?x=0&y=0&page_number=6&sort=id&direction=asc',\n",
       " 'http://www.gobiernotransparentechile.cl/directorio/entidad/12/171/per_planta/Ao-2011?x=0&y=0&page_number=5&sort=id&direction=asc',\n",
       " 'http://www.gobiernotransparentechile.cl/directorio/entidad/8/130/per_planta/Ao-2008',\n",
       " 'http://www.gobiernotransparentechile.cl/directorio/entidad/2/2/per_contrata/2013/Febrero',\n",
       " 'http://www.gobiernotransparentechile.cl/directorio/entidad/13/179/per_planta/A%EF%BF%BDo%202011/Febrero',\n",
       " 'http://www.gobiernotransparentechile.cl/directorio/entidad/12/173/per_contrata/A%EF%BF%BDo%202013/Septiembre?x=0&y=0&page_number=2&sort=id&direction=asc',\n",
       " 'http://www.gobiernotransparentechile.cl/directorio/entidad/2/2/per_planta/2014/Mayo?x=0&y=0&page_number=3&sort=id&direction=asc',\n",
       " 'http://www.gobiernotransparentechile.cl/directorio/entidad/12/169/per_contrata/Ao-2013?x=0&y=0&page_number=15&sort=id&direction=asc',\n",
       " 'http://www.gobiernotransparentechile.cl/directorio/entidad/12/169/per_contrata/Ao-2009?x=0&y=0&page_number=17&sort=id&direction=asc',\n",
       " 'http://www.gobiernotransparentechile.cl/directorio/entidad/12/168/per_planta/Ao-2013-Programa-01',\n",
       " 'http://www.gobiernotransparentechile.cl/directorio/entidad/4/114/per_planta/Ao-2008?x=0&y=0&page_number=5&sort=id&direction=asc',\n",
       " 'http://www.gobiernotransparentechile.cl/directorio/entidad/12/175/per_planta/Ao-2011',\n",
       " 'http://www.gobiernotransparentechile.cl/directorio/entidad/12/169/per_planta/Ao-2010',\n",
       " 'http://www.gobiernotransparentechile.cl/directorio/entidad/12/167/per_contrata/A%C3%B1o%202016/Marzo?x=0&y=0&page_number=2&sort=id&direction=asc',\n",
       " 'http://www.gobiernotransparentechile.cl/directorio/entidad/10/146/per_contrata/Ao-2014?x=0&y=0&page_number=61&sort=id&direction=asc',\n",
       " 'http://www.gobiernotransparentechile.cl/directorio/entidad/10/146/per_contrata/Ao-2014?x=0&y=0&page_number=37&sort=id&direction=asc',\n",
       " 'http://www.gobiernotransparentechile.cl/directorio/entidad/19/271/per_contrata/A%C3%B1o%202012/A%C3%B1o%202012%20-%20Febrero',\n",
       " 'http://www.gobiernotransparentechile.cl/directorio/entidad/12/173/per_contrata/A%EF%BF%BDo%202011/Octubre?x=0&y=0&page_number=3&sort=id&direction=asc',\n",
       " 'http://www.gobiernotransparentechile.cl/directorio/entidad/8/138/per_contrata/A%C3%B1o%202008/Diciembre',\n",
       " 'http://www.gobiernotransparentechile.cl/directorio/entidad/19/271/per_contrata/A%C3%B1o%202016/A%C3%B1o%202016%20-%20Noviembre?x=0&y=0&page_number=5&sort=id&direction=asc',\n",
       " 'http://www.gobiernotransparentechile.cl/directorio/entidad/12/169/per_contrata/Ao-2006?x=0&y=0&page_number=8&sort=id&direction=asc',\n",
       " 'http://www.gobiernotransparentechile.cl/directorio/entidad/12/173/per_contrata/A%EF%BF%BDo%202015/Diciembre?x=0&y=0&page_number=5&sort=id&direction=asc',\n",
       " 'http://www.gobiernotransparentechile.cl/directorio/entidad/12/174/per_planta/Ao-2011',\n",
       " 'http://www.gobiernotransparentechile.cl/directorio/entidad/12/173/per_contrata/A%EF%BF%BDo%202015/Noviembre?x=0&y=0&page_number=4&sort=id&direction=asc',\n",
       " 'http://www.gobiernotransparentechile.cl/directorio/entidad/12/171/per_contrata/A%C3%B1o%202016/Julio?x=0&y=0&page_number=17&sort=id&direction=asc',\n",
       " 'http://www.gobiernotransparentechile.cl/directorio/entidad/2/2/per_planta/2016/Julio?x=0&y=0&page_number=3&sort=id&direction=asc',\n",
       " 'http://www.gobiernotransparentechile.cl/directorio/entidad/9/141/per_contrata/A%C3%B1o%202012/Marzo?x=0&y=0&page_number=5&sort=id&direction=asc',\n",
       " 'http://www.gobiernotransparentechile.cl/directorio/entidad/19/271/per_contrata/A%C3%B1o%202016/A%C3%B1o%202016%20-%20Febrero?x=0&y=0&page_number=6&sort=id&direction=asc',\n",
       " 'http://www.gobiernotransparentechile.cl/directorio/entidad/21/135/per_contrata/Ao-2008',\n",
       " 'http://www.gobiernotransparentechile.cl/directorio/entidad/12/173/per_contrata/A%EF%BF%BDo%202012/Diciembre?x=0&y=0&page_number=4&sort=id&direction=asc',\n",
       " 'http://www.gobiernotransparentechile.cl/directorio/entidad/12/167/per_planta/A%C3%B1o%202014/Mayo',\n",
       " 'http://www.gobiernotransparentechile.cl/directorio/entidad/2/9/per_planta/2013/Noviembre',\n",
       " 'http://www.gobiernotransparentechile.cl/directorio/entidad/8/138/per_contrata/A%C3%B1o%202007/Febrero',\n",
       " 'http://www.gobiernotransparentechile.cl/directorio/entidad/12/168/per_contrata/A%C3%B1o%202013%20Programa%2001/Febrero%202013%20Programa01',\n",
       " 'http://www.gobiernotransparentechile.cl/directorio/entidad/2/8/per_planta/2014/Febrero',\n",
       " 'http://www.gobiernotransparentechile.cl/directorio/entidad/13/179/per_contrata/A%EF%BF%BDo%202014/Agosto?x=0&y=0&page_number=2&sort=id&direction=asc',\n",
       " 'http://www.gobiernotransparentechile.cl/directorio/entidad/12/173/per_contrata/A%EF%BF%BDo%202011/Febrero?x=0&y=0&page_number=4&sort=id&direction=asc',\n",
       " 'http://www.gobiernotransparentechile.cl/directorio/entidad/12/173/per_contrata/A%EF%BF%BDo%202016/Junio?x=0&y=0&page_number=2&sort=id&direction=asc',\n",
       " 'http://www.gobiernotransparentechile.cl/directorio/entidad/12/171/per_contrata/A%C3%B1o%202016/Febrero?x=0&y=0&page_number=11&sort=id&direction=asc',\n",
       " 'http://www.gobiernotransparentechile.cl/directorio/entidad/12/171/per_contrata/A%C3%B1o%202016/Septiembre?x=0&y=0&page_number=10&sort=id&direction=asc',\n",
       " 'http://www.gobiernotransparentechile.cl/directorio/entidad/15/197/per_contrata/Ao-2016',\n",
       " 'http://www.gobiernotransparentechile.cl/directorio/entidad/2/2/per_planta/2009/Agosto?x=0&y=0&page_number=4&sort=id&direction=asc',\n",
       " 'http://www.gobiernotransparentechile.cl/directorio/entidad/2/2/per_planta/2016/Agosto?x=0&y=0&page_number=2&sort=id&direction=asc',\n",
       " 'http://www.gobiernotransparentechile.cl/directorio/entidad/10/356/per_contrata/A%C3%B1o%202016/Julio',\n",
       " 'http://www.gobiernotransparentechile.cl/directorio/entidad/13/179/per_contrata/A%EF%BF%BDo%202016/Junio?x=0&y=0&page_number=2&sort=id&direction=asc',\n",
       " 'http://www.gobiernotransparentechile.cl/directorio/entidad/12/167/per_planta/A%C3%B1o%202013/Junio',\n",
       " 'http://www.gobiernotransparentechile.cl/directorio/entidad/19/271/per_contrata/A%C3%B1o%202016/A%C3%B1o%202016%20-%20Enero?x=0&y=0&page_number=7&sort=id&direction=asc',\n",
       " 'http://www.gobiernotransparentechile.cl/directorio/entidad/12/171/per_planta/A%C3%B1o%202016/Julio',\n",
       " 'http://www.gobiernotransparentechile.cl/directorio/entidad/12/167/per_contrata/A%C3%B1o%202014/Abril',\n",
       " 'http://www.gobiernotransparentechile.cl/directorio/entidad/12/169/per_contrata/Ao-2012?x=0&y=0&page_number=14&sort=id&direction=asc',\n",
       " 'http://www.gobiernotransparentechile.cl/directorio/entidad/19/271/per_contrata/A%C3%B1o%202014/A%C3%B1o%202014%20-%20Enero',\n",
       " 'http://www.gobiernotransparentechile.cl/directorio/entidad/12/169/per_planta/Ao-2009',\n",
       " 'http://www.gobiernotransparentechile.cl/directorio/entidad/12/167/per_planta/A%C3%B1o%202014/Junio',\n",
       " 'http://www.gobiernotransparentechile.cl/directorio/entidad/8/138/per_contrata/A%C3%B1o%202013/Octubre?x=0&y=0&page_number=2&sort=id&direction=asc',\n",
       " 'http://www.gobiernotransparentechile.cl/directorio/entidad/11/159/per_contrata/ENERO?x=0&y=0&page_number=13&sort=id&direction=asc',\n",
       " 'http://www.gobiernotransparentechile.cl/directorio/entidad/2/5/per_contrata/A%C3%B1o%202016/Mayo?x=0&y=0&page_number=2&sort=id&direction=asc',\n",
       " 'http://www.gobiernotransparentechile.cl/directorio/entidad/12/171/per_contrata/A%C3%B1o%202016/Junio?x=0&y=0&page_number=2&sort=id&direction=asc',\n",
       " 'http://www.gobiernotransparentechile.cl/directorio/entidad/13/177/per_planta/A%EF%BF%BDo%202011/A%C3%B1o%202011%20Abril',\n",
       " 'http://www.gobiernotransparentechile.cl/directorio/entidad/12/169/per_contrata/Ao-2016',\n",
       " 'http://www.gobiernotransparentechile.cl/directorio/entidad/12/173/per_contrata/A%EF%BF%BDo%202015/Noviembre?x=0&y=0&page_number=2&sort=id&direction=asc',\n",
       " 'http://www.gobiernotransparentechile.cl/directorio/entidad/13/177/per_planta/A%EF%BF%BDo%202014/A%C3%B1o%202014%20Enero',\n",
       " 'http://www.gobiernotransparentechile.cl/directorio/entidad/13/179/per_planta/A%EF%BF%BDo%202015/Mayo',\n",
       " 'http://www.gobiernotransparentechile.cl/directorio/entidad/12/169/per_contrata/Ao-2015?x=0&y=0&page_number=2&sort=id&direction=asc',\n",
       " 'http://www.gobiernotransparentechile.cl/directorio/entidad/12/170/per_contrata/-Diciembre?x=0&y=0&page_number=4&sort=id&direction=asc',\n",
       " 'http://www.gobiernotransparentechile.cl/directorio/entidad/19/271/per_contrata/A%C3%B1o%202016/A%C3%B1o%202016%20-%20Enero?x=0&y=0&page_number=6&sort=id&direction=asc',\n",
       " 'http://www.gobiernotransparentechile.cl/directorio/entidad/19/271/per_contrata/A%C3%B1o%202013/A%C3%B1o%202013%20-%20Junio?x=0&y=0&page_number=5&sort=id&direction=asc',\n",
       " 'http://www.gobiernotransparentechile.cl/directorio/entidad/12/169/per_contrata/Ao-2011?x=0&y=0&page_number=7&sort=id&direction=asc',\n",
       " 'http://www.gobiernotransparentechile.cl/directorio/entidad/12/170/per_contrata/Ao-2011?x=0&y=0&page_number=2&sort=id&direction=asc',\n",
       " 'http://www.gobiernotransparentechile.cl/directorio/entidad/2/2/per_planta/2014/Febrero?x=0&y=0&page_number=5&sort=id&direction=asc',\n",
       " 'http://www.gobiernotransparentechile.cl/directorio/entidad/10/146/per_planta/Ao-2014?x=0&y=0&page_number=10&sort=id&direction=asc',\n",
       " 'http://www.gobiernotransparentechile.cl/directorio/entidad/2/10/per_planta/2012/Diciembre',\n",
       " 'http://www.gobiernotransparentechile.cl/directorio/entidad/12/169/per_contrata/Ao-2009?x=0&y=0&page_number=10&sort=id&direction=asc',\n",
       " 'http://www.gobiernotransparentechile.cl/directorio/entidad/13/179/per_contrata/A%EF%BF%BDo%202010/Agosto',\n",
       " 'http://www.gobiernotransparentechile.cl/directorio/entidad/13/179/per_contrata/A%EF%BF%BDo%202011/Julio?x=0&y=0&page_number=2&sort=id&direction=asc',\n",
       " 'http://www.gobiernotransparentechile.cl/directorio/entidad/12/173/per_contrata/A%EF%BF%BDo%202016/Octubre?x=0&y=0&page_number=5&sort=id&direction=asc',\n",
       " 'http://www.gobiernotransparentechile.cl/directorio/entidad/8/138/per_contrata/A%C3%B1o%202008/Octubre?x=0&y=0&page_number=2&sort=id&direction=asc',\n",
       " 'http://www.gobiernotransparentechile.cl/directorio/entidad/12/173/per_contrata/A%EF%BF%BDo%202016/Enero?x=0&y=0&page_number=4&sort=id&direction=asc',\n",
       " 'http://www.gobiernotransparentechile.cl/directorio/entidad/21/135/per_contrata/Ao-2009',\n",
       " 'http://www.gobiernotransparentechile.cl/directorio/entidad/2/11/per_planta/2014/Octubre',\n",
       " 'http://www.gobiernotransparentechile.cl/directorio/entidad/13/177/per_planta/A%EF%BF%BDo%202012/A%C3%B1o%202012%20Abril',\n",
       " 'http://www.gobiernotransparentechile.cl/directorio/entidad/15/197/per_contrata/Ao-2013',\n",
       " 'http://www.gobiernotransparentechile.cl/directorio/entidad/2/2/per_contrata/2011/Noviembre',\n",
       " 'http://www.gobiernotransparentechile.cl/directorio/entidad/2/8/per_planta/2010/Julio',\n",
       " 'http://www.gobiernotransparentechile.cl/directorio/entidad/13/177/per_planta/A%EF%BF%BDo%202016/Agosto',\n",
       " 'http://www.gobiernotransparentechile.cl/directorio/entidad/2/9/per_planta/2014/Noviembre',\n",
       " 'http://www.gobiernotransparentechile.cl/directorio/entidad/19/271/per_contrata/A%C3%B1o%202015/A%C3%B1o%202015%20-%20Abril?x=0&y=0&page_number=6&sort=id&direction=asc',\n",
       " 'http://www.gobiernotransparentechile.cl/directorio/entidad/12/169/per_planta/Ao-2008?x=0&y=0&page_number=9&sort=id&direction=asc',\n",
       " 'http://www.gobiernotransparentechile.cl/directorio/entidad/12/171/per_contrata/A%C3%B1o%202016/Enero?x=0&y=0&page_number=21&sort=id&direction=asc',\n",
       " 'http://www.gobiernotransparentechile.cl/directorio/entidad/10/146/per_contrata/Ao-2008?x=0&y=0&page_number=20&sort=id&direction=asc',\n",
       " 'http://www.gobiernotransparentechile.cl/directorio/entidad/12/167/per_contrata/A%C3%B1o%202016/Marzo',\n",
       " 'http://www.gobiernotransparentechile.cl/directorio/entidad/12/170/per_contrata/-Octubre?x=0&y=0&page_number=2&sort=id&direction=asc',\n",
       " 'http://www.gobiernotransparentechile.cl/directorio/entidad/12/170/per_contrata/Ao-2015?x=0&y=0&page_number=3&sort=id&direction=asc',\n",
       " 'http://www.gobiernotransparentechile.cl/directorio/entidad/12/169/per_planta/Ao-2009?x=0&y=0&page_number=8&sort=id&direction=asc',\n",
       " 'http://www.gobiernotransparentechile.cl/directorio/entidad/12/173/per_contrata/A%EF%BF%BDo%202013/Octubre?x=0&y=0&page_number=4&sort=id&direction=asc',\n",
       " 'http://www.gobiernotransparentechile.cl/directorio/entidad/12/169/per_contrata/Ao-2009?x=0&y=0&page_number=6&sort=id&direction=asc',\n",
       " 'http://www.gobiernotransparentechile.cl/directorio/entidad/12/173/per_contrata/A%EF%BF%BDo%202014/Noviembre',\n",
       " 'http://www.gobiernotransparentechile.cl/directorio/entidad/12/169/per_contrata/Ao-2007?x=0&y=0&page_number=4&sort=id&direction=asc',\n",
       " 'http://www.gobiernotransparentechile.cl/directorio/entidad/2/8/per_contrata/2014/Junio',\n",
       " 'http://www.gobiernotransparentechile.cl/directorio/entidad/12/169/per_contrata/Ao-2006?x=0&y=0&page_number=5&sort=id&direction=asc',\n",
       " 'http://www.gobiernotransparentechile.cl/directorio/entidad/13/179/per_contrata/A%EF%BF%BDo%202013/Abril',\n",
       " 'http://www.gobiernotransparentechile.cl/directorio/entidad/12/169/per_planta/Ao-2009?x=0&y=0&page_number=7&sort=id&direction=asc',\n",
       " 'http://www.gobiernotransparentechile.cl/directorio/entidad/19/271/per_contrata/A%C3%B1o%202016/A%C3%B1o%202016%20-%20Octubre?x=0&y=0&page_number=4&sort=id&direction=asc',\n",
       " 'http://www.gobiernotransparentechile.cl/directorio/entidad/12/171/per_planta/A%C3%B1o%202016/Abril',\n",
       " 'http://www.gobiernotransparentechile.cl/directorio/entidad/2/11/per_planta/2014/Marzo',\n",
       " 'http://www.gobiernotransparentechile.cl/directorio/entidad/13/179/per_contrata/A%EF%BF%BDo%202014/Junio?x=0&y=0&page_number=2&sort=id&direction=asc',\n",
       " 'http://www.gobiernotransparentechile.cl/directorio/entidad/19/271/per_contrata/A%C3%B1o%202016/A%C3%B1o%202016%20-%20Marzo?x=0&y=0&page_number=2&sort=id&direction=asc',\n",
       " 'http://www.gobiernotransparentechile.cl/directorio/entidad/11/159/per_contrata/AGOSTO?x=0&y=0&page_number=12&sort=id&direction=asc',\n",
       " 'http://www.gobiernotransparentechile.cl/directorio/entidad/2/9/per_planta/2012/Abril',\n",
       " 'http://www.gobiernotransparentechile.cl/directorio/entidad/10/146/per_contrata/Ao-2008?x=0&y=0&page_number=23&sort=id&direction=asc',\n",
       " 'http://www.gobiernotransparentechile.cl/directorio/entidad/19/271/per_contrata/A%C3%B1o%202014/A%C3%B1o%202014%20-%20Agosto?x=0&y=0&page_number=6&sort=id&direction=asc',\n",
       " 'http://www.gobiernotransparentechile.cl/directorio/entidad/12/171/per_planta/Ao-2007?x=0&y=0&page_number=6&sort=id&direction=asc',\n",
       " 'http://www.gobiernotransparentechile.cl/directorio/entidad/12/169/per_contrata/Ao-2011?x=0&y=0&page_number=12&sort=id&direction=asc',\n",
       " 'http://www.gobiernotransparentechile.cl/directorio/entidad/8/138/per_contrata/A%C3%B1o%202008/Diciembre?x=0&y=0&page_number=3&sort=id&direction=asc',\n",
       " 'http://www.gobiernotransparentechile.cl/directorio/entidad/21/279/per_contrata/Ao-2014?x=0&y=0&page_number=3&sort=id&direction=asc',\n",
       " 'http://www.gobiernotransparentechile.cl/directorio/entidad/8/136/per_contrata/Ao-2011',\n",
       " 'http://www.gobiernotransparentechile.cl/directorio/entidad/9/145/per_planta/A%C3%B1o%202015/Diciembre',\n",
       " 'http://www.gobiernotransparentechile.cl/directorio/entidad/12/171/per_contrata/A%C3%B1o%202016/Julio?x=0&y=0&page_number=19&sort=id&direction=asc',\n",
       " 'http://www.gobiernotransparentechile.cl/directorio/entidad/2/2/per_planta/2014/Enero?x=0&y=0&page_number=5&sort=id&direction=asc',\n",
       " 'http://www.gobiernotransparentechile.cl/directorio/entidad/13/179/per_planta/A%EF%BF%BDo%202010/Diciembre',\n",
       " 'http://www.gobiernotransparentechile.cl/directorio/entidad/12/167/per_contrata/Ao-2007',\n",
       " 'http://www.gobiernotransparentechile.cl/directorio/entidad/15/197/per_contrata/Ao-2014?x=0&y=0&page_number=2&sort=id&direction=asc',\n",
       " 'http://www.gobiernotransparentechile.cl/directorio/entidad/13/179/per_contrata/A%EF%BF%BDo%202016/Noviembre',\n",
       " 'http://www.gobiernotransparentechile.cl/directorio/entidad/13/283/per_planta/A%EF%BF%BDo%202016/Febrero',\n",
       " 'http://www.gobiernotransparentechile.cl/directorio/entidad/8/138/per_contrata/A%C3%B1o%202008/Julio?x=0&y=0&page_number=2&sort=id&direction=asc',\n",
       " 'http://www.gobiernotransparentechile.cl/directorio/entidad/13/283/per_planta/Ao-2008',\n",
       " 'http://www.gobiernotransparentechile.cl/directorio/entidad/2/6/per_contrata/2012/Abril',\n",
       " 'http://www.gobiernotransparentechile.cl/directorio/entidad/2/2/per_contrata/2013/Noviembre?x=0&y=0&page_number=2&sort=id&direction=asc',\n",
       " 'http://www.gobiernotransparentechile.cl/directorio/entidad/2/5/per_contrata/A%C3%B1o%202016/Noviembre?x=0&y=0&page_number=4&sort=id&direction=asc',\n",
       " 'http://www.gobiernotransparentechile.cl/directorio/entidad/12/173/per_contrata/A%EF%BF%BDo%202011/Noviembre?x=0&y=0&page_number=2&sort=id&direction=asc',\n",
       " 'http://www.gobiernotransparentechile.cl/directorio/entidad/19/271/per_contrata/A%C3%B1o%202014/A%C3%B1o%202014%20-%20Noviembre?x=0&y=0&page_number=2&sort=id&direction=asc',\n",
       " 'http://www.gobiernotransparentechile.cl/directorio/entidad/19/271/per_contrata/A%C3%B1o%202012/A%C3%B1o%202012%20-%20Enero?x=0&y=0&page_number=3&sort=id&direction=asc',\n",
       " 'http://www.gobiernotransparentechile.cl/directorio/entidad/12/169/per_contrata/Ao-2011?x=0&y=0&page_number=4&sort=id&direction=asc',\n",
       " 'http://www.gobiernotransparentechile.cl/directorio/entidad/12/169/per_contrata/Ao-2016?x=0&y=0&page_number=15&sort=id&direction=asc',\n",
       " 'http://www.gobiernotransparentechile.cl/directorio/entidad/12/171/per_planta/Ao-2006?x=0&y=0&page_number=4&sort=id&direction=asc',\n",
       " 'http://www.gobiernotransparentechile.cl/directorio/entidad/13/179/per_contrata/A%EF%BF%BDo%202014/Febrero?x=0&y=0&page_number=2&sort=id&direction=asc',\n",
       " 'http://www.gobiernotransparentechile.cl/directorio/entidad/12/171/per_contrata/A%C3%B1o%202016/Agosto?x=0&y=0&page_number=9&sort=id&direction=asc',\n",
       " 'http://www.gobiernotransparentechile.cl/directorio/entidad/12/168/per_contrata/Ao-2016-Programa-01',\n",
       " 'http://www.gobiernotransparentechile.cl/directorio/entidad/2/10/per_planta/2011/Abril',\n",
       " 'http://www.gobiernotransparentechile.cl/directorio/entidad/2/8/per_planta/2011/Septiembre',\n",
       " 'http://www.gobiernotransparentechile.cl/directorio/entidad/12/173/per_contrata/A%EF%BF%BDo%202012/Enero?x=0&y=0&page_number=6&sort=id&direction=asc',\n",
       " 'http://www.gobiernotransparentechile.cl/directorio/entidad/2/5/per_contrata/A%C3%B1o%202016/Junio?x=0&y=0&page_number=2&sort=id&direction=asc',\n",
       " 'http://www.gobiernotransparentechile.cl/directorio/entidad/12/167/per_planta/A%C3%B1o%202009%20%28Abril-Diciembre%29/Junio',\n",
       " 'http://www.gobiernotransparentechile.cl/directorio/entidad/2/8/per_contrata/2014/Octubre',\n",
       " 'http://www.gobiernotransparentechile.cl/directorio/entidad/10/146/per_contrata/Ao-2014?x=0&y=0&page_number=70&sort=id&direction=asc',\n",
       " 'http://www.gobiernotransparentechile.cl/directorio/entidad/12/173/per_contrata/A%EF%BF%BDo%202015/Febrero?x=0&y=0&page_number=3&sort=id&direction=asc',\n",
       " 'http://www.gobiernotransparentechile.cl/directorio/entidad/19/271/per_contrata/A%C3%B1o%202013/A%C3%B1o%202013%20-%20Octubre?x=0&y=0&page_number=6&sort=id&direction=asc',\n",
       " 'http://www.gobiernotransparentechile.cl/directorio/entidad/12/173/per_contrata/A%EF%BF%BDo%202015/Febrero',\n",
       " 'http://www.gobiernotransparentechile.cl/directorio/entidad/12/169/per_contrata/Ao-2013?x=0&y=0&page_number=5&sort=id&direction=asc',\n",
       " 'http://www.gobiernotransparentechile.cl/directorio/entidad/12/173/per_contrata/A%EF%BF%BDo%202013/Agosto?x=0&y=0&page_number=4&sort=id&direction=asc',\n",
       " 'http://www.gobiernotransparentechile.cl/directorio/entidad/8/139/per_contrata/A%C3%B1o%202015/Julio?x=0&y=0&page_number=4&sort=id&direction=asc',\n",
       " 'http://www.gobiernotransparentechile.cl/directorio/entidad/12/171/per_contrata/A%C3%B1o%202016/Mayo?x=0&y=0&page_number=2&sort=id&direction=asc',\n",
       " 'http://www.gobiernotransparentechile.cl/directorio/entidad/2/2/per_planta/2010/Marzo',\n",
       " 'http://www.gobiernotransparentechile.cl/directorio/entidad/19/271/per_contrata/A%C3%B1o%202014/A%C3%B1o%202014%20-%20Enero?x=0&y=0&page_number=4&sort=id&direction=asc',\n",
       " 'http://www.gobiernotransparentechile.cl/directorio/entidad/13/179/per_contrata/A%EF%BF%BDo%202015/Diciembre?x=0&y=0&page_number=2&sort=id&direction=asc',\n",
       " 'http://www.gobiernotransparentechile.cl/directorio/entidad/19/271/per_planta/A%C3%B1o%202014/A%C3%B1o%202014%20-%20Septiembre',\n",
       " 'http://www.gobiernotransparentechile.cl/directorio/entidad/19/271/per_planta/A%C3%B1o%202013/A%C3%B1o%202013%20-%20Agosto',\n",
       " 'http://www.gobiernotransparentechile.cl/directorio/entidad/8/138/per_planta/A%C3%B1o%202007/Abril',\n",
       " 'http://www.gobiernotransparentechile.cl/directorio/entidad/2/2/per_contrata/2011/Abril?x=0&y=0&page_number=2&sort=id&direction=asc',\n",
       " 'http://www.gobiernotransparentechile.cl/directorio/entidad/2/9/per_contrata/2014/Junio',\n",
       " 'http://www.gobiernotransparentechile.cl/directorio/entidad/2/5/per_contrata/A%C3%B1o%202016/Abril?x=0&y=0&page_number=4&sort=id&direction=asc',\n",
       " 'http://www.gobiernotransparentechile.cl/directorio/entidad/2/8/per_contrata/2014/Febrero',\n",
       " 'http://www.gobiernotransparentechile.cl/directorio/entidad/12/167/per_contrata/Ao-2008',\n",
       " 'http://www.gobiernotransparentechile.cl/directorio/entidad/2/10/per_planta/2014/Junio',\n",
       " 'http://www.gobiernotransparentechile.cl/directorio/entidad/13/177/per_planta/Ao-2007?x=0&y=0&page_number=2&sort=id&direction=asc',\n",
       " 'http://www.gobiernotransparentechile.cl/directorio/entidad/13/179/per_contrata/A%EF%BF%BDo%202015/Mayo?x=0&y=0&page_number=2&sort=id&direction=asc',\n",
       " 'http://www.gobiernotransparentechile.cl/directorio/entidad/12/171/per_contrata/A%C3%B1o%202016/Abril?x=0&y=0&page_number=21&sort=id&direction=asc',\n",
       " 'http://www.gobiernotransparentechile.cl/directorio/entidad/9/348/per_contrata/A%C3%B1o%202012/Mayo?x=0&y=0&page_number=4&sort=id&direction=asc',\n",
       " 'http://www.gobiernotransparentechile.cl/directorio/entidad/12/173/per_contrata/A%EF%BF%BDo%202014/Septiembre?x=0&y=0&page_number=4&sort=id&direction=asc',\n",
       " 'http://www.gobiernotransparentechile.cl/directorio/entidad/12/173/per_contrata/A%EF%BF%BDo%202016/Octubre',\n",
       " 'http://www.gobiernotransparentechile.cl/directorio/entidad/9/145/per_contrata/A%C3%B1o%202016/Abril',\n",
       " 'http://www.gobiernotransparentechile.cl/directorio/entidad/11/159/per_contrata/DICIEMBRE?x=0&y=0&page_number=30&sort=id&direction=asc',\n",
       " 'http://www.gobiernotransparentechile.cl/directorio/entidad/12/169/per_contrata/Ao-2009?x=0&y=0&page_number=15&sort=id&direction=asc',\n",
       " 'http://www.gobiernotransparentechile.cl/directorio/entidad/19/271/per_contrata/A%C3%B1o%202015/A%C3%B1o%202015%20-%20Julio',\n",
       " 'http://www.gobiernotransparentechile.cl/directorio/entidad/2/6/per_contrata/2013/Mayo',\n",
       " 'http://www.gobiernotransparentechile.cl/directorio/entidad/2/5/per_planta/A%C3%B1o%202016/Junio',\n",
       " 'http://www.gobiernotransparentechile.cl/directorio/entidad/13/177/per_planta/A%EF%BF%BDo%202016/Febrero',\n",
       " 'http://www.gobiernotransparentechile.cl/directorio/entidad/25/351/per_planta/A%C3%B1o%202016/Mayo',\n",
       " 'http://www.gobiernotransparentechile.cl/directorio/entidad/2/6/per_contrata/2012/Julio',\n",
       " 'http://www.gobiernotransparentechile.cl/directorio/entidad/4/114/per_planta/Ao-2008?x=0&y=0&page_number=6&sort=id&direction=asc',\n",
       " 'http://www.gobiernotransparentechile.cl/directorio/entidad/8/138/per_planta/A%C3%B1o%202007/Julio',\n",
       " 'http://www.gobiernotransparentechile.cl/directorio/entidad/12/167/per_planta/A%C3%B1o%202013/Octubre',\n",
       " 'http://www.gobiernotransparentechile.cl/directorio/entidad/12/171/per_contrata/A%C3%B1o%202016/Septiembre?x=0&y=0&page_number=4&sort=id&direction=asc',\n",
       " 'http://www.gobiernotransparentechile.cl/directorio/entidad/2/11/per_planta/2011/Enero',\n",
       " 'http://www.gobiernotransparentechile.cl/directorio/entidad/13/177/per_planta/A%EF%BF%BDo%202016/Julio',\n",
       " 'http://www.gobiernotransparentechile.cl/directorio/entidad/10/146/per_planta/Ao-2006?x=0&y=0&page_number=16&sort=id&direction=asc',\n",
       " 'http://www.gobiernotransparentechile.cl/directorio/entidad/12/173/per_contrata/A%EF%BF%BDo%202011/Julio?x=0&y=0&page_number=6&sort=id&direction=asc',\n",
       " 'http://www.gobiernotransparentechile.cl/directorio/entidad/12/171/per_contrata/A%C3%B1o%202016/Febrero?x=0&y=0&page_number=6&sort=id&direction=asc',\n",
       " 'http://www.gobiernotransparentechile.cl/directorio/entidad/12/169/per_planta/Ao-2008?x=0&y=0&page_number=2&sort=id&direction=asc',\n",
       " 'http://www.gobiernotransparentechile.cl/directorio/entidad/12/171/per_planta/Ao-2009?x=0&y=0&page_number=2&sort=id&direction=asc',\n",
       " 'http://www.gobiernotransparentechile.cl/directorio/entidad/2/5/per_planta/A%C3%B1o%202016/Mayo',\n",
       " 'http://www.gobiernotransparentechile.cl/directorio/entidad/2/10/per_planta/2012/Agosto',\n",
       " 'http://www.gobiernotransparentechile.cl/directorio/entidad/19/271/per_contrata/A%C3%B1o%202014/A%C3%B1o%202014%20-%20Junio?x=0&y=0&page_number=2&sort=id&direction=asc',\n",
       " 'http://www.gobiernotransparentechile.cl/directorio/entidad/2/5/per_contrata/A%C3%B1o%202016/Septiembre?x=0&y=0&page_number=4&sort=id&direction=asc',\n",
       " 'http://www.gobiernotransparentechile.cl/directorio/entidad/9/145/per_planta/Ao-2012',\n",
       " 'http://www.gobiernotransparentechile.cl/directorio/entidad/10/146/per_contrata/Ao-2014?x=0&y=0&page_number=26&sort=id&direction=asc',\n",
       " 'http://www.gobiernotransparentechile.cl/directorio/entidad/11/159/per_contrata/Ao-2007?x=0&y=0&page_number=29&sort=id&direction=asc',\n",
       " 'http://www.gobiernotransparentechile.cl/directorio/entidad/4/114/per_planta/Ao-2008?x=0&y=0&page_number=8&sort=id&direction=asc',\n",
       " 'http://www.gobiernotransparentechile.cl/directorio/entidad/15/197/per_contrata/Ao-2012',\n",
       " 'http://www.gobiernotransparentechile.cl/directorio/entidad/12/167/per_contrata/A%C3%B1o%202009%20%28Abril-Diciembre%29/Octubre',\n",
       " 'http://www.gobiernotransparentechile.cl/directorio/entidad/8/138/per_contrata/A%C3%B1o%202007/Julio?x=0&y=0&page_number=2&sort=id&direction=asc',\n",
       " 'http://www.gobiernotransparentechile.cl/directorio/entidad/10/146/per_planta/Ao-2006?x=0&y=0&page_number=11&sort=id&direction=asc',\n",
       " 'http://www.gobiernotransparentechile.cl/directorio/entidad/12/169/per_contrata/Ao-2014?x=0&y=0&page_number=3&sort=id&direction=asc',\n",
       " 'http://www.gobiernotransparentechile.cl/directorio/entidad/12/169/per_contrata/Ao-2010?x=0&y=0&page_number=12&sort=id&direction=asc',\n",
       " 'http://www.gobiernotransparentechile.cl/directorio/entidad/12/173/per_contrata/A%EF%BF%BDo%202014/Noviembre?x=0&y=0&page_number=2&sort=id&direction=asc',\n",
       " 'http://www.gobiernotransparentechile.cl/directorio/entidad/12/173/per_contrata/A%EF%BF%BDo%202013/Marzo?x=0&y=0&page_number=4&sort=id&direction=asc',\n",
       " 'http://www.gobiernotransparentechile.cl/directorio/entidad/12/171/per_contrata/A%C3%B1o%202016/Enero?x=0&y=0&page_number=2&sort=id&direction=asc',\n",
       " 'http://www.gobiernotransparentechile.cl/directorio/entidad/12/173/per_contrata/A%EF%BF%BDo%202011/Enero',\n",
       " 'http://www.gobiernotransparentechile.cl/directorio/entidad/2/2/per_planta/2010/Julio?x=0&y=0&page_number=2&sort=id&direction=asc',\n",
       " 'http://www.gobiernotransparentechile.cl/directorio/entidad/9/145/per_contrata/A%C3%B1o%202016/Febrero',\n",
       " 'http://www.gobiernotransparentechile.cl/directorio/entidad/4/114/per_planta/Ao-2008?x=0&y=0&page_number=9&sort=id&direction=asc',\n",
       " 'http://www.gobiernotransparentechile.cl/directorio/entidad/12/169/per_planta/Ao-2011?x=0&y=0&page_number=7&sort=id&direction=asc',\n",
       " 'http://www.gobiernotransparentechile.cl/directorio/entidad/3/94/per_planta/Ao-2009',\n",
       " 'http://www.gobiernotransparentechile.cl/directorio/entidad/12/169/per_contrata/Ao-2015?x=0&y=0&page_number=14&sort=id&direction=asc',\n",
       " 'http://www.gobiernotransparentechile.cl/directorio/entidad/12/173/per_contrata/A%EF%BF%BDo%202014/Diciembre',\n",
       " 'http://www.gobiernotransparentechile.cl/directorio/entidad/2/5/per_contrata/A%C3%B1o%202016/Septiembre?x=0&y=0&page_number=3&sort=id&direction=asc',\n",
       " 'http://www.gobiernotransparentechile.cl/directorio/entidad/12/168/per_contrata/Ao-2012-Programa-01',\n",
       " 'http://www.gobiernotransparentechile.cl/directorio/entidad/2/10/per_planta/2014/Noviembre',\n",
       " 'http://www.gobiernotransparentechile.cl/directorio/entidad/12/171/per_contrata/A%C3%B1o%202016/Julio?x=0&y=0&page_number=12&sort=id&direction=asc',\n",
       " 'http://www.gobiernotransparentechile.cl/directorio/entidad/10/146/per_contrata/Ao-2014?x=0&y=0&page_number=96&sort=id&direction=asc',\n",
       " 'http://www.gobiernotransparentechile.cl/directorio/entidad/2/8/per_planta/2013/Agosto',\n",
       " 'http://www.gobiernotransparentechile.cl/directorio/entidad/2/9/per_contrata/2013/Junio',\n",
       " 'http://www.gobiernotransparentechile.cl/directorio/entidad/12/167/per_contrata/A%C3%B1o%202016/Diciembre',\n",
       " 'http://www.gobiernotransparentechile.cl/directorio/entidad/4/285/per_planta/2009',\n",
       " 'http://www.gobiernotransparentechile.cl/directorio/entidad/2/9/per_contrata/2014/Enero',\n",
       " 'http://www.gobiernotransparentechile.cl/directorio/entidad/25/351/per_planta/Ao-2013',\n",
       " 'http://www.gobiernotransparentechile.cl/directorio/entidad/11/159/per_contrata/MARZO?x=0&y=0&page_number=30&sort=id&direction=asc',\n",
       " 'http://www.gobiernotransparentechile.cl/directorio/entidad/12/171/per_contrata/A%C3%B1o%202016/Enero?x=0&y=0&page_number=18&sort=id&direction=asc',\n",
       " 'http://www.gobiernotransparentechile.cl/directorio/entidad/12/169/per_planta/Ao-2006?x=0&y=0&page_number=10&sort=id&direction=asc',\n",
       " 'http://www.gobiernotransparentechile.cl/directorio/entidad/13/179/per_planta/A%EF%BF%BDo%202010/Octubre',\n",
       " 'http://www.gobiernotransparentechile.cl/directorio/entidad/19/271/per_contrata/A%C3%B1o%202014/A%C3%B1o%202014%20-%20Marzo?x=0&y=0&page_number=3&sort=id&direction=asc',\n",
       " 'http://www.gobiernotransparentechile.cl/directorio/entidad/19/271/per_contrata/A%C3%B1o%202015/A%C3%B1o%202015%20-%20Mayo?x=0&y=0&page_number=4&sort=id&direction=asc',\n",
       " 'http://www.gobiernotransparentechile.cl/directorio/entidad/12/169/per_planta/Ao-2014?x=0&y=0&page_number=7&sort=id&direction=asc',\n",
       " 'http://www.gobiernotransparentechile.cl/directorio/entidad/8/139/per_contrata/A%C3%B1o%202014/Septiembre?x=0&y=0&page_number=4&sort=id&direction=asc',\n",
       " 'http://www.gobiernotransparentechile.cl/directorio/entidad/12/173/per_contrata/A%EF%BF%BDo%202013/Noviembre',\n",
       " 'http://www.gobiernotransparentechile.cl/directorio/entidad/2/2/per_contrata/2011/Agosto',\n",
       " 'http://www.gobiernotransparentechile.cl/directorio/entidad/2/2/per_contrata/2011/Agosto?x=0&y=0&page_number=3&sort=id&direction=asc',\n",
       " 'http://www.gobiernotransparentechile.cl/directorio/entidad/8/138/per_contrata/A%C3%B1o%202007/Septiembre?x=0&y=0&page_number=2&sort=id&direction=asc',\n",
       " 'http://www.gobiernotransparentechile.cl/directorio/entidad/12/171/per_contrata/A%C3%B1o%202016/Agosto?x=0&y=0&page_number=6&sort=id&direction=asc',\n",
       " 'http://www.gobiernotransparentechile.cl/directorio/entidad/2/8/per_contrata/2013/Agosto',\n",
       " 'http://www.gobiernotransparentechile.cl/directorio/entidad/15/197/per_contrata/Ao-2007',\n",
       " 'http://www.gobiernotransparentechile.cl/directorio/entidad/10/146/per_contrata/Ao-2014?x=0&y=0&page_number=34&sort=id&direction=asc',\n",
       " 'http://www.gobiernotransparentechile.cl/directorio/entidad/12/173/per_contrata/A%EF%BF%BDo%202012/Julio?x=0&y=0&page_number=3&sort=id&direction=asc',\n",
       " 'http://www.gobiernotransparentechile.cl/directorio/entidad/13/179/per_contrata/A%EF%BF%BDo%202016/Diciembre?x=0&y=0&page_number=2&sort=id&direction=asc',\n",
       " 'http://www.gobiernotransparentechile.cl/directorio/entidad/19/271/per_contrata/A%C3%B1o%202016/A%C3%B1o%202016%20-%20Enero?x=0&y=0&page_number=4&sort=id&direction=asc',\n",
       " 'http://www.gobiernotransparentechile.cl/directorio/entidad/19/271/per_contrata/A%C3%B1o%202013/A%C3%B1o%202013%20-%20Enero',\n",
       " 'http://www.gobiernotransparentechile.cl/directorio/entidad/12/171/per_planta/Ao-2012?x=0&y=0&page_number=4&sort=id&direction=asc',\n",
       " 'http://www.gobiernotransparentechile.cl/directorio/entidad/2/2/per_planta/2016/Noviembre?x=0&y=0&page_number=4&sort=id&direction=asc',\n",
       " 'http://www.gobiernotransparentechile.cl/directorio/entidad/8/139/per_contrata/A%C3%B1o%202015/Septiembre?x=0&y=0&page_number=4&sort=id&direction=asc',\n",
       " 'http://www.gobiernotransparentechile.cl/directorio/entidad/12/167/per_contrata/A%C3%B1o%202010/Octubre',\n",
       " 'http://www.gobiernotransparentechile.cl/directorio/entidad/12/169/per_planta/Ao-2008?x=0&y=0&page_number=7&sort=id&direction=asc',\n",
       " 'http://www.gobiernotransparentechile.cl/directorio/entidad/12/170/per_contrata/Ao-2014?x=0&y=0&page_number=4&sort=id&direction=asc',\n",
       " 'http://www.gobiernotransparentechile.cl/directorio/entidad/12/173/per_contrata/A%EF%BF%BDo%202016/Julio?x=0&y=0&page_number=3&sort=id&direction=asc',\n",
       " 'http://www.gobiernotransparentechile.cl/directorio/entidad/13/283/per_planta/A%EF%BF%BDo%202012/A%C3%B1o%202012%20Junio',\n",
       " 'http://www.gobiernotransparentechile.cl/directorio/entidad/3/94/per_planta/Ao-2008',\n",
       " 'http://www.gobiernotransparentechile.cl/directorio/entidad/12/173/per_contrata/A%EF%BF%BDo%202011/Septiembre?x=0&y=0&page_number=2&sort=id&direction=asc',\n",
       " 'http://www.gobiernotransparentechile.cl/directorio/entidad/12/170/per_planta/Ao-2006?x=0&y=0&page_number=2&sort=id&direction=asc',\n",
       " 'http://www.gobiernotransparentechile.cl/directorio/entidad/13/283/per_planta/Ao-2007',\n",
       " 'http://www.gobiernotransparentechile.cl/directorio/entidad/2/6/per_contrata/2014/Diciembre',\n",
       " 'http://www.gobiernotransparentechile.cl/directorio/entidad/13/283/per_planta/A%EF%BF%BDo%202013/A%C3%B1o%202013%20Septiembre',\n",
       " 'http://www.gobiernotransparentechile.cl/directorio/entidad/21/279/per_contrata/Ao-2010?x=0&y=0&page_number=2&sort=id&direction=asc',\n",
       " 'http://www.gobiernotransparentechile.cl/directorio/entidad/12/173/per_contrata/A%EF%BF%BDo%202012/Marzo?x=0&y=0&page_number=2&sort=id&direction=asc',\n",
       " 'http://www.gobiernotransparentechile.cl/directorio/entidad/12/169/per_planta/Ao-2007?x=0&y=0&page_number=10&sort=id&direction=asc',\n",
       " 'http://www.gobiernotransparentechile.cl/directorio/entidad/25/351/per_planta/A%C3%B1o%202016/Noviembre',\n",
       " 'http://www.gobiernotransparentechile.cl/directorio/entidad/12/171/per_contrata/A%C3%B1o%202016/Junio?x=0&y=0&page_number=24&sort=id&direction=asc',\n",
       " 'http://www.gobiernotransparentechile.cl/directorio/entidad/10/146/per_contrata/Ao-2006?x=0&y=0&page_number=11&sort=id&direction=asc',\n",
       " 'http://www.gobiernotransparentechile.cl/directorio/entidad/12/173/per_contrata/A%EF%BF%BDo%202014/Enero?x=0&y=0&page_number=5&sort=id&direction=asc',\n",
       " 'http://www.gobiernotransparentechile.cl/directorio/entidad/12/169/per_contrata/Ao-2007?x=0&y=0&page_number=11&sort=id&direction=asc',\n",
       " 'http://www.gobiernotransparentechile.cl/directorio/entidad/8/138/per_contrata/A%C3%B1o%202013/Marzo?x=0&y=0&page_number=2&sort=id&direction=asc',\n",
       " 'http://www.gobiernotransparentechile.cl/directorio/entidad/2/5/per_contrata/A%C3%B1o%202016/Octubre?x=0&y=0&page_number=4&sort=id&direction=asc',\n",
       " 'http://www.gobiernotransparentechile.cl/directorio/entidad/13/179/per_contrata/A%EF%BF%BDo%202016/Octubre?x=0&y=0&page_number=2&sort=id&direction=asc',\n",
       " 'http://www.gobiernotransparentechile.cl/directorio/entidad/2/2/per_contrata/2015/Febrero?x=0&y=0&page_number=5&sort=id&direction=asc',\n",
       " 'http://www.gobiernotransparentechile.cl/directorio/entidad/2/5/per_contrata/A%C3%B1o%202016/Julio?x=0&y=0&page_number=4&sort=id&direction=asc',\n",
       " 'http://www.gobiernotransparentechile.cl/directorio/entidad/13/177/per_planta/A%EF%BF%BDo%202013/A%C3%B1o%202013%20Diciembre',\n",
       " 'http://www.gobiernotransparentechile.cl/directorio/entidad/12/167/per_contrata/A%C3%B1o%202009%20%28Abril-Diciembre%29/Diciembre',\n",
       " 'http://www.gobiernotransparentechile.cl/directorio/entidad/19/271/per_contrata/A%C3%B1o%202014/A%C3%B1o%202014%20-%20Septiembre?x=0&y=0&page_number=2&sort=id&direction=asc',\n",
       " 'http://www.gobiernotransparentechile.cl/directorio/entidad/12/173/per_contrata/A%EF%BF%BDo%202015/Mayo?x=0&y=0&page_number=4&sort=id&direction=asc',\n",
       " 'http://www.gobiernotransparentechile.cl/directorio/entidad/10/146/per_contrata/Ao-2007?x=0&y=0&page_number=8&sort=id&direction=asc',\n",
       " 'http://www.gobiernotransparentechile.cl/directorio/entidad/12/173/per_contrata/A%EF%BF%BDo%202014/Febrero?x=0&y=0&page_number=3&sort=id&direction=asc',\n",
       " 'http://www.gobiernotransparentechile.cl/directorio/entidad/12/170/per_planta/Ao-2010?x=0&y=0&page_number=2&sort=id&direction=asc',\n",
       " 'http://www.gobiernotransparentechile.cl/directorio/entidad/2/10/per_contrata/2014/Agosto',\n",
       " 'http://www.gobiernotransparentechile.cl/directorio/entidad/10/146/per_planta/Ao-2009?x=0&y=0&page_number=8&sort=id&direction=asc',\n",
       " 'http://www.gobiernotransparentechile.cl/directorio/entidad/12/169/per_planta/Ao-2012?x=0&y=0&page_number=6&sort=id&direction=asc',\n",
       " 'http://www.gobiernotransparentechile.cl/directorio/entidad/13/179/per_planta/A%EF%BF%BDo%202015/Junio',\n",
       " 'http://www.gobiernotransparentechile.cl/directorio/entidad/19/271/per_contrata/A%C3%B1o%202015/A%C3%B1o%202015%20-%20Septiembre?x=0&y=0&page_number=4&sort=id&direction=asc',\n",
       " 'http://www.gobiernotransparentechile.cl/directorio/entidad/13/179/per_contrata/A%EF%BF%BDo%202013/Mayo?x=0&y=0&page_number=2&sort=id&direction=asc',\n",
       " 'http://www.gobiernotransparentechile.cl/directorio/entidad/2/2/per_contrata/2013/Junio?x=0&y=0&page_number=2&sort=id&direction=asc',\n",
       " 'http://www.gobiernotransparentechile.cl/directorio/entidad/19/271/per_contrata/A%C3%B1o%202012/A%C3%B1o%202012%20-%20Septiembre',\n",
       " 'http://www.gobiernotransparentechile.cl/directorio/entidad/13/179/per_contrata/A%EF%BF%BDo%202014/Julio?x=0&y=0&page_number=2&sort=id&direction=asc',\n",
       " 'http://www.gobiernotransparentechile.cl/directorio/entidad/19/271/per_contrata/A%C3%B1o%202013/A%C3%B1o%202013%20-%20Febrero',\n",
       " 'http://www.gobiernotransparentechile.cl/directorio/entidad/19/271/per_contrata/A%C3%B1o%202015/A%C3%B1o%202015%20-%20Marzo?x=0&y=0&page_number=4&sort=id&direction=asc',\n",
       " 'http://www.gobiernotransparentechile.cl/directorio/entidad/2/2/per_planta/2010/Abril?x=0&y=0&page_number=5&sort=id&direction=asc',\n",
       " 'http://www.gobiernotransparentechile.cl/directorio/entidad/10/146/per_planta/Ao-2008?x=0&y=0&page_number=13&sort=id&direction=asc',\n",
       " 'http://www.gobiernotransparentechile.cl/directorio/entidad/11/159/per_contrata/Ao-2007?x=0&y=0&page_number=21&sort=id&direction=asc',\n",
       " 'http://www.gobiernotransparentechile.cl/directorio/entidad/8/132/per_contrata/Ao-2007',\n",
       " 'http://www.gobiernotransparentechile.cl/directorio/entidad/2/10/per_planta/2014/Septiembre',\n",
       " 'http://www.gobiernotransparentechile.cl/directorio/entidad/19/271/per_contrata/A%C3%B1o%202016/A%C3%B1o%202016%20-%20Noviembre?x=0&y=0&page_number=3&sort=id&direction=asc',\n",
       " 'http://www.gobiernotransparentechile.cl/directorio/entidad/19/271/per_contrata/A%C3%B1o%202012/A%C3%B1o%202012%20-%20Septiembre?x=0&y=0&page_number=4&sort=id&direction=asc',\n",
       " 'http://www.gobiernotransparentechile.cl/directorio/entidad/12/171/per_contrata/A%C3%B1o%202016/Enero?x=0&y=0&page_number=19&sort=id&direction=asc',\n",
       " 'http://www.gobiernotransparentechile.cl/directorio/entidad/12/171/per_contrata/A%C3%B1o%202016/Abril?x=0&y=0&page_number=14&sort=id&direction=asc',\n",
       " 'http://www.gobiernotransparentechile.cl/directorio/entidad/12/167/per_planta/A%C3%B1o%202016/Noviembre',\n",
       " 'http://www.gobiernotransparentechile.cl/directorio/entidad/12/167/per_planta/A%C3%B1o%202009%20%28Abril-Diciembre%29/Diciembre',\n",
       " 'http://www.gobiernotransparentechile.cl/directorio/entidad/19/271/per_planta/A%C3%B1o%202014/A%C3%B1o%202014%20-%20Junio',\n",
       " 'http://www.gobiernotransparentechile.cl/directorio/entidad/13/179/per_planta/A%EF%BF%BDo%202014/Junio',\n",
       " 'http://www.gobiernotransparentechile.cl/directorio/entidad/12/171/per_contrata/A%C3%B1o%202016/Octubre?x=0&y=0&page_number=6&sort=id&direction=asc',\n",
       " 'http://www.gobiernotransparentechile.cl/directorio/entidad/2/2/per_contrata/2013/Junio?x=0&y=0&page_number=5&sort=id&direction=asc',\n",
       " 'http://www.gobiernotransparentechile.cl/directorio/entidad/12/173/per_contrata/A%EF%BF%BDo%202015/Octubre',\n",
       " 'http://www.gobiernotransparentechile.cl/directorio/entidad/13/283/per_planta/A%EF%BF%BDo%202015/Abril',\n",
       " 'http://www.gobiernotransparentechile.cl/directorio/entidad/19/271/per_contrata/A%C3%B1o%202015/A%C3%B1o%202015%20-%20Septiembre',\n",
       " 'http://www.gobiernotransparentechile.cl/directorio/entidad/25/351/per_planta/A%C3%B1o%202016/Diciembre',\n",
       " 'http://www.gobiernotransparentechile.cl/directorio/entidad/19/271/per_contrata/A%C3%B1o%202012/A%C3%B1o%202012%20-%20Mayo?x=0&y=0&page_number=4&sort=id&direction=asc',\n",
       " 'http://www.gobiernotransparentechile.cl/directorio/entidad/12/167/per_contrata/A%C3%B1o%202009%20%28Abril-Diciembre%29/Mayo',\n",
       " 'http://www.gobiernotransparentechile.cl/directorio/entidad/13/177/per_planta/A%EF%BF%BDo%202016/Enero',\n",
       " 'http://www.gobiernotransparentechile.cl/directorio/entidad/19/271/per_planta/A%C3%B1o%202013/A%C3%B1o%202013%20-%20Marzo',\n",
       " 'http://www.gobiernotransparentechile.cl/directorio/entidad/2/6/per_contrata/2012/Mayo',\n",
       " 'http://www.gobiernotransparentechile.cl/directorio/entidad/12/170/per_planta/Ao-2010',\n",
       " 'http://www.gobiernotransparentechile.cl/directorio/entidad/12/169/per_contrata/Ao-2012?x=0&y=0&page_number=20&sort=id&direction=asc',\n",
       " 'http://www.gobiernotransparentechile.cl/directorio/entidad/10/146/per_contrata/Ao-2014?x=0&y=0&page_number=76&sort=id&direction=asc',\n",
       " 'http://www.gobiernotransparentechile.cl/directorio/entidad/2/5/per_contrata/A%C3%B1o%202016/Noviembre?x=0&y=0&page_number=2&sort=id&direction=asc',\n",
       " 'http://www.gobiernotransparentechile.cl/directorio/entidad/21/273/per_planta/Hist%C3%B3rico/A%C3%B1o%202013',\n",
       " 'http://www.gobiernotransparentechile.cl/directorio/entidad/25/351/per_contrata/A%C3%B1o%202016/Noviembre',\n",
       " 'http://www.gobiernotransparentechile.cl/directorio/entidad/9/145/per_contrata/A%C3%B1o%202016/Julio',\n",
       " 'http://www.gobiernotransparentechile.cl/directorio/entidad/13/177/per_planta/A%EF%BF%BDo%202012/A%C3%B1o%202012%20Mayo',\n",
       " 'http://www.gobiernotransparentechile.cl/directorio/entidad/13/283/per_planta/A%EF%BF%BDo%202009/A%C3%B1o%202009%20Enero-Marzo?x=0&y=0&page_number=2&sort=id&direction=asc',\n",
       " 'http://www.gobiernotransparentechile.cl/directorio/entidad/12/169/per_contrata/Ao-2009?x=0&y=0&page_number=16&sort=id&direction=asc',\n",
       " 'http://www.gobiernotransparentechile.cl/directorio/entidad/10/151/per_contrata/Ao-2016',\n",
       " 'http://www.gobiernotransparentechile.cl/directorio/entidad/12/171/per_contrata/A%C3%B1o%202016/Mayo?x=0&y=0&page_number=7&sort=id&direction=asc',\n",
       " 'http://www.gobiernotransparentechile.cl/directorio/entidad/19/271/per_contrata/A%C3%B1o%202016/A%C3%B1o%202016%20-%20Mayo',\n",
       " 'http://www.gobiernotransparentechile.cl/directorio/entidad/19/271/per_contrata/A%C3%B1o%202015/A%C3%B1o%202015%20-%20Mayo?x=0&y=0&page_number=2&sort=id&direction=asc',\n",
       " 'http://www.gobiernotransparentechile.cl/directorio/entidad/12/173/per_contrata/A%EF%BF%BDo%202011/Octubre?x=0&y=0&page_number=5&sort=id&direction=asc',\n",
       " 'http://www.gobiernotransparentechile.cl/directorio/entidad/19/271/per_contrata/A%C3%B1o%202013/A%C3%B1o%202013%20-%20Abril?x=0&y=0&page_number=6&sort=id&direction=asc',\n",
       " 'http://www.gobiernotransparentechile.cl/directorio/entidad/12/169/per_contrata/Ao-2009?x=0&y=0&page_number=3&sort=id&direction=asc',\n",
       " 'http://www.gobiernotransparentechile.cl/directorio/entidad/12/173/per_contrata/A%EF%BF%BDo%202016/Noviembre?x=0&y=0&page_number=2&sort=id&direction=asc',\n",
       " 'http://www.gobiernotransparentechile.cl/directorio/entidad/2/5/per_contrata/A%C3%B1o%202017/Enero',\n",
       " 'http://www.gobiernotransparentechile.cl/directorio/entidad/2/9/per_planta/2010/Septiembre',\n",
       " 'http://www.gobiernotransparentechile.cl/directorio/entidad/15/197/per_planta/Ao-2011',\n",
       " 'http://www.gobiernotransparentechile.cl/directorio/entidad/19/271/per_contrata/A%C3%B1o%202016/A%C3%B1o%202016%20-%20Febrero',\n",
       " 'http://www.gobiernotransparentechile.cl/directorio/entidad/12/171/per_contrata/A%C3%B1o%202016/Junio?x=0&y=0&page_number=7&sort=id&direction=asc',\n",
       " 'http://www.gobiernotransparentechile.cl/directorio/entidad/12/173/per_contrata/A%EF%BF%BDo%202013/Octubre',\n",
       " 'http://www.gobiernotransparentechile.cl/directorio/entidad/2/2/per_planta/2009/Mayo?x=0&y=0&page_number=4&sort=id&direction=asc',\n",
       " 'http://www.gobiernotransparentechile.cl/directorio/entidad/12/169/per_contrata/Ao-2013',\n",
       " 'http://www.gobiernotransparentechile.cl/directorio/entidad/12/170/per_contrata/-Agosto?x=0&y=0&page_number=4&sort=id&direction=asc',\n",
       " 'http://www.gobiernotransparentechile.cl/directorio/entidad/2/8/per_contrata/2013/Marzo',\n",
       " 'http://www.gobiernotransparentechile.cl/directorio/entidad/12/171/per_contrata/A%C3%B1o%202016/Mayo?x=0&y=0&page_number=4&sort=id&direction=asc',\n",
       " 'http://www.gobiernotransparentechile.cl/directorio/entidad/9/348/per_contrata/A%C3%B1o%202015/Abril?x=0&y=0&page_number=5&sort=id&direction=asc',\n",
       " 'http://www.gobiernotransparentechile.cl/directorio/entidad/2/2/per_contrata/2011/Junio?x=0&y=0&page_number=4&sort=id&direction=asc',\n",
       " 'http://www.gobiernotransparentechile.cl/directorio/entidad/19/271/per_contrata/A%C3%B1o%202015/A%C3%B1o%202015%20-%20Febrero?x=0&y=0&page_number=3&sort=id&direction=asc',\n",
       " 'http://www.gobiernotransparentechile.cl/directorio/entidad/2/5/per_contrata/A%C3%B1o%202016/Agosto?x=0&y=0&page_number=3&sort=id&direction=asc',\n",
       " 'http://www.gobiernotransparentechile.cl/directorio/entidad/10/146/per_contrata/Ao-2009?x=0&y=0&page_number=9&sort=id&direction=asc',\n",
       " 'http://www.gobiernotransparentechile.cl/directorio/entidad/2/2/per_planta/2016/Abril?x=0&y=0&page_number=3&sort=id&direction=asc',\n",
       " 'http://www.gobiernotransparentechile.cl/directorio/entidad/10/146/per_contrata/Ao-2006?x=0&y=0&page_number=14&sort=id&direction=asc',\n",
       " 'http://www.gobiernotransparentechile.cl/directorio/entidad/4/109/per_planta/Ao-2006?x=0&y=0&page_number=3&sort=id&direction=asc',\n",
       " 'http://www.gobiernotransparentechile.cl/directorio/entidad/12/169/per_contrata/Ao-2008?x=0&y=0&page_number=3&sort=id&direction=asc',\n",
       " 'http://www.gobiernotransparentechile.cl/directorio/entidad/12/173/per_contrata/A%EF%BF%BDo%202015/Julio?x=0&y=0&page_number=4&sort=id&direction=asc',\n",
       " 'http://www.gobiernotransparentechile.cl/directorio/entidad/2/10/per_contrata/2014/Noviembre',\n",
       " 'http://www.gobiernotransparentechile.cl/directorio/entidad/2/9/per_planta/2010/Junio',\n",
       " 'http://www.gobiernotransparentechile.cl/directorio/entidad/10/146/per_contrata/Ao-2009?x=0&y=0&page_number=8&sort=id&direction=asc',\n",
       " 'http://www.gobiernotransparentechile.cl/directorio/entidad/2/2/per_planta/2014/Junio?x=0&y=0&page_number=2&sort=id&direction=asc',\n",
       " 'http://www.gobiernotransparentechile.cl/directorio/entidad/12/171/per_planta/Ao-2012?x=0&y=0&page_number=3&sort=id&direction=asc',\n",
       " 'http://www.gobiernotransparentechile.cl/directorio/entidad/13/179/per_contrata/A%EF%BF%BDo%202016/Noviembre?x=0&y=0&page_number=2&sort=id&direction=asc',\n",
       " 'http://www.gobiernotransparentechile.cl/directorio/entidad/2/8/per_planta/2013/Mayo',\n",
       " 'http://www.gobiernotransparentechile.cl/directorio/entidad/11/159/per_contrata/Ao-2007?x=0&y=0&page_number=23&sort=id&direction=asc',\n",
       " 'http://www.gobiernotransparentechile.cl/directorio/entidad/12/173/per_contrata/A%EF%BF%BDo%202013/Febrero?x=0&y=0&page_number=4&sort=id&direction=asc',\n",
       " 'http://www.gobiernotransparentechile.cl/directorio/entidad/19/271/per_contrata/A%C3%B1o%202012/A%C3%B1o%202012%20-%20Agosto?x=0&y=0&page_number=4&sort=id&direction=asc',\n",
       " 'http://www.gobiernotransparentechile.cl/directorio/entidad/13/177/per_planta/A%EF%BF%BDo%202012/A%C3%B1o%202012%20Julio',\n",
       " 'http://www.gobiernotransparentechile.cl/directorio/entidad/2/2/per_planta/2014/Febrero?x=0&y=0&page_number=2&sort=id&direction=asc',\n",
       " 'http://www.gobiernotransparentechile.cl/directorio/entidad/10/146/per_planta/Ao-2007?x=0&y=0&page_number=13&sort=id&direction=asc',\n",
       " 'http://www.gobiernotransparentechile.cl/directorio/entidad/12/170/per_contrata/-Julio',\n",
       " 'http://www.gobiernotransparentechile.cl/directorio/entidad/2/2/per_contrata/2013/Septiembre?x=0&y=0&page_number=3&sort=id&direction=asc',\n",
       " 'http://www.gobiernotransparentechile.cl/directorio/entidad/12/173/per_contrata/A%EF%BF%BDo%202015/Diciembre?x=0&y=0&page_number=4&sort=id&direction=asc',\n",
       " 'http://www.gobiernotransparentechile.cl/directorio/entidad/13/179/per_planta/A%EF%BF%BDo%202016/Febrero',\n",
       " 'http://www.gobiernotransparentechile.cl/directorio/entidad/12/168/per_contrata/A%C3%B1o%202013%20Programa%2001/Diciembre%202013%20Programa01',\n",
       " 'http://www.gobiernotransparentechile.cl/directorio/entidad/21/135/per_planta/Ao-2012',\n",
       " 'http://www.gobiernotransparentechile.cl/directorio/entidad/15/197/per_contrata/Ao-2006',\n",
       " 'http://www.gobiernotransparentechile.cl/directorio/entidad/19/271/per_contrata/A%C3%B1o%202014/A%C3%B1o%202014%20-%20Junio?x=0&y=0&page_number=4&sort=id&direction=asc',\n",
       " 'http://www.gobiernotransparentechile.cl/directorio/entidad/11/156/per_contrata/Ao-2006?x=0&y=0&page_number=2&sort=id&direction=asc',\n",
       " 'http://www.gobiernotransparentechile.cl/directorio/entidad/12/173/per_contrata/A%EF%BF%BDo%202013/Enero',\n",
       " 'http://www.gobiernotransparentechile.cl/directorio/entidad/10/146/per_contrata/Ao-2014?x=0&y=0&page_number=3&sort=id&direction=asc',\n",
       " 'http://www.gobiernotransparentechile.cl/directorio/entidad/12/173/per_contrata/A%EF%BF%BDo%202016/Junio',\n",
       " 'http://www.gobiernotransparentechile.cl/directorio/entidad/12/167/per_planta/A%C3%B1o%202015/Agosto',\n",
       " 'http://www.gobiernotransparentechile.cl/directorio/entidad/2/5/per_contrata/A%C3%B1o%202016/Abril?x=0&y=0&page_number=2&sort=id&direction=asc',\n",
       " 'http://www.gobiernotransparentechile.cl/directorio/entidad/2/2/per_planta/2014/Agosto?x=0&y=0&page_number=2&sort=id&direction=asc',\n",
       " 'http://www.gobiernotransparentechile.cl/directorio/entidad/11/159/per_contrata/SEPTIEMBRE?x=0&y=0&page_number=31&sort=id&direction=asc',\n",
       " 'http://www.gobiernotransparentechile.cl/directorio/entidad/12/169/per_contrata/Ao-2010?x=0&y=0&page_number=14&sort=id&direction=asc',\n",
       " 'http://www.gobiernotransparentechile.cl/directorio/entidad/12/167/per_planta/A%C3%B1o%202015/Julio',\n",
       " 'http://www.gobiernotransparentechile.cl/directorio/entidad/19/271/per_contrata/A%C3%B1o%202013/A%C3%B1o%202013%20-%20Febrero?x=0&y=0&page_number=6&sort=id&direction=asc',\n",
       " 'http://www.gobiernotransparentechile.cl/directorio/entidad/12/169/per_contrata/Ao-2013?x=0&y=0&page_number=10&sort=id&direction=asc',\n",
       " 'http://www.gobiernotransparentechile.cl/directorio/entidad/12/171/per_planta/Ao-2007?x=0&y=0&page_number=4&sort=id&direction=asc',\n",
       " 'http://www.gobiernotransparentechile.cl/directorio/entidad/12/173/per_contrata/A%EF%BF%BDo%202014/Febrero?x=0&y=0&page_number=5&sort=id&direction=asc',\n",
       " 'http://www.gobiernotransparentechile.cl/directorio/entidad/12/171/per_contrata/A%C3%B1o%202016/Enero?x=0&y=0&page_number=15&sort=id&direction=asc',\n",
       " 'http://www.gobiernotransparentechile.cl/directorio/entidad/13/179/per_contrata/A%EF%BF%BDo%202013/Julio?x=0&y=0&page_number=2&sort=id&direction=asc',\n",
       " 'http://www.gobiernotransparentechile.cl/directorio/entidad/12/171/per_planta/Ao-2008?x=0&y=0&page_number=3&sort=id&direction=asc',\n",
       " 'http://www.gobiernotransparentechile.cl/directorio/entidad/12/169/per_planta/Ao-2014?x=0&y=0&page_number=6&sort=id&direction=asc',\n",
       " 'http://www.gobiernotransparentechile.cl/directorio/entidad/12/170/per_contrata/Ao-2010?x=0&y=0&page_number=3&sort=id&direction=asc',\n",
       " 'http://www.gobiernotransparentechile.cl/directorio/entidad/12/173/per_contrata/A%EF%BF%BDo%202014/Marzo?x=0&y=0&page_number=3&sort=id&direction=asc',\n",
       " 'http://www.gobiernotransparentechile.cl/directorio/entidad/19/271/per_contrata/A%C3%B1o%202015/A%C3%B1o%202015%20-%20Junio?x=0&y=0&page_number=4&sort=id&direction=asc',\n",
       " 'http://www.gobiernotransparentechile.cl/directorio/entidad/12/171/per_planta/Ao-2013?x=0&y=0&page_number=3&sort=id&direction=asc',\n",
       " 'http://www.gobiernotransparentechile.cl/directorio/entidad/12/171/per_contrata/A%C3%B1o%202016/Enero?x=0&y=0&page_number=20&sort=id&direction=asc',\n",
       " 'http://www.gobiernotransparentechile.cl/directorio/entidad/19/271/per_contrata/A%C3%B1o%202014/A%C3%B1o%202014%20-%20Diciembre',\n",
       " 'http://www.gobiernotransparentechile.cl/directorio/entidad/19/271/per_planta/A%C3%B1o%202016/A%C3%B1o%202016%20-%20Septiembre',\n",
       " 'http://www.gobiernotransparentechile.cl/directorio/entidad/12/173/per_contrata/A%EF%BF%BDo%202013/Octubre?x=0&y=0&page_number=5&sort=id&direction=asc',\n",
       " 'http://www.gobiernotransparentechile.cl/directorio/entidad/12/168/per_contrata/A%C3%B1o%202013%20Programa%2001/Noviembre%202013%20Programa01',\n",
       " 'http://www.gobiernotransparentechile.cl/directorio/entidad/2/11/per_planta/2012/Mayo',\n",
       " 'http://www.gobiernotransparentechile.cl/directorio/entidad/2/5/per_contrata/A%C3%B1o%202016/Noviembre?x=0&y=0&page_number=3&sort=id&direction=asc',\n",
       " 'http://www.gobiernotransparentechile.cl/directorio/entidad/19/271/per_contrata/A%C3%B1o%202013/A%C3%B1o%202013%20-%20Marzo?x=0&y=0&page_number=4&sort=id&direction=asc',\n",
       " 'http://www.gobiernotransparentechile.cl/directorio/entidad/19/271/per_contrata/A%C3%B1o%202013/A%C3%B1o%202013%20-%20Septiembre?x=0&y=0&page_number=6&sort=id&direction=asc',\n",
       " 'http://www.gobiernotransparentechile.cl/directorio/entidad/19/271/per_planta/A%C3%B1o%202015/A%C3%B1o%202015%20-%20Mayo',\n",
       " 'http://www.gobiernotransparentechile.cl/directorio/entidad/12/167/per_contrata/A%C3%B1o%202014/Enero',\n",
       " 'http://www.gobiernotransparentechile.cl/directorio/entidad/2/2/per_contrata/2015/Diciembre?x=0&y=0&page_number=5&sort=id&direction=asc',\n",
       " 'http://www.gobiernotransparentechile.cl/directorio/entidad/9/348/per_contrata/A%C3%B1o%202014/Enero?x=0&y=0&page_number=3&sort=id&direction=asc',\n",
       " 'http://www.gobiernotransparentechile.cl/directorio/entidad/12/171/per_contrata/A%C3%B1o%202016/Junio?x=0&y=0&page_number=17&sort=id&direction=asc',\n",
       " 'http://www.gobiernotransparentechile.cl/directorio/entidad/4/285/per_planta/2015/Septiembre?x=0&y=0&page_number=2&sort=id&direction=asc',\n",
       " 'http://www.gobiernotransparentechile.cl/directorio/entidad/11/156/per_planta/Ao-2015',\n",
       " 'http://www.gobiernotransparentechile.cl/directorio/entidad/12/169/per_planta/Ao-2010?x=0&y=0&page_number=5&sort=id&direction=asc',\n",
       " 'http://www.gobiernotransparentechile.cl/directorio/entidad/12/169/per_contrata/Ao-2006?x=0&y=0&page_number=10&sort=id&direction=asc',\n",
       " 'http://www.gobiernotransparentechile.cl/directorio/entidad/2/5/per_contrata/A%C3%B1o%202016/Julio?x=0&y=0&page_number=2&sort=id&direction=asc',\n",
       " 'http://www.gobiernotransparentechile.cl/directorio/entidad/12/170/per_contrata/Ao-2010?x=0&y=0&page_number=2&sort=id&direction=asc',\n",
       " 'http://www.gobiernotransparentechile.cl/directorio/entidad/12/167/per_planta/A%C3%B1o%202013/Febrero',\n",
       " 'http://www.gobiernotransparentechile.cl/directorio/entidad/19/271/per_planta/A%C3%B1o%202011/A%C3%B1o%202011%20-%20Noviembre',\n",
       " 'http://www.gobiernotransparentechile.cl/directorio/entidad/12/167/per_planta/A%C3%B1o%202010/Noviembre',\n",
       " 'http://www.gobiernotransparentechile.cl/directorio/entidad/12/170/per_contrata/-Junio?x=0&y=0&page_number=2&sort=id&direction=asc',\n",
       " 'http://www.gobiernotransparentechile.cl/directorio/entidad/13/283/per_planta/A%EF%BF%BDo%202013/A%C3%B1o%202013%20Julio',\n",
       " 'http://www.gobiernotransparentechile.cl/directorio/entidad/12/169/per_contrata/Ao-2008?x=0&y=0&page_number=4&sort=id&direction=asc',\n",
       " 'http://www.gobiernotransparentechile.cl/directorio/entidad/12/173/per_contrata/A%EF%BF%BDo%202013/Agosto?x=0&y=0&page_number=3&sort=id&direction=asc',\n",
       " 'http://www.gobiernotransparentechile.cl/directorio/entidad/21/273/per_planta/Hist%C3%B3rico/A%C3%B1o%202007',\n",
       " 'http://www.gobiernotransparentechile.cl/directorio/entidad/12/171/per_contrata/A%C3%B1o%202016/Julio?x=0&y=0&page_number=3&sort=id&direction=asc',\n",
       " 'http://www.gobiernotransparentechile.cl/directorio/entidad/13/283/per_planta/A%EF%BF%BDo%202012/A%C3%B1o%202012%20Julio',\n",
       " 'http://www.gobiernotransparentechile.cl/directorio/entidad/12/171/per_planta/Ao-2015?x=0&y=0&page_number=4&sort=id&direction=asc',\n",
       " 'http://www.gobiernotransparentechile.cl/directorio/entidad/19/271/per_planta/A%C3%B1o%202014/A%C3%B1o%202014%20-%20Agosto',\n",
       " 'http://www.gobiernotransparentechile.cl/directorio/entidad/12/171/per_planta/A%C3%B1o%202016/Junio?x=0&y=0&page_number=4&sort=id&direction=asc',\n",
       " 'http://www.gobiernotransparentechile.cl/directorio/entidad/13/177/per_planta/A%EF%BF%BDo%202012/A%C3%B1o%202012%20Septiembre',\n",
       " 'http://www.gobiernotransparentechile.cl/directorio/entidad/12/167/per_contrata/A%C3%B1o%202013/Mayo?x=0&y=0&page_number=2&sort=id&direction=asc',\n",
       " 'http://www.gobiernotransparentechile.cl/directorio/entidad/2/5/per_contrata/A%C3%B1o%202016/Octubre?x=0&y=0&page_number=2&sort=id&direction=asc',\n",
       " 'http://www.gobiernotransparentechile.cl/directorio/entidad/10/146/per_planta/Ao-2006?x=0&y=0&page_number=6&sort=id&direction=asc',\n",
       " 'http://www.gobiernotransparentechile.cl/directorio/entidad/13/177/per_planta/A%EF%BF%BDo%202014/A%C3%B1o%202014%20Junio',\n",
       " 'http://www.gobiernotransparentechile.cl/directorio/entidad/19/271/per_contrata/A%C3%B1o%202016/A%C3%B1o%202016%20-%20Diciembre?x=0&y=0&page_number=4&sort=id&direction=asc',\n",
       " 'http://www.gobiernotransparentechile.cl/directorio/entidad/13/179/per_planta/A%EF%BF%BDo%202015/Julio',\n",
       " 'http://www.gobiernotransparentechile.cl/directorio/entidad/13/179/per_contrata/A%EF%BF%BDo%202014/Mayo',\n",
       " 'http://www.gobiernotransparentechile.cl/directorio/entidad/19/271/per_planta/A%C3%B1o%202011/A%C3%B1o%202011%20-%20Julio',\n",
       " 'http://www.gobiernotransparentechile.cl/directorio/entidad/12/171/per_planta/Ao-2012',\n",
       " 'http://www.gobiernotransparentechile.cl/directorio/entidad/8/136/per_contrata/Ao-2009?x=0&y=0&page_number=3&sort=id&direction=asc',\n",
       " 'http://www.gobiernotransparentechile.cl/directorio/entidad/12/169/per_contrata/Ao-2016?x=0&y=0&page_number=13&sort=id&direction=asc',\n",
       " 'http://www.gobiernotransparentechile.cl/directorio/entidad/12/167/per_contrata/A%C3%B1o%202013/Marzo?x=0&y=0&page_number=2&sort=id&direction=asc',\n",
       " 'http://www.gobiernotransparentechile.cl/directorio/entidad/8/138/per_planta/A%C3%B1o%202007/Enero',\n",
       " 'http://www.gobiernotransparentechile.cl/directorio/entidad/12/171/per_contrata/A%C3%B1o%202016/Abril?x=0&y=0&page_number=10&sort=id&direction=asc',\n",
       " 'http://www.gobiernotransparentechile.cl/directorio/entidad/8/138/per_planta/A%C3%B1o%202007/Noviembre',\n",
       " 'http://www.gobiernotransparentechile.cl/directorio/entidad/12/169/per_planta/Ao-2012?x=0&y=0&page_number=9&sort=id&direction=asc',\n",
       " 'http://www.gobiernotransparentechile.cl/directorio/entidad/8/138/per_contrata/A%C3%B1o%202008/Abril?x=0&y=0&page_number=2&sort=id&direction=asc',\n",
       " 'http://www.gobiernotransparentechile.cl/directorio/entidad/8/139/per_contrata/A%C3%B1o%202014/Julio?x=0&y=0&page_number=4&sort=id&direction=asc',\n",
       " 'http://www.gobiernotransparentechile.cl/directorio/entidad/9/127/per_planta/A%C3%B1o%202013/Noviembre',\n",
       " 'http://www.gobiernotransparentechile.cl/directorio/entidad/2/2/per_contrata/2011/Julio?x=0&y=0&page_number=4&sort=id&direction=asc',\n",
       " 'http://www.gobiernotransparentechile.cl/directorio/entidad/11/159/per_contrata/Ao-2013?x=0&y=0&page_number=24&sort=id&direction=asc',\n",
       " 'http://www.gobiernotransparentechile.cl/directorio/entidad/11/159/per_contrata/Ao-2008?x=0&y=0&page_number=29&sort=id&direction=asc',\n",
       " 'http://www.gobiernotransparentechile.cl/directorio/entidad/12/169/per_contrata/Ao-2012?x=0&y=0&page_number=12&sort=id&direction=asc',\n",
       " 'http://www.gobiernotransparentechile.cl/directorio/entidad/19/271/per_contrata/A%C3%B1o%202013/A%C3%B1o%202013%20-%20Octubre',\n",
       " 'http://www.gobiernotransparentechile.cl/directorio/entidad/13/177/per_planta/A%EF%BF%BDo%202015/Agosto',\n",
       " 'http://www.gobiernotransparentechile.cl/directorio/entidad/8/136/per_contrata/Ao-2009?x=0&y=0&page_number=4&sort=id&direction=asc',\n",
       " 'http://www.gobiernotransparentechile.cl/directorio/entidad/19/271/per_contrata/A%C3%B1o%202015/A%C3%B1o%202015%20-%20Noviembre?x=0&y=0&page_number=3&sort=id&direction=asc',\n",
       " 'http://www.gobiernotransparentechile.cl/directorio/entidad/12/173/per_contrata/A%EF%BF%BDo%202014/Agosto?x=0&y=0&page_number=2&sort=id&direction=asc',\n",
       " 'http://www.gobiernotransparentechile.cl/directorio/entidad/12/171/per_contrata/A%C3%B1o%202016/Marzo?x=0&y=0&page_number=16&sort=id&direction=asc',\n",
       " 'http://www.gobiernotransparentechile.cl/directorio/entidad/8/138/per_contrata/A%C3%B1o%202007/Junio?x=0&y=0&page_number=2&sort=id&direction=asc',\n",
       " 'http://www.gobiernotransparentechile.cl/directorio/entidad/9/145/per_contrata/Ao-2012',\n",
       " 'http://www.gobiernotransparentechile.cl/directorio/entidad/12/173/per_contrata/A%EF%BF%BDo%202015/Junio?x=0&y=0&page_number=6&sort=id&direction=asc',\n",
       " 'http://www.gobiernotransparentechile.cl/directorio/entidad/21/279/per_contrata/Ao-2011',\n",
       " 'http://www.gobiernotransparentechile.cl/directorio/entidad/13/179/per_contrata/A%EF%BF%BDo%202012/Mayo?x=0&y=0&page_number=2&sort=id&direction=asc',\n",
       " 'http://www.gobiernotransparentechile.cl/directorio/entidad/2/10/per_planta/2014/Febrero',\n",
       " 'http://www.gobiernotransparentechile.cl/directorio/entidad/11/159/per_contrata/SEPTIEMBRE?x=0&y=0&page_number=23&sort=id&direction=asc',\n",
       " 'http://www.gobiernotransparentechile.cl/directorio/entidad/11/159/per_contrata/Ao-2008?x=0&y=0&page_number=5&sort=id&direction=asc',\n",
       " 'http://www.gobiernotransparentechile.cl/directorio/entidad/2/10/per_planta/2011/Febrero',\n",
       " 'http://www.gobiernotransparentechile.cl/directorio/entidad/12/173/per_contrata/A%EF%BF%BDo%202011/Octubre?x=0&y=0&page_number=6&sort=id&direction=asc',\n",
       " 'http://www.gobiernotransparentechile.cl/directorio/entidad/10/146/per_planta/Ao-2006?x=0&y=0&page_number=10&sort=id&direction=asc',\n",
       " 'http://www.gobiernotransparentechile.cl/directorio/entidad/13/179/per_planta/A%EF%BF%BDo%202015/Septiembre',\n",
       " 'http://www.gobiernotransparentechile.cl/directorio/entidad/19/271/per_contrata/A%C3%B1o%202013/A%C3%B1o%202013%20-%20Abril?x=0&y=0&page_number=5&sort=id&direction=asc',\n",
       " 'http://www.gobiernotransparentechile.cl/directorio/entidad/12/173/per_contrata/A%EF%BF%BDo%202013/Enero?x=0&y=0&page_number=5&sort=id&direction=asc',\n",
       " 'http://www.gobiernotransparentechile.cl/directorio/entidad/19/271/per_contrata/A%C3%B1o%202014/A%C3%B1o%202014%20-%20Noviembre?x=0&y=0&page_number=5&sort=id&direction=asc',\n",
       " 'http://www.gobiernotransparentechile.cl/directorio/entidad/19/271/per_contrata/A%C3%B1o%202011/A%C3%B1o%202011%20-%20Octubre?x=0&y=0&page_number=4&sort=id&direction=asc',\n",
       " 'http://www.gobiernotransparentechile.cl/directorio/entidad/2/8/per_planta/2010/Abril',\n",
       " 'http://www.gobiernotransparentechile.cl/directorio/entidad/10/146/per_contrata/Ao-2009?x=0&y=0&page_number=30&sort=id&direction=asc',\n",
       " 'http://www.gobiernotransparentechile.cl/directorio/entidad/12/167/per_contrata/A%C3%B1o%202015/Junio',\n",
       " 'http://www.gobiernotransparentechile.cl/directorio/entidad/11/159/per_contrata/Ao-2008?x=0&y=0&page_number=12&sort=id&direction=asc',\n",
       " 'http://www.gobiernotransparentechile.cl/directorio/entidad/2/6/per_contrata/2013/Abril',\n",
       " 'http://www.gobiernotransparentechile.cl/directorio/entidad/12/169/per_contrata/Ao-2011?x=0&y=0&page_number=3&sort=id&direction=asc',\n",
       " 'http://www.gobiernotransparentechile.cl/directorio/entidad/2/8/per_planta/2012/Mayo',\n",
       " 'http://www.gobiernotransparentechile.cl/directorio/entidad/10/146/per_contrata/Ao-2009?x=0&y=0&page_number=13&sort=id&direction=asc',\n",
       " 'http://www.gobiernotransparentechile.cl/directorio/entidad/19/271/per_planta/A%C3%B1o%202015/A%C3%B1o%202015%20-%20Enero',\n",
       " 'http://www.gobiernotransparentechile.cl/directorio/entidad/2/2/per_planta/2010/Septiembre?x=0&y=0&page_number=5&sort=id&direction=asc',\n",
       " 'http://www.gobiernotransparentechile.cl/directorio/entidad/2/11/per_planta/2010/Abril',\n",
       " 'http://www.gobiernotransparentechile.cl/directorio/entidad/19/271/per_contrata/A%C3%B1o%202013/A%C3%B1o%202013%20-%20Octubre?x=0&y=0&page_number=2&sort=id&direction=asc',\n",
       " 'http://www.gobiernotransparentechile.cl/directorio/entidad/10/146/per_contrata/Ao-2014?x=0&y=0&page_number=72&sort=id&direction=asc',\n",
       " 'http://www.gobiernotransparentechile.cl/directorio/entidad/2/10/per_planta/2013/Agosto',\n",
       " 'http://www.gobiernotransparentechile.cl/directorio/entidad/9/348/per_contrata/A%C3%B1o%202014/Octubre?x=0&y=0&page_number=4&sort=id&direction=asc',\n",
       " 'http://www.gobiernotransparentechile.cl/directorio/entidad/12/173/per_contrata/A%EF%BF%BDo%202016/Diciembre?x=0&y=0&page_number=5&sort=id&direction=asc',\n",
       " 'http://www.gobiernotransparentechile.cl/directorio/entidad/2/2/per_planta/2014/Noviembre?x=0&y=0&page_number=2&sort=id&direction=asc',\n",
       " 'http://www.gobiernotransparentechile.cl/directorio/entidad/2/2/per_planta/2016/Febrero',\n",
       " 'http://www.gobiernotransparentechile.cl/directorio/entidad/19/271/per_contrata/A%C3%B1o%202015/A%C3%B1o%202015%20-%20Agosto?x=0&y=0&page_number=5&sort=id&direction=asc',\n",
       " 'http://www.gobiernotransparentechile.cl/directorio/entidad/10/146/per_planta/Ao-2007?x=0&y=0&page_number=7&sort=id&direction=asc',\n",
       " 'http://www.gobiernotransparentechile.cl/directorio/entidad/2/8/per_planta/2013/Septiembre',\n",
       " 'http://www.gobiernotransparentechile.cl/directorio/entidad/13/283/per_planta/A%EF%BF%BDo%202015/Septiembre',\n",
       " 'http://www.gobiernotransparentechile.cl/directorio/entidad/10/146/per_planta/Ao-2008?x=0&y=0&page_number=6&sort=id&direction=asc',\n",
       " 'http://www.gobiernotransparentechile.cl/directorio/entidad/19/271/per_contrata/A%C3%B1o%202012/A%C3%B1o%202012%20-%20Marzo?x=0&y=0&page_number=3&sort=id&direction=asc',\n",
       " 'http://www.gobiernotransparentechile.cl/directorio/entidad/9/348/per_contrata/A%C3%B1o%202012/Octubre?x=0&y=0&page_number=5&sort=id&direction=asc',\n",
       " 'http://www.gobiernotransparentechile.cl/directorio/entidad/12/169/per_contrata/Ao-2012?x=0&y=0&page_number=9&sort=id&direction=asc',\n",
       " 'http://www.gobiernotransparentechile.cl/directorio/entidad/12/173/per_contrata/A%EF%BF%BDo%202012/Abril?x=0&y=0&page_number=2&sort=id&direction=asc',\n",
       " 'http://www.gobiernotransparentechile.cl/directorio/entidad/12/173/per_contrata/A%EF%BF%BDo%202014/Agosto?x=0&y=0&page_number=4&sort=id&direction=asc',\n",
       " 'http://www.gobiernotransparentechile.cl/directorio/entidad/12/171/per_contrata/A%C3%B1o%202016/Junio?x=0&y=0&page_number=19&sort=id&direction=asc',\n",
       " 'http://www.gobiernotransparentechile.cl/directorio/entidad/2/2/per_contrata/2013/Septiembre',\n",
       " 'http://www.gobiernotransparentechile.cl/directorio/entidad/9/348/per_contrata/A%C3%B1o%202012/Abril?x=0&y=0&page_number=4&sort=id&direction=asc',\n",
       " 'http://www.gobiernotransparentechile.cl/directorio/entidad/12/167/per_contrata/A%C3%B1o%202013/Enero',\n",
       " 'http://www.gobiernotransparentechile.cl/directorio/entidad/12/170/per_planta/-Julio',\n",
       " 'http://www.gobiernotransparentechile.cl/directorio/entidad/8/136/per_contrata/Ao-2014?x=0&y=0&page_number=3&sort=id&direction=asc',\n",
       " 'http://www.gobiernotransparentechile.cl/directorio/entidad/12/173/per_contrata/A%EF%BF%BDo%202011/Noviembre?x=0&y=0&page_number=4&sort=id&direction=asc',\n",
       " 'http://www.gobiernotransparentechile.cl/directorio/entidad/13/179/per_planta/A%EF%BF%BDo%202012/Marzo',\n",
       " 'http://www.gobiernotransparentechile.cl/directorio/entidad/19/271/per_planta/A%C3%B1o%202012/A%C3%B1o%202012%20-%20Febrero',\n",
       " 'http://www.gobiernotransparentechile.cl/directorio/entidad/9/348/per_contrata/A%C3%B1o%202013/Octubre?x=0&y=0&page_number=6&sort=id&direction=asc',\n",
       " 'http://www.gobiernotransparentechile.cl/directorio/entidad/12/173/per_contrata/A%EF%BF%BDo%202013/Abril?x=0&y=0&page_number=3&sort=id&direction=asc',\n",
       " 'http://www.gobiernotransparentechile.cl/directorio/entidad/19/271/per_contrata/A%C3%B1o%202012/A%C3%B1o%202012%20-%20Abril?x=0&y=0&page_number=2&sort=id&direction=asc',\n",
       " 'http://www.gobiernotransparentechile.cl/directorio/entidad/12/167/per_planta/A%C3%B1o%202015/Septiembre',\n",
       " 'http://www.gobiernotransparentechile.cl/directorio/entidad/13/179/per_contrata/A%EF%BF%BDo%202015/Agosto?x=0&y=0&page_number=2&sort=id&direction=asc',\n",
       " 'http://www.gobiernotransparentechile.cl/directorio/entidad/4/285/per_planta/2007',\n",
       " 'http://www.gobiernotransparentechile.cl/directorio/entidad/2/6/per_contrata/2013/Octubre',\n",
       " 'http://www.gobiernotransparentechile.cl/directorio/entidad/10/146/per_planta/Ao-2006?x=0&y=0&page_number=7&sort=id&direction=asc',\n",
       " 'http://www.gobiernotransparentechile.cl/directorio/entidad/19/271/per_contrata/A%C3%B1o%202016/A%C3%B1o%202016%20-%20Marzo',\n",
       " 'http://www.gobiernotransparentechile.cl/directorio/entidad/12/171/per_contrata/A%C3%B1o%202016/Febrero?x=0&y=0&page_number=23&sort=id&direction=asc',\n",
       " 'http://www.gobiernotransparentechile.cl/directorio/entidad/12/173/per_contrata/A%EF%BF%BDo%202012/Septiembre?x=0&y=0&page_number=5&sort=id&direction=asc',\n",
       " 'http://www.gobiernotransparentechile.cl/directorio/entidad/2/11/per_planta/2011/Septiembre',\n",
       " 'http://www.gobiernotransparentechile.cl/directorio/entidad/12/171/per_contrata/A%C3%B1o%202016/Mayo?x=0&y=0&page_number=13&sort=id&direction=asc',\n",
       " 'http://www.gobiernotransparentechile.cl/directorio/entidad/13/179/per_planta/A%EF%BF%BDo%202012/Diciembre',\n",
       " 'http://www.gobiernotransparentechile.cl/directorio/entidad/12/173/per_contrata/A%EF%BF%BDo%202015/Septiembre?x=0&y=0&page_number=4&sort=id&direction=asc',\n",
       " 'http://www.gobiernotransparentechile.cl/directorio/entidad/12/167/per_planta/A%C3%B1o%202015/Enero',\n",
       " 'http://www.gobiernotransparentechile.cl/directorio/entidad/8/138/per_contrata/A%C3%B1o%202007/Febrero?x=0&y=0&page_number=2&sort=id&direction=asc',\n",
       " 'http://www.gobiernotransparentechile.cl/directorio/entidad/12/173/per_contrata/A%EF%BF%BDo%202014/Noviembre?x=0&y=0&page_number=4&sort=id&direction=asc',\n",
       " 'http://www.gobiernotransparentechile.cl/directorio/entidad/19/271/per_contrata/A%C3%B1o%202014/A%C3%B1o%202014%20-%20Noviembre?x=0&y=0&page_number=6&sort=id&direction=asc',\n",
       " 'http://www.gobiernotransparentechile.cl/directorio/entidad/11/159/per_contrata/SEPTIEMBRE?x=0&y=0&page_number=22&sort=id&direction=asc',\n",
       " 'http://www.gobiernotransparentechile.cl/directorio/entidad/2/8/per_contrata/2014/Enero',\n",
       " 'http://www.gobiernotransparentechile.cl/directorio/entidad/13/177/per_planta/A%EF%BF%BDo%202015/Abril',\n",
       " 'http://www.gobiernotransparentechile.cl/directorio/entidad/12/169/per_planta/Ao-2015?x=0&y=0&page_number=4&sort=id&direction=asc',\n",
       " 'http://www.gobiernotransparentechile.cl/directorio/entidad/12/171/per_contrata/A%C3%B1o%202016/Septiembre?x=0&y=0&page_number=20&sort=id&direction=asc',\n",
       " 'http://www.gobiernotransparentechile.cl/directorio/entidad/13/179/per_contrata/A%EF%BF%BDo%202013/Diciembre',\n",
       " 'http://www.gobiernotransparentechile.cl/directorio/entidad/13/283/per_planta/A%EF%BF%BDo%202015/Julio',\n",
       " 'http://www.gobiernotransparentechile.cl/directorio/entidad/11/159/per_contrata/DICIEMBRE?x=0&y=0&page_number=12&sort=id&direction=asc',\n",
       " 'http://www.gobiernotransparentechile.cl/directorio/entidad/19/271/per_contrata/A%C3%B1o%202016/A%C3%B1o%202016%20-%20Julio?x=0&y=0&page_number=6&sort=id&direction=asc',\n",
       " 'http://www.gobiernotransparentechile.cl/directorio/entidad/10/146/per_planta/Ao-2006?x=0&y=0&page_number=17&sort=id&direction=asc',\n",
       " 'http://www.gobiernotransparentechile.cl/directorio/entidad/12/173/per_contrata/A%EF%BF%BDo%202011/Febrero?x=0&y=0&page_number=3&sort=id&direction=asc',\n",
       " 'http://www.gobiernotransparentechile.cl/directorio/entidad/19/271/per_contrata/A%C3%B1o%202014/A%C3%B1o%202014%20-%20Octubre',\n",
       " 'http://www.gobiernotransparentechile.cl/directorio/entidad/3/90/per_planta/Ao-2014',\n",
       " 'http://www.gobiernotransparentechile.cl/directorio/entidad/13/179/per_contrata/A%EF%BF%BDo%202015/Mayo',\n",
       " 'http://www.gobiernotransparentechile.cl/directorio/entidad/12/167/per_planta/A%C3%B1o%202009%20%28Abril-Diciembre%29/Septiembre',\n",
       " 'http://www.gobiernotransparentechile.cl/directorio/entidad/19/271/per_contrata/A%C3%B1o%202012/A%C3%B1o%202012%20-%20Noviembre?x=0&y=0&page_number=5&sort=id&direction=asc',\n",
       " 'http://www.gobiernotransparentechile.cl/directorio/entidad/12/171/per_planta/A%C3%B1o%202016/Abril?x=0&y=0&page_number=3&sort=id&direction=asc',\n",
       " 'http://www.gobiernotransparentechile.cl/directorio/entidad/12/173/per_contrata/A%EF%BF%BDo%202012/Diciembre',\n",
       " 'http://www.gobiernotransparentechile.cl/directorio/entidad/8/138/per_contrata/A%C3%B1o%202007/Mayo?x=0&y=0&page_number=2&sort=id&direction=asc',\n",
       " 'http://www.gobiernotransparentechile.cl/directorio/entidad/21/135/per_contrata/Ao-2011?x=0&y=0&page_number=2&sort=id&direction=asc',\n",
       " 'http://www.gobiernotransparentechile.cl/directorio/entidad/12/173/per_contrata/A%EF%BF%BDo%202016/Abril',\n",
       " 'http://www.gobiernotransparentechile.cl/directorio/entidad/9/348/per_contrata/A%C3%B1o%202013/Mayo?x=0&y=0&page_number=4&sort=id&direction=asc',\n",
       " 'http://www.gobiernotransparentechile.cl/directorio/entidad/13/177/per_planta/A%EF%BF%BDo%202015/Septiembre',\n",
       " 'http://www.gobiernotransparentechile.cl/directorio/entidad/19/271/per_planta/A%C3%B1o%202015/A%C3%B1o%202015%20-%20Noviembre',\n",
       " 'http://www.gobiernotransparentechile.cl/directorio/entidad/2/2/per_planta/2014/Junio?x=0&y=0&page_number=4&sort=id&direction=asc',\n",
       " 'http://www.gobiernotransparentechile.cl/directorio/entidad/12/171/per_contrata/A%C3%B1o%202016/Septiembre?x=0&y=0&page_number=16&sort=id&direction=asc',\n",
       " 'http://www.gobiernotransparentechile.cl/directorio/entidad/2/6/per_contrata/2014/Octubre',\n",
       " 'http://www.gobiernotransparentechile.cl/directorio/entidad/12/171/per_planta/A%C3%B1o%202016/Noviembre?x=0&y=0&page_number=3&sort=id&direction=asc',\n",
       " ...]"
      ]
     },
     "execution_count": 11,
     "metadata": {},
     "output_type": "execute_result"
    }
   ],
   "source": [
    "retake_entity_urls"
   ]
  },
  {
   "cell_type": "markdown",
   "metadata": {},
   "source": [
    "### Open browser and re-scrape data "
   ]
  },
  {
   "cell_type": "code",
   "execution_count": 12,
   "metadata": {
    "collapsed": true
   },
   "outputs": [],
   "source": [
    "output_file = output_file = './output/retake_entity_0.csv'"
   ]
  },
  {
   "cell_type": "code",
   "execution_count": 13,
   "metadata": {
    "collapsed": false,
    "scrolled": true
   },
   "outputs": [],
   "source": [
    "if not os.path.isfile(output_file):\n",
    "    browser = webdriver.Firefox()\n",
    "    for url in retake_entity_urls[0:5]:\n",
    "        functions.getTableData2(output_file, url, browser)\n",
    "    "
   ]
  },
  {
   "cell_type": "code",
   "execution_count": 14,
   "metadata": {
    "collapsed": false
   },
   "outputs": [],
   "source": [
    "retake_entity_df = pd.read_csv(output_file, encoding='latin1', names=col_names)"
   ]
  },
  {
   "cell_type": "code",
   "execution_count": 15,
   "metadata": {
    "collapsed": false,
    "scrolled": true
   },
   "outputs": [
    {
     "data": {
      "text/plain": [
       "Ministerio del Trabajo y Previsión Social            75041\n",
       "b'Ministerio del Trabajo y Previsi\\xf3n Social'      50531\n",
       "b'Ministerio del Interior y Seguridad P\\xfablica'    45599\n",
       "Ministerio de Minería                                37565\n",
       "b'Ministerio de Obras P\\xfablicas'                   27766\n",
       "b'Ministerio de Educaci\\xf3n'                        19799\n",
       "b'Ministerio de Econom\\xeda, Fomento y Turismo'      14122\n",
       "b'Ministerio de Justicia'                            12252\n",
       "b'Ministerio de Desarrollo Social'                    9425\n",
       "b'Ministerio de Defensa Nacional'                     4552\n",
       "Ministerio de Energía                                 4545\n",
       "Ministerio de Desarrollo Social                       4113\n",
       "Ministerio de Educación                               3450\n",
       "Ministerio de Justicia                                3168\n",
       "Ministerio de Economía, Fomento y Turismo             3124\n",
       "b'Ministerio de Salud'                                3089\n",
       "Ministerio del Interior y Seguridad Pública           2483\n",
       "b'Ministerio de Relaciones Exteriores'                1901\n",
       "Ministerio de Defensa Nacional                        1359\n",
       "Consejo Nacional de Televisión                        1239\n",
       "b'Ministerio de Energ\\xeda'                           1204\n",
       "b'Ministerio de Miner\\xeda'                            630\n",
       "Ministerio de Relaciones Exteriores                    581\n",
       "Ministerio de Obras Públicas                           381\n",
       "b'Ministerio de Transporte y Telecomunicaciones'       304\n",
       "Ministerio de Transporte y Telecomunicaciones          206\n",
       "b'Presidencia de la Rep\\xfablica'                      142\n",
       "b'Ministerio Secretar\\xeda General de Gobierno'        100\n",
       "Presidencia de la República                             89\n",
       "Ministerio Secretaría General de Gobierno               45\n",
       "b'Consejo Nacional de Televisi\\xf3n'                    39\n",
       "Name: entity, dtype: int64"
      ]
     },
     "execution_count": 15,
     "metadata": {},
     "output_type": "execute_result"
    }
   ],
   "source": [
    "retake_entity_df.entity.value_counts()"
   ]
  },
  {
   "cell_type": "code",
   "execution_count": 16,
   "metadata": {
    "collapsed": false
   },
   "outputs": [
    {
     "name": "stdout",
     "output_type": "stream",
     "text": [
      "Could not clean column: other\n",
      "Could not clean column: other\n",
      "Could not clean column: other\n",
      "Could not clean column: other\n",
      "Could not clean column: other\n",
      "Could not clean column: other\n",
      "Could not clean column: other\n",
      "Could not clean column: other\n",
      "Could not clean column: other\n",
      "Could not clean column: other\n",
      "Could not clean column: other\n",
      "Could not clean column: other\n",
      "Could not clean column: other\n",
      "Could not clean column: other\n",
      "Could not clean column: other\n",
      "Could not clean column: other\n",
      "Could not clean column: other\n",
      "Could not clean column: other\n",
      "Could not clean column: other\n",
      "Could not clean column: other\n",
      "Could not clean column: other\n",
      "Could not clean column: other\n",
      "Could not clean column: other\n",
      "\n"
     ]
    }
   ],
   "source": [
    "cleanLatin(retake_entity_df)"
   ]
  },
  {
   "cell_type": "markdown",
   "metadata": {},
   "source": [
    "### Let's delete the corresponding rows and add the new ones "
   ]
  },
  {
   "cell_type": "code",
   "execution_count": 17,
   "metadata": {
    "collapsed": false,
    "scrolled": false
   },
   "outputs": [
    {
     "name": "stdout",
     "output_type": "stream",
     "text": [
      "(328844, 23)\n",
      "(310284, 23)\n"
     ]
    },
    {
     "data": {
      "text/plain": [
       "(1917695, 23)"
      ]
     },
     "execution_count": 17,
     "metadata": {},
     "output_type": "execute_result"
    }
   ],
   "source": [
    "retake_entity_df['filename'] = output_file\n",
    "print(retake_entity_df.shape)\n",
    "print(dfscraped[dfscraped.entity.isin(retake_entity)].shape)\n",
    "dfscraped = dfscraped[~dfscraped.entity.isin(retake_entity)]\n",
    "dfscraped = pd.concat([dfscraped, retake_entity_df])\n",
    "dfscraped.shape"
   ]
  },
  {
   "cell_type": "markdown",
   "metadata": {},
   "source": [
    "# Write or Read clean file "
   ]
  },
  {
   "cell_type": "code",
   "execution_count": 11,
   "metadata": {
    "collapsed": true
   },
   "outputs": [],
   "source": [
    "write_clean_file = True\n",
    "apply_cleanup_again = False\n",
    "\n"
   ]
  },
  {
   "cell_type": "code",
   "execution_count": null,
   "metadata": {
    "collapsed": false,
    "scrolled": true
   },
   "outputs": [
    {
     "name": "stdout",
     "output_type": "stream",
     "text": [
      "Before Processing: (2183713, 23)\n"
     ]
    }
   ],
   "source": [
    "if write_clean_file:\n",
    "    print('Before Processing:', dfscraped.shape)\n",
    "    columns_dupe = [col for col in dfscraped.columns if not 'filename' in col]\n",
    "    cleanLatin(dfscraped)\n",
    "    dfscraped1 = dfscraped.drop_duplicates(columns_dupe)\n",
    "    print('After Processing:', dfscraped1.shape)\n",
    "    \n",
    "    # Lower case values\n",
    "    dfscraped1.givenn = dfscraped1.givenn.str.lower()\n",
    "    dfscraped1.lastn = dfscraped1.lastn.str.lower()\n",
    "    dfscraped1.lastn2 = dfscraped1.lastn2.str.lower()\n",
    "    \n",
    "    # Write file\n",
    "    dfscraped1.to_csv('./output/scraped_data_clean_20140417.csv', encoding='utf-8', index=False)\n",
    "    \n",
    "    \n",
    "#Before Processing: (2476309, 23)\n",
    "\n",
    "#After Processing: (2081444, 23)"
   ]
  },
  {
   "cell_type": "code",
   "execution_count": null,
   "metadata": {
    "collapsed": false
   },
   "outputs": [],
   "source": [
    "if not write_clean_file:\n",
    "    dfscraped1 = pd.read_csv('./output/scraped_data_clean.csv', encoding='latin1', low_memory=False)\n",
    "    columns_dupe = [col for col in dfscraped1.columns if not 'filename' in col]\n",
    "\n",
    "if apply_cleanup_again:\n",
    "    cleanLatin(dfscraped1)\n",
    "    dfscraped1.drop_duplicates(columns_dupe, inplace=True)"
   ]
  },
  {
   "cell_type": "code",
   "execution_count": null,
   "metadata": {
    "collapsed": false
   },
   "outputs": [],
   "source": [
    "dfscraped1.entity.replace(np.nan, -1).value_counts()"
   ]
  },
  {
   "cell_type": "raw",
   "metadata": {},
   "source": []
  },
  {
   "cell_type": "markdown",
   "metadata": {},
   "source": [
    "# Cleaning SENAME and learning cleaning functions"
   ]
  },
  {
   "cell_type": "code",
   "execution_count": 24,
   "metadata": {
    "collapsed": false,
    "scrolled": true
   },
   "outputs": [],
   "source": [
    "dfjusticia = dfscraped1.loc[dfscraped1.entity == 'Ministerio de Justicia']"
   ]
  },
  {
   "cell_type": "code",
   "execution_count": 25,
   "metadata": {
    "collapsed": false,
    "scrolled": false
   },
   "outputs": [
    {
     "data": {
      "text/plain": [
       "Servicio Nacional de Menores (SENAME)                  99009\n",
       "Servicio de Registro Civil e Identificación (SRCEI)    78471\n",
       "Defensoría Penal Pública                                3316\n",
       "Name: department, dtype: int64"
      ]
     },
     "execution_count": 25,
     "metadata": {},
     "output_type": "execute_result"
    }
   ],
   "source": [
    "dfjusticia.department.value_counts()"
   ]
  },
  {
   "cell_type": "code",
   "execution_count": 26,
   "metadata": {
    "collapsed": false
   },
   "outputs": [],
   "source": [
    "dfsename = dfjusticia.loc[dfjusticia.department == 'Servicio Nacional de Menores (SENAME)']"
   ]
  },
  {
   "cell_type": "code",
   "execution_count": 27,
   "metadata": {
    "collapsed": false,
    "scrolled": false
   },
   "outputs": [
    {
     "data": {
      "text/plain": [
       "year        month  \n",
       "ABRIL       allyear    4118\n",
       "AGOSTO      allyear    4389\n",
       "Año 2006    allyear    2806\n",
       "Año 2007    allyear    3185\n",
       "Año 2008    allyear    3387\n",
       "Año 2009    allyear    3499\n",
       "Año 2010    allyear    3985\n",
       "Año 2011    allyear    4017\n",
       "Año 2012    allyear    4062\n",
       "Año 2013    allyear    4831\n",
       "Año 2014    allyear    4379\n",
       "Año 2015    allyear    6035\n",
       "Año 2016    allyear      47\n",
       "DICIEMBRE   allyear    4206\n",
       "ENERO       allyear    7990\n",
       "FEBRERO     allyear    8113\n",
       "JULIO       allyear    4324\n",
       "JUNIO       allyear    4269\n",
       "MARZO       allyear    4082\n",
       "MAYO        allyear    4190\n",
       "NOVIEMBRE   allyear    4156\n",
       "OCTUBRE     allyear    4498\n",
       "SEPTIEMBRE  allyear    4441\n",
       "Name: entity, dtype: int64"
      ]
     },
     "execution_count": 27,
     "metadata": {},
     "output_type": "execute_result"
    }
   ],
   "source": [
    "dfsename.groupby(['year', 'month'])['entity'].count()"
   ]
  },
  {
   "cell_type": "markdown",
   "metadata": {},
   "source": [
    "## Year label is a month + it is Known to be from a certain year "
   ]
  },
  {
   "cell_type": "code",
   "execution_count": 25,
   "metadata": {
    "collapsed": false
   },
   "outputs": [
    {
     "name": "stdout",
     "output_type": "stream",
     "text": [
      "(146355, 23)\n"
     ]
    },
    {
     "name": "stderr",
     "output_type": "stream",
     "text": [
      "C:\\Users\\jgaci\\AppData\\Local\\Continuum\\Anaconda3\\lib\\site-packages\\pandas\\core\\indexing.py:288: SettingWithCopyWarning: \n",
      "A value is trying to be set on a copy of a slice from a DataFrame.\n",
      "Try using .loc[row_indexer,col_indexer] = value instead\n",
      "\n",
      "See the caveats in the documentation: http://pandas.pydata.org/pandas-docs/stable/indexing.html#indexing-view-versus-copy\n",
      "  self.obj[key] = _infer_fill_value(value)\n",
      "C:\\Users\\jgaci\\AppData\\Local\\Continuum\\Anaconda3\\lib\\site-packages\\pandas\\core\\indexing.py:465: SettingWithCopyWarning: \n",
      "A value is trying to be set on a copy of a slice from a DataFrame.\n",
      "Try using .loc[row_indexer,col_indexer] = value instead\n",
      "\n",
      "See the caveats in the documentation: http://pandas.pydata.org/pandas-docs/stable/indexing.html#indexing-view-versus-copy\n",
      "  self.obj[item] = s\n"
     ]
    },
    {
     "name": "stdout",
     "output_type": "stream",
     "text": [
      "(146355, 28)\n"
     ]
    }
   ],
   "source": [
    "print(dfsename.shape)\n",
    "# Monthly data, set define months\n",
    "dfmonths = pd.read_csv('./data/months.csv', dtype={'month2' : str, 'month3' : int})\n",
    "dfmonths.month3 = dfmonths.month3.astype(int)\n",
    "\n",
    "months = list(dfmonths.month2.values)\n",
    "\n",
    "# all the rows that are months we know they are 2016\n",
    "# mark them as this transformation\n",
    "dfsename.ix[:,'TmonthIsKnownYear'] = 0\n",
    "dfsename.ix[dfsename.year.str.lower().isin(months), 'TmonthIsKnownYear'] = 1\n",
    "\n",
    "# Write Months\n",
    "dfsename.ix[dfsename.TmonthIsKnownYear == 1, 'month2'] = dfsename.year.str.lower()\n",
    "dfsename.ix[dfsename.TmonthIsKnownYear == 0, 'month2'] = 'allyear'\n",
    "dfsename = pd.merge(dfsename, dfmonths, how='left', on='month2')\n",
    "\n",
    "# Write years\n",
    "dfsename.ix[:, 'year2'] = dfsename.year.str.extract('( [0-9]*)$', expand=False)\n",
    "dfsename.ix[dfsename.TmonthIsKnownYear == 1, 'year2'] = 2016\n",
    "dfsename.year2 = pd.to_numeric(dfsename.year2)\n",
    "\n",
    "# Include Rows Flag\n",
    "dfsename['include'] = 1\n",
    "dfsename.ix[(dfsename.year2 == 2016) & (dfsename.month2 == 'allyear'), 'include'] = 0 # year 2016\n",
    "dfsename.ix[(dfsename.year == 0) | (dfsename.year == 1), 'include'] = 0 # zeroes and ones\n",
    "\n",
    "print(dfsename.shape)"
   ]
  },
  {
   "cell_type": "code",
   "execution_count": 26,
   "metadata": {
    "collapsed": false,
    "scrolled": false
   },
   "outputs": [
    {
     "name": "stdout",
     "output_type": "stream",
     "text": [
      "include  TmonthIsKnownYear  year        year2  month2      month3\n",
      "0        0                  Año 2016    2016   allyear     -1.0        54\n",
      "1        0                  Año 2006    2006   allyear     -1.0      2808\n",
      "                            Año 2007    2007   allyear     -1.0      6370\n",
      "                            Año 2008    2008   allyear     -1.0      6774\n",
      "                            Año 2009    2009   allyear     -1.0      5453\n",
      "                            Año 2010    2010   allyear     -1.0      6190\n",
      "                            Año 2011    2011   allyear     -1.0      6246\n",
      "                            Año 2012    2012   allyear     -1.0      6346\n",
      "                            Año 2013    2013   allyear     -1.0      7702\n",
      "                            Año 2014    2014   allyear     -1.0      6785\n",
      "                            Año 2015    2015   allyear     -1.0      9712\n",
      "         1                  ABRIL       2016   abril        4.0      6846\n",
      "                            AGOSTO      2016   agosto       8.0      7110\n",
      "                            DICIEMBRE   2016   diciembre    12.0     6947\n",
      "                            ENERO       2016   enero        1.0      6204\n",
      "                            FEBRERO     2016   febrero      2.0      6719\n",
      "                            JULIO       2016   julio        7.0      7274\n",
      "                            JUNIO       2016   junio        6.0      7107\n",
      "                            MARZO       2016   marzo        3.0      6759\n",
      "                            MAYO        2016   mayo         5.0      7026\n",
      "                            NOVIEMBRE   2016   noviembre    11.0     5345\n",
      "                            OCTUBRE     2016   octubre      10.0     7220\n",
      "                            SEPTIEMBRE  2016   septiembre   9.0      7358\n",
      "Name: entity, dtype: int64\n"
     ]
    }
   ],
   "source": [
    "print(dfsename.replace(np.nan, -1).groupby(['include' ,'TmonthIsKnownYear', 'year', 'year2', 'month2', 'month3'])['entity'].count())"
   ]
  },
  {
   "cell_type": "markdown",
   "metadata": {},
   "source": [
    "## Expand yearly data to months. Allows filtering people from months by start_date and end_date."
   ]
  },
  {
   "cell_type": "code",
   "execution_count": 27,
   "metadata": {
    "collapsed": false
   },
   "outputs": [
    {
     "name": "stdout",
     "output_type": "stream",
     "text": [
      "(146355, 28)\n",
      "(64440, 26)\n",
      "(773280, 28)\n"
     ]
    }
   ],
   "source": [
    "print(dfsename.shape)\n",
    "\n",
    "# Define what df we want to expand to months\n",
    "cols = [col for col in dfsename.columns if ((col !='month2') and (col != 'month3') )]\n",
    "df_to_monthly = dfsename.ix[dfsename.month2 == 'allyear', cols]\n",
    "print(df_to_monthly.shape)\n",
    "\n",
    "# Keys to mege\n",
    "df_to_monthly['key'] = 1\n",
    "dfmonths['key'] = 1\n",
    "\n",
    "# Generate cartesian product\n",
    "dfcartesian = pd.merge(df_to_monthly, dfmonths, on='key')\n",
    "cols2 = [col for col in dfcartesian.columns if col !='key']\n",
    "dfcartesian = dfcartesian.ix[:,cols2]\n",
    "print(dfcartesian.shape)\n",
    "\n",
    "# Remove yearly rows\n",
    "dfsename = dfsename.ix[dfsename.month2 != 'allyear', :]\n",
    "\n",
    "# Add monthly rows\n",
    "dfsename = pd.concat([dfsename, dfcartesian])"
   ]
  },
  {
   "cell_type": "code",
   "execution_count": 28,
   "metadata": {
    "collapsed": false,
    "scrolled": true
   },
   "outputs": [
    {
     "name": "stdout",
     "output_type": "stream",
     "text": [
      "(855195, 28)\n",
      "year2                               2006    2007    2008    2009    2010  \\\n",
      "include TmonthIsKnownYear month3                                           \n",
      "0       0                 1.0        NaN     NaN     NaN     NaN     NaN   \n",
      "                          2.0        NaN     NaN     NaN     NaN     NaN   \n",
      "                          3.0        NaN     NaN     NaN     NaN     NaN   \n",
      "                          4.0        NaN     NaN     NaN     NaN     NaN   \n",
      "                          5.0        NaN     NaN     NaN     NaN     NaN   \n",
      "                          6.0        NaN     NaN     NaN     NaN     NaN   \n",
      "                          7.0        NaN     NaN     NaN     NaN     NaN   \n",
      "                          8.0        NaN     NaN     NaN     NaN     NaN   \n",
      "                          9.0        NaN     NaN     NaN     NaN     NaN   \n",
      "                          10.0       NaN     NaN     NaN     NaN     NaN   \n",
      "                          11.0       NaN     NaN     NaN     NaN     NaN   \n",
      "                          12.0       NaN     NaN     NaN     NaN     NaN   \n",
      "1       0                 1.0     2808.0  6370.0  6774.0  5453.0  6190.0   \n",
      "                          2.0     2808.0  6370.0  6774.0  5453.0  6190.0   \n",
      "                          3.0     2808.0  6370.0  6774.0  5453.0  6190.0   \n",
      "                          4.0     2808.0  6370.0  6774.0  5453.0  6190.0   \n",
      "                          5.0     2808.0  6370.0  6774.0  5453.0  6190.0   \n",
      "                          6.0     2808.0  6370.0  6774.0  5453.0  6190.0   \n",
      "                          7.0     2808.0  6370.0  6774.0  5453.0  6190.0   \n",
      "                          8.0     2808.0  6370.0  6774.0  5453.0  6190.0   \n",
      "                          9.0     2808.0  6370.0  6774.0  5453.0  6190.0   \n",
      "                          10.0    2808.0  6370.0  6774.0  5453.0  6190.0   \n",
      "                          11.0    2808.0  6370.0  6774.0  5453.0  6190.0   \n",
      "                          12.0    2808.0  6370.0  6774.0  5453.0  6190.0   \n",
      "        1                 1.0        NaN     NaN     NaN     NaN     NaN   \n",
      "                          2.0        NaN     NaN     NaN     NaN     NaN   \n",
      "                          3.0        NaN     NaN     NaN     NaN     NaN   \n",
      "                          4.0        NaN     NaN     NaN     NaN     NaN   \n",
      "                          5.0        NaN     NaN     NaN     NaN     NaN   \n",
      "                          6.0        NaN     NaN     NaN     NaN     NaN   \n",
      "                          7.0        NaN     NaN     NaN     NaN     NaN   \n",
      "                          8.0        NaN     NaN     NaN     NaN     NaN   \n",
      "                          9.0        NaN     NaN     NaN     NaN     NaN   \n",
      "                          10.0       NaN     NaN     NaN     NaN     NaN   \n",
      "                          11.0       NaN     NaN     NaN     NaN     NaN   \n",
      "                          12.0       NaN     NaN     NaN     NaN     NaN   \n",
      "\n",
      "year2                               2011    2012    2013    2014    2015  \\\n",
      "include TmonthIsKnownYear month3                                           \n",
      "0       0                 1.0        NaN     NaN     NaN     NaN     NaN   \n",
      "                          2.0        NaN     NaN     NaN     NaN     NaN   \n",
      "                          3.0        NaN     NaN     NaN     NaN     NaN   \n",
      "                          4.0        NaN     NaN     NaN     NaN     NaN   \n",
      "                          5.0        NaN     NaN     NaN     NaN     NaN   \n",
      "                          6.0        NaN     NaN     NaN     NaN     NaN   \n",
      "                          7.0        NaN     NaN     NaN     NaN     NaN   \n",
      "                          8.0        NaN     NaN     NaN     NaN     NaN   \n",
      "                          9.0        NaN     NaN     NaN     NaN     NaN   \n",
      "                          10.0       NaN     NaN     NaN     NaN     NaN   \n",
      "                          11.0       NaN     NaN     NaN     NaN     NaN   \n",
      "                          12.0       NaN     NaN     NaN     NaN     NaN   \n",
      "1       0                 1.0     6246.0  6346.0  7702.0  6785.0  9712.0   \n",
      "                          2.0     6246.0  6346.0  7702.0  6785.0  9712.0   \n",
      "                          3.0     6246.0  6346.0  7702.0  6785.0  9712.0   \n",
      "                          4.0     6246.0  6346.0  7702.0  6785.0  9712.0   \n",
      "                          5.0     6246.0  6346.0  7702.0  6785.0  9712.0   \n",
      "                          6.0     6246.0  6346.0  7702.0  6785.0  9712.0   \n",
      "                          7.0     6246.0  6346.0  7702.0  6785.0  9712.0   \n",
      "                          8.0     6246.0  6346.0  7702.0  6785.0  9712.0   \n",
      "                          9.0     6246.0  6346.0  7702.0  6785.0  9712.0   \n",
      "                          10.0    6246.0  6346.0  7702.0  6785.0  9712.0   \n",
      "                          11.0    6246.0  6346.0  7702.0  6785.0  9712.0   \n",
      "                          12.0    6246.0  6346.0  7702.0  6785.0  9712.0   \n",
      "        1                 1.0        NaN     NaN     NaN     NaN     NaN   \n",
      "                          2.0        NaN     NaN     NaN     NaN     NaN   \n",
      "                          3.0        NaN     NaN     NaN     NaN     NaN   \n",
      "                          4.0        NaN     NaN     NaN     NaN     NaN   \n",
      "                          5.0        NaN     NaN     NaN     NaN     NaN   \n",
      "                          6.0        NaN     NaN     NaN     NaN     NaN   \n",
      "                          7.0        NaN     NaN     NaN     NaN     NaN   \n",
      "                          8.0        NaN     NaN     NaN     NaN     NaN   \n",
      "                          9.0        NaN     NaN     NaN     NaN     NaN   \n",
      "                          10.0       NaN     NaN     NaN     NaN     NaN   \n",
      "                          11.0       NaN     NaN     NaN     NaN     NaN   \n",
      "                          12.0       NaN     NaN     NaN     NaN     NaN   \n",
      "\n",
      "year2                               2016  \n",
      "include TmonthIsKnownYear month3          \n",
      "0       0                 1.0       54.0  \n",
      "                          2.0       54.0  \n",
      "                          3.0       54.0  \n",
      "                          4.0       54.0  \n",
      "                          5.0       54.0  \n",
      "                          6.0       54.0  \n",
      "                          7.0       54.0  \n",
      "                          8.0       54.0  \n",
      "                          9.0       54.0  \n",
      "                          10.0      54.0  \n",
      "                          11.0      54.0  \n",
      "                          12.0      54.0  \n",
      "1       0                 1.0        NaN  \n",
      "                          2.0        NaN  \n",
      "                          3.0        NaN  \n",
      "                          4.0        NaN  \n",
      "                          5.0        NaN  \n",
      "                          6.0        NaN  \n",
      "                          7.0        NaN  \n",
      "                          8.0        NaN  \n",
      "                          9.0        NaN  \n",
      "                          10.0       NaN  \n",
      "                          11.0       NaN  \n",
      "                          12.0       NaN  \n",
      "        1                 1.0     6204.0  \n",
      "                          2.0     6719.0  \n",
      "                          3.0     6759.0  \n",
      "                          4.0     6846.0  \n",
      "                          5.0     7026.0  \n",
      "                          6.0     7107.0  \n",
      "                          7.0     7274.0  \n",
      "                          8.0     7110.0  \n",
      "                          9.0     7358.0  \n",
      "                          10.0    7220.0  \n",
      "                          11.0    5345.0  \n",
      "                          12.0    6947.0  \n"
     ]
    }
   ],
   "source": [
    "print(dfsename.shape)\n",
    "print(dfsename.replace(np.nan, -1).groupby(['include' ,'TmonthIsKnownYear', 'year2', 'month3'])['entity'].count().unstack('year2'))"
   ]
  },
  {
   "cell_type": "code",
   "execution_count": 29,
   "metadata": {
    "collapsed": false
   },
   "outputs": [],
   "source": [
    "# Set the datetimeindex index\n",
    "dfsename['curDate'] = dfsename.year2.map(int).map(str) + '-' + dfsename.month3.map(int).map(str)\n",
    "dfsename['curDate2'] = pd.to_datetime(dfsename.curDate, format='%Y-%m')\n",
    "dfsename = dfsename.set_index(pd.DatetimeIndex(dfsename['curDate2']))\n"
   ]
  },
  {
   "cell_type": "code",
   "execution_count": 30,
   "metadata": {
    "collapsed": false
   },
   "outputs": [
    {
     "data": {
      "text/plain": [
       "<matplotlib.axes._subplots.AxesSubplot at 0x1c9600a12b0>"
      ]
     },
     "execution_count": 30,
     "metadata": {},
     "output_type": "execute_result"
    },
    {
     "data": {
      "image/png": "[encoded data removed]",
      "text/plain": [
       "<matplotlib.figure.Figure at 0x1c95cb54470>"
      ]
     },
     "metadata": {},
     "output_type": "display_data"
    }
   ],
   "source": [
    "dfsename.ix[dfsename.include == 1].replace(np.nan, -1).groupby('contract').resample('M')['curDate2'].count().unstack('contract').plot()"
   ]
  },
  {
   "cell_type": "markdown",
   "metadata": {},
   "source": [
    "Year 2016 looks weird because we have the actual monthly data. The rest of the years are just unparsed yearly data."
   ]
  },
  {
   "cell_type": "code",
   "execution_count": null,
   "metadata": {
    "collapsed": false
   },
   "outputs": [],
   "source": []
  },
  {
   "cell_type": "code",
   "execution_count": 31,
   "metadata": {
    "collapsed": false
   },
   "outputs": [],
   "source": [
    "dfsename['start_date'] = dfsename['start_date'].astype(str)\n",
    "dfsename['end_date'] = dfsename['end_date'].astype(str)\n",
    "\n",
    "# Fix some guys\n",
    "dfsename.start_date = dfsename.start_date.str.replace('28/10/201$', '28/10/2010')\n",
    "\n",
    "# Transform\n",
    "dfsename['start_date2'] = pd.to_datetime(dfsename['start_date'], format='%d/%m/%Y', errors='coerce')\n",
    "dfsename['end_date2'] = pd.to_datetime(dfsename['end_date'], format='%d/%m/%Y', errors='coerce')\n"
   ]
  },
  {
   "cell_type": "code",
   "execution_count": 32,
   "metadata": {
    "collapsed": false,
    "scrolled": false
   },
   "outputs": [
    {
     "name": "stdout",
     "output_type": "stream",
     "text": [
      "Start nulls\n",
      " nan    397\n",
      "       144\n",
      "Name: start_date, dtype: int64\n",
      "End nulls\n",
      " Indefinido    8633\n",
      "nan            373\n",
      "               144\n",
      "Name: end_date, dtype: int64\n"
     ]
    }
   ],
   "source": [
    "print('Start nulls\\n', dfsename.ix[pd.isnull(dfsename.start_date2), 'start_date'].value_counts())\n",
    "print('End nulls\\n', dfsename.ix[pd.isnull(dfsename.end_date2), 'end_date'].value_counts())"
   ]
  },
  {
   "cell_type": "code",
   "execution_count": 33,
   "metadata": {
    "collapsed": false
   },
   "outputs": [],
   "source": [
    "\n",
    "# Finished before the report date\n",
    "dfsename.ix[dfsename.end_date2 < dfsename.curDate2 + timedelta(days=14) , 'include'] = 0\n",
    "# Started after the report date\n",
    "dfsename.ix[dfsename.start_date2 > dfsename.curDate2 + timedelta(days=14), 'include'] = 0\n",
    "# Null values\n",
    "dfsename.ix[dfsename.start_date2 == 'nan', 'include'] = 0\n",
    "dfsename.ix[dfsename.start_date2 == '', 'include'] = 0\n",
    "# Indefinite contract\n",
    "dfsename.ix[(dfsename.start_date2 <= dfsename.curDate2) & (dfsename.end_date == 'Indefinido'), 'include'] = 1"
   ]
  },
  {
   "cell_type": "code",
   "execution_count": null,
   "metadata": {
    "collapsed": false,
    "scrolled": true
   },
   "outputs": [],
   "source": []
  },
  {
   "cell_type": "code",
   "execution_count": 34,
   "metadata": {
    "collapsed": false
   },
   "outputs": [
    {
     "data": {
      "text/plain": [
       "<matplotlib.axes._subplots.AxesSubplot at 0x1c901126f28>"
      ]
     },
     "execution_count": 34,
     "metadata": {},
     "output_type": "execute_result"
    },
    {
     "data": {
      "image/png": "[encoded data removed]",
      "text/plain": [
       "<matplotlib.figure.Figure at 0x1c94983d390>"
      ]
     },
     "metadata": {},
     "output_type": "display_data"
    }
   ],
   "source": [
    "dfsename.ix[dfsename.include == 1].replace(np.nan, -1).groupby('contract').resample('M')['curDate2'].count().unstack('contract').plot()"
   ]
  },
  {
   "cell_type": "code",
   "execution_count": 35,
   "metadata": {
    "collapsed": false
   },
   "outputs": [
    {
     "data": {
      "text/plain": [
       "[Timestamp('2007-01-01 00:00:00', offset='MS'),\n",
       " Timestamp('2007-02-01 00:00:00', offset='MS'),\n",
       " Timestamp('2007-03-01 00:00:00', offset='MS'),\n",
       " Timestamp('2007-04-01 00:00:00', offset='MS'),\n",
       " Timestamp('2007-05-01 00:00:00', offset='MS')]"
      ]
     },
     "execution_count": 35,
     "metadata": {},
     "output_type": "execute_result"
    }
   ],
   "source": [
    "# Percentage of included\n",
    "included_pct = pd.concat([dfsename.groupby(['include', 'curDate2'])['entity'].count().unstack('include'),\n",
    "                         dfsename.groupby(['include', 'curDate2'])['entity'].count().unstack('include').sum(axis=1)], axis=1, join='inner')\n",
    "included_pct.columns = ['no', 'yes', 'total']\n",
    "included_pct['no_pct'] = included_pct.no / included_pct.total\n",
    "list(included_pct.ix[included_pct.no_pct > 0.5].index)"
   ]
  },
  {
   "cell_type": "code",
   "execution_count": 36,
   "metadata": {
    "collapsed": false,
    "scrolled": true
   },
   "outputs": [
    {
     "data": {
      "text/plain": [
       "01/06/2007    4170\n",
       "29/08/2007     304\n",
       "01/05/2007     260\n",
       "01/12/2007     120\n",
       "01/10/2007      74\n",
       "Name: start_date, dtype: int64"
      ]
     },
     "execution_count": 36,
     "metadata": {},
     "output_type": "execute_result"
    }
   ],
   "source": [
    "dfsename.ix[(dfsename.curDate2 == '2007-01-01') & (dfsename.include == 0), 'start_date'].value_counts().head()"
   ]
  },
  {
   "cell_type": "code",
   "execution_count": 37,
   "metadata": {
    "collapsed": false
   },
   "outputs": [],
   "source": [
    "# ASSUMPTION: We will assume that the start_date 01/06/2007 is wrong and replace by 01/01/2007\n",
    "dfsename['TcorrectedDate'] = 0\n",
    "dfsename.ix[dfsename.start_date == '01/06/2007', 'TcorrectedDate'] = 1\n",
    "dfsename.ix[dfsename.start_date == '01/06/2007', 'start_date2'] = datetime.strptime('01/01/2007', '%d/%m/%Y')\n",
    "dfsename.ix[(dfsename.start_date2 <= dfsename.curDate2 + timedelta(days=14)) & \n",
    "            ((dfsename.end_date2 >= dfsename.curDate2 + timedelta(days=14)) |\n",
    "            (dfsename.end_date == 'Indefinido')) , 'include'] = 1\n"
   ]
  },
  {
   "cell_type": "code",
   "execution_count": 38,
   "metadata": {
    "collapsed": false
   },
   "outputs": [
    {
     "data": {
      "text/plain": [
       "<matplotlib.axes._subplots.AxesSubplot at 0x1c960089780>"
      ]
     },
     "execution_count": 38,
     "metadata": {},
     "output_type": "execute_result"
    },
    {
     "data": {
      "image/png": "[encoded data removed]",
      "text/plain": [
       "<matplotlib.figure.Figure at 0x1c9600750f0>"
      ]
     },
     "metadata": {},
     "output_type": "display_data"
    }
   ],
   "source": [
    "dfsename.ix[dfsename.include == 1].replace(np.nan, -1).groupby('contract').resample('M')['curDate2'].count().unstack('contract').plot()"
   ]
  },
  {
   "cell_type": "markdown",
   "metadata": {},
   "source": [
    "Looking more reasonable, there are some strange spikes at the end of 2007, 2008 and 2009."
   ]
  },
  {
   "cell_type": "code",
   "execution_count": 39,
   "metadata": {
    "collapsed": false,
    "scrolled": true
   },
   "outputs": [
    {
     "data": {
      "text/html": [
       "<div>\n",
       "<table border=\"1\" class=\"dataframe\">\n",
       "  <thead>\n",
       "    <tr style=\"text-align: right;\">\n",
       "      <th>contract</th>\n",
       "      <th>Dotación a contrata</th>\n",
       "      <th>Dotación de planta</th>\n",
       "    </tr>\n",
       "  </thead>\n",
       "  <tbody>\n",
       "    <tr>\n",
       "      <th>2006-01-31</th>\n",
       "      <td>2482</td>\n",
       "      <td>95</td>\n",
       "    </tr>\n",
       "    <tr>\n",
       "      <th>2006-02-28</th>\n",
       "      <td>2502</td>\n",
       "      <td>95</td>\n",
       "    </tr>\n",
       "    <tr>\n",
       "      <th>2006-03-31</th>\n",
       "      <td>2512</td>\n",
       "      <td>96</td>\n",
       "    </tr>\n",
       "    <tr>\n",
       "      <th>2006-04-30</th>\n",
       "      <td>2508</td>\n",
       "      <td>95</td>\n",
       "    </tr>\n",
       "    <tr>\n",
       "      <th>2006-05-31</th>\n",
       "      <td>2511</td>\n",
       "      <td>96</td>\n",
       "    </tr>\n",
       "    <tr>\n",
       "      <th>2006-06-30</th>\n",
       "      <td>2523</td>\n",
       "      <td>100</td>\n",
       "    </tr>\n",
       "    <tr>\n",
       "      <th>2006-07-31</th>\n",
       "      <td>2525</td>\n",
       "      <td>100</td>\n",
       "    </tr>\n",
       "    <tr>\n",
       "      <th>2006-08-31</th>\n",
       "      <td>2533</td>\n",
       "      <td>102</td>\n",
       "    </tr>\n",
       "    <tr>\n",
       "      <th>2006-09-30</th>\n",
       "      <td>2556</td>\n",
       "      <td>103</td>\n",
       "    </tr>\n",
       "    <tr>\n",
       "      <th>2006-10-31</th>\n",
       "      <td>2557</td>\n",
       "      <td>102</td>\n",
       "    </tr>\n",
       "    <tr>\n",
       "      <th>2006-11-30</th>\n",
       "      <td>2567</td>\n",
       "      <td>99</td>\n",
       "    </tr>\n",
       "    <tr>\n",
       "      <th>2006-12-31</th>\n",
       "      <td>2581</td>\n",
       "      <td>99</td>\n",
       "    </tr>\n",
       "    <tr>\n",
       "      <th>2007-01-31</th>\n",
       "      <td>4528</td>\n",
       "      <td>36</td>\n",
       "    </tr>\n",
       "    <tr>\n",
       "      <th>2007-02-28</th>\n",
       "      <td>4544</td>\n",
       "      <td>36</td>\n",
       "    </tr>\n",
       "    <tr>\n",
       "      <th>2007-03-31</th>\n",
       "      <td>4566</td>\n",
       "      <td>38</td>\n",
       "    </tr>\n",
       "    <tr>\n",
       "      <th>2007-04-30</th>\n",
       "      <td>4586</td>\n",
       "      <td>38</td>\n",
       "    </tr>\n",
       "    <tr>\n",
       "      <th>2007-05-31</th>\n",
       "      <td>4858</td>\n",
       "      <td>40</td>\n",
       "    </tr>\n",
       "    <tr>\n",
       "      <th>2007-06-30</th>\n",
       "      <td>4896</td>\n",
       "      <td>40</td>\n",
       "    </tr>\n",
       "    <tr>\n",
       "      <th>2007-07-31</th>\n",
       "      <td>4978</td>\n",
       "      <td>42</td>\n",
       "    </tr>\n",
       "    <tr>\n",
       "      <th>2007-08-31</th>\n",
       "      <td>5068</td>\n",
       "      <td>44</td>\n",
       "    </tr>\n",
       "    <tr>\n",
       "      <th>2007-09-30</th>\n",
       "      <td>5520</td>\n",
       "      <td>48</td>\n",
       "    </tr>\n",
       "    <tr>\n",
       "      <th>2007-10-31</th>\n",
       "      <td>5768</td>\n",
       "      <td>54</td>\n",
       "    </tr>\n",
       "    <tr>\n",
       "      <th>2007-11-30</th>\n",
       "      <td>6006</td>\n",
       "      <td>68</td>\n",
       "    </tr>\n",
       "    <tr>\n",
       "      <th>2007-12-31</th>\n",
       "      <td>6264</td>\n",
       "      <td>84</td>\n",
       "    </tr>\n",
       "    <tr>\n",
       "      <th>2008-01-31</th>\n",
       "      <td>5404</td>\n",
       "      <td>60</td>\n",
       "    </tr>\n",
       "    <tr>\n",
       "      <th>2008-02-29</th>\n",
       "      <td>5520</td>\n",
       "      <td>68</td>\n",
       "    </tr>\n",
       "    <tr>\n",
       "      <th>2008-03-31</th>\n",
       "      <td>5568</td>\n",
       "      <td>72</td>\n",
       "    </tr>\n",
       "    <tr>\n",
       "      <th>2008-04-30</th>\n",
       "      <td>5622</td>\n",
       "      <td>74</td>\n",
       "    </tr>\n",
       "    <tr>\n",
       "      <th>2008-05-31</th>\n",
       "      <td>5686</td>\n",
       "      <td>76</td>\n",
       "    </tr>\n",
       "    <tr>\n",
       "      <th>2008-06-30</th>\n",
       "      <td>5758</td>\n",
       "      <td>80</td>\n",
       "    </tr>\n",
       "    <tr>\n",
       "      <th>...</th>\n",
       "      <td>...</td>\n",
       "      <td>...</td>\n",
       "    </tr>\n",
       "    <tr>\n",
       "      <th>2014-07-31</th>\n",
       "      <td>5764</td>\n",
       "      <td>51</td>\n",
       "    </tr>\n",
       "    <tr>\n",
       "      <th>2014-08-31</th>\n",
       "      <td>5780</td>\n",
       "      <td>48</td>\n",
       "    </tr>\n",
       "    <tr>\n",
       "      <th>2014-09-30</th>\n",
       "      <td>5821</td>\n",
       "      <td>51</td>\n",
       "    </tr>\n",
       "    <tr>\n",
       "      <th>2014-10-31</th>\n",
       "      <td>5817</td>\n",
       "      <td>51</td>\n",
       "    </tr>\n",
       "    <tr>\n",
       "      <th>2014-11-30</th>\n",
       "      <td>5822</td>\n",
       "      <td>52</td>\n",
       "    </tr>\n",
       "    <tr>\n",
       "      <th>2014-12-31</th>\n",
       "      <td>5819</td>\n",
       "      <td>53</td>\n",
       "    </tr>\n",
       "    <tr>\n",
       "      <th>2015-01-31</th>\n",
       "      <td>5879</td>\n",
       "      <td>66</td>\n",
       "    </tr>\n",
       "    <tr>\n",
       "      <th>2015-02-28</th>\n",
       "      <td>5906</td>\n",
       "      <td>66</td>\n",
       "    </tr>\n",
       "    <tr>\n",
       "      <th>2015-03-31</th>\n",
       "      <td>5924</td>\n",
       "      <td>66</td>\n",
       "    </tr>\n",
       "    <tr>\n",
       "      <th>2015-04-30</th>\n",
       "      <td>5877</td>\n",
       "      <td>64</td>\n",
       "    </tr>\n",
       "    <tr>\n",
       "      <th>2015-05-31</th>\n",
       "      <td>5925</td>\n",
       "      <td>63</td>\n",
       "    </tr>\n",
       "    <tr>\n",
       "      <th>2015-06-30</th>\n",
       "      <td>5989</td>\n",
       "      <td>61</td>\n",
       "    </tr>\n",
       "    <tr>\n",
       "      <th>2015-07-31</th>\n",
       "      <td>6030</td>\n",
       "      <td>61</td>\n",
       "    </tr>\n",
       "    <tr>\n",
       "      <th>2015-08-31</th>\n",
       "      <td>6050</td>\n",
       "      <td>63</td>\n",
       "    </tr>\n",
       "    <tr>\n",
       "      <th>2015-09-30</th>\n",
       "      <td>6068</td>\n",
       "      <td>61</td>\n",
       "    </tr>\n",
       "    <tr>\n",
       "      <th>2015-10-31</th>\n",
       "      <td>6089</td>\n",
       "      <td>62</td>\n",
       "    </tr>\n",
       "    <tr>\n",
       "      <th>2015-11-30</th>\n",
       "      <td>6099</td>\n",
       "      <td>63</td>\n",
       "    </tr>\n",
       "    <tr>\n",
       "      <th>2015-12-31</th>\n",
       "      <td>6064</td>\n",
       "      <td>65</td>\n",
       "    </tr>\n",
       "    <tr>\n",
       "      <th>2016-01-31</th>\n",
       "      <td>6124</td>\n",
       "      <td>100</td>\n",
       "    </tr>\n",
       "    <tr>\n",
       "      <th>2016-02-29</th>\n",
       "      <td>6570</td>\n",
       "      <td>100</td>\n",
       "    </tr>\n",
       "    <tr>\n",
       "      <th>2016-03-31</th>\n",
       "      <td>6484</td>\n",
       "      <td>96</td>\n",
       "    </tr>\n",
       "    <tr>\n",
       "      <th>2016-04-30</th>\n",
       "      <td>6549</td>\n",
       "      <td>96</td>\n",
       "    </tr>\n",
       "    <tr>\n",
       "      <th>2016-05-31</th>\n",
       "      <td>6546</td>\n",
       "      <td>107</td>\n",
       "    </tr>\n",
       "    <tr>\n",
       "      <th>2016-06-30</th>\n",
       "      <td>6617</td>\n",
       "      <td>109</td>\n",
       "    </tr>\n",
       "    <tr>\n",
       "      <th>2016-07-31</th>\n",
       "      <td>6734</td>\n",
       "      <td>111</td>\n",
       "    </tr>\n",
       "    <tr>\n",
       "      <th>2016-08-31</th>\n",
       "      <td>6520</td>\n",
       "      <td>106</td>\n",
       "    </tr>\n",
       "    <tr>\n",
       "      <th>2016-09-30</th>\n",
       "      <td>6698</td>\n",
       "      <td>92</td>\n",
       "    </tr>\n",
       "    <tr>\n",
       "      <th>2016-10-31</th>\n",
       "      <td>6318</td>\n",
       "      <td>90</td>\n",
       "    </tr>\n",
       "    <tr>\n",
       "      <th>2016-11-30</th>\n",
       "      <td>5173</td>\n",
       "      <td>92</td>\n",
       "    </tr>\n",
       "    <tr>\n",
       "      <th>2016-12-31</th>\n",
       "      <td>6717</td>\n",
       "      <td>124</td>\n",
       "    </tr>\n",
       "  </tbody>\n",
       "</table>\n",
       "<p>132 rows × 2 columns</p>\n",
       "</div>"
      ],
      "text/plain": [
       "contract    Dotación a contrata  Dotación de planta\n",
       "2006-01-31                 2482                  95\n",
       "2006-02-28                 2502                  95\n",
       "2006-03-31                 2512                  96\n",
       "2006-04-30                 2508                  95\n",
       "2006-05-31                 2511                  96\n",
       "2006-06-30                 2523                 100\n",
       "2006-07-31                 2525                 100\n",
       "2006-08-31                 2533                 102\n",
       "2006-09-30                 2556                 103\n",
       "2006-10-31                 2557                 102\n",
       "2006-11-30                 2567                  99\n",
       "2006-12-31                 2581                  99\n",
       "2007-01-31                 4528                  36\n",
       "2007-02-28                 4544                  36\n",
       "2007-03-31                 4566                  38\n",
       "2007-04-30                 4586                  38\n",
       "2007-05-31                 4858                  40\n",
       "2007-06-30                 4896                  40\n",
       "2007-07-31                 4978                  42\n",
       "2007-08-31                 5068                  44\n",
       "2007-09-30                 5520                  48\n",
       "2007-10-31                 5768                  54\n",
       "2007-11-30                 6006                  68\n",
       "2007-12-31                 6264                  84\n",
       "2008-01-31                 5404                  60\n",
       "2008-02-29                 5520                  68\n",
       "2008-03-31                 5568                  72\n",
       "2008-04-30                 5622                  74\n",
       "2008-05-31                 5686                  76\n",
       "2008-06-30                 5758                  80\n",
       "...                         ...                 ...\n",
       "2014-07-31                 5764                  51\n",
       "2014-08-31                 5780                  48\n",
       "2014-09-30                 5821                  51\n",
       "2014-10-31                 5817                  51\n",
       "2014-11-30                 5822                  52\n",
       "2014-12-31                 5819                  53\n",
       "2015-01-31                 5879                  66\n",
       "2015-02-28                 5906                  66\n",
       "2015-03-31                 5924                  66\n",
       "2015-04-30                 5877                  64\n",
       "2015-05-31                 5925                  63\n",
       "2015-06-30                 5989                  61\n",
       "2015-07-31                 6030                  61\n",
       "2015-08-31                 6050                  63\n",
       "2015-09-30                 6068                  61\n",
       "2015-10-31                 6089                  62\n",
       "2015-11-30                 6099                  63\n",
       "2015-12-31                 6064                  65\n",
       "2016-01-31                 6124                 100\n",
       "2016-02-29                 6570                 100\n",
       "2016-03-31                 6484                  96\n",
       "2016-04-30                 6549                  96\n",
       "2016-05-31                 6546                 107\n",
       "2016-06-30                 6617                 109\n",
       "2016-07-31                 6734                 111\n",
       "2016-08-31                 6520                 106\n",
       "2016-09-30                 6698                  92\n",
       "2016-10-31                 6318                  90\n",
       "2016-11-30                 5173                  92\n",
       "2016-12-31                 6717                 124\n",
       "\n",
       "[132 rows x 2 columns]"
      ]
     },
     "execution_count": 39,
     "metadata": {},
     "output_type": "execute_result"
    }
   ],
   "source": [
    "dfsename.ix[dfsename.include == 1].replace(np.nan, -1).groupby('contract').resample('M')['curDate2'].count().unstack('contract')"
   ]
  },
  {
   "cell_type": "markdown",
   "metadata": {},
   "source": [
    "## Can we translate the count into value?"
   ]
  },
  {
   "cell_type": "code",
   "execution_count": 40,
   "metadata": {
    "collapsed": false
   },
   "outputs": [
    {
     "data": {
      "text/plain": [
       "0.0          259409\n",
       "1580920.0      1660\n",
       "1185921.0      1332\n",
       "1442751.0      1212\n",
       "1426835.0      1188\n",
       "Name: salary2, dtype: int64"
      ]
     },
     "execution_count": 40,
     "metadata": {},
     "output_type": "execute_result"
    }
   ],
   "source": [
    "dfsename['salary2'] = dfsename['salary'].replace('\\.', '', regex=True)\n",
    "dfsename.salary2 = dfsename.salary2.astype(float)\n",
    "dfsename.salary2.value_counts().head()"
   ]
  },
  {
   "cell_type": "markdown",
   "metadata": {},
   "source": [
    "* There are too many zeroes, checking.\n",
    "* There are some values that are far too popular, checking source too"
   ]
  },
  {
   "cell_type": "code",
   "execution_count": null,
   "metadata": {
    "collapsed": true
   },
   "outputs": [],
   "source": []
  },
  {
   "cell_type": "code",
   "execution_count": 41,
   "metadata": {
    "collapsed": false,
    "scrolled": true
   },
   "outputs": [
    {
     "data": {
      "text/plain": [
       "curDate2\n",
       "2006-01-01    2808\n",
       "2006-02-01    2808\n",
       "2006-03-01    2808\n",
       "2006-04-01    2808\n",
       "2006-05-01    2808\n",
       "2006-06-01    2808\n",
       "2006-07-01    2808\n",
       "2006-08-01    2808\n",
       "2006-09-01    2808\n",
       "2006-10-01    2808\n",
       "2006-11-01    2808\n",
       "2006-12-01    2808\n",
       "2007-01-01    6370\n",
       "2007-02-01    6370\n",
       "2007-03-01    6370\n",
       "2007-04-01    6370\n",
       "2007-05-01    6370\n",
       "2007-06-01    6370\n",
       "2007-07-01    6370\n",
       "2007-08-01    6370\n",
       "2007-09-01    6370\n",
       "2007-10-01    6370\n",
       "2007-11-01    6370\n",
       "2007-12-01    6370\n",
       "2008-01-01    6774\n",
       "2008-02-01    6774\n",
       "2008-03-01    6774\n",
       "2008-04-01    6774\n",
       "2008-05-01    6774\n",
       "2008-06-01    6774\n",
       "              ... \n",
       "2014-07-01      19\n",
       "2014-08-01      19\n",
       "2014-09-01      19\n",
       "2014-10-01      19\n",
       "2014-11-01      19\n",
       "2014-12-01      19\n",
       "2015-01-01      18\n",
       "2015-02-01      18\n",
       "2015-03-01      18\n",
       "2015-04-01      18\n",
       "2015-05-01      18\n",
       "2015-06-01      18\n",
       "2015-07-01      18\n",
       "2015-08-01      18\n",
       "2015-09-01      18\n",
       "2015-10-01      18\n",
       "2015-11-01      18\n",
       "2015-12-01      18\n",
       "2016-01-01      51\n",
       "2016-02-01      26\n",
       "2016-03-01      18\n",
       "2016-04-01      12\n",
       "2016-05-01      20\n",
       "2016-06-01      24\n",
       "2016-07-01      25\n",
       "2016-08-01      11\n",
       "2016-09-01      17\n",
       "2016-10-01      22\n",
       "2016-11-01      23\n",
       "2016-12-01      20\n",
       "Name: entity, dtype: int64"
      ]
     },
     "execution_count": 41,
     "metadata": {},
     "output_type": "execute_result"
    }
   ],
   "source": [
    "dfsename.ix[dfsename.salary2 == 0].groupby(['curDate2'])['entity'].count().sort_index()"
   ]
  },
  {
   "cell_type": "code",
   "execution_count": 42,
   "metadata": {
    "collapsed": false
   },
   "outputs": [
    {
     "data": {
      "text/plain": [
       "http://www.gobiernotransparentechile.cl/directorio/entidad/11/159/per_contrata/Ao-2014?x=0&y=0&page_number=17&sort=id&direction=asc    4\n",
       "http://www.gobiernotransparentechile.cl/directorio/entidad/11/159/per_contrata/Ao-2014?x=0&y=0&page_number=18&sort=id&direction=asc    3\n",
       "http://www.gobiernotransparentechile.cl/directorio/entidad/11/159/per_contrata/Ao-2014?x=0&y=0&page_number=19&sort=id&direction=asc    2\n",
       "http://www.gobiernotransparentechile.cl/directorio/entidad/11/159/per_contrata/Ao-2014?x=0&y=0&page_number=39&sort=id&direction=asc    2\n",
       "http://www.gobiernotransparentechile.cl/directorio/entidad/11/159/per_contrata/Ao-2014?x=0&y=0&page_number=4&sort=id&direction=asc     1\n",
       "http://www.gobiernotransparentechile.cl/directorio/entidad/11/159/per_contrata/Ao-2014?x=0&y=0&page_number=38&sort=id&direction=asc    1\n",
       "http://www.gobiernotransparentechile.cl/directorio/entidad/11/159/per_contrata/Ao-2014?x=0&y=0&page_number=33&sort=id&direction=asc    1\n",
       "http://www.gobiernotransparentechile.cl/directorio/entidad/11/159/per_contrata/Ao-2014?x=0&y=0&page_number=37&sort=id&direction=asc    1\n",
       "http://www.gobiernotransparentechile.cl/directorio/entidad/11/159/per_contrata/Ao-2014?x=0&y=0&page_number=29&sort=id&direction=asc    1\n",
       "http://www.gobiernotransparentechile.cl/directorio/entidad/11/159/per_contrata/Ao-2014?x=0&y=0&page_number=43&sort=id&direction=asc    1\n",
       "http://www.gobiernotransparentechile.cl/directorio/entidad/11/159/per_contrata/Ao-2014?x=0&y=0&page_number=10&sort=id&direction=asc    1\n",
       "http://www.gobiernotransparentechile.cl/directorio/entidad/11/159/per_contrata/Ao-2014?x=0&y=0&page_number=16&sort=id&direction=asc    1\n",
       "Name: url, dtype: int64"
      ]
     },
     "execution_count": 42,
     "metadata": {},
     "output_type": "execute_result"
    }
   ],
   "source": [
    "dfsename.ix[(dfsename.salary2 == 0) & (dfsename.curDate2 == datetime(year=2014, month=7, day=1)), 'url'].value_counts()"
   ]
  },
  {
   "cell_type": "markdown",
   "metadata": {},
   "source": [
    "The zeroes in 2014 and over are because of people who resigned"
   ]
  },
  {
   "cell_type": "code",
   "execution_count": 43,
   "metadata": {
    "collapsed": false
   },
   "outputs": [
    {
     "data": {
      "text/plain": [
       "Index(['TmonthIsKnownYear', 'contract', 'currency', 'degree', 'department',\n",
       "       'end_date', 'entity', 'filename', 'givenn', 'group', 'include', 'lastn',\n",
       "       'lastn2', 'month', 'month2', 'month3', 'obs', 'other', 'overt',\n",
       "       'position', 'qualif', 'region', 'salary', 'specials', 'start_date',\n",
       "       'url', 'year', 'year2', 'curDate', 'curDate2', 'start_date2',\n",
       "       'end_date2', 'TcorrectedDate', 'salary2'],\n",
       "      dtype='object')"
      ]
     },
     "execution_count": 43,
     "metadata": {},
     "output_type": "execute_result"
    }
   ],
   "source": [
    "dfsename.columns"
   ]
  },
  {
   "cell_type": "code",
   "execution_count": null,
   "metadata": {
    "collapsed": true
   },
   "outputs": [],
   "source": []
  },
  {
   "cell_type": "code",
   "execution_count": 44,
   "metadata": {
    "collapsed": false,
    "scrolled": true
   },
   "outputs": [
    {
     "data": {
      "text/plain": [
       "curDate2    givenn                lastn       lastn2    \n",
       "2015-01-01  alba lorena           valdes      jaque         1\n",
       "            alejandra andrea      henriquez   fuenzalida    1\n",
       "            alejandra leticia     contreras   salinas       1\n",
       "            alice joyce purisima  reichel     hernandez     1\n",
       "            ana lucia             rojas       vasquez       1\n",
       "            andres jose           sovier      peña          2\n",
       "            carlos dario          gonzalez    subiabre      1\n",
       "            carolina andrea       moyano      vasquez       2\n",
       "            claudia ines          diaz        alarcon       1\n",
       "            cristian rodrigo      aguilera    hansen        1\n",
       "            daniela angelique     catalan     basaure       1\n",
       "            daniella angela       orsola      gnecco        1\n",
       "            danniela paz          gomez       perez         1\n",
       "            david alfredo         saavedra    fuentes       1\n",
       "            emita elvira          parra       caceres       1\n",
       "            gilda                 aguirre     contreras     1\n",
       "            glenda alejandra      contreras   lincoleo      1\n",
       "            guadalupe del carmen  toledo      aravena       1\n",
       "            guido amador          maturana    baeza         1\n",
       "            gustavo antonio       barra       bustos        1\n",
       "            hector ivan           rodriguez   vega          1\n",
       "            hilda francisca       bello       urra          1\n",
       "            isabel margarita      jiron       rojas         1\n",
       "            javier alejandro      iduarte     almendares    1\n",
       "            javiera alejandra     aracena     flores        1\n",
       "            jeanette isabel       fernandois  fuentes       1\n",
       "            juana margarita       tapia       jarpa         1\n",
       "            julia del carmen      rojas       vasquez       1\n",
       "            karina andrea         valencia    ramirez       1\n",
       "            katherine daniela     ordenes     moncada       1\n",
       "                                                           ..\n",
       "2016-11-01  marco rodrigo         olivares    urizar        1\n",
       "            maria cecilia         ahumada     peña          2\n",
       "            maria isabel          pucheu      moris         2\n",
       "            maria jose            seguel      pinto         1\n",
       "            maria loreto          fernandez   ormazabal     1\n",
       "            maria veronica        robles      contreras     1\n",
       "            mariela paz           gomez       meza          1\n",
       "            mario andres          tiznado     araya         1\n",
       "            mauricio andres       aguilera    muñoz         2\n",
       "            nancy maria           figueroa    consales      1\n",
       "            nino marcelo          sandoval    gonzalez      1\n",
       "            olga patricia         cortes      ortega        1\n",
       "            olga tatiana          ramos       rios          2\n",
       "            pablina soledad       mendez      riquelme      1\n",
       "            pamela oriana         gonzalez    berrios       1\n",
       "            patricia              fredes      vega          1\n",
       "            paula andrea          villagra    quiroga       1\n",
       "            paulina angelica      cabezas     villalobos    1\n",
       "            priscilla andrea      rubio       quezada       2\n",
       "            ricardo benjamin      bustamante  aedo          1\n",
       "            rodrigo marcelo       yañez       bravo         2\n",
       "            rosa america          galdames    ducaseau      1\n",
       "            ruben bernardo        toledo      ahumada       1\n",
       "            sandra fanny          zuñiga      acosta        2\n",
       "            valeria francisca     gonzalez    araya         1\n",
       "            veronica luz          leiva       guzman        1\n",
       "            ximena margarita      eldredge    meneses       1\n",
       "            yasna isabel          ramirez     fuentes       1\n",
       "            yesenia laurentina    diaz        jorquera      1\n",
       "            yuri rodrigo          contreras   araya         1\n",
       "Name: entity, dtype: int64"
      ]
     },
     "execution_count": 44,
     "metadata": {},
     "output_type": "execute_result"
    }
   ],
   "source": [
    "dfsename.ix[dfsename.salary2 == 1580920.0].groupby(['curDate2', 'givenn', 'lastn', 'lastn2' ])['entity'].count()"
   ]
  },
  {
   "cell_type": "markdown",
   "metadata": {},
   "source": [
    "This popular salary is spread across several people"
   ]
  },
  {
   "cell_type": "markdown",
   "metadata": {},
   "source": [
    "## There seems to be duplicated names. Checking"
   ]
  },
  {
   "cell_type": "code",
   "execution_count": 50,
   "metadata": {
    "collapsed": false,
    "scrolled": true
   },
   "outputs": [],
   "source": [
    "dfsename.ix[(dfsename.givenn == 'miguel angel') & (dfsename.include == 1) & (dfsename.curDate2 == datetime(year=2016, month=6, day=1))].to_csv('./output/doublename.csv')#"
   ]
  },
  {
   "cell_type": "code",
   "execution_count": 51,
   "metadata": {
    "collapsed": false,
    "scrolled": true
   },
   "outputs": [
    {
     "data": {
      "text/plain": [
       "curDate2    givenn                lastn       lastn2    \n",
       "2007-06-01                                                  6\n",
       "2008-10-01                                                  6\n",
       "2007-12-01                                                  6\n",
       "2016-06-01  miguel angel          avendaño    canales       6\n",
       "2008-04-01                                                  6\n",
       "2007-02-01                                                  6\n",
       "2008-06-01                                                  6\n",
       "2008-09-01                                                  6\n",
       "2008-11-01                                                  6\n",
       "2007-09-01                                                  6\n",
       "2007-03-01                                                  6\n",
       "2007-07-01                                                  6\n",
       "2007-08-01                                                  6\n",
       "2011-08-01  claudia del pilar     peña        araneda       6\n",
       "2016-08-01  miguel angel          avendaño    canales       6\n",
       "2008-08-01                                                  6\n",
       "2008-05-01                                                  6\n",
       "2008-02-01                                                  6\n",
       "2008-12-01                                                  6\n",
       "2008-03-01                                                  6\n",
       "2007-10-01                                                  6\n",
       "2016-07-01  miguel angel          avendaño    canales       6\n",
       "2007-01-01                                                  6\n",
       "2007-04-01                                                  6\n",
       "2007-05-01                                                  6\n",
       "2007-11-01                                                  6\n",
       "2008-01-01                                                  6\n",
       "2008-07-01                                                  6\n",
       "2015-06-01  leslie pamela         recabarren  kuhnow        5\n",
       "2015-04-01  leslie pamela         recabarren  kuhnow        5\n",
       "                                                           ..\n",
       "2012-02-01  yohanna loreto        vargas      asenjo        1\n",
       "            yohana francisca      cartes      lopez         1\n",
       "            yessica lorna         lagos       cardenas      1\n",
       "            yessica del carmen    sepulveda   vera          1\n",
       "            yessenia odeth        montecinos  olivera       1\n",
       "            yerty lisbeth         carrasco    monsalves     1\n",
       "            yenny valeska         romero      ortiz         1\n",
       "            yeise andrea          fernandez   salazar       1\n",
       "            yasna soledad         ortega      arratia       1\n",
       "            yasna lorena          calisto     tenorio       1\n",
       "            yasna lisbeth         cortes      leon          1\n",
       "            yasna isabel          ramirez     fuentes       1\n",
       "            yasna carina          fernandez   monsalve      1\n",
       "            yari alejandra        rios        retamal       1\n",
       "            ximena del carmen     cabello     campos        1\n",
       "            yaquelina del carmen  henriquez   garin         1\n",
       "            yandry juana          mateluna    manríquez     1\n",
       "                                              manrãquez    1\n",
       "            yaletsy ester         carrera     villarroel    1\n",
       "            yalena del pilar      hermosilla  navarrete     1\n",
       "            ximena patricia       garay       solis         1\n",
       "            ximena pasionaria     jofre       chambe        1\n",
       "            ximena margarita      eldredge    meneses       1\n",
       "            ximena manola         vasquez     cayo          1\n",
       "            ximena esther         acevedo     plaza         1\n",
       "            ximena ester          sandoval    lopez         1\n",
       "            ximena elvira         rubio       vergara       1\n",
       "            ximena dolores        saric       solari        1\n",
       "            ximena del carmen     morales     becerra       1\n",
       "2006-01-01  abdon angel           lizana      gatica        1\n",
       "Name: entity, dtype: int64"
      ]
     },
     "execution_count": 51,
     "metadata": {},
     "output_type": "execute_result"
    }
   ],
   "source": [
    "dfsename.ix[dfsename.include == 1].groupby(['curDate2', 'givenn', 'lastn', 'lastn2'])['entity'].count().sort_values(ascending=False)"
   ]
  },
  {
   "cell_type": "code",
   "execution_count": null,
   "metadata": {
    "collapsed": true
   },
   "outputs": [],
   "source": []
  }
 ],
 "metadata": {
  "anaconda-cloud": {},
  "kernelspec": {
   "display_name": "Python 3",
   "language": "python",
   "name": "python3"
  },
  "language_info": {
   "codemirror_mode": {
    "name": "ipython",
    "version": 3
   },
   "file_extension": ".py",
   "mimetype": "text/x-python",
   "name": "python",
   "nbconvert_exporter": "python",
   "pygments_lexer": "ipython3",
   "version": "3.6.0"
  },
  "widgets": {
   "state": {
    "96e7554632474167a4d08a5321fe38c1": {
     "views": [
      {
       "cell_index": 23
      }
     ]
    }
   },
   "version": "1.2.0"
  }
 },
 "nbformat": 4,
 "nbformat_minor": 1
}
