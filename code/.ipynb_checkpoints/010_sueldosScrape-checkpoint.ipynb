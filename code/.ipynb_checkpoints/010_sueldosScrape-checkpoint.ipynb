{
 "cells": [
  {
   "cell_type": "markdown",
   "metadata": {
    "collapsed": true
   },
   "source": [
    "# Web Scraping Gobierno Transparente Chile\n",
    "##### Exploring wage expenses in the goberment. Public information."
   ]
  },
  {
   "cell_type": "markdown",
   "metadata": {},
   "source": [
    "Beautiful soup did not work. The server time outs when you connect through bsoup.\n",
    "\n",
    "## Trying Selenium"
   ]
  },
  {
   "cell_type": "code",
   "execution_count": 1,
   "metadata": {},
   "outputs": [
    {
     "data": {
      "text/html": [
       "<style>.container { width:100% !important; }</style>"
      ],
      "text/plain": [
       "<IPython.core.display.HTML object>"
      ]
     },
     "metadata": {},
     "output_type": "display_data"
    }
   ],
   "source": [
    "import pandas as pd\n",
    "import numpy as np\n",
    "import unicodedata\n",
    "from selenium import webdriver\n",
    "from selenium.common.exceptions import NoSuchElementException\n",
    "\n",
    "import csv\n",
    "\n",
    "import sys\n",
    "sys.path.append('./lib/')\n",
    "\n",
    "import functions\n",
    "from functions import *\n",
    "from tqdm import tnrange, tqdm_notebook\n",
    "from unidecode import unidecode\n",
    "\n",
    "from IPython.core.display import display, HTML\n",
    "display(HTML(\"<style>.container { width:100% !important; }</style>\"))\n",
    "\n",
    "import lxml.html\n",
    "import lxml\n",
    "\n",
    "%load_ext autoreload\n",
    "\n",
    "%autoreload 2"
   ]
  },
  {
   "cell_type": "markdown",
   "metadata": {},
   "source": [
    "#  Parameters"
   ]
  },
  {
   "cell_type": "markdown",
   "metadata": {},
   "source": [
    "# OPTIONAL Gather data already scraped, before re-run"
   ]
  },
  {
   "cell_type": "code",
   "execution_count": 12,
   "metadata": {},
   "outputs": [
    {
     "name": "stdout",
     "output_type": "stream",
     "text": [
      "(44783, 21)\n",
      "(25227, 21)\n",
      "(50586, 20)\n",
      "(3145, 20)\n",
      "(36591, 20)\n",
      "(15300, 20)\n"
     ]
    }
   ],
   "source": [
    "df_scraped_1 = pd.read_csv('./output/scraped_data_20170214.csv', encoding='latin_1', header=None, index_col=0, low_memory=False)\n",
    "print(df_scraped_1.shape)\n",
    "df_scraped_2 = pd.read_csv('./output/scraped_data_20170212.csv', encoding='latin_1', header=None, index_col=0, low_memory=False)\n",
    "print(df_scraped_2.shape)\n",
    "df_scraped_3 = pd.read_csv('./output/scraped_data_20170215.csv', encoding='latin_1', header=None, index_col=0, low_memory=False)\n",
    "print(df_scraped_3.shape)\n",
    "df_scraped_4 = pd.read_csv('./output/scraped_data_20170215-1.csv', encoding='latin_1', header=None, index_col=0, low_memory=False)\n",
    "print(df_scraped_4.shape)\n",
    "df_scraped_5 = pd.read_csv('./output/scraped_data_20170216.csv', encoding='latin_1', header=None, index_col=0, low_memory=False)\n",
    "print(df_scraped_5.shape)\n",
    "df_scraped_6 = pd.read_csv('./output/scraped_data_20170221.csv', encoding='latin_1', header=None, index_col=0, low_memory=False)\n",
    "print(df_scraped_6.shape)"
   ]
  },
  {
   "cell_type": "code",
   "execution_count": 13,
   "metadata": {},
   "outputs": [
    {
     "data": {
      "text/plain": [
       "(114551, 21)"
      ]
     },
     "execution_count": 13,
     "metadata": {},
     "output_type": "execute_result"
    }
   ],
   "source": [
    "df_scraped = pd.concat([df_scraped_1, df_scraped_2, df_scraped_3, df_scraped_4, df_scraped_5, df_scraped_6]).drop_duplicates()\n",
    "df_scraped.shape"
   ]
  },
  {
   "cell_type": "code",
   "execution_count": 2,
   "metadata": {
    "collapsed": true
   },
   "outputs": [],
   "source": [
    "df_visited = []"
   ]
  },
  {
   "cell_type": "code",
   "execution_count": 3,
   "metadata": {
    "scrolled": true
   },
   "outputs": [
    {
     "name": "stdout",
     "output_type": "stream",
     "text": [
      "14746\n",
      "168\n",
      "482\n",
      "1797\n",
      "156\n",
      "1031\n",
      "11130\n"
     ]
    }
   ],
   "source": [
    "df_visited_1 = pd.read_csv('./output/log_opened_20170212.csv', header=None).ix[:,0].drop_duplicates().tolist()\n",
    "df_visited_2 = pd.read_csv('./output/log_opened_20170214.csv', header=None).ix[:,0].drop_duplicates().tolist()\n",
    "df_visited_3 = pd.read_csv('./output/log_opened_20170215.csv', header=None).ix[:,0].drop_duplicates().tolist()\n",
    "df_visited_4 = pd.read_csv('./output/log_opened_20170221.csv', header=None).ix[:,0].drop_duplicates().tolist()\n",
    "df_visited_5 = pd.read_csv('./output/log_opened_20170224.csv', header=None).ix[:,0].drop_duplicates().tolist()\n",
    "df_visited_6 = pd.read_csv('./output/log_opened_20170225.csv', header=None).ix[:,0].drop_duplicates().tolist()\n",
    "\n",
    "\n",
    "df_visited = list(set(df_visited_1 + df_visited_2 + df_visited_3 + df_visited_4 + df_visited_5 + df_visited_6))\n",
    "print(len(df_visited))\n",
    "print(len(df_visited_1))\n",
    "print(len(df_visited_2))\n",
    "print(len(df_visited_3))\n",
    "print(len(df_visited_4))\n",
    "print(len(df_visited_5))\n",
    "print(len(df_visited_6))\n",
    "\n",
    "\n"
   ]
  },
  {
   "cell_type": "markdown",
   "metadata": {},
   "source": [
    "# Main Scraping Run"
   ]
  },
  {
   "cell_type": "code",
   "execution_count": 22,
   "metadata": {
    "scrolled": true
   },
   "outputs": [
    {
     "name": "stdout",
     "output_type": "stream",
     "text": [
      "Entities:\n",
      "0.- Presidencia de la República: http://www.gobiernotransparentechile.cl/directorio/entidad/1\n",
      "1.- Ministerio del Interior y Seguridad Pública: http://www.gobiernotransparentechile.cl/directorio/entidad/2\n",
      "2.- Ministerio de Relaciones Exteriores: http://www.gobiernotransparentechile.cl/directorio/entidad/3\n",
      "3.- Ministerio de Defensa Nacional: http://www.gobiernotransparentechile.cl/directorio/entidad/4\n",
      "4.- Ministerio de Hacienda: http://www.gobiernotransparentechile.cl/directorio/entidad/5\n",
      "5.- Ministerio Secretaría General de la Presidencia: http://www.gobiernotransparentechile.cl/directorio/entidad/6\n",
      "6.- Ministerio Secretaría General de Gobierno: http://www.gobiernotransparentechile.cl/directorio/entidad/7\n",
      "7.- Ministerio de Economía, Fomento y Turismo: http://www.gobiernotransparentechile.cl/directorio/entidad/8\n",
      "8.- Ministerio de Desarrollo Social: http://www.gobiernotransparentechile.cl/directorio/entidad/9\n",
      "9.- Ministerio de Educación: http://www.gobiernotransparentechile.cl/directorio/entidad/10\n",
      "10.- Ministerio de Justicia y Derechos Humanos: http://www.gobiernotransparentechile.cl/directorio/entidad/11\n",
      "11.- Ministerio del Trabajo y Previsión Social: http://www.gobiernotransparentechile.cl/directorio/entidad/12\n",
      "12.- Ministerio de Obras Públicas: http://www.gobiernotransparentechile.cl/directorio/entidad/13\n",
      "13.- Ministerio de Transporte y Telecomunicaciones: http://www.gobiernotransparentechile.cl/directorio/entidad/14\n",
      "14.- Ministerio de Salud: http://www.gobiernotransparentechile.cl/directorio/entidad/15\n",
      "15.- Ministerio de Vivienda y Urbanismo: http://www.gobiernotransparentechile.cl/directorio/entidad/16\n",
      "16.- Ministerio de Bienes Nacionales: http://www.gobiernotransparentechile.cl/directorio/entidad/17\n",
      "17.- Ministerio de Agricultura: http://www.gobiernotransparentechile.cl/directorio/entidad/18\n",
      "18.- Ministerio de Minería: http://www.gobiernotransparentechile.cl/directorio/entidad/19\n",
      "19.- Ministerio de la Mujer y la Equidad de Género: http://www.gobiernotransparentechile.cl/directorio/entidad/20\n",
      "20.- Ministerio de Energía: http://www.gobiernotransparentechile.cl/directorio/entidad/21\n",
      "21.- Consejo Nacional de la Cultura y las Artes: http://www.gobiernotransparentechile.cl/directorio/entidad/22\n",
      "22.- Ministerio del Medio Ambiente: http://www.gobiernotransparentechile.cl/directorio/entidad/23\n",
      "23.- Consejo de Defensa del Estado: http://www.gobiernotransparentechile.cl/directorio/entidad/24\n",
      "24.- Consejo Nacional de Televisión: http://www.gobiernotransparentechile.cl/directorio/entidad/25\n",
      "25.- Ministerio del Deporte: http://www.gobiernotransparentechile.cl/directorio/entidad/26\n",
      "26.- Servicio Electoral (SERVEL): http://www.gobiernotransparentechile.cl/directorio/entidad/27\n",
      "27.- : http://www.gobiernotransparentechile.cl/directorio/entidad/28\n",
      "Presidencia de la República\n",
      "Presidencia de la República\n"
     ]
    },
    {
     "data": {
      "application/vnd.jupyter.widget-view+json": {
       "model_id": "dd7b5b5e603c43e7bbc00f68feabb79a",
       "version_major": 2,
       "version_minor": 0
      },
      "text/plain": [
       "A Jupyter Widget"
      ]
     },
     "metadata": {},
     "output_type": "display_data"
    },
    {
     "name": "stdout",
     "output_type": "stream",
     "text": [
      "per_planta Año 2017\n",
      "per_planta Año 2016\n",
      "per_planta Año 2015\n",
      "per_planta Año 2014\n",
      "per_planta Año 2013\n",
      "per_planta Año 2012\n",
      "per_planta Año 2011\n",
      "per_planta Año 2010\n",
      "per_planta Año 2009\n",
      "per_planta Año 2008\n",
      "per_planta Año 2007\n",
      "per_planta Año 2006\n",
      "per_contrata Año 2017\n",
      "per_contrata Año 2016\n",
      "per_contrata Año 2015\n",
      "per_contrata Año 2014\n",
      "per_contrata Año 2013\n",
      "per_contrata Año 2012\n",
      "per_contrata Año 2011\n",
      "per_contrata Año 2010\n",
      "per_contrata Año 2009\n",
      "per_contrata Año 2008\n",
      "per_contrata Año 2007\n",
      "per_contrata Año 2006\n",
      "\n",
      "Ministerio del Interior y Seguridad Pública\n",
      "Subsecretaría del Interior\n"
     ]
    },
    {
     "data": {
      "application/vnd.jupyter.widget-view+json": {
       "model_id": "c5e2b56009c84798a05f72681e91c43c",
       "version_major": 2,
       "version_minor": 0
      },
      "text/plain": [
       "A Jupyter Widget"
      ]
     },
     "metadata": {},
     "output_type": "display_data"
    },
    {
     "name": "stdout",
     "output_type": "stream",
     "text": [
      "per_planta Ver Hist�rico antes de la Ley N� 20.285\n",
      "could not get breadcrumbs from http://www.interior.gov.cl/transparenciahistorico/sag/dotacionplanta.html\n",
      "per_planta 2018\n",
      "could not get breadcrumbs from http://www.interior.gov.cl/transparenciaactiva/sag/dotacionplanta_2018.html\n",
      "per_planta 2017\n",
      "per_planta 2016\n",
      "per_planta 2015\n",
      "per_planta 2014\n",
      "per_planta 2013\n",
      "per_planta 2012\n",
      "per_planta 2011\n",
      "per_planta 2010\n",
      "per_planta 2009\n",
      "per_contrata Ver Hist�rico antes de la Ley N� 20.285\n",
      "could not get breadcrumbs from http://www.interior.gov.cl/transparenciahistorico/sag/dotacioncontrata.html\n",
      "per_contrata 2018\n",
      "could not get breadcrumbs from http://www.interior.gov.cl/transparenciaactiva/sag/dotacioncontrata_2018.html\n",
      "per_contrata 2017\n",
      "per_contrata 2016\n",
      "per_contrata 2015\n",
      "per_contrata 2014\n",
      "per_contrata 2013\n",
      "per_contrata 2012\n",
      "per_contrata 2011\n",
      "per_contrata 2010\n",
      "per_contrata 2009\n",
      "\n",
      "Subsecretaría de Desarrollo Regional (SUBDERE)\n"
     ]
    },
    {
     "data": {
      "application/vnd.jupyter.widget-view+json": {
       "model_id": "f0a51b3c571046c784404f5671546a44",
       "version_major": 2,
       "version_minor": 0
      },
      "text/plain": [
       "A Jupyter Widget"
      ]
     },
     "metadata": {},
     "output_type": "display_data"
    },
    {
     "name": "stdout",
     "output_type": "stream",
     "text": [
      "per_planta Año 2008\n",
      "could not get breadcrumbs from http://www.subdere.gov.cl/transparencia/dotacion_2008.html\n",
      "per_planta Año 2007\n",
      "could not get breadcrumbs from http://www.subdere.gov.cl/transparencia/dotacion_2007.html\n",
      "per_planta Año 2006\n",
      "could not get breadcrumbs from http://www.subdere.gov.cl/transparencia/dotacion_2006.html\n",
      "per_contrata Año 2008\n",
      "could not get breadcrumbs from http://www.subdere.gov.cl/transparencia/contrata_2008.html\n",
      "per_contrata Año 2007\n",
      "could not get breadcrumbs from http://www.subdere.gov.cl/transparencia/contrata_2007.html\n",
      "per_contrata Año 2006\n",
      "could not get breadcrumbs from http://www.subdere.gov.cl/transparencia/contrata_2006.html\n",
      "\n",
      "Subsecretaría de Prevención del Delito\n"
     ]
    },
    {
     "data": {
      "application/vnd.jupyter.widget-view+json": {
       "model_id": "4c42a79934aa4221bed2db85db43ac1d",
       "version_major": 2,
       "version_minor": 0
      },
      "text/plain": [
       "A Jupyter Widget"
      ]
     },
     "metadata": {},
     "output_type": "display_data"
    },
    {
     "name": "stdout",
     "output_type": "stream",
     "text": [
      "per_planta Año 2017\n",
      "per_planta Año 2016\n",
      "per_planta Año 2015\n",
      "per_planta Año 2014\n",
      "per_planta Año 2013\n",
      "per_planta Año 2012\n",
      "per_planta Año 2011\n",
      "per_contrata Año 2017\n",
      "per_contrata Año 2016\n",
      "per_contrata Año 2015\n",
      "per_contrata Año 2014\n",
      "per_contrata Año 2013\n",
      "per_contrata Año 2012\n",
      "per_contrata Año 2011\n",
      "\n",
      "Agencia Nacional de Inteligencia (ANI)\n"
     ]
    },
    {
     "name": "stderr",
     "output_type": "stream",
     "text": [
      "Traceback (most recent call last):\n",
      "  File \"./lib/functions.py\", line 103, in getDepartmentData\n",
      "    div_years = browser.find_element_by_class_name(\"linksIntermedios\")\n",
      "  File \"/Users/jaime/anaconda3/lib/python3.6/site-packages/selenium/webdriver/remote/webdriver.py\", line 555, in find_element_by_class_name\n",
      "    return self.find_element(by=By.CLASS_NAME, value=name)\n",
      "  File \"/Users/jaime/anaconda3/lib/python3.6/site-packages/selenium/webdriver/remote/webdriver.py\", line 955, in find_element\n",
      "    'value': value})['value']\n",
      "  File \"/Users/jaime/anaconda3/lib/python3.6/site-packages/selenium/webdriver/remote/webdriver.py\", line 312, in execute\n",
      "    self.error_handler.check_response(response)\n",
      "  File \"/Users/jaime/anaconda3/lib/python3.6/site-packages/selenium/webdriver/remote/errorhandler.py\", line 237, in check_response\n",
      "    raise exception_class(message, screen, stacktrace)\n",
      "selenium.common.exceptions.NoSuchElementException: Message: no such element: Unable to locate element: {\"method\":\"class name\",\"selector\":\"linksIntermedios\"}\n",
      "  (Session info: chrome=64.0.3282.140)\n",
      "  (Driver info: chromedriver=2.35.528157 (4429ca2590d6988c0745c24c8858745aaaec01ef),platform=Mac OS X 10.13.3 x86_64)\n",
      "\n"
     ]
    },
    {
     "name": "stdout",
     "output_type": "stream",
     "text": [
      "No contract data per_planta in http://www.gobiernotransparentechile.cl/directorio/entidad/2/4\n",
      "No contract data per_contrata in http://www.gobiernotransparentechile.cl/directorio/entidad/2/4\n"
     ]
    },
    {
     "name": "stderr",
     "output_type": "stream",
     "text": [
      "Traceback (most recent call last):\n",
      "  File \"./lib/functions.py\", line 103, in getDepartmentData\n",
      "    div_years = browser.find_element_by_class_name(\"linksIntermedios\")\n",
      "  File \"/Users/jaime/anaconda3/lib/python3.6/site-packages/selenium/webdriver/remote/webdriver.py\", line 555, in find_element_by_class_name\n",
      "    return self.find_element(by=By.CLASS_NAME, value=name)\n",
      "  File \"/Users/jaime/anaconda3/lib/python3.6/site-packages/selenium/webdriver/remote/webdriver.py\", line 955, in find_element\n",
      "    'value': value})['value']\n",
      "  File \"/Users/jaime/anaconda3/lib/python3.6/site-packages/selenium/webdriver/remote/webdriver.py\", line 312, in execute\n",
      "    self.error_handler.check_response(response)\n",
      "  File \"/Users/jaime/anaconda3/lib/python3.6/site-packages/selenium/webdriver/remote/errorhandler.py\", line 237, in check_response\n",
      "    raise exception_class(message, screen, stacktrace)\n",
      "selenium.common.exceptions.NoSuchElementException: Message: no such element: Unable to locate element: {\"method\":\"class name\",\"selector\":\"linksIntermedios\"}\n",
      "  (Session info: chrome=64.0.3282.140)\n",
      "  (Driver info: chromedriver=2.35.528157 (4429ca2590d6988c0745c24c8858745aaaec01ef),platform=Mac OS X 10.13.3 x86_64)\n",
      "\n"
     ]
    },
    {
     "data": {
      "application/vnd.jupyter.widget-view+json": {
       "model_id": "143396d50f66462b8a139b4d5130c6b9",
       "version_major": 2,
       "version_minor": 0
      },
      "text/plain": [
       "A Jupyter Widget"
      ]
     },
     "metadata": {},
     "output_type": "display_data"
    },
    {
     "name": "stdout",
     "output_type": "stream",
     "text": [
      "\n",
      "Oficina Nacional de Emergencia (ONEMI)\n"
     ]
    },
    {
     "data": {
      "application/vnd.jupyter.widget-view+json": {
       "model_id": "839b9ef04b984a71b3779b89d98168f5",
       "version_major": 2,
       "version_minor": 0
      },
      "text/plain": [
       "A Jupyter Widget"
      ]
     },
     "metadata": {},
     "output_type": "display_data"
    },
    {
     "name": "stdout",
     "output_type": "stream",
     "text": [
      "per_planta Año 2017\n",
      "per_planta Año 2016\n",
      "per_planta Año 2015\n",
      "per_planta Año 2014\n",
      "per_planta Año 2013\n",
      "per_planta Año 2012\n",
      "per_planta Año 2011\n",
      "per_planta Año 2010\n",
      "per_planta Año 2009\n",
      "per_planta Año 2008\n",
      "per_planta Año 2007\n",
      "per_planta Año 2006\n",
      "per_contrata Año 2017\n",
      "per_contrata Año 2016\n",
      "per_contrata Año 2015\n",
      "per_contrata Año 2014\n",
      "per_contrata Año 2013\n",
      "per_contrata Año 2012\n",
      "per_contrata Año 2011\n",
      "per_contrata Año 2010\n",
      "per_contrata Año 2009\n",
      "per_contrata Año 2008\n",
      "per_contrata Año 2007\n",
      "per_contrata Año 2006\n",
      "\n",
      "Servicio de Gobierno Interior\n"
     ]
    },
    {
     "data": {
      "application/vnd.jupyter.widget-view+json": {
       "model_id": "951879b3775c4d24aded031f0dfb5be0",
       "version_major": 2,
       "version_minor": 0
      },
      "text/plain": [
       "A Jupyter Widget"
      ]
     },
     "metadata": {},
     "output_type": "display_data"
    },
    {
     "name": "stdout",
     "output_type": "stream",
     "text": [
      "per_planta Ver Histórico antes de la Ley N° 20.285\n",
      "could not get breadcrumbs from http://www.interior.gov.cl/transparenciahistorico/sgi/20/dotacionplanta.html\n",
      "per_planta 2018\n",
      "could not get breadcrumbs from http://www.interior.gov.cl/transparenciaactiva/sgi/20/dotacionplanta_2018.html\n",
      "per_planta 2017\n",
      "per_planta 2016\n",
      "per_planta 2015\n",
      "per_planta 2014\n",
      "per_planta 2013\n",
      "per_planta 2012\n",
      "per_planta 2011\n",
      "per_planta 2010\n",
      "per_planta 2009\n",
      "per_contrata Ver Histórico antes de la Ley N° 20.285\n",
      "could not get breadcrumbs from http://www.interior.gov.cl/transparenciahistorico/sgi/20/dotacioncontrata.html\n",
      "per_contrata 2018\n",
      "could not get breadcrumbs from http://www.interior.gov.cl/transparenciaactiva/sgi/20/dotacioncontrata_2018.html\n",
      "per_contrata 2017\n",
      "per_contrata 2016\n",
      "per_contrata 2015\n",
      "per_contrata 2014\n",
      "per_contrata 2013\n",
      "per_contrata 2012\n",
      "per_contrata 2011\n",
      "per_contrata 2010\n",
      "per_contrata 2009\n",
      "\n",
      "Servicio Nacional para la Prevención y Rehabilitación del Consumo de Drogas y Alcohol\n"
     ]
    },
    {
     "data": {
      "application/vnd.jupyter.widget-view+json": {
       "model_id": "bdde49d36e7f43ada8550ff7c7f8faf0",
       "version_major": 2,
       "version_minor": 0
      },
      "text/plain": [
       "A Jupyter Widget"
      ]
     },
     "metadata": {},
     "output_type": "display_data"
    },
    {
     "name": "stdout",
     "output_type": "stream",
     "text": [
      "per_planta 2011\n",
      "per_planta 2017\n",
      "per_planta 2016\n",
      "per_planta 2015\n",
      "per_planta 2014\n",
      "per_planta 2013\n",
      "per_planta 2012\n",
      "per_contrata 2011\n",
      "per_contrata 2017\n",
      "per_contrata 2016\n",
      "per_contrata 2015\n",
      "per_contrata 2014\n",
      "per_contrata 2013\n",
      "per_contrata 2012\n",
      "\n",
      "Carabineros de Chile\n"
     ]
    },
    {
     "name": "stderr",
     "output_type": "stream",
     "text": [
      "Traceback (most recent call last):\n",
      "  File \"./lib/functions.py\", line 103, in getDepartmentData\n",
      "    div_years = browser.find_element_by_class_name(\"linksIntermedios\")\n",
      "  File \"/Users/jaime/anaconda3/lib/python3.6/site-packages/selenium/webdriver/remote/webdriver.py\", line 555, in find_element_by_class_name\n",
      "    return self.find_element(by=By.CLASS_NAME, value=name)\n",
      "  File \"/Users/jaime/anaconda3/lib/python3.6/site-packages/selenium/webdriver/remote/webdriver.py\", line 955, in find_element\n",
      "    'value': value})['value']\n",
      "  File \"/Users/jaime/anaconda3/lib/python3.6/site-packages/selenium/webdriver/remote/webdriver.py\", line 312, in execute\n",
      "    self.error_handler.check_response(response)\n",
      "  File \"/Users/jaime/anaconda3/lib/python3.6/site-packages/selenium/webdriver/remote/errorhandler.py\", line 237, in check_response\n",
      "    raise exception_class(message, screen, stacktrace)\n",
      "selenium.common.exceptions.NoSuchElementException: Message: no such element: Unable to locate element: {\"method\":\"class name\",\"selector\":\"linksIntermedios\"}\n",
      "  (Session info: chrome=64.0.3282.140)\n",
      "  (Driver info: chromedriver=2.35.528157 (4429ca2590d6988c0745c24c8858745aaaec01ef),platform=Mac OS X 10.13.3 x86_64)\n",
      "\n"
     ]
    },
    {
     "name": "stdout",
     "output_type": "stream",
     "text": [
      "No contract data per_planta in http://www.gobiernotransparentechile.cl/directorio/entidad/2/103\n",
      "No contract data per_contrata in http://www.gobiernotransparentechile.cl/directorio/entidad/2/103\n"
     ]
    },
    {
     "name": "stderr",
     "output_type": "stream",
     "text": [
      "Traceback (most recent call last):\n",
      "  File \"./lib/functions.py\", line 103, in getDepartmentData\n",
      "    div_years = browser.find_element_by_class_name(\"linksIntermedios\")\n",
      "  File \"/Users/jaime/anaconda3/lib/python3.6/site-packages/selenium/webdriver/remote/webdriver.py\", line 555, in find_element_by_class_name\n",
      "    return self.find_element(by=By.CLASS_NAME, value=name)\n",
      "  File \"/Users/jaime/anaconda3/lib/python3.6/site-packages/selenium/webdriver/remote/webdriver.py\", line 955, in find_element\n",
      "    'value': value})['value']\n",
      "  File \"/Users/jaime/anaconda3/lib/python3.6/site-packages/selenium/webdriver/remote/webdriver.py\", line 312, in execute\n",
      "    self.error_handler.check_response(response)\n",
      "  File \"/Users/jaime/anaconda3/lib/python3.6/site-packages/selenium/webdriver/remote/errorhandler.py\", line 237, in check_response\n",
      "    raise exception_class(message, screen, stacktrace)\n",
      "selenium.common.exceptions.NoSuchElementException: Message: no such element: Unable to locate element: {\"method\":\"class name\",\"selector\":\"linksIntermedios\"}\n",
      "  (Session info: chrome=64.0.3282.140)\n",
      "  (Driver info: chromedriver=2.35.528157 (4429ca2590d6988c0745c24c8858745aaaec01ef),platform=Mac OS X 10.13.3 x86_64)\n",
      "\n"
     ]
    },
    {
     "data": {
      "application/vnd.jupyter.widget-view+json": {
       "model_id": "2c56ce5ff5154674b0684b4a0c953bed",
       "version_major": 2,
       "version_minor": 0
      },
      "text/plain": [
       "A Jupyter Widget"
      ]
     },
     "metadata": {},
     "output_type": "display_data"
    },
    {
     "name": "stdout",
     "output_type": "stream",
     "text": [
      "\n",
      "Policía de Investigaciones\n"
     ]
    },
    {
     "name": "stderr",
     "output_type": "stream",
     "text": [
      "Traceback (most recent call last):\n",
      "  File \"./lib/functions.py\", line 103, in getDepartmentData\n",
      "    div_years = browser.find_element_by_class_name(\"linksIntermedios\")\n",
      "  File \"/Users/jaime/anaconda3/lib/python3.6/site-packages/selenium/webdriver/remote/webdriver.py\", line 555, in find_element_by_class_name\n",
      "    return self.find_element(by=By.CLASS_NAME, value=name)\n",
      "  File \"/Users/jaime/anaconda3/lib/python3.6/site-packages/selenium/webdriver/remote/webdriver.py\", line 955, in find_element\n",
      "    'value': value})['value']\n",
      "  File \"/Users/jaime/anaconda3/lib/python3.6/site-packages/selenium/webdriver/remote/webdriver.py\", line 312, in execute\n",
      "    self.error_handler.check_response(response)\n",
      "  File \"/Users/jaime/anaconda3/lib/python3.6/site-packages/selenium/webdriver/remote/errorhandler.py\", line 237, in check_response\n",
      "    raise exception_class(message, screen, stacktrace)\n",
      "selenium.common.exceptions.NoSuchElementException: Message: no such element: Unable to locate element: {\"method\":\"class name\",\"selector\":\"linksIntermedios\"}\n",
      "  (Session info: chrome=64.0.3282.140)\n",
      "  (Driver info: chromedriver=2.35.528157 (4429ca2590d6988c0745c24c8858745aaaec01ef),platform=Mac OS X 10.13.3 x86_64)\n",
      "\n"
     ]
    },
    {
     "name": "stdout",
     "output_type": "stream",
     "text": [
      "No contract data per_planta in http://www.gobiernotransparentechile.cl/directorio/entidad/2/104\n",
      "No contract data per_contrata in http://www.gobiernotransparentechile.cl/directorio/entidad/2/104\n"
     ]
    },
    {
     "name": "stderr",
     "output_type": "stream",
     "text": [
      "Traceback (most recent call last):\n",
      "  File \"./lib/functions.py\", line 103, in getDepartmentData\n",
      "    div_years = browser.find_element_by_class_name(\"linksIntermedios\")\n",
      "  File \"/Users/jaime/anaconda3/lib/python3.6/site-packages/selenium/webdriver/remote/webdriver.py\", line 555, in find_element_by_class_name\n",
      "    return self.find_element(by=By.CLASS_NAME, value=name)\n",
      "  File \"/Users/jaime/anaconda3/lib/python3.6/site-packages/selenium/webdriver/remote/webdriver.py\", line 955, in find_element\n",
      "    'value': value})['value']\n",
      "  File \"/Users/jaime/anaconda3/lib/python3.6/site-packages/selenium/webdriver/remote/webdriver.py\", line 312, in execute\n",
      "    self.error_handler.check_response(response)\n",
      "  File \"/Users/jaime/anaconda3/lib/python3.6/site-packages/selenium/webdriver/remote/errorhandler.py\", line 237, in check_response\n",
      "    raise exception_class(message, screen, stacktrace)\n",
      "selenium.common.exceptions.NoSuchElementException: Message: no such element: Unable to locate element: {\"method\":\"class name\",\"selector\":\"linksIntermedios\"}\n",
      "  (Session info: chrome=64.0.3282.140)\n",
      "  (Driver info: chromedriver=2.35.528157 (4429ca2590d6988c0745c24c8858745aaaec01ef),platform=Mac OS X 10.13.3 x86_64)\n",
      "\n"
     ]
    },
    {
     "data": {
      "application/vnd.jupyter.widget-view+json": {
       "model_id": "449066b4fd8b4f1b81908cc90ae7f3bb",
       "version_major": 2,
       "version_minor": 0
      },
      "text/plain": [
       "A Jupyter Widget"
      ]
     },
     "metadata": {},
     "output_type": "display_data"
    },
    {
     "name": "stdout",
     "output_type": "stream",
     "text": [
      "\n",
      "Dirección de Previsión de Carabineros de Chile (DIPRECA)\n"
     ]
    },
    {
     "name": "stderr",
     "output_type": "stream",
     "text": [
      "Traceback (most recent call last):\n",
      "  File \"./lib/functions.py\", line 103, in getDepartmentData\n",
      "    div_years = browser.find_element_by_class_name(\"linksIntermedios\")\n",
      "  File \"/Users/jaime/anaconda3/lib/python3.6/site-packages/selenium/webdriver/remote/webdriver.py\", line 555, in find_element_by_class_name\n",
      "    return self.find_element(by=By.CLASS_NAME, value=name)\n",
      "  File \"/Users/jaime/anaconda3/lib/python3.6/site-packages/selenium/webdriver/remote/webdriver.py\", line 955, in find_element\n",
      "    'value': value})['value']\n",
      "  File \"/Users/jaime/anaconda3/lib/python3.6/site-packages/selenium/webdriver/remote/webdriver.py\", line 312, in execute\n",
      "    self.error_handler.check_response(response)\n",
      "  File \"/Users/jaime/anaconda3/lib/python3.6/site-packages/selenium/webdriver/remote/errorhandler.py\", line 237, in check_response\n",
      "    raise exception_class(message, screen, stacktrace)\n",
      "selenium.common.exceptions.NoSuchElementException: Message: no such element: Unable to locate element: {\"method\":\"class name\",\"selector\":\"linksIntermedios\"}\n",
      "  (Session info: chrome=64.0.3282.140)\n",
      "  (Driver info: chromedriver=2.35.528157 (4429ca2590d6988c0745c24c8858745aaaec01ef),platform=Mac OS X 10.13.3 x86_64)\n",
      "\n"
     ]
    },
    {
     "name": "stdout",
     "output_type": "stream",
     "text": [
      "No contract data per_planta in http://www.gobiernotransparentechile.cl/directorio/entidad/2/110\n",
      "No contract data per_contrata in http://www.gobiernotransparentechile.cl/directorio/entidad/2/110\n"
     ]
    },
    {
     "name": "stderr",
     "output_type": "stream",
     "text": [
      "Traceback (most recent call last):\n",
      "  File \"./lib/functions.py\", line 103, in getDepartmentData\n",
      "    div_years = browser.find_element_by_class_name(\"linksIntermedios\")\n",
      "  File \"/Users/jaime/anaconda3/lib/python3.6/site-packages/selenium/webdriver/remote/webdriver.py\", line 555, in find_element_by_class_name\n",
      "    return self.find_element(by=By.CLASS_NAME, value=name)\n",
      "  File \"/Users/jaime/anaconda3/lib/python3.6/site-packages/selenium/webdriver/remote/webdriver.py\", line 955, in find_element\n",
      "    'value': value})['value']\n",
      "  File \"/Users/jaime/anaconda3/lib/python3.6/site-packages/selenium/webdriver/remote/webdriver.py\", line 312, in execute\n",
      "    self.error_handler.check_response(response)\n",
      "  File \"/Users/jaime/anaconda3/lib/python3.6/site-packages/selenium/webdriver/remote/errorhandler.py\", line 237, in check_response\n",
      "    raise exception_class(message, screen, stacktrace)\n",
      "selenium.common.exceptions.NoSuchElementException: Message: no such element: Unable to locate element: {\"method\":\"class name\",\"selector\":\"linksIntermedios\"}\n",
      "  (Session info: chrome=64.0.3282.140)\n",
      "  (Driver info: chromedriver=2.35.528157 (4429ca2590d6988c0745c24c8858745aaaec01ef),platform=Mac OS X 10.13.3 x86_64)\n",
      "\n"
     ]
    },
    {
     "data": {
      "application/vnd.jupyter.widget-view+json": {
       "model_id": "b956809a3b6e47b0ac1fe51ca0d5ef47",
       "version_major": 2,
       "version_minor": 0
      },
      "text/plain": [
       "A Jupyter Widget"
      ]
     },
     "metadata": {},
     "output_type": "display_data"
    },
    {
     "name": "stdout",
     "output_type": "stream",
     "text": [
      "\n",
      "Intendencia Arica y Parinacota\n"
     ]
    },
    {
     "data": {
      "application/vnd.jupyter.widget-view+json": {
       "model_id": "9c9c270f71764b78a59e30a5655e7270",
       "version_major": 2,
       "version_minor": 0
      },
      "text/plain": [
       "A Jupyter Widget"
      ]
     },
     "metadata": {},
     "output_type": "display_data"
    },
    {
     "name": "stdout",
     "output_type": "stream",
     "text": [
      "per_planta Ver Histórico antes de la Ley N° 20.285\n",
      "could not get breadcrumbs from http://www.interior.gov.cl/transparenciahistorico/sgi/123/dotacionplanta.html\n",
      "per_planta 2018\n",
      "could not get breadcrumbs from http://www.interior.gov.cl/transparenciaactiva/sgi/123/dotacionplanta_2018.html\n",
      "per_planta 2017\n",
      "per_planta 2016\n",
      "per_planta 2015\n",
      "per_planta 2014\n",
      "per_planta 2013\n",
      "per_planta 2012\n",
      "per_planta 2011\n",
      "per_planta 2010\n",
      "per_planta 2009\n",
      "per_contrata Ver Histórico antes de la Ley N° 20.285\n",
      "could not get breadcrumbs from http://www.interior.gov.cl/transparenciahistorico/sgi/123/dotacioncontrata.html\n",
      "per_contrata 2018\n",
      "could not get breadcrumbs from http://www.interior.gov.cl/transparenciaactiva/sgi/123/dotacioncontrata_2018.html\n",
      "per_contrata 2017\n",
      "per_contrata 2016\n",
      "per_contrata 2015\n",
      "per_contrata 2014\n",
      "per_contrata 2013\n",
      "per_contrata 2012\n",
      "per_contrata 2011\n",
      "per_contrata 2010\n",
      "per_contrata 2009\n",
      "\n",
      "Intendencia de Antofagasta\n"
     ]
    },
    {
     "data": {
      "application/vnd.jupyter.widget-view+json": {
       "model_id": "06762d42b7334e54bf4cdb3bf27a4300",
       "version_major": 2,
       "version_minor": 0
      },
      "text/plain": [
       "A Jupyter Widget"
      ]
     },
     "metadata": {},
     "output_type": "display_data"
    },
    {
     "name": "stdout",
     "output_type": "stream",
     "text": [
      "per_planta Ver Histórico antes de la Ley N° 20.285\n",
      "could not get breadcrumbs from http://www.interior.gov.cl/transparenciahistorico/sgi/26/dotacionplanta.html\n",
      "per_planta 2018\n",
      "could not get breadcrumbs from http://www.interior.gov.cl/transparenciaactiva/sgi/26/dotacionplanta_2018.html\n",
      "per_planta 2017\n",
      "per_planta 2016\n",
      "per_planta 2015\n",
      "per_planta 2014\n",
      "per_planta 2013\n",
      "per_planta 2012\n",
      "per_planta 2011\n",
      "per_planta 2010\n",
      "per_planta 2009\n",
      "per_contrata Ver Histórico antes de la Ley N° 20.285\n",
      "could not get breadcrumbs from http://www.interior.gov.cl/transparenciahistorico/sgi/26/dotacioncontrata.html\n",
      "per_contrata 2018\n",
      "could not get breadcrumbs from http://www.interior.gov.cl/transparenciaactiva/sgi/26/dotacioncontrata_2018.html\n",
      "per_contrata 2017\n",
      "per_contrata 2016\n",
      "per_contrata 2015\n",
      "per_contrata 2014\n",
      "per_contrata 2013\n",
      "per_contrata 2012\n",
      "per_contrata 2011\n",
      "per_contrata 2010\n",
      "per_contrata 2009\n",
      "\n",
      "Intendencia de Atacama\n"
     ]
    },
    {
     "data": {
      "application/vnd.jupyter.widget-view+json": {
       "model_id": "6131a544edd849f2b537a15653e29617",
       "version_major": 2,
       "version_minor": 0
      },
      "text/plain": [
       "A Jupyter Widget"
      ]
     },
     "metadata": {},
     "output_type": "display_data"
    },
    {
     "name": "stdout",
     "output_type": "stream",
     "text": [
      "per_planta Ver Histórico antes de la Ley N° 20.285\n",
      "could not get breadcrumbs from http://www.interior.gov.cl/transparenciahistorico/sgi/27/dotacionplanta.html\n",
      "per_planta 2018\n",
      "could not get breadcrumbs from http://www.interior.gov.cl/transparenciaactiva/sgi/27/dotacionplanta_2018.html\n",
      "per_planta 2017\n",
      "per_planta 2016\n",
      "per_planta 2015\n",
      "per_planta 2014\n",
      "per_planta 2013\n",
      "per_planta 2012\n",
      "per_planta 2011\n",
      "per_planta 2010\n",
      "per_planta 2009\n",
      "per_contrata Ver Histórico antes de la Ley N° 20.285\n",
      "could not get breadcrumbs from http://www.interior.gov.cl/transparenciahistorico/sgi/27/dotacioncontrata.html\n",
      "per_contrata 2018\n",
      "could not get breadcrumbs from http://www.interior.gov.cl/transparenciaactiva/sgi/27/dotacioncontrata_2018.html\n",
      "per_contrata 2017\n",
      "per_contrata 2016\n",
      "per_contrata 2015\n",
      "per_contrata 2014\n",
      "per_contrata 2013\n",
      "per_contrata 2012\n",
      "per_contrata 2011\n",
      "per_contrata 2010\n",
      "per_contrata 2009\n",
      "\n",
      "Intendencia de Aysén\n"
     ]
    },
    {
     "data": {
      "application/vnd.jupyter.widget-view+json": {
       "model_id": "54e095febfb44b708954f7a89ec2d61c",
       "version_major": 2,
       "version_minor": 0
      },
      "text/plain": [
       "A Jupyter Widget"
      ]
     },
     "metadata": {},
     "output_type": "display_data"
    },
    {
     "name": "stdout",
     "output_type": "stream",
     "text": [
      "per_planta Ver Histórico antes de la Ley N° 20.285\n",
      "could not get breadcrumbs from http://www.interior.gov.cl/transparenciahistorico/sgi/35/dotacionplanta.html\n",
      "per_planta 2018\n",
      "could not get breadcrumbs from http://www.interior.gov.cl/transparenciaactiva/sgi/35/dotacionplanta_2018.html\n",
      "per_planta 2017\n",
      "per_planta 2016\n",
      "per_planta 2015\n",
      "per_planta 2014\n",
      "per_planta 2013\n",
      "per_planta 2012\n",
      "per_planta 2011\n",
      "per_planta 2010\n",
      "per_planta 2009\n",
      "per_contrata Ver Histórico antes de la Ley N° 20.285\n",
      "could not get breadcrumbs from http://www.interior.gov.cl/transparenciahistorico/sgi/35/dotacioncontrata.html\n",
      "per_contrata 2018\n",
      "could not get breadcrumbs from http://www.interior.gov.cl/transparenciaactiva/sgi/35/dotacioncontrata_2018.html\n",
      "per_contrata 2017\n",
      "per_contrata 2016\n",
      "per_contrata 2015\n",
      "per_contrata 2014\n",
      "per_contrata 2013\n",
      "per_contrata 2012\n",
      "per_contrata 2011\n",
      "per_contrata 2010\n",
      "per_contrata 2009\n",
      "\n",
      "Intendencia de Coquimbo\n"
     ]
    },
    {
     "data": {
      "application/vnd.jupyter.widget-view+json": {
       "model_id": "68eb02d639c94f46b295f7dac02f4202",
       "version_major": 2,
       "version_minor": 0
      },
      "text/plain": [
       "A Jupyter Widget"
      ]
     },
     "metadata": {},
     "output_type": "display_data"
    },
    {
     "name": "stdout",
     "output_type": "stream",
     "text": [
      "per_planta Ver Histórico antes de la Ley N° 20.285\n",
      "could not get breadcrumbs from http://www.interior.gov.cl/transparenciahistorico/sgi/28/dotacionplanta.html\n",
      "per_planta 2018\n",
      "could not get breadcrumbs from http://www.interior.gov.cl/transparenciaactiva/sgi/28/dotacionplanta_2018.html\n",
      "per_planta 2017\n",
      "per_planta 2016\n",
      "per_planta 2015\n",
      "per_planta 2014\n",
      "per_planta 2013\n",
      "per_planta 2012\n",
      "per_planta 2011\n",
      "per_planta 2010\n",
      "per_planta 2009\n",
      "per_contrata Ver Histórico antes de la Ley N° 20.285\n",
      "could not get breadcrumbs from http://www.interior.gov.cl/transparenciahistorico/sgi/28/dotacioncontrata.html\n",
      "per_contrata 2018\n",
      "could not get breadcrumbs from http://www.interior.gov.cl/transparenciaactiva/sgi/28/dotacioncontrata_2018.html\n",
      "per_contrata 2017\n",
      "per_contrata 2016\n",
      "per_contrata 2015\n",
      "per_contrata 2014\n",
      "per_contrata 2013\n",
      "per_contrata 2012\n",
      "per_contrata 2011\n",
      "per_contrata 2010\n",
      "per_contrata 2009\n",
      "\n",
      "Intendencia de La Araucanía\n"
     ]
    },
    {
     "data": {
      "application/vnd.jupyter.widget-view+json": {
       "model_id": "1a9b02c039534ae4aa008e7a18e11a8e",
       "version_major": 2,
       "version_minor": 0
      },
      "text/plain": [
       "A Jupyter Widget"
      ]
     },
     "metadata": {},
     "output_type": "display_data"
    },
    {
     "name": "stdout",
     "output_type": "stream",
     "text": [
      "per_planta Ver Histórico antes de la Ley N° 20.285\n",
      "could not get breadcrumbs from http://www.interior.gov.cl/transparenciahistorico/sgi/33/dotacionplanta.html\n",
      "per_planta 2018\n",
      "could not get breadcrumbs from http://www.interior.gov.cl/transparenciaactiva/sgi/33/dotacionplanta_2018.html\n",
      "per_planta 2017\n",
      "per_planta 2016\n",
      "per_planta 2015\n",
      "per_planta 2014\n",
      "per_planta 2013\n",
      "per_planta 2012\n",
      "per_planta 2011\n",
      "per_planta 2010\n",
      "per_planta 2009\n",
      "per_contrata Ver Histórico antes de la Ley N° 20.285\n",
      "could not get breadcrumbs from http://www.interior.gov.cl/transparenciahistorico/sgi/33/dotacioncontrata.html\n",
      "per_contrata 2018\n",
      "could not get breadcrumbs from http://www.interior.gov.cl/transparenciaactiva/sgi/33/dotacioncontrata_2018.html\n",
      "per_contrata 2017\n",
      "per_contrata 2016\n",
      "per_contrata 2015\n",
      "per_contrata 2014\n",
      "per_contrata 2013\n",
      "per_contrata 2012\n",
      "per_contrata 2011\n",
      "per_contrata 2010\n",
      "per_contrata 2009\n",
      "\n",
      "Intendencia de Los Lagos\n"
     ]
    },
    {
     "data": {
      "application/vnd.jupyter.widget-view+json": {
       "model_id": "73e617377aee47b494255d04a3caa43c",
       "version_major": 2,
       "version_minor": 0
      },
      "text/plain": [
       "A Jupyter Widget"
      ]
     },
     "metadata": {},
     "output_type": "display_data"
    },
    {
     "name": "stdout",
     "output_type": "stream",
     "text": [
      "per_planta Ver Histórico antes de la Ley N° 20.285\n",
      "could not get breadcrumbs from http://www.interior.gov.cl/transparenciahistorico/sgi/34/dotacionplanta.html\n",
      "per_planta 2018\n",
      "could not get breadcrumbs from http://www.interior.gov.cl/transparenciaactiva/sgi/34/dotacionplanta_2018.html\n",
      "per_planta 2017\n",
      "per_planta 2016\n",
      "per_planta 2015\n",
      "per_planta 2014\n",
      "per_planta 2013\n",
      "per_planta 2012\n",
      "per_planta 2011\n",
      "per_planta 2010\n",
      "per_planta 2009\n",
      "per_contrata Ver Histórico antes de la Ley N° 20.285\n",
      "could not get breadcrumbs from http://www.interior.gov.cl/transparenciahistorico/sgi/34/dotacioncontrata.html\n",
      "per_contrata 2018\n",
      "could not get breadcrumbs from http://www.interior.gov.cl/transparenciaactiva/sgi/34/dotacioncontrata_2018.html\n",
      "per_contrata 2017\n",
      "per_contrata 2016\n",
      "per_contrata 2015\n",
      "per_contrata 2014\n",
      "per_contrata 2013\n",
      "per_contrata 2012\n",
      "per_contrata 2011\n",
      "per_contrata 2010\n",
      "per_contrata 2009\n",
      "\n",
      "Intendencia de Los Ríos\n"
     ]
    },
    {
     "data": {
      "application/vnd.jupyter.widget-view+json": {
       "model_id": "c02803a802784c979c52eb858da92abc",
       "version_major": 2,
       "version_minor": 0
      },
      "text/plain": [
       "A Jupyter Widget"
      ]
     },
     "metadata": {},
     "output_type": "display_data"
    },
    {
     "name": "stdout",
     "output_type": "stream",
     "text": [
      "per_planta Ver Histórico antes de la Ley N° 20.285\n",
      "could not get breadcrumbs from http://www.interior.gov.cl/transparenciahistorico/sgi/122/dotacionplanta.html\n",
      "per_planta 2018\n",
      "could not get breadcrumbs from http://www.interior.gov.cl/transparenciaactiva/sgi/122/dotacionplanta_2018.html\n",
      "per_planta 2017\n",
      "per_planta 2016\n",
      "per_planta 2015\n",
      "per_planta 2014\n",
      "per_planta 2013\n",
      "per_planta 2012\n",
      "per_planta 2011\n",
      "per_planta 2010\n",
      "per_planta 2009\n",
      "per_contrata Ver Histórico antes de la Ley N° 20.285\n",
      "could not get breadcrumbs from http://www.interior.gov.cl/transparenciahistorico/sgi/122/dotacioncontrata.html\n",
      "per_contrata 2018\n",
      "could not get breadcrumbs from http://www.interior.gov.cl/transparenciaactiva/sgi/122/dotacioncontrata_2018.html\n",
      "per_contrata 2017\n",
      "per_contrata 2016\n",
      "per_contrata 2015\n",
      "per_contrata 2014\n",
      "per_contrata 2013\n",
      "per_contrata 2012\n",
      "per_contrata 2011\n",
      "per_contrata 2010\n",
      "per_contrata 2009\n",
      "\n",
      "Intendencia de Magallanes\n"
     ]
    },
    {
     "data": {
      "application/vnd.jupyter.widget-view+json": {
       "model_id": "82675bcbebb34d639ae18876baf9dfeb",
       "version_major": 2,
       "version_minor": 0
      },
      "text/plain": [
       "A Jupyter Widget"
      ]
     },
     "metadata": {},
     "output_type": "display_data"
    },
    {
     "name": "stdout",
     "output_type": "stream",
     "text": [
      "per_planta Ver Histórico antes de la Ley N° 20.285\n",
      "could not get breadcrumbs from http://www.interior.gov.cl/transparenciahistorico/sgi/36/dotacionplanta.html\n",
      "per_planta 2018\n",
      "could not get breadcrumbs from http://www.interior.gov.cl/transparenciaactiva/sgi/36/dotacionplanta_2018.html\n",
      "per_planta 2017\n",
      "per_planta 2016\n",
      "per_planta 2015\n",
      "per_planta 2014\n",
      "per_planta 2013\n",
      "per_planta 2012\n",
      "per_planta 2011\n",
      "per_planta 2010\n",
      "per_planta 2009\n",
      "per_contrata Ver Histórico antes de la Ley N° 20.285\n",
      "could not get breadcrumbs from http://www.interior.gov.cl/transparenciahistorico/sgi/36/dotacioncontrata.html\n",
      "per_contrata 2018\n",
      "could not get breadcrumbs from http://www.interior.gov.cl/transparenciaactiva/sgi/36/dotacioncontrata_2018.html\n",
      "per_contrata 2017\n",
      "per_contrata 2016\n",
      "per_contrata 2015\n",
      "per_contrata 2014\n",
      "per_contrata 2013\n",
      "per_contrata 2012\n",
      "per_contrata 2011\n",
      "per_contrata 2010\n",
      "per_contrata 2009\n",
      "\n",
      "Intendencia de O'Higgins\n"
     ]
    },
    {
     "data": {
      "application/vnd.jupyter.widget-view+json": {
       "model_id": "a4ab22ebb26b41bbb466a7a0a470ac4d",
       "version_major": 2,
       "version_minor": 0
      },
      "text/plain": [
       "A Jupyter Widget"
      ]
     },
     "metadata": {},
     "output_type": "display_data"
    },
    {
     "name": "stdout",
     "output_type": "stream",
     "text": [
      "per_planta Ver Histórico antes de la Ley N° 20.285\n",
      "could not get breadcrumbs from http://www.interior.gov.cl/transparenciahistorico/sgi/30/dotacionplanta.html\n",
      "per_planta 2018\n",
      "could not get breadcrumbs from http://www.interior.gov.cl/transparenciaactiva/sgi/30/dotacionplanta_2018.html\n",
      "per_planta 2017\n",
      "per_planta 2016\n",
      "per_planta 2015\n",
      "per_planta 2014\n",
      "per_planta 2013\n",
      "per_planta 2012\n",
      "per_planta 2011\n",
      "per_planta 2010\n",
      "per_planta 2009\n",
      "per_contrata Ver Histórico antes de la Ley N° 20.285\n",
      "could not get breadcrumbs from http://www.interior.gov.cl/transparenciahistorico/sgi/30/dotacioncontrata.html\n",
      "per_contrata 2018\n",
      "could not get breadcrumbs from http://www.interior.gov.cl/transparenciaactiva/sgi/30/dotacioncontrata_2018.html\n",
      "per_contrata 2017\n",
      "per_contrata 2016\n",
      "per_contrata 2015\n",
      "per_contrata 2014\n",
      "per_contrata 2013\n",
      "per_contrata 2012\n",
      "per_contrata 2011\n",
      "per_contrata 2010\n",
      "per_contrata 2009\n",
      "\n",
      "Intendencia de Tarapacá\n"
     ]
    },
    {
     "data": {
      "application/vnd.jupyter.widget-view+json": {
       "model_id": "f1489a08d9d24f048a7f0c736dd07c06",
       "version_major": 2,
       "version_minor": 0
      },
      "text/plain": [
       "A Jupyter Widget"
      ]
     },
     "metadata": {},
     "output_type": "display_data"
    },
    {
     "name": "stdout",
     "output_type": "stream",
     "text": [
      "per_planta Ver Histórico antes de la Ley N° 20.285\n",
      "could not get breadcrumbs from http://www.interior.gov.cl/transparenciahistorico/sgi/25/dotacionplanta.html\n",
      "per_planta 2018\n",
      "could not get breadcrumbs from http://www.interior.gov.cl/transparenciaactiva/sgi/25/dotacionplanta_2018.html\n",
      "per_planta 2017\n",
      "per_planta 2016\n",
      "per_planta 2015\n",
      "per_planta 2014\n",
      "per_planta 2013\n",
      "per_planta 2012\n",
      "per_planta 2011\n",
      "per_planta 2010\n",
      "per_planta 2009\n",
      "per_contrata Ver Histórico antes de la Ley N° 20.285\n",
      "could not get breadcrumbs from http://www.interior.gov.cl/transparenciahistorico/sgi/25/dotacioncontrata.html\n",
      "per_contrata 2018\n",
      "could not get breadcrumbs from http://www.interior.gov.cl/transparenciaactiva/sgi/25/dotacioncontrata_2018.html\n",
      "per_contrata 2017\n",
      "per_contrata 2016\n",
      "per_contrata 2015\n",
      "per_contrata 2014\n",
      "per_contrata 2013\n",
      "per_contrata 2012\n",
      "per_contrata 2011\n",
      "per_contrata 2010\n",
      "per_contrata 2009\n",
      "\n",
      "Intendencia de Valparaíso\n"
     ]
    },
    {
     "data": {
      "application/vnd.jupyter.widget-view+json": {
       "model_id": "e825b755e51e4beb8dc648b20da067bd",
       "version_major": 2,
       "version_minor": 0
      },
      "text/plain": [
       "A Jupyter Widget"
      ]
     },
     "metadata": {},
     "output_type": "display_data"
    },
    {
     "name": "stdout",
     "output_type": "stream",
     "text": [
      "per_planta Ver Histórico antes de la Ley N° 20.285\n",
      "could not get breadcrumbs from http://www.interior.gov.cl/transparenciahistorico/sgi/23/dotacionplanta.html\n",
      "per_planta 2018\n",
      "could not get breadcrumbs from http://www.interior.gov.cl/transparenciaactiva/sgi/23/dotacionplanta_2018.html\n",
      "per_planta 2017\n",
      "per_planta 2016\n",
      "per_planta 2015\n",
      "per_planta 2014\n",
      "per_planta 2013\n",
      "per_planta 2012\n",
      "per_planta 2011\n",
      "per_planta 2010\n",
      "per_planta 2009\n",
      "per_contrata Ver Histórico antes de la Ley N° 20.285\n",
      "could not get breadcrumbs from http://www.interior.gov.cl/transparenciahistorico/sgi/23/dotacioncontrata.html\n",
      "per_contrata 2018\n",
      "could not get breadcrumbs from http://www.interior.gov.cl/transparenciaactiva/sgi/23/dotacioncontrata_2018.html\n",
      "per_contrata 2017\n",
      "per_contrata 2016\n",
      "per_contrata 2015\n",
      "per_contrata 2014\n",
      "per_contrata 2013\n",
      "per_contrata 2012\n",
      "per_contrata 2011\n",
      "per_contrata 2010\n",
      "per_contrata 2009\n",
      "\n",
      "Intendencia del Bío Bío\n"
     ]
    },
    {
     "data": {
      "application/vnd.jupyter.widget-view+json": {
       "model_id": "fc6083a11f484a6bbd808c050d9a42eb",
       "version_major": 2,
       "version_minor": 0
      },
      "text/plain": [
       "A Jupyter Widget"
      ]
     },
     "metadata": {},
     "output_type": "display_data"
    },
    {
     "name": "stdout",
     "output_type": "stream",
     "text": [
      "per_planta Ver Histórico antes de la Ley N° 20.285\n",
      "could not get breadcrumbs from http://www.interior.gov.cl/transparenciahistorico/sgi/32/dotacionplanta.html\n",
      "per_planta 2018\n",
      "could not get breadcrumbs from http://www.interior.gov.cl/transparenciaactiva/sgi/32/dotacionplanta_2018.html\n",
      "per_planta 2017\n",
      "per_planta 2016\n",
      "per_planta 2015\n",
      "per_planta 2014\n",
      "per_planta 2013\n",
      "per_planta 2012\n",
      "per_planta 2011\n",
      "per_planta 2010\n",
      "per_planta 2009\n",
      "per_contrata Ver Histórico antes de la Ley N° 20.285\n",
      "could not get breadcrumbs from http://www.interior.gov.cl/transparenciahistorico/sgi/32/dotacioncontrata.html\n",
      "per_contrata 2018\n",
      "could not get breadcrumbs from http://www.interior.gov.cl/transparenciaactiva/sgi/32/dotacioncontrata_2018.html\n",
      "per_contrata 2017\n",
      "per_contrata 2016\n",
      "per_contrata 2015\n",
      "per_contrata 2014\n",
      "per_contrata 2013\n",
      "per_contrata 2012\n",
      "per_contrata 2011\n",
      "per_contrata 2010\n",
      "per_contrata 2009\n",
      "\n",
      "Intendencia del Maule\n"
     ]
    },
    {
     "data": {
      "application/vnd.jupyter.widget-view+json": {
       "model_id": "bf4bb9f785f44157b0b437f7510d5b62",
       "version_major": 2,
       "version_minor": 0
      },
      "text/plain": [
       "A Jupyter Widget"
      ]
     },
     "metadata": {},
     "output_type": "display_data"
    },
    {
     "name": "stdout",
     "output_type": "stream",
     "text": [
      "per_planta Ver Histórico antes de la Ley N° 20.285\n",
      "could not get breadcrumbs from http://www.interior.gov.cl/transparenciahistorico/sgi/31/dotacionplanta.html\n",
      "per_planta 2018\n",
      "could not get breadcrumbs from http://www.interior.gov.cl/transparenciaactiva/sgi/31/dotacionplanta_2018.html\n",
      "per_planta 2017\n",
      "per_planta 2016\n",
      "per_planta 2015\n",
      "per_planta 2014\n",
      "per_planta 2013\n",
      "per_planta 2012\n",
      "per_planta 2011\n",
      "per_planta 2010\n",
      "per_planta 2009\n",
      "per_contrata Ver Histórico antes de la Ley N° 20.285\n",
      "could not get breadcrumbs from http://www.interior.gov.cl/transparenciahistorico/sgi/31/dotacioncontrata.html\n",
      "per_contrata 2018\n",
      "could not get breadcrumbs from http://www.interior.gov.cl/transparenciaactiva/sgi/31/dotacioncontrata_2018.html\n",
      "per_contrata 2017\n",
      "per_contrata 2016\n",
      "per_contrata 2015\n",
      "per_contrata 2014\n",
      "per_contrata 2013\n",
      "per_contrata 2012\n",
      "per_contrata 2011\n",
      "per_contrata 2010\n",
      "per_contrata 2009\n",
      "\n",
      "Intendencia Metropolitana\n"
     ]
    },
    {
     "data": {
      "application/vnd.jupyter.widget-view+json": {
       "model_id": "fd6cb025d8874c15b16819634572302b",
       "version_major": 2,
       "version_minor": 0
      },
      "text/plain": [
       "A Jupyter Widget"
      ]
     },
     "metadata": {},
     "output_type": "display_data"
    },
    {
     "name": "stdout",
     "output_type": "stream",
     "text": [
      "per_planta Ver Histórico antes de la Ley N° 20.285\n",
      "could not get breadcrumbs from http://www.interior.gov.cl/transparenciahistorico/sgi/29/dotacionplanta.html\n",
      "per_planta 2018\n",
      "could not get breadcrumbs from http://www.interior.gov.cl/transparenciaactiva/sgi/29/dotacionplanta_2018.html\n",
      "per_planta 2017\n",
      "per_planta 2016\n",
      "per_planta 2015\n",
      "per_planta 2014\n",
      "per_planta 2013\n",
      "per_planta 2012\n",
      "per_planta 2011\n",
      "per_planta 2010\n",
      "per_planta 2009\n",
      "per_contrata Ver Histórico antes de la Ley N° 20.285\n",
      "could not get breadcrumbs from http://www.interior.gov.cl/transparenciahistorico/sgi/29/dotacioncontrata.html\n",
      "per_contrata 2018\n",
      "could not get breadcrumbs from http://www.interior.gov.cl/transparenciaactiva/sgi/29/dotacioncontrata_2018.html\n",
      "per_contrata 2017\n",
      "per_contrata 2016\n",
      "per_contrata 2015\n",
      "per_contrata 2014\n",
      "per_contrata 2013\n",
      "per_contrata 2012\n",
      "per_contrata 2011\n",
      "per_contrata 2010\n",
      "per_contrata 2009\n",
      "\n",
      "Gobernación de Arica\n"
     ]
    },
    {
     "data": {
      "application/vnd.jupyter.widget-view+json": {
       "model_id": "e078ffc993444b37877dcf7c709266b1",
       "version_major": 2,
       "version_minor": 0
      },
      "text/plain": [
       "A Jupyter Widget"
      ]
     },
     "metadata": {},
     "output_type": "display_data"
    },
    {
     "name": "stdout",
     "output_type": "stream",
     "text": [
      "per_planta Ver Histórico antes de la Ley N° 20.285\n",
      "could not get breadcrumbs from http://www.interior.gov.cl/transparenciahistorico/sgi/37/dotacionplanta.html\n",
      "per_planta 2018\n",
      "could not get breadcrumbs from http://www.interior.gov.cl/transparenciaactiva/sgi/37/dotacionplanta_2018.html\n",
      "per_planta 2017\n",
      "per_planta 2016\n",
      "per_planta 2015\n",
      "per_planta 2014\n",
      "per_planta 2013\n",
      "per_planta 2012\n",
      "per_planta 2011\n",
      "per_planta 2010\n",
      "per_planta 2009\n",
      "per_contrata Ver Histórico antes de la Ley N° 20.285\n",
      "could not get breadcrumbs from http://www.interior.gov.cl/transparenciahistorico/sgi/37/dotacioncontrata.html\n",
      "per_contrata 2018\n",
      "could not get breadcrumbs from http://www.interior.gov.cl/transparenciaactiva/sgi/37/dotacioncontrata_2018.html\n",
      "per_contrata 2017\n",
      "per_contrata 2016\n",
      "per_contrata 2015\n",
      "per_contrata 2014\n",
      "per_contrata 2013\n",
      "per_contrata 2012\n",
      "per_contrata 2011\n",
      "per_contrata 2010\n",
      "per_contrata 2009\n",
      "\n",
      "Gobernación de Parinacota\n"
     ]
    },
    {
     "data": {
      "application/vnd.jupyter.widget-view+json": {
       "model_id": "2cddb23abf6f409eb7c779b76284f973",
       "version_major": 2,
       "version_minor": 0
      },
      "text/plain": [
       "A Jupyter Widget"
      ]
     },
     "metadata": {},
     "output_type": "display_data"
    },
    {
     "name": "stdout",
     "output_type": "stream",
     "text": [
      "per_planta Ver Histórico antes de la Ley N° 20.285\n",
      "could not get breadcrumbs from http://www.interior.gov.cl/transparenciahistorico/sgi/39/dotacionplanta.html\n",
      "per_planta 2018\n",
      "could not get breadcrumbs from http://www.interior.gov.cl/transparenciaactiva/sgi/39/dotacionplanta_2018.html\n",
      "per_planta 2017\n",
      "per_planta 2016\n",
      "per_planta 2015\n",
      "per_planta 2014\n",
      "per_planta 2013\n",
      "per_planta 2012\n",
      "per_planta 2011\n",
      "per_planta 2010\n",
      "per_planta 2009\n",
      "per_contrata Ver Histórico antes de la Ley N° 20.285\n",
      "could not get breadcrumbs from http://www.interior.gov.cl/transparenciahistorico/sgi/39/dotacioncontrata.html\n",
      "per_contrata 2018\n",
      "could not get breadcrumbs from http://www.interior.gov.cl/transparenciaactiva/sgi/39/dotacioncontrata_2018.html\n",
      "per_contrata 2017\n",
      "per_contrata 2016\n",
      "per_contrata 2015\n",
      "per_contrata 2014\n",
      "per_contrata 2013\n",
      "per_contrata 2012\n",
      "per_contrata 2011\n",
      "per_contrata 2010\n",
      "per_contrata 2009\n",
      "\n",
      "Gobernación de Iquique\n"
     ]
    },
    {
     "data": {
      "application/vnd.jupyter.widget-view+json": {
       "model_id": "7c473b248aa64825affa6c0d6f411bdc",
       "version_major": 2,
       "version_minor": 0
      },
      "text/plain": [
       "A Jupyter Widget"
      ]
     },
     "metadata": {},
     "output_type": "display_data"
    },
    {
     "name": "stdout",
     "output_type": "stream",
     "text": [
      "per_planta Ver Histórico antes de la Ley N° 20.285\n",
      "could not get breadcrumbs from http://www.interior.gov.cl/transparenciahistorico/sgi/38/dotacionplanta.html\n",
      "per_planta 2018\n",
      "could not get breadcrumbs from http://www.interior.gov.cl/transparenciaactiva/sgi/38/dotacionplanta_2018.html\n",
      "per_planta 2017\n",
      "per_planta 2016\n",
      "per_planta 2015\n",
      "per_planta 2014\n",
      "per_planta 2013\n",
      "per_planta 2012\n",
      "per_planta 2011\n",
      "per_planta 2010\n",
      "per_planta 2009\n",
      "per_contrata Ver Histórico antes de la Ley N° 20.285\n",
      "could not get breadcrumbs from http://www.interior.gov.cl/transparenciahistorico/sgi/38/dotacioncontrata.html\n",
      "per_contrata 2018\n",
      "could not get breadcrumbs from http://www.interior.gov.cl/transparenciaactiva/sgi/38/dotacioncontrata_2018.html\n",
      "per_contrata 2017\n",
      "per_contrata 2016\n",
      "per_contrata 2015\n",
      "per_contrata 2014\n",
      "per_contrata 2013\n",
      "per_contrata 2012\n",
      "per_contrata 2011\n",
      "per_contrata 2010\n",
      "per_contrata 2009\n",
      "\n",
      "Gobernación de Tamarugal\n"
     ]
    },
    {
     "data": {
      "application/vnd.jupyter.widget-view+json": {
       "model_id": "a580ab4e3be74997afe0a6f155e644cb",
       "version_major": 2,
       "version_minor": 0
      },
      "text/plain": [
       "A Jupyter Widget"
      ]
     },
     "metadata": {},
     "output_type": "display_data"
    },
    {
     "name": "stdout",
     "output_type": "stream",
     "text": [
      "per_planta Ver Histórico antes de la Ley N° 20.285\n",
      "could not get breadcrumbs from http://www.interior.gov.cl/transparenciahistorico/sgi/125/dotacionplanta.html\n",
      "per_planta 2018\n",
      "could not get breadcrumbs from http://www.interior.gov.cl/transparenciaactiva/sgi/125/dotacionplanta_2018.html\n",
      "per_planta 2017\n",
      "per_planta 2016\n",
      "per_planta 2015\n",
      "per_planta 2014\n",
      "per_planta 2013\n",
      "per_planta 2012\n",
      "per_planta 2011\n",
      "per_planta 2010\n",
      "per_planta 2009\n",
      "per_contrata Ver Histórico antes de la Ley N° 20.285\n",
      "could not get breadcrumbs from http://www.interior.gov.cl/transparenciahistorico/sgi/125/dotacioncontrata.html\n",
      "per_contrata 2018\n",
      "could not get breadcrumbs from http://www.interior.gov.cl/transparenciaactiva/sgi/125/dotacioncontrata_2018.html\n",
      "per_contrata 2017\n",
      "per_contrata 2016\n",
      "per_contrata 2015\n",
      "per_contrata 2014\n",
      "per_contrata 2013\n",
      "per_contrata 2012\n",
      "per_contrata 2011\n",
      "per_contrata 2010\n",
      "per_contrata 2009\n",
      "\n",
      "Gobernación de Antofagasta\n"
     ]
    },
    {
     "data": {
      "application/vnd.jupyter.widget-view+json": {
       "model_id": "b3bc5d6ace2e407abebadf77f4f66348",
       "version_major": 2,
       "version_minor": 0
      },
      "text/plain": [
       "A Jupyter Widget"
      ]
     },
     "metadata": {},
     "output_type": "display_data"
    },
    {
     "name": "stdout",
     "output_type": "stream",
     "text": [
      "per_planta Ver Histórico antes de la Ley N° 20.285\n",
      "could not get breadcrumbs from http://www.interior.gov.cl/transparenciahistorico/sgi/40/dotacionplanta.html\n",
      "per_planta 2018\n",
      "could not get breadcrumbs from http://www.interior.gov.cl/transparenciaactiva/sgi/40/dotacionplanta_2018.html\n",
      "per_planta 2017\n",
      "per_planta 2016\n",
      "per_planta 2015\n",
      "per_planta 2014\n",
      "per_planta 2013\n",
      "per_planta 2012\n",
      "per_planta 2011\n",
      "per_planta 2010\n",
      "per_planta 2009\n",
      "per_contrata Ver Histórico antes de la Ley N° 20.285\n",
      "could not get breadcrumbs from http://www.interior.gov.cl/transparenciahistorico/sgi/40/dotacioncontrata.html\n",
      "per_contrata 2018\n",
      "could not get breadcrumbs from http://www.interior.gov.cl/transparenciaactiva/sgi/40/dotacioncontrata_2018.html\n",
      "per_contrata 2017\n",
      "per_contrata 2016\n",
      "per_contrata 2015\n",
      "per_contrata 2014\n",
      "per_contrata 2013\n",
      "per_contrata 2012\n",
      "per_contrata 2011\n",
      "per_contrata 2010\n",
      "per_contrata 2009\n",
      "\n",
      "Gobernación de El Loa\n"
     ]
    },
    {
     "data": {
      "application/vnd.jupyter.widget-view+json": {
       "model_id": "20cc0c4a95f84ab4b9934e192c1ba561",
       "version_major": 2,
       "version_minor": 0
      },
      "text/plain": [
       "A Jupyter Widget"
      ]
     },
     "metadata": {},
     "output_type": "display_data"
    },
    {
     "name": "stdout",
     "output_type": "stream",
     "text": [
      "per_planta Ver Histórico antes de la Ley N° 20.285\n",
      "could not get breadcrumbs from http://www.interior.gov.cl/transparenciahistorico/sgi/41/dotacionplanta.html\n",
      "per_planta 2018\n",
      "could not get breadcrumbs from http://www.interior.gov.cl/transparenciaactiva/sgi/41/dotacionplanta_2018.html\n",
      "per_planta 2017\n",
      "per_planta 2016\n",
      "per_planta 2015\n",
      "per_planta 2014\n",
      "per_planta 2013\n",
      "per_planta 2012\n",
      "per_planta 2011\n",
      "per_planta 2010\n",
      "per_planta 2009\n",
      "per_contrata Ver Histórico antes de la Ley N° 20.285\n",
      "could not get breadcrumbs from http://www.interior.gov.cl/transparenciahistorico/sgi/41/dotacioncontrata.html\n",
      "per_contrata 2018\n",
      "could not get breadcrumbs from http://www.interior.gov.cl/transparenciaactiva/sgi/41/dotacioncontrata_2018.html\n",
      "per_contrata 2017\n",
      "per_contrata 2016\n",
      "per_contrata 2015\n",
      "per_contrata 2014\n",
      "per_contrata 2013\n",
      "per_contrata 2012\n",
      "per_contrata 2011\n",
      "per_contrata 2010\n",
      "per_contrata 2009\n",
      "\n",
      "Gobernación de Tocopilla\n"
     ]
    },
    {
     "data": {
      "application/vnd.jupyter.widget-view+json": {
       "model_id": "c4990069b90a42d0b62c9b824f644559",
       "version_major": 2,
       "version_minor": 0
      },
      "text/plain": [
       "A Jupyter Widget"
      ]
     },
     "metadata": {},
     "output_type": "display_data"
    },
    {
     "name": "stdout",
     "output_type": "stream",
     "text": [
      "per_planta Ver Histórico antes de la Ley N° 20.285\n",
      "could not get breadcrumbs from http://www.interior.gov.cl/transparenciahistorico/sgi/42/dotacionplanta.html\n",
      "per_planta 2018\n",
      "could not get breadcrumbs from http://www.interior.gov.cl/transparenciaactiva/sgi/42/dotacionplanta_2018.html\n",
      "per_planta 2017\n",
      "per_planta 2016\n",
      "per_planta 2015\n",
      "per_planta 2014\n",
      "per_planta 2013\n",
      "per_planta 2012\n",
      "per_planta 2011\n",
      "per_planta 2010\n",
      "per_planta 2009\n",
      "per_contrata Ver Histórico antes de la Ley N° 20.285\n",
      "could not get breadcrumbs from http://www.interior.gov.cl/transparenciahistorico/sgi/42/dotacioncontrata.html\n",
      "per_contrata 2018\n",
      "could not get breadcrumbs from http://www.interior.gov.cl/transparenciaactiva/sgi/42/dotacioncontrata_2018.html\n",
      "per_contrata 2017\n",
      "per_contrata 2016\n",
      "per_contrata 2015\n",
      "per_contrata 2014\n",
      "per_contrata 2013\n",
      "per_contrata 2012\n",
      "per_contrata 2011\n",
      "per_contrata 2010\n",
      "per_contrata 2009\n",
      "\n",
      "Gobernación de Chañaral\n"
     ]
    },
    {
     "data": {
      "application/vnd.jupyter.widget-view+json": {
       "model_id": "b3dfbc99888448169af4c59e649ec3cd",
       "version_major": 2,
       "version_minor": 0
      },
      "text/plain": [
       "A Jupyter Widget"
      ]
     },
     "metadata": {},
     "output_type": "display_data"
    },
    {
     "name": "stdout",
     "output_type": "stream",
     "text": [
      "per_planta Ver Histórico antes de la Ley N° 20.285\n",
      "could not get breadcrumbs from http://www.interior.gov.cl/transparenciahistorico/sgi/44/dotacionplanta.html\n",
      "per_planta 2018\n",
      "could not get breadcrumbs from http://www.interior.gov.cl/transparenciaactiva/sgi/44/dotacionplanta_2018.html\n",
      "per_planta 2017\n",
      "per_planta 2016\n",
      "per_planta 2015\n",
      "per_planta 2014\n",
      "per_planta 2013\n",
      "per_planta 2012\n",
      "per_planta 2011\n",
      "per_planta 2010\n",
      "per_planta 2009\n",
      "per_contrata Ver Histórico antes de la Ley N° 20.285\n",
      "could not get breadcrumbs from http://www.interior.gov.cl/transparenciahistorico/sgi/44/dotacioncontrata.html\n",
      "per_contrata 2018\n",
      "could not get breadcrumbs from http://www.interior.gov.cl/transparenciaactiva/sgi/44/dotacioncontrata_2018.html\n",
      "per_contrata 2017\n",
      "per_contrata 2016\n",
      "per_contrata 2015\n",
      "per_contrata 2014\n",
      "per_contrata 2013\n",
      "per_contrata 2012\n",
      "per_contrata 2011\n",
      "per_contrata 2010\n",
      "per_contrata 2009\n",
      "\n",
      "Gobernación de Copiapó\n"
     ]
    },
    {
     "data": {
      "application/vnd.jupyter.widget-view+json": {
       "model_id": "44cf7baa60b54d5c9d6a682253d2cd41",
       "version_major": 2,
       "version_minor": 0
      },
      "text/plain": [
       "A Jupyter Widget"
      ]
     },
     "metadata": {},
     "output_type": "display_data"
    },
    {
     "name": "stdout",
     "output_type": "stream",
     "text": [
      "per_planta Ver Histórico antes de la Ley N° 20.285\n",
      "could not get breadcrumbs from http://www.interior.gov.cl/transparenciahistorico/sgi/43/dotacionplanta.html\n",
      "per_planta 2018\n",
      "could not get breadcrumbs from http://www.interior.gov.cl/transparenciaactiva/sgi/43/dotacionplanta_2018.html\n",
      "per_planta 2017\n",
      "per_planta 2016\n",
      "per_planta 2015\n",
      "per_planta 2014\n",
      "per_planta 2013\n",
      "per_planta 2012\n",
      "per_planta 2011\n",
      "per_planta 2010\n",
      "per_planta 2009\n",
      "per_contrata Ver Histórico antes de la Ley N° 20.285\n",
      "could not get breadcrumbs from http://www.interior.gov.cl/transparenciahistorico/sgi/43/dotacioncontrata.html\n",
      "per_contrata 2018\n",
      "could not get breadcrumbs from http://www.interior.gov.cl/transparenciaactiva/sgi/43/dotacioncontrata_2018.html\n",
      "per_contrata 2017\n",
      "per_contrata 2016\n",
      "per_contrata 2015\n",
      "per_contrata 2014\n",
      "per_contrata 2013\n",
      "per_contrata 2012\n",
      "per_contrata 2011\n",
      "per_contrata 2010\n",
      "per_contrata 2009\n",
      "\n",
      "Gobernación de Huasco\n"
     ]
    },
    {
     "data": {
      "application/vnd.jupyter.widget-view+json": {
       "model_id": "ce7dfbea49fb4f8eacbf582d8ae26e47",
       "version_major": 2,
       "version_minor": 0
      },
      "text/plain": [
       "A Jupyter Widget"
      ]
     },
     "metadata": {},
     "output_type": "display_data"
    },
    {
     "name": "stdout",
     "output_type": "stream",
     "text": [
      "per_planta Ver Histórico antes de la Ley N° 20.285\n",
      "could not get breadcrumbs from http://www.interior.gov.cl/transparenciahistorico/sgi/45/dotacionplanta.html\n",
      "per_planta 2018\n",
      "could not get breadcrumbs from http://www.interior.gov.cl/transparenciaactiva/sgi/45/dotacionplanta_2018.html\n",
      "per_planta 2017\n",
      "per_planta 2016\n",
      "per_planta 2015\n",
      "per_planta 2014\n",
      "per_planta 2013\n",
      "per_planta 2012\n",
      "per_planta 2011\n",
      "per_planta 2010\n",
      "per_planta 2009\n",
      "per_contrata Ver Histórico antes de la Ley N° 20.285\n",
      "could not get breadcrumbs from http://www.interior.gov.cl/transparenciahistorico/sgi/45/dotacioncontrata.html\n",
      "per_contrata 2018\n",
      "could not get breadcrumbs from http://www.interior.gov.cl/transparenciaactiva/sgi/45/dotacioncontrata_2018.html\n",
      "per_contrata 2017\n",
      "per_contrata 2016\n",
      "per_contrata 2015\n",
      "per_contrata 2014\n",
      "per_contrata 2013\n",
      "per_contrata 2012\n",
      "per_contrata 2011\n",
      "per_contrata 2010\n",
      "per_contrata 2009\n",
      "\n",
      "Gobernación de Elqui\n"
     ]
    },
    {
     "data": {
      "application/vnd.jupyter.widget-view+json": {
       "model_id": "1cd55ed4f5764f14aaaf3af073ab0a49",
       "version_major": 2,
       "version_minor": 0
      },
      "text/plain": [
       "A Jupyter Widget"
      ]
     },
     "metadata": {},
     "output_type": "display_data"
    },
    {
     "name": "stdout",
     "output_type": "stream",
     "text": [
      "per_planta Ver Histórico antes de la Ley N° 20.285\n",
      "could not get breadcrumbs from http://www.interior.gov.cl/transparenciahistorico/sgi/47/dotacionplanta.html\n",
      "per_planta 2018\n",
      "could not get breadcrumbs from http://www.interior.gov.cl/transparenciaactiva/sgi/47/dotacionplanta_2018.html\n",
      "per_planta 2017\n",
      "per_planta 2016\n",
      "per_planta 2015\n",
      "per_planta 2014\n",
      "per_planta 2013\n",
      "per_planta 2012\n",
      "per_planta 2011\n",
      "per_planta 2010\n",
      "per_planta 2009\n",
      "per_contrata Ver Histórico antes de la Ley N° 20.285\n",
      "could not get breadcrumbs from http://www.interior.gov.cl/transparenciahistorico/sgi/47/dotacioncontrata.html\n",
      "per_contrata 2018\n",
      "could not get breadcrumbs from http://www.interior.gov.cl/transparenciaactiva/sgi/47/dotacioncontrata_2018.html\n",
      "per_contrata 2017\n",
      "per_contrata 2016\n",
      "per_contrata 2015\n",
      "per_contrata 2014\n",
      "per_contrata 2013\n",
      "per_contrata 2012\n",
      "per_contrata 2011\n",
      "per_contrata 2010\n",
      "per_contrata 2009\n",
      "\n",
      "Gobernación de Limarí\n"
     ]
    },
    {
     "data": {
      "application/vnd.jupyter.widget-view+json": {
       "model_id": "1b6f541cca104bc1b1482cad03eecc09",
       "version_major": 2,
       "version_minor": 0
      },
      "text/plain": [
       "A Jupyter Widget"
      ]
     },
     "metadata": {},
     "output_type": "display_data"
    },
    {
     "name": "stdout",
     "output_type": "stream",
     "text": [
      "per_planta Ver Histórico antes de la Ley N° 20.285\n",
      "could not get breadcrumbs from http://www.interior.gov.cl/transparenciahistorico/sgi/46/dotacionplanta.html\n",
      "per_planta 2018\n",
      "could not get breadcrumbs from http://www.interior.gov.cl/transparenciaactiva/sgi/46/dotacionplanta_2018.html\n",
      "per_planta 2017\n",
      "per_planta 2016\n",
      "per_planta 2015\n",
      "per_planta 2014\n",
      "per_planta 2013\n",
      "per_planta 2012\n",
      "per_planta 2011\n",
      "per_planta 2010\n",
      "per_planta 2009\n",
      "per_contrata Ver Histórico antes de la Ley N° 20.285\n",
      "could not get breadcrumbs from http://www.interior.gov.cl/transparenciahistorico/sgi/46/dotacioncontrata.html\n",
      "per_contrata 2018\n",
      "could not get breadcrumbs from http://www.interior.gov.cl/transparenciaactiva/sgi/46/dotacioncontrata_2018.html\n",
      "per_contrata 2017\n",
      "per_contrata 2016\n",
      "per_contrata 2015\n",
      "per_contrata 2014\n",
      "per_contrata 2013\n",
      "per_contrata 2012\n",
      "per_contrata 2011\n",
      "per_contrata 2010\n",
      "per_contrata 2009\n",
      "\n",
      "Gobernación de Choapa\n"
     ]
    },
    {
     "data": {
      "application/vnd.jupyter.widget-view+json": {
       "model_id": "92b07de9fa0349b8b92b8fc7f8d310b8",
       "version_major": 2,
       "version_minor": 0
      },
      "text/plain": [
       "A Jupyter Widget"
      ]
     },
     "metadata": {},
     "output_type": "display_data"
    },
    {
     "name": "stdout",
     "output_type": "stream",
     "text": [
      "per_planta Ver Histórico antes de la Ley N° 20.285\n",
      "could not get breadcrumbs from http://www.interior.gov.cl/transparenciahistorico/sgi/48/dotacionplanta.html\n",
      "per_planta 2018\n",
      "could not get breadcrumbs from http://www.interior.gov.cl/transparenciaactiva/sgi/48/dotacionplanta_2018.html\n",
      "per_planta 2017\n",
      "per_planta 2016\n",
      "per_planta 2015\n",
      "per_planta 2014\n",
      "per_planta 2013\n",
      "per_planta 2012\n",
      "per_planta 2011\n",
      "per_planta 2010\n",
      "per_planta 2009\n",
      "per_contrata Ver Histórico antes de la Ley N° 20.285\n",
      "could not get breadcrumbs from http://www.interior.gov.cl/transparenciahistorico/sgi/48/dotacioncontrata.html\n",
      "per_contrata 2018\n",
      "could not get breadcrumbs from http://www.interior.gov.cl/transparenciaactiva/sgi/48/dotacioncontrata_2018.html\n",
      "per_contrata 2017\n",
      "per_contrata 2016\n",
      "per_contrata 2015\n",
      "per_contrata 2014\n",
      "per_contrata 2013\n",
      "per_contrata 2012\n",
      "per_contrata 2011\n",
      "per_contrata 2010\n",
      "per_contrata 2009\n",
      "\n",
      "Gobernación de Petorca\n"
     ]
    },
    {
     "data": {
      "application/vnd.jupyter.widget-view+json": {
       "model_id": "c5dec84d008640878194198eaa44f044",
       "version_major": 2,
       "version_minor": 0
      },
      "text/plain": [
       "A Jupyter Widget"
      ]
     },
     "metadata": {},
     "output_type": "display_data"
    },
    {
     "name": "stdout",
     "output_type": "stream",
     "text": [
      "per_planta Ver Histórico antes de la Ley N° 20.285\n",
      "could not get breadcrumbs from http://www.interior.gov.cl/transparenciahistorico/sgi/55/dotacionplanta.html\n",
      "per_planta 2018\n",
      "could not get breadcrumbs from http://www.interior.gov.cl/transparenciaactiva/sgi/55/dotacionplanta_2018.html\n",
      "per_planta 2017\n",
      "per_planta 2016\n",
      "per_planta 2015\n",
      "per_planta 2014\n",
      "per_planta 2013\n",
      "per_planta 2012\n",
      "per_planta 2011\n",
      "per_planta 2010\n",
      "per_planta 2009\n",
      "per_contrata Ver Histórico antes de la Ley N° 20.285\n",
      "could not get breadcrumbs from http://www.interior.gov.cl/transparenciahistorico/sgi/55/dotacioncontrata.html\n",
      "per_contrata 2018\n",
      "could not get breadcrumbs from http://www.interior.gov.cl/transparenciaactiva/sgi/55/dotacioncontrata_2018.html\n",
      "per_contrata 2017\n",
      "per_contrata 2016\n",
      "per_contrata 2015\n",
      "per_contrata 2014\n",
      "per_contrata 2013\n",
      "per_contrata 2012\n",
      "per_contrata 2011\n",
      "per_contrata 2010\n",
      "per_contrata 2009\n",
      "\n",
      "Gobernación de Valparaíso\n"
     ]
    },
    {
     "data": {
      "application/vnd.jupyter.widget-view+json": {
       "model_id": "e6285259ecd24a13ab6fc1a2e1f2c7b7",
       "version_major": 2,
       "version_minor": 0
      },
      "text/plain": [
       "A Jupyter Widget"
      ]
     },
     "metadata": {},
     "output_type": "display_data"
    },
    {
     "name": "stdout",
     "output_type": "stream",
     "text": [
      "per_planta Ver Histórico antes de la Ley N° 20.285\n",
      "could not get breadcrumbs from http://www.interior.gov.cl/transparenciahistorico/sgi/49/dotacionplanta.html\n",
      "per_planta 2018\n",
      "could not get breadcrumbs from http://www.interior.gov.cl/transparenciaactiva/sgi/49/dotacionplanta_2018.html\n",
      "per_planta 2017\n",
      "per_planta 2016\n",
      "per_planta 2015\n",
      "per_planta 2014\n",
      "per_planta 2013\n",
      "per_planta 2012\n",
      "per_planta 2011\n",
      "per_planta 2010\n",
      "per_planta 2009\n",
      "per_contrata Ver Histórico antes de la Ley N° 20.285\n",
      "could not get breadcrumbs from http://www.interior.gov.cl/transparenciahistorico/sgi/49/dotacioncontrata.html\n",
      "per_contrata 2018\n",
      "could not get breadcrumbs from http://www.interior.gov.cl/transparenciaactiva/sgi/49/dotacioncontrata_2018.html\n",
      "per_contrata 2017\n",
      "per_contrata 2016\n",
      "per_contrata 2015\n",
      "per_contrata 2014\n",
      "per_contrata 2013\n",
      "per_contrata 2012\n",
      "per_contrata 2011\n",
      "per_contrata 2010\n",
      "per_contrata 2009\n",
      "\n",
      "Gobernación de San Felipe\n"
     ]
    },
    {
     "data": {
      "application/vnd.jupyter.widget-view+json": {
       "model_id": "e7ebc8829f7b4a67a047cabe36e0d3aa",
       "version_major": 2,
       "version_minor": 0
      },
      "text/plain": [
       "A Jupyter Widget"
      ]
     },
     "metadata": {},
     "output_type": "display_data"
    },
    {
     "name": "stdout",
     "output_type": "stream",
     "text": [
      "per_planta Ver Histórico antes de la Ley N° 20.285\n",
      "could not get breadcrumbs from http://www.interior.gov.cl/transparenciahistorico/sgi/52/dotacionplanta.html\n",
      "per_planta 2018\n",
      "could not get breadcrumbs from http://www.interior.gov.cl/transparenciaactiva/sgi/52/dotacionplanta_2018.html\n",
      "per_planta 2017\n",
      "per_planta 2016\n",
      "per_planta 2015\n",
      "per_planta 2014\n",
      "per_planta 2013\n",
      "per_planta 2012\n",
      "per_planta 2011\n",
      "per_planta 2010\n",
      "per_planta 2009\n",
      "per_contrata Ver Histórico antes de la Ley N° 20.285\n",
      "could not get breadcrumbs from http://www.interior.gov.cl/transparenciahistorico/sgi/52/dotacioncontrata.html\n",
      "per_contrata 2018\n",
      "could not get breadcrumbs from http://www.interior.gov.cl/transparenciaactiva/sgi/52/dotacioncontrata_2018.html\n",
      "per_contrata 2017\n",
      "per_contrata 2016\n",
      "per_contrata 2015\n",
      "per_contrata 2014\n",
      "per_contrata 2013\n",
      "per_contrata 2012\n",
      "per_contrata 2011\n",
      "per_contrata 2010\n",
      "per_contrata 2009\n",
      "\n",
      "Gobernación de Los Andes\n"
     ]
    },
    {
     "data": {
      "application/vnd.jupyter.widget-view+json": {
       "model_id": "01589101858a48f6b9001a7a12d9e58c",
       "version_major": 2,
       "version_minor": 0
      },
      "text/plain": [
       "A Jupyter Widget"
      ]
     },
     "metadata": {},
     "output_type": "display_data"
    },
    {
     "name": "stdout",
     "output_type": "stream",
     "text": [
      "per_planta Ver Histórico antes de la Ley N° 20.285\n",
      "could not get breadcrumbs from http://www.interior.gov.cl/transparenciahistorico/sgi/54/dotacionplanta.html\n",
      "per_planta 2018\n",
      "could not get breadcrumbs from http://www.interior.gov.cl/transparenciaactiva/sgi/54/dotacionplanta_2018.html\n",
      "per_planta 2017\n",
      "per_planta 2016\n",
      "per_planta 2015\n",
      "per_planta 2014\n",
      "per_planta 2013\n",
      "per_planta 2012\n",
      "per_planta 2011\n",
      "per_planta 2010\n",
      "per_planta 2009\n",
      "per_contrata Ver Histórico antes de la Ley N° 20.285\n",
      "could not get breadcrumbs from http://www.interior.gov.cl/transparenciahistorico/sgi/54/dotacioncontrata.html\n",
      "per_contrata 2018\n",
      "could not get breadcrumbs from http://www.interior.gov.cl/transparenciaactiva/sgi/54/dotacioncontrata_2018.html\n",
      "per_contrata 2017\n",
      "could not get breadcrumbs from http://www.interior.gov.cl/transparenciaactiva/sgi/54/dotacioncontrata_2017_1.html\n",
      "per_contrata 2016\n",
      "could not get breadcrumbs from http://www.interior.gov.cl/transparenciaactiva/sgi/54/dotacioncontrata_2016_1.html\n",
      "per_contrata 2015\n",
      "could not get breadcrumbs from http://www.interior.gov.cl/transparenciaactiva/sgi/54/dotacioncontrata_2015_1.html\n",
      "per_contrata 2014\n",
      "could not get breadcrumbs from http://www.interior.gov.cl/transparenciaactiva/sgi/54/dotacioncontrata_2014_1.html\n",
      "per_contrata 2013\n",
      "could not get breadcrumbs from http://www.interior.gov.cl/transparenciaactiva/sgi/54/dotacioncontrata_2013_1.html\n",
      "per_contrata 2012\n",
      "could not get breadcrumbs from http://www.interior.gov.cl/transparenciaactiva/sgi/54/dotacioncontrata_2012_1.html\n",
      "per_contrata 2011\n",
      "could not get breadcrumbs from http://www.interior.gov.cl/transparenciaactiva/sgi/54/dotacioncontrata_2011_1.html\n",
      "per_contrata 2010\n",
      "could not get breadcrumbs from http://www.interior.gov.cl/transparenciaactiva/sgi/54/dotacioncontrata_2010_1.html\n",
      "per_contrata 2009\n",
      "could not get breadcrumbs from http://www.interior.gov.cl/transparenciaactiva/sgi/54/dotacioncontrata_2009_10.html\n",
      "\n",
      "Gobernación de Quillota\n"
     ]
    },
    {
     "data": {
      "application/vnd.jupyter.widget-view+json": {
       "model_id": "95e88d58a166463c9f7eb9a6082e050b",
       "version_major": 2,
       "version_minor": 0
      },
      "text/plain": [
       "A Jupyter Widget"
      ]
     },
     "metadata": {},
     "output_type": "display_data"
    },
    {
     "name": "stdout",
     "output_type": "stream",
     "text": [
      "per_planta Ver Histórico antes de la Ley N° 20.285\n",
      "could not get breadcrumbs from http://www.interior.gov.cl/transparenciahistorico/sgi/53/dotacionplanta.html\n",
      "per_planta 2018\n",
      "could not get breadcrumbs from http://www.interior.gov.cl/transparenciaactiva/sgi/53/dotacionplanta_2018.html\n",
      "per_planta 2017\n",
      "per_planta 2016\n",
      "per_planta 2015\n",
      "per_planta 2014\n",
      "per_planta 2013\n",
      "per_planta 2012\n",
      "per_planta 2011\n",
      "per_planta 2010\n",
      "per_planta 2009\n",
      "per_contrata Ver Histórico antes de la Ley N° 20.285\n",
      "could not get breadcrumbs from http://www.interior.gov.cl/transparenciahistorico/sgi/53/dotacioncontrata.html\n",
      "per_contrata 2018\n",
      "could not get breadcrumbs from http://www.interior.gov.cl/transparenciaactiva/sgi/53/dotacioncontrata_2018.html\n",
      "per_contrata 2017\n",
      "per_contrata 2016\n",
      "per_contrata 2015\n",
      "per_contrata 2014\n",
      "per_contrata 2013\n",
      "per_contrata 2012\n",
      "per_contrata 2011\n",
      "per_contrata 2010\n",
      "per_contrata 2009\n",
      "\n",
      "Gobernación de San Antonio\n"
     ]
    },
    {
     "data": {
      "application/vnd.jupyter.widget-view+json": {
       "model_id": "b5694f280b914410891e14083d1fa833",
       "version_major": 2,
       "version_minor": 0
      },
      "text/plain": [
       "A Jupyter Widget"
      ]
     },
     "metadata": {},
     "output_type": "display_data"
    },
    {
     "name": "stdout",
     "output_type": "stream",
     "text": [
      "per_planta Ver Histórico antes de la Ley N° 20.285\n",
      "could not get breadcrumbs from http://www.interior.gov.cl/transparenciahistorico/sgi/24/dotacionplanta.html\n",
      "per_planta 2018\n",
      "could not get breadcrumbs from http://www.interior.gov.cl/transparenciaactiva/sgi/24/dotacionplanta_2018.html\n",
      "per_planta 2017\n",
      "per_planta 2016\n",
      "per_planta 2015\n",
      "per_planta 2014\n",
      "per_planta 2013\n",
      "per_planta 2012\n",
      "per_planta 2011\n",
      "per_planta 2010\n",
      "per_planta 2009\n",
      "per_contrata Ver Histórico antes de la Ley N° 20.285\n",
      "could not get breadcrumbs from http://www.interior.gov.cl/transparenciahistorico/sgi/24/dotacioncontrata.html\n",
      "per_contrata 2018\n",
      "could not get breadcrumbs from http://www.interior.gov.cl/transparenciaactiva/sgi/24/dotacioncontrata_2018.html\n",
      "per_contrata 2017\n",
      "per_contrata 2016\n",
      "per_contrata 2015\n",
      "per_contrata 2014\n",
      "per_contrata 2013\n",
      "per_contrata 2012\n",
      "per_contrata 2011\n",
      "per_contrata 2010\n",
      "per_contrata 2009\n",
      "\n",
      "Gobernación de Marga Marga\n"
     ]
    },
    {
     "data": {
      "application/vnd.jupyter.widget-view+json": {
       "model_id": "321c0a7ff6f64dddad25f0ed2361c017",
       "version_major": 2,
       "version_minor": 0
      },
      "text/plain": [
       "A Jupyter Widget"
      ]
     },
     "metadata": {},
     "output_type": "display_data"
    },
    {
     "name": "stdout",
     "output_type": "stream",
     "text": [
      "per_planta Ver Histórico antes de la Ley N° 20.285\n",
      "could not get breadcrumbs from http://www.interior.gov.cl/transparenciahistorico/sgi/132/dotacionplanta.html\n",
      "per_planta 2018\n",
      "could not get breadcrumbs from http://www.interior.gov.cl/transparenciaactiva/sgi/132/dotacionplanta_2018.html\n",
      "per_planta 2017\n",
      "per_planta 2016\n",
      "per_planta 2015\n",
      "per_planta 2014\n",
      "per_planta 2013\n",
      "per_planta 2012\n",
      "per_planta 2011\n",
      "per_planta 2010\n",
      "per_planta 2009\n",
      "per_contrata Ver Histórico antes de la Ley N° 20.285\n",
      "could not get breadcrumbs from http://www.interior.gov.cl/transparenciahistorico/sgi/132/dotacioncontrata.html\n",
      "per_contrata 2018\n",
      "could not get breadcrumbs from http://www.interior.gov.cl/transparenciaactiva/sgi/132/dotacioncontrata_2018.html\n",
      "per_contrata 2017\n",
      "per_contrata 2016\n",
      "per_contrata 2015\n",
      "per_contrata 2014\n",
      "per_contrata 2013\n",
      "per_contrata 2012\n",
      "per_contrata 2011\n",
      "per_contrata 2010\n",
      "per_contrata 2009\n",
      "\n",
      "Gobernación de Isla de Pascua\n"
     ]
    },
    {
     "data": {
      "application/vnd.jupyter.widget-view+json": {
       "model_id": "4490895b929a44a687a9418692ff5880",
       "version_major": 2,
       "version_minor": 0
      },
      "text/plain": [
       "A Jupyter Widget"
      ]
     },
     "metadata": {},
     "output_type": "display_data"
    },
    {
     "name": "stdout",
     "output_type": "stream",
     "text": [
      "per_planta Ver Histórico antes de la Ley N° 20.285\n",
      "could not get breadcrumbs from http://www.interior.gov.cl/transparenciahistorico/sgi/51/dotacionplanta.html\n",
      "per_planta 2018\n",
      "could not get breadcrumbs from http://www.interior.gov.cl/transparenciaactiva/sgi/51/dotacionplanta_2018.html\n",
      "per_planta 2017\n",
      "per_planta 2016\n",
      "per_planta 2015\n",
      "per_planta 2014\n",
      "per_planta 2013\n",
      "per_planta 2012\n",
      "per_planta 2011\n",
      "per_planta 2010\n",
      "per_planta 2009\n",
      "per_contrata Ver Histórico antes de la Ley N° 20.285\n",
      "could not get breadcrumbs from http://www.interior.gov.cl/transparenciahistorico/sgi/51/dotacioncontrata.html\n",
      "per_contrata 2018\n",
      "could not get breadcrumbs from http://www.interior.gov.cl/transparenciaactiva/sgi/51/dotacioncontrata_2018.html\n",
      "per_contrata 2017\n",
      "per_contrata 2016\n",
      "per_contrata 2015\n",
      "per_contrata 2014\n",
      "per_contrata 2013\n",
      "per_contrata 2012\n",
      "per_contrata 2011\n",
      "per_contrata 2010\n",
      "per_contrata 2009\n",
      "\n",
      "Gobernación de Cachapoal\n"
     ]
    },
    {
     "data": {
      "application/vnd.jupyter.widget-view+json": {
       "model_id": "2b0e22f35dcd4954bff36f4acdf35589",
       "version_major": 2,
       "version_minor": 0
      },
      "text/plain": [
       "A Jupyter Widget"
      ]
     },
     "metadata": {},
     "output_type": "display_data"
    },
    {
     "name": "stdout",
     "output_type": "stream",
     "text": [
      "per_planta Ver Histórico antes de la Ley N° 20.285\n",
      "could not get breadcrumbs from http://www.interior.gov.cl/transparenciahistorico/sgi/56/dotacionplanta.html\n",
      "per_planta 2018\n",
      "could not get breadcrumbs from http://www.interior.gov.cl/transparenciaactiva/sgi/56/dotacionplanta_2018.html\n",
      "per_planta 2017\n",
      "per_planta 2016\n",
      "per_planta 2015\n",
      "per_planta 2014\n",
      "per_planta 2013\n",
      "per_planta 2012\n",
      "per_planta 2011\n",
      "per_planta 2010\n",
      "per_planta 2009\n",
      "per_contrata Ver Histórico antes de la Ley N° 20.285\n",
      "could not get breadcrumbs from http://www.interior.gov.cl/transparenciahistorico/sgi/56/dotacioncontrata.html\n",
      "per_contrata 2018\n",
      "could not get breadcrumbs from http://www.interior.gov.cl/transparenciaactiva/sgi/56/dotacioncontrata_2018.html\n",
      "per_contrata 2017\n",
      "per_contrata 2016\n",
      "per_contrata 2015\n",
      "per_contrata 2014\n",
      "per_contrata 2013\n",
      "per_contrata 2012\n",
      "per_contrata 2011\n",
      "per_contrata 2010\n",
      "per_contrata 2009\n",
      "\n",
      "Gobernación de Colchagua\n"
     ]
    },
    {
     "data": {
      "application/vnd.jupyter.widget-view+json": {
       "model_id": "4dca62a4e758482c9b5e522f5e8a7d23",
       "version_major": 2,
       "version_minor": 0
      },
      "text/plain": [
       "A Jupyter Widget"
      ]
     },
     "metadata": {},
     "output_type": "display_data"
    },
    {
     "name": "stdout",
     "output_type": "stream",
     "text": [
      "per_planta Ver Histórico antes de la Ley N° 20.285\n",
      "could not get breadcrumbs from http://www.interior.gov.cl/transparenciahistorico/sgi/57/dotacionplanta.html\n",
      "per_planta 2018\n",
      "could not get breadcrumbs from http://www.interior.gov.cl/transparenciaactiva/sgi/57/dotacionplanta_2018.html\n",
      "per_planta 2017\n",
      "per_planta 2016\n",
      "per_planta 2015\n",
      "per_planta 2014\n",
      "per_planta 2013\n",
      "per_planta 2012\n",
      "per_planta 2011\n",
      "per_planta 2010\n",
      "per_planta 2009\n",
      "per_contrata Ver Histórico antes de la Ley N° 20.285\n",
      "could not get breadcrumbs from http://www.interior.gov.cl/transparenciahistorico/sgi/57/dotacioncontrata.html\n",
      "per_contrata 2018\n",
      "could not get breadcrumbs from http://www.interior.gov.cl/transparenciaactiva/sgi/57/dotacioncontrata_2018.html\n",
      "per_contrata 2017\n",
      "per_contrata 2016\n",
      "per_contrata 2015\n",
      "per_contrata 2014\n",
      "per_contrata 2013\n",
      "per_contrata 2012\n",
      "per_contrata 2011\n",
      "per_contrata 2010\n",
      "per_contrata 2009\n",
      "\n",
      "Gobernación de Cardenal Caro\n"
     ]
    },
    {
     "data": {
      "application/vnd.jupyter.widget-view+json": {
       "model_id": "26efd0c2603e4ba58763d4cf546a37be",
       "version_major": 2,
       "version_minor": 0
      },
      "text/plain": [
       "A Jupyter Widget"
      ]
     },
     "metadata": {},
     "output_type": "display_data"
    },
    {
     "name": "stdout",
     "output_type": "stream",
     "text": [
      "per_planta Ver Histórico antes de la Ley N° 20.285\n",
      "could not get breadcrumbs from http://www.interior.gov.cl/transparenciahistorico/sgi/58/dotacionplanta.html\n",
      "per_planta 2018\n",
      "could not get breadcrumbs from http://www.interior.gov.cl/transparenciaactiva/sgi/58/dotacionplanta_2018.html\n",
      "per_planta 2017\n",
      "per_planta 2016\n",
      "per_planta 2015\n",
      "per_planta 2014\n",
      "per_planta 2013\n",
      "per_planta 2012\n",
      "per_planta 2011\n",
      "per_planta 2010\n",
      "per_planta 2009\n",
      "per_contrata Ver Histórico antes de la Ley N° 20.285\n",
      "could not get breadcrumbs from http://www.interior.gov.cl/transparenciahistorico/sgi/58/dotacioncontrata.html\n",
      "per_contrata 2018\n",
      "could not get breadcrumbs from http://www.interior.gov.cl/transparenciaactiva/sgi/58/dotacioncontrata_2018.html\n",
      "per_contrata 2017\n",
      "per_contrata 2016\n",
      "per_contrata 2015\n",
      "per_contrata 2014\n",
      "per_contrata 2013\n",
      "per_contrata 2012\n",
      "per_contrata 2011\n",
      "per_contrata 2010\n",
      "per_contrata 2009\n",
      "\n",
      "Gobernación de Curicó\n"
     ]
    },
    {
     "data": {
      "application/vnd.jupyter.widget-view+json": {
       "model_id": "50ba1a2039a14628bf7923ada0a0ef56",
       "version_major": 2,
       "version_minor": 0
      },
      "text/plain": [
       "A Jupyter Widget"
      ]
     },
     "metadata": {},
     "output_type": "display_data"
    },
    {
     "name": "stdout",
     "output_type": "stream",
     "text": [
      "per_planta Ver Histórico antes de la Ley N° 20.285\n",
      "could not get breadcrumbs from http://www.interior.gov.cl/transparenciahistorico/sgi/60/dotacionplanta.html\n",
      "per_planta 2018\n",
      "could not get breadcrumbs from http://www.interior.gov.cl/transparenciaactiva/sgi/60/dotacionplanta_2018.html\n",
      "per_planta 2017\n",
      "per_planta 2016\n",
      "per_planta 2015\n",
      "per_planta 2014\n",
      "per_planta 2013\n",
      "per_planta 2012\n",
      "per_planta 2011\n",
      "per_planta 2010\n",
      "per_planta 2009\n",
      "per_contrata Ver Histórico antes de la Ley N° 20.285\n",
      "could not get breadcrumbs from http://www.interior.gov.cl/transparenciahistorico/sgi/60/dotacioncontrata.html\n",
      "per_contrata 2018\n",
      "could not get breadcrumbs from http://www.interior.gov.cl/transparenciaactiva/sgi/60/dotacioncontrata_2018.html\n",
      "per_contrata 2017\n",
      "per_contrata 2016\n",
      "per_contrata 2015\n",
      "per_contrata 2014\n",
      "per_contrata 2013\n",
      "per_contrata 2012\n",
      "per_contrata 2011\n",
      "per_contrata 2010\n",
      "per_contrata 2009\n",
      "\n",
      "Gobernación de Talca\n"
     ]
    },
    {
     "data": {
      "application/vnd.jupyter.widget-view+json": {
       "model_id": "5eb8e0f48f49491b9c32fcd6db257cfd",
       "version_major": 2,
       "version_minor": 0
      },
      "text/plain": [
       "A Jupyter Widget"
      ]
     },
     "metadata": {},
     "output_type": "display_data"
    },
    {
     "name": "stdout",
     "output_type": "stream",
     "text": [
      "per_planta Ver Histórico antes de la Ley N° 20.285\n",
      "could not get breadcrumbs from http://www.interior.gov.cl/transparenciahistorico/sgi/59/dotacionplanta.html\n",
      "per_planta 2018\n",
      "could not get breadcrumbs from http://www.interior.gov.cl/transparenciaactiva/sgi/59/dotacionplanta_2018.html\n",
      "per_planta 2017\n",
      "per_planta 2016\n",
      "per_planta 2015\n",
      "per_planta 2014\n",
      "per_planta 2013\n",
      "per_planta 2012\n",
      "per_planta 2011\n",
      "per_planta 2010\n",
      "per_planta 2009\n",
      "per_contrata Ver Histórico antes de la Ley N° 20.285\n",
      "could not get breadcrumbs from http://www.interior.gov.cl/transparenciahistorico/sgi/59/dotacioncontrata.html\n",
      "per_contrata 2018\n",
      "could not get breadcrumbs from http://www.interior.gov.cl/transparenciaactiva/sgi/59/dotacioncontrata_2018.html\n",
      "per_contrata 2017\n",
      "per_contrata 2016\n",
      "per_contrata 2015\n",
      "per_contrata 2014\n",
      "per_contrata 2013\n",
      "per_contrata 2012\n",
      "per_contrata 2011\n",
      "per_contrata 2010\n",
      "per_contrata 2009\n",
      "\n",
      "Gobernación de Linares\n"
     ]
    },
    {
     "data": {
      "application/vnd.jupyter.widget-view+json": {
       "model_id": "d2df6d13c9d34616876aec41462d1b3c",
       "version_major": 2,
       "version_minor": 0
      },
      "text/plain": [
       "A Jupyter Widget"
      ]
     },
     "metadata": {},
     "output_type": "display_data"
    },
    {
     "name": "stdout",
     "output_type": "stream",
     "text": [
      "per_planta Ver Histórico antes de la Ley N° 20.285\n",
      "could not get breadcrumbs from http://www.interior.gov.cl/transparenciahistorico/sgi/61/dotacionplanta.html\n",
      "per_planta 2018\n",
      "could not get breadcrumbs from http://www.interior.gov.cl/transparenciaactiva/sgi/61/dotacionplanta_2018.html\n",
      "per_planta 2017\n",
      "per_planta 2016\n",
      "per_planta 2015\n",
      "per_planta 2014\n",
      "per_planta 2013\n",
      "per_planta 2012\n",
      "per_planta 2011\n",
      "per_planta 2010\n",
      "per_planta 2009\n",
      "per_contrata Ver Histórico antes de la Ley N° 20.285\n",
      "could not get breadcrumbs from http://www.interior.gov.cl/transparenciahistorico/sgi/61/dotacioncontrata.html\n",
      "per_contrata 2018\n",
      "could not get breadcrumbs from http://www.interior.gov.cl/transparenciaactiva/sgi/61/dotacioncontrata_2018.html\n",
      "per_contrata 2017\n",
      "per_contrata 2016\n",
      "per_contrata 2015\n",
      "per_contrata 2014\n",
      "per_contrata 2013\n",
      "per_contrata 2012\n",
      "per_contrata 2011\n",
      "per_contrata 2010\n",
      "per_contrata 2009\n",
      "\n",
      "Gobernación de Cauquenes\n"
     ]
    },
    {
     "data": {
      "application/vnd.jupyter.widget-view+json": {
       "model_id": "7540c856780b4d5daa0453dac635676e",
       "version_major": 2,
       "version_minor": 0
      },
      "text/plain": [
       "A Jupyter Widget"
      ]
     },
     "metadata": {},
     "output_type": "display_data"
    },
    {
     "name": "stdout",
     "output_type": "stream",
     "text": [
      "per_planta Ver Histórico antes de la Ley N° 20.285\n",
      "could not get breadcrumbs from http://www.interior.gov.cl/transparenciahistorico/sgi/62/dotacionplanta.html\n",
      "per_planta 2018\n",
      "could not get breadcrumbs from http://www.interior.gov.cl/transparenciaactiva/sgi/62/dotacionplanta_2018.html\n",
      "per_planta 2017\n",
      "per_planta 2016\n",
      "per_planta 2015\n",
      "per_planta 2014\n",
      "per_planta 2013\n",
      "per_planta 2012\n",
      "per_planta 2011\n",
      "per_planta 2010\n",
      "per_planta 2009\n",
      "per_contrata Ver Histórico antes de la Ley N° 20.285\n",
      "could not get breadcrumbs from http://www.interior.gov.cl/transparenciahistorico/sgi/62/dotacioncontrata.html\n",
      "per_contrata 2018\n",
      "could not get breadcrumbs from http://www.interior.gov.cl/transparenciaactiva/sgi/62/dotacioncontrata_2018.html\n",
      "per_contrata 2017\n",
      "per_contrata 2016\n",
      "per_contrata 2015\n",
      "per_contrata 2014\n",
      "per_contrata 2013\n",
      "per_contrata 2012\n",
      "per_contrata 2011\n",
      "per_contrata 2010\n",
      "per_contrata 2009\n",
      "\n",
      "Gobernación de Ñuble\n"
     ]
    },
    {
     "data": {
      "application/vnd.jupyter.widget-view+json": {
       "model_id": "2ca950efb279418dbe1a0aaf3125456f",
       "version_major": 2,
       "version_minor": 0
      },
      "text/plain": [
       "A Jupyter Widget"
      ]
     },
     "metadata": {},
     "output_type": "display_data"
    },
    {
     "name": "stdout",
     "output_type": "stream",
     "text": [
      "per_planta Ver Histórico antes de la Ley N° 20.285\n",
      "could not get breadcrumbs from http://www.interior.gov.cl/transparenciahistorico/sgi/64/dotacionplanta.html\n",
      "per_planta 2018\n",
      "could not get breadcrumbs from http://www.interior.gov.cl/transparenciaactiva/sgi/64/dotacionplanta_2018.html\n",
      "per_planta 2017\n",
      "per_planta 2016\n",
      "per_planta 2015\n",
      "per_planta 2014\n",
      "per_planta 2013\n",
      "per_planta 2012\n",
      "per_planta 2011\n",
      "per_planta 2010\n",
      "per_planta 2009\n",
      "per_contrata Ver Histórico antes de la Ley N° 20.285\n",
      "could not get breadcrumbs from http://www.interior.gov.cl/transparenciahistorico/sgi/64/dotacioncontrata.html\n",
      "per_contrata 2018\n",
      "could not get breadcrumbs from http://www.interior.gov.cl/transparenciaactiva/sgi/64/dotacioncontrata_2018.html\n",
      "per_contrata 2017\n",
      "per_contrata 2016\n",
      "per_contrata 2015\n",
      "per_contrata 2014\n",
      "per_contrata 2013\n",
      "per_contrata 2012\n",
      "per_contrata 2011\n",
      "per_contrata 2010\n",
      "per_contrata 2009\n",
      "\n",
      "Gobernación del Bío Bío\n"
     ]
    },
    {
     "data": {
      "application/vnd.jupyter.widget-view+json": {
       "model_id": "3a9f64edd7264f5683ce64961226d220",
       "version_major": 2,
       "version_minor": 0
      },
      "text/plain": [
       "A Jupyter Widget"
      ]
     },
     "metadata": {},
     "output_type": "display_data"
    },
    {
     "name": "stdout",
     "output_type": "stream",
     "text": [
      "per_planta Ver Histórico antes de la Ley N° 20.285\n",
      "could not get breadcrumbs from http://www.interior.gov.cl/transparenciahistorico/sgi/65/dotacionplanta.html\n",
      "per_planta 2018\n",
      "could not get breadcrumbs from http://www.interior.gov.cl/transparenciaactiva/sgi/65/dotacionplanta_2018.html\n",
      "per_planta 2017\n",
      "per_planta 2016\n",
      "per_planta 2015\n",
      "per_planta 2014\n",
      "per_planta 2013\n",
      "per_planta 2012\n",
      "per_planta 2011\n",
      "per_planta 2010\n",
      "per_planta 2009\n",
      "per_contrata Ver Histórico antes de la Ley N° 20.285\n",
      "could not get breadcrumbs from http://www.interior.gov.cl/transparenciahistorico/sgi/65/dotacioncontrata.html\n",
      "per_contrata 2018\n",
      "could not get breadcrumbs from http://www.interior.gov.cl/transparenciaactiva/sgi/65/dotacioncontrata_2018.html\n",
      "per_contrata 2017\n",
      "per_contrata 2016\n",
      "per_contrata 2015\n",
      "per_contrata 2014\n",
      "per_contrata 2013\n",
      "per_contrata 2012\n",
      "per_contrata 2011\n",
      "per_contrata 2010\n",
      "per_contrata 2009\n",
      "\n",
      "Gobernación de Concepción\n"
     ]
    },
    {
     "data": {
      "application/vnd.jupyter.widget-view+json": {
       "model_id": "b24f8ec7fb6640a7af0e66dce5e76f95",
       "version_major": 2,
       "version_minor": 0
      },
      "text/plain": [
       "A Jupyter Widget"
      ]
     },
     "metadata": {},
     "output_type": "display_data"
    },
    {
     "name": "stdout",
     "output_type": "stream",
     "text": [
      "per_planta Ver Histórico antes de la Ley N° 20.285\n",
      "could not get breadcrumbs from http://www.interior.gov.cl/transparenciahistorico/sgi/63/dotacionplanta.html\n",
      "per_planta 2018\n",
      "could not get breadcrumbs from http://www.interior.gov.cl/transparenciaactiva/sgi/63/dotacionplanta_2018.html\n",
      "per_planta 2017\n",
      "per_planta 2016\n",
      "per_planta 2015\n",
      "per_planta 2014\n",
      "per_planta 2013\n",
      "per_planta 2012\n",
      "per_planta 2011\n",
      "per_planta 2010\n",
      "per_planta 2009\n",
      "per_contrata Ver Histórico antes de la Ley N° 20.285\n",
      "could not get breadcrumbs from http://www.interior.gov.cl/transparenciahistorico/sgi/63/dotacioncontrata.html\n",
      "per_contrata 2018\n",
      "could not get breadcrumbs from http://www.interior.gov.cl/transparenciaactiva/sgi/63/dotacioncontrata_2018.html\n",
      "per_contrata 2017\n",
      "per_contrata 2016\n",
      "per_contrata 2015\n",
      "per_contrata 2014\n",
      "per_contrata 2013\n",
      "per_contrata 2012\n",
      "per_contrata 2011\n",
      "per_contrata 2010\n",
      "per_contrata 2009\n",
      "\n",
      "Gobernación de Arauco\n"
     ]
    },
    {
     "data": {
      "application/vnd.jupyter.widget-view+json": {
       "model_id": "1e2f8658f1004350b0455352599c30b9",
       "version_major": 2,
       "version_minor": 0
      },
      "text/plain": [
       "A Jupyter Widget"
      ]
     },
     "metadata": {},
     "output_type": "display_data"
    },
    {
     "name": "stdout",
     "output_type": "stream",
     "text": [
      "per_planta Ver Histórico antes de la Ley N° 20.285\n",
      "could not get breadcrumbs from http://www.interior.gov.cl/transparenciahistorico/sgi/66/dotacionplanta.html\n",
      "per_planta 2018\n",
      "could not get breadcrumbs from http://www.interior.gov.cl/transparenciaactiva/sgi/66/dotacionplanta_2018.html\n",
      "per_planta 2017\n",
      "per_planta 2016\n",
      "per_planta 2015\n",
      "per_planta 2014\n",
      "per_planta 2013\n",
      "per_planta 2012\n",
      "per_planta 2011\n",
      "per_planta 2010\n",
      "per_planta 2009\n",
      "per_contrata Ver Histórico antes de la Ley N° 20.285\n",
      "could not get breadcrumbs from http://www.interior.gov.cl/transparenciahistorico/sgi/66/dotacioncontrata.html\n",
      "per_contrata 2018\n",
      "could not get breadcrumbs from http://www.interior.gov.cl/transparenciaactiva/sgi/66/dotacioncontrata_2018.html\n",
      "per_contrata 2017\n",
      "per_contrata 2016\n",
      "per_contrata 2015\n",
      "per_contrata 2014\n",
      "per_contrata 2013\n",
      "per_contrata 2012\n",
      "per_contrata 2011\n",
      "per_contrata 2010\n",
      "per_contrata 2009\n",
      "\n",
      "Gobernación de Malleco\n"
     ]
    },
    {
     "data": {
      "application/vnd.jupyter.widget-view+json": {
       "model_id": "4b8a55a9fa9949d0a22818735bce0e2b",
       "version_major": 2,
       "version_minor": 0
      },
      "text/plain": [
       "A Jupyter Widget"
      ]
     },
     "metadata": {},
     "output_type": "display_data"
    },
    {
     "name": "stdout",
     "output_type": "stream",
     "text": [
      "per_planta Ver Histórico antes de la Ley N° 20.285\n",
      "could not get breadcrumbs from http://www.interior.gov.cl/transparenciahistorico/sgi/68/dotacionplanta.html\n",
      "per_planta 2018\n",
      "could not get breadcrumbs from http://www.interior.gov.cl/transparenciaactiva/sgi/68/dotacionplanta_2018.html\n",
      "per_planta 2017\n",
      "per_planta 2016\n",
      "per_planta 2015\n",
      "per_planta 2014\n",
      "per_planta 2013\n",
      "per_planta 2012\n",
      "per_planta 2011\n",
      "per_planta 2010\n",
      "per_planta 2009\n",
      "per_contrata Ver Histórico antes de la Ley N° 20.285\n",
      "could not get breadcrumbs from http://www.interior.gov.cl/transparenciahistorico/sgi/68/dotacioncontrata.html\n",
      "per_contrata 2018\n",
      "could not get breadcrumbs from http://www.interior.gov.cl/transparenciaactiva/sgi/68/dotacioncontrata_2018.html\n",
      "per_contrata 2017\n",
      "per_contrata 2016\n",
      "per_contrata 2015\n",
      "per_contrata 2014\n",
      "per_contrata 2013\n",
      "per_contrata 2012\n",
      "per_contrata 2011\n",
      "per_contrata 2010\n",
      "per_contrata 2009\n",
      "\n",
      "Gobernación de Cautín\n"
     ]
    },
    {
     "data": {
      "application/vnd.jupyter.widget-view+json": {
       "model_id": "9f96f9cf6cbf442bacde14245f0b4d50",
       "version_major": 2,
       "version_minor": 0
      },
      "text/plain": [
       "A Jupyter Widget"
      ]
     },
     "metadata": {},
     "output_type": "display_data"
    },
    {
     "name": "stdout",
     "output_type": "stream",
     "text": [
      "per_planta Ver Histórico antes de la Ley N° 20.285\n",
      "could not get breadcrumbs from http://www.interior.gov.cl/transparenciahistorico/sgi/67/dotacionplanta.html\n",
      "per_planta 2018\n",
      "could not get breadcrumbs from http://www.interior.gov.cl/transparenciaactiva/sgi/67/dotacionplanta_2018.html\n",
      "per_planta 2017\n",
      "per_planta 2016\n",
      "per_planta 2015\n",
      "per_planta 2014\n",
      "per_planta 2013\n",
      "per_planta 2012\n",
      "per_planta 2011\n",
      "per_planta 2010\n",
      "per_planta 2009\n",
      "per_contrata Ver Histórico antes de la Ley N° 20.285\n",
      "could not get breadcrumbs from http://www.interior.gov.cl/transparenciahistorico/sgi/67/dotacioncontrata.html\n",
      "per_contrata 2018\n",
      "could not get breadcrumbs from http://www.interior.gov.cl/transparenciaactiva/sgi/67/dotacioncontrata_2018.html\n",
      "per_contrata 2017\n",
      "per_contrata 2016\n",
      "per_contrata 2015\n",
      "per_contrata 2014\n",
      "per_contrata 2013\n",
      "per_contrata 2012\n",
      "per_contrata 2011\n",
      "per_contrata 2010\n",
      "per_contrata 2009\n",
      "\n",
      "Gobernación de Valdivia\n"
     ]
    },
    {
     "data": {
      "application/vnd.jupyter.widget-view+json": {
       "model_id": "0f9087a7f03349da9c24c3e9a92ca642",
       "version_major": 2,
       "version_minor": 0
      },
      "text/plain": [
       "A Jupyter Widget"
      ]
     },
     "metadata": {},
     "output_type": "display_data"
    },
    {
     "name": "stdout",
     "output_type": "stream",
     "text": [
      "per_planta Ver Histórico antes de la Ley N° 20.285\n",
      "could not get breadcrumbs from http://www.interior.gov.cl/transparenciahistorico/sgi/70/dotacionplanta.html\n",
      "per_planta 2018\n",
      "could not get breadcrumbs from http://www.interior.gov.cl/transparenciaactiva/sgi/70/dotacionplanta_2018.html\n",
      "per_planta 2017\n",
      "per_planta 2016\n",
      "per_planta 2015\n",
      "per_planta 2014\n",
      "per_planta 2013\n",
      "per_planta 2012\n",
      "per_planta 2011\n",
      "per_planta 2010\n",
      "per_planta 2009\n",
      "per_contrata Ver Histórico antes de la Ley N° 20.285\n",
      "could not get breadcrumbs from http://www.interior.gov.cl/transparenciahistorico/sgi/70/dotacioncontrata.html\n",
      "per_contrata 2018\n",
      "could not get breadcrumbs from http://www.interior.gov.cl/transparenciaactiva/sgi/70/dotacioncontrata_2018.html\n",
      "per_contrata 2017\n",
      "per_contrata 2016\n",
      "per_contrata 2015\n",
      "per_contrata 2014\n",
      "per_contrata 2013\n",
      "per_contrata 2012\n",
      "per_contrata 2011\n",
      "per_contrata 2010\n",
      "per_contrata 2009\n",
      "\n",
      "Gobernación de Ranco\n"
     ]
    },
    {
     "data": {
      "application/vnd.jupyter.widget-view+json": {
       "model_id": "d2762179c08e49c09a5c2fad909b61ca",
       "version_major": 2,
       "version_minor": 0
      },
      "text/plain": [
       "A Jupyter Widget"
      ]
     },
     "metadata": {},
     "output_type": "display_data"
    },
    {
     "name": "stdout",
     "output_type": "stream",
     "text": [
      "per_planta Ver Histórico antes de la Ley N° 20.285\n",
      "could not get breadcrumbs from http://www.interior.gov.cl/transparenciahistorico/sgi/124/dotacionplanta.html\n",
      "per_planta 2018\n",
      "could not get breadcrumbs from http://www.interior.gov.cl/transparenciaactiva/sgi/124/dotacionplanta_2018.html\n",
      "per_planta 2017\n",
      "per_planta 2016\n",
      "per_planta 2015\n",
      "per_planta 2014\n",
      "per_planta 2013\n",
      "per_planta 2012\n",
      "per_planta 2011\n",
      "per_planta 2010\n",
      "per_planta 2009\n",
      "per_contrata Ver Histórico antes de la Ley N° 20.285\n",
      "could not get breadcrumbs from http://www.interior.gov.cl/transparenciahistorico/sgi/124/dotacioncontrata.html\n",
      "per_contrata 2018\n",
      "could not get breadcrumbs from http://www.interior.gov.cl/transparenciaactiva/sgi/124/dotacioncontrata_2018.html\n",
      "per_contrata 2017\n",
      "per_contrata 2016\n",
      "per_contrata 2015\n",
      "per_contrata 2014\n",
      "per_contrata 2013\n",
      "per_contrata 2012\n",
      "per_contrata 2011\n",
      "per_contrata 2010\n",
      "per_contrata 2009\n",
      "\n",
      "Gobernación de Osorno\n"
     ]
    },
    {
     "data": {
      "application/vnd.jupyter.widget-view+json": {
       "model_id": "e9f8475991e44a7084dbdea668403019",
       "version_major": 2,
       "version_minor": 0
      },
      "text/plain": [
       "A Jupyter Widget"
      ]
     },
     "metadata": {},
     "output_type": "display_data"
    },
    {
     "name": "stdout",
     "output_type": "stream",
     "text": [
      "per_planta Ver Histórico antes de la Ley N° 20.285\n",
      "could not get breadcrumbs from http://www.interior.gov.cl/transparenciahistorico/sgi/71/dotacionplanta.html\n",
      "per_planta 2018\n",
      "could not get breadcrumbs from http://www.interior.gov.cl/transparenciaactiva/sgi/71/dotacionplanta_2018.html\n",
      "per_planta 2017\n",
      "per_planta 2016\n",
      "per_planta 2015\n",
      "per_planta 2014\n",
      "per_planta 2013\n",
      "per_planta 2012\n",
      "per_planta 2011\n",
      "per_planta 2010\n",
      "per_planta 2009\n",
      "per_contrata Ver Histórico antes de la Ley N° 20.285\n",
      "could not get breadcrumbs from http://www.interior.gov.cl/transparenciahistorico/sgi/71/dotacioncontrata.html\n",
      "per_contrata 2018\n",
      "could not get breadcrumbs from http://www.interior.gov.cl/transparenciaactiva/sgi/71/dotacioncontrata_2018.html\n",
      "per_contrata 2017\n",
      "per_contrata 2016\n",
      "per_contrata 2015\n",
      "per_contrata 2014\n",
      "per_contrata 2013\n",
      "per_contrata 2012\n",
      "per_contrata 2011\n",
      "per_contrata 2010\n",
      "per_contrata 2009\n",
      "\n",
      "Gobernación de Llanquihue\n"
     ]
    },
    {
     "data": {
      "application/vnd.jupyter.widget-view+json": {
       "model_id": "f27be6521aa0445e9b5d456095cf3d93",
       "version_major": 2,
       "version_minor": 0
      },
      "text/plain": [
       "A Jupyter Widget"
      ]
     },
     "metadata": {},
     "output_type": "display_data"
    },
    {
     "name": "stdout",
     "output_type": "stream",
     "text": [
      "per_planta Ver Histórico antes de la Ley N° 20.285\n",
      "could not get breadcrumbs from http://www.interior.gov.cl/transparenciahistorico/sgi/69/dotacionplanta.html\n",
      "per_planta 2018\n",
      "could not get breadcrumbs from http://www.interior.gov.cl/transparenciaactiva/sgi/69/dotacionplanta_2018.html\n",
      "per_planta 2017\n",
      "per_planta 2016\n",
      "per_planta 2015\n",
      "per_planta 2014\n",
      "per_planta 2013\n",
      "per_planta 2012\n",
      "per_planta 2011\n",
      "per_planta 2010\n",
      "per_planta 2009\n",
      "per_contrata Ver Histórico antes de la Ley N° 20.285\n",
      "could not get breadcrumbs from http://www.interior.gov.cl/transparenciahistorico/sgi/69/dotacioncontrata.html\n",
      "per_contrata 2018\n",
      "could not get breadcrumbs from http://www.interior.gov.cl/transparenciaactiva/sgi/69/dotacioncontrata_2018.html\n",
      "per_contrata 2017\n",
      "per_contrata 2016\n",
      "per_contrata 2015\n",
      "per_contrata 2014\n",
      "per_contrata 2013\n",
      "per_contrata 2012\n",
      "per_contrata 2011\n",
      "per_contrata 2010\n",
      "per_contrata 2009\n",
      "\n",
      "Gobernación de Chiloé\n"
     ]
    },
    {
     "data": {
      "application/vnd.jupyter.widget-view+json": {
       "model_id": "79632b62224b48a3bad5674191755117",
       "version_major": 2,
       "version_minor": 0
      },
      "text/plain": [
       "A Jupyter Widget"
      ]
     },
     "metadata": {},
     "output_type": "display_data"
    },
    {
     "name": "stdout",
     "output_type": "stream",
     "text": [
      "per_planta Ver Histórico antes de la Ley N° 20.285\n",
      "could not get breadcrumbs from http://www.interior.gov.cl/transparenciahistorico/sgi/72/dotacionplanta.html\n",
      "per_planta 2018\n",
      "could not get breadcrumbs from http://www.interior.gov.cl/transparenciaactiva/sgi/72/dotacionplanta_2018.html\n",
      "per_planta 2017\n",
      "per_planta 2016\n",
      "per_planta 2015\n",
      "per_planta 2014\n",
      "per_planta 2013\n",
      "per_planta 2012\n",
      "per_planta 2011\n",
      "per_planta 2010\n",
      "per_planta 2009\n",
      "per_contrata Ver Histórico antes de la Ley N° 20.285\n",
      "could not get breadcrumbs from http://www.interior.gov.cl/transparenciahistorico/sgi/72/dotacioncontrata.html\n",
      "per_contrata 2018\n",
      "could not get breadcrumbs from http://www.interior.gov.cl/transparenciaactiva/sgi/72/dotacioncontrata_2018.html\n",
      "per_contrata 2017\n",
      "per_contrata 2016\n",
      "per_contrata 2015\n",
      "per_contrata 2014\n",
      "per_contrata 2013\n",
      "per_contrata 2012\n",
      "per_contrata 2011\n",
      "per_contrata 2010\n",
      "per_contrata 2009\n",
      "\n",
      "Gobernación de Palena\n"
     ]
    },
    {
     "data": {
      "application/vnd.jupyter.widget-view+json": {
       "model_id": "e89456e8ea1c44dc9ee5203286e543ce",
       "version_major": 2,
       "version_minor": 0
      },
      "text/plain": [
       "A Jupyter Widget"
      ]
     },
     "metadata": {},
     "output_type": "display_data"
    },
    {
     "name": "stdout",
     "output_type": "stream",
     "text": [
      "per_planta Ver Histórico antes de la Ley N° 20.285\n",
      "could not get breadcrumbs from http://www.interior.gov.cl/transparenciahistorico/sgi/73/dotacionplanta.html\n",
      "per_planta 2018\n",
      "could not get breadcrumbs from http://www.interior.gov.cl/transparenciaactiva/sgi/73/dotacionplanta_2018.html\n",
      "per_planta 2017\n",
      "per_planta 2016\n",
      "per_planta 2015\n",
      "per_planta 2014\n",
      "per_planta 2013\n",
      "per_planta 2012\n",
      "per_planta 2011\n",
      "per_planta 2010\n",
      "per_planta 2009\n",
      "per_contrata Ver Histórico antes de la Ley N° 20.285\n",
      "could not get breadcrumbs from http://www.interior.gov.cl/transparenciahistorico/sgi/73/dotacioncontrata.html\n",
      "per_contrata 2018\n",
      "could not get breadcrumbs from http://www.interior.gov.cl/transparenciaactiva/sgi/73/dotacioncontrata_2018.html\n",
      "per_contrata 2017\n",
      "per_contrata 2016\n",
      "per_contrata 2015\n",
      "per_contrata 2014\n",
      "per_contrata 2013\n",
      "per_contrata 2012\n",
      "per_contrata 2011\n",
      "per_contrata 2010\n",
      "per_contrata 2009\n",
      "\n",
      "Gobernación de Coyhaique\n"
     ]
    },
    {
     "data": {
      "application/vnd.jupyter.widget-view+json": {
       "model_id": "70ec04d6f42a4f05b41bb08b87fdaa10",
       "version_major": 2,
       "version_minor": 0
      },
      "text/plain": [
       "A Jupyter Widget"
      ]
     },
     "metadata": {},
     "output_type": "display_data"
    },
    {
     "name": "stdout",
     "output_type": "stream",
     "text": [
      "per_planta Ver Histórico antes de la Ley N° 20.285\n",
      "could not get breadcrumbs from http://www.interior.gov.cl/transparenciahistorico/sgi/74/dotacionplanta.html\n",
      "per_planta 2018\n",
      "could not get breadcrumbs from http://www.interior.gov.cl/transparenciaactiva/sgi/74/dotacionplanta_2018.html\n",
      "per_planta 2017\n",
      "per_planta 2016\n",
      "per_planta 2015\n",
      "per_planta 2014\n",
      "per_planta 2013\n",
      "per_planta 2012\n",
      "per_planta 2011\n",
      "per_planta 2010\n",
      "per_planta 2009\n",
      "per_contrata Ver Histórico antes de la Ley N° 20.285\n",
      "could not get breadcrumbs from http://www.interior.gov.cl/transparenciahistorico/sgi/74/dotacioncontrata.html\n",
      "per_contrata 2018\n",
      "could not get breadcrumbs from http://www.interior.gov.cl/transparenciaactiva/sgi/74/dotacioncontrata_2018.html\n",
      "per_contrata 2017\n",
      "per_contrata 2016\n",
      "per_contrata 2015\n",
      "per_contrata 2014\n",
      "per_contrata 2013\n",
      "per_contrata 2012\n",
      "per_contrata 2011\n",
      "per_contrata 2010\n",
      "per_contrata 2009\n",
      "\n",
      "Gobernación de Puerto Aysén\n"
     ]
    },
    {
     "data": {
      "application/vnd.jupyter.widget-view+json": {
       "model_id": "bd1ade3e1089461cb93462514ca31d6a",
       "version_major": 2,
       "version_minor": 0
      },
      "text/plain": [
       "A Jupyter Widget"
      ]
     },
     "metadata": {},
     "output_type": "display_data"
    },
    {
     "name": "stdout",
     "output_type": "stream",
     "text": [
      "per_planta Ver Histórico antes de la Ley N° 20.285\n",
      "could not get breadcrumbs from http://www.interior.gov.cl/transparenciahistorico/sgi/75/dotacionplanta.html\n",
      "per_planta 2018\n",
      "could not get breadcrumbs from http://www.interior.gov.cl/transparenciaactiva/sgi/75/dotacionplanta_2018.html\n",
      "per_planta 2017\n",
      "per_planta 2016\n",
      "per_planta 2015\n",
      "per_planta 2014\n",
      "per_planta 2013\n",
      "per_planta 2012\n",
      "per_planta 2011\n",
      "per_planta 2010\n",
      "per_planta 2009\n",
      "per_contrata Ver Histórico antes de la Ley N° 20.285\n",
      "could not get breadcrumbs from http://www.interior.gov.cl/transparenciahistorico/sgi/75/dotacioncontrata.html\n",
      "per_contrata 2018\n",
      "could not get breadcrumbs from http://www.interior.gov.cl/transparenciaactiva/sgi/75/dotacioncontrata_2018.html\n",
      "per_contrata 2017\n",
      "per_contrata 2016\n",
      "per_contrata 2015\n",
      "per_contrata 2014\n",
      "per_contrata 2013\n",
      "per_contrata 2012\n",
      "per_contrata 2011\n",
      "per_contrata 2010\n",
      "per_contrata 2009\n",
      "\n",
      "Gobernación de General Carrera\n"
     ]
    },
    {
     "data": {
      "application/vnd.jupyter.widget-view+json": {
       "model_id": "119121a7008d4b74b1081a102f59c740",
       "version_major": 2,
       "version_minor": 0
      },
      "text/plain": [
       "A Jupyter Widget"
      ]
     },
     "metadata": {},
     "output_type": "display_data"
    },
    {
     "name": "stdout",
     "output_type": "stream",
     "text": [
      "per_planta Ver Histórico antes de la Ley N° 20.285\n",
      "could not get breadcrumbs from http://www.interior.gov.cl/transparenciahistorico/sgi/76/dotacionplanta.html\n",
      "per_planta 2018\n",
      "could not get breadcrumbs from http://www.interior.gov.cl/transparenciaactiva/sgi/76/dotacionplanta_2018.html\n",
      "per_planta 2017\n",
      "per_planta 2016\n",
      "per_planta 2015\n",
      "per_planta 2014\n",
      "per_planta 2013\n",
      "per_planta 2012\n",
      "per_planta 2011\n",
      "per_planta 2010\n",
      "per_planta 2009\n",
      "per_contrata Ver Histórico antes de la Ley N° 20.285\n",
      "could not get breadcrumbs from http://www.interior.gov.cl/transparenciahistorico/sgi/76/dotacioncontrata.html\n",
      "per_contrata 2018\n",
      "could not get breadcrumbs from http://www.interior.gov.cl/transparenciaactiva/sgi/76/dotacioncontrata_2018.html\n",
      "per_contrata 2017\n",
      "per_contrata 2016\n",
      "per_contrata 2015\n",
      "per_contrata 2014\n",
      "per_contrata 2013\n",
      "per_contrata 2012\n",
      "per_contrata 2011\n",
      "per_contrata 2010\n",
      "per_contrata 2009\n",
      "\n",
      "Gobernación de Capitán Prat\n"
     ]
    },
    {
     "data": {
      "application/vnd.jupyter.widget-view+json": {
       "model_id": "0a384c868f0f42acbd84e338539e9946",
       "version_major": 2,
       "version_minor": 0
      },
      "text/plain": [
       "A Jupyter Widget"
      ]
     },
     "metadata": {},
     "output_type": "display_data"
    },
    {
     "name": "stdout",
     "output_type": "stream",
     "text": [
      "per_planta Ver Histórico antes de la Ley N° 20.285\n",
      "could not get breadcrumbs from http://www.interior.gov.cl/transparenciahistorico/sgi/77/dotacionplanta.html\n",
      "per_planta 2018\n",
      "could not get breadcrumbs from http://www.interior.gov.cl/transparenciaactiva/sgi/77/dotacionplanta_2018.html\n",
      "per_planta 2017\n",
      "per_planta 2016\n",
      "per_planta 2015\n",
      "per_planta 2014\n",
      "per_planta 2013\n",
      "per_planta 2012\n",
      "per_planta 2011\n",
      "per_planta 2010\n",
      "per_planta 2009\n",
      "per_contrata Ver Histórico antes de la Ley N° 20.285\n",
      "could not get breadcrumbs from http://www.interior.gov.cl/transparenciahistorico/sgi/77/dotacioncontrata.html\n",
      "per_contrata 2018\n",
      "could not get breadcrumbs from http://www.interior.gov.cl/transparenciaactiva/sgi/77/dotacioncontrata_2018.html\n",
      "per_contrata 2017\n",
      "per_contrata 2016\n",
      "per_contrata 2015\n",
      "per_contrata 2014\n",
      "per_contrata 2013\n",
      "per_contrata 2012\n",
      "per_contrata 2011\n",
      "per_contrata 2010\n",
      "per_contrata 2009\n",
      "\n",
      "Gobernación de Última Esperanza\n"
     ]
    },
    {
     "data": {
      "application/vnd.jupyter.widget-view+json": {
       "model_id": "3e2a5fd2a9874e66ab4bd3c8c6704e9d",
       "version_major": 2,
       "version_minor": 0
      },
      "text/plain": [
       "A Jupyter Widget"
      ]
     },
     "metadata": {},
     "output_type": "display_data"
    },
    {
     "name": "stdout",
     "output_type": "stream",
     "text": [
      "per_planta Ver Histórico antes de la Ley N° 20.285\n",
      "could not get breadcrumbs from http://www.interior.gov.cl/transparenciahistorico/sgi/79/dotacionplanta.html\n",
      "per_planta 2018\n",
      "could not get breadcrumbs from http://www.interior.gov.cl/transparenciaactiva/sgi/79/dotacionplanta_2018.html\n",
      "per_planta 2017\n",
      "per_planta 2016\n",
      "per_planta 2015\n",
      "per_planta 2014\n",
      "per_planta 2013\n",
      "per_planta 2012\n",
      "per_planta 2011\n",
      "per_planta 2010\n",
      "per_planta 2009\n",
      "per_contrata Ver Histórico antes de la Ley N° 20.285\n",
      "could not get breadcrumbs from http://www.interior.gov.cl/transparenciahistorico/sgi/79/dotacioncontrata.html\n",
      "per_contrata 2018\n",
      "could not get breadcrumbs from http://www.interior.gov.cl/transparenciaactiva/sgi/79/dotacioncontrata_2018.html\n",
      "per_contrata 2017\n",
      "per_contrata 2016\n",
      "per_contrata 2015\n",
      "per_contrata 2014\n",
      "per_contrata 2013\n",
      "per_contrata 2012\n",
      "per_contrata 2011\n",
      "per_contrata 2010\n",
      "per_contrata 2009\n",
      "\n",
      "Gobernación de Magallanes\n"
     ]
    },
    {
     "data": {
      "application/vnd.jupyter.widget-view+json": {
       "model_id": "a137b577f19e4b7db16b723bc28e793b",
       "version_major": 2,
       "version_minor": 0
      },
      "text/plain": [
       "A Jupyter Widget"
      ]
     },
     "metadata": {},
     "output_type": "display_data"
    },
    {
     "name": "stdout",
     "output_type": "stream",
     "text": [
      "per_planta Ver Histórico antes de la Ley N° 20.285\n",
      "could not get breadcrumbs from http://www.interior.gov.cl/transparenciahistorico/sgi/78/dotacionplanta.html\n",
      "per_planta 2018\n",
      "could not get breadcrumbs from http://www.interior.gov.cl/transparenciaactiva/sgi/78/dotacionplanta_2018.html\n",
      "per_planta 2017\n",
      "per_planta 2016\n",
      "per_planta 2015\n",
      "per_planta 2014\n",
      "per_planta 2013\n",
      "per_planta 2012\n",
      "per_planta 2011\n",
      "per_planta 2010\n",
      "per_planta 2009\n",
      "per_contrata Ver Histórico antes de la Ley N° 20.285\n",
      "could not get breadcrumbs from http://www.interior.gov.cl/transparenciahistorico/sgi/78/dotacioncontrata.html\n",
      "per_contrata 2018\n",
      "could not get breadcrumbs from http://www.interior.gov.cl/transparenciaactiva/sgi/78/dotacioncontrata_2018.html\n",
      "per_contrata 2017\n",
      "per_contrata 2016\n",
      "per_contrata 2015\n",
      "per_contrata 2014\n",
      "per_contrata 2013\n",
      "per_contrata 2012\n",
      "per_contrata 2011\n",
      "per_contrata 2010\n",
      "per_contrata 2009\n",
      "\n",
      "Gobernación de Tierra del Fuego\n"
     ]
    },
    {
     "data": {
      "application/vnd.jupyter.widget-view+json": {
       "model_id": "5adbf174717d45e3b24d98a134fca60c",
       "version_major": 2,
       "version_minor": 0
      },
      "text/plain": [
       "A Jupyter Widget"
      ]
     },
     "metadata": {},
     "output_type": "display_data"
    },
    {
     "name": "stdout",
     "output_type": "stream",
     "text": [
      "per_planta Ver Histórico antes de la Ley N° 20.285\n",
      "could not get breadcrumbs from http://www.interior.gov.cl/transparenciahistorico/sgi/80/dotacionplanta.html\n",
      "per_planta 2018\n",
      "could not get breadcrumbs from http://www.interior.gov.cl/transparenciaactiva/sgi/80/dotacionplanta_2018.html\n",
      "per_planta 2017\n",
      "per_planta 2016\n",
      "per_planta 2015\n",
      "per_planta 2014\n",
      "per_planta 2013\n",
      "per_planta 2012\n",
      "per_planta 2011\n",
      "per_planta 2010\n",
      "per_planta 2009\n",
      "per_contrata Ver Histórico antes de la Ley N° 20.285\n",
      "could not get breadcrumbs from http://www.interior.gov.cl/transparenciahistorico/sgi/80/dotacioncontrata.html\n",
      "per_contrata 2018\n",
      "could not get breadcrumbs from http://www.interior.gov.cl/transparenciaactiva/sgi/80/dotacioncontrata_2018.html\n",
      "per_contrata 2017\n",
      "per_contrata 2016\n",
      "per_contrata 2015\n",
      "per_contrata 2014\n",
      "per_contrata 2013\n",
      "per_contrata 2012\n",
      "per_contrata 2011\n",
      "per_contrata 2010\n",
      "per_contrata 2009\n",
      "\n",
      "Gobernación de la Antártica Chilena\n"
     ]
    },
    {
     "data": {
      "application/vnd.jupyter.widget-view+json": {
       "model_id": "86acaa50341e44749382936d1a7d33fd",
       "version_major": 2,
       "version_minor": 0
      },
      "text/plain": [
       "A Jupyter Widget"
      ]
     },
     "metadata": {},
     "output_type": "display_data"
    },
    {
     "name": "stdout",
     "output_type": "stream",
     "text": [
      "per_planta Ver Histórico antes de la Ley N° 20.285\n",
      "could not get breadcrumbs from http://www.interior.gov.cl/transparenciahistorico/sgi/81/dotacionplanta.html\n",
      "per_planta 2018\n",
      "could not get breadcrumbs from http://www.interior.gov.cl/transparenciaactiva/sgi/81/dotacionplanta_2018.html\n",
      "per_planta 2017\n",
      "per_planta 2016\n",
      "per_planta 2015\n",
      "per_planta 2014\n",
      "per_planta 2013\n",
      "per_planta 2012\n",
      "per_planta 2011\n",
      "per_planta 2010\n",
      "per_planta 2009\n",
      "per_contrata Ver Histórico antes de la Ley N° 20.285\n",
      "could not get breadcrumbs from http://www.interior.gov.cl/transparenciahistorico/sgi/81/dotacioncontrata.html\n",
      "per_contrata 2018\n",
      "could not get breadcrumbs from http://www.interior.gov.cl/transparenciaactiva/sgi/81/dotacioncontrata_2018.html\n",
      "per_contrata 2017\n",
      "per_contrata 2016\n",
      "per_contrata 2015\n",
      "per_contrata 2014\n",
      "per_contrata 2013\n",
      "per_contrata 2012\n",
      "per_contrata 2011\n",
      "per_contrata 2010\n",
      "per_contrata 2009\n",
      "\n",
      "Gobernación de Chacabuco\n"
     ]
    },
    {
     "data": {
      "application/vnd.jupyter.widget-view+json": {
       "model_id": "d92df3a9b6d8441383907e6d260ae377",
       "version_major": 2,
       "version_minor": 0
      },
      "text/plain": [
       "A Jupyter Widget"
      ]
     },
     "metadata": {},
     "output_type": "display_data"
    },
    {
     "name": "stdout",
     "output_type": "stream",
     "text": [
      "per_planta Ver Histórico antes de la Ley N° 20.285\n",
      "could not get breadcrumbs from http://www.interior.gov.cl/transparenciahistorico/sgi/86/dotacionplanta.html\n",
      "per_planta 2018\n",
      "could not get breadcrumbs from http://www.interior.gov.cl/transparenciaactiva/sgi/86/dotacionplanta_2018.html\n",
      "per_planta 2017\n",
      "per_planta 2016\n",
      "per_planta 2015\n",
      "per_planta 2014\n",
      "per_planta 2013\n",
      "per_planta 2012\n",
      "per_planta 2011\n",
      "per_planta 2010\n",
      "per_planta 2009\n",
      "per_contrata Ver Histórico antes de la Ley N° 20.285\n",
      "could not get breadcrumbs from http://www.interior.gov.cl/transparenciahistorico/sgi/86/dotacioncontrata.html\n",
      "per_contrata 2018\n",
      "could not get breadcrumbs from http://www.interior.gov.cl/transparenciaactiva/sgi/86/dotacioncontrata_2018.html\n",
      "per_contrata 2017\n",
      "per_contrata 2016\n",
      "per_contrata 2015\n",
      "per_contrata 2014\n",
      "per_contrata 2013\n",
      "per_contrata 2012\n",
      "per_contrata 2011\n",
      "per_contrata 2010\n",
      "per_contrata 2009\n",
      "\n",
      "Gobernación de Cordillera\n"
     ]
    },
    {
     "data": {
      "application/vnd.jupyter.widget-view+json": {
       "model_id": "1583012cd30c42e48aae2cb37936e0c4",
       "version_major": 2,
       "version_minor": 0
      },
      "text/plain": [
       "A Jupyter Widget"
      ]
     },
     "metadata": {},
     "output_type": "display_data"
    },
    {
     "name": "stdout",
     "output_type": "stream",
     "text": [
      "per_planta Ver Histórico antes de la Ley N° 20.285\n",
      "could not get breadcrumbs from http://www.interior.gov.cl/transparenciahistorico/sgi/83/dotacionplanta.html\n",
      "per_planta 2018\n",
      "could not get breadcrumbs from http://www.interior.gov.cl/transparenciaactiva/sgi/83/dotacionplanta_2018.html\n",
      "per_planta 2017\n",
      "per_planta 2016\n",
      "per_planta 2015\n",
      "per_planta 2014\n",
      "per_planta 2013\n",
      "per_planta 2012\n",
      "per_planta 2011\n",
      "per_planta 2010\n",
      "per_planta 2009\n",
      "per_contrata Ver Histórico antes de la Ley N° 20.285\n",
      "could not get breadcrumbs from http://www.interior.gov.cl/transparenciahistorico/sgi/83/dotacioncontrata.html\n",
      "per_contrata 2018\n",
      "could not get breadcrumbs from http://www.interior.gov.cl/transparenciaactiva/sgi/83/dotacioncontrata_2018.html\n",
      "per_contrata 2017\n",
      "per_contrata 2016\n",
      "per_contrata 2015\n",
      "per_contrata 2014\n",
      "per_contrata 2013\n",
      "per_contrata 2012\n",
      "per_contrata 2011\n",
      "per_contrata 2010\n",
      "per_contrata 2009\n",
      "\n",
      "Gobernación de Maipo\n"
     ]
    },
    {
     "data": {
      "application/vnd.jupyter.widget-view+json": {
       "model_id": "db05f9aeb4434955a423a176cc9d18a8",
       "version_major": 2,
       "version_minor": 0
      },
      "text/plain": [
       "A Jupyter Widget"
      ]
     },
     "metadata": {},
     "output_type": "display_data"
    },
    {
     "name": "stdout",
     "output_type": "stream",
     "text": [
      "per_planta Ver Histórico antes de la Ley N° 20.285\n",
      "could not get breadcrumbs from http://www.interior.gov.cl/transparenciahistorico/sgi/82/dotacionplanta.html\n",
      "per_planta 2018\n",
      "could not get breadcrumbs from http://www.interior.gov.cl/transparenciaactiva/sgi/82/dotacionplanta_2018.html\n",
      "per_planta 2017\n",
      "per_planta 2016\n",
      "per_planta 2015\n",
      "per_planta 2014\n",
      "per_planta 2013\n",
      "per_planta 2012\n",
      "per_planta 2011\n",
      "per_planta 2010\n",
      "per_planta 2009\n",
      "per_contrata Ver Histórico antes de la Ley N° 20.285\n",
      "could not get breadcrumbs from http://www.interior.gov.cl/transparenciahistorico/sgi/82/dotacioncontrata.html\n",
      "per_contrata 2018\n",
      "could not get breadcrumbs from http://www.interior.gov.cl/transparenciaactiva/sgi/82/dotacioncontrata_2018.html\n",
      "per_contrata 2017\n",
      "per_contrata 2016\n",
      "per_contrata 2015\n",
      "per_contrata 2014\n",
      "per_contrata 2013\n",
      "per_contrata 2012\n",
      "per_contrata 2011\n",
      "per_contrata 2010\n",
      "per_contrata 2009\n",
      "\n",
      "Gobernación de Talagante\n"
     ]
    },
    {
     "data": {
      "application/vnd.jupyter.widget-view+json": {
       "model_id": "a1af7deb10cd4f169c0d72da60599fe3",
       "version_major": 2,
       "version_minor": 0
      },
      "text/plain": [
       "A Jupyter Widget"
      ]
     },
     "metadata": {},
     "output_type": "display_data"
    },
    {
     "name": "stdout",
     "output_type": "stream",
     "text": [
      "per_planta Ver Histórico antes de la Ley N° 20.285\n",
      "could not get breadcrumbs from http://www.interior.gov.cl/transparenciahistorico/sgi/84/dotacionplanta.html\n",
      "per_planta 2018\n",
      "could not get breadcrumbs from http://www.interior.gov.cl/transparenciaactiva/sgi/84/dotacionplanta_2018.html\n",
      "per_planta 2017\n",
      "per_planta 2016\n",
      "per_planta 2015\n",
      "per_planta 2014\n",
      "per_planta 2013\n",
      "per_planta 2012\n",
      "per_planta 2011\n",
      "per_planta 2010\n",
      "per_planta 2009\n",
      "per_contrata Ver Histórico antes de la Ley N° 20.285\n",
      "could not get breadcrumbs from http://www.interior.gov.cl/transparenciahistorico/sgi/84/dotacioncontrata.html\n",
      "per_contrata 2018\n",
      "could not get breadcrumbs from http://www.interior.gov.cl/transparenciaactiva/sgi/84/dotacioncontrata_2018.html\n",
      "per_contrata 2017\n",
      "per_contrata 2016\n",
      "per_contrata 2015\n",
      "per_contrata 2014\n",
      "per_contrata 2013\n",
      "per_contrata 2012\n",
      "per_contrata 2011\n",
      "per_contrata 2010\n",
      "per_contrata 2009\n",
      "\n",
      "Gobernación de Melipilla\n"
     ]
    },
    {
     "data": {
      "application/vnd.jupyter.widget-view+json": {
       "model_id": "6f67028e97dd44398084c12a1b4cb363",
       "version_major": 2,
       "version_minor": 0
      },
      "text/plain": [
       "A Jupyter Widget"
      ]
     },
     "metadata": {},
     "output_type": "display_data"
    },
    {
     "name": "stdout",
     "output_type": "stream",
     "text": [
      "per_planta Ver Histórico antes de la Ley N° 20.285\n",
      "could not get breadcrumbs from http://www.interior.gov.cl/transparenciahistorico/sgi/85/dotacionplanta.html\n",
      "per_planta 2018\n",
      "could not get breadcrumbs from http://www.interior.gov.cl/transparenciaactiva/sgi/85/dotacionplanta_2018.html\n",
      "per_planta 2017\n",
      "per_planta 2016\n",
      "per_planta 2015\n",
      "per_planta 2014\n",
      "per_planta 2013\n",
      "per_planta 2012\n",
      "per_planta 2011\n",
      "per_planta 2010\n",
      "per_planta 2009\n",
      "per_contrata Ver Histórico antes de la Ley N° 20.285\n",
      "could not get breadcrumbs from http://www.interior.gov.cl/transparenciahistorico/sgi/85/dotacioncontrata.html\n",
      "per_contrata 2018\n",
      "could not get breadcrumbs from http://www.interior.gov.cl/transparenciaactiva/sgi/85/dotacioncontrata_2018.html\n",
      "per_contrata 2017\n",
      "per_contrata 2016\n",
      "per_contrata 2015\n",
      "per_contrata 2014\n",
      "per_contrata 2013\n",
      "per_contrata 2012\n",
      "per_contrata 2011\n",
      "per_contrata 2010\n",
      "per_contrata 2009\n",
      "\n",
      "Gobierno Regional de Arica y Parinacota\n"
     ]
    },
    {
     "data": {
      "application/vnd.jupyter.widget-view+json": {
       "model_id": "55e7e5ff6d8641649d56559407020df0",
       "version_major": 2,
       "version_minor": 0
      },
      "text/plain": [
       "A Jupyter Widget"
      ]
     },
     "metadata": {},
     "output_type": "display_data"
    },
    {
     "name": "stdout",
     "output_type": "stream",
     "text": [
      "per_planta Año 2017\n",
      "per_planta Año 2016\n",
      "per_planta Año 2015\n",
      "per_planta Año 2014\n",
      "per_planta Año 2013\n",
      "per_planta Año 2012\n",
      "per_planta Año 2011\n",
      "per_planta Año 2010\n",
      "per_planta Año 2009\n",
      "per_planta Año 2008\n",
      "per_planta Año 2007\n",
      "per_contrata Año 2017\n",
      "per_contrata Año 2016\n",
      "per_contrata Año 2015\n",
      "per_contrata Año 2014\n",
      "per_contrata Año 2013\n",
      "per_contrata Año 2012\n",
      "per_contrata Año 2011\n",
      "per_contrata Año 2010\n",
      "per_contrata Año 2009\n",
      "per_contrata Año 2008\n",
      "per_contrata Año 2007\n",
      "\n",
      "Gobierno Regional de Tarapacá\n"
     ]
    },
    {
     "name": "stderr",
     "output_type": "stream",
     "text": [
      "Traceback (most recent call last):\n",
      "  File \"./lib/functions.py\", line 103, in getDepartmentData\n",
      "    for l in years_links_list:\n",
      "  File \"/Users/jaime/anaconda3/lib/python3.6/site-packages/selenium/webdriver/remote/webdriver.py\", line 555, in find_element_by_class_name\n",
      "    return self.find_element(by=By.CLASS_NAME, value=name)\n",
      "  File \"/Users/jaime/anaconda3/lib/python3.6/site-packages/selenium/webdriver/remote/webdriver.py\", line 955, in find_element\n",
      "    'value': value})['value']\n",
      "  File \"/Users/jaime/anaconda3/lib/python3.6/site-packages/selenium/webdriver/remote/webdriver.py\", line 312, in execute\n",
      "    self.error_handler.check_response(response)\n",
      "  File \"/Users/jaime/anaconda3/lib/python3.6/site-packages/selenium/webdriver/remote/errorhandler.py\", line 237, in check_response\n",
      "    raise exception_class(message, screen, stacktrace)\n",
      "selenium.common.exceptions.NoSuchElementException: Message: no such element: Unable to locate element: {\"method\":\"class name\",\"selector\":\"linksIntermedios\"}\n",
      "  (Session info: chrome=64.0.3282.140)\n",
      "  (Driver info: chromedriver=2.35.528157 (4429ca2590d6988c0745c24c8858745aaaec01ef),platform=Mac OS X 10.13.3 x86_64)\n",
      "\n"
     ]
    },
    {
     "name": "stdout",
     "output_type": "stream",
     "text": [
      "No contract data per_planta in http://www.gobiernotransparentechile.cl/directorio/entidad/2/76\n",
      "No contract data per_contrata in http://www.gobiernotransparentechile.cl/directorio/entidad/2/76\n"
     ]
    },
    {
     "name": "stderr",
     "output_type": "stream",
     "text": [
      "Traceback (most recent call last):\n",
      "  File \"./lib/functions.py\", line 103, in getDepartmentData\n",
      "    for l in years_links_list:\n",
      "  File \"/Users/jaime/anaconda3/lib/python3.6/site-packages/selenium/webdriver/remote/webdriver.py\", line 555, in find_element_by_class_name\n",
      "    return self.find_element(by=By.CLASS_NAME, value=name)\n",
      "  File \"/Users/jaime/anaconda3/lib/python3.6/site-packages/selenium/webdriver/remote/webdriver.py\", line 955, in find_element\n",
      "    'value': value})['value']\n",
      "  File \"/Users/jaime/anaconda3/lib/python3.6/site-packages/selenium/webdriver/remote/webdriver.py\", line 312, in execute\n",
      "    self.error_handler.check_response(response)\n",
      "  File \"/Users/jaime/anaconda3/lib/python3.6/site-packages/selenium/webdriver/remote/errorhandler.py\", line 237, in check_response\n",
      "    raise exception_class(message, screen, stacktrace)\n",
      "selenium.common.exceptions.NoSuchElementException: Message: no such element: Unable to locate element: {\"method\":\"class name\",\"selector\":\"linksIntermedios\"}\n",
      "  (Session info: chrome=64.0.3282.140)\n",
      "  (Driver info: chromedriver=2.35.528157 (4429ca2590d6988c0745c24c8858745aaaec01ef),platform=Mac OS X 10.13.3 x86_64)\n",
      "\n"
     ]
    },
    {
     "data": {
      "application/vnd.jupyter.widget-view+json": {
       "model_id": "164df84a24754551a5a843d33300f209",
       "version_major": 2,
       "version_minor": 0
      },
      "text/plain": [
       "A Jupyter Widget"
      ]
     },
     "metadata": {},
     "output_type": "display_data"
    },
    {
     "name": "stdout",
     "output_type": "stream",
     "text": [
      "\n",
      "Gobierno Regional de Antofagasta\n"
     ]
    },
    {
     "name": "stderr",
     "output_type": "stream",
     "text": [
      "Traceback (most recent call last):\n",
      "  File \"./lib/functions.py\", line 103, in getDepartmentData\n",
      "    for l in years_links_list:\n",
      "  File \"/Users/jaime/anaconda3/lib/python3.6/site-packages/selenium/webdriver/remote/webdriver.py\", line 555, in find_element_by_class_name\n",
      "    return self.find_element(by=By.CLASS_NAME, value=name)\n",
      "  File \"/Users/jaime/anaconda3/lib/python3.6/site-packages/selenium/webdriver/remote/webdriver.py\", line 955, in find_element\n",
      "    'value': value})['value']\n",
      "  File \"/Users/jaime/anaconda3/lib/python3.6/site-packages/selenium/webdriver/remote/webdriver.py\", line 312, in execute\n",
      "    self.error_handler.check_response(response)\n",
      "  File \"/Users/jaime/anaconda3/lib/python3.6/site-packages/selenium/webdriver/remote/errorhandler.py\", line 237, in check_response\n",
      "    raise exception_class(message, screen, stacktrace)\n",
      "selenium.common.exceptions.NoSuchElementException: Message: no such element: Unable to locate element: {\"method\":\"class name\",\"selector\":\"linksIntermedios\"}\n",
      "  (Session info: chrome=64.0.3282.140)\n",
      "  (Driver info: chromedriver=2.35.528157 (4429ca2590d6988c0745c24c8858745aaaec01ef),platform=Mac OS X 10.13.3 x86_64)\n",
      "\n"
     ]
    },
    {
     "name": "stdout",
     "output_type": "stream",
     "text": [
      "No contract data per_planta in http://www.gobiernotransparentechile.cl/directorio/entidad/2/77\n",
      "No contract data per_contrata in http://www.gobiernotransparentechile.cl/directorio/entidad/2/77\n"
     ]
    },
    {
     "name": "stderr",
     "output_type": "stream",
     "text": [
      "Traceback (most recent call last):\n",
      "  File \"./lib/functions.py\", line 103, in getDepartmentData\n",
      "    for l in years_links_list:\n",
      "  File \"/Users/jaime/anaconda3/lib/python3.6/site-packages/selenium/webdriver/remote/webdriver.py\", line 555, in find_element_by_class_name\n",
      "    return self.find_element(by=By.CLASS_NAME, value=name)\n",
      "  File \"/Users/jaime/anaconda3/lib/python3.6/site-packages/selenium/webdriver/remote/webdriver.py\", line 955, in find_element\n",
      "    'value': value})['value']\n",
      "  File \"/Users/jaime/anaconda3/lib/python3.6/site-packages/selenium/webdriver/remote/webdriver.py\", line 312, in execute\n",
      "    self.error_handler.check_response(response)\n",
      "  File \"/Users/jaime/anaconda3/lib/python3.6/site-packages/selenium/webdriver/remote/errorhandler.py\", line 237, in check_response\n",
      "    raise exception_class(message, screen, stacktrace)\n",
      "selenium.common.exceptions.NoSuchElementException: Message: no such element: Unable to locate element: {\"method\":\"class name\",\"selector\":\"linksIntermedios\"}\n",
      "  (Session info: chrome=64.0.3282.140)\n",
      "  (Driver info: chromedriver=2.35.528157 (4429ca2590d6988c0745c24c8858745aaaec01ef),platform=Mac OS X 10.13.3 x86_64)\n",
      "\n"
     ]
    },
    {
     "data": {
      "application/vnd.jupyter.widget-view+json": {
       "model_id": "a1c41c204d5f4f748e77ab6475de8e12",
       "version_major": 2,
       "version_minor": 0
      },
      "text/plain": [
       "A Jupyter Widget"
      ]
     },
     "metadata": {},
     "output_type": "display_data"
    },
    {
     "name": "stdout",
     "output_type": "stream",
     "text": [
      "\n",
      "Gobierno Regional de Atacama\n"
     ]
    },
    {
     "data": {
      "application/vnd.jupyter.widget-view+json": {
       "model_id": "be49fcbcce1f401890754b43b8c3468b",
       "version_major": 2,
       "version_minor": 0
      },
      "text/plain": [
       "A Jupyter Widget"
      ]
     },
     "metadata": {},
     "output_type": "display_data"
    },
    {
     "name": "stdout",
     "output_type": "stream",
     "text": [
      "per_planta Año 2018\n",
      "per_planta Año 2017\n",
      "per_planta Año 2016\n",
      "per_planta Año 2015\n",
      "per_planta Año 2014\n",
      "per_planta Año 2013\n",
      "per_planta Año 2012\n",
      "per_planta Año 2011\n",
      "per_planta Año 2010\n",
      "per_contrata Año 2018\n",
      "per_contrata Año 2017\n",
      "per_contrata Año 2016\n",
      "per_contrata Año 2015\n",
      "per_contrata Año 2014\n",
      "per_contrata Año 2013\n",
      "per_contrata Año 2012\n",
      "per_contrata Año 2011\n",
      "per_contrata Año 2010\n",
      "\n",
      "Gobierno Regional de Coquimbo\n"
     ]
    },
    {
     "name": "stderr",
     "output_type": "stream",
     "text": [
      "Traceback (most recent call last):\n",
      "  File \"./lib/functions.py\", line 103, in getDepartmentData\n",
      "    for l in years_links_list:\n",
      "  File \"/Users/jaime/anaconda3/lib/python3.6/site-packages/selenium/webdriver/remote/webdriver.py\", line 555, in find_element_by_class_name\n",
      "    return self.find_element(by=By.CLASS_NAME, value=name)\n",
      "  File \"/Users/jaime/anaconda3/lib/python3.6/site-packages/selenium/webdriver/remote/webdriver.py\", line 955, in find_element\n",
      "    'value': value})['value']\n",
      "  File \"/Users/jaime/anaconda3/lib/python3.6/site-packages/selenium/webdriver/remote/webdriver.py\", line 312, in execute\n",
      "    self.error_handler.check_response(response)\n",
      "  File \"/Users/jaime/anaconda3/lib/python3.6/site-packages/selenium/webdriver/remote/errorhandler.py\", line 237, in check_response\n",
      "    raise exception_class(message, screen, stacktrace)\n",
      "selenium.common.exceptions.NoSuchElementException: Message: no such element: Unable to locate element: {\"method\":\"class name\",\"selector\":\"linksIntermedios\"}\n",
      "  (Session info: chrome=64.0.3282.140)\n",
      "  (Driver info: chromedriver=2.35.528157 (4429ca2590d6988c0745c24c8858745aaaec01ef),platform=Mac OS X 10.13.3 x86_64)\n",
      "\n"
     ]
    },
    {
     "name": "stdout",
     "output_type": "stream",
     "text": [
      "No contract data per_planta in http://www.gobiernotransparentechile.cl/directorio/entidad/2/79\n",
      "No contract data per_contrata in http://www.gobiernotransparentechile.cl/directorio/entidad/2/79\n"
     ]
    },
    {
     "name": "stderr",
     "output_type": "stream",
     "text": [
      "Traceback (most recent call last):\n",
      "  File \"./lib/functions.py\", line 103, in getDepartmentData\n",
      "    for l in years_links_list:\n",
      "  File \"/Users/jaime/anaconda3/lib/python3.6/site-packages/selenium/webdriver/remote/webdriver.py\", line 555, in find_element_by_class_name\n",
      "    return self.find_element(by=By.CLASS_NAME, value=name)\n",
      "  File \"/Users/jaime/anaconda3/lib/python3.6/site-packages/selenium/webdriver/remote/webdriver.py\", line 955, in find_element\n",
      "    'value': value})['value']\n",
      "  File \"/Users/jaime/anaconda3/lib/python3.6/site-packages/selenium/webdriver/remote/webdriver.py\", line 312, in execute\n",
      "    self.error_handler.check_response(response)\n",
      "  File \"/Users/jaime/anaconda3/lib/python3.6/site-packages/selenium/webdriver/remote/errorhandler.py\", line 237, in check_response\n",
      "    raise exception_class(message, screen, stacktrace)\n",
      "selenium.common.exceptions.NoSuchElementException: Message: no such element: Unable to locate element: {\"method\":\"class name\",\"selector\":\"linksIntermedios\"}\n",
      "  (Session info: chrome=64.0.3282.140)\n",
      "  (Driver info: chromedriver=2.35.528157 (4429ca2590d6988c0745c24c8858745aaaec01ef),platform=Mac OS X 10.13.3 x86_64)\n",
      "\n"
     ]
    },
    {
     "data": {
      "application/vnd.jupyter.widget-view+json": {
       "model_id": "560e9257fe25416a8ec42de1bed30a8d",
       "version_major": 2,
       "version_minor": 0
      },
      "text/plain": [
       "A Jupyter Widget"
      ]
     },
     "metadata": {},
     "output_type": "display_data"
    },
    {
     "name": "stdout",
     "output_type": "stream",
     "text": [
      "\n",
      "Gobierno Regional de Valparaíso\n"
     ]
    },
    {
     "data": {
      "application/vnd.jupyter.widget-view+json": {
       "model_id": "c766386a186845848b04ecfc75033de9",
       "version_major": 2,
       "version_minor": 0
      },
      "text/plain": [
       "A Jupyter Widget"
      ]
     },
     "metadata": {},
     "output_type": "display_data"
    },
    {
     "name": "stdout",
     "output_type": "stream",
     "text": [
      "per_planta Año 2018\n",
      "per_planta Año 2017\n",
      "per_planta Año 2016\n",
      "per_planta Año 2015\n",
      "per_planta Año 2014\n",
      "per_planta Año 2013\n",
      "per_planta Año 2012\n",
      "per_planta Año 2011\n",
      "per_planta Año 2010\n",
      "per_contrata Año 2018\n",
      "per_contrata Año 2017\n",
      "per_contrata Año 2016\n",
      "per_contrata Año 2015\n",
      "per_contrata Año 2014\n",
      "per_contrata Año 2013\n",
      "per_contrata Año 2012\n",
      "per_contrata Año 2011\n",
      "per_contrata Año 2010\n",
      "\n",
      "Gobierno Regional Metropolitano de Santiago\n"
     ]
    },
    {
     "data": {
      "application/vnd.jupyter.widget-view+json": {
       "model_id": "baf3e7f08e964e5c8643889ea1c76163",
       "version_major": 2,
       "version_minor": 0
      },
      "text/plain": [
       "A Jupyter Widget"
      ]
     },
     "metadata": {},
     "output_type": "display_data"
    },
    {
     "name": "stdout",
     "output_type": "stream",
     "text": [
      "per_planta Año 2012\n",
      "per_planta Año 2011\n",
      "per_planta Año 2010\n",
      "per_planta Año 2009\n",
      "per_planta Año 2016\n",
      "per_planta Año 2015\n",
      "per_planta Año 2014\n",
      "per_planta Año 2013\n",
      "per_contrata Año 2012\n",
      "per_contrata Año 2011\n",
      "per_contrata Año 2010\n",
      "per_contrata Año 2009\n",
      "per_contrata Año 2016\n",
      "per_contrata Año 2015\n",
      "per_contrata Año 2014\n",
      "per_contrata Año 2013\n",
      "\n",
      "Gobierno Regional de O'Higgins\n"
     ]
    },
    {
     "data": {
      "application/vnd.jupyter.widget-view+json": {
       "model_id": "a53d9d9d7be74b26ae6ff925a4bab5f7",
       "version_major": 2,
       "version_minor": 0
      },
      "text/plain": [
       "A Jupyter Widget"
      ]
     },
     "metadata": {},
     "output_type": "display_data"
    },
    {
     "name": "stdout",
     "output_type": "stream",
     "text": [
      "per_planta Año 2017\n",
      "per_planta Año 2016\n",
      "per_planta Año 2015\n",
      "per_planta Año 2014\n",
      "per_planta Año 2013\n",
      "per_planta Año 2012\n",
      "per_planta Año 2011\n",
      "per_planta Año 2010\n",
      "per_planta Año 2009\n",
      "per_contrata Año 2017\n",
      "per_contrata Año 2016\n",
      "per_contrata Año 2015\n",
      "per_contrata Año 2014\n",
      "per_contrata Año 2013\n",
      "per_contrata Año 2012\n",
      "per_contrata Año 2011\n",
      "per_contrata Año 2010\n",
      "per_contrata Año 2009\n",
      "\n",
      "Gobierno Regional del Maule\n"
     ]
    },
    {
     "data": {
      "application/vnd.jupyter.widget-view+json": {
       "model_id": "f8f6a16c04b44813ab0bbf6e71bf1962",
       "version_major": 2,
       "version_minor": 0
      },
      "text/plain": [
       "A Jupyter Widget"
      ]
     },
     "metadata": {},
     "output_type": "display_data"
    },
    {
     "name": "stdout",
     "output_type": "stream",
     "text": [
      "per_planta Año 2015\n",
      "per_planta Año 2014\n",
      "per_planta Año 2013\n",
      "per_planta Año 2012\n",
      "per_planta Año 2011\n",
      "per_planta Año 2010\n",
      "per_planta Año 2009\n",
      "per_planta Año 2008\n",
      "could not get breadcrumbs from http://www.gobiernoregionaldelmaule.cl/transparencia/2009/2008/per_planta.html\n",
      "per_planta Año 2007\n",
      "per_contrata Año 2015\n",
      "per_contrata Año 2013\n",
      "could not get breadcrumbs from http://www.gobiernoregionaldelmaule.cl/transparencia/2015/2013/per_contratadic.html\n",
      "per_contrata Año 2012\n",
      "could not get breadcrumbs from http://www.gobiernoregionaldelmaule.cl/transparencia/2015/2012/per_contratadic.html\n",
      "per_contrata Año 2014\n",
      "per_contrata Año 2011\n",
      "per_contrata Año 2010\n",
      "per_contrata Año 2009\n",
      "per_contrata Año 2008\n",
      "could not get breadcrumbs from http://www.gobiernoregionaldelmaule.cl/transparencia/2009/2008/per_contrata.html\n",
      "per_contrata Año 2007\n",
      "\n",
      "Gobierno Regional del Bío Bío\n"
     ]
    },
    {
     "data": {
      "application/vnd.jupyter.widget-view+json": {
       "model_id": "519a48f4aaf64396b5d9bd53e6563286",
       "version_major": 2,
       "version_minor": 0
      },
      "text/plain": [
       "A Jupyter Widget"
      ]
     },
     "metadata": {},
     "output_type": "display_data"
    },
    {
     "name": "stdout",
     "output_type": "stream",
     "text": [
      "per_planta Año 2015\n",
      "could not get breadcrumbs from http://www.gorebiobio.cl/Transparencia/2015/01_Enero/p_planta_2015_01.html\n",
      "per_planta Año 2014\n",
      "could not get breadcrumbs from http://www.gorebiobio.cl/Transparencia/2014/01_Enero/p_planta_2014_01.html\n",
      "per_planta Año 2013\n",
      "could not get breadcrumbs from http://www.gorebiobio.cl/Transparencia/2013/01_Enero/p_planta_2013_01.html\n",
      "per_planta Año 2012\n",
      "could not get breadcrumbs from http://www.gorebiobio.cl/Transparencia/2012/01_Enero/p_planta_2012_01.html\n",
      "per_planta Año 2011\n",
      "could not get breadcrumbs from http://www.gorebiobio.cl/Transparencia/2011/per_planta.html\n",
      "per_planta Año 2010\n",
      "could not get breadcrumbs from http://www.gorebiobio.cl/Transparencia/2010/per_planta.html\n",
      "per_planta Año 2009\n",
      "could not get breadcrumbs from http://www.gorebiobio.cl/Transparencia/2009/per_planta.html\n",
      "per_planta Año 2008\n",
      "could not get breadcrumbs from http://www.gorebiobio.cl/Transparencia/2008/per_planta.html\n",
      "per_planta Año 2007\n",
      "could not get breadcrumbs from http://www.gorebiobio.cl/Transparencia/2007/per_planta.html\n",
      "per_planta Año 2006\n",
      "could not get breadcrumbs from http://www.gorebiobio.cl/Transparencia/2006/per_planta.html\n",
      "per_contrata Año 2015\n",
      "could not get breadcrumbs from http://www.gorebiobio.cl/Transparencia/2015/01_Enero/p_contrata_2015_01.html\n",
      "per_contrata Año 2014\n",
      "could not get breadcrumbs from http://www.gorebiobio.cl/Transparencia/2014/01_Enero/p_contrata_2014_01.html\n",
      "per_contrata Año 2013\n",
      "could not get breadcrumbs from http://www.gorebiobio.cl/Transparencia/2013/01_Enero/p_contrata_2013_01.html\n",
      "per_contrata Año 2012\n",
      "could not get breadcrumbs from http://www.gorebiobio.cl/Transparencia/2012/01_Enero/p_contrata_2012_01.html\n",
      "per_contrata Año 2011\n",
      "could not get breadcrumbs from http://www.gorebiobio.cl/Transparencia/2011/per_contrata.html\n",
      "per_contrata Año 2010\n",
      "could not get breadcrumbs from http://www.gorebiobio.cl/Transparencia/2010/per_contrata.html\n",
      "per_contrata Año 2009\n",
      "could not get breadcrumbs from http://www.gorebiobio.cl/Transparencia/2009/per_contrata.html\n",
      "per_contrata Año 2008\n",
      "could not get breadcrumbs from http://www.gorebiobio.cl/Transparencia/2008/per_contrata.html\n",
      "per_contrata Año 2007\n",
      "could not get breadcrumbs from http://www.gorebiobio.cl/Transparencia/2007/per_contrata.html\n",
      "per_contrata Año 2006\n",
      "could not get breadcrumbs from http://www.gorebiobio.cl/Transparencia/2006/per_contrata.html\n",
      "\n",
      "Gobierno Regional de La Araucanía\n"
     ]
    },
    {
     "data": {
      "application/vnd.jupyter.widget-view+json": {
       "model_id": "e481d3ec1621417cbeda9a6836f5a9e5",
       "version_major": 2,
       "version_minor": 0
      },
      "text/plain": [
       "A Jupyter Widget"
      ]
     },
     "metadata": {},
     "output_type": "display_data"
    },
    {
     "name": "stdout",
     "output_type": "stream",
     "text": [
      "per_planta Año 2017\n",
      "per_planta Año 2016\n",
      "per_planta Año 2015\n",
      "per_planta Año 2014\n",
      "per_planta Año 2013\n",
      "per_planta Año 2012\n",
      "per_planta Año 2011\n",
      "per_planta Año 2010\n",
      "per_planta Año 2009\n",
      "per_planta Año 2008\n",
      "per_planta Año 2007\n",
      "per_planta Año 2006\n",
      "per_contrata Año 2017\n",
      "per_contrata Año 2016\n",
      "per_contrata Año 2015\n",
      "per_contrata Año 2014\n",
      "per_contrata Año 2013\n",
      "per_contrata Año 2012\n",
      "per_contrata Año 2011\n",
      "per_contrata Año 2010\n",
      "per_contrata Año 2009\n",
      "per_contrata Año 2008\n",
      "per_contrata Año 2007\n",
      "per_contrata Año 2006\n",
      "\n",
      "Gobierno Regional de Los Ríos\n"
     ]
    },
    {
     "data": {
      "application/vnd.jupyter.widget-view+json": {
       "model_id": "f9719cd0cefc40038bfc189408228a08",
       "version_major": 2,
       "version_minor": 0
      },
      "text/plain": [
       "A Jupyter Widget"
      ]
     },
     "metadata": {},
     "output_type": "display_data"
    },
    {
     "name": "stdout",
     "output_type": "stream",
     "text": [
      "per_planta Ver Histórico\n",
      "per_planta Diciembre\n",
      "per_planta Noviembre\n",
      "per_planta Octubre\n",
      "per_planta Septiembre\n",
      "per_planta Agosto\n",
      "per_planta Julio\n",
      "per_planta Junio\n",
      "per_planta Mayo\n",
      "per_planta Abril\n",
      "per_planta Marzo\n",
      "per_planta Febrero\n",
      "per_planta Enero\n",
      "per_contrata Ver Histórico\n",
      "per_contrata Diciembre\n",
      "per_contrata Noviembre\n",
      "per_contrata Octubre\n",
      "per_contrata Septiembre\n",
      "per_contrata Agosto\n",
      "per_contrata Julio\n",
      "per_contrata Junio\n",
      "per_contrata Mayo\n",
      "per_contrata Abril\n",
      "per_contrata Marzo\n",
      "per_contrata Febrero\n",
      "per_contrata Enero\n",
      "\n",
      "Gobierno Regional de Los Lagos\n"
     ]
    },
    {
     "data": {
      "application/vnd.jupyter.widget-view+json": {
       "model_id": "d59ef475552e49aeaac22f902a20ec59",
       "version_major": 2,
       "version_minor": 0
      },
      "text/plain": [
       "A Jupyter Widget"
      ]
     },
     "metadata": {},
     "output_type": "display_data"
    },
    {
     "name": "stdout",
     "output_type": "stream",
     "text": [
      "per_planta Año 2016\n",
      "per_planta Año 2015\n",
      "per_planta Año 2014\n",
      "per_planta Año 2013\n",
      "per_planta Año 2012\n",
      "per_planta Año 2011\n",
      "per_planta Año 2010\n",
      "per_planta Año 2009\n",
      "per_planta Año 2008\n",
      "per_planta Año 2007\n",
      "per_planta Año 2006\n",
      "per_contrata Año 2016\n",
      "per_contrata Año 2015\n",
      "per_contrata Año 2014\n",
      "per_contrata Año 2013\n",
      "per_contrata Año 2012\n",
      "per_contrata Año 2011\n",
      "per_contrata Año 2010\n",
      "per_contrata Año 2009\n",
      "per_contrata Año 2008\n",
      "per_contrata Año 2007\n",
      "per_contrata Año 2006\n",
      "\n",
      "Gobierno Regional de Aysén\n"
     ]
    },
    {
     "data": {
      "application/vnd.jupyter.widget-view+json": {
       "model_id": "447045acb07146f5a46e17ad59038c57",
       "version_major": 2,
       "version_minor": 0
      },
      "text/plain": [
       "A Jupyter Widget"
      ]
     },
     "metadata": {},
     "output_type": "display_data"
    },
    {
     "name": "stdout",
     "output_type": "stream",
     "text": [
      "per_planta Año 2017\n",
      "per_planta Año 2016\n",
      "per_planta Año 2015\n",
      "per_planta Año 2014\n",
      "per_planta Año 2013\n",
      "per_planta Año 2012\n",
      "per_planta Año 2011\n",
      "per_planta Año 2010\n",
      "per_planta Año 2009\n",
      "per_planta Año 2008\n",
      "per_planta Año 2007\n",
      "per_planta Año 2006\n",
      "per_contrata Año 2017\n",
      "per_contrata Año 2016\n",
      "per_contrata Año 2015\n",
      "per_contrata Año 2014\n",
      "per_contrata Año 2013\n",
      "per_contrata Año 2012\n",
      "per_contrata Año 2011\n",
      "per_contrata Año 2010\n",
      "per_contrata Año 2009\n",
      "per_contrata Año 2008\n",
      "per_contrata Año 2007\n",
      "per_contrata Año 2006\n",
      "\n",
      "Gobierno Regional de Magallanes y Antártica Chilena\n"
     ]
    },
    {
     "data": {
      "application/vnd.jupyter.widget-view+json": {
       "model_id": "bb60e0293805423d9c6d7345da95bc71",
       "version_major": 2,
       "version_minor": 0
      },
      "text/plain": [
       "A Jupyter Widget"
      ]
     },
     "metadata": {},
     "output_type": "display_data"
    },
    {
     "name": "stdout",
     "output_type": "stream",
     "text": [
      "per_planta Año 2013\n",
      "could not get breadcrumbs from http://164.77.209.178/sitioweb2011/transparencia/2013/per_planta.html\n",
      "per_planta Año 2012\n",
      "could not get breadcrumbs from http://164.77.209.178/sitioweb2011/transparencia/2012/per_planta.html\n",
      "per_planta Año 2011\n",
      "could not get breadcrumbs from http://164.77.209.178/sitioweb2011/transparencia/2011/per_planta.html\n",
      "per_planta Año 2010\n",
      "could not get breadcrumbs from http://164.77.209.178/sitioweb2011/transparencia/2010/per_planta.html\n",
      "per_planta Año 2009\n",
      "could not get breadcrumbs from http://164.77.209.178/sitioweb2011/transparencia/2009/per_planta.html\n",
      "per_planta Año 2008\n",
      "could not get breadcrumbs from http://164.77.209.178/sitioweb2011/transparencia/2008/per_planta.html\n",
      "per_planta Año 2007\n",
      "could not get breadcrumbs from http://164.77.209.178/sitioweb2011/transparencia/2007/per_planta.html\n",
      "per_planta Año 2006\n",
      "could not get breadcrumbs from http://164.77.209.178/sitioweb2011/transparencia/2006/per_planta.html\n",
      "per_contrata Año 2013\n",
      "could not get breadcrumbs from http://164.77.209.178/sitioweb2011/transparencia/2013/per_contrata.html\n",
      "per_contrata Año 2012\n",
      "could not get breadcrumbs from http://164.77.209.178/sitioweb2011/transparencia/2012/per_contrata.html\n",
      "per_contrata Año 2011\n",
      "could not get breadcrumbs from http://164.77.209.178/sitioweb2011/transparencia/2011/per_contrata.html\n",
      "per_contrata Año 2010\n",
      "could not get breadcrumbs from http://164.77.209.178/sitioweb2011/transparencia/2010/per_contrata.html\n",
      "per_contrata Año 2009\n",
      "could not get breadcrumbs from http://164.77.209.178/sitioweb2011/transparencia/2009/per_contrata.html\n",
      "per_contrata Año 2008\n",
      "could not get breadcrumbs from http://164.77.209.178/sitioweb2011/transparencia/2008/per_contrata.html\n",
      "per_contrata Año 2007\n",
      "could not get breadcrumbs from http://164.77.209.178/sitioweb2011/transparencia/2007/per_contrata.html\n",
      "per_contrata Año 2006\n",
      "could not get breadcrumbs from http://164.77.209.178/sitioweb2011/transparencia/2006/per_contrata.html\n",
      "\n",
      "Ministerio de Relaciones Exteriores\n",
      "Subsecretaría de Relaciones Exteriores\n"
     ]
    },
    {
     "data": {
      "application/vnd.jupyter.widget-view+json": {
       "model_id": "2dbe86a864ef481680a0f0a98df54798",
       "version_major": 2,
       "version_minor": 0
      },
      "text/plain": [
       "A Jupyter Widget"
      ]
     },
     "metadata": {},
     "output_type": "display_data"
    },
    {
     "name": "stdout",
     "output_type": "stream",
     "text": [
      "per_planta Año 2017\n",
      "per_planta Año 2016\n",
      "per_planta Año 2015\n",
      "per_planta Año 2014\n",
      "per_planta Año 2013\n",
      "per_planta Año 2012\n",
      "per_planta Año 2011\n",
      "per_planta Año 2010\n",
      "per_planta Año 2009\n",
      "per_planta Año 2008\n",
      "per_planta Año 2007\n",
      "per_planta Año 2006\n",
      "per_contrata Año 2017\n",
      "per_contrata Año 2016\n",
      "per_contrata Año 2015\n",
      "per_contrata Año 2014\n",
      "per_contrata Año 2013\n",
      "per_contrata Año 2012\n",
      "per_contrata Año 2011\n",
      "per_contrata Año 2010\n",
      "per_contrata Año 2009\n",
      "per_contrata Año 2008\n",
      "could not get breadcrumbs from http://www.minrel.gov.cl/transparencia/2008/per_contrata.html\n",
      "per_contrata Año 2007\n",
      "could not get breadcrumbs from http://www.minrel.gov.cl/transparencia/2007/per_contrata.html\n",
      "per_contrata Año 2006\n",
      "\n",
      "Dirección General de Relaciones Económicas Internacionales (DIRECON)\n"
     ]
    },
    {
     "data": {
      "application/vnd.jupyter.widget-view+json": {
       "model_id": "3a96f7c3aaaa480d8aad7290dbb9c876",
       "version_major": 2,
       "version_minor": 0
      },
      "text/plain": [
       "A Jupyter Widget"
      ]
     },
     "metadata": {},
     "output_type": "display_data"
    },
    {
     "name": "stdout",
     "output_type": "stream",
     "text": [
      "per_planta Año 2017\n",
      "per_planta Año 2016\n",
      "per_planta Año 2015\n",
      "per_planta Año 2014\n",
      "per_planta Año 2013\n",
      "per_planta Año 2012\n",
      "per_planta Año 2011\n",
      "per_planta Año 2010\n",
      "per_planta Año 2009\n",
      "per_planta Año 2008\n",
      "per_planta Año 2007\n",
      "per_planta Año 2006\n",
      "per_contrata Año 2017\n",
      "per_contrata Año 2016\n",
      "per_contrata Año 2015\n",
      "per_contrata Año 2014\n",
      "per_contrata Año 2013\n",
      "per_contrata Año 2012\n",
      "per_contrata Año 2011\n",
      "per_contrata Año 2010\n",
      "per_contrata Año 2009\n",
      "per_contrata Año 2008\n",
      "per_contrata Año 2007\n",
      "per_contrata Año 2006\n",
      "\n",
      "Dirección Nacional de Fronteras y Límites del Estado (DIFROL)\n"
     ]
    },
    {
     "data": {
      "application/vnd.jupyter.widget-view+json": {
       "model_id": "735f204c672b4e81a018e176284e2d52",
       "version_major": 2,
       "version_minor": 0
      },
      "text/plain": [
       "A Jupyter Widget"
      ]
     },
     "metadata": {},
     "output_type": "display_data"
    },
    {
     "name": "stdout",
     "output_type": "stream",
     "text": [
      "per_planta Año 2017\n",
      "per_planta Año 2016\n",
      "per_planta Año 2015\n",
      "per_planta Año 2014\n",
      "per_planta Año 2013\n",
      "per_planta Año 2012\n",
      "per_planta Año 2011\n",
      "per_planta Año 2010\n",
      "per_planta Año 2009\n",
      "per_planta Año 2008\n",
      "per_planta Año 2007\n",
      "per_planta Año 2006\n",
      "per_contrata Año 2017\n",
      "per_contrata Año 2016\n",
      "per_contrata Año 2015\n",
      "per_contrata Año 2014\n",
      "per_contrata Año 2013\n",
      "per_contrata Año 2012\n",
      "per_contrata Año 2011\n",
      "per_contrata Año 2010\n",
      "per_contrata Año 2009\n",
      "per_contrata Año 2008\n",
      "per_contrata Año 2007\n",
      "per_contrata Año 2006\n",
      "\n",
      "Agencia de Cooperación Internacional (AGCI)\n"
     ]
    },
    {
     "name": "stderr",
     "output_type": "stream",
     "text": [
      "Traceback (most recent call last):\n",
      "  File \"./lib/functions.py\", line 103, in getDepartmentData\n",
      "    for l in years_links_list:\n",
      "  File \"/Users/jaime/anaconda3/lib/python3.6/site-packages/selenium/webdriver/remote/webdriver.py\", line 555, in find_element_by_class_name\n",
      "    return self.find_element(by=By.CLASS_NAME, value=name)\n",
      "  File \"/Users/jaime/anaconda3/lib/python3.6/site-packages/selenium/webdriver/remote/webdriver.py\", line 955, in find_element\n",
      "    'value': value})['value']\n",
      "  File \"/Users/jaime/anaconda3/lib/python3.6/site-packages/selenium/webdriver/remote/webdriver.py\", line 312, in execute\n",
      "    self.error_handler.check_response(response)\n",
      "  File \"/Users/jaime/anaconda3/lib/python3.6/site-packages/selenium/webdriver/remote/errorhandler.py\", line 237, in check_response\n",
      "    raise exception_class(message, screen, stacktrace)\n",
      "selenium.common.exceptions.NoSuchElementException: Message: no such element: Unable to locate element: {\"method\":\"class name\",\"selector\":\"linksIntermedios\"}\n",
      "  (Session info: chrome=64.0.3282.140)\n",
      "  (Driver info: chromedriver=2.35.528157 (4429ca2590d6988c0745c24c8858745aaaec01ef),platform=Mac OS X 10.13.3 x86_64)\n",
      "\n"
     ]
    },
    {
     "name": "stdout",
     "output_type": "stream",
     "text": [
      "No contract data per_planta in http://www.gobiernotransparentechile.cl/directorio/entidad/3/93\n",
      "No contract data per_contrata in http://www.gobiernotransparentechile.cl/directorio/entidad/3/93\n"
     ]
    },
    {
     "name": "stderr",
     "output_type": "stream",
     "text": [
      "Traceback (most recent call last):\n",
      "  File \"./lib/functions.py\", line 103, in getDepartmentData\n",
      "    for l in years_links_list:\n",
      "  File \"/Users/jaime/anaconda3/lib/python3.6/site-packages/selenium/webdriver/remote/webdriver.py\", line 555, in find_element_by_class_name\n",
      "    return self.find_element(by=By.CLASS_NAME, value=name)\n",
      "  File \"/Users/jaime/anaconda3/lib/python3.6/site-packages/selenium/webdriver/remote/webdriver.py\", line 955, in find_element\n",
      "    'value': value})['value']\n",
      "  File \"/Users/jaime/anaconda3/lib/python3.6/site-packages/selenium/webdriver/remote/webdriver.py\", line 312, in execute\n",
      "    self.error_handler.check_response(response)\n",
      "  File \"/Users/jaime/anaconda3/lib/python3.6/site-packages/selenium/webdriver/remote/errorhandler.py\", line 237, in check_response\n",
      "    raise exception_class(message, screen, stacktrace)\n",
      "selenium.common.exceptions.NoSuchElementException: Message: no such element: Unable to locate element: {\"method\":\"class name\",\"selector\":\"linksIntermedios\"}\n",
      "  (Session info: chrome=64.0.3282.140)\n",
      "  (Driver info: chromedriver=2.35.528157 (4429ca2590d6988c0745c24c8858745aaaec01ef),platform=Mac OS X 10.13.3 x86_64)\n",
      "\n"
     ]
    },
    {
     "data": {
      "application/vnd.jupyter.widget-view+json": {
       "model_id": "9c581d19ca724891b95e61f11906ff85",
       "version_major": 2,
       "version_minor": 0
      },
      "text/plain": [
       "A Jupyter Widget"
      ]
     },
     "metadata": {},
     "output_type": "display_data"
    },
    {
     "name": "stdout",
     "output_type": "stream",
     "text": [
      "\n",
      "Instituto Antártico Chileno (INACH)\n"
     ]
    },
    {
     "data": {
      "application/vnd.jupyter.widget-view+json": {
       "model_id": "31d20720dcc34946b860e89af839828c",
       "version_major": 2,
       "version_minor": 0
      },
      "text/plain": [
       "A Jupyter Widget"
      ]
     },
     "metadata": {},
     "output_type": "display_data"
    },
    {
     "name": "stdout",
     "output_type": "stream",
     "text": [
      "per_planta A�o 2017\n",
      "per_planta A�o 2016\n",
      "per_planta A�o 2015\n",
      "per_planta A�o 2014\n",
      "per_planta A�o 2013\n",
      "per_planta A�o 2012\n",
      "per_planta A�o 2011\n",
      "per_planta A�o 2010\n",
      "per_planta A�o 2009\n",
      "per_planta A�o 2008\n",
      "per_planta A�o 2007\n",
      "per_planta A�o 2006\n",
      "per_contrata A�o 2017\n",
      "could not get breadcrumbs from http://transparencia.inach.cl/transparencia/Funciones/2017/pdf/Res-17-2017.pdf\n",
      "per_contrata A�o 2016\n",
      "could not get breadcrumbs from http://transparencia.inach.cl/transparencia/Funciones/2016/pdf/Res_17.pdf\n",
      "per_contrata A�o 2015\n",
      "could not get breadcrumbs from http://transparencia.inach.cl/transparencia/Funciones/2015/pdf/Res_16.pdf\n",
      "per_contrata A�o 2014\n",
      "could not get breadcrumbs from http://transparencia.inach.cl/transparencia/Funciones/2014/pdf/Res_262.pdf\n",
      "per_contrata A�o 2013\n",
      "per_contrata A�o 2012\n",
      "per_contrata A�o 2011\n",
      "per_contrata A�o 2010\n",
      "per_contrata A�o 2009\n",
      "per_contrata A�o 2008\n",
      "per_contrata A�o 2007\n",
      "per_contrata A�o 2006\n",
      "\n",
      "Ministerio de Defensa Nacional\n",
      "Estado Mayor Conjunto\n"
     ]
    },
    {
     "name": "stderr",
     "output_type": "stream",
     "text": [
      "Traceback (most recent call last):\n",
      "  File \"./lib/functions.py\", line 103, in getDepartmentData\n",
      "    for l in years_links_list:\n",
      "  File \"/Users/jaime/anaconda3/lib/python3.6/site-packages/selenium/webdriver/remote/webdriver.py\", line 555, in find_element_by_class_name\n",
      "    return self.find_element(by=By.CLASS_NAME, value=name)\n",
      "  File \"/Users/jaime/anaconda3/lib/python3.6/site-packages/selenium/webdriver/remote/webdriver.py\", line 955, in find_element\n",
      "    'value': value})['value']\n",
      "  File \"/Users/jaime/anaconda3/lib/python3.6/site-packages/selenium/webdriver/remote/webdriver.py\", line 312, in execute\n",
      "    self.error_handler.check_response(response)\n",
      "  File \"/Users/jaime/anaconda3/lib/python3.6/site-packages/selenium/webdriver/remote/errorhandler.py\", line 237, in check_response\n",
      "    raise exception_class(message, screen, stacktrace)\n",
      "selenium.common.exceptions.NoSuchElementException: Message: no such element: Unable to locate element: {\"method\":\"class name\",\"selector\":\"linksIntermedios\"}\n",
      "  (Session info: chrome=64.0.3282.140)\n",
      "  (Driver info: chromedriver=2.35.528157 (4429ca2590d6988c0745c24c8858745aaaec01ef),platform=Mac OS X 10.13.3 x86_64)\n",
      "\n"
     ]
    },
    {
     "name": "stdout",
     "output_type": "stream",
     "text": [
      "No contract data per_planta in http://www.gobiernotransparentechile.cl/directorio/entidad/4/346\n",
      "No contract data per_contrata in http://www.gobiernotransparentechile.cl/directorio/entidad/4/346\n"
     ]
    },
    {
     "name": "stderr",
     "output_type": "stream",
     "text": [
      "Traceback (most recent call last):\n",
      "  File \"./lib/functions.py\", line 103, in getDepartmentData\n",
      "    for l in years_links_list:\n",
      "  File \"/Users/jaime/anaconda3/lib/python3.6/site-packages/selenium/webdriver/remote/webdriver.py\", line 555, in find_element_by_class_name\n",
      "    return self.find_element(by=By.CLASS_NAME, value=name)\n",
      "  File \"/Users/jaime/anaconda3/lib/python3.6/site-packages/selenium/webdriver/remote/webdriver.py\", line 955, in find_element\n",
      "    'value': value})['value']\n",
      "  File \"/Users/jaime/anaconda3/lib/python3.6/site-packages/selenium/webdriver/remote/webdriver.py\", line 312, in execute\n",
      "    self.error_handler.check_response(response)\n",
      "  File \"/Users/jaime/anaconda3/lib/python3.6/site-packages/selenium/webdriver/remote/errorhandler.py\", line 237, in check_response\n",
      "    raise exception_class(message, screen, stacktrace)\n",
      "selenium.common.exceptions.NoSuchElementException: Message: no such element: Unable to locate element: {\"method\":\"class name\",\"selector\":\"linksIntermedios\"}\n",
      "  (Session info: chrome=64.0.3282.140)\n",
      "  (Driver info: chromedriver=2.35.528157 (4429ca2590d6988c0745c24c8858745aaaec01ef),platform=Mac OS X 10.13.3 x86_64)\n",
      "\n"
     ]
    },
    {
     "data": {
      "application/vnd.jupyter.widget-view+json": {
       "model_id": "241fcee9d20342ef82845dc41771e412",
       "version_major": 2,
       "version_minor": 0
      },
      "text/plain": [
       "A Jupyter Widget"
      ]
     },
     "metadata": {},
     "output_type": "display_data"
    },
    {
     "name": "stdout",
     "output_type": "stream",
     "text": [
      "\n",
      "Subsecretaría para las Fuerzas Armadas\n"
     ]
    },
    {
     "data": {
      "application/vnd.jupyter.widget-view+json": {
       "model_id": "228ec52045ae4034b01418cb0249cad5",
       "version_major": 2,
       "version_minor": 0
      },
      "text/plain": [
       "A Jupyter Widget"
      ]
     },
     "metadata": {},
     "output_type": "display_data"
    },
    {
     "name": "stdout",
     "output_type": "stream",
     "text": [
      "per_planta 2017\n",
      "per_planta 2016\n",
      "per_planta 2015\n",
      "per_planta 2014\n",
      "per_planta 2013\n",
      "per_planta 2012\n",
      "per_planta 2011\n",
      "per_planta 2010\n",
      "per_planta 2009\n",
      "per_planta 2008\n",
      "per_planta 2007\n",
      "per_planta 2006\n",
      "per_contrata 2017\n",
      "per_contrata 2016\n",
      "per_contrata 2015\n",
      "per_contrata 2014\n",
      "per_contrata 2013\n",
      "per_contrata 2012\n",
      "per_contrata 2011\n",
      "per_contrata 2010\n",
      "per_contrata 2009\n",
      "per_contrata 2008\n",
      "per_contrata 2007\n",
      "per_contrata 2006\n",
      "\n",
      "Subsecretaría de Defensa\n"
     ]
    },
    {
     "data": {
      "application/vnd.jupyter.widget-view+json": {
       "model_id": "c3622ab81c134a999eab6e322f3fe74a",
       "version_major": 2,
       "version_minor": 0
      },
      "text/plain": [
       "A Jupyter Widget"
      ]
     },
     "metadata": {},
     "output_type": "display_data"
    },
    {
     "name": "stdout",
     "output_type": "stream",
     "text": [
      "per_planta 2017\n",
      "per_planta 2016\n",
      "per_planta 2015\n",
      "per_planta 2014\n",
      "per_planta 2013\n",
      "per_planta 2012\n",
      "per_contrata 2017\n",
      "per_contrata 2016\n",
      "per_contrata 2015\n",
      "per_contrata 2014\n",
      "per_contrata 2013\n",
      "per_contrata 2012\n",
      "\n",
      "Subsecretaría de Carabineros\n"
     ]
    },
    {
     "name": "stderr",
     "output_type": "stream",
     "text": [
      "Traceback (most recent call last):\n",
      "  File \"./lib/functions.py\", line 103, in getDepartmentData\n",
      "    for l in years_links_list:\n",
      "  File \"/Users/jaime/anaconda3/lib/python3.6/site-packages/selenium/webdriver/remote/webdriver.py\", line 555, in find_element_by_class_name\n",
      "    return self.find_element(by=By.CLASS_NAME, value=name)\n",
      "  File \"/Users/jaime/anaconda3/lib/python3.6/site-packages/selenium/webdriver/remote/webdriver.py\", line 955, in find_element\n",
      "    'value': value})['value']\n",
      "  File \"/Users/jaime/anaconda3/lib/python3.6/site-packages/selenium/webdriver/remote/webdriver.py\", line 312, in execute\n",
      "    self.error_handler.check_response(response)\n",
      "  File \"/Users/jaime/anaconda3/lib/python3.6/site-packages/selenium/webdriver/remote/errorhandler.py\", line 237, in check_response\n",
      "    raise exception_class(message, screen, stacktrace)\n",
      "selenium.common.exceptions.NoSuchElementException: Message: no such element: Unable to locate element: {\"method\":\"class name\",\"selector\":\"linksIntermedios\"}\n",
      "  (Session info: chrome=64.0.3282.140)\n",
      "  (Driver info: chromedriver=2.35.528157 (4429ca2590d6988c0745c24c8858745aaaec01ef),platform=Mac OS X 10.13.3 x86_64)\n",
      "\n"
     ]
    },
    {
     "name": "stdout",
     "output_type": "stream",
     "text": [
      "No contract data per_planta in http://www.gobiernotransparentechile.cl/directorio/entidad/4/98\n",
      "No contract data per_contrata in http://www.gobiernotransparentechile.cl/directorio/entidad/4/98\n"
     ]
    },
    {
     "name": "stderr",
     "output_type": "stream",
     "text": [
      "Traceback (most recent call last):\n",
      "  File \"./lib/functions.py\", line 103, in getDepartmentData\n",
      "    for l in years_links_list:\n",
      "  File \"/Users/jaime/anaconda3/lib/python3.6/site-packages/selenium/webdriver/remote/webdriver.py\", line 555, in find_element_by_class_name\n",
      "    return self.find_element(by=By.CLASS_NAME, value=name)\n",
      "  File \"/Users/jaime/anaconda3/lib/python3.6/site-packages/selenium/webdriver/remote/webdriver.py\", line 955, in find_element\n",
      "    'value': value})['value']\n",
      "  File \"/Users/jaime/anaconda3/lib/python3.6/site-packages/selenium/webdriver/remote/webdriver.py\", line 312, in execute\n",
      "    self.error_handler.check_response(response)\n",
      "  File \"/Users/jaime/anaconda3/lib/python3.6/site-packages/selenium/webdriver/remote/errorhandler.py\", line 237, in check_response\n",
      "    raise exception_class(message, screen, stacktrace)\n",
      "selenium.common.exceptions.NoSuchElementException: Message: no such element: Unable to locate element: {\"method\":\"class name\",\"selector\":\"linksIntermedios\"}\n",
      "  (Session info: chrome=64.0.3282.140)\n",
      "  (Driver info: chromedriver=2.35.528157 (4429ca2590d6988c0745c24c8858745aaaec01ef),platform=Mac OS X 10.13.3 x86_64)\n",
      "\n"
     ]
    },
    {
     "data": {
      "application/vnd.jupyter.widget-view+json": {
       "model_id": "4420b21208f64e13943a0765a45b3eee",
       "version_major": 2,
       "version_minor": 0
      },
      "text/plain": [
       "A Jupyter Widget"
      ]
     },
     "metadata": {},
     "output_type": "display_data"
    },
    {
     "name": "stdout",
     "output_type": "stream",
     "text": [
      "\n",
      "Subsecretaría de Investigaciones\n"
     ]
    },
    {
     "data": {
      "application/vnd.jupyter.widget-view+json": {
       "model_id": "14f452e4cb7040d98082d024880ddff1",
       "version_major": 2,
       "version_minor": 0
      },
      "text/plain": [
       "A Jupyter Widget"
      ]
     },
     "metadata": {},
     "output_type": "display_data"
    },
    {
     "name": "stdout",
     "output_type": "stream",
     "text": [
      "per_planta Año 2010\n",
      "per_planta Año 2009\n",
      "per_planta Año 2011\n",
      "per_planta Año 2008\n",
      "could not get breadcrumbs from http://www.ssi.gov.cl/transparencia/dotacionplanta2008.htm\n",
      "per_planta Año 2007\n",
      "could not get breadcrumbs from http://www.ssi.gov.cl/transparencia/dotacionplanta2007.htm\n",
      "per_planta Año 2006\n",
      "could not get breadcrumbs from http://www.ssi.gov.cl/transparencia/dotacionplanta2006.htm\n",
      "per_contrata Año 2010\n",
      "per_contrata Año 2009\n",
      "per_contrata Año 2011\n",
      "per_contrata Año 2008\n",
      "could not get breadcrumbs from http://www.ssi.gov.cl/transparencia/dotacioncontrata2008.htm\n",
      "per_contrata Año 2007\n",
      "could not get breadcrumbs from http://www.ssi.gov.cl/transparencia/dotacioncontrata2007.htm\n",
      "per_contrata Año 2006\n",
      "could not get breadcrumbs from http://www.ssi.gov.cl/transparencia/dotacioncontrata2006.htm\n",
      "\n",
      "Ejército de Chile\n"
     ]
    },
    {
     "name": "stderr",
     "output_type": "stream",
     "text": [
      "Traceback (most recent call last):\n",
      "  File \"./lib/functions.py\", line 103, in getDepartmentData\n",
      "    for l in years_links_list:\n",
      "  File \"/Users/jaime/anaconda3/lib/python3.6/site-packages/selenium/webdriver/remote/webdriver.py\", line 555, in find_element_by_class_name\n",
      "    return self.find_element(by=By.CLASS_NAME, value=name)\n",
      "  File \"/Users/jaime/anaconda3/lib/python3.6/site-packages/selenium/webdriver/remote/webdriver.py\", line 955, in find_element\n",
      "    'value': value})['value']\n",
      "  File \"/Users/jaime/anaconda3/lib/python3.6/site-packages/selenium/webdriver/remote/webdriver.py\", line 312, in execute\n",
      "    self.error_handler.check_response(response)\n",
      "  File \"/Users/jaime/anaconda3/lib/python3.6/site-packages/selenium/webdriver/remote/errorhandler.py\", line 237, in check_response\n",
      "    raise exception_class(message, screen, stacktrace)\n",
      "selenium.common.exceptions.NoSuchElementException: Message: no such element: Unable to locate element: {\"method\":\"class name\",\"selector\":\"linksIntermedios\"}\n",
      "  (Session info: chrome=64.0.3282.140)\n",
      "  (Driver info: chromedriver=2.35.528157 (4429ca2590d6988c0745c24c8858745aaaec01ef),platform=Mac OS X 10.13.3 x86_64)\n",
      "\n"
     ]
    },
    {
     "name": "stdout",
     "output_type": "stream",
     "text": [
      "No contract data per_planta in http://www.gobiernotransparentechile.cl/directorio/entidad/4/100\n",
      "No contract data per_contrata in http://www.gobiernotransparentechile.cl/directorio/entidad/4/100\n"
     ]
    },
    {
     "name": "stderr",
     "output_type": "stream",
     "text": [
      "Traceback (most recent call last):\n",
      "  File \"./lib/functions.py\", line 103, in getDepartmentData\n",
      "    for l in years_links_list:\n",
      "  File \"/Users/jaime/anaconda3/lib/python3.6/site-packages/selenium/webdriver/remote/webdriver.py\", line 555, in find_element_by_class_name\n",
      "    return self.find_element(by=By.CLASS_NAME, value=name)\n",
      "  File \"/Users/jaime/anaconda3/lib/python3.6/site-packages/selenium/webdriver/remote/webdriver.py\", line 955, in find_element\n",
      "    'value': value})['value']\n",
      "  File \"/Users/jaime/anaconda3/lib/python3.6/site-packages/selenium/webdriver/remote/webdriver.py\", line 312, in execute\n",
      "    self.error_handler.check_response(response)\n",
      "  File \"/Users/jaime/anaconda3/lib/python3.6/site-packages/selenium/webdriver/remote/errorhandler.py\", line 237, in check_response\n",
      "    raise exception_class(message, screen, stacktrace)\n",
      "selenium.common.exceptions.NoSuchElementException: Message: no such element: Unable to locate element: {\"method\":\"class name\",\"selector\":\"linksIntermedios\"}\n",
      "  (Session info: chrome=64.0.3282.140)\n",
      "  (Driver info: chromedriver=2.35.528157 (4429ca2590d6988c0745c24c8858745aaaec01ef),platform=Mac OS X 10.13.3 x86_64)\n",
      "\n"
     ]
    },
    {
     "data": {
      "application/vnd.jupyter.widget-view+json": {
       "model_id": "d477fc500f5f42cb976ad7778eb8a451",
       "version_major": 2,
       "version_minor": 0
      },
      "text/plain": [
       "A Jupyter Widget"
      ]
     },
     "metadata": {},
     "output_type": "display_data"
    },
    {
     "name": "stdout",
     "output_type": "stream",
     "text": [
      "\n",
      "Armada de Chile\n"
     ]
    },
    {
     "name": "stderr",
     "output_type": "stream",
     "text": [
      "Traceback (most recent call last):\n",
      "  File \"./lib/functions.py\", line 103, in getDepartmentData\n",
      "    for l in years_links_list:\n",
      "  File \"/Users/jaime/anaconda3/lib/python3.6/site-packages/selenium/webdriver/remote/webdriver.py\", line 555, in find_element_by_class_name\n",
      "    return self.find_element(by=By.CLASS_NAME, value=name)\n",
      "  File \"/Users/jaime/anaconda3/lib/python3.6/site-packages/selenium/webdriver/remote/webdriver.py\", line 955, in find_element\n",
      "    'value': value})['value']\n",
      "  File \"/Users/jaime/anaconda3/lib/python3.6/site-packages/selenium/webdriver/remote/webdriver.py\", line 312, in execute\n",
      "    self.error_handler.check_response(response)\n",
      "  File \"/Users/jaime/anaconda3/lib/python3.6/site-packages/selenium/webdriver/remote/errorhandler.py\", line 237, in check_response\n",
      "    raise exception_class(message, screen, stacktrace)\n",
      "selenium.common.exceptions.NoSuchElementException: Message: no such element: Unable to locate element: {\"method\":\"class name\",\"selector\":\"linksIntermedios\"}\n",
      "  (Session info: chrome=64.0.3282.140)\n",
      "  (Driver info: chromedriver=2.35.528157 (4429ca2590d6988c0745c24c8858745aaaec01ef),platform=Mac OS X 10.13.3 x86_64)\n",
      "\n"
     ]
    },
    {
     "name": "stdout",
     "output_type": "stream",
     "text": [
      "No contract data per_planta in http://www.gobiernotransparentechile.cl/directorio/entidad/4/101\n",
      "No contract data per_contrata in http://www.gobiernotransparentechile.cl/directorio/entidad/4/101\n"
     ]
    },
    {
     "name": "stderr",
     "output_type": "stream",
     "text": [
      "Traceback (most recent call last):\n",
      "  File \"./lib/functions.py\", line 103, in getDepartmentData\n",
      "    for l in years_links_list:\n",
      "  File \"/Users/jaime/anaconda3/lib/python3.6/site-packages/selenium/webdriver/remote/webdriver.py\", line 555, in find_element_by_class_name\n",
      "    return self.find_element(by=By.CLASS_NAME, value=name)\n",
      "  File \"/Users/jaime/anaconda3/lib/python3.6/site-packages/selenium/webdriver/remote/webdriver.py\", line 955, in find_element\n",
      "    'value': value})['value']\n",
      "  File \"/Users/jaime/anaconda3/lib/python3.6/site-packages/selenium/webdriver/remote/webdriver.py\", line 312, in execute\n",
      "    self.error_handler.check_response(response)\n",
      "  File \"/Users/jaime/anaconda3/lib/python3.6/site-packages/selenium/webdriver/remote/errorhandler.py\", line 237, in check_response\n",
      "    raise exception_class(message, screen, stacktrace)\n",
      "selenium.common.exceptions.NoSuchElementException: Message: no such element: Unable to locate element: {\"method\":\"class name\",\"selector\":\"linksIntermedios\"}\n",
      "  (Session info: chrome=64.0.3282.140)\n",
      "  (Driver info: chromedriver=2.35.528157 (4429ca2590d6988c0745c24c8858745aaaec01ef),platform=Mac OS X 10.13.3 x86_64)\n",
      "\n"
     ]
    },
    {
     "data": {
      "application/vnd.jupyter.widget-view+json": {
       "model_id": "0c0442f04c3c46219514a0c64a38293a",
       "version_major": 2,
       "version_minor": 0
      },
      "text/plain": [
       "A Jupyter Widget"
      ]
     },
     "metadata": {},
     "output_type": "display_data"
    },
    {
     "name": "stdout",
     "output_type": "stream",
     "text": [
      "\n",
      "Fuerza Aérea de Chile (FACH)\n"
     ]
    },
    {
     "name": "stderr",
     "output_type": "stream",
     "text": [
      "Traceback (most recent call last):\n",
      "  File \"./lib/functions.py\", line 103, in getDepartmentData\n",
      "    for l in years_links_list:\n",
      "  File \"/Users/jaime/anaconda3/lib/python3.6/site-packages/selenium/webdriver/remote/webdriver.py\", line 555, in find_element_by_class_name\n",
      "    return self.find_element(by=By.CLASS_NAME, value=name)\n",
      "  File \"/Users/jaime/anaconda3/lib/python3.6/site-packages/selenium/webdriver/remote/webdriver.py\", line 955, in find_element\n",
      "    'value': value})['value']\n",
      "  File \"/Users/jaime/anaconda3/lib/python3.6/site-packages/selenium/webdriver/remote/webdriver.py\", line 312, in execute\n",
      "    self.error_handler.check_response(response)\n",
      "  File \"/Users/jaime/anaconda3/lib/python3.6/site-packages/selenium/webdriver/remote/errorhandler.py\", line 237, in check_response\n",
      "    raise exception_class(message, screen, stacktrace)\n",
      "selenium.common.exceptions.NoSuchElementException: Message: no such element: Unable to locate element: {\"method\":\"class name\",\"selector\":\"linksIntermedios\"}\n",
      "  (Session info: chrome=64.0.3282.140)\n",
      "  (Driver info: chromedriver=2.35.528157 (4429ca2590d6988c0745c24c8858745aaaec01ef),platform=Mac OS X 10.13.3 x86_64)\n",
      "\n"
     ]
    },
    {
     "name": "stdout",
     "output_type": "stream",
     "text": [
      "No contract data per_planta in http://www.gobiernotransparentechile.cl/directorio/entidad/4/102\n",
      "No contract data per_contrata in http://www.gobiernotransparentechile.cl/directorio/entidad/4/102\n"
     ]
    },
    {
     "name": "stderr",
     "output_type": "stream",
     "text": [
      "Traceback (most recent call last):\n",
      "  File \"./lib/functions.py\", line 103, in getDepartmentData\n",
      "    for l in years_links_list:\n",
      "  File \"/Users/jaime/anaconda3/lib/python3.6/site-packages/selenium/webdriver/remote/webdriver.py\", line 555, in find_element_by_class_name\n",
      "    return self.find_element(by=By.CLASS_NAME, value=name)\n",
      "  File \"/Users/jaime/anaconda3/lib/python3.6/site-packages/selenium/webdriver/remote/webdriver.py\", line 955, in find_element\n",
      "    'value': value})['value']\n",
      "  File \"/Users/jaime/anaconda3/lib/python3.6/site-packages/selenium/webdriver/remote/webdriver.py\", line 312, in execute\n",
      "    self.error_handler.check_response(response)\n",
      "  File \"/Users/jaime/anaconda3/lib/python3.6/site-packages/selenium/webdriver/remote/errorhandler.py\", line 237, in check_response\n",
      "    raise exception_class(message, screen, stacktrace)\n",
      "selenium.common.exceptions.NoSuchElementException: Message: no such element: Unable to locate element: {\"method\":\"class name\",\"selector\":\"linksIntermedios\"}\n",
      "  (Session info: chrome=64.0.3282.140)\n",
      "  (Driver info: chromedriver=2.35.528157 (4429ca2590d6988c0745c24c8858745aaaec01ef),platform=Mac OS X 10.13.3 x86_64)\n",
      "\n"
     ]
    },
    {
     "data": {
      "application/vnd.jupyter.widget-view+json": {
       "model_id": "c83d9974431a4d6ea70eb1bf7f842eaa",
       "version_major": 2,
       "version_minor": 0
      },
      "text/plain": [
       "A Jupyter Widget"
      ]
     },
     "metadata": {},
     "output_type": "display_data"
    },
    {
     "name": "stdout",
     "output_type": "stream",
     "text": [
      "\n",
      "Defensa Civil de Chile\n"
     ]
    },
    {
     "name": "stderr",
     "output_type": "stream",
     "text": [
      "Traceback (most recent call last):\n",
      "  File \"./lib/functions.py\", line 103, in getDepartmentData\n",
      "    for l in years_links_list:\n",
      "  File \"/Users/jaime/anaconda3/lib/python3.6/site-packages/selenium/webdriver/remote/webdriver.py\", line 555, in find_element_by_class_name\n",
      "    return self.find_element(by=By.CLASS_NAME, value=name)\n",
      "  File \"/Users/jaime/anaconda3/lib/python3.6/site-packages/selenium/webdriver/remote/webdriver.py\", line 955, in find_element\n",
      "    'value': value})['value']\n",
      "  File \"/Users/jaime/anaconda3/lib/python3.6/site-packages/selenium/webdriver/remote/webdriver.py\", line 312, in execute\n",
      "    self.error_handler.check_response(response)\n",
      "  File \"/Users/jaime/anaconda3/lib/python3.6/site-packages/selenium/webdriver/remote/errorhandler.py\", line 237, in check_response\n",
      "    raise exception_class(message, screen, stacktrace)\n",
      "selenium.common.exceptions.NoSuchElementException: Message: no such element: Unable to locate element: {\"method\":\"class name\",\"selector\":\"linksIntermedios\"}\n",
      "  (Session info: chrome=64.0.3282.140)\n",
      "  (Driver info: chromedriver=2.35.528157 (4429ca2590d6988c0745c24c8858745aaaec01ef),platform=Mac OS X 10.13.3 x86_64)\n",
      "\n"
     ]
    },
    {
     "name": "stdout",
     "output_type": "stream",
     "text": [
      "No contract data per_planta in http://www.gobiernotransparentechile.cl/directorio/entidad/4/106\n",
      "No contract data per_contrata in http://www.gobiernotransparentechile.cl/directorio/entidad/4/106\n"
     ]
    },
    {
     "name": "stderr",
     "output_type": "stream",
     "text": [
      "Traceback (most recent call last):\n",
      "  File \"./lib/functions.py\", line 103, in getDepartmentData\n",
      "    for l in years_links_list:\n",
      "  File \"/Users/jaime/anaconda3/lib/python3.6/site-packages/selenium/webdriver/remote/webdriver.py\", line 555, in find_element_by_class_name\n",
      "    return self.find_element(by=By.CLASS_NAME, value=name)\n",
      "  File \"/Users/jaime/anaconda3/lib/python3.6/site-packages/selenium/webdriver/remote/webdriver.py\", line 955, in find_element\n",
      "    'value': value})['value']\n",
      "  File \"/Users/jaime/anaconda3/lib/python3.6/site-packages/selenium/webdriver/remote/webdriver.py\", line 312, in execute\n",
      "    self.error_handler.check_response(response)\n",
      "  File \"/Users/jaime/anaconda3/lib/python3.6/site-packages/selenium/webdriver/remote/errorhandler.py\", line 237, in check_response\n",
      "    raise exception_class(message, screen, stacktrace)\n",
      "selenium.common.exceptions.NoSuchElementException: Message: no such element: Unable to locate element: {\"method\":\"class name\",\"selector\":\"linksIntermedios\"}\n",
      "  (Session info: chrome=64.0.3282.140)\n",
      "  (Driver info: chromedriver=2.35.528157 (4429ca2590d6988c0745c24c8858745aaaec01ef),platform=Mac OS X 10.13.3 x86_64)\n",
      "\n"
     ]
    },
    {
     "data": {
      "application/vnd.jupyter.widget-view+json": {
       "model_id": "525d1ec8d0074de3b0ef8a1b58f23df5",
       "version_major": 2,
       "version_minor": 0
      },
      "text/plain": [
       "A Jupyter Widget"
      ]
     },
     "metadata": {},
     "output_type": "display_data"
    },
    {
     "name": "stdout",
     "output_type": "stream",
     "text": [
      "\n",
      "Dirección General de Movilización Nacional (DGMN)\n"
     ]
    },
    {
     "name": "stderr",
     "output_type": "stream",
     "text": [
      "Traceback (most recent call last):\n",
      "  File \"./lib/functions.py\", line 103, in getDepartmentData\n",
      "    for l in years_links_list:\n",
      "  File \"/Users/jaime/anaconda3/lib/python3.6/site-packages/selenium/webdriver/remote/webdriver.py\", line 555, in find_element_by_class_name\n",
      "    return self.find_element(by=By.CLASS_NAME, value=name)\n",
      "  File \"/Users/jaime/anaconda3/lib/python3.6/site-packages/selenium/webdriver/remote/webdriver.py\", line 955, in find_element\n",
      "    'value': value})['value']\n",
      "  File \"/Users/jaime/anaconda3/lib/python3.6/site-packages/selenium/webdriver/remote/webdriver.py\", line 312, in execute\n",
      "    self.error_handler.check_response(response)\n",
      "  File \"/Users/jaime/anaconda3/lib/python3.6/site-packages/selenium/webdriver/remote/errorhandler.py\", line 237, in check_response\n",
      "    raise exception_class(message, screen, stacktrace)\n",
      "selenium.common.exceptions.NoSuchElementException: Message: no such element: Unable to locate element: {\"method\":\"class name\",\"selector\":\"linksIntermedios\"}\n",
      "  (Session info: chrome=64.0.3282.140)\n",
      "  (Driver info: chromedriver=2.35.528157 (4429ca2590d6988c0745c24c8858745aaaec01ef),platform=Mac OS X 10.13.3 x86_64)\n",
      "\n"
     ]
    },
    {
     "name": "stdout",
     "output_type": "stream",
     "text": [
      "No contract data per_planta in http://www.gobiernotransparentechile.cl/directorio/entidad/4/107\n",
      "No contract data per_contrata in http://www.gobiernotransparentechile.cl/directorio/entidad/4/107\n"
     ]
    },
    {
     "name": "stderr",
     "output_type": "stream",
     "text": [
      "Traceback (most recent call last):\n",
      "  File \"./lib/functions.py\", line 103, in getDepartmentData\n",
      "    for l in years_links_list:\n",
      "  File \"/Users/jaime/anaconda3/lib/python3.6/site-packages/selenium/webdriver/remote/webdriver.py\", line 555, in find_element_by_class_name\n",
      "    return self.find_element(by=By.CLASS_NAME, value=name)\n",
      "  File \"/Users/jaime/anaconda3/lib/python3.6/site-packages/selenium/webdriver/remote/webdriver.py\", line 955, in find_element\n",
      "    'value': value})['value']\n",
      "  File \"/Users/jaime/anaconda3/lib/python3.6/site-packages/selenium/webdriver/remote/webdriver.py\", line 312, in execute\n",
      "    self.error_handler.check_response(response)\n",
      "  File \"/Users/jaime/anaconda3/lib/python3.6/site-packages/selenium/webdriver/remote/errorhandler.py\", line 237, in check_response\n",
      "    raise exception_class(message, screen, stacktrace)\n",
      "selenium.common.exceptions.NoSuchElementException: Message: no such element: Unable to locate element: {\"method\":\"class name\",\"selector\":\"linksIntermedios\"}\n",
      "  (Session info: chrome=64.0.3282.140)\n",
      "  (Driver info: chromedriver=2.35.528157 (4429ca2590d6988c0745c24c8858745aaaec01ef),platform=Mac OS X 10.13.3 x86_64)\n",
      "\n"
     ]
    },
    {
     "data": {
      "application/vnd.jupyter.widget-view+json": {
       "model_id": "e08ada94771a4ddcbca59c36e94e7569",
       "version_major": 2,
       "version_minor": 0
      },
      "text/plain": [
       "A Jupyter Widget"
      ]
     },
     "metadata": {},
     "output_type": "display_data"
    },
    {
     "name": "stdout",
     "output_type": "stream",
     "text": [
      "\n",
      "Dirección General del Territorio Marítimo y Marina Mercante (DIRECTEMAR)\n"
     ]
    },
    {
     "name": "stderr",
     "output_type": "stream",
     "text": [
      "Traceback (most recent call last):\n",
      "  File \"./lib/functions.py\", line 103, in getDepartmentData\n",
      "    for l in years_links_list:\n",
      "  File \"/Users/jaime/anaconda3/lib/python3.6/site-packages/selenium/webdriver/remote/webdriver.py\", line 555, in find_element_by_class_name\n",
      "    return self.find_element(by=By.CLASS_NAME, value=name)\n",
      "  File \"/Users/jaime/anaconda3/lib/python3.6/site-packages/selenium/webdriver/remote/webdriver.py\", line 955, in find_element\n",
      "    'value': value})['value']\n",
      "  File \"/Users/jaime/anaconda3/lib/python3.6/site-packages/selenium/webdriver/remote/webdriver.py\", line 312, in execute\n",
      "    self.error_handler.check_response(response)\n",
      "  File \"/Users/jaime/anaconda3/lib/python3.6/site-packages/selenium/webdriver/remote/errorhandler.py\", line 237, in check_response\n",
      "    raise exception_class(message, screen, stacktrace)\n",
      "selenium.common.exceptions.NoSuchElementException: Message: no such element: Unable to locate element: {\"method\":\"class name\",\"selector\":\"linksIntermedios\"}\n",
      "  (Session info: chrome=64.0.3282.140)\n",
      "  (Driver info: chromedriver=2.35.528157 (4429ca2590d6988c0745c24c8858745aaaec01ef),platform=Mac OS X 10.13.3 x86_64)\n",
      "\n"
     ]
    },
    {
     "name": "stdout",
     "output_type": "stream",
     "text": [
      "No contract data per_planta in http://www.gobiernotransparentechile.cl/directorio/entidad/4/108\n",
      "No contract data per_contrata in http://www.gobiernotransparentechile.cl/directorio/entidad/4/108\n"
     ]
    },
    {
     "name": "stderr",
     "output_type": "stream",
     "text": [
      "Traceback (most recent call last):\n",
      "  File \"./lib/functions.py\", line 103, in getDepartmentData\n",
      "    for l in years_links_list:\n",
      "  File \"/Users/jaime/anaconda3/lib/python3.6/site-packages/selenium/webdriver/remote/webdriver.py\", line 555, in find_element_by_class_name\n",
      "    return self.find_element(by=By.CLASS_NAME, value=name)\n",
      "  File \"/Users/jaime/anaconda3/lib/python3.6/site-packages/selenium/webdriver/remote/webdriver.py\", line 955, in find_element\n",
      "    'value': value})['value']\n",
      "  File \"/Users/jaime/anaconda3/lib/python3.6/site-packages/selenium/webdriver/remote/webdriver.py\", line 312, in execute\n",
      "    self.error_handler.check_response(response)\n",
      "  File \"/Users/jaime/anaconda3/lib/python3.6/site-packages/selenium/webdriver/remote/errorhandler.py\", line 237, in check_response\n",
      "    raise exception_class(message, screen, stacktrace)\n",
      "selenium.common.exceptions.NoSuchElementException: Message: no such element: Unable to locate element: {\"method\":\"class name\",\"selector\":\"linksIntermedios\"}\n",
      "  (Session info: chrome=64.0.3282.140)\n",
      "  (Driver info: chromedriver=2.35.528157 (4429ca2590d6988c0745c24c8858745aaaec01ef),platform=Mac OS X 10.13.3 x86_64)\n",
      "\n"
     ]
    },
    {
     "data": {
      "application/vnd.jupyter.widget-view+json": {
       "model_id": "dc0b98adf3534032813bde4be2d78bc9",
       "version_major": 2,
       "version_minor": 0
      },
      "text/plain": [
       "A Jupyter Widget"
      ]
     },
     "metadata": {},
     "output_type": "display_data"
    },
    {
     "name": "stdout",
     "output_type": "stream",
     "text": [
      "\n",
      "Caja de Previsión de la Defensa Nacional (CAPREDENA)\n"
     ]
    },
    {
     "data": {
      "application/vnd.jupyter.widget-view+json": {
       "model_id": "5bb13ef273b84a23b9af38e4888765b4",
       "version_major": 2,
       "version_minor": 0
      },
      "text/plain": [
       "A Jupyter Widget"
      ]
     },
     "metadata": {},
     "output_type": "display_data"
    },
    {
     "name": "stdout",
     "output_type": "stream",
     "text": [
      "per_planta Año 2017\n",
      "per_planta Año 2016\n",
      "per_planta Año 2015\n",
      "per_planta Año 2014\n",
      "per_planta Año 2013\n",
      "per_planta Año 2012\n",
      "per_planta Año 2011\n",
      "per_planta Año 2010\n",
      "per_planta Año 2009\n",
      "per_planta Año 2008\n",
      "per_planta Año 2007\n",
      "per_planta Año 2006\n",
      "per_contrata Año 2017\n",
      "per_contrata Año 2016\n",
      "per_contrata Año 2015\n",
      "per_contrata Año 2014\n",
      "per_contrata Año 2012\n",
      "per_contrata Año 2011\n",
      "per_contrata Año 2010\n",
      "per_contrata Año 2009\n",
      "per_contrata Año 2008\n",
      "per_contrata Año 2007\n",
      "per_contrata Año 2006\n",
      "\n",
      "Instituto Geográfico Militar (IGM)\n"
     ]
    },
    {
     "name": "stderr",
     "output_type": "stream",
     "text": [
      "Traceback (most recent call last):\n",
      "  File \"./lib/functions.py\", line 103, in getDepartmentData\n",
      "    for l in years_links_list:\n",
      "  File \"/Users/jaime/anaconda3/lib/python3.6/site-packages/selenium/webdriver/remote/webdriver.py\", line 555, in find_element_by_class_name\n",
      "    return self.find_element(by=By.CLASS_NAME, value=name)\n",
      "  File \"/Users/jaime/anaconda3/lib/python3.6/site-packages/selenium/webdriver/remote/webdriver.py\", line 955, in find_element\n",
      "    'value': value})['value']\n",
      "  File \"/Users/jaime/anaconda3/lib/python3.6/site-packages/selenium/webdriver/remote/webdriver.py\", line 312, in execute\n",
      "    self.error_handler.check_response(response)\n",
      "  File \"/Users/jaime/anaconda3/lib/python3.6/site-packages/selenium/webdriver/remote/errorhandler.py\", line 237, in check_response\n",
      "    raise exception_class(message, screen, stacktrace)\n",
      "selenium.common.exceptions.NoSuchElementException: Message: no such element: Unable to locate element: {\"method\":\"class name\",\"selector\":\"linksIntermedios\"}\n",
      "  (Session info: chrome=64.0.3282.140)\n",
      "  (Driver info: chromedriver=2.35.528157 (4429ca2590d6988c0745c24c8858745aaaec01ef),platform=Mac OS X 10.13.3 x86_64)\n",
      "\n"
     ]
    },
    {
     "name": "stdout",
     "output_type": "stream",
     "text": [
      "No contract data per_planta in http://www.gobiernotransparentechile.cl/directorio/entidad/4/111\n",
      "No contract data per_contrata in http://www.gobiernotransparentechile.cl/directorio/entidad/4/111\n"
     ]
    },
    {
     "name": "stderr",
     "output_type": "stream",
     "text": [
      "Traceback (most recent call last):\n",
      "  File \"./lib/functions.py\", line 103, in getDepartmentData\n",
      "    for l in years_links_list:\n",
      "  File \"/Users/jaime/anaconda3/lib/python3.6/site-packages/selenium/webdriver/remote/webdriver.py\", line 555, in find_element_by_class_name\n",
      "    return self.find_element(by=By.CLASS_NAME, value=name)\n",
      "  File \"/Users/jaime/anaconda3/lib/python3.6/site-packages/selenium/webdriver/remote/webdriver.py\", line 955, in find_element\n",
      "    'value': value})['value']\n",
      "  File \"/Users/jaime/anaconda3/lib/python3.6/site-packages/selenium/webdriver/remote/webdriver.py\", line 312, in execute\n",
      "    self.error_handler.check_response(response)\n",
      "  File \"/Users/jaime/anaconda3/lib/python3.6/site-packages/selenium/webdriver/remote/errorhandler.py\", line 237, in check_response\n",
      "    raise exception_class(message, screen, stacktrace)\n",
      "selenium.common.exceptions.NoSuchElementException: Message: no such element: Unable to locate element: {\"method\":\"class name\",\"selector\":\"linksIntermedios\"}\n",
      "  (Session info: chrome=64.0.3282.140)\n",
      "  (Driver info: chromedriver=2.35.528157 (4429ca2590d6988c0745c24c8858745aaaec01ef),platform=Mac OS X 10.13.3 x86_64)\n",
      "\n"
     ]
    },
    {
     "data": {
      "application/vnd.jupyter.widget-view+json": {
       "model_id": "3ffe5f128f4341eca7a60917731110f7",
       "version_major": 2,
       "version_minor": 0
      },
      "text/plain": [
       "A Jupyter Widget"
      ]
     },
     "metadata": {},
     "output_type": "display_data"
    },
    {
     "name": "stdout",
     "output_type": "stream",
     "text": [
      "\n",
      "Servicio Aerofotogramétrico FACH\n"
     ]
    },
    {
     "name": "stderr",
     "output_type": "stream",
     "text": [
      "Traceback (most recent call last):\n",
      "  File \"./lib/functions.py\", line 103, in getDepartmentData\n",
      "    for l in years_links_list:\n",
      "  File \"/Users/jaime/anaconda3/lib/python3.6/site-packages/selenium/webdriver/remote/webdriver.py\", line 555, in find_element_by_class_name\n",
      "    return self.find_element(by=By.CLASS_NAME, value=name)\n",
      "  File \"/Users/jaime/anaconda3/lib/python3.6/site-packages/selenium/webdriver/remote/webdriver.py\", line 955, in find_element\n",
      "    'value': value})['value']\n",
      "  File \"/Users/jaime/anaconda3/lib/python3.6/site-packages/selenium/webdriver/remote/webdriver.py\", line 312, in execute\n",
      "    self.error_handler.check_response(response)\n",
      "  File \"/Users/jaime/anaconda3/lib/python3.6/site-packages/selenium/webdriver/remote/errorhandler.py\", line 237, in check_response\n",
      "    raise exception_class(message, screen, stacktrace)\n",
      "selenium.common.exceptions.NoSuchElementException: Message: no such element: Unable to locate element: {\"method\":\"class name\",\"selector\":\"linksIntermedios\"}\n",
      "  (Session info: chrome=64.0.3282.140)\n",
      "  (Driver info: chromedriver=2.35.528157 (4429ca2590d6988c0745c24c8858745aaaec01ef),platform=Mac OS X 10.13.3 x86_64)\n",
      "\n"
     ]
    },
    {
     "name": "stdout",
     "output_type": "stream",
     "text": [
      "No contract data per_planta in http://www.gobiernotransparentechile.cl/directorio/entidad/4/112\n",
      "No contract data per_contrata in http://www.gobiernotransparentechile.cl/directorio/entidad/4/112\n"
     ]
    },
    {
     "name": "stderr",
     "output_type": "stream",
     "text": [
      "Traceback (most recent call last):\n",
      "  File \"./lib/functions.py\", line 103, in getDepartmentData\n",
      "    for l in years_links_list:\n",
      "  File \"/Users/jaime/anaconda3/lib/python3.6/site-packages/selenium/webdriver/remote/webdriver.py\", line 555, in find_element_by_class_name\n",
      "    return self.find_element(by=By.CLASS_NAME, value=name)\n",
      "  File \"/Users/jaime/anaconda3/lib/python3.6/site-packages/selenium/webdriver/remote/webdriver.py\", line 955, in find_element\n",
      "    'value': value})['value']\n",
      "  File \"/Users/jaime/anaconda3/lib/python3.6/site-packages/selenium/webdriver/remote/webdriver.py\", line 312, in execute\n",
      "    self.error_handler.check_response(response)\n",
      "  File \"/Users/jaime/anaconda3/lib/python3.6/site-packages/selenium/webdriver/remote/errorhandler.py\", line 237, in check_response\n",
      "    raise exception_class(message, screen, stacktrace)\n",
      "selenium.common.exceptions.NoSuchElementException: Message: no such element: Unable to locate element: {\"method\":\"class name\",\"selector\":\"linksIntermedios\"}\n",
      "  (Session info: chrome=64.0.3282.140)\n",
      "  (Driver info: chromedriver=2.35.528157 (4429ca2590d6988c0745c24c8858745aaaec01ef),platform=Mac OS X 10.13.3 x86_64)\n",
      "\n"
     ]
    },
    {
     "data": {
      "application/vnd.jupyter.widget-view+json": {
       "model_id": "984f167abf694866a8310b9928dd2b93",
       "version_major": 2,
       "version_minor": 0
      },
      "text/plain": [
       "A Jupyter Widget"
      ]
     },
     "metadata": {},
     "output_type": "display_data"
    },
    {
     "name": "stdout",
     "output_type": "stream",
     "text": [
      "\n",
      "Servicio Hidrográfico y Oceanográfico de la Armada\n"
     ]
    },
    {
     "name": "stderr",
     "output_type": "stream",
     "text": [
      "Traceback (most recent call last):\n",
      "  File \"./lib/functions.py\", line 103, in getDepartmentData\n",
      "    for l in years_links_list:\n",
      "  File \"/Users/jaime/anaconda3/lib/python3.6/site-packages/selenium/webdriver/remote/webdriver.py\", line 555, in find_element_by_class_name\n",
      "    return self.find_element(by=By.CLASS_NAME, value=name)\n",
      "  File \"/Users/jaime/anaconda3/lib/python3.6/site-packages/selenium/webdriver/remote/webdriver.py\", line 955, in find_element\n",
      "    'value': value})['value']\n",
      "  File \"/Users/jaime/anaconda3/lib/python3.6/site-packages/selenium/webdriver/remote/webdriver.py\", line 312, in execute\n",
      "    self.error_handler.check_response(response)\n",
      "  File \"/Users/jaime/anaconda3/lib/python3.6/site-packages/selenium/webdriver/remote/errorhandler.py\", line 237, in check_response\n",
      "    raise exception_class(message, screen, stacktrace)\n",
      "selenium.common.exceptions.NoSuchElementException: Message: no such element: Unable to locate element: {\"method\":\"class name\",\"selector\":\"linksIntermedios\"}\n",
      "  (Session info: chrome=64.0.3282.140)\n",
      "  (Driver info: chromedriver=2.35.528157 (4429ca2590d6988c0745c24c8858745aaaec01ef),platform=Mac OS X 10.13.3 x86_64)\n",
      "\n"
     ]
    },
    {
     "name": "stdout",
     "output_type": "stream",
     "text": [
      "No contract data per_planta in http://www.gobiernotransparentechile.cl/directorio/entidad/4/113\n",
      "No contract data per_contrata in http://www.gobiernotransparentechile.cl/directorio/entidad/4/113\n"
     ]
    },
    {
     "name": "stderr",
     "output_type": "stream",
     "text": [
      "Traceback (most recent call last):\n",
      "  File \"./lib/functions.py\", line 103, in getDepartmentData\n",
      "    for l in years_links_list:\n",
      "  File \"/Users/jaime/anaconda3/lib/python3.6/site-packages/selenium/webdriver/remote/webdriver.py\", line 555, in find_element_by_class_name\n",
      "    return self.find_element(by=By.CLASS_NAME, value=name)\n",
      "  File \"/Users/jaime/anaconda3/lib/python3.6/site-packages/selenium/webdriver/remote/webdriver.py\", line 955, in find_element\n",
      "    'value': value})['value']\n",
      "  File \"/Users/jaime/anaconda3/lib/python3.6/site-packages/selenium/webdriver/remote/webdriver.py\", line 312, in execute\n",
      "    self.error_handler.check_response(response)\n",
      "  File \"/Users/jaime/anaconda3/lib/python3.6/site-packages/selenium/webdriver/remote/errorhandler.py\", line 237, in check_response\n",
      "    raise exception_class(message, screen, stacktrace)\n",
      "selenium.common.exceptions.NoSuchElementException: Message: no such element: Unable to locate element: {\"method\":\"class name\",\"selector\":\"linksIntermedios\"}\n",
      "  (Session info: chrome=64.0.3282.140)\n",
      "  (Driver info: chromedriver=2.35.528157 (4429ca2590d6988c0745c24c8858745aaaec01ef),platform=Mac OS X 10.13.3 x86_64)\n",
      "\n"
     ]
    },
    {
     "data": {
      "application/vnd.jupyter.widget-view+json": {
       "model_id": "064d0455976247ca8d4c61207ff0aff1",
       "version_major": 2,
       "version_minor": 0
      },
      "text/plain": [
       "A Jupyter Widget"
      ]
     },
     "metadata": {},
     "output_type": "display_data"
    },
    {
     "name": "stdout",
     "output_type": "stream",
     "text": [
      "\n",
      "Dirección General de Aeronáutica Civil (DGAC)\n"
     ]
    },
    {
     "name": "stderr",
     "output_type": "stream",
     "text": [
      "Traceback (most recent call last):\n",
      "  File \"./lib/functions.py\", line 103, in getDepartmentData\n",
      "    for l in years_links_list:\n",
      "  File \"/Users/jaime/anaconda3/lib/python3.6/site-packages/selenium/webdriver/remote/webdriver.py\", line 555, in find_element_by_class_name\n",
      "    return self.find_element(by=By.CLASS_NAME, value=name)\n",
      "  File \"/Users/jaime/anaconda3/lib/python3.6/site-packages/selenium/webdriver/remote/webdriver.py\", line 955, in find_element\n",
      "    'value': value})['value']\n",
      "  File \"/Users/jaime/anaconda3/lib/python3.6/site-packages/selenium/webdriver/remote/webdriver.py\", line 312, in execute\n",
      "    self.error_handler.check_response(response)\n",
      "  File \"/Users/jaime/anaconda3/lib/python3.6/site-packages/selenium/webdriver/remote/errorhandler.py\", line 237, in check_response\n",
      "    raise exception_class(message, screen, stacktrace)\n",
      "selenium.common.exceptions.NoSuchElementException: Message: no such element: Unable to locate element: {\"method\":\"class name\",\"selector\":\"linksIntermedios\"}\n",
      "  (Session info: chrome=64.0.3282.140)\n",
      "  (Driver info: chromedriver=2.35.528157 (4429ca2590d6988c0745c24c8858745aaaec01ef),platform=Mac OS X 10.13.3 x86_64)\n",
      "\n"
     ]
    },
    {
     "name": "stdout",
     "output_type": "stream",
     "text": [
      "No contract data per_planta in http://www.gobiernotransparentechile.cl/directorio/entidad/4/114\n",
      "No contract data per_contrata in http://www.gobiernotransparentechile.cl/directorio/entidad/4/114\n"
     ]
    },
    {
     "name": "stderr",
     "output_type": "stream",
     "text": [
      "Traceback (most recent call last):\n",
      "  File \"./lib/functions.py\", line 103, in getDepartmentData\n",
      "    for l in years_links_list:\n",
      "  File \"/Users/jaime/anaconda3/lib/python3.6/site-packages/selenium/webdriver/remote/webdriver.py\", line 555, in find_element_by_class_name\n",
      "    return self.find_element(by=By.CLASS_NAME, value=name)\n",
      "  File \"/Users/jaime/anaconda3/lib/python3.6/site-packages/selenium/webdriver/remote/webdriver.py\", line 955, in find_element\n",
      "    'value': value})['value']\n",
      "  File \"/Users/jaime/anaconda3/lib/python3.6/site-packages/selenium/webdriver/remote/webdriver.py\", line 312, in execute\n",
      "    self.error_handler.check_response(response)\n",
      "  File \"/Users/jaime/anaconda3/lib/python3.6/site-packages/selenium/webdriver/remote/errorhandler.py\", line 237, in check_response\n",
      "    raise exception_class(message, screen, stacktrace)\n",
      "selenium.common.exceptions.NoSuchElementException: Message: no such element: Unable to locate element: {\"method\":\"class name\",\"selector\":\"linksIntermedios\"}\n",
      "  (Session info: chrome=64.0.3282.140)\n",
      "  (Driver info: chromedriver=2.35.528157 (4429ca2590d6988c0745c24c8858745aaaec01ef),platform=Mac OS X 10.13.3 x86_64)\n",
      "\n"
     ]
    },
    {
     "data": {
      "application/vnd.jupyter.widget-view+json": {
       "model_id": "5ebde31de95046d1899182d9beb51a31",
       "version_major": 2,
       "version_minor": 0
      },
      "text/plain": [
       "A Jupyter Widget"
      ]
     },
     "metadata": {},
     "output_type": "display_data"
    },
    {
     "name": "stdout",
     "output_type": "stream",
     "text": [
      "\n",
      "Ministerio de Hacienda\n",
      "Subsecretaría de Hacienda\n"
     ]
    },
    {
     "data": {
      "application/vnd.jupyter.widget-view+json": {
       "model_id": "d6cd5340ee4e429f902e76c9f6876741",
       "version_major": 2,
       "version_minor": 0
      },
      "text/plain": [
       "A Jupyter Widget"
      ]
     },
     "metadata": {},
     "output_type": "display_data"
    },
    {
     "name": "stdout",
     "output_type": "stream",
     "text": [
      "per_planta Año 2017\n",
      "per_planta Año 2016\n",
      "per_planta Año 2015\n",
      "per_planta Año 2014\n",
      "per_planta Año 2013\n",
      "per_planta Año 2012\n",
      "per_planta Año 2011\n",
      "per_planta Año 2010\n",
      "per_planta Año 2009\n",
      "per_planta Año 2008\n",
      "per_planta Año 2007\n",
      "per_planta Año 2006\n",
      "per_contrata Año 2017\n",
      "per_contrata Año 2016\n",
      "per_contrata Año 2015\n",
      "per_contrata Año 2014\n",
      "per_contrata Año 2013\n",
      "per_contrata Año 2012\n",
      "per_contrata Año 2011\n",
      "per_contrata Año 2010\n",
      "per_contrata Año 2009\n",
      "per_contrata Año 2008\n",
      "per_contrata Año 2007\n",
      "per_contrata Año 2006\n",
      "\n",
      "Dirección de Presupuestos (DIPRES)\n"
     ]
    },
    {
     "data": {
      "application/vnd.jupyter.widget-view+json": {
       "model_id": "d1bf995fb7b3418f9e2eab18938ecdcc",
       "version_major": 2,
       "version_minor": 0
      },
      "text/plain": [
       "A Jupyter Widget"
      ]
     },
     "metadata": {},
     "output_type": "display_data"
    },
    {
     "name": "stdout",
     "output_type": "stream",
     "text": [
      "per_planta Histórico\n",
      "per_planta Año 2017\n",
      "per_contrata Histórico\n",
      "per_contrata Año 2017\n",
      "\n",
      "Tesorería General de la República\n"
     ]
    },
    {
     "data": {
      "application/vnd.jupyter.widget-view+json": {
       "model_id": "c46c9e52c09d4b65b8bfb9380763330b",
       "version_major": 2,
       "version_minor": 0
      },
      "text/plain": [
       "A Jupyter Widget"
      ]
     },
     "metadata": {},
     "output_type": "display_data"
    },
    {
     "name": "stdout",
     "output_type": "stream",
     "text": [
      "per_planta Año 2009\n",
      "per_planta Año 2017\n",
      "per_planta Año 2016\n",
      "per_planta Año 2015\n",
      "per_planta Año 2014\n",
      "per_planta Año 2013\n",
      "per_planta Año 2012\n",
      "per_planta Año 2011\n",
      "per_planta Año 2010\n",
      "per_planta Año 2008\n",
      "per_planta Año 2007\n",
      "per_planta Año 2006\n",
      "per_contrata Año 2009\n",
      "per_contrata Año 2017\n",
      "per_contrata Año 2016\n",
      "per_contrata Año 2015\n",
      "per_contrata Año 2014\n",
      "per_contrata Año 2013\n",
      "per_contrata Año 2012\n",
      "per_contrata Año 2011\n",
      "per_contrata Año 2010\n",
      "per_contrata Año 2008\n",
      "per_contrata Año 2007\n",
      "per_contrata Año 2006\n",
      "\n",
      "Dirección Nacional del Servicio Civil\n"
     ]
    },
    {
     "data": {
      "application/vnd.jupyter.widget-view+json": {
       "model_id": "9348df21e15a47b086cbc35e10650fb0",
       "version_major": 2,
       "version_minor": 0
      },
      "text/plain": [
       "A Jupyter Widget"
      ]
     },
     "metadata": {},
     "output_type": "display_data"
    },
    {
     "name": "stdout",
     "output_type": "stream",
     "text": [
      "per_planta Año 2016\n",
      "per_planta Año 2015\n",
      "per_planta Año 2014\n",
      "per_planta Año 2013\n",
      "per_planta Año 2012\n",
      "per_planta Año 2011\n",
      "per_planta Año 2010\n",
      "per_planta Año 2009\n",
      "per_planta Año 2008\n",
      "per_planta Año 2007\n",
      "per_planta Año 2006\n",
      "per_contrata \n",
      "could not get breadcrumbs from http://www.serviciocivil.gob.cl/transparencia/file:///C:/Documents%20and%20Settings/Palvear/Escritorio/index.html\n",
      "per_contrata Año 2016\n",
      "per_contrata Año 2015\n",
      "per_contrata Año 2014\n",
      "per_contrata Año 2013\n",
      "per_contrata Año 2012\n",
      "per_contrata Año 2011\n",
      "per_contrata Año 2010\n",
      "per_contrata Año 2009\n",
      "per_contrata Año 2008\n",
      "per_contrata Año 2007\n",
      "per_contrata Año 2006\n",
      "\n",
      "Unidad de Análisis Financiero (UAF)\n"
     ]
    },
    {
     "data": {
      "application/vnd.jupyter.widget-view+json": {
       "model_id": "18271f6bdbab4cae82bc6749d71776ea",
       "version_major": 2,
       "version_minor": 0
      },
      "text/plain": [
       "A Jupyter Widget"
      ]
     },
     "metadata": {},
     "output_type": "display_data"
    },
    {
     "name": "stdout",
     "output_type": "stream",
     "text": [
      "per_planta Año 2017\n",
      "per_planta Año 2016\n",
      "per_planta Año 2015\n",
      "per_planta Año 2014\n",
      "per_planta Año 2013\n",
      "per_planta Año 2012\n",
      "per_planta Año 2011\n",
      "per_planta Año 2010\n",
      "per_planta Año 2009\n",
      "per_planta Año 2008\n",
      "per_planta Año 2007\n",
      "per_planta Año 2006\n",
      "per_contrata Año 2017\n",
      "per_contrata Año 2016\n",
      "per_contrata Año 2015\n",
      "per_contrata Año 2014\n",
      "per_contrata Año 2013\n",
      "per_contrata Año 2012\n",
      "per_contrata Año 2011\n",
      "per_contrata Año 2010\n",
      "per_contrata Año 2009\n",
      "per_contrata Año 2008\n",
      "per_contrata Año 2007\n",
      "per_contrata Año 2006\n",
      "\n",
      "Servicio de Impuestos Internos (SII)\n"
     ]
    },
    {
     "data": {
      "application/vnd.jupyter.widget-view+json": {
       "model_id": "6651a9d939704e20a7009ea2e6703d0d",
       "version_major": 2,
       "version_minor": 0
      },
      "text/plain": [
       "A Jupyter Widget"
      ]
     },
     "metadata": {},
     "output_type": "display_data"
    },
    {
     "name": "stdout",
     "output_type": "stream",
     "text": [
      "per_planta Año 2008\n",
      "could not get breadcrumbs from http://www.sii.cl/transparencia/dotacionplanta2008.html\n",
      "per_planta Año 2007\n",
      "could not get breadcrumbs from http://www.sii.cl/transparencia/dotacionplanta2007.html\n",
      "per_planta Año 2006\n",
      "could not get breadcrumbs from http://www.sii.cl/transparencia/dotacionplanta2006.html\n",
      "per_planta Año 2017\n",
      "could not get breadcrumbs from http://www.sii.cl/transparencia/2017/per_planta_dic.html\n",
      "per_planta Año 2016\n",
      "could not get breadcrumbs from http://www.sii.cl/transparencia/2016/per_planta_abr.html\n",
      "per_planta Año 2015\n",
      "could not get breadcrumbs from http://www.sii.cl/transparencia/2015/per_planta_abr.html\n",
      "per_planta Año 2014\n",
      "could not get breadcrumbs from http://www.sii.cl/transparencia/2014/per_planta_abr.html\n",
      "per_planta Año 2013\n",
      "could not get breadcrumbs from http://www.sii.cl/transparencia/2013/per_planta_abr.html\n",
      "per_planta Año 2012\n",
      "could not get breadcrumbs from http://www.sii.cl/transparencia/2012/per_planta_abr.html\n",
      "per_planta Año 2011\n",
      "could not get breadcrumbs from http://www.sii.cl/transparencia/2011/per_planta_abr.html\n",
      "per_planta Año 2010\n",
      "could not get breadcrumbs from http://www.sii.cl/transparencia/2010/per_planta_abr.html\n",
      "per_planta Año 2009\n",
      "could not get breadcrumbs from http://www.sii.cl/transparencia/2009/per_planta.html\n",
      "per_contrata Año 2008\n",
      "could not get breadcrumbs from http://www.sii.cl/transparencia/dotacioncontrata2008.html\n",
      "per_contrata Año 2007\n",
      "could not get breadcrumbs from http://www.sii.cl/transparencia/dotacioncontrata2007.html\n",
      "per_contrata Año 2006\n",
      "could not get breadcrumbs from http://www.sii.cl/transparencia/dotacioncontrata2006.html\n",
      "per_contrata Año 2017\n",
      "could not get breadcrumbs from http://www.sii.cl/transparencia/2017/per_contrata_dic.html\n",
      "per_contrata Año 2016\n",
      "could not get breadcrumbs from http://www.sii.cl/transparencia/2016/per_contrata_abr.html\n",
      "per_contrata Año 2015\n",
      "could not get breadcrumbs from http://www.sii.cl/transparencia/2015/per_contrata_abr.html\n",
      "per_contrata Año 2014\n",
      "could not get breadcrumbs from http://www.sii.cl/transparencia/2014/per_contrata_abr.html\n",
      "per_contrata Año 2013\n",
      "could not get breadcrumbs from http://www.sii.cl/transparencia/2013/per_contrata_abr.html\n",
      "per_contrata Año 2012\n",
      "could not get breadcrumbs from http://www.sii.cl/transparencia/2012/per_contrata_abr.html\n",
      "per_contrata Año 2011\n",
      "could not get breadcrumbs from http://www.sii.cl/transparencia/2011/per_contrata_abr.html\n",
      "per_contrata Año 2010\n",
      "could not get breadcrumbs from http://www.sii.cl/transparencia/2010/per_contrata_abr.html\n",
      "per_contrata Año 2009\n",
      "could not get breadcrumbs from http://www.sii.cl/transparencia/2009/per_contrata.html\n",
      "\n",
      "Servicio Nacional de Aduanas\n"
     ]
    },
    {
     "data": {
      "application/vnd.jupyter.widget-view+json": {
       "model_id": "ef8100d3e0854d14be189abce9063f74",
       "version_major": 2,
       "version_minor": 0
      },
      "text/plain": [
       "A Jupyter Widget"
      ]
     },
     "metadata": {},
     "output_type": "display_data"
    },
    {
     "name": "stdout",
     "output_type": "stream",
     "text": [
      "per_planta Año 2017\n",
      "per_planta Año 2016\n",
      "per_planta Año 2015\n",
      "per_planta Año 2014\n",
      "per_planta Año 2013\n",
      "per_planta Año 2012\n",
      "per_planta Año 2011\n",
      "per_planta Año 2010\n",
      "per_planta Año 2009\n",
      "per_planta Año 2008\n",
      "per_planta Año 2007\n",
      "per_planta Año 2006\n",
      "per_contrata Año 2017\n",
      "per_contrata Año 2016\n",
      "per_contrata Año 2015\n",
      "per_contrata Año 2014\n",
      "per_contrata Año 2013\n",
      "per_contrata Año 2012\n",
      "per_contrata Año 2011\n",
      "per_contrata Año 2010\n",
      "per_contrata Año 2009\n",
      "per_contrata Año 2008\n",
      "per_contrata Año 2007\n",
      "per_contrata Año 2006\n",
      "\n",
      "Superintendencia de Bancos e Instituciones Financieras (SBIF)\n"
     ]
    },
    {
     "name": "stderr",
     "output_type": "stream",
     "text": [
      "Traceback (most recent call last):\n",
      "  File \"./lib/functions.py\", line 103, in getDepartmentData\n",
      "    for l in years_links_list:\n",
      "  File \"/Users/jaime/anaconda3/lib/python3.6/site-packages/selenium/webdriver/remote/webdriver.py\", line 555, in find_element_by_class_name\n",
      "    return self.find_element(by=By.CLASS_NAME, value=name)\n",
      "  File \"/Users/jaime/anaconda3/lib/python3.6/site-packages/selenium/webdriver/remote/webdriver.py\", line 955, in find_element\n",
      "    'value': value})['value']\n",
      "  File \"/Users/jaime/anaconda3/lib/python3.6/site-packages/selenium/webdriver/remote/webdriver.py\", line 312, in execute\n",
      "    self.error_handler.check_response(response)\n",
      "  File \"/Users/jaime/anaconda3/lib/python3.6/site-packages/selenium/webdriver/remote/errorhandler.py\", line 237, in check_response\n",
      "    raise exception_class(message, screen, stacktrace)\n",
      "selenium.common.exceptions.NoSuchElementException: Message: no such element: Unable to locate element: {\"method\":\"class name\",\"selector\":\"linksIntermedios\"}\n",
      "  (Session info: chrome=64.0.3282.140)\n",
      "  (Driver info: chromedriver=2.35.528157 (4429ca2590d6988c0745c24c8858745aaaec01ef),platform=Mac OS X 10.13.3 x86_64)\n",
      "\n"
     ]
    },
    {
     "name": "stdout",
     "output_type": "stream",
     "text": [
      "No contract data per_planta in http://www.gobiernotransparentechile.cl/directorio/entidad/5/122\n",
      "No contract data per_contrata in http://www.gobiernotransparentechile.cl/directorio/entidad/5/122\n"
     ]
    },
    {
     "name": "stderr",
     "output_type": "stream",
     "text": [
      "Traceback (most recent call last):\n",
      "  File \"./lib/functions.py\", line 103, in getDepartmentData\n",
      "    for l in years_links_list:\n",
      "  File \"/Users/jaime/anaconda3/lib/python3.6/site-packages/selenium/webdriver/remote/webdriver.py\", line 555, in find_element_by_class_name\n",
      "    return self.find_element(by=By.CLASS_NAME, value=name)\n",
      "  File \"/Users/jaime/anaconda3/lib/python3.6/site-packages/selenium/webdriver/remote/webdriver.py\", line 955, in find_element\n",
      "    'value': value})['value']\n",
      "  File \"/Users/jaime/anaconda3/lib/python3.6/site-packages/selenium/webdriver/remote/webdriver.py\", line 312, in execute\n",
      "    self.error_handler.check_response(response)\n",
      "  File \"/Users/jaime/anaconda3/lib/python3.6/site-packages/selenium/webdriver/remote/errorhandler.py\", line 237, in check_response\n",
      "    raise exception_class(message, screen, stacktrace)\n",
      "selenium.common.exceptions.NoSuchElementException: Message: no such element: Unable to locate element: {\"method\":\"class name\",\"selector\":\"linksIntermedios\"}\n",
      "  (Session info: chrome=64.0.3282.140)\n",
      "  (Driver info: chromedriver=2.35.528157 (4429ca2590d6988c0745c24c8858745aaaec01ef),platform=Mac OS X 10.13.3 x86_64)\n",
      "\n"
     ]
    },
    {
     "data": {
      "application/vnd.jupyter.widget-view+json": {
       "model_id": "2034075037fb4d2ba43fd6d5075aa919",
       "version_major": 2,
       "version_minor": 0
      },
      "text/plain": [
       "A Jupyter Widget"
      ]
     },
     "metadata": {},
     "output_type": "display_data"
    },
    {
     "name": "stdout",
     "output_type": "stream",
     "text": [
      "\n",
      "Superintendencia de Valores y Seguros (SVS)\n"
     ]
    },
    {
     "data": {
      "application/vnd.jupyter.widget-view+json": {
       "model_id": "9325efd3a4534c98b7520f1cfe41852a",
       "version_major": 2,
       "version_minor": 0
      },
      "text/plain": [
       "A Jupyter Widget"
      ]
     },
     "metadata": {},
     "output_type": "display_data"
    },
    {
     "name": "stdout",
     "output_type": "stream",
     "text": [
      "per_planta Año 2017\n",
      "per_planta Año 2016\n",
      "per_planta Año 2015\n",
      "per_planta Año 2014\n",
      "per_planta Año 2013\n",
      "per_planta Año 2012\n",
      "per_planta Año 2011\n",
      "per_planta Año 2010\n",
      "per_planta Año 2009\n",
      "per_planta Año 2008\n",
      "per_planta Año 2007\n",
      "per_planta Año 2006\n",
      "per_contrata Año 2017\n",
      "per_contrata Año 2016\n",
      "per_contrata Año 2015\n",
      "per_contrata Año 2014\n",
      "per_contrata Año 2013\n",
      "per_contrata Año 2012\n",
      "per_contrata Año 2011\n",
      "per_contrata Año 2010\n",
      "per_contrata Año 2009\n",
      "per_contrata Año 2008\n",
      "per_contrata Año 2007\n",
      "per_contrata Año 2006\n",
      "\n",
      "Dirección de Compras y Contratación Pública (Chilecompra)\n"
     ]
    },
    {
     "name": "stderr",
     "output_type": "stream",
     "text": [
      "Traceback (most recent call last):\n",
      "  File \"./lib/functions.py\", line 103, in getDepartmentData\n",
      "    for l in years_links_list:\n",
      "  File \"/Users/jaime/anaconda3/lib/python3.6/site-packages/selenium/webdriver/remote/webdriver.py\", line 555, in find_element_by_class_name\n",
      "    return self.find_element(by=By.CLASS_NAME, value=name)\n",
      "  File \"/Users/jaime/anaconda3/lib/python3.6/site-packages/selenium/webdriver/remote/webdriver.py\", line 955, in find_element\n",
      "    'value': value})['value']\n",
      "  File \"/Users/jaime/anaconda3/lib/python3.6/site-packages/selenium/webdriver/remote/webdriver.py\", line 312, in execute\n",
      "    self.error_handler.check_response(response)\n",
      "  File \"/Users/jaime/anaconda3/lib/python3.6/site-packages/selenium/webdriver/remote/errorhandler.py\", line 237, in check_response\n",
      "    raise exception_class(message, screen, stacktrace)\n",
      "selenium.common.exceptions.NoSuchElementException: Message: no such element: Unable to locate element: {\"method\":\"class name\",\"selector\":\"linksIntermedios\"}\n",
      "  (Session info: chrome=64.0.3282.140)\n",
      "  (Driver info: chromedriver=2.35.528157 (4429ca2590d6988c0745c24c8858745aaaec01ef),platform=Mac OS X 10.13.3 x86_64)\n",
      "\n"
     ]
    },
    {
     "name": "stdout",
     "output_type": "stream",
     "text": [
      "No contract data per_planta in http://www.gobiernotransparentechile.cl/directorio/entidad/5/124\n",
      "No contract data per_contrata in http://www.gobiernotransparentechile.cl/directorio/entidad/5/124\n"
     ]
    },
    {
     "name": "stderr",
     "output_type": "stream",
     "text": [
      "Traceback (most recent call last):\n",
      "  File \"./lib/functions.py\", line 103, in getDepartmentData\n",
      "    for l in years_links_list:\n",
      "  File \"/Users/jaime/anaconda3/lib/python3.6/site-packages/selenium/webdriver/remote/webdriver.py\", line 555, in find_element_by_class_name\n",
      "    return self.find_element(by=By.CLASS_NAME, value=name)\n",
      "  File \"/Users/jaime/anaconda3/lib/python3.6/site-packages/selenium/webdriver/remote/webdriver.py\", line 955, in find_element\n",
      "    'value': value})['value']\n",
      "  File \"/Users/jaime/anaconda3/lib/python3.6/site-packages/selenium/webdriver/remote/webdriver.py\", line 312, in execute\n",
      "    self.error_handler.check_response(response)\n",
      "  File \"/Users/jaime/anaconda3/lib/python3.6/site-packages/selenium/webdriver/remote/errorhandler.py\", line 237, in check_response\n",
      "    raise exception_class(message, screen, stacktrace)\n",
      "selenium.common.exceptions.NoSuchElementException: Message: no such element: Unable to locate element: {\"method\":\"class name\",\"selector\":\"linksIntermedios\"}\n",
      "  (Session info: chrome=64.0.3282.140)\n",
      "  (Driver info: chromedriver=2.35.528157 (4429ca2590d6988c0745c24c8858745aaaec01ef),platform=Mac OS X 10.13.3 x86_64)\n",
      "\n"
     ]
    },
    {
     "data": {
      "application/vnd.jupyter.widget-view+json": {
       "model_id": "614479d8651c4a2ca5a358ce31eecf5f",
       "version_major": 2,
       "version_minor": 0
      },
      "text/plain": [
       "A Jupyter Widget"
      ]
     },
     "metadata": {},
     "output_type": "display_data"
    },
    {
     "name": "stdout",
     "output_type": "stream",
     "text": [
      "\n",
      "Superintendencia de Casinos de Juego (SCJ)\n"
     ]
    },
    {
     "data": {
      "application/vnd.jupyter.widget-view+json": {
       "model_id": "72686a38138049d6ac63468192db3aab",
       "version_major": 2,
       "version_minor": 0
      },
      "text/plain": [
       "A Jupyter Widget"
      ]
     },
     "metadata": {},
     "output_type": "display_data"
    },
    {
     "name": "stdout",
     "output_type": "stream",
     "text": [
      "per_planta Año 2017\n",
      "per_planta Año 2016\n",
      "per_planta Año 2015\n",
      "per_planta Año 2014\n",
      "per_planta Año 2013\n",
      "per_planta Año 2012\n",
      "per_planta Año 2011\n",
      "per_planta Año 2010\n",
      "per_planta Año 2009\n",
      "per_planta Año 2008\n",
      "per_planta Año 2007\n",
      "per_planta Año 2006\n",
      "per_contrata Año 2017\n",
      "per_contrata Año 2016\n",
      "per_contrata Año 2015\n",
      "per_contrata Año 2014\n",
      "per_contrata Año 2013\n",
      "per_contrata Año 2012\n",
      "per_contrata Año 2011\n",
      "per_contrata Año 2010\n",
      "per_contrata Año 2009\n",
      "per_contrata Año 2008\n",
      "per_contrata Año 2007\n",
      "per_contrata Año 2006\n",
      "\n",
      "Ministerio Secretaría General de la Presidencia\n",
      "Subsecretaría General de la Presidencia\n"
     ]
    },
    {
     "data": {
      "application/vnd.jupyter.widget-view+json": {
       "model_id": "b6ddfee5fe294f8db0d1e763c52a5183",
       "version_major": 2,
       "version_minor": 0
      },
      "text/plain": [
       "A Jupyter Widget"
      ]
     },
     "metadata": {},
     "output_type": "display_data"
    },
    {
     "name": "stdout",
     "output_type": "stream",
     "text": [
      "per_planta Año 2017\n",
      "per_planta Año 2016\n",
      "per_planta Año 2015\n",
      "per_planta Año 2014\n",
      "per_planta Año 2013\n",
      "per_planta Año 2012\n",
      "per_planta Año 2011\n",
      "could not get breadcrumbs from http://www.gobiernotransparentechile.cl/directorio/entidad/6/126/per_planta/Ao-2011\n",
      "per_planta Año 2010\n",
      "per_planta Año 2009\n",
      "per_planta Año 2008\n",
      "per_planta Año 2007\n",
      "per_planta Año 2006\n",
      "per_contrata Año 2017\n",
      "per_contrata Año 2016\n",
      "per_contrata Año 2015\n",
      "per_contrata Año 2014\n",
      "per_contrata Año 2013\n",
      "per_contrata Año 2012\n",
      "per_contrata Año 2011\n",
      "per_contrata Año 2010\n",
      "per_contrata Año 2009\n",
      "per_contrata Año 2008\n",
      "per_contrata Año 2007\n",
      "per_contrata Año 2006\n",
      "\n",
      "Ministerio Secretaría General de Gobierno\n",
      "Subsecretaría General de Gobierno\n"
     ]
    },
    {
     "data": {
      "application/vnd.jupyter.widget-view+json": {
       "model_id": "c110f123e1ea45b99c363b30ab789060",
       "version_major": 2,
       "version_minor": 0
      },
      "text/plain": [
       "A Jupyter Widget"
      ]
     },
     "metadata": {},
     "output_type": "display_data"
    },
    {
     "name": "stdout",
     "output_type": "stream",
     "text": [
      "per_planta Año 2017\n",
      "per_planta Año 2016\n",
      "per_planta Año 2015\n",
      "per_planta Año 2014\n",
      "per_planta Año 2013\n",
      "per_planta Año 2012\n",
      "per_planta Año 2011\n",
      "per_planta Año 2010\n",
      "per_planta Año 2009\n",
      "per_planta Año 2008\n",
      "per_planta Año 2007\n",
      "per_planta Año 2006\n",
      "per_contrata Año 2017\n",
      "per_contrata Año 2016\n",
      "per_contrata Año 2015\n",
      "per_contrata Año 2014\n",
      "per_contrata Año 2013\n",
      "per_contrata Año 2012\n",
      "per_contrata Año 2011\n",
      "per_contrata Año 2010\n",
      "per_contrata Año 2009\n",
      "per_contrata Año 2008\n",
      "per_contrata Año 2007\n",
      "per_contrata Año 2006\n",
      "\n",
      "Ministerio de Economía, Fomento y Turismo\n",
      "Subsecretaría de Economía\n"
     ]
    },
    {
     "name": "stderr",
     "output_type": "stream",
     "text": [
      "Traceback (most recent call last):\n",
      "  File \"./lib/functions.py\", line 103, in getDepartmentData\n",
      "    for l in years_links_list:\n",
      "  File \"/Users/jaime/anaconda3/lib/python3.6/site-packages/selenium/webdriver/remote/webdriver.py\", line 555, in find_element_by_class_name\n",
      "    return self.find_element(by=By.CLASS_NAME, value=name)\n",
      "  File \"/Users/jaime/anaconda3/lib/python3.6/site-packages/selenium/webdriver/remote/webdriver.py\", line 955, in find_element\n",
      "    'value': value})['value']\n",
      "  File \"/Users/jaime/anaconda3/lib/python3.6/site-packages/selenium/webdriver/remote/webdriver.py\", line 312, in execute\n",
      "    self.error_handler.check_response(response)\n",
      "  File \"/Users/jaime/anaconda3/lib/python3.6/site-packages/selenium/webdriver/remote/errorhandler.py\", line 237, in check_response\n",
      "    raise exception_class(message, screen, stacktrace)\n",
      "selenium.common.exceptions.NoSuchElementException: Message: no such element: Unable to locate element: {\"method\":\"class name\",\"selector\":\"linksIntermedios\"}\n",
      "  (Session info: chrome=64.0.3282.140)\n",
      "  (Driver info: chromedriver=2.35.528157 (4429ca2590d6988c0745c24c8858745aaaec01ef),platform=Mac OS X 10.13.3 x86_64)\n",
      "\n"
     ]
    },
    {
     "name": "stdout",
     "output_type": "stream",
     "text": [
      "No contract data per_planta in http://www.gobiernotransparentechile.cl/directorio/entidad/8/130\n"
     ]
    },
    {
     "data": {
      "application/vnd.jupyter.widget-view+json": {
       "model_id": "8436146dd800465a95f225da5b35dc2d",
       "version_major": 2,
       "version_minor": 0
      },
      "text/plain": [
       "A Jupyter Widget"
      ]
     },
     "metadata": {},
     "output_type": "display_data"
    },
    {
     "name": "stdout",
     "output_type": "stream",
     "text": [
      "per_contrata Año 2008\n",
      "per_contrata Año 2007\n",
      "per_contrata Año 2006\n",
      "per_contrata Año 2017\n",
      "could not get breadcrumbs from http://www.economia.cl/transparencia/2017/per_contrata.html\n",
      "per_contrata Año 2016\n",
      "could not get breadcrumbs from http://www.economia.cl/transparencia/2016/per_contrata.html\n",
      "per_contrata Año 2015\n",
      "per_contrata Año 2014\n",
      "per_contrata Año 2013\n",
      "per_contrata Año 2012\n",
      "per_contrata Año 2011\n",
      "per_contrata Año 2010\n",
      "per_contrata Año 2009\n",
      "\n",
      "Subsecretaría de Turismo\n"
     ]
    },
    {
     "name": "stderr",
     "output_type": "stream",
     "text": [
      "Traceback (most recent call last):\n",
      "  File \"./lib/functions.py\", line 103, in getDepartmentData\n",
      "    for l in years_links_list:\n",
      "  File \"/Users/jaime/anaconda3/lib/python3.6/site-packages/selenium/webdriver/remote/webdriver.py\", line 555, in find_element_by_class_name\n",
      "    return self.find_element(by=By.CLASS_NAME, value=name)\n",
      "  File \"/Users/jaime/anaconda3/lib/python3.6/site-packages/selenium/webdriver/remote/webdriver.py\", line 955, in find_element\n",
      "    'value': value})['value']\n",
      "  File \"/Users/jaime/anaconda3/lib/python3.6/site-packages/selenium/webdriver/remote/webdriver.py\", line 312, in execute\n",
      "    self.error_handler.check_response(response)\n",
      "  File \"/Users/jaime/anaconda3/lib/python3.6/site-packages/selenium/webdriver/remote/errorhandler.py\", line 237, in check_response\n",
      "    raise exception_class(message, screen, stacktrace)\n",
      "selenium.common.exceptions.NoSuchElementException: Message: no such element: Unable to locate element: {\"method\":\"class name\",\"selector\":\"linksIntermedios\"}\n",
      "  (Session info: chrome=64.0.3282.140)\n",
      "  (Driver info: chromedriver=2.35.528157 (4429ca2590d6988c0745c24c8858745aaaec01ef),platform=Mac OS X 10.13.3 x86_64)\n",
      "\n"
     ]
    },
    {
     "name": "stdout",
     "output_type": "stream",
     "text": [
      "No contract data per_planta in http://www.gobiernotransparentechile.cl/directorio/entidad/8/349\n"
     ]
    },
    {
     "data": {
      "application/vnd.jupyter.widget-view+json": {
       "model_id": "79f94b80e81f442097573de2ff3024a5",
       "version_major": 2,
       "version_minor": 0
      },
      "text/plain": [
       "A Jupyter Widget"
      ]
     },
     "metadata": {},
     "output_type": "display_data"
    },
    {
     "name": "stdout",
     "output_type": "stream",
     "text": [
      "per_contrata Año 2017\n",
      "per_contrata Año 2016\n",
      "per_contrata Año 2015\n",
      "per_contrata Año 2014\n",
      "could not get breadcrumbs from http://www.economia.cl/transparencia/turismo/2014/per_contrata.html\n",
      "per_contrata Año 2013\n",
      "per_contrata Año 2012\n",
      "per_contrata Año 2011\n",
      "\n",
      "Subsecretaría de Pesca\n"
     ]
    },
    {
     "data": {
      "application/vnd.jupyter.widget-view+json": {
       "model_id": "0253ce645ee64830bcde2d8fcae0f53f",
       "version_major": 2,
       "version_minor": 0
      },
      "text/plain": [
       "A Jupyter Widget"
      ]
     },
     "metadata": {},
     "output_type": "display_data"
    },
    {
     "name": "stdout",
     "output_type": "stream",
     "text": [
      "per_planta Año 2017\n",
      "per_planta Año 2016\n",
      "per_planta Año 2015\n",
      "per_planta Año 2014\n",
      "per_planta Año 2013\n",
      "per_planta Año 2012\n",
      "per_planta Año 2011\n",
      "per_planta Año 2010\n",
      "per_planta Año 2009\n",
      "per_planta Año 2008\n",
      "per_planta Año 2007\n",
      "per_planta Año 2006\n",
      "per_contrata Año 2017\n",
      "per_contrata Año 2016\n",
      "per_contrata Año 2015\n",
      "per_contrata Año 2014\n",
      "per_contrata Año 2013\n",
      "per_contrata Año 2012\n",
      "per_contrata Año 2011\n",
      "per_contrata Año 2010\n",
      "per_contrata Año 2009\n",
      "per_contrata Año 2008\n",
      "per_contrata Año 2007\n",
      "per_contrata Año 2006\n",
      "\n",
      "Comité de Inversiones Extranjeras\n"
     ]
    },
    {
     "data": {
      "application/vnd.jupyter.widget-view+json": {
       "model_id": "e9c4cea27cf84ff2b9ad111432b29b62",
       "version_major": 2,
       "version_minor": 0
      },
      "text/plain": [
       "A Jupyter Widget"
      ]
     },
     "metadata": {},
     "output_type": "display_data"
    },
    {
     "name": "stdout",
     "output_type": "stream",
     "text": [
      "per_planta Año 2017\n",
      "per_planta Año 2016\n",
      "per_planta Año 2015\n",
      "per_planta Año 2014\n",
      "per_planta Año 2013\n",
      "per_planta Año 2012\n",
      "per_planta Año 2011\n",
      "per_planta Año 2010\n",
      "per_planta Año 2009\n",
      "per_planta Año 2008\n",
      "per_planta Año 2007\n",
      "per_planta Año 2006\n",
      "per_contrata Año 2017\n",
      "per_contrata Año 2016\n",
      "per_contrata Año 2015\n",
      "per_contrata Año 2014\n",
      "per_contrata Año 2013\n",
      "per_contrata Año 2012\n",
      "per_contrata Año 2011\n",
      "per_contrata Año 2010\n",
      "per_contrata Año 2009\n",
      "per_contrata Año 2008\n",
      "per_contrata Año 2007\n",
      "per_contrata Año 2006\n",
      "\n",
      "Corporación de Fomento para la Producción (CORFO)\n"
     ]
    },
    {
     "name": "stderr",
     "output_type": "stream",
     "text": [
      "Traceback (most recent call last):\n",
      "  File \"./lib/functions.py\", line 103, in getDepartmentData\n",
      "    for l in years_links_list:\n",
      "  File \"/Users/jaime/anaconda3/lib/python3.6/site-packages/selenium/webdriver/remote/webdriver.py\", line 555, in find_element_by_class_name\n",
      "    return self.find_element(by=By.CLASS_NAME, value=name)\n",
      "  File \"/Users/jaime/anaconda3/lib/python3.6/site-packages/selenium/webdriver/remote/webdriver.py\", line 955, in find_element\n",
      "    'value': value})['value']\n",
      "  File \"/Users/jaime/anaconda3/lib/python3.6/site-packages/selenium/webdriver/remote/webdriver.py\", line 312, in execute\n",
      "    self.error_handler.check_response(response)\n",
      "  File \"/Users/jaime/anaconda3/lib/python3.6/site-packages/selenium/webdriver/remote/errorhandler.py\", line 237, in check_response\n",
      "    raise exception_class(message, screen, stacktrace)\n",
      "selenium.common.exceptions.NoSuchElementException: Message: no such element: Unable to locate element: {\"method\":\"class name\",\"selector\":\"linksIntermedios\"}\n",
      "  (Session info: chrome=64.0.3282.140)\n",
      "  (Driver info: chromedriver=2.35.528157 (4429ca2590d6988c0745c24c8858745aaaec01ef),platform=Mac OS X 10.13.3 x86_64)\n",
      "\n"
     ]
    },
    {
     "name": "stdout",
     "output_type": "stream",
     "text": [
      "No contract data per_planta in http://www.gobiernotransparentechile.cl/directorio/entidad/8/133\n",
      "No contract data per_contrata in http://www.gobiernotransparentechile.cl/directorio/entidad/8/133\n"
     ]
    },
    {
     "name": "stderr",
     "output_type": "stream",
     "text": [
      "Traceback (most recent call last):\n",
      "  File \"./lib/functions.py\", line 103, in getDepartmentData\n",
      "    for l in years_links_list:\n",
      "  File \"/Users/jaime/anaconda3/lib/python3.6/site-packages/selenium/webdriver/remote/webdriver.py\", line 555, in find_element_by_class_name\n",
      "    return self.find_element(by=By.CLASS_NAME, value=name)\n",
      "  File \"/Users/jaime/anaconda3/lib/python3.6/site-packages/selenium/webdriver/remote/webdriver.py\", line 955, in find_element\n",
      "    'value': value})['value']\n",
      "  File \"/Users/jaime/anaconda3/lib/python3.6/site-packages/selenium/webdriver/remote/webdriver.py\", line 312, in execute\n",
      "    self.error_handler.check_response(response)\n",
      "  File \"/Users/jaime/anaconda3/lib/python3.6/site-packages/selenium/webdriver/remote/errorhandler.py\", line 237, in check_response\n",
      "    raise exception_class(message, screen, stacktrace)\n",
      "selenium.common.exceptions.NoSuchElementException: Message: no such element: Unable to locate element: {\"method\":\"class name\",\"selector\":\"linksIntermedios\"}\n",
      "  (Session info: chrome=64.0.3282.140)\n",
      "  (Driver info: chromedriver=2.35.528157 (4429ca2590d6988c0745c24c8858745aaaec01ef),platform=Mac OS X 10.13.3 x86_64)\n",
      "\n"
     ]
    },
    {
     "data": {
      "application/vnd.jupyter.widget-view+json": {
       "model_id": "d8b62aca0672493eba4a941a8ff9442c",
       "version_major": 2,
       "version_minor": 0
      },
      "text/plain": [
       "A Jupyter Widget"
      ]
     },
     "metadata": {},
     "output_type": "display_data"
    },
    {
     "name": "stdout",
     "output_type": "stream",
     "text": [
      "\n",
      "Fiscalía Nacional Económica (FNE)\n"
     ]
    },
    {
     "data": {
      "application/vnd.jupyter.widget-view+json": {
       "model_id": "d03ee17ae950424f83bb8cda7a54a9d6",
       "version_major": 2,
       "version_minor": 0
      },
      "text/plain": [
       "A Jupyter Widget"
      ]
     },
     "metadata": {},
     "output_type": "display_data"
    },
    {
     "name": "stdout",
     "output_type": "stream",
     "text": [
      "per_planta Año 2017\n",
      "per_planta Año 2016\n",
      "per_planta Año 2015\n",
      "per_planta Año 2014\n",
      "per_planta Año 2013\n",
      "per_planta Año 2012\n",
      "per_planta Año 2011\n",
      "per_planta Año 2010\n",
      "per_planta Año 2009\n",
      "per_planta Año 2008\n",
      "per_planta Año 2007\n",
      "per_planta Año 2006\n",
      "per_contrata Año 2017\n",
      "per_contrata Año 2016\n",
      "per_contrata Año 2015\n",
      "per_contrata Año 2014\n",
      "per_contrata Año 2013\n",
      "per_contrata Año 2012\n",
      "per_contrata Año 2011\n",
      "per_contrata Año 2010\n",
      "per_contrata Año 2009\n",
      "per_contrata Año 2008\n",
      "per_contrata Año 2007\n",
      "per_contrata Año 2006\n",
      "\n",
      "Instituto Nacional de Estadísticas (INE)\n"
     ]
    },
    {
     "data": {
      "application/vnd.jupyter.widget-view+json": {
       "model_id": "f837a51886394682b6a102d497b287ca",
       "version_major": 2,
       "version_minor": 0
      },
      "text/plain": [
       "A Jupyter Widget"
      ]
     },
     "metadata": {},
     "output_type": "display_data"
    },
    {
     "name": "stdout",
     "output_type": "stream",
     "text": [
      "per_planta Año 2017\n",
      "per_planta Año 2016\n",
      "per_planta Año 2014\n",
      "per_planta Año 2015\n",
      "per_planta Año 2013\n",
      "per_planta Año 2012\n",
      "per_planta Año 2011\n",
      "per_planta Año 2010\n",
      "per_planta Año 2009\n",
      "per_planta Año 2008\n",
      "per_planta Año 2007\n",
      "per_planta Año 2006\n",
      "per_contrata Año 2017\n",
      "per_contrata Año 2016\n",
      "per_contrata Año 2014\n",
      "per_contrata Año 2015\n",
      "per_contrata Año 2013\n",
      "per_contrata Año 2012\n",
      "per_contrata Año 2011\n",
      "per_contrata Año 2010\n",
      "per_contrata Año 2009\n",
      "per_contrata Año 2008\n",
      "per_contrata Año 2007\n",
      "per_contrata Año 2006\n",
      "\n",
      "Servicio Nacional de Turismo (SERNATUR)\n"
     ]
    },
    {
     "name": "stderr",
     "output_type": "stream",
     "text": [
      "Traceback (most recent call last):\n",
      "  File \"./lib/functions.py\", line 103, in getDepartmentData\n",
      "    for l in years_links_list:\n",
      "  File \"/Users/jaime/anaconda3/lib/python3.6/site-packages/selenium/webdriver/remote/webdriver.py\", line 555, in find_element_by_class_name\n",
      "    return self.find_element(by=By.CLASS_NAME, value=name)\n",
      "  File \"/Users/jaime/anaconda3/lib/python3.6/site-packages/selenium/webdriver/remote/webdriver.py\", line 955, in find_element\n",
      "    'value': value})['value']\n",
      "  File \"/Users/jaime/anaconda3/lib/python3.6/site-packages/selenium/webdriver/remote/webdriver.py\", line 312, in execute\n",
      "    self.error_handler.check_response(response)\n",
      "  File \"/Users/jaime/anaconda3/lib/python3.6/site-packages/selenium/webdriver/remote/errorhandler.py\", line 237, in check_response\n",
      "    raise exception_class(message, screen, stacktrace)\n",
      "selenium.common.exceptions.NoSuchElementException: Message: no such element: Unable to locate element: {\"method\":\"class name\",\"selector\":\"linksIntermedios\"}\n",
      "  (Session info: chrome=64.0.3282.140)\n",
      "  (Driver info: chromedriver=2.35.528157 (4429ca2590d6988c0745c24c8858745aaaec01ef),platform=Mac OS X 10.13.3 x86_64)\n",
      "\n"
     ]
    },
    {
     "name": "stdout",
     "output_type": "stream",
     "text": [
      "No contract data per_planta in http://www.gobiernotransparentechile.cl/directorio/entidad/8/137\n",
      "No contract data per_contrata in http://www.gobiernotransparentechile.cl/directorio/entidad/8/137\n"
     ]
    },
    {
     "name": "stderr",
     "output_type": "stream",
     "text": [
      "Traceback (most recent call last):\n",
      "  File \"./lib/functions.py\", line 103, in getDepartmentData\n",
      "    for l in years_links_list:\n",
      "  File \"/Users/jaime/anaconda3/lib/python3.6/site-packages/selenium/webdriver/remote/webdriver.py\", line 555, in find_element_by_class_name\n",
      "    return self.find_element(by=By.CLASS_NAME, value=name)\n",
      "  File \"/Users/jaime/anaconda3/lib/python3.6/site-packages/selenium/webdriver/remote/webdriver.py\", line 955, in find_element\n",
      "    'value': value})['value']\n",
      "  File \"/Users/jaime/anaconda3/lib/python3.6/site-packages/selenium/webdriver/remote/webdriver.py\", line 312, in execute\n",
      "    self.error_handler.check_response(response)\n",
      "  File \"/Users/jaime/anaconda3/lib/python3.6/site-packages/selenium/webdriver/remote/errorhandler.py\", line 237, in check_response\n",
      "    raise exception_class(message, screen, stacktrace)\n",
      "selenium.common.exceptions.NoSuchElementException: Message: no such element: Unable to locate element: {\"method\":\"class name\",\"selector\":\"linksIntermedios\"}\n",
      "  (Session info: chrome=64.0.3282.140)\n",
      "  (Driver info: chromedriver=2.35.528157 (4429ca2590d6988c0745c24c8858745aaaec01ef),platform=Mac OS X 10.13.3 x86_64)\n",
      "\n"
     ]
    },
    {
     "data": {
      "application/vnd.jupyter.widget-view+json": {
       "model_id": "232aae33a9174b8b9ccf7f4ffddcd836",
       "version_major": 2,
       "version_minor": 0
      },
      "text/plain": [
       "A Jupyter Widget"
      ]
     },
     "metadata": {},
     "output_type": "display_data"
    },
    {
     "name": "stdout",
     "output_type": "stream",
     "text": [
      "\n",
      "Servicio Nacional del Consumidor (SERNAC)\n"
     ]
    },
    {
     "data": {
      "application/vnd.jupyter.widget-view+json": {
       "model_id": "e56e56dcffc841ca9e52d9ceffa241c8",
       "version_major": 2,
       "version_minor": 0
      },
      "text/plain": [
       "A Jupyter Widget"
      ]
     },
     "metadata": {},
     "output_type": "display_data"
    },
    {
     "name": "stdout",
     "output_type": "stream",
     "text": [
      "per_planta Año 2017\n",
      "per_planta Año 2016\n",
      "per_planta Año 2015\n",
      "per_planta Año 2014\n",
      "per_planta Año 2013\n",
      "per_planta Año 2012\n",
      "per_planta Año 2011\n",
      "per_planta Año 2010\n",
      "per_planta Año 2009\n",
      "per_planta Año 2008\n",
      "per_planta Año 2007\n",
      "per_planta Año 2006\n",
      "per_contrata Año 2017\n",
      "per_contrata Año 2016\n",
      "per_contrata Año 2015\n",
      "per_contrata Año 2014\n",
      "per_contrata Año 2013\n",
      "per_contrata Año 2012\n",
      "per_contrata Año 2011\n",
      "could not get breadcrumbs from http://www.sernac.cl/transparencia/archives/2011/1/per_contrata.html\n",
      "per_contrata Año 2010\n",
      "per_contrata Año 2009\n",
      "per_contrata Año 2008\n",
      "per_contrata Año 2007\n",
      "per_contrata Año 2006\n",
      "\n",
      "Servicio Nacional de Pesca (SERNAPESCA)\n"
     ]
    },
    {
     "data": {
      "application/vnd.jupyter.widget-view+json": {
       "model_id": "9f6c0609c8df4b2194cdcf97b0038e33",
       "version_major": 2,
       "version_minor": 0
      },
      "text/plain": [
       "A Jupyter Widget"
      ]
     },
     "metadata": {},
     "output_type": "display_data"
    },
    {
     "name": "stdout",
     "output_type": "stream",
     "text": [
      "per_planta Año 2017\n",
      "per_planta Año 2016\n",
      "per_planta Año 2015\n",
      "per_planta Año 2014\n",
      "per_planta Año 2013\n",
      "per_planta Año 2012\n",
      "per_planta Año 2011\n",
      "per_planta Año 2010\n",
      "per_planta Año 2009\n",
      "per_planta Año 2008\n",
      "per_planta Año 2007\n",
      "per_planta Año 2006\n",
      "per_contrata Año 2017\n",
      "per_contrata Año 2016\n",
      "per_contrata Año 2015\n",
      "per_contrata Año 2014\n",
      "per_contrata Año 2013\n",
      "per_contrata Año 2012\n",
      "per_contrata Año 2011\n",
      "per_contrata Año 2010\n",
      "per_contrata Año 2009\n",
      "per_contrata Año 2008\n",
      "per_contrata Año 2007\n",
      "per_contrata Año 2006\n",
      "\n",
      "Instituto Nacional de Propiedad Industrial (INAPI)\n"
     ]
    },
    {
     "data": {
      "application/vnd.jupyter.widget-view+json": {
       "model_id": "82ab76377b8648539c0e5fc594e482c0",
       "version_major": 2,
       "version_minor": 0
      },
      "text/plain": [
       "A Jupyter Widget"
      ]
     },
     "metadata": {},
     "output_type": "display_data"
    },
    {
     "name": "stdout",
     "output_type": "stream",
     "text": [
      "per_planta Año 2017\n",
      "per_planta Año 2016\n",
      "per_planta Año 2015\n",
      "per_planta Año 2014\n",
      "per_planta Año 2013\n",
      "per_planta Año 2012\n",
      "per_planta Año 2011\n",
      "per_planta Año 2010\n",
      "per_planta Año 2009\n",
      "per_contrata Año 2017\n",
      "per_contrata Año 2016\n",
      "per_contrata Año 2015\n",
      "per_contrata Año 2014\n",
      "per_contrata Año 2013\n",
      "per_contrata Año 2012\n",
      "per_contrata Año 2011\n",
      "per_contrata Año 2010\n",
      "per_contrata Año 2009\n",
      "\n",
      "Superintendencia de Insolvencia y Reemprendimiento (SIR)\n",
      "No contract data per_contrata in http://www.gobiernotransparentechile.cl/directorio/entidad/8/162\n"
     ]
    },
    {
     "name": "stderr",
     "output_type": "stream",
     "text": [
      "Traceback (most recent call last):\n",
      "  File \"./lib/functions.py\", line 103, in getDepartmentData\n",
      "    for l in years_links_list:\n",
      "  File \"/Users/jaime/anaconda3/lib/python3.6/site-packages/selenium/webdriver/remote/webdriver.py\", line 555, in find_element_by_class_name\n",
      "    return self.find_element(by=By.CLASS_NAME, value=name)\n",
      "  File \"/Users/jaime/anaconda3/lib/python3.6/site-packages/selenium/webdriver/remote/webdriver.py\", line 955, in find_element\n",
      "    'value': value})['value']\n",
      "  File \"/Users/jaime/anaconda3/lib/python3.6/site-packages/selenium/webdriver/remote/webdriver.py\", line 312, in execute\n",
      "    self.error_handler.check_response(response)\n",
      "  File \"/Users/jaime/anaconda3/lib/python3.6/site-packages/selenium/webdriver/remote/errorhandler.py\", line 237, in check_response\n",
      "    raise exception_class(message, screen, stacktrace)\n",
      "selenium.common.exceptions.NoSuchElementException: Message: no such element: Unable to locate element: {\"method\":\"class name\",\"selector\":\"linksIntermedios\"}\n",
      "  (Session info: chrome=64.0.3282.140)\n",
      "  (Driver info: chromedriver=2.35.528157 (4429ca2590d6988c0745c24c8858745aaaec01ef),platform=Mac OS X 10.13.3 x86_64)\n",
      "\n"
     ]
    },
    {
     "data": {
      "application/vnd.jupyter.widget-view+json": {
       "model_id": "36743038f735441cbaedb62f34658b1f",
       "version_major": 2,
       "version_minor": 0
      },
      "text/plain": [
       "A Jupyter Widget"
      ]
     },
     "metadata": {},
     "output_type": "display_data"
    },
    {
     "name": "stdout",
     "output_type": "stream",
     "text": [
      "per_planta Año 2017\n",
      "per_planta Año 2016\n",
      "per_planta Año 2015\n",
      "per_planta Año 2014\n",
      "per_planta Año 2013\n",
      "per_planta Año 2012\n",
      "per_planta Año 2011\n",
      "per_planta Año 2010\n",
      "per_planta Año 2009\n",
      "per_planta Año 2008\n",
      "per_planta Año 2007\n",
      "per_planta Año 2006\n",
      "\n",
      "Ministerio de Desarrollo Social\n",
      "Subsecretaría de Evaluación Social\n"
     ]
    },
    {
     "data": {
      "application/vnd.jupyter.widget-view+json": {
       "model_id": "9593ff0a19d1480ba3516d5112c3a1c2",
       "version_major": 2,
       "version_minor": 0
      },
      "text/plain": [
       "A Jupyter Widget"
      ]
     },
     "metadata": {},
     "output_type": "display_data"
    },
    {
     "name": "stdout",
     "output_type": "stream",
     "text": [
      "per_planta Año 2017\n",
      "per_planta Año 2016\n",
      "per_planta Año 2015\n",
      "per_planta Año 2014\n",
      "per_planta Año 2013\n",
      "per_planta Año 2012\n",
      "per_planta Año 2011\n",
      "per_contrata Año 2017\n",
      "per_contrata Año 2016\n",
      "per_contrata Año 2015\n",
      "per_contrata Año 2014\n",
      "per_contrata Año 2013\n",
      "per_contrata Año 2012\n",
      "\n",
      "Subsecretaría de Servicios Sociales\n"
     ]
    },
    {
     "data": {
      "application/vnd.jupyter.widget-view+json": {
       "model_id": "4ec7709fd5b74ac1974e1366d2797fdd",
       "version_major": 2,
       "version_minor": 0
      },
      "text/plain": [
       "A Jupyter Widget"
      ]
     },
     "metadata": {},
     "output_type": "display_data"
    },
    {
     "name": "stdout",
     "output_type": "stream",
     "text": [
      "per_planta Año 2017\n",
      "per_planta Año 2016\n",
      "per_planta Año 2015\n",
      "per_planta Año 2014\n",
      "per_planta Año 2013\n",
      "per_planta Año 2012\n",
      "per_planta Año 2011\n",
      "per_contrata Año 2017\n",
      "per_contrata Año 2016\n",
      "per_contrata Año 2015\n",
      "per_contrata Año 2014\n",
      "per_contrata Año 2013\n",
      "per_contrata Año 2012\n",
      "\n",
      "Subsecretaría de Planificación\n"
     ]
    },
    {
     "data": {
      "application/vnd.jupyter.widget-view+json": {
       "model_id": "01851be994ea4ef1b2c553a3ac1f7090",
       "version_major": 2,
       "version_minor": 0
      },
      "text/plain": [
       "A Jupyter Widget"
      ]
     },
     "metadata": {},
     "output_type": "display_data"
    },
    {
     "name": "stdout",
     "output_type": "stream",
     "text": [
      "per_planta Año 2010\n",
      "per_planta Año 2009 (Enero-Abril)\n",
      "per_planta Año 2009\n",
      "per_planta Año 2008\n",
      "per_planta Año 2007\n",
      "per_planta Año 2006\n",
      "per_planta Año 2012\n",
      "per_planta Año 2011\n",
      "per_contrata Año 2010\n",
      "per_contrata Año 2009 (Enero-Abril)\n",
      "per_contrata Año 2009\n",
      "per_contrata Año 2008\n",
      "per_contrata Año 2007\n",
      "per_contrata Año 2006\n",
      "per_contrata Año 2012\n",
      "per_contrata Año 2011\n",
      "\n",
      "Corporación Nacional de Desarrollo Indígena (CONADI)\n"
     ]
    },
    {
     "data": {
      "application/vnd.jupyter.widget-view+json": {
       "model_id": "4fb97008f9254610ba4d76fc21aee645",
       "version_major": 2,
       "version_minor": 0
      },
      "text/plain": [
       "A Jupyter Widget"
      ]
     },
     "metadata": {},
     "output_type": "display_data"
    },
    {
     "name": "stdout",
     "output_type": "stream",
     "text": [
      "per_planta Año 2017\n",
      "could not get breadcrumbs from http://www.conadi.gob.cl/gobiernotransparente/transparencia/per_planta_2017.html\n",
      "per_planta Año 2016\n",
      "per_planta Año 2015\n",
      "per_planta Año 2014\n",
      "per_planta Año 2013\n",
      "per_planta Año 2012\n",
      "per_planta Año 2011\n",
      "per_planta Año 2010\n",
      "per_planta Año 2009\n",
      "per_planta Año 2008\n",
      "per_planta Año 2007\n",
      "per_planta Año 2006\n",
      "per_contrata Año 2017\n",
      "per_contrata Año 2016\n",
      "per_contrata Año 2015\n",
      "per_contrata Año 2014\n",
      "per_contrata Año 2013\n",
      "per_contrata Año 2012\n",
      "per_contrata Año 2011\n",
      "per_contrata Año 2010\n",
      "per_contrata Año 2009\n",
      "per_contrata Año 2007\n",
      "per_contrata Año 2006\n",
      "per_contrata Año 2008\n",
      "\n",
      "Servicio Nacional de la Discapacidad (SENADIS)\n"
     ]
    },
    {
     "name": "stderr",
     "output_type": "stream",
     "text": [
      "Traceback (most recent call last):\n",
      "  File \"./lib/functions.py\", line 103, in getDepartmentData\n",
      "    for l in years_links_list:\n",
      "  File \"/Users/jaime/anaconda3/lib/python3.6/site-packages/selenium/webdriver/remote/webdriver.py\", line 555, in find_element_by_class_name\n",
      "    return self.find_element(by=By.CLASS_NAME, value=name)\n",
      "  File \"/Users/jaime/anaconda3/lib/python3.6/site-packages/selenium/webdriver/remote/webdriver.py\", line 955, in find_element\n",
      "    'value': value})['value']\n",
      "  File \"/Users/jaime/anaconda3/lib/python3.6/site-packages/selenium/webdriver/remote/webdriver.py\", line 312, in execute\n",
      "    self.error_handler.check_response(response)\n",
      "  File \"/Users/jaime/anaconda3/lib/python3.6/site-packages/selenium/webdriver/remote/errorhandler.py\", line 237, in check_response\n",
      "    raise exception_class(message, screen, stacktrace)\n",
      "selenium.common.exceptions.NoSuchElementException: Message: no such element: Unable to locate element: {\"method\":\"class name\",\"selector\":\"linksIntermedios\"}\n",
      "  (Session info: chrome=64.0.3282.140)\n",
      "  (Driver info: chromedriver=2.35.528157 (4429ca2590d6988c0745c24c8858745aaaec01ef),platform=Mac OS X 10.13.3 x86_64)\n",
      "\n"
     ]
    },
    {
     "name": "stdout",
     "output_type": "stream",
     "text": [
      "No contract data per_planta in http://www.gobiernotransparentechile.cl/directorio/entidad/9/143\n",
      "No contract data per_contrata in http://www.gobiernotransparentechile.cl/directorio/entidad/9/143\n"
     ]
    },
    {
     "name": "stderr",
     "output_type": "stream",
     "text": [
      "Traceback (most recent call last):\n",
      "  File \"./lib/functions.py\", line 103, in getDepartmentData\n",
      "    for l in years_links_list:\n",
      "  File \"/Users/jaime/anaconda3/lib/python3.6/site-packages/selenium/webdriver/remote/webdriver.py\", line 555, in find_element_by_class_name\n",
      "    return self.find_element(by=By.CLASS_NAME, value=name)\n",
      "  File \"/Users/jaime/anaconda3/lib/python3.6/site-packages/selenium/webdriver/remote/webdriver.py\", line 955, in find_element\n",
      "    'value': value})['value']\n",
      "  File \"/Users/jaime/anaconda3/lib/python3.6/site-packages/selenium/webdriver/remote/webdriver.py\", line 312, in execute\n",
      "    self.error_handler.check_response(response)\n",
      "  File \"/Users/jaime/anaconda3/lib/python3.6/site-packages/selenium/webdriver/remote/errorhandler.py\", line 237, in check_response\n",
      "    raise exception_class(message, screen, stacktrace)\n",
      "selenium.common.exceptions.NoSuchElementException: Message: no such element: Unable to locate element: {\"method\":\"class name\",\"selector\":\"linksIntermedios\"}\n",
      "  (Session info: chrome=64.0.3282.140)\n",
      "  (Driver info: chromedriver=2.35.528157 (4429ca2590d6988c0745c24c8858745aaaec01ef),platform=Mac OS X 10.13.3 x86_64)\n",
      "\n"
     ]
    },
    {
     "data": {
      "application/vnd.jupyter.widget-view+json": {
       "model_id": "e58fd6908c7d410eb426fff9b3dc373e",
       "version_major": 2,
       "version_minor": 0
      },
      "text/plain": [
       "A Jupyter Widget"
      ]
     },
     "metadata": {},
     "output_type": "display_data"
    },
    {
     "name": "stdout",
     "output_type": "stream",
     "text": [
      "\n",
      "Fondo de Solidaridad e Inversión Social (FOSIS)\n"
     ]
    },
    {
     "name": "stderr",
     "output_type": "stream",
     "text": [
      "Traceback (most recent call last):\n",
      "  File \"./lib/functions.py\", line 103, in getDepartmentData\n",
      "    for l in years_links_list:\n",
      "  File \"/Users/jaime/anaconda3/lib/python3.6/site-packages/selenium/webdriver/remote/webdriver.py\", line 555, in find_element_by_class_name\n",
      "    return self.find_element(by=By.CLASS_NAME, value=name)\n",
      "  File \"/Users/jaime/anaconda3/lib/python3.6/site-packages/selenium/webdriver/remote/webdriver.py\", line 955, in find_element\n",
      "    'value': value})['value']\n",
      "  File \"/Users/jaime/anaconda3/lib/python3.6/site-packages/selenium/webdriver/remote/webdriver.py\", line 312, in execute\n",
      "    self.error_handler.check_response(response)\n",
      "  File \"/Users/jaime/anaconda3/lib/python3.6/site-packages/selenium/webdriver/remote/errorhandler.py\", line 237, in check_response\n",
      "    raise exception_class(message, screen, stacktrace)\n",
      "selenium.common.exceptions.NoSuchElementException: Message: no such element: Unable to locate element: {\"method\":\"class name\",\"selector\":\"linksIntermedios\"}\n",
      "  (Session info: chrome=64.0.3282.140)\n",
      "  (Driver info: chromedriver=2.35.528157 (4429ca2590d6988c0745c24c8858745aaaec01ef),platform=Mac OS X 10.13.3 x86_64)\n",
      "\n"
     ]
    },
    {
     "name": "stdout",
     "output_type": "stream",
     "text": [
      "No contract data per_planta in http://www.gobiernotransparentechile.cl/directorio/entidad/9/144\n",
      "No contract data per_contrata in http://www.gobiernotransparentechile.cl/directorio/entidad/9/144\n"
     ]
    },
    {
     "name": "stderr",
     "output_type": "stream",
     "text": [
      "Traceback (most recent call last):\n",
      "  File \"./lib/functions.py\", line 103, in getDepartmentData\n",
      "    for l in years_links_list:\n",
      "  File \"/Users/jaime/anaconda3/lib/python3.6/site-packages/selenium/webdriver/remote/webdriver.py\", line 555, in find_element_by_class_name\n",
      "    return self.find_element(by=By.CLASS_NAME, value=name)\n",
      "  File \"/Users/jaime/anaconda3/lib/python3.6/site-packages/selenium/webdriver/remote/webdriver.py\", line 955, in find_element\n",
      "    'value': value})['value']\n",
      "  File \"/Users/jaime/anaconda3/lib/python3.6/site-packages/selenium/webdriver/remote/webdriver.py\", line 312, in execute\n",
      "    self.error_handler.check_response(response)\n",
      "  File \"/Users/jaime/anaconda3/lib/python3.6/site-packages/selenium/webdriver/remote/errorhandler.py\", line 237, in check_response\n",
      "    raise exception_class(message, screen, stacktrace)\n",
      "selenium.common.exceptions.NoSuchElementException: Message: no such element: Unable to locate element: {\"method\":\"class name\",\"selector\":\"linksIntermedios\"}\n",
      "  (Session info: chrome=64.0.3282.140)\n",
      "  (Driver info: chromedriver=2.35.528157 (4429ca2590d6988c0745c24c8858745aaaec01ef),platform=Mac OS X 10.13.3 x86_64)\n",
      "\n"
     ]
    },
    {
     "data": {
      "application/vnd.jupyter.widget-view+json": {
       "model_id": "72104e18dc1542a6b613f200c60aef0f",
       "version_major": 2,
       "version_minor": 0
      },
      "text/plain": [
       "A Jupyter Widget"
      ]
     },
     "metadata": {},
     "output_type": "display_data"
    },
    {
     "name": "stdout",
     "output_type": "stream",
     "text": [
      "\n",
      "Instituto Nacional de la Juventud (INJUV)\n"
     ]
    },
    {
     "data": {
      "application/vnd.jupyter.widget-view+json": {
       "model_id": "51027d8946a145b6848b61c83c429be6",
       "version_major": 2,
       "version_minor": 0
      },
      "text/plain": [
       "A Jupyter Widget"
      ]
     },
     "metadata": {},
     "output_type": "display_data"
    },
    {
     "name": "stdout",
     "output_type": "stream",
     "text": [
      "per_planta Año 2017\n",
      "per_planta Año 2016\n",
      "per_planta Año 2015\n",
      "per_planta Año 2014\n",
      "per_planta Año 2013\n",
      "per_planta Año 2012\n",
      "per_planta Año 2011\n",
      "per_planta Año 2010\n",
      "per_planta Año 2009\n",
      "per_planta Año 2008\n",
      "could not get breadcrumbs from http://extranet.injuv.gob.cl/institucional/transparencia/2008/per_planta.html\n",
      "per_planta Año 2007\n",
      "could not get breadcrumbs from http://extranet.injuv.gob.cl/institucional/transparencia/2007/per_planta.html\n",
      "per_planta Año 2006\n",
      "per_contrata Año 2017\n",
      "per_contrata Año 2016\n",
      "per_contrata Año 2015\n",
      "per_contrata Año 2014\n",
      "per_contrata Año 2013\n",
      "per_contrata Año 2012\n",
      "per_contrata Año 2011\n",
      "per_contrata Año 2010\n",
      "per_contrata Año 2009\n",
      "per_contrata Año 2008\n",
      "could not get breadcrumbs from http://extranet.injuv.gob.cl/institucional/transparencia/2008/per_contrata.html\n",
      "per_contrata Año 2007\n",
      "could not get breadcrumbs from http://extranet.injuv.gob.cl/institucional/transparencia/2007/per_contrata.html\n",
      "per_contrata Año 2006\n",
      "\n",
      "Servicio Nacional del Adulto Mayor (SENAMA)\n"
     ]
    },
    {
     "data": {
      "application/vnd.jupyter.widget-view+json": {
       "model_id": "48358473d39c4460b3c6d6fc6dc0de1a",
       "version_major": 2,
       "version_minor": 0
      },
      "text/plain": [
       "A Jupyter Widget"
      ]
     },
     "metadata": {},
     "output_type": "display_data"
    },
    {
     "name": "stdout",
     "output_type": "stream",
     "text": [
      "per_planta Año 2010\n",
      "per_planta Diciembre\n",
      "per_planta Noviembre\n",
      "per_planta Octubre\n",
      "per_planta Septiembre\n",
      "per_planta Agosto\n",
      "per_planta Julio\n",
      "per_planta Junio\n",
      "per_planta Mayo\n",
      "per_planta Abril\n",
      "per_planta Marzo\n",
      "per_planta Febrero\n",
      "per_planta Enero\n",
      "per_planta Año 2016\n",
      "per_planta Año 2015\n",
      "per_planta Año 2014\n",
      "per_planta Año 2013\n",
      "per_planta Año 2012\n",
      "could not get breadcrumbs from http://www2.senama.cl/transparencia/dotacion_personal/2012/per_planta_0112.html\n",
      "per_planta Año 2011\n",
      "per_planta Año 2009\n",
      "could not get breadcrumbs from http://www2.senama.cl/transparencia/dotacion.aspx?idFunc=1&Tipo=Planta&idAnno=2009\n",
      "per_planta Año 2008\n",
      "could not get breadcrumbs from http://www2.senama.cl/transparencia/dotacion.aspx?idFunc=1&Tipo=Planta&idAnno=2008\n",
      "per_planta Año 2007\n",
      "could not get breadcrumbs from http://www2.senama.cl/transparencia/dotacion.aspx?idFunc=1&Tipo=Planta&idAnno=2007\n",
      "per_planta Año 2006\n",
      "could not get breadcrumbs from http://www2.senama.cl/transparencia/dotacion.aspx?idFunc=1&Tipo=Planta&idAnno=2006\n",
      "per_contrata Diciembre\n",
      "per_contrata Noviembre\n",
      "per_contrata Octubre\n",
      "per_contrata Septiembre\n",
      "per_contrata Agosto\n",
      "per_contrata Julio\n",
      "per_contrata Junio\n",
      "per_contrata Mayo\n",
      "per_contrata Abril\n",
      "per_contrata Marzo\n",
      "per_contrata Febrero\n",
      "per_contrata Enero\n",
      "per_contrata Año 2016\n",
      "per_contrata Año 2015\n",
      "per_contrata Año 2014\n",
      "per_contrata Año 2013\n",
      "per_contrata Año 2012\n",
      "could not get breadcrumbs from http://www2.senama.cl/transparencia/dotacion_personal/2012/per_contrata_0112.html\n",
      "per_contrata Año 2011\n",
      "per_contrata Año 2009\n",
      "could not get breadcrumbs from http://www2.senama.cl/transparencia/dotacion.aspx?idFunc=2&Tipo=Planta&idAnno=2009\n",
      "per_contrata Año 2008\n",
      "could not get breadcrumbs from http://www2.senama.cl/transparencia/dotacion.aspx?idFunc=2&Tipo=Planta&idAnno=2008\n",
      "per_contrata Año 2007\n",
      "could not get breadcrumbs from http://www2.senama.cl/transparencia/dotacion.aspx?idFunc=2&Tipo=Planta&idAnno=2007\n",
      "per_contrata Año 2006\n",
      "could not get breadcrumbs from http://www2.senama.cl/transparencia/dotacion.aspx?idFunc=2&Tipo=Planta&idAnno=2006\n",
      "per_contrata Año 2010\n",
      "\n",
      "Ministerio de Educación\n",
      "Subsecretaría de Educación\n"
     ]
    },
    {
     "data": {
      "application/vnd.jupyter.widget-view+json": {
       "model_id": "4197c893a8a94d8581719f205631e956",
       "version_major": 2,
       "version_minor": 0
      },
      "text/plain": [
       "A Jupyter Widget"
      ]
     },
     "metadata": {},
     "output_type": "display_data"
    },
    {
     "name": "stdout",
     "output_type": "stream",
     "text": [
      "per_planta Año 2010\n",
      "per_planta Año 2009\n",
      "per_planta Año 2008\n",
      "per_planta Año 2007\n",
      "per_planta Año 2006\n",
      "per_planta Año 2017\n",
      "per_planta Año 2016\n",
      "per_planta Año 2015\n",
      "per_planta Año 2014\n",
      "per_planta Año 2013\n",
      "per_planta Año 2012\n",
      "per_planta Año 2011\n",
      "per_contrata Año 2010\n",
      "per_contrata Año 2009\n",
      "per_contrata Año 2008\n",
      "per_contrata Año 2007\n",
      "per_contrata Año 2006\n",
      "per_contrata Año 2017\n",
      "per_contrata Año 2016\n",
      "per_contrata Año 2015\n",
      "per_contrata Año 2014\n",
      "per_contrata Año 2013\n",
      "per_contrata Año 2012\n",
      "per_contrata Año 2011\n",
      "\n",
      "Subsecretaría de Educación Parvularia\n"
     ]
    },
    {
     "data": {
      "application/vnd.jupyter.widget-view+json": {
       "model_id": "880a6b6324c542a484bc7812c281aead",
       "version_major": 2,
       "version_minor": 0
      },
      "text/plain": [
       "A Jupyter Widget"
      ]
     },
     "metadata": {},
     "output_type": "display_data"
    },
    {
     "name": "stdout",
     "output_type": "stream",
     "text": [
      "per_planta Año 2016\n",
      "per_contrata Año 2016\n",
      "\n",
      "Consejo de Rectores de las Universidades Chilenas\n"
     ]
    },
    {
     "data": {
      "application/vnd.jupyter.widget-view+json": {
       "model_id": "709b3f544452477d92d93f87f4c34669",
       "version_major": 2,
       "version_minor": 0
      },
      "text/plain": [
       "A Jupyter Widget"
      ]
     },
     "metadata": {},
     "output_type": "display_data"
    },
    {
     "name": "stdout",
     "output_type": "stream",
     "text": [
      "per_planta Año 2017\n",
      "per_planta Año 2016\n",
      "per_planta Año 2015\n",
      "per_planta Año 2014\n",
      "per_planta Año 2013\n",
      "per_planta Año 2012\n",
      "per_planta Año 2011\n",
      "per_planta Año 2010\n",
      "could not get breadcrumbs from http://www.consejoderectores.cl/gobierno_transparente/2010/per_planta.html\n",
      "per_planta Año 2009\n",
      "could not get breadcrumbs from http://www.consejoderectores.cl/gobierno_transparente/2009/per_planta.html\n",
      "per_contrata Año 2012\n",
      "could not get breadcrumbs from http://www.consejoderectores.cl/gobierno_transparente/activa/2012/per_contrata.html\n",
      "per_contrata Año 2011\n",
      "could not get breadcrumbs from http://www.consejoderectores.cl/gobierno_transparente/activa/2011/per_contrata.html\n",
      "per_contrata Año 2010\n",
      "could not get breadcrumbs from http://www.consejoderectores.cl/gobierno_transparente/activa/2010/per_contrata.html\n",
      "per_contrata Año 2009\n",
      "could not get breadcrumbs from http://www.consejoderectores.cl/gobierno_transparente/activa/2009/per_contrata.html\n",
      "per_contrata Año 2017\n",
      "per_contrata Año 2016\n",
      "per_contrata Año 2015\n",
      "per_contrata Año 2014\n",
      "per_contrata Año 2013\n",
      "\n",
      "Consejo Nacional de Educación\n"
     ]
    },
    {
     "name": "stderr",
     "output_type": "stream",
     "text": [
      "Traceback (most recent call last):\n",
      "  File \"./lib/functions.py\", line 103, in getDepartmentData\n",
      "    for l in years_links_list:\n",
      "  File \"/Users/jaime/anaconda3/lib/python3.6/site-packages/selenium/webdriver/remote/webdriver.py\", line 555, in find_element_by_class_name\n",
      "    return self.find_element(by=By.CLASS_NAME, value=name)\n",
      "  File \"/Users/jaime/anaconda3/lib/python3.6/site-packages/selenium/webdriver/remote/webdriver.py\", line 955, in find_element\n",
      "    'value': value})['value']\n",
      "  File \"/Users/jaime/anaconda3/lib/python3.6/site-packages/selenium/webdriver/remote/webdriver.py\", line 312, in execute\n",
      "    self.error_handler.check_response(response)\n",
      "  File \"/Users/jaime/anaconda3/lib/python3.6/site-packages/selenium/webdriver/remote/errorhandler.py\", line 237, in check_response\n",
      "    raise exception_class(message, screen, stacktrace)\n",
      "selenium.common.exceptions.NoSuchElementException: Message: no such element: Unable to locate element: {\"method\":\"class name\",\"selector\":\"linksIntermedios\"}\n",
      "  (Session info: chrome=64.0.3282.140)\n",
      "  (Driver info: chromedriver=2.35.528157 (4429ca2590d6988c0745c24c8858745aaaec01ef),platform=Mac OS X 10.13.3 x86_64)\n",
      "\n"
     ]
    },
    {
     "name": "stdout",
     "output_type": "stream",
     "text": [
      "No contract data per_planta in http://www.gobiernotransparentechile.cl/directorio/entidad/10/148\n",
      "No contract data per_contrata in http://www.gobiernotransparentechile.cl/directorio/entidad/10/148\n"
     ]
    },
    {
     "name": "stderr",
     "output_type": "stream",
     "text": [
      "Traceback (most recent call last):\n",
      "  File \"./lib/functions.py\", line 103, in getDepartmentData\n",
      "    for l in years_links_list:\n",
      "  File \"/Users/jaime/anaconda3/lib/python3.6/site-packages/selenium/webdriver/remote/webdriver.py\", line 555, in find_element_by_class_name\n",
      "    return self.find_element(by=By.CLASS_NAME, value=name)\n",
      "  File \"/Users/jaime/anaconda3/lib/python3.6/site-packages/selenium/webdriver/remote/webdriver.py\", line 955, in find_element\n",
      "    'value': value})['value']\n",
      "  File \"/Users/jaime/anaconda3/lib/python3.6/site-packages/selenium/webdriver/remote/webdriver.py\", line 312, in execute\n",
      "    self.error_handler.check_response(response)\n",
      "  File \"/Users/jaime/anaconda3/lib/python3.6/site-packages/selenium/webdriver/remote/errorhandler.py\", line 237, in check_response\n",
      "    raise exception_class(message, screen, stacktrace)\n",
      "selenium.common.exceptions.NoSuchElementException: Message: no such element: Unable to locate element: {\"method\":\"class name\",\"selector\":\"linksIntermedios\"}\n",
      "  (Session info: chrome=64.0.3282.140)\n",
      "  (Driver info: chromedriver=2.35.528157 (4429ca2590d6988c0745c24c8858745aaaec01ef),platform=Mac OS X 10.13.3 x86_64)\n",
      "\n"
     ]
    },
    {
     "data": {
      "application/vnd.jupyter.widget-view+json": {
       "model_id": "bad2eca4906848f2835c4948197c4893",
       "version_major": 2,
       "version_minor": 0
      },
      "text/plain": [
       "A Jupyter Widget"
      ]
     },
     "metadata": {},
     "output_type": "display_data"
    },
    {
     "name": "stdout",
     "output_type": "stream",
     "text": [
      "\n",
      "Comisión Administradora del Sistema de Créditos para Estudios Superiores\n"
     ]
    },
    {
     "name": "stderr",
     "output_type": "stream",
     "text": [
      "Traceback (most recent call last):\n",
      "  File \"./lib/functions.py\", line 103, in getDepartmentData\n",
      "    for l in years_links_list:\n",
      "  File \"/Users/jaime/anaconda3/lib/python3.6/site-packages/selenium/webdriver/remote/webdriver.py\", line 555, in find_element_by_class_name\n",
      "    return self.find_element(by=By.CLASS_NAME, value=name)\n",
      "  File \"/Users/jaime/anaconda3/lib/python3.6/site-packages/selenium/webdriver/remote/webdriver.py\", line 955, in find_element\n",
      "    'value': value})['value']\n",
      "  File \"/Users/jaime/anaconda3/lib/python3.6/site-packages/selenium/webdriver/remote/webdriver.py\", line 312, in execute\n",
      "    self.error_handler.check_response(response)\n",
      "  File \"/Users/jaime/anaconda3/lib/python3.6/site-packages/selenium/webdriver/remote/errorhandler.py\", line 237, in check_response\n",
      "    raise exception_class(message, screen, stacktrace)\n",
      "selenium.common.exceptions.NoSuchElementException: Message: no such element: Unable to locate element: {\"method\":\"class name\",\"selector\":\"linksIntermedios\"}\n",
      "  (Session info: chrome=64.0.3282.140)\n",
      "  (Driver info: chromedriver=2.35.528157 (4429ca2590d6988c0745c24c8858745aaaec01ef),platform=Mac OS X 10.13.3 x86_64)\n",
      "\n"
     ]
    },
    {
     "name": "stdout",
     "output_type": "stream",
     "text": [
      "No contract data per_planta in http://www.gobiernotransparentechile.cl/directorio/entidad/10/149\n",
      "No contract data per_contrata in http://www.gobiernotransparentechile.cl/directorio/entidad/10/149\n"
     ]
    },
    {
     "name": "stderr",
     "output_type": "stream",
     "text": [
      "Traceback (most recent call last):\n",
      "  File \"./lib/functions.py\", line 103, in getDepartmentData\n",
      "    for l in years_links_list:\n",
      "  File \"/Users/jaime/anaconda3/lib/python3.6/site-packages/selenium/webdriver/remote/webdriver.py\", line 555, in find_element_by_class_name\n",
      "    return self.find_element(by=By.CLASS_NAME, value=name)\n",
      "  File \"/Users/jaime/anaconda3/lib/python3.6/site-packages/selenium/webdriver/remote/webdriver.py\", line 955, in find_element\n",
      "    'value': value})['value']\n",
      "  File \"/Users/jaime/anaconda3/lib/python3.6/site-packages/selenium/webdriver/remote/webdriver.py\", line 312, in execute\n",
      "    self.error_handler.check_response(response)\n",
      "  File \"/Users/jaime/anaconda3/lib/python3.6/site-packages/selenium/webdriver/remote/errorhandler.py\", line 237, in check_response\n",
      "    raise exception_class(message, screen, stacktrace)\n",
      "selenium.common.exceptions.NoSuchElementException: Message: no such element: Unable to locate element: {\"method\":\"class name\",\"selector\":\"linksIntermedios\"}\n",
      "  (Session info: chrome=64.0.3282.140)\n",
      "  (Driver info: chromedriver=2.35.528157 (4429ca2590d6988c0745c24c8858745aaaec01ef),platform=Mac OS X 10.13.3 x86_64)\n",
      "\n"
     ]
    },
    {
     "data": {
      "application/vnd.jupyter.widget-view+json": {
       "model_id": "75e7f693acac45abbd575035788136a7",
       "version_major": 2,
       "version_minor": 0
      },
      "text/plain": [
       "A Jupyter Widget"
      ]
     },
     "metadata": {},
     "output_type": "display_data"
    },
    {
     "name": "stdout",
     "output_type": "stream",
     "text": [
      "\n",
      "Dirección de Bibliotecas, Archivos y Museos (DIBAM)\n"
     ]
    },
    {
     "name": "stderr",
     "output_type": "stream",
     "text": [
      "Traceback (most recent call last):\n",
      "  File \"./lib/functions.py\", line 103, in getDepartmentData\n",
      "    for l in years_links_list:\n",
      "  File \"/Users/jaime/anaconda3/lib/python3.6/site-packages/selenium/webdriver/remote/webdriver.py\", line 555, in find_element_by_class_name\n",
      "    return self.find_element(by=By.CLASS_NAME, value=name)\n",
      "  File \"/Users/jaime/anaconda3/lib/python3.6/site-packages/selenium/webdriver/remote/webdriver.py\", line 955, in find_element\n",
      "    'value': value})['value']\n",
      "  File \"/Users/jaime/anaconda3/lib/python3.6/site-packages/selenium/webdriver/remote/webdriver.py\", line 312, in execute\n",
      "    self.error_handler.check_response(response)\n",
      "  File \"/Users/jaime/anaconda3/lib/python3.6/site-packages/selenium/webdriver/remote/errorhandler.py\", line 237, in check_response\n",
      "    raise exception_class(message, screen, stacktrace)\n",
      "selenium.common.exceptions.NoSuchElementException: Message: no such element: Unable to locate element: {\"method\":\"class name\",\"selector\":\"linksIntermedios\"}\n",
      "  (Session info: chrome=64.0.3282.140)\n",
      "  (Driver info: chromedriver=2.35.528157 (4429ca2590d6988c0745c24c8858745aaaec01ef),platform=Mac OS X 10.13.3 x86_64)\n",
      "\n"
     ]
    },
    {
     "name": "stdout",
     "output_type": "stream",
     "text": [
      "No contract data per_planta in http://www.gobiernotransparentechile.cl/directorio/entidad/10/150\n",
      "No contract data per_contrata in http://www.gobiernotransparentechile.cl/directorio/entidad/10/150\n"
     ]
    },
    {
     "name": "stderr",
     "output_type": "stream",
     "text": [
      "Traceback (most recent call last):\n",
      "  File \"./lib/functions.py\", line 103, in getDepartmentData\n",
      "    for l in years_links_list:\n",
      "  File \"/Users/jaime/anaconda3/lib/python3.6/site-packages/selenium/webdriver/remote/webdriver.py\", line 555, in find_element_by_class_name\n",
      "    return self.find_element(by=By.CLASS_NAME, value=name)\n",
      "  File \"/Users/jaime/anaconda3/lib/python3.6/site-packages/selenium/webdriver/remote/webdriver.py\", line 955, in find_element\n",
      "    'value': value})['value']\n",
      "  File \"/Users/jaime/anaconda3/lib/python3.6/site-packages/selenium/webdriver/remote/webdriver.py\", line 312, in execute\n",
      "    self.error_handler.check_response(response)\n",
      "  File \"/Users/jaime/anaconda3/lib/python3.6/site-packages/selenium/webdriver/remote/errorhandler.py\", line 237, in check_response\n",
      "    raise exception_class(message, screen, stacktrace)\n",
      "selenium.common.exceptions.NoSuchElementException: Message: no such element: Unable to locate element: {\"method\":\"class name\",\"selector\":\"linksIntermedios\"}\n",
      "  (Session info: chrome=64.0.3282.140)\n",
      "  (Driver info: chromedriver=2.35.528157 (4429ca2590d6988c0745c24c8858745aaaec01ef),platform=Mac OS X 10.13.3 x86_64)\n",
      "\n"
     ]
    },
    {
     "data": {
      "application/vnd.jupyter.widget-view+json": {
       "model_id": "ca01107d93c34bd393736d927bc3a10f",
       "version_major": 2,
       "version_minor": 0
      },
      "text/plain": [
       "A Jupyter Widget"
      ]
     },
     "metadata": {},
     "output_type": "display_data"
    },
    {
     "name": "stdout",
     "output_type": "stream",
     "text": [
      "\n",
      "Consejo de Calificación Cinematográfica\n"
     ]
    },
    {
     "name": "stderr",
     "output_type": "stream",
     "text": [
      "Traceback (most recent call last):\n",
      "  File \"./lib/functions.py\", line 103, in getDepartmentData\n",
      "    for l in years_links_list:\n",
      "  File \"/Users/jaime/anaconda3/lib/python3.6/site-packages/selenium/webdriver/remote/webdriver.py\", line 555, in find_element_by_class_name\n",
      "    return self.find_element(by=By.CLASS_NAME, value=name)\n",
      "  File \"/Users/jaime/anaconda3/lib/python3.6/site-packages/selenium/webdriver/remote/webdriver.py\", line 955, in find_element\n",
      "    'value': value})['value']\n",
      "  File \"/Users/jaime/anaconda3/lib/python3.6/site-packages/selenium/webdriver/remote/webdriver.py\", line 312, in execute\n",
      "    self.error_handler.check_response(response)\n",
      "  File \"/Users/jaime/anaconda3/lib/python3.6/site-packages/selenium/webdriver/remote/errorhandler.py\", line 237, in check_response\n",
      "    raise exception_class(message, screen, stacktrace)\n",
      "selenium.common.exceptions.NoSuchElementException: Message: no such element: Unable to locate element: {\"method\":\"class name\",\"selector\":\"linksIntermedios\"}\n",
      "  (Session info: chrome=64.0.3282.140)\n",
      "  (Driver info: chromedriver=2.35.528157 (4429ca2590d6988c0745c24c8858745aaaec01ef),platform=Mac OS X 10.13.3 x86_64)\n",
      "\n"
     ]
    },
    {
     "name": "stdout",
     "output_type": "stream",
     "text": [
      "No contract data per_planta in http://www.gobiernotransparentechile.cl/directorio/entidad/10/151\n"
     ]
    },
    {
     "data": {
      "application/vnd.jupyter.widget-view+json": {
       "model_id": "3f34d19aadb841478db597cd52f1aaeb",
       "version_major": 2,
       "version_minor": 0
      },
      "text/plain": [
       "A Jupyter Widget"
      ]
     },
     "metadata": {},
     "output_type": "display_data"
    },
    {
     "name": "stdout",
     "output_type": "stream",
     "text": [
      "per_contrata Año 2010\n",
      "per_contrata Año 2017\n",
      "per_contrata Año 2016\n",
      "per_contrata Año 2015\n",
      "per_contrata Año 2014\n",
      "per_contrata Año 2013\n",
      "per_contrata Año 2012\n",
      "per_contrata Año 2011\n",
      "\n",
      "Comisión Nacional de Investigación en Ciencia y Tecnología (CONICYT)\n"
     ]
    },
    {
     "data": {
      "application/vnd.jupyter.widget-view+json": {
       "model_id": "9e7de69967814ca7acba773aac3221a7",
       "version_major": 2,
       "version_minor": 0
      },
      "text/plain": [
       "A Jupyter Widget"
      ]
     },
     "metadata": {},
     "output_type": "display_data"
    },
    {
     "name": "stdout",
     "output_type": "stream",
     "text": [
      "per_planta Año 2015\n",
      "per_planta Año 2014\n",
      "per_planta Año 2013\n",
      "per_planta Año 2012\n",
      "per_planta Año 2011\n",
      "per_planta Año 2010\n",
      "per_planta Año 2009\n",
      "per_planta Año 2008\n",
      "per_planta Año 2007\n",
      "per_planta Año 2006\n",
      "per_contrata Año 2015\n",
      "per_contrata Año 2014\n",
      "per_contrata Año 2013\n",
      "per_contrata Año 2012\n",
      "per_contrata Año 2011\n",
      "per_contrata Año 2010\n",
      "per_contrata Año 2009\n",
      "per_contrata Año 2008\n",
      "per_contrata Año 2007\n",
      "per_contrata Año 2006\n",
      "\n",
      "Junta Nacional de Auxilio Escolar y Becas (JUNAEB)\n"
     ]
    },
    {
     "name": "stderr",
     "output_type": "stream",
     "text": [
      "Traceback (most recent call last):\n",
      "  File \"./lib/functions.py\", line 103, in getDepartmentData\n",
      "    for l in years_links_list:\n",
      "  File \"/Users/jaime/anaconda3/lib/python3.6/site-packages/selenium/webdriver/remote/webdriver.py\", line 555, in find_element_by_class_name\n",
      "    return self.find_element(by=By.CLASS_NAME, value=name)\n",
      "  File \"/Users/jaime/anaconda3/lib/python3.6/site-packages/selenium/webdriver/remote/webdriver.py\", line 955, in find_element\n",
      "    'value': value})['value']\n",
      "  File \"/Users/jaime/anaconda3/lib/python3.6/site-packages/selenium/webdriver/remote/webdriver.py\", line 312, in execute\n",
      "    self.error_handler.check_response(response)\n",
      "  File \"/Users/jaime/anaconda3/lib/python3.6/site-packages/selenium/webdriver/remote/errorhandler.py\", line 237, in check_response\n",
      "    raise exception_class(message, screen, stacktrace)\n",
      "selenium.common.exceptions.NoSuchElementException: Message: no such element: Unable to locate element: {\"method\":\"class name\",\"selector\":\"linksIntermedios\"}\n",
      "  (Session info: chrome=64.0.3282.140)\n",
      "  (Driver info: chromedriver=2.35.528157 (4429ca2590d6988c0745c24c8858745aaaec01ef),platform=Mac OS X 10.13.3 x86_64)\n",
      "\n"
     ]
    },
    {
     "name": "stdout",
     "output_type": "stream",
     "text": [
      "No contract data per_planta in http://www.gobiernotransparentechile.cl/directorio/entidad/10/153\n",
      "No contract data per_contrata in http://www.gobiernotransparentechile.cl/directorio/entidad/10/153\n"
     ]
    },
    {
     "name": "stderr",
     "output_type": "stream",
     "text": [
      "Traceback (most recent call last):\n",
      "  File \"./lib/functions.py\", line 103, in getDepartmentData\n",
      "    for l in years_links_list:\n",
      "  File \"/Users/jaime/anaconda3/lib/python3.6/site-packages/selenium/webdriver/remote/webdriver.py\", line 555, in find_element_by_class_name\n",
      "    return self.find_element(by=By.CLASS_NAME, value=name)\n",
      "  File \"/Users/jaime/anaconda3/lib/python3.6/site-packages/selenium/webdriver/remote/webdriver.py\", line 955, in find_element\n",
      "    'value': value})['value']\n",
      "  File \"/Users/jaime/anaconda3/lib/python3.6/site-packages/selenium/webdriver/remote/webdriver.py\", line 312, in execute\n",
      "    self.error_handler.check_response(response)\n",
      "  File \"/Users/jaime/anaconda3/lib/python3.6/site-packages/selenium/webdriver/remote/errorhandler.py\", line 237, in check_response\n",
      "    raise exception_class(message, screen, stacktrace)\n",
      "selenium.common.exceptions.NoSuchElementException: Message: no such element: Unable to locate element: {\"method\":\"class name\",\"selector\":\"linksIntermedios\"}\n",
      "  (Session info: chrome=64.0.3282.140)\n",
      "  (Driver info: chromedriver=2.35.528157 (4429ca2590d6988c0745c24c8858745aaaec01ef),platform=Mac OS X 10.13.3 x86_64)\n",
      "\n"
     ]
    },
    {
     "data": {
      "application/vnd.jupyter.widget-view+json": {
       "model_id": "c493656b92344e04869f6c7d0fe342fa",
       "version_major": 2,
       "version_minor": 0
      },
      "text/plain": [
       "A Jupyter Widget"
      ]
     },
     "metadata": {},
     "output_type": "display_data"
    },
    {
     "name": "stdout",
     "output_type": "stream",
     "text": [
      "\n",
      "Junta Nacional de Jardines Infantiles (JUNJI)\n"
     ]
    },
    {
     "name": "stderr",
     "output_type": "stream",
     "text": [
      "Traceback (most recent call last):\n",
      "  File \"./lib/functions.py\", line 103, in getDepartmentData\n",
      "    for l in years_links_list:\n",
      "  File \"/Users/jaime/anaconda3/lib/python3.6/site-packages/selenium/webdriver/remote/webdriver.py\", line 555, in find_element_by_class_name\n",
      "    return self.find_element(by=By.CLASS_NAME, value=name)\n",
      "  File \"/Users/jaime/anaconda3/lib/python3.6/site-packages/selenium/webdriver/remote/webdriver.py\", line 955, in find_element\n",
      "    'value': value})['value']\n",
      "  File \"/Users/jaime/anaconda3/lib/python3.6/site-packages/selenium/webdriver/remote/webdriver.py\", line 312, in execute\n",
      "    self.error_handler.check_response(response)\n",
      "  File \"/Users/jaime/anaconda3/lib/python3.6/site-packages/selenium/webdriver/remote/errorhandler.py\", line 237, in check_response\n",
      "    raise exception_class(message, screen, stacktrace)\n",
      "selenium.common.exceptions.NoSuchElementException: Message: no such element: Unable to locate element: {\"method\":\"class name\",\"selector\":\"linksIntermedios\"}\n",
      "  (Session info: chrome=64.0.3282.140)\n",
      "  (Driver info: chromedriver=2.35.528157 (4429ca2590d6988c0745c24c8858745aaaec01ef),platform=Mac OS X 10.13.3 x86_64)\n",
      "\n"
     ]
    },
    {
     "name": "stdout",
     "output_type": "stream",
     "text": [
      "No contract data per_planta in http://www.gobiernotransparentechile.cl/directorio/entidad/10/154\n",
      "No contract data per_contrata in http://www.gobiernotransparentechile.cl/directorio/entidad/10/154\n"
     ]
    },
    {
     "name": "stderr",
     "output_type": "stream",
     "text": [
      "Traceback (most recent call last):\n",
      "  File \"./lib/functions.py\", line 103, in getDepartmentData\n",
      "    for l in years_links_list:\n",
      "  File \"/Users/jaime/anaconda3/lib/python3.6/site-packages/selenium/webdriver/remote/webdriver.py\", line 555, in find_element_by_class_name\n",
      "    return self.find_element(by=By.CLASS_NAME, value=name)\n",
      "  File \"/Users/jaime/anaconda3/lib/python3.6/site-packages/selenium/webdriver/remote/webdriver.py\", line 955, in find_element\n",
      "    'value': value})['value']\n",
      "  File \"/Users/jaime/anaconda3/lib/python3.6/site-packages/selenium/webdriver/remote/webdriver.py\", line 312, in execute\n",
      "    self.error_handler.check_response(response)\n",
      "  File \"/Users/jaime/anaconda3/lib/python3.6/site-packages/selenium/webdriver/remote/errorhandler.py\", line 237, in check_response\n",
      "    raise exception_class(message, screen, stacktrace)\n",
      "selenium.common.exceptions.NoSuchElementException: Message: no such element: Unable to locate element: {\"method\":\"class name\",\"selector\":\"linksIntermedios\"}\n",
      "  (Session info: chrome=64.0.3282.140)\n",
      "  (Driver info: chromedriver=2.35.528157 (4429ca2590d6988c0745c24c8858745aaaec01ef),platform=Mac OS X 10.13.3 x86_64)\n",
      "\n"
     ]
    },
    {
     "data": {
      "application/vnd.jupyter.widget-view+json": {
       "model_id": "2eb83f9678524eb08416ac40ea220b81",
       "version_major": 2,
       "version_minor": 0
      },
      "text/plain": [
       "A Jupyter Widget"
      ]
     },
     "metadata": {},
     "output_type": "display_data"
    },
    {
     "name": "stdout",
     "output_type": "stream",
     "text": [
      "\n",
      "Comisión Nacional de Acreditación (CNA)\n"
     ]
    },
    {
     "name": "stderr",
     "output_type": "stream",
     "text": [
      "Traceback (most recent call last):\n",
      "  File \"./lib/functions.py\", line 103, in getDepartmentData\n",
      "    for l in years_links_list:\n",
      "  File \"/Users/jaime/anaconda3/lib/python3.6/site-packages/selenium/webdriver/remote/webdriver.py\", line 555, in find_element_by_class_name\n",
      "    return self.find_element(by=By.CLASS_NAME, value=name)\n",
      "  File \"/Users/jaime/anaconda3/lib/python3.6/site-packages/selenium/webdriver/remote/webdriver.py\", line 955, in find_element\n",
      "    'value': value})['value']\n",
      "  File \"/Users/jaime/anaconda3/lib/python3.6/site-packages/selenium/webdriver/remote/webdriver.py\", line 312, in execute\n",
      "    self.error_handler.check_response(response)\n",
      "  File \"/Users/jaime/anaconda3/lib/python3.6/site-packages/selenium/webdriver/remote/errorhandler.py\", line 237, in check_response\n",
      "    raise exception_class(message, screen, stacktrace)\n",
      "selenium.common.exceptions.NoSuchElementException: Message: no such element: Unable to locate element: {\"method\":\"class name\",\"selector\":\"linksIntermedios\"}\n",
      "  (Session info: chrome=64.0.3282.140)\n",
      "  (Driver info: chromedriver=2.35.528157 (4429ca2590d6988c0745c24c8858745aaaec01ef),platform=Mac OS X 10.13.3 x86_64)\n",
      "\n"
     ]
    },
    {
     "name": "stdout",
     "output_type": "stream",
     "text": [
      "No contract data per_planta in http://www.gobiernotransparentechile.cl/directorio/entidad/10/155\n",
      "No contract data per_contrata in http://www.gobiernotransparentechile.cl/directorio/entidad/10/155\n"
     ]
    },
    {
     "name": "stderr",
     "output_type": "stream",
     "text": [
      "Traceback (most recent call last):\n",
      "  File \"./lib/functions.py\", line 103, in getDepartmentData\n",
      "    for l in years_links_list:\n",
      "  File \"/Users/jaime/anaconda3/lib/python3.6/site-packages/selenium/webdriver/remote/webdriver.py\", line 555, in find_element_by_class_name\n",
      "    return self.find_element(by=By.CLASS_NAME, value=name)\n",
      "  File \"/Users/jaime/anaconda3/lib/python3.6/site-packages/selenium/webdriver/remote/webdriver.py\", line 955, in find_element\n",
      "    'value': value})['value']\n",
      "  File \"/Users/jaime/anaconda3/lib/python3.6/site-packages/selenium/webdriver/remote/webdriver.py\", line 312, in execute\n",
      "    self.error_handler.check_response(response)\n",
      "  File \"/Users/jaime/anaconda3/lib/python3.6/site-packages/selenium/webdriver/remote/errorhandler.py\", line 237, in check_response\n",
      "    raise exception_class(message, screen, stacktrace)\n",
      "selenium.common.exceptions.NoSuchElementException: Message: no such element: Unable to locate element: {\"method\":\"class name\",\"selector\":\"linksIntermedios\"}\n",
      "  (Session info: chrome=64.0.3282.140)\n",
      "  (Driver info: chromedriver=2.35.528157 (4429ca2590d6988c0745c24c8858745aaaec01ef),platform=Mac OS X 10.13.3 x86_64)\n",
      "\n"
     ]
    },
    {
     "data": {
      "application/vnd.jupyter.widget-view+json": {
       "model_id": "8d74a760aea0433d9506700f69319fd8",
       "version_major": 2,
       "version_minor": 0
      },
      "text/plain": [
       "A Jupyter Widget"
      ]
     },
     "metadata": {},
     "output_type": "display_data"
    },
    {
     "name": "stdout",
     "output_type": "stream",
     "text": [
      "\n",
      "Superintendencia de Educación\n"
     ]
    },
    {
     "data": {
      "application/vnd.jupyter.widget-view+json": {
       "model_id": "fb13c98da7df4c51b6387ec37e68294f",
       "version_major": 2,
       "version_minor": 0
      },
      "text/plain": [
       "A Jupyter Widget"
      ]
     },
     "metadata": {},
     "output_type": "display_data"
    },
    {
     "name": "stdout",
     "output_type": "stream",
     "text": [
      "per_planta Año 2016\n",
      "per_planta Año 2015\n",
      "per_planta Año 2014\n",
      "per_planta Año 2013\n",
      "per_planta Año 2012\n",
      "per_contrata Año 2016\n",
      "per_contrata Año 2015\n",
      "per_contrata Año 2014\n",
      "per_contrata Año 2013\n",
      "per_contrata Año 2012\n",
      "\n",
      "Agencia de calidad de la educación\n"
     ]
    },
    {
     "name": "stderr",
     "output_type": "stream",
     "text": [
      "Traceback (most recent call last):\n",
      "  File \"./lib/functions.py\", line 103, in getDepartmentData\n",
      "    for l in years_links_list:\n",
      "  File \"/Users/jaime/anaconda3/lib/python3.6/site-packages/selenium/webdriver/remote/webdriver.py\", line 555, in find_element_by_class_name\n",
      "    return self.find_element(by=By.CLASS_NAME, value=name)\n",
      "  File \"/Users/jaime/anaconda3/lib/python3.6/site-packages/selenium/webdriver/remote/webdriver.py\", line 955, in find_element\n",
      "    'value': value})['value']\n",
      "  File \"/Users/jaime/anaconda3/lib/python3.6/site-packages/selenium/webdriver/remote/webdriver.py\", line 312, in execute\n",
      "    self.error_handler.check_response(response)\n",
      "  File \"/Users/jaime/anaconda3/lib/python3.6/site-packages/selenium/webdriver/remote/errorhandler.py\", line 237, in check_response\n",
      "    raise exception_class(message, screen, stacktrace)\n",
      "selenium.common.exceptions.NoSuchElementException: Message: no such element: Unable to locate element: {\"method\":\"class name\",\"selector\":\"linksIntermedios\"}\n",
      "  (Session info: chrome=64.0.3282.140)\n",
      "  (Driver info: chromedriver=2.35.528157 (4429ca2590d6988c0745c24c8858745aaaec01ef),platform=Mac OS X 10.13.3 x86_64)\n",
      "\n"
     ]
    },
    {
     "name": "stdout",
     "output_type": "stream",
     "text": [
      "No contract data per_planta in http://www.gobiernotransparentechile.cl/directorio/entidad/10/359\n",
      "No contract data per_contrata in http://www.gobiernotransparentechile.cl/directorio/entidad/10/359\n"
     ]
    },
    {
     "name": "stderr",
     "output_type": "stream",
     "text": [
      "Traceback (most recent call last):\n",
      "  File \"./lib/functions.py\", line 103, in getDepartmentData\n",
      "    for l in years_links_list:\n",
      "  File \"/Users/jaime/anaconda3/lib/python3.6/site-packages/selenium/webdriver/remote/webdriver.py\", line 555, in find_element_by_class_name\n",
      "    return self.find_element(by=By.CLASS_NAME, value=name)\n",
      "  File \"/Users/jaime/anaconda3/lib/python3.6/site-packages/selenium/webdriver/remote/webdriver.py\", line 955, in find_element\n",
      "    'value': value})['value']\n",
      "  File \"/Users/jaime/anaconda3/lib/python3.6/site-packages/selenium/webdriver/remote/webdriver.py\", line 312, in execute\n",
      "    self.error_handler.check_response(response)\n",
      "  File \"/Users/jaime/anaconda3/lib/python3.6/site-packages/selenium/webdriver/remote/errorhandler.py\", line 237, in check_response\n",
      "    raise exception_class(message, screen, stacktrace)\n",
      "selenium.common.exceptions.NoSuchElementException: Message: no such element: Unable to locate element: {\"method\":\"class name\",\"selector\":\"linksIntermedios\"}\n",
      "  (Session info: chrome=64.0.3282.140)\n",
      "  (Driver info: chromedriver=2.35.528157 (4429ca2590d6988c0745c24c8858745aaaec01ef),platform=Mac OS X 10.13.3 x86_64)\n",
      "\n"
     ]
    },
    {
     "data": {
      "application/vnd.jupyter.widget-view+json": {
       "model_id": "50e4b9d40f8f48a68ea4bc30a20120ef",
       "version_major": 2,
       "version_minor": 0
      },
      "text/plain": [
       "A Jupyter Widget"
      ]
     },
     "metadata": {},
     "output_type": "display_data"
    },
    {
     "name": "stdout",
     "output_type": "stream",
     "text": [
      "\n",
      "Ministerio de Justicia y Derechos Humanos\n",
      "Subsecretaría de Justicia\n"
     ]
    },
    {
     "name": "stderr",
     "output_type": "stream",
     "text": [
      "Traceback (most recent call last):\n",
      "  File \"./lib/functions.py\", line 103, in getDepartmentData\n",
      "    for l in years_links_list:\n",
      "  File \"/Users/jaime/anaconda3/lib/python3.6/site-packages/selenium/webdriver/remote/webdriver.py\", line 555, in find_element_by_class_name\n",
      "    return self.find_element(by=By.CLASS_NAME, value=name)\n",
      "  File \"/Users/jaime/anaconda3/lib/python3.6/site-packages/selenium/webdriver/remote/webdriver.py\", line 955, in find_element\n",
      "    'value': value})['value']\n",
      "  File \"/Users/jaime/anaconda3/lib/python3.6/site-packages/selenium/webdriver/remote/webdriver.py\", line 312, in execute\n",
      "    self.error_handler.check_response(response)\n",
      "  File \"/Users/jaime/anaconda3/lib/python3.6/site-packages/selenium/webdriver/remote/errorhandler.py\", line 237, in check_response\n",
      "    raise exception_class(message, screen, stacktrace)\n",
      "selenium.common.exceptions.NoSuchElementException: Message: no such element: Unable to locate element: {\"method\":\"class name\",\"selector\":\"linksIntermedios\"}\n",
      "  (Session info: chrome=64.0.3282.140)\n",
      "  (Driver info: chromedriver=2.35.528157 (4429ca2590d6988c0745c24c8858745aaaec01ef),platform=Mac OS X 10.13.3 x86_64)\n",
      "\n"
     ]
    },
    {
     "name": "stdout",
     "output_type": "stream",
     "text": [
      "No contract data per_planta in http://www.gobiernotransparentechile.cl/directorio/entidad/11/156\n",
      "No contract data per_contrata in http://www.gobiernotransparentechile.cl/directorio/entidad/11/156\n"
     ]
    },
    {
     "name": "stderr",
     "output_type": "stream",
     "text": [
      "Traceback (most recent call last):\n",
      "  File \"./lib/functions.py\", line 103, in getDepartmentData\n",
      "    for l in years_links_list:\n",
      "  File \"/Users/jaime/anaconda3/lib/python3.6/site-packages/selenium/webdriver/remote/webdriver.py\", line 555, in find_element_by_class_name\n",
      "    return self.find_element(by=By.CLASS_NAME, value=name)\n",
      "  File \"/Users/jaime/anaconda3/lib/python3.6/site-packages/selenium/webdriver/remote/webdriver.py\", line 955, in find_element\n",
      "    'value': value})['value']\n",
      "  File \"/Users/jaime/anaconda3/lib/python3.6/site-packages/selenium/webdriver/remote/webdriver.py\", line 312, in execute\n",
      "    self.error_handler.check_response(response)\n",
      "  File \"/Users/jaime/anaconda3/lib/python3.6/site-packages/selenium/webdriver/remote/errorhandler.py\", line 237, in check_response\n",
      "    raise exception_class(message, screen, stacktrace)\n",
      "selenium.common.exceptions.NoSuchElementException: Message: no such element: Unable to locate element: {\"method\":\"class name\",\"selector\":\"linksIntermedios\"}\n",
      "  (Session info: chrome=64.0.3282.140)\n",
      "  (Driver info: chromedriver=2.35.528157 (4429ca2590d6988c0745c24c8858745aaaec01ef),platform=Mac OS X 10.13.3 x86_64)\n",
      "\n"
     ]
    },
    {
     "data": {
      "application/vnd.jupyter.widget-view+json": {
       "model_id": "b3c79237b3c14265a435e285815a85ba",
       "version_major": 2,
       "version_minor": 0
      },
      "text/plain": [
       "A Jupyter Widget"
      ]
     },
     "metadata": {},
     "output_type": "display_data"
    },
    {
     "name": "stdout",
     "output_type": "stream",
     "text": [
      "\n",
      "Subsecretaría de Derechos Humanos\n"
     ]
    },
    {
     "name": "stderr",
     "output_type": "stream",
     "text": [
      "Traceback (most recent call last):\n",
      "  File \"./lib/functions.py\", line 103, in getDepartmentData\n",
      "    for l in years_links_list:\n",
      "  File \"/Users/jaime/anaconda3/lib/python3.6/site-packages/selenium/webdriver/remote/webdriver.py\", line 555, in find_element_by_class_name\n",
      "    return self.find_element(by=By.CLASS_NAME, value=name)\n",
      "  File \"/Users/jaime/anaconda3/lib/python3.6/site-packages/selenium/webdriver/remote/webdriver.py\", line 955, in find_element\n",
      "    'value': value})['value']\n",
      "  File \"/Users/jaime/anaconda3/lib/python3.6/site-packages/selenium/webdriver/remote/webdriver.py\", line 312, in execute\n",
      "    self.error_handler.check_response(response)\n",
      "  File \"/Users/jaime/anaconda3/lib/python3.6/site-packages/selenium/webdriver/remote/errorhandler.py\", line 237, in check_response\n",
      "    raise exception_class(message, screen, stacktrace)\n",
      "selenium.common.exceptions.NoSuchElementException: Message: no such element: Unable to locate element: {\"method\":\"class name\",\"selector\":\"linksIntermedios\"}\n",
      "  (Session info: chrome=64.0.3282.140)\n",
      "  (Driver info: chromedriver=2.35.528157 (4429ca2590d6988c0745c24c8858745aaaec01ef),platform=Mac OS X 10.13.3 x86_64)\n",
      "\n"
     ]
    },
    {
     "name": "stdout",
     "output_type": "stream",
     "text": [
      "No contract data per_planta in http://www.gobiernotransparentechile.cl/directorio/entidad/11/358\n",
      "No contract data per_contrata in http://www.gobiernotransparentechile.cl/directorio/entidad/11/358\n"
     ]
    },
    {
     "name": "stderr",
     "output_type": "stream",
     "text": [
      "Traceback (most recent call last):\n",
      "  File \"./lib/functions.py\", line 103, in getDepartmentData\n",
      "    for l in years_links_list:\n",
      "  File \"/Users/jaime/anaconda3/lib/python3.6/site-packages/selenium/webdriver/remote/webdriver.py\", line 555, in find_element_by_class_name\n",
      "    return self.find_element(by=By.CLASS_NAME, value=name)\n",
      "  File \"/Users/jaime/anaconda3/lib/python3.6/site-packages/selenium/webdriver/remote/webdriver.py\", line 955, in find_element\n",
      "    'value': value})['value']\n",
      "  File \"/Users/jaime/anaconda3/lib/python3.6/site-packages/selenium/webdriver/remote/webdriver.py\", line 312, in execute\n",
      "    self.error_handler.check_response(response)\n",
      "  File \"/Users/jaime/anaconda3/lib/python3.6/site-packages/selenium/webdriver/remote/errorhandler.py\", line 237, in check_response\n",
      "    raise exception_class(message, screen, stacktrace)\n",
      "selenium.common.exceptions.NoSuchElementException: Message: no such element: Unable to locate element: {\"method\":\"class name\",\"selector\":\"linksIntermedios\"}\n",
      "  (Session info: chrome=64.0.3282.140)\n",
      "  (Driver info: chromedriver=2.35.528157 (4429ca2590d6988c0745c24c8858745aaaec01ef),platform=Mac OS X 10.13.3 x86_64)\n",
      "\n"
     ]
    },
    {
     "data": {
      "application/vnd.jupyter.widget-view+json": {
       "model_id": "0a2ba332a7dc4609bc6e2b761bf85edb",
       "version_major": 2,
       "version_minor": 0
      },
      "text/plain": [
       "A Jupyter Widget"
      ]
     },
     "metadata": {},
     "output_type": "display_data"
    },
    {
     "name": "stdout",
     "output_type": "stream",
     "text": [
      "\n",
      "Servicio de Registro Civil e Identificación (SRCEI)\n"
     ]
    },
    {
     "data": {
      "application/vnd.jupyter.widget-view+json": {
       "model_id": "b72d1948b36d49bbb0bf380fb8392f5a",
       "version_major": 2,
       "version_minor": 0
      },
      "text/plain": [
       "A Jupyter Widget"
      ]
     },
     "metadata": {},
     "output_type": "display_data"
    },
    {
     "name": "stdout",
     "output_type": "stream",
     "text": [
      "per_planta Año 2015\n",
      "per_planta Año 2014\n",
      "per_planta Año 2017\n",
      "per_planta Año 2016\n",
      "per_planta Año 2013\n",
      "per_planta Año 2012\n",
      "per_planta Año 2011\n",
      "per_planta Año 2010\n",
      "per_planta Año 2009\n",
      "per_planta Año 2008\n",
      "could not get breadcrumbs from http://www.registrocivil.cl/transparencia/2008/dotacionplanta_2008.html\n",
      "per_planta Año 2007\n",
      "could not get breadcrumbs from http://www.registrocivil.cl/transparencia/2007/dotacionplanta_2007.html\n",
      "per_planta Año 2006\n",
      "per_contrata Año 2014\n",
      "could not get breadcrumbs from http://www.registrocivil.cl/transparencia/2014/per_contrata.html\n",
      "per_contrata Año 2017\n",
      "could not get breadcrumbs from http://www.registrocivil.cl/transparencia/2013/Abril2017/per_contrata.html\n",
      "per_contrata Año 2016\n",
      "could not get breadcrumbs from http://www.registrocivil.cl/transparencia/2013/Abril/per_contrata.html\n",
      "per_contrata Año 2013\n",
      "could not get breadcrumbs from http://www.registrocivil.cl/transparencia/2013/per_contrata_13_1.html\n",
      "per_contrata Año 2015\n",
      "could not get breadcrumbs from http://www.registrocivil.cl/transparencia/2013/per_contrata.html\n",
      "per_contrata Año 2012\n",
      "could not get breadcrumbs from http://www.registrocivil.cl/transparencia/2012/per_contrata.html\n",
      "per_contrata Año 2011\n",
      "could not get breadcrumbs from http://www.registrocivil.cl/transparencia/2011/per_contrata.html\n",
      "per_contrata Año 2010\n",
      "could not get breadcrumbs from http://www.registrocivil.cl/transparencia/2010/per_contrata.html\n",
      "per_contrata Año 2009\n",
      "could not get breadcrumbs from http://www.registrocivil.cl/transparencia/2009/per_contrata.html\n",
      "per_contrata Año 2008\n",
      "could not get breadcrumbs from http://www.registrocivil.cl/transparencia/2008/dotacioncontrata_2008.html\n",
      "per_contrata Año 2007\n",
      "could not get breadcrumbs from http://www.registrocivil.cl/transparencia/2007/dotacioncontrata_2007.html\n",
      "per_contrata Año 2006\n",
      "could not get breadcrumbs from http://www.registrocivil.cl/transparencia/2006/dotacioncontrata_2006.html\n",
      "\n",
      "Servicio Médico Legal (SML)\n",
      "No contract data per_contrata in http://www.gobiernotransparentechile.cl/directorio/entidad/11/158\n"
     ]
    },
    {
     "name": "stderr",
     "output_type": "stream",
     "text": [
      "Traceback (most recent call last):\n",
      "  File \"./lib/functions.py\", line 103, in getDepartmentData\n",
      "    for l in years_links_list:\n",
      "  File \"/Users/jaime/anaconda3/lib/python3.6/site-packages/selenium/webdriver/remote/webdriver.py\", line 555, in find_element_by_class_name\n",
      "    return self.find_element(by=By.CLASS_NAME, value=name)\n",
      "  File \"/Users/jaime/anaconda3/lib/python3.6/site-packages/selenium/webdriver/remote/webdriver.py\", line 955, in find_element\n",
      "    'value': value})['value']\n",
      "  File \"/Users/jaime/anaconda3/lib/python3.6/site-packages/selenium/webdriver/remote/webdriver.py\", line 312, in execute\n",
      "    self.error_handler.check_response(response)\n",
      "  File \"/Users/jaime/anaconda3/lib/python3.6/site-packages/selenium/webdriver/remote/errorhandler.py\", line 237, in check_response\n",
      "    raise exception_class(message, screen, stacktrace)\n",
      "selenium.common.exceptions.NoSuchElementException: Message: no such element: Unable to locate element: {\"method\":\"class name\",\"selector\":\"linksIntermedios\"}\n",
      "  (Session info: chrome=64.0.3282.140)\n",
      "  (Driver info: chromedriver=2.35.528157 (4429ca2590d6988c0745c24c8858745aaaec01ef),platform=Mac OS X 10.13.3 x86_64)\n",
      "\n"
     ]
    },
    {
     "data": {
      "application/vnd.jupyter.widget-view+json": {
       "model_id": "126789e7d2aa458d867f048ce0c4c3be",
       "version_major": 2,
       "version_minor": 0
      },
      "text/plain": [
       "A Jupyter Widget"
      ]
     },
     "metadata": {},
     "output_type": "display_data"
    },
    {
     "name": "stdout",
     "output_type": "stream",
     "text": [
      "per_planta \n",
      "could not get breadcrumbs from http://dpi.minsegpres.gob.cl/instituciones/AK003\n",
      "\n",
      "Servicio Nacional de Menores (SENAME)\n"
     ]
    },
    {
     "data": {
      "application/vnd.jupyter.widget-view+json": {
       "model_id": "0e3a964d49264ef2bfe7207ace79d389",
       "version_major": 2,
       "version_minor": 0
      },
      "text/plain": [
       "A Jupyter Widget"
      ]
     },
     "metadata": {},
     "output_type": "display_data"
    },
    {
     "name": "stdout",
     "output_type": "stream",
     "text": [
      "per_planta SEPTIEMBRE\n",
      "per_planta OCTUBRE\n",
      "per_planta NOVIEMBRE\n",
      "per_planta MAYO\n",
      "per_planta MARZO\n",
      "per_planta JUNIO\n",
      "per_planta JULIO\n",
      "per_planta FEBRERO\n",
      "per_planta ENERO\n",
      "per_planta DICIEMBRE\n",
      "per_planta AGOSTO\n",
      "per_planta ABRIL\n",
      "per_planta Año 2016\n",
      "per_planta Año 2015\n",
      "per_planta Año 2014\n",
      "per_planta Año 2013\n",
      "per_planta Año 2012\n",
      "per_planta Año 2011\n",
      "per_planta Año 2010\n",
      "per_planta Año 2009\n",
      "per_planta Año 2008\n",
      "per_planta Año 2007\n",
      "per_planta Año 2006\n",
      "per_contrata SEPTIEMBRE\n",
      "per_contrata OCTUBRE\n",
      "per_contrata NOVIEMBRE\n",
      "per_contrata MAYO\n",
      "per_contrata MARZO\n",
      "per_contrata JUNIO\n",
      "per_contrata JULIO\n",
      "per_contrata FEBRERO\n",
      "per_contrata ENERO\n",
      "per_contrata DICIEMBRE\n",
      "per_contrata AGOSTO\n",
      "per_contrata ABRIL\n",
      "per_contrata Año 2015\n",
      "per_contrata Año 2014\n",
      "per_contrata Año 2013\n",
      "per_contrata Año 2012\n",
      "per_contrata Año 2011\n",
      "per_contrata Año 2010\n",
      "per_contrata Año 2009\n",
      "per_contrata Año 2008\n",
      "per_contrata Año 2007\n",
      "per_contrata Año 2006\n",
      "\n",
      "Defensoría Penal Pública\n"
     ]
    },
    {
     "data": {
      "application/vnd.jupyter.widget-view+json": {
       "model_id": "7efda33930c041ee8897215993060a4c",
       "version_major": 2,
       "version_minor": 0
      },
      "text/plain": [
       "A Jupyter Widget"
      ]
     },
     "metadata": {},
     "output_type": "display_data"
    },
    {
     "name": "stdout",
     "output_type": "stream",
     "text": [
      "per_planta Año 2016\n",
      "per_planta Año 2017\n",
      "per_planta Año 2015\n",
      "per_planta Año 2014\n",
      "per_planta Año 2013\n",
      "per_planta Año 2012\n",
      "per_planta Año 2011\n",
      "per_planta Año 2010\n",
      "per_planta Año 2009\n",
      "per_planta Año 2008\n",
      "per_planta Año 2007\n",
      "per_planta Año 2006\n",
      "per_contrata Año 2016\n",
      "per_contrata Año 2017\n",
      "per_contrata Año 2015\n",
      "per_contrata Año 2014\n",
      "per_contrata Año 2013\n",
      "per_contrata Año 2012\n",
      "per_contrata Año 2011\n",
      "per_contrata Año 2010\n",
      "per_contrata Año 2009\n",
      "per_contrata Año 2008\n",
      "per_contrata Año 2007\n",
      "per_contrata Año 2006\n",
      "\n",
      "Gendarmería de Chile\n"
     ]
    },
    {
     "name": "stderr",
     "output_type": "stream",
     "text": [
      "Traceback (most recent call last):\n",
      "  File \"./lib/functions.py\", line 103, in getDepartmentData\n",
      "    for l in years_links_list:\n",
      "  File \"/Users/jaime/anaconda3/lib/python3.6/site-packages/selenium/webdriver/remote/webdriver.py\", line 555, in find_element_by_class_name\n",
      "    return self.find_element(by=By.CLASS_NAME, value=name)\n",
      "  File \"/Users/jaime/anaconda3/lib/python3.6/site-packages/selenium/webdriver/remote/webdriver.py\", line 955, in find_element\n",
      "    'value': value})['value']\n",
      "  File \"/Users/jaime/anaconda3/lib/python3.6/site-packages/selenium/webdriver/remote/webdriver.py\", line 312, in execute\n",
      "    self.error_handler.check_response(response)\n",
      "  File \"/Users/jaime/anaconda3/lib/python3.6/site-packages/selenium/webdriver/remote/errorhandler.py\", line 237, in check_response\n",
      "    raise exception_class(message, screen, stacktrace)\n",
      "selenium.common.exceptions.NoSuchElementException: Message: no such element: Unable to locate element: {\"method\":\"class name\",\"selector\":\"linksIntermedios\"}\n",
      "  (Session info: chrome=64.0.3282.140)\n",
      "  (Driver info: chromedriver=2.35.528157 (4429ca2590d6988c0745c24c8858745aaaec01ef),platform=Mac OS X 10.13.3 x86_64)\n",
      "\n"
     ]
    },
    {
     "name": "stdout",
     "output_type": "stream",
     "text": [
      "No contract data per_planta in http://www.gobiernotransparentechile.cl/directorio/entidad/11/161\n"
     ]
    },
    {
     "data": {
      "application/vnd.jupyter.widget-view+json": {
       "model_id": "f457473b86614d248f77dc60cef7c5a2",
       "version_major": 2,
       "version_minor": 0
      },
      "text/plain": [
       "A Jupyter Widget"
      ]
     },
     "metadata": {},
     "output_type": "display_data"
    },
    {
     "name": "stdout",
     "output_type": "stream",
     "text": [
      "per_contrata Junio\n",
      "could not get breadcrumbs from http://gobtransparente.gendarmeria.gob.cl/dotacion/contrata_2011_06.html\n",
      "per_contrata Mayo\n",
      "could not get breadcrumbs from http://gobtransparente.gendarmeria.gob.cl/dotacion/contrata_2011_05.html\n",
      "per_contrata Abril\n",
      "could not get breadcrumbs from http://gobtransparente.gendarmeria.gob.cl/dotacion/contrata_2011_04.html\n",
      "per_contrata Marzo\n",
      "could not get breadcrumbs from http://gobtransparente.gendarmeria.gob.cl/dotacion/contrata_2011_03.html\n",
      "per_contrata Febrero\n",
      "could not get breadcrumbs from http://gobtransparente.gendarmeria.gob.cl/dotacion/contrata_2012_02.html\n",
      "per_contrata Enero\n",
      "could not get breadcrumbs from http://gobtransparente.gendarmeria.gob.cl/dotacion/contrata_2012_01.html\n",
      "per_contrata Diciembre\n",
      "could not get breadcrumbs from http://gobtransparente.gendarmeria.gob.cl/dotacion/contrata_2011_12.html\n",
      "per_contrata Noviembre\n",
      "could not get breadcrumbs from http://gobtransparente.gendarmeria.gob.cl/dotacion/contrata_2011_11.html\n",
      "per_contrata Octubre\n",
      "could not get breadcrumbs from http://gobtransparente.gendarmeria.gob.cl/dotacion/contrata_2011_10.html\n",
      "per_contrata Septiembre\n",
      "could not get breadcrumbs from http://gobtransparente.gendarmeria.gob.cl/dotacion/contrata_2011_09.html\n",
      "per_contrata Agosto\n",
      "could not get breadcrumbs from http://gobtransparente.gendarmeria.gob.cl/dotacion/contrata_2011_08.html\n",
      "per_contrata Julio\n",
      "could not get breadcrumbs from http://gobtransparente.gendarmeria.gob.cl/dotacion/contrata_2011_07.html\n",
      "per_contrata Año 2011\n",
      "could not get breadcrumbs from http://gobtransparente.gendarmeria.gob.cl/dotacion/);showShow\n",
      "\n",
      "Corporación de Asistencia Judicial Región Metropolitana\n"
     ]
    },
    {
     "name": "stderr",
     "output_type": "stream",
     "text": [
      "Traceback (most recent call last):\n",
      "  File \"./lib/functions.py\", line 103, in getDepartmentData\n",
      "    for l in years_links_list:\n",
      "  File \"/Users/jaime/anaconda3/lib/python3.6/site-packages/selenium/webdriver/remote/webdriver.py\", line 555, in find_element_by_class_name\n",
      "    return self.find_element(by=By.CLASS_NAME, value=name)\n",
      "  File \"/Users/jaime/anaconda3/lib/python3.6/site-packages/selenium/webdriver/remote/webdriver.py\", line 955, in find_element\n",
      "    'value': value})['value']\n",
      "  File \"/Users/jaime/anaconda3/lib/python3.6/site-packages/selenium/webdriver/remote/webdriver.py\", line 312, in execute\n",
      "    self.error_handler.check_response(response)\n",
      "  File \"/Users/jaime/anaconda3/lib/python3.6/site-packages/selenium/webdriver/remote/errorhandler.py\", line 237, in check_response\n",
      "    raise exception_class(message, screen, stacktrace)\n",
      "selenium.common.exceptions.NoSuchElementException: Message: no such element: Unable to locate element: {\"method\":\"class name\",\"selector\":\"linksIntermedios\"}\n",
      "  (Session info: chrome=64.0.3282.140)\n",
      "  (Driver info: chromedriver=2.35.528157 (4429ca2590d6988c0745c24c8858745aaaec01ef),platform=Mac OS X 10.13.3 x86_64)\n",
      "\n"
     ]
    },
    {
     "name": "stdout",
     "output_type": "stream",
     "text": [
      "No contract data per_planta in http://www.gobiernotransparentechile.cl/directorio/entidad/11/163\n",
      "No contract data per_contrata in http://www.gobiernotransparentechile.cl/directorio/entidad/11/163\n"
     ]
    },
    {
     "name": "stderr",
     "output_type": "stream",
     "text": [
      "Traceback (most recent call last):\n",
      "  File \"./lib/functions.py\", line 103, in getDepartmentData\n",
      "    for l in years_links_list:\n",
      "  File \"/Users/jaime/anaconda3/lib/python3.6/site-packages/selenium/webdriver/remote/webdriver.py\", line 555, in find_element_by_class_name\n",
      "    return self.find_element(by=By.CLASS_NAME, value=name)\n",
      "  File \"/Users/jaime/anaconda3/lib/python3.6/site-packages/selenium/webdriver/remote/webdriver.py\", line 955, in find_element\n",
      "    'value': value})['value']\n",
      "  File \"/Users/jaime/anaconda3/lib/python3.6/site-packages/selenium/webdriver/remote/webdriver.py\", line 312, in execute\n",
      "    self.error_handler.check_response(response)\n",
      "  File \"/Users/jaime/anaconda3/lib/python3.6/site-packages/selenium/webdriver/remote/errorhandler.py\", line 237, in check_response\n",
      "    raise exception_class(message, screen, stacktrace)\n",
      "selenium.common.exceptions.NoSuchElementException: Message: no such element: Unable to locate element: {\"method\":\"class name\",\"selector\":\"linksIntermedios\"}\n",
      "  (Session info: chrome=64.0.3282.140)\n",
      "  (Driver info: chromedriver=2.35.528157 (4429ca2590d6988c0745c24c8858745aaaec01ef),platform=Mac OS X 10.13.3 x86_64)\n",
      "\n"
     ]
    },
    {
     "data": {
      "application/vnd.jupyter.widget-view+json": {
       "model_id": "ceed14e7923043aea73070cbd40cb580",
       "version_major": 2,
       "version_minor": 0
      },
      "text/plain": [
       "A Jupyter Widget"
      ]
     },
     "metadata": {},
     "output_type": "display_data"
    },
    {
     "name": "stdout",
     "output_type": "stream",
     "text": [
      "\n",
      "Corporación de Asistencia Judicial Región Valparaíso\n"
     ]
    },
    {
     "name": "stderr",
     "output_type": "stream",
     "text": [
      "Traceback (most recent call last):\n",
      "  File \"./lib/functions.py\", line 103, in getDepartmentData\n",
      "    for l in years_links_list:\n",
      "  File \"/Users/jaime/anaconda3/lib/python3.6/site-packages/selenium/webdriver/remote/webdriver.py\", line 555, in find_element_by_class_name\n",
      "    return self.find_element(by=By.CLASS_NAME, value=name)\n",
      "  File \"/Users/jaime/anaconda3/lib/python3.6/site-packages/selenium/webdriver/remote/webdriver.py\", line 955, in find_element\n",
      "    'value': value})['value']\n",
      "  File \"/Users/jaime/anaconda3/lib/python3.6/site-packages/selenium/webdriver/remote/webdriver.py\", line 312, in execute\n",
      "    self.error_handler.check_response(response)\n",
      "  File \"/Users/jaime/anaconda3/lib/python3.6/site-packages/selenium/webdriver/remote/errorhandler.py\", line 237, in check_response\n",
      "    raise exception_class(message, screen, stacktrace)\n",
      "selenium.common.exceptions.NoSuchElementException: Message: no such element: Unable to locate element: {\"method\":\"class name\",\"selector\":\"linksIntermedios\"}\n",
      "  (Session info: chrome=64.0.3282.140)\n",
      "  (Driver info: chromedriver=2.35.528157 (4429ca2590d6988c0745c24c8858745aaaec01ef),platform=Mac OS X 10.13.3 x86_64)\n",
      "\n"
     ]
    },
    {
     "name": "stdout",
     "output_type": "stream",
     "text": [
      "No contract data per_planta in http://www.gobiernotransparentechile.cl/directorio/entidad/11/164\n",
      "No contract data per_contrata in http://www.gobiernotransparentechile.cl/directorio/entidad/11/164\n"
     ]
    },
    {
     "name": "stderr",
     "output_type": "stream",
     "text": [
      "Traceback (most recent call last):\n",
      "  File \"./lib/functions.py\", line 103, in getDepartmentData\n",
      "    for l in years_links_list:\n",
      "  File \"/Users/jaime/anaconda3/lib/python3.6/site-packages/selenium/webdriver/remote/webdriver.py\", line 555, in find_element_by_class_name\n",
      "    return self.find_element(by=By.CLASS_NAME, value=name)\n",
      "  File \"/Users/jaime/anaconda3/lib/python3.6/site-packages/selenium/webdriver/remote/webdriver.py\", line 955, in find_element\n",
      "    'value': value})['value']\n",
      "  File \"/Users/jaime/anaconda3/lib/python3.6/site-packages/selenium/webdriver/remote/webdriver.py\", line 312, in execute\n",
      "    self.error_handler.check_response(response)\n",
      "  File \"/Users/jaime/anaconda3/lib/python3.6/site-packages/selenium/webdriver/remote/errorhandler.py\", line 237, in check_response\n",
      "    raise exception_class(message, screen, stacktrace)\n",
      "selenium.common.exceptions.NoSuchElementException: Message: no such element: Unable to locate element: {\"method\":\"class name\",\"selector\":\"linksIntermedios\"}\n",
      "  (Session info: chrome=64.0.3282.140)\n",
      "  (Driver info: chromedriver=2.35.528157 (4429ca2590d6988c0745c24c8858745aaaec01ef),platform=Mac OS X 10.13.3 x86_64)\n",
      "\n"
     ]
    },
    {
     "data": {
      "application/vnd.jupyter.widget-view+json": {
       "model_id": "70d626962274494daba05cd5daa27fbd",
       "version_major": 2,
       "version_minor": 0
      },
      "text/plain": [
       "A Jupyter Widget"
      ]
     },
     "metadata": {},
     "output_type": "display_data"
    },
    {
     "name": "stdout",
     "output_type": "stream",
     "text": [
      "\n",
      "Corporación de Asistencia Judicial Regiones Tarapacá y Antofagasta\n"
     ]
    },
    {
     "name": "stderr",
     "output_type": "stream",
     "text": [
      "Traceback (most recent call last):\n",
      "  File \"./lib/functions.py\", line 103, in getDepartmentData\n",
      "    for l in years_links_list:\n",
      "  File \"/Users/jaime/anaconda3/lib/python3.6/site-packages/selenium/webdriver/remote/webdriver.py\", line 555, in find_element_by_class_name\n",
      "    return self.find_element(by=By.CLASS_NAME, value=name)\n",
      "  File \"/Users/jaime/anaconda3/lib/python3.6/site-packages/selenium/webdriver/remote/webdriver.py\", line 955, in find_element\n",
      "    'value': value})['value']\n",
      "  File \"/Users/jaime/anaconda3/lib/python3.6/site-packages/selenium/webdriver/remote/webdriver.py\", line 312, in execute\n",
      "    self.error_handler.check_response(response)\n",
      "  File \"/Users/jaime/anaconda3/lib/python3.6/site-packages/selenium/webdriver/remote/errorhandler.py\", line 237, in check_response\n",
      "    raise exception_class(message, screen, stacktrace)\n",
      "selenium.common.exceptions.NoSuchElementException: Message: no such element: Unable to locate element: {\"method\":\"class name\",\"selector\":\"linksIntermedios\"}\n",
      "  (Session info: chrome=64.0.3282.140)\n",
      "  (Driver info: chromedriver=2.35.528157 (4429ca2590d6988c0745c24c8858745aaaec01ef),platform=Mac OS X 10.13.3 x86_64)\n",
      "\n"
     ]
    },
    {
     "name": "stdout",
     "output_type": "stream",
     "text": [
      "No contract data per_planta in http://www.gobiernotransparentechile.cl/directorio/entidad/11/165\n",
      "No contract data per_contrata in http://www.gobiernotransparentechile.cl/directorio/entidad/11/165\n"
     ]
    },
    {
     "name": "stderr",
     "output_type": "stream",
     "text": [
      "Traceback (most recent call last):\n",
      "  File \"./lib/functions.py\", line 103, in getDepartmentData\n",
      "    for l in years_links_list:\n",
      "  File \"/Users/jaime/anaconda3/lib/python3.6/site-packages/selenium/webdriver/remote/webdriver.py\", line 555, in find_element_by_class_name\n",
      "    return self.find_element(by=By.CLASS_NAME, value=name)\n",
      "  File \"/Users/jaime/anaconda3/lib/python3.6/site-packages/selenium/webdriver/remote/webdriver.py\", line 955, in find_element\n",
      "    'value': value})['value']\n",
      "  File \"/Users/jaime/anaconda3/lib/python3.6/site-packages/selenium/webdriver/remote/webdriver.py\", line 312, in execute\n",
      "    self.error_handler.check_response(response)\n",
      "  File \"/Users/jaime/anaconda3/lib/python3.6/site-packages/selenium/webdriver/remote/errorhandler.py\", line 237, in check_response\n",
      "    raise exception_class(message, screen, stacktrace)\n",
      "selenium.common.exceptions.NoSuchElementException: Message: no such element: Unable to locate element: {\"method\":\"class name\",\"selector\":\"linksIntermedios\"}\n",
      "  (Session info: chrome=64.0.3282.140)\n",
      "  (Driver info: chromedriver=2.35.528157 (4429ca2590d6988c0745c24c8858745aaaec01ef),platform=Mac OS X 10.13.3 x86_64)\n",
      "\n"
     ]
    },
    {
     "data": {
      "application/vnd.jupyter.widget-view+json": {
       "model_id": "1175a1a7d2364e1faaf6fe3ba2dc795c",
       "version_major": 2,
       "version_minor": 0
      },
      "text/plain": [
       "A Jupyter Widget"
      ]
     },
     "metadata": {},
     "output_type": "display_data"
    },
    {
     "name": "stdout",
     "output_type": "stream",
     "text": [
      "\n",
      "Corporación de Asistencia Judicial Región Bío-Bío\n"
     ]
    },
    {
     "name": "stderr",
     "output_type": "stream",
     "text": [
      "Traceback (most recent call last):\n",
      "  File \"./lib/functions.py\", line 103, in getDepartmentData\n",
      "    for l in years_links_list:\n",
      "  File \"/Users/jaime/anaconda3/lib/python3.6/site-packages/selenium/webdriver/remote/webdriver.py\", line 555, in find_element_by_class_name\n",
      "    return self.find_element(by=By.CLASS_NAME, value=name)\n",
      "  File \"/Users/jaime/anaconda3/lib/python3.6/site-packages/selenium/webdriver/remote/webdriver.py\", line 955, in find_element\n",
      "    'value': value})['value']\n",
      "  File \"/Users/jaime/anaconda3/lib/python3.6/site-packages/selenium/webdriver/remote/webdriver.py\", line 312, in execute\n",
      "    self.error_handler.check_response(response)\n",
      "  File \"/Users/jaime/anaconda3/lib/python3.6/site-packages/selenium/webdriver/remote/errorhandler.py\", line 237, in check_response\n",
      "    raise exception_class(message, screen, stacktrace)\n",
      "selenium.common.exceptions.NoSuchElementException: Message: no such element: Unable to locate element: {\"method\":\"class name\",\"selector\":\"linksIntermedios\"}\n",
      "  (Session info: chrome=64.0.3282.140)\n",
      "  (Driver info: chromedriver=2.35.528157 (4429ca2590d6988c0745c24c8858745aaaec01ef),platform=Mac OS X 10.13.3 x86_64)\n",
      "\n"
     ]
    },
    {
     "name": "stdout",
     "output_type": "stream",
     "text": [
      "No contract data per_planta in http://www.gobiernotransparentechile.cl/directorio/entidad/11/166\n",
      "No contract data per_contrata in http://www.gobiernotransparentechile.cl/directorio/entidad/11/166\n"
     ]
    },
    {
     "name": "stderr",
     "output_type": "stream",
     "text": [
      "Traceback (most recent call last):\n",
      "  File \"./lib/functions.py\", line 103, in getDepartmentData\n",
      "    for l in years_links_list:\n",
      "  File \"/Users/jaime/anaconda3/lib/python3.6/site-packages/selenium/webdriver/remote/webdriver.py\", line 555, in find_element_by_class_name\n",
      "    return self.find_element(by=By.CLASS_NAME, value=name)\n",
      "  File \"/Users/jaime/anaconda3/lib/python3.6/site-packages/selenium/webdriver/remote/webdriver.py\", line 955, in find_element\n",
      "    'value': value})['value']\n",
      "  File \"/Users/jaime/anaconda3/lib/python3.6/site-packages/selenium/webdriver/remote/webdriver.py\", line 312, in execute\n",
      "    self.error_handler.check_response(response)\n",
      "  File \"/Users/jaime/anaconda3/lib/python3.6/site-packages/selenium/webdriver/remote/errorhandler.py\", line 237, in check_response\n",
      "    raise exception_class(message, screen, stacktrace)\n",
      "selenium.common.exceptions.NoSuchElementException: Message: no such element: Unable to locate element: {\"method\":\"class name\",\"selector\":\"linksIntermedios\"}\n",
      "  (Session info: chrome=64.0.3282.140)\n",
      "  (Driver info: chromedriver=2.35.528157 (4429ca2590d6988c0745c24c8858745aaaec01ef),platform=Mac OS X 10.13.3 x86_64)\n",
      "\n"
     ]
    },
    {
     "data": {
      "application/vnd.jupyter.widget-view+json": {
       "model_id": "85572881c2a443e3b7b9bb1361c13ad8",
       "version_major": 2,
       "version_minor": 0
      },
      "text/plain": [
       "A Jupyter Widget"
      ]
     },
     "metadata": {},
     "output_type": "display_data"
    },
    {
     "name": "stdout",
     "output_type": "stream",
     "text": [
      "\n",
      "Ministerio del Trabajo y Previsión Social\n",
      "Subsecretaría del Trabajo\n"
     ]
    },
    {
     "data": {
      "application/vnd.jupyter.widget-view+json": {
       "model_id": "d0a5f8f316f0468584c2787147b9f45f",
       "version_major": 2,
       "version_minor": 0
      },
      "text/plain": [
       "A Jupyter Widget"
      ]
     },
     "metadata": {},
     "output_type": "display_data"
    },
    {
     "name": "stdout",
     "output_type": "stream",
     "text": [
      "per_planta Año 2018\n",
      "per_planta Año 2017\n",
      "per_planta Año 2016\n",
      "per_planta Año 2015\n",
      "per_planta Año 2014\n",
      "per_planta Año 2013\n",
      "per_planta Año 2012\n",
      "per_planta Año 2011\n",
      "per_planta Año 2010\n",
      "per_planta Año 2009 (Abril-Diciembre)\n",
      "per_planta Año 2009 (Enero-Marzo)\n",
      "per_planta Año 2008\n",
      "per_planta Año 2007\n",
      "per_planta Año 2006\n",
      "per_contrata Año 2018\n",
      "per_contrata Año 2016\n",
      "per_contrata Año 2015\n",
      "per_contrata Año 2014\n",
      "per_contrata Año 2013\n",
      "per_contrata Año 2012\n",
      "per_contrata Año 2011\n",
      "per_contrata Año 2010\n",
      "per_contrata Año 2009 (Abril-Diciembre)\n",
      "per_contrata Año 2009 (Enero-Marzo)\n",
      "per_contrata Año 2008\n",
      "per_contrata Año 2007\n",
      "per_contrata Año 2006\n",
      "\n",
      "Subsecretaría de Previsión Social\n"
     ]
    },
    {
     "data": {
      "application/vnd.jupyter.widget-view+json": {
       "model_id": "c5203053dd234278bf5a8f85aa5bb885",
       "version_major": 2,
       "version_minor": 0
      },
      "text/plain": [
       "A Jupyter Widget"
      ]
     },
     "metadata": {},
     "output_type": "display_data"
    },
    {
     "name": "stdout",
     "output_type": "stream",
     "text": [
      "per_planta Año 2017 Programa 01\n",
      "per_planta Año 2016 Programa 01\n",
      "per_planta Año 2015 Programa 01\n",
      "per_planta Año 2014 Programa 01\n",
      "per_planta Año 2013 Programa 01\n",
      "per_planta Año 2012 Programa 01\n",
      "per_planta Año 2011 Programa 01\n",
      "per_planta Año 2010 Programa 01\n",
      "per_planta Año 2009 Programa 01\n",
      "per_contrata Año 2017 Programa 01\n",
      "per_contrata Año 2016 Programa 01\n",
      "per_contrata Año 2015 Programa 01\n",
      "per_contrata Año 2014 Programa 01\n",
      "per_contrata Año 2013 Programa 01\n",
      "per_contrata Año 2012 Programa 01\n",
      "per_contrata Año 2011 Programa 01\n",
      "per_contrata Año 2010 Programa 01\n",
      "per_contrata Año 2009 Programa 01\n",
      "\n",
      "Dirección del Trabajo (DT)\n"
     ]
    },
    {
     "data": {
      "application/vnd.jupyter.widget-view+json": {
       "model_id": "9a78259508fe48d48364b30c8e15674d",
       "version_major": 2,
       "version_minor": 0
      },
      "text/plain": [
       "A Jupyter Widget"
      ]
     },
     "metadata": {},
     "output_type": "display_data"
    },
    {
     "name": "stdout",
     "output_type": "stream",
     "text": [
      "per_planta Año 2010\n",
      "per_planta Año 2009\n",
      "per_planta Año 2008\n",
      "per_planta Año 2007\n",
      "per_planta Año 2006\n",
      "per_planta Año 2018\n",
      "per_planta Año 2017\n",
      "per_planta Año 2016\n",
      "per_planta Año 2015\n",
      "per_planta Año 2014\n",
      "per_planta Año 2013\n",
      "per_planta Año 2012\n",
      "per_planta Año 2011\n",
      "per_contrata Año 2010\n",
      "per_contrata Año 2009\n",
      "per_contrata Año 2008\n",
      "per_contrata Año 2007\n",
      "per_contrata Año 2006\n",
      "per_contrata Año 2018\n",
      "per_contrata Año 2017\n",
      "per_contrata Año 2016\n",
      "per_contrata Año 2015\n",
      "per_contrata Año 2014\n",
      "per_contrata Año 2013\n",
      "per_contrata Año 2012\n",
      "per_contrata Año 2011\n",
      "\n",
      "Dirección General de Crédito Prendario (DICREP)\n"
     ]
    },
    {
     "data": {
      "application/vnd.jupyter.widget-view+json": {
       "model_id": "6363f30e4e4347a0bca50d9ec9836f35",
       "version_major": 2,
       "version_minor": 0
      },
      "text/plain": [
       "A Jupyter Widget"
      ]
     },
     "metadata": {},
     "output_type": "display_data"
    },
    {
     "name": "stdout",
     "output_type": "stream",
     "text": [
      "per_planta >Septiembre\n",
      "per_planta >Octubre\n",
      "per_planta >Noviembre\n",
      "per_planta > Mayo\n",
      "per_planta > Marzo\n",
      "per_planta >Junio\n",
      "per_planta >Julio\n",
      "per_planta > Febrero\n",
      "per_planta > Enero\n",
      "per_planta >Diciembre\n",
      "per_planta >Agosto\n",
      "per_planta > Abril\n",
      "per_planta Año 2016\n",
      "could not get breadcrumbs from http://www.gobiernotransparentechile.cl/directorio/entidad/12/170/per_planta/A%C3%B1o%202016/%26gt%3B%20Enero\n",
      "could not get breadcrumbs from http://www.gobiernotransparentechile.cl/directorio/entidad/12/170/per_planta/A%C3%B1o%202016/%26gt%3B%20Febrero\n",
      "could not get breadcrumbs from http://www.gobiernotransparentechile.cl/directorio/entidad/12/170/per_planta/A%C3%B1o%202016/%26gt%3B%20Marzo\n",
      "could not get breadcrumbs from http://www.gobiernotransparentechile.cl/directorio/entidad/12/170/per_planta/A%C3%B1o%202016/%26gt%3B%20Abril\n",
      "could not get breadcrumbs from http://www.gobiernotransparentechile.cl/directorio/entidad/12/170/per_planta/A%C3%B1o%202016/%26gt%3B%20Mayo\n",
      "could not get breadcrumbs from http://www.gobiernotransparentechile.cl/directorio/entidad/12/170/per_planta/A%C3%B1o%202016/%26gt%3B%20Junio\n",
      "could not get breadcrumbs from http://www.gobiernotransparentechile.cl/directorio/entidad/12/170/per_planta/A%C3%B1o%202016/%26gt%3B%20Julio\n",
      "could not get breadcrumbs from http://www.gobiernotransparentechile.cl/directorio/entidad/12/170/per_planta/A%C3%B1o%202016/%26gt%3B%20Agosto\n",
      "could not get breadcrumbs from http://www.gobiernotransparentechile.cl/directorio/entidad/12/170/per_planta/A%C3%B1o%202016/%26gt%3B%20Septiembre\n",
      "could not get breadcrumbs from http://www.gobiernotransparentechile.cl/directorio/entidad/12/170/per_planta/A%C3%B1o%202016/%26gt%3B%20Octubre\n",
      "could not get breadcrumbs from http://www.gobiernotransparentechile.cl/directorio/entidad/12/170/per_planta/A%C3%B1o%202016/%26gt%3B%20Noviembre\n",
      "could not get breadcrumbs from http://www.gobiernotransparentechile.cl/directorio/entidad/12/170/per_planta/A%C3%B1o%202016/%26gt%3B%20Diciembre\n",
      "per_planta Año 2015\n",
      "per_planta Año 2014\n",
      "per_planta Año 2013\n",
      "per_planta Año 2012\n",
      "per_planta Año 2011\n",
      "could not get breadcrumbs from http://www.dicrep.cl/transparencia/2011/per_planta.html\n",
      "per_planta Año 2010\n",
      "could not get breadcrumbs from http://www.dicrep.cl/transparencia/2010/per_planta.html\n",
      "per_planta Año 2009\n",
      "could not get breadcrumbs from http://www.dicrep.cl/transparencia/2009/per_planta.html\n",
      "per_planta Año 2008\n",
      "could not get breadcrumbs from http://www.dicrep.cl/transparencia/2008/dotacionplanta.html\n",
      "per_planta Año 2007\n",
      "per_planta Año 2006\n",
      "per_contrata > Septiembre\n",
      "per_contrata > Octubre\n",
      "per_contrata > Noviembre\n",
      "could not get breadcrumbs from http://www.dicrep.cl/transparencia/2017/noviembre/per_contrata.html\n",
      "per_contrata > Mayo\n",
      "per_contrata > Marzo\n",
      "per_contrata > Junio\n",
      "per_contrata > Julio\n",
      "per_contrata > Febrero\n",
      "per_contrata > Enero\n",
      "per_contrata > Diciembre\n",
      "could not get breadcrumbs from http://www.dicrep.cl/transparencia/2017/diciembre/per_contrata.html\n",
      "per_contrata > Agosto\n",
      "per_contrata > Abril\n",
      "per_contrata Año 2016\n",
      "could not get breadcrumbs from http://www.gobiernotransparentechile.cl/directorio/entidad/12/170/per_contrata/A%C3%B1o%202016/%26gt%3B%20Enero\n",
      "could not get breadcrumbs from http://www.gobiernotransparentechile.cl/directorio/entidad/12/170/per_contrata/A%C3%B1o%202016/%26gt%3B%20Febrero\n",
      "could not get breadcrumbs from http://www.gobiernotransparentechile.cl/directorio/entidad/12/170/per_contrata/A%C3%B1o%202016/%26gt%3B%20Marzo\n",
      "could not get breadcrumbs from http://www.gobiernotransparentechile.cl/directorio/entidad/12/170/per_contrata/A%C3%B1o%202016/%26gt%3B%20Abril\n",
      "could not get breadcrumbs from http://www.gobiernotransparentechile.cl/directorio/entidad/12/170/per_contrata/A%C3%B1o%202016/%26gt%3B%20Mayo\n",
      "could not get breadcrumbs from http://www.gobiernotransparentechile.cl/directorio/entidad/12/170/per_contrata/A%C3%B1o%202016/%26gt%3B%20Junio\n",
      "could not get breadcrumbs from http://www.gobiernotransparentechile.cl/directorio/entidad/12/170/per_contrata/A%C3%B1o%202016/%26gt%3B%20Julio\n",
      "could not get breadcrumbs from http://www.gobiernotransparentechile.cl/directorio/entidad/12/170/per_contrata/A%C3%B1o%202016/%26gt%3B%20Agosto\n",
      "could not get breadcrumbs from http://www.gobiernotransparentechile.cl/directorio/entidad/12/170/per_contrata/A%C3%B1o%202016/%26gt%3B%20Septiembre\n",
      "could not get breadcrumbs from http://www.gobiernotransparentechile.cl/directorio/entidad/12/170/per_contrata/A%C3%B1o%202016/%26gt%3B%20Octubre\n",
      "could not get breadcrumbs from http://www.gobiernotransparentechile.cl/directorio/entidad/12/170/per_contrata/A%C3%B1o%202016/%26gt%3B%20Noviembre\n",
      "could not get breadcrumbs from http://www.gobiernotransparentechile.cl/directorio/entidad/12/170/per_contrata/A%C3%B1o%202016/%26gt%3B%20Diciembre\n",
      "per_contrata Año 2015\n",
      "per_contrata Año 2014\n",
      "per_contrata Año 2013\n",
      "per_contrata Año 2012\n",
      "per_contrata Año 2011\n",
      "per_contrata Año 2010\n",
      "per_contrata Año 2009\n",
      "per_contrata Año 2008\n",
      "per_contrata Año 2007\n",
      "per_contrata Año 2006\n",
      "\n",
      "Instituto de Previsión Social (IPS)\n"
     ]
    },
    {
     "data": {
      "application/vnd.jupyter.widget-view+json": {
       "model_id": "e5a3b6fd4f0940f9a7fb9f02efa0ec72",
       "version_major": 2,
       "version_minor": 0
      },
      "text/plain": [
       "A Jupyter Widget"
      ]
     },
     "metadata": {},
     "output_type": "display_data"
    },
    {
     "name": "stdout",
     "output_type": "stream",
     "text": [
      "per_planta Año 2017\n",
      "per_planta Año 2016\n",
      "per_planta Año 2008\n",
      "per_planta Año 2007\n",
      "per_planta Año 2006\n",
      "per_planta Año 2015\n",
      "per_planta Año 2014\n",
      "per_planta Año 2013\n",
      "per_planta Año 2012\n",
      "per_planta Año 2011\n",
      "per_planta Año 2010\n",
      "per_planta Año 2009\n",
      "per_contrata Año 2017\n",
      "could not get breadcrumbs from http://gobiernotransparente.ips.gob.cl/2017/abril/per_contrata.html\n",
      "per_contrata Año 2016\n",
      "could not get breadcrumbs from http://gobiernotransparente.ips.gob.cl/2016/abril/per_contrata.html\n",
      "per_contrata Año 2008\n",
      "could not get breadcrumbs from http://gobiernotransparente.ips.gob.cl/2008/per_contrata.html\n",
      "per_contrata Año 2007\n",
      "could not get breadcrumbs from http://gobiernotransparente.ips.gob.cl/2007/per_contrata.html\n",
      "per_contrata Año 2006\n",
      "could not get breadcrumbs from http://gobiernotransparente.ips.gob.cl/2006/per_contrata.html\n",
      "per_contrata Año 2015\n",
      "could not get breadcrumbs from http://gobiernotransparente.ips.gob.cl/2015/per_contrata.html\n",
      "per_contrata Año 2014\n",
      "could not get breadcrumbs from http://gobiernotransparente.ips.gob.cl/2014/per_contrata.html\n",
      "per_contrata Año 2013\n",
      "could not get breadcrumbs from http://gobiernotransparente.ips.gob.cl/2013/per_contrata.html\n",
      "per_contrata Año 2012\n",
      "could not get breadcrumbs from http://gobiernotransparente.ips.gob.cl/2012/per_contrata.html\n",
      "per_contrata Año 2011\n",
      "could not get breadcrumbs from http://gobiernotransparente.ips.gob.cl/2011/per_contrata.html\n",
      "per_contrata Año 2010\n",
      "could not get breadcrumbs from http://gobiernotransparente.ips.gob.cl/2010/per_contrata.html\n",
      "per_contrata Año 2009\n",
      "could not get breadcrumbs from http://gobiernotransparente.ips.gob.cl/2009/per_contrata.html\n",
      "\n",
      "Instituto de Seguridad Laboral (ISL)\n"
     ]
    },
    {
     "name": "stderr",
     "output_type": "stream",
     "text": [
      "Traceback (most recent call last):\n",
      "  File \"./lib/functions.py\", line 103, in getDepartmentData\n",
      "    for l in years_links_list:\n",
      "  File \"/Users/jaime/anaconda3/lib/python3.6/site-packages/selenium/webdriver/remote/webdriver.py\", line 555, in find_element_by_class_name\n",
      "    return self.find_element(by=By.CLASS_NAME, value=name)\n",
      "  File \"/Users/jaime/anaconda3/lib/python3.6/site-packages/selenium/webdriver/remote/webdriver.py\", line 955, in find_element\n",
      "    'value': value})['value']\n",
      "  File \"/Users/jaime/anaconda3/lib/python3.6/site-packages/selenium/webdriver/remote/webdriver.py\", line 312, in execute\n",
      "    self.error_handler.check_response(response)\n",
      "  File \"/Users/jaime/anaconda3/lib/python3.6/site-packages/selenium/webdriver/remote/errorhandler.py\", line 237, in check_response\n",
      "    raise exception_class(message, screen, stacktrace)\n",
      "selenium.common.exceptions.NoSuchElementException: Message: no such element: Unable to locate element: {\"method\":\"class name\",\"selector\":\"linksIntermedios\"}\n",
      "  (Session info: chrome=64.0.3282.140)\n",
      "  (Driver info: chromedriver=2.35.528157 (4429ca2590d6988c0745c24c8858745aaaec01ef),platform=Mac OS X 10.13.3 x86_64)\n",
      "\n"
     ]
    },
    {
     "name": "stdout",
     "output_type": "stream",
     "text": [
      "No contract data per_planta in http://www.gobiernotransparentechile.cl/directorio/entidad/12/172\n",
      "No contract data per_contrata in http://www.gobiernotransparentechile.cl/directorio/entidad/12/172\n"
     ]
    },
    {
     "name": "stderr",
     "output_type": "stream",
     "text": [
      "Traceback (most recent call last):\n",
      "  File \"./lib/functions.py\", line 103, in getDepartmentData\n",
      "    for l in years_links_list:\n",
      "  File \"/Users/jaime/anaconda3/lib/python3.6/site-packages/selenium/webdriver/remote/webdriver.py\", line 555, in find_element_by_class_name\n",
      "    return self.find_element(by=By.CLASS_NAME, value=name)\n",
      "  File \"/Users/jaime/anaconda3/lib/python3.6/site-packages/selenium/webdriver/remote/webdriver.py\", line 955, in find_element\n",
      "    'value': value})['value']\n",
      "  File \"/Users/jaime/anaconda3/lib/python3.6/site-packages/selenium/webdriver/remote/webdriver.py\", line 312, in execute\n",
      "    self.error_handler.check_response(response)\n",
      "  File \"/Users/jaime/anaconda3/lib/python3.6/site-packages/selenium/webdriver/remote/errorhandler.py\", line 237, in check_response\n",
      "    raise exception_class(message, screen, stacktrace)\n",
      "selenium.common.exceptions.NoSuchElementException: Message: no such element: Unable to locate element: {\"method\":\"class name\",\"selector\":\"linksIntermedios\"}\n",
      "  (Session info: chrome=64.0.3282.140)\n",
      "  (Driver info: chromedriver=2.35.528157 (4429ca2590d6988c0745c24c8858745aaaec01ef),platform=Mac OS X 10.13.3 x86_64)\n",
      "\n"
     ]
    },
    {
     "data": {
      "application/vnd.jupyter.widget-view+json": {
       "model_id": "43aaca8c88e14ff1aa677a8261ea152a",
       "version_major": 2,
       "version_minor": 0
      },
      "text/plain": [
       "A Jupyter Widget"
      ]
     },
     "metadata": {},
     "output_type": "display_data"
    },
    {
     "name": "stdout",
     "output_type": "stream",
     "text": [
      "\n",
      "Servicio Nacional de Capacitación y Empleo (SENCE)\n"
     ]
    },
    {
     "data": {
      "application/vnd.jupyter.widget-view+json": {
       "model_id": "16c6c6d7ead9472480099f0309452f3f",
       "version_major": 2,
       "version_minor": 0
      },
      "text/plain": [
       "A Jupyter Widget"
      ]
     },
     "metadata": {},
     "output_type": "display_data"
    },
    {
     "name": "stdout",
     "output_type": "stream",
     "text": [
      "per_planta 2017\n",
      "per_planta 2016\n",
      "per_planta 2015\n",
      "per_planta 2014\n",
      "per_planta 2013\n",
      "per_planta 2012\n",
      "per_planta 2011\n",
      "per_contrata A�o 2017\n",
      "per_contrata A�o 2016\n",
      "per_contrata A�o 2015\n",
      "per_contrata A�o 2014\n",
      "per_contrata A�o 2013\n",
      "per_contrata A�o 2012\n",
      "per_contrata A�o 2011\n",
      "\n",
      "Superintendencia de Pensiones (SP)\n"
     ]
    },
    {
     "data": {
      "application/vnd.jupyter.widget-view+json": {
       "model_id": "942b61fa90dd464292cb170a9bb688c2",
       "version_major": 2,
       "version_minor": 0
      },
      "text/plain": [
       "A Jupyter Widget"
      ]
     },
     "metadata": {},
     "output_type": "display_data"
    },
    {
     "name": "stdout",
     "output_type": "stream",
     "text": [
      "per_planta Año 2017\n",
      "per_planta Año 2016\n",
      "per_planta Año 2015\n",
      "per_planta Año 2014\n",
      "per_planta Año 2013\n",
      "per_planta Año 2012\n",
      "per_planta Año 2011\n",
      "per_planta Año 2010\n",
      "per_planta Año 2009\n",
      "per_planta Año 2008\n",
      "per_planta Año 2007\n",
      "per_planta Año 2006\n",
      "per_contrata Año 2017\n",
      "per_contrata Año 2016\n",
      "per_contrata Año 2015\n",
      "per_contrata Año 2014\n",
      "per_contrata Año 2013\n",
      "per_contrata Año 2012\n",
      "per_contrata Año 2011\n",
      "per_contrata Año 2010\n",
      "per_contrata Año 2009\n",
      "per_contrata Año 2008\n",
      "per_contrata Año 2007\n",
      "per_contrata Año 2006\n",
      "\n",
      "Superintendencia de Seguridad Social (SUSESO)\n"
     ]
    },
    {
     "data": {
      "application/vnd.jupyter.widget-view+json": {
       "model_id": "28a0b07b7b1b47a5b8eb691564b866a3",
       "version_major": 2,
       "version_minor": 0
      },
      "text/plain": [
       "A Jupyter Widget"
      ]
     },
     "metadata": {},
     "output_type": "display_data"
    },
    {
     "name": "stdout",
     "output_type": "stream",
     "text": [
      "per_planta Diciembre\n",
      "per_planta Noviembre\n",
      "per_planta Septiembre\n",
      "per_planta Agosto\n",
      "per_planta Julio\n",
      "per_planta Junio\n",
      "per_planta Año 2016\n",
      "per_planta Año 2015\n",
      "per_planta Año 2014\n",
      "per_planta Año 2013\n",
      "per_planta Año 2012\n",
      "per_planta Año 2011\n",
      "per_planta Año 2010\n",
      "per_planta Año 2009\n",
      "per_planta Año 2008\n",
      "could not get breadcrumbs from http://163.247.55.110/PortalWEB/GTransparente/2008/per_planta.html\n",
      "per_planta Año 2007\n",
      "could not get breadcrumbs from http://163.247.55.110/PortalWEB/GTransparente/2007/per_planta.html\n",
      "per_planta Año 2006\n",
      "per_contrata Diciembre\n",
      "per_contrata Noviembre\n",
      "per_contrata Septiembre\n",
      "per_contrata Agosto\n",
      "per_contrata Julio\n",
      "could not get breadcrumbs from http://163.247.55.110/PortalWEB/GTransparente/2017/07/per_contrata.html\n",
      "per_contrata Junio\n",
      "per_contrata Año 2016\n",
      "per_contrata Año 2015\n",
      "per_contrata Año 2014\n",
      "per_contrata Año 2013\n",
      "per_contrata Año 2012\n",
      "per_contrata Año 2011\n",
      "per_contrata Año 2010\n",
      "per_contrata Año 2009\n",
      "per_contrata Año 2008\n",
      "could not get breadcrumbs from http://163.247.55.110/PortalWEB/GTransparente/2008/per_contrata.html\n",
      "per_contrata Año 2007\n",
      "could not get breadcrumbs from http://163.247.55.110/PortalWEB/GTransparente/2007/per_contrata.html\n",
      "per_contrata Año 2006\n",
      "\n",
      "Comisión del Sistema Nacional de Certificación de Competencias Laborales (CHILEVALORA)\n"
     ]
    },
    {
     "name": "stderr",
     "output_type": "stream",
     "text": [
      "Traceback (most recent call last):\n",
      "  File \"./lib/functions.py\", line 103, in getDepartmentData\n",
      "    for l in years_links_list:\n",
      "  File \"/Users/jaime/anaconda3/lib/python3.6/site-packages/selenium/webdriver/remote/webdriver.py\", line 555, in find_element_by_class_name\n",
      "    return self.find_element(by=By.CLASS_NAME, value=name)\n",
      "  File \"/Users/jaime/anaconda3/lib/python3.6/site-packages/selenium/webdriver/remote/webdriver.py\", line 955, in find_element\n",
      "    'value': value})['value']\n",
      "  File \"/Users/jaime/anaconda3/lib/python3.6/site-packages/selenium/webdriver/remote/webdriver.py\", line 312, in execute\n",
      "    self.error_handler.check_response(response)\n",
      "  File \"/Users/jaime/anaconda3/lib/python3.6/site-packages/selenium/webdriver/remote/errorhandler.py\", line 237, in check_response\n",
      "    raise exception_class(message, screen, stacktrace)\n",
      "selenium.common.exceptions.NoSuchElementException: Message: no such element: Unable to locate element: {\"method\":\"class name\",\"selector\":\"linksIntermedios\"}\n",
      "  (Session info: chrome=64.0.3282.140)\n",
      "  (Driver info: chromedriver=2.35.528157 (4429ca2590d6988c0745c24c8858745aaaec01ef),platform=Mac OS X 10.13.3 x86_64)\n",
      "\n"
     ]
    },
    {
     "name": "stdout",
     "output_type": "stream",
     "text": [
      "No contract data per_planta in http://www.gobiernotransparentechile.cl/directorio/entidad/12/282\n",
      "No contract data per_contrata in http://www.gobiernotransparentechile.cl/directorio/entidad/12/282\n"
     ]
    },
    {
     "name": "stderr",
     "output_type": "stream",
     "text": [
      "Traceback (most recent call last):\n",
      "  File \"./lib/functions.py\", line 103, in getDepartmentData\n",
      "    for l in years_links_list:\n",
      "  File \"/Users/jaime/anaconda3/lib/python3.6/site-packages/selenium/webdriver/remote/webdriver.py\", line 555, in find_element_by_class_name\n",
      "    return self.find_element(by=By.CLASS_NAME, value=name)\n",
      "  File \"/Users/jaime/anaconda3/lib/python3.6/site-packages/selenium/webdriver/remote/webdriver.py\", line 955, in find_element\n",
      "    'value': value})['value']\n",
      "  File \"/Users/jaime/anaconda3/lib/python3.6/site-packages/selenium/webdriver/remote/webdriver.py\", line 312, in execute\n",
      "    self.error_handler.check_response(response)\n",
      "  File \"/Users/jaime/anaconda3/lib/python3.6/site-packages/selenium/webdriver/remote/errorhandler.py\", line 237, in check_response\n",
      "    raise exception_class(message, screen, stacktrace)\n",
      "selenium.common.exceptions.NoSuchElementException: Message: no such element: Unable to locate element: {\"method\":\"class name\",\"selector\":\"linksIntermedios\"}\n",
      "  (Session info: chrome=64.0.3282.140)\n",
      "  (Driver info: chromedriver=2.35.528157 (4429ca2590d6988c0745c24c8858745aaaec01ef),platform=Mac OS X 10.13.3 x86_64)\n",
      "\n"
     ]
    },
    {
     "data": {
      "application/vnd.jupyter.widget-view+json": {
       "model_id": "4e2f5097260c4628a0e89bd4f2f33ed3",
       "version_major": 2,
       "version_minor": 0
      },
      "text/plain": [
       "A Jupyter Widget"
      ]
     },
     "metadata": {},
     "output_type": "display_data"
    },
    {
     "name": "stdout",
     "output_type": "stream",
     "text": [
      "\n",
      "Ministerio de Obras Públicas\n",
      "Subsecretaría de Obras Públicas\n"
     ]
    },
    {
     "data": {
      "application/vnd.jupyter.widget-view+json": {
       "model_id": "a46ff4c34834421492ab442b43b915d7",
       "version_major": 2,
       "version_minor": 0
      },
      "text/plain": [
       "A Jupyter Widget"
      ]
     },
     "metadata": {},
     "output_type": "display_data"
    },
    {
     "name": "stdout",
     "output_type": "stream",
     "text": [
      "per_planta Año 2017\n",
      "per_planta Año 2016\n",
      "per_planta Año 2015\n",
      "per_planta Año 2014\n",
      "per_planta Año 2013\n",
      "per_planta Año 2012\n",
      "per_planta Año 2011\n",
      "per_planta Año 2010\n",
      "could not get breadcrumbs from http://transparencia.mop.cl/dotacion/planta/2010/201001.pdf\n",
      "per_planta Año 2009\n",
      "per_planta Año 2008\n",
      "per_planta Año 2007\n",
      "per_planta Año 2006\n",
      "per_contrata Año 2017\n",
      "per_contrata Año 2016\n",
      "per_contrata Año 2015\n",
      "per_contrata Año 2014\n",
      "per_contrata Año 2013\n",
      "per_contrata Año 2012\n",
      "per_contrata Año 2011\n",
      "per_contrata Año 2010\n",
      "could not get breadcrumbs from http://transparencia.mop.cl/dotacion/contrata/2010/201001.pdf\n",
      "per_contrata Año 2009\n",
      "per_contrata Año 2008\n",
      "per_contrata Año 2007\n",
      "per_contrata Año 2006\n",
      "\n",
      "Dirección General de Obras Públicas\n",
      "No contract data per_contrata in http://www.gobiernotransparentechile.cl/directorio/entidad/13/177\n"
     ]
    },
    {
     "name": "stderr",
     "output_type": "stream",
     "text": [
      "Traceback (most recent call last):\n",
      "  File \"./lib/functions.py\", line 103, in getDepartmentData\n",
      "    for l in years_links_list:\n",
      "  File \"/Users/jaime/anaconda3/lib/python3.6/site-packages/selenium/webdriver/remote/webdriver.py\", line 555, in find_element_by_class_name\n",
      "    return self.find_element(by=By.CLASS_NAME, value=name)\n",
      "  File \"/Users/jaime/anaconda3/lib/python3.6/site-packages/selenium/webdriver/remote/webdriver.py\", line 955, in find_element\n",
      "    'value': value})['value']\n",
      "  File \"/Users/jaime/anaconda3/lib/python3.6/site-packages/selenium/webdriver/remote/webdriver.py\", line 312, in execute\n",
      "    self.error_handler.check_response(response)\n",
      "  File \"/Users/jaime/anaconda3/lib/python3.6/site-packages/selenium/webdriver/remote/errorhandler.py\", line 237, in check_response\n",
      "    raise exception_class(message, screen, stacktrace)\n",
      "selenium.common.exceptions.NoSuchElementException: Message: no such element: Unable to locate element: {\"method\":\"class name\",\"selector\":\"linksIntermedios\"}\n",
      "  (Session info: chrome=64.0.3282.140)\n",
      "  (Driver info: chromedriver=2.35.528157 (4429ca2590d6988c0745c24c8858745aaaec01ef),platform=Mac OS X 10.13.3 x86_64)\n",
      "\n"
     ]
    },
    {
     "data": {
      "application/vnd.jupyter.widget-view+json": {
       "model_id": "3f2b9da9320c496483995e4b402abb0b",
       "version_major": 2,
       "version_minor": 0
      },
      "text/plain": [
       "A Jupyter Widget"
      ]
     },
     "metadata": {},
     "output_type": "display_data"
    },
    {
     "name": "stdout",
     "output_type": "stream",
     "text": [
      "per_planta A�o 2017\n",
      "per_planta A�o 2016\n",
      "per_planta A�o 2015\n",
      "per_planta A�o 2014\n",
      "per_planta A�o 2013\n",
      "per_planta A�o 2012\n",
      "per_planta A�o 2011\n",
      "per_planta A�o 2010\n",
      "could not get breadcrumbs from http://transparencia.dgop.cl/dotacion/planta/2010/201001.pdf\n",
      "per_planta A�o 2009\n",
      "per_planta A�o 2008\n",
      "per_planta A�o 2007\n",
      "per_planta A�o 2006\n",
      "\n",
      "Dirección de Contabilidad y Finanzas\n"
     ]
    },
    {
     "data": {
      "application/vnd.jupyter.widget-view+json": {
       "model_id": "e38db2127eec4ffe9d0769f0df442a3e",
       "version_major": 2,
       "version_minor": 0
      },
      "text/plain": [
       "A Jupyter Widget"
      ]
     },
     "metadata": {},
     "output_type": "display_data"
    },
    {
     "name": "stdout",
     "output_type": "stream",
     "text": [
      "per_planta Año 2017\n",
      "per_planta Año 2016\n",
      "per_planta Año 2015\n",
      "per_planta Año 2014\n",
      "per_planta Año 2013\n",
      "per_planta Año 2012\n",
      "per_planta Año 2011\n",
      "per_planta Año 2010\n",
      "could not get breadcrumbs from http://transparencia.dcyf.cl/dotacion/planta/2010/201001.pdf\n",
      "per_planta Año 2009\n",
      "per_planta Año 2008\n",
      "per_planta Año 2007\n",
      "per_planta Año 2006\n",
      "per_contrata Año 2017\n",
      "per_contrata Año 2016\n",
      "per_contrata Año 2015\n",
      "per_contrata Año 2014\n",
      "per_contrata Año 2013\n",
      "per_contrata Año 2012\n",
      "per_contrata Año 2011\n",
      "per_contrata Año 2010\n",
      "could not get breadcrumbs from http://transparencia.dcyf.cl/dotacion/contrata/2010/201001.pdf\n",
      "per_contrata Año 2009\n",
      "per_contrata Año 2008\n",
      "per_contrata Año 2007\n",
      "per_contrata Año 2006\n",
      "\n",
      "Dirección de Aeropuertos\n"
     ]
    },
    {
     "data": {
      "application/vnd.jupyter.widget-view+json": {
       "model_id": "3e2e607efa3a4e9ead07372d599e49ae",
       "version_major": 2,
       "version_minor": 0
      },
      "text/plain": [
       "A Jupyter Widget"
      ]
     },
     "metadata": {},
     "output_type": "display_data"
    },
    {
     "name": "stdout",
     "output_type": "stream",
     "text": [
      "per_planta A�o 2017\n",
      "per_planta A�o 2016\n",
      "per_planta A�o 2015\n",
      "per_planta A�o 2014\n",
      "per_planta A�o 2013\n",
      "per_planta A�o 2012\n",
      "per_planta A�o 2011\n",
      "per_planta A�o 2010\n",
      "per_planta A�o 2009\n",
      "could not get breadcrumbs from http://esp.aeropuertos.gov.cl/transparencia/dotacion/planta/2009/2009/2009.html\n",
      "per_planta A�o 2008\n",
      "per_planta A�o 2007\n",
      "per_planta A�o 2006\n",
      "per_contrata A�o 2010\n",
      "per_contrata A�o 2017\n",
      "per_contrata A�o 2016\n",
      "per_contrata A�o 2015\n",
      "per_contrata A�o 2014\n",
      "per_contrata A�o 2013\n",
      "per_contrata A�o 2012\n",
      "per_contrata A�o 2011\n",
      "per_contrata A�o 2009\n",
      "per_contrata A�o 2008\n",
      "per_contrata A�o 2007\n",
      "per_contrata A�o 2006\n",
      "\n",
      "Dirección de Arquitectura\n"
     ]
    },
    {
     "data": {
      "application/vnd.jupyter.widget-view+json": {
       "model_id": "7c5bf54b63cd4232864ad6c5276c14e5",
       "version_major": 2,
       "version_minor": 0
      },
      "text/plain": [
       "A Jupyter Widget"
      ]
     },
     "metadata": {},
     "output_type": "display_data"
    },
    {
     "name": "stdout",
     "output_type": "stream",
     "text": [
      "per_planta Año 2017\n",
      "per_planta Año 2016\n",
      "per_planta Año 2015\n",
      "per_planta Año 2014\n",
      "per_planta Año 2013\n",
      "per_planta Año 2012\n",
      "per_planta Año 2011\n",
      "per_planta Año 2010\n",
      "could not get breadcrumbs from http://transparencia.arquitecturamop.cl/dotacion/planta/2010/201001.pdf\n",
      "per_planta Año 2009\n",
      "per_planta Año 2008\n",
      "per_planta Año 2007\n",
      "per_planta Año 2006\n",
      "could not get breadcrumbs from http://transparencia.arquitecturamop.cl/dotacion/planta/2006.html\n",
      "per_contrata Año 2017\n",
      "per_contrata Año 2016\n",
      "per_contrata Año 2015\n",
      "per_contrata Año 2014\n",
      "per_contrata Año 2013\n",
      "per_contrata Año 2012\n",
      "per_contrata Año 2011\n",
      "per_contrata Año 2010\n",
      "could not get breadcrumbs from http://transparencia.arquitecturamop.cl/dotacion/contrata/2010/201001.pdf\n",
      "per_contrata Año 2009\n",
      "per_contrata Año 2008\n",
      "per_contrata Año 2007\n",
      "per_contrata Año 2006\n",
      "\n",
      "Dirección General de Aguas (DGA)\n"
     ]
    },
    {
     "data": {
      "application/vnd.jupyter.widget-view+json": {
       "model_id": "47f73b1e44c44cd2a0342e937826b6d0",
       "version_major": 2,
       "version_minor": 0
      },
      "text/plain": [
       "A Jupyter Widget"
      ]
     },
     "metadata": {},
     "output_type": "display_data"
    },
    {
     "name": "stdout",
     "output_type": "stream",
     "text": [
      "per_planta Año 2017\n",
      "per_planta Año 2016\n",
      "per_planta Año 2015\n",
      "per_planta Año 2014\n",
      "per_planta Año 2013\n",
      "per_planta Año 2012\n",
      "per_planta Año 2011\n",
      "per_planta Año 2010\n",
      "could not get breadcrumbs from http://transparencia.dga.cl/dotacion/planta/2010/01plantillaplanta.pdf\n",
      "per_planta Año 2009\n",
      "could not get breadcrumbs from http://transparencia.dga.cl/dotacion/planta/2009/03circular8.html\n",
      "per_planta Año 2008\n",
      "per_planta Año 2007\n",
      "per_planta Año 2006\n",
      "per_contrata Año 2017\n",
      "per_contrata Año 2016\n",
      "per_contrata Año 2015\n",
      "per_contrata Año 2014\n",
      "per_contrata Año 2013\n",
      "per_contrata Año 2012\n",
      "per_contrata Año 2011\n",
      "per_contrata Año 2010\n",
      "could not get breadcrumbs from http://transparencia.dga.cl/dotacion/contrata/2010/01plantillacontrata.pdf\n",
      "per_contrata Año 2009\n",
      "per_contrata Año 2008\n",
      "per_contrata Año 2007\n",
      "per_contrata Año 2006\n",
      "\n",
      "Dirección de Obras Hidráulicas (DOH)\n"
     ]
    },
    {
     "name": "stderr",
     "output_type": "stream",
     "text": [
      "Traceback (most recent call last):\n",
      "  File \"./lib/functions.py\", line 103, in getDepartmentData\n",
      "    for l in years_links_list:\n",
      "  File \"/Users/jaime/anaconda3/lib/python3.6/site-packages/selenium/webdriver/remote/webdriver.py\", line 555, in find_element_by_class_name\n",
      "    return self.find_element(by=By.CLASS_NAME, value=name)\n",
      "  File \"/Users/jaime/anaconda3/lib/python3.6/site-packages/selenium/webdriver/remote/webdriver.py\", line 955, in find_element\n",
      "    'value': value})['value']\n",
      "  File \"/Users/jaime/anaconda3/lib/python3.6/site-packages/selenium/webdriver/remote/webdriver.py\", line 312, in execute\n",
      "    self.error_handler.check_response(response)\n",
      "  File \"/Users/jaime/anaconda3/lib/python3.6/site-packages/selenium/webdriver/remote/errorhandler.py\", line 237, in check_response\n",
      "    raise exception_class(message, screen, stacktrace)\n",
      "selenium.common.exceptions.NoSuchElementException: Message: no such element: Unable to locate element: {\"method\":\"class name\",\"selector\":\"linksIntermedios\"}\n",
      "  (Session info: chrome=64.0.3282.140)\n",
      "  (Driver info: chromedriver=2.35.528157 (4429ca2590d6988c0745c24c8858745aaaec01ef),platform=Mac OS X 10.13.3 x86_64)\n",
      "\n"
     ]
    },
    {
     "name": "stdout",
     "output_type": "stream",
     "text": [
      "No contract data per_planta in http://www.gobiernotransparentechile.cl/directorio/entidad/13/182\n",
      "No contract data per_contrata in http://www.gobiernotransparentechile.cl/directorio/entidad/13/182\n"
     ]
    },
    {
     "name": "stderr",
     "output_type": "stream",
     "text": [
      "Traceback (most recent call last):\n",
      "  File \"./lib/functions.py\", line 103, in getDepartmentData\n",
      "    for l in years_links_list:\n",
      "  File \"/Users/jaime/anaconda3/lib/python3.6/site-packages/selenium/webdriver/remote/webdriver.py\", line 555, in find_element_by_class_name\n",
      "    return self.find_element(by=By.CLASS_NAME, value=name)\n",
      "  File \"/Users/jaime/anaconda3/lib/python3.6/site-packages/selenium/webdriver/remote/webdriver.py\", line 955, in find_element\n",
      "    'value': value})['value']\n",
      "  File \"/Users/jaime/anaconda3/lib/python3.6/site-packages/selenium/webdriver/remote/webdriver.py\", line 312, in execute\n",
      "    self.error_handler.check_response(response)\n",
      "  File \"/Users/jaime/anaconda3/lib/python3.6/site-packages/selenium/webdriver/remote/errorhandler.py\", line 237, in check_response\n",
      "    raise exception_class(message, screen, stacktrace)\n",
      "selenium.common.exceptions.NoSuchElementException: Message: no such element: Unable to locate element: {\"method\":\"class name\",\"selector\":\"linksIntermedios\"}\n",
      "  (Session info: chrome=64.0.3282.140)\n",
      "  (Driver info: chromedriver=2.35.528157 (4429ca2590d6988c0745c24c8858745aaaec01ef),platform=Mac OS X 10.13.3 x86_64)\n",
      "\n"
     ]
    },
    {
     "data": {
      "application/vnd.jupyter.widget-view+json": {
       "model_id": "c0a5c88b0d484bd58b2d6c66cd1d4b31",
       "version_major": 2,
       "version_minor": 0
      },
      "text/plain": [
       "A Jupyter Widget"
      ]
     },
     "metadata": {},
     "output_type": "display_data"
    },
    {
     "name": "stdout",
     "output_type": "stream",
     "text": [
      "\n",
      "Dirección de Obras Portuarias (DOP)\n"
     ]
    },
    {
     "data": {
      "application/vnd.jupyter.widget-view+json": {
       "model_id": "79ed5342a7cd48ed99c3d6555fae1ee5",
       "version_major": 2,
       "version_minor": 0
      },
      "text/plain": [
       "A Jupyter Widget"
      ]
     },
     "metadata": {},
     "output_type": "display_data"
    },
    {
     "name": "stdout",
     "output_type": "stream",
     "text": [
      "per_planta Año 2017\n",
      "per_planta Año 2016\n",
      "per_planta Año 2015\n",
      "per_planta Año 2014\n",
      "could not get breadcrumbs from http://transparencia.dop.cl/dotacion/planta/2014/dotacionde%20planta_0206_012014.htm\n",
      "per_planta Año 2013\n",
      "could not get breadcrumbs from http://transparencia.dop.cl/dotacion/planta/2013/dotacionde%20planta_0206_012013.htm\n",
      "per_planta Año 2012\n",
      "could not get breadcrumbs from http://transparencia.dop.cl/dotacion/planta/2012/dotacionde%20planta_0206_102012.htm\n",
      "per_planta Año 2011\n",
      "could not get breadcrumbs from http://transparencia.dop.cl/dotacion/planta/2010/planta%2001.pdf\n",
      "per_planta Año 2010\n",
      "could not get breadcrumbs from http://transparencia.dop.cl/dotacion/planta/2010/dotacionde%20planta_0206_102010.htm\n",
      "per_planta Año 2009\n",
      "could not get breadcrumbs from http://transparencia.dop.cl/dotacion/planta/2009/a%f1o2009.pdf\n",
      "per_planta Año 2008\n",
      "per_planta Año 2007\n",
      "per_planta Año 2006\n",
      "per_contrata Año 2017\n",
      "per_contrata Año 2016\n",
      "per_contrata Año 2015\n",
      "per_contrata Año 2014\n",
      "could not get breadcrumbs from http://transparencia.dop.cl/dotacion/contrata/2014/dotaciona%20contrata_0206_012014.htm\n",
      "per_contrata Año 2013\n",
      "could not get breadcrumbs from http://transparencia.dop.cl/dotacion/contrata/2013/dotaciona%20contrata_0206_012013.htm\n",
      "per_contrata Año 2012\n",
      "could not get breadcrumbs from http://transparencia.dop.cl/dotacion/contrata/2012/dotaciona%20contrata_0206_102012.htm\n",
      "per_contrata Año 2011\n",
      "could not get breadcrumbs from http://transparencia.dop.cl/dotacion/contrata/2011/dotaciona%20contrata_0206_102011.htm\n",
      "per_contrata Año 2010\n",
      "could not get breadcrumbs from http://transparencia.dop.cl/dotacion/contrata/2010/contrata%2001.pdf\n",
      "per_contrata Año 2009\n",
      "could not get breadcrumbs from http://transparencia.dop.cl/dotacion/contrata/2009/2009contrata.pdf\n",
      "per_contrata Año 2008\n",
      "per_contrata Año 2007\n",
      "per_contrata Año 2006\n",
      "\n",
      "Dirección de Planeamiento (DIRPLAN)\n"
     ]
    },
    {
     "data": {
      "application/vnd.jupyter.widget-view+json": {
       "model_id": "b370d98f875a429fba4901921f5a9d89",
       "version_major": 2,
       "version_minor": 0
      },
      "text/plain": [
       "A Jupyter Widget"
      ]
     },
     "metadata": {},
     "output_type": "display_data"
    },
    {
     "name": "stdout",
     "output_type": "stream",
     "text": [
      "per_planta Año 2017\n",
      "per_planta Año 2016\n",
      "per_planta Año 2015\n",
      "per_planta Año 2014\n",
      "per_planta Año 2013\n",
      "per_planta Año 2012\n",
      "per_planta Año 2011\n",
      "per_planta Año 2010\n",
      "could not get breadcrumbs from http://transparencia.dirplan.cl/dotacion/planta/2010/Doc/planta_abril.pdf\n",
      "per_planta Año 2009\n",
      "per_planta Año 2008\n",
      "per_planta Año 2007\n",
      "per_planta Año 2006\n",
      "per_contrata Año 2017\n",
      "per_contrata Año 2016\n",
      "per_contrata Año 2015\n",
      "per_contrata Año 2014\n",
      "per_contrata Año 2013\n",
      "per_contrata Año 2012\n",
      "per_contrata Año 2011\n",
      "per_contrata Año 2010\n",
      "per_contrata Año 2009\n",
      "per_contrata Año 2008\n",
      "per_contrata Año 2007\n",
      "per_contrata Año 2006\n",
      "\n",
      "Dirección de Vialidad\n"
     ]
    },
    {
     "data": {
      "application/vnd.jupyter.widget-view+json": {
       "model_id": "909b37dfb46d496d8cc5bd6c4e40e2ed",
       "version_major": 2,
       "version_minor": 0
      },
      "text/plain": [
       "A Jupyter Widget"
      ]
     },
     "metadata": {},
     "output_type": "display_data"
    },
    {
     "name": "stdout",
     "output_type": "stream",
     "text": [
      "per_planta Año 2017\n",
      "could not get breadcrumbs from http://servicios.vialidad.cl/transparencia/dotacion/planta/2017/10_Planta.html\n",
      "per_planta Año 2016\n",
      "could not get breadcrumbs from http://servicios.vialidad.cl/transparencia/dotacion/planta/2016/01_Planta.html\n",
      "per_planta Año 2015\n",
      "could not get breadcrumbs from http://servicios.vialidad.cl/transparencia/dotacion/planta/2015/01_Planta.html\n",
      "per_planta Año 2014\n",
      "could not get breadcrumbs from http://servicios.vialidad.cl/transparencia/dotacion/planta/2014/01_Planta.html\n",
      "per_planta Año 2013\n",
      "per_planta Año 2012\n",
      "per_planta Año 2011\n",
      "per_planta Año 2010\n",
      "per_planta Año 2009\n",
      "per_planta Año 2008\n",
      "per_planta Año 2007\n",
      "per_planta Año 2006\n",
      "per_contrata Año 2017\n",
      "could not get breadcrumbs from http://servicios.vialidad.cl/transparencia/dotacion/contrata/2017/per_contrata_abr.html\n",
      "per_contrata Año 2016\n",
      "could not get breadcrumbs from http://servicios.vialidad.cl/transparencia/dotacion/contrata/2016/per_contrata_abr.html\n",
      "per_contrata Año 2015\n",
      "could not get breadcrumbs from http://servicios.vialidad.cl/transparencia/dotacion/contrata/2015/per_contrata_abr.html\n",
      "per_contrata Año 2014\n",
      "could not get breadcrumbs from http://servicios.vialidad.cl/transparencia/dotacion/contrata/2014/per_contrata_abr.html\n",
      "per_contrata Año 2013\n",
      "could not get breadcrumbs from http://servicios.vialidad.cl/transparencia/dotacion/contrata/2013/per_contrata_abr.html\n",
      "per_contrata Año 2012\n",
      "could not get breadcrumbs from http://servicios.vialidad.cl/transparencia/dotacion/contrata/2012/per_contrata_abr.html\n",
      "per_contrata Año 2011\n",
      "could not get breadcrumbs from http://servicios.vialidad.cl/transparencia/dotacion/contrata/2011/per_contrata_abr.html\n",
      "per_contrata Año 2010\n",
      "could not get breadcrumbs from http://servicios.vialidad.cl/transparencia/dotacion/contrata/2010/per_contrata_agosto.html\n",
      "per_contrata Año 2009\n",
      "could not get breadcrumbs from http://servicios.vialidad.cl/transparencia/dotacion/contrata/2009/2009.html\n",
      "per_contrata Año 2008\n",
      "could not get breadcrumbs from http://servicios.vialidad.cl/transparencia/dotacion/contrata/2008/2008.html\n",
      "per_contrata Año 2007\n",
      "could not get breadcrumbs from http://servicios.vialidad.cl/transparencia/dotacion/contrata/2007/2007.html\n",
      "per_contrata Año 2006\n",
      "could not get breadcrumbs from http://servicios.vialidad.cl/transparencia/dotacion/contrata/2006/2006.html\n",
      "\n",
      "Superintendencia de Servicios Sanitarios (SISS)\n"
     ]
    },
    {
     "name": "stderr",
     "output_type": "stream",
     "text": [
      "Traceback (most recent call last):\n",
      "  File \"./lib/functions.py\", line 103, in getDepartmentData\n",
      "    for l in years_links_list:\n",
      "  File \"/Users/jaime/anaconda3/lib/python3.6/site-packages/selenium/webdriver/remote/webdriver.py\", line 555, in find_element_by_class_name\n",
      "    return self.find_element(by=By.CLASS_NAME, value=name)\n",
      "  File \"/Users/jaime/anaconda3/lib/python3.6/site-packages/selenium/webdriver/remote/webdriver.py\", line 955, in find_element\n",
      "    'value': value})['value']\n",
      "  File \"/Users/jaime/anaconda3/lib/python3.6/site-packages/selenium/webdriver/remote/webdriver.py\", line 312, in execute\n",
      "    self.error_handler.check_response(response)\n",
      "  File \"/Users/jaime/anaconda3/lib/python3.6/site-packages/selenium/webdriver/remote/errorhandler.py\", line 237, in check_response\n",
      "    raise exception_class(message, screen, stacktrace)\n",
      "selenium.common.exceptions.NoSuchElementException: Message: no such element: Unable to locate element: {\"method\":\"class name\",\"selector\":\"linksIntermedios\"}\n",
      "  (Session info: chrome=64.0.3282.140)\n",
      "  (Driver info: chromedriver=2.35.528157 (4429ca2590d6988c0745c24c8858745aaaec01ef),platform=Mac OS X 10.13.3 x86_64)\n",
      "\n"
     ]
    },
    {
     "name": "stdout",
     "output_type": "stream",
     "text": [
      "No contract data per_planta in http://www.gobiernotransparentechile.cl/directorio/entidad/13/186\n",
      "No contract data per_contrata in http://www.gobiernotransparentechile.cl/directorio/entidad/13/186\n"
     ]
    },
    {
     "name": "stderr",
     "output_type": "stream",
     "text": [
      "Traceback (most recent call last):\n",
      "  File \"./lib/functions.py\", line 103, in getDepartmentData\n",
      "    for l in years_links_list:\n",
      "  File \"/Users/jaime/anaconda3/lib/python3.6/site-packages/selenium/webdriver/remote/webdriver.py\", line 555, in find_element_by_class_name\n",
      "    return self.find_element(by=By.CLASS_NAME, value=name)\n",
      "  File \"/Users/jaime/anaconda3/lib/python3.6/site-packages/selenium/webdriver/remote/webdriver.py\", line 955, in find_element\n",
      "    'value': value})['value']\n",
      "  File \"/Users/jaime/anaconda3/lib/python3.6/site-packages/selenium/webdriver/remote/webdriver.py\", line 312, in execute\n",
      "    self.error_handler.check_response(response)\n",
      "  File \"/Users/jaime/anaconda3/lib/python3.6/site-packages/selenium/webdriver/remote/errorhandler.py\", line 237, in check_response\n",
      "    raise exception_class(message, screen, stacktrace)\n",
      "selenium.common.exceptions.NoSuchElementException: Message: no such element: Unable to locate element: {\"method\":\"class name\",\"selector\":\"linksIntermedios\"}\n",
      "  (Session info: chrome=64.0.3282.140)\n",
      "  (Driver info: chromedriver=2.35.528157 (4429ca2590d6988c0745c24c8858745aaaec01ef),platform=Mac OS X 10.13.3 x86_64)\n",
      "\n"
     ]
    },
    {
     "data": {
      "application/vnd.jupyter.widget-view+json": {
       "model_id": "c33516f20a7c4415b044682aa66a0971",
       "version_major": 2,
       "version_minor": 0
      },
      "text/plain": [
       "A Jupyter Widget"
      ]
     },
     "metadata": {},
     "output_type": "display_data"
    },
    {
     "name": "stdout",
     "output_type": "stream",
     "text": [
      "\n",
      "Instituto Nacional de Hidráulica (INH)\n"
     ]
    },
    {
     "data": {
      "application/vnd.jupyter.widget-view+json": {
       "model_id": "7c2e8033b7374741b56d69f81600f229",
       "version_major": 2,
       "version_minor": 0
      },
      "text/plain": [
       "A Jupyter Widget"
      ]
     },
     "metadata": {},
     "output_type": "display_data"
    },
    {
     "name": "stdout",
     "output_type": "stream",
     "text": [
      "per_planta Año 2017\n",
      "per_planta Año 2016\n",
      "per_planta Año 2015\n",
      "per_planta Año 2014\n",
      "per_planta Año 2013\n",
      "per_planta Año 2012\n",
      "per_planta Año 2011\n",
      "per_planta Año 2010\n",
      "per_planta Año 2009\n",
      "per_contrata Año 2017\n",
      "per_contrata Año 2016\n",
      "per_contrata Año 2015\n",
      "per_contrata Año 2014\n",
      "per_contrata Año 2013\n",
      "per_contrata Año 2012\n",
      "per_contrata Año 2011\n",
      "per_contrata Año 2010\n",
      "per_contrata Año 2009\n",
      "\n",
      "Fiscalía de Obras Públicas\n"
     ]
    },
    {
     "data": {
      "application/vnd.jupyter.widget-view+json": {
       "model_id": "f53c38dc5924427799b59d32291351d7",
       "version_major": 2,
       "version_minor": 0
      },
      "text/plain": [
       "A Jupyter Widget"
      ]
     },
     "metadata": {},
     "output_type": "display_data"
    },
    {
     "name": "stdout",
     "output_type": "stream",
     "text": [
      "per_planta Año 2017\n",
      "per_planta Año 2016\n",
      "per_planta Año 2015\n",
      "per_planta Año 2014\n",
      "per_planta Año 2013\n",
      "per_planta Año 2012\n",
      "per_planta Año 2011\n",
      "per_planta Año 2010\n",
      "could not get breadcrumbs from http://transparencia.mop.cl/fiscalia/dotacion/planta/2010/201001.pdf\n",
      "per_planta Año 2009\n",
      "per_planta Año 2008\n",
      "per_planta Año 2007\n",
      "per_planta Año 2006\n",
      "per_contrata Año 2017\n",
      "per_contrata Año 2016\n",
      "per_contrata Año 2015\n",
      "per_contrata Año 2014\n",
      "per_contrata Año 2013\n",
      "per_contrata Año 2012\n",
      "per_contrata Año 2011\n",
      "per_contrata Año 2010\n",
      "could not get breadcrumbs from http://transparencia.mop.cl/fiscalia/dotacion/contrata/2010/201001.pdf\n",
      "per_contrata Año 2009\n",
      "per_contrata Año 2008\n",
      "per_contrata Año 2007\n",
      "per_contrata Año 2006\n",
      "\n",
      "Coordinación de Concesiones\n",
      "No contract data per_contrata in http://www.gobiernotransparentechile.cl/directorio/entidad/13/283\n"
     ]
    },
    {
     "name": "stderr",
     "output_type": "stream",
     "text": [
      "Traceback (most recent call last):\n",
      "  File \"./lib/functions.py\", line 103, in getDepartmentData\n",
      "    for l in years_links_list:\n",
      "  File \"/Users/jaime/anaconda3/lib/python3.6/site-packages/selenium/webdriver/remote/webdriver.py\", line 555, in find_element_by_class_name\n",
      "    return self.find_element(by=By.CLASS_NAME, value=name)\n",
      "  File \"/Users/jaime/anaconda3/lib/python3.6/site-packages/selenium/webdriver/remote/webdriver.py\", line 955, in find_element\n",
      "    'value': value})['value']\n",
      "  File \"/Users/jaime/anaconda3/lib/python3.6/site-packages/selenium/webdriver/remote/webdriver.py\", line 312, in execute\n",
      "    self.error_handler.check_response(response)\n",
      "  File \"/Users/jaime/anaconda3/lib/python3.6/site-packages/selenium/webdriver/remote/errorhandler.py\", line 237, in check_response\n",
      "    raise exception_class(message, screen, stacktrace)\n",
      "selenium.common.exceptions.NoSuchElementException: Message: no such element: Unable to locate element: {\"method\":\"class name\",\"selector\":\"linksIntermedios\"}\n",
      "  (Session info: chrome=64.0.3282.140)\n",
      "  (Driver info: chromedriver=2.35.528157 (4429ca2590d6988c0745c24c8858745aaaec01ef),platform=Mac OS X 10.13.3 x86_64)\n",
      "\n"
     ]
    },
    {
     "data": {
      "application/vnd.jupyter.widget-view+json": {
       "model_id": "d0b605d6c3cf4bd190db9e1d929ea622",
       "version_major": 2,
       "version_minor": 0
      },
      "text/plain": [
       "A Jupyter Widget"
      ]
     },
     "metadata": {},
     "output_type": "display_data"
    },
    {
     "name": "stdout",
     "output_type": "stream",
     "text": [
      "per_planta A�o 2017\n",
      "per_planta A�o 2016\n",
      "per_planta A�o 2015\n",
      "per_planta A�o 2014\n",
      "per_planta A�o 2013\n",
      "per_planta A�o 2012\n",
      "per_planta A�o 2011\n",
      "per_planta A�o 2010\n",
      "could not get breadcrumbs from http://transparencia.dgop.cl/dotacion/planta/2010/201001.pdf\n",
      "per_planta A�o 2009\n",
      "per_planta A�o 2008\n",
      "per_planta A�o 2007\n",
      "per_planta A�o 2006\n",
      "\n",
      "Ministerio de Transporte y Telecomunicaciones\n",
      "Subsecretaría de Transporte\n"
     ]
    },
    {
     "name": "stderr",
     "output_type": "stream",
     "text": [
      "Traceback (most recent call last):\n",
      "  File \"./lib/functions.py\", line 103, in getDepartmentData\n",
      "    for l in years_links_list:\n",
      "  File \"/Users/jaime/anaconda3/lib/python3.6/site-packages/selenium/webdriver/remote/webdriver.py\", line 555, in find_element_by_class_name\n",
      "    return self.find_element(by=By.CLASS_NAME, value=name)\n",
      "  File \"/Users/jaime/anaconda3/lib/python3.6/site-packages/selenium/webdriver/remote/webdriver.py\", line 955, in find_element\n",
      "    'value': value})['value']\n",
      "  File \"/Users/jaime/anaconda3/lib/python3.6/site-packages/selenium/webdriver/remote/webdriver.py\", line 312, in execute\n",
      "    self.error_handler.check_response(response)\n",
      "  File \"/Users/jaime/anaconda3/lib/python3.6/site-packages/selenium/webdriver/remote/errorhandler.py\", line 237, in check_response\n",
      "    raise exception_class(message, screen, stacktrace)\n",
      "selenium.common.exceptions.NoSuchElementException: Message: no such element: Unable to locate element: {\"method\":\"class name\",\"selector\":\"linksIntermedios\"}\n",
      "  (Session info: chrome=64.0.3282.140)\n",
      "  (Driver info: chromedriver=2.35.528157 (4429ca2590d6988c0745c24c8858745aaaec01ef),platform=Mac OS X 10.13.3 x86_64)\n",
      "\n"
     ]
    },
    {
     "name": "stdout",
     "output_type": "stream",
     "text": [
      "No contract data per_planta in http://www.gobiernotransparentechile.cl/directorio/entidad/14/189\n",
      "No contract data per_contrata in http://www.gobiernotransparentechile.cl/directorio/entidad/14/189\n"
     ]
    },
    {
     "name": "stderr",
     "output_type": "stream",
     "text": [
      "Traceback (most recent call last):\n",
      "  File \"./lib/functions.py\", line 103, in getDepartmentData\n",
      "    for l in years_links_list:\n",
      "  File \"/Users/jaime/anaconda3/lib/python3.6/site-packages/selenium/webdriver/remote/webdriver.py\", line 555, in find_element_by_class_name\n",
      "    return self.find_element(by=By.CLASS_NAME, value=name)\n",
      "  File \"/Users/jaime/anaconda3/lib/python3.6/site-packages/selenium/webdriver/remote/webdriver.py\", line 955, in find_element\n",
      "    'value': value})['value']\n",
      "  File \"/Users/jaime/anaconda3/lib/python3.6/site-packages/selenium/webdriver/remote/webdriver.py\", line 312, in execute\n",
      "    self.error_handler.check_response(response)\n",
      "  File \"/Users/jaime/anaconda3/lib/python3.6/site-packages/selenium/webdriver/remote/errorhandler.py\", line 237, in check_response\n",
      "    raise exception_class(message, screen, stacktrace)\n",
      "selenium.common.exceptions.NoSuchElementException: Message: no such element: Unable to locate element: {\"method\":\"class name\",\"selector\":\"linksIntermedios\"}\n",
      "  (Session info: chrome=64.0.3282.140)\n",
      "  (Driver info: chromedriver=2.35.528157 (4429ca2590d6988c0745c24c8858745aaaec01ef),platform=Mac OS X 10.13.3 x86_64)\n",
      "\n"
     ]
    },
    {
     "data": {
      "application/vnd.jupyter.widget-view+json": {
       "model_id": "913b959db36943d3a2199bc0503e0f62",
       "version_major": 2,
       "version_minor": 0
      },
      "text/plain": [
       "A Jupyter Widget"
      ]
     },
     "metadata": {},
     "output_type": "display_data"
    },
    {
     "name": "stdout",
     "output_type": "stream",
     "text": [
      "\n",
      "Subsecretaría de Telecomunicaciones\n"
     ]
    },
    {
     "data": {
      "application/vnd.jupyter.widget-view+json": {
       "model_id": "616fe4963ec7494aa7cdb78b8712f221",
       "version_major": 2,
       "version_minor": 0
      },
      "text/plain": [
       "A Jupyter Widget"
      ]
     },
     "metadata": {},
     "output_type": "display_data"
    },
    {
     "name": "stdout",
     "output_type": "stream",
     "text": [
      "per_planta Año 2017\n",
      "per_planta Año 2016\n",
      "per_planta Año 2015\n",
      "per_planta Año 2014\n",
      "per_planta Año 2013\n",
      "per_planta Año 2012\n",
      "per_planta Año 2011\n",
      "per_planta Año 2010\n",
      "per_planta Año 2009\n",
      "per_planta Año 2008\n",
      "per_planta Año 2007\n",
      "per_planta Año 2006\n",
      "per_contrata Año 2017\n",
      "per_contrata Año 2016\n",
      "per_contrata Año 2015\n",
      "per_contrata Año 2014\n",
      "per_contrata Año 2013\n",
      "per_contrata Año 2012\n",
      "per_contrata Año 2011\n",
      "per_contrata Año 2010\n",
      "per_contrata Año 2009\n",
      "per_contrata Año 2008\n",
      "per_contrata Año 2007\n",
      "per_contrata Año 2006\n",
      "\n",
      "Junta de Aeronáutica Civil\n"
     ]
    },
    {
     "data": {
      "application/vnd.jupyter.widget-view+json": {
       "model_id": "ff1560c01a5744fd98d882bf9a7a05b8",
       "version_major": 2,
       "version_minor": 0
      },
      "text/plain": [
       "A Jupyter Widget"
      ]
     },
     "metadata": {},
     "output_type": "display_data"
    },
    {
     "name": "stdout",
     "output_type": "stream",
     "text": [
      "per_planta Año 2016\n",
      "per_planta Año 2015\n",
      "per_planta Año 2014\n",
      "per_planta Año 2013\n",
      "per_planta Año 2012\n",
      "per_planta Año 2011\n",
      "per_planta Año 2010\n",
      "per_planta Año 2009\n",
      "per_planta Año 2008\n",
      "per_planta Año 2007\n",
      "per_planta Año 2006\n",
      "per_contrata Año 2016\n",
      "per_contrata Año 2015\n",
      "per_contrata Año 2014\n",
      "per_contrata Año 2013\n",
      "per_contrata Año 2012\n",
      "per_contrata Año 2011\n",
      "per_contrata Año 2010\n",
      "per_contrata Año 2009\n",
      "per_contrata Año 2008\n",
      "per_contrata Año 2007\n",
      "per_contrata Año 2006\n",
      "\n",
      "Ministerio de Salud\n",
      "Subsecretaría de Salud Pública\n"
     ]
    },
    {
     "name": "stderr",
     "output_type": "stream",
     "text": [
      "Traceback (most recent call last):\n",
      "  File \"./lib/functions.py\", line 103, in getDepartmentData\n",
      "    for l in years_links_list:\n",
      "  File \"/Users/jaime/anaconda3/lib/python3.6/site-packages/selenium/webdriver/remote/webdriver.py\", line 555, in find_element_by_class_name\n",
      "    return self.find_element(by=By.CLASS_NAME, value=name)\n",
      "  File \"/Users/jaime/anaconda3/lib/python3.6/site-packages/selenium/webdriver/remote/webdriver.py\", line 955, in find_element\n",
      "    'value': value})['value']\n",
      "  File \"/Users/jaime/anaconda3/lib/python3.6/site-packages/selenium/webdriver/remote/webdriver.py\", line 312, in execute\n",
      "    self.error_handler.check_response(response)\n",
      "  File \"/Users/jaime/anaconda3/lib/python3.6/site-packages/selenium/webdriver/remote/errorhandler.py\", line 237, in check_response\n",
      "    raise exception_class(message, screen, stacktrace)\n",
      "selenium.common.exceptions.NoSuchElementException: Message: no such element: Unable to locate element: {\"method\":\"class name\",\"selector\":\"linksIntermedios\"}\n",
      "  (Session info: chrome=64.0.3282.140)\n",
      "  (Driver info: chromedriver=2.35.528157 (4429ca2590d6988c0745c24c8858745aaaec01ef),platform=Mac OS X 10.13.3 x86_64)\n",
      "\n"
     ]
    },
    {
     "name": "stdout",
     "output_type": "stream",
     "text": [
      "No contract data per_planta in http://www.gobiernotransparentechile.cl/directorio/entidad/15/192\n",
      "No contract data per_contrata in http://www.gobiernotransparentechile.cl/directorio/entidad/15/192\n"
     ]
    },
    {
     "name": "stderr",
     "output_type": "stream",
     "text": [
      "Traceback (most recent call last):\n",
      "  File \"./lib/functions.py\", line 103, in getDepartmentData\n",
      "    for l in years_links_list:\n",
      "  File \"/Users/jaime/anaconda3/lib/python3.6/site-packages/selenium/webdriver/remote/webdriver.py\", line 555, in find_element_by_class_name\n",
      "    return self.find_element(by=By.CLASS_NAME, value=name)\n",
      "  File \"/Users/jaime/anaconda3/lib/python3.6/site-packages/selenium/webdriver/remote/webdriver.py\", line 955, in find_element\n",
      "    'value': value})['value']\n",
      "  File \"/Users/jaime/anaconda3/lib/python3.6/site-packages/selenium/webdriver/remote/webdriver.py\", line 312, in execute\n",
      "    self.error_handler.check_response(response)\n",
      "  File \"/Users/jaime/anaconda3/lib/python3.6/site-packages/selenium/webdriver/remote/errorhandler.py\", line 237, in check_response\n",
      "    raise exception_class(message, screen, stacktrace)\n",
      "selenium.common.exceptions.NoSuchElementException: Message: no such element: Unable to locate element: {\"method\":\"class name\",\"selector\":\"linksIntermedios\"}\n",
      "  (Session info: chrome=64.0.3282.140)\n",
      "  (Driver info: chromedriver=2.35.528157 (4429ca2590d6988c0745c24c8858745aaaec01ef),platform=Mac OS X 10.13.3 x86_64)\n",
      "\n"
     ]
    },
    {
     "data": {
      "application/vnd.jupyter.widget-view+json": {
       "model_id": "89a3c9b6019246fb9c538f5c3f4c1fbd",
       "version_major": 2,
       "version_minor": 0
      },
      "text/plain": [
       "A Jupyter Widget"
      ]
     },
     "metadata": {},
     "output_type": "display_data"
    },
    {
     "name": "stdout",
     "output_type": "stream",
     "text": [
      "\n",
      "Subsecretaría de Redes Asistenciales\n"
     ]
    },
    {
     "name": "stderr",
     "output_type": "stream",
     "text": [
      "Traceback (most recent call last):\n",
      "  File \"./lib/functions.py\", line 103, in getDepartmentData\n",
      "    for l in years_links_list:\n",
      "  File \"/Users/jaime/anaconda3/lib/python3.6/site-packages/selenium/webdriver/remote/webdriver.py\", line 555, in find_element_by_class_name\n",
      "    return self.find_element(by=By.CLASS_NAME, value=name)\n",
      "  File \"/Users/jaime/anaconda3/lib/python3.6/site-packages/selenium/webdriver/remote/webdriver.py\", line 955, in find_element\n",
      "    'value': value})['value']\n",
      "  File \"/Users/jaime/anaconda3/lib/python3.6/site-packages/selenium/webdriver/remote/webdriver.py\", line 312, in execute\n",
      "    self.error_handler.check_response(response)\n",
      "  File \"/Users/jaime/anaconda3/lib/python3.6/site-packages/selenium/webdriver/remote/errorhandler.py\", line 237, in check_response\n",
      "    raise exception_class(message, screen, stacktrace)\n",
      "selenium.common.exceptions.NoSuchElementException: Message: no such element: Unable to locate element: {\"method\":\"class name\",\"selector\":\"linksIntermedios\"}\n",
      "  (Session info: chrome=64.0.3282.140)\n",
      "  (Driver info: chromedriver=2.35.528157 (4429ca2590d6988c0745c24c8858745aaaec01ef),platform=Mac OS X 10.13.3 x86_64)\n",
      "\n"
     ]
    },
    {
     "name": "stdout",
     "output_type": "stream",
     "text": [
      "No contract data per_planta in http://www.gobiernotransparentechile.cl/directorio/entidad/15/193\n",
      "No contract data per_contrata in http://www.gobiernotransparentechile.cl/directorio/entidad/15/193\n"
     ]
    },
    {
     "name": "stderr",
     "output_type": "stream",
     "text": [
      "Traceback (most recent call last):\n",
      "  File \"./lib/functions.py\", line 103, in getDepartmentData\n",
      "    for l in years_links_list:\n",
      "  File \"/Users/jaime/anaconda3/lib/python3.6/site-packages/selenium/webdriver/remote/webdriver.py\", line 555, in find_element_by_class_name\n",
      "    return self.find_element(by=By.CLASS_NAME, value=name)\n",
      "  File \"/Users/jaime/anaconda3/lib/python3.6/site-packages/selenium/webdriver/remote/webdriver.py\", line 955, in find_element\n",
      "    'value': value})['value']\n",
      "  File \"/Users/jaime/anaconda3/lib/python3.6/site-packages/selenium/webdriver/remote/webdriver.py\", line 312, in execute\n",
      "    self.error_handler.check_response(response)\n",
      "  File \"/Users/jaime/anaconda3/lib/python3.6/site-packages/selenium/webdriver/remote/errorhandler.py\", line 237, in check_response\n",
      "    raise exception_class(message, screen, stacktrace)\n",
      "selenium.common.exceptions.NoSuchElementException: Message: no such element: Unable to locate element: {\"method\":\"class name\",\"selector\":\"linksIntermedios\"}\n",
      "  (Session info: chrome=64.0.3282.140)\n",
      "  (Driver info: chromedriver=2.35.528157 (4429ca2590d6988c0745c24c8858745aaaec01ef),platform=Mac OS X 10.13.3 x86_64)\n",
      "\n"
     ]
    },
    {
     "data": {
      "application/vnd.jupyter.widget-view+json": {
       "model_id": "09f07f0b2e4b45dd9923462bcd6b21b6",
       "version_major": 2,
       "version_minor": 0
      },
      "text/plain": [
       "A Jupyter Widget"
      ]
     },
     "metadata": {},
     "output_type": "display_data"
    },
    {
     "name": "stdout",
     "output_type": "stream",
     "text": [
      "\n",
      "Central de Abastecimiento del Sistema Nacional de Servicios de Salud (CENABAST)\n"
     ]
    },
    {
     "name": "stderr",
     "output_type": "stream",
     "text": [
      "Traceback (most recent call last):\n",
      "  File \"./lib/functions.py\", line 103, in getDepartmentData\n",
      "    for l in years_links_list:\n",
      "  File \"/Users/jaime/anaconda3/lib/python3.6/site-packages/selenium/webdriver/remote/webdriver.py\", line 555, in find_element_by_class_name\n",
      "    return self.find_element(by=By.CLASS_NAME, value=name)\n",
      "  File \"/Users/jaime/anaconda3/lib/python3.6/site-packages/selenium/webdriver/remote/webdriver.py\", line 955, in find_element\n",
      "    'value': value})['value']\n",
      "  File \"/Users/jaime/anaconda3/lib/python3.6/site-packages/selenium/webdriver/remote/webdriver.py\", line 312, in execute\n",
      "    self.error_handler.check_response(response)\n",
      "  File \"/Users/jaime/anaconda3/lib/python3.6/site-packages/selenium/webdriver/remote/errorhandler.py\", line 237, in check_response\n",
      "    raise exception_class(message, screen, stacktrace)\n",
      "selenium.common.exceptions.NoSuchElementException: Message: no such element: Unable to locate element: {\"method\":\"class name\",\"selector\":\"linksIntermedios\"}\n",
      "  (Session info: chrome=64.0.3282.140)\n",
      "  (Driver info: chromedriver=2.35.528157 (4429ca2590d6988c0745c24c8858745aaaec01ef),platform=Mac OS X 10.13.3 x86_64)\n",
      "\n"
     ]
    },
    {
     "name": "stdout",
     "output_type": "stream",
     "text": [
      "No contract data per_planta in http://www.gobiernotransparentechile.cl/directorio/entidad/15/194\n",
      "No contract data per_contrata in http://www.gobiernotransparentechile.cl/directorio/entidad/15/194\n"
     ]
    },
    {
     "name": "stderr",
     "output_type": "stream",
     "text": [
      "Traceback (most recent call last):\n",
      "  File \"./lib/functions.py\", line 103, in getDepartmentData\n",
      "    for l in years_links_list:\n",
      "  File \"/Users/jaime/anaconda3/lib/python3.6/site-packages/selenium/webdriver/remote/webdriver.py\", line 555, in find_element_by_class_name\n",
      "    return self.find_element(by=By.CLASS_NAME, value=name)\n",
      "  File \"/Users/jaime/anaconda3/lib/python3.6/site-packages/selenium/webdriver/remote/webdriver.py\", line 955, in find_element\n",
      "    'value': value})['value']\n",
      "  File \"/Users/jaime/anaconda3/lib/python3.6/site-packages/selenium/webdriver/remote/webdriver.py\", line 312, in execute\n",
      "    self.error_handler.check_response(response)\n",
      "  File \"/Users/jaime/anaconda3/lib/python3.6/site-packages/selenium/webdriver/remote/errorhandler.py\", line 237, in check_response\n",
      "    raise exception_class(message, screen, stacktrace)\n",
      "selenium.common.exceptions.NoSuchElementException: Message: no such element: Unable to locate element: {\"method\":\"class name\",\"selector\":\"linksIntermedios\"}\n",
      "  (Session info: chrome=64.0.3282.140)\n",
      "  (Driver info: chromedriver=2.35.528157 (4429ca2590d6988c0745c24c8858745aaaec01ef),platform=Mac OS X 10.13.3 x86_64)\n",
      "\n"
     ]
    },
    {
     "data": {
      "application/vnd.jupyter.widget-view+json": {
       "model_id": "ad740592a9db4a25921b6d46217b43a5",
       "version_major": 2,
       "version_minor": 0
      },
      "text/plain": [
       "A Jupyter Widget"
      ]
     },
     "metadata": {},
     "output_type": "display_data"
    },
    {
     "name": "stdout",
     "output_type": "stream",
     "text": [
      "\n",
      "Fondo Nacional de Salud (FONASA)\n"
     ]
    },
    {
     "name": "stderr",
     "output_type": "stream",
     "text": [
      "Traceback (most recent call last):\n",
      "  File \"./lib/functions.py\", line 103, in getDepartmentData\n",
      "    for l in years_links_list:\n",
      "  File \"/Users/jaime/anaconda3/lib/python3.6/site-packages/selenium/webdriver/remote/webdriver.py\", line 555, in find_element_by_class_name\n",
      "    return self.find_element(by=By.CLASS_NAME, value=name)\n",
      "  File \"/Users/jaime/anaconda3/lib/python3.6/site-packages/selenium/webdriver/remote/webdriver.py\", line 955, in find_element\n",
      "    'value': value})['value']\n",
      "  File \"/Users/jaime/anaconda3/lib/python3.6/site-packages/selenium/webdriver/remote/webdriver.py\", line 312, in execute\n",
      "    self.error_handler.check_response(response)\n",
      "  File \"/Users/jaime/anaconda3/lib/python3.6/site-packages/selenium/webdriver/remote/errorhandler.py\", line 237, in check_response\n",
      "    raise exception_class(message, screen, stacktrace)\n",
      "selenium.common.exceptions.NoSuchElementException: Message: no such element: Unable to locate element: {\"method\":\"class name\",\"selector\":\"linksIntermedios\"}\n",
      "  (Session info: chrome=64.0.3282.140)\n",
      "  (Driver info: chromedriver=2.35.528157 (4429ca2590d6988c0745c24c8858745aaaec01ef),platform=Mac OS X 10.13.3 x86_64)\n",
      "\n"
     ]
    },
    {
     "name": "stdout",
     "output_type": "stream",
     "text": [
      "No contract data per_planta in http://www.gobiernotransparentechile.cl/directorio/entidad/15/195\n",
      "No contract data per_contrata in http://www.gobiernotransparentechile.cl/directorio/entidad/15/195\n"
     ]
    },
    {
     "name": "stderr",
     "output_type": "stream",
     "text": [
      "Traceback (most recent call last):\n",
      "  File \"./lib/functions.py\", line 103, in getDepartmentData\n",
      "    for l in years_links_list:\n",
      "  File \"/Users/jaime/anaconda3/lib/python3.6/site-packages/selenium/webdriver/remote/webdriver.py\", line 555, in find_element_by_class_name\n",
      "    return self.find_element(by=By.CLASS_NAME, value=name)\n",
      "  File \"/Users/jaime/anaconda3/lib/python3.6/site-packages/selenium/webdriver/remote/webdriver.py\", line 955, in find_element\n",
      "    'value': value})['value']\n",
      "  File \"/Users/jaime/anaconda3/lib/python3.6/site-packages/selenium/webdriver/remote/webdriver.py\", line 312, in execute\n",
      "    self.error_handler.check_response(response)\n",
      "  File \"/Users/jaime/anaconda3/lib/python3.6/site-packages/selenium/webdriver/remote/errorhandler.py\", line 237, in check_response\n",
      "    raise exception_class(message, screen, stacktrace)\n",
      "selenium.common.exceptions.NoSuchElementException: Message: no such element: Unable to locate element: {\"method\":\"class name\",\"selector\":\"linksIntermedios\"}\n",
      "  (Session info: chrome=64.0.3282.140)\n",
      "  (Driver info: chromedriver=2.35.528157 (4429ca2590d6988c0745c24c8858745aaaec01ef),platform=Mac OS X 10.13.3 x86_64)\n",
      "\n"
     ]
    },
    {
     "data": {
      "application/vnd.jupyter.widget-view+json": {
       "model_id": "fcb3a34f75e74600a51e62f75e695ba2",
       "version_major": 2,
       "version_minor": 0
      },
      "text/plain": [
       "A Jupyter Widget"
      ]
     },
     "metadata": {},
     "output_type": "display_data"
    },
    {
     "name": "stdout",
     "output_type": "stream",
     "text": [
      "\n",
      "Instituto de Salud Pública (ISP)\n"
     ]
    },
    {
     "name": "stderr",
     "output_type": "stream",
     "text": [
      "Traceback (most recent call last):\n",
      "  File \"./lib/functions.py\", line 103, in getDepartmentData\n",
      "    for l in years_links_list:\n",
      "  File \"/Users/jaime/anaconda3/lib/python3.6/site-packages/selenium/webdriver/remote/webdriver.py\", line 555, in find_element_by_class_name\n",
      "    return self.find_element(by=By.CLASS_NAME, value=name)\n",
      "  File \"/Users/jaime/anaconda3/lib/python3.6/site-packages/selenium/webdriver/remote/webdriver.py\", line 955, in find_element\n",
      "    'value': value})['value']\n",
      "  File \"/Users/jaime/anaconda3/lib/python3.6/site-packages/selenium/webdriver/remote/webdriver.py\", line 312, in execute\n",
      "    self.error_handler.check_response(response)\n",
      "  File \"/Users/jaime/anaconda3/lib/python3.6/site-packages/selenium/webdriver/remote/errorhandler.py\", line 237, in check_response\n",
      "    raise exception_class(message, screen, stacktrace)\n",
      "selenium.common.exceptions.NoSuchElementException: Message: no such element: Unable to locate element: {\"method\":\"class name\",\"selector\":\"linksIntermedios\"}\n",
      "  (Session info: chrome=64.0.3282.140)\n",
      "  (Driver info: chromedriver=2.35.528157 (4429ca2590d6988c0745c24c8858745aaaec01ef),platform=Mac OS X 10.13.3 x86_64)\n",
      "\n"
     ]
    },
    {
     "name": "stdout",
     "output_type": "stream",
     "text": [
      "No contract data per_planta in http://www.gobiernotransparentechile.cl/directorio/entidad/15/196\n",
      "No contract data per_contrata in http://www.gobiernotransparentechile.cl/directorio/entidad/15/196\n"
     ]
    },
    {
     "name": "stderr",
     "output_type": "stream",
     "text": [
      "Traceback (most recent call last):\n",
      "  File \"./lib/functions.py\", line 103, in getDepartmentData\n",
      "    for l in years_links_list:\n",
      "  File \"/Users/jaime/anaconda3/lib/python3.6/site-packages/selenium/webdriver/remote/webdriver.py\", line 555, in find_element_by_class_name\n",
      "    return self.find_element(by=By.CLASS_NAME, value=name)\n",
      "  File \"/Users/jaime/anaconda3/lib/python3.6/site-packages/selenium/webdriver/remote/webdriver.py\", line 955, in find_element\n",
      "    'value': value})['value']\n",
      "  File \"/Users/jaime/anaconda3/lib/python3.6/site-packages/selenium/webdriver/remote/webdriver.py\", line 312, in execute\n",
      "    self.error_handler.check_response(response)\n",
      "  File \"/Users/jaime/anaconda3/lib/python3.6/site-packages/selenium/webdriver/remote/errorhandler.py\", line 237, in check_response\n",
      "    raise exception_class(message, screen, stacktrace)\n",
      "selenium.common.exceptions.NoSuchElementException: Message: no such element: Unable to locate element: {\"method\":\"class name\",\"selector\":\"linksIntermedios\"}\n",
      "  (Session info: chrome=64.0.3282.140)\n",
      "  (Driver info: chromedriver=2.35.528157 (4429ca2590d6988c0745c24c8858745aaaec01ef),platform=Mac OS X 10.13.3 x86_64)\n",
      "\n"
     ]
    },
    {
     "data": {
      "application/vnd.jupyter.widget-view+json": {
       "model_id": "b64005117f6d484ebf716b1efae84540",
       "version_major": 2,
       "version_minor": 0
      },
      "text/plain": [
       "A Jupyter Widget"
      ]
     },
     "metadata": {},
     "output_type": "display_data"
    },
    {
     "name": "stdout",
     "output_type": "stream",
     "text": [
      "\n",
      "Superintendencia de Salud\n"
     ]
    },
    {
     "data": {
      "application/vnd.jupyter.widget-view+json": {
       "model_id": "a5ec09eae3a54d5bab8488ad399a5a23",
       "version_major": 2,
       "version_minor": 0
      },
      "text/plain": [
       "A Jupyter Widget"
      ]
     },
     "metadata": {},
     "output_type": "display_data"
    },
    {
     "name": "stdout",
     "output_type": "stream",
     "text": [
      "per_planta A�o 2009\n",
      "per_planta A�o 2008\n",
      "per_planta A�o 2007\n",
      "per_planta A�o 2006\n",
      "per_planta A�o 2017\n",
      "per_planta A�o 2016\n",
      "per_planta A�o 2015\n",
      "per_planta A�o 2014\n",
      "per_planta A�o 2013\n",
      "per_planta A�o 2012\n",
      "per_planta A�o 2011\n",
      "per_planta A�o 2010\n",
      "per_contrata A�o 2009\n",
      "per_contrata A�o 2008\n",
      "per_contrata A�o 2007\n",
      "per_contrata A�o 2006\n",
      "per_contrata A�o 2017\n",
      "per_contrata A�o 2016\n",
      "per_contrata A�o 2015\n",
      "per_contrata A�o 2014\n",
      "per_contrata A�o 2013\n",
      "per_contrata A�o 2012\n",
      "per_contrata A�o 2011\n",
      "per_contrata A�o 2010\n",
      "\n",
      "Servicio de Salud Metropolitano Central\n"
     ]
    },
    {
     "name": "stderr",
     "output_type": "stream",
     "text": [
      "Traceback (most recent call last):\n",
      "  File \"./lib/functions.py\", line 103, in getDepartmentData\n",
      "    for l in years_links_list:\n",
      "  File \"/Users/jaime/anaconda3/lib/python3.6/site-packages/selenium/webdriver/remote/webdriver.py\", line 555, in find_element_by_class_name\n",
      "    return self.find_element(by=By.CLASS_NAME, value=name)\n",
      "  File \"/Users/jaime/anaconda3/lib/python3.6/site-packages/selenium/webdriver/remote/webdriver.py\", line 955, in find_element\n",
      "    'value': value})['value']\n",
      "  File \"/Users/jaime/anaconda3/lib/python3.6/site-packages/selenium/webdriver/remote/webdriver.py\", line 312, in execute\n",
      "    self.error_handler.check_response(response)\n",
      "  File \"/Users/jaime/anaconda3/lib/python3.6/site-packages/selenium/webdriver/remote/errorhandler.py\", line 237, in check_response\n",
      "    raise exception_class(message, screen, stacktrace)\n",
      "selenium.common.exceptions.NoSuchElementException: Message: no such element: Unable to locate element: {\"method\":\"class name\",\"selector\":\"linksIntermedios\"}\n",
      "  (Session info: chrome=64.0.3282.140)\n",
      "  (Driver info: chromedriver=2.35.528157 (4429ca2590d6988c0745c24c8858745aaaec01ef),platform=Mac OS X 10.13.3 x86_64)\n",
      "\n"
     ]
    },
    {
     "name": "stdout",
     "output_type": "stream",
     "text": [
      "No contract data per_planta in http://www.gobiernotransparentechile.cl/directorio/entidad/15/198\n",
      "No contract data per_contrata in http://www.gobiernotransparentechile.cl/directorio/entidad/15/198\n"
     ]
    },
    {
     "name": "stderr",
     "output_type": "stream",
     "text": [
      "Traceback (most recent call last):\n",
      "  File \"./lib/functions.py\", line 103, in getDepartmentData\n",
      "    for l in years_links_list:\n",
      "  File \"/Users/jaime/anaconda3/lib/python3.6/site-packages/selenium/webdriver/remote/webdriver.py\", line 555, in find_element_by_class_name\n",
      "    return self.find_element(by=By.CLASS_NAME, value=name)\n",
      "  File \"/Users/jaime/anaconda3/lib/python3.6/site-packages/selenium/webdriver/remote/webdriver.py\", line 955, in find_element\n",
      "    'value': value})['value']\n",
      "  File \"/Users/jaime/anaconda3/lib/python3.6/site-packages/selenium/webdriver/remote/webdriver.py\", line 312, in execute\n",
      "    self.error_handler.check_response(response)\n",
      "  File \"/Users/jaime/anaconda3/lib/python3.6/site-packages/selenium/webdriver/remote/errorhandler.py\", line 237, in check_response\n",
      "    raise exception_class(message, screen, stacktrace)\n",
      "selenium.common.exceptions.NoSuchElementException: Message: no such element: Unable to locate element: {\"method\":\"class name\",\"selector\":\"linksIntermedios\"}\n",
      "  (Session info: chrome=64.0.3282.140)\n",
      "  (Driver info: chromedriver=2.35.528157 (4429ca2590d6988c0745c24c8858745aaaec01ef),platform=Mac OS X 10.13.3 x86_64)\n",
      "\n"
     ]
    },
    {
     "data": {
      "application/vnd.jupyter.widget-view+json": {
       "model_id": "277134646b304ec3b7d06d3f812e122c",
       "version_major": 2,
       "version_minor": 0
      },
      "text/plain": [
       "A Jupyter Widget"
      ]
     },
     "metadata": {},
     "output_type": "display_data"
    },
    {
     "name": "stdout",
     "output_type": "stream",
     "text": [
      "\n",
      "Servicio de Salud Metropolitano Norte\n"
     ]
    },
    {
     "name": "stderr",
     "output_type": "stream",
     "text": [
      "Traceback (most recent call last):\n",
      "  File \"./lib/functions.py\", line 103, in getDepartmentData\n",
      "    for l in years_links_list:\n",
      "  File \"/Users/jaime/anaconda3/lib/python3.6/site-packages/selenium/webdriver/remote/webdriver.py\", line 555, in find_element_by_class_name\n",
      "    return self.find_element(by=By.CLASS_NAME, value=name)\n",
      "  File \"/Users/jaime/anaconda3/lib/python3.6/site-packages/selenium/webdriver/remote/webdriver.py\", line 955, in find_element\n",
      "    'value': value})['value']\n",
      "  File \"/Users/jaime/anaconda3/lib/python3.6/site-packages/selenium/webdriver/remote/webdriver.py\", line 312, in execute\n",
      "    self.error_handler.check_response(response)\n",
      "  File \"/Users/jaime/anaconda3/lib/python3.6/site-packages/selenium/webdriver/remote/errorhandler.py\", line 237, in check_response\n",
      "    raise exception_class(message, screen, stacktrace)\n",
      "selenium.common.exceptions.NoSuchElementException: Message: no such element: Unable to locate element: {\"method\":\"class name\",\"selector\":\"linksIntermedios\"}\n",
      "  (Session info: chrome=64.0.3282.140)\n",
      "  (Driver info: chromedriver=2.35.528157 (4429ca2590d6988c0745c24c8858745aaaec01ef),platform=Mac OS X 10.13.3 x86_64)\n",
      "\n"
     ]
    },
    {
     "name": "stdout",
     "output_type": "stream",
     "text": [
      "No contract data per_planta in http://www.gobiernotransparentechile.cl/directorio/entidad/15/199\n",
      "No contract data per_contrata in http://www.gobiernotransparentechile.cl/directorio/entidad/15/199\n"
     ]
    },
    {
     "name": "stderr",
     "output_type": "stream",
     "text": [
      "Traceback (most recent call last):\n",
      "  File \"./lib/functions.py\", line 103, in getDepartmentData\n",
      "    for l in years_links_list:\n",
      "  File \"/Users/jaime/anaconda3/lib/python3.6/site-packages/selenium/webdriver/remote/webdriver.py\", line 555, in find_element_by_class_name\n",
      "    return self.find_element(by=By.CLASS_NAME, value=name)\n",
      "  File \"/Users/jaime/anaconda3/lib/python3.6/site-packages/selenium/webdriver/remote/webdriver.py\", line 955, in find_element\n",
      "    'value': value})['value']\n",
      "  File \"/Users/jaime/anaconda3/lib/python3.6/site-packages/selenium/webdriver/remote/webdriver.py\", line 312, in execute\n",
      "    self.error_handler.check_response(response)\n",
      "  File \"/Users/jaime/anaconda3/lib/python3.6/site-packages/selenium/webdriver/remote/errorhandler.py\", line 237, in check_response\n",
      "    raise exception_class(message, screen, stacktrace)\n",
      "selenium.common.exceptions.NoSuchElementException: Message: no such element: Unable to locate element: {\"method\":\"class name\",\"selector\":\"linksIntermedios\"}\n",
      "  (Session info: chrome=64.0.3282.140)\n",
      "  (Driver info: chromedriver=2.35.528157 (4429ca2590d6988c0745c24c8858745aaaec01ef),platform=Mac OS X 10.13.3 x86_64)\n",
      "\n"
     ]
    },
    {
     "data": {
      "application/vnd.jupyter.widget-view+json": {
       "model_id": "57d530246b334ce0905d220623f41c26",
       "version_major": 2,
       "version_minor": 0
      },
      "text/plain": [
       "A Jupyter Widget"
      ]
     },
     "metadata": {},
     "output_type": "display_data"
    },
    {
     "name": "stdout",
     "output_type": "stream",
     "text": [
      "\n",
      "Servicio de Salud Metropolitano Occidente\n"
     ]
    },
    {
     "name": "stderr",
     "output_type": "stream",
     "text": [
      "Traceback (most recent call last):\n",
      "  File \"./lib/functions.py\", line 103, in getDepartmentData\n",
      "    for l in years_links_list:\n",
      "  File \"/Users/jaime/anaconda3/lib/python3.6/site-packages/selenium/webdriver/remote/webdriver.py\", line 555, in find_element_by_class_name\n",
      "    return self.find_element(by=By.CLASS_NAME, value=name)\n",
      "  File \"/Users/jaime/anaconda3/lib/python3.6/site-packages/selenium/webdriver/remote/webdriver.py\", line 955, in find_element\n",
      "    'value': value})['value']\n",
      "  File \"/Users/jaime/anaconda3/lib/python3.6/site-packages/selenium/webdriver/remote/webdriver.py\", line 312, in execute\n",
      "    self.error_handler.check_response(response)\n",
      "  File \"/Users/jaime/anaconda3/lib/python3.6/site-packages/selenium/webdriver/remote/errorhandler.py\", line 237, in check_response\n",
      "    raise exception_class(message, screen, stacktrace)\n",
      "selenium.common.exceptions.NoSuchElementException: Message: no such element: Unable to locate element: {\"method\":\"class name\",\"selector\":\"linksIntermedios\"}\n",
      "  (Session info: chrome=64.0.3282.140)\n",
      "  (Driver info: chromedriver=2.35.528157 (4429ca2590d6988c0745c24c8858745aaaec01ef),platform=Mac OS X 10.13.3 x86_64)\n",
      "\n"
     ]
    },
    {
     "name": "stdout",
     "output_type": "stream",
     "text": [
      "No contract data per_planta in http://www.gobiernotransparentechile.cl/directorio/entidad/15/200\n",
      "No contract data per_contrata in http://www.gobiernotransparentechile.cl/directorio/entidad/15/200\n"
     ]
    },
    {
     "name": "stderr",
     "output_type": "stream",
     "text": [
      "Traceback (most recent call last):\n",
      "  File \"./lib/functions.py\", line 103, in getDepartmentData\n",
      "    for l in years_links_list:\n",
      "  File \"/Users/jaime/anaconda3/lib/python3.6/site-packages/selenium/webdriver/remote/webdriver.py\", line 555, in find_element_by_class_name\n",
      "    return self.find_element(by=By.CLASS_NAME, value=name)\n",
      "  File \"/Users/jaime/anaconda3/lib/python3.6/site-packages/selenium/webdriver/remote/webdriver.py\", line 955, in find_element\n",
      "    'value': value})['value']\n",
      "  File \"/Users/jaime/anaconda3/lib/python3.6/site-packages/selenium/webdriver/remote/webdriver.py\", line 312, in execute\n",
      "    self.error_handler.check_response(response)\n",
      "  File \"/Users/jaime/anaconda3/lib/python3.6/site-packages/selenium/webdriver/remote/errorhandler.py\", line 237, in check_response\n",
      "    raise exception_class(message, screen, stacktrace)\n",
      "selenium.common.exceptions.NoSuchElementException: Message: no such element: Unable to locate element: {\"method\":\"class name\",\"selector\":\"linksIntermedios\"}\n",
      "  (Session info: chrome=64.0.3282.140)\n",
      "  (Driver info: chromedriver=2.35.528157 (4429ca2590d6988c0745c24c8858745aaaec01ef),platform=Mac OS X 10.13.3 x86_64)\n",
      "\n"
     ]
    },
    {
     "data": {
      "application/vnd.jupyter.widget-view+json": {
       "model_id": "09d13c8421744c7db1ceaa64676ba886",
       "version_major": 2,
       "version_minor": 0
      },
      "text/plain": [
       "A Jupyter Widget"
      ]
     },
     "metadata": {},
     "output_type": "display_data"
    },
    {
     "name": "stdout",
     "output_type": "stream",
     "text": [
      "\n",
      "Servicio de Salud Metropolitano Oriente\n"
     ]
    },
    {
     "name": "stderr",
     "output_type": "stream",
     "text": [
      "Traceback (most recent call last):\n",
      "  File \"./lib/functions.py\", line 103, in getDepartmentData\n",
      "    for l in years_links_list:\n",
      "  File \"/Users/jaime/anaconda3/lib/python3.6/site-packages/selenium/webdriver/remote/webdriver.py\", line 555, in find_element_by_class_name\n",
      "    return self.find_element(by=By.CLASS_NAME, value=name)\n",
      "  File \"/Users/jaime/anaconda3/lib/python3.6/site-packages/selenium/webdriver/remote/webdriver.py\", line 955, in find_element\n",
      "    'value': value})['value']\n",
      "  File \"/Users/jaime/anaconda3/lib/python3.6/site-packages/selenium/webdriver/remote/webdriver.py\", line 312, in execute\n",
      "    self.error_handler.check_response(response)\n",
      "  File \"/Users/jaime/anaconda3/lib/python3.6/site-packages/selenium/webdriver/remote/errorhandler.py\", line 237, in check_response\n",
      "    raise exception_class(message, screen, stacktrace)\n",
      "selenium.common.exceptions.NoSuchElementException: Message: no such element: Unable to locate element: {\"method\":\"class name\",\"selector\":\"linksIntermedios\"}\n",
      "  (Session info: chrome=64.0.3282.140)\n",
      "  (Driver info: chromedriver=2.35.528157 (4429ca2590d6988c0745c24c8858745aaaec01ef),platform=Mac OS X 10.13.3 x86_64)\n",
      "\n"
     ]
    },
    {
     "name": "stdout",
     "output_type": "stream",
     "text": [
      "No contract data per_planta in http://www.gobiernotransparentechile.cl/directorio/entidad/15/201\n",
      "No contract data per_contrata in http://www.gobiernotransparentechile.cl/directorio/entidad/15/201\n"
     ]
    },
    {
     "name": "stderr",
     "output_type": "stream",
     "text": [
      "Traceback (most recent call last):\n",
      "  File \"./lib/functions.py\", line 103, in getDepartmentData\n",
      "    for l in years_links_list:\n",
      "  File \"/Users/jaime/anaconda3/lib/python3.6/site-packages/selenium/webdriver/remote/webdriver.py\", line 555, in find_element_by_class_name\n",
      "    return self.find_element(by=By.CLASS_NAME, value=name)\n",
      "  File \"/Users/jaime/anaconda3/lib/python3.6/site-packages/selenium/webdriver/remote/webdriver.py\", line 955, in find_element\n",
      "    'value': value})['value']\n",
      "  File \"/Users/jaime/anaconda3/lib/python3.6/site-packages/selenium/webdriver/remote/webdriver.py\", line 312, in execute\n",
      "    self.error_handler.check_response(response)\n",
      "  File \"/Users/jaime/anaconda3/lib/python3.6/site-packages/selenium/webdriver/remote/errorhandler.py\", line 237, in check_response\n",
      "    raise exception_class(message, screen, stacktrace)\n",
      "selenium.common.exceptions.NoSuchElementException: Message: no such element: Unable to locate element: {\"method\":\"class name\",\"selector\":\"linksIntermedios\"}\n",
      "  (Session info: chrome=64.0.3282.140)\n",
      "  (Driver info: chromedriver=2.35.528157 (4429ca2590d6988c0745c24c8858745aaaec01ef),platform=Mac OS X 10.13.3 x86_64)\n",
      "\n"
     ]
    },
    {
     "data": {
      "application/vnd.jupyter.widget-view+json": {
       "model_id": "4e54257929c34482a908b94b3dd6f55a",
       "version_major": 2,
       "version_minor": 0
      },
      "text/plain": [
       "A Jupyter Widget"
      ]
     },
     "metadata": {},
     "output_type": "display_data"
    },
    {
     "name": "stdout",
     "output_type": "stream",
     "text": [
      "\n",
      "Servicio de Salud Metropolitano Sur\n"
     ]
    },
    {
     "name": "stderr",
     "output_type": "stream",
     "text": [
      "Traceback (most recent call last):\n",
      "  File \"./lib/functions.py\", line 103, in getDepartmentData\n",
      "    for l in years_links_list:\n",
      "  File \"/Users/jaime/anaconda3/lib/python3.6/site-packages/selenium/webdriver/remote/webdriver.py\", line 555, in find_element_by_class_name\n",
      "    return self.find_element(by=By.CLASS_NAME, value=name)\n",
      "  File \"/Users/jaime/anaconda3/lib/python3.6/site-packages/selenium/webdriver/remote/webdriver.py\", line 955, in find_element\n",
      "    'value': value})['value']\n",
      "  File \"/Users/jaime/anaconda3/lib/python3.6/site-packages/selenium/webdriver/remote/webdriver.py\", line 312, in execute\n",
      "    self.error_handler.check_response(response)\n",
      "  File \"/Users/jaime/anaconda3/lib/python3.6/site-packages/selenium/webdriver/remote/errorhandler.py\", line 237, in check_response\n",
      "    raise exception_class(message, screen, stacktrace)\n",
      "selenium.common.exceptions.NoSuchElementException: Message: no such element: Unable to locate element: {\"method\":\"class name\",\"selector\":\"linksIntermedios\"}\n",
      "  (Session info: chrome=64.0.3282.140)\n",
      "  (Driver info: chromedriver=2.35.528157 (4429ca2590d6988c0745c24c8858745aaaec01ef),platform=Mac OS X 10.13.3 x86_64)\n",
      "\n"
     ]
    },
    {
     "name": "stdout",
     "output_type": "stream",
     "text": [
      "No contract data per_planta in http://www.gobiernotransparentechile.cl/directorio/entidad/15/202\n",
      "No contract data per_contrata in http://www.gobiernotransparentechile.cl/directorio/entidad/15/202\n"
     ]
    },
    {
     "name": "stderr",
     "output_type": "stream",
     "text": [
      "Traceback (most recent call last):\n",
      "  File \"./lib/functions.py\", line 103, in getDepartmentData\n",
      "    for l in years_links_list:\n",
      "  File \"/Users/jaime/anaconda3/lib/python3.6/site-packages/selenium/webdriver/remote/webdriver.py\", line 555, in find_element_by_class_name\n",
      "    return self.find_element(by=By.CLASS_NAME, value=name)\n",
      "  File \"/Users/jaime/anaconda3/lib/python3.6/site-packages/selenium/webdriver/remote/webdriver.py\", line 955, in find_element\n",
      "    'value': value})['value']\n",
      "  File \"/Users/jaime/anaconda3/lib/python3.6/site-packages/selenium/webdriver/remote/webdriver.py\", line 312, in execute\n",
      "    self.error_handler.check_response(response)\n",
      "  File \"/Users/jaime/anaconda3/lib/python3.6/site-packages/selenium/webdriver/remote/errorhandler.py\", line 237, in check_response\n",
      "    raise exception_class(message, screen, stacktrace)\n",
      "selenium.common.exceptions.NoSuchElementException: Message: no such element: Unable to locate element: {\"method\":\"class name\",\"selector\":\"linksIntermedios\"}\n",
      "  (Session info: chrome=64.0.3282.140)\n",
      "  (Driver info: chromedriver=2.35.528157 (4429ca2590d6988c0745c24c8858745aaaec01ef),platform=Mac OS X 10.13.3 x86_64)\n",
      "\n"
     ]
    },
    {
     "data": {
      "application/vnd.jupyter.widget-view+json": {
       "model_id": "5d208c93e36d44899262524c1e477399",
       "version_major": 2,
       "version_minor": 0
      },
      "text/plain": [
       "A Jupyter Widget"
      ]
     },
     "metadata": {},
     "output_type": "display_data"
    },
    {
     "name": "stdout",
     "output_type": "stream",
     "text": [
      "\n",
      "Servicio de Salud Metropolitano Sur Oriente\n"
     ]
    },
    {
     "name": "stderr",
     "output_type": "stream",
     "text": [
      "Traceback (most recent call last):\n",
      "  File \"./lib/functions.py\", line 103, in getDepartmentData\n",
      "    for l in years_links_list:\n",
      "  File \"/Users/jaime/anaconda3/lib/python3.6/site-packages/selenium/webdriver/remote/webdriver.py\", line 555, in find_element_by_class_name\n",
      "    return self.find_element(by=By.CLASS_NAME, value=name)\n",
      "  File \"/Users/jaime/anaconda3/lib/python3.6/site-packages/selenium/webdriver/remote/webdriver.py\", line 955, in find_element\n",
      "    'value': value})['value']\n",
      "  File \"/Users/jaime/anaconda3/lib/python3.6/site-packages/selenium/webdriver/remote/webdriver.py\", line 312, in execute\n",
      "    self.error_handler.check_response(response)\n",
      "  File \"/Users/jaime/anaconda3/lib/python3.6/site-packages/selenium/webdriver/remote/errorhandler.py\", line 237, in check_response\n",
      "    raise exception_class(message, screen, stacktrace)\n",
      "selenium.common.exceptions.NoSuchElementException: Message: no such element: Unable to locate element: {\"method\":\"class name\",\"selector\":\"linksIntermedios\"}\n",
      "  (Session info: chrome=64.0.3282.140)\n",
      "  (Driver info: chromedriver=2.35.528157 (4429ca2590d6988c0745c24c8858745aaaec01ef),platform=Mac OS X 10.13.3 x86_64)\n",
      "\n"
     ]
    },
    {
     "name": "stdout",
     "output_type": "stream",
     "text": [
      "No contract data per_planta in http://www.gobiernotransparentechile.cl/directorio/entidad/15/203\n",
      "No contract data per_contrata in http://www.gobiernotransparentechile.cl/directorio/entidad/15/203\n"
     ]
    },
    {
     "name": "stderr",
     "output_type": "stream",
     "text": [
      "Traceback (most recent call last):\n",
      "  File \"./lib/functions.py\", line 103, in getDepartmentData\n",
      "    for l in years_links_list:\n",
      "  File \"/Users/jaime/anaconda3/lib/python3.6/site-packages/selenium/webdriver/remote/webdriver.py\", line 555, in find_element_by_class_name\n",
      "    return self.find_element(by=By.CLASS_NAME, value=name)\n",
      "  File \"/Users/jaime/anaconda3/lib/python3.6/site-packages/selenium/webdriver/remote/webdriver.py\", line 955, in find_element\n",
      "    'value': value})['value']\n",
      "  File \"/Users/jaime/anaconda3/lib/python3.6/site-packages/selenium/webdriver/remote/webdriver.py\", line 312, in execute\n",
      "    self.error_handler.check_response(response)\n",
      "  File \"/Users/jaime/anaconda3/lib/python3.6/site-packages/selenium/webdriver/remote/errorhandler.py\", line 237, in check_response\n",
      "    raise exception_class(message, screen, stacktrace)\n",
      "selenium.common.exceptions.NoSuchElementException: Message: no such element: Unable to locate element: {\"method\":\"class name\",\"selector\":\"linksIntermedios\"}\n",
      "  (Session info: chrome=64.0.3282.140)\n",
      "  (Driver info: chromedriver=2.35.528157 (4429ca2590d6988c0745c24c8858745aaaec01ef),platform=Mac OS X 10.13.3 x86_64)\n",
      "\n"
     ]
    },
    {
     "data": {
      "application/vnd.jupyter.widget-view+json": {
       "model_id": "539b2b1d393c4aa0ac40c45930583846",
       "version_major": 2,
       "version_minor": 0
      },
      "text/plain": [
       "A Jupyter Widget"
      ]
     },
     "metadata": {},
     "output_type": "display_data"
    },
    {
     "name": "stdout",
     "output_type": "stream",
     "text": [
      "\n",
      "Hospital Padre Hurtado\n"
     ]
    },
    {
     "name": "stderr",
     "output_type": "stream",
     "text": [
      "Traceback (most recent call last):\n",
      "  File \"./lib/functions.py\", line 103, in getDepartmentData\n",
      "    for l in years_links_list:\n",
      "  File \"/Users/jaime/anaconda3/lib/python3.6/site-packages/selenium/webdriver/remote/webdriver.py\", line 555, in find_element_by_class_name\n",
      "    return self.find_element(by=By.CLASS_NAME, value=name)\n",
      "  File \"/Users/jaime/anaconda3/lib/python3.6/site-packages/selenium/webdriver/remote/webdriver.py\", line 955, in find_element\n",
      "    'value': value})['value']\n",
      "  File \"/Users/jaime/anaconda3/lib/python3.6/site-packages/selenium/webdriver/remote/webdriver.py\", line 312, in execute\n",
      "    self.error_handler.check_response(response)\n",
      "  File \"/Users/jaime/anaconda3/lib/python3.6/site-packages/selenium/webdriver/remote/errorhandler.py\", line 237, in check_response\n",
      "    raise exception_class(message, screen, stacktrace)\n",
      "selenium.common.exceptions.NoSuchElementException: Message: no such element: Unable to locate element: {\"method\":\"class name\",\"selector\":\"linksIntermedios\"}\n",
      "  (Session info: chrome=64.0.3282.140)\n",
      "  (Driver info: chromedriver=2.35.528157 (4429ca2590d6988c0745c24c8858745aaaec01ef),platform=Mac OS X 10.13.3 x86_64)\n",
      "\n"
     ]
    },
    {
     "name": "stdout",
     "output_type": "stream",
     "text": [
      "No contract data per_planta in http://www.gobiernotransparentechile.cl/directorio/entidad/15/204\n",
      "No contract data per_contrata in http://www.gobiernotransparentechile.cl/directorio/entidad/15/204\n"
     ]
    },
    {
     "name": "stderr",
     "output_type": "stream",
     "text": [
      "Traceback (most recent call last):\n",
      "  File \"./lib/functions.py\", line 103, in getDepartmentData\n",
      "    for l in years_links_list:\n",
      "  File \"/Users/jaime/anaconda3/lib/python3.6/site-packages/selenium/webdriver/remote/webdriver.py\", line 555, in find_element_by_class_name\n",
      "    return self.find_element(by=By.CLASS_NAME, value=name)\n",
      "  File \"/Users/jaime/anaconda3/lib/python3.6/site-packages/selenium/webdriver/remote/webdriver.py\", line 955, in find_element\n",
      "    'value': value})['value']\n",
      "  File \"/Users/jaime/anaconda3/lib/python3.6/site-packages/selenium/webdriver/remote/webdriver.py\", line 312, in execute\n",
      "    self.error_handler.check_response(response)\n",
      "  File \"/Users/jaime/anaconda3/lib/python3.6/site-packages/selenium/webdriver/remote/errorhandler.py\", line 237, in check_response\n",
      "    raise exception_class(message, screen, stacktrace)\n",
      "selenium.common.exceptions.NoSuchElementException: Message: no such element: Unable to locate element: {\"method\":\"class name\",\"selector\":\"linksIntermedios\"}\n",
      "  (Session info: chrome=64.0.3282.140)\n",
      "  (Driver info: chromedriver=2.35.528157 (4429ca2590d6988c0745c24c8858745aaaec01ef),platform=Mac OS X 10.13.3 x86_64)\n",
      "\n"
     ]
    },
    {
     "data": {
      "application/vnd.jupyter.widget-view+json": {
       "model_id": "1ee54cbedd574f2ca60720cc596ec653",
       "version_major": 2,
       "version_minor": 0
      },
      "text/plain": [
       "A Jupyter Widget"
      ]
     },
     "metadata": {},
     "output_type": "display_data"
    },
    {
     "name": "stdout",
     "output_type": "stream",
     "text": [
      "\n",
      "Centro de Referencia de Salud de Peñalolén Cordillera Oriente\n"
     ]
    },
    {
     "name": "stderr",
     "output_type": "stream",
     "text": [
      "Traceback (most recent call last):\n",
      "  File \"./lib/functions.py\", line 103, in getDepartmentData\n",
      "    for l in years_links_list:\n",
      "  File \"/Users/jaime/anaconda3/lib/python3.6/site-packages/selenium/webdriver/remote/webdriver.py\", line 555, in find_element_by_class_name\n",
      "    return self.find_element(by=By.CLASS_NAME, value=name)\n",
      "  File \"/Users/jaime/anaconda3/lib/python3.6/site-packages/selenium/webdriver/remote/webdriver.py\", line 955, in find_element\n",
      "    'value': value})['value']\n",
      "  File \"/Users/jaime/anaconda3/lib/python3.6/site-packages/selenium/webdriver/remote/webdriver.py\", line 312, in execute\n",
      "    self.error_handler.check_response(response)\n",
      "  File \"/Users/jaime/anaconda3/lib/python3.6/site-packages/selenium/webdriver/remote/errorhandler.py\", line 237, in check_response\n",
      "    raise exception_class(message, screen, stacktrace)\n",
      "selenium.common.exceptions.NoSuchElementException: Message: no such element: Unable to locate element: {\"method\":\"class name\",\"selector\":\"linksIntermedios\"}\n",
      "  (Session info: chrome=64.0.3282.140)\n",
      "  (Driver info: chromedriver=2.35.528157 (4429ca2590d6988c0745c24c8858745aaaec01ef),platform=Mac OS X 10.13.3 x86_64)\n",
      "\n"
     ]
    },
    {
     "name": "stdout",
     "output_type": "stream",
     "text": [
      "No contract data per_planta in http://www.gobiernotransparentechile.cl/directorio/entidad/15/205\n",
      "No contract data per_contrata in http://www.gobiernotransparentechile.cl/directorio/entidad/15/205\n"
     ]
    },
    {
     "name": "stderr",
     "output_type": "stream",
     "text": [
      "Traceback (most recent call last):\n",
      "  File \"./lib/functions.py\", line 103, in getDepartmentData\n",
      "    for l in years_links_list:\n",
      "  File \"/Users/jaime/anaconda3/lib/python3.6/site-packages/selenium/webdriver/remote/webdriver.py\", line 555, in find_element_by_class_name\n",
      "    return self.find_element(by=By.CLASS_NAME, value=name)\n",
      "  File \"/Users/jaime/anaconda3/lib/python3.6/site-packages/selenium/webdriver/remote/webdriver.py\", line 955, in find_element\n",
      "    'value': value})['value']\n",
      "  File \"/Users/jaime/anaconda3/lib/python3.6/site-packages/selenium/webdriver/remote/webdriver.py\", line 312, in execute\n",
      "    self.error_handler.check_response(response)\n",
      "  File \"/Users/jaime/anaconda3/lib/python3.6/site-packages/selenium/webdriver/remote/errorhandler.py\", line 237, in check_response\n",
      "    raise exception_class(message, screen, stacktrace)\n",
      "selenium.common.exceptions.NoSuchElementException: Message: no such element: Unable to locate element: {\"method\":\"class name\",\"selector\":\"linksIntermedios\"}\n",
      "  (Session info: chrome=64.0.3282.140)\n",
      "  (Driver info: chromedriver=2.35.528157 (4429ca2590d6988c0745c24c8858745aaaec01ef),platform=Mac OS X 10.13.3 x86_64)\n",
      "\n"
     ]
    },
    {
     "data": {
      "application/vnd.jupyter.widget-view+json": {
       "model_id": "468d06d4a6154d75ada7034db2f8dd0f",
       "version_major": 2,
       "version_minor": 0
      },
      "text/plain": [
       "A Jupyter Widget"
      ]
     },
     "metadata": {},
     "output_type": "display_data"
    },
    {
     "name": "stdout",
     "output_type": "stream",
     "text": [
      "\n",
      "Centro de Referencia de Salud de Maipú\n"
     ]
    },
    {
     "name": "stderr",
     "output_type": "stream",
     "text": [
      "Traceback (most recent call last):\n",
      "  File \"./lib/functions.py\", line 103, in getDepartmentData\n",
      "    for l in years_links_list:\n",
      "  File \"/Users/jaime/anaconda3/lib/python3.6/site-packages/selenium/webdriver/remote/webdriver.py\", line 555, in find_element_by_class_name\n",
      "    return self.find_element(by=By.CLASS_NAME, value=name)\n",
      "  File \"/Users/jaime/anaconda3/lib/python3.6/site-packages/selenium/webdriver/remote/webdriver.py\", line 955, in find_element\n",
      "    'value': value})['value']\n",
      "  File \"/Users/jaime/anaconda3/lib/python3.6/site-packages/selenium/webdriver/remote/webdriver.py\", line 312, in execute\n",
      "    self.error_handler.check_response(response)\n",
      "  File \"/Users/jaime/anaconda3/lib/python3.6/site-packages/selenium/webdriver/remote/errorhandler.py\", line 237, in check_response\n",
      "    raise exception_class(message, screen, stacktrace)\n",
      "selenium.common.exceptions.NoSuchElementException: Message: no such element: Unable to locate element: {\"method\":\"class name\",\"selector\":\"linksIntermedios\"}\n",
      "  (Session info: chrome=64.0.3282.140)\n",
      "  (Driver info: chromedriver=2.35.528157 (4429ca2590d6988c0745c24c8858745aaaec01ef),platform=Mac OS X 10.13.3 x86_64)\n",
      "\n"
     ]
    },
    {
     "name": "stdout",
     "output_type": "stream",
     "text": [
      "No contract data per_planta in http://www.gobiernotransparentechile.cl/directorio/entidad/15/206\n",
      "No contract data per_contrata in http://www.gobiernotransparentechile.cl/directorio/entidad/15/206\n"
     ]
    },
    {
     "name": "stderr",
     "output_type": "stream",
     "text": [
      "Traceback (most recent call last):\n",
      "  File \"./lib/functions.py\", line 103, in getDepartmentData\n",
      "    for l in years_links_list:\n",
      "  File \"/Users/jaime/anaconda3/lib/python3.6/site-packages/selenium/webdriver/remote/webdriver.py\", line 555, in find_element_by_class_name\n",
      "    return self.find_element(by=By.CLASS_NAME, value=name)\n",
      "  File \"/Users/jaime/anaconda3/lib/python3.6/site-packages/selenium/webdriver/remote/webdriver.py\", line 955, in find_element\n",
      "    'value': value})['value']\n",
      "  File \"/Users/jaime/anaconda3/lib/python3.6/site-packages/selenium/webdriver/remote/webdriver.py\", line 312, in execute\n",
      "    self.error_handler.check_response(response)\n",
      "  File \"/Users/jaime/anaconda3/lib/python3.6/site-packages/selenium/webdriver/remote/errorhandler.py\", line 237, in check_response\n",
      "    raise exception_class(message, screen, stacktrace)\n",
      "selenium.common.exceptions.NoSuchElementException: Message: no such element: Unable to locate element: {\"method\":\"class name\",\"selector\":\"linksIntermedios\"}\n",
      "  (Session info: chrome=64.0.3282.140)\n",
      "  (Driver info: chromedriver=2.35.528157 (4429ca2590d6988c0745c24c8858745aaaec01ef),platform=Mac OS X 10.13.3 x86_64)\n",
      "\n"
     ]
    },
    {
     "data": {
      "application/vnd.jupyter.widget-view+json": {
       "model_id": "7d7c74efbc3943d49e710a387940e763",
       "version_major": 2,
       "version_minor": 0
      },
      "text/plain": [
       "A Jupyter Widget"
      ]
     },
     "metadata": {},
     "output_type": "display_data"
    },
    {
     "name": "stdout",
     "output_type": "stream",
     "text": [
      "\n",
      "Servicio de Salud Arica\n"
     ]
    },
    {
     "name": "stderr",
     "output_type": "stream",
     "text": [
      "Traceback (most recent call last):\n",
      "  File \"./lib/functions.py\", line 103, in getDepartmentData\n",
      "    for l in years_links_list:\n",
      "  File \"/Users/jaime/anaconda3/lib/python3.6/site-packages/selenium/webdriver/remote/webdriver.py\", line 555, in find_element_by_class_name\n",
      "    return self.find_element(by=By.CLASS_NAME, value=name)\n",
      "  File \"/Users/jaime/anaconda3/lib/python3.6/site-packages/selenium/webdriver/remote/webdriver.py\", line 955, in find_element\n",
      "    'value': value})['value']\n",
      "  File \"/Users/jaime/anaconda3/lib/python3.6/site-packages/selenium/webdriver/remote/webdriver.py\", line 312, in execute\n",
      "    self.error_handler.check_response(response)\n",
      "  File \"/Users/jaime/anaconda3/lib/python3.6/site-packages/selenium/webdriver/remote/errorhandler.py\", line 237, in check_response\n",
      "    raise exception_class(message, screen, stacktrace)\n",
      "selenium.common.exceptions.NoSuchElementException: Message: no such element: Unable to locate element: {\"method\":\"class name\",\"selector\":\"linksIntermedios\"}\n",
      "  (Session info: chrome=64.0.3282.140)\n",
      "  (Driver info: chromedriver=2.35.528157 (4429ca2590d6988c0745c24c8858745aaaec01ef),platform=Mac OS X 10.13.3 x86_64)\n",
      "\n"
     ]
    },
    {
     "name": "stdout",
     "output_type": "stream",
     "text": [
      "No contract data per_planta in http://www.gobiernotransparentechile.cl/directorio/entidad/15/207\n",
      "No contract data per_contrata in http://www.gobiernotransparentechile.cl/directorio/entidad/15/207\n"
     ]
    },
    {
     "name": "stderr",
     "output_type": "stream",
     "text": [
      "Traceback (most recent call last):\n",
      "  File \"./lib/functions.py\", line 103, in getDepartmentData\n",
      "    for l in years_links_list:\n",
      "  File \"/Users/jaime/anaconda3/lib/python3.6/site-packages/selenium/webdriver/remote/webdriver.py\", line 555, in find_element_by_class_name\n",
      "    return self.find_element(by=By.CLASS_NAME, value=name)\n",
      "  File \"/Users/jaime/anaconda3/lib/python3.6/site-packages/selenium/webdriver/remote/webdriver.py\", line 955, in find_element\n",
      "    'value': value})['value']\n",
      "  File \"/Users/jaime/anaconda3/lib/python3.6/site-packages/selenium/webdriver/remote/webdriver.py\", line 312, in execute\n",
      "    self.error_handler.check_response(response)\n",
      "  File \"/Users/jaime/anaconda3/lib/python3.6/site-packages/selenium/webdriver/remote/errorhandler.py\", line 237, in check_response\n",
      "    raise exception_class(message, screen, stacktrace)\n",
      "selenium.common.exceptions.NoSuchElementException: Message: no such element: Unable to locate element: {\"method\":\"class name\",\"selector\":\"linksIntermedios\"}\n",
      "  (Session info: chrome=64.0.3282.140)\n",
      "  (Driver info: chromedriver=2.35.528157 (4429ca2590d6988c0745c24c8858745aaaec01ef),platform=Mac OS X 10.13.3 x86_64)\n",
      "\n"
     ]
    },
    {
     "data": {
      "application/vnd.jupyter.widget-view+json": {
       "model_id": "7ac045bd4e324b599d4886c657ea3891",
       "version_major": 2,
       "version_minor": 0
      },
      "text/plain": [
       "A Jupyter Widget"
      ]
     },
     "metadata": {},
     "output_type": "display_data"
    },
    {
     "name": "stdout",
     "output_type": "stream",
     "text": [
      "\n",
      "Servicio de Salud Iquique\n"
     ]
    },
    {
     "name": "stderr",
     "output_type": "stream",
     "text": [
      "Traceback (most recent call last):\n",
      "  File \"./lib/functions.py\", line 103, in getDepartmentData\n",
      "    for l in years_links_list:\n",
      "  File \"/Users/jaime/anaconda3/lib/python3.6/site-packages/selenium/webdriver/remote/webdriver.py\", line 555, in find_element_by_class_name\n",
      "    return self.find_element(by=By.CLASS_NAME, value=name)\n",
      "  File \"/Users/jaime/anaconda3/lib/python3.6/site-packages/selenium/webdriver/remote/webdriver.py\", line 955, in find_element\n",
      "    'value': value})['value']\n",
      "  File \"/Users/jaime/anaconda3/lib/python3.6/site-packages/selenium/webdriver/remote/webdriver.py\", line 312, in execute\n",
      "    self.error_handler.check_response(response)\n",
      "  File \"/Users/jaime/anaconda3/lib/python3.6/site-packages/selenium/webdriver/remote/errorhandler.py\", line 237, in check_response\n",
      "    raise exception_class(message, screen, stacktrace)\n",
      "selenium.common.exceptions.NoSuchElementException: Message: no such element: Unable to locate element: {\"method\":\"class name\",\"selector\":\"linksIntermedios\"}\n",
      "  (Session info: chrome=64.0.3282.140)\n",
      "  (Driver info: chromedriver=2.35.528157 (4429ca2590d6988c0745c24c8858745aaaec01ef),platform=Mac OS X 10.13.3 x86_64)\n",
      "\n"
     ]
    },
    {
     "name": "stdout",
     "output_type": "stream",
     "text": [
      "No contract data per_planta in http://www.gobiernotransparentechile.cl/directorio/entidad/15/208\n",
      "No contract data per_contrata in http://www.gobiernotransparentechile.cl/directorio/entidad/15/208\n"
     ]
    },
    {
     "name": "stderr",
     "output_type": "stream",
     "text": [
      "Traceback (most recent call last):\n",
      "  File \"./lib/functions.py\", line 103, in getDepartmentData\n",
      "    for l in years_links_list:\n",
      "  File \"/Users/jaime/anaconda3/lib/python3.6/site-packages/selenium/webdriver/remote/webdriver.py\", line 555, in find_element_by_class_name\n",
      "    return self.find_element(by=By.CLASS_NAME, value=name)\n",
      "  File \"/Users/jaime/anaconda3/lib/python3.6/site-packages/selenium/webdriver/remote/webdriver.py\", line 955, in find_element\n",
      "    'value': value})['value']\n",
      "  File \"/Users/jaime/anaconda3/lib/python3.6/site-packages/selenium/webdriver/remote/webdriver.py\", line 312, in execute\n",
      "    self.error_handler.check_response(response)\n",
      "  File \"/Users/jaime/anaconda3/lib/python3.6/site-packages/selenium/webdriver/remote/errorhandler.py\", line 237, in check_response\n",
      "    raise exception_class(message, screen, stacktrace)\n",
      "selenium.common.exceptions.NoSuchElementException: Message: no such element: Unable to locate element: {\"method\":\"class name\",\"selector\":\"linksIntermedios\"}\n",
      "  (Session info: chrome=64.0.3282.140)\n",
      "  (Driver info: chromedriver=2.35.528157 (4429ca2590d6988c0745c24c8858745aaaec01ef),platform=Mac OS X 10.13.3 x86_64)\n",
      "\n"
     ]
    },
    {
     "data": {
      "application/vnd.jupyter.widget-view+json": {
       "model_id": "07982717bedb4bb498b7d3534405fe42",
       "version_major": 2,
       "version_minor": 0
      },
      "text/plain": [
       "A Jupyter Widget"
      ]
     },
     "metadata": {},
     "output_type": "display_data"
    },
    {
     "name": "stdout",
     "output_type": "stream",
     "text": [
      "\n",
      "Servicio de Salud Antofagasta\n"
     ]
    },
    {
     "name": "stderr",
     "output_type": "stream",
     "text": [
      "Traceback (most recent call last):\n",
      "  File \"./lib/functions.py\", line 103, in getDepartmentData\n",
      "    for l in years_links_list:\n",
      "  File \"/Users/jaime/anaconda3/lib/python3.6/site-packages/selenium/webdriver/remote/webdriver.py\", line 555, in find_element_by_class_name\n",
      "    return self.find_element(by=By.CLASS_NAME, value=name)\n",
      "  File \"/Users/jaime/anaconda3/lib/python3.6/site-packages/selenium/webdriver/remote/webdriver.py\", line 955, in find_element\n",
      "    'value': value})['value']\n",
      "  File \"/Users/jaime/anaconda3/lib/python3.6/site-packages/selenium/webdriver/remote/webdriver.py\", line 312, in execute\n",
      "    self.error_handler.check_response(response)\n",
      "  File \"/Users/jaime/anaconda3/lib/python3.6/site-packages/selenium/webdriver/remote/errorhandler.py\", line 237, in check_response\n",
      "    raise exception_class(message, screen, stacktrace)\n",
      "selenium.common.exceptions.NoSuchElementException: Message: no such element: Unable to locate element: {\"method\":\"class name\",\"selector\":\"linksIntermedios\"}\n",
      "  (Session info: chrome=64.0.3282.140)\n",
      "  (Driver info: chromedriver=2.35.528157 (4429ca2590d6988c0745c24c8858745aaaec01ef),platform=Mac OS X 10.13.3 x86_64)\n",
      "\n"
     ]
    },
    {
     "name": "stdout",
     "output_type": "stream",
     "text": [
      "No contract data per_planta in http://www.gobiernotransparentechile.cl/directorio/entidad/15/209\n",
      "No contract data per_contrata in http://www.gobiernotransparentechile.cl/directorio/entidad/15/209\n"
     ]
    },
    {
     "name": "stderr",
     "output_type": "stream",
     "text": [
      "Traceback (most recent call last):\n",
      "  File \"./lib/functions.py\", line 103, in getDepartmentData\n",
      "    for l in years_links_list:\n",
      "  File \"/Users/jaime/anaconda3/lib/python3.6/site-packages/selenium/webdriver/remote/webdriver.py\", line 555, in find_element_by_class_name\n",
      "    return self.find_element(by=By.CLASS_NAME, value=name)\n",
      "  File \"/Users/jaime/anaconda3/lib/python3.6/site-packages/selenium/webdriver/remote/webdriver.py\", line 955, in find_element\n",
      "    'value': value})['value']\n",
      "  File \"/Users/jaime/anaconda3/lib/python3.6/site-packages/selenium/webdriver/remote/webdriver.py\", line 312, in execute\n",
      "    self.error_handler.check_response(response)\n",
      "  File \"/Users/jaime/anaconda3/lib/python3.6/site-packages/selenium/webdriver/remote/errorhandler.py\", line 237, in check_response\n",
      "    raise exception_class(message, screen, stacktrace)\n",
      "selenium.common.exceptions.NoSuchElementException: Message: no such element: Unable to locate element: {\"method\":\"class name\",\"selector\":\"linksIntermedios\"}\n",
      "  (Session info: chrome=64.0.3282.140)\n",
      "  (Driver info: chromedriver=2.35.528157 (4429ca2590d6988c0745c24c8858745aaaec01ef),platform=Mac OS X 10.13.3 x86_64)\n",
      "\n"
     ]
    },
    {
     "data": {
      "application/vnd.jupyter.widget-view+json": {
       "model_id": "058f01f8d37f454986e38eb3891a4236",
       "version_major": 2,
       "version_minor": 0
      },
      "text/plain": [
       "A Jupyter Widget"
      ]
     },
     "metadata": {},
     "output_type": "display_data"
    },
    {
     "name": "stdout",
     "output_type": "stream",
     "text": [
      "\n",
      "Servicio de Salud Atacama\n"
     ]
    },
    {
     "name": "stderr",
     "output_type": "stream",
     "text": [
      "Traceback (most recent call last):\n",
      "  File \"./lib/functions.py\", line 103, in getDepartmentData\n",
      "    for l in years_links_list:\n",
      "  File \"/Users/jaime/anaconda3/lib/python3.6/site-packages/selenium/webdriver/remote/webdriver.py\", line 555, in find_element_by_class_name\n",
      "    return self.find_element(by=By.CLASS_NAME, value=name)\n",
      "  File \"/Users/jaime/anaconda3/lib/python3.6/site-packages/selenium/webdriver/remote/webdriver.py\", line 955, in find_element\n",
      "    'value': value})['value']\n",
      "  File \"/Users/jaime/anaconda3/lib/python3.6/site-packages/selenium/webdriver/remote/webdriver.py\", line 312, in execute\n",
      "    self.error_handler.check_response(response)\n",
      "  File \"/Users/jaime/anaconda3/lib/python3.6/site-packages/selenium/webdriver/remote/errorhandler.py\", line 237, in check_response\n",
      "    raise exception_class(message, screen, stacktrace)\n",
      "selenium.common.exceptions.NoSuchElementException: Message: no such element: Unable to locate element: {\"method\":\"class name\",\"selector\":\"linksIntermedios\"}\n",
      "  (Session info: chrome=64.0.3282.140)\n",
      "  (Driver info: chromedriver=2.35.528157 (4429ca2590d6988c0745c24c8858745aaaec01ef),platform=Mac OS X 10.13.3 x86_64)\n",
      "\n"
     ]
    },
    {
     "name": "stdout",
     "output_type": "stream",
     "text": [
      "No contract data per_planta in http://www.gobiernotransparentechile.cl/directorio/entidad/15/210\n",
      "No contract data per_contrata in http://www.gobiernotransparentechile.cl/directorio/entidad/15/210\n"
     ]
    },
    {
     "name": "stderr",
     "output_type": "stream",
     "text": [
      "Traceback (most recent call last):\n",
      "  File \"./lib/functions.py\", line 103, in getDepartmentData\n",
      "    for l in years_links_list:\n",
      "  File \"/Users/jaime/anaconda3/lib/python3.6/site-packages/selenium/webdriver/remote/webdriver.py\", line 555, in find_element_by_class_name\n",
      "    return self.find_element(by=By.CLASS_NAME, value=name)\n",
      "  File \"/Users/jaime/anaconda3/lib/python3.6/site-packages/selenium/webdriver/remote/webdriver.py\", line 955, in find_element\n",
      "    'value': value})['value']\n",
      "  File \"/Users/jaime/anaconda3/lib/python3.6/site-packages/selenium/webdriver/remote/webdriver.py\", line 312, in execute\n",
      "    self.error_handler.check_response(response)\n",
      "  File \"/Users/jaime/anaconda3/lib/python3.6/site-packages/selenium/webdriver/remote/errorhandler.py\", line 237, in check_response\n",
      "    raise exception_class(message, screen, stacktrace)\n",
      "selenium.common.exceptions.NoSuchElementException: Message: no such element: Unable to locate element: {\"method\":\"class name\",\"selector\":\"linksIntermedios\"}\n",
      "  (Session info: chrome=64.0.3282.140)\n",
      "  (Driver info: chromedriver=2.35.528157 (4429ca2590d6988c0745c24c8858745aaaec01ef),platform=Mac OS X 10.13.3 x86_64)\n",
      "\n"
     ]
    },
    {
     "data": {
      "application/vnd.jupyter.widget-view+json": {
       "model_id": "e37741d963bf429e820a6a982867265b",
       "version_major": 2,
       "version_minor": 0
      },
      "text/plain": [
       "A Jupyter Widget"
      ]
     },
     "metadata": {},
     "output_type": "display_data"
    },
    {
     "name": "stdout",
     "output_type": "stream",
     "text": [
      "\n",
      "Servicio de Salud Coquimbo\n"
     ]
    },
    {
     "name": "stderr",
     "output_type": "stream",
     "text": [
      "Traceback (most recent call last):\n",
      "  File \"./lib/functions.py\", line 103, in getDepartmentData\n",
      "    for l in years_links_list:\n",
      "  File \"/Users/jaime/anaconda3/lib/python3.6/site-packages/selenium/webdriver/remote/webdriver.py\", line 555, in find_element_by_class_name\n",
      "    return self.find_element(by=By.CLASS_NAME, value=name)\n",
      "  File \"/Users/jaime/anaconda3/lib/python3.6/site-packages/selenium/webdriver/remote/webdriver.py\", line 955, in find_element\n",
      "    'value': value})['value']\n",
      "  File \"/Users/jaime/anaconda3/lib/python3.6/site-packages/selenium/webdriver/remote/webdriver.py\", line 312, in execute\n",
      "    self.error_handler.check_response(response)\n",
      "  File \"/Users/jaime/anaconda3/lib/python3.6/site-packages/selenium/webdriver/remote/errorhandler.py\", line 237, in check_response\n",
      "    raise exception_class(message, screen, stacktrace)\n",
      "selenium.common.exceptions.NoSuchElementException: Message: no such element: Unable to locate element: {\"method\":\"class name\",\"selector\":\"linksIntermedios\"}\n",
      "  (Session info: chrome=64.0.3282.140)\n",
      "  (Driver info: chromedriver=2.35.528157 (4429ca2590d6988c0745c24c8858745aaaec01ef),platform=Mac OS X 10.13.3 x86_64)\n",
      "\n"
     ]
    },
    {
     "name": "stdout",
     "output_type": "stream",
     "text": [
      "No contract data per_planta in http://www.gobiernotransparentechile.cl/directorio/entidad/15/211\n",
      "No contract data per_contrata in http://www.gobiernotransparentechile.cl/directorio/entidad/15/211\n"
     ]
    },
    {
     "name": "stderr",
     "output_type": "stream",
     "text": [
      "Traceback (most recent call last):\n",
      "  File \"./lib/functions.py\", line 103, in getDepartmentData\n",
      "    for l in years_links_list:\n",
      "  File \"/Users/jaime/anaconda3/lib/python3.6/site-packages/selenium/webdriver/remote/webdriver.py\", line 555, in find_element_by_class_name\n",
      "    return self.find_element(by=By.CLASS_NAME, value=name)\n",
      "  File \"/Users/jaime/anaconda3/lib/python3.6/site-packages/selenium/webdriver/remote/webdriver.py\", line 955, in find_element\n",
      "    'value': value})['value']\n",
      "  File \"/Users/jaime/anaconda3/lib/python3.6/site-packages/selenium/webdriver/remote/webdriver.py\", line 312, in execute\n",
      "    self.error_handler.check_response(response)\n",
      "  File \"/Users/jaime/anaconda3/lib/python3.6/site-packages/selenium/webdriver/remote/errorhandler.py\", line 237, in check_response\n",
      "    raise exception_class(message, screen, stacktrace)\n",
      "selenium.common.exceptions.NoSuchElementException: Message: no such element: Unable to locate element: {\"method\":\"class name\",\"selector\":\"linksIntermedios\"}\n",
      "  (Session info: chrome=64.0.3282.140)\n",
      "  (Driver info: chromedriver=2.35.528157 (4429ca2590d6988c0745c24c8858745aaaec01ef),platform=Mac OS X 10.13.3 x86_64)\n",
      "\n"
     ]
    },
    {
     "data": {
      "application/vnd.jupyter.widget-view+json": {
       "model_id": "c4ecbd9268f54323bbbd0f72066a26b4",
       "version_major": 2,
       "version_minor": 0
      },
      "text/plain": [
       "A Jupyter Widget"
      ]
     },
     "metadata": {},
     "output_type": "display_data"
    },
    {
     "name": "stdout",
     "output_type": "stream",
     "text": [
      "\n",
      "Servicio de Salud Aconcagua\n"
     ]
    },
    {
     "name": "stderr",
     "output_type": "stream",
     "text": [
      "Traceback (most recent call last):\n",
      "  File \"./lib/functions.py\", line 103, in getDepartmentData\n",
      "    for l in years_links_list:\n",
      "  File \"/Users/jaime/anaconda3/lib/python3.6/site-packages/selenium/webdriver/remote/webdriver.py\", line 555, in find_element_by_class_name\n",
      "    return self.find_element(by=By.CLASS_NAME, value=name)\n",
      "  File \"/Users/jaime/anaconda3/lib/python3.6/site-packages/selenium/webdriver/remote/webdriver.py\", line 955, in find_element\n",
      "    'value': value})['value']\n",
      "  File \"/Users/jaime/anaconda3/lib/python3.6/site-packages/selenium/webdriver/remote/webdriver.py\", line 312, in execute\n",
      "    self.error_handler.check_response(response)\n",
      "  File \"/Users/jaime/anaconda3/lib/python3.6/site-packages/selenium/webdriver/remote/errorhandler.py\", line 237, in check_response\n",
      "    raise exception_class(message, screen, stacktrace)\n",
      "selenium.common.exceptions.NoSuchElementException: Message: no such element: Unable to locate element: {\"method\":\"class name\",\"selector\":\"linksIntermedios\"}\n",
      "  (Session info: chrome=64.0.3282.140)\n",
      "  (Driver info: chromedriver=2.35.528157 (4429ca2590d6988c0745c24c8858745aaaec01ef),platform=Mac OS X 10.13.3 x86_64)\n",
      "\n"
     ]
    },
    {
     "name": "stdout",
     "output_type": "stream",
     "text": [
      "No contract data per_planta in http://www.gobiernotransparentechile.cl/directorio/entidad/15/212\n",
      "No contract data per_contrata in http://www.gobiernotransparentechile.cl/directorio/entidad/15/212\n"
     ]
    },
    {
     "name": "stderr",
     "output_type": "stream",
     "text": [
      "Traceback (most recent call last):\n",
      "  File \"./lib/functions.py\", line 103, in getDepartmentData\n",
      "    for l in years_links_list:\n",
      "  File \"/Users/jaime/anaconda3/lib/python3.6/site-packages/selenium/webdriver/remote/webdriver.py\", line 555, in find_element_by_class_name\n",
      "    return self.find_element(by=By.CLASS_NAME, value=name)\n",
      "  File \"/Users/jaime/anaconda3/lib/python3.6/site-packages/selenium/webdriver/remote/webdriver.py\", line 955, in find_element\n",
      "    'value': value})['value']\n",
      "  File \"/Users/jaime/anaconda3/lib/python3.6/site-packages/selenium/webdriver/remote/webdriver.py\", line 312, in execute\n",
      "    self.error_handler.check_response(response)\n",
      "  File \"/Users/jaime/anaconda3/lib/python3.6/site-packages/selenium/webdriver/remote/errorhandler.py\", line 237, in check_response\n",
      "    raise exception_class(message, screen, stacktrace)\n",
      "selenium.common.exceptions.NoSuchElementException: Message: no such element: Unable to locate element: {\"method\":\"class name\",\"selector\":\"linksIntermedios\"}\n",
      "  (Session info: chrome=64.0.3282.140)\n",
      "  (Driver info: chromedriver=2.35.528157 (4429ca2590d6988c0745c24c8858745aaaec01ef),platform=Mac OS X 10.13.3 x86_64)\n",
      "\n"
     ]
    },
    {
     "data": {
      "application/vnd.jupyter.widget-view+json": {
       "model_id": "a85444c55d12468fb7a7cd4ea8e675fd",
       "version_major": 2,
       "version_minor": 0
      },
      "text/plain": [
       "A Jupyter Widget"
      ]
     },
     "metadata": {},
     "output_type": "display_data"
    },
    {
     "name": "stdout",
     "output_type": "stream",
     "text": [
      "\n",
      "Servicio de Salud Valparaíso - San Antonio\n"
     ]
    },
    {
     "name": "stderr",
     "output_type": "stream",
     "text": [
      "Traceback (most recent call last):\n",
      "  File \"./lib/functions.py\", line 103, in getDepartmentData\n",
      "    for l in years_links_list:\n",
      "  File \"/Users/jaime/anaconda3/lib/python3.6/site-packages/selenium/webdriver/remote/webdriver.py\", line 555, in find_element_by_class_name\n",
      "    return self.find_element(by=By.CLASS_NAME, value=name)\n",
      "  File \"/Users/jaime/anaconda3/lib/python3.6/site-packages/selenium/webdriver/remote/webdriver.py\", line 955, in find_element\n",
      "    'value': value})['value']\n",
      "  File \"/Users/jaime/anaconda3/lib/python3.6/site-packages/selenium/webdriver/remote/webdriver.py\", line 312, in execute\n",
      "    self.error_handler.check_response(response)\n",
      "  File \"/Users/jaime/anaconda3/lib/python3.6/site-packages/selenium/webdriver/remote/errorhandler.py\", line 237, in check_response\n",
      "    raise exception_class(message, screen, stacktrace)\n",
      "selenium.common.exceptions.NoSuchElementException: Message: no such element: Unable to locate element: {\"method\":\"class name\",\"selector\":\"linksIntermedios\"}\n",
      "  (Session info: chrome=64.0.3282.140)\n",
      "  (Driver info: chromedriver=2.35.528157 (4429ca2590d6988c0745c24c8858745aaaec01ef),platform=Mac OS X 10.13.3 x86_64)\n",
      "\n"
     ]
    },
    {
     "name": "stdout",
     "output_type": "stream",
     "text": [
      "No contract data per_planta in http://www.gobiernotransparentechile.cl/directorio/entidad/15/213\n",
      "No contract data per_contrata in http://www.gobiernotransparentechile.cl/directorio/entidad/15/213\n"
     ]
    },
    {
     "name": "stderr",
     "output_type": "stream",
     "text": [
      "Traceback (most recent call last):\n",
      "  File \"./lib/functions.py\", line 103, in getDepartmentData\n",
      "    for l in years_links_list:\n",
      "  File \"/Users/jaime/anaconda3/lib/python3.6/site-packages/selenium/webdriver/remote/webdriver.py\", line 555, in find_element_by_class_name\n",
      "    return self.find_element(by=By.CLASS_NAME, value=name)\n",
      "  File \"/Users/jaime/anaconda3/lib/python3.6/site-packages/selenium/webdriver/remote/webdriver.py\", line 955, in find_element\n",
      "    'value': value})['value']\n",
      "  File \"/Users/jaime/anaconda3/lib/python3.6/site-packages/selenium/webdriver/remote/webdriver.py\", line 312, in execute\n",
      "    self.error_handler.check_response(response)\n",
      "  File \"/Users/jaime/anaconda3/lib/python3.6/site-packages/selenium/webdriver/remote/errorhandler.py\", line 237, in check_response\n",
      "    raise exception_class(message, screen, stacktrace)\n",
      "selenium.common.exceptions.NoSuchElementException: Message: no such element: Unable to locate element: {\"method\":\"class name\",\"selector\":\"linksIntermedios\"}\n",
      "  (Session info: chrome=64.0.3282.140)\n",
      "  (Driver info: chromedriver=2.35.528157 (4429ca2590d6988c0745c24c8858745aaaec01ef),platform=Mac OS X 10.13.3 x86_64)\n",
      "\n"
     ]
    },
    {
     "data": {
      "application/vnd.jupyter.widget-view+json": {
       "model_id": "85ed58ad17474bf5b7e3ce096578725b",
       "version_major": 2,
       "version_minor": 0
      },
      "text/plain": [
       "A Jupyter Widget"
      ]
     },
     "metadata": {},
     "output_type": "display_data"
    },
    {
     "name": "stdout",
     "output_type": "stream",
     "text": [
      "\n",
      "Servicio de Salud Viña Del Mar - Quillota\n"
     ]
    },
    {
     "name": "stderr",
     "output_type": "stream",
     "text": [
      "Traceback (most recent call last):\n",
      "  File \"./lib/functions.py\", line 103, in getDepartmentData\n",
      "    for l in years_links_list:\n",
      "  File \"/Users/jaime/anaconda3/lib/python3.6/site-packages/selenium/webdriver/remote/webdriver.py\", line 555, in find_element_by_class_name\n",
      "    return self.find_element(by=By.CLASS_NAME, value=name)\n",
      "  File \"/Users/jaime/anaconda3/lib/python3.6/site-packages/selenium/webdriver/remote/webdriver.py\", line 955, in find_element\n",
      "    'value': value})['value']\n",
      "  File \"/Users/jaime/anaconda3/lib/python3.6/site-packages/selenium/webdriver/remote/webdriver.py\", line 312, in execute\n",
      "    self.error_handler.check_response(response)\n",
      "  File \"/Users/jaime/anaconda3/lib/python3.6/site-packages/selenium/webdriver/remote/errorhandler.py\", line 237, in check_response\n",
      "    raise exception_class(message, screen, stacktrace)\n",
      "selenium.common.exceptions.NoSuchElementException: Message: no such element: Unable to locate element: {\"method\":\"class name\",\"selector\":\"linksIntermedios\"}\n",
      "  (Session info: chrome=64.0.3282.140)\n",
      "  (Driver info: chromedriver=2.35.528157 (4429ca2590d6988c0745c24c8858745aaaec01ef),platform=Mac OS X 10.13.3 x86_64)\n",
      "\n"
     ]
    },
    {
     "name": "stdout",
     "output_type": "stream",
     "text": [
      "No contract data per_planta in http://www.gobiernotransparentechile.cl/directorio/entidad/15/214\n",
      "No contract data per_contrata in http://www.gobiernotransparentechile.cl/directorio/entidad/15/214\n"
     ]
    },
    {
     "name": "stderr",
     "output_type": "stream",
     "text": [
      "Traceback (most recent call last):\n",
      "  File \"./lib/functions.py\", line 103, in getDepartmentData\n",
      "    for l in years_links_list:\n",
      "  File \"/Users/jaime/anaconda3/lib/python3.6/site-packages/selenium/webdriver/remote/webdriver.py\", line 555, in find_element_by_class_name\n",
      "    return self.find_element(by=By.CLASS_NAME, value=name)\n",
      "  File \"/Users/jaime/anaconda3/lib/python3.6/site-packages/selenium/webdriver/remote/webdriver.py\", line 955, in find_element\n",
      "    'value': value})['value']\n",
      "  File \"/Users/jaime/anaconda3/lib/python3.6/site-packages/selenium/webdriver/remote/webdriver.py\", line 312, in execute\n",
      "    self.error_handler.check_response(response)\n",
      "  File \"/Users/jaime/anaconda3/lib/python3.6/site-packages/selenium/webdriver/remote/errorhandler.py\", line 237, in check_response\n",
      "    raise exception_class(message, screen, stacktrace)\n",
      "selenium.common.exceptions.NoSuchElementException: Message: no such element: Unable to locate element: {\"method\":\"class name\",\"selector\":\"linksIntermedios\"}\n",
      "  (Session info: chrome=64.0.3282.140)\n",
      "  (Driver info: chromedriver=2.35.528157 (4429ca2590d6988c0745c24c8858745aaaec01ef),platform=Mac OS X 10.13.3 x86_64)\n",
      "\n"
     ]
    },
    {
     "data": {
      "application/vnd.jupyter.widget-view+json": {
       "model_id": "4b4cb5a69d534fb8867668b34d7df34a",
       "version_major": 2,
       "version_minor": 0
      },
      "text/plain": [
       "A Jupyter Widget"
      ]
     },
     "metadata": {},
     "output_type": "display_data"
    },
    {
     "name": "stdout",
     "output_type": "stream",
     "text": [
      "\n",
      "Servicio de Salud O'Higgins\n"
     ]
    },
    {
     "name": "stderr",
     "output_type": "stream",
     "text": [
      "Traceback (most recent call last):\n",
      "  File \"./lib/functions.py\", line 103, in getDepartmentData\n",
      "    for l in years_links_list:\n",
      "  File \"/Users/jaime/anaconda3/lib/python3.6/site-packages/selenium/webdriver/remote/webdriver.py\", line 555, in find_element_by_class_name\n",
      "    return self.find_element(by=By.CLASS_NAME, value=name)\n",
      "  File \"/Users/jaime/anaconda3/lib/python3.6/site-packages/selenium/webdriver/remote/webdriver.py\", line 955, in find_element\n",
      "    'value': value})['value']\n",
      "  File \"/Users/jaime/anaconda3/lib/python3.6/site-packages/selenium/webdriver/remote/webdriver.py\", line 312, in execute\n",
      "    self.error_handler.check_response(response)\n",
      "  File \"/Users/jaime/anaconda3/lib/python3.6/site-packages/selenium/webdriver/remote/errorhandler.py\", line 237, in check_response\n",
      "    raise exception_class(message, screen, stacktrace)\n",
      "selenium.common.exceptions.NoSuchElementException: Message: no such element: Unable to locate element: {\"method\":\"class name\",\"selector\":\"linksIntermedios\"}\n",
      "  (Session info: chrome=64.0.3282.140)\n",
      "  (Driver info: chromedriver=2.35.528157 (4429ca2590d6988c0745c24c8858745aaaec01ef),platform=Mac OS X 10.13.3 x86_64)\n",
      "\n"
     ]
    },
    {
     "name": "stdout",
     "output_type": "stream",
     "text": [
      "No contract data per_planta in http://www.gobiernotransparentechile.cl/directorio/entidad/15/215\n",
      "No contract data per_contrata in http://www.gobiernotransparentechile.cl/directorio/entidad/15/215\n"
     ]
    },
    {
     "name": "stderr",
     "output_type": "stream",
     "text": [
      "Traceback (most recent call last):\n",
      "  File \"./lib/functions.py\", line 103, in getDepartmentData\n",
      "    for l in years_links_list:\n",
      "  File \"/Users/jaime/anaconda3/lib/python3.6/site-packages/selenium/webdriver/remote/webdriver.py\", line 555, in find_element_by_class_name\n",
      "    return self.find_element(by=By.CLASS_NAME, value=name)\n",
      "  File \"/Users/jaime/anaconda3/lib/python3.6/site-packages/selenium/webdriver/remote/webdriver.py\", line 955, in find_element\n",
      "    'value': value})['value']\n",
      "  File \"/Users/jaime/anaconda3/lib/python3.6/site-packages/selenium/webdriver/remote/webdriver.py\", line 312, in execute\n",
      "    self.error_handler.check_response(response)\n",
      "  File \"/Users/jaime/anaconda3/lib/python3.6/site-packages/selenium/webdriver/remote/errorhandler.py\", line 237, in check_response\n",
      "    raise exception_class(message, screen, stacktrace)\n",
      "selenium.common.exceptions.NoSuchElementException: Message: no such element: Unable to locate element: {\"method\":\"class name\",\"selector\":\"linksIntermedios\"}\n",
      "  (Session info: chrome=64.0.3282.140)\n",
      "  (Driver info: chromedriver=2.35.528157 (4429ca2590d6988c0745c24c8858745aaaec01ef),platform=Mac OS X 10.13.3 x86_64)\n",
      "\n"
     ]
    },
    {
     "data": {
      "application/vnd.jupyter.widget-view+json": {
       "model_id": "fbc469fab3f24254950924f64af64ad2",
       "version_major": 2,
       "version_minor": 0
      },
      "text/plain": [
       "A Jupyter Widget"
      ]
     },
     "metadata": {},
     "output_type": "display_data"
    },
    {
     "name": "stdout",
     "output_type": "stream",
     "text": [
      "\n",
      "Servicio de Salud Maule\n"
     ]
    },
    {
     "name": "stderr",
     "output_type": "stream",
     "text": [
      "Traceback (most recent call last):\n",
      "  File \"./lib/functions.py\", line 103, in getDepartmentData\n",
      "    for l in years_links_list:\n",
      "  File \"/Users/jaime/anaconda3/lib/python3.6/site-packages/selenium/webdriver/remote/webdriver.py\", line 555, in find_element_by_class_name\n",
      "    return self.find_element(by=By.CLASS_NAME, value=name)\n",
      "  File \"/Users/jaime/anaconda3/lib/python3.6/site-packages/selenium/webdriver/remote/webdriver.py\", line 955, in find_element\n",
      "    'value': value})['value']\n",
      "  File \"/Users/jaime/anaconda3/lib/python3.6/site-packages/selenium/webdriver/remote/webdriver.py\", line 312, in execute\n",
      "    self.error_handler.check_response(response)\n",
      "  File \"/Users/jaime/anaconda3/lib/python3.6/site-packages/selenium/webdriver/remote/errorhandler.py\", line 237, in check_response\n",
      "    raise exception_class(message, screen, stacktrace)\n",
      "selenium.common.exceptions.NoSuchElementException: Message: no such element: Unable to locate element: {\"method\":\"class name\",\"selector\":\"linksIntermedios\"}\n",
      "  (Session info: chrome=64.0.3282.140)\n",
      "  (Driver info: chromedriver=2.35.528157 (4429ca2590d6988c0745c24c8858745aaaec01ef),platform=Mac OS X 10.13.3 x86_64)\n",
      "\n"
     ]
    },
    {
     "name": "stdout",
     "output_type": "stream",
     "text": [
      "No contract data per_planta in http://www.gobiernotransparentechile.cl/directorio/entidad/15/216\n",
      "No contract data per_contrata in http://www.gobiernotransparentechile.cl/directorio/entidad/15/216\n"
     ]
    },
    {
     "name": "stderr",
     "output_type": "stream",
     "text": [
      "Traceback (most recent call last):\n",
      "  File \"./lib/functions.py\", line 103, in getDepartmentData\n",
      "    for l in years_links_list:\n",
      "  File \"/Users/jaime/anaconda3/lib/python3.6/site-packages/selenium/webdriver/remote/webdriver.py\", line 555, in find_element_by_class_name\n",
      "    return self.find_element(by=By.CLASS_NAME, value=name)\n",
      "  File \"/Users/jaime/anaconda3/lib/python3.6/site-packages/selenium/webdriver/remote/webdriver.py\", line 955, in find_element\n",
      "    'value': value})['value']\n",
      "  File \"/Users/jaime/anaconda3/lib/python3.6/site-packages/selenium/webdriver/remote/webdriver.py\", line 312, in execute\n",
      "    self.error_handler.check_response(response)\n",
      "  File \"/Users/jaime/anaconda3/lib/python3.6/site-packages/selenium/webdriver/remote/errorhandler.py\", line 237, in check_response\n",
      "    raise exception_class(message, screen, stacktrace)\n",
      "selenium.common.exceptions.NoSuchElementException: Message: no such element: Unable to locate element: {\"method\":\"class name\",\"selector\":\"linksIntermedios\"}\n",
      "  (Session info: chrome=64.0.3282.140)\n",
      "  (Driver info: chromedriver=2.35.528157 (4429ca2590d6988c0745c24c8858745aaaec01ef),platform=Mac OS X 10.13.3 x86_64)\n",
      "\n"
     ]
    },
    {
     "data": {
      "application/vnd.jupyter.widget-view+json": {
       "model_id": "7c05cd1853374df7b90becacf5b194e9",
       "version_major": 2,
       "version_minor": 0
      },
      "text/plain": [
       "A Jupyter Widget"
      ]
     },
     "metadata": {},
     "output_type": "display_data"
    },
    {
     "name": "stdout",
     "output_type": "stream",
     "text": [
      "\n",
      "Servicio de Salud Ñuble\n"
     ]
    },
    {
     "name": "stderr",
     "output_type": "stream",
     "text": [
      "Traceback (most recent call last):\n",
      "  File \"./lib/functions.py\", line 103, in getDepartmentData\n",
      "    for l in years_links_list:\n",
      "  File \"/Users/jaime/anaconda3/lib/python3.6/site-packages/selenium/webdriver/remote/webdriver.py\", line 555, in find_element_by_class_name\n",
      "    return self.find_element(by=By.CLASS_NAME, value=name)\n",
      "  File \"/Users/jaime/anaconda3/lib/python3.6/site-packages/selenium/webdriver/remote/webdriver.py\", line 955, in find_element\n",
      "    'value': value})['value']\n",
      "  File \"/Users/jaime/anaconda3/lib/python3.6/site-packages/selenium/webdriver/remote/webdriver.py\", line 312, in execute\n",
      "    self.error_handler.check_response(response)\n",
      "  File \"/Users/jaime/anaconda3/lib/python3.6/site-packages/selenium/webdriver/remote/errorhandler.py\", line 237, in check_response\n",
      "    raise exception_class(message, screen, stacktrace)\n",
      "selenium.common.exceptions.NoSuchElementException: Message: no such element: Unable to locate element: {\"method\":\"class name\",\"selector\":\"linksIntermedios\"}\n",
      "  (Session info: chrome=64.0.3282.140)\n",
      "  (Driver info: chromedriver=2.35.528157 (4429ca2590d6988c0745c24c8858745aaaec01ef),platform=Mac OS X 10.13.3 x86_64)\n",
      "\n"
     ]
    },
    {
     "name": "stdout",
     "output_type": "stream",
     "text": [
      "No contract data per_planta in http://www.gobiernotransparentechile.cl/directorio/entidad/15/217\n",
      "No contract data per_contrata in http://www.gobiernotransparentechile.cl/directorio/entidad/15/217\n"
     ]
    },
    {
     "name": "stderr",
     "output_type": "stream",
     "text": [
      "Traceback (most recent call last):\n",
      "  File \"./lib/functions.py\", line 103, in getDepartmentData\n",
      "    for l in years_links_list:\n",
      "  File \"/Users/jaime/anaconda3/lib/python3.6/site-packages/selenium/webdriver/remote/webdriver.py\", line 555, in find_element_by_class_name\n",
      "    return self.find_element(by=By.CLASS_NAME, value=name)\n",
      "  File \"/Users/jaime/anaconda3/lib/python3.6/site-packages/selenium/webdriver/remote/webdriver.py\", line 955, in find_element\n",
      "    'value': value})['value']\n",
      "  File \"/Users/jaime/anaconda3/lib/python3.6/site-packages/selenium/webdriver/remote/webdriver.py\", line 312, in execute\n",
      "    self.error_handler.check_response(response)\n",
      "  File \"/Users/jaime/anaconda3/lib/python3.6/site-packages/selenium/webdriver/remote/errorhandler.py\", line 237, in check_response\n",
      "    raise exception_class(message, screen, stacktrace)\n",
      "selenium.common.exceptions.NoSuchElementException: Message: no such element: Unable to locate element: {\"method\":\"class name\",\"selector\":\"linksIntermedios\"}\n",
      "  (Session info: chrome=64.0.3282.140)\n",
      "  (Driver info: chromedriver=2.35.528157 (4429ca2590d6988c0745c24c8858745aaaec01ef),platform=Mac OS X 10.13.3 x86_64)\n",
      "\n"
     ]
    },
    {
     "data": {
      "application/vnd.jupyter.widget-view+json": {
       "model_id": "757b72784e434c6abbdf5e28a44e92b3",
       "version_major": 2,
       "version_minor": 0
      },
      "text/plain": [
       "A Jupyter Widget"
      ]
     },
     "metadata": {},
     "output_type": "display_data"
    },
    {
     "name": "stdout",
     "output_type": "stream",
     "text": [
      "\n",
      "Servicio de Salud Concepción\n"
     ]
    },
    {
     "name": "stderr",
     "output_type": "stream",
     "text": [
      "Traceback (most recent call last):\n",
      "  File \"./lib/functions.py\", line 103, in getDepartmentData\n",
      "    for l in years_links_list:\n",
      "  File \"/Users/jaime/anaconda3/lib/python3.6/site-packages/selenium/webdriver/remote/webdriver.py\", line 555, in find_element_by_class_name\n",
      "    return self.find_element(by=By.CLASS_NAME, value=name)\n",
      "  File \"/Users/jaime/anaconda3/lib/python3.6/site-packages/selenium/webdriver/remote/webdriver.py\", line 955, in find_element\n",
      "    'value': value})['value']\n",
      "  File \"/Users/jaime/anaconda3/lib/python3.6/site-packages/selenium/webdriver/remote/webdriver.py\", line 312, in execute\n",
      "    self.error_handler.check_response(response)\n",
      "  File \"/Users/jaime/anaconda3/lib/python3.6/site-packages/selenium/webdriver/remote/errorhandler.py\", line 237, in check_response\n",
      "    raise exception_class(message, screen, stacktrace)\n",
      "selenium.common.exceptions.NoSuchElementException: Message: no such element: Unable to locate element: {\"method\":\"class name\",\"selector\":\"linksIntermedios\"}\n",
      "  (Session info: chrome=64.0.3282.140)\n",
      "  (Driver info: chromedriver=2.35.528157 (4429ca2590d6988c0745c24c8858745aaaec01ef),platform=Mac OS X 10.13.3 x86_64)\n",
      "\n"
     ]
    },
    {
     "name": "stdout",
     "output_type": "stream",
     "text": [
      "No contract data per_planta in http://www.gobiernotransparentechile.cl/directorio/entidad/15/218\n",
      "No contract data per_contrata in http://www.gobiernotransparentechile.cl/directorio/entidad/15/218\n"
     ]
    },
    {
     "name": "stderr",
     "output_type": "stream",
     "text": [
      "Traceback (most recent call last):\n",
      "  File \"./lib/functions.py\", line 103, in getDepartmentData\n",
      "    for l in years_links_list:\n",
      "  File \"/Users/jaime/anaconda3/lib/python3.6/site-packages/selenium/webdriver/remote/webdriver.py\", line 555, in find_element_by_class_name\n",
      "    return self.find_element(by=By.CLASS_NAME, value=name)\n",
      "  File \"/Users/jaime/anaconda3/lib/python3.6/site-packages/selenium/webdriver/remote/webdriver.py\", line 955, in find_element\n",
      "    'value': value})['value']\n",
      "  File \"/Users/jaime/anaconda3/lib/python3.6/site-packages/selenium/webdriver/remote/webdriver.py\", line 312, in execute\n",
      "    self.error_handler.check_response(response)\n",
      "  File \"/Users/jaime/anaconda3/lib/python3.6/site-packages/selenium/webdriver/remote/errorhandler.py\", line 237, in check_response\n",
      "    raise exception_class(message, screen, stacktrace)\n",
      "selenium.common.exceptions.NoSuchElementException: Message: no such element: Unable to locate element: {\"method\":\"class name\",\"selector\":\"linksIntermedios\"}\n",
      "  (Session info: chrome=64.0.3282.140)\n",
      "  (Driver info: chromedriver=2.35.528157 (4429ca2590d6988c0745c24c8858745aaaec01ef),platform=Mac OS X 10.13.3 x86_64)\n",
      "\n"
     ]
    },
    {
     "data": {
      "application/vnd.jupyter.widget-view+json": {
       "model_id": "5903842f29a24e0593ff3eafc2859d5d",
       "version_major": 2,
       "version_minor": 0
      },
      "text/plain": [
       "A Jupyter Widget"
      ]
     },
     "metadata": {},
     "output_type": "display_data"
    },
    {
     "name": "stdout",
     "output_type": "stream",
     "text": [
      "\n",
      "Servicio de Salud Talcahuano\n"
     ]
    },
    {
     "name": "stderr",
     "output_type": "stream",
     "text": [
      "Traceback (most recent call last):\n",
      "  File \"./lib/functions.py\", line 103, in getDepartmentData\n",
      "    for l in years_links_list:\n",
      "  File \"/Users/jaime/anaconda3/lib/python3.6/site-packages/selenium/webdriver/remote/webdriver.py\", line 555, in find_element_by_class_name\n",
      "    return self.find_element(by=By.CLASS_NAME, value=name)\n",
      "  File \"/Users/jaime/anaconda3/lib/python3.6/site-packages/selenium/webdriver/remote/webdriver.py\", line 955, in find_element\n",
      "    'value': value})['value']\n",
      "  File \"/Users/jaime/anaconda3/lib/python3.6/site-packages/selenium/webdriver/remote/webdriver.py\", line 312, in execute\n",
      "    self.error_handler.check_response(response)\n",
      "  File \"/Users/jaime/anaconda3/lib/python3.6/site-packages/selenium/webdriver/remote/errorhandler.py\", line 237, in check_response\n",
      "    raise exception_class(message, screen, stacktrace)\n",
      "selenium.common.exceptions.NoSuchElementException: Message: no such element: Unable to locate element: {\"method\":\"class name\",\"selector\":\"linksIntermedios\"}\n",
      "  (Session info: chrome=64.0.3282.140)\n",
      "  (Driver info: chromedriver=2.35.528157 (4429ca2590d6988c0745c24c8858745aaaec01ef),platform=Mac OS X 10.13.3 x86_64)\n",
      "\n"
     ]
    },
    {
     "name": "stdout",
     "output_type": "stream",
     "text": [
      "No contract data per_planta in http://www.gobiernotransparentechile.cl/directorio/entidad/15/219\n",
      "No contract data per_contrata in http://www.gobiernotransparentechile.cl/directorio/entidad/15/219\n"
     ]
    },
    {
     "name": "stderr",
     "output_type": "stream",
     "text": [
      "Traceback (most recent call last):\n",
      "  File \"./lib/functions.py\", line 103, in getDepartmentData\n",
      "    for l in years_links_list:\n",
      "  File \"/Users/jaime/anaconda3/lib/python3.6/site-packages/selenium/webdriver/remote/webdriver.py\", line 555, in find_element_by_class_name\n",
      "    return self.find_element(by=By.CLASS_NAME, value=name)\n",
      "  File \"/Users/jaime/anaconda3/lib/python3.6/site-packages/selenium/webdriver/remote/webdriver.py\", line 955, in find_element\n",
      "    'value': value})['value']\n",
      "  File \"/Users/jaime/anaconda3/lib/python3.6/site-packages/selenium/webdriver/remote/webdriver.py\", line 312, in execute\n",
      "    self.error_handler.check_response(response)\n",
      "  File \"/Users/jaime/anaconda3/lib/python3.6/site-packages/selenium/webdriver/remote/errorhandler.py\", line 237, in check_response\n",
      "    raise exception_class(message, screen, stacktrace)\n",
      "selenium.common.exceptions.NoSuchElementException: Message: no such element: Unable to locate element: {\"method\":\"class name\",\"selector\":\"linksIntermedios\"}\n",
      "  (Session info: chrome=64.0.3282.140)\n",
      "  (Driver info: chromedriver=2.35.528157 (4429ca2590d6988c0745c24c8858745aaaec01ef),platform=Mac OS X 10.13.3 x86_64)\n",
      "\n"
     ]
    },
    {
     "data": {
      "application/vnd.jupyter.widget-view+json": {
       "model_id": "373f7e3bbcae43fe82c27aa96efa8062",
       "version_major": 2,
       "version_minor": 0
      },
      "text/plain": [
       "A Jupyter Widget"
      ]
     },
     "metadata": {},
     "output_type": "display_data"
    },
    {
     "name": "stdout",
     "output_type": "stream",
     "text": [
      "\n",
      "Servicio de Salud Bío-Bío\n"
     ]
    },
    {
     "name": "stderr",
     "output_type": "stream",
     "text": [
      "Traceback (most recent call last):\n",
      "  File \"./lib/functions.py\", line 103, in getDepartmentData\n",
      "    for l in years_links_list:\n",
      "  File \"/Users/jaime/anaconda3/lib/python3.6/site-packages/selenium/webdriver/remote/webdriver.py\", line 555, in find_element_by_class_name\n",
      "    return self.find_element(by=By.CLASS_NAME, value=name)\n",
      "  File \"/Users/jaime/anaconda3/lib/python3.6/site-packages/selenium/webdriver/remote/webdriver.py\", line 955, in find_element\n",
      "    'value': value})['value']\n",
      "  File \"/Users/jaime/anaconda3/lib/python3.6/site-packages/selenium/webdriver/remote/webdriver.py\", line 312, in execute\n",
      "    self.error_handler.check_response(response)\n",
      "  File \"/Users/jaime/anaconda3/lib/python3.6/site-packages/selenium/webdriver/remote/errorhandler.py\", line 237, in check_response\n",
      "    raise exception_class(message, screen, stacktrace)\n",
      "selenium.common.exceptions.NoSuchElementException: Message: no such element: Unable to locate element: {\"method\":\"class name\",\"selector\":\"linksIntermedios\"}\n",
      "  (Session info: chrome=64.0.3282.140)\n",
      "  (Driver info: chromedriver=2.35.528157 (4429ca2590d6988c0745c24c8858745aaaec01ef),platform=Mac OS X 10.13.3 x86_64)\n",
      "\n"
     ]
    },
    {
     "name": "stdout",
     "output_type": "stream",
     "text": [
      "No contract data per_planta in http://www.gobiernotransparentechile.cl/directorio/entidad/15/220\n",
      "No contract data per_contrata in http://www.gobiernotransparentechile.cl/directorio/entidad/15/220\n"
     ]
    },
    {
     "name": "stderr",
     "output_type": "stream",
     "text": [
      "Traceback (most recent call last):\n",
      "  File \"./lib/functions.py\", line 103, in getDepartmentData\n",
      "    for l in years_links_list:\n",
      "  File \"/Users/jaime/anaconda3/lib/python3.6/site-packages/selenium/webdriver/remote/webdriver.py\", line 555, in find_element_by_class_name\n",
      "    return self.find_element(by=By.CLASS_NAME, value=name)\n",
      "  File \"/Users/jaime/anaconda3/lib/python3.6/site-packages/selenium/webdriver/remote/webdriver.py\", line 955, in find_element\n",
      "    'value': value})['value']\n",
      "  File \"/Users/jaime/anaconda3/lib/python3.6/site-packages/selenium/webdriver/remote/webdriver.py\", line 312, in execute\n",
      "    self.error_handler.check_response(response)\n",
      "  File \"/Users/jaime/anaconda3/lib/python3.6/site-packages/selenium/webdriver/remote/errorhandler.py\", line 237, in check_response\n",
      "    raise exception_class(message, screen, stacktrace)\n",
      "selenium.common.exceptions.NoSuchElementException: Message: no such element: Unable to locate element: {\"method\":\"class name\",\"selector\":\"linksIntermedios\"}\n",
      "  (Session info: chrome=64.0.3282.140)\n",
      "  (Driver info: chromedriver=2.35.528157 (4429ca2590d6988c0745c24c8858745aaaec01ef),platform=Mac OS X 10.13.3 x86_64)\n",
      "\n"
     ]
    },
    {
     "data": {
      "application/vnd.jupyter.widget-view+json": {
       "model_id": "f1ff3b7735fa4649a94eb45abcd4d3e7",
       "version_major": 2,
       "version_minor": 0
      },
      "text/plain": [
       "A Jupyter Widget"
      ]
     },
     "metadata": {},
     "output_type": "display_data"
    },
    {
     "name": "stdout",
     "output_type": "stream",
     "text": [
      "\n",
      "Servicio de Salud Arauco\n"
     ]
    },
    {
     "name": "stderr",
     "output_type": "stream",
     "text": [
      "Traceback (most recent call last):\n",
      "  File \"./lib/functions.py\", line 103, in getDepartmentData\n",
      "    for l in years_links_list:\n",
      "  File \"/Users/jaime/anaconda3/lib/python3.6/site-packages/selenium/webdriver/remote/webdriver.py\", line 555, in find_element_by_class_name\n",
      "    return self.find_element(by=By.CLASS_NAME, value=name)\n",
      "  File \"/Users/jaime/anaconda3/lib/python3.6/site-packages/selenium/webdriver/remote/webdriver.py\", line 955, in find_element\n",
      "    'value': value})['value']\n",
      "  File \"/Users/jaime/anaconda3/lib/python3.6/site-packages/selenium/webdriver/remote/webdriver.py\", line 312, in execute\n",
      "    self.error_handler.check_response(response)\n",
      "  File \"/Users/jaime/anaconda3/lib/python3.6/site-packages/selenium/webdriver/remote/errorhandler.py\", line 237, in check_response\n",
      "    raise exception_class(message, screen, stacktrace)\n",
      "selenium.common.exceptions.NoSuchElementException: Message: no such element: Unable to locate element: {\"method\":\"class name\",\"selector\":\"linksIntermedios\"}\n",
      "  (Session info: chrome=64.0.3282.140)\n",
      "  (Driver info: chromedriver=2.35.528157 (4429ca2590d6988c0745c24c8858745aaaec01ef),platform=Mac OS X 10.13.3 x86_64)\n",
      "\n"
     ]
    },
    {
     "name": "stdout",
     "output_type": "stream",
     "text": [
      "No contract data per_planta in http://www.gobiernotransparentechile.cl/directorio/entidad/15/221\n",
      "No contract data per_contrata in http://www.gobiernotransparentechile.cl/directorio/entidad/15/221\n"
     ]
    },
    {
     "name": "stderr",
     "output_type": "stream",
     "text": [
      "Traceback (most recent call last):\n",
      "  File \"./lib/functions.py\", line 103, in getDepartmentData\n",
      "    for l in years_links_list:\n",
      "  File \"/Users/jaime/anaconda3/lib/python3.6/site-packages/selenium/webdriver/remote/webdriver.py\", line 555, in find_element_by_class_name\n",
      "    return self.find_element(by=By.CLASS_NAME, value=name)\n",
      "  File \"/Users/jaime/anaconda3/lib/python3.6/site-packages/selenium/webdriver/remote/webdriver.py\", line 955, in find_element\n",
      "    'value': value})['value']\n",
      "  File \"/Users/jaime/anaconda3/lib/python3.6/site-packages/selenium/webdriver/remote/webdriver.py\", line 312, in execute\n",
      "    self.error_handler.check_response(response)\n",
      "  File \"/Users/jaime/anaconda3/lib/python3.6/site-packages/selenium/webdriver/remote/errorhandler.py\", line 237, in check_response\n",
      "    raise exception_class(message, screen, stacktrace)\n",
      "selenium.common.exceptions.NoSuchElementException: Message: no such element: Unable to locate element: {\"method\":\"class name\",\"selector\":\"linksIntermedios\"}\n",
      "  (Session info: chrome=64.0.3282.140)\n",
      "  (Driver info: chromedriver=2.35.528157 (4429ca2590d6988c0745c24c8858745aaaec01ef),platform=Mac OS X 10.13.3 x86_64)\n",
      "\n"
     ]
    },
    {
     "data": {
      "application/vnd.jupyter.widget-view+json": {
       "model_id": "2c1bf7cfe66942f3a13cf4b8683d4aee",
       "version_major": 2,
       "version_minor": 0
      },
      "text/plain": [
       "A Jupyter Widget"
      ]
     },
     "metadata": {},
     "output_type": "display_data"
    },
    {
     "name": "stdout",
     "output_type": "stream",
     "text": [
      "\n",
      "Servicio de Salud Araucanía Norte\n"
     ]
    },
    {
     "name": "stderr",
     "output_type": "stream",
     "text": [
      "Traceback (most recent call last):\n",
      "  File \"./lib/functions.py\", line 103, in getDepartmentData\n",
      "    for l in years_links_list:\n",
      "  File \"/Users/jaime/anaconda3/lib/python3.6/site-packages/selenium/webdriver/remote/webdriver.py\", line 555, in find_element_by_class_name\n",
      "    return self.find_element(by=By.CLASS_NAME, value=name)\n",
      "  File \"/Users/jaime/anaconda3/lib/python3.6/site-packages/selenium/webdriver/remote/webdriver.py\", line 955, in find_element\n",
      "    'value': value})['value']\n",
      "  File \"/Users/jaime/anaconda3/lib/python3.6/site-packages/selenium/webdriver/remote/webdriver.py\", line 312, in execute\n",
      "    self.error_handler.check_response(response)\n",
      "  File \"/Users/jaime/anaconda3/lib/python3.6/site-packages/selenium/webdriver/remote/errorhandler.py\", line 237, in check_response\n",
      "    raise exception_class(message, screen, stacktrace)\n",
      "selenium.common.exceptions.NoSuchElementException: Message: no such element: Unable to locate element: {\"method\":\"class name\",\"selector\":\"linksIntermedios\"}\n",
      "  (Session info: chrome=64.0.3282.140)\n",
      "  (Driver info: chromedriver=2.35.528157 (4429ca2590d6988c0745c24c8858745aaaec01ef),platform=Mac OS X 10.13.3 x86_64)\n",
      "\n"
     ]
    },
    {
     "name": "stdout",
     "output_type": "stream",
     "text": [
      "No contract data per_planta in http://www.gobiernotransparentechile.cl/directorio/entidad/15/222\n",
      "No contract data per_contrata in http://www.gobiernotransparentechile.cl/directorio/entidad/15/222\n"
     ]
    },
    {
     "name": "stderr",
     "output_type": "stream",
     "text": [
      "Traceback (most recent call last):\n",
      "  File \"./lib/functions.py\", line 103, in getDepartmentData\n",
      "    for l in years_links_list:\n",
      "  File \"/Users/jaime/anaconda3/lib/python3.6/site-packages/selenium/webdriver/remote/webdriver.py\", line 555, in find_element_by_class_name\n",
      "    return self.find_element(by=By.CLASS_NAME, value=name)\n",
      "  File \"/Users/jaime/anaconda3/lib/python3.6/site-packages/selenium/webdriver/remote/webdriver.py\", line 955, in find_element\n",
      "    'value': value})['value']\n",
      "  File \"/Users/jaime/anaconda3/lib/python3.6/site-packages/selenium/webdriver/remote/webdriver.py\", line 312, in execute\n",
      "    self.error_handler.check_response(response)\n",
      "  File \"/Users/jaime/anaconda3/lib/python3.6/site-packages/selenium/webdriver/remote/errorhandler.py\", line 237, in check_response\n",
      "    raise exception_class(message, screen, stacktrace)\n",
      "selenium.common.exceptions.NoSuchElementException: Message: no such element: Unable to locate element: {\"method\":\"class name\",\"selector\":\"linksIntermedios\"}\n",
      "  (Session info: chrome=64.0.3282.140)\n",
      "  (Driver info: chromedriver=2.35.528157 (4429ca2590d6988c0745c24c8858745aaaec01ef),platform=Mac OS X 10.13.3 x86_64)\n",
      "\n"
     ]
    },
    {
     "data": {
      "application/vnd.jupyter.widget-view+json": {
       "model_id": "6185b893bb124eabbbcea539e5ab22c2",
       "version_major": 2,
       "version_minor": 0
      },
      "text/plain": [
       "A Jupyter Widget"
      ]
     },
     "metadata": {},
     "output_type": "display_data"
    },
    {
     "name": "stdout",
     "output_type": "stream",
     "text": [
      "\n",
      "Servicio de Salud Araucanía Sur\n"
     ]
    },
    {
     "name": "stderr",
     "output_type": "stream",
     "text": [
      "Traceback (most recent call last):\n",
      "  File \"./lib/functions.py\", line 103, in getDepartmentData\n",
      "    for l in years_links_list:\n",
      "  File \"/Users/jaime/anaconda3/lib/python3.6/site-packages/selenium/webdriver/remote/webdriver.py\", line 555, in find_element_by_class_name\n",
      "    return self.find_element(by=By.CLASS_NAME, value=name)\n",
      "  File \"/Users/jaime/anaconda3/lib/python3.6/site-packages/selenium/webdriver/remote/webdriver.py\", line 955, in find_element\n",
      "    'value': value})['value']\n",
      "  File \"/Users/jaime/anaconda3/lib/python3.6/site-packages/selenium/webdriver/remote/webdriver.py\", line 312, in execute\n",
      "    self.error_handler.check_response(response)\n",
      "  File \"/Users/jaime/anaconda3/lib/python3.6/site-packages/selenium/webdriver/remote/errorhandler.py\", line 237, in check_response\n",
      "    raise exception_class(message, screen, stacktrace)\n",
      "selenium.common.exceptions.NoSuchElementException: Message: no such element: Unable to locate element: {\"method\":\"class name\",\"selector\":\"linksIntermedios\"}\n",
      "  (Session info: chrome=64.0.3282.140)\n",
      "  (Driver info: chromedriver=2.35.528157 (4429ca2590d6988c0745c24c8858745aaaec01ef),platform=Mac OS X 10.13.3 x86_64)\n",
      "\n"
     ]
    },
    {
     "name": "stdout",
     "output_type": "stream",
     "text": [
      "No contract data per_planta in http://www.gobiernotransparentechile.cl/directorio/entidad/15/223\n",
      "No contract data per_contrata in http://www.gobiernotransparentechile.cl/directorio/entidad/15/223\n"
     ]
    },
    {
     "name": "stderr",
     "output_type": "stream",
     "text": [
      "Traceback (most recent call last):\n",
      "  File \"./lib/functions.py\", line 103, in getDepartmentData\n",
      "    for l in years_links_list:\n",
      "  File \"/Users/jaime/anaconda3/lib/python3.6/site-packages/selenium/webdriver/remote/webdriver.py\", line 555, in find_element_by_class_name\n",
      "    return self.find_element(by=By.CLASS_NAME, value=name)\n",
      "  File \"/Users/jaime/anaconda3/lib/python3.6/site-packages/selenium/webdriver/remote/webdriver.py\", line 955, in find_element\n",
      "    'value': value})['value']\n",
      "  File \"/Users/jaime/anaconda3/lib/python3.6/site-packages/selenium/webdriver/remote/webdriver.py\", line 312, in execute\n",
      "    self.error_handler.check_response(response)\n",
      "  File \"/Users/jaime/anaconda3/lib/python3.6/site-packages/selenium/webdriver/remote/errorhandler.py\", line 237, in check_response\n",
      "    raise exception_class(message, screen, stacktrace)\n",
      "selenium.common.exceptions.NoSuchElementException: Message: no such element: Unable to locate element: {\"method\":\"class name\",\"selector\":\"linksIntermedios\"}\n",
      "  (Session info: chrome=64.0.3282.140)\n",
      "  (Driver info: chromedriver=2.35.528157 (4429ca2590d6988c0745c24c8858745aaaec01ef),platform=Mac OS X 10.13.3 x86_64)\n",
      "\n"
     ]
    },
    {
     "data": {
      "application/vnd.jupyter.widget-view+json": {
       "model_id": "2dcda337bbb04b2eaef52bed2120167a",
       "version_major": 2,
       "version_minor": 0
      },
      "text/plain": [
       "A Jupyter Widget"
      ]
     },
     "metadata": {},
     "output_type": "display_data"
    },
    {
     "name": "stdout",
     "output_type": "stream",
     "text": [
      "\n",
      "Servicio de Salud Valdivia\n"
     ]
    },
    {
     "name": "stderr",
     "output_type": "stream",
     "text": [
      "Traceback (most recent call last):\n",
      "  File \"./lib/functions.py\", line 103, in getDepartmentData\n",
      "    for l in years_links_list:\n",
      "  File \"/Users/jaime/anaconda3/lib/python3.6/site-packages/selenium/webdriver/remote/webdriver.py\", line 555, in find_element_by_class_name\n",
      "    return self.find_element(by=By.CLASS_NAME, value=name)\n",
      "  File \"/Users/jaime/anaconda3/lib/python3.6/site-packages/selenium/webdriver/remote/webdriver.py\", line 955, in find_element\n",
      "    'value': value})['value']\n",
      "  File \"/Users/jaime/anaconda3/lib/python3.6/site-packages/selenium/webdriver/remote/webdriver.py\", line 312, in execute\n",
      "    self.error_handler.check_response(response)\n",
      "  File \"/Users/jaime/anaconda3/lib/python3.6/site-packages/selenium/webdriver/remote/errorhandler.py\", line 237, in check_response\n",
      "    raise exception_class(message, screen, stacktrace)\n",
      "selenium.common.exceptions.NoSuchElementException: Message: no such element: Unable to locate element: {\"method\":\"class name\",\"selector\":\"linksIntermedios\"}\n",
      "  (Session info: chrome=64.0.3282.140)\n",
      "  (Driver info: chromedriver=2.35.528157 (4429ca2590d6988c0745c24c8858745aaaec01ef),platform=Mac OS X 10.13.3 x86_64)\n",
      "\n"
     ]
    },
    {
     "name": "stdout",
     "output_type": "stream",
     "text": [
      "No contract data per_planta in http://www.gobiernotransparentechile.cl/directorio/entidad/15/224\n",
      "No contract data per_contrata in http://www.gobiernotransparentechile.cl/directorio/entidad/15/224\n"
     ]
    },
    {
     "name": "stderr",
     "output_type": "stream",
     "text": [
      "Traceback (most recent call last):\n",
      "  File \"./lib/functions.py\", line 103, in getDepartmentData\n",
      "    for l in years_links_list:\n",
      "  File \"/Users/jaime/anaconda3/lib/python3.6/site-packages/selenium/webdriver/remote/webdriver.py\", line 555, in find_element_by_class_name\n",
      "    return self.find_element(by=By.CLASS_NAME, value=name)\n",
      "  File \"/Users/jaime/anaconda3/lib/python3.6/site-packages/selenium/webdriver/remote/webdriver.py\", line 955, in find_element\n",
      "    'value': value})['value']\n",
      "  File \"/Users/jaime/anaconda3/lib/python3.6/site-packages/selenium/webdriver/remote/webdriver.py\", line 312, in execute\n",
      "    self.error_handler.check_response(response)\n",
      "  File \"/Users/jaime/anaconda3/lib/python3.6/site-packages/selenium/webdriver/remote/errorhandler.py\", line 237, in check_response\n",
      "    raise exception_class(message, screen, stacktrace)\n",
      "selenium.common.exceptions.NoSuchElementException: Message: no such element: Unable to locate element: {\"method\":\"class name\",\"selector\":\"linksIntermedios\"}\n",
      "  (Session info: chrome=64.0.3282.140)\n",
      "  (Driver info: chromedriver=2.35.528157 (4429ca2590d6988c0745c24c8858745aaaec01ef),platform=Mac OS X 10.13.3 x86_64)\n",
      "\n"
     ]
    },
    {
     "data": {
      "application/vnd.jupyter.widget-view+json": {
       "model_id": "76e069978f004332858d7e8a4528acaa",
       "version_major": 2,
       "version_minor": 0
      },
      "text/plain": [
       "A Jupyter Widget"
      ]
     },
     "metadata": {},
     "output_type": "display_data"
    },
    {
     "name": "stdout",
     "output_type": "stream",
     "text": [
      "\n",
      "Servicio de Salud Osorno\n"
     ]
    },
    {
     "name": "stderr",
     "output_type": "stream",
     "text": [
      "Traceback (most recent call last):\n",
      "  File \"./lib/functions.py\", line 103, in getDepartmentData\n",
      "    for l in years_links_list:\n",
      "  File \"/Users/jaime/anaconda3/lib/python3.6/site-packages/selenium/webdriver/remote/webdriver.py\", line 555, in find_element_by_class_name\n",
      "    return self.find_element(by=By.CLASS_NAME, value=name)\n",
      "  File \"/Users/jaime/anaconda3/lib/python3.6/site-packages/selenium/webdriver/remote/webdriver.py\", line 955, in find_element\n",
      "    'value': value})['value']\n",
      "  File \"/Users/jaime/anaconda3/lib/python3.6/site-packages/selenium/webdriver/remote/webdriver.py\", line 312, in execute\n",
      "    self.error_handler.check_response(response)\n",
      "  File \"/Users/jaime/anaconda3/lib/python3.6/site-packages/selenium/webdriver/remote/errorhandler.py\", line 237, in check_response\n",
      "    raise exception_class(message, screen, stacktrace)\n",
      "selenium.common.exceptions.NoSuchElementException: Message: no such element: Unable to locate element: {\"method\":\"class name\",\"selector\":\"linksIntermedios\"}\n",
      "  (Session info: chrome=64.0.3282.140)\n",
      "  (Driver info: chromedriver=2.35.528157 (4429ca2590d6988c0745c24c8858745aaaec01ef),platform=Mac OS X 10.13.3 x86_64)\n",
      "\n"
     ]
    },
    {
     "name": "stdout",
     "output_type": "stream",
     "text": [
      "No contract data per_planta in http://www.gobiernotransparentechile.cl/directorio/entidad/15/225\n",
      "No contract data per_contrata in http://www.gobiernotransparentechile.cl/directorio/entidad/15/225\n"
     ]
    },
    {
     "name": "stderr",
     "output_type": "stream",
     "text": [
      "Traceback (most recent call last):\n",
      "  File \"./lib/functions.py\", line 103, in getDepartmentData\n",
      "    for l in years_links_list:\n",
      "  File \"/Users/jaime/anaconda3/lib/python3.6/site-packages/selenium/webdriver/remote/webdriver.py\", line 555, in find_element_by_class_name\n",
      "    return self.find_element(by=By.CLASS_NAME, value=name)\n",
      "  File \"/Users/jaime/anaconda3/lib/python3.6/site-packages/selenium/webdriver/remote/webdriver.py\", line 955, in find_element\n",
      "    'value': value})['value']\n",
      "  File \"/Users/jaime/anaconda3/lib/python3.6/site-packages/selenium/webdriver/remote/webdriver.py\", line 312, in execute\n",
      "    self.error_handler.check_response(response)\n",
      "  File \"/Users/jaime/anaconda3/lib/python3.6/site-packages/selenium/webdriver/remote/errorhandler.py\", line 237, in check_response\n",
      "    raise exception_class(message, screen, stacktrace)\n",
      "selenium.common.exceptions.NoSuchElementException: Message: no such element: Unable to locate element: {\"method\":\"class name\",\"selector\":\"linksIntermedios\"}\n",
      "  (Session info: chrome=64.0.3282.140)\n",
      "  (Driver info: chromedriver=2.35.528157 (4429ca2590d6988c0745c24c8858745aaaec01ef),platform=Mac OS X 10.13.3 x86_64)\n",
      "\n"
     ]
    },
    {
     "data": {
      "application/vnd.jupyter.widget-view+json": {
       "model_id": "4b3432f07136425d97f8647b4bed202a",
       "version_major": 2,
       "version_minor": 0
      },
      "text/plain": [
       "A Jupyter Widget"
      ]
     },
     "metadata": {},
     "output_type": "display_data"
    },
    {
     "name": "stdout",
     "output_type": "stream",
     "text": [
      "\n",
      "Servicio de Salud de Chiloé\n"
     ]
    },
    {
     "name": "stderr",
     "output_type": "stream",
     "text": [
      "Traceback (most recent call last):\n",
      "  File \"./lib/functions.py\", line 103, in getDepartmentData\n",
      "    for l in years_links_list:\n",
      "  File \"/Users/jaime/anaconda3/lib/python3.6/site-packages/selenium/webdriver/remote/webdriver.py\", line 555, in find_element_by_class_name\n",
      "    return self.find_element(by=By.CLASS_NAME, value=name)\n",
      "  File \"/Users/jaime/anaconda3/lib/python3.6/site-packages/selenium/webdriver/remote/webdriver.py\", line 955, in find_element\n",
      "    'value': value})['value']\n",
      "  File \"/Users/jaime/anaconda3/lib/python3.6/site-packages/selenium/webdriver/remote/webdriver.py\", line 312, in execute\n",
      "    self.error_handler.check_response(response)\n",
      "  File \"/Users/jaime/anaconda3/lib/python3.6/site-packages/selenium/webdriver/remote/errorhandler.py\", line 237, in check_response\n",
      "    raise exception_class(message, screen, stacktrace)\n",
      "selenium.common.exceptions.NoSuchElementException: Message: no such element: Unable to locate element: {\"method\":\"class name\",\"selector\":\"linksIntermedios\"}\n",
      "  (Session info: chrome=64.0.3282.140)\n",
      "  (Driver info: chromedriver=2.35.528157 (4429ca2590d6988c0745c24c8858745aaaec01ef),platform=Mac OS X 10.13.3 x86_64)\n",
      "\n"
     ]
    },
    {
     "name": "stdout",
     "output_type": "stream",
     "text": [
      "No contract data per_planta in http://www.gobiernotransparentechile.cl/directorio/entidad/15/226\n",
      "No contract data per_contrata in http://www.gobiernotransparentechile.cl/directorio/entidad/15/226\n"
     ]
    },
    {
     "name": "stderr",
     "output_type": "stream",
     "text": [
      "Traceback (most recent call last):\n",
      "  File \"./lib/functions.py\", line 103, in getDepartmentData\n",
      "    for l in years_links_list:\n",
      "  File \"/Users/jaime/anaconda3/lib/python3.6/site-packages/selenium/webdriver/remote/webdriver.py\", line 555, in find_element_by_class_name\n",
      "    return self.find_element(by=By.CLASS_NAME, value=name)\n",
      "  File \"/Users/jaime/anaconda3/lib/python3.6/site-packages/selenium/webdriver/remote/webdriver.py\", line 955, in find_element\n",
      "    'value': value})['value']\n",
      "  File \"/Users/jaime/anaconda3/lib/python3.6/site-packages/selenium/webdriver/remote/webdriver.py\", line 312, in execute\n",
      "    self.error_handler.check_response(response)\n",
      "  File \"/Users/jaime/anaconda3/lib/python3.6/site-packages/selenium/webdriver/remote/errorhandler.py\", line 237, in check_response\n",
      "    raise exception_class(message, screen, stacktrace)\n",
      "selenium.common.exceptions.NoSuchElementException: Message: no such element: Unable to locate element: {\"method\":\"class name\",\"selector\":\"linksIntermedios\"}\n",
      "  (Session info: chrome=64.0.3282.140)\n",
      "  (Driver info: chromedriver=2.35.528157 (4429ca2590d6988c0745c24c8858745aaaec01ef),platform=Mac OS X 10.13.3 x86_64)\n",
      "\n"
     ]
    },
    {
     "data": {
      "application/vnd.jupyter.widget-view+json": {
       "model_id": "b208a4cca7ef439688a1a31000c79c64",
       "version_major": 2,
       "version_minor": 0
      },
      "text/plain": [
       "A Jupyter Widget"
      ]
     },
     "metadata": {},
     "output_type": "display_data"
    },
    {
     "name": "stdout",
     "output_type": "stream",
     "text": [
      "\n",
      "Servicio de Salud Aysén\n"
     ]
    },
    {
     "name": "stderr",
     "output_type": "stream",
     "text": [
      "Traceback (most recent call last):\n",
      "  File \"./lib/functions.py\", line 103, in getDepartmentData\n",
      "    for l in years_links_list:\n",
      "  File \"/Users/jaime/anaconda3/lib/python3.6/site-packages/selenium/webdriver/remote/webdriver.py\", line 555, in find_element_by_class_name\n",
      "    return self.find_element(by=By.CLASS_NAME, value=name)\n",
      "  File \"/Users/jaime/anaconda3/lib/python3.6/site-packages/selenium/webdriver/remote/webdriver.py\", line 955, in find_element\n",
      "    'value': value})['value']\n",
      "  File \"/Users/jaime/anaconda3/lib/python3.6/site-packages/selenium/webdriver/remote/webdriver.py\", line 312, in execute\n",
      "    self.error_handler.check_response(response)\n",
      "  File \"/Users/jaime/anaconda3/lib/python3.6/site-packages/selenium/webdriver/remote/errorhandler.py\", line 237, in check_response\n",
      "    raise exception_class(message, screen, stacktrace)\n",
      "selenium.common.exceptions.NoSuchElementException: Message: no such element: Unable to locate element: {\"method\":\"class name\",\"selector\":\"linksIntermedios\"}\n",
      "  (Session info: chrome=64.0.3282.140)\n",
      "  (Driver info: chromedriver=2.35.528157 (4429ca2590d6988c0745c24c8858745aaaec01ef),platform=Mac OS X 10.13.3 x86_64)\n",
      "\n"
     ]
    },
    {
     "name": "stdout",
     "output_type": "stream",
     "text": [
      "No contract data per_planta in http://www.gobiernotransparentechile.cl/directorio/entidad/15/227\n",
      "No contract data per_contrata in http://www.gobiernotransparentechile.cl/directorio/entidad/15/227\n"
     ]
    },
    {
     "name": "stderr",
     "output_type": "stream",
     "text": [
      "Traceback (most recent call last):\n",
      "  File \"./lib/functions.py\", line 103, in getDepartmentData\n",
      "    for l in years_links_list:\n",
      "  File \"/Users/jaime/anaconda3/lib/python3.6/site-packages/selenium/webdriver/remote/webdriver.py\", line 555, in find_element_by_class_name\n",
      "    return self.find_element(by=By.CLASS_NAME, value=name)\n",
      "  File \"/Users/jaime/anaconda3/lib/python3.6/site-packages/selenium/webdriver/remote/webdriver.py\", line 955, in find_element\n",
      "    'value': value})['value']\n",
      "  File \"/Users/jaime/anaconda3/lib/python3.6/site-packages/selenium/webdriver/remote/webdriver.py\", line 312, in execute\n",
      "    self.error_handler.check_response(response)\n",
      "  File \"/Users/jaime/anaconda3/lib/python3.6/site-packages/selenium/webdriver/remote/errorhandler.py\", line 237, in check_response\n",
      "    raise exception_class(message, screen, stacktrace)\n",
      "selenium.common.exceptions.NoSuchElementException: Message: no such element: Unable to locate element: {\"method\":\"class name\",\"selector\":\"linksIntermedios\"}\n",
      "  (Session info: chrome=64.0.3282.140)\n",
      "  (Driver info: chromedriver=2.35.528157 (4429ca2590d6988c0745c24c8858745aaaec01ef),platform=Mac OS X 10.13.3 x86_64)\n",
      "\n"
     ]
    },
    {
     "data": {
      "application/vnd.jupyter.widget-view+json": {
       "model_id": "3857e03c4ff641edad2306f6976f7812",
       "version_major": 2,
       "version_minor": 0
      },
      "text/plain": [
       "A Jupyter Widget"
      ]
     },
     "metadata": {},
     "output_type": "display_data"
    },
    {
     "name": "stdout",
     "output_type": "stream",
     "text": [
      "\n",
      "Servicio de Salud del Reloncaví\n"
     ]
    },
    {
     "name": "stderr",
     "output_type": "stream",
     "text": [
      "Traceback (most recent call last):\n",
      "  File \"./lib/functions.py\", line 103, in getDepartmentData\n",
      "    for l in years_links_list:\n",
      "  File \"/Users/jaime/anaconda3/lib/python3.6/site-packages/selenium/webdriver/remote/webdriver.py\", line 555, in find_element_by_class_name\n",
      "    return self.find_element(by=By.CLASS_NAME, value=name)\n",
      "  File \"/Users/jaime/anaconda3/lib/python3.6/site-packages/selenium/webdriver/remote/webdriver.py\", line 955, in find_element\n",
      "    'value': value})['value']\n",
      "  File \"/Users/jaime/anaconda3/lib/python3.6/site-packages/selenium/webdriver/remote/webdriver.py\", line 312, in execute\n",
      "    self.error_handler.check_response(response)\n",
      "  File \"/Users/jaime/anaconda3/lib/python3.6/site-packages/selenium/webdriver/remote/errorhandler.py\", line 237, in check_response\n",
      "    raise exception_class(message, screen, stacktrace)\n",
      "selenium.common.exceptions.NoSuchElementException: Message: no such element: Unable to locate element: {\"method\":\"class name\",\"selector\":\"linksIntermedios\"}\n",
      "  (Session info: chrome=64.0.3282.140)\n",
      "  (Driver info: chromedriver=2.35.528157 (4429ca2590d6988c0745c24c8858745aaaec01ef),platform=Mac OS X 10.13.3 x86_64)\n",
      "\n"
     ]
    },
    {
     "name": "stdout",
     "output_type": "stream",
     "text": [
      "No contract data per_planta in http://www.gobiernotransparentechile.cl/directorio/entidad/15/228\n",
      "No contract data per_contrata in http://www.gobiernotransparentechile.cl/directorio/entidad/15/228\n"
     ]
    },
    {
     "name": "stderr",
     "output_type": "stream",
     "text": [
      "Traceback (most recent call last):\n",
      "  File \"./lib/functions.py\", line 103, in getDepartmentData\n",
      "    for l in years_links_list:\n",
      "  File \"/Users/jaime/anaconda3/lib/python3.6/site-packages/selenium/webdriver/remote/webdriver.py\", line 555, in find_element_by_class_name\n",
      "    return self.find_element(by=By.CLASS_NAME, value=name)\n",
      "  File \"/Users/jaime/anaconda3/lib/python3.6/site-packages/selenium/webdriver/remote/webdriver.py\", line 955, in find_element\n",
      "    'value': value})['value']\n",
      "  File \"/Users/jaime/anaconda3/lib/python3.6/site-packages/selenium/webdriver/remote/webdriver.py\", line 312, in execute\n",
      "    self.error_handler.check_response(response)\n",
      "  File \"/Users/jaime/anaconda3/lib/python3.6/site-packages/selenium/webdriver/remote/errorhandler.py\", line 237, in check_response\n",
      "    raise exception_class(message, screen, stacktrace)\n",
      "selenium.common.exceptions.NoSuchElementException: Message: no such element: Unable to locate element: {\"method\":\"class name\",\"selector\":\"linksIntermedios\"}\n",
      "  (Session info: chrome=64.0.3282.140)\n",
      "  (Driver info: chromedriver=2.35.528157 (4429ca2590d6988c0745c24c8858745aaaec01ef),platform=Mac OS X 10.13.3 x86_64)\n",
      "\n"
     ]
    },
    {
     "data": {
      "application/vnd.jupyter.widget-view+json": {
       "model_id": "7ecbab8d35d946c690a72b762ec9d8d1",
       "version_major": 2,
       "version_minor": 0
      },
      "text/plain": [
       "A Jupyter Widget"
      ]
     },
     "metadata": {},
     "output_type": "display_data"
    },
    {
     "name": "stdout",
     "output_type": "stream",
     "text": [
      "\n",
      "Servicio de Salud Magallanes\n"
     ]
    },
    {
     "name": "stderr",
     "output_type": "stream",
     "text": [
      "Traceback (most recent call last):\n",
      "  File \"./lib/functions.py\", line 103, in getDepartmentData\n",
      "    for l in years_links_list:\n",
      "  File \"/Users/jaime/anaconda3/lib/python3.6/site-packages/selenium/webdriver/remote/webdriver.py\", line 555, in find_element_by_class_name\n",
      "    return self.find_element(by=By.CLASS_NAME, value=name)\n",
      "  File \"/Users/jaime/anaconda3/lib/python3.6/site-packages/selenium/webdriver/remote/webdriver.py\", line 955, in find_element\n",
      "    'value': value})['value']\n",
      "  File \"/Users/jaime/anaconda3/lib/python3.6/site-packages/selenium/webdriver/remote/webdriver.py\", line 312, in execute\n",
      "    self.error_handler.check_response(response)\n",
      "  File \"/Users/jaime/anaconda3/lib/python3.6/site-packages/selenium/webdriver/remote/errorhandler.py\", line 237, in check_response\n",
      "    raise exception_class(message, screen, stacktrace)\n",
      "selenium.common.exceptions.NoSuchElementException: Message: no such element: Unable to locate element: {\"method\":\"class name\",\"selector\":\"linksIntermedios\"}\n",
      "  (Session info: chrome=64.0.3282.140)\n",
      "  (Driver info: chromedriver=2.35.528157 (4429ca2590d6988c0745c24c8858745aaaec01ef),platform=Mac OS X 10.13.3 x86_64)\n",
      "\n"
     ]
    },
    {
     "name": "stdout",
     "output_type": "stream",
     "text": [
      "No contract data per_planta in http://www.gobiernotransparentechile.cl/directorio/entidad/15/229\n",
      "No contract data per_contrata in http://www.gobiernotransparentechile.cl/directorio/entidad/15/229\n"
     ]
    },
    {
     "name": "stderr",
     "output_type": "stream",
     "text": [
      "Traceback (most recent call last):\n",
      "  File \"./lib/functions.py\", line 103, in getDepartmentData\n",
      "    for l in years_links_list:\n",
      "  File \"/Users/jaime/anaconda3/lib/python3.6/site-packages/selenium/webdriver/remote/webdriver.py\", line 555, in find_element_by_class_name\n",
      "    return self.find_element(by=By.CLASS_NAME, value=name)\n",
      "  File \"/Users/jaime/anaconda3/lib/python3.6/site-packages/selenium/webdriver/remote/webdriver.py\", line 955, in find_element\n",
      "    'value': value})['value']\n",
      "  File \"/Users/jaime/anaconda3/lib/python3.6/site-packages/selenium/webdriver/remote/webdriver.py\", line 312, in execute\n",
      "    self.error_handler.check_response(response)\n",
      "  File \"/Users/jaime/anaconda3/lib/python3.6/site-packages/selenium/webdriver/remote/errorhandler.py\", line 237, in check_response\n",
      "    raise exception_class(message, screen, stacktrace)\n",
      "selenium.common.exceptions.NoSuchElementException: Message: no such element: Unable to locate element: {\"method\":\"class name\",\"selector\":\"linksIntermedios\"}\n",
      "  (Session info: chrome=64.0.3282.140)\n",
      "  (Driver info: chromedriver=2.35.528157 (4429ca2590d6988c0745c24c8858745aaaec01ef),platform=Mac OS X 10.13.3 x86_64)\n",
      "\n"
     ]
    },
    {
     "data": {
      "application/vnd.jupyter.widget-view+json": {
       "model_id": "1b69727c3f0c4cf69eb04cb14abf0e91",
       "version_major": 2,
       "version_minor": 0
      },
      "text/plain": [
       "A Jupyter Widget"
      ]
     },
     "metadata": {},
     "output_type": "display_data"
    },
    {
     "name": "stdout",
     "output_type": "stream",
     "text": [
      "\n",
      "Secretaría Regional Ministerial de Arica y Parinacota\n"
     ]
    },
    {
     "name": "stderr",
     "output_type": "stream",
     "text": [
      "Traceback (most recent call last):\n",
      "  File \"./lib/functions.py\", line 103, in getDepartmentData\n",
      "    for l in years_links_list:\n",
      "  File \"/Users/jaime/anaconda3/lib/python3.6/site-packages/selenium/webdriver/remote/webdriver.py\", line 555, in find_element_by_class_name\n",
      "    return self.find_element(by=By.CLASS_NAME, value=name)\n",
      "  File \"/Users/jaime/anaconda3/lib/python3.6/site-packages/selenium/webdriver/remote/webdriver.py\", line 955, in find_element\n",
      "    'value': value})['value']\n",
      "  File \"/Users/jaime/anaconda3/lib/python3.6/site-packages/selenium/webdriver/remote/webdriver.py\", line 312, in execute\n",
      "    self.error_handler.check_response(response)\n",
      "  File \"/Users/jaime/anaconda3/lib/python3.6/site-packages/selenium/webdriver/remote/errorhandler.py\", line 237, in check_response\n",
      "    raise exception_class(message, screen, stacktrace)\n",
      "selenium.common.exceptions.NoSuchElementException: Message: no such element: Unable to locate element: {\"method\":\"class name\",\"selector\":\"linksIntermedios\"}\n",
      "  (Session info: chrome=64.0.3282.140)\n",
      "  (Driver info: chromedriver=2.35.528157 (4429ca2590d6988c0745c24c8858745aaaec01ef),platform=Mac OS X 10.13.3 x86_64)\n",
      "\n"
     ]
    },
    {
     "name": "stdout",
     "output_type": "stream",
     "text": [
      "No contract data per_planta in http://www.gobiernotransparentechile.cl/directorio/entidad/15/230\n",
      "No contract data per_contrata in http://www.gobiernotransparentechile.cl/directorio/entidad/15/230\n"
     ]
    },
    {
     "name": "stderr",
     "output_type": "stream",
     "text": [
      "Traceback (most recent call last):\n",
      "  File \"./lib/functions.py\", line 103, in getDepartmentData\n",
      "    for l in years_links_list:\n",
      "  File \"/Users/jaime/anaconda3/lib/python3.6/site-packages/selenium/webdriver/remote/webdriver.py\", line 555, in find_element_by_class_name\n",
      "    return self.find_element(by=By.CLASS_NAME, value=name)\n",
      "  File \"/Users/jaime/anaconda3/lib/python3.6/site-packages/selenium/webdriver/remote/webdriver.py\", line 955, in find_element\n",
      "    'value': value})['value']\n",
      "  File \"/Users/jaime/anaconda3/lib/python3.6/site-packages/selenium/webdriver/remote/webdriver.py\", line 312, in execute\n",
      "    self.error_handler.check_response(response)\n",
      "  File \"/Users/jaime/anaconda3/lib/python3.6/site-packages/selenium/webdriver/remote/errorhandler.py\", line 237, in check_response\n",
      "    raise exception_class(message, screen, stacktrace)\n",
      "selenium.common.exceptions.NoSuchElementException: Message: no such element: Unable to locate element: {\"method\":\"class name\",\"selector\":\"linksIntermedios\"}\n",
      "  (Session info: chrome=64.0.3282.140)\n",
      "  (Driver info: chromedriver=2.35.528157 (4429ca2590d6988c0745c24c8858745aaaec01ef),platform=Mac OS X 10.13.3 x86_64)\n",
      "\n"
     ]
    },
    {
     "data": {
      "application/vnd.jupyter.widget-view+json": {
       "model_id": "996716f92be54902ab4fab23c412d1c9",
       "version_major": 2,
       "version_minor": 0
      },
      "text/plain": [
       "A Jupyter Widget"
      ]
     },
     "metadata": {},
     "output_type": "display_data"
    },
    {
     "name": "stdout",
     "output_type": "stream",
     "text": [
      "\n",
      "Secretaría Regional Ministerial de Tarapacá\n"
     ]
    },
    {
     "name": "stderr",
     "output_type": "stream",
     "text": [
      "Traceback (most recent call last):\n",
      "  File \"./lib/functions.py\", line 103, in getDepartmentData\n",
      "    for l in years_links_list:\n",
      "  File \"/Users/jaime/anaconda3/lib/python3.6/site-packages/selenium/webdriver/remote/webdriver.py\", line 555, in find_element_by_class_name\n",
      "    return self.find_element(by=By.CLASS_NAME, value=name)\n",
      "  File \"/Users/jaime/anaconda3/lib/python3.6/site-packages/selenium/webdriver/remote/webdriver.py\", line 955, in find_element\n",
      "    'value': value})['value']\n",
      "  File \"/Users/jaime/anaconda3/lib/python3.6/site-packages/selenium/webdriver/remote/webdriver.py\", line 312, in execute\n",
      "    self.error_handler.check_response(response)\n",
      "  File \"/Users/jaime/anaconda3/lib/python3.6/site-packages/selenium/webdriver/remote/errorhandler.py\", line 237, in check_response\n",
      "    raise exception_class(message, screen, stacktrace)\n",
      "selenium.common.exceptions.NoSuchElementException: Message: no such element: Unable to locate element: {\"method\":\"class name\",\"selector\":\"linksIntermedios\"}\n",
      "  (Session info: chrome=64.0.3282.140)\n",
      "  (Driver info: chromedriver=2.35.528157 (4429ca2590d6988c0745c24c8858745aaaec01ef),platform=Mac OS X 10.13.3 x86_64)\n",
      "\n"
     ]
    },
    {
     "name": "stdout",
     "output_type": "stream",
     "text": [
      "No contract data per_planta in http://www.gobiernotransparentechile.cl/directorio/entidad/15/231\n",
      "No contract data per_contrata in http://www.gobiernotransparentechile.cl/directorio/entidad/15/231\n"
     ]
    },
    {
     "name": "stderr",
     "output_type": "stream",
     "text": [
      "Traceback (most recent call last):\n",
      "  File \"./lib/functions.py\", line 103, in getDepartmentData\n",
      "    for l in years_links_list:\n",
      "  File \"/Users/jaime/anaconda3/lib/python3.6/site-packages/selenium/webdriver/remote/webdriver.py\", line 555, in find_element_by_class_name\n",
      "    return self.find_element(by=By.CLASS_NAME, value=name)\n",
      "  File \"/Users/jaime/anaconda3/lib/python3.6/site-packages/selenium/webdriver/remote/webdriver.py\", line 955, in find_element\n",
      "    'value': value})['value']\n",
      "  File \"/Users/jaime/anaconda3/lib/python3.6/site-packages/selenium/webdriver/remote/webdriver.py\", line 312, in execute\n",
      "    self.error_handler.check_response(response)\n",
      "  File \"/Users/jaime/anaconda3/lib/python3.6/site-packages/selenium/webdriver/remote/errorhandler.py\", line 237, in check_response\n",
      "    raise exception_class(message, screen, stacktrace)\n",
      "selenium.common.exceptions.NoSuchElementException: Message: no such element: Unable to locate element: {\"method\":\"class name\",\"selector\":\"linksIntermedios\"}\n",
      "  (Session info: chrome=64.0.3282.140)\n",
      "  (Driver info: chromedriver=2.35.528157 (4429ca2590d6988c0745c24c8858745aaaec01ef),platform=Mac OS X 10.13.3 x86_64)\n",
      "\n"
     ]
    },
    {
     "data": {
      "application/vnd.jupyter.widget-view+json": {
       "model_id": "3f387bb4e2f544aeb3faea2a3a6a4516",
       "version_major": 2,
       "version_minor": 0
      },
      "text/plain": [
       "A Jupyter Widget"
      ]
     },
     "metadata": {},
     "output_type": "display_data"
    },
    {
     "name": "stdout",
     "output_type": "stream",
     "text": [
      "\n",
      "Secretaría Regional Ministerial de Antofagasta\n"
     ]
    },
    {
     "name": "stderr",
     "output_type": "stream",
     "text": [
      "Traceback (most recent call last):\n",
      "  File \"./lib/functions.py\", line 103, in getDepartmentData\n",
      "    for l in years_links_list:\n",
      "  File \"/Users/jaime/anaconda3/lib/python3.6/site-packages/selenium/webdriver/remote/webdriver.py\", line 555, in find_element_by_class_name\n",
      "    return self.find_element(by=By.CLASS_NAME, value=name)\n",
      "  File \"/Users/jaime/anaconda3/lib/python3.6/site-packages/selenium/webdriver/remote/webdriver.py\", line 955, in find_element\n",
      "    'value': value})['value']\n",
      "  File \"/Users/jaime/anaconda3/lib/python3.6/site-packages/selenium/webdriver/remote/webdriver.py\", line 312, in execute\n",
      "    self.error_handler.check_response(response)\n",
      "  File \"/Users/jaime/anaconda3/lib/python3.6/site-packages/selenium/webdriver/remote/errorhandler.py\", line 237, in check_response\n",
      "    raise exception_class(message, screen, stacktrace)\n",
      "selenium.common.exceptions.NoSuchElementException: Message: no such element: Unable to locate element: {\"method\":\"class name\",\"selector\":\"linksIntermedios\"}\n",
      "  (Session info: chrome=64.0.3282.140)\n",
      "  (Driver info: chromedriver=2.35.528157 (4429ca2590d6988c0745c24c8858745aaaec01ef),platform=Mac OS X 10.13.3 x86_64)\n",
      "\n"
     ]
    },
    {
     "name": "stdout",
     "output_type": "stream",
     "text": [
      "No contract data per_planta in http://www.gobiernotransparentechile.cl/directorio/entidad/15/232\n",
      "No contract data per_contrata in http://www.gobiernotransparentechile.cl/directorio/entidad/15/232\n"
     ]
    },
    {
     "name": "stderr",
     "output_type": "stream",
     "text": [
      "Traceback (most recent call last):\n",
      "  File \"./lib/functions.py\", line 103, in getDepartmentData\n",
      "    for l in years_links_list:\n",
      "  File \"/Users/jaime/anaconda3/lib/python3.6/site-packages/selenium/webdriver/remote/webdriver.py\", line 555, in find_element_by_class_name\n",
      "    return self.find_element(by=By.CLASS_NAME, value=name)\n",
      "  File \"/Users/jaime/anaconda3/lib/python3.6/site-packages/selenium/webdriver/remote/webdriver.py\", line 955, in find_element\n",
      "    'value': value})['value']\n",
      "  File \"/Users/jaime/anaconda3/lib/python3.6/site-packages/selenium/webdriver/remote/webdriver.py\", line 312, in execute\n",
      "    self.error_handler.check_response(response)\n",
      "  File \"/Users/jaime/anaconda3/lib/python3.6/site-packages/selenium/webdriver/remote/errorhandler.py\", line 237, in check_response\n",
      "    raise exception_class(message, screen, stacktrace)\n",
      "selenium.common.exceptions.NoSuchElementException: Message: no such element: Unable to locate element: {\"method\":\"class name\",\"selector\":\"linksIntermedios\"}\n",
      "  (Session info: chrome=64.0.3282.140)\n",
      "  (Driver info: chromedriver=2.35.528157 (4429ca2590d6988c0745c24c8858745aaaec01ef),platform=Mac OS X 10.13.3 x86_64)\n",
      "\n"
     ]
    },
    {
     "data": {
      "application/vnd.jupyter.widget-view+json": {
       "model_id": "b2cb6e0882c3458a8080369fa5fb2e55",
       "version_major": 2,
       "version_minor": 0
      },
      "text/plain": [
       "A Jupyter Widget"
      ]
     },
     "metadata": {},
     "output_type": "display_data"
    },
    {
     "name": "stdout",
     "output_type": "stream",
     "text": [
      "\n",
      "Secretaría Regional Ministerial de Atacama\n"
     ]
    },
    {
     "name": "stderr",
     "output_type": "stream",
     "text": [
      "Traceback (most recent call last):\n",
      "  File \"./lib/functions.py\", line 103, in getDepartmentData\n",
      "    for l in years_links_list:\n",
      "  File \"/Users/jaime/anaconda3/lib/python3.6/site-packages/selenium/webdriver/remote/webdriver.py\", line 555, in find_element_by_class_name\n",
      "    return self.find_element(by=By.CLASS_NAME, value=name)\n",
      "  File \"/Users/jaime/anaconda3/lib/python3.6/site-packages/selenium/webdriver/remote/webdriver.py\", line 955, in find_element\n",
      "    'value': value})['value']\n",
      "  File \"/Users/jaime/anaconda3/lib/python3.6/site-packages/selenium/webdriver/remote/webdriver.py\", line 312, in execute\n",
      "    self.error_handler.check_response(response)\n",
      "  File \"/Users/jaime/anaconda3/lib/python3.6/site-packages/selenium/webdriver/remote/errorhandler.py\", line 237, in check_response\n",
      "    raise exception_class(message, screen, stacktrace)\n",
      "selenium.common.exceptions.NoSuchElementException: Message: no such element: Unable to locate element: {\"method\":\"class name\",\"selector\":\"linksIntermedios\"}\n",
      "  (Session info: chrome=64.0.3282.140)\n",
      "  (Driver info: chromedriver=2.35.528157 (4429ca2590d6988c0745c24c8858745aaaec01ef),platform=Mac OS X 10.13.3 x86_64)\n",
      "\n"
     ]
    },
    {
     "name": "stdout",
     "output_type": "stream",
     "text": [
      "No contract data per_planta in http://www.gobiernotransparentechile.cl/directorio/entidad/15/233\n",
      "No contract data per_contrata in http://www.gobiernotransparentechile.cl/directorio/entidad/15/233\n"
     ]
    },
    {
     "name": "stderr",
     "output_type": "stream",
     "text": [
      "Traceback (most recent call last):\n",
      "  File \"./lib/functions.py\", line 103, in getDepartmentData\n",
      "    for l in years_links_list:\n",
      "  File \"/Users/jaime/anaconda3/lib/python3.6/site-packages/selenium/webdriver/remote/webdriver.py\", line 555, in find_element_by_class_name\n",
      "    return self.find_element(by=By.CLASS_NAME, value=name)\n",
      "  File \"/Users/jaime/anaconda3/lib/python3.6/site-packages/selenium/webdriver/remote/webdriver.py\", line 955, in find_element\n",
      "    'value': value})['value']\n",
      "  File \"/Users/jaime/anaconda3/lib/python3.6/site-packages/selenium/webdriver/remote/webdriver.py\", line 312, in execute\n",
      "    self.error_handler.check_response(response)\n",
      "  File \"/Users/jaime/anaconda3/lib/python3.6/site-packages/selenium/webdriver/remote/errorhandler.py\", line 237, in check_response\n",
      "    raise exception_class(message, screen, stacktrace)\n",
      "selenium.common.exceptions.NoSuchElementException: Message: no such element: Unable to locate element: {\"method\":\"class name\",\"selector\":\"linksIntermedios\"}\n",
      "  (Session info: chrome=64.0.3282.140)\n",
      "  (Driver info: chromedriver=2.35.528157 (4429ca2590d6988c0745c24c8858745aaaec01ef),platform=Mac OS X 10.13.3 x86_64)\n",
      "\n"
     ]
    },
    {
     "data": {
      "application/vnd.jupyter.widget-view+json": {
       "model_id": "989298a860a24c6ea0d8dd4887ceeb8b",
       "version_major": 2,
       "version_minor": 0
      },
      "text/plain": [
       "A Jupyter Widget"
      ]
     },
     "metadata": {},
     "output_type": "display_data"
    },
    {
     "name": "stdout",
     "output_type": "stream",
     "text": [
      "\n",
      "Secretaría Regional Ministerial de Coquimbo\n"
     ]
    },
    {
     "name": "stderr",
     "output_type": "stream",
     "text": [
      "Traceback (most recent call last):\n",
      "  File \"./lib/functions.py\", line 103, in getDepartmentData\n",
      "    for l in years_links_list:\n",
      "  File \"/Users/jaime/anaconda3/lib/python3.6/site-packages/selenium/webdriver/remote/webdriver.py\", line 555, in find_element_by_class_name\n",
      "    return self.find_element(by=By.CLASS_NAME, value=name)\n",
      "  File \"/Users/jaime/anaconda3/lib/python3.6/site-packages/selenium/webdriver/remote/webdriver.py\", line 955, in find_element\n",
      "    'value': value})['value']\n",
      "  File \"/Users/jaime/anaconda3/lib/python3.6/site-packages/selenium/webdriver/remote/webdriver.py\", line 312, in execute\n",
      "    self.error_handler.check_response(response)\n",
      "  File \"/Users/jaime/anaconda3/lib/python3.6/site-packages/selenium/webdriver/remote/errorhandler.py\", line 237, in check_response\n",
      "    raise exception_class(message, screen, stacktrace)\n",
      "selenium.common.exceptions.NoSuchElementException: Message: no such element: Unable to locate element: {\"method\":\"class name\",\"selector\":\"linksIntermedios\"}\n",
      "  (Session info: chrome=64.0.3282.140)\n",
      "  (Driver info: chromedriver=2.35.528157 (4429ca2590d6988c0745c24c8858745aaaec01ef),platform=Mac OS X 10.13.3 x86_64)\n",
      "\n"
     ]
    },
    {
     "name": "stdout",
     "output_type": "stream",
     "text": [
      "No contract data per_planta in http://www.gobiernotransparentechile.cl/directorio/entidad/15/234\n",
      "No contract data per_contrata in http://www.gobiernotransparentechile.cl/directorio/entidad/15/234\n"
     ]
    },
    {
     "name": "stderr",
     "output_type": "stream",
     "text": [
      "Traceback (most recent call last):\n",
      "  File \"./lib/functions.py\", line 103, in getDepartmentData\n",
      "    for l in years_links_list:\n",
      "  File \"/Users/jaime/anaconda3/lib/python3.6/site-packages/selenium/webdriver/remote/webdriver.py\", line 555, in find_element_by_class_name\n",
      "    return self.find_element(by=By.CLASS_NAME, value=name)\n",
      "  File \"/Users/jaime/anaconda3/lib/python3.6/site-packages/selenium/webdriver/remote/webdriver.py\", line 955, in find_element\n",
      "    'value': value})['value']\n",
      "  File \"/Users/jaime/anaconda3/lib/python3.6/site-packages/selenium/webdriver/remote/webdriver.py\", line 312, in execute\n",
      "    self.error_handler.check_response(response)\n",
      "  File \"/Users/jaime/anaconda3/lib/python3.6/site-packages/selenium/webdriver/remote/errorhandler.py\", line 237, in check_response\n",
      "    raise exception_class(message, screen, stacktrace)\n",
      "selenium.common.exceptions.NoSuchElementException: Message: no such element: Unable to locate element: {\"method\":\"class name\",\"selector\":\"linksIntermedios\"}\n",
      "  (Session info: chrome=64.0.3282.140)\n",
      "  (Driver info: chromedriver=2.35.528157 (4429ca2590d6988c0745c24c8858745aaaec01ef),platform=Mac OS X 10.13.3 x86_64)\n",
      "\n"
     ]
    },
    {
     "data": {
      "application/vnd.jupyter.widget-view+json": {
       "model_id": "657fabc26df3424a9fec6db575adc2c2",
       "version_major": 2,
       "version_minor": 0
      },
      "text/plain": [
       "A Jupyter Widget"
      ]
     },
     "metadata": {},
     "output_type": "display_data"
    },
    {
     "name": "stdout",
     "output_type": "stream",
     "text": [
      "\n",
      "Secretaría Regional Ministerial de Valparaíso\n"
     ]
    },
    {
     "name": "stderr",
     "output_type": "stream",
     "text": [
      "Traceback (most recent call last):\n",
      "  File \"./lib/functions.py\", line 103, in getDepartmentData\n",
      "    for l in years_links_list:\n",
      "  File \"/Users/jaime/anaconda3/lib/python3.6/site-packages/selenium/webdriver/remote/webdriver.py\", line 555, in find_element_by_class_name\n",
      "    return self.find_element(by=By.CLASS_NAME, value=name)\n",
      "  File \"/Users/jaime/anaconda3/lib/python3.6/site-packages/selenium/webdriver/remote/webdriver.py\", line 955, in find_element\n",
      "    'value': value})['value']\n",
      "  File \"/Users/jaime/anaconda3/lib/python3.6/site-packages/selenium/webdriver/remote/webdriver.py\", line 312, in execute\n",
      "    self.error_handler.check_response(response)\n",
      "  File \"/Users/jaime/anaconda3/lib/python3.6/site-packages/selenium/webdriver/remote/errorhandler.py\", line 237, in check_response\n",
      "    raise exception_class(message, screen, stacktrace)\n",
      "selenium.common.exceptions.NoSuchElementException: Message: no such element: Unable to locate element: {\"method\":\"class name\",\"selector\":\"linksIntermedios\"}\n",
      "  (Session info: chrome=64.0.3282.140)\n",
      "  (Driver info: chromedriver=2.35.528157 (4429ca2590d6988c0745c24c8858745aaaec01ef),platform=Mac OS X 10.13.3 x86_64)\n",
      "\n"
     ]
    },
    {
     "name": "stdout",
     "output_type": "stream",
     "text": [
      "No contract data per_planta in http://www.gobiernotransparentechile.cl/directorio/entidad/15/235\n",
      "No contract data per_contrata in http://www.gobiernotransparentechile.cl/directorio/entidad/15/235\n"
     ]
    },
    {
     "name": "stderr",
     "output_type": "stream",
     "text": [
      "Traceback (most recent call last):\n",
      "  File \"./lib/functions.py\", line 103, in getDepartmentData\n",
      "    for l in years_links_list:\n",
      "  File \"/Users/jaime/anaconda3/lib/python3.6/site-packages/selenium/webdriver/remote/webdriver.py\", line 555, in find_element_by_class_name\n",
      "    return self.find_element(by=By.CLASS_NAME, value=name)\n",
      "  File \"/Users/jaime/anaconda3/lib/python3.6/site-packages/selenium/webdriver/remote/webdriver.py\", line 955, in find_element\n",
      "    'value': value})['value']\n",
      "  File \"/Users/jaime/anaconda3/lib/python3.6/site-packages/selenium/webdriver/remote/webdriver.py\", line 312, in execute\n",
      "    self.error_handler.check_response(response)\n",
      "  File \"/Users/jaime/anaconda3/lib/python3.6/site-packages/selenium/webdriver/remote/errorhandler.py\", line 237, in check_response\n",
      "    raise exception_class(message, screen, stacktrace)\n",
      "selenium.common.exceptions.NoSuchElementException: Message: no such element: Unable to locate element: {\"method\":\"class name\",\"selector\":\"linksIntermedios\"}\n",
      "  (Session info: chrome=64.0.3282.140)\n",
      "  (Driver info: chromedriver=2.35.528157 (4429ca2590d6988c0745c24c8858745aaaec01ef),platform=Mac OS X 10.13.3 x86_64)\n",
      "\n"
     ]
    },
    {
     "data": {
      "application/vnd.jupyter.widget-view+json": {
       "model_id": "e88bc269b33c462591c3bc636a328ad0",
       "version_major": 2,
       "version_minor": 0
      },
      "text/plain": [
       "A Jupyter Widget"
      ]
     },
     "metadata": {},
     "output_type": "display_data"
    },
    {
     "name": "stdout",
     "output_type": "stream",
     "text": [
      "\n",
      "Secretaría Regional Ministerial Metropolitano de Santiago\n"
     ]
    },
    {
     "name": "stderr",
     "output_type": "stream",
     "text": [
      "Traceback (most recent call last):\n",
      "  File \"./lib/functions.py\", line 103, in getDepartmentData\n",
      "    for l in years_links_list:\n",
      "  File \"/Users/jaime/anaconda3/lib/python3.6/site-packages/selenium/webdriver/remote/webdriver.py\", line 555, in find_element_by_class_name\n",
      "    return self.find_element(by=By.CLASS_NAME, value=name)\n",
      "  File \"/Users/jaime/anaconda3/lib/python3.6/site-packages/selenium/webdriver/remote/webdriver.py\", line 955, in find_element\n",
      "    'value': value})['value']\n",
      "  File \"/Users/jaime/anaconda3/lib/python3.6/site-packages/selenium/webdriver/remote/webdriver.py\", line 312, in execute\n",
      "    self.error_handler.check_response(response)\n",
      "  File \"/Users/jaime/anaconda3/lib/python3.6/site-packages/selenium/webdriver/remote/errorhandler.py\", line 237, in check_response\n",
      "    raise exception_class(message, screen, stacktrace)\n",
      "selenium.common.exceptions.NoSuchElementException: Message: no such element: Unable to locate element: {\"method\":\"class name\",\"selector\":\"linksIntermedios\"}\n",
      "  (Session info: chrome=64.0.3282.140)\n",
      "  (Driver info: chromedriver=2.35.528157 (4429ca2590d6988c0745c24c8858745aaaec01ef),platform=Mac OS X 10.13.3 x86_64)\n",
      "\n"
     ]
    },
    {
     "name": "stdout",
     "output_type": "stream",
     "text": [
      "No contract data per_planta in http://www.gobiernotransparentechile.cl/directorio/entidad/15/236\n",
      "No contract data per_contrata in http://www.gobiernotransparentechile.cl/directorio/entidad/15/236\n"
     ]
    },
    {
     "name": "stderr",
     "output_type": "stream",
     "text": [
      "Traceback (most recent call last):\n",
      "  File \"./lib/functions.py\", line 103, in getDepartmentData\n",
      "    for l in years_links_list:\n",
      "  File \"/Users/jaime/anaconda3/lib/python3.6/site-packages/selenium/webdriver/remote/webdriver.py\", line 555, in find_element_by_class_name\n",
      "    return self.find_element(by=By.CLASS_NAME, value=name)\n",
      "  File \"/Users/jaime/anaconda3/lib/python3.6/site-packages/selenium/webdriver/remote/webdriver.py\", line 955, in find_element\n",
      "    'value': value})['value']\n",
      "  File \"/Users/jaime/anaconda3/lib/python3.6/site-packages/selenium/webdriver/remote/webdriver.py\", line 312, in execute\n",
      "    self.error_handler.check_response(response)\n",
      "  File \"/Users/jaime/anaconda3/lib/python3.6/site-packages/selenium/webdriver/remote/errorhandler.py\", line 237, in check_response\n",
      "    raise exception_class(message, screen, stacktrace)\n",
      "selenium.common.exceptions.NoSuchElementException: Message: no such element: Unable to locate element: {\"method\":\"class name\",\"selector\":\"linksIntermedios\"}\n",
      "  (Session info: chrome=64.0.3282.140)\n",
      "  (Driver info: chromedriver=2.35.528157 (4429ca2590d6988c0745c24c8858745aaaec01ef),platform=Mac OS X 10.13.3 x86_64)\n",
      "\n"
     ]
    },
    {
     "data": {
      "application/vnd.jupyter.widget-view+json": {
       "model_id": "5f2c3dbf41c44d9eb767ab1cf01b7ec8",
       "version_major": 2,
       "version_minor": 0
      },
      "text/plain": [
       "A Jupyter Widget"
      ]
     },
     "metadata": {},
     "output_type": "display_data"
    },
    {
     "name": "stdout",
     "output_type": "stream",
     "text": [
      "\n",
      "Secretaría Regional Ministerial de O’Higgins\n"
     ]
    },
    {
     "name": "stderr",
     "output_type": "stream",
     "text": [
      "Traceback (most recent call last):\n",
      "  File \"./lib/functions.py\", line 103, in getDepartmentData\n",
      "    for l in years_links_list:\n",
      "  File \"/Users/jaime/anaconda3/lib/python3.6/site-packages/selenium/webdriver/remote/webdriver.py\", line 555, in find_element_by_class_name\n",
      "    return self.find_element(by=By.CLASS_NAME, value=name)\n",
      "  File \"/Users/jaime/anaconda3/lib/python3.6/site-packages/selenium/webdriver/remote/webdriver.py\", line 955, in find_element\n",
      "    'value': value})['value']\n",
      "  File \"/Users/jaime/anaconda3/lib/python3.6/site-packages/selenium/webdriver/remote/webdriver.py\", line 312, in execute\n",
      "    self.error_handler.check_response(response)\n",
      "  File \"/Users/jaime/anaconda3/lib/python3.6/site-packages/selenium/webdriver/remote/errorhandler.py\", line 237, in check_response\n",
      "    raise exception_class(message, screen, stacktrace)\n",
      "selenium.common.exceptions.NoSuchElementException: Message: no such element: Unable to locate element: {\"method\":\"class name\",\"selector\":\"linksIntermedios\"}\n",
      "  (Session info: chrome=64.0.3282.140)\n",
      "  (Driver info: chromedriver=2.35.528157 (4429ca2590d6988c0745c24c8858745aaaec01ef),platform=Mac OS X 10.13.3 x86_64)\n",
      "\n"
     ]
    },
    {
     "name": "stdout",
     "output_type": "stream",
     "text": [
      "No contract data per_planta in http://www.gobiernotransparentechile.cl/directorio/entidad/15/237\n",
      "No contract data per_contrata in http://www.gobiernotransparentechile.cl/directorio/entidad/15/237\n"
     ]
    },
    {
     "name": "stderr",
     "output_type": "stream",
     "text": [
      "Traceback (most recent call last):\n",
      "  File \"./lib/functions.py\", line 103, in getDepartmentData\n",
      "    for l in years_links_list:\n",
      "  File \"/Users/jaime/anaconda3/lib/python3.6/site-packages/selenium/webdriver/remote/webdriver.py\", line 555, in find_element_by_class_name\n",
      "    return self.find_element(by=By.CLASS_NAME, value=name)\n",
      "  File \"/Users/jaime/anaconda3/lib/python3.6/site-packages/selenium/webdriver/remote/webdriver.py\", line 955, in find_element\n",
      "    'value': value})['value']\n",
      "  File \"/Users/jaime/anaconda3/lib/python3.6/site-packages/selenium/webdriver/remote/webdriver.py\", line 312, in execute\n",
      "    self.error_handler.check_response(response)\n",
      "  File \"/Users/jaime/anaconda3/lib/python3.6/site-packages/selenium/webdriver/remote/errorhandler.py\", line 237, in check_response\n",
      "    raise exception_class(message, screen, stacktrace)\n",
      "selenium.common.exceptions.NoSuchElementException: Message: no such element: Unable to locate element: {\"method\":\"class name\",\"selector\":\"linksIntermedios\"}\n",
      "  (Session info: chrome=64.0.3282.140)\n",
      "  (Driver info: chromedriver=2.35.528157 (4429ca2590d6988c0745c24c8858745aaaec01ef),platform=Mac OS X 10.13.3 x86_64)\n",
      "\n"
     ]
    },
    {
     "data": {
      "application/vnd.jupyter.widget-view+json": {
       "model_id": "1ec131af636d4a14ac12c1795250775c",
       "version_major": 2,
       "version_minor": 0
      },
      "text/plain": [
       "A Jupyter Widget"
      ]
     },
     "metadata": {},
     "output_type": "display_data"
    },
    {
     "name": "stdout",
     "output_type": "stream",
     "text": [
      "\n",
      "Secretaría Regional Ministerial de Maule\n"
     ]
    },
    {
     "name": "stderr",
     "output_type": "stream",
     "text": [
      "Traceback (most recent call last):\n",
      "  File \"./lib/functions.py\", line 103, in getDepartmentData\n",
      "    for l in years_links_list:\n",
      "  File \"/Users/jaime/anaconda3/lib/python3.6/site-packages/selenium/webdriver/remote/webdriver.py\", line 555, in find_element_by_class_name\n",
      "    return self.find_element(by=By.CLASS_NAME, value=name)\n",
      "  File \"/Users/jaime/anaconda3/lib/python3.6/site-packages/selenium/webdriver/remote/webdriver.py\", line 955, in find_element\n",
      "    'value': value})['value']\n",
      "  File \"/Users/jaime/anaconda3/lib/python3.6/site-packages/selenium/webdriver/remote/webdriver.py\", line 312, in execute\n",
      "    self.error_handler.check_response(response)\n",
      "  File \"/Users/jaime/anaconda3/lib/python3.6/site-packages/selenium/webdriver/remote/errorhandler.py\", line 237, in check_response\n",
      "    raise exception_class(message, screen, stacktrace)\n",
      "selenium.common.exceptions.NoSuchElementException: Message: no such element: Unable to locate element: {\"method\":\"class name\",\"selector\":\"linksIntermedios\"}\n",
      "  (Session info: chrome=64.0.3282.140)\n",
      "  (Driver info: chromedriver=2.35.528157 (4429ca2590d6988c0745c24c8858745aaaec01ef),platform=Mac OS X 10.13.3 x86_64)\n",
      "\n"
     ]
    },
    {
     "name": "stdout",
     "output_type": "stream",
     "text": [
      "No contract data per_planta in http://www.gobiernotransparentechile.cl/directorio/entidad/15/238\n",
      "No contract data per_contrata in http://www.gobiernotransparentechile.cl/directorio/entidad/15/238\n"
     ]
    },
    {
     "name": "stderr",
     "output_type": "stream",
     "text": [
      "Traceback (most recent call last):\n",
      "  File \"./lib/functions.py\", line 103, in getDepartmentData\n",
      "    for l in years_links_list:\n",
      "  File \"/Users/jaime/anaconda3/lib/python3.6/site-packages/selenium/webdriver/remote/webdriver.py\", line 555, in find_element_by_class_name\n",
      "    return self.find_element(by=By.CLASS_NAME, value=name)\n",
      "  File \"/Users/jaime/anaconda3/lib/python3.6/site-packages/selenium/webdriver/remote/webdriver.py\", line 955, in find_element\n",
      "    'value': value})['value']\n",
      "  File \"/Users/jaime/anaconda3/lib/python3.6/site-packages/selenium/webdriver/remote/webdriver.py\", line 312, in execute\n",
      "    self.error_handler.check_response(response)\n",
      "  File \"/Users/jaime/anaconda3/lib/python3.6/site-packages/selenium/webdriver/remote/errorhandler.py\", line 237, in check_response\n",
      "    raise exception_class(message, screen, stacktrace)\n",
      "selenium.common.exceptions.NoSuchElementException: Message: no such element: Unable to locate element: {\"method\":\"class name\",\"selector\":\"linksIntermedios\"}\n",
      "  (Session info: chrome=64.0.3282.140)\n",
      "  (Driver info: chromedriver=2.35.528157 (4429ca2590d6988c0745c24c8858745aaaec01ef),platform=Mac OS X 10.13.3 x86_64)\n",
      "\n"
     ]
    },
    {
     "data": {
      "application/vnd.jupyter.widget-view+json": {
       "model_id": "d643bafa591c4ef2999fa2695a0b282c",
       "version_major": 2,
       "version_minor": 0
      },
      "text/plain": [
       "A Jupyter Widget"
      ]
     },
     "metadata": {},
     "output_type": "display_data"
    },
    {
     "name": "stdout",
     "output_type": "stream",
     "text": [
      "\n",
      "Secretaría Regional Ministerial del Bío-Bío\n"
     ]
    },
    {
     "name": "stderr",
     "output_type": "stream",
     "text": [
      "Traceback (most recent call last):\n",
      "  File \"./lib/functions.py\", line 103, in getDepartmentData\n",
      "    for l in years_links_list:\n",
      "  File \"/Users/jaime/anaconda3/lib/python3.6/site-packages/selenium/webdriver/remote/webdriver.py\", line 555, in find_element_by_class_name\n",
      "    return self.find_element(by=By.CLASS_NAME, value=name)\n",
      "  File \"/Users/jaime/anaconda3/lib/python3.6/site-packages/selenium/webdriver/remote/webdriver.py\", line 955, in find_element\n",
      "    'value': value})['value']\n",
      "  File \"/Users/jaime/anaconda3/lib/python3.6/site-packages/selenium/webdriver/remote/webdriver.py\", line 312, in execute\n",
      "    self.error_handler.check_response(response)\n",
      "  File \"/Users/jaime/anaconda3/lib/python3.6/site-packages/selenium/webdriver/remote/errorhandler.py\", line 237, in check_response\n",
      "    raise exception_class(message, screen, stacktrace)\n",
      "selenium.common.exceptions.NoSuchElementException: Message: no such element: Unable to locate element: {\"method\":\"class name\",\"selector\":\"linksIntermedios\"}\n",
      "  (Session info: chrome=64.0.3282.140)\n",
      "  (Driver info: chromedriver=2.35.528157 (4429ca2590d6988c0745c24c8858745aaaec01ef),platform=Mac OS X 10.13.3 x86_64)\n",
      "\n"
     ]
    },
    {
     "name": "stdout",
     "output_type": "stream",
     "text": [
      "No contract data per_planta in http://www.gobiernotransparentechile.cl/directorio/entidad/15/239\n",
      "No contract data per_contrata in http://www.gobiernotransparentechile.cl/directorio/entidad/15/239\n"
     ]
    },
    {
     "name": "stderr",
     "output_type": "stream",
     "text": [
      "Traceback (most recent call last):\n",
      "  File \"./lib/functions.py\", line 103, in getDepartmentData\n",
      "    for l in years_links_list:\n",
      "  File \"/Users/jaime/anaconda3/lib/python3.6/site-packages/selenium/webdriver/remote/webdriver.py\", line 555, in find_element_by_class_name\n",
      "    return self.find_element(by=By.CLASS_NAME, value=name)\n",
      "  File \"/Users/jaime/anaconda3/lib/python3.6/site-packages/selenium/webdriver/remote/webdriver.py\", line 955, in find_element\n",
      "    'value': value})['value']\n",
      "  File \"/Users/jaime/anaconda3/lib/python3.6/site-packages/selenium/webdriver/remote/webdriver.py\", line 312, in execute\n",
      "    self.error_handler.check_response(response)\n",
      "  File \"/Users/jaime/anaconda3/lib/python3.6/site-packages/selenium/webdriver/remote/errorhandler.py\", line 237, in check_response\n",
      "    raise exception_class(message, screen, stacktrace)\n",
      "selenium.common.exceptions.NoSuchElementException: Message: no such element: Unable to locate element: {\"method\":\"class name\",\"selector\":\"linksIntermedios\"}\n",
      "  (Session info: chrome=64.0.3282.140)\n",
      "  (Driver info: chromedriver=2.35.528157 (4429ca2590d6988c0745c24c8858745aaaec01ef),platform=Mac OS X 10.13.3 x86_64)\n",
      "\n"
     ]
    },
    {
     "data": {
      "application/vnd.jupyter.widget-view+json": {
       "model_id": "879f8b8e29d243a9b1a09db604a54b53",
       "version_major": 2,
       "version_minor": 0
      },
      "text/plain": [
       "A Jupyter Widget"
      ]
     },
     "metadata": {},
     "output_type": "display_data"
    },
    {
     "name": "stdout",
     "output_type": "stream",
     "text": [
      "\n",
      "Secretaría Regional Ministerial de La Araucanía\n"
     ]
    },
    {
     "name": "stderr",
     "output_type": "stream",
     "text": [
      "Traceback (most recent call last):\n",
      "  File \"./lib/functions.py\", line 103, in getDepartmentData\n",
      "    for l in years_links_list:\n",
      "  File \"/Users/jaime/anaconda3/lib/python3.6/site-packages/selenium/webdriver/remote/webdriver.py\", line 555, in find_element_by_class_name\n",
      "    return self.find_element(by=By.CLASS_NAME, value=name)\n",
      "  File \"/Users/jaime/anaconda3/lib/python3.6/site-packages/selenium/webdriver/remote/webdriver.py\", line 955, in find_element\n",
      "    'value': value})['value']\n",
      "  File \"/Users/jaime/anaconda3/lib/python3.6/site-packages/selenium/webdriver/remote/webdriver.py\", line 312, in execute\n",
      "    self.error_handler.check_response(response)\n",
      "  File \"/Users/jaime/anaconda3/lib/python3.6/site-packages/selenium/webdriver/remote/errorhandler.py\", line 237, in check_response\n",
      "    raise exception_class(message, screen, stacktrace)\n",
      "selenium.common.exceptions.NoSuchElementException: Message: no such element: Unable to locate element: {\"method\":\"class name\",\"selector\":\"linksIntermedios\"}\n",
      "  (Session info: chrome=64.0.3282.140)\n",
      "  (Driver info: chromedriver=2.35.528157 (4429ca2590d6988c0745c24c8858745aaaec01ef),platform=Mac OS X 10.13.3 x86_64)\n",
      "\n"
     ]
    },
    {
     "name": "stdout",
     "output_type": "stream",
     "text": [
      "No contract data per_planta in http://www.gobiernotransparentechile.cl/directorio/entidad/15/240\n",
      "No contract data per_contrata in http://www.gobiernotransparentechile.cl/directorio/entidad/15/240\n"
     ]
    },
    {
     "name": "stderr",
     "output_type": "stream",
     "text": [
      "Traceback (most recent call last):\n",
      "  File \"./lib/functions.py\", line 103, in getDepartmentData\n",
      "    for l in years_links_list:\n",
      "  File \"/Users/jaime/anaconda3/lib/python3.6/site-packages/selenium/webdriver/remote/webdriver.py\", line 555, in find_element_by_class_name\n",
      "    return self.find_element(by=By.CLASS_NAME, value=name)\n",
      "  File \"/Users/jaime/anaconda3/lib/python3.6/site-packages/selenium/webdriver/remote/webdriver.py\", line 955, in find_element\n",
      "    'value': value})['value']\n",
      "  File \"/Users/jaime/anaconda3/lib/python3.6/site-packages/selenium/webdriver/remote/webdriver.py\", line 312, in execute\n",
      "    self.error_handler.check_response(response)\n",
      "  File \"/Users/jaime/anaconda3/lib/python3.6/site-packages/selenium/webdriver/remote/errorhandler.py\", line 237, in check_response\n",
      "    raise exception_class(message, screen, stacktrace)\n",
      "selenium.common.exceptions.NoSuchElementException: Message: no such element: Unable to locate element: {\"method\":\"class name\",\"selector\":\"linksIntermedios\"}\n",
      "  (Session info: chrome=64.0.3282.140)\n",
      "  (Driver info: chromedriver=2.35.528157 (4429ca2590d6988c0745c24c8858745aaaec01ef),platform=Mac OS X 10.13.3 x86_64)\n",
      "\n"
     ]
    },
    {
     "data": {
      "application/vnd.jupyter.widget-view+json": {
       "model_id": "a63bb45759144ce8b9e8a3cf23b4f495",
       "version_major": 2,
       "version_minor": 0
      },
      "text/plain": [
       "A Jupyter Widget"
      ]
     },
     "metadata": {},
     "output_type": "display_data"
    },
    {
     "name": "stdout",
     "output_type": "stream",
     "text": [
      "\n",
      "Secretaría Regional Ministerial de Los Ríos\n"
     ]
    },
    {
     "name": "stderr",
     "output_type": "stream",
     "text": [
      "Traceback (most recent call last):\n",
      "  File \"./lib/functions.py\", line 103, in getDepartmentData\n",
      "    for l in years_links_list:\n",
      "  File \"/Users/jaime/anaconda3/lib/python3.6/site-packages/selenium/webdriver/remote/webdriver.py\", line 555, in find_element_by_class_name\n",
      "    return self.find_element(by=By.CLASS_NAME, value=name)\n",
      "  File \"/Users/jaime/anaconda3/lib/python3.6/site-packages/selenium/webdriver/remote/webdriver.py\", line 955, in find_element\n",
      "    'value': value})['value']\n",
      "  File \"/Users/jaime/anaconda3/lib/python3.6/site-packages/selenium/webdriver/remote/webdriver.py\", line 312, in execute\n",
      "    self.error_handler.check_response(response)\n",
      "  File \"/Users/jaime/anaconda3/lib/python3.6/site-packages/selenium/webdriver/remote/errorhandler.py\", line 237, in check_response\n",
      "    raise exception_class(message, screen, stacktrace)\n",
      "selenium.common.exceptions.NoSuchElementException: Message: no such element: Unable to locate element: {\"method\":\"class name\",\"selector\":\"linksIntermedios\"}\n",
      "  (Session info: chrome=64.0.3282.140)\n",
      "  (Driver info: chromedriver=2.35.528157 (4429ca2590d6988c0745c24c8858745aaaec01ef),platform=Mac OS X 10.13.3 x86_64)\n",
      "\n"
     ]
    },
    {
     "name": "stdout",
     "output_type": "stream",
     "text": [
      "No contract data per_planta in http://www.gobiernotransparentechile.cl/directorio/entidad/15/241\n",
      "No contract data per_contrata in http://www.gobiernotransparentechile.cl/directorio/entidad/15/241\n"
     ]
    },
    {
     "name": "stderr",
     "output_type": "stream",
     "text": [
      "Traceback (most recent call last):\n",
      "  File \"./lib/functions.py\", line 103, in getDepartmentData\n",
      "    for l in years_links_list:\n",
      "  File \"/Users/jaime/anaconda3/lib/python3.6/site-packages/selenium/webdriver/remote/webdriver.py\", line 555, in find_element_by_class_name\n",
      "    return self.find_element(by=By.CLASS_NAME, value=name)\n",
      "  File \"/Users/jaime/anaconda3/lib/python3.6/site-packages/selenium/webdriver/remote/webdriver.py\", line 955, in find_element\n",
      "    'value': value})['value']\n",
      "  File \"/Users/jaime/anaconda3/lib/python3.6/site-packages/selenium/webdriver/remote/webdriver.py\", line 312, in execute\n",
      "    self.error_handler.check_response(response)\n",
      "  File \"/Users/jaime/anaconda3/lib/python3.6/site-packages/selenium/webdriver/remote/errorhandler.py\", line 237, in check_response\n",
      "    raise exception_class(message, screen, stacktrace)\n",
      "selenium.common.exceptions.NoSuchElementException: Message: no such element: Unable to locate element: {\"method\":\"class name\",\"selector\":\"linksIntermedios\"}\n",
      "  (Session info: chrome=64.0.3282.140)\n",
      "  (Driver info: chromedriver=2.35.528157 (4429ca2590d6988c0745c24c8858745aaaec01ef),platform=Mac OS X 10.13.3 x86_64)\n",
      "\n"
     ]
    },
    {
     "data": {
      "application/vnd.jupyter.widget-view+json": {
       "model_id": "041e49e831a14de7a05c6190de5d8f03",
       "version_major": 2,
       "version_minor": 0
      },
      "text/plain": [
       "A Jupyter Widget"
      ]
     },
     "metadata": {},
     "output_type": "display_data"
    },
    {
     "name": "stdout",
     "output_type": "stream",
     "text": [
      "\n",
      "Secretaría Regional Ministerial de Los Lagos\n"
     ]
    },
    {
     "name": "stderr",
     "output_type": "stream",
     "text": [
      "Traceback (most recent call last):\n",
      "  File \"./lib/functions.py\", line 103, in getDepartmentData\n",
      "    for l in years_links_list:\n",
      "  File \"/Users/jaime/anaconda3/lib/python3.6/site-packages/selenium/webdriver/remote/webdriver.py\", line 555, in find_element_by_class_name\n",
      "    return self.find_element(by=By.CLASS_NAME, value=name)\n",
      "  File \"/Users/jaime/anaconda3/lib/python3.6/site-packages/selenium/webdriver/remote/webdriver.py\", line 955, in find_element\n",
      "    'value': value})['value']\n",
      "  File \"/Users/jaime/anaconda3/lib/python3.6/site-packages/selenium/webdriver/remote/webdriver.py\", line 312, in execute\n",
      "    self.error_handler.check_response(response)\n",
      "  File \"/Users/jaime/anaconda3/lib/python3.6/site-packages/selenium/webdriver/remote/errorhandler.py\", line 237, in check_response\n",
      "    raise exception_class(message, screen, stacktrace)\n",
      "selenium.common.exceptions.NoSuchElementException: Message: no such element: Unable to locate element: {\"method\":\"class name\",\"selector\":\"linksIntermedios\"}\n",
      "  (Session info: chrome=64.0.3282.140)\n",
      "  (Driver info: chromedriver=2.35.528157 (4429ca2590d6988c0745c24c8858745aaaec01ef),platform=Mac OS X 10.13.3 x86_64)\n",
      "\n"
     ]
    },
    {
     "name": "stdout",
     "output_type": "stream",
     "text": [
      "No contract data per_planta in http://www.gobiernotransparentechile.cl/directorio/entidad/15/242\n",
      "No contract data per_contrata in http://www.gobiernotransparentechile.cl/directorio/entidad/15/242\n"
     ]
    },
    {
     "name": "stderr",
     "output_type": "stream",
     "text": [
      "Traceback (most recent call last):\n",
      "  File \"./lib/functions.py\", line 103, in getDepartmentData\n",
      "    for l in years_links_list:\n",
      "  File \"/Users/jaime/anaconda3/lib/python3.6/site-packages/selenium/webdriver/remote/webdriver.py\", line 555, in find_element_by_class_name\n",
      "    return self.find_element(by=By.CLASS_NAME, value=name)\n",
      "  File \"/Users/jaime/anaconda3/lib/python3.6/site-packages/selenium/webdriver/remote/webdriver.py\", line 955, in find_element\n",
      "    'value': value})['value']\n",
      "  File \"/Users/jaime/anaconda3/lib/python3.6/site-packages/selenium/webdriver/remote/webdriver.py\", line 312, in execute\n",
      "    self.error_handler.check_response(response)\n",
      "  File \"/Users/jaime/anaconda3/lib/python3.6/site-packages/selenium/webdriver/remote/errorhandler.py\", line 237, in check_response\n",
      "    raise exception_class(message, screen, stacktrace)\n",
      "selenium.common.exceptions.NoSuchElementException: Message: no such element: Unable to locate element: {\"method\":\"class name\",\"selector\":\"linksIntermedios\"}\n",
      "  (Session info: chrome=64.0.3282.140)\n",
      "  (Driver info: chromedriver=2.35.528157 (4429ca2590d6988c0745c24c8858745aaaec01ef),platform=Mac OS X 10.13.3 x86_64)\n",
      "\n"
     ]
    },
    {
     "data": {
      "application/vnd.jupyter.widget-view+json": {
       "model_id": "1b22e7ed84ab4dd880ad6fd08e21b5e5",
       "version_major": 2,
       "version_minor": 0
      },
      "text/plain": [
       "A Jupyter Widget"
      ]
     },
     "metadata": {},
     "output_type": "display_data"
    },
    {
     "name": "stdout",
     "output_type": "stream",
     "text": [
      "\n",
      "Secretaría Regional Ministerial de Aysén\n"
     ]
    },
    {
     "name": "stderr",
     "output_type": "stream",
     "text": [
      "Traceback (most recent call last):\n",
      "  File \"./lib/functions.py\", line 103, in getDepartmentData\n",
      "    for l in years_links_list:\n",
      "  File \"/Users/jaime/anaconda3/lib/python3.6/site-packages/selenium/webdriver/remote/webdriver.py\", line 555, in find_element_by_class_name\n",
      "    return self.find_element(by=By.CLASS_NAME, value=name)\n",
      "  File \"/Users/jaime/anaconda3/lib/python3.6/site-packages/selenium/webdriver/remote/webdriver.py\", line 955, in find_element\n",
      "    'value': value})['value']\n",
      "  File \"/Users/jaime/anaconda3/lib/python3.6/site-packages/selenium/webdriver/remote/webdriver.py\", line 312, in execute\n",
      "    self.error_handler.check_response(response)\n",
      "  File \"/Users/jaime/anaconda3/lib/python3.6/site-packages/selenium/webdriver/remote/errorhandler.py\", line 237, in check_response\n",
      "    raise exception_class(message, screen, stacktrace)\n",
      "selenium.common.exceptions.NoSuchElementException: Message: no such element: Unable to locate element: {\"method\":\"class name\",\"selector\":\"linksIntermedios\"}\n",
      "  (Session info: chrome=64.0.3282.140)\n",
      "  (Driver info: chromedriver=2.35.528157 (4429ca2590d6988c0745c24c8858745aaaec01ef),platform=Mac OS X 10.13.3 x86_64)\n",
      "\n"
     ]
    },
    {
     "name": "stdout",
     "output_type": "stream",
     "text": [
      "No contract data per_planta in http://www.gobiernotransparentechile.cl/directorio/entidad/15/243\n",
      "No contract data per_contrata in http://www.gobiernotransparentechile.cl/directorio/entidad/15/243\n"
     ]
    },
    {
     "name": "stderr",
     "output_type": "stream",
     "text": [
      "Traceback (most recent call last):\n",
      "  File \"./lib/functions.py\", line 103, in getDepartmentData\n",
      "    for l in years_links_list:\n",
      "  File \"/Users/jaime/anaconda3/lib/python3.6/site-packages/selenium/webdriver/remote/webdriver.py\", line 555, in find_element_by_class_name\n",
      "    return self.find_element(by=By.CLASS_NAME, value=name)\n",
      "  File \"/Users/jaime/anaconda3/lib/python3.6/site-packages/selenium/webdriver/remote/webdriver.py\", line 955, in find_element\n",
      "    'value': value})['value']\n",
      "  File \"/Users/jaime/anaconda3/lib/python3.6/site-packages/selenium/webdriver/remote/webdriver.py\", line 312, in execute\n",
      "    self.error_handler.check_response(response)\n",
      "  File \"/Users/jaime/anaconda3/lib/python3.6/site-packages/selenium/webdriver/remote/errorhandler.py\", line 237, in check_response\n",
      "    raise exception_class(message, screen, stacktrace)\n",
      "selenium.common.exceptions.NoSuchElementException: Message: no such element: Unable to locate element: {\"method\":\"class name\",\"selector\":\"linksIntermedios\"}\n",
      "  (Session info: chrome=64.0.3282.140)\n",
      "  (Driver info: chromedriver=2.35.528157 (4429ca2590d6988c0745c24c8858745aaaec01ef),platform=Mac OS X 10.13.3 x86_64)\n",
      "\n"
     ]
    },
    {
     "data": {
      "application/vnd.jupyter.widget-view+json": {
       "model_id": "896a96370ee54c37af532f72412f18fb",
       "version_major": 2,
       "version_minor": 0
      },
      "text/plain": [
       "A Jupyter Widget"
      ]
     },
     "metadata": {},
     "output_type": "display_data"
    },
    {
     "name": "stdout",
     "output_type": "stream",
     "text": [
      "\n",
      "Secretaría Regional Ministerial de Magallanes y Antártica Chilena\n"
     ]
    },
    {
     "name": "stderr",
     "output_type": "stream",
     "text": [
      "Traceback (most recent call last):\n",
      "  File \"./lib/functions.py\", line 103, in getDepartmentData\n",
      "    for l in years_links_list:\n",
      "  File \"/Users/jaime/anaconda3/lib/python3.6/site-packages/selenium/webdriver/remote/webdriver.py\", line 555, in find_element_by_class_name\n",
      "    return self.find_element(by=By.CLASS_NAME, value=name)\n",
      "  File \"/Users/jaime/anaconda3/lib/python3.6/site-packages/selenium/webdriver/remote/webdriver.py\", line 955, in find_element\n",
      "    'value': value})['value']\n",
      "  File \"/Users/jaime/anaconda3/lib/python3.6/site-packages/selenium/webdriver/remote/webdriver.py\", line 312, in execute\n",
      "    self.error_handler.check_response(response)\n",
      "  File \"/Users/jaime/anaconda3/lib/python3.6/site-packages/selenium/webdriver/remote/errorhandler.py\", line 237, in check_response\n",
      "    raise exception_class(message, screen, stacktrace)\n",
      "selenium.common.exceptions.NoSuchElementException: Message: no such element: Unable to locate element: {\"method\":\"class name\",\"selector\":\"linksIntermedios\"}\n",
      "  (Session info: chrome=64.0.3282.140)\n",
      "  (Driver info: chromedriver=2.35.528157 (4429ca2590d6988c0745c24c8858745aaaec01ef),platform=Mac OS X 10.13.3 x86_64)\n",
      "\n"
     ]
    },
    {
     "name": "stdout",
     "output_type": "stream",
     "text": [
      "No contract data per_planta in http://www.gobiernotransparentechile.cl/directorio/entidad/15/244\n",
      "No contract data per_contrata in http://www.gobiernotransparentechile.cl/directorio/entidad/15/244\n"
     ]
    },
    {
     "name": "stderr",
     "output_type": "stream",
     "text": [
      "Traceback (most recent call last):\n",
      "  File \"./lib/functions.py\", line 103, in getDepartmentData\n",
      "    for l in years_links_list:\n",
      "  File \"/Users/jaime/anaconda3/lib/python3.6/site-packages/selenium/webdriver/remote/webdriver.py\", line 555, in find_element_by_class_name\n",
      "    return self.find_element(by=By.CLASS_NAME, value=name)\n",
      "  File \"/Users/jaime/anaconda3/lib/python3.6/site-packages/selenium/webdriver/remote/webdriver.py\", line 955, in find_element\n",
      "    'value': value})['value']\n",
      "  File \"/Users/jaime/anaconda3/lib/python3.6/site-packages/selenium/webdriver/remote/webdriver.py\", line 312, in execute\n",
      "    self.error_handler.check_response(response)\n",
      "  File \"/Users/jaime/anaconda3/lib/python3.6/site-packages/selenium/webdriver/remote/errorhandler.py\", line 237, in check_response\n",
      "    raise exception_class(message, screen, stacktrace)\n",
      "selenium.common.exceptions.NoSuchElementException: Message: no such element: Unable to locate element: {\"method\":\"class name\",\"selector\":\"linksIntermedios\"}\n",
      "  (Session info: chrome=64.0.3282.140)\n",
      "  (Driver info: chromedriver=2.35.528157 (4429ca2590d6988c0745c24c8858745aaaec01ef),platform=Mac OS X 10.13.3 x86_64)\n",
      "\n"
     ]
    },
    {
     "data": {
      "application/vnd.jupyter.widget-view+json": {
       "model_id": "ca7ae6a6a0694b4fb35b7cc8ecf2d949",
       "version_major": 2,
       "version_minor": 0
      },
      "text/plain": [
       "A Jupyter Widget"
      ]
     },
     "metadata": {},
     "output_type": "display_data"
    },
    {
     "name": "stdout",
     "output_type": "stream",
     "text": [
      "\n",
      "Hospital de San Camilo\n"
     ]
    },
    {
     "name": "stderr",
     "output_type": "stream",
     "text": [
      "Traceback (most recent call last):\n",
      "  File \"./lib/functions.py\", line 103, in getDepartmentData\n",
      "    for l in years_links_list:\n",
      "  File \"/Users/jaime/anaconda3/lib/python3.6/site-packages/selenium/webdriver/remote/webdriver.py\", line 555, in find_element_by_class_name\n",
      "    return self.find_element(by=By.CLASS_NAME, value=name)\n",
      "  File \"/Users/jaime/anaconda3/lib/python3.6/site-packages/selenium/webdriver/remote/webdriver.py\", line 955, in find_element\n",
      "    'value': value})['value']\n",
      "  File \"/Users/jaime/anaconda3/lib/python3.6/site-packages/selenium/webdriver/remote/webdriver.py\", line 312, in execute\n",
      "    self.error_handler.check_response(response)\n",
      "  File \"/Users/jaime/anaconda3/lib/python3.6/site-packages/selenium/webdriver/remote/errorhandler.py\", line 237, in check_response\n",
      "    raise exception_class(message, screen, stacktrace)\n",
      "selenium.common.exceptions.NoSuchElementException: Message: no such element: Unable to locate element: {\"method\":\"class name\",\"selector\":\"linksIntermedios\"}\n",
      "  (Session info: chrome=64.0.3282.140)\n",
      "  (Driver info: chromedriver=2.35.528157 (4429ca2590d6988c0745c24c8858745aaaec01ef),platform=Mac OS X 10.13.3 x86_64)\n",
      "\n"
     ]
    },
    {
     "name": "stdout",
     "output_type": "stream",
     "text": [
      "No contract data per_planta in http://www.gobiernotransparentechile.cl/directorio/entidad/15/286\n",
      "No contract data per_contrata in http://www.gobiernotransparentechile.cl/directorio/entidad/15/286\n"
     ]
    },
    {
     "name": "stderr",
     "output_type": "stream",
     "text": [
      "Traceback (most recent call last):\n",
      "  File \"./lib/functions.py\", line 103, in getDepartmentData\n",
      "    for l in years_links_list:\n",
      "  File \"/Users/jaime/anaconda3/lib/python3.6/site-packages/selenium/webdriver/remote/webdriver.py\", line 555, in find_element_by_class_name\n",
      "    return self.find_element(by=By.CLASS_NAME, value=name)\n",
      "  File \"/Users/jaime/anaconda3/lib/python3.6/site-packages/selenium/webdriver/remote/webdriver.py\", line 955, in find_element\n",
      "    'value': value})['value']\n",
      "  File \"/Users/jaime/anaconda3/lib/python3.6/site-packages/selenium/webdriver/remote/webdriver.py\", line 312, in execute\n",
      "    self.error_handler.check_response(response)\n",
      "  File \"/Users/jaime/anaconda3/lib/python3.6/site-packages/selenium/webdriver/remote/errorhandler.py\", line 237, in check_response\n",
      "    raise exception_class(message, screen, stacktrace)\n",
      "selenium.common.exceptions.NoSuchElementException: Message: no such element: Unable to locate element: {\"method\":\"class name\",\"selector\":\"linksIntermedios\"}\n",
      "  (Session info: chrome=64.0.3282.140)\n",
      "  (Driver info: chromedriver=2.35.528157 (4429ca2590d6988c0745c24c8858745aaaec01ef),platform=Mac OS X 10.13.3 x86_64)\n",
      "\n"
     ]
    },
    {
     "data": {
      "application/vnd.jupyter.widget-view+json": {
       "model_id": "d6364b8eb1f54045ab25e2382d1aa3f0",
       "version_major": 2,
       "version_minor": 0
      },
      "text/plain": [
       "A Jupyter Widget"
      ]
     },
     "metadata": {},
     "output_type": "display_data"
    },
    {
     "name": "stdout",
     "output_type": "stream",
     "text": [
      "\n",
      "Hospital Leonardo Guzmán de Antofagasta\n"
     ]
    },
    {
     "name": "stderr",
     "output_type": "stream",
     "text": [
      "Traceback (most recent call last):\n",
      "  File \"./lib/functions.py\", line 103, in getDepartmentData\n",
      "    for l in years_links_list:\n",
      "  File \"/Users/jaime/anaconda3/lib/python3.6/site-packages/selenium/webdriver/remote/webdriver.py\", line 555, in find_element_by_class_name\n",
      "    return self.find_element(by=By.CLASS_NAME, value=name)\n",
      "  File \"/Users/jaime/anaconda3/lib/python3.6/site-packages/selenium/webdriver/remote/webdriver.py\", line 955, in find_element\n",
      "    'value': value})['value']\n",
      "  File \"/Users/jaime/anaconda3/lib/python3.6/site-packages/selenium/webdriver/remote/webdriver.py\", line 312, in execute\n",
      "    self.error_handler.check_response(response)\n",
      "  File \"/Users/jaime/anaconda3/lib/python3.6/site-packages/selenium/webdriver/remote/errorhandler.py\", line 237, in check_response\n",
      "    raise exception_class(message, screen, stacktrace)\n",
      "selenium.common.exceptions.NoSuchElementException: Message: no such element: Unable to locate element: {\"method\":\"class name\",\"selector\":\"linksIntermedios\"}\n",
      "  (Session info: chrome=64.0.3282.140)\n",
      "  (Driver info: chromedriver=2.35.528157 (4429ca2590d6988c0745c24c8858745aaaec01ef),platform=Mac OS X 10.13.3 x86_64)\n",
      "\n"
     ]
    },
    {
     "name": "stdout",
     "output_type": "stream",
     "text": [
      "No contract data per_planta in http://www.gobiernotransparentechile.cl/directorio/entidad/15/287\n",
      "No contract data per_contrata in http://www.gobiernotransparentechile.cl/directorio/entidad/15/287\n"
     ]
    },
    {
     "name": "stderr",
     "output_type": "stream",
     "text": [
      "Traceback (most recent call last):\n",
      "  File \"./lib/functions.py\", line 103, in getDepartmentData\n",
      "    for l in years_links_list:\n",
      "  File \"/Users/jaime/anaconda3/lib/python3.6/site-packages/selenium/webdriver/remote/webdriver.py\", line 555, in find_element_by_class_name\n",
      "    return self.find_element(by=By.CLASS_NAME, value=name)\n",
      "  File \"/Users/jaime/anaconda3/lib/python3.6/site-packages/selenium/webdriver/remote/webdriver.py\", line 955, in find_element\n",
      "    'value': value})['value']\n",
      "  File \"/Users/jaime/anaconda3/lib/python3.6/site-packages/selenium/webdriver/remote/webdriver.py\", line 312, in execute\n",
      "    self.error_handler.check_response(response)\n",
      "  File \"/Users/jaime/anaconda3/lib/python3.6/site-packages/selenium/webdriver/remote/errorhandler.py\", line 237, in check_response\n",
      "    raise exception_class(message, screen, stacktrace)\n",
      "selenium.common.exceptions.NoSuchElementException: Message: no such element: Unable to locate element: {\"method\":\"class name\",\"selector\":\"linksIntermedios\"}\n",
      "  (Session info: chrome=64.0.3282.140)\n",
      "  (Driver info: chromedriver=2.35.528157 (4429ca2590d6988c0745c24c8858745aaaec01ef),platform=Mac OS X 10.13.3 x86_64)\n",
      "\n"
     ]
    },
    {
     "data": {
      "application/vnd.jupyter.widget-view+json": {
       "model_id": "0a009ead52ec42bf8a6cce6955fb2763",
       "version_major": 2,
       "version_minor": 0
      },
      "text/plain": [
       "A Jupyter Widget"
      ]
     },
     "metadata": {},
     "output_type": "display_data"
    },
    {
     "name": "stdout",
     "output_type": "stream",
     "text": [
      "\n",
      "Hospital de Victoria\n"
     ]
    },
    {
     "name": "stderr",
     "output_type": "stream",
     "text": [
      "Traceback (most recent call last):\n",
      "  File \"./lib/functions.py\", line 103, in getDepartmentData\n",
      "    for l in years_links_list:\n",
      "  File \"/Users/jaime/anaconda3/lib/python3.6/site-packages/selenium/webdriver/remote/webdriver.py\", line 555, in find_element_by_class_name\n",
      "    return self.find_element(by=By.CLASS_NAME, value=name)\n",
      "  File \"/Users/jaime/anaconda3/lib/python3.6/site-packages/selenium/webdriver/remote/webdriver.py\", line 955, in find_element\n",
      "    'value': value})['value']\n",
      "  File \"/Users/jaime/anaconda3/lib/python3.6/site-packages/selenium/webdriver/remote/webdriver.py\", line 312, in execute\n",
      "    self.error_handler.check_response(response)\n",
      "  File \"/Users/jaime/anaconda3/lib/python3.6/site-packages/selenium/webdriver/remote/errorhandler.py\", line 237, in check_response\n",
      "    raise exception_class(message, screen, stacktrace)\n",
      "selenium.common.exceptions.NoSuchElementException: Message: no such element: Unable to locate element: {\"method\":\"class name\",\"selector\":\"linksIntermedios\"}\n",
      "  (Session info: chrome=64.0.3282.140)\n",
      "  (Driver info: chromedriver=2.35.528157 (4429ca2590d6988c0745c24c8858745aaaec01ef),platform=Mac OS X 10.13.3 x86_64)\n",
      "\n"
     ]
    },
    {
     "name": "stdout",
     "output_type": "stream",
     "text": [
      "No contract data per_planta in http://www.gobiernotransparentechile.cl/directorio/entidad/15/288\n",
      "No contract data per_contrata in http://www.gobiernotransparentechile.cl/directorio/entidad/15/288\n"
     ]
    },
    {
     "name": "stderr",
     "output_type": "stream",
     "text": [
      "Traceback (most recent call last):\n",
      "  File \"./lib/functions.py\", line 103, in getDepartmentData\n",
      "    for l in years_links_list:\n",
      "  File \"/Users/jaime/anaconda3/lib/python3.6/site-packages/selenium/webdriver/remote/webdriver.py\", line 555, in find_element_by_class_name\n",
      "    return self.find_element(by=By.CLASS_NAME, value=name)\n",
      "  File \"/Users/jaime/anaconda3/lib/python3.6/site-packages/selenium/webdriver/remote/webdriver.py\", line 955, in find_element\n",
      "    'value': value})['value']\n",
      "  File \"/Users/jaime/anaconda3/lib/python3.6/site-packages/selenium/webdriver/remote/webdriver.py\", line 312, in execute\n",
      "    self.error_handler.check_response(response)\n",
      "  File \"/Users/jaime/anaconda3/lib/python3.6/site-packages/selenium/webdriver/remote/errorhandler.py\", line 237, in check_response\n",
      "    raise exception_class(message, screen, stacktrace)\n",
      "selenium.common.exceptions.NoSuchElementException: Message: no such element: Unable to locate element: {\"method\":\"class name\",\"selector\":\"linksIntermedios\"}\n",
      "  (Session info: chrome=64.0.3282.140)\n",
      "  (Driver info: chromedriver=2.35.528157 (4429ca2590d6988c0745c24c8858745aaaec01ef),platform=Mac OS X 10.13.3 x86_64)\n",
      "\n"
     ]
    },
    {
     "data": {
      "application/vnd.jupyter.widget-view+json": {
       "model_id": "d16ff8b99b494473a42003e42c176755",
       "version_major": 2,
       "version_minor": 0
      },
      "text/plain": [
       "A Jupyter Widget"
      ]
     },
     "metadata": {},
     "output_type": "display_data"
    },
    {
     "name": "stdout",
     "output_type": "stream",
     "text": [
      "\n",
      "Hospital Mauricio Heyermann de Angol\n"
     ]
    },
    {
     "name": "stderr",
     "output_type": "stream",
     "text": [
      "Traceback (most recent call last):\n",
      "  File \"./lib/functions.py\", line 103, in getDepartmentData\n",
      "    for l in years_links_list:\n",
      "  File \"/Users/jaime/anaconda3/lib/python3.6/site-packages/selenium/webdriver/remote/webdriver.py\", line 555, in find_element_by_class_name\n",
      "    return self.find_element(by=By.CLASS_NAME, value=name)\n",
      "  File \"/Users/jaime/anaconda3/lib/python3.6/site-packages/selenium/webdriver/remote/webdriver.py\", line 955, in find_element\n",
      "    'value': value})['value']\n",
      "  File \"/Users/jaime/anaconda3/lib/python3.6/site-packages/selenium/webdriver/remote/webdriver.py\", line 312, in execute\n",
      "    self.error_handler.check_response(response)\n",
      "  File \"/Users/jaime/anaconda3/lib/python3.6/site-packages/selenium/webdriver/remote/errorhandler.py\", line 237, in check_response\n",
      "    raise exception_class(message, screen, stacktrace)\n",
      "selenium.common.exceptions.NoSuchElementException: Message: no such element: Unable to locate element: {\"method\":\"class name\",\"selector\":\"linksIntermedios\"}\n",
      "  (Session info: chrome=64.0.3282.140)\n",
      "  (Driver info: chromedriver=2.35.528157 (4429ca2590d6988c0745c24c8858745aaaec01ef),platform=Mac OS X 10.13.3 x86_64)\n",
      "\n"
     ]
    },
    {
     "name": "stdout",
     "output_type": "stream",
     "text": [
      "No contract data per_planta in http://www.gobiernotransparentechile.cl/directorio/entidad/15/289\n",
      "No contract data per_contrata in http://www.gobiernotransparentechile.cl/directorio/entidad/15/289\n"
     ]
    },
    {
     "name": "stderr",
     "output_type": "stream",
     "text": [
      "Traceback (most recent call last):\n",
      "  File \"./lib/functions.py\", line 103, in getDepartmentData\n",
      "    for l in years_links_list:\n",
      "  File \"/Users/jaime/anaconda3/lib/python3.6/site-packages/selenium/webdriver/remote/webdriver.py\", line 555, in find_element_by_class_name\n",
      "    return self.find_element(by=By.CLASS_NAME, value=name)\n",
      "  File \"/Users/jaime/anaconda3/lib/python3.6/site-packages/selenium/webdriver/remote/webdriver.py\", line 955, in find_element\n",
      "    'value': value})['value']\n",
      "  File \"/Users/jaime/anaconda3/lib/python3.6/site-packages/selenium/webdriver/remote/webdriver.py\", line 312, in execute\n",
      "    self.error_handler.check_response(response)\n",
      "  File \"/Users/jaime/anaconda3/lib/python3.6/site-packages/selenium/webdriver/remote/errorhandler.py\", line 237, in check_response\n",
      "    raise exception_class(message, screen, stacktrace)\n",
      "selenium.common.exceptions.NoSuchElementException: Message: no such element: Unable to locate element: {\"method\":\"class name\",\"selector\":\"linksIntermedios\"}\n",
      "  (Session info: chrome=64.0.3282.140)\n",
      "  (Driver info: chromedriver=2.35.528157 (4429ca2590d6988c0745c24c8858745aaaec01ef),platform=Mac OS X 10.13.3 x86_64)\n",
      "\n"
     ]
    },
    {
     "data": {
      "application/vnd.jupyter.widget-view+json": {
       "model_id": "d78bac09899d4256aa966cbd72eb492e",
       "version_major": 2,
       "version_minor": 0
      },
      "text/plain": [
       "A Jupyter Widget"
      ]
     },
     "metadata": {},
     "output_type": "display_data"
    },
    {
     "name": "stdout",
     "output_type": "stream",
     "text": [
      "\n",
      "Hospital Juan Noé de Arica\n"
     ]
    },
    {
     "name": "stderr",
     "output_type": "stream",
     "text": [
      "Traceback (most recent call last):\n",
      "  File \"./lib/functions.py\", line 103, in getDepartmentData\n",
      "    for l in years_links_list:\n",
      "  File \"/Users/jaime/anaconda3/lib/python3.6/site-packages/selenium/webdriver/remote/webdriver.py\", line 555, in find_element_by_class_name\n",
      "    return self.find_element(by=By.CLASS_NAME, value=name)\n",
      "  File \"/Users/jaime/anaconda3/lib/python3.6/site-packages/selenium/webdriver/remote/webdriver.py\", line 955, in find_element\n",
      "    'value': value})['value']\n",
      "  File \"/Users/jaime/anaconda3/lib/python3.6/site-packages/selenium/webdriver/remote/webdriver.py\", line 312, in execute\n",
      "    self.error_handler.check_response(response)\n",
      "  File \"/Users/jaime/anaconda3/lib/python3.6/site-packages/selenium/webdriver/remote/errorhandler.py\", line 237, in check_response\n",
      "    raise exception_class(message, screen, stacktrace)\n",
      "selenium.common.exceptions.NoSuchElementException: Message: no such element: Unable to locate element: {\"method\":\"class name\",\"selector\":\"linksIntermedios\"}\n",
      "  (Session info: chrome=64.0.3282.140)\n",
      "  (Driver info: chromedriver=2.35.528157 (4429ca2590d6988c0745c24c8858745aaaec01ef),platform=Mac OS X 10.13.3 x86_64)\n",
      "\n"
     ]
    },
    {
     "name": "stdout",
     "output_type": "stream",
     "text": [
      "No contract data per_planta in http://www.gobiernotransparentechile.cl/directorio/entidad/15/290\n",
      "No contract data per_contrata in http://www.gobiernotransparentechile.cl/directorio/entidad/15/290\n"
     ]
    },
    {
     "name": "stderr",
     "output_type": "stream",
     "text": [
      "Traceback (most recent call last):\n",
      "  File \"./lib/functions.py\", line 103, in getDepartmentData\n",
      "    for l in years_links_list:\n",
      "  File \"/Users/jaime/anaconda3/lib/python3.6/site-packages/selenium/webdriver/remote/webdriver.py\", line 555, in find_element_by_class_name\n",
      "    return self.find_element(by=By.CLASS_NAME, value=name)\n",
      "  File \"/Users/jaime/anaconda3/lib/python3.6/site-packages/selenium/webdriver/remote/webdriver.py\", line 955, in find_element\n",
      "    'value': value})['value']\n",
      "  File \"/Users/jaime/anaconda3/lib/python3.6/site-packages/selenium/webdriver/remote/webdriver.py\", line 312, in execute\n",
      "    self.error_handler.check_response(response)\n",
      "  File \"/Users/jaime/anaconda3/lib/python3.6/site-packages/selenium/webdriver/remote/errorhandler.py\", line 237, in check_response\n",
      "    raise exception_class(message, screen, stacktrace)\n",
      "selenium.common.exceptions.NoSuchElementException: Message: no such element: Unable to locate element: {\"method\":\"class name\",\"selector\":\"linksIntermedios\"}\n",
      "  (Session info: chrome=64.0.3282.140)\n",
      "  (Driver info: chromedriver=2.35.528157 (4429ca2590d6988c0745c24c8858745aaaec01ef),platform=Mac OS X 10.13.3 x86_64)\n",
      "\n"
     ]
    },
    {
     "data": {
      "application/vnd.jupyter.widget-view+json": {
       "model_id": "7f092f383d91428b926295dcbe62a052",
       "version_major": 2,
       "version_minor": 0
      },
      "text/plain": [
       "A Jupyter Widget"
      ]
     },
     "metadata": {},
     "output_type": "display_data"
    },
    {
     "name": "stdout",
     "output_type": "stream",
     "text": [
      "\n",
      "Hospital Regional de Coyhaique\n"
     ]
    },
    {
     "name": "stderr",
     "output_type": "stream",
     "text": [
      "Traceback (most recent call last):\n",
      "  File \"./lib/functions.py\", line 103, in getDepartmentData\n",
      "    for l in years_links_list:\n",
      "  File \"/Users/jaime/anaconda3/lib/python3.6/site-packages/selenium/webdriver/remote/webdriver.py\", line 555, in find_element_by_class_name\n",
      "    return self.find_element(by=By.CLASS_NAME, value=name)\n",
      "  File \"/Users/jaime/anaconda3/lib/python3.6/site-packages/selenium/webdriver/remote/webdriver.py\", line 955, in find_element\n",
      "    'value': value})['value']\n",
      "  File \"/Users/jaime/anaconda3/lib/python3.6/site-packages/selenium/webdriver/remote/webdriver.py\", line 312, in execute\n",
      "    self.error_handler.check_response(response)\n",
      "  File \"/Users/jaime/anaconda3/lib/python3.6/site-packages/selenium/webdriver/remote/errorhandler.py\", line 237, in check_response\n",
      "    raise exception_class(message, screen, stacktrace)\n",
      "selenium.common.exceptions.NoSuchElementException: Message: no such element: Unable to locate element: {\"method\":\"class name\",\"selector\":\"linksIntermedios\"}\n",
      "  (Session info: chrome=64.0.3282.140)\n",
      "  (Driver info: chromedriver=2.35.528157 (4429ca2590d6988c0745c24c8858745aaaec01ef),platform=Mac OS X 10.13.3 x86_64)\n",
      "\n"
     ]
    },
    {
     "name": "stdout",
     "output_type": "stream",
     "text": [
      "No contract data per_planta in http://www.gobiernotransparentechile.cl/directorio/entidad/15/291\n",
      "No contract data per_contrata in http://www.gobiernotransparentechile.cl/directorio/entidad/15/291\n"
     ]
    },
    {
     "name": "stderr",
     "output_type": "stream",
     "text": [
      "Traceback (most recent call last):\n",
      "  File \"./lib/functions.py\", line 103, in getDepartmentData\n",
      "    for l in years_links_list:\n",
      "  File \"/Users/jaime/anaconda3/lib/python3.6/site-packages/selenium/webdriver/remote/webdriver.py\", line 555, in find_element_by_class_name\n",
      "    return self.find_element(by=By.CLASS_NAME, value=name)\n",
      "  File \"/Users/jaime/anaconda3/lib/python3.6/site-packages/selenium/webdriver/remote/webdriver.py\", line 955, in find_element\n",
      "    'value': value})['value']\n",
      "  File \"/Users/jaime/anaconda3/lib/python3.6/site-packages/selenium/webdriver/remote/webdriver.py\", line 312, in execute\n",
      "    self.error_handler.check_response(response)\n",
      "  File \"/Users/jaime/anaconda3/lib/python3.6/site-packages/selenium/webdriver/remote/errorhandler.py\", line 237, in check_response\n",
      "    raise exception_class(message, screen, stacktrace)\n",
      "selenium.common.exceptions.NoSuchElementException: Message: no such element: Unable to locate element: {\"method\":\"class name\",\"selector\":\"linksIntermedios\"}\n",
      "  (Session info: chrome=64.0.3282.140)\n",
      "  (Driver info: chromedriver=2.35.528157 (4429ca2590d6988c0745c24c8858745aaaec01ef),platform=Mac OS X 10.13.3 x86_64)\n",
      "\n"
     ]
    },
    {
     "data": {
      "application/vnd.jupyter.widget-view+json": {
       "model_id": "ca5e8f4c741b42019e66b53071a2be92",
       "version_major": 2,
       "version_minor": 0
      },
      "text/plain": [
       "A Jupyter Widget"
      ]
     },
     "metadata": {},
     "output_type": "display_data"
    },
    {
     "name": "stdout",
     "output_type": "stream",
     "text": [
      "\n",
      "Hospital Víctor Ríos Ruiz de Los Angeles\n"
     ]
    },
    {
     "name": "stderr",
     "output_type": "stream",
     "text": [
      "Traceback (most recent call last):\n",
      "  File \"./lib/functions.py\", line 103, in getDepartmentData\n",
      "    for l in years_links_list:\n",
      "  File \"/Users/jaime/anaconda3/lib/python3.6/site-packages/selenium/webdriver/remote/webdriver.py\", line 555, in find_element_by_class_name\n",
      "    return self.find_element(by=By.CLASS_NAME, value=name)\n",
      "  File \"/Users/jaime/anaconda3/lib/python3.6/site-packages/selenium/webdriver/remote/webdriver.py\", line 955, in find_element\n",
      "    'value': value})['value']\n",
      "  File \"/Users/jaime/anaconda3/lib/python3.6/site-packages/selenium/webdriver/remote/webdriver.py\", line 312, in execute\n",
      "    self.error_handler.check_response(response)\n",
      "  File \"/Users/jaime/anaconda3/lib/python3.6/site-packages/selenium/webdriver/remote/errorhandler.py\", line 237, in check_response\n",
      "    raise exception_class(message, screen, stacktrace)\n",
      "selenium.common.exceptions.NoSuchElementException: Message: no such element: Unable to locate element: {\"method\":\"class name\",\"selector\":\"linksIntermedios\"}\n",
      "  (Session info: chrome=64.0.3282.140)\n",
      "  (Driver info: chromedriver=2.35.528157 (4429ca2590d6988c0745c24c8858745aaaec01ef),platform=Mac OS X 10.13.3 x86_64)\n",
      "\n"
     ]
    },
    {
     "name": "stdout",
     "output_type": "stream",
     "text": [
      "No contract data per_planta in http://www.gobiernotransparentechile.cl/directorio/entidad/15/292\n",
      "No contract data per_contrata in http://www.gobiernotransparentechile.cl/directorio/entidad/15/292\n"
     ]
    },
    {
     "name": "stderr",
     "output_type": "stream",
     "text": [
      "Traceback (most recent call last):\n",
      "  File \"./lib/functions.py\", line 103, in getDepartmentData\n",
      "    for l in years_links_list:\n",
      "  File \"/Users/jaime/anaconda3/lib/python3.6/site-packages/selenium/webdriver/remote/webdriver.py\", line 555, in find_element_by_class_name\n",
      "    return self.find_element(by=By.CLASS_NAME, value=name)\n",
      "  File \"/Users/jaime/anaconda3/lib/python3.6/site-packages/selenium/webdriver/remote/webdriver.py\", line 955, in find_element\n",
      "    'value': value})['value']\n",
      "  File \"/Users/jaime/anaconda3/lib/python3.6/site-packages/selenium/webdriver/remote/webdriver.py\", line 312, in execute\n",
      "    self.error_handler.check_response(response)\n",
      "  File \"/Users/jaime/anaconda3/lib/python3.6/site-packages/selenium/webdriver/remote/errorhandler.py\", line 237, in check_response\n",
      "    raise exception_class(message, screen, stacktrace)\n",
      "selenium.common.exceptions.NoSuchElementException: Message: no such element: Unable to locate element: {\"method\":\"class name\",\"selector\":\"linksIntermedios\"}\n",
      "  (Session info: chrome=64.0.3282.140)\n",
      "  (Driver info: chromedriver=2.35.528157 (4429ca2590d6988c0745c24c8858745aaaec01ef),platform=Mac OS X 10.13.3 x86_64)\n",
      "\n"
     ]
    },
    {
     "data": {
      "application/vnd.jupyter.widget-view+json": {
       "model_id": "f351b42f4c1240c8bb899027e9d5cd0f",
       "version_major": 2,
       "version_minor": 0
      },
      "text/plain": [
       "A Jupyter Widget"
      ]
     },
     "metadata": {},
     "output_type": "display_data"
    },
    {
     "name": "stdout",
     "output_type": "stream",
     "text": [
      "\n",
      "Hospital Dr. Augusto Riffart de Castro\n"
     ]
    },
    {
     "name": "stderr",
     "output_type": "stream",
     "text": [
      "Traceback (most recent call last):\n",
      "  File \"./lib/functions.py\", line 103, in getDepartmentData\n",
      "    for l in years_links_list:\n",
      "  File \"/Users/jaime/anaconda3/lib/python3.6/site-packages/selenium/webdriver/remote/webdriver.py\", line 555, in find_element_by_class_name\n",
      "    return self.find_element(by=By.CLASS_NAME, value=name)\n",
      "  File \"/Users/jaime/anaconda3/lib/python3.6/site-packages/selenium/webdriver/remote/webdriver.py\", line 955, in find_element\n",
      "    'value': value})['value']\n",
      "  File \"/Users/jaime/anaconda3/lib/python3.6/site-packages/selenium/webdriver/remote/webdriver.py\", line 312, in execute\n",
      "    self.error_handler.check_response(response)\n",
      "  File \"/Users/jaime/anaconda3/lib/python3.6/site-packages/selenium/webdriver/remote/errorhandler.py\", line 237, in check_response\n",
      "    raise exception_class(message, screen, stacktrace)\n",
      "selenium.common.exceptions.NoSuchElementException: Message: no such element: Unable to locate element: {\"method\":\"class name\",\"selector\":\"linksIntermedios\"}\n",
      "  (Session info: chrome=64.0.3282.140)\n",
      "  (Driver info: chromedriver=2.35.528157 (4429ca2590d6988c0745c24c8858745aaaec01ef),platform=Mac OS X 10.13.3 x86_64)\n",
      "\n"
     ]
    },
    {
     "name": "stdout",
     "output_type": "stream",
     "text": [
      "No contract data per_planta in http://www.gobiernotransparentechile.cl/directorio/entidad/15/293\n",
      "No contract data per_contrata in http://www.gobiernotransparentechile.cl/directorio/entidad/15/293\n"
     ]
    },
    {
     "name": "stderr",
     "output_type": "stream",
     "text": [
      "Traceback (most recent call last):\n",
      "  File \"./lib/functions.py\", line 103, in getDepartmentData\n",
      "    for l in years_links_list:\n",
      "  File \"/Users/jaime/anaconda3/lib/python3.6/site-packages/selenium/webdriver/remote/webdriver.py\", line 555, in find_element_by_class_name\n",
      "    return self.find_element(by=By.CLASS_NAME, value=name)\n",
      "  File \"/Users/jaime/anaconda3/lib/python3.6/site-packages/selenium/webdriver/remote/webdriver.py\", line 955, in find_element\n",
      "    'value': value})['value']\n",
      "  File \"/Users/jaime/anaconda3/lib/python3.6/site-packages/selenium/webdriver/remote/webdriver.py\", line 312, in execute\n",
      "    self.error_handler.check_response(response)\n",
      "  File \"/Users/jaime/anaconda3/lib/python3.6/site-packages/selenium/webdriver/remote/errorhandler.py\", line 237, in check_response\n",
      "    raise exception_class(message, screen, stacktrace)\n",
      "selenium.common.exceptions.NoSuchElementException: Message: no such element: Unable to locate element: {\"method\":\"class name\",\"selector\":\"linksIntermedios\"}\n",
      "  (Session info: chrome=64.0.3282.140)\n",
      "  (Driver info: chromedriver=2.35.528157 (4429ca2590d6988c0745c24c8858745aaaec01ef),platform=Mac OS X 10.13.3 x86_64)\n",
      "\n"
     ]
    },
    {
     "data": {
      "application/vnd.jupyter.widget-view+json": {
       "model_id": "24afc5a3baf740c5af120d01c05f5556",
       "version_major": 2,
       "version_minor": 0
      },
      "text/plain": [
       "A Jupyter Widget"
      ]
     },
     "metadata": {},
     "output_type": "display_data"
    },
    {
     "name": "stdout",
     "output_type": "stream",
     "text": [
      "\n",
      "Hospital San Jose de Coronel\n"
     ]
    },
    {
     "name": "stderr",
     "output_type": "stream",
     "text": [
      "Traceback (most recent call last):\n",
      "  File \"./lib/functions.py\", line 103, in getDepartmentData\n",
      "    for l in years_links_list:\n",
      "  File \"/Users/jaime/anaconda3/lib/python3.6/site-packages/selenium/webdriver/remote/webdriver.py\", line 555, in find_element_by_class_name\n",
      "    return self.find_element(by=By.CLASS_NAME, value=name)\n",
      "  File \"/Users/jaime/anaconda3/lib/python3.6/site-packages/selenium/webdriver/remote/webdriver.py\", line 955, in find_element\n",
      "    'value': value})['value']\n",
      "  File \"/Users/jaime/anaconda3/lib/python3.6/site-packages/selenium/webdriver/remote/webdriver.py\", line 312, in execute\n",
      "    self.error_handler.check_response(response)\n",
      "  File \"/Users/jaime/anaconda3/lib/python3.6/site-packages/selenium/webdriver/remote/errorhandler.py\", line 237, in check_response\n",
      "    raise exception_class(message, screen, stacktrace)\n",
      "selenium.common.exceptions.NoSuchElementException: Message: no such element: Unable to locate element: {\"method\":\"class name\",\"selector\":\"linksIntermedios\"}\n",
      "  (Session info: chrome=64.0.3282.140)\n",
      "  (Driver info: chromedriver=2.35.528157 (4429ca2590d6988c0745c24c8858745aaaec01ef),platform=Mac OS X 10.13.3 x86_64)\n",
      "\n"
     ]
    },
    {
     "name": "stdout",
     "output_type": "stream",
     "text": [
      "No contract data per_planta in http://www.gobiernotransparentechile.cl/directorio/entidad/15/294\n",
      "No contract data per_contrata in http://www.gobiernotransparentechile.cl/directorio/entidad/15/294\n"
     ]
    },
    {
     "name": "stderr",
     "output_type": "stream",
     "text": [
      "Traceback (most recent call last):\n",
      "  File \"./lib/functions.py\", line 103, in getDepartmentData\n",
      "    for l in years_links_list:\n",
      "  File \"/Users/jaime/anaconda3/lib/python3.6/site-packages/selenium/webdriver/remote/webdriver.py\", line 555, in find_element_by_class_name\n",
      "    return self.find_element(by=By.CLASS_NAME, value=name)\n",
      "  File \"/Users/jaime/anaconda3/lib/python3.6/site-packages/selenium/webdriver/remote/webdriver.py\", line 955, in find_element\n",
      "    'value': value})['value']\n",
      "  File \"/Users/jaime/anaconda3/lib/python3.6/site-packages/selenium/webdriver/remote/webdriver.py\", line 312, in execute\n",
      "    self.error_handler.check_response(response)\n",
      "  File \"/Users/jaime/anaconda3/lib/python3.6/site-packages/selenium/webdriver/remote/errorhandler.py\", line 237, in check_response\n",
      "    raise exception_class(message, screen, stacktrace)\n",
      "selenium.common.exceptions.NoSuchElementException: Message: no such element: Unable to locate element: {\"method\":\"class name\",\"selector\":\"linksIntermedios\"}\n",
      "  (Session info: chrome=64.0.3282.140)\n",
      "  (Driver info: chromedriver=2.35.528157 (4429ca2590d6988c0745c24c8858745aaaec01ef),platform=Mac OS X 10.13.3 x86_64)\n",
      "\n"
     ]
    },
    {
     "data": {
      "application/vnd.jupyter.widget-view+json": {
       "model_id": "217d5dcb967d45edbad74c03a9672e1f",
       "version_major": 2,
       "version_minor": 0
      },
      "text/plain": [
       "A Jupyter Widget"
      ]
     },
     "metadata": {},
     "output_type": "display_data"
    },
    {
     "name": "stdout",
     "output_type": "stream",
     "text": [
      "\n",
      "Hospital de Lota\n"
     ]
    },
    {
     "name": "stderr",
     "output_type": "stream",
     "text": [
      "Traceback (most recent call last):\n",
      "  File \"./lib/functions.py\", line 103, in getDepartmentData\n",
      "    for l in years_links_list:\n",
      "  File \"/Users/jaime/anaconda3/lib/python3.6/site-packages/selenium/webdriver/remote/webdriver.py\", line 555, in find_element_by_class_name\n",
      "    return self.find_element(by=By.CLASS_NAME, value=name)\n",
      "  File \"/Users/jaime/anaconda3/lib/python3.6/site-packages/selenium/webdriver/remote/webdriver.py\", line 955, in find_element\n",
      "    'value': value})['value']\n",
      "  File \"/Users/jaime/anaconda3/lib/python3.6/site-packages/selenium/webdriver/remote/webdriver.py\", line 312, in execute\n",
      "    self.error_handler.check_response(response)\n",
      "  File \"/Users/jaime/anaconda3/lib/python3.6/site-packages/selenium/webdriver/remote/errorhandler.py\", line 237, in check_response\n",
      "    raise exception_class(message, screen, stacktrace)\n",
      "selenium.common.exceptions.NoSuchElementException: Message: no such element: Unable to locate element: {\"method\":\"class name\",\"selector\":\"linksIntermedios\"}\n",
      "  (Session info: chrome=64.0.3282.140)\n",
      "  (Driver info: chromedriver=2.35.528157 (4429ca2590d6988c0745c24c8858745aaaec01ef),platform=Mac OS X 10.13.3 x86_64)\n",
      "\n"
     ]
    },
    {
     "name": "stdout",
     "output_type": "stream",
     "text": [
      "No contract data per_planta in http://www.gobiernotransparentechile.cl/directorio/entidad/15/295\n",
      "No contract data per_contrata in http://www.gobiernotransparentechile.cl/directorio/entidad/15/295\n"
     ]
    },
    {
     "name": "stderr",
     "output_type": "stream",
     "text": [
      "Traceback (most recent call last):\n",
      "  File \"./lib/functions.py\", line 103, in getDepartmentData\n",
      "    for l in years_links_list:\n",
      "  File \"/Users/jaime/anaconda3/lib/python3.6/site-packages/selenium/webdriver/remote/webdriver.py\", line 555, in find_element_by_class_name\n",
      "    return self.find_element(by=By.CLASS_NAME, value=name)\n",
      "  File \"/Users/jaime/anaconda3/lib/python3.6/site-packages/selenium/webdriver/remote/webdriver.py\", line 955, in find_element\n",
      "    'value': value})['value']\n",
      "  File \"/Users/jaime/anaconda3/lib/python3.6/site-packages/selenium/webdriver/remote/webdriver.py\", line 312, in execute\n",
      "    self.error_handler.check_response(response)\n",
      "  File \"/Users/jaime/anaconda3/lib/python3.6/site-packages/selenium/webdriver/remote/errorhandler.py\", line 237, in check_response\n",
      "    raise exception_class(message, screen, stacktrace)\n",
      "selenium.common.exceptions.NoSuchElementException: Message: no such element: Unable to locate element: {\"method\":\"class name\",\"selector\":\"linksIntermedios\"}\n",
      "  (Session info: chrome=64.0.3282.140)\n",
      "  (Driver info: chromedriver=2.35.528157 (4429ca2590d6988c0745c24c8858745aaaec01ef),platform=Mac OS X 10.13.3 x86_64)\n",
      "\n"
     ]
    },
    {
     "data": {
      "application/vnd.jupyter.widget-view+json": {
       "model_id": "01df8161db074cf3933c0c4b4435ed06",
       "version_major": 2,
       "version_minor": 0
      },
      "text/plain": [
       "A Jupyter Widget"
      ]
     },
     "metadata": {},
     "output_type": "display_data"
    },
    {
     "name": "stdout",
     "output_type": "stream",
     "text": [
      "\n",
      "Hospital Guillermo Grant Benavente de Concepción\n"
     ]
    },
    {
     "name": "stderr",
     "output_type": "stream",
     "text": [
      "Traceback (most recent call last):\n",
      "  File \"./lib/functions.py\", line 103, in getDepartmentData\n",
      "    for l in years_links_list:\n",
      "  File \"/Users/jaime/anaconda3/lib/python3.6/site-packages/selenium/webdriver/remote/webdriver.py\", line 555, in find_element_by_class_name\n",
      "    return self.find_element(by=By.CLASS_NAME, value=name)\n",
      "  File \"/Users/jaime/anaconda3/lib/python3.6/site-packages/selenium/webdriver/remote/webdriver.py\", line 955, in find_element\n",
      "    'value': value})['value']\n",
      "  File \"/Users/jaime/anaconda3/lib/python3.6/site-packages/selenium/webdriver/remote/webdriver.py\", line 312, in execute\n",
      "    self.error_handler.check_response(response)\n",
      "  File \"/Users/jaime/anaconda3/lib/python3.6/site-packages/selenium/webdriver/remote/errorhandler.py\", line 237, in check_response\n",
      "    raise exception_class(message, screen, stacktrace)\n",
      "selenium.common.exceptions.NoSuchElementException: Message: no such element: Unable to locate element: {\"method\":\"class name\",\"selector\":\"linksIntermedios\"}\n",
      "  (Session info: chrome=64.0.3282.140)\n",
      "  (Driver info: chromedriver=2.35.528157 (4429ca2590d6988c0745c24c8858745aaaec01ef),platform=Mac OS X 10.13.3 x86_64)\n",
      "\n"
     ]
    },
    {
     "name": "stdout",
     "output_type": "stream",
     "text": [
      "No contract data per_planta in http://www.gobiernotransparentechile.cl/directorio/entidad/15/296\n",
      "No contract data per_contrata in http://www.gobiernotransparentechile.cl/directorio/entidad/15/296\n"
     ]
    },
    {
     "name": "stderr",
     "output_type": "stream",
     "text": [
      "Traceback (most recent call last):\n",
      "  File \"./lib/functions.py\", line 103, in getDepartmentData\n",
      "    for l in years_links_list:\n",
      "  File \"/Users/jaime/anaconda3/lib/python3.6/site-packages/selenium/webdriver/remote/webdriver.py\", line 555, in find_element_by_class_name\n",
      "    return self.find_element(by=By.CLASS_NAME, value=name)\n",
      "  File \"/Users/jaime/anaconda3/lib/python3.6/site-packages/selenium/webdriver/remote/webdriver.py\", line 955, in find_element\n",
      "    'value': value})['value']\n",
      "  File \"/Users/jaime/anaconda3/lib/python3.6/site-packages/selenium/webdriver/remote/webdriver.py\", line 312, in execute\n",
      "    self.error_handler.check_response(response)\n",
      "  File \"/Users/jaime/anaconda3/lib/python3.6/site-packages/selenium/webdriver/remote/errorhandler.py\", line 237, in check_response\n",
      "    raise exception_class(message, screen, stacktrace)\n",
      "selenium.common.exceptions.NoSuchElementException: Message: no such element: Unable to locate element: {\"method\":\"class name\",\"selector\":\"linksIntermedios\"}\n",
      "  (Session info: chrome=64.0.3282.140)\n",
      "  (Driver info: chromedriver=2.35.528157 (4429ca2590d6988c0745c24c8858745aaaec01ef),platform=Mac OS X 10.13.3 x86_64)\n",
      "\n"
     ]
    },
    {
     "data": {
      "application/vnd.jupyter.widget-view+json": {
       "model_id": "912d08dd2c46479dbaf321013bd10c95",
       "version_major": 2,
       "version_minor": 0
      },
      "text/plain": [
       "A Jupyter Widget"
      ]
     },
     "metadata": {},
     "output_type": "display_data"
    },
    {
     "name": "stdout",
     "output_type": "stream",
     "text": [
      "\n",
      "Hospital de Ovalle\n"
     ]
    },
    {
     "name": "stderr",
     "output_type": "stream",
     "text": [
      "Traceback (most recent call last):\n",
      "  File \"./lib/functions.py\", line 103, in getDepartmentData\n",
      "    for l in years_links_list:\n",
      "  File \"/Users/jaime/anaconda3/lib/python3.6/site-packages/selenium/webdriver/remote/webdriver.py\", line 555, in find_element_by_class_name\n",
      "    return self.find_element(by=By.CLASS_NAME, value=name)\n",
      "  File \"/Users/jaime/anaconda3/lib/python3.6/site-packages/selenium/webdriver/remote/webdriver.py\", line 955, in find_element\n",
      "    'value': value})['value']\n",
      "  File \"/Users/jaime/anaconda3/lib/python3.6/site-packages/selenium/webdriver/remote/webdriver.py\", line 312, in execute\n",
      "    self.error_handler.check_response(response)\n",
      "  File \"/Users/jaime/anaconda3/lib/python3.6/site-packages/selenium/webdriver/remote/errorhandler.py\", line 237, in check_response\n",
      "    raise exception_class(message, screen, stacktrace)\n",
      "selenium.common.exceptions.NoSuchElementException: Message: no such element: Unable to locate element: {\"method\":\"class name\",\"selector\":\"linksIntermedios\"}\n",
      "  (Session info: chrome=64.0.3282.140)\n",
      "  (Driver info: chromedriver=2.35.528157 (4429ca2590d6988c0745c24c8858745aaaec01ef),platform=Mac OS X 10.13.3 x86_64)\n",
      "\n"
     ]
    },
    {
     "name": "stdout",
     "output_type": "stream",
     "text": [
      "No contract data per_planta in http://www.gobiernotransparentechile.cl/directorio/entidad/15/297\n",
      "No contract data per_contrata in http://www.gobiernotransparentechile.cl/directorio/entidad/15/297\n"
     ]
    },
    {
     "name": "stderr",
     "output_type": "stream",
     "text": [
      "Traceback (most recent call last):\n",
      "  File \"./lib/functions.py\", line 103, in getDepartmentData\n",
      "    for l in years_links_list:\n",
      "  File \"/Users/jaime/anaconda3/lib/python3.6/site-packages/selenium/webdriver/remote/webdriver.py\", line 555, in find_element_by_class_name\n",
      "    return self.find_element(by=By.CLASS_NAME, value=name)\n",
      "  File \"/Users/jaime/anaconda3/lib/python3.6/site-packages/selenium/webdriver/remote/webdriver.py\", line 955, in find_element\n",
      "    'value': value})['value']\n",
      "  File \"/Users/jaime/anaconda3/lib/python3.6/site-packages/selenium/webdriver/remote/webdriver.py\", line 312, in execute\n",
      "    self.error_handler.check_response(response)\n",
      "  File \"/Users/jaime/anaconda3/lib/python3.6/site-packages/selenium/webdriver/remote/errorhandler.py\", line 237, in check_response\n",
      "    raise exception_class(message, screen, stacktrace)\n",
      "selenium.common.exceptions.NoSuchElementException: Message: no such element: Unable to locate element: {\"method\":\"class name\",\"selector\":\"linksIntermedios\"}\n",
      "  (Session info: chrome=64.0.3282.140)\n",
      "  (Driver info: chromedriver=2.35.528157 (4429ca2590d6988c0745c24c8858745aaaec01ef),platform=Mac OS X 10.13.3 x86_64)\n",
      "\n"
     ]
    },
    {
     "data": {
      "application/vnd.jupyter.widget-view+json": {
       "model_id": "16a0f77dee99460ea1dbfdfa9617918a",
       "version_major": 2,
       "version_minor": 0
      },
      "text/plain": [
       "A Jupyter Widget"
      ]
     },
     "metadata": {},
     "output_type": "display_data"
    },
    {
     "name": "stdout",
     "output_type": "stream",
     "text": [
      "\n",
      "Hospital La Serena\n"
     ]
    },
    {
     "name": "stderr",
     "output_type": "stream",
     "text": [
      "Traceback (most recent call last):\n",
      "  File \"./lib/functions.py\", line 103, in getDepartmentData\n",
      "    for l in years_links_list:\n",
      "  File \"/Users/jaime/anaconda3/lib/python3.6/site-packages/selenium/webdriver/remote/webdriver.py\", line 555, in find_element_by_class_name\n",
      "    return self.find_element(by=By.CLASS_NAME, value=name)\n",
      "  File \"/Users/jaime/anaconda3/lib/python3.6/site-packages/selenium/webdriver/remote/webdriver.py\", line 955, in find_element\n",
      "    'value': value})['value']\n",
      "  File \"/Users/jaime/anaconda3/lib/python3.6/site-packages/selenium/webdriver/remote/webdriver.py\", line 312, in execute\n",
      "    self.error_handler.check_response(response)\n",
      "  File \"/Users/jaime/anaconda3/lib/python3.6/site-packages/selenium/webdriver/remote/errorhandler.py\", line 237, in check_response\n",
      "    raise exception_class(message, screen, stacktrace)\n",
      "selenium.common.exceptions.NoSuchElementException: Message: no such element: Unable to locate element: {\"method\":\"class name\",\"selector\":\"linksIntermedios\"}\n",
      "  (Session info: chrome=64.0.3282.140)\n",
      "  (Driver info: chromedriver=2.35.528157 (4429ca2590d6988c0745c24c8858745aaaec01ef),platform=Mac OS X 10.13.3 x86_64)\n",
      "\n"
     ]
    },
    {
     "name": "stdout",
     "output_type": "stream",
     "text": [
      "No contract data per_planta in http://www.gobiernotransparentechile.cl/directorio/entidad/15/298\n",
      "No contract data per_contrata in http://www.gobiernotransparentechile.cl/directorio/entidad/15/298\n"
     ]
    },
    {
     "name": "stderr",
     "output_type": "stream",
     "text": [
      "Traceback (most recent call last):\n",
      "  File \"./lib/functions.py\", line 103, in getDepartmentData\n",
      "    for l in years_links_list:\n",
      "  File \"/Users/jaime/anaconda3/lib/python3.6/site-packages/selenium/webdriver/remote/webdriver.py\", line 555, in find_element_by_class_name\n",
      "    return self.find_element(by=By.CLASS_NAME, value=name)\n",
      "  File \"/Users/jaime/anaconda3/lib/python3.6/site-packages/selenium/webdriver/remote/webdriver.py\", line 955, in find_element\n",
      "    'value': value})['value']\n",
      "  File \"/Users/jaime/anaconda3/lib/python3.6/site-packages/selenium/webdriver/remote/webdriver.py\", line 312, in execute\n",
      "    self.error_handler.check_response(response)\n",
      "  File \"/Users/jaime/anaconda3/lib/python3.6/site-packages/selenium/webdriver/remote/errorhandler.py\", line 237, in check_response\n",
      "    raise exception_class(message, screen, stacktrace)\n",
      "selenium.common.exceptions.NoSuchElementException: Message: no such element: Unable to locate element: {\"method\":\"class name\",\"selector\":\"linksIntermedios\"}\n",
      "  (Session info: chrome=64.0.3282.140)\n",
      "  (Driver info: chromedriver=2.35.528157 (4429ca2590d6988c0745c24c8858745aaaec01ef),platform=Mac OS X 10.13.3 x86_64)\n",
      "\n"
     ]
    },
    {
     "data": {
      "application/vnd.jupyter.widget-view+json": {
       "model_id": "4cf57a925b7b4f4d835be0f923fa2ca3",
       "version_major": 2,
       "version_minor": 0
      },
      "text/plain": [
       "A Jupyter Widget"
      ]
     },
     "metadata": {},
     "output_type": "display_data"
    },
    {
     "name": "stdout",
     "output_type": "stream",
     "text": [
      "\n",
      "Hospital San Pablo de Coquimbo\n"
     ]
    },
    {
     "name": "stderr",
     "output_type": "stream",
     "text": [
      "Traceback (most recent call last):\n",
      "  File \"./lib/functions.py\", line 103, in getDepartmentData\n",
      "    for l in years_links_list:\n",
      "  File \"/Users/jaime/anaconda3/lib/python3.6/site-packages/selenium/webdriver/remote/webdriver.py\", line 555, in find_element_by_class_name\n",
      "    return self.find_element(by=By.CLASS_NAME, value=name)\n",
      "  File \"/Users/jaime/anaconda3/lib/python3.6/site-packages/selenium/webdriver/remote/webdriver.py\", line 955, in find_element\n",
      "    'value': value})['value']\n",
      "  File \"/Users/jaime/anaconda3/lib/python3.6/site-packages/selenium/webdriver/remote/webdriver.py\", line 312, in execute\n",
      "    self.error_handler.check_response(response)\n",
      "  File \"/Users/jaime/anaconda3/lib/python3.6/site-packages/selenium/webdriver/remote/errorhandler.py\", line 237, in check_response\n",
      "    raise exception_class(message, screen, stacktrace)\n",
      "selenium.common.exceptions.NoSuchElementException: Message: no such element: Unable to locate element: {\"method\":\"class name\",\"selector\":\"linksIntermedios\"}\n",
      "  (Session info: chrome=64.0.3282.140)\n",
      "  (Driver info: chromedriver=2.35.528157 (4429ca2590d6988c0745c24c8858745aaaec01ef),platform=Mac OS X 10.13.3 x86_64)\n",
      "\n"
     ]
    },
    {
     "name": "stdout",
     "output_type": "stream",
     "text": [
      "No contract data per_planta in http://www.gobiernotransparentechile.cl/directorio/entidad/15/299\n",
      "No contract data per_contrata in http://www.gobiernotransparentechile.cl/directorio/entidad/15/299\n"
     ]
    },
    {
     "name": "stderr",
     "output_type": "stream",
     "text": [
      "Traceback (most recent call last):\n",
      "  File \"./lib/functions.py\", line 103, in getDepartmentData\n",
      "    for l in years_links_list:\n",
      "  File \"/Users/jaime/anaconda3/lib/python3.6/site-packages/selenium/webdriver/remote/webdriver.py\", line 555, in find_element_by_class_name\n",
      "    return self.find_element(by=By.CLASS_NAME, value=name)\n",
      "  File \"/Users/jaime/anaconda3/lib/python3.6/site-packages/selenium/webdriver/remote/webdriver.py\", line 955, in find_element\n",
      "    'value': value})['value']\n",
      "  File \"/Users/jaime/anaconda3/lib/python3.6/site-packages/selenium/webdriver/remote/webdriver.py\", line 312, in execute\n",
      "    self.error_handler.check_response(response)\n",
      "  File \"/Users/jaime/anaconda3/lib/python3.6/site-packages/selenium/webdriver/remote/errorhandler.py\", line 237, in check_response\n",
      "    raise exception_class(message, screen, stacktrace)\n",
      "selenium.common.exceptions.NoSuchElementException: Message: no such element: Unable to locate element: {\"method\":\"class name\",\"selector\":\"linksIntermedios\"}\n",
      "  (Session info: chrome=64.0.3282.140)\n",
      "  (Driver info: chromedriver=2.35.528157 (4429ca2590d6988c0745c24c8858745aaaec01ef),platform=Mac OS X 10.13.3 x86_64)\n",
      "\n"
     ]
    },
    {
     "data": {
      "application/vnd.jupyter.widget-view+json": {
       "model_id": "184b73ea4295479da0fd219282f1e005",
       "version_major": 2,
       "version_minor": 0
      },
      "text/plain": [
       "A Jupyter Widget"
      ]
     },
     "metadata": {},
     "output_type": "display_data"
    },
    {
     "name": "stdout",
     "output_type": "stream",
     "text": [
      "\n",
      "Hospital Ernesto Torres de Iquique\n"
     ]
    },
    {
     "name": "stderr",
     "output_type": "stream",
     "text": [
      "Traceback (most recent call last):\n",
      "  File \"./lib/functions.py\", line 103, in getDepartmentData\n",
      "    for l in years_links_list:\n",
      "  File \"/Users/jaime/anaconda3/lib/python3.6/site-packages/selenium/webdriver/remote/webdriver.py\", line 555, in find_element_by_class_name\n",
      "    return self.find_element(by=By.CLASS_NAME, value=name)\n",
      "  File \"/Users/jaime/anaconda3/lib/python3.6/site-packages/selenium/webdriver/remote/webdriver.py\", line 955, in find_element\n",
      "    'value': value})['value']\n",
      "  File \"/Users/jaime/anaconda3/lib/python3.6/site-packages/selenium/webdriver/remote/webdriver.py\", line 312, in execute\n",
      "    self.error_handler.check_response(response)\n",
      "  File \"/Users/jaime/anaconda3/lib/python3.6/site-packages/selenium/webdriver/remote/errorhandler.py\", line 237, in check_response\n",
      "    raise exception_class(message, screen, stacktrace)\n",
      "selenium.common.exceptions.NoSuchElementException: Message: no such element: Unable to locate element: {\"method\":\"class name\",\"selector\":\"linksIntermedios\"}\n",
      "  (Session info: chrome=64.0.3282.140)\n",
      "  (Driver info: chromedriver=2.35.528157 (4429ca2590d6988c0745c24c8858745aaaec01ef),platform=Mac OS X 10.13.3 x86_64)\n",
      "\n"
     ]
    },
    {
     "name": "stdout",
     "output_type": "stream",
     "text": [
      "No contract data per_planta in http://www.gobiernotransparentechile.cl/directorio/entidad/15/300\n",
      "No contract data per_contrata in http://www.gobiernotransparentechile.cl/directorio/entidad/15/300\n"
     ]
    },
    {
     "name": "stderr",
     "output_type": "stream",
     "text": [
      "Traceback (most recent call last):\n",
      "  File \"./lib/functions.py\", line 103, in getDepartmentData\n",
      "    for l in years_links_list:\n",
      "  File \"/Users/jaime/anaconda3/lib/python3.6/site-packages/selenium/webdriver/remote/webdriver.py\", line 555, in find_element_by_class_name\n",
      "    return self.find_element(by=By.CLASS_NAME, value=name)\n",
      "  File \"/Users/jaime/anaconda3/lib/python3.6/site-packages/selenium/webdriver/remote/webdriver.py\", line 955, in find_element\n",
      "    'value': value})['value']\n",
      "  File \"/Users/jaime/anaconda3/lib/python3.6/site-packages/selenium/webdriver/remote/webdriver.py\", line 312, in execute\n",
      "    self.error_handler.check_response(response)\n",
      "  File \"/Users/jaime/anaconda3/lib/python3.6/site-packages/selenium/webdriver/remote/errorhandler.py\", line 237, in check_response\n",
      "    raise exception_class(message, screen, stacktrace)\n",
      "selenium.common.exceptions.NoSuchElementException: Message: no such element: Unable to locate element: {\"method\":\"class name\",\"selector\":\"linksIntermedios\"}\n",
      "  (Session info: chrome=64.0.3282.140)\n",
      "  (Driver info: chromedriver=2.35.528157 (4429ca2590d6988c0745c24c8858745aaaec01ef),platform=Mac OS X 10.13.3 x86_64)\n",
      "\n"
     ]
    },
    {
     "data": {
      "application/vnd.jupyter.widget-view+json": {
       "model_id": "3c6b979200c44e09a7bdc4e99b4cfa4c",
       "version_major": 2,
       "version_minor": 0
      },
      "text/plain": [
       "A Jupyter Widget"
      ]
     },
     "metadata": {},
     "output_type": "display_data"
    },
    {
     "name": "stdout",
     "output_type": "stream",
     "text": [
      "\n",
      "HUAP Posta central\n"
     ]
    },
    {
     "name": "stderr",
     "output_type": "stream",
     "text": [
      "Traceback (most recent call last):\n",
      "  File \"./lib/functions.py\", line 103, in getDepartmentData\n",
      "    for l in years_links_list:\n",
      "  File \"/Users/jaime/anaconda3/lib/python3.6/site-packages/selenium/webdriver/remote/webdriver.py\", line 555, in find_element_by_class_name\n",
      "    return self.find_element(by=By.CLASS_NAME, value=name)\n",
      "  File \"/Users/jaime/anaconda3/lib/python3.6/site-packages/selenium/webdriver/remote/webdriver.py\", line 955, in find_element\n",
      "    'value': value})['value']\n",
      "  File \"/Users/jaime/anaconda3/lib/python3.6/site-packages/selenium/webdriver/remote/webdriver.py\", line 312, in execute\n",
      "    self.error_handler.check_response(response)\n",
      "  File \"/Users/jaime/anaconda3/lib/python3.6/site-packages/selenium/webdriver/remote/errorhandler.py\", line 237, in check_response\n",
      "    raise exception_class(message, screen, stacktrace)\n",
      "selenium.common.exceptions.NoSuchElementException: Message: no such element: Unable to locate element: {\"method\":\"class name\",\"selector\":\"linksIntermedios\"}\n",
      "  (Session info: chrome=64.0.3282.140)\n",
      "  (Driver info: chromedriver=2.35.528157 (4429ca2590d6988c0745c24c8858745aaaec01ef),platform=Mac OS X 10.13.3 x86_64)\n",
      "\n"
     ]
    },
    {
     "name": "stdout",
     "output_type": "stream",
     "text": [
      "No contract data per_planta in http://www.gobiernotransparentechile.cl/directorio/entidad/15/301\n",
      "No contract data per_contrata in http://www.gobiernotransparentechile.cl/directorio/entidad/15/301\n"
     ]
    },
    {
     "name": "stderr",
     "output_type": "stream",
     "text": [
      "Traceback (most recent call last):\n",
      "  File \"./lib/functions.py\", line 103, in getDepartmentData\n",
      "    for l in years_links_list:\n",
      "  File \"/Users/jaime/anaconda3/lib/python3.6/site-packages/selenium/webdriver/remote/webdriver.py\", line 555, in find_element_by_class_name\n",
      "    return self.find_element(by=By.CLASS_NAME, value=name)\n",
      "  File \"/Users/jaime/anaconda3/lib/python3.6/site-packages/selenium/webdriver/remote/webdriver.py\", line 955, in find_element\n",
      "    'value': value})['value']\n",
      "  File \"/Users/jaime/anaconda3/lib/python3.6/site-packages/selenium/webdriver/remote/webdriver.py\", line 312, in execute\n",
      "    self.error_handler.check_response(response)\n",
      "  File \"/Users/jaime/anaconda3/lib/python3.6/site-packages/selenium/webdriver/remote/errorhandler.py\", line 237, in check_response\n",
      "    raise exception_class(message, screen, stacktrace)\n",
      "selenium.common.exceptions.NoSuchElementException: Message: no such element: Unable to locate element: {\"method\":\"class name\",\"selector\":\"linksIntermedios\"}\n",
      "  (Session info: chrome=64.0.3282.140)\n",
      "  (Driver info: chromedriver=2.35.528157 (4429ca2590d6988c0745c24c8858745aaaec01ef),platform=Mac OS X 10.13.3 x86_64)\n",
      "\n"
     ]
    },
    {
     "data": {
      "application/vnd.jupyter.widget-view+json": {
       "model_id": "1be805451101446aa63ecc4905c76996",
       "version_major": 2,
       "version_minor": 0
      },
      "text/plain": [
       "A Jupyter Widget"
      ]
     },
     "metadata": {},
     "output_type": "display_data"
    },
    {
     "name": "stdout",
     "output_type": "stream",
     "text": [
      "\n",
      "Hospital San Borja Arriarán\n"
     ]
    },
    {
     "name": "stderr",
     "output_type": "stream",
     "text": [
      "Traceback (most recent call last):\n",
      "  File \"./lib/functions.py\", line 103, in getDepartmentData\n",
      "    for l in years_links_list:\n",
      "  File \"/Users/jaime/anaconda3/lib/python3.6/site-packages/selenium/webdriver/remote/webdriver.py\", line 555, in find_element_by_class_name\n",
      "    return self.find_element(by=By.CLASS_NAME, value=name)\n",
      "  File \"/Users/jaime/anaconda3/lib/python3.6/site-packages/selenium/webdriver/remote/webdriver.py\", line 955, in find_element\n",
      "    'value': value})['value']\n",
      "  File \"/Users/jaime/anaconda3/lib/python3.6/site-packages/selenium/webdriver/remote/webdriver.py\", line 312, in execute\n",
      "    self.error_handler.check_response(response)\n",
      "  File \"/Users/jaime/anaconda3/lib/python3.6/site-packages/selenium/webdriver/remote/errorhandler.py\", line 237, in check_response\n",
      "    raise exception_class(message, screen, stacktrace)\n",
      "selenium.common.exceptions.NoSuchElementException: Message: no such element: Unable to locate element: {\"method\":\"class name\",\"selector\":\"linksIntermedios\"}\n",
      "  (Session info: chrome=64.0.3282.140)\n",
      "  (Driver info: chromedriver=2.35.528157 (4429ca2590d6988c0745c24c8858745aaaec01ef),platform=Mac OS X 10.13.3 x86_64)\n",
      "\n"
     ]
    },
    {
     "name": "stdout",
     "output_type": "stream",
     "text": [
      "No contract data per_planta in http://www.gobiernotransparentechile.cl/directorio/entidad/15/302\n",
      "No contract data per_contrata in http://www.gobiernotransparentechile.cl/directorio/entidad/15/302\n"
     ]
    },
    {
     "name": "stderr",
     "output_type": "stream",
     "text": [
      "Traceback (most recent call last):\n",
      "  File \"./lib/functions.py\", line 103, in getDepartmentData\n",
      "    for l in years_links_list:\n",
      "  File \"/Users/jaime/anaconda3/lib/python3.6/site-packages/selenium/webdriver/remote/webdriver.py\", line 555, in find_element_by_class_name\n",
      "    return self.find_element(by=By.CLASS_NAME, value=name)\n",
      "  File \"/Users/jaime/anaconda3/lib/python3.6/site-packages/selenium/webdriver/remote/webdriver.py\", line 955, in find_element\n",
      "    'value': value})['value']\n",
      "  File \"/Users/jaime/anaconda3/lib/python3.6/site-packages/selenium/webdriver/remote/webdriver.py\", line 312, in execute\n",
      "    self.error_handler.check_response(response)\n",
      "  File \"/Users/jaime/anaconda3/lib/python3.6/site-packages/selenium/webdriver/remote/errorhandler.py\", line 237, in check_response\n",
      "    raise exception_class(message, screen, stacktrace)\n",
      "selenium.common.exceptions.NoSuchElementException: Message: no such element: Unable to locate element: {\"method\":\"class name\",\"selector\":\"linksIntermedios\"}\n",
      "  (Session info: chrome=64.0.3282.140)\n",
      "  (Driver info: chromedriver=2.35.528157 (4429ca2590d6988c0745c24c8858745aaaec01ef),platform=Mac OS X 10.13.3 x86_64)\n",
      "\n"
     ]
    },
    {
     "data": {
      "application/vnd.jupyter.widget-view+json": {
       "model_id": "2270782101e148e7983649a3548acf5f",
       "version_major": 2,
       "version_minor": 0
      },
      "text/plain": [
       "A Jupyter Widget"
      ]
     },
     "metadata": {},
     "output_type": "display_data"
    },
    {
     "name": "stdout",
     "output_type": "stream",
     "text": [
      "\n",
      "Hospital San José\n"
     ]
    },
    {
     "name": "stderr",
     "output_type": "stream",
     "text": [
      "Traceback (most recent call last):\n",
      "  File \"./lib/functions.py\", line 103, in getDepartmentData\n",
      "    for l in years_links_list:\n",
      "  File \"/Users/jaime/anaconda3/lib/python3.6/site-packages/selenium/webdriver/remote/webdriver.py\", line 555, in find_element_by_class_name\n",
      "    return self.find_element(by=By.CLASS_NAME, value=name)\n",
      "  File \"/Users/jaime/anaconda3/lib/python3.6/site-packages/selenium/webdriver/remote/webdriver.py\", line 955, in find_element\n",
      "    'value': value})['value']\n",
      "  File \"/Users/jaime/anaconda3/lib/python3.6/site-packages/selenium/webdriver/remote/webdriver.py\", line 312, in execute\n",
      "    self.error_handler.check_response(response)\n",
      "  File \"/Users/jaime/anaconda3/lib/python3.6/site-packages/selenium/webdriver/remote/errorhandler.py\", line 237, in check_response\n",
      "    raise exception_class(message, screen, stacktrace)\n",
      "selenium.common.exceptions.NoSuchElementException: Message: no such element: Unable to locate element: {\"method\":\"class name\",\"selector\":\"linksIntermedios\"}\n",
      "  (Session info: chrome=64.0.3282.140)\n",
      "  (Driver info: chromedriver=2.35.528157 (4429ca2590d6988c0745c24c8858745aaaec01ef),platform=Mac OS X 10.13.3 x86_64)\n",
      "\n"
     ]
    },
    {
     "name": "stdout",
     "output_type": "stream",
     "text": [
      "No contract data per_planta in http://www.gobiernotransparentechile.cl/directorio/entidad/15/303\n",
      "No contract data per_contrata in http://www.gobiernotransparentechile.cl/directorio/entidad/15/303\n"
     ]
    },
    {
     "name": "stderr",
     "output_type": "stream",
     "text": [
      "Traceback (most recent call last):\n",
      "  File \"./lib/functions.py\", line 103, in getDepartmentData\n",
      "    for l in years_links_list:\n",
      "  File \"/Users/jaime/anaconda3/lib/python3.6/site-packages/selenium/webdriver/remote/webdriver.py\", line 555, in find_element_by_class_name\n",
      "    return self.find_element(by=By.CLASS_NAME, value=name)\n",
      "  File \"/Users/jaime/anaconda3/lib/python3.6/site-packages/selenium/webdriver/remote/webdriver.py\", line 955, in find_element\n",
      "    'value': value})['value']\n",
      "  File \"/Users/jaime/anaconda3/lib/python3.6/site-packages/selenium/webdriver/remote/webdriver.py\", line 312, in execute\n",
      "    self.error_handler.check_response(response)\n",
      "  File \"/Users/jaime/anaconda3/lib/python3.6/site-packages/selenium/webdriver/remote/errorhandler.py\", line 237, in check_response\n",
      "    raise exception_class(message, screen, stacktrace)\n",
      "selenium.common.exceptions.NoSuchElementException: Message: no such element: Unable to locate element: {\"method\":\"class name\",\"selector\":\"linksIntermedios\"}\n",
      "  (Session info: chrome=64.0.3282.140)\n",
      "  (Driver info: chromedriver=2.35.528157 (4429ca2590d6988c0745c24c8858745aaaec01ef),platform=Mac OS X 10.13.3 x86_64)\n",
      "\n"
     ]
    },
    {
     "data": {
      "application/vnd.jupyter.widget-view+json": {
       "model_id": "39d28ebd6c5e4294a5c26b2b2dabaf67",
       "version_major": 2,
       "version_minor": 0
      },
      "text/plain": [
       "A Jupyter Widget"
      ]
     },
     "metadata": {},
     "output_type": "display_data"
    },
    {
     "name": "stdout",
     "output_type": "stream",
     "text": [
      "\n",
      "Hospital Roberto del Río\n"
     ]
    },
    {
     "name": "stderr",
     "output_type": "stream",
     "text": [
      "Traceback (most recent call last):\n",
      "  File \"./lib/functions.py\", line 103, in getDepartmentData\n",
      "    for l in years_links_list:\n",
      "  File \"/Users/jaime/anaconda3/lib/python3.6/site-packages/selenium/webdriver/remote/webdriver.py\", line 555, in find_element_by_class_name\n",
      "    return self.find_element(by=By.CLASS_NAME, value=name)\n",
      "  File \"/Users/jaime/anaconda3/lib/python3.6/site-packages/selenium/webdriver/remote/webdriver.py\", line 955, in find_element\n",
      "    'value': value})['value']\n",
      "  File \"/Users/jaime/anaconda3/lib/python3.6/site-packages/selenium/webdriver/remote/webdriver.py\", line 312, in execute\n",
      "    self.error_handler.check_response(response)\n",
      "  File \"/Users/jaime/anaconda3/lib/python3.6/site-packages/selenium/webdriver/remote/errorhandler.py\", line 237, in check_response\n",
      "    raise exception_class(message, screen, stacktrace)\n",
      "selenium.common.exceptions.NoSuchElementException: Message: no such element: Unable to locate element: {\"method\":\"class name\",\"selector\":\"linksIntermedios\"}\n",
      "  (Session info: chrome=64.0.3282.140)\n",
      "  (Driver info: chromedriver=2.35.528157 (4429ca2590d6988c0745c24c8858745aaaec01ef),platform=Mac OS X 10.13.3 x86_64)\n",
      "\n"
     ]
    },
    {
     "name": "stdout",
     "output_type": "stream",
     "text": [
      "No contract data per_planta in http://www.gobiernotransparentechile.cl/directorio/entidad/15/304\n",
      "No contract data per_contrata in http://www.gobiernotransparentechile.cl/directorio/entidad/15/304\n"
     ]
    },
    {
     "name": "stderr",
     "output_type": "stream",
     "text": [
      "Traceback (most recent call last):\n",
      "  File \"./lib/functions.py\", line 103, in getDepartmentData\n",
      "    for l in years_links_list:\n",
      "  File \"/Users/jaime/anaconda3/lib/python3.6/site-packages/selenium/webdriver/remote/webdriver.py\", line 555, in find_element_by_class_name\n",
      "    return self.find_element(by=By.CLASS_NAME, value=name)\n",
      "  File \"/Users/jaime/anaconda3/lib/python3.6/site-packages/selenium/webdriver/remote/webdriver.py\", line 955, in find_element\n",
      "    'value': value})['value']\n",
      "  File \"/Users/jaime/anaconda3/lib/python3.6/site-packages/selenium/webdriver/remote/webdriver.py\", line 312, in execute\n",
      "    self.error_handler.check_response(response)\n",
      "  File \"/Users/jaime/anaconda3/lib/python3.6/site-packages/selenium/webdriver/remote/errorhandler.py\", line 237, in check_response\n",
      "    raise exception_class(message, screen, stacktrace)\n",
      "selenium.common.exceptions.NoSuchElementException: Message: no such element: Unable to locate element: {\"method\":\"class name\",\"selector\":\"linksIntermedios\"}\n",
      "  (Session info: chrome=64.0.3282.140)\n",
      "  (Driver info: chromedriver=2.35.528157 (4429ca2590d6988c0745c24c8858745aaaec01ef),platform=Mac OS X 10.13.3 x86_64)\n",
      "\n"
     ]
    },
    {
     "data": {
      "application/vnd.jupyter.widget-view+json": {
       "model_id": "9ba539734317413dbf19eb3cd7f769de",
       "version_major": 2,
       "version_minor": 0
      },
      "text/plain": [
       "A Jupyter Widget"
      ]
     },
     "metadata": {},
     "output_type": "display_data"
    },
    {
     "name": "stdout",
     "output_type": "stream",
     "text": [
      "\n",
      "Hospital Félix Bulnes\n"
     ]
    },
    {
     "name": "stderr",
     "output_type": "stream",
     "text": [
      "Traceback (most recent call last):\n",
      "  File \"./lib/functions.py\", line 103, in getDepartmentData\n",
      "    for l in years_links_list:\n",
      "  File \"/Users/jaime/anaconda3/lib/python3.6/site-packages/selenium/webdriver/remote/webdriver.py\", line 555, in find_element_by_class_name\n",
      "    return self.find_element(by=By.CLASS_NAME, value=name)\n",
      "  File \"/Users/jaime/anaconda3/lib/python3.6/site-packages/selenium/webdriver/remote/webdriver.py\", line 955, in find_element\n",
      "    'value': value})['value']\n",
      "  File \"/Users/jaime/anaconda3/lib/python3.6/site-packages/selenium/webdriver/remote/webdriver.py\", line 312, in execute\n",
      "    self.error_handler.check_response(response)\n",
      "  File \"/Users/jaime/anaconda3/lib/python3.6/site-packages/selenium/webdriver/remote/errorhandler.py\", line 237, in check_response\n",
      "    raise exception_class(message, screen, stacktrace)\n",
      "selenium.common.exceptions.NoSuchElementException: Message: no such element: Unable to locate element: {\"method\":\"class name\",\"selector\":\"linksIntermedios\"}\n",
      "  (Session info: chrome=64.0.3282.140)\n",
      "  (Driver info: chromedriver=2.35.528157 (4429ca2590d6988c0745c24c8858745aaaec01ef),platform=Mac OS X 10.13.3 x86_64)\n",
      "\n"
     ]
    },
    {
     "name": "stdout",
     "output_type": "stream",
     "text": [
      "No contract data per_planta in http://www.gobiernotransparentechile.cl/directorio/entidad/15/305\n",
      "No contract data per_contrata in http://www.gobiernotransparentechile.cl/directorio/entidad/15/305\n"
     ]
    },
    {
     "name": "stderr",
     "output_type": "stream",
     "text": [
      "Traceback (most recent call last):\n",
      "  File \"./lib/functions.py\", line 103, in getDepartmentData\n",
      "    for l in years_links_list:\n",
      "  File \"/Users/jaime/anaconda3/lib/python3.6/site-packages/selenium/webdriver/remote/webdriver.py\", line 555, in find_element_by_class_name\n",
      "    return self.find_element(by=By.CLASS_NAME, value=name)\n",
      "  File \"/Users/jaime/anaconda3/lib/python3.6/site-packages/selenium/webdriver/remote/webdriver.py\", line 955, in find_element\n",
      "    'value': value})['value']\n",
      "  File \"/Users/jaime/anaconda3/lib/python3.6/site-packages/selenium/webdriver/remote/webdriver.py\", line 312, in execute\n",
      "    self.error_handler.check_response(response)\n",
      "  File \"/Users/jaime/anaconda3/lib/python3.6/site-packages/selenium/webdriver/remote/errorhandler.py\", line 237, in check_response\n",
      "    raise exception_class(message, screen, stacktrace)\n",
      "selenium.common.exceptions.NoSuchElementException: Message: no such element: Unable to locate element: {\"method\":\"class name\",\"selector\":\"linksIntermedios\"}\n",
      "  (Session info: chrome=64.0.3282.140)\n",
      "  (Driver info: chromedriver=2.35.528157 (4429ca2590d6988c0745c24c8858745aaaec01ef),platform=Mac OS X 10.13.3 x86_64)\n",
      "\n"
     ]
    },
    {
     "data": {
      "application/vnd.jupyter.widget-view+json": {
       "model_id": "83186aebe8f94837a3ee7792f4821350",
       "version_major": 2,
       "version_minor": 0
      },
      "text/plain": [
       "A Jupyter Widget"
      ]
     },
     "metadata": {},
     "output_type": "display_data"
    },
    {
     "name": "stdout",
     "output_type": "stream",
     "text": [
      "\n",
      "Hospital de Melipilla\n"
     ]
    },
    {
     "name": "stderr",
     "output_type": "stream",
     "text": [
      "Traceback (most recent call last):\n",
      "  File \"./lib/functions.py\", line 103, in getDepartmentData\n",
      "    for l in years_links_list:\n",
      "  File \"/Users/jaime/anaconda3/lib/python3.6/site-packages/selenium/webdriver/remote/webdriver.py\", line 555, in find_element_by_class_name\n",
      "    return self.find_element(by=By.CLASS_NAME, value=name)\n",
      "  File \"/Users/jaime/anaconda3/lib/python3.6/site-packages/selenium/webdriver/remote/webdriver.py\", line 955, in find_element\n",
      "    'value': value})['value']\n",
      "  File \"/Users/jaime/anaconda3/lib/python3.6/site-packages/selenium/webdriver/remote/webdriver.py\", line 312, in execute\n",
      "    self.error_handler.check_response(response)\n",
      "  File \"/Users/jaime/anaconda3/lib/python3.6/site-packages/selenium/webdriver/remote/errorhandler.py\", line 237, in check_response\n",
      "    raise exception_class(message, screen, stacktrace)\n",
      "selenium.common.exceptions.NoSuchElementException: Message: no such element: Unable to locate element: {\"method\":\"class name\",\"selector\":\"linksIntermedios\"}\n",
      "  (Session info: chrome=64.0.3282.140)\n",
      "  (Driver info: chromedriver=2.35.528157 (4429ca2590d6988c0745c24c8858745aaaec01ef),platform=Mac OS X 10.13.3 x86_64)\n",
      "\n"
     ]
    },
    {
     "name": "stdout",
     "output_type": "stream",
     "text": [
      "No contract data per_planta in http://www.gobiernotransparentechile.cl/directorio/entidad/15/306\n",
      "No contract data per_contrata in http://www.gobiernotransparentechile.cl/directorio/entidad/15/306\n"
     ]
    },
    {
     "name": "stderr",
     "output_type": "stream",
     "text": [
      "Traceback (most recent call last):\n",
      "  File \"./lib/functions.py\", line 103, in getDepartmentData\n",
      "    for l in years_links_list:\n",
      "  File \"/Users/jaime/anaconda3/lib/python3.6/site-packages/selenium/webdriver/remote/webdriver.py\", line 555, in find_element_by_class_name\n",
      "    return self.find_element(by=By.CLASS_NAME, value=name)\n",
      "  File \"/Users/jaime/anaconda3/lib/python3.6/site-packages/selenium/webdriver/remote/webdriver.py\", line 955, in find_element\n",
      "    'value': value})['value']\n",
      "  File \"/Users/jaime/anaconda3/lib/python3.6/site-packages/selenium/webdriver/remote/webdriver.py\", line 312, in execute\n",
      "    self.error_handler.check_response(response)\n",
      "  File \"/Users/jaime/anaconda3/lib/python3.6/site-packages/selenium/webdriver/remote/errorhandler.py\", line 237, in check_response\n",
      "    raise exception_class(message, screen, stacktrace)\n",
      "selenium.common.exceptions.NoSuchElementException: Message: no such element: Unable to locate element: {\"method\":\"class name\",\"selector\":\"linksIntermedios\"}\n",
      "  (Session info: chrome=64.0.3282.140)\n",
      "  (Driver info: chromedriver=2.35.528157 (4429ca2590d6988c0745c24c8858745aaaec01ef),platform=Mac OS X 10.13.3 x86_64)\n",
      "\n"
     ]
    },
    {
     "data": {
      "application/vnd.jupyter.widget-view+json": {
       "model_id": "94d2c2cd2cd540c0b16d2f41c5d66e84",
       "version_major": 2,
       "version_minor": 0
      },
      "text/plain": [
       "A Jupyter Widget"
      ]
     },
     "metadata": {},
     "output_type": "display_data"
    },
    {
     "name": "stdout",
     "output_type": "stream",
     "text": [
      "\n",
      "Hospital San Juan de Dios\n"
     ]
    },
    {
     "name": "stderr",
     "output_type": "stream",
     "text": [
      "Traceback (most recent call last):\n",
      "  File \"./lib/functions.py\", line 103, in getDepartmentData\n",
      "    for l in years_links_list:\n",
      "  File \"/Users/jaime/anaconda3/lib/python3.6/site-packages/selenium/webdriver/remote/webdriver.py\", line 555, in find_element_by_class_name\n",
      "    return self.find_element(by=By.CLASS_NAME, value=name)\n",
      "  File \"/Users/jaime/anaconda3/lib/python3.6/site-packages/selenium/webdriver/remote/webdriver.py\", line 955, in find_element\n",
      "    'value': value})['value']\n",
      "  File \"/Users/jaime/anaconda3/lib/python3.6/site-packages/selenium/webdriver/remote/webdriver.py\", line 312, in execute\n",
      "    self.error_handler.check_response(response)\n",
      "  File \"/Users/jaime/anaconda3/lib/python3.6/site-packages/selenium/webdriver/remote/errorhandler.py\", line 237, in check_response\n",
      "    raise exception_class(message, screen, stacktrace)\n",
      "selenium.common.exceptions.NoSuchElementException: Message: no such element: Unable to locate element: {\"method\":\"class name\",\"selector\":\"linksIntermedios\"}\n",
      "  (Session info: chrome=64.0.3282.140)\n",
      "  (Driver info: chromedriver=2.35.528157 (4429ca2590d6988c0745c24c8858745aaaec01ef),platform=Mac OS X 10.13.3 x86_64)\n",
      "\n"
     ]
    },
    {
     "name": "stdout",
     "output_type": "stream",
     "text": [
      "No contract data per_planta in http://www.gobiernotransparentechile.cl/directorio/entidad/15/307\n",
      "No contract data per_contrata in http://www.gobiernotransparentechile.cl/directorio/entidad/15/307\n"
     ]
    },
    {
     "name": "stderr",
     "output_type": "stream",
     "text": [
      "Traceback (most recent call last):\n",
      "  File \"./lib/functions.py\", line 103, in getDepartmentData\n",
      "    for l in years_links_list:\n",
      "  File \"/Users/jaime/anaconda3/lib/python3.6/site-packages/selenium/webdriver/remote/webdriver.py\", line 555, in find_element_by_class_name\n",
      "    return self.find_element(by=By.CLASS_NAME, value=name)\n",
      "  File \"/Users/jaime/anaconda3/lib/python3.6/site-packages/selenium/webdriver/remote/webdriver.py\", line 955, in find_element\n",
      "    'value': value})['value']\n",
      "  File \"/Users/jaime/anaconda3/lib/python3.6/site-packages/selenium/webdriver/remote/webdriver.py\", line 312, in execute\n",
      "    self.error_handler.check_response(response)\n",
      "  File \"/Users/jaime/anaconda3/lib/python3.6/site-packages/selenium/webdriver/remote/errorhandler.py\", line 237, in check_response\n",
      "    raise exception_class(message, screen, stacktrace)\n",
      "selenium.common.exceptions.NoSuchElementException: Message: no such element: Unable to locate element: {\"method\":\"class name\",\"selector\":\"linksIntermedios\"}\n",
      "  (Session info: chrome=64.0.3282.140)\n",
      "  (Driver info: chromedriver=2.35.528157 (4429ca2590d6988c0745c24c8858745aaaec01ef),platform=Mac OS X 10.13.3 x86_64)\n",
      "\n"
     ]
    },
    {
     "data": {
      "application/vnd.jupyter.widget-view+json": {
       "model_id": "fd24ecccce28473aafd8fb2f8f68f608",
       "version_major": 2,
       "version_minor": 0
      },
      "text/plain": [
       "A Jupyter Widget"
      ]
     },
     "metadata": {},
     "output_type": "display_data"
    },
    {
     "name": "stdout",
     "output_type": "stream",
     "text": [
      "\n",
      "Instituto Pedro Aguirre Cerda\n"
     ]
    },
    {
     "name": "stderr",
     "output_type": "stream",
     "text": [
      "Traceback (most recent call last):\n",
      "  File \"./lib/functions.py\", line 103, in getDepartmentData\n",
      "    for l in years_links_list:\n",
      "  File \"/Users/jaime/anaconda3/lib/python3.6/site-packages/selenium/webdriver/remote/webdriver.py\", line 555, in find_element_by_class_name\n",
      "    return self.find_element(by=By.CLASS_NAME, value=name)\n",
      "  File \"/Users/jaime/anaconda3/lib/python3.6/site-packages/selenium/webdriver/remote/webdriver.py\", line 955, in find_element\n",
      "    'value': value})['value']\n",
      "  File \"/Users/jaime/anaconda3/lib/python3.6/site-packages/selenium/webdriver/remote/webdriver.py\", line 312, in execute\n",
      "    self.error_handler.check_response(response)\n",
      "  File \"/Users/jaime/anaconda3/lib/python3.6/site-packages/selenium/webdriver/remote/errorhandler.py\", line 237, in check_response\n",
      "    raise exception_class(message, screen, stacktrace)\n",
      "selenium.common.exceptions.NoSuchElementException: Message: no such element: Unable to locate element: {\"method\":\"class name\",\"selector\":\"linksIntermedios\"}\n",
      "  (Session info: chrome=64.0.3282.140)\n",
      "  (Driver info: chromedriver=2.35.528157 (4429ca2590d6988c0745c24c8858745aaaec01ef),platform=Mac OS X 10.13.3 x86_64)\n",
      "\n"
     ]
    },
    {
     "name": "stdout",
     "output_type": "stream",
     "text": [
      "No contract data per_planta in http://www.gobiernotransparentechile.cl/directorio/entidad/15/308\n",
      "No contract data per_contrata in http://www.gobiernotransparentechile.cl/directorio/entidad/15/308\n"
     ]
    },
    {
     "name": "stderr",
     "output_type": "stream",
     "text": [
      "Traceback (most recent call last):\n",
      "  File \"./lib/functions.py\", line 103, in getDepartmentData\n",
      "    for l in years_links_list:\n",
      "  File \"/Users/jaime/anaconda3/lib/python3.6/site-packages/selenium/webdriver/remote/webdriver.py\", line 555, in find_element_by_class_name\n",
      "    return self.find_element(by=By.CLASS_NAME, value=name)\n",
      "  File \"/Users/jaime/anaconda3/lib/python3.6/site-packages/selenium/webdriver/remote/webdriver.py\", line 955, in find_element\n",
      "    'value': value})['value']\n",
      "  File \"/Users/jaime/anaconda3/lib/python3.6/site-packages/selenium/webdriver/remote/webdriver.py\", line 312, in execute\n",
      "    self.error_handler.check_response(response)\n",
      "  File \"/Users/jaime/anaconda3/lib/python3.6/site-packages/selenium/webdriver/remote/errorhandler.py\", line 237, in check_response\n",
      "    raise exception_class(message, screen, stacktrace)\n",
      "selenium.common.exceptions.NoSuchElementException: Message: no such element: Unable to locate element: {\"method\":\"class name\",\"selector\":\"linksIntermedios\"}\n",
      "  (Session info: chrome=64.0.3282.140)\n",
      "  (Driver info: chromedriver=2.35.528157 (4429ca2590d6988c0745c24c8858745aaaec01ef),platform=Mac OS X 10.13.3 x86_64)\n",
      "\n"
     ]
    },
    {
     "data": {
      "application/vnd.jupyter.widget-view+json": {
       "model_id": "659e555f89a048e5a2700de90267b79f",
       "version_major": 2,
       "version_minor": 0
      },
      "text/plain": [
       "A Jupyter Widget"
      ]
     },
     "metadata": {},
     "output_type": "display_data"
    },
    {
     "name": "stdout",
     "output_type": "stream",
     "text": [
      "\n",
      "Instituto de Neurocirugía\n"
     ]
    },
    {
     "name": "stderr",
     "output_type": "stream",
     "text": [
      "Traceback (most recent call last):\n",
      "  File \"./lib/functions.py\", line 103, in getDepartmentData\n",
      "    for l in years_links_list:\n",
      "  File \"/Users/jaime/anaconda3/lib/python3.6/site-packages/selenium/webdriver/remote/webdriver.py\", line 555, in find_element_by_class_name\n",
      "    return self.find_element(by=By.CLASS_NAME, value=name)\n",
      "  File \"/Users/jaime/anaconda3/lib/python3.6/site-packages/selenium/webdriver/remote/webdriver.py\", line 955, in find_element\n",
      "    'value': value})['value']\n",
      "  File \"/Users/jaime/anaconda3/lib/python3.6/site-packages/selenium/webdriver/remote/webdriver.py\", line 312, in execute\n",
      "    self.error_handler.check_response(response)\n",
      "  File \"/Users/jaime/anaconda3/lib/python3.6/site-packages/selenium/webdriver/remote/errorhandler.py\", line 237, in check_response\n",
      "    raise exception_class(message, screen, stacktrace)\n",
      "selenium.common.exceptions.NoSuchElementException: Message: no such element: Unable to locate element: {\"method\":\"class name\",\"selector\":\"linksIntermedios\"}\n",
      "  (Session info: chrome=64.0.3282.140)\n",
      "  (Driver info: chromedriver=2.35.528157 (4429ca2590d6988c0745c24c8858745aaaec01ef),platform=Mac OS X 10.13.3 x86_64)\n",
      "\n"
     ]
    },
    {
     "name": "stdout",
     "output_type": "stream",
     "text": [
      "No contract data per_planta in http://www.gobiernotransparentechile.cl/directorio/entidad/15/309\n",
      "No contract data per_contrata in http://www.gobiernotransparentechile.cl/directorio/entidad/15/309\n"
     ]
    },
    {
     "name": "stderr",
     "output_type": "stream",
     "text": [
      "Traceback (most recent call last):\n",
      "  File \"./lib/functions.py\", line 103, in getDepartmentData\n",
      "    for l in years_links_list:\n",
      "  File \"/Users/jaime/anaconda3/lib/python3.6/site-packages/selenium/webdriver/remote/webdriver.py\", line 555, in find_element_by_class_name\n",
      "    return self.find_element(by=By.CLASS_NAME, value=name)\n",
      "  File \"/Users/jaime/anaconda3/lib/python3.6/site-packages/selenium/webdriver/remote/webdriver.py\", line 955, in find_element\n",
      "    'value': value})['value']\n",
      "  File \"/Users/jaime/anaconda3/lib/python3.6/site-packages/selenium/webdriver/remote/webdriver.py\", line 312, in execute\n",
      "    self.error_handler.check_response(response)\n",
      "  File \"/Users/jaime/anaconda3/lib/python3.6/site-packages/selenium/webdriver/remote/errorhandler.py\", line 237, in check_response\n",
      "    raise exception_class(message, screen, stacktrace)\n",
      "selenium.common.exceptions.NoSuchElementException: Message: no such element: Unable to locate element: {\"method\":\"class name\",\"selector\":\"linksIntermedios\"}\n",
      "  (Session info: chrome=64.0.3282.140)\n",
      "  (Driver info: chromedriver=2.35.528157 (4429ca2590d6988c0745c24c8858745aaaec01ef),platform=Mac OS X 10.13.3 x86_64)\n",
      "\n"
     ]
    },
    {
     "data": {
      "application/vnd.jupyter.widget-view+json": {
       "model_id": "107339575e3f4840bbfb2a06338a11e6",
       "version_major": 2,
       "version_minor": 0
      },
      "text/plain": [
       "A Jupyter Widget"
      ]
     },
     "metadata": {},
     "output_type": "display_data"
    },
    {
     "name": "stdout",
     "output_type": "stream",
     "text": [
      "\n",
      "Instituto Nacional de Geriatría\n"
     ]
    },
    {
     "name": "stderr",
     "output_type": "stream",
     "text": [
      "Traceback (most recent call last):\n",
      "  File \"./lib/functions.py\", line 103, in getDepartmentData\n",
      "    for l in years_links_list:\n",
      "  File \"/Users/jaime/anaconda3/lib/python3.6/site-packages/selenium/webdriver/remote/webdriver.py\", line 555, in find_element_by_class_name\n",
      "    return self.find_element(by=By.CLASS_NAME, value=name)\n",
      "  File \"/Users/jaime/anaconda3/lib/python3.6/site-packages/selenium/webdriver/remote/webdriver.py\", line 955, in find_element\n",
      "    'value': value})['value']\n",
      "  File \"/Users/jaime/anaconda3/lib/python3.6/site-packages/selenium/webdriver/remote/webdriver.py\", line 312, in execute\n",
      "    self.error_handler.check_response(response)\n",
      "  File \"/Users/jaime/anaconda3/lib/python3.6/site-packages/selenium/webdriver/remote/errorhandler.py\", line 237, in check_response\n",
      "    raise exception_class(message, screen, stacktrace)\n",
      "selenium.common.exceptions.NoSuchElementException: Message: no such element: Unable to locate element: {\"method\":\"class name\",\"selector\":\"linksIntermedios\"}\n",
      "  (Session info: chrome=64.0.3282.140)\n",
      "  (Driver info: chromedriver=2.35.528157 (4429ca2590d6988c0745c24c8858745aaaec01ef),platform=Mac OS X 10.13.3 x86_64)\n",
      "\n"
     ]
    },
    {
     "name": "stdout",
     "output_type": "stream",
     "text": [
      "No contract data per_planta in http://www.gobiernotransparentechile.cl/directorio/entidad/15/310\n",
      "No contract data per_contrata in http://www.gobiernotransparentechile.cl/directorio/entidad/15/310\n"
     ]
    },
    {
     "name": "stderr",
     "output_type": "stream",
     "text": [
      "Traceback (most recent call last):\n",
      "  File \"./lib/functions.py\", line 103, in getDepartmentData\n",
      "    for l in years_links_list:\n",
      "  File \"/Users/jaime/anaconda3/lib/python3.6/site-packages/selenium/webdriver/remote/webdriver.py\", line 555, in find_element_by_class_name\n",
      "    return self.find_element(by=By.CLASS_NAME, value=name)\n",
      "  File \"/Users/jaime/anaconda3/lib/python3.6/site-packages/selenium/webdriver/remote/webdriver.py\", line 955, in find_element\n",
      "    'value': value})['value']\n",
      "  File \"/Users/jaime/anaconda3/lib/python3.6/site-packages/selenium/webdriver/remote/webdriver.py\", line 312, in execute\n",
      "    self.error_handler.check_response(response)\n",
      "  File \"/Users/jaime/anaconda3/lib/python3.6/site-packages/selenium/webdriver/remote/errorhandler.py\", line 237, in check_response\n",
      "    raise exception_class(message, screen, stacktrace)\n",
      "selenium.common.exceptions.NoSuchElementException: Message: no such element: Unable to locate element: {\"method\":\"class name\",\"selector\":\"linksIntermedios\"}\n",
      "  (Session info: chrome=64.0.3282.140)\n",
      "  (Driver info: chromedriver=2.35.528157 (4429ca2590d6988c0745c24c8858745aaaec01ef),platform=Mac OS X 10.13.3 x86_64)\n",
      "\n"
     ]
    },
    {
     "data": {
      "application/vnd.jupyter.widget-view+json": {
       "model_id": "251beea4feaf4ad3b2e47cc5abca68a6",
       "version_major": 2,
       "version_minor": 0
      },
      "text/plain": [
       "A Jupyter Widget"
      ]
     },
     "metadata": {},
     "output_type": "display_data"
    },
    {
     "name": "stdout",
     "output_type": "stream",
     "text": [
      "\n",
      "Hospital Del Salvador\n"
     ]
    },
    {
     "name": "stderr",
     "output_type": "stream",
     "text": [
      "Traceback (most recent call last):\n",
      "  File \"./lib/functions.py\", line 103, in getDepartmentData\n",
      "    for l in years_links_list:\n",
      "  File \"/Users/jaime/anaconda3/lib/python3.6/site-packages/selenium/webdriver/remote/webdriver.py\", line 555, in find_element_by_class_name\n",
      "    return self.find_element(by=By.CLASS_NAME, value=name)\n",
      "  File \"/Users/jaime/anaconda3/lib/python3.6/site-packages/selenium/webdriver/remote/webdriver.py\", line 955, in find_element\n",
      "    'value': value})['value']\n",
      "  File \"/Users/jaime/anaconda3/lib/python3.6/site-packages/selenium/webdriver/remote/webdriver.py\", line 312, in execute\n",
      "    self.error_handler.check_response(response)\n",
      "  File \"/Users/jaime/anaconda3/lib/python3.6/site-packages/selenium/webdriver/remote/errorhandler.py\", line 237, in check_response\n",
      "    raise exception_class(message, screen, stacktrace)\n",
      "selenium.common.exceptions.NoSuchElementException: Message: no such element: Unable to locate element: {\"method\":\"class name\",\"selector\":\"linksIntermedios\"}\n",
      "  (Session info: chrome=64.0.3282.140)\n",
      "  (Driver info: chromedriver=2.35.528157 (4429ca2590d6988c0745c24c8858745aaaec01ef),platform=Mac OS X 10.13.3 x86_64)\n",
      "\n"
     ]
    },
    {
     "name": "stdout",
     "output_type": "stream",
     "text": [
      "No contract data per_planta in http://www.gobiernotransparentechile.cl/directorio/entidad/15/311\n",
      "No contract data per_contrata in http://www.gobiernotransparentechile.cl/directorio/entidad/15/311\n"
     ]
    },
    {
     "name": "stderr",
     "output_type": "stream",
     "text": [
      "Traceback (most recent call last):\n",
      "  File \"./lib/functions.py\", line 103, in getDepartmentData\n",
      "    for l in years_links_list:\n",
      "  File \"/Users/jaime/anaconda3/lib/python3.6/site-packages/selenium/webdriver/remote/webdriver.py\", line 555, in find_element_by_class_name\n",
      "    return self.find_element(by=By.CLASS_NAME, value=name)\n",
      "  File \"/Users/jaime/anaconda3/lib/python3.6/site-packages/selenium/webdriver/remote/webdriver.py\", line 955, in find_element\n",
      "    'value': value})['value']\n",
      "  File \"/Users/jaime/anaconda3/lib/python3.6/site-packages/selenium/webdriver/remote/webdriver.py\", line 312, in execute\n",
      "    self.error_handler.check_response(response)\n",
      "  File \"/Users/jaime/anaconda3/lib/python3.6/site-packages/selenium/webdriver/remote/errorhandler.py\", line 237, in check_response\n",
      "    raise exception_class(message, screen, stacktrace)\n",
      "selenium.common.exceptions.NoSuchElementException: Message: no such element: Unable to locate element: {\"method\":\"class name\",\"selector\":\"linksIntermedios\"}\n",
      "  (Session info: chrome=64.0.3282.140)\n",
      "  (Driver info: chromedriver=2.35.528157 (4429ca2590d6988c0745c24c8858745aaaec01ef),platform=Mac OS X 10.13.3 x86_64)\n",
      "\n"
     ]
    },
    {
     "data": {
      "application/vnd.jupyter.widget-view+json": {
       "model_id": "d354789da14b40a0b772c2382e9d8e2e",
       "version_major": 2,
       "version_minor": 0
      },
      "text/plain": [
       "A Jupyter Widget"
      ]
     },
     "metadata": {},
     "output_type": "display_data"
    },
    {
     "name": "stdout",
     "output_type": "stream",
     "text": [
      "\n",
      "Hospital Barros Luco\n"
     ]
    },
    {
     "name": "stderr",
     "output_type": "stream",
     "text": [
      "Traceback (most recent call last):\n",
      "  File \"./lib/functions.py\", line 103, in getDepartmentData\n",
      "    for l in years_links_list:\n",
      "  File \"/Users/jaime/anaconda3/lib/python3.6/site-packages/selenium/webdriver/remote/webdriver.py\", line 555, in find_element_by_class_name\n",
      "    return self.find_element(by=By.CLASS_NAME, value=name)\n",
      "  File \"/Users/jaime/anaconda3/lib/python3.6/site-packages/selenium/webdriver/remote/webdriver.py\", line 955, in find_element\n",
      "    'value': value})['value']\n",
      "  File \"/Users/jaime/anaconda3/lib/python3.6/site-packages/selenium/webdriver/remote/webdriver.py\", line 312, in execute\n",
      "    self.error_handler.check_response(response)\n",
      "  File \"/Users/jaime/anaconda3/lib/python3.6/site-packages/selenium/webdriver/remote/errorhandler.py\", line 237, in check_response\n",
      "    raise exception_class(message, screen, stacktrace)\n",
      "selenium.common.exceptions.NoSuchElementException: Message: no such element: Unable to locate element: {\"method\":\"class name\",\"selector\":\"linksIntermedios\"}\n",
      "  (Session info: chrome=64.0.3282.140)\n",
      "  (Driver info: chromedriver=2.35.528157 (4429ca2590d6988c0745c24c8858745aaaec01ef),platform=Mac OS X 10.13.3 x86_64)\n",
      "\n"
     ]
    },
    {
     "name": "stdout",
     "output_type": "stream",
     "text": [
      "No contract data per_planta in http://www.gobiernotransparentechile.cl/directorio/entidad/15/312\n",
      "No contract data per_contrata in http://www.gobiernotransparentechile.cl/directorio/entidad/15/312\n"
     ]
    },
    {
     "name": "stderr",
     "output_type": "stream",
     "text": [
      "Traceback (most recent call last):\n",
      "  File \"./lib/functions.py\", line 103, in getDepartmentData\n",
      "    for l in years_links_list:\n",
      "  File \"/Users/jaime/anaconda3/lib/python3.6/site-packages/selenium/webdriver/remote/webdriver.py\", line 555, in find_element_by_class_name\n",
      "    return self.find_element(by=By.CLASS_NAME, value=name)\n",
      "  File \"/Users/jaime/anaconda3/lib/python3.6/site-packages/selenium/webdriver/remote/webdriver.py\", line 955, in find_element\n",
      "    'value': value})['value']\n",
      "  File \"/Users/jaime/anaconda3/lib/python3.6/site-packages/selenium/webdriver/remote/webdriver.py\", line 312, in execute\n",
      "    self.error_handler.check_response(response)\n",
      "  File \"/Users/jaime/anaconda3/lib/python3.6/site-packages/selenium/webdriver/remote/errorhandler.py\", line 237, in check_response\n",
      "    raise exception_class(message, screen, stacktrace)\n",
      "selenium.common.exceptions.NoSuchElementException: Message: no such element: Unable to locate element: {\"method\":\"class name\",\"selector\":\"linksIntermedios\"}\n",
      "  (Session info: chrome=64.0.3282.140)\n",
      "  (Driver info: chromedriver=2.35.528157 (4429ca2590d6988c0745c24c8858745aaaec01ef),platform=Mac OS X 10.13.3 x86_64)\n",
      "\n"
     ]
    },
    {
     "data": {
      "application/vnd.jupyter.widget-view+json": {
       "model_id": "356029f51fa34f0fb34c02b5944d2777",
       "version_major": 2,
       "version_minor": 0
      },
      "text/plain": [
       "A Jupyter Widget"
      ]
     },
     "metadata": {},
     "output_type": "display_data"
    },
    {
     "name": "stdout",
     "output_type": "stream",
     "text": [
      "\n",
      "Hospital Sótero del Río\n"
     ]
    },
    {
     "name": "stderr",
     "output_type": "stream",
     "text": [
      "Traceback (most recent call last):\n",
      "  File \"./lib/functions.py\", line 103, in getDepartmentData\n",
      "    for l in years_links_list:\n",
      "  File \"/Users/jaime/anaconda3/lib/python3.6/site-packages/selenium/webdriver/remote/webdriver.py\", line 555, in find_element_by_class_name\n",
      "    return self.find_element(by=By.CLASS_NAME, value=name)\n",
      "  File \"/Users/jaime/anaconda3/lib/python3.6/site-packages/selenium/webdriver/remote/webdriver.py\", line 955, in find_element\n",
      "    'value': value})['value']\n",
      "  File \"/Users/jaime/anaconda3/lib/python3.6/site-packages/selenium/webdriver/remote/webdriver.py\", line 312, in execute\n",
      "    self.error_handler.check_response(response)\n",
      "  File \"/Users/jaime/anaconda3/lib/python3.6/site-packages/selenium/webdriver/remote/errorhandler.py\", line 237, in check_response\n",
      "    raise exception_class(message, screen, stacktrace)\n",
      "selenium.common.exceptions.NoSuchElementException: Message: no such element: Unable to locate element: {\"method\":\"class name\",\"selector\":\"linksIntermedios\"}\n",
      "  (Session info: chrome=64.0.3282.140)\n",
      "  (Driver info: chromedriver=2.35.528157 (4429ca2590d6988c0745c24c8858745aaaec01ef),platform=Mac OS X 10.13.3 x86_64)\n",
      "\n"
     ]
    },
    {
     "name": "stdout",
     "output_type": "stream",
     "text": [
      "No contract data per_planta in http://www.gobiernotransparentechile.cl/directorio/entidad/15/313\n",
      "No contract data per_contrata in http://www.gobiernotransparentechile.cl/directorio/entidad/15/313\n"
     ]
    },
    {
     "name": "stderr",
     "output_type": "stream",
     "text": [
      "Traceback (most recent call last):\n",
      "  File \"./lib/functions.py\", line 103, in getDepartmentData\n",
      "    for l in years_links_list:\n",
      "  File \"/Users/jaime/anaconda3/lib/python3.6/site-packages/selenium/webdriver/remote/webdriver.py\", line 555, in find_element_by_class_name\n",
      "    return self.find_element(by=By.CLASS_NAME, value=name)\n",
      "  File \"/Users/jaime/anaconda3/lib/python3.6/site-packages/selenium/webdriver/remote/webdriver.py\", line 955, in find_element\n",
      "    'value': value})['value']\n",
      "  File \"/Users/jaime/anaconda3/lib/python3.6/site-packages/selenium/webdriver/remote/webdriver.py\", line 312, in execute\n",
      "    self.error_handler.check_response(response)\n",
      "  File \"/Users/jaime/anaconda3/lib/python3.6/site-packages/selenium/webdriver/remote/errorhandler.py\", line 237, in check_response\n",
      "    raise exception_class(message, screen, stacktrace)\n",
      "selenium.common.exceptions.NoSuchElementException: Message: no such element: Unable to locate element: {\"method\":\"class name\",\"selector\":\"linksIntermedios\"}\n",
      "  (Session info: chrome=64.0.3282.140)\n",
      "  (Driver info: chromedriver=2.35.528157 (4429ca2590d6988c0745c24c8858745aaaec01ef),platform=Mac OS X 10.13.3 x86_64)\n",
      "\n"
     ]
    },
    {
     "data": {
      "application/vnd.jupyter.widget-view+json": {
       "model_id": "9fe753a4f43c467a8d9abee05e00836f",
       "version_major": 2,
       "version_minor": 0
      },
      "text/plain": [
       "A Jupyter Widget"
      ]
     },
     "metadata": {},
     "output_type": "display_data"
    },
    {
     "name": "stdout",
     "output_type": "stream",
     "text": [
      "\n",
      "Hospital Lautaro Navarro de Punta Arenas\n"
     ]
    },
    {
     "name": "stderr",
     "output_type": "stream",
     "text": [
      "Traceback (most recent call last):\n",
      "  File \"./lib/functions.py\", line 103, in getDepartmentData\n",
      "    for l in years_links_list:\n",
      "  File \"/Users/jaime/anaconda3/lib/python3.6/site-packages/selenium/webdriver/remote/webdriver.py\", line 555, in find_element_by_class_name\n",
      "    return self.find_element(by=By.CLASS_NAME, value=name)\n",
      "  File \"/Users/jaime/anaconda3/lib/python3.6/site-packages/selenium/webdriver/remote/webdriver.py\", line 955, in find_element\n",
      "    'value': value})['value']\n",
      "  File \"/Users/jaime/anaconda3/lib/python3.6/site-packages/selenium/webdriver/remote/webdriver.py\", line 312, in execute\n",
      "    self.error_handler.check_response(response)\n",
      "  File \"/Users/jaime/anaconda3/lib/python3.6/site-packages/selenium/webdriver/remote/errorhandler.py\", line 237, in check_response\n",
      "    raise exception_class(message, screen, stacktrace)\n",
      "selenium.common.exceptions.NoSuchElementException: Message: no such element: Unable to locate element: {\"method\":\"class name\",\"selector\":\"linksIntermedios\"}\n",
      "  (Session info: chrome=64.0.3282.140)\n",
      "  (Driver info: chromedriver=2.35.528157 (4429ca2590d6988c0745c24c8858745aaaec01ef),platform=Mac OS X 10.13.3 x86_64)\n",
      "\n"
     ]
    },
    {
     "name": "stdout",
     "output_type": "stream",
     "text": [
      "No contract data per_planta in http://www.gobiernotransparentechile.cl/directorio/entidad/15/314\n",
      "No contract data per_contrata in http://www.gobiernotransparentechile.cl/directorio/entidad/15/314\n"
     ]
    },
    {
     "name": "stderr",
     "output_type": "stream",
     "text": [
      "Traceback (most recent call last):\n",
      "  File \"./lib/functions.py\", line 103, in getDepartmentData\n",
      "    for l in years_links_list:\n",
      "  File \"/Users/jaime/anaconda3/lib/python3.6/site-packages/selenium/webdriver/remote/webdriver.py\", line 555, in find_element_by_class_name\n",
      "    return self.find_element(by=By.CLASS_NAME, value=name)\n",
      "  File \"/Users/jaime/anaconda3/lib/python3.6/site-packages/selenium/webdriver/remote/webdriver.py\", line 955, in find_element\n",
      "    'value': value})['value']\n",
      "  File \"/Users/jaime/anaconda3/lib/python3.6/site-packages/selenium/webdriver/remote/webdriver.py\", line 312, in execute\n",
      "    self.error_handler.check_response(response)\n",
      "  File \"/Users/jaime/anaconda3/lib/python3.6/site-packages/selenium/webdriver/remote/errorhandler.py\", line 237, in check_response\n",
      "    raise exception_class(message, screen, stacktrace)\n",
      "selenium.common.exceptions.NoSuchElementException: Message: no such element: Unable to locate element: {\"method\":\"class name\",\"selector\":\"linksIntermedios\"}\n",
      "  (Session info: chrome=64.0.3282.140)\n",
      "  (Driver info: chromedriver=2.35.528157 (4429ca2590d6988c0745c24c8858745aaaec01ef),platform=Mac OS X 10.13.3 x86_64)\n",
      "\n"
     ]
    },
    {
     "data": {
      "application/vnd.jupyter.widget-view+json": {
       "model_id": "e1b75dc561af4165ae5f6745aa8f3d79",
       "version_major": 2,
       "version_minor": 0
      },
      "text/plain": [
       "A Jupyter Widget"
      ]
     },
     "metadata": {},
     "output_type": "display_data"
    },
    {
     "name": "stdout",
     "output_type": "stream",
     "text": [
      "\n",
      "Hospital de Curicó\n"
     ]
    },
    {
     "name": "stderr",
     "output_type": "stream",
     "text": [
      "Traceback (most recent call last):\n",
      "  File \"./lib/functions.py\", line 103, in getDepartmentData\n",
      "    for l in years_links_list:\n",
      "  File \"/Users/jaime/anaconda3/lib/python3.6/site-packages/selenium/webdriver/remote/webdriver.py\", line 555, in find_element_by_class_name\n",
      "    return self.find_element(by=By.CLASS_NAME, value=name)\n",
      "  File \"/Users/jaime/anaconda3/lib/python3.6/site-packages/selenium/webdriver/remote/webdriver.py\", line 955, in find_element\n",
      "    'value': value})['value']\n",
      "  File \"/Users/jaime/anaconda3/lib/python3.6/site-packages/selenium/webdriver/remote/webdriver.py\", line 312, in execute\n",
      "    self.error_handler.check_response(response)\n",
      "  File \"/Users/jaime/anaconda3/lib/python3.6/site-packages/selenium/webdriver/remote/errorhandler.py\", line 237, in check_response\n",
      "    raise exception_class(message, screen, stacktrace)\n",
      "selenium.common.exceptions.NoSuchElementException: Message: no such element: Unable to locate element: {\"method\":\"class name\",\"selector\":\"linksIntermedios\"}\n",
      "  (Session info: chrome=64.0.3282.140)\n",
      "  (Driver info: chromedriver=2.35.528157 (4429ca2590d6988c0745c24c8858745aaaec01ef),platform=Mac OS X 10.13.3 x86_64)\n",
      "\n"
     ]
    },
    {
     "name": "stdout",
     "output_type": "stream",
     "text": [
      "No contract data per_planta in http://www.gobiernotransparentechile.cl/directorio/entidad/15/315\n",
      "No contract data per_contrata in http://www.gobiernotransparentechile.cl/directorio/entidad/15/315\n"
     ]
    },
    {
     "name": "stderr",
     "output_type": "stream",
     "text": [
      "Traceback (most recent call last):\n",
      "  File \"./lib/functions.py\", line 103, in getDepartmentData\n",
      "    for l in years_links_list:\n",
      "  File \"/Users/jaime/anaconda3/lib/python3.6/site-packages/selenium/webdriver/remote/webdriver.py\", line 555, in find_element_by_class_name\n",
      "    return self.find_element(by=By.CLASS_NAME, value=name)\n",
      "  File \"/Users/jaime/anaconda3/lib/python3.6/site-packages/selenium/webdriver/remote/webdriver.py\", line 955, in find_element\n",
      "    'value': value})['value']\n",
      "  File \"/Users/jaime/anaconda3/lib/python3.6/site-packages/selenium/webdriver/remote/webdriver.py\", line 312, in execute\n",
      "    self.error_handler.check_response(response)\n",
      "  File \"/Users/jaime/anaconda3/lib/python3.6/site-packages/selenium/webdriver/remote/errorhandler.py\", line 237, in check_response\n",
      "    raise exception_class(message, screen, stacktrace)\n",
      "selenium.common.exceptions.NoSuchElementException: Message: no such element: Unable to locate element: {\"method\":\"class name\",\"selector\":\"linksIntermedios\"}\n",
      "  (Session info: chrome=64.0.3282.140)\n",
      "  (Driver info: chromedriver=2.35.528157 (4429ca2590d6988c0745c24c8858745aaaec01ef),platform=Mac OS X 10.13.3 x86_64)\n",
      "\n"
     ]
    },
    {
     "data": {
      "application/vnd.jupyter.widget-view+json": {
       "model_id": "2a3424524c024c559a42de882af358cc",
       "version_major": 2,
       "version_minor": 0
      },
      "text/plain": [
       "A Jupyter Widget"
      ]
     },
     "metadata": {},
     "output_type": "display_data"
    },
    {
     "name": "stdout",
     "output_type": "stream",
     "text": [
      "\n",
      "Hospital de Linares\n"
     ]
    },
    {
     "name": "stderr",
     "output_type": "stream",
     "text": [
      "Traceback (most recent call last):\n",
      "  File \"./lib/functions.py\", line 103, in getDepartmentData\n",
      "    for l in years_links_list:\n",
      "  File \"/Users/jaime/anaconda3/lib/python3.6/site-packages/selenium/webdriver/remote/webdriver.py\", line 555, in find_element_by_class_name\n",
      "    return self.find_element(by=By.CLASS_NAME, value=name)\n",
      "  File \"/Users/jaime/anaconda3/lib/python3.6/site-packages/selenium/webdriver/remote/webdriver.py\", line 955, in find_element\n",
      "    'value': value})['value']\n",
      "  File \"/Users/jaime/anaconda3/lib/python3.6/site-packages/selenium/webdriver/remote/webdriver.py\", line 312, in execute\n",
      "    self.error_handler.check_response(response)\n",
      "  File \"/Users/jaime/anaconda3/lib/python3.6/site-packages/selenium/webdriver/remote/errorhandler.py\", line 237, in check_response\n",
      "    raise exception_class(message, screen, stacktrace)\n",
      "selenium.common.exceptions.NoSuchElementException: Message: no such element: Unable to locate element: {\"method\":\"class name\",\"selector\":\"linksIntermedios\"}\n",
      "  (Session info: chrome=64.0.3282.140)\n",
      "  (Driver info: chromedriver=2.35.528157 (4429ca2590d6988c0745c24c8858745aaaec01ef),platform=Mac OS X 10.13.3 x86_64)\n",
      "\n"
     ]
    },
    {
     "name": "stdout",
     "output_type": "stream",
     "text": [
      "No contract data per_planta in http://www.gobiernotransparentechile.cl/directorio/entidad/15/316\n",
      "No contract data per_contrata in http://www.gobiernotransparentechile.cl/directorio/entidad/15/316\n"
     ]
    },
    {
     "name": "stderr",
     "output_type": "stream",
     "text": [
      "Traceback (most recent call last):\n",
      "  File \"./lib/functions.py\", line 103, in getDepartmentData\n",
      "    for l in years_links_list:\n",
      "  File \"/Users/jaime/anaconda3/lib/python3.6/site-packages/selenium/webdriver/remote/webdriver.py\", line 555, in find_element_by_class_name\n",
      "    return self.find_element(by=By.CLASS_NAME, value=name)\n",
      "  File \"/Users/jaime/anaconda3/lib/python3.6/site-packages/selenium/webdriver/remote/webdriver.py\", line 955, in find_element\n",
      "    'value': value})['value']\n",
      "  File \"/Users/jaime/anaconda3/lib/python3.6/site-packages/selenium/webdriver/remote/webdriver.py\", line 312, in execute\n",
      "    self.error_handler.check_response(response)\n",
      "  File \"/Users/jaime/anaconda3/lib/python3.6/site-packages/selenium/webdriver/remote/errorhandler.py\", line 237, in check_response\n",
      "    raise exception_class(message, screen, stacktrace)\n",
      "selenium.common.exceptions.NoSuchElementException: Message: no such element: Unable to locate element: {\"method\":\"class name\",\"selector\":\"linksIntermedios\"}\n",
      "  (Session info: chrome=64.0.3282.140)\n",
      "  (Driver info: chromedriver=2.35.528157 (4429ca2590d6988c0745c24c8858745aaaec01ef),platform=Mac OS X 10.13.3 x86_64)\n",
      "\n"
     ]
    },
    {
     "data": {
      "application/vnd.jupyter.widget-view+json": {
       "model_id": "00c7419f3ccd429d8d9d02cc68310811",
       "version_major": 2,
       "version_minor": 0
      },
      "text/plain": [
       "A Jupyter Widget"
      ]
     },
     "metadata": {},
     "output_type": "display_data"
    },
    {
     "name": "stdout",
     "output_type": "stream",
     "text": [
      "\n",
      "Hospital Regional de Talca\n"
     ]
    },
    {
     "name": "stderr",
     "output_type": "stream",
     "text": [
      "Traceback (most recent call last):\n",
      "  File \"./lib/functions.py\", line 103, in getDepartmentData\n",
      "    for l in years_links_list:\n",
      "  File \"/Users/jaime/anaconda3/lib/python3.6/site-packages/selenium/webdriver/remote/webdriver.py\", line 555, in find_element_by_class_name\n",
      "    return self.find_element(by=By.CLASS_NAME, value=name)\n",
      "  File \"/Users/jaime/anaconda3/lib/python3.6/site-packages/selenium/webdriver/remote/webdriver.py\", line 955, in find_element\n",
      "    'value': value})['value']\n",
      "  File \"/Users/jaime/anaconda3/lib/python3.6/site-packages/selenium/webdriver/remote/webdriver.py\", line 312, in execute\n",
      "    self.error_handler.check_response(response)\n",
      "  File \"/Users/jaime/anaconda3/lib/python3.6/site-packages/selenium/webdriver/remote/errorhandler.py\", line 237, in check_response\n",
      "    raise exception_class(message, screen, stacktrace)\n",
      "selenium.common.exceptions.NoSuchElementException: Message: no such element: Unable to locate element: {\"method\":\"class name\",\"selector\":\"linksIntermedios\"}\n",
      "  (Session info: chrome=64.0.3282.140)\n",
      "  (Driver info: chromedriver=2.35.528157 (4429ca2590d6988c0745c24c8858745aaaec01ef),platform=Mac OS X 10.13.3 x86_64)\n",
      "\n"
     ]
    },
    {
     "name": "stdout",
     "output_type": "stream",
     "text": [
      "No contract data per_planta in http://www.gobiernotransparentechile.cl/directorio/entidad/15/317\n",
      "No contract data per_contrata in http://www.gobiernotransparentechile.cl/directorio/entidad/15/317\n"
     ]
    },
    {
     "name": "stderr",
     "output_type": "stream",
     "text": [
      "Traceback (most recent call last):\n",
      "  File \"./lib/functions.py\", line 103, in getDepartmentData\n",
      "    for l in years_links_list:\n",
      "  File \"/Users/jaime/anaconda3/lib/python3.6/site-packages/selenium/webdriver/remote/webdriver.py\", line 555, in find_element_by_class_name\n",
      "    return self.find_element(by=By.CLASS_NAME, value=name)\n",
      "  File \"/Users/jaime/anaconda3/lib/python3.6/site-packages/selenium/webdriver/remote/webdriver.py\", line 955, in find_element\n",
      "    'value': value})['value']\n",
      "  File \"/Users/jaime/anaconda3/lib/python3.6/site-packages/selenium/webdriver/remote/webdriver.py\", line 312, in execute\n",
      "    self.error_handler.check_response(response)\n",
      "  File \"/Users/jaime/anaconda3/lib/python3.6/site-packages/selenium/webdriver/remote/errorhandler.py\", line 237, in check_response\n",
      "    raise exception_class(message, screen, stacktrace)\n",
      "selenium.common.exceptions.NoSuchElementException: Message: no such element: Unable to locate element: {\"method\":\"class name\",\"selector\":\"linksIntermedios\"}\n",
      "  (Session info: chrome=64.0.3282.140)\n",
      "  (Driver info: chromedriver=2.35.528157 (4429ca2590d6988c0745c24c8858745aaaec01ef),platform=Mac OS X 10.13.3 x86_64)\n",
      "\n"
     ]
    },
    {
     "data": {
      "application/vnd.jupyter.widget-view+json": {
       "model_id": "df5dba3dcfea43b7984d2dac1ff4bb6b",
       "version_major": 2,
       "version_minor": 0
      },
      "text/plain": [
       "A Jupyter Widget"
      ]
     },
     "metadata": {},
     "output_type": "display_data"
    },
    {
     "name": "stdout",
     "output_type": "stream",
     "text": [
      "\n",
      "Hospital de San Carlos\n"
     ]
    },
    {
     "name": "stderr",
     "output_type": "stream",
     "text": [
      "Traceback (most recent call last):\n",
      "  File \"./lib/functions.py\", line 103, in getDepartmentData\n",
      "    for l in years_links_list:\n",
      "  File \"/Users/jaime/anaconda3/lib/python3.6/site-packages/selenium/webdriver/remote/webdriver.py\", line 555, in find_element_by_class_name\n",
      "    return self.find_element(by=By.CLASS_NAME, value=name)\n",
      "  File \"/Users/jaime/anaconda3/lib/python3.6/site-packages/selenium/webdriver/remote/webdriver.py\", line 955, in find_element\n",
      "    'value': value})['value']\n",
      "  File \"/Users/jaime/anaconda3/lib/python3.6/site-packages/selenium/webdriver/remote/webdriver.py\", line 312, in execute\n",
      "    self.error_handler.check_response(response)\n",
      "  File \"/Users/jaime/anaconda3/lib/python3.6/site-packages/selenium/webdriver/remote/errorhandler.py\", line 237, in check_response\n",
      "    raise exception_class(message, screen, stacktrace)\n",
      "selenium.common.exceptions.NoSuchElementException: Message: no such element: Unable to locate element: {\"method\":\"class name\",\"selector\":\"linksIntermedios\"}\n",
      "  (Session info: chrome=64.0.3282.140)\n",
      "  (Driver info: chromedriver=2.35.528157 (4429ca2590d6988c0745c24c8858745aaaec01ef),platform=Mac OS X 10.13.3 x86_64)\n",
      "\n"
     ]
    },
    {
     "name": "stdout",
     "output_type": "stream",
     "text": [
      "No contract data per_planta in http://www.gobiernotransparentechile.cl/directorio/entidad/15/318\n",
      "No contract data per_contrata in http://www.gobiernotransparentechile.cl/directorio/entidad/15/318\n"
     ]
    },
    {
     "name": "stderr",
     "output_type": "stream",
     "text": [
      "Traceback (most recent call last):\n",
      "  File \"./lib/functions.py\", line 103, in getDepartmentData\n",
      "    for l in years_links_list:\n",
      "  File \"/Users/jaime/anaconda3/lib/python3.6/site-packages/selenium/webdriver/remote/webdriver.py\", line 555, in find_element_by_class_name\n",
      "    return self.find_element(by=By.CLASS_NAME, value=name)\n",
      "  File \"/Users/jaime/anaconda3/lib/python3.6/site-packages/selenium/webdriver/remote/webdriver.py\", line 955, in find_element\n",
      "    'value': value})['value']\n",
      "  File \"/Users/jaime/anaconda3/lib/python3.6/site-packages/selenium/webdriver/remote/webdriver.py\", line 312, in execute\n",
      "    self.error_handler.check_response(response)\n",
      "  File \"/Users/jaime/anaconda3/lib/python3.6/site-packages/selenium/webdriver/remote/errorhandler.py\", line 237, in check_response\n",
      "    raise exception_class(message, screen, stacktrace)\n",
      "selenium.common.exceptions.NoSuchElementException: Message: no such element: Unable to locate element: {\"method\":\"class name\",\"selector\":\"linksIntermedios\"}\n",
      "  (Session info: chrome=64.0.3282.140)\n",
      "  (Driver info: chromedriver=2.35.528157 (4429ca2590d6988c0745c24c8858745aaaec01ef),platform=Mac OS X 10.13.3 x86_64)\n",
      "\n"
     ]
    },
    {
     "data": {
      "application/vnd.jupyter.widget-view+json": {
       "model_id": "884ed390a90d468c8b0bd1679a933bdf",
       "version_major": 2,
       "version_minor": 0
      },
      "text/plain": [
       "A Jupyter Widget"
      ]
     },
     "metadata": {},
     "output_type": "display_data"
    },
    {
     "name": "stdout",
     "output_type": "stream",
     "text": [
      "\n",
      "Hospital San Juan de Dios de San Fernando\n"
     ]
    },
    {
     "name": "stderr",
     "output_type": "stream",
     "text": [
      "Traceback (most recent call last):\n",
      "  File \"./lib/functions.py\", line 103, in getDepartmentData\n",
      "    for l in years_links_list:\n",
      "  File \"/Users/jaime/anaconda3/lib/python3.6/site-packages/selenium/webdriver/remote/webdriver.py\", line 555, in find_element_by_class_name\n",
      "    return self.find_element(by=By.CLASS_NAME, value=name)\n",
      "  File \"/Users/jaime/anaconda3/lib/python3.6/site-packages/selenium/webdriver/remote/webdriver.py\", line 955, in find_element\n",
      "    'value': value})['value']\n",
      "  File \"/Users/jaime/anaconda3/lib/python3.6/site-packages/selenium/webdriver/remote/webdriver.py\", line 312, in execute\n",
      "    self.error_handler.check_response(response)\n",
      "  File \"/Users/jaime/anaconda3/lib/python3.6/site-packages/selenium/webdriver/remote/errorhandler.py\", line 237, in check_response\n",
      "    raise exception_class(message, screen, stacktrace)\n",
      "selenium.common.exceptions.NoSuchElementException: Message: no such element: Unable to locate element: {\"method\":\"class name\",\"selector\":\"linksIntermedios\"}\n",
      "  (Session info: chrome=64.0.3282.140)\n",
      "  (Driver info: chromedriver=2.35.528157 (4429ca2590d6988c0745c24c8858745aaaec01ef),platform=Mac OS X 10.13.3 x86_64)\n",
      "\n"
     ]
    },
    {
     "name": "stdout",
     "output_type": "stream",
     "text": [
      "No contract data per_planta in http://www.gobiernotransparentechile.cl/directorio/entidad/15/319\n",
      "No contract data per_contrata in http://www.gobiernotransparentechile.cl/directorio/entidad/15/319\n"
     ]
    },
    {
     "name": "stderr",
     "output_type": "stream",
     "text": [
      "Traceback (most recent call last):\n",
      "  File \"./lib/functions.py\", line 103, in getDepartmentData\n",
      "    for l in years_links_list:\n",
      "  File \"/Users/jaime/anaconda3/lib/python3.6/site-packages/selenium/webdriver/remote/webdriver.py\", line 555, in find_element_by_class_name\n",
      "    return self.find_element(by=By.CLASS_NAME, value=name)\n",
      "  File \"/Users/jaime/anaconda3/lib/python3.6/site-packages/selenium/webdriver/remote/webdriver.py\", line 955, in find_element\n",
      "    'value': value})['value']\n",
      "  File \"/Users/jaime/anaconda3/lib/python3.6/site-packages/selenium/webdriver/remote/webdriver.py\", line 312, in execute\n",
      "    self.error_handler.check_response(response)\n",
      "  File \"/Users/jaime/anaconda3/lib/python3.6/site-packages/selenium/webdriver/remote/errorhandler.py\", line 237, in check_response\n",
      "    raise exception_class(message, screen, stacktrace)\n",
      "selenium.common.exceptions.NoSuchElementException: Message: no such element: Unable to locate element: {\"method\":\"class name\",\"selector\":\"linksIntermedios\"}\n",
      "  (Session info: chrome=64.0.3282.140)\n",
      "  (Driver info: chromedriver=2.35.528157 (4429ca2590d6988c0745c24c8858745aaaec01ef),platform=Mac OS X 10.13.3 x86_64)\n",
      "\n"
     ]
    },
    {
     "data": {
      "application/vnd.jupyter.widget-view+json": {
       "model_id": "427e6d7995cc4c979516ca8ff6c30534",
       "version_major": 2,
       "version_minor": 0
      },
      "text/plain": [
       "A Jupyter Widget"
      ]
     },
     "metadata": {},
     "output_type": "display_data"
    },
    {
     "name": "stdout",
     "output_type": "stream",
     "text": [
      "\n",
      "Hospital Regional de Rancagua\n"
     ]
    },
    {
     "name": "stderr",
     "output_type": "stream",
     "text": [
      "Traceback (most recent call last):\n",
      "  File \"./lib/functions.py\", line 103, in getDepartmentData\n",
      "    for l in years_links_list:\n",
      "  File \"/Users/jaime/anaconda3/lib/python3.6/site-packages/selenium/webdriver/remote/webdriver.py\", line 555, in find_element_by_class_name\n",
      "    return self.find_element(by=By.CLASS_NAME, value=name)\n",
      "  File \"/Users/jaime/anaconda3/lib/python3.6/site-packages/selenium/webdriver/remote/webdriver.py\", line 955, in find_element\n",
      "    'value': value})['value']\n",
      "  File \"/Users/jaime/anaconda3/lib/python3.6/site-packages/selenium/webdriver/remote/webdriver.py\", line 312, in execute\n",
      "    self.error_handler.check_response(response)\n",
      "  File \"/Users/jaime/anaconda3/lib/python3.6/site-packages/selenium/webdriver/remote/errorhandler.py\", line 237, in check_response\n",
      "    raise exception_class(message, screen, stacktrace)\n",
      "selenium.common.exceptions.NoSuchElementException: Message: no such element: Unable to locate element: {\"method\":\"class name\",\"selector\":\"linksIntermedios\"}\n",
      "  (Session info: chrome=64.0.3282.140)\n",
      "  (Driver info: chromedriver=2.35.528157 (4429ca2590d6988c0745c24c8858745aaaec01ef),platform=Mac OS X 10.13.3 x86_64)\n",
      "\n"
     ]
    },
    {
     "name": "stdout",
     "output_type": "stream",
     "text": [
      "No contract data per_planta in http://www.gobiernotransparentechile.cl/directorio/entidad/15/320\n",
      "No contract data per_contrata in http://www.gobiernotransparentechile.cl/directorio/entidad/15/320\n"
     ]
    },
    {
     "name": "stderr",
     "output_type": "stream",
     "text": [
      "Traceback (most recent call last):\n",
      "  File \"./lib/functions.py\", line 103, in getDepartmentData\n",
      "    for l in years_links_list:\n",
      "  File \"/Users/jaime/anaconda3/lib/python3.6/site-packages/selenium/webdriver/remote/webdriver.py\", line 555, in find_element_by_class_name\n",
      "    return self.find_element(by=By.CLASS_NAME, value=name)\n",
      "  File \"/Users/jaime/anaconda3/lib/python3.6/site-packages/selenium/webdriver/remote/webdriver.py\", line 955, in find_element\n",
      "    'value': value})['value']\n",
      "  File \"/Users/jaime/anaconda3/lib/python3.6/site-packages/selenium/webdriver/remote/webdriver.py\", line 312, in execute\n",
      "    self.error_handler.check_response(response)\n",
      "  File \"/Users/jaime/anaconda3/lib/python3.6/site-packages/selenium/webdriver/remote/errorhandler.py\", line 237, in check_response\n",
      "    raise exception_class(message, screen, stacktrace)\n",
      "selenium.common.exceptions.NoSuchElementException: Message: no such element: Unable to locate element: {\"method\":\"class name\",\"selector\":\"linksIntermedios\"}\n",
      "  (Session info: chrome=64.0.3282.140)\n",
      "  (Driver info: chromedriver=2.35.528157 (4429ca2590d6988c0745c24c8858745aaaec01ef),platform=Mac OS X 10.13.3 x86_64)\n",
      "\n"
     ]
    },
    {
     "data": {
      "application/vnd.jupyter.widget-view+json": {
       "model_id": "3330d139a11345a99920aaa94700ef1c",
       "version_major": 2,
       "version_minor": 0
      },
      "text/plain": [
       "A Jupyter Widget"
      ]
     },
     "metadata": {},
     "output_type": "display_data"
    },
    {
     "name": "stdout",
     "output_type": "stream",
     "text": [
      "\n",
      "Hospital de Osorno\n"
     ]
    },
    {
     "name": "stderr",
     "output_type": "stream",
     "text": [
      "Traceback (most recent call last):\n",
      "  File \"./lib/functions.py\", line 103, in getDepartmentData\n",
      "    for l in years_links_list:\n",
      "  File \"/Users/jaime/anaconda3/lib/python3.6/site-packages/selenium/webdriver/remote/webdriver.py\", line 555, in find_element_by_class_name\n",
      "    return self.find_element(by=By.CLASS_NAME, value=name)\n",
      "  File \"/Users/jaime/anaconda3/lib/python3.6/site-packages/selenium/webdriver/remote/webdriver.py\", line 955, in find_element\n",
      "    'value': value})['value']\n",
      "  File \"/Users/jaime/anaconda3/lib/python3.6/site-packages/selenium/webdriver/remote/webdriver.py\", line 312, in execute\n",
      "    self.error_handler.check_response(response)\n",
      "  File \"/Users/jaime/anaconda3/lib/python3.6/site-packages/selenium/webdriver/remote/errorhandler.py\", line 237, in check_response\n",
      "    raise exception_class(message, screen, stacktrace)\n",
      "selenium.common.exceptions.NoSuchElementException: Message: no such element: Unable to locate element: {\"method\":\"class name\",\"selector\":\"linksIntermedios\"}\n",
      "  (Session info: chrome=64.0.3282.140)\n",
      "  (Driver info: chromedriver=2.35.528157 (4429ca2590d6988c0745c24c8858745aaaec01ef),platform=Mac OS X 10.13.3 x86_64)\n",
      "\n"
     ]
    },
    {
     "name": "stdout",
     "output_type": "stream",
     "text": [
      "No contract data per_planta in http://www.gobiernotransparentechile.cl/directorio/entidad/15/321\n",
      "No contract data per_contrata in http://www.gobiernotransparentechile.cl/directorio/entidad/15/321\n"
     ]
    },
    {
     "name": "stderr",
     "output_type": "stream",
     "text": [
      "Traceback (most recent call last):\n",
      "  File \"./lib/functions.py\", line 103, in getDepartmentData\n",
      "    for l in years_links_list:\n",
      "  File \"/Users/jaime/anaconda3/lib/python3.6/site-packages/selenium/webdriver/remote/webdriver.py\", line 555, in find_element_by_class_name\n",
      "    return self.find_element(by=By.CLASS_NAME, value=name)\n",
      "  File \"/Users/jaime/anaconda3/lib/python3.6/site-packages/selenium/webdriver/remote/webdriver.py\", line 955, in find_element\n",
      "    'value': value})['value']\n",
      "  File \"/Users/jaime/anaconda3/lib/python3.6/site-packages/selenium/webdriver/remote/webdriver.py\", line 312, in execute\n",
      "    self.error_handler.check_response(response)\n",
      "  File \"/Users/jaime/anaconda3/lib/python3.6/site-packages/selenium/webdriver/remote/errorhandler.py\", line 237, in check_response\n",
      "    raise exception_class(message, screen, stacktrace)\n",
      "selenium.common.exceptions.NoSuchElementException: Message: no such element: Unable to locate element: {\"method\":\"class name\",\"selector\":\"linksIntermedios\"}\n",
      "  (Session info: chrome=64.0.3282.140)\n",
      "  (Driver info: chromedriver=2.35.528157 (4429ca2590d6988c0745c24c8858745aaaec01ef),platform=Mac OS X 10.13.3 x86_64)\n",
      "\n"
     ]
    },
    {
     "data": {
      "application/vnd.jupyter.widget-view+json": {
       "model_id": "333cf35676384a4abcb64603adddf10e",
       "version_major": 2,
       "version_minor": 0
      },
      "text/plain": [
       "A Jupyter Widget"
      ]
     },
     "metadata": {},
     "output_type": "display_data"
    },
    {
     "name": "stdout",
     "output_type": "stream",
     "text": [
      "\n",
      "Hospital de Puerto Montt\n"
     ]
    },
    {
     "name": "stderr",
     "output_type": "stream",
     "text": [
      "Traceback (most recent call last):\n",
      "  File \"./lib/functions.py\", line 103, in getDepartmentData\n",
      "    for l in years_links_list:\n",
      "  File \"/Users/jaime/anaconda3/lib/python3.6/site-packages/selenium/webdriver/remote/webdriver.py\", line 555, in find_element_by_class_name\n",
      "    return self.find_element(by=By.CLASS_NAME, value=name)\n",
      "  File \"/Users/jaime/anaconda3/lib/python3.6/site-packages/selenium/webdriver/remote/webdriver.py\", line 955, in find_element\n",
      "    'value': value})['value']\n",
      "  File \"/Users/jaime/anaconda3/lib/python3.6/site-packages/selenium/webdriver/remote/webdriver.py\", line 312, in execute\n",
      "    self.error_handler.check_response(response)\n",
      "  File \"/Users/jaime/anaconda3/lib/python3.6/site-packages/selenium/webdriver/remote/errorhandler.py\", line 237, in check_response\n",
      "    raise exception_class(message, screen, stacktrace)\n",
      "selenium.common.exceptions.NoSuchElementException: Message: no such element: Unable to locate element: {\"method\":\"class name\",\"selector\":\"linksIntermedios\"}\n",
      "  (Session info: chrome=64.0.3282.140)\n",
      "  (Driver info: chromedriver=2.35.528157 (4429ca2590d6988c0745c24c8858745aaaec01ef),platform=Mac OS X 10.13.3 x86_64)\n",
      "\n"
     ]
    },
    {
     "name": "stdout",
     "output_type": "stream",
     "text": [
      "No contract data per_planta in http://www.gobiernotransparentechile.cl/directorio/entidad/15/322\n",
      "No contract data per_contrata in http://www.gobiernotransparentechile.cl/directorio/entidad/15/322\n"
     ]
    },
    {
     "name": "stderr",
     "output_type": "stream",
     "text": [
      "Traceback (most recent call last):\n",
      "  File \"./lib/functions.py\", line 103, in getDepartmentData\n",
      "    for l in years_links_list:\n",
      "  File \"/Users/jaime/anaconda3/lib/python3.6/site-packages/selenium/webdriver/remote/webdriver.py\", line 555, in find_element_by_class_name\n",
      "    return self.find_element(by=By.CLASS_NAME, value=name)\n",
      "  File \"/Users/jaime/anaconda3/lib/python3.6/site-packages/selenium/webdriver/remote/webdriver.py\", line 955, in find_element\n",
      "    'value': value})['value']\n",
      "  File \"/Users/jaime/anaconda3/lib/python3.6/site-packages/selenium/webdriver/remote/webdriver.py\", line 312, in execute\n",
      "    self.error_handler.check_response(response)\n",
      "  File \"/Users/jaime/anaconda3/lib/python3.6/site-packages/selenium/webdriver/remote/errorhandler.py\", line 237, in check_response\n",
      "    raise exception_class(message, screen, stacktrace)\n",
      "selenium.common.exceptions.NoSuchElementException: Message: no such element: Unable to locate element: {\"method\":\"class name\",\"selector\":\"linksIntermedios\"}\n",
      "  (Session info: chrome=64.0.3282.140)\n",
      "  (Driver info: chromedriver=2.35.528157 (4429ca2590d6988c0745c24c8858745aaaec01ef),platform=Mac OS X 10.13.3 x86_64)\n",
      "\n"
     ]
    },
    {
     "data": {
      "application/vnd.jupyter.widget-view+json": {
       "model_id": "7f8f8cc5bdde45e19a4d6a31e3b3cf06",
       "version_major": 2,
       "version_minor": 0
      },
      "text/plain": [
       "A Jupyter Widget"
      ]
     },
     "metadata": {},
     "output_type": "display_data"
    },
    {
     "name": "stdout",
     "output_type": "stream",
     "text": [
      "\n",
      "Hospital de Tomé\n"
     ]
    },
    {
     "name": "stderr",
     "output_type": "stream",
     "text": [
      "Traceback (most recent call last):\n",
      "  File \"./lib/functions.py\", line 103, in getDepartmentData\n",
      "    for l in years_links_list:\n",
      "  File \"/Users/jaime/anaconda3/lib/python3.6/site-packages/selenium/webdriver/remote/webdriver.py\", line 555, in find_element_by_class_name\n",
      "    return self.find_element(by=By.CLASS_NAME, value=name)\n",
      "  File \"/Users/jaime/anaconda3/lib/python3.6/site-packages/selenium/webdriver/remote/webdriver.py\", line 955, in find_element\n",
      "    'value': value})['value']\n",
      "  File \"/Users/jaime/anaconda3/lib/python3.6/site-packages/selenium/webdriver/remote/webdriver.py\", line 312, in execute\n",
      "    self.error_handler.check_response(response)\n",
      "  File \"/Users/jaime/anaconda3/lib/python3.6/site-packages/selenium/webdriver/remote/errorhandler.py\", line 237, in check_response\n",
      "    raise exception_class(message, screen, stacktrace)\n",
      "selenium.common.exceptions.NoSuchElementException: Message: no such element: Unable to locate element: {\"method\":\"class name\",\"selector\":\"linksIntermedios\"}\n",
      "  (Session info: chrome=64.0.3282.140)\n",
      "  (Driver info: chromedriver=2.35.528157 (4429ca2590d6988c0745c24c8858745aaaec01ef),platform=Mac OS X 10.13.3 x86_64)\n",
      "\n"
     ]
    },
    {
     "name": "stdout",
     "output_type": "stream",
     "text": [
      "No contract data per_planta in http://www.gobiernotransparentechile.cl/directorio/entidad/15/323\n",
      "No contract data per_contrata in http://www.gobiernotransparentechile.cl/directorio/entidad/15/323\n"
     ]
    },
    {
     "name": "stderr",
     "output_type": "stream",
     "text": [
      "Traceback (most recent call last):\n",
      "  File \"./lib/functions.py\", line 103, in getDepartmentData\n",
      "    for l in years_links_list:\n",
      "  File \"/Users/jaime/anaconda3/lib/python3.6/site-packages/selenium/webdriver/remote/webdriver.py\", line 555, in find_element_by_class_name\n",
      "    return self.find_element(by=By.CLASS_NAME, value=name)\n",
      "  File \"/Users/jaime/anaconda3/lib/python3.6/site-packages/selenium/webdriver/remote/webdriver.py\", line 955, in find_element\n",
      "    'value': value})['value']\n",
      "  File \"/Users/jaime/anaconda3/lib/python3.6/site-packages/selenium/webdriver/remote/webdriver.py\", line 312, in execute\n",
      "    self.error_handler.check_response(response)\n",
      "  File \"/Users/jaime/anaconda3/lib/python3.6/site-packages/selenium/webdriver/remote/errorhandler.py\", line 237, in check_response\n",
      "    raise exception_class(message, screen, stacktrace)\n",
      "selenium.common.exceptions.NoSuchElementException: Message: no such element: Unable to locate element: {\"method\":\"class name\",\"selector\":\"linksIntermedios\"}\n",
      "  (Session info: chrome=64.0.3282.140)\n",
      "  (Driver info: chromedriver=2.35.528157 (4429ca2590d6988c0745c24c8858745aaaec01ef),platform=Mac OS X 10.13.3 x86_64)\n",
      "\n"
     ]
    },
    {
     "data": {
      "application/vnd.jupyter.widget-view+json": {
       "model_id": "ff7221a8d7084712b4b4208955633a8e",
       "version_major": 2,
       "version_minor": 0
      },
      "text/plain": [
       "A Jupyter Widget"
      ]
     },
     "metadata": {},
     "output_type": "display_data"
    },
    {
     "name": "stdout",
     "output_type": "stream",
     "text": [
      "\n",
      "Hospital de Las Higueras\n"
     ]
    },
    {
     "name": "stderr",
     "output_type": "stream",
     "text": [
      "Traceback (most recent call last):\n",
      "  File \"./lib/functions.py\", line 103, in getDepartmentData\n",
      "    for l in years_links_list:\n",
      "  File \"/Users/jaime/anaconda3/lib/python3.6/site-packages/selenium/webdriver/remote/webdriver.py\", line 555, in find_element_by_class_name\n",
      "    return self.find_element(by=By.CLASS_NAME, value=name)\n",
      "  File \"/Users/jaime/anaconda3/lib/python3.6/site-packages/selenium/webdriver/remote/webdriver.py\", line 955, in find_element\n",
      "    'value': value})['value']\n",
      "  File \"/Users/jaime/anaconda3/lib/python3.6/site-packages/selenium/webdriver/remote/webdriver.py\", line 312, in execute\n",
      "    self.error_handler.check_response(response)\n",
      "  File \"/Users/jaime/anaconda3/lib/python3.6/site-packages/selenium/webdriver/remote/errorhandler.py\", line 237, in check_response\n",
      "    raise exception_class(message, screen, stacktrace)\n",
      "selenium.common.exceptions.NoSuchElementException: Message: no such element: Unable to locate element: {\"method\":\"class name\",\"selector\":\"linksIntermedios\"}\n",
      "  (Session info: chrome=64.0.3282.140)\n",
      "  (Driver info: chromedriver=2.35.528157 (4429ca2590d6988c0745c24c8858745aaaec01ef),platform=Mac OS X 10.13.3 x86_64)\n",
      "\n"
     ]
    },
    {
     "name": "stdout",
     "output_type": "stream",
     "text": [
      "No contract data per_planta in http://www.gobiernotransparentechile.cl/directorio/entidad/15/324\n",
      "No contract data per_contrata in http://www.gobiernotransparentechile.cl/directorio/entidad/15/324\n"
     ]
    },
    {
     "name": "stderr",
     "output_type": "stream",
     "text": [
      "Traceback (most recent call last):\n",
      "  File \"./lib/functions.py\", line 103, in getDepartmentData\n",
      "    for l in years_links_list:\n",
      "  File \"/Users/jaime/anaconda3/lib/python3.6/site-packages/selenium/webdriver/remote/webdriver.py\", line 555, in find_element_by_class_name\n",
      "    return self.find_element(by=By.CLASS_NAME, value=name)\n",
      "  File \"/Users/jaime/anaconda3/lib/python3.6/site-packages/selenium/webdriver/remote/webdriver.py\", line 955, in find_element\n",
      "    'value': value})['value']\n",
      "  File \"/Users/jaime/anaconda3/lib/python3.6/site-packages/selenium/webdriver/remote/webdriver.py\", line 312, in execute\n",
      "    self.error_handler.check_response(response)\n",
      "  File \"/Users/jaime/anaconda3/lib/python3.6/site-packages/selenium/webdriver/remote/errorhandler.py\", line 237, in check_response\n",
      "    raise exception_class(message, screen, stacktrace)\n",
      "selenium.common.exceptions.NoSuchElementException: Message: no such element: Unable to locate element: {\"method\":\"class name\",\"selector\":\"linksIntermedios\"}\n",
      "  (Session info: chrome=64.0.3282.140)\n",
      "  (Driver info: chromedriver=2.35.528157 (4429ca2590d6988c0745c24c8858745aaaec01ef),platform=Mac OS X 10.13.3 x86_64)\n",
      "\n"
     ]
    },
    {
     "data": {
      "application/vnd.jupyter.widget-view+json": {
       "model_id": "6841db4ef57d4c43af493885f564a013",
       "version_major": 2,
       "version_minor": 0
      },
      "text/plain": [
       "A Jupyter Widget"
      ]
     },
     "metadata": {},
     "output_type": "display_data"
    },
    {
     "name": "stdout",
     "output_type": "stream",
     "text": [
      "\n",
      "Hospital Base de Valdivia\n"
     ]
    },
    {
     "name": "stderr",
     "output_type": "stream",
     "text": [
      "Traceback (most recent call last):\n",
      "  File \"./lib/functions.py\", line 103, in getDepartmentData\n",
      "    for l in years_links_list:\n",
      "  File \"/Users/jaime/anaconda3/lib/python3.6/site-packages/selenium/webdriver/remote/webdriver.py\", line 555, in find_element_by_class_name\n",
      "    return self.find_element(by=By.CLASS_NAME, value=name)\n",
      "  File \"/Users/jaime/anaconda3/lib/python3.6/site-packages/selenium/webdriver/remote/webdriver.py\", line 955, in find_element\n",
      "    'value': value})['value']\n",
      "  File \"/Users/jaime/anaconda3/lib/python3.6/site-packages/selenium/webdriver/remote/webdriver.py\", line 312, in execute\n",
      "    self.error_handler.check_response(response)\n",
      "  File \"/Users/jaime/anaconda3/lib/python3.6/site-packages/selenium/webdriver/remote/errorhandler.py\", line 237, in check_response\n",
      "    raise exception_class(message, screen, stacktrace)\n",
      "selenium.common.exceptions.NoSuchElementException: Message: no such element: Unable to locate element: {\"method\":\"class name\",\"selector\":\"linksIntermedios\"}\n",
      "  (Session info: chrome=64.0.3282.140)\n",
      "  (Driver info: chromedriver=2.35.528157 (4429ca2590d6988c0745c24c8858745aaaec01ef),platform=Mac OS X 10.13.3 x86_64)\n",
      "\n"
     ]
    },
    {
     "name": "stdout",
     "output_type": "stream",
     "text": [
      "No contract data per_planta in http://www.gobiernotransparentechile.cl/directorio/entidad/15/325\n",
      "No contract data per_contrata in http://www.gobiernotransparentechile.cl/directorio/entidad/15/325\n"
     ]
    },
    {
     "name": "stderr",
     "output_type": "stream",
     "text": [
      "Traceback (most recent call last):\n",
      "  File \"./lib/functions.py\", line 103, in getDepartmentData\n",
      "    for l in years_links_list:\n",
      "  File \"/Users/jaime/anaconda3/lib/python3.6/site-packages/selenium/webdriver/remote/webdriver.py\", line 555, in find_element_by_class_name\n",
      "    return self.find_element(by=By.CLASS_NAME, value=name)\n",
      "  File \"/Users/jaime/anaconda3/lib/python3.6/site-packages/selenium/webdriver/remote/webdriver.py\", line 955, in find_element\n",
      "    'value': value})['value']\n",
      "  File \"/Users/jaime/anaconda3/lib/python3.6/site-packages/selenium/webdriver/remote/webdriver.py\", line 312, in execute\n",
      "    self.error_handler.check_response(response)\n",
      "  File \"/Users/jaime/anaconda3/lib/python3.6/site-packages/selenium/webdriver/remote/errorhandler.py\", line 237, in check_response\n",
      "    raise exception_class(message, screen, stacktrace)\n",
      "selenium.common.exceptions.NoSuchElementException: Message: no such element: Unable to locate element: {\"method\":\"class name\",\"selector\":\"linksIntermedios\"}\n",
      "  (Session info: chrome=64.0.3282.140)\n",
      "  (Driver info: chromedriver=2.35.528157 (4429ca2590d6988c0745c24c8858745aaaec01ef),platform=Mac OS X 10.13.3 x86_64)\n",
      "\n"
     ]
    },
    {
     "data": {
      "application/vnd.jupyter.widget-view+json": {
       "model_id": "5c077578b1af47ccb202993a559ced18",
       "version_major": 2,
       "version_minor": 0
      },
      "text/plain": [
       "A Jupyter Widget"
      ]
     },
     "metadata": {},
     "output_type": "display_data"
    },
    {
     "name": "stdout",
     "output_type": "stream",
     "text": [
      "\n",
      "Hospital Claudio Vicuña de San Antonio\n"
     ]
    },
    {
     "name": "stderr",
     "output_type": "stream",
     "text": [
      "Traceback (most recent call last):\n",
      "  File \"./lib/functions.py\", line 103, in getDepartmentData\n",
      "    for l in years_links_list:\n",
      "  File \"/Users/jaime/anaconda3/lib/python3.6/site-packages/selenium/webdriver/remote/webdriver.py\", line 555, in find_element_by_class_name\n",
      "    return self.find_element(by=By.CLASS_NAME, value=name)\n",
      "  File \"/Users/jaime/anaconda3/lib/python3.6/site-packages/selenium/webdriver/remote/webdriver.py\", line 955, in find_element\n",
      "    'value': value})['value']\n",
      "  File \"/Users/jaime/anaconda3/lib/python3.6/site-packages/selenium/webdriver/remote/webdriver.py\", line 312, in execute\n",
      "    self.error_handler.check_response(response)\n",
      "  File \"/Users/jaime/anaconda3/lib/python3.6/site-packages/selenium/webdriver/remote/errorhandler.py\", line 237, in check_response\n",
      "    raise exception_class(message, screen, stacktrace)\n",
      "selenium.common.exceptions.NoSuchElementException: Message: no such element: Unable to locate element: {\"method\":\"class name\",\"selector\":\"linksIntermedios\"}\n",
      "  (Session info: chrome=64.0.3282.140)\n",
      "  (Driver info: chromedriver=2.35.528157 (4429ca2590d6988c0745c24c8858745aaaec01ef),platform=Mac OS X 10.13.3 x86_64)\n",
      "\n"
     ]
    },
    {
     "name": "stdout",
     "output_type": "stream",
     "text": [
      "No contract data per_planta in http://www.gobiernotransparentechile.cl/directorio/entidad/15/326\n",
      "No contract data per_contrata in http://www.gobiernotransparentechile.cl/directorio/entidad/15/326\n"
     ]
    },
    {
     "name": "stderr",
     "output_type": "stream",
     "text": [
      "Traceback (most recent call last):\n",
      "  File \"./lib/functions.py\", line 103, in getDepartmentData\n",
      "    for l in years_links_list:\n",
      "  File \"/Users/jaime/anaconda3/lib/python3.6/site-packages/selenium/webdriver/remote/webdriver.py\", line 555, in find_element_by_class_name\n",
      "    return self.find_element(by=By.CLASS_NAME, value=name)\n",
      "  File \"/Users/jaime/anaconda3/lib/python3.6/site-packages/selenium/webdriver/remote/webdriver.py\", line 955, in find_element\n",
      "    'value': value})['value']\n",
      "  File \"/Users/jaime/anaconda3/lib/python3.6/site-packages/selenium/webdriver/remote/webdriver.py\", line 312, in execute\n",
      "    self.error_handler.check_response(response)\n",
      "  File \"/Users/jaime/anaconda3/lib/python3.6/site-packages/selenium/webdriver/remote/errorhandler.py\", line 237, in check_response\n",
      "    raise exception_class(message, screen, stacktrace)\n",
      "selenium.common.exceptions.NoSuchElementException: Message: no such element: Unable to locate element: {\"method\":\"class name\",\"selector\":\"linksIntermedios\"}\n",
      "  (Session info: chrome=64.0.3282.140)\n",
      "  (Driver info: chromedriver=2.35.528157 (4429ca2590d6988c0745c24c8858745aaaec01ef),platform=Mac OS X 10.13.3 x86_64)\n",
      "\n"
     ]
    },
    {
     "data": {
      "application/vnd.jupyter.widget-view+json": {
       "model_id": "fdb41aa9103f49989d78dd3ba5eaff43",
       "version_major": 2,
       "version_minor": 0
      },
      "text/plain": [
       "A Jupyter Widget"
      ]
     },
     "metadata": {},
     "output_type": "display_data"
    },
    {
     "name": "stdout",
     "output_type": "stream",
     "text": [
      "\n",
      "Hospital Carlos Van Büren\n"
     ]
    },
    {
     "name": "stderr",
     "output_type": "stream",
     "text": [
      "Traceback (most recent call last):\n",
      "  File \"./lib/functions.py\", line 103, in getDepartmentData\n",
      "    for l in years_links_list:\n",
      "  File \"/Users/jaime/anaconda3/lib/python3.6/site-packages/selenium/webdriver/remote/webdriver.py\", line 555, in find_element_by_class_name\n",
      "    return self.find_element(by=By.CLASS_NAME, value=name)\n",
      "  File \"/Users/jaime/anaconda3/lib/python3.6/site-packages/selenium/webdriver/remote/webdriver.py\", line 955, in find_element\n",
      "    'value': value})['value']\n",
      "  File \"/Users/jaime/anaconda3/lib/python3.6/site-packages/selenium/webdriver/remote/webdriver.py\", line 312, in execute\n",
      "    self.error_handler.check_response(response)\n",
      "  File \"/Users/jaime/anaconda3/lib/python3.6/site-packages/selenium/webdriver/remote/errorhandler.py\", line 237, in check_response\n",
      "    raise exception_class(message, screen, stacktrace)\n",
      "selenium.common.exceptions.NoSuchElementException: Message: no such element: Unable to locate element: {\"method\":\"class name\",\"selector\":\"linksIntermedios\"}\n",
      "  (Session info: chrome=64.0.3282.140)\n",
      "  (Driver info: chromedriver=2.35.528157 (4429ca2590d6988c0745c24c8858745aaaec01ef),platform=Mac OS X 10.13.3 x86_64)\n",
      "\n"
     ]
    },
    {
     "name": "stdout",
     "output_type": "stream",
     "text": [
      "No contract data per_planta in http://www.gobiernotransparentechile.cl/directorio/entidad/15/327\n",
      "No contract data per_contrata in http://www.gobiernotransparentechile.cl/directorio/entidad/15/327\n"
     ]
    },
    {
     "name": "stderr",
     "output_type": "stream",
     "text": [
      "Traceback (most recent call last):\n",
      "  File \"./lib/functions.py\", line 103, in getDepartmentData\n",
      "    for l in years_links_list:\n",
      "  File \"/Users/jaime/anaconda3/lib/python3.6/site-packages/selenium/webdriver/remote/webdriver.py\", line 555, in find_element_by_class_name\n",
      "    return self.find_element(by=By.CLASS_NAME, value=name)\n",
      "  File \"/Users/jaime/anaconda3/lib/python3.6/site-packages/selenium/webdriver/remote/webdriver.py\", line 955, in find_element\n",
      "    'value': value})['value']\n",
      "  File \"/Users/jaime/anaconda3/lib/python3.6/site-packages/selenium/webdriver/remote/webdriver.py\", line 312, in execute\n",
      "    self.error_handler.check_response(response)\n",
      "  File \"/Users/jaime/anaconda3/lib/python3.6/site-packages/selenium/webdriver/remote/errorhandler.py\", line 237, in check_response\n",
      "    raise exception_class(message, screen, stacktrace)\n",
      "selenium.common.exceptions.NoSuchElementException: Message: no such element: Unable to locate element: {\"method\":\"class name\",\"selector\":\"linksIntermedios\"}\n",
      "  (Session info: chrome=64.0.3282.140)\n",
      "  (Driver info: chromedriver=2.35.528157 (4429ca2590d6988c0745c24c8858745aaaec01ef),platform=Mac OS X 10.13.3 x86_64)\n",
      "\n"
     ]
    },
    {
     "data": {
      "application/vnd.jupyter.widget-view+json": {
       "model_id": "1892a17dc11944448762998197cbc639",
       "version_major": 2,
       "version_minor": 0
      },
      "text/plain": [
       "A Jupyter Widget"
      ]
     },
     "metadata": {},
     "output_type": "display_data"
    },
    {
     "name": "stdout",
     "output_type": "stream",
     "text": [
      "\n",
      "Hospital Eduardo Pereira de Valparaíso\n"
     ]
    },
    {
     "name": "stderr",
     "output_type": "stream",
     "text": [
      "Traceback (most recent call last):\n",
      "  File \"./lib/functions.py\", line 103, in getDepartmentData\n",
      "    for l in years_links_list:\n",
      "  File \"/Users/jaime/anaconda3/lib/python3.6/site-packages/selenium/webdriver/remote/webdriver.py\", line 555, in find_element_by_class_name\n",
      "    return self.find_element(by=By.CLASS_NAME, value=name)\n",
      "  File \"/Users/jaime/anaconda3/lib/python3.6/site-packages/selenium/webdriver/remote/webdriver.py\", line 955, in find_element\n",
      "    'value': value})['value']\n",
      "  File \"/Users/jaime/anaconda3/lib/python3.6/site-packages/selenium/webdriver/remote/webdriver.py\", line 312, in execute\n",
      "    self.error_handler.check_response(response)\n",
      "  File \"/Users/jaime/anaconda3/lib/python3.6/site-packages/selenium/webdriver/remote/errorhandler.py\", line 237, in check_response\n",
      "    raise exception_class(message, screen, stacktrace)\n",
      "selenium.common.exceptions.NoSuchElementException: Message: no such element: Unable to locate element: {\"method\":\"class name\",\"selector\":\"linksIntermedios\"}\n",
      "  (Session info: chrome=64.0.3282.140)\n",
      "  (Driver info: chromedriver=2.35.528157 (4429ca2590d6988c0745c24c8858745aaaec01ef),platform=Mac OS X 10.13.3 x86_64)\n",
      "\n"
     ]
    },
    {
     "name": "stdout",
     "output_type": "stream",
     "text": [
      "No contract data per_planta in http://www.gobiernotransparentechile.cl/directorio/entidad/15/328\n",
      "No contract data per_contrata in http://www.gobiernotransparentechile.cl/directorio/entidad/15/328\n"
     ]
    },
    {
     "name": "stderr",
     "output_type": "stream",
     "text": [
      "Traceback (most recent call last):\n",
      "  File \"./lib/functions.py\", line 103, in getDepartmentData\n",
      "    for l in years_links_list:\n",
      "  File \"/Users/jaime/anaconda3/lib/python3.6/site-packages/selenium/webdriver/remote/webdriver.py\", line 555, in find_element_by_class_name\n",
      "    return self.find_element(by=By.CLASS_NAME, value=name)\n",
      "  File \"/Users/jaime/anaconda3/lib/python3.6/site-packages/selenium/webdriver/remote/webdriver.py\", line 955, in find_element\n",
      "    'value': value})['value']\n",
      "  File \"/Users/jaime/anaconda3/lib/python3.6/site-packages/selenium/webdriver/remote/webdriver.py\", line 312, in execute\n",
      "    self.error_handler.check_response(response)\n",
      "  File \"/Users/jaime/anaconda3/lib/python3.6/site-packages/selenium/webdriver/remote/errorhandler.py\", line 237, in check_response\n",
      "    raise exception_class(message, screen, stacktrace)\n",
      "selenium.common.exceptions.NoSuchElementException: Message: no such element: Unable to locate element: {\"method\":\"class name\",\"selector\":\"linksIntermedios\"}\n",
      "  (Session info: chrome=64.0.3282.140)\n",
      "  (Driver info: chromedriver=2.35.528157 (4429ca2590d6988c0745c24c8858745aaaec01ef),platform=Mac OS X 10.13.3 x86_64)\n",
      "\n"
     ]
    },
    {
     "data": {
      "application/vnd.jupyter.widget-view+json": {
       "model_id": "916162c7777c47dbbe804a461e8a00c8",
       "version_major": 2,
       "version_minor": 0
      },
      "text/plain": [
       "A Jupyter Widget"
      ]
     },
     "metadata": {},
     "output_type": "display_data"
    },
    {
     "name": "stdout",
     "output_type": "stream",
     "text": [
      "\n",
      "Hospital de Quilpué\n"
     ]
    },
    {
     "name": "stderr",
     "output_type": "stream",
     "text": [
      "Traceback (most recent call last):\n",
      "  File \"./lib/functions.py\", line 103, in getDepartmentData\n",
      "    for l in years_links_list:\n",
      "  File \"/Users/jaime/anaconda3/lib/python3.6/site-packages/selenium/webdriver/remote/webdriver.py\", line 555, in find_element_by_class_name\n",
      "    return self.find_element(by=By.CLASS_NAME, value=name)\n",
      "  File \"/Users/jaime/anaconda3/lib/python3.6/site-packages/selenium/webdriver/remote/webdriver.py\", line 955, in find_element\n",
      "    'value': value})['value']\n",
      "  File \"/Users/jaime/anaconda3/lib/python3.6/site-packages/selenium/webdriver/remote/webdriver.py\", line 312, in execute\n",
      "    self.error_handler.check_response(response)\n",
      "  File \"/Users/jaime/anaconda3/lib/python3.6/site-packages/selenium/webdriver/remote/errorhandler.py\", line 237, in check_response\n",
      "    raise exception_class(message, screen, stacktrace)\n",
      "selenium.common.exceptions.NoSuchElementException: Message: no such element: Unable to locate element: {\"method\":\"class name\",\"selector\":\"linksIntermedios\"}\n",
      "  (Session info: chrome=64.0.3282.140)\n",
      "  (Driver info: chromedriver=2.35.528157 (4429ca2590d6988c0745c24c8858745aaaec01ef),platform=Mac OS X 10.13.3 x86_64)\n",
      "\n"
     ]
    },
    {
     "name": "stdout",
     "output_type": "stream",
     "text": [
      "No contract data per_planta in http://www.gobiernotransparentechile.cl/directorio/entidad/15/329\n",
      "No contract data per_contrata in http://www.gobiernotransparentechile.cl/directorio/entidad/15/329\n"
     ]
    },
    {
     "name": "stderr",
     "output_type": "stream",
     "text": [
      "Traceback (most recent call last):\n",
      "  File \"./lib/functions.py\", line 103, in getDepartmentData\n",
      "    for l in years_links_list:\n",
      "  File \"/Users/jaime/anaconda3/lib/python3.6/site-packages/selenium/webdriver/remote/webdriver.py\", line 555, in find_element_by_class_name\n",
      "    return self.find_element(by=By.CLASS_NAME, value=name)\n",
      "  File \"/Users/jaime/anaconda3/lib/python3.6/site-packages/selenium/webdriver/remote/webdriver.py\", line 955, in find_element\n",
      "    'value': value})['value']\n",
      "  File \"/Users/jaime/anaconda3/lib/python3.6/site-packages/selenium/webdriver/remote/webdriver.py\", line 312, in execute\n",
      "    self.error_handler.check_response(response)\n",
      "  File \"/Users/jaime/anaconda3/lib/python3.6/site-packages/selenium/webdriver/remote/errorhandler.py\", line 237, in check_response\n",
      "    raise exception_class(message, screen, stacktrace)\n",
      "selenium.common.exceptions.NoSuchElementException: Message: no such element: Unable to locate element: {\"method\":\"class name\",\"selector\":\"linksIntermedios\"}\n",
      "  (Session info: chrome=64.0.3282.140)\n",
      "  (Driver info: chromedriver=2.35.528157 (4429ca2590d6988c0745c24c8858745aaaec01ef),platform=Mac OS X 10.13.3 x86_64)\n",
      "\n"
     ]
    },
    {
     "data": {
      "application/vnd.jupyter.widget-view+json": {
       "model_id": "c53d8e84d4fc4e938f7eede8706696bd",
       "version_major": 2,
       "version_minor": 0
      },
      "text/plain": [
       "A Jupyter Widget"
      ]
     },
     "metadata": {},
     "output_type": "display_data"
    },
    {
     "name": "stdout",
     "output_type": "stream",
     "text": [
      "\n",
      "Hospital Gustavo Fricke\n"
     ]
    },
    {
     "name": "stderr",
     "output_type": "stream",
     "text": [
      "Traceback (most recent call last):\n",
      "  File \"./lib/functions.py\", line 103, in getDepartmentData\n",
      "    for l in years_links_list:\n",
      "  File \"/Users/jaime/anaconda3/lib/python3.6/site-packages/selenium/webdriver/remote/webdriver.py\", line 555, in find_element_by_class_name\n",
      "    return self.find_element(by=By.CLASS_NAME, value=name)\n",
      "  File \"/Users/jaime/anaconda3/lib/python3.6/site-packages/selenium/webdriver/remote/webdriver.py\", line 955, in find_element\n",
      "    'value': value})['value']\n",
      "  File \"/Users/jaime/anaconda3/lib/python3.6/site-packages/selenium/webdriver/remote/webdriver.py\", line 312, in execute\n",
      "    self.error_handler.check_response(response)\n",
      "  File \"/Users/jaime/anaconda3/lib/python3.6/site-packages/selenium/webdriver/remote/errorhandler.py\", line 237, in check_response\n",
      "    raise exception_class(message, screen, stacktrace)\n",
      "selenium.common.exceptions.NoSuchElementException: Message: no such element: Unable to locate element: {\"method\":\"class name\",\"selector\":\"linksIntermedios\"}\n",
      "  (Session info: chrome=64.0.3282.140)\n",
      "  (Driver info: chromedriver=2.35.528157 (4429ca2590d6988c0745c24c8858745aaaec01ef),platform=Mac OS X 10.13.3 x86_64)\n",
      "\n"
     ]
    },
    {
     "name": "stdout",
     "output_type": "stream",
     "text": [
      "No contract data per_planta in http://www.gobiernotransparentechile.cl/directorio/entidad/15/330\n",
      "No contract data per_contrata in http://www.gobiernotransparentechile.cl/directorio/entidad/15/330\n"
     ]
    },
    {
     "name": "stderr",
     "output_type": "stream",
     "text": [
      "Traceback (most recent call last):\n",
      "  File \"./lib/functions.py\", line 103, in getDepartmentData\n",
      "    for l in years_links_list:\n",
      "  File \"/Users/jaime/anaconda3/lib/python3.6/site-packages/selenium/webdriver/remote/webdriver.py\", line 555, in find_element_by_class_name\n",
      "    return self.find_element(by=By.CLASS_NAME, value=name)\n",
      "  File \"/Users/jaime/anaconda3/lib/python3.6/site-packages/selenium/webdriver/remote/webdriver.py\", line 955, in find_element\n",
      "    'value': value})['value']\n",
      "  File \"/Users/jaime/anaconda3/lib/python3.6/site-packages/selenium/webdriver/remote/webdriver.py\", line 312, in execute\n",
      "    self.error_handler.check_response(response)\n",
      "  File \"/Users/jaime/anaconda3/lib/python3.6/site-packages/selenium/webdriver/remote/errorhandler.py\", line 237, in check_response\n",
      "    raise exception_class(message, screen, stacktrace)\n",
      "selenium.common.exceptions.NoSuchElementException: Message: no such element: Unable to locate element: {\"method\":\"class name\",\"selector\":\"linksIntermedios\"}\n",
      "  (Session info: chrome=64.0.3282.140)\n",
      "  (Driver info: chromedriver=2.35.528157 (4429ca2590d6988c0745c24c8858745aaaec01ef),platform=Mac OS X 10.13.3 x86_64)\n",
      "\n"
     ]
    },
    {
     "data": {
      "application/vnd.jupyter.widget-view+json": {
       "model_id": "e33f03108de64d6c9dc6ce720eda7bd5",
       "version_major": 2,
       "version_minor": 0
      },
      "text/plain": [
       "A Jupyter Widget"
      ]
     },
     "metadata": {},
     "output_type": "display_data"
    },
    {
     "name": "stdout",
     "output_type": "stream",
     "text": [
      "\n",
      "Hospital San Martín de Quillota\n"
     ]
    },
    {
     "name": "stderr",
     "output_type": "stream",
     "text": [
      "Traceback (most recent call last):\n",
      "  File \"./lib/functions.py\", line 103, in getDepartmentData\n",
      "    for l in years_links_list:\n",
      "  File \"/Users/jaime/anaconda3/lib/python3.6/site-packages/selenium/webdriver/remote/webdriver.py\", line 555, in find_element_by_class_name\n",
      "    return self.find_element(by=By.CLASS_NAME, value=name)\n",
      "  File \"/Users/jaime/anaconda3/lib/python3.6/site-packages/selenium/webdriver/remote/webdriver.py\", line 955, in find_element\n",
      "    'value': value})['value']\n",
      "  File \"/Users/jaime/anaconda3/lib/python3.6/site-packages/selenium/webdriver/remote/webdriver.py\", line 312, in execute\n",
      "    self.error_handler.check_response(response)\n",
      "  File \"/Users/jaime/anaconda3/lib/python3.6/site-packages/selenium/webdriver/remote/errorhandler.py\", line 237, in check_response\n",
      "    raise exception_class(message, screen, stacktrace)\n",
      "selenium.common.exceptions.NoSuchElementException: Message: no such element: Unable to locate element: {\"method\":\"class name\",\"selector\":\"linksIntermedios\"}\n",
      "  (Session info: chrome=64.0.3282.140)\n",
      "  (Driver info: chromedriver=2.35.528157 (4429ca2590d6988c0745c24c8858745aaaec01ef),platform=Mac OS X 10.13.3 x86_64)\n",
      "\n"
     ]
    },
    {
     "name": "stdout",
     "output_type": "stream",
     "text": [
      "No contract data per_planta in http://www.gobiernotransparentechile.cl/directorio/entidad/15/331\n",
      "No contract data per_contrata in http://www.gobiernotransparentechile.cl/directorio/entidad/15/331\n"
     ]
    },
    {
     "name": "stderr",
     "output_type": "stream",
     "text": [
      "Traceback (most recent call last):\n",
      "  File \"./lib/functions.py\", line 103, in getDepartmentData\n",
      "    for l in years_links_list:\n",
      "  File \"/Users/jaime/anaconda3/lib/python3.6/site-packages/selenium/webdriver/remote/webdriver.py\", line 555, in find_element_by_class_name\n",
      "    return self.find_element(by=By.CLASS_NAME, value=name)\n",
      "  File \"/Users/jaime/anaconda3/lib/python3.6/site-packages/selenium/webdriver/remote/webdriver.py\", line 955, in find_element\n",
      "    'value': value})['value']\n",
      "  File \"/Users/jaime/anaconda3/lib/python3.6/site-packages/selenium/webdriver/remote/webdriver.py\", line 312, in execute\n",
      "    self.error_handler.check_response(response)\n",
      "  File \"/Users/jaime/anaconda3/lib/python3.6/site-packages/selenium/webdriver/remote/errorhandler.py\", line 237, in check_response\n",
      "    raise exception_class(message, screen, stacktrace)\n",
      "selenium.common.exceptions.NoSuchElementException: Message: no such element: Unable to locate element: {\"method\":\"class name\",\"selector\":\"linksIntermedios\"}\n",
      "  (Session info: chrome=64.0.3282.140)\n",
      "  (Driver info: chromedriver=2.35.528157 (4429ca2590d6988c0745c24c8858745aaaec01ef),platform=Mac OS X 10.13.3 x86_64)\n",
      "\n"
     ]
    },
    {
     "data": {
      "application/vnd.jupyter.widget-view+json": {
       "model_id": "a1747f59b9f146b3b323495501523da6",
       "version_major": 2,
       "version_minor": 0
      },
      "text/plain": [
       "A Jupyter Widget"
      ]
     },
     "metadata": {},
     "output_type": "display_data"
    },
    {
     "name": "stdout",
     "output_type": "stream",
     "text": [
      "\n",
      "Instituto Psiquiátrico\n",
      "No contract data per_contrata in http://www.gobiernotransparentechile.cl/directorio/entidad/15/332\n"
     ]
    },
    {
     "name": "stderr",
     "output_type": "stream",
     "text": [
      "Traceback (most recent call last):\n",
      "  File \"./lib/functions.py\", line 103, in getDepartmentData\n",
      "    for l in years_links_list:\n",
      "  File \"/Users/jaime/anaconda3/lib/python3.6/site-packages/selenium/webdriver/remote/webdriver.py\", line 555, in find_element_by_class_name\n",
      "    return self.find_element(by=By.CLASS_NAME, value=name)\n",
      "  File \"/Users/jaime/anaconda3/lib/python3.6/site-packages/selenium/webdriver/remote/webdriver.py\", line 955, in find_element\n",
      "    'value': value})['value']\n",
      "  File \"/Users/jaime/anaconda3/lib/python3.6/site-packages/selenium/webdriver/remote/webdriver.py\", line 312, in execute\n",
      "    self.error_handler.check_response(response)\n",
      "  File \"/Users/jaime/anaconda3/lib/python3.6/site-packages/selenium/webdriver/remote/errorhandler.py\", line 237, in check_response\n",
      "    raise exception_class(message, screen, stacktrace)\n",
      "selenium.common.exceptions.NoSuchElementException: Message: no such element: Unable to locate element: {\"method\":\"class name\",\"selector\":\"linksIntermedios\"}\n",
      "  (Session info: chrome=64.0.3282.140)\n",
      "  (Driver info: chromedriver=2.35.528157 (4429ca2590d6988c0745c24c8858745aaaec01ef),platform=Mac OS X 10.13.3 x86_64)\n",
      "\n"
     ]
    },
    {
     "data": {
      "application/vnd.jupyter.widget-view+json": {
       "model_id": "c06f03e1251340c0b9d801ff1646ef89",
       "version_major": 2,
       "version_minor": 0
      },
      "text/plain": [
       "A Jupyter Widget"
      ]
     },
     "metadata": {},
     "output_type": "display_data"
    },
    {
     "name": "stdout",
     "output_type": "stream",
     "text": [
      "per_planta Acceso a subsitio lobby\n",
      "could not get breadcrumbs from https://www.leylobby.gob.cl/instituciones/AO001\n",
      "per_planta Declaración de Intereses y Patrimonio Ley 20.880\n",
      "could not get breadcrumbs from https://www.declaracionjurada.cl/sistema/patrimonio.web.publico/pu/index.html?sid=207\n",
      "per_planta Transferencias ley N° 19.862\n",
      "could not get breadcrumbs from http://www.registros19862.cl/institucion/61601000\n",
      "per_planta En Mercado Público\n",
      "could not get breadcrumbs from http://www.mercadopublico.cl/Portal/Modules/Site/AdvancedSearch/newAdvancedSearchPage.aspx?TP=Invitado&IdEmpresa=asH0ertL6Io=\n",
      "per_planta Normas de la Ley sobre Acceso a la Información Pública\n",
      "per_planta Informes de ejecución Presupuestaria\n",
      "could not get breadcrumbs from http://www.dipres.gob.cl/574/propertyvalue-14677.html\n",
      "per_planta Trámites en Chile Atiende\n",
      "could not get breadcrumbs from http://www.chileatiende.cl/transparencia/MINSAL\n",
      "per_planta Portal de Participación Ciudadana\n",
      "could not get breadcrumbs from http://web.minsal.cl/participacion-ciudadana-en-salud/\n",
      "per_planta Costos directos de reproducción de la información requerida via\n",
      "could not get breadcrumbs from http://transparencia.redsalud.gov.cl/transparencia/public/ssp/2014/Res_1551_costos_directos_de_reproduccion.pdf\n",
      "per_planta Resoluciòn Exenta Nª215\n",
      "could not get breadcrumbs from http://transparencia.redsalud.gov.cl/transparencia/public/Resolucion%20actualizada.pdf\n",
      "per_planta Historicos Viajes al Extranjero\n",
      "could not get breadcrumbs from http://transparencia.redsalud.gov.cl/transparencia/public/public/viajes_historico.php\n",
      "per_planta Registro histórico de transferencias\n",
      "could not get breadcrumbs from http://transparencia.redsalud.gov.cl/transparencia/public/public/transferencias_historico.php\n",
      "per_planta Historicos Actos Sobre terceros\n",
      "could not get breadcrumbs from http://transparencia.redsalud.gov.cl/transparencia/public/public/terceros_historico.php\n",
      "per_planta Registro histórico de beneficiarios\n",
      "could not get breadcrumbs from http://transparencia.redsalud.gov.cl/transparencia/public/public/subsidio_historico.php\n",
      "per_planta Participación, representación e intervención\n",
      "could not get breadcrumbs from http://transparencia.redsalud.gov.cl/transparencia/public/public/ssp/vinculos%20publica.html\n",
      "per_planta Otros trámites\n",
      "could not get breadcrumbs from http://transparencia.redsalud.gov.cl/transparencia/public/public/ssp/tramites.html\n",
      "per_planta Programas de subsidios y beneficios\n",
      "could not get breadcrumbs from http://transparencia.redsalud.gov.cl/transparencia/public/public/ssp/subsidio_programas.html\n",
      "per_planta Solicitud de información Ley de Transparencia\n",
      "could not get breadcrumbs from http://transparencia.redsalud.gov.cl/transparencia/public/public/ssp/solicitud_informacion.html\n",
      "per_planta Índice de actos y documentos calificados como secretos o reserva\n",
      "could not get breadcrumbs from http://transparencia.redsalud.gov.cl/transparencia/public/public/ssp/secretoreserva.html\n",
      "per_planta Potestades, competencias, responsabilidades, atribuciones y/o ta\n",
      "could not get breadcrumbs from http://transparencia.redsalud.gov.cl/transparencia/public/public/ssp/potestades.html\n",
      "per_planta Diagrama de la estructura orgánica\n",
      "could not get breadcrumbs from http://transparencia.redsalud.gov.cl/transparencia/public/public/ssp/organica.html\n",
      "per_planta Norma General de Participación Ciudadana\n",
      "could not get breadcrumbs from http://transparencia.redsalud.gov.cl/transparencia/public/public/ssp/norma_participacion.html\n",
      "per_planta Marco normativo aplicable\n",
      "could not get breadcrumbs from http://transparencia.redsalud.gov.cl/transparencia/public/public/ssp/marconormativo-2.html\n",
      "per_planta Formularios y antecedentes de propuestas normativas que afecten\n",
      "could not get breadcrumbs from http://transparencia.redsalud.gov.cl/transparencia/public/public/ssp/ley20416.html\n",
      "per_planta Facultades, funciones y atribuciones de sus unidades u órganos i\n",
      "could not get breadcrumbs from http://transparencia.redsalud.gov.cl/transparencia/public/public/ssp/facultades.html\n",
      "per_planta Actos y documentos publicados en el Diario Oficial\n",
      "could not get breadcrumbs from http://transparencia.redsalud.gov.cl/transparencia/public/public/ssp/diariooficial.html\n",
      "per_planta Mecanismos de participación ciudadana\n",
      "could not get breadcrumbs from http://transparencia.redsalud.gov.cl/transparencia/public/public/ssp/ciudadana.html\n",
      "per_planta Otras transferencias\n",
      "could not get breadcrumbs from http://transparencia.redsalud.gov.cl/transparencia/public/public/ssp/2017/transferencias.html\n",
      "per_planta Nómina de beneficiarios de programas sociales\n",
      "could not get breadcrumbs from http://transparencia.redsalud.gov.cl/transparencia/public/public/ssp/2017/subsidionominas.html\n",
      "per_planta Otras compras y adquisiciones\n",
      "could not get breadcrumbs from http://transparencia.redsalud.gov.cl/transparencia/public/public/ssp/2017/otras_compras.html\n",
      "per_planta Compromisos de Gestión Institucional\n",
      "could not get breadcrumbs from http://transparencia.redsalud.gov.cl/transparencia/public/public/ssp/2017/compromisos_gestion.html\n",
      "per_planta Viajes Realizados al Extranjero\n",
      "could not get breadcrumbs from http://transparencia.redsalud.gov.cl/transparencia/public/public/ssp/2017/comisiones.html\n",
      "per_planta Contratos Bienes Inmuebles\n",
      "could not get breadcrumbs from http://transparencia.redsalud.gov.cl/transparencia/public/public/ssp/2017/bienes_inmuebles.html\n",
      "per_planta Resultados y aclaraciones\n",
      "could not get breadcrumbs from http://transparencia.redsalud.gov.cl/transparencia/public/public/ssp/2017/auditorias.html\n",
      "per_planta Actos con efectos sobre terceros\n",
      "could not get breadcrumbs from http://transparencia.redsalud.gov.cl/transparencia/public/public/ssp/2017/10/terceros_convenio.html\n",
      "per_planta Otros contratos sujetos al Código del trabajo\n",
      "could not get breadcrumbs from http://transparencia.redsalud.gov.cl/transparencia/public/public/ssp/2017/10/per_otrosSSP.html\n",
      "per_planta - Ley 19.664\n",
      "could not get breadcrumbs from http://transparencia.redsalud.gov.cl/transparencia/public/public/ssp/2017/01/Ley_19664.html\n",
      "per_planta - Ley 18.834\n",
      "could not get breadcrumbs from http://transparencia.redsalud.gov.cl/transparencia/public/public/ssp/2017/01/Ley_18834.html\n",
      "per_planta - Ley 15.076\n",
      "could not get breadcrumbs from http://transparencia.redsalud.gov.cl/transparencia/public/public/ssp/2017/01/Ley_15076.html\n",
      "per_planta Declaración de Patrimonio e Intereses. Información Historica\n",
      "could not get breadcrumbs from http://transparencia.redsalud.gov.cl/transparencia/public/public/ssp/2014/patrimonioeintereses.html\n",
      "per_planta Dotación a honorarios\n",
      "could not get breadcrumbs from http://transparencia.redsalud.gov.cl/transparencia/public/public/personal_historico3.php\n",
      "per_planta Dotación a contrata\n",
      "could not get breadcrumbs from http://transparencia.redsalud.gov.cl/transparencia/public/public/personal_historico2.php\n",
      "per_planta Dotación de Planta\n",
      "could not get breadcrumbs from http://transparencia.redsalud.gov.cl/transparencia/public/public/personal_historico1.php\n",
      "per_planta Registro histórico de compras y adquisiciones\n",
      "could not get breadcrumbs from http://transparencia.redsalud.gov.cl/transparencia/public/public/compras_historico.php\n",
      "per_planta Registro histórico de auditorías\n",
      "could not get breadcrumbs from http://transparencia.redsalud.gov.cl/transparencia/public/public/auditorias_historico.php\n",
      "per_planta Normas Generales sobre Comisiones de Servicio\n",
      "could not get breadcrumbs from http://transparencia.redsalud.gov.cl/transparencia/public/Norma%20Basica.pdf\n",
      "per_planta Oficio\n",
      "could not get breadcrumbs from http://transparencia.redsalud.gov.cl/transparencia/public/minsal/archivos/853BBA949AA03A4FE04001011E013781\n",
      "per_planta Indicadores Transversales 2016\n",
      "per_planta Decreto Exento Nª 1165 de 2015\n",
      "could not get breadcrumbs from http://transparencia.redsalud.gov.cl/transparencia/public/indicadores_2016/Decreto%20exento%201165.pdf\n",
      "per_planta Declaración de Patrimonio e Intereses. Instructivo Presidencial\n",
      "could not get breadcrumbs from http://dpi.minsegpres.gob.cl/instituciones/AO001\n",
      "per_planta Consejos Consultivos\n",
      "could not get breadcrumbs from http://diprece.minsal.cl/le-informamos/auge/consejo-consultivo/\n",
      "\n",
      "Hospital San Juan de Dios de Los Andes\n"
     ]
    },
    {
     "name": "stderr",
     "output_type": "stream",
     "text": [
      "Traceback (most recent call last):\n",
      "  File \"./lib/functions.py\", line 103, in getDepartmentData\n",
      "    for l in years_links_list:\n",
      "  File \"/Users/jaime/anaconda3/lib/python3.6/site-packages/selenium/webdriver/remote/webdriver.py\", line 555, in find_element_by_class_name\n",
      "    return self.find_element(by=By.CLASS_NAME, value=name)\n",
      "  File \"/Users/jaime/anaconda3/lib/python3.6/site-packages/selenium/webdriver/remote/webdriver.py\", line 955, in find_element\n",
      "    'value': value})['value']\n",
      "  File \"/Users/jaime/anaconda3/lib/python3.6/site-packages/selenium/webdriver/remote/webdriver.py\", line 312, in execute\n",
      "    self.error_handler.check_response(response)\n",
      "  File \"/Users/jaime/anaconda3/lib/python3.6/site-packages/selenium/webdriver/remote/errorhandler.py\", line 237, in check_response\n",
      "    raise exception_class(message, screen, stacktrace)\n",
      "selenium.common.exceptions.NoSuchElementException: Message: no such element: Unable to locate element: {\"method\":\"class name\",\"selector\":\"linksIntermedios\"}\n",
      "  (Session info: chrome=64.0.3282.140)\n",
      "  (Driver info: chromedriver=2.35.528157 (4429ca2590d6988c0745c24c8858745aaaec01ef),platform=Mac OS X 10.13.3 x86_64)\n",
      "\n"
     ]
    },
    {
     "name": "stdout",
     "output_type": "stream",
     "text": [
      "No contract data per_planta in http://www.gobiernotransparentechile.cl/directorio/entidad/15/333\n",
      "No contract data per_contrata in http://www.gobiernotransparentechile.cl/directorio/entidad/15/333\n"
     ]
    },
    {
     "name": "stderr",
     "output_type": "stream",
     "text": [
      "Traceback (most recent call last):\n",
      "  File \"./lib/functions.py\", line 103, in getDepartmentData\n",
      "    for l in years_links_list:\n",
      "  File \"/Users/jaime/anaconda3/lib/python3.6/site-packages/selenium/webdriver/remote/webdriver.py\", line 555, in find_element_by_class_name\n",
      "    return self.find_element(by=By.CLASS_NAME, value=name)\n",
      "  File \"/Users/jaime/anaconda3/lib/python3.6/site-packages/selenium/webdriver/remote/webdriver.py\", line 955, in find_element\n",
      "    'value': value})['value']\n",
      "  File \"/Users/jaime/anaconda3/lib/python3.6/site-packages/selenium/webdriver/remote/webdriver.py\", line 312, in execute\n",
      "    self.error_handler.check_response(response)\n",
      "  File \"/Users/jaime/anaconda3/lib/python3.6/site-packages/selenium/webdriver/remote/errorhandler.py\", line 237, in check_response\n",
      "    raise exception_class(message, screen, stacktrace)\n",
      "selenium.common.exceptions.NoSuchElementException: Message: no such element: Unable to locate element: {\"method\":\"class name\",\"selector\":\"linksIntermedios\"}\n",
      "  (Session info: chrome=64.0.3282.140)\n",
      "  (Driver info: chromedriver=2.35.528157 (4429ca2590d6988c0745c24c8858745aaaec01ef),platform=Mac OS X 10.13.3 x86_64)\n",
      "\n"
     ]
    },
    {
     "data": {
      "application/vnd.jupyter.widget-view+json": {
       "model_id": "b8b93c7c4cbe48a58c52da40ba2c8965",
       "version_major": 2,
       "version_minor": 0
      },
      "text/plain": [
       "A Jupyter Widget"
      ]
     },
     "metadata": {},
     "output_type": "display_data"
    },
    {
     "name": "stdout",
     "output_type": "stream",
     "text": [
      "\n",
      "Hospital Exequiel González\n"
     ]
    },
    {
     "name": "stderr",
     "output_type": "stream",
     "text": [
      "Traceback (most recent call last):\n",
      "  File \"./lib/functions.py\", line 103, in getDepartmentData\n",
      "    for l in years_links_list:\n",
      "  File \"/Users/jaime/anaconda3/lib/python3.6/site-packages/selenium/webdriver/remote/webdriver.py\", line 555, in find_element_by_class_name\n",
      "    return self.find_element(by=By.CLASS_NAME, value=name)\n",
      "  File \"/Users/jaime/anaconda3/lib/python3.6/site-packages/selenium/webdriver/remote/webdriver.py\", line 955, in find_element\n",
      "    'value': value})['value']\n",
      "  File \"/Users/jaime/anaconda3/lib/python3.6/site-packages/selenium/webdriver/remote/webdriver.py\", line 312, in execute\n",
      "    self.error_handler.check_response(response)\n",
      "  File \"/Users/jaime/anaconda3/lib/python3.6/site-packages/selenium/webdriver/remote/errorhandler.py\", line 237, in check_response\n",
      "    raise exception_class(message, screen, stacktrace)\n",
      "selenium.common.exceptions.NoSuchElementException: Message: no such element: Unable to locate element: {\"method\":\"class name\",\"selector\":\"linksIntermedios\"}\n",
      "  (Session info: chrome=64.0.3282.140)\n",
      "  (Driver info: chromedriver=2.35.528157 (4429ca2590d6988c0745c24c8858745aaaec01ef),platform=Mac OS X 10.13.3 x86_64)\n",
      "\n"
     ]
    },
    {
     "name": "stdout",
     "output_type": "stream",
     "text": [
      "No contract data per_planta in http://www.gobiernotransparentechile.cl/directorio/entidad/15/334\n",
      "No contract data per_contrata in http://www.gobiernotransparentechile.cl/directorio/entidad/15/334\n"
     ]
    },
    {
     "name": "stderr",
     "output_type": "stream",
     "text": [
      "Traceback (most recent call last):\n",
      "  File \"./lib/functions.py\", line 103, in getDepartmentData\n",
      "    for l in years_links_list:\n",
      "  File \"/Users/jaime/anaconda3/lib/python3.6/site-packages/selenium/webdriver/remote/webdriver.py\", line 555, in find_element_by_class_name\n",
      "    return self.find_element(by=By.CLASS_NAME, value=name)\n",
      "  File \"/Users/jaime/anaconda3/lib/python3.6/site-packages/selenium/webdriver/remote/webdriver.py\", line 955, in find_element\n",
      "    'value': value})['value']\n",
      "  File \"/Users/jaime/anaconda3/lib/python3.6/site-packages/selenium/webdriver/remote/webdriver.py\", line 312, in execute\n",
      "    self.error_handler.check_response(response)\n",
      "  File \"/Users/jaime/anaconda3/lib/python3.6/site-packages/selenium/webdriver/remote/errorhandler.py\", line 237, in check_response\n",
      "    raise exception_class(message, screen, stacktrace)\n",
      "selenium.common.exceptions.NoSuchElementException: Message: no such element: Unable to locate element: {\"method\":\"class name\",\"selector\":\"linksIntermedios\"}\n",
      "  (Session info: chrome=64.0.3282.140)\n",
      "  (Driver info: chromedriver=2.35.528157 (4429ca2590d6988c0745c24c8858745aaaec01ef),platform=Mac OS X 10.13.3 x86_64)\n",
      "\n"
     ]
    },
    {
     "data": {
      "application/vnd.jupyter.widget-view+json": {
       "model_id": "ad2227c4a9134d4da8de880f68de8b4c",
       "version_major": 2,
       "version_minor": 0
      },
      "text/plain": [
       "A Jupyter Widget"
      ]
     },
     "metadata": {},
     "output_type": "display_data"
    },
    {
     "name": "stdout",
     "output_type": "stream",
     "text": [
      "\n",
      "Hospital El Pino\n"
     ]
    },
    {
     "name": "stderr",
     "output_type": "stream",
     "text": [
      "Traceback (most recent call last):\n",
      "  File \"./lib/functions.py\", line 103, in getDepartmentData\n",
      "    for l in years_links_list:\n",
      "  File \"/Users/jaime/anaconda3/lib/python3.6/site-packages/selenium/webdriver/remote/webdriver.py\", line 555, in find_element_by_class_name\n",
      "    return self.find_element(by=By.CLASS_NAME, value=name)\n",
      "  File \"/Users/jaime/anaconda3/lib/python3.6/site-packages/selenium/webdriver/remote/webdriver.py\", line 955, in find_element\n",
      "    'value': value})['value']\n",
      "  File \"/Users/jaime/anaconda3/lib/python3.6/site-packages/selenium/webdriver/remote/webdriver.py\", line 312, in execute\n",
      "    self.error_handler.check_response(response)\n",
      "  File \"/Users/jaime/anaconda3/lib/python3.6/site-packages/selenium/webdriver/remote/errorhandler.py\", line 237, in check_response\n",
      "    raise exception_class(message, screen, stacktrace)\n",
      "selenium.common.exceptions.NoSuchElementException: Message: no such element: Unable to locate element: {\"method\":\"class name\",\"selector\":\"linksIntermedios\"}\n",
      "  (Session info: chrome=64.0.3282.140)\n",
      "  (Driver info: chromedriver=2.35.528157 (4429ca2590d6988c0745c24c8858745aaaec01ef),platform=Mac OS X 10.13.3 x86_64)\n",
      "\n"
     ]
    },
    {
     "name": "stdout",
     "output_type": "stream",
     "text": [
      "No contract data per_planta in http://www.gobiernotransparentechile.cl/directorio/entidad/15/335\n",
      "No contract data per_contrata in http://www.gobiernotransparentechile.cl/directorio/entidad/15/335\n"
     ]
    },
    {
     "name": "stderr",
     "output_type": "stream",
     "text": [
      "Traceback (most recent call last):\n",
      "  File \"./lib/functions.py\", line 103, in getDepartmentData\n",
      "    for l in years_links_list:\n",
      "  File \"/Users/jaime/anaconda3/lib/python3.6/site-packages/selenium/webdriver/remote/webdriver.py\", line 555, in find_element_by_class_name\n",
      "    return self.find_element(by=By.CLASS_NAME, value=name)\n",
      "  File \"/Users/jaime/anaconda3/lib/python3.6/site-packages/selenium/webdriver/remote/webdriver.py\", line 955, in find_element\n",
      "    'value': value})['value']\n",
      "  File \"/Users/jaime/anaconda3/lib/python3.6/site-packages/selenium/webdriver/remote/webdriver.py\", line 312, in execute\n",
      "    self.error_handler.check_response(response)\n",
      "  File \"/Users/jaime/anaconda3/lib/python3.6/site-packages/selenium/webdriver/remote/errorhandler.py\", line 237, in check_response\n",
      "    raise exception_class(message, screen, stacktrace)\n",
      "selenium.common.exceptions.NoSuchElementException: Message: no such element: Unable to locate element: {\"method\":\"class name\",\"selector\":\"linksIntermedios\"}\n",
      "  (Session info: chrome=64.0.3282.140)\n",
      "  (Driver info: chromedriver=2.35.528157 (4429ca2590d6988c0745c24c8858745aaaec01ef),platform=Mac OS X 10.13.3 x86_64)\n",
      "\n"
     ]
    },
    {
     "data": {
      "application/vnd.jupyter.widget-view+json": {
       "model_id": "43e0bc90b59b4401956cc0350ec8df82",
       "version_major": 2,
       "version_minor": 0
      },
      "text/plain": [
       "A Jupyter Widget"
      ]
     },
     "metadata": {},
     "output_type": "display_data"
    },
    {
     "name": "stdout",
     "output_type": "stream",
     "text": [
      "\n",
      "Hospital Herminda Martin\n"
     ]
    },
    {
     "name": "stderr",
     "output_type": "stream",
     "text": [
      "Traceback (most recent call last):\n",
      "  File \"./lib/functions.py\", line 103, in getDepartmentData\n",
      "    for l in years_links_list:\n",
      "  File \"/Users/jaime/anaconda3/lib/python3.6/site-packages/selenium/webdriver/remote/webdriver.py\", line 555, in find_element_by_class_name\n",
      "    return self.find_element(by=By.CLASS_NAME, value=name)\n",
      "  File \"/Users/jaime/anaconda3/lib/python3.6/site-packages/selenium/webdriver/remote/webdriver.py\", line 955, in find_element\n",
      "    'value': value})['value']\n",
      "  File \"/Users/jaime/anaconda3/lib/python3.6/site-packages/selenium/webdriver/remote/webdriver.py\", line 312, in execute\n",
      "    self.error_handler.check_response(response)\n",
      "  File \"/Users/jaime/anaconda3/lib/python3.6/site-packages/selenium/webdriver/remote/errorhandler.py\", line 237, in check_response\n",
      "    raise exception_class(message, screen, stacktrace)\n",
      "selenium.common.exceptions.NoSuchElementException: Message: no such element: Unable to locate element: {\"method\":\"class name\",\"selector\":\"linksIntermedios\"}\n",
      "  (Session info: chrome=64.0.3282.140)\n",
      "  (Driver info: chromedriver=2.35.528157 (4429ca2590d6988c0745c24c8858745aaaec01ef),platform=Mac OS X 10.13.3 x86_64)\n",
      "\n"
     ]
    },
    {
     "name": "stdout",
     "output_type": "stream",
     "text": [
      "No contract data per_planta in http://www.gobiernotransparentechile.cl/directorio/entidad/15/336\n",
      "No contract data per_contrata in http://www.gobiernotransparentechile.cl/directorio/entidad/15/336\n"
     ]
    },
    {
     "name": "stderr",
     "output_type": "stream",
     "text": [
      "Traceback (most recent call last):\n",
      "  File \"./lib/functions.py\", line 103, in getDepartmentData\n",
      "    for l in years_links_list:\n",
      "  File \"/Users/jaime/anaconda3/lib/python3.6/site-packages/selenium/webdriver/remote/webdriver.py\", line 555, in find_element_by_class_name\n",
      "    return self.find_element(by=By.CLASS_NAME, value=name)\n",
      "  File \"/Users/jaime/anaconda3/lib/python3.6/site-packages/selenium/webdriver/remote/webdriver.py\", line 955, in find_element\n",
      "    'value': value})['value']\n",
      "  File \"/Users/jaime/anaconda3/lib/python3.6/site-packages/selenium/webdriver/remote/webdriver.py\", line 312, in execute\n",
      "    self.error_handler.check_response(response)\n",
      "  File \"/Users/jaime/anaconda3/lib/python3.6/site-packages/selenium/webdriver/remote/errorhandler.py\", line 237, in check_response\n",
      "    raise exception_class(message, screen, stacktrace)\n",
      "selenium.common.exceptions.NoSuchElementException: Message: no such element: Unable to locate element: {\"method\":\"class name\",\"selector\":\"linksIntermedios\"}\n",
      "  (Session info: chrome=64.0.3282.140)\n",
      "  (Driver info: chromedriver=2.35.528157 (4429ca2590d6988c0745c24c8858745aaaec01ef),platform=Mac OS X 10.13.3 x86_64)\n",
      "\n"
     ]
    },
    {
     "data": {
      "application/vnd.jupyter.widget-view+json": {
       "model_id": "4be8f0f41e5348a5b21dfa6d74ea7978",
       "version_major": 2,
       "version_minor": 0
      },
      "text/plain": [
       "A Jupyter Widget"
      ]
     },
     "metadata": {},
     "output_type": "display_data"
    },
    {
     "name": "stdout",
     "output_type": "stream",
     "text": [
      "\n",
      "Instituto Nacional del Tórax\n"
     ]
    },
    {
     "name": "stderr",
     "output_type": "stream",
     "text": [
      "Traceback (most recent call last):\n",
      "  File \"./lib/functions.py\", line 103, in getDepartmentData\n",
      "    for l in years_links_list:\n",
      "  File \"/Users/jaime/anaconda3/lib/python3.6/site-packages/selenium/webdriver/remote/webdriver.py\", line 555, in find_element_by_class_name\n",
      "    return self.find_element(by=By.CLASS_NAME, value=name)\n",
      "  File \"/Users/jaime/anaconda3/lib/python3.6/site-packages/selenium/webdriver/remote/webdriver.py\", line 955, in find_element\n",
      "    'value': value})['value']\n",
      "  File \"/Users/jaime/anaconda3/lib/python3.6/site-packages/selenium/webdriver/remote/webdriver.py\", line 312, in execute\n",
      "    self.error_handler.check_response(response)\n",
      "  File \"/Users/jaime/anaconda3/lib/python3.6/site-packages/selenium/webdriver/remote/errorhandler.py\", line 237, in check_response\n",
      "    raise exception_class(message, screen, stacktrace)\n",
      "selenium.common.exceptions.NoSuchElementException: Message: no such element: Unable to locate element: {\"method\":\"class name\",\"selector\":\"linksIntermedios\"}\n",
      "  (Session info: chrome=64.0.3282.140)\n",
      "  (Driver info: chromedriver=2.35.528157 (4429ca2590d6988c0745c24c8858745aaaec01ef),platform=Mac OS X 10.13.3 x86_64)\n",
      "\n"
     ]
    },
    {
     "name": "stdout",
     "output_type": "stream",
     "text": [
      "No contract data per_planta in http://www.gobiernotransparentechile.cl/directorio/entidad/15/337\n",
      "No contract data per_contrata in http://www.gobiernotransparentechile.cl/directorio/entidad/15/337\n"
     ]
    },
    {
     "name": "stderr",
     "output_type": "stream",
     "text": [
      "Traceback (most recent call last):\n",
      "  File \"./lib/functions.py\", line 103, in getDepartmentData\n",
      "    for l in years_links_list:\n",
      "  File \"/Users/jaime/anaconda3/lib/python3.6/site-packages/selenium/webdriver/remote/webdriver.py\", line 555, in find_element_by_class_name\n",
      "    return self.find_element(by=By.CLASS_NAME, value=name)\n",
      "  File \"/Users/jaime/anaconda3/lib/python3.6/site-packages/selenium/webdriver/remote/webdriver.py\", line 955, in find_element\n",
      "    'value': value})['value']\n",
      "  File \"/Users/jaime/anaconda3/lib/python3.6/site-packages/selenium/webdriver/remote/webdriver.py\", line 312, in execute\n",
      "    self.error_handler.check_response(response)\n",
      "  File \"/Users/jaime/anaconda3/lib/python3.6/site-packages/selenium/webdriver/remote/errorhandler.py\", line 237, in check_response\n",
      "    raise exception_class(message, screen, stacktrace)\n",
      "selenium.common.exceptions.NoSuchElementException: Message: no such element: Unable to locate element: {\"method\":\"class name\",\"selector\":\"linksIntermedios\"}\n",
      "  (Session info: chrome=64.0.3282.140)\n",
      "  (Driver info: chromedriver=2.35.528157 (4429ca2590d6988c0745c24c8858745aaaec01ef),platform=Mac OS X 10.13.3 x86_64)\n",
      "\n"
     ]
    },
    {
     "data": {
      "application/vnd.jupyter.widget-view+json": {
       "model_id": "bb7ecc5af4234af993b1dbc2ea6f9ac9",
       "version_major": 2,
       "version_minor": 0
      },
      "text/plain": [
       "A Jupyter Widget"
      ]
     },
     "metadata": {},
     "output_type": "display_data"
    },
    {
     "name": "stdout",
     "output_type": "stream",
     "text": [
      "\n",
      "Hospital Luis Tisné\n"
     ]
    },
    {
     "name": "stderr",
     "output_type": "stream",
     "text": [
      "Traceback (most recent call last):\n",
      "  File \"./lib/functions.py\", line 103, in getDepartmentData\n",
      "    for l in years_links_list:\n",
      "  File \"/Users/jaime/anaconda3/lib/python3.6/site-packages/selenium/webdriver/remote/webdriver.py\", line 555, in find_element_by_class_name\n",
      "    return self.find_element(by=By.CLASS_NAME, value=name)\n",
      "  File \"/Users/jaime/anaconda3/lib/python3.6/site-packages/selenium/webdriver/remote/webdriver.py\", line 955, in find_element\n",
      "    'value': value})['value']\n",
      "  File \"/Users/jaime/anaconda3/lib/python3.6/site-packages/selenium/webdriver/remote/webdriver.py\", line 312, in execute\n",
      "    self.error_handler.check_response(response)\n",
      "  File \"/Users/jaime/anaconda3/lib/python3.6/site-packages/selenium/webdriver/remote/errorhandler.py\", line 237, in check_response\n",
      "    raise exception_class(message, screen, stacktrace)\n",
      "selenium.common.exceptions.NoSuchElementException: Message: no such element: Unable to locate element: {\"method\":\"class name\",\"selector\":\"linksIntermedios\"}\n",
      "  (Session info: chrome=64.0.3282.140)\n",
      "  (Driver info: chromedriver=2.35.528157 (4429ca2590d6988c0745c24c8858745aaaec01ef),platform=Mac OS X 10.13.3 x86_64)\n",
      "\n"
     ]
    },
    {
     "name": "stdout",
     "output_type": "stream",
     "text": [
      "No contract data per_planta in http://www.gobiernotransparentechile.cl/directorio/entidad/15/338\n",
      "No contract data per_contrata in http://www.gobiernotransparentechile.cl/directorio/entidad/15/338\n"
     ]
    },
    {
     "name": "stderr",
     "output_type": "stream",
     "text": [
      "Traceback (most recent call last):\n",
      "  File \"./lib/functions.py\", line 103, in getDepartmentData\n",
      "    for l in years_links_list:\n",
      "  File \"/Users/jaime/anaconda3/lib/python3.6/site-packages/selenium/webdriver/remote/webdriver.py\", line 555, in find_element_by_class_name\n",
      "    return self.find_element(by=By.CLASS_NAME, value=name)\n",
      "  File \"/Users/jaime/anaconda3/lib/python3.6/site-packages/selenium/webdriver/remote/webdriver.py\", line 955, in find_element\n",
      "    'value': value})['value']\n",
      "  File \"/Users/jaime/anaconda3/lib/python3.6/site-packages/selenium/webdriver/remote/webdriver.py\", line 312, in execute\n",
      "    self.error_handler.check_response(response)\n",
      "  File \"/Users/jaime/anaconda3/lib/python3.6/site-packages/selenium/webdriver/remote/errorhandler.py\", line 237, in check_response\n",
      "    raise exception_class(message, screen, stacktrace)\n",
      "selenium.common.exceptions.NoSuchElementException: Message: no such element: Unable to locate element: {\"method\":\"class name\",\"selector\":\"linksIntermedios\"}\n",
      "  (Session info: chrome=64.0.3282.140)\n",
      "  (Driver info: chromedriver=2.35.528157 (4429ca2590d6988c0745c24c8858745aaaec01ef),platform=Mac OS X 10.13.3 x86_64)\n",
      "\n"
     ]
    },
    {
     "data": {
      "application/vnd.jupyter.widget-view+json": {
       "model_id": "58baed00b83b44749fcf701be8bd42fb",
       "version_major": 2,
       "version_minor": 0
      },
      "text/plain": [
       "A Jupyter Widget"
      ]
     },
     "metadata": {},
     "output_type": "display_data"
    },
    {
     "name": "stdout",
     "output_type": "stream",
     "text": [
      "\n",
      "Instituto Traumatológico\n"
     ]
    },
    {
     "name": "stderr",
     "output_type": "stream",
     "text": [
      "Traceback (most recent call last):\n",
      "  File \"./lib/functions.py\", line 103, in getDepartmentData\n",
      "    for l in years_links_list:\n",
      "  File \"/Users/jaime/anaconda3/lib/python3.6/site-packages/selenium/webdriver/remote/webdriver.py\", line 555, in find_element_by_class_name\n",
      "    return self.find_element(by=By.CLASS_NAME, value=name)\n",
      "  File \"/Users/jaime/anaconda3/lib/python3.6/site-packages/selenium/webdriver/remote/webdriver.py\", line 955, in find_element\n",
      "    'value': value})['value']\n",
      "  File \"/Users/jaime/anaconda3/lib/python3.6/site-packages/selenium/webdriver/remote/webdriver.py\", line 312, in execute\n",
      "    self.error_handler.check_response(response)\n",
      "  File \"/Users/jaime/anaconda3/lib/python3.6/site-packages/selenium/webdriver/remote/errorhandler.py\", line 237, in check_response\n",
      "    raise exception_class(message, screen, stacktrace)\n",
      "selenium.common.exceptions.NoSuchElementException: Message: no such element: Unable to locate element: {\"method\":\"class name\",\"selector\":\"linksIntermedios\"}\n",
      "  (Session info: chrome=64.0.3282.140)\n",
      "  (Driver info: chromedriver=2.35.528157 (4429ca2590d6988c0745c24c8858745aaaec01ef),platform=Mac OS X 10.13.3 x86_64)\n",
      "\n"
     ]
    },
    {
     "name": "stdout",
     "output_type": "stream",
     "text": [
      "No contract data per_planta in http://www.gobiernotransparentechile.cl/directorio/entidad/15/339\n",
      "No contract data per_contrata in http://www.gobiernotransparentechile.cl/directorio/entidad/15/339\n"
     ]
    },
    {
     "name": "stderr",
     "output_type": "stream",
     "text": [
      "Traceback (most recent call last):\n",
      "  File \"./lib/functions.py\", line 103, in getDepartmentData\n",
      "    for l in years_links_list:\n",
      "  File \"/Users/jaime/anaconda3/lib/python3.6/site-packages/selenium/webdriver/remote/webdriver.py\", line 555, in find_element_by_class_name\n",
      "    return self.find_element(by=By.CLASS_NAME, value=name)\n",
      "  File \"/Users/jaime/anaconda3/lib/python3.6/site-packages/selenium/webdriver/remote/webdriver.py\", line 955, in find_element\n",
      "    'value': value})['value']\n",
      "  File \"/Users/jaime/anaconda3/lib/python3.6/site-packages/selenium/webdriver/remote/webdriver.py\", line 312, in execute\n",
      "    self.error_handler.check_response(response)\n",
      "  File \"/Users/jaime/anaconda3/lib/python3.6/site-packages/selenium/webdriver/remote/errorhandler.py\", line 237, in check_response\n",
      "    raise exception_class(message, screen, stacktrace)\n",
      "selenium.common.exceptions.NoSuchElementException: Message: no such element: Unable to locate element: {\"method\":\"class name\",\"selector\":\"linksIntermedios\"}\n",
      "  (Session info: chrome=64.0.3282.140)\n",
      "  (Driver info: chromedriver=2.35.528157 (4429ca2590d6988c0745c24c8858745aaaec01ef),platform=Mac OS X 10.13.3 x86_64)\n",
      "\n"
     ]
    },
    {
     "data": {
      "application/vnd.jupyter.widget-view+json": {
       "model_id": "a3115936af4e41ec8f06db19595e93b9",
       "version_major": 2,
       "version_minor": 0
      },
      "text/plain": [
       "A Jupyter Widget"
      ]
     },
     "metadata": {},
     "output_type": "display_data"
    },
    {
     "name": "stdout",
     "output_type": "stream",
     "text": [
      "\n",
      "Instituto Nacional del Cáncer\n"
     ]
    },
    {
     "name": "stderr",
     "output_type": "stream",
     "text": [
      "Traceback (most recent call last):\n",
      "  File \"./lib/functions.py\", line 103, in getDepartmentData\n",
      "    for l in years_links_list:\n",
      "  File \"/Users/jaime/anaconda3/lib/python3.6/site-packages/selenium/webdriver/remote/webdriver.py\", line 555, in find_element_by_class_name\n",
      "    return self.find_element(by=By.CLASS_NAME, value=name)\n",
      "  File \"/Users/jaime/anaconda3/lib/python3.6/site-packages/selenium/webdriver/remote/webdriver.py\", line 955, in find_element\n",
      "    'value': value})['value']\n",
      "  File \"/Users/jaime/anaconda3/lib/python3.6/site-packages/selenium/webdriver/remote/webdriver.py\", line 312, in execute\n",
      "    self.error_handler.check_response(response)\n",
      "  File \"/Users/jaime/anaconda3/lib/python3.6/site-packages/selenium/webdriver/remote/errorhandler.py\", line 237, in check_response\n",
      "    raise exception_class(message, screen, stacktrace)\n",
      "selenium.common.exceptions.NoSuchElementException: Message: no such element: Unable to locate element: {\"method\":\"class name\",\"selector\":\"linksIntermedios\"}\n",
      "  (Session info: chrome=64.0.3282.140)\n",
      "  (Driver info: chromedriver=2.35.528157 (4429ca2590d6988c0745c24c8858745aaaec01ef),platform=Mac OS X 10.13.3 x86_64)\n",
      "\n"
     ]
    },
    {
     "name": "stdout",
     "output_type": "stream",
     "text": [
      "No contract data per_planta in http://www.gobiernotransparentechile.cl/directorio/entidad/15/340\n",
      "No contract data per_contrata in http://www.gobiernotransparentechile.cl/directorio/entidad/15/340\n"
     ]
    },
    {
     "name": "stderr",
     "output_type": "stream",
     "text": [
      "Traceback (most recent call last):\n",
      "  File \"./lib/functions.py\", line 103, in getDepartmentData\n",
      "    for l in years_links_list:\n",
      "  File \"/Users/jaime/anaconda3/lib/python3.6/site-packages/selenium/webdriver/remote/webdriver.py\", line 555, in find_element_by_class_name\n",
      "    return self.find_element(by=By.CLASS_NAME, value=name)\n",
      "  File \"/Users/jaime/anaconda3/lib/python3.6/site-packages/selenium/webdriver/remote/webdriver.py\", line 955, in find_element\n",
      "    'value': value})['value']\n",
      "  File \"/Users/jaime/anaconda3/lib/python3.6/site-packages/selenium/webdriver/remote/webdriver.py\", line 312, in execute\n",
      "    self.error_handler.check_response(response)\n",
      "  File \"/Users/jaime/anaconda3/lib/python3.6/site-packages/selenium/webdriver/remote/errorhandler.py\", line 237, in check_response\n",
      "    raise exception_class(message, screen, stacktrace)\n",
      "selenium.common.exceptions.NoSuchElementException: Message: no such element: Unable to locate element: {\"method\":\"class name\",\"selector\":\"linksIntermedios\"}\n",
      "  (Session info: chrome=64.0.3282.140)\n",
      "  (Driver info: chromedriver=2.35.528157 (4429ca2590d6988c0745c24c8858745aaaec01ef),platform=Mac OS X 10.13.3 x86_64)\n",
      "\n"
     ]
    },
    {
     "data": {
      "application/vnd.jupyter.widget-view+json": {
       "model_id": "c25108dfec6345848a9112ae6a7d05bc",
       "version_major": 2,
       "version_minor": 0
      },
      "text/plain": [
       "A Jupyter Widget"
      ]
     },
     "metadata": {},
     "output_type": "display_data"
    },
    {
     "name": "stdout",
     "output_type": "stream",
     "text": [
      "\n",
      "Hospital Luis Calvo Mackenna\n"
     ]
    },
    {
     "name": "stderr",
     "output_type": "stream",
     "text": [
      "Traceback (most recent call last):\n",
      "  File \"./lib/functions.py\", line 103, in getDepartmentData\n",
      "    for l in years_links_list:\n",
      "  File \"/Users/jaime/anaconda3/lib/python3.6/site-packages/selenium/webdriver/remote/webdriver.py\", line 555, in find_element_by_class_name\n",
      "    return self.find_element(by=By.CLASS_NAME, value=name)\n",
      "  File \"/Users/jaime/anaconda3/lib/python3.6/site-packages/selenium/webdriver/remote/webdriver.py\", line 955, in find_element\n",
      "    'value': value})['value']\n",
      "  File \"/Users/jaime/anaconda3/lib/python3.6/site-packages/selenium/webdriver/remote/webdriver.py\", line 312, in execute\n",
      "    self.error_handler.check_response(response)\n",
      "  File \"/Users/jaime/anaconda3/lib/python3.6/site-packages/selenium/webdriver/remote/errorhandler.py\", line 237, in check_response\n",
      "    raise exception_class(message, screen, stacktrace)\n",
      "selenium.common.exceptions.NoSuchElementException: Message: no such element: Unable to locate element: {\"method\":\"class name\",\"selector\":\"linksIntermedios\"}\n",
      "  (Session info: chrome=64.0.3282.140)\n",
      "  (Driver info: chromedriver=2.35.528157 (4429ca2590d6988c0745c24c8858745aaaec01ef),platform=Mac OS X 10.13.3 x86_64)\n",
      "\n"
     ]
    },
    {
     "name": "stdout",
     "output_type": "stream",
     "text": [
      "No contract data per_planta in http://www.gobiernotransparentechile.cl/directorio/entidad/15/341\n",
      "No contract data per_contrata in http://www.gobiernotransparentechile.cl/directorio/entidad/15/341\n"
     ]
    },
    {
     "name": "stderr",
     "output_type": "stream",
     "text": [
      "Traceback (most recent call last):\n",
      "  File \"./lib/functions.py\", line 103, in getDepartmentData\n",
      "    for l in years_links_list:\n",
      "  File \"/Users/jaime/anaconda3/lib/python3.6/site-packages/selenium/webdriver/remote/webdriver.py\", line 555, in find_element_by_class_name\n",
      "    return self.find_element(by=By.CLASS_NAME, value=name)\n",
      "  File \"/Users/jaime/anaconda3/lib/python3.6/site-packages/selenium/webdriver/remote/webdriver.py\", line 955, in find_element\n",
      "    'value': value})['value']\n",
      "  File \"/Users/jaime/anaconda3/lib/python3.6/site-packages/selenium/webdriver/remote/webdriver.py\", line 312, in execute\n",
      "    self.error_handler.check_response(response)\n",
      "  File \"/Users/jaime/anaconda3/lib/python3.6/site-packages/selenium/webdriver/remote/errorhandler.py\", line 237, in check_response\n",
      "    raise exception_class(message, screen, stacktrace)\n",
      "selenium.common.exceptions.NoSuchElementException: Message: no such element: Unable to locate element: {\"method\":\"class name\",\"selector\":\"linksIntermedios\"}\n",
      "  (Session info: chrome=64.0.3282.140)\n",
      "  (Driver info: chromedriver=2.35.528157 (4429ca2590d6988c0745c24c8858745aaaec01ef),platform=Mac OS X 10.13.3 x86_64)\n",
      "\n"
     ]
    },
    {
     "data": {
      "application/vnd.jupyter.widget-view+json": {
       "model_id": "fbbe20f1f53940c5908bac26ccc5258f",
       "version_major": 2,
       "version_minor": 0
      },
      "text/plain": [
       "A Jupyter Widget"
      ]
     },
     "metadata": {},
     "output_type": "display_data"
    },
    {
     "name": "stdout",
     "output_type": "stream",
     "text": [
      "\n",
      "Hospital Dr. Hernán Henríquez Aravena de Temuco\n"
     ]
    },
    {
     "name": "stderr",
     "output_type": "stream",
     "text": [
      "Traceback (most recent call last):\n",
      "  File \"./lib/functions.py\", line 103, in getDepartmentData\n",
      "    for l in years_links_list:\n",
      "  File \"/Users/jaime/anaconda3/lib/python3.6/site-packages/selenium/webdriver/remote/webdriver.py\", line 555, in find_element_by_class_name\n",
      "    return self.find_element(by=By.CLASS_NAME, value=name)\n",
      "  File \"/Users/jaime/anaconda3/lib/python3.6/site-packages/selenium/webdriver/remote/webdriver.py\", line 955, in find_element\n",
      "    'value': value})['value']\n",
      "  File \"/Users/jaime/anaconda3/lib/python3.6/site-packages/selenium/webdriver/remote/webdriver.py\", line 312, in execute\n",
      "    self.error_handler.check_response(response)\n",
      "  File \"/Users/jaime/anaconda3/lib/python3.6/site-packages/selenium/webdriver/remote/errorhandler.py\", line 237, in check_response\n",
      "    raise exception_class(message, screen, stacktrace)\n",
      "selenium.common.exceptions.NoSuchElementException: Message: no such element: Unable to locate element: {\"method\":\"class name\",\"selector\":\"linksIntermedios\"}\n",
      "  (Session info: chrome=64.0.3282.140)\n",
      "  (Driver info: chromedriver=2.35.528157 (4429ca2590d6988c0745c24c8858745aaaec01ef),platform=Mac OS X 10.13.3 x86_64)\n",
      "\n"
     ]
    },
    {
     "name": "stdout",
     "output_type": "stream",
     "text": [
      "No contract data per_planta in http://www.gobiernotransparentechile.cl/directorio/entidad/15/342\n",
      "No contract data per_contrata in http://www.gobiernotransparentechile.cl/directorio/entidad/15/342\n"
     ]
    },
    {
     "name": "stderr",
     "output_type": "stream",
     "text": [
      "Traceback (most recent call last):\n",
      "  File \"./lib/functions.py\", line 103, in getDepartmentData\n",
      "    for l in years_links_list:\n",
      "  File \"/Users/jaime/anaconda3/lib/python3.6/site-packages/selenium/webdriver/remote/webdriver.py\", line 555, in find_element_by_class_name\n",
      "    return self.find_element(by=By.CLASS_NAME, value=name)\n",
      "  File \"/Users/jaime/anaconda3/lib/python3.6/site-packages/selenium/webdriver/remote/webdriver.py\", line 955, in find_element\n",
      "    'value': value})['value']\n",
      "  File \"/Users/jaime/anaconda3/lib/python3.6/site-packages/selenium/webdriver/remote/webdriver.py\", line 312, in execute\n",
      "    self.error_handler.check_response(response)\n",
      "  File \"/Users/jaime/anaconda3/lib/python3.6/site-packages/selenium/webdriver/remote/errorhandler.py\", line 237, in check_response\n",
      "    raise exception_class(message, screen, stacktrace)\n",
      "selenium.common.exceptions.NoSuchElementException: Message: no such element: Unable to locate element: {\"method\":\"class name\",\"selector\":\"linksIntermedios\"}\n",
      "  (Session info: chrome=64.0.3282.140)\n",
      "  (Driver info: chromedriver=2.35.528157 (4429ca2590d6988c0745c24c8858745aaaec01ef),platform=Mac OS X 10.13.3 x86_64)\n",
      "\n"
     ]
    },
    {
     "data": {
      "application/vnd.jupyter.widget-view+json": {
       "model_id": "3a072c8e0cc44b0c89e8598a771881d5",
       "version_major": 2,
       "version_minor": 0
      },
      "text/plain": [
       "A Jupyter Widget"
      ]
     },
     "metadata": {},
     "output_type": "display_data"
    },
    {
     "name": "stdout",
     "output_type": "stream",
     "text": [
      "\n",
      "Ministerio de Vivienda y Urbanismo\n",
      "Subsecretaría de Vivienda y Urbanismo\n"
     ]
    },
    {
     "data": {
      "application/vnd.jupyter.widget-view+json": {
       "model_id": "8d08934485aa4de5a385876440eefa74",
       "version_major": 2,
       "version_minor": 0
      },
      "text/plain": [
       "A Jupyter Widget"
      ]
     },
     "metadata": {},
     "output_type": "display_data"
    },
    {
     "name": "stdout",
     "output_type": "stream",
     "text": [
      "per_planta Diciembre\n",
      "per_planta Noviembre\n",
      "per_planta Octubre\n",
      "per_planta Septiembre\n",
      "per_planta Agosto\n",
      "per_planta Julio\n",
      "per_planta Junio\n",
      "per_planta Mayo\n",
      "per_planta Abril\n",
      "per_planta Marzo\n",
      "per_planta Febrero\n",
      "per_planta Enero\n",
      "per_planta Año 2015\n",
      "per_planta Año 2014\n",
      "per_planta Año 2013\n",
      "per_planta Año 2012\n",
      "per_planta Año 2011\n",
      "per_planta Año 2010\n",
      "per_planta Año 2009\n",
      "per_planta Año 2008\n",
      "per_planta Año 2007\n",
      "per_planta Año 2006\n",
      "per_contrata Diciembre\n",
      "per_contrata Noviembre\n",
      "per_contrata Octubre\n",
      "per_contrata Septiembre\n",
      "per_contrata Agosto\n",
      "per_contrata Julio\n",
      "per_contrata Junio\n",
      "per_contrata Mayo\n",
      "per_contrata Abril\n",
      "per_contrata Marzo\n",
      "per_contrata Febrero\n",
      "per_contrata Enero\n",
      "per_contrata Año 2015\n",
      "per_contrata Año 2014\n",
      "per_contrata Año 2013\n",
      "per_contrata Año 2012\n",
      "per_contrata Año 2011\n",
      "per_contrata Año 2010\n",
      "per_contrata Año 2009\n",
      "per_contrata Año 2008\n",
      "per_contrata Año 2007\n",
      "per_contrata Año 2006\n",
      "\n",
      "SERVIU I Región\n"
     ]
    },
    {
     "data": {
      "application/vnd.jupyter.widget-view+json": {
       "model_id": "fd452900e95d4da2a09f171b7d2ff610",
       "version_major": 2,
       "version_minor": 0
      },
      "text/plain": [
       "A Jupyter Widget"
      ]
     },
     "metadata": {},
     "output_type": "display_data"
    },
    {
     "name": "stdout",
     "output_type": "stream",
     "text": [
      "per_planta Año 2016\n",
      "could not get breadcrumbs from http://tarapaca.serviu.cl/transparencia/archivos/2016/dotacionplanta2016.html\n",
      "per_planta Año 2015\n",
      "could not get breadcrumbs from http://tarapaca.serviu.cl/transparencia/archivos/2015/dotacionplanta2015.html\n",
      "per_planta Año 2014\n",
      "could not get breadcrumbs from http://tarapaca.serviu.cl/transparencia/archivos/2014/dotacionplanta2014.html\n",
      "per_planta Año 2013\n",
      "could not get breadcrumbs from http://tarapaca.serviu.cl/transparencia/archivos/2013/dotacionplanta2013.html\n",
      "per_planta Año 2012\n",
      "could not get breadcrumbs from http://tarapaca.serviu.cl/transparencia/archivos/2012/dotacionplanta2012.html\n",
      "per_planta Año 2011\n",
      "could not get breadcrumbs from http://tarapaca.serviu.cl/transparencia/archivos/2011/dotacionplanta2011.html\n",
      "per_planta Año 2010\n",
      "could not get breadcrumbs from http://tarapaca.serviu.cl/transparencia/archivos/2010/dotacionplanta2010.html\n",
      "per_planta Año 2009\n",
      "could not get breadcrumbs from http://tarapaca.serviu.cl/transparencia/archivos/2009/dotacionplanta2009.html\n",
      "per_planta Año 2008\n",
      "could not get breadcrumbs from http://tarapaca.serviu.cl/transparencia/archivos/2008/dotacionplanta2008.html\n",
      "per_planta Año 2007\n",
      "could not get breadcrumbs from http://tarapaca.serviu.cl/transparencia/archivos/2007/dotacionplanta2007.html\n",
      "per_planta Año 2006\n",
      "could not get breadcrumbs from http://tarapaca.serviu.cl/transparencia/archivos/2006/dotacionplanta2006.htm\n",
      "per_contrata Año 2016\n",
      "could not get breadcrumbs from http://tarapaca.serviu.cl/transparencia/archivos/2016/dotacioncontrata2016.html\n",
      "per_contrata Año 2015\n",
      "could not get breadcrumbs from http://tarapaca.serviu.cl/transparencia/archivos/2015/dotacioncontrata2015.html\n",
      "per_contrata Año 2014\n",
      "could not get breadcrumbs from http://tarapaca.serviu.cl/transparencia/archivos/2014/dotacioncontrata2014.html\n",
      "per_contrata Año 2013\n",
      "could not get breadcrumbs from http://tarapaca.serviu.cl/transparencia/archivos/2013/dotacioncontrata2013.html\n",
      "per_contrata Año 2012\n",
      "could not get breadcrumbs from http://tarapaca.serviu.cl/transparencia/archivos/2012/dotacioncontrata2012.html\n",
      "per_contrata Año 2011\n",
      "could not get breadcrumbs from http://tarapaca.serviu.cl/transparencia/archivos/2011/dotacioncontrata2011.html\n",
      "per_contrata Año 2010\n",
      "could not get breadcrumbs from http://tarapaca.serviu.cl/transparencia/archivos/2010/dotacioncontrata2010.html\n",
      "per_contrata Año 2009\n",
      "could not get breadcrumbs from http://tarapaca.serviu.cl/transparencia/archivos/2009/dotacioncontrata2009.html\n",
      "per_contrata Año 2008\n",
      "could not get breadcrumbs from http://tarapaca.serviu.cl/transparencia/archivos/2008/dotacioncontrata2008.html\n",
      "per_contrata Año 2007\n",
      "could not get breadcrumbs from http://tarapaca.serviu.cl/transparencia/archivos/2007/dotacioncontrata2007.html\n",
      "per_contrata Año 2006\n",
      "could not get breadcrumbs from http://tarapaca.serviu.cl/transparencia/archivos/2006/dotacioncontrata2006.htm\n",
      "\n",
      "SERVIU II Región\n"
     ]
    },
    {
     "data": {
      "application/vnd.jupyter.widget-view+json": {
       "model_id": "abc285f49fa3421481899ac5716c62a0",
       "version_major": 2,
       "version_minor": 0
      },
      "text/plain": [
       "A Jupyter Widget"
      ]
     },
     "metadata": {},
     "output_type": "display_data"
    },
    {
     "name": "stdout",
     "output_type": "stream",
     "text": [
      "per_planta Año 2017\n",
      "per_planta Año 2016\n",
      "per_planta Año 2015\n",
      "per_planta Año 2014\n",
      "per_planta Año 2013\n",
      "per_planta Año 2012\n",
      "per_planta Año 2011\n",
      "per_planta Año 2010\n",
      "per_planta Año 2009\n",
      "per_planta Año 2008\n",
      "per_planta Año 2007\n",
      "per_planta Año 2006\n",
      "per_contrata Año 2017\n",
      "per_contrata Año 2016\n",
      "per_contrata Año 2015\n",
      "per_contrata Año 2014\n",
      "per_contrata Año 2013\n",
      "per_contrata Año 2012\n",
      "per_contrata Año 2011\n",
      "per_contrata Año 2010\n",
      "per_contrata Año 2009\n",
      "per_contrata Año 2008\n",
      "per_contrata Año 2007\n",
      "per_contrata Año 2006\n",
      "\n",
      "SERVIU III Región\n"
     ]
    },
    {
     "data": {
      "application/vnd.jupyter.widget-view+json": {
       "model_id": "5e4d39c416514dd48975d1a33478e5c6",
       "version_major": 2,
       "version_minor": 0
      },
      "text/plain": [
       "A Jupyter Widget"
      ]
     },
     "metadata": {},
     "output_type": "display_data"
    },
    {
     "name": "stdout",
     "output_type": "stream",
     "text": [
      "per_planta Año 2017\n",
      "per_planta Año 2016\n",
      "per_planta Año 2015\n",
      "per_planta Año 2014\n",
      "per_planta Año 2013\n",
      "per_planta Año 2012\n",
      "per_planta Año 2011\n",
      "could not get breadcrumbs from http://www.gobiernotransparentechile.cl/directorio/entidad/16/248/per_planta/A%C3%B1o%202011/Enero%202011%3Cbr%20%2F%3E\n",
      "per_planta Año 2010\n",
      "per_planta Año 2009\n",
      "per_planta Año 2008\n",
      "per_planta Año 2007\n",
      "per_planta Año 2006\n",
      "per_contrata Año 2017\n",
      "per_contrata Año 2016\n",
      "per_contrata Año 2015\n",
      "per_contrata Año 2014\n",
      "per_contrata Año 2013\n",
      "per_contrata Año 2012\n",
      "per_contrata Año 2011\n",
      "per_contrata A�o 2010\n",
      "per_contrata Año 2009\n",
      "per_contrata Año 2008\n",
      "per_contrata Año 2007\n",
      "per_contrata Año 2006\n",
      "\n",
      "SERVIU IV Región\n"
     ]
    },
    {
     "data": {
      "application/vnd.jupyter.widget-view+json": {
       "model_id": "1aa2ed45b6c84150acf0d5b7ee790de4",
       "version_major": 2,
       "version_minor": 0
      },
      "text/plain": [
       "A Jupyter Widget"
      ]
     },
     "metadata": {},
     "output_type": "display_data"
    },
    {
     "name": "stdout",
     "output_type": "stream",
     "text": [
      "per_planta Año 2016\n",
      "could not get breadcrumbs from http://www.serviu4.cl/transparenciaactiva/2016/plantamensual/per_planta_abril.html\n",
      "per_planta Año 2015\n",
      "could not get breadcrumbs from http://www.serviu4.cl/transparenciaactiva/2015/per_planta.html\n",
      "per_planta Año 2014\n",
      "could not get breadcrumbs from http://www.serviu4.cl/transparenciaactiva/2014/per_planta.html\n",
      "per_planta Año 2013\n",
      "could not get breadcrumbs from http://www.serviu4.cl/transparenciaactiva/2013/per_planta.html\n",
      "per_planta Año 2012\n",
      "could not get breadcrumbs from http://www.serviu4.cl/transparenciaactiva/2012/per_planta.html\n",
      "per_planta Año 2011\n",
      "could not get breadcrumbs from http://www.serviu4.cl/transparenciaactiva/2011/per_planta.html\n",
      "per_planta Año 2010\n",
      "could not get breadcrumbs from http://www.serviu4.cl/transparenciaactiva/2010/per_planta.html\n",
      "per_planta Año 2009\n",
      "could not get breadcrumbs from http://www.serviu4.cl/transparenciaactiva/2009/per_planta.html\n",
      "per_planta Año 2008\n",
      "could not get breadcrumbs from http://www.serviu4.cl/transparenciaactiva/2008/per_planta.html\n",
      "per_planta Año 2007\n",
      "could not get breadcrumbs from http://www.serviu4.cl/transparenciaactiva/2007/per_planta.html\n",
      "per_planta Año 2006\n",
      "could not get breadcrumbs from http://www.serviu4.cl/transparenciaactiva/2006/per_planta.html\n",
      "per_contrata Año 2016\n",
      "could not get breadcrumbs from http://www.serviu4.cl/transparenciaactiva/2016/contratamensual/per_contrata_abril.html\n",
      "per_contrata Año 2015\n",
      "could not get breadcrumbs from http://www.serviu4.cl/transparenciaactiva/2015/per_contrata.html\n",
      "per_contrata Año 2014\n",
      "could not get breadcrumbs from http://www.serviu4.cl/transparenciaactiva/2014/per_contrata.html\n",
      "per_contrata Año 2013\n",
      "could not get breadcrumbs from http://www.serviu4.cl/transparenciaactiva/2013/per_contrata.html\n",
      "per_contrata Año 2012\n",
      "could not get breadcrumbs from http://www.serviu4.cl/transparenciaactiva/2012/per_contrata.html\n",
      "per_contrata Año 2011\n",
      "could not get breadcrumbs from http://www.serviu4.cl/transparenciaactiva/2011/per_contrata.html\n",
      "per_contrata Año 2010\n",
      "could not get breadcrumbs from http://www.serviu4.cl/transparenciaactiva/2010/per_contrata.html\n",
      "per_contrata Año 2009\n",
      "could not get breadcrumbs from http://www.serviu4.cl/transparenciaactiva/2009/per_contrata.html\n",
      "per_contrata Año 2008\n",
      "could not get breadcrumbs from http://www.serviu4.cl/transparenciaactiva/2008/per_contrata.html\n",
      "per_contrata Año 2007\n",
      "could not get breadcrumbs from http://www.serviu4.cl/transparenciaactiva/2007/per_contrata.html\n",
      "per_contrata Año 2006\n",
      "could not get breadcrumbs from http://www.serviu4.cl/transparenciaactiva/2006/per_contrata.html\n",
      "\n",
      "SERVIU V Región\n"
     ]
    },
    {
     "data": {
      "application/vnd.jupyter.widget-view+json": {
       "model_id": "a876958afd65445ba002d4069465d8c6",
       "version_major": 2,
       "version_minor": 0
      },
      "text/plain": [
       "A Jupyter Widget"
      ]
     },
     "metadata": {},
     "output_type": "display_data"
    },
    {
     "name": "stdout",
     "output_type": "stream",
     "text": [
      "per_planta Año 2017\n",
      "per_planta Año 2016\n",
      "per_planta Año 2015\n",
      "per_planta Año 2014\n",
      "per_planta Año 2013\n",
      "per_planta Año 2012\n",
      "per_planta Año 2011\n",
      "per_planta Año 2010\n",
      "per_planta Año 2009\n",
      "per_planta Año 2008\n",
      "could not get breadcrumbs from http://transparencia.valparaiso.minvu.cl/serviuvalpo/2008/per_planta.html\n",
      "per_planta Año 2007\n",
      "could not get breadcrumbs from http://transparencia.valparaiso.minvu.cl/serviuvalpo/2007/per_planta.html\n",
      "per_planta Año 2006\n",
      "per_contrata Año 2017\n",
      "per_contrata Año 2016\n",
      "per_contrata Año 2015\n",
      "per_contrata Año 2014\n",
      "per_contrata Año 2013\n",
      "per_contrata Año 2012\n",
      "per_contrata Año 2011\n",
      "per_contrata Año 2010\n",
      "per_contrata Año 2009\n",
      "per_contrata Año 2008\n",
      "could not get breadcrumbs from http://transparencia.valparaiso.minvu.cl/serviuvalpo/2008/per_contrata.html\n",
      "per_contrata Año 2007\n",
      "could not get breadcrumbs from http://transparencia.valparaiso.minvu.cl/serviuvalpo/2007/per_contrata.html\n",
      "per_contrata Año 2006\n",
      "\n",
      "SERVIU RM\n"
     ]
    },
    {
     "data": {
      "application/vnd.jupyter.widget-view+json": {
       "model_id": "24f17dfadd9c46c3bc0701e5ac6187d7",
       "version_major": 2,
       "version_minor": 0
      },
      "text/plain": [
       "A Jupyter Widget"
      ]
     },
     "metadata": {},
     "output_type": "display_data"
    },
    {
     "name": "stdout",
     "output_type": "stream",
     "text": [
      "per_planta A�o 2017\n",
      "per_planta A�o 2016\n",
      "per_planta A�o 2015\n",
      "per_planta A�o 2014\n",
      "per_planta A�o 2013\n",
      "per_planta A�o 2012\n",
      "per_planta A�o 2011\n",
      "per_planta A�o 2010\n",
      "per_planta A�o 2009\n",
      "per_planta Año 2008\n",
      "per_planta Año 2007\n",
      "per_planta Año 2006\n",
      "per_contrata A�o 2017\n",
      "per_contrata A�o 2016\n",
      "per_contrata A�o 2015\n",
      "per_contrata A�o 2014\n",
      "per_contrata A�o 2013\n",
      "per_contrata A�o 2012\n",
      "per_contrata A�o 2011\n",
      "per_contrata Año 2010\n",
      "per_contrata Año 2009\n",
      "per_contrata Año 2008\n",
      "per_contrata Año 2007\n",
      "per_contrata Año 2006\n",
      "\n",
      "SERVIU VI Región\n"
     ]
    },
    {
     "name": "stderr",
     "output_type": "stream",
     "text": [
      "Traceback (most recent call last):\n",
      "  File \"./lib/functions.py\", line 103, in getDepartmentData\n",
      "    for l in years_links_list:\n",
      "  File \"/Users/jaime/anaconda3/lib/python3.6/site-packages/selenium/webdriver/remote/webdriver.py\", line 555, in find_element_by_class_name\n",
      "    return self.find_element(by=By.CLASS_NAME, value=name)\n",
      "  File \"/Users/jaime/anaconda3/lib/python3.6/site-packages/selenium/webdriver/remote/webdriver.py\", line 955, in find_element\n",
      "    'value': value})['value']\n",
      "  File \"/Users/jaime/anaconda3/lib/python3.6/site-packages/selenium/webdriver/remote/webdriver.py\", line 312, in execute\n",
      "    self.error_handler.check_response(response)\n",
      "  File \"/Users/jaime/anaconda3/lib/python3.6/site-packages/selenium/webdriver/remote/errorhandler.py\", line 237, in check_response\n",
      "    raise exception_class(message, screen, stacktrace)\n",
      "selenium.common.exceptions.NoSuchElementException: Message: no such element: Unable to locate element: {\"method\":\"class name\",\"selector\":\"linksIntermedios\"}\n",
      "  (Session info: chrome=64.0.3282.140)\n",
      "  (Driver info: chromedriver=2.35.528157 (4429ca2590d6988c0745c24c8858745aaaec01ef),platform=Mac OS X 10.13.3 x86_64)\n",
      "\n"
     ]
    },
    {
     "name": "stdout",
     "output_type": "stream",
     "text": [
      "No contract data per_planta in http://www.gobiernotransparentechile.cl/directorio/entidad/16/252\n",
      "No contract data per_contrata in http://www.gobiernotransparentechile.cl/directorio/entidad/16/252\n"
     ]
    },
    {
     "name": "stderr",
     "output_type": "stream",
     "text": [
      "Traceback (most recent call last):\n",
      "  File \"./lib/functions.py\", line 103, in getDepartmentData\n",
      "    for l in years_links_list:\n",
      "  File \"/Users/jaime/anaconda3/lib/python3.6/site-packages/selenium/webdriver/remote/webdriver.py\", line 555, in find_element_by_class_name\n",
      "    return self.find_element(by=By.CLASS_NAME, value=name)\n",
      "  File \"/Users/jaime/anaconda3/lib/python3.6/site-packages/selenium/webdriver/remote/webdriver.py\", line 955, in find_element\n",
      "    'value': value})['value']\n",
      "  File \"/Users/jaime/anaconda3/lib/python3.6/site-packages/selenium/webdriver/remote/webdriver.py\", line 312, in execute\n",
      "    self.error_handler.check_response(response)\n",
      "  File \"/Users/jaime/anaconda3/lib/python3.6/site-packages/selenium/webdriver/remote/errorhandler.py\", line 237, in check_response\n",
      "    raise exception_class(message, screen, stacktrace)\n",
      "selenium.common.exceptions.NoSuchElementException: Message: no such element: Unable to locate element: {\"method\":\"class name\",\"selector\":\"linksIntermedios\"}\n",
      "  (Session info: chrome=64.0.3282.140)\n",
      "  (Driver info: chromedriver=2.35.528157 (4429ca2590d6988c0745c24c8858745aaaec01ef),platform=Mac OS X 10.13.3 x86_64)\n",
      "\n"
     ]
    },
    {
     "data": {
      "application/vnd.jupyter.widget-view+json": {
       "model_id": "5ccdb0b6d02c46b48fb8d5e0865ef3fd",
       "version_major": 2,
       "version_minor": 0
      },
      "text/plain": [
       "A Jupyter Widget"
      ]
     },
     "metadata": {},
     "output_type": "display_data"
    },
    {
     "name": "stdout",
     "output_type": "stream",
     "text": [
      "\n",
      "SERVIU VII Región\n"
     ]
    },
    {
     "data": {
      "application/vnd.jupyter.widget-view+json": {
       "model_id": "6320378bbf1540eab579a2cac3a61a5e",
       "version_major": 2,
       "version_minor": 0
      },
      "text/plain": [
       "A Jupyter Widget"
      ]
     },
     "metadata": {},
     "output_type": "display_data"
    },
    {
     "name": "stdout",
     "output_type": "stream",
     "text": [
      "per_planta Año 2008\n",
      "per_planta Año 2007\n",
      "per_planta Año 2006\n",
      "per_planta Año 2017\n",
      "could not get breadcrumbs from http://www.serviu7.cl/transparencia/dotacion/planta/2017/01/per_planta.html\n",
      "per_planta Año 2016\n",
      "could not get breadcrumbs from http://www.serviu7.cl/transparencia/dotacion/planta/2016/01/per_planta.html\n",
      "per_planta Año 2015\n",
      "could not get breadcrumbs from http://www.serviu7.cl/transparencia/dotacion/planta/2015/01/per_planta.html\n",
      "per_planta Año 2014\n",
      "could not get breadcrumbs from http://www.serviu7.cl/transparencia/dotacion/planta/2014/01/per_planta.html\n",
      "per_planta Año 2013\n",
      "could not get breadcrumbs from http://www.serviu7.cl/transparencia/dotacion/planta/2013/01/per_planta.html\n",
      "per_planta Año 2012\n",
      "could not get breadcrumbs from http://www.serviu7.cl/transparencia/dotacion/planta/2012/01/per_planta.html\n",
      "per_planta Año 2011\n",
      "could not get breadcrumbs from http://www.serviu7.cl/transparencia/dotacion/planta/2011/01/per_planta.html\n",
      "per_planta Año 2010\n",
      "per_planta Año 2009\n",
      "per_contrata Año 2008\n",
      "could not get breadcrumbs from http://www.serviu7.cl/transparencia/dotacion/contrata/2008_per_contrata.html\n",
      "per_contrata Año 2007\n",
      "could not get breadcrumbs from http://www.serviu7.cl/transparencia/dotacion/contrata/2007_per_contrata.html\n",
      "per_contrata Año 2006\n",
      "could not get breadcrumbs from http://www.serviu7.cl/transparencia/dotacion/contrata/2006_per_contrata.html\n",
      "per_contrata Año 2017\n",
      "could not get breadcrumbs from http://www.serviu7.cl/transparencia/dotacion/contrata/2017/01/per_contrata.html\n",
      "per_contrata Año 2016\n",
      "could not get breadcrumbs from http://www.serviu7.cl/transparencia/dotacion/contrata/2016/01/per_contrata.html\n",
      "per_contrata Año 2015\n",
      "could not get breadcrumbs from http://www.serviu7.cl/transparencia/dotacion/contrata/2015/01/per_contrata.html\n",
      "per_contrata Año 2014\n",
      "could not get breadcrumbs from http://www.serviu7.cl/transparencia/dotacion/contrata/2014/01/per_contrata.html\n",
      "per_contrata Año 2013\n",
      "could not get breadcrumbs from http://www.serviu7.cl/transparencia/dotacion/contrata/2013/01/per_contrata.html\n",
      "per_contrata Año 2012\n",
      "could not get breadcrumbs from http://www.serviu7.cl/transparencia/dotacion/contrata/2012/01/per_contrata.html\n",
      "per_contrata Año 2011\n",
      "could not get breadcrumbs from http://www.serviu7.cl/transparencia/dotacion/contrata/2011/01/per_contrata.html\n",
      "per_contrata Año 2010\n",
      "could not get breadcrumbs from http://www.serviu7.cl/transparencia/dotacion/contrata/2010/01/per_contrata.html\n",
      "per_contrata Año 2009\n",
      "could not get breadcrumbs from http://www.serviu7.cl/transparencia/dotacion/contrata/2009/03/per_contrata.html\n",
      "\n",
      "SERVIU VIII Región\n"
     ]
    },
    {
     "data": {
      "application/vnd.jupyter.widget-view+json": {
       "model_id": "98ec4b436c65452bb181bde6f7a9b99a",
       "version_major": 2,
       "version_minor": 0
      },
      "text/plain": [
       "A Jupyter Widget"
      ]
     },
     "metadata": {},
     "output_type": "display_data"
    },
    {
     "name": "stdout",
     "output_type": "stream",
     "text": [
      "per_planta Año 2017\n",
      "per_planta Año 2016\n",
      "per_planta Año 2015\n",
      "per_planta Año 2014\n",
      "per_planta Año 2013\n",
      "per_planta Año 2012\n",
      "per_planta Año 2011\n",
      "per_planta Año 2010\n",
      "per_planta Año 2009\n",
      "per_planta Año 2008\n",
      "per_planta Año 2007\n",
      "per_planta Año 2006\n",
      "per_contrata Año 2017\n",
      "per_contrata Año 2016\n",
      "per_contrata Año 2015\n",
      "per_contrata Año 2014\n",
      "per_contrata Año 2013\n",
      "per_contrata Año 2012\n",
      "per_contrata Año 2011\n",
      "per_contrata Año 2010\n",
      "per_contrata Año 2009\n",
      "per_contrata Año 2008\n",
      "per_contrata Año 2007\n",
      "per_contrata Año 2006\n",
      "\n",
      "SERVIU IX Región\n"
     ]
    },
    {
     "data": {
      "application/vnd.jupyter.widget-view+json": {
       "model_id": "a9962dd539fd463a9ad43c0d276c2a11",
       "version_major": 2,
       "version_minor": 0
      },
      "text/plain": [
       "A Jupyter Widget"
      ]
     },
     "metadata": {},
     "output_type": "display_data"
    },
    {
     "name": "stdout",
     "output_type": "stream",
     "text": [
      "per_planta Año 2010\n",
      "could not get breadcrumbs from http://www.serviuaraucania.cl/transparencia/Historicos/2010/Diciembre/per_planta.html\n",
      "per_planta Año 2009\n",
      "could not get breadcrumbs from http://www.serviuaraucania.cl/transparencia/Historicos/2009/Diciembre/per_planta.html\n",
      "per_planta Año 2016\n",
      "could not get breadcrumbs from http://www.serviuaraucania.cl/transparencia/2016/per_planta.html\n",
      "per_planta Año 2015\n",
      "could not get breadcrumbs from http://www.serviuaraucania.cl/transparencia/2015/per_planta.html\n",
      "per_planta Año 2014\n",
      "could not get breadcrumbs from http://www.serviuaraucania.cl/transparencia/2014/per_planta.html\n",
      "per_planta Año 2013\n",
      "could not get breadcrumbs from http://www.serviuaraucania.cl/transparencia/2013/per_planta.html\n",
      "per_planta Año 2012\n",
      "could not get breadcrumbs from http://www.serviuaraucania.cl/transparencia/2012/per_planta.html\n",
      "per_planta Año 2011\n",
      "could not get breadcrumbs from http://www.serviuaraucania.cl/transparencia/2011/per_planta.html\n",
      "per_contrata Año 2010\n",
      "could not get breadcrumbs from http://www.serviuaraucania.cl/transparencia/Historicos/2010/Diciembre/per_contrata.html\n",
      "per_contrata Año 2009\n",
      "could not get breadcrumbs from http://www.serviuaraucania.cl/transparencia/Historicos/2009/Diciembre/per_contrata.html\n",
      "per_contrata Año 2016\n",
      "could not get breadcrumbs from http://www.serviuaraucania.cl/transparencia/2016/per_contrata.html\n",
      "per_contrata Año 2015\n",
      "could not get breadcrumbs from http://www.serviuaraucania.cl/transparencia/2015/per_contrata.html\n",
      "per_contrata Año 2014\n",
      "could not get breadcrumbs from http://www.serviuaraucania.cl/transparencia/2014/per_contrata.html\n",
      "per_contrata Año 2013\n",
      "could not get breadcrumbs from http://www.serviuaraucania.cl/transparencia/2013/per_contrata.html\n",
      "per_contrata Año 2012\n",
      "could not get breadcrumbs from http://www.serviuaraucania.cl/transparencia/2012/per_contrata.html\n",
      "per_contrata Año 2011\n",
      "could not get breadcrumbs from http://www.serviuaraucania.cl/transparencia/2011/per_contrata.html\n",
      "\n",
      "SERVIU X Región\n"
     ]
    },
    {
     "data": {
      "application/vnd.jupyter.widget-view+json": {
       "model_id": "4c12e54bebb749ba8dcb5142b034d438",
       "version_major": 2,
       "version_minor": 0
      },
      "text/plain": [
       "A Jupyter Widget"
      ]
     },
     "metadata": {},
     "output_type": "display_data"
    },
    {
     "name": "stdout",
     "output_type": "stream",
     "text": [
      "per_planta Año 2017\n",
      "per_planta Año 2016\n",
      "per_planta Año 2015\n",
      "per_planta Año 2014\n",
      "per_planta Año 2013\n",
      "per_planta Año 2012\n",
      "per_planta Año 2011\n",
      "per_planta Año 2010\n",
      "per_contrata Año 2017\n",
      "per_contrata Año 2016\n",
      "per_contrata Año 2015\n",
      "per_contrata Año 2014\n",
      "per_contrata Año 2013\n",
      "per_contrata Año 2012\n",
      "per_contrata Año 2011\n",
      "per_contrata Año 2010\n",
      "\n",
      "SERVIU XI Región\n"
     ]
    },
    {
     "data": {
      "application/vnd.jupyter.widget-view+json": {
       "model_id": "1ef117fdd9d44b908b8d915b843d34a8",
       "version_major": 2,
       "version_minor": 0
      },
      "text/plain": [
       "A Jupyter Widget"
      ]
     },
     "metadata": {},
     "output_type": "display_data"
    },
    {
     "name": "stdout",
     "output_type": "stream",
     "text": [
      "per_planta Año 2009\n",
      "per_planta Año 2008\n",
      "per_planta Año 2006\n",
      "per_planta Año 2007\n",
      "per_planta Septiembre\n",
      "per_planta Octubre\n",
      "per_planta Noviembre\n",
      "per_planta Mayo\n",
      "per_planta Marzo\n",
      "per_planta Junio\n",
      "per_planta Julio\n",
      "per_planta Febrero\n",
      "per_planta Enero\n",
      "per_planta Diciembre\n",
      "per_planta Agosto\n",
      "per_planta Abril\n",
      "per_planta Año 2016\n",
      "per_planta Año 2015\n",
      "per_planta Año 2014\n",
      "per_planta Año 2013\n",
      "per_planta Año 2012\n",
      "per_planta Año 2011\n",
      "per_planta Año 2010\n",
      "per_contrata Año 2008\n",
      "per_contrata Año 2007\n",
      "per_contrata Año 2006\n",
      "per_contrata Año 2009\n",
      "per_contrata Septiembre\n",
      "per_contrata Octubre\n",
      "per_contrata Noviembre\n",
      "per_contrata Mayo\n",
      "per_contrata Marzo\n",
      "per_contrata Junio\n",
      "per_contrata Julio\n",
      "per_contrata Febrero\n",
      "per_contrata Año 2016\n",
      "per_contrata Diciembre\n",
      "per_contrata Agosto\n",
      "per_contrata Abril\n",
      "per_contrata Año 2015\n",
      "per_contrata Año 2014\n",
      "per_contrata Año 2013\n",
      "per_contrata Año 2012\n",
      "per_contrata Año 2011\n",
      "per_contrata Año 2010\n",
      "\n",
      "SERVIU XII Región\n"
     ]
    },
    {
     "name": "stderr",
     "output_type": "stream",
     "text": [
      "Traceback (most recent call last):\n",
      "  File \"./lib/functions.py\", line 103, in getDepartmentData\n",
      "    for l in years_links_list:\n",
      "  File \"/Users/jaime/anaconda3/lib/python3.6/site-packages/selenium/webdriver/remote/webdriver.py\", line 555, in find_element_by_class_name\n",
      "    return self.find_element(by=By.CLASS_NAME, value=name)\n",
      "  File \"/Users/jaime/anaconda3/lib/python3.6/site-packages/selenium/webdriver/remote/webdriver.py\", line 955, in find_element\n",
      "    'value': value})['value']\n",
      "  File \"/Users/jaime/anaconda3/lib/python3.6/site-packages/selenium/webdriver/remote/webdriver.py\", line 312, in execute\n",
      "    self.error_handler.check_response(response)\n",
      "  File \"/Users/jaime/anaconda3/lib/python3.6/site-packages/selenium/webdriver/remote/errorhandler.py\", line 237, in check_response\n",
      "    raise exception_class(message, screen, stacktrace)\n",
      "selenium.common.exceptions.NoSuchElementException: Message: no such element: Unable to locate element: {\"method\":\"class name\",\"selector\":\"linksIntermedios\"}\n",
      "  (Session info: chrome=64.0.3282.140)\n",
      "  (Driver info: chromedriver=2.35.528157 (4429ca2590d6988c0745c24c8858745aaaec01ef),platform=Mac OS X 10.13.3 x86_64)\n",
      "\n"
     ]
    },
    {
     "name": "stdout",
     "output_type": "stream",
     "text": [
      "No contract data per_planta in http://www.gobiernotransparentechile.cl/directorio/entidad/16/258\n",
      "No contract data per_contrata in http://www.gobiernotransparentechile.cl/directorio/entidad/16/258\n"
     ]
    },
    {
     "name": "stderr",
     "output_type": "stream",
     "text": [
      "Traceback (most recent call last):\n",
      "  File \"./lib/functions.py\", line 103, in getDepartmentData\n",
      "    for l in years_links_list:\n",
      "  File \"/Users/jaime/anaconda3/lib/python3.6/site-packages/selenium/webdriver/remote/webdriver.py\", line 555, in find_element_by_class_name\n",
      "    return self.find_element(by=By.CLASS_NAME, value=name)\n",
      "  File \"/Users/jaime/anaconda3/lib/python3.6/site-packages/selenium/webdriver/remote/webdriver.py\", line 955, in find_element\n",
      "    'value': value})['value']\n",
      "  File \"/Users/jaime/anaconda3/lib/python3.6/site-packages/selenium/webdriver/remote/webdriver.py\", line 312, in execute\n",
      "    self.error_handler.check_response(response)\n",
      "  File \"/Users/jaime/anaconda3/lib/python3.6/site-packages/selenium/webdriver/remote/errorhandler.py\", line 237, in check_response\n",
      "    raise exception_class(message, screen, stacktrace)\n",
      "selenium.common.exceptions.NoSuchElementException: Message: no such element: Unable to locate element: {\"method\":\"class name\",\"selector\":\"linksIntermedios\"}\n",
      "  (Session info: chrome=64.0.3282.140)\n",
      "  (Driver info: chromedriver=2.35.528157 (4429ca2590d6988c0745c24c8858745aaaec01ef),platform=Mac OS X 10.13.3 x86_64)\n",
      "\n"
     ]
    },
    {
     "data": {
      "application/vnd.jupyter.widget-view+json": {
       "model_id": "98aeab2cba8b4e6d86fb496146cf0a77",
       "version_major": 2,
       "version_minor": 0
      },
      "text/plain": [
       "A Jupyter Widget"
      ]
     },
     "metadata": {},
     "output_type": "display_data"
    },
    {
     "name": "stdout",
     "output_type": "stream",
     "text": [
      "\n",
      "SERVIU Región de Los Ríos\n"
     ]
    },
    {
     "data": {
      "application/vnd.jupyter.widget-view+json": {
       "model_id": "982d7e241eb4478886cd2b200f589726",
       "version_major": 2,
       "version_minor": 0
      },
      "text/plain": [
       "A Jupyter Widget"
      ]
     },
     "metadata": {},
     "output_type": "display_data"
    },
    {
     "name": "stdout",
     "output_type": "stream",
     "text": [
      "per_planta Año 2012\n",
      "per_planta Año 2011\n",
      "per_planta Año 2010\n",
      "per_planta Año 2009\n",
      "per_planta Año 2017\n",
      "per_planta Año 2016\n",
      "per_planta Año 2015\n",
      "per_planta Año 2014\n",
      "per_planta Año 2013\n",
      "per_contrata Año 2012\n",
      "per_contrata Año 2011\n",
      "per_contrata Año 2010\n",
      "per_contrata Año 2009\n",
      "per_contrata Año 2017\n",
      "per_contrata Año 2016\n",
      "per_contrata Año 2015\n",
      "per_contrata Año 2014\n",
      "per_contrata Año 2013\n",
      "\n",
      "SERVIU Arica y Parinacota\n"
     ]
    },
    {
     "data": {
      "application/vnd.jupyter.widget-view+json": {
       "model_id": "379b9c44e7954d46b3d29d0828faf931",
       "version_major": 2,
       "version_minor": 0
      },
      "text/plain": [
       "A Jupyter Widget"
      ]
     },
     "metadata": {},
     "output_type": "display_data"
    },
    {
     "name": "stdout",
     "output_type": "stream",
     "text": [
      "per_planta Año 2017\n",
      "per_planta Año 2016\n",
      "per_planta Año 2015\n",
      "per_planta Año 2014\n",
      "per_planta Año 2013\n",
      "per_planta Año 2012\n",
      "per_planta Año 2011\n",
      "per_planta Año 2010\n",
      "per_planta Año 2009\n",
      "per_contrata Año 2017\n",
      "per_contrata Año 2016\n",
      "per_contrata Año 2015\n",
      "per_contrata Año 2014\n",
      "per_contrata Año 2013\n",
      "per_contrata Año 2012\n",
      "per_contrata Año 2011\n",
      "per_contrata Año 2010\n",
      "per_contrata Año 2009\n",
      "\n",
      "Parque Metropolitano de Santiago\n"
     ]
    },
    {
     "data": {
      "application/vnd.jupyter.widget-view+json": {
       "model_id": "5c6c1a754f2441b49d21e2d1c961c8e1",
       "version_major": 2,
       "version_minor": 0
      },
      "text/plain": [
       "A Jupyter Widget"
      ]
     },
     "metadata": {},
     "output_type": "display_data"
    },
    {
     "name": "stdout",
     "output_type": "stream",
     "text": [
      "per_planta A�o 2017\n",
      "could not get breadcrumbs from http://www.parquemet.gob.cl/transparencia/2017/01_enero/per_planta.html\n",
      "per_planta A�o 2016\n",
      "could not get breadcrumbs from http://www.parquemet.gob.cl/transparencia/2016/01_enero/per_planta.html\n",
      "per_planta A�o 2015\n",
      "could not get breadcrumbs from http://www.parquemet.gob.cl/transparencia/2015/abril/per_planta.html\n",
      "per_planta A�o 2014\n",
      "per_planta A�o 2013\n",
      "per_planta A�o 2012\n",
      "per_planta A�o 2011\n",
      "per_planta A�o 2010\n",
      "per_planta A�o 2009\n",
      "per_planta A�o 2008\n",
      "per_planta A�o 2007\n",
      "per_planta A�o 2006\n",
      "per_contrata A�o 2017\n",
      "could not get breadcrumbs from http://www.parquemet.gob.cl/transparencia/2017/01_enero/per_contrata.html\n",
      "per_contrata A�o 2016\n",
      "could not get breadcrumbs from http://www.parquemet.gob.cl/transparencia/2016/01_enero/per_contrata.html\n",
      "per_contrata A�o 2015\n",
      "could not get breadcrumbs from http://www.parquemet.gob.cl/transparencia/2015/abril/per_contrata.html\n",
      "per_contrata A�o 2014\n",
      "could not get breadcrumbs from http://www.parquemet.gob.cl/transparencia/2014/abril/per_contrata.html\n",
      "per_contrata A�o 2013\n",
      "could not get breadcrumbs from http://www.parquemet.gob.cl/transparencia/2013/abril/per_contrata.html\n",
      "per_contrata A�o 2012\n",
      "could not get breadcrumbs from http://www.parquemet.gob.cl/transparencia/2012/abril/per_contrata.html\n",
      "per_contrata A�o 2011\n",
      "could not get breadcrumbs from http://www.parquemet.gob.cl/transparencia/2011/abril/per_contrata.html\n",
      "per_contrata A�o 2010\n",
      "could not get breadcrumbs from http://www.parquemet.gob.cl/transparencia/2010/agosto/per_contrata.html\n",
      "per_contrata A�o 2009\n",
      "could not get breadcrumbs from http://www.parquemet.gob.cl/transparencia/2009/per_contrata.html\n",
      "per_contrata A�o 2008\n",
      "could not get breadcrumbs from http://www.parquemet.gob.cl/transparencia/2008/per_contrata.html\n",
      "per_contrata A�o 2007\n",
      "could not get breadcrumbs from http://www.parquemet.gob.cl/transparencia/2007/per_contrata.html\n",
      "per_contrata A�o 2006\n",
      "could not get breadcrumbs from http://www.parquemet.gob.cl/transparencia/2006/per_contrata.html\n",
      "\n",
      "Ministerio de Bienes Nacionales\n",
      "Subsecretaría de Bienes Nacionales\n"
     ]
    },
    {
     "data": {
      "application/vnd.jupyter.widget-view+json": {
       "model_id": "2b4fcfe46f7d406ca73ff4b5100c57e1",
       "version_major": 2,
       "version_minor": 0
      },
      "text/plain": [
       "A Jupyter Widget"
      ]
     },
     "metadata": {},
     "output_type": "display_data"
    },
    {
     "name": "stdout",
     "output_type": "stream",
     "text": [
      "per_planta Año 2016\n",
      "could not get breadcrumbs from http://old.bienes.cl/transparencia/2016/per_planta.html\n",
      "per_planta Año 2015\n",
      "could not get breadcrumbs from http://old.bienes.cl/transparencia/2015/per_planta.html\n",
      "per_planta Año 2014\n",
      "could not get breadcrumbs from http://old.bienes.cl/transparencia/2014/per_planta.html\n",
      "per_planta Año 2013\n",
      "could not get breadcrumbs from http://old.bienes.cl/transparencia/2013/per_planta.html\n",
      "per_planta Año 2012\n",
      "could not get breadcrumbs from http://old.bienes.cl/transparencia/2012/per_planta.html\n",
      "per_planta Año 2011\n",
      "could not get breadcrumbs from http://old.bienes.cl/transparencia/2011/per_planta.html\n",
      "per_planta Año 2010\n",
      "could not get breadcrumbs from http://old.bienes.cl/transparencia/2010/per_planta.html\n",
      "per_planta Año 2009\n",
      "could not get breadcrumbs from http://old.bienes.cl/transparencia/2009/per_planta.html\n",
      "per_planta Año 2008\n",
      "could not get breadcrumbs from http://old.bienes.cl/transparencia/2008/per_planta.html\n",
      "per_planta Año 2007\n",
      "could not get breadcrumbs from http://old.bienes.cl/transparencia/2007/per_planta.html\n",
      "per_planta Año 2006\n",
      "could not get breadcrumbs from http://old.bienes.cl/transparencia/2006/per_planta.html\n",
      "per_contrata Año 2016\n",
      "could not get breadcrumbs from http://old.bienes.cl/transparencia/2016/per_contrata.html\n",
      "per_contrata Año 2015\n",
      "could not get breadcrumbs from http://old.bienes.cl/transparencia/2015/per_contrata.html\n",
      "per_contrata Año 2014\n",
      "could not get breadcrumbs from http://old.bienes.cl/transparencia/2014/per_contrata.html\n",
      "per_contrata Año 2013\n",
      "could not get breadcrumbs from http://old.bienes.cl/transparencia/2013/per_contrata.html\n",
      "per_contrata Año 2012\n",
      "could not get breadcrumbs from http://old.bienes.cl/transparencia/2012/per_contrata.html\n",
      "per_contrata Año 2011\n",
      "could not get breadcrumbs from http://old.bienes.cl/transparencia/2011/per_contrata.html\n",
      "per_contrata Año 2010\n",
      "could not get breadcrumbs from http://old.bienes.cl/transparencia/2010/per_contrata.html\n",
      "per_contrata Año 2009\n",
      "could not get breadcrumbs from http://old.bienes.cl/transparencia/2009/per_contrata.html\n",
      "per_contrata Año 2008\n",
      "could not get breadcrumbs from http://old.bienes.cl/transparencia/2008/per_contrata.html\n",
      "per_contrata Año 2007\n",
      "could not get breadcrumbs from http://old.bienes.cl/transparencia/2007/per_contrata.html\n",
      "per_contrata Año 2006\n",
      "could not get breadcrumbs from http://old.bienes.cl/transparencia/2006/per_contrata.html\n",
      "\n",
      "Ministerio de Agricultura\n",
      "Subsecretaría de Agricultura\n"
     ]
    },
    {
     "data": {
      "application/vnd.jupyter.widget-view+json": {
       "model_id": "a6f4b656b4b34cc2af220a2066155bca",
       "version_major": 2,
       "version_minor": 0
      },
      "text/plain": [
       "A Jupyter Widget"
      ]
     },
     "metadata": {},
     "output_type": "display_data"
    },
    {
     "name": "stdout",
     "output_type": "stream",
     "text": [
      "per_planta Año 2017\n",
      "per_planta Año 2016\n",
      "per_planta Año 2015\n",
      "per_planta Año 2014\n",
      "per_planta Año 2013\n",
      "per_planta Año 2012\n",
      "per_contrata Año 2017\n",
      "per_contrata Año 2016\n",
      "per_contrata Año 2015\n",
      "per_contrata Año 2014\n",
      "per_contrata Año 2013\n",
      "per_contrata Año 2012\n",
      "\n",
      "Comisión Nacional de Riego (CNR)\n"
     ]
    },
    {
     "name": "stderr",
     "output_type": "stream",
     "text": [
      "Traceback (most recent call last):\n",
      "  File \"./lib/functions.py\", line 103, in getDepartmentData\n",
      "    for l in years_links_list:\n",
      "  File \"/Users/jaime/anaconda3/lib/python3.6/site-packages/selenium/webdriver/remote/webdriver.py\", line 555, in find_element_by_class_name\n",
      "    return self.find_element(by=By.CLASS_NAME, value=name)\n",
      "  File \"/Users/jaime/anaconda3/lib/python3.6/site-packages/selenium/webdriver/remote/webdriver.py\", line 955, in find_element\n",
      "    'value': value})['value']\n",
      "  File \"/Users/jaime/anaconda3/lib/python3.6/site-packages/selenium/webdriver/remote/webdriver.py\", line 312, in execute\n",
      "    self.error_handler.check_response(response)\n",
      "  File \"/Users/jaime/anaconda3/lib/python3.6/site-packages/selenium/webdriver/remote/errorhandler.py\", line 237, in check_response\n",
      "    raise exception_class(message, screen, stacktrace)\n",
      "selenium.common.exceptions.NoSuchElementException: Message: no such element: Unable to locate element: {\"method\":\"class name\",\"selector\":\"linksIntermedios\"}\n",
      "  (Session info: chrome=64.0.3282.140)\n",
      "  (Driver info: chromedriver=2.35.528157 (4429ca2590d6988c0745c24c8858745aaaec01ef),platform=Mac OS X 10.13.3 x86_64)\n",
      "\n"
     ]
    },
    {
     "name": "stdout",
     "output_type": "stream",
     "text": [
      "No contract data per_planta in http://www.gobiernotransparentechile.cl/directorio/entidad/18/264\n",
      "No contract data per_contrata in http://www.gobiernotransparentechile.cl/directorio/entidad/18/264\n"
     ]
    },
    {
     "name": "stderr",
     "output_type": "stream",
     "text": [
      "Traceback (most recent call last):\n",
      "  File \"./lib/functions.py\", line 103, in getDepartmentData\n",
      "    for l in years_links_list:\n",
      "  File \"/Users/jaime/anaconda3/lib/python3.6/site-packages/selenium/webdriver/remote/webdriver.py\", line 555, in find_element_by_class_name\n",
      "    return self.find_element(by=By.CLASS_NAME, value=name)\n",
      "  File \"/Users/jaime/anaconda3/lib/python3.6/site-packages/selenium/webdriver/remote/webdriver.py\", line 955, in find_element\n",
      "    'value': value})['value']\n",
      "  File \"/Users/jaime/anaconda3/lib/python3.6/site-packages/selenium/webdriver/remote/webdriver.py\", line 312, in execute\n",
      "    self.error_handler.check_response(response)\n",
      "  File \"/Users/jaime/anaconda3/lib/python3.6/site-packages/selenium/webdriver/remote/errorhandler.py\", line 237, in check_response\n",
      "    raise exception_class(message, screen, stacktrace)\n",
      "selenium.common.exceptions.NoSuchElementException: Message: no such element: Unable to locate element: {\"method\":\"class name\",\"selector\":\"linksIntermedios\"}\n",
      "  (Session info: chrome=64.0.3282.140)\n",
      "  (Driver info: chromedriver=2.35.528157 (4429ca2590d6988c0745c24c8858745aaaec01ef),platform=Mac OS X 10.13.3 x86_64)\n",
      "\n"
     ]
    },
    {
     "data": {
      "application/vnd.jupyter.widget-view+json": {
       "model_id": "8c8ee6502b1d46fa9b2ede14d459fc2c",
       "version_major": 2,
       "version_minor": 0
      },
      "text/plain": [
       "A Jupyter Widget"
      ]
     },
     "metadata": {},
     "output_type": "display_data"
    },
    {
     "name": "stdout",
     "output_type": "stream",
     "text": [
      "\n",
      "Instituto de Desarrollo Agropecuario (INDAP)\n"
     ]
    },
    {
     "data": {
      "application/vnd.jupyter.widget-view+json": {
       "model_id": "ab6b513e623a42628a984d4ce9786c7f",
       "version_major": 2,
       "version_minor": 0
      },
      "text/plain": [
       "A Jupyter Widget"
      ]
     },
     "metadata": {},
     "output_type": "display_data"
    },
    {
     "name": "stdout",
     "output_type": "stream",
     "text": [
      "per_planta Año 2017\n",
      "per_planta Año 2016\n",
      "per_planta Año 2015\n",
      "per_planta Año 2014\n",
      "per_planta Año 2013\n",
      "per_planta Año 2012\n",
      "per_planta Año 2011\n",
      "per_planta Año 2010\n",
      "per_planta Año 2009\n",
      "per_planta Año 2008\n",
      "could not get breadcrumbs from http://portal.indap.cl/transparencia/2008menu_planta.php\n",
      "per_planta Año 2007\n",
      "could not get breadcrumbs from http://portal.indap.cl/transparencia/2007menu_plantas.html\n",
      "per_planta Año 2006\n",
      "could not get breadcrumbs from http://portal.indap.cl/transparencia/2006menu_plantas.html\n",
      "per_contrata Año 2017\n",
      "per_contrata Año 2016\n",
      "per_contrata Año 2015\n",
      "per_contrata Año 2014\n",
      "per_contrata Año 2013\n",
      "per_contrata Año 2012\n",
      "per_contrata Año 2011\n",
      "per_contrata Año 2010\n",
      "per_contrata Año 2009\n",
      "per_contrata Año 2007\n",
      "could not get breadcrumbs from http://portal.indap.cl/transparencia/menu_contrata.php\n",
      "per_contrata Año 2008\n",
      "could not get breadcrumbs from http://portal.indap.cl/transparencia/2008menu_contrata.php\n",
      "per_contrata Año 2006\n",
      "could not get breadcrumbs from http://portal.indap.cl/transparencia/2006menu_contrata.html\n",
      "\n",
      "Oficina de Estudios y Políticas Agrarias (ODEPA)\n"
     ]
    },
    {
     "data": {
      "application/vnd.jupyter.widget-view+json": {
       "model_id": "e3bc48441513488f9ae531c3ce32f626",
       "version_major": 2,
       "version_minor": 0
      },
      "text/plain": [
       "A Jupyter Widget"
      ]
     },
     "metadata": {},
     "output_type": "display_data"
    },
    {
     "name": "stdout",
     "output_type": "stream",
     "text": [
      "per_planta Año 2017\n",
      "per_planta Año 2016\n",
      "per_planta Año 2015\n",
      "per_planta Año 2014\n",
      "per_planta Año 2013\n",
      "per_planta Año 2012\n",
      "per_planta Año 2011\n",
      "per_planta Año 2010\n",
      "per_planta Año 2009\n",
      "per_planta Año 2008\n",
      "per_planta Año 2007\n",
      "per_planta Año 2006\n",
      "per_contrata Año 2017\n",
      "per_contrata Año 2016\n",
      "per_contrata Año 2015\n",
      "per_contrata Año 2014\n",
      "per_contrata Año 2013\n",
      "per_contrata Año 2012\n",
      "per_contrata Año 2011\n",
      "per_contrata Año 2010\n",
      "per_contrata Año 2009\n",
      "per_contrata Año 2008\n",
      "per_contrata Año 2007\n",
      "per_contrata Año 2006\n",
      "\n",
      "Servicio Agrícola Ganadero (SAG)\n"
     ]
    },
    {
     "data": {
      "application/vnd.jupyter.widget-view+json": {
       "model_id": "f5c2da350d4945e997da57a61dd1df6d",
       "version_major": 2,
       "version_minor": 0
      },
      "text/plain": [
       "A Jupyter Widget"
      ]
     },
     "metadata": {},
     "output_type": "display_data"
    },
    {
     "name": "stdout",
     "output_type": "stream",
     "text": [
      "per_planta Año 2016\n",
      "per_planta Año 2015\n",
      "per_planta Año 2014\n",
      "per_planta Año 2013\n",
      "per_planta Año 2012\n",
      "per_planta Año 2011\n",
      "per_planta Año 2010\n",
      "per_planta Año 2009\n",
      "per_planta Año 2008\n",
      "per_planta Año 2007\n",
      "per_planta Año 2006\n",
      "per_contrata Año 2016\n",
      "per_contrata Año 2015\n",
      "per_contrata Año 2014\n",
      "per_contrata Año 2013\n",
      "per_contrata Año 2012\n",
      "per_contrata Año 2011\n",
      "per_contrata Año 2010\n",
      "per_contrata Año 2009\n",
      "per_contrata Año 2008\n",
      "per_contrata Año 2007\n",
      "per_contrata Año 2006\n",
      "\n",
      "Corporación Nacional Forestal\n"
     ]
    },
    {
     "name": "stderr",
     "output_type": "stream",
     "text": [
      "Traceback (most recent call last):\n",
      "  File \"./lib/functions.py\", line 103, in getDepartmentData\n",
      "    for l in years_links_list:\n",
      "  File \"/Users/jaime/anaconda3/lib/python3.6/site-packages/selenium/webdriver/remote/webdriver.py\", line 555, in find_element_by_class_name\n",
      "    return self.find_element(by=By.CLASS_NAME, value=name)\n",
      "  File \"/Users/jaime/anaconda3/lib/python3.6/site-packages/selenium/webdriver/remote/webdriver.py\", line 955, in find_element\n",
      "    'value': value})['value']\n",
      "  File \"/Users/jaime/anaconda3/lib/python3.6/site-packages/selenium/webdriver/remote/webdriver.py\", line 312, in execute\n",
      "    self.error_handler.check_response(response)\n",
      "  File \"/Users/jaime/anaconda3/lib/python3.6/site-packages/selenium/webdriver/remote/errorhandler.py\", line 237, in check_response\n",
      "    raise exception_class(message, screen, stacktrace)\n",
      "selenium.common.exceptions.NoSuchElementException: Message: no such element: Unable to locate element: {\"method\":\"class name\",\"selector\":\"linksIntermedios\"}\n",
      "  (Session info: chrome=64.0.3282.140)\n",
      "  (Driver info: chromedriver=2.35.528157 (4429ca2590d6988c0745c24c8858745aaaec01ef),platform=Mac OS X 10.13.3 x86_64)\n",
      "\n"
     ]
    },
    {
     "name": "stdout",
     "output_type": "stream",
     "text": [
      "No contract data per_planta in http://www.gobiernotransparentechile.cl/directorio/entidad/18/360\n",
      "No contract data per_contrata in http://www.gobiernotransparentechile.cl/directorio/entidad/18/360\n"
     ]
    },
    {
     "name": "stderr",
     "output_type": "stream",
     "text": [
      "Traceback (most recent call last):\n",
      "  File \"./lib/functions.py\", line 103, in getDepartmentData\n",
      "    for l in years_links_list:\n",
      "  File \"/Users/jaime/anaconda3/lib/python3.6/site-packages/selenium/webdriver/remote/webdriver.py\", line 555, in find_element_by_class_name\n",
      "    return self.find_element(by=By.CLASS_NAME, value=name)\n",
      "  File \"/Users/jaime/anaconda3/lib/python3.6/site-packages/selenium/webdriver/remote/webdriver.py\", line 955, in find_element\n",
      "    'value': value})['value']\n",
      "  File \"/Users/jaime/anaconda3/lib/python3.6/site-packages/selenium/webdriver/remote/webdriver.py\", line 312, in execute\n",
      "    self.error_handler.check_response(response)\n",
      "  File \"/Users/jaime/anaconda3/lib/python3.6/site-packages/selenium/webdriver/remote/errorhandler.py\", line 237, in check_response\n",
      "    raise exception_class(message, screen, stacktrace)\n",
      "selenium.common.exceptions.NoSuchElementException: Message: no such element: Unable to locate element: {\"method\":\"class name\",\"selector\":\"linksIntermedios\"}\n",
      "  (Session info: chrome=64.0.3282.140)\n",
      "  (Driver info: chromedriver=2.35.528157 (4429ca2590d6988c0745c24c8858745aaaec01ef),platform=Mac OS X 10.13.3 x86_64)\n",
      "\n"
     ]
    },
    {
     "data": {
      "application/vnd.jupyter.widget-view+json": {
       "model_id": "b728d54ae3e745418ccf3fead41a9664",
       "version_major": 2,
       "version_minor": 0
      },
      "text/plain": [
       "A Jupyter Widget"
      ]
     },
     "metadata": {},
     "output_type": "display_data"
    },
    {
     "name": "stdout",
     "output_type": "stream",
     "text": [
      "\n",
      "Ministerio de Minería\n",
      "Subsecretaría de Minería\n"
     ]
    },
    {
     "name": "stderr",
     "output_type": "stream",
     "text": [
      "Traceback (most recent call last):\n",
      "  File \"./lib/functions.py\", line 103, in getDepartmentData\n",
      "    for l in years_links_list:\n",
      "  File \"/Users/jaime/anaconda3/lib/python3.6/site-packages/selenium/webdriver/remote/webdriver.py\", line 555, in find_element_by_class_name\n",
      "    return self.find_element(by=By.CLASS_NAME, value=name)\n",
      "  File \"/Users/jaime/anaconda3/lib/python3.6/site-packages/selenium/webdriver/remote/webdriver.py\", line 955, in find_element\n",
      "    'value': value})['value']\n",
      "  File \"/Users/jaime/anaconda3/lib/python3.6/site-packages/selenium/webdriver/remote/webdriver.py\", line 312, in execute\n",
      "    self.error_handler.check_response(response)\n",
      "  File \"/Users/jaime/anaconda3/lib/python3.6/site-packages/selenium/webdriver/remote/errorhandler.py\", line 237, in check_response\n",
      "    raise exception_class(message, screen, stacktrace)\n",
      "selenium.common.exceptions.NoSuchElementException: Message: no such element: Unable to locate element: {\"method\":\"class name\",\"selector\":\"linksIntermedios\"}\n",
      "  (Session info: chrome=64.0.3282.140)\n",
      "  (Driver info: chromedriver=2.35.528157 (4429ca2590d6988c0745c24c8858745aaaec01ef),platform=Mac OS X 10.13.3 x86_64)\n",
      "\n"
     ]
    },
    {
     "name": "stdout",
     "output_type": "stream",
     "text": [
      "No contract data per_planta in http://www.gobiernotransparentechile.cl/directorio/entidad/19/268\n",
      "No contract data per_contrata in http://www.gobiernotransparentechile.cl/directorio/entidad/19/268\n"
     ]
    },
    {
     "name": "stderr",
     "output_type": "stream",
     "text": [
      "Traceback (most recent call last):\n",
      "  File \"./lib/functions.py\", line 103, in getDepartmentData\n",
      "    for l in years_links_list:\n",
      "  File \"/Users/jaime/anaconda3/lib/python3.6/site-packages/selenium/webdriver/remote/webdriver.py\", line 555, in find_element_by_class_name\n",
      "    return self.find_element(by=By.CLASS_NAME, value=name)\n",
      "  File \"/Users/jaime/anaconda3/lib/python3.6/site-packages/selenium/webdriver/remote/webdriver.py\", line 955, in find_element\n",
      "    'value': value})['value']\n",
      "  File \"/Users/jaime/anaconda3/lib/python3.6/site-packages/selenium/webdriver/remote/webdriver.py\", line 312, in execute\n",
      "    self.error_handler.check_response(response)\n",
      "  File \"/Users/jaime/anaconda3/lib/python3.6/site-packages/selenium/webdriver/remote/errorhandler.py\", line 237, in check_response\n",
      "    raise exception_class(message, screen, stacktrace)\n",
      "selenium.common.exceptions.NoSuchElementException: Message: no such element: Unable to locate element: {\"method\":\"class name\",\"selector\":\"linksIntermedios\"}\n",
      "  (Session info: chrome=64.0.3282.140)\n",
      "  (Driver info: chromedriver=2.35.528157 (4429ca2590d6988c0745c24c8858745aaaec01ef),platform=Mac OS X 10.13.3 x86_64)\n",
      "\n"
     ]
    },
    {
     "data": {
      "application/vnd.jupyter.widget-view+json": {
       "model_id": "a08fb9be935745b1bafb18b071a6df6a",
       "version_major": 2,
       "version_minor": 0
      },
      "text/plain": [
       "A Jupyter Widget"
      ]
     },
     "metadata": {},
     "output_type": "display_data"
    },
    {
     "name": "stdout",
     "output_type": "stream",
     "text": [
      "\n",
      "Comisión Chilena del Cobre (COCHILCO)\n"
     ]
    },
    {
     "name": "stderr",
     "output_type": "stream",
     "text": [
      "Traceback (most recent call last):\n",
      "  File \"./lib/functions.py\", line 103, in getDepartmentData\n",
      "    for l in years_links_list:\n",
      "  File \"/Users/jaime/anaconda3/lib/python3.6/site-packages/selenium/webdriver/remote/webdriver.py\", line 555, in find_element_by_class_name\n",
      "    return self.find_element(by=By.CLASS_NAME, value=name)\n",
      "  File \"/Users/jaime/anaconda3/lib/python3.6/site-packages/selenium/webdriver/remote/webdriver.py\", line 955, in find_element\n",
      "    'value': value})['value']\n",
      "  File \"/Users/jaime/anaconda3/lib/python3.6/site-packages/selenium/webdriver/remote/webdriver.py\", line 312, in execute\n",
      "    self.error_handler.check_response(response)\n",
      "  File \"/Users/jaime/anaconda3/lib/python3.6/site-packages/selenium/webdriver/remote/errorhandler.py\", line 237, in check_response\n",
      "    raise exception_class(message, screen, stacktrace)\n",
      "selenium.common.exceptions.NoSuchElementException: Message: no such element: Unable to locate element: {\"method\":\"class name\",\"selector\":\"linksIntermedios\"}\n",
      "  (Session info: chrome=64.0.3282.140)\n",
      "  (Driver info: chromedriver=2.35.528157 (4429ca2590d6988c0745c24c8858745aaaec01ef),platform=Mac OS X 10.13.3 x86_64)\n",
      "\n"
     ]
    },
    {
     "name": "stdout",
     "output_type": "stream",
     "text": [
      "No contract data per_planta in http://www.gobiernotransparentechile.cl/directorio/entidad/19/269\n",
      "No contract data per_contrata in http://www.gobiernotransparentechile.cl/directorio/entidad/19/269\n"
     ]
    },
    {
     "name": "stderr",
     "output_type": "stream",
     "text": [
      "Traceback (most recent call last):\n",
      "  File \"./lib/functions.py\", line 103, in getDepartmentData\n",
      "    for l in years_links_list:\n",
      "  File \"/Users/jaime/anaconda3/lib/python3.6/site-packages/selenium/webdriver/remote/webdriver.py\", line 555, in find_element_by_class_name\n",
      "    return self.find_element(by=By.CLASS_NAME, value=name)\n",
      "  File \"/Users/jaime/anaconda3/lib/python3.6/site-packages/selenium/webdriver/remote/webdriver.py\", line 955, in find_element\n",
      "    'value': value})['value']\n",
      "  File \"/Users/jaime/anaconda3/lib/python3.6/site-packages/selenium/webdriver/remote/webdriver.py\", line 312, in execute\n",
      "    self.error_handler.check_response(response)\n",
      "  File \"/Users/jaime/anaconda3/lib/python3.6/site-packages/selenium/webdriver/remote/errorhandler.py\", line 237, in check_response\n",
      "    raise exception_class(message, screen, stacktrace)\n",
      "selenium.common.exceptions.NoSuchElementException: Message: no such element: Unable to locate element: {\"method\":\"class name\",\"selector\":\"linksIntermedios\"}\n",
      "  (Session info: chrome=64.0.3282.140)\n",
      "  (Driver info: chromedriver=2.35.528157 (4429ca2590d6988c0745c24c8858745aaaec01ef),platform=Mac OS X 10.13.3 x86_64)\n",
      "\n"
     ]
    },
    {
     "data": {
      "application/vnd.jupyter.widget-view+json": {
       "model_id": "1a81a483ef914b3a959c800911194139",
       "version_major": 2,
       "version_minor": 0
      },
      "text/plain": [
       "A Jupyter Widget"
      ]
     },
     "metadata": {},
     "output_type": "display_data"
    },
    {
     "name": "stdout",
     "output_type": "stream",
     "text": [
      "\n",
      "Servicio Nacional de Geología y Minería (SERNAGEOMIN)\n"
     ]
    },
    {
     "data": {
      "application/vnd.jupyter.widget-view+json": {
       "model_id": "83081d7562c74887977932b8deb5c4f2",
       "version_major": 2,
       "version_minor": 0
      },
      "text/plain": [
       "A Jupyter Widget"
      ]
     },
     "metadata": {},
     "output_type": "display_data"
    },
    {
     "name": "stdout",
     "output_type": "stream",
     "text": [
      "per_planta Año 2017\n",
      "per_planta Año 2016\n",
      "per_planta Año 2015\n",
      "per_planta Año 2014\n",
      "per_planta Año 2013\n",
      "per_planta Año 2012\n",
      "per_planta Año 2011\n",
      "per_contrata Año 2017\n",
      "per_contrata Año 2016\n",
      "per_contrata Año 2015\n",
      "per_contrata Año 2014\n",
      "per_contrata Año 2013\n",
      "per_contrata Año 2012\n",
      "per_contrata Año 2011\n",
      "\n",
      "Ministerio de la Mujer y la Equidad de Género\n",
      "Subsecretaría de la Mujer y la Equidad de Género\n"
     ]
    },
    {
     "name": "stderr",
     "output_type": "stream",
     "text": [
      "Traceback (most recent call last):\n",
      "  File \"./lib/functions.py\", line 103, in getDepartmentData\n",
      "    for l in years_links_list:\n",
      "  File \"/Users/jaime/anaconda3/lib/python3.6/site-packages/selenium/webdriver/remote/webdriver.py\", line 555, in find_element_by_class_name\n",
      "    return self.find_element(by=By.CLASS_NAME, value=name)\n",
      "  File \"/Users/jaime/anaconda3/lib/python3.6/site-packages/selenium/webdriver/remote/webdriver.py\", line 955, in find_element\n",
      "    'value': value})['value']\n",
      "  File \"/Users/jaime/anaconda3/lib/python3.6/site-packages/selenium/webdriver/remote/webdriver.py\", line 312, in execute\n",
      "    self.error_handler.check_response(response)\n",
      "  File \"/Users/jaime/anaconda3/lib/python3.6/site-packages/selenium/webdriver/remote/errorhandler.py\", line 237, in check_response\n",
      "    raise exception_class(message, screen, stacktrace)\n",
      "selenium.common.exceptions.NoSuchElementException: Message: no such element: Unable to locate element: {\"method\":\"class name\",\"selector\":\"linksIntermedios\"}\n",
      "  (Session info: chrome=64.0.3282.140)\n",
      "  (Driver info: chromedriver=2.35.528157 (4429ca2590d6988c0745c24c8858745aaaec01ef),platform=Mac OS X 10.13.3 x86_64)\n",
      "\n"
     ]
    },
    {
     "name": "stdout",
     "output_type": "stream",
     "text": [
      "No contract data per_planta in http://www.gobiernotransparentechile.cl/directorio/entidad/20/357\n",
      "No contract data per_contrata in http://www.gobiernotransparentechile.cl/directorio/entidad/20/357\n"
     ]
    },
    {
     "name": "stderr",
     "output_type": "stream",
     "text": [
      "Traceback (most recent call last):\n",
      "  File \"./lib/functions.py\", line 103, in getDepartmentData\n",
      "    for l in years_links_list:\n",
      "  File \"/Users/jaime/anaconda3/lib/python3.6/site-packages/selenium/webdriver/remote/webdriver.py\", line 555, in find_element_by_class_name\n",
      "    return self.find_element(by=By.CLASS_NAME, value=name)\n",
      "  File \"/Users/jaime/anaconda3/lib/python3.6/site-packages/selenium/webdriver/remote/webdriver.py\", line 955, in find_element\n",
      "    'value': value})['value']\n",
      "  File \"/Users/jaime/anaconda3/lib/python3.6/site-packages/selenium/webdriver/remote/webdriver.py\", line 312, in execute\n",
      "    self.error_handler.check_response(response)\n",
      "  File \"/Users/jaime/anaconda3/lib/python3.6/site-packages/selenium/webdriver/remote/errorhandler.py\", line 237, in check_response\n",
      "    raise exception_class(message, screen, stacktrace)\n",
      "selenium.common.exceptions.NoSuchElementException: Message: no such element: Unable to locate element: {\"method\":\"class name\",\"selector\":\"linksIntermedios\"}\n",
      "  (Session info: chrome=64.0.3282.140)\n",
      "  (Driver info: chromedriver=2.35.528157 (4429ca2590d6988c0745c24c8858745aaaec01ef),platform=Mac OS X 10.13.3 x86_64)\n",
      "\n"
     ]
    },
    {
     "data": {
      "application/vnd.jupyter.widget-view+json": {
       "model_id": "cae945e3016240e0868df6113e207d76",
       "version_major": 2,
       "version_minor": 0
      },
      "text/plain": [
       "A Jupyter Widget"
      ]
     },
     "metadata": {},
     "output_type": "display_data"
    },
    {
     "name": "stdout",
     "output_type": "stream",
     "text": [
      "\n",
      "Servicio Nacional de la Mujer (SERNAM)\n"
     ]
    },
    {
     "data": {
      "application/vnd.jupyter.widget-view+json": {
       "model_id": "000cd02f7b164aaf80b353c9fc7c16a6",
       "version_major": 2,
       "version_minor": 0
      },
      "text/plain": [
       "A Jupyter Widget"
      ]
     },
     "metadata": {},
     "output_type": "display_data"
    },
    {
     "name": "stdout",
     "output_type": "stream",
     "text": [
      "per_planta Año 2016\n",
      "could not get breadcrumbs from http://www.sernam.cl/transparencia/05_1_2016.php\n",
      "per_planta Año 2015\n",
      "could not get breadcrumbs from http://www.sernam.cl/transparencia/05_1_2015.php\n",
      "per_planta Año 2014\n",
      "could not get breadcrumbs from http://www.sernam.cl/transparencia/05_1_2014.php\n",
      "per_planta Año 2013\n",
      "could not get breadcrumbs from http://www.sernam.cl/transparencia/05_1_2013.php\n",
      "per_planta Año 2012\n",
      "could not get breadcrumbs from http://www.sernam.cl/transparencia/05_1_2012.php\n",
      "per_planta Año 2011\n",
      "could not get breadcrumbs from http://www.sernam.cl/transparencia/05_1_2011.php\n",
      "per_planta Año 2010\n",
      "could not get breadcrumbs from http://www.sernam.cl/transparencia/05_1_2010.php\n",
      "per_planta Año 2009\n",
      "could not get breadcrumbs from http://www.sernam.cl/transparencia/05_1_2009.php\n",
      "per_planta Año 2008\n",
      "could not get breadcrumbs from http://www.sernam.cl/transparencia/05_1_2008.php\n",
      "per_planta Año 2007\n",
      "could not get breadcrumbs from http://www.sernam.cl/transparencia/05_1_2007.php\n",
      "per_planta Año 2006\n",
      "could not get breadcrumbs from http://www.sernam.cl/transparencia/05_1_2006.php\n",
      "per_contrata Año 2016\n",
      "could not get breadcrumbs from http://www.sernam.cl/transparencia/05_2_2016.php\n",
      "per_contrata Año 2015\n",
      "could not get breadcrumbs from http://www.sernam.cl/transparencia/05_2_2015.php\n",
      "per_contrata Año 2014\n",
      "could not get breadcrumbs from http://www.sernam.cl/transparencia/05_2_2014.php\n",
      "per_contrata Año 2013\n",
      "could not get breadcrumbs from http://www.sernam.cl/transparencia/05_2_2013.php\n",
      "per_contrata Año 2012\n",
      "could not get breadcrumbs from http://www.sernam.cl/transparencia/05_2_2012.php\n",
      "per_contrata Año 2011\n",
      "could not get breadcrumbs from http://www.sernam.cl/transparencia/05_2_2011.php\n",
      "per_contrata Año 2010\n",
      "could not get breadcrumbs from http://www.sernam.cl/transparencia/05_2_2010.php\n",
      "per_contrata Año 2009\n",
      "could not get breadcrumbs from http://www.sernam.cl/transparencia/05_2_2009.php\n",
      "per_contrata Año 2008\n",
      "could not get breadcrumbs from http://www.sernam.cl/transparencia/05_2_2008.php\n",
      "per_contrata Año 2007\n",
      "could not get breadcrumbs from http://www.sernam.cl/transparencia/05_2_2007.php\n",
      "per_contrata Año 2006\n",
      "could not get breadcrumbs from http://www.sernam.cl/transparencia/05_2_2006.php\n",
      "\n",
      "Ministerio de Energía\n",
      "Subsecretaría de Energía\n"
     ]
    },
    {
     "data": {
      "application/vnd.jupyter.widget-view+json": {
       "model_id": "63b0636e5b19489a824572ea669c99d4",
       "version_major": 2,
       "version_minor": 0
      },
      "text/plain": [
       "A Jupyter Widget"
      ]
     },
     "metadata": {},
     "output_type": "display_data"
    },
    {
     "name": "stdout",
     "output_type": "stream",
     "text": [
      "per_planta Año 2017\n",
      "per_planta Año 2016\n",
      "per_planta Año 2015\n",
      "per_planta Año 2014\n",
      "per_planta Año 2013\n",
      "per_planta Año 2012\n",
      "per_planta Año 2011\n",
      "per_planta Año 2010\n",
      "per_contrata Año 2017\n",
      "per_contrata Año 2016\n",
      "per_contrata Año 2015\n",
      "per_contrata Año 2014\n",
      "per_contrata Año 2013\n",
      "per_contrata Año 2012\n",
      "per_contrata Año 2011\n",
      "per_contrata Año 2010\n",
      "\n",
      "Superintendencia de Electricidad y Combustibles (SEC)\n"
     ]
    },
    {
     "data": {
      "application/vnd.jupyter.widget-view+json": {
       "model_id": "8a2e388748a94bb4ae7db6ecc39456c2",
       "version_major": 2,
       "version_minor": 0
      },
      "text/plain": [
       "A Jupyter Widget"
      ]
     },
     "metadata": {},
     "output_type": "display_data"
    },
    {
     "name": "stdout",
     "output_type": "stream",
     "text": [
      "per_planta Año 2008\n",
      "per_planta Año 2007\n",
      "per_planta Año 2006\n",
      "per_planta Año 2017\n",
      "per_planta Año 2016\n",
      "per_planta Año 2015\n",
      "per_planta Año 2014\n",
      "per_planta Año 2013\n",
      "per_planta Año 2012\n",
      "per_planta Año 2011\n",
      "per_planta Año 2010\n",
      "per_planta Año 2009\n",
      "per_contrata Año 2008\n",
      "per_contrata Año 2007\n",
      "per_contrata Año 2006\n",
      "per_contrata Año 2017\n",
      "could not get breadcrumbs from http://www.sec.cl/transparencia/2017/per_contrata.html\n",
      "per_contrata Año 2016\n",
      "per_contrata Año 2015\n",
      "could not get breadcrumbs from http://www.sec.cl/transparencia/2015/per_contrata.html\n",
      "per_contrata Año 2014\n",
      "could not get breadcrumbs from http://www.sec.cl/transparencia/2014/per_contrata.html\n",
      "per_contrata Año 2013\n",
      "per_contrata Año 2012\n",
      "could not get breadcrumbs from http://www.sec.cl/transparencia/2012/per_contrata.html\n",
      "per_contrata Año 2011\n",
      "could not get breadcrumbs from http://www.sec.cl/transparencia/2011/per_contrata.html\n",
      "per_contrata Año 2010\n",
      "per_contrata Año 2009\n",
      "\n",
      "Comisión Chilena de Energía Nuclear (CCHEN)\n"
     ]
    },
    {
     "name": "stderr",
     "output_type": "stream",
     "text": [
      "Traceback (most recent call last):\n",
      "  File \"./lib/functions.py\", line 103, in getDepartmentData\n",
      "    for l in years_links_list:\n",
      "  File \"/Users/jaime/anaconda3/lib/python3.6/site-packages/selenium/webdriver/remote/webdriver.py\", line 555, in find_element_by_class_name\n",
      "    return self.find_element(by=By.CLASS_NAME, value=name)\n",
      "  File \"/Users/jaime/anaconda3/lib/python3.6/site-packages/selenium/webdriver/remote/webdriver.py\", line 955, in find_element\n",
      "    'value': value})['value']\n",
      "  File \"/Users/jaime/anaconda3/lib/python3.6/site-packages/selenium/webdriver/remote/webdriver.py\", line 312, in execute\n",
      "    self.error_handler.check_response(response)\n",
      "  File \"/Users/jaime/anaconda3/lib/python3.6/site-packages/selenium/webdriver/remote/errorhandler.py\", line 237, in check_response\n",
      "    raise exception_class(message, screen, stacktrace)\n",
      "selenium.common.exceptions.NoSuchElementException: Message: no such element: Unable to locate element: {\"method\":\"class name\",\"selector\":\"linksIntermedios\"}\n",
      "  (Session info: chrome=64.0.3282.140)\n",
      "  (Driver info: chromedriver=2.35.528157 (4429ca2590d6988c0745c24c8858745aaaec01ef),platform=Mac OS X 10.13.3 x86_64)\n",
      "\n"
     ]
    },
    {
     "name": "stdout",
     "output_type": "stream",
     "text": [
      "No contract data per_planta in http://www.gobiernotransparentechile.cl/directorio/entidad/21/270\n",
      "No contract data per_contrata in http://www.gobiernotransparentechile.cl/directorio/entidad/21/270\n"
     ]
    },
    {
     "name": "stderr",
     "output_type": "stream",
     "text": [
      "Traceback (most recent call last):\n",
      "  File \"./lib/functions.py\", line 103, in getDepartmentData\n",
      "    for l in years_links_list:\n",
      "  File \"/Users/jaime/anaconda3/lib/python3.6/site-packages/selenium/webdriver/remote/webdriver.py\", line 555, in find_element_by_class_name\n",
      "    return self.find_element(by=By.CLASS_NAME, value=name)\n",
      "  File \"/Users/jaime/anaconda3/lib/python3.6/site-packages/selenium/webdriver/remote/webdriver.py\", line 955, in find_element\n",
      "    'value': value})['value']\n",
      "  File \"/Users/jaime/anaconda3/lib/python3.6/site-packages/selenium/webdriver/remote/webdriver.py\", line 312, in execute\n",
      "    self.error_handler.check_response(response)\n",
      "  File \"/Users/jaime/anaconda3/lib/python3.6/site-packages/selenium/webdriver/remote/errorhandler.py\", line 237, in check_response\n",
      "    raise exception_class(message, screen, stacktrace)\n",
      "selenium.common.exceptions.NoSuchElementException: Message: no such element: Unable to locate element: {\"method\":\"class name\",\"selector\":\"linksIntermedios\"}\n",
      "  (Session info: chrome=64.0.3282.140)\n",
      "  (Driver info: chromedriver=2.35.528157 (4429ca2590d6988c0745c24c8858745aaaec01ef),platform=Mac OS X 10.13.3 x86_64)\n",
      "\n"
     ]
    },
    {
     "data": {
      "application/vnd.jupyter.widget-view+json": {
       "model_id": "7ee3d454ed7641248cb8f730d263222a",
       "version_major": 2,
       "version_minor": 0
      },
      "text/plain": [
       "A Jupyter Widget"
      ]
     },
     "metadata": {},
     "output_type": "display_data"
    },
    {
     "name": "stdout",
     "output_type": "stream",
     "text": [
      "\n",
      "Comisión Nacional de Energía (CNE)\n"
     ]
    },
    {
     "data": {
      "application/vnd.jupyter.widget-view+json": {
       "model_id": "36ad8da79ed24da5bba6df1af94bd8d4",
       "version_major": 2,
       "version_minor": 0
      },
      "text/plain": [
       "A Jupyter Widget"
      ]
     },
     "metadata": {},
     "output_type": "display_data"
    },
    {
     "name": "stdout",
     "output_type": "stream",
     "text": [
      "per_planta Histórico\n",
      "per_contrata Histórico\n",
      "\n",
      "Consejo Nacional de la Cultura y las Artes\n",
      "Consejo Nacional de la Cultura y las Artes\n"
     ]
    },
    {
     "data": {
      "application/vnd.jupyter.widget-view+json": {
       "model_id": "76f6f2bf86bc4f72a1da63ffcbf5ca37",
       "version_major": 2,
       "version_minor": 0
      },
      "text/plain": [
       "A Jupyter Widget"
      ]
     },
     "metadata": {},
     "output_type": "display_data"
    },
    {
     "name": "stdout",
     "output_type": "stream",
     "text": [
      "per_planta 2010\n",
      "per_planta 2009\n",
      "per_planta 2008\n",
      "per_planta 2007\n",
      "per_planta 2006\n",
      "per_planta 2015\n",
      "per_planta 2014\n",
      "per_planta 2013\n",
      "per_planta 2012\n",
      "per_planta 2011\n",
      "per_planta 2017\n",
      "per_planta 2016\n",
      "per_contrata 2010\n",
      "per_contrata 2009\n",
      "per_contrata 2008\n",
      "per_contrata 2007\n",
      "per_contrata 2006\n",
      "per_contrata 2015\n",
      "per_contrata 2014\n",
      "per_contrata 2013\n",
      "per_contrata 2012\n",
      "per_contrata 2011\n",
      "per_contrata 2017\n",
      "per_contrata 2016\n",
      "\n",
      "Ministerio del Medio Ambiente\n",
      "Subsecretaría del Medio Ambiente\n"
     ]
    },
    {
     "data": {
      "application/vnd.jupyter.widget-view+json": {
       "model_id": "8536f22f83d8465db5aa7acd5cc9863d",
       "version_major": 2,
       "version_minor": 0
      },
      "text/plain": [
       "A Jupyter Widget"
      ]
     },
     "metadata": {},
     "output_type": "display_data"
    },
    {
     "name": "stdout",
     "output_type": "stream",
     "text": [
      "per_planta Año 2016\n",
      "per_planta Año 2015\n",
      "could not get breadcrumbs from http://www.mma.gob.cl/transparencia/mma/2015/per_planta.html\n",
      "per_planta Año 2014\n",
      "per_planta Año 2013\n",
      "per_planta Año 2012\n",
      "per_planta Año 2011\n",
      "per_planta Año 2010\n",
      "per_planta Año 2017\n",
      "per_contrata Año 2016\n",
      "per_contrata Año 2015\n",
      "per_contrata Año 2014\n",
      "per_contrata Año 2013\n",
      "per_contrata Año 2012\n",
      "per_contrata Año 2011\n",
      "per_contrata Año 2010\n",
      "per_contrata Año 2017\n",
      "\n",
      "Servicio Evaluación Ambiental\n"
     ]
    },
    {
     "data": {
      "application/vnd.jupyter.widget-view+json": {
       "model_id": "afca1028c1d64adc85861c3c9a31cb42",
       "version_major": 2,
       "version_minor": 0
      },
      "text/plain": [
       "A Jupyter Widget"
      ]
     },
     "metadata": {},
     "output_type": "display_data"
    },
    {
     "name": "stdout",
     "output_type": "stream",
     "text": [
      "per_planta Año 2017\n",
      "per_planta Año 2016\n",
      "per_planta Año 2015\n",
      "per_planta Año 2014\n",
      "per_planta Año 2013\n",
      "per_planta Año 2012\n",
      "per_planta Año 2011\n",
      "per_planta Año 2010\n",
      "per_contrata Año 2017\n",
      "per_contrata Año 2016\n",
      "per_contrata Año 2015\n",
      "per_contrata Año 2014\n",
      "per_contrata Año 2013\n",
      "per_contrata Año 2012\n",
      "per_contrata Año 2011\n",
      "per_contrata Año 2010\n",
      "\n",
      "Superindencia del Medio Ambiente\n"
     ]
    },
    {
     "data": {
      "application/vnd.jupyter.widget-view+json": {
       "model_id": "090bab063e6b4e6da308a2a86feb92e6",
       "version_major": 2,
       "version_minor": 0
      },
      "text/plain": [
       "A Jupyter Widget"
      ]
     },
     "metadata": {},
     "output_type": "display_data"
    },
    {
     "name": "stdout",
     "output_type": "stream",
     "text": [
      "per_planta Año 2017\n",
      "per_planta Año 2016\n",
      "per_planta Año 2015\n",
      "per_planta Año 2014\n",
      "per_planta Año 2013\n",
      "per_planta Año 2012\n",
      "per_planta Año 2011\n",
      "per_planta Año 2010\n",
      "per_contrata Año 2017\n",
      "per_contrata Año 2016\n",
      "per_contrata Año 2015\n",
      "per_contrata Año 2014\n",
      "per_contrata Año 2013\n",
      "per_contrata Año 2012\n",
      "per_contrata Año 2011\n",
      "per_contrata Año 2010\n",
      "\n",
      "Consejo de Defensa del Estado\n",
      "Consejo de Defensa del Estado\n"
     ]
    },
    {
     "data": {
      "application/vnd.jupyter.widget-view+json": {
       "model_id": "55369210417449b6bf607d3489114e61",
       "version_major": 2,
       "version_minor": 0
      },
      "text/plain": [
       "A Jupyter Widget"
      ]
     },
     "metadata": {},
     "output_type": "display_data"
    },
    {
     "name": "stdout",
     "output_type": "stream",
     "text": [
      "per_planta Año 2017\n",
      "per_planta Año 2016\n",
      "per_planta Año 2015\n",
      "per_planta Año 2014\n",
      "per_planta Año 2013\n",
      "per_planta Año 2012\n",
      "per_planta Año 2011\n",
      "per_planta Año 2010\n",
      "per_planta Año 2009\n",
      "per_planta Año 2008\n",
      "could not get breadcrumbs from http://www.cde.cl/transparencia/2008/per_planta.html\n",
      "per_planta Año 2007\n",
      "could not get breadcrumbs from http://www.cde.cl/transparencia/2007/per_planta.html\n",
      "per_planta Año 2006\n",
      "could not get breadcrumbs from http://www.cde.cl/transparencia/2006/per_planta.html\n",
      "per_contrata Año 2017\n",
      "per_contrata Año 2016\n",
      "per_contrata Año 2015\n",
      "per_contrata Año 2014\n",
      "per_contrata Año 2013\n",
      "per_contrata Año 2012\n",
      "per_contrata Año 2011\n",
      "per_contrata Año 2010\n",
      "per_contrata Año 2009\n",
      "per_contrata Año 2008\n",
      "could not get breadcrumbs from http://www.cde.cl/transparencia/2008/per_contrata.html\n",
      "per_contrata Año 2007\n",
      "could not get breadcrumbs from http://www.cde.cl/transparencia/2007/per_contrata.html\n",
      "per_contrata Año 2006\n",
      "could not get breadcrumbs from http://www.cde.cl/transparencia/2006/per_contrata.html\n",
      "\n",
      "Consejo Nacional de Televisión\n",
      "Consejo Nacional de Televisión (CNTV)\n"
     ]
    },
    {
     "data": {
      "application/vnd.jupyter.widget-view+json": {
       "model_id": "573a77b4792545f38da10eb72b8f3b66",
       "version_major": 2,
       "version_minor": 0
      },
      "text/plain": [
       "A Jupyter Widget"
      ]
     },
     "metadata": {},
     "output_type": "display_data"
    },
    {
     "name": "stdout",
     "output_type": "stream",
     "text": [
      "per_planta Año 2017\n",
      "per_planta Año 2016\n",
      "per_planta Año 2015\n",
      "per_planta Año 2014\n",
      "per_planta Año 2013\n",
      "per_planta Año 2012\n",
      "per_planta Año 2011\n",
      "per_planta Año 2010\n",
      "per_planta Año 2009\n",
      "per_contrata Año 2017\n",
      "per_contrata Año 2016\n",
      "could not get breadcrumbs from http://www.gobiernotransparentechile.cl/directorio/entidad/25/351/per_contrata/A%C3%B1o%202016/Diciembre\n",
      "could not get breadcrumbs from http://www.gobiernotransparentechile.cl/directorio/entidad/25/351/per_contrata/A%C3%B1o%202016/Noviembre\n",
      "per_contrata Año 2015\n",
      "per_contrata Año 2014\n",
      "per_contrata Año 2013\n",
      "per_contrata Año 2012\n",
      "per_contrata Año 2011\n",
      "per_contrata Año 2010\n",
      "per_contrata Año 2009\n",
      "\n",
      "Ministerio del Deporte\n",
      "Subsecretaría del deporte\n"
     ]
    },
    {
     "data": {
      "application/vnd.jupyter.widget-view+json": {
       "model_id": "ecd9d8107b0d49aab626012b793c2b11",
       "version_major": 2,
       "version_minor": 0
      },
      "text/plain": [
       "A Jupyter Widget"
      ]
     },
     "metadata": {},
     "output_type": "display_data"
    },
    {
     "name": "stdout",
     "output_type": "stream",
     "text": [
      "per_planta Año 2015\n",
      "per_planta Año 2014\n",
      "per_planta Año 2016\n",
      "per_contrata Año 2015\n",
      "per_contrata Año 2014\n",
      "per_contrata Año 2016\n",
      "\n",
      "Instituto Nacional del Deporte (CHILEDEPORTES)\n"
     ]
    },
    {
     "data": {
      "application/vnd.jupyter.widget-view+json": {
       "model_id": "4c27cd6977f24e4b95f6e19c39ba648b",
       "version_major": 2,
       "version_minor": 0
      },
      "text/plain": [
       "A Jupyter Widget"
      ]
     },
     "metadata": {},
     "output_type": "display_data"
    },
    {
     "name": "stdout",
     "output_type": "stream",
     "text": [
      "per_planta Año 2010\n",
      "per_planta Año 2009\n",
      "per_planta Año 2008\n",
      "per_planta Año 2007\n",
      "per_planta Año 2006\n",
      "per_contrata Año 2010\n",
      "per_contrata Año 2009\n",
      "per_contrata Año 2008\n",
      "per_contrata Año 2007\n",
      "per_contrata Año 2006\n",
      "\n",
      "Servicio Electoral (SERVEL)\n",
      "Servicio Electoral (SERVEL)\n"
     ]
    },
    {
     "name": "stderr",
     "output_type": "stream",
     "text": [
      "Traceback (most recent call last):\n",
      "  File \"./lib/functions.py\", line 103, in getDepartmentData\n",
      "    for l in years_links_list:\n",
      "  File \"/Users/jaime/anaconda3/lib/python3.6/site-packages/selenium/webdriver/remote/webdriver.py\", line 555, in find_element_by_class_name\n",
      "    return self.find_element(by=By.CLASS_NAME, value=name)\n",
      "  File \"/Users/jaime/anaconda3/lib/python3.6/site-packages/selenium/webdriver/remote/webdriver.py\", line 955, in find_element\n",
      "    'value': value})['value']\n",
      "  File \"/Users/jaime/anaconda3/lib/python3.6/site-packages/selenium/webdriver/remote/webdriver.py\", line 312, in execute\n",
      "    self.error_handler.check_response(response)\n",
      "  File \"/Users/jaime/anaconda3/lib/python3.6/site-packages/selenium/webdriver/remote/errorhandler.py\", line 237, in check_response\n",
      "    raise exception_class(message, screen, stacktrace)\n",
      "selenium.common.exceptions.NoSuchElementException: Message: no such element: Unable to locate element: {\"method\":\"class name\",\"selector\":\"linksIntermedios\"}\n",
      "  (Session info: chrome=64.0.3282.140)\n",
      "  (Driver info: chromedriver=2.35.528157 (4429ca2590d6988c0745c24c8858745aaaec01ef),platform=Mac OS X 10.13.3 x86_64)\n",
      "\n"
     ]
    },
    {
     "name": "stdout",
     "output_type": "stream",
     "text": [
      "No contract data per_planta in http://www.gobiernotransparentechile.cl/directorio/entidad/27/7\n",
      "No contract data per_contrata in http://www.gobiernotransparentechile.cl/directorio/entidad/27/7\n"
     ]
    },
    {
     "name": "stderr",
     "output_type": "stream",
     "text": [
      "Traceback (most recent call last):\n",
      "  File \"./lib/functions.py\", line 103, in getDepartmentData\n",
      "    for l in years_links_list:\n",
      "  File \"/Users/jaime/anaconda3/lib/python3.6/site-packages/selenium/webdriver/remote/webdriver.py\", line 555, in find_element_by_class_name\n",
      "    return self.find_element(by=By.CLASS_NAME, value=name)\n",
      "  File \"/Users/jaime/anaconda3/lib/python3.6/site-packages/selenium/webdriver/remote/webdriver.py\", line 955, in find_element\n",
      "    'value': value})['value']\n",
      "  File \"/Users/jaime/anaconda3/lib/python3.6/site-packages/selenium/webdriver/remote/webdriver.py\", line 312, in execute\n",
      "    self.error_handler.check_response(response)\n",
      "  File \"/Users/jaime/anaconda3/lib/python3.6/site-packages/selenium/webdriver/remote/errorhandler.py\", line 237, in check_response\n",
      "    raise exception_class(message, screen, stacktrace)\n",
      "selenium.common.exceptions.NoSuchElementException: Message: no such element: Unable to locate element: {\"method\":\"class name\",\"selector\":\"linksIntermedios\"}\n",
      "  (Session info: chrome=64.0.3282.140)\n",
      "  (Driver info: chromedriver=2.35.528157 (4429ca2590d6988c0745c24c8858745aaaec01ef),platform=Mac OS X 10.13.3 x86_64)\n",
      "\n"
     ]
    },
    {
     "data": {
      "application/vnd.jupyter.widget-view+json": {
       "model_id": "b80dcc5d3a264f6881fb81b2cb145074",
       "version_major": 2,
       "version_minor": 0
      },
      "text/plain": [
       "A Jupyter Widget"
      ]
     },
     "metadata": {},
     "output_type": "display_data"
    },
    {
     "name": "stdout",
     "output_type": "stream",
     "text": [
      "\n",
      "\n"
     ]
    }
   ],
   "source": [
    "global period \n",
    "period = '20180210-3'\n",
    "\n",
    "output = '../data/output/scraped_data_{}.csv'.format(period)\n",
    "\n",
    "url = 'http://www.gobiernotransparentechile.cl/'\n",
    "\n",
    "browser = webdriver.Chrome()\n",
    "#browser = webdriver.Firefox()\n",
    "\n",
    "df = getGovernmentData(output, url, browser, 0, period)"
   ]
  },
  {
   "cell_type": "markdown",
   "metadata": {},
   "source": [
    "# Debugging\n"
   ]
  },
  {
   "cell_type": "code",
   "execution_count": 6,
   "metadata": {
    "collapsed": true,
    "scrolled": true
   },
   "outputs": [],
   "source": [
    "browser_debug = webdriver.Chrome()\n",
    "getTableData2('./output/debugging.csv', 'http://www.gobiernotransparentechile.cl/directorio/entidad/12/167/per_planta/A%C3%B1o%202016/Enero', browser_debug)"
   ]
  },
  {
   "cell_type": "code",
   "execution_count": null,
   "metadata": {
    "collapsed": true
   },
   "outputs": [],
   "source": []
  },
  {
   "cell_type": "code",
   "execution_count": null,
   "metadata": {
    "collapsed": true
   },
   "outputs": [],
   "source": []
  }
 ],
 "metadata": {
  "anaconda-cloud": {},
  "kernelspec": {
   "display_name": "Python 3",
   "language": "python",
   "name": "python3"
  },
  "language_info": {
   "codemirror_mode": {
    "name": "ipython",
    "version": 3
   },
   "file_extension": ".py",
   "mimetype": "text/x-python",
   "name": "python",
   "nbconvert_exporter": "python",
   "pygments_lexer": "ipython3",
   "version": "3.6.2"
  }
 },
 "nbformat": 4,
 "nbformat_minor": 1
}
