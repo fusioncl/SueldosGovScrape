{
 "cells": [
  {
   "cell_type": "markdown",
   "metadata": {},
   "source": [
    "# Scaling up the database to monthly "
   ]
  },
  {
   "cell_type": "code",
   "execution_count": 102,
   "metadata": {
    "ExecuteTime": {
     "end_time": "2018-06-23T18:32:22.310330Z",
     "start_time": "2018-06-23T18:32:22.220002Z"
    }
   },
   "outputs": [
    {
     "name": "stdout",
     "output_type": "stream",
     "text": [
      "The autoreload extension is already loaded. To reload it, use:\n",
      "  %reload_ext autoreload\n"
     ]
    }
   ],
   "source": [
    "%load_ext autoreload\n",
    "\n",
    "%autoreload 2"
   ]
  },
  {
   "cell_type": "code",
   "execution_count": 103,
   "metadata": {
    "ExecuteTime": {
     "end_time": "2018-06-23T18:32:22.423862Z",
     "start_time": "2018-06-23T18:32:22.316499Z"
    }
   },
   "outputs": [
    {
     "data": {
      "text/html": [
       "<style>.container { width:100% !important; }</style>"
      ],
      "text/plain": [
       "<IPython.core.display.HTML object>"
      ]
     },
     "metadata": {},
     "output_type": "display_data"
    }
   ],
   "source": [
    "import sys\n",
    "sys.path.append('./lib/')\n",
    "\n",
    "import lib.notebookSetup\n",
    "\n",
    "from IPython.core.display import display, HTML\n",
    "display(HTML(\"<style>.container { width:100% !important; }</style>\"))\n",
    "\n",
    "%matplotlib inline"
   ]
  },
  {
   "cell_type": "markdown",
   "metadata": {},
   "source": [
    "## Import data"
   ]
  },
  {
   "cell_type": "code",
   "execution_count": null,
   "metadata": {
    "ExecuteTime": {
     "start_time": "2018-06-23T19:11:39.357Z"
    },
    "collapsed": true
   },
   "outputs": [],
   "source": [
    "period = '20180210-3-1'"
   ]
  },
  {
   "cell_type": "code",
   "execution_count": 105,
   "metadata": {
    "ExecuteTime": {
     "end_time": "2018-06-23T18:32:42.462927Z",
     "start_time": "2018-06-23T18:32:22.591425Z"
    }
   },
   "outputs": [],
   "source": [
    "df = pd.read_csv('../data/output/03_scraped_data_clean_third_{}.csv'.format(period), \n",
    "                 sep='|', quoting=1, encoding='utf-8', low_memory=False)"
   ]
  },
  {
   "cell_type": "code",
   "execution_count": 106,
   "metadata": {
    "ExecuteTime": {
     "end_time": "2018-06-23T18:32:42.536947Z",
     "start_time": "2018-06-23T18:32:42.465805Z"
    }
   },
   "outputs": [
    {
     "data": {
      "text/plain": [
       "(1943782, 27)"
      ]
     },
     "execution_count": 106,
     "metadata": {},
     "output_type": "execute_result"
    }
   ],
   "source": [
    "df.shape"
   ]
  },
  {
   "cell_type": "code",
   "execution_count": 107,
   "metadata": {
    "ExecuteTime": {
     "end_time": "2018-06-23T18:32:42.736347Z",
     "start_time": "2018-06-23T18:32:42.553143Z"
    },
    "scrolled": true
   },
   "outputs": [
    {
     "data": {
      "text/html": [
       "<div>\n",
       "<style>\n",
       "    .dataframe thead tr:only-child th {\n",
       "        text-align: right;\n",
       "    }\n",
       "\n",
       "    .dataframe thead th {\n",
       "        text-align: left;\n",
       "    }\n",
       "\n",
       "    .dataframe tbody tr th {\n",
       "        vertical-align: top;\n",
       "    }\n",
       "</style>\n",
       "<table border=\"1\" class=\"dataframe\">\n",
       "  <thead>\n",
       "    <tr style=\"text-align: right;\">\n",
       "      <th></th>\n",
       "      <th>entity</th>\n",
       "      <th>department</th>\n",
       "      <th>contract</th>\n",
       "      <th>year</th>\n",
       "      <th>month</th>\n",
       "      <th>group</th>\n",
       "      <th>lastn</th>\n",
       "      <th>lastn2</th>\n",
       "      <th>givenn</th>\n",
       "      <th>degree</th>\n",
       "      <th>qualif</th>\n",
       "      <th>position</th>\n",
       "      <th>region</th>\n",
       "      <th>specials</th>\n",
       "      <th>currency</th>\n",
       "      <th>salary</th>\n",
       "      <th>overt</th>\n",
       "      <th>start_date</th>\n",
       "      <th>end_date</th>\n",
       "      <th>obs</th>\n",
       "      <th>url</th>\n",
       "      <th>other</th>\n",
       "      <th>filename</th>\n",
       "      <th>salary1</th>\n",
       "      <th>yearmonth</th>\n",
       "      <th>datets</th>\n",
       "      <th>pd</th>\n",
       "    </tr>\n",
       "  </thead>\n",
       "  <tbody>\n",
       "    <tr>\n",
       "      <th>0</th>\n",
       "      <td>Presidencia de la República</td>\n",
       "      <td>Presidencia de la República</td>\n",
       "      <td>Dotación de planta</td>\n",
       "      <td>año 2017</td>\n",
       "      <td>allyear</td>\n",
       "      <td>AUTORIDAD DE GOBIERNO</td>\n",
       "      <td>bachelet</td>\n",
       "      <td>jeria</td>\n",
       "      <td>veronica michelle</td>\n",
       "      <td>-1</td>\n",
       "      <td>MÉDICO</td>\n",
       "      <td>PRESIDENTA DE LA REPÚBLICA</td>\n",
       "      <td>RM</td>\n",
       "      <td>2, 4, 8, 9</td>\n",
       "      <td>PESOS</td>\n",
       "      <td>10.168.106</td>\n",
       "      <td>No</td>\n",
       "      <td>11/03/2014</td>\n",
       "      <td>30/11/-1</td>\n",
       "      <td>-1</td>\n",
       "      <td>http://www.gobiernotransparentechile.cl/direct...</td>\n",
       "      <td>-1</td>\n",
       "      <td>../data/output/scraped_data_20180210-3.csv</td>\n",
       "      <td>10168106.0</td>\n",
       "      <td>2017-allyear</td>\n",
       "      <td>2017-01-01</td>\n",
       "      <td>False</td>\n",
       "    </tr>\n",
       "  </tbody>\n",
       "</table>\n",
       "</div>"
      ],
      "text/plain": [
       "                        entity                   department  \\\n",
       "0  Presidencia de la República  Presidencia de la República   \n",
       "\n",
       "             contract      year    month                  group     lastn  \\\n",
       "0  Dotación de planta  año 2017  allyear  AUTORIDAD DE GOBIERNO  bachelet   \n",
       "\n",
       "  lastn2             givenn degree  qualif                    position region  \\\n",
       "0  jeria  veronica michelle     -1  MÉDICO  PRESIDENTA DE LA REPÚBLICA     RM   \n",
       "\n",
       "     specials currency      salary overt  start_date  end_date obs  \\\n",
       "0  2, 4, 8, 9    PESOS  10.168.106    No  11/03/2014  30/11/-1  -1   \n",
       "\n",
       "                                                 url other  \\\n",
       "0  http://www.gobiernotransparentechile.cl/direct...    -1   \n",
       "\n",
       "                                     filename     salary1     yearmonth  \\\n",
       "0  ../data/output/scraped_data_20180210-3.csv  10168106.0  2017-allyear   \n",
       "\n",
       "       datets     pd  \n",
       "0  2017-01-01  False  "
      ]
     },
     "execution_count": 107,
     "metadata": {},
     "output_type": "execute_result"
    }
   ],
   "source": [
    "df.head(1)"
   ]
  },
  {
   "cell_type": "markdown",
   "metadata": {},
   "source": [
    "## Filters "
   ]
  },
  {
   "cell_type": "markdown",
   "metadata": {},
   "source": [
    "### Rows with no salary "
   ]
  },
  {
   "cell_type": "code",
   "execution_count": 108,
   "metadata": {
    "ExecuteTime": {
     "end_time": "2018-06-23T18:32:44.452155Z",
     "start_time": "2018-06-23T18:32:42.740643Z"
    }
   },
   "outputs": [
    {
     "name": "stdout",
     "output_type": "stream",
     "text": [
      "(1943782, 27)\n",
      "(1632784, 27)\n",
      "(1631773, 27)\n"
     ]
    }
   ],
   "source": [
    "print(df.shape)\n",
    "df = df.loc[pd.notnull(df['salary1'])]\n",
    "print(df.shape)\n",
    "df = df.loc[df['salary1'] > 100]\n",
    "print(df.shape)"
   ]
  },
  {
   "cell_type": "code",
   "execution_count": null,
   "metadata": {
    "collapsed": true
   },
   "outputs": [],
   "source": []
  },
  {
   "cell_type": "markdown",
   "metadata": {},
   "source": [
    "## Expanding Salary over time"
   ]
  },
  {
   "cell_type": "markdown",
   "metadata": {
    "collapsed": true
   },
   "source": [
    "### Define ID for person "
   ]
  },
  {
   "cell_type": "markdown",
   "metadata": {},
   "source": [
    "#### Create unique column"
   ]
  },
  {
   "cell_type": "code",
   "execution_count": 109,
   "metadata": {
    "ExecuteTime": {
     "end_time": "2018-06-23T18:32:53.272870Z",
     "start_time": "2018-06-23T18:32:44.468550Z"
    }
   },
   "outputs": [
    {
     "name": "stdout",
     "output_type": "stream",
     "text": [
      "86,130 unique people\n"
     ]
    }
   ],
   "source": [
    "df['person'] = df['givenn'].fillna('-1') + ' ' + df['lastn'].fillna('-1') + ' ' + df['lastn2'].fillna('-1')\n",
    "df['person'] = df['person'].str.replace('á', 'a').str.replace('é', 'e').str.replace('í', 'i').str.replace('ó', 'o').str.replace('ú', 'u')\n",
    "\n",
    "# Remove numbers\n",
    "#df['person'] = df['person'].str.replace('\\d', '')\n",
    "\n",
    "df['person'] = df['person'].str.replace('  ', ' ')\n",
    "df['person'] = df['person'].str.title()\n",
    "df['person'] = df['person'].str.strip()\n",
    "\n",
    "\n",
    "\n",
    "people = list(df['person'].value_counts().index)\n",
    "print('{:,} unique people'.format(len(people)))"
   ]
  },
  {
   "cell_type": "markdown",
   "metadata": {},
   "source": [
    "#### Checks "
   ]
  },
  {
   "cell_type": "code",
   "execution_count": 110,
   "metadata": {
    "ExecuteTime": {
     "end_time": "2018-06-23T18:32:54.642221Z",
     "start_time": "2018-06-23T18:32:53.277884Z"
    }
   },
   "outputs": [
    {
     "data": {
      "text/html": [
       "<div>\n",
       "<style>\n",
       "    .dataframe thead tr:only-child th {\n",
       "        text-align: right;\n",
       "    }\n",
       "\n",
       "    .dataframe thead th {\n",
       "        text-align: left;\n",
       "    }\n",
       "\n",
       "    .dataframe tbody tr th {\n",
       "        vertical-align: top;\n",
       "    }\n",
       "</style>\n",
       "<table border=\"1\" class=\"dataframe\">\n",
       "  <thead>\n",
       "    <tr style=\"text-align: right;\">\n",
       "      <th></th>\n",
       "      <th>entity</th>\n",
       "      <th>department</th>\n",
       "      <th>contract</th>\n",
       "      <th>year</th>\n",
       "      <th>month</th>\n",
       "      <th>group</th>\n",
       "      <th>lastn</th>\n",
       "      <th>lastn2</th>\n",
       "      <th>givenn</th>\n",
       "      <th>degree</th>\n",
       "      <th>qualif</th>\n",
       "      <th>position</th>\n",
       "      <th>region</th>\n",
       "      <th>specials</th>\n",
       "      <th>currency</th>\n",
       "      <th>salary</th>\n",
       "      <th>overt</th>\n",
       "      <th>start_date</th>\n",
       "      <th>end_date</th>\n",
       "      <th>obs</th>\n",
       "      <th>url</th>\n",
       "      <th>other</th>\n",
       "      <th>filename</th>\n",
       "      <th>salary1</th>\n",
       "      <th>yearmonth</th>\n",
       "      <th>datets</th>\n",
       "      <th>pd</th>\n",
       "      <th>person</th>\n",
       "    </tr>\n",
       "  </thead>\n",
       "  <tbody>\n",
       "  </tbody>\n",
       "</table>\n",
       "</div>"
      ],
      "text/plain": [
       "Empty DataFrame\n",
       "Columns: [entity, department, contract, year, month, group, lastn, lastn2, givenn, degree, qualif, position, region, specials, currency, salary, overt, start_date, end_date, obs, url, other, filename, salary1, yearmonth, datets, pd, person]\n",
       "Index: []"
      ]
     },
     "execution_count": 110,
     "metadata": {},
     "output_type": "execute_result"
    }
   ],
   "source": [
    "df.loc[df['person'] == '11 11 11']"
   ]
  },
  {
   "cell_type": "markdown",
   "metadata": {},
   "source": [
    "#### Standardize the uniques "
   ]
  },
  {
   "cell_type": "code",
   "execution_count": 111,
   "metadata": {
    "ExecuteTime": {
     "end_time": "2018-06-23T18:39:27.367538Z",
     "start_time": "2018-06-23T18:32:54.646736Z"
    },
    "scrolled": false
   },
   "outputs": [
    {
     "name": "stdout",
     "output_type": "stream",
     "text": [
      "Sorting list...\n",
      "Done sorting\n"
     ]
    },
    {
     "data": {
      "application/vnd.jupyter.widget-view+json": {
       "model_id": "a48818ae8d4244bab1d3f798070cf56b",
       "version_major": 2,
       "version_minor": 0
      },
      "text/plain": [
       "A Jupyter Widget"
      ]
     },
     "metadata": {},
     "output_type": "display_data"
    },
    {
     "name": "stdout",
     "output_type": "stream",
     "text": [
      "\n"
     ]
    }
   ],
   "source": [
    "# Get list of unique IDs\n",
    "ids = list(df['person'].unique())\n",
    "#ids = [x.strip() for x in ids]\n",
    "ids.sort()\n",
    "#print(ids[0:100])\n",
    "#ids = ids[0:100]\n",
    "\n",
    "a, b = createLookupNormalize(ids, 94)"
   ]
  },
  {
   "cell_type": "code",
   "execution_count": 117,
   "metadata": {
    "ExecuteTime": {
     "end_time": "2018-06-23T18:40:54.164383Z",
     "start_time": "2018-06-23T18:40:50.822855Z"
    }
   },
   "outputs": [
    {
     "name": "stdout",
     "output_type": "stream",
     "text": [
      "(1631773, 31)\n",
      "(1631773, 29)\n"
     ]
    }
   ],
   "source": [
    "# Bring standardized names to DF\n",
    "print(df.shape)\n",
    "dfnames = pd.DataFrame({'person' : a, \n",
    "                        'person_std' : b})\n",
    "df = df.merge(dfnames, how='inner')\n",
    "print(df.shape)"
   ]
  },
  {
   "cell_type": "code",
   "execution_count": 118,
   "metadata": {
    "ExecuteTime": {
     "end_time": "2018-06-23T18:41:04.543702Z",
     "start_time": "2018-06-23T18:41:04.474724Z"
    },
    "collapsed": true
   },
   "outputs": [],
   "source": [
    "idcol = 'person_std'"
   ]
  },
  {
   "cell_type": "markdown",
   "metadata": {},
   "source": [
    "### Timestamp columns "
   ]
  },
  {
   "cell_type": "code",
   "execution_count": 119,
   "metadata": {
    "ExecuteTime": {
     "end_time": "2018-06-23T18:41:15.589089Z",
     "start_time": "2018-06-23T18:41:08.680863Z"
    },
    "collapsed": true
   },
   "outputs": [],
   "source": [
    "df['datets'] = pd.to_datetime(df['datets'], format='%Y-%m-%d')\n",
    "df['start1'] = pd.to_datetime(df['start_date'], format='%d/%m/%Y', errors='coerce')\n",
    "df['end1'] = pd.to_datetime(df['end_date'], format='%d/%m/%Y', errors='coerce')\n",
    "df['datets_raw'] = df['datets'].copy()"
   ]
  },
  {
   "cell_type": "markdown",
   "metadata": {
    "collapsed": true
   },
   "source": [
    "### Duplicated rows "
   ]
  },
  {
   "cell_type": "code",
   "execution_count": 120,
   "metadata": {
    "ExecuteTime": {
     "end_time": "2018-06-23T18:41:24.952744Z",
     "start_time": "2018-06-23T18:41:21.966480Z"
    }
   },
   "outputs": [
    {
     "name": "stdout",
     "output_type": "stream",
     "text": [
      "(1631773, 32)\n",
      "(1446363, 32)\n",
      "(1441473, 32)\n"
     ]
    }
   ],
   "source": [
    "print(df.shape)\n",
    "df = df.drop_duplicates([idcol, 'datets'])\n",
    "print(df.shape)\n",
    "df = df.dropna(subset=['datets'])\n",
    "print(df.shape)"
   ]
  },
  {
   "cell_type": "markdown",
   "metadata": {},
   "source": [
    "### Sort by person and datets"
   ]
  },
  {
   "cell_type": "code",
   "execution_count": 122,
   "metadata": {
    "ExecuteTime": {
     "end_time": "2018-06-23T18:41:45.279178Z",
     "start_time": "2018-06-23T18:41:44.215981Z"
    },
    "collapsed": true
   },
   "outputs": [],
   "source": [
    "df = df.sort_values([idcol, 'datets'])"
   ]
  },
  {
   "cell_type": "markdown",
   "metadata": {},
   "source": [
    "### Coverage of datets"
   ]
  },
  {
   "cell_type": "code",
   "execution_count": 123,
   "metadata": {
    "ExecuteTime": {
     "end_time": "2018-06-23T18:41:49.226157Z",
     "start_time": "2018-06-23T18:41:49.148701Z"
    }
   },
   "outputs": [
    {
     "data": {
      "text/plain": [
       "True    1441473\n",
       "Name: datets, dtype: int64"
      ]
     },
     "execution_count": 123,
     "metadata": {},
     "output_type": "execute_result"
    }
   ],
   "source": [
    "pd.notnull(df['datets']).value_counts()"
   ]
  },
  {
   "cell_type": "markdown",
   "metadata": {},
   "source": [
    "### Person categorical for speed "
   ]
  },
  {
   "cell_type": "code",
   "execution_count": 124,
   "metadata": {
    "ExecuteTime": {
     "end_time": "2018-06-23T18:42:01.990632Z",
     "start_time": "2018-06-23T18:42:01.630906Z"
    },
    "collapsed": true
   },
   "outputs": [],
   "source": [
    "df['personcat'] = df[idcol].astype('category')"
   ]
  },
  {
   "cell_type": "markdown",
   "metadata": {},
   "source": [
    "### Order of columns"
   ]
  },
  {
   "cell_type": "code",
   "execution_count": null,
   "metadata": {
    "ExecuteTime": {
     "start_time": "2018-06-23T18:44:17.076Z"
    },
    "scrolled": false
   },
   "outputs": [
    {
     "data": {
      "application/vnd.jupyter.widget-view+json": {
       "model_id": "29c7766817204b7b826e869eafcf545b",
       "version_major": 2,
       "version_minor": 0
      },
      "text/plain": [
       "A Jupyter Widget"
      ]
     },
     "metadata": {},
     "output_type": "display_data"
    },
    {
     "name": "stdout",
     "output_type": "stream",
     "text": [
      "\n"
     ]
    },
    {
     "name": "stderr",
     "output_type": "stream",
     "text": [
      "./lib/functions.py:531: SettingWithCopyWarning:\n",
      "\n",
      "\n",
      "A value is trying to be set on a copy of a slice from a DataFrame.\n",
      "Try using .loc[row_indexer,col_indexer] = value instead\n",
      "\n",
      "See the caveats in the documentation: http://pandas.pydata.org/pandas-docs/stable/indexing.html#indexing-view-versus-copy\n",
      "\n",
      "Exception in thread Thread-30:\n",
      "Traceback (most recent call last):\n",
      "  File \"/Users/jaime/anaconda3/lib/python3.6/threading.py\", line 916, in _bootstrap_inner\n",
      "    self.run()\n",
      "  File \"/Users/jaime/anaconda3/lib/python3.6/site-packages/tqdm/_tqdm.py\", line 144, in run\n",
      "    for instance in self.tqdm_cls._instances:\n",
      "  File \"/Users/jaime/anaconda3/lib/python3.6/_weakrefset.py\", line 60, in __iter__\n",
      "    for itemref in self.data:\n",
      "RuntimeError: Set changed size during iteration\n",
      "\n"
     ]
    }
   ],
   "source": [
    "masterList = list(df[idcol].value_counts().index)\n",
    "cols = df.columns\n",
    "\n",
    "dfs = []\n",
    "failed = 0\n",
    "df = df.sort_values([idcol, 'datets'])\n",
    "for p in tqdm_notebook(masterList):\n",
    "    try:\n",
    "        aux = createSalaryTimeline(df, p)\n",
    "        dfs.append(aux)\n",
    "    except:\n",
    "        failed = failed + 1\n",
    "        print('{}: {}'.format(failed, p), end='')\n"
   ]
  },
  {
   "cell_type": "code",
   "execution_count": null,
   "metadata": {
    "collapsed": true
   },
   "outputs": [],
   "source": [
    "# Combine the data frames\n",
    "dfss = pd.concat(dfs)\n",
    "\n",
    "# Sort the columns\n",
    "col2 = list(col) + [x for x in dfss.columns if x not in list(col)]\n",
    "dfss = dfss.loc[:, col2]"
   ]
  },
  {
   "cell_type": "markdown",
   "metadata": {},
   "source": [
    "## Checks of the output data frame"
   ]
  },
  {
   "cell_type": "code",
   "execution_count": null,
   "metadata": {
    "collapsed": true
   },
   "outputs": [],
   "source": [
    "dfss.shape"
   ]
  },
  {
   "cell_type": "code",
   "execution_count": null,
   "metadata": {
    "collapsed": true
   },
   "outputs": [],
   "source": [
    "dfss.head(1)"
   ]
  },
  {
   "cell_type": "code",
   "execution_count": null,
   "metadata": {
    "collapsed": true
   },
   "outputs": [],
   "source": [
    "pd.notnull(dfss['datets']).value_counts()"
   ]
  },
  {
   "cell_type": "code",
   "execution_count": null,
   "metadata": {
    "collapsed": true
   },
   "outputs": [],
   "source": [
    "dfss['person'].nunique()"
   ]
  },
  {
   "cell_type": "code",
   "execution_count": null,
   "metadata": {
    "collapsed": true
   },
   "outputs": [],
   "source": [
    "print('Unique people:', dfss[idcol].nunique())"
   ]
  },
  {
   "cell_type": "markdown",
   "metadata": {},
   "source": [
    "### How much salary is paid per month? "
   ]
  },
  {
   "cell_type": "code",
   "execution_count": null,
   "metadata": {
    "collapsed": true
   },
   "outputs": [],
   "source": [
    "start = datetime(2006,1,1)\n",
    "end = datetime(2018,3,1)"
   ]
  },
  {
   "cell_type": "code",
   "execution_count": null,
   "metadata": {
    "collapsed": true
   },
   "outputs": [],
   "source": [
    "dfss.loc[(dfss['date'] > start) &\n",
    "         (dfss['date'] < end)].groupby(pd.Grouper(key='date',freq='MS'))['salary1'].sum().plot()"
   ]
  },
  {
   "cell_type": "markdown",
   "metadata": {},
   "source": [
    "### How many unique people seen per month? "
   ]
  },
  {
   "cell_type": "code",
   "execution_count": null,
   "metadata": {
    "collapsed": true
   },
   "outputs": [],
   "source": [
    "dfss.loc[(dfss['date'] > start) &\n",
    "         (dfss['date'] < end)].groupby(pd.Grouper(key='date',freq='MS'))[idcol].nunique().plot()"
   ]
  },
  {
   "cell_type": "markdown",
   "metadata": {},
   "source": [
    "### Research a specific person"
   ]
  },
  {
   "cell_type": "code",
   "execution_count": null,
   "metadata": {
    "collapsed": true
   },
   "outputs": [],
   "source": [
    "dfss.loc[dfss['date'] < datetime(2012,1,1), ['entity', 'date', 'person', 'salary1']].sort_values(['date', 'salary1']).head()"
   ]
  },
  {
   "cell_type": "code",
   "execution_count": null,
   "metadata": {
    "collapsed": true,
    "scrolled": false
   },
   "outputs": [],
   "source": [
    "fig,ax = plt.subplots(figsize=(9,6))\n",
    "dfss.loc[dfss['person'].str.contains('sergio ricardo trigo', na=False)].plot(x='date', y='salary1', ax=ax)\n",
    "ax.set_ylim(0)\n",
    "ax.set_xlim(datetime(2009,1,1))\n"
   ]
  },
  {
   "cell_type": "markdown",
   "metadata": {},
   "source": [
    "# Check people on March 31st 2018 "
   ]
  },
  {
   "cell_type": "code",
   "execution_count": null,
   "metadata": {
    "collapsed": true,
    "scrolled": true
   },
   "outputs": [],
   "source": [
    "dfss.loc[dfss['date'] == datetime(2018,3,1), 'end_date'].value_counts()"
   ]
  },
  {
   "cell_type": "code",
   "execution_count": null,
   "metadata": {
    "collapsed": true,
    "scrolled": true
   },
   "outputs": [],
   "source": [
    "dfss.loc[(dfss['date'] == datetime(2018,3,1)) &\n",
    "         (dfss['end_date'] == '30/11/-1')]"
   ]
  },
  {
   "cell_type": "markdown",
   "metadata": {},
   "source": [
    "# Datets is null "
   ]
  },
  {
   "cell_type": "markdown",
   "metadata": {},
   "source": [
    "They are null because they were generated by the expanding algorithm"
   ]
  },
  {
   "cell_type": "code",
   "execution_count": null,
   "metadata": {
    "collapsed": true
   },
   "outputs": [],
   "source": [
    "dfss.loc[pd.isnull(dfss['datets'])].shape"
   ]
  },
  {
   "cell_type": "markdown",
   "metadata": {},
   "source": [
    "# Export "
   ]
  },
  {
   "cell_type": "code",
   "execution_count": null,
   "metadata": {
    "collapsed": true
   },
   "outputs": [],
   "source": [
    "dfss.to_csv('../data/output/04_scraped_data_clean_scaleup_{}.csv'.format(period), \n",
    "                 sep='|', encoding='utf-8', index=False)"
   ]
  },
  {
   "cell_type": "code",
   "execution_count": null,
   "metadata": {
    "collapsed": true
   },
   "outputs": [],
   "source": []
  }
 ],
 "metadata": {
  "anaconda-cloud": {},
  "kernelspec": {
   "display_name": "Python 3",
   "language": "python",
   "name": "python3"
  },
  "language_info": {
   "codemirror_mode": {
    "name": "ipython",
    "version": 3
   },
   "file_extension": ".py",
   "mimetype": "text/x-python",
   "name": "python",
   "nbconvert_exporter": "python",
   "pygments_lexer": "ipython3",
   "version": "3.6.2"
  },
  "toc": {
   "base_numbering": 1,
   "nav_menu": {},
   "number_sections": true,
   "sideBar": true,
   "skip_h1_title": true,
   "title_cell": "Table of Contents",
   "title_sidebar": "Contents",
   "toc_cell": false,
   "toc_position": {},
   "toc_section_display": true,
   "toc_window_display": false
  },
  "varInspector": {
   "cols": {
    "lenName": 16,
    "lenType": 16,
    "lenVar": 40
   },
   "kernels_config": {
    "python": {
     "delete_cmd_postfix": "",
     "delete_cmd_prefix": "del ",
     "library": "var_list.py",
     "varRefreshCmd": "print(var_dic_list())"
    },
    "r": {
     "delete_cmd_postfix": ") ",
     "delete_cmd_prefix": "rm(",
     "library": "var_list.r",
     "varRefreshCmd": "cat(var_dic_list()) "
    }
   },
   "types_to_exclude": [
    "module",
    "function",
    "builtin_function_or_method",
    "instance",
    "_Feature"
   ],
   "window_display": false
  },
  "widgets": {
   "state": {
    "0c8091040c644c0e99d57b5b322ab22f": {
     "views": [
      {
       "cell_index": 18
      }
     ]
    },
    "6c1f6e5bbe634c699819b49f90a095d2": {
     "views": [
      {
       "cell_index": 23
      }
     ]
    }
   },
   "version": "1.2.0"
  }
 },
 "nbformat": 4,
 "nbformat_minor": 1
}
