{
 "cells": [
  {
   "cell_type": "code",
   "execution_count": 46,
   "metadata": {
    "ExecuteTime": {
     "end_time": "2018-06-21T03:26:10.667870Z",
     "start_time": "2018-06-21T03:26:10.595552Z"
    }
   },
   "outputs": [],
   "source": [
    "from itertools import product\n",
    "\n",
    "li = ['aaa', 'bb', 'cc', 'dddd']\n",
    "\n",
    "\n",
    "def measureDistance(a, b):\n",
    "    # To be replaced by fuzzy match\n",
    "    \n",
    "    if a < b:\n",
    "        return(0)\n",
    "    else:\n",
    "        return(1)\n",
    "    \n",
    "    \n",
    "def createLookupNormalize(li, distMatch=0.5):\n",
    "\n",
    "    # Create power set\n",
    "    s = set(li)\n",
    "    combos = product(s, s)\n",
    "    \n",
    "    currents = []\n",
    "    matchTo = []\n",
    "    for co in combos:\n",
    "        currents.append(co[0])\n",
    "        dist = measureDistance(co[0], co[1])\n",
    "        \n",
    "        # If there is a match, keep the longest\n",
    "        if dist < distMatch:\n",
    "            if len(co[1]) > len(co[0]):\n",
    "                match = co[1]\n",
    "            else:\n",
    "                match = co[0]\n",
    "                \n",
    "            matchTo.append(match)\n",
    "        \n",
    "        else:\n",
    "            matchTo.append(co[0])\n",
    "\n",
    "            \n",
    "    return(currents, matchTo)"
   ]
  },
  {
   "cell_type": "code",
   "execution_count": 47,
   "metadata": {
    "ExecuteTime": {
     "end_time": "2018-06-21T03:26:10.876685Z",
     "start_time": "2018-06-21T03:26:10.869901Z"
    }
   },
   "outputs": [],
   "source": [
    "a = createLookupNormalize(li)"
   ]
  },
  {
   "cell_type": "code",
   "execution_count": 48,
   "metadata": {
    "ExecuteTime": {
     "end_time": "2018-06-21T03:26:11.442074Z",
     "start_time": "2018-06-21T03:26:11.419616Z"
    }
   },
   "outputs": [
    {
     "name": "stdout",
     "output_type": "stream",
     "text": [
      "bb bb\n",
      "bb dddd\n",
      "bb bb\n",
      "bb bb\n",
      "dddd dddd\n",
      "dddd dddd\n",
      "dddd dddd\n",
      "dddd dddd\n",
      "cc cc\n",
      "cc dddd\n",
      "cc cc\n",
      "cc cc\n",
      "aaa aaa\n",
      "aaa dddd\n",
      "aaa aaa\n",
      "aaa aaa\n"
     ]
    }
   ],
   "source": [
    "for i,j in zip(a[0], a[1]):\n",
    "    print(i,j)"
   ]
  },
  {
   "cell_type": "code",
   "execution_count": null,
   "metadata": {
    "collapsed": true
   },
   "outputs": [],
   "source": []
  }
 ],
 "metadata": {
  "kernelspec": {
   "display_name": "Python 3",
   "language": "python",
   "name": "python3"
  },
  "language_info": {
   "codemirror_mode": {
    "name": "ipython",
    "version": 3
   },
   "file_extension": ".py",
   "mimetype": "text/x-python",
   "name": "python",
   "nbconvert_exporter": "python",
   "pygments_lexer": "ipython3",
   "version": "3.6.2"
  },
  "toc": {
   "base_numbering": 1,
   "nav_menu": {},
   "number_sections": true,
   "sideBar": true,
   "skip_h1_title": false,
   "title_cell": "Table of Contents",
   "title_sidebar": "Contents",
   "toc_cell": false,
   "toc_position": {},
   "toc_section_display": true,
   "toc_window_display": false
  },
  "varInspector": {
   "cols": {
    "lenName": 16,
    "lenType": 16,
    "lenVar": 40
   },
   "kernels_config": {
    "python": {
     "delete_cmd_postfix": "",
     "delete_cmd_prefix": "del ",
     "library": "var_list.py",
     "varRefreshCmd": "print(var_dic_list())"
    },
    "r": {
     "delete_cmd_postfix": ") ",
     "delete_cmd_prefix": "rm(",
     "library": "var_list.r",
     "varRefreshCmd": "cat(var_dic_list()) "
    }
   },
   "types_to_exclude": [
    "module",
    "function",
    "builtin_function_or_method",
    "instance",
    "_Feature"
   ],
   "window_display": false
  }
 },
 "nbformat": 4,
 "nbformat_minor": 2
}
