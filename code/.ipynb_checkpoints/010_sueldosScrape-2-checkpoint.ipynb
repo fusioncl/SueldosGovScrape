{
 "cells": [
  {
   "cell_type": "markdown",
   "metadata": {
    "collapsed": true
   },
   "source": [
    "# Web Scraping Gobierno Transparente Chile\n",
    "##### Exploring wage expenses in the goberment. Public information."
   ]
  },
  {
   "cell_type": "markdown",
   "metadata": {},
   "source": [
    "Beautiful soup did not work. The server time outs when you connect through bsoup.\n",
    "\n",
    "## Trying Selenium"
   ]
  },
  {
   "cell_type": "code",
   "execution_count": 1,
   "metadata": {},
   "outputs": [
    {
     "data": {
      "text/html": [
       "<style>.container { width:100% !important; }</style>"
      ],
      "text/plain": [
       "<IPython.core.display.HTML object>"
      ]
     },
     "metadata": {},
     "output_type": "display_data"
    }
   ],
   "source": [
    "import pandas as pd\n",
    "import numpy as np\n",
    "import unicodedata\n",
    "from selenium import webdriver\n",
    "from selenium.common.exceptions import NoSuchElementException\n",
    "\n",
    "import csv\n",
    "\n",
    "import sys\n",
    "sys.path.append('./lib/')\n",
    "\n",
    "import functions\n",
    "from functions import *\n",
    "from tqdm import tnrange, tqdm_notebook\n",
    "from unidecode import unidecode\n",
    "\n",
    "from IPython.core.display import display, HTML\n",
    "display(HTML(\"<style>.container { width:100% !important; }</style>\"))\n",
    "\n",
    "import lxml.html\n",
    "import lxml\n",
    "\n",
    "%load_ext autoreload\n",
    "%load_ext line_profiler\n",
    "%autoreload 2"
   ]
  },
  {
   "cell_type": "markdown",
   "metadata": {},
   "source": [
    "#  Parameters"
   ]
  },
  {
   "cell_type": "markdown",
   "metadata": {},
   "source": [
    "# OPTIONAL Gather data already scraped, before re-run"
   ]
  },
  {
   "cell_type": "code",
   "execution_count": 12,
   "metadata": {},
   "outputs": [
    {
     "name": "stdout",
     "output_type": "stream",
     "text": [
      "(44783, 21)\n",
      "(25227, 21)\n",
      "(50586, 20)\n",
      "(3145, 20)\n",
      "(36591, 20)\n",
      "(15300, 20)\n"
     ]
    }
   ],
   "source": [
    "df_scraped_1 = pd.read_csv('./output/scraped_data_20170214.csv', encoding='latin_1', header=None, index_col=0, low_memory=False)\n",
    "print(df_scraped_1.shape)\n",
    "df_scraped_2 = pd.read_csv('./output/scraped_data_20170212.csv', encoding='latin_1', header=None, index_col=0, low_memory=False)\n",
    "print(df_scraped_2.shape)\n",
    "df_scraped_3 = pd.read_csv('./output/scraped_data_20170215.csv', encoding='latin_1', header=None, index_col=0, low_memory=False)\n",
    "print(df_scraped_3.shape)\n",
    "df_scraped_4 = pd.read_csv('./output/scraped_data_20170215-1.csv', encoding='latin_1', header=None, index_col=0, low_memory=False)\n",
    "print(df_scraped_4.shape)\n",
    "df_scraped_5 = pd.read_csv('./output/scraped_data_20170216.csv', encoding='latin_1', header=None, index_col=0, low_memory=False)\n",
    "print(df_scraped_5.shape)\n",
    "df_scraped_6 = pd.read_csv('./output/scraped_data_20170221.csv', encoding='latin_1', header=None, index_col=0, low_memory=False)\n",
    "print(df_scraped_6.shape)"
   ]
  },
  {
   "cell_type": "code",
   "execution_count": 13,
   "metadata": {},
   "outputs": [
    {
     "data": {
      "text/plain": [
       "(114551, 21)"
      ]
     },
     "execution_count": 13,
     "metadata": {},
     "output_type": "execute_result"
    }
   ],
   "source": [
    "df_scraped = pd.concat([df_scraped_1, df_scraped_2, df_scraped_3, df_scraped_4, df_scraped_5, df_scraped_6]).drop_duplicates()\n",
    "df_scraped.shape"
   ]
  },
  {
   "cell_type": "code",
   "execution_count": 2,
   "metadata": {
    "collapsed": true
   },
   "outputs": [],
   "source": [
    "df_visited = []"
   ]
  },
  {
   "cell_type": "code",
   "execution_count": 3,
   "metadata": {
    "scrolled": true
   },
   "outputs": [
    {
     "name": "stdout",
     "output_type": "stream",
     "text": [
      "14746\n",
      "168\n",
      "482\n",
      "1797\n",
      "156\n",
      "1031\n",
      "11130\n"
     ]
    }
   ],
   "source": [
    "df_visited_1 = pd.read_csv('./output/log_opened_20170212.csv', header=None).ix[:,0].drop_duplicates().tolist()\n",
    "df_visited_2 = pd.read_csv('./output/log_opened_20170214.csv', header=None).ix[:,0].drop_duplicates().tolist()\n",
    "df_visited_3 = pd.read_csv('./output/log_opened_20170215.csv', header=None).ix[:,0].drop_duplicates().tolist()\n",
    "df_visited_4 = pd.read_csv('./output/log_opened_20170221.csv', header=None).ix[:,0].drop_duplicates().tolist()\n",
    "df_visited_5 = pd.read_csv('./output/log_opened_20170224.csv', header=None).ix[:,0].drop_duplicates().tolist()\n",
    "df_visited_6 = pd.read_csv('./output/log_opened_20170225.csv', header=None).ix[:,0].drop_duplicates().tolist()\n",
    "\n",
    "\n",
    "df_visited = list(set(df_visited_1 + df_visited_2 + df_visited_3 + df_visited_4 + df_visited_5 + df_visited_6))\n",
    "print(len(df_visited))\n",
    "print(len(df_visited_1))\n",
    "print(len(df_visited_2))\n",
    "print(len(df_visited_3))\n",
    "print(len(df_visited_4))\n",
    "print(len(df_visited_5))\n",
    "print(len(df_visited_6))\n",
    "\n",
    "\n"
   ]
  },
  {
   "cell_type": "markdown",
   "metadata": {},
   "source": [
    "# Main Scraping Run"
   ]
  },
  {
   "cell_type": "code",
   "execution_count": 8,
   "metadata": {
    "scrolled": true
   },
   "outputs": [
    {
     "name": "stdout",
     "output_type": "stream",
     "text": [
      "Entities:\n",
      "0.- Presidencia de la República: http://www.gobiernotransparentechile.cl/directorio/entidad/1\n",
      "1.- Ministerio del Interior y Seguridad Pública: http://www.gobiernotransparentechile.cl/directorio/entidad/2\n",
      "2.- Ministerio de Relaciones Exteriores: http://www.gobiernotransparentechile.cl/directorio/entidad/3\n",
      "3.- Ministerio de Defensa Nacional: http://www.gobiernotransparentechile.cl/directorio/entidad/4\n",
      "4.- Ministerio de Hacienda: http://www.gobiernotransparentechile.cl/directorio/entidad/5\n",
      "5.- Ministerio Secretaría General de la Presidencia: http://www.gobiernotransparentechile.cl/directorio/entidad/6\n",
      "6.- Ministerio Secretaría General de Gobierno: http://www.gobiernotransparentechile.cl/directorio/entidad/7\n",
      "7.- Ministerio de Economía, Fomento y Turismo: http://www.gobiernotransparentechile.cl/directorio/entidad/8\n",
      "8.- Ministerio de Desarrollo Social: http://www.gobiernotransparentechile.cl/directorio/entidad/9\n",
      "9.- Ministerio de Educación: http://www.gobiernotransparentechile.cl/directorio/entidad/10\n",
      "10.- Ministerio de Justicia y Derechos Humanos: http://www.gobiernotransparentechile.cl/directorio/entidad/11\n",
      "11.- Ministerio del Trabajo y Previsión Social: http://www.gobiernotransparentechile.cl/directorio/entidad/12\n",
      "12.- Ministerio de Obras Públicas: http://www.gobiernotransparentechile.cl/directorio/entidad/13\n",
      "13.- Ministerio de Transporte y Telecomunicaciones: http://www.gobiernotransparentechile.cl/directorio/entidad/14\n",
      "14.- Ministerio de Salud: http://www.gobiernotransparentechile.cl/directorio/entidad/15\n",
      "15.- Ministerio de Vivienda y Urbanismo: http://www.gobiernotransparentechile.cl/directorio/entidad/16\n",
      "16.- Ministerio de Bienes Nacionales: http://www.gobiernotransparentechile.cl/directorio/entidad/17\n",
      "17.- Ministerio de Agricultura: http://www.gobiernotransparentechile.cl/directorio/entidad/18\n",
      "18.- Ministerio de Minería: http://www.gobiernotransparentechile.cl/directorio/entidad/19\n",
      "19.- Ministerio de la Mujer y la Equidad de Género: http://www.gobiernotransparentechile.cl/directorio/entidad/20\n",
      "20.- Ministerio de Energía: http://www.gobiernotransparentechile.cl/directorio/entidad/21\n",
      "21.- Consejo Nacional de la Cultura y las Artes: http://www.gobiernotransparentechile.cl/directorio/entidad/22\n",
      "22.- Ministerio del Medio Ambiente: http://www.gobiernotransparentechile.cl/directorio/entidad/23\n",
      "23.- Consejo de Defensa del Estado: http://www.gobiernotransparentechile.cl/directorio/entidad/24\n",
      "24.- Consejo Nacional de Televisión: http://www.gobiernotransparentechile.cl/directorio/entidad/25\n",
      "25.- Ministerio del Deporte: http://www.gobiernotransparentechile.cl/directorio/entidad/26\n",
      "26.- Servicio Electoral (SERVEL): http://www.gobiernotransparentechile.cl/directorio/entidad/27\n",
      "27.- : http://www.gobiernotransparentechile.cl/directorio/entidad/28\n",
      "Ministerio de Justicia y Derechos Humanos\n",
      "Subsecretaría de Justicia\n",
      "No contract data per_honorarios in http://www.gobiernotransparentechile.cl/directorio/entidad/11/156\n"
     ]
    },
    {
     "name": "stderr",
     "output_type": "stream",
     "text": [
      "Traceback (most recent call last):\n",
      "  File \"./lib/functions.py\", line 109, in getDepartmentData\n",
      "    div_years = browser.find_element_by_class_name(\"linksIntermedios\")\n",
      "  File \"/Users/jaime/anaconda3/lib/python3.6/site-packages/selenium/webdriver/remote/webdriver.py\", line 555, in find_element_by_class_name\n",
      "    return self.find_element(by=By.CLASS_NAME, value=name)\n",
      "  File \"/Users/jaime/anaconda3/lib/python3.6/site-packages/selenium/webdriver/remote/webdriver.py\", line 955, in find_element\n",
      "    'value': value})['value']\n",
      "  File \"/Users/jaime/anaconda3/lib/python3.6/site-packages/selenium/webdriver/remote/webdriver.py\", line 312, in execute\n",
      "    self.error_handler.check_response(response)\n",
      "  File \"/Users/jaime/anaconda3/lib/python3.6/site-packages/selenium/webdriver/remote/errorhandler.py\", line 237, in check_response\n",
      "    raise exception_class(message, screen, stacktrace)\n",
      "selenium.common.exceptions.NoSuchElementException: Message: no such element: Unable to locate element: {\"method\":\"class name\",\"selector\":\"linksIntermedios\"}\n",
      "  (Session info: chrome=65.0.3325.181)\n",
      "  (Driver info: chromedriver=2.35.528157 (4429ca2590d6988c0745c24c8858745aaaec01ef),platform=Mac OS X 10.13.3 x86_64)\n",
      "\n"
     ]
    },
    {
     "data": {
      "application/vnd.jupyter.widget-view+json": {
       "model_id": "b392119f18284bb79053d4a5bc7d541c",
       "version_major": 2,
       "version_minor": 0
      },
      "text/plain": [
       "A Jupyter Widget"
      ]
     },
     "metadata": {},
     "output_type": "display_data"
    },
    {
     "name": "stdout",
     "output_type": "stream",
     "text": [
      "Subsecretaría de Derechos Humanos\n",
      "No contract data per_honorarios in http://www.gobiernotransparentechile.cl/directorio/entidad/11/358\n"
     ]
    },
    {
     "name": "stderr",
     "output_type": "stream",
     "text": [
      "Traceback (most recent call last):\n",
      "  File \"./lib/functions.py\", line 109, in getDepartmentData\n",
      "    div_years = browser.find_element_by_class_name(\"linksIntermedios\")\n",
      "  File \"/Users/jaime/anaconda3/lib/python3.6/site-packages/selenium/webdriver/remote/webdriver.py\", line 555, in find_element_by_class_name\n",
      "    return self.find_element(by=By.CLASS_NAME, value=name)\n",
      "  File \"/Users/jaime/anaconda3/lib/python3.6/site-packages/selenium/webdriver/remote/webdriver.py\", line 955, in find_element\n",
      "    'value': value})['value']\n",
      "  File \"/Users/jaime/anaconda3/lib/python3.6/site-packages/selenium/webdriver/remote/webdriver.py\", line 312, in execute\n",
      "    self.error_handler.check_response(response)\n",
      "  File \"/Users/jaime/anaconda3/lib/python3.6/site-packages/selenium/webdriver/remote/errorhandler.py\", line 237, in check_response\n",
      "    raise exception_class(message, screen, stacktrace)\n",
      "selenium.common.exceptions.NoSuchElementException: Message: no such element: Unable to locate element: {\"method\":\"class name\",\"selector\":\"linksIntermedios\"}\n",
      "  (Session info: chrome=65.0.3325.181)\n",
      "  (Driver info: chromedriver=2.35.528157 (4429ca2590d6988c0745c24c8858745aaaec01ef),platform=Mac OS X 10.13.3 x86_64)\n",
      "\n"
     ]
    },
    {
     "data": {
      "application/vnd.jupyter.widget-view+json": {
       "model_id": "94630d4543e24c6498d76b906dc0dfbe",
       "version_major": 2,
       "version_minor": 0
      },
      "text/plain": [
       "A Jupyter Widget"
      ]
     },
     "metadata": {},
     "output_type": "display_data"
    },
    {
     "name": "stdout",
     "output_type": "stream",
     "text": [
      "Servicio de Registro Civil e Identificación (SRCEI)\n"
     ]
    },
    {
     "data": {
      "application/vnd.jupyter.widget-view+json": {
       "model_id": "0737641c8f4d431092ef0721bbbe315b",
       "version_major": 2,
       "version_minor": 0
      },
      "text/plain": [
       "A Jupyter Widget"
      ]
     },
     "metadata": {},
     "output_type": "display_data"
    },
    {
     "name": "stdout",
     "output_type": "stream",
     "text": [
      "per_honorarios Año 2015\n",
      "could not get breadcrumbs from http://www.registrocivil.cl/transparencia/2015/per_honorarios.html\n",
      "per_honorarios Año 2014\n",
      "could not get breadcrumbs from http://www.registrocivil.cl/transparencia/2014/per_honorarios_14.html\n",
      "per_honorarios Año 2017\n",
      "\n"
     ]
    },
    {
     "name": "stderr",
     "output_type": "stream",
     "text": [
      "Exception in thread Thread-28:\n",
      "Traceback (most recent call last):\n",
      "  File \"/Users/jaime/anaconda3/lib/python3.6/threading.py\", line 916, in _bootstrap_inner\n",
      "    self.run()\n",
      "  File \"/Users/jaime/anaconda3/lib/python3.6/site-packages/tqdm/_tqdm.py\", line 144, in run\n",
      "    for instance in self.tqdm_cls._instances:\n",
      "  File \"/Users/jaime/anaconda3/lib/python3.6/_weakrefset.py\", line 60, in __iter__\n",
      "    for itemref in self.data:\n",
      "RuntimeError: Set changed size during iteration\n",
      "\n"
     ]
    },
    {
     "name": "stdout",
     "output_type": "stream",
     "text": [
      "could not get breadcrumbs from http://www.registrocivil.cl/transparencia/2013/Abril2017/per_honorarios.html\n",
      "per_honorarios Año 2016\n",
      "could not get breadcrumbs from http://www.registrocivil.cl/transparencia/2013/Abril/per_honorarios.html\n",
      "per_honorarios Año 2013\n",
      "could not get breadcrumbs from http://www.registrocivil.cl/transparencia/2013/per_honorarios_13.html\n",
      "per_honorarios Año 2012\n",
      "could not get breadcrumbs from http://www.registrocivil.cl/transparencia/2012/per_honorarios.html\n",
      "per_honorarios Año 2011\n",
      "could not get breadcrumbs from http://www.registrocivil.cl/transparencia/2011/per_honorarios.html\n",
      "per_honorarios Año 2010\n",
      "could not get breadcrumbs from http://www.registrocivil.cl/transparencia/2010/per_honorarios.html\n",
      "per_honorarios Año 2009\n",
      "could not get breadcrumbs from http://www.registrocivil.cl/transparencia/2009/per_honorarios.html\n",
      "per_honorarios Año 2008\n",
      "could not get breadcrumbs from http://www.registrocivil.cl/transparencia/2008/honorarios_2008.html\n",
      "per_honorarios Año 2007\n",
      "could not get breadcrumbs from http://www.registrocivil.cl/transparencia/2007/honorarios_2007.html\n",
      "per_honorarios Año 2006\n",
      "could not get breadcrumbs from http://www.registrocivil.cl/transparencia/2006/honorarios_2006.html\n",
      "\n",
      "Servicio Médico Legal (SML)\n",
      "No contract data per_honorarios in http://www.gobiernotransparentechile.cl/directorio/entidad/11/158\n"
     ]
    },
    {
     "name": "stderr",
     "output_type": "stream",
     "text": [
      "Traceback (most recent call last):\n",
      "  File \"./lib/functions.py\", line 109, in getDepartmentData\n",
      "    div_years = browser.find_element_by_class_name(\"linksIntermedios\")\n",
      "  File \"/Users/jaime/anaconda3/lib/python3.6/site-packages/selenium/webdriver/remote/webdriver.py\", line 555, in find_element_by_class_name\n",
      "    return self.find_element(by=By.CLASS_NAME, value=name)\n",
      "  File \"/Users/jaime/anaconda3/lib/python3.6/site-packages/selenium/webdriver/remote/webdriver.py\", line 955, in find_element\n",
      "    'value': value})['value']\n",
      "  File \"/Users/jaime/anaconda3/lib/python3.6/site-packages/selenium/webdriver/remote/webdriver.py\", line 312, in execute\n",
      "    self.error_handler.check_response(response)\n",
      "  File \"/Users/jaime/anaconda3/lib/python3.6/site-packages/selenium/webdriver/remote/errorhandler.py\", line 237, in check_response\n",
      "    raise exception_class(message, screen, stacktrace)\n",
      "selenium.common.exceptions.NoSuchElementException: Message: no such element: Unable to locate element: {\"method\":\"class name\",\"selector\":\"linksIntermedios\"}\n",
      "  (Session info: chrome=65.0.3325.181)\n",
      "  (Driver info: chromedriver=2.35.528157 (4429ca2590d6988c0745c24c8858745aaaec01ef),platform=Mac OS X 10.13.3 x86_64)\n",
      "\n"
     ]
    },
    {
     "data": {
      "application/vnd.jupyter.widget-view+json": {
       "model_id": "caa10d065feb4191a213e263c44baa65",
       "version_major": 2,
       "version_minor": 0
      },
      "text/plain": [
       "A Jupyter Widget"
      ]
     },
     "metadata": {},
     "output_type": "display_data"
    },
    {
     "name": "stdout",
     "output_type": "stream",
     "text": [
      "\n",
      "Servicio Nacional de Menores (SENAME)\n"
     ]
    },
    {
     "data": {
      "application/vnd.jupyter.widget-view+json": {
       "model_id": "10a6e6ffe9c4448095634f2038080841",
       "version_major": 2,
       "version_minor": 0
      },
      "text/plain": [
       "A Jupyter Widget"
      ]
     },
     "metadata": {},
     "output_type": "display_data"
    },
    {
     "name": "stdout",
     "output_type": "stream",
     "text": [
      "per_honorarios SEPTIEMBRE\n",
      "per_honorarios OCTUBRE\n",
      "per_honorarios NOVIEMBRE\n",
      "per_honorarios MAYO\n",
      "per_honorarios MARZO\n",
      "per_honorarios JUNIO\n",
      "per_honorarios JULIO\n",
      "per_honorarios FEBRERO\n",
      "per_honorarios ENERO\n",
      "per_honorarios AGOSTO\n",
      "per_honorarios ABRIL\n",
      "per_honorarios DICIEMBRE\n",
      "per_honorarios Año 2015\n",
      "per_honorarios Año 2014\n",
      "per_honorarios Año 2013\n",
      "per_honorarios Año 2012\n",
      "per_honorarios Año 2011\n",
      "per_honorarios Año 2010\n",
      "per_honorarios Año 2009\n",
      "per_honorarios Año 2008\n",
      "per_honorarios Año 2007\n",
      "per_honorarios Año 2006\n",
      "\n",
      "Defensoría Penal Pública\n"
     ]
    },
    {
     "data": {
      "application/vnd.jupyter.widget-view+json": {
       "model_id": "e91124064ce547aaadd30c9dae84c82f",
       "version_major": 2,
       "version_minor": 0
      },
      "text/plain": [
       "A Jupyter Widget"
      ]
     },
     "metadata": {},
     "output_type": "display_data"
    },
    {
     "name": "stdout",
     "output_type": "stream",
     "text": [
      "per_honorarios Año 2017\n",
      "per_honorarios Año 2016\n",
      "per_honorarios Año 2015\n",
      "per_honorarios Año 2010\n",
      "per_honorarios Año 2014\n",
      "per_honorarios Año 2013\n",
      "per_honorarios Año 2012\n",
      "per_honorarios Año 2011\n",
      "per_honorarios Año 2009\n",
      "per_honorarios Año 2008\n",
      "per_honorarios Año 2007\n",
      "per_honorarios Año 2006\n",
      "\n",
      "Gendarmería de Chile\n"
     ]
    },
    {
     "data": {
      "application/vnd.jupyter.widget-view+json": {
       "model_id": "ea300d64c1284fbe990468069aa12697",
       "version_major": 2,
       "version_minor": 0
      },
      "text/plain": [
       "A Jupyter Widget"
      ]
     },
     "metadata": {},
     "output_type": "display_data"
    },
    {
     "name": "stdout",
     "output_type": "stream",
     "text": [
      "per_honorarios Enero\n",
      "\n",
      "Corporación de Asistencia Judicial Región Metropolitana\n"
     ]
    },
    {
     "data": {
      "application/vnd.jupyter.widget-view+json": {
       "model_id": "cd0ca140160b459e81ff16e9c8e376aa",
       "version_major": 2,
       "version_minor": 0
      },
      "text/plain": [
       "A Jupyter Widget"
      ]
     },
     "metadata": {},
     "output_type": "display_data"
    },
    {
     "name": "stdout",
     "output_type": "stream",
     "text": [
      "per_honorarios Año 2018\n",
      "per_honorarios Año 2017\n",
      "per_honorarios Año 2016\n",
      "per_honorarios Año 2015\n",
      "per_honorarios Año 2014\n",
      "per_honorarios Año 2013\n",
      "per_honorarios Año 2012\n",
      "per_honorarios Año 2011\n",
      "per_honorarios Año 2010\n",
      "per_honorarios Año 2009\n",
      "per_honorarios Año 2008\n",
      "per_honorarios Año 2007\n",
      "per_honorarios Año 2006\n",
      "\n",
      "Corporación de Asistencia Judicial Región Valparaíso\n"
     ]
    },
    {
     "data": {
      "application/vnd.jupyter.widget-view+json": {
       "model_id": "f3361b6d687a40b5b312dc6a11af8a9e",
       "version_major": 2,
       "version_minor": 0
      },
      "text/plain": [
       "A Jupyter Widget"
      ]
     },
     "metadata": {},
     "output_type": "display_data"
    },
    {
     "name": "stdout",
     "output_type": "stream",
     "text": [
      "per_honorarios Honorarios a�o 2018\n",
      "per_honorarios Honorarios a�o 2017\n",
      "per_honorarios Honorarios a�o 2016\n",
      "per_honorarios Honorarios a�o 2015\n",
      "per_honorarios Honorarios a�o 2014\n",
      "\n",
      "Corporación de Asistencia Judicial Regiones Tarapacá y Antofagasta\n"
     ]
    },
    {
     "data": {
      "application/vnd.jupyter.widget-view+json": {
       "model_id": "b3f0aef2142c4c898157f5778099ce79",
       "version_major": 2,
       "version_minor": 0
      },
      "text/plain": [
       "A Jupyter Widget"
      ]
     },
     "metadata": {},
     "output_type": "display_data"
    },
    {
     "name": "stdout",
     "output_type": "stream",
     "text": [
      "per_honorarios A�o 2018\n",
      "per_honorarios A�o 2017\n",
      "per_honorarios A�o 2016\n",
      "per_honorarios A�o 2015\n",
      "per_honorarios A�o 2014\n",
      "per_honorarios A�o 2013\n",
      "per_honorarios A�o 2012\n",
      "per_honorarios A�o 2011\n",
      "per_honorarios A�o 2010\n",
      "\n",
      "Corporación de Asistencia Judicial Región Bío-Bío\n",
      "No contract data per_honorarios in http://www.gobiernotransparentechile.cl/directorio/entidad/11/166\n"
     ]
    },
    {
     "name": "stderr",
     "output_type": "stream",
     "text": [
      "Traceback (most recent call last):\n",
      "  File \"./lib/functions.py\", line 109, in getDepartmentData\n",
      "    div_years = browser.find_element_by_class_name(\"linksIntermedios\")\n",
      "  File \"/Users/jaime/anaconda3/lib/python3.6/site-packages/selenium/webdriver/remote/webdriver.py\", line 555, in find_element_by_class_name\n",
      "    return self.find_element(by=By.CLASS_NAME, value=name)\n",
      "  File \"/Users/jaime/anaconda3/lib/python3.6/site-packages/selenium/webdriver/remote/webdriver.py\", line 955, in find_element\n",
      "    'value': value})['value']\n",
      "  File \"/Users/jaime/anaconda3/lib/python3.6/site-packages/selenium/webdriver/remote/webdriver.py\", line 312, in execute\n",
      "    self.error_handler.check_response(response)\n",
      "  File \"/Users/jaime/anaconda3/lib/python3.6/site-packages/selenium/webdriver/remote/errorhandler.py\", line 237, in check_response\n",
      "    raise exception_class(message, screen, stacktrace)\n",
      "selenium.common.exceptions.NoSuchElementException: Message: no such element: Unable to locate element: {\"method\":\"class name\",\"selector\":\"linksIntermedios\"}\n",
      "  (Session info: chrome=65.0.3325.181)\n",
      "  (Driver info: chromedriver=2.35.528157 (4429ca2590d6988c0745c24c8858745aaaec01ef),platform=Mac OS X 10.13.3 x86_64)\n",
      "\n"
     ]
    },
    {
     "data": {
      "application/vnd.jupyter.widget-view+json": {
       "model_id": "84cf726f673c4e8a9c8298336522ad7a",
       "version_major": 2,
       "version_minor": 0
      },
      "text/plain": [
       "A Jupyter Widget"
      ]
     },
     "metadata": {},
     "output_type": "display_data"
    },
    {
     "name": "stdout",
     "output_type": "stream",
     "text": [
      "\n",
      "Ministerio del Trabajo y Previsión Social\n",
      "Subsecretaría del Trabajo\n"
     ]
    },
    {
     "data": {
      "application/vnd.jupyter.widget-view+json": {
       "model_id": "6d2d115493d243b882e4d2455cc274cd",
       "version_major": 2,
       "version_minor": 0
      },
      "text/plain": [
       "A Jupyter Widget"
      ]
     },
     "metadata": {},
     "output_type": "display_data"
    },
    {
     "name": "stdout",
     "output_type": "stream",
     "text": [
      "per_honorarios Año 2018\n",
      "per_honorarios Año 2017\n",
      "per_honorarios Año 2016\n",
      "per_honorarios Año 2015\n",
      "per_honorarios Año 2014\n",
      "per_honorarios Año 2013\n",
      "per_honorarios Año 2012\n",
      "per_honorarios Año 2011\n",
      "per_honorarios Año 2010\n",
      "per_honorarios Año 2009 (Abril-Diciembre)\n",
      "per_honorarios Año 2009 (Enero-Marzo)\n",
      "per_honorarios Año 2008\n",
      "per_honorarios Año 2007\n",
      "per_honorarios Año 2006\n",
      "\n",
      "Subsecretaría de Previsión Social\n"
     ]
    },
    {
     "data": {
      "application/vnd.jupyter.widget-view+json": {
       "model_id": "5252dd27ab4942e9a8ccb6d823cd6e27",
       "version_major": 2,
       "version_minor": 0
      },
      "text/plain": [
       "A Jupyter Widget"
      ]
     },
     "metadata": {},
     "output_type": "display_data"
    },
    {
     "name": "stdout",
     "output_type": "stream",
     "text": [
      "per_honorarios Año 2018 programa 01\n",
      "per_honorarios Año 2017 programa 01\n",
      "per_honorarios Año 2016 programa 01\n",
      "per_honorarios Año 2015 programa 01\n",
      "per_honorarios Año 2014 programa 01\n",
      "per_honorarios Año 2013 programa 01\n",
      "per_honorarios Año 2012 programa 01\n",
      "per_honorarios Año 2011 programa 03\n",
      "per_honorarios Año 2011 programa 01\n",
      "per_honorarios Año 2010 programa 03\n",
      "per_honorarios Año 2010 programa 01\n",
      "per_honorarios Año 2009 programa 03\n",
      "per_honorarios Año 2009 programa 01\n",
      "\n",
      "Dirección del Trabajo (DT)\n"
     ]
    },
    {
     "data": {
      "application/vnd.jupyter.widget-view+json": {
       "model_id": "207a017be84b4ca7a55b390303db9ffe",
       "version_major": 2,
       "version_minor": 0
      },
      "text/plain": [
       "A Jupyter Widget"
      ]
     },
     "metadata": {},
     "output_type": "display_data"
    },
    {
     "name": "stdout",
     "output_type": "stream",
     "text": [
      "per_honorarios Año 2010\n",
      "per_honorarios Año 2009\n",
      "per_honorarios Año 2008\n",
      "per_honorarios Año 2007\n",
      "per_honorarios Año 2006\n",
      "per_honorarios Año 2018\n",
      "per_honorarios Año 2017\n",
      "per_honorarios Año 2016\n",
      "per_honorarios Año 2015\n",
      "per_honorarios Año 2014\n",
      "per_honorarios Año 2013\n",
      "per_honorarios Año 2012\n",
      "per_honorarios Año 2011\n",
      "\n",
      "Dirección General de Crédito Prendario (DICREP)\n"
     ]
    },
    {
     "data": {
      "application/vnd.jupyter.widget-view+json": {
       "model_id": "2e80b050a0ac43b08ec2d1c4ea448e41",
       "version_major": 2,
       "version_minor": 0
      },
      "text/plain": [
       "A Jupyter Widget"
      ]
     },
     "metadata": {},
     "output_type": "display_data"
    },
    {
     "name": "stdout",
     "output_type": "stream",
     "text": [
      "per_honorarios > Febrero\n",
      "per_honorarios > Enero\n",
      "per_honorarios Año 2017\n",
      "per_honorarios Año 2016\n",
      "could not get breadcrumbs from http://www.gobiernotransparentechile.cl/directorio/entidad/12/170/per_honorarios/A%C3%B1o%202016/%26gt%3B%20Enero\n",
      "could not get breadcrumbs from http://www.gobiernotransparentechile.cl/directorio/entidad/12/170/per_honorarios/A%C3%B1o%202016/%26gt%3B%20Febrero\n",
      "could not get breadcrumbs from http://www.gobiernotransparentechile.cl/directorio/entidad/12/170/per_honorarios/A%C3%B1o%202016/%26gt%3B%20Marzo\n",
      "could not get breadcrumbs from http://www.gobiernotransparentechile.cl/directorio/entidad/12/170/per_honorarios/A%C3%B1o%202016/%26gt%3B%20Abril\n",
      "could not get breadcrumbs from http://www.gobiernotransparentechile.cl/directorio/entidad/12/170/per_honorarios/A%C3%B1o%202016/%26gt%3B%20Mayo\n",
      "could not get breadcrumbs from http://www.gobiernotransparentechile.cl/directorio/entidad/12/170/per_honorarios/A%C3%B1o%202016/%26gt%3B%20Junio\n",
      "could not get breadcrumbs from http://www.gobiernotransparentechile.cl/directorio/entidad/12/170/per_honorarios/A%C3%B1o%202016/%26gt%3B%20Julio\n",
      "could not get breadcrumbs from http://www.gobiernotransparentechile.cl/directorio/entidad/12/170/per_honorarios/A%C3%B1o%202016/%26gt%3B%20Agosto\n",
      "could not get breadcrumbs from http://www.gobiernotransparentechile.cl/directorio/entidad/12/170/per_honorarios/A%C3%B1o%202016/%26gt%3B%20Septiembre\n",
      "could not get breadcrumbs from http://www.gobiernotransparentechile.cl/directorio/entidad/12/170/per_honorarios/A%C3%B1o%202016/%26gt%3B%20Octubre\n",
      "could not get breadcrumbs from http://www.gobiernotransparentechile.cl/directorio/entidad/12/170/per_honorarios/A%C3%B1o%202016/%26gt%3B%20Noviembre\n",
      "could not get breadcrumbs from http://www.gobiernotransparentechile.cl/directorio/entidad/12/170/per_honorarios/A%C3%B1o%202016/%26gt%3B%20Diciembre\n",
      "per_honorarios Año 2015\n",
      "per_honorarios Año 2014\n",
      "per_honorarios Año 2013\n",
      "per_honorarios Año 2012\n",
      "per_honorarios Año 2011\n",
      "could not get breadcrumbs from http://www.dicrep.cl/transparencia/2011/per_honorarios.html\n",
      "per_honorarios Año 2010\n",
      "could not get breadcrumbs from http://www.dicrep.cl/transparencia/2010/per_honorarios.html\n",
      "per_honorarios Año 2009\n",
      "could not get breadcrumbs from http://www.dicrep.cl/transparencia/2009/per_honorarios.html\n",
      "per_honorarios Año 2008\n",
      "could not get breadcrumbs from http://www.dicrep.cl/transparencia/2008/honorarios.html\n",
      "per_honorarios Año 2007\n",
      "could not get breadcrumbs from http://www.dicrep.cl/transparencia/2007/honorarios.html\n",
      "per_honorarios Año 2006\n",
      "could not get breadcrumbs from http://www.dicrep.cl/transparencia/2006/honorarios06.html\n",
      "\n",
      "Instituto de Previsión Social (IPS)\n"
     ]
    },
    {
     "data": {
      "application/vnd.jupyter.widget-view+json": {
       "model_id": "ff444a60c19242dc9122921481bf1f2d",
       "version_major": 2,
       "version_minor": 0
      },
      "text/plain": [
       "A Jupyter Widget"
      ]
     },
     "metadata": {},
     "output_type": "display_data"
    },
    {
     "name": "stdout",
     "output_type": "stream",
     "text": [
      "per_honorarios Año 2018\n",
      "could not get breadcrumbs from http://gobiernotransparente.ips.gob.cl/2018/enero/per_honorarios.html\n",
      "per_honorarios Año 2017\n",
      "could not get breadcrumbs from http://gobiernotransparente.ips.gob.cl/2017/abril/per_honorarios.html\n",
      "per_honorarios Año 2016\n",
      "could not get breadcrumbs from http://gobiernotransparente.ips.gob.cl/2016/abril/per_honorarios.html\n",
      "per_honorarios Año 2008\n",
      "could not get breadcrumbs from http://gobiernotransparente.ips.gob.cl/2008/per_honorarios.html\n",
      "per_honorarios Año 2007\n",
      "could not get breadcrumbs from http://gobiernotransparente.ips.gob.cl/2007/per_honorarios.html\n",
      "per_honorarios Año 2006\n",
      "could not get breadcrumbs from http://gobiernotransparente.ips.gob.cl/2006/per_honorarios.html\n",
      "per_honorarios Año 2015\n",
      "could not get breadcrumbs from http://gobiernotransparente.ips.gob.cl/2015/per_honorarios.html\n",
      "per_honorarios Año 2014\n",
      "could not get breadcrumbs from http://gobiernotransparente.ips.gob.cl/2014/per_honorarios.html\n",
      "per_honorarios Año 2013\n",
      "could not get breadcrumbs from http://gobiernotransparente.ips.gob.cl/2013/per_honorarios.html\n",
      "per_honorarios Año 2012\n",
      "could not get breadcrumbs from http://gobiernotransparente.ips.gob.cl/2012/per_honorarios.html\n",
      "per_honorarios Año 2011\n",
      "could not get breadcrumbs from http://gobiernotransparente.ips.gob.cl/2011/per_honorarios.html\n",
      "per_honorarios Año 2010\n",
      "could not get breadcrumbs from http://gobiernotransparente.ips.gob.cl/2010/per_honorarios.html\n",
      "per_honorarios Año 2009\n",
      "could not get breadcrumbs from http://gobiernotransparente.ips.gob.cl/2009/per_honorarios.html\n",
      "\n",
      "Instituto de Seguridad Laboral (ISL)\n",
      "No contract data per_honorarios in http://www.gobiernotransparentechile.cl/directorio/entidad/12/172\n"
     ]
    },
    {
     "name": "stderr",
     "output_type": "stream",
     "text": [
      "Traceback (most recent call last):\n",
      "  File \"./lib/functions.py\", line 109, in getDepartmentData\n",
      "    div_years = browser.find_element_by_class_name(\"linksIntermedios\")\n",
      "  File \"/Users/jaime/anaconda3/lib/python3.6/site-packages/selenium/webdriver/remote/webdriver.py\", line 555, in find_element_by_class_name\n",
      "    return self.find_element(by=By.CLASS_NAME, value=name)\n",
      "  File \"/Users/jaime/anaconda3/lib/python3.6/site-packages/selenium/webdriver/remote/webdriver.py\", line 955, in find_element\n",
      "    'value': value})['value']\n",
      "  File \"/Users/jaime/anaconda3/lib/python3.6/site-packages/selenium/webdriver/remote/webdriver.py\", line 312, in execute\n",
      "    self.error_handler.check_response(response)\n",
      "  File \"/Users/jaime/anaconda3/lib/python3.6/site-packages/selenium/webdriver/remote/errorhandler.py\", line 237, in check_response\n",
      "    raise exception_class(message, screen, stacktrace)\n",
      "selenium.common.exceptions.NoSuchElementException: Message: no such element: Unable to locate element: {\"method\":\"class name\",\"selector\":\"linksIntermedios\"}\n",
      "  (Session info: chrome=65.0.3325.181)\n",
      "  (Driver info: chromedriver=2.35.528157 (4429ca2590d6988c0745c24c8858745aaaec01ef),platform=Mac OS X 10.13.3 x86_64)\n",
      "\n"
     ]
    },
    {
     "data": {
      "application/vnd.jupyter.widget-view+json": {
       "model_id": "d0587defc1f64abaa8c7977910e73c0e",
       "version_major": 2,
       "version_minor": 0
      },
      "text/plain": [
       "A Jupyter Widget"
      ]
     },
     "metadata": {},
     "output_type": "display_data"
    },
    {
     "name": "stdout",
     "output_type": "stream",
     "text": [
      "\n",
      "Servicio Nacional de Capacitación y Empleo (SENCE)\n"
     ]
    },
    {
     "data": {
      "application/vnd.jupyter.widget-view+json": {
       "model_id": "ea61249bbf7142c8a42aed45e174ad94",
       "version_major": 2,
       "version_minor": 0
      },
      "text/plain": [
       "A Jupyter Widget"
      ]
     },
     "metadata": {},
     "output_type": "display_data"
    },
    {
     "name": "stdout",
     "output_type": "stream",
     "text": [
      "per_honorarios A�o 2018\n",
      "per_honorarios A�o 2017\n",
      "per_honorarios A�o 2016\n",
      "per_honorarios A�o 2015\n",
      "per_honorarios A�o 2014\n",
      "per_honorarios A�o 2013\n",
      "per_honorarios A�o 2012\n",
      "per_honorarios A�o 2011\n",
      "\n",
      "Superintendencia de Pensiones (SP)\n"
     ]
    },
    {
     "data": {
      "application/vnd.jupyter.widget-view+json": {
       "model_id": "9281928514554a5bb400e647e9a7b88a",
       "version_major": 2,
       "version_minor": 0
      },
      "text/plain": [
       "A Jupyter Widget"
      ]
     },
     "metadata": {},
     "output_type": "display_data"
    },
    {
     "name": "stdout",
     "output_type": "stream",
     "text": [
      "per_honorarios Año 2018\n",
      "per_honorarios Año 2017\n",
      "per_honorarios Año 2016\n",
      "per_honorarios Año 2015\n",
      "per_honorarios Año 2014\n",
      "per_honorarios Año 2013\n",
      "per_honorarios Año 2012\n",
      "per_honorarios Año 2011\n",
      "per_honorarios Año 2010\n",
      "per_honorarios Año 2009\n",
      "per_honorarios Año 2008\n",
      "per_honorarios Año 2007\n",
      "per_honorarios Año 2006\n",
      "\n",
      "Superintendencia de Seguridad Social (SUSESO)\n"
     ]
    },
    {
     "data": {
      "application/vnd.jupyter.widget-view+json": {
       "model_id": "4afb933e6fb34e329860d6e4a2851a94",
       "version_major": 2,
       "version_minor": 0
      },
      "text/plain": [
       "A Jupyter Widget"
      ]
     },
     "metadata": {},
     "output_type": "display_data"
    },
    {
     "name": "stdout",
     "output_type": "stream",
     "text": [
      "per_honorarios Febrero\n",
      "per_honorarios Enero\n",
      "per_honorarios Diciembre\n",
      "per_honorarios Noviembre\n",
      "per_honorarios Octubre\n",
      "per_honorarios Septiembre\n",
      "per_honorarios Agosto\n",
      "per_honorarios Julio\n",
      "per_honorarios Junio\n",
      "per_honorarios Mayo\n",
      "per_honorarios Abril\n",
      "per_honorarios Marzo\n",
      "per_honorarios Año 2016\n",
      "per_honorarios Año 2015\n",
      "per_honorarios Año 2014\n",
      "per_honorarios Año 2013\n",
      "per_honorarios Año 2012\n",
      "per_honorarios Año 2011\n",
      "per_honorarios Año 2010\n",
      "per_honorarios Año 2009\n",
      "per_honorarios Año 2008\n",
      "could not get breadcrumbs from http://163.247.55.110/PortalWEB/GTransparente/2008/per_honorarios.html\n",
      "per_honorarios Año 2007\n",
      "could not get breadcrumbs from http://163.247.55.110/PortalWEB/GTransparente/2007/per_honorarios.html\n",
      "per_honorarios Año 2006\n",
      "\n",
      "Comisión del Sistema Nacional de Certificación de Competencias Laborales (CHILEVALORA)\n"
     ]
    },
    {
     "data": {
      "application/vnd.jupyter.widget-view+json": {
       "model_id": "1cebbd1657fe43faa8df1aa13190286f",
       "version_major": 2,
       "version_minor": 0
      },
      "text/plain": [
       "A Jupyter Widget"
      ]
     },
     "metadata": {},
     "output_type": "display_data"
    },
    {
     "name": "stdout",
     "output_type": "stream",
     "text": [
      "per_honorarios Año 2018\n",
      "per_honorarios Año 2017\n",
      "per_honorarios Año 2016\n",
      "per_honorarios Año 2015\n",
      "per_honorarios Año 2014\n",
      "per_honorarios Año 2013\n",
      "per_honorarios Año 2012\n",
      "per_honorarios Año 2011\n",
      "per_honorarios Año 2010\n",
      "per_honorarios Año 2009\n",
      "\n",
      "Ministerio de Obras Públicas\n",
      "Subsecretaría de Obras Públicas\n"
     ]
    },
    {
     "data": {
      "application/vnd.jupyter.widget-view+json": {
       "model_id": "e30b38b927db49f0a834d412f3d3e9ba",
       "version_major": 2,
       "version_minor": 0
      },
      "text/plain": [
       "A Jupyter Widget"
      ]
     },
     "metadata": {},
     "output_type": "display_data"
    },
    {
     "name": "stdout",
     "output_type": "stream",
     "text": [
      "per_honorarios Año 2018\n",
      "per_honorarios Año 2017\n",
      "per_honorarios Año 2016\n",
      "per_honorarios Año 2015\n",
      "per_honorarios Año 2014\n",
      "per_honorarios Año 2013\n",
      "per_honorarios Año 2012\n",
      "per_honorarios Año 2011\n",
      "per_honorarios Año 2010\n",
      "could not get breadcrumbs from http://transparencia.mop.cl/dotacion/honorarios/2010/201001.pdf\n",
      "per_honorarios Año 2009\n",
      "per_honorarios Año 2008\n",
      "per_honorarios Año 2007\n",
      "per_honorarios Año 2006\n",
      "\n",
      "Dirección General de Obras Públicas\n"
     ]
    },
    {
     "data": {
      "application/vnd.jupyter.widget-view+json": {
       "model_id": "647636caf7114f10a90e342d90284fda",
       "version_major": 2,
       "version_minor": 0
      },
      "text/plain": [
       "A Jupyter Widget"
      ]
     },
     "metadata": {},
     "output_type": "display_data"
    },
    {
     "name": "stdout",
     "output_type": "stream",
     "text": [
      "per_honorarios A�o 2018\n",
      "per_honorarios A�o 2017\n",
      "per_honorarios A�o 2016\n",
      "per_honorarios A�o 2015\n",
      "per_honorarios A�o 2014\n",
      "per_honorarios A�o 2013\n",
      "per_honorarios A�o 2012\n",
      "per_honorarios A�o 2011\n",
      "per_honorarios A�o 2010\n",
      "could not get breadcrumbs from http://transparencia.dgop.cl/dotacion/honorarios/2010/201001.pdf\n",
      "per_honorarios A�o 2009\n",
      "could not get breadcrumbs from http://transparencia.dgop.cl/dotacion/honorarios/2009/200904.pdf\n",
      "per_honorarios A�o 2008\n",
      "per_honorarios A�o 2007\n",
      "per_honorarios A�o 2006\n",
      "\n",
      "Dirección de Contabilidad y Finanzas\n"
     ]
    },
    {
     "data": {
      "application/vnd.jupyter.widget-view+json": {
       "model_id": "3ccd2ce466fb48abb5a03fcb85fd8b6f",
       "version_major": 2,
       "version_minor": 0
      },
      "text/plain": [
       "A Jupyter Widget"
      ]
     },
     "metadata": {},
     "output_type": "display_data"
    },
    {
     "name": "stdout",
     "output_type": "stream",
     "text": [
      "per_honorarios Año 2018\n",
      "per_honorarios Año 2017\n",
      "per_honorarios Año 2016\n",
      "per_honorarios Año 2015\n",
      "per_honorarios Año 2014\n",
      "per_honorarios Año 2013\n",
      "per_honorarios Año 2012\n",
      "per_honorarios Año 2011\n",
      "per_honorarios Año 2010\n",
      "could not get breadcrumbs from http://transparencia.dcyf.cl/dotacion/honorarios/2010/201001.pdf\n",
      "per_honorarios Año 2009\n",
      "per_honorarios Año 2008\n",
      "per_honorarios Año 2007\n",
      "per_honorarios Año 2006\n",
      "could not get breadcrumbs from http://transparencia.dcyf.cl/dotacion/honorarios/2006/2006.html\n",
      "\n",
      "Dirección de Aeropuertos\n"
     ]
    },
    {
     "data": {
      "application/vnd.jupyter.widget-view+json": {
       "model_id": "faa3e350eaee46228f7f48e13bbb50cf",
       "version_major": 2,
       "version_minor": 0
      },
      "text/plain": [
       "A Jupyter Widget"
      ]
     },
     "metadata": {},
     "output_type": "display_data"
    },
    {
     "name": "stdout",
     "output_type": "stream",
     "text": [
      "per_honorarios A�o 2018\n",
      "per_honorarios A�o 2017\n",
      "per_honorarios A�o 2016\n",
      "per_honorarios A�o 2015\n",
      "per_honorarios A�o 2014\n",
      "per_honorarios A�o 2013\n",
      "per_honorarios A�o 2012\n",
      "per_honorarios A�o 2011\n",
      "per_honorarios A�o 2010\n",
      "per_honorarios A�o 2009\n",
      "per_honorarios A�o 2008\n",
      "could not get breadcrumbs from http://esp.aeropuertos.gov.cl/transparencia/dotacion/honorarios/2008/2008.html\n",
      "per_honorarios A�o 2007\n",
      "per_honorarios A�o 2006\n",
      "\n",
      "Dirección de Arquitectura\n"
     ]
    },
    {
     "data": {
      "application/vnd.jupyter.widget-view+json": {
       "model_id": "b142eec62bcd47df9acfdde772701f55",
       "version_major": 2,
       "version_minor": 0
      },
      "text/plain": [
       "A Jupyter Widget"
      ]
     },
     "metadata": {},
     "output_type": "display_data"
    },
    {
     "name": "stdout",
     "output_type": "stream",
     "text": [
      "per_honorarios Año 2018\n",
      "per_honorarios Año 2017\n",
      "per_honorarios Año 2016\n",
      "per_honorarios Año 2015\n",
      "per_honorarios Año 2014\n",
      "per_honorarios Año 2013\n",
      "per_honorarios Año 2012\n",
      "per_honorarios Año 2011\n",
      "per_honorarios Año 2010\n",
      "could not get breadcrumbs from http://transparencia.arquitecturamop.cl/dotacion/honorarios/2010/201001.pdf\n",
      "per_honorarios Año 2009\n",
      "per_honorarios Año 2008\n",
      "per_honorarios Año 2007\n",
      "per_honorarios Año 2006\n",
      "\n",
      "Dirección General de Aguas (DGA)\n"
     ]
    },
    {
     "data": {
      "application/vnd.jupyter.widget-view+json": {
       "model_id": "6d7ed6c9c5bd4592b5e532c0379452ab",
       "version_major": 2,
       "version_minor": 0
      },
      "text/plain": [
       "A Jupyter Widget"
      ]
     },
     "metadata": {},
     "output_type": "display_data"
    },
    {
     "name": "stdout",
     "output_type": "stream",
     "text": [
      "per_honorarios Año 2018\n",
      "per_honorarios Año 2017\n",
      "per_honorarios Año 2016\n",
      "per_honorarios Año 2015\n",
      "per_honorarios Año 2014\n",
      "per_honorarios Año 2013\n",
      "per_honorarios Año 2012\n",
      "per_honorarios Año 2011\n",
      "per_honorarios Año 2010\n",
      "could not get breadcrumbs from http://transparencia.dga.cl/dotacion/honorarios/2010/01plantillahonorarios.pdf\n",
      "per_honorarios Año 2009\n",
      "per_honorarios Año 2008\n",
      "per_honorarios Año 2007\n",
      "per_honorarios Año 2006\n",
      "\n",
      "Dirección de Obras Hidráulicas (DOH)\n",
      "No contract data per_honorarios in http://www.gobiernotransparentechile.cl/directorio/entidad/13/182\n"
     ]
    },
    {
     "name": "stderr",
     "output_type": "stream",
     "text": [
      "Traceback (most recent call last):\n",
      "  File \"./lib/functions.py\", line 109, in getDepartmentData\n",
      "    div_years = browser.find_element_by_class_name(\"linksIntermedios\")\n",
      "  File \"/Users/jaime/anaconda3/lib/python3.6/site-packages/selenium/webdriver/remote/webdriver.py\", line 555, in find_element_by_class_name\n",
      "    return self.find_element(by=By.CLASS_NAME, value=name)\n",
      "  File \"/Users/jaime/anaconda3/lib/python3.6/site-packages/selenium/webdriver/remote/webdriver.py\", line 955, in find_element\n",
      "    'value': value})['value']\n",
      "  File \"/Users/jaime/anaconda3/lib/python3.6/site-packages/selenium/webdriver/remote/webdriver.py\", line 312, in execute\n",
      "    self.error_handler.check_response(response)\n",
      "  File \"/Users/jaime/anaconda3/lib/python3.6/site-packages/selenium/webdriver/remote/errorhandler.py\", line 237, in check_response\n",
      "    raise exception_class(message, screen, stacktrace)\n",
      "selenium.common.exceptions.NoSuchElementException: Message: no such element: Unable to locate element: {\"method\":\"class name\",\"selector\":\"linksIntermedios\"}\n",
      "  (Session info: chrome=65.0.3325.181)\n",
      "  (Driver info: chromedriver=2.35.528157 (4429ca2590d6988c0745c24c8858745aaaec01ef),platform=Mac OS X 10.13.3 x86_64)\n",
      "\n"
     ]
    },
    {
     "data": {
      "application/vnd.jupyter.widget-view+json": {
       "model_id": "46c8f14630d34553bdfbf353ec2f0ff5",
       "version_major": 2,
       "version_minor": 0
      },
      "text/plain": [
       "A Jupyter Widget"
      ]
     },
     "metadata": {},
     "output_type": "display_data"
    },
    {
     "name": "stdout",
     "output_type": "stream",
     "text": [
      "\n",
      "Dirección de Obras Portuarias (DOP)\n"
     ]
    },
    {
     "data": {
      "application/vnd.jupyter.widget-view+json": {
       "model_id": "c9d2bd3ad6174990bce45201098fc2aa",
       "version_major": 2,
       "version_minor": 0
      },
      "text/plain": [
       "A Jupyter Widget"
      ]
     },
     "metadata": {},
     "output_type": "display_data"
    },
    {
     "name": "stdout",
     "output_type": "stream",
     "text": [
      "per_honorarios Año 2018\n",
      "per_honorarios Año 2017\n",
      "per_honorarios Año 2016\n",
      "per_honorarios Año 2015\n",
      "per_honorarios Año 2014\n",
      "could not get breadcrumbs from http://transparencia.dop.cl/dotacion/honorarios/2014/dotacionhonorarios_0206_012014.htm\n",
      "per_honorarios Año 2009\n",
      "could not get breadcrumbs from http://transparencia.dop.cl/dotacion/honorarios/2009/a%f1o2009_honorarios.pdf\n",
      "per_honorarios Año 2008\n",
      "per_honorarios Año 2007\n",
      "per_honorarios Año 2006\n",
      "per_honorarios Año 2013\n",
      "could not get breadcrumbs from http://transparencia.dop.cl/dotacion/honorarios/2013/dotacionhonorarios_0206_012013.htm\n",
      "per_honorarios Año 2012\n",
      "could not get breadcrumbs from http://transparencia.dop.cl/dotacion/honorarios/2012/dotacionhonorarios_0206_102012.htm\n",
      "per_honorarios Año 2011\n",
      "could not get breadcrumbs from http://transparencia.dop.cl/dotacion/honorarios/2011/dotacionhonorarios_0206_102011.htm\n",
      "per_honorarios Año 2010\n",
      "could not get breadcrumbs from http://transparencia.dop.cl/dotacion/honorarios/2010/dotacionhonorarios_0206_102010.htm\n",
      "\n",
      "Dirección de Planeamiento (DIRPLAN)\n"
     ]
    },
    {
     "data": {
      "application/vnd.jupyter.widget-view+json": {
       "model_id": "a1aa8ba9759044dd90a8495a3cedf04e",
       "version_major": 2,
       "version_minor": 0
      },
      "text/plain": [
       "A Jupyter Widget"
      ]
     },
     "metadata": {},
     "output_type": "display_data"
    },
    {
     "name": "stdout",
     "output_type": "stream",
     "text": [
      "per_honorarios Año 2018\n",
      "per_honorarios Año 2017\n",
      "per_honorarios Año 2016\n",
      "per_honorarios Año 2015\n",
      "per_honorarios Año 2014\n",
      "per_honorarios Año 2013\n",
      "per_honorarios Año 2012\n",
      "per_honorarios Año 2011\n",
      "per_honorarios Año 2010\n",
      "could not get breadcrumbs from http://transparencia.dirplan.cl/dotacion/honorarios/2010/Doc/honorarios_abril.pdf\n",
      "per_honorarios Año 2009\n",
      "per_honorarios Año 2008\n",
      "per_honorarios Año 2007\n",
      "per_honorarios Año 2006\n",
      "\n",
      "Dirección de Vialidad\n"
     ]
    },
    {
     "data": {
      "application/vnd.jupyter.widget-view+json": {
       "model_id": "a848979b05c54f868a2197257d5c97d1",
       "version_major": 2,
       "version_minor": 0
      },
      "text/plain": [
       "A Jupyter Widget"
      ]
     },
     "metadata": {},
     "output_type": "display_data"
    },
    {
     "name": "stdout",
     "output_type": "stream",
     "text": [
      "per_honorarios Año 2017\n",
      "could not get breadcrumbs from http://servicios.vialidad.cl/transparencia/dotacion/honorarios/2017/01_Honorarios.html\n",
      "per_honorarios Año 2016\n",
      "could not get breadcrumbs from http://servicios.vialidad.cl/transparencia/dotacion/honorarios/2016/01_Honorarios.html\n",
      "per_honorarios Año 2015\n",
      "could not get breadcrumbs from http://servicios.vialidad.cl/transparencia/dotacion/honorarios/2015/01_Honorarios.html\n",
      "per_honorarios Año 2014\n",
      "could not get breadcrumbs from http://servicios.vialidad.cl/transparencia/dotacion/honorarios/2014/01_Honorarios.html\n",
      "per_honorarios Año 2013\n",
      "could not get breadcrumbs from http://servicios.vialidad.cl/transparencia/dotacion/honorarios/2013/01_Honorarios.html\n",
      "per_honorarios Año 2012\n",
      "could not get breadcrumbs from http://servicios.vialidad.cl/transparencia/dotacion/honorarios/2012/01_Honorarios.html\n",
      "per_honorarios Año 2011\n",
      "could not get breadcrumbs from http://servicios.vialidad.cl/transparencia/dotacion/honorarios/2011/01_Honorarios.html\n",
      "per_honorarios Año 2010\n",
      "could not get breadcrumbs from http://servicios.vialidad.cl/transparencia/dotacion/honorarios/2010/06_Honorarios.html\n",
      "per_honorarios Año 2009\n",
      "could not get breadcrumbs from http://servicios.vialidad.cl/transparencia/dotacion/honorarios/2009/2009.html\n",
      "per_honorarios Año 2008\n",
      "could not get breadcrumbs from http://servicios.vialidad.cl/transparencia/dotacion/honorarios/2008/2008.html\n",
      "per_honorarios Año 2007\n",
      "could not get breadcrumbs from http://servicios.vialidad.cl/transparencia/dotacion/honorarios/2007/2007.html\n",
      "per_honorarios Año 2006\n",
      "could not get breadcrumbs from http://servicios.vialidad.cl/transparencia/dotacion/honorarios/2006/2006.html\n",
      "\n",
      "Superintendencia de Servicios Sanitarios (SISS)\n",
      "No contract data per_honorarios in http://www.gobiernotransparentechile.cl/directorio/entidad/13/186\n"
     ]
    },
    {
     "name": "stderr",
     "output_type": "stream",
     "text": [
      "Traceback (most recent call last):\n",
      "  File \"./lib/functions.py\", line 109, in getDepartmentData\n",
      "    div_years = browser.find_element_by_class_name(\"linksIntermedios\")\n",
      "  File \"/Users/jaime/anaconda3/lib/python3.6/site-packages/selenium/webdriver/remote/webdriver.py\", line 555, in find_element_by_class_name\n",
      "    return self.find_element(by=By.CLASS_NAME, value=name)\n",
      "  File \"/Users/jaime/anaconda3/lib/python3.6/site-packages/selenium/webdriver/remote/webdriver.py\", line 955, in find_element\n",
      "    'value': value})['value']\n",
      "  File \"/Users/jaime/anaconda3/lib/python3.6/site-packages/selenium/webdriver/remote/webdriver.py\", line 312, in execute\n",
      "    self.error_handler.check_response(response)\n",
      "  File \"/Users/jaime/anaconda3/lib/python3.6/site-packages/selenium/webdriver/remote/errorhandler.py\", line 237, in check_response\n",
      "    raise exception_class(message, screen, stacktrace)\n",
      "selenium.common.exceptions.NoSuchElementException: Message: no such element: Unable to locate element: {\"method\":\"class name\",\"selector\":\"linksIntermedios\"}\n",
      "  (Session info: chrome=65.0.3325.181)\n",
      "  (Driver info: chromedriver=2.35.528157 (4429ca2590d6988c0745c24c8858745aaaec01ef),platform=Mac OS X 10.13.3 x86_64)\n",
      "\n"
     ]
    },
    {
     "data": {
      "application/vnd.jupyter.widget-view+json": {
       "model_id": "9f3a830fb36d4c93a90da62cb6079cd6",
       "version_major": 2,
       "version_minor": 0
      },
      "text/plain": [
       "A Jupyter Widget"
      ]
     },
     "metadata": {},
     "output_type": "display_data"
    },
    {
     "name": "stdout",
     "output_type": "stream",
     "text": [
      "\n",
      "Instituto Nacional de Hidráulica (INH)\n"
     ]
    },
    {
     "data": {
      "application/vnd.jupyter.widget-view+json": {
       "model_id": "9775b8d941264ecea85a8929f2327771",
       "version_major": 2,
       "version_minor": 0
      },
      "text/plain": [
       "A Jupyter Widget"
      ]
     },
     "metadata": {},
     "output_type": "display_data"
    },
    {
     "name": "stdout",
     "output_type": "stream",
     "text": [
      "per_honorarios Año 2018\n",
      "per_honorarios Año 2017\n",
      "per_honorarios Año 2016\n",
      "per_honorarios Año 2015\n",
      "per_honorarios Año 2014\n",
      "per_honorarios Año 2013\n",
      "per_honorarios Año 2012\n",
      "per_honorarios Año 2011\n",
      "per_honorarios Año 2010\n",
      "per_honorarios Año 2009\n",
      "\n",
      "Fiscalía de Obras Públicas\n"
     ]
    },
    {
     "data": {
      "application/vnd.jupyter.widget-view+json": {
       "model_id": "ab8ed3e3c8c9419888cdc9a288eb2434",
       "version_major": 2,
       "version_minor": 0
      },
      "text/plain": [
       "A Jupyter Widget"
      ]
     },
     "metadata": {},
     "output_type": "display_data"
    },
    {
     "name": "stdout",
     "output_type": "stream",
     "text": [
      "per_honorarios Año 2018\n",
      "per_honorarios Año 2017\n",
      "per_honorarios Año 2016\n",
      "per_honorarios Año 2015\n",
      "per_honorarios Año 2014\n",
      "per_honorarios Año 2013\n",
      "per_honorarios Año 2012\n",
      "per_honorarios Año 2011\n",
      "per_honorarios Año 2010\n",
      "could not get breadcrumbs from http://transparencia.mop.cl/fiscalia/dotacion/honorarios/2010/201001.pdf\n",
      "per_honorarios Año 2009\n",
      "per_honorarios Año 2008\n",
      "per_honorarios Año 2007\n",
      "per_honorarios Año 2006\n",
      "\n",
      "Coordinación de Concesiones\n"
     ]
    },
    {
     "data": {
      "application/vnd.jupyter.widget-view+json": {
       "model_id": "80439e6378fb4923bf6c19f8f001470e",
       "version_major": 2,
       "version_minor": 0
      },
      "text/plain": [
       "A Jupyter Widget"
      ]
     },
     "metadata": {},
     "output_type": "display_data"
    },
    {
     "name": "stdout",
     "output_type": "stream",
     "text": [
      "per_honorarios A�o 2018\n",
      "per_honorarios A�o 2017\n",
      "per_honorarios A�o 2016\n",
      "per_honorarios A�o 2015\n",
      "per_honorarios A�o 2014\n",
      "per_honorarios A�o 2013\n",
      "per_honorarios A�o 2012\n",
      "per_honorarios A�o 2011\n",
      "per_honorarios A�o 2010\n",
      "could not get breadcrumbs from http://transparencia.dgop.cl/dotacion/honorarios/2010/201001.pdf\n",
      "per_honorarios A�o 2009\n",
      "could not get breadcrumbs from http://transparencia.dgop.cl/dotacion/honorarios/2009/200904.pdf\n",
      "per_honorarios A�o 2008\n",
      "per_honorarios A�o 2007\n",
      "per_honorarios A�o 2006\n",
      "\n",
      "Ministerio de Transporte y Telecomunicaciones\n",
      "Subsecretaría de Transporte\n",
      "No contract data per_honorarios in http://www.gobiernotransparentechile.cl/directorio/entidad/14/189\n"
     ]
    },
    {
     "name": "stderr",
     "output_type": "stream",
     "text": [
      "Traceback (most recent call last):\n",
      "  File \"./lib/functions.py\", line 109, in getDepartmentData\n",
      "    div_years = browser.find_element_by_class_name(\"linksIntermedios\")\n",
      "  File \"/Users/jaime/anaconda3/lib/python3.6/site-packages/selenium/webdriver/remote/webdriver.py\", line 555, in find_element_by_class_name\n",
      "    return self.find_element(by=By.CLASS_NAME, value=name)\n",
      "  File \"/Users/jaime/anaconda3/lib/python3.6/site-packages/selenium/webdriver/remote/webdriver.py\", line 955, in find_element\n",
      "    'value': value})['value']\n",
      "  File \"/Users/jaime/anaconda3/lib/python3.6/site-packages/selenium/webdriver/remote/webdriver.py\", line 312, in execute\n",
      "    self.error_handler.check_response(response)\n",
      "  File \"/Users/jaime/anaconda3/lib/python3.6/site-packages/selenium/webdriver/remote/errorhandler.py\", line 237, in check_response\n",
      "    raise exception_class(message, screen, stacktrace)\n",
      "selenium.common.exceptions.NoSuchElementException: Message: no such element: Unable to locate element: {\"method\":\"class name\",\"selector\":\"linksIntermedios\"}\n",
      "  (Session info: chrome=65.0.3325.181)\n",
      "  (Driver info: chromedriver=2.35.528157 (4429ca2590d6988c0745c24c8858745aaaec01ef),platform=Mac OS X 10.13.3 x86_64)\n",
      "\n"
     ]
    },
    {
     "data": {
      "application/vnd.jupyter.widget-view+json": {
       "model_id": "c62da15b971a4a5cb7102bb8af372a03",
       "version_major": 2,
       "version_minor": 0
      },
      "text/plain": [
       "A Jupyter Widget"
      ]
     },
     "metadata": {},
     "output_type": "display_data"
    },
    {
     "name": "stdout",
     "output_type": "stream",
     "text": [
      "\n",
      "Subsecretaría de Telecomunicaciones\n"
     ]
    },
    {
     "data": {
      "application/vnd.jupyter.widget-view+json": {
       "model_id": "639d4ec2f87f41fc9e6c9891f2167a40",
       "version_major": 2,
       "version_minor": 0
      },
      "text/plain": [
       "A Jupyter Widget"
      ]
     },
     "metadata": {},
     "output_type": "display_data"
    },
    {
     "name": "stdout",
     "output_type": "stream",
     "text": [
      "per_honorarios Año 2018\n",
      "per_honorarios Año 2017\n",
      "per_honorarios Año 2016\n",
      "per_honorarios Año 2015\n",
      "per_honorarios Año 2014\n",
      "per_honorarios Año 2013\n",
      "per_honorarios Año 2012\n",
      "per_honorarios Año 2011\n",
      "per_honorarios Año 2010\n",
      "per_honorarios Año 2009\n",
      "per_honorarios Año 2008\n",
      "per_honorarios Año 2007\n",
      "per_honorarios Año 2006\n",
      "\n",
      "Junta de Aeronáutica Civil\n"
     ]
    },
    {
     "data": {
      "application/vnd.jupyter.widget-view+json": {
       "model_id": "367a2a06a2004658a51be128229ae7ed",
       "version_major": 2,
       "version_minor": 0
      },
      "text/plain": [
       "A Jupyter Widget"
      ]
     },
     "metadata": {},
     "output_type": "display_data"
    },
    {
     "name": "stdout",
     "output_type": "stream",
     "text": [
      "per_honorarios Año 2016\n",
      "per_honorarios Año 2015\n",
      "per_honorarios Año 2014\n",
      "per_honorarios Año 2013\n",
      "per_honorarios Año 2012\n",
      "per_honorarios Año 2011\n",
      "per_honorarios Año 2010\n",
      "per_honorarios Año 2009\n",
      "per_honorarios Año 2008\n",
      "per_honorarios Año 2007\n",
      "per_honorarios Año 2006\n",
      "\n",
      "Ministerio de Salud\n",
      "Subsecretaría de Salud Pública\n",
      "No contract data per_honorarios in http://www.gobiernotransparentechile.cl/directorio/entidad/15/192\n"
     ]
    },
    {
     "name": "stderr",
     "output_type": "stream",
     "text": [
      "Traceback (most recent call last):\n",
      "  File \"./lib/functions.py\", line 109, in getDepartmentData\n",
      "    div_years = browser.find_element_by_class_name(\"linksIntermedios\")\n",
      "  File \"/Users/jaime/anaconda3/lib/python3.6/site-packages/selenium/webdriver/remote/webdriver.py\", line 555, in find_element_by_class_name\n",
      "    return self.find_element(by=By.CLASS_NAME, value=name)\n",
      "  File \"/Users/jaime/anaconda3/lib/python3.6/site-packages/selenium/webdriver/remote/webdriver.py\", line 955, in find_element\n",
      "    'value': value})['value']\n",
      "  File \"/Users/jaime/anaconda3/lib/python3.6/site-packages/selenium/webdriver/remote/webdriver.py\", line 312, in execute\n",
      "    self.error_handler.check_response(response)\n",
      "  File \"/Users/jaime/anaconda3/lib/python3.6/site-packages/selenium/webdriver/remote/errorhandler.py\", line 237, in check_response\n",
      "    raise exception_class(message, screen, stacktrace)\n",
      "selenium.common.exceptions.NoSuchElementException: Message: no such element: Unable to locate element: {\"method\":\"class name\",\"selector\":\"linksIntermedios\"}\n",
      "  (Session info: chrome=65.0.3325.181)\n",
      "  (Driver info: chromedriver=2.35.528157 (4429ca2590d6988c0745c24c8858745aaaec01ef),platform=Mac OS X 10.13.3 x86_64)\n",
      "\n"
     ]
    },
    {
     "data": {
      "application/vnd.jupyter.widget-view+json": {
       "model_id": "f8d6bdf8c392478f988b98a32e8ba9cf",
       "version_major": 2,
       "version_minor": 0
      },
      "text/plain": [
       "A Jupyter Widget"
      ]
     },
     "metadata": {},
     "output_type": "display_data"
    },
    {
     "name": "stdout",
     "output_type": "stream",
     "text": [
      "\n",
      "Subsecretaría de Redes Asistenciales\n",
      "No contract data per_honorarios in http://www.gobiernotransparentechile.cl/directorio/entidad/15/193\n"
     ]
    },
    {
     "name": "stderr",
     "output_type": "stream",
     "text": [
      "Traceback (most recent call last):\n",
      "  File \"./lib/functions.py\", line 109, in getDepartmentData\n",
      "    div_years = browser.find_element_by_class_name(\"linksIntermedios\")\n",
      "  File \"/Users/jaime/anaconda3/lib/python3.6/site-packages/selenium/webdriver/remote/webdriver.py\", line 555, in find_element_by_class_name\n",
      "    return self.find_element(by=By.CLASS_NAME, value=name)\n",
      "  File \"/Users/jaime/anaconda3/lib/python3.6/site-packages/selenium/webdriver/remote/webdriver.py\", line 955, in find_element\n",
      "    'value': value})['value']\n",
      "  File \"/Users/jaime/anaconda3/lib/python3.6/site-packages/selenium/webdriver/remote/webdriver.py\", line 312, in execute\n",
      "    self.error_handler.check_response(response)\n",
      "  File \"/Users/jaime/anaconda3/lib/python3.6/site-packages/selenium/webdriver/remote/errorhandler.py\", line 237, in check_response\n",
      "    raise exception_class(message, screen, stacktrace)\n",
      "selenium.common.exceptions.NoSuchElementException: Message: no such element: Unable to locate element: {\"method\":\"class name\",\"selector\":\"linksIntermedios\"}\n",
      "  (Session info: chrome=65.0.3325.181)\n",
      "  (Driver info: chromedriver=2.35.528157 (4429ca2590d6988c0745c24c8858745aaaec01ef),platform=Mac OS X 10.13.3 x86_64)\n",
      "\n"
     ]
    },
    {
     "data": {
      "application/vnd.jupyter.widget-view+json": {
       "model_id": "8b963d3dc22a491ab109006b1fb46aa2",
       "version_major": 2,
       "version_minor": 0
      },
      "text/plain": [
       "A Jupyter Widget"
      ]
     },
     "metadata": {},
     "output_type": "display_data"
    },
    {
     "name": "stdout",
     "output_type": "stream",
     "text": [
      "\n",
      "Central de Abastecimiento del Sistema Nacional de Servicios de Salud (CENABAST)\n",
      "No contract data per_honorarios in http://www.gobiernotransparentechile.cl/directorio/entidad/15/194\n"
     ]
    },
    {
     "name": "stderr",
     "output_type": "stream",
     "text": [
      "Traceback (most recent call last):\n",
      "  File \"./lib/functions.py\", line 109, in getDepartmentData\n",
      "    div_years = browser.find_element_by_class_name(\"linksIntermedios\")\n",
      "  File \"/Users/jaime/anaconda3/lib/python3.6/site-packages/selenium/webdriver/remote/webdriver.py\", line 555, in find_element_by_class_name\n",
      "    return self.find_element(by=By.CLASS_NAME, value=name)\n",
      "  File \"/Users/jaime/anaconda3/lib/python3.6/site-packages/selenium/webdriver/remote/webdriver.py\", line 955, in find_element\n",
      "    'value': value})['value']\n",
      "  File \"/Users/jaime/anaconda3/lib/python3.6/site-packages/selenium/webdriver/remote/webdriver.py\", line 312, in execute\n",
      "    self.error_handler.check_response(response)\n",
      "  File \"/Users/jaime/anaconda3/lib/python3.6/site-packages/selenium/webdriver/remote/errorhandler.py\", line 237, in check_response\n",
      "    raise exception_class(message, screen, stacktrace)\n",
      "selenium.common.exceptions.NoSuchElementException: Message: no such element: Unable to locate element: {\"method\":\"class name\",\"selector\":\"linksIntermedios\"}\n",
      "  (Session info: chrome=65.0.3325.181)\n",
      "  (Driver info: chromedriver=2.35.528157 (4429ca2590d6988c0745c24c8858745aaaec01ef),platform=Mac OS X 10.13.3 x86_64)\n",
      "\n"
     ]
    },
    {
     "data": {
      "application/vnd.jupyter.widget-view+json": {
       "model_id": "811f0a8274604c5b8280deba6d0528be",
       "version_major": 2,
       "version_minor": 0
      },
      "text/plain": [
       "A Jupyter Widget"
      ]
     },
     "metadata": {},
     "output_type": "display_data"
    },
    {
     "name": "stdout",
     "output_type": "stream",
     "text": [
      "\n",
      "Fondo Nacional de Salud (FONASA)\n",
      "No contract data per_honorarios in http://www.gobiernotransparentechile.cl/directorio/entidad/15/195\n"
     ]
    },
    {
     "name": "stderr",
     "output_type": "stream",
     "text": [
      "Traceback (most recent call last):\n",
      "  File \"./lib/functions.py\", line 109, in getDepartmentData\n",
      "    div_years = browser.find_element_by_class_name(\"linksIntermedios\")\n",
      "  File \"/Users/jaime/anaconda3/lib/python3.6/site-packages/selenium/webdriver/remote/webdriver.py\", line 555, in find_element_by_class_name\n",
      "    return self.find_element(by=By.CLASS_NAME, value=name)\n",
      "  File \"/Users/jaime/anaconda3/lib/python3.6/site-packages/selenium/webdriver/remote/webdriver.py\", line 955, in find_element\n",
      "    'value': value})['value']\n",
      "  File \"/Users/jaime/anaconda3/lib/python3.6/site-packages/selenium/webdriver/remote/webdriver.py\", line 312, in execute\n",
      "    self.error_handler.check_response(response)\n",
      "  File \"/Users/jaime/anaconda3/lib/python3.6/site-packages/selenium/webdriver/remote/errorhandler.py\", line 237, in check_response\n",
      "    raise exception_class(message, screen, stacktrace)\n",
      "selenium.common.exceptions.NoSuchElementException: Message: no such element: Unable to locate element: {\"method\":\"class name\",\"selector\":\"linksIntermedios\"}\n",
      "  (Session info: chrome=65.0.3325.181)\n",
      "  (Driver info: chromedriver=2.35.528157 (4429ca2590d6988c0745c24c8858745aaaec01ef),platform=Mac OS X 10.13.3 x86_64)\n",
      "\n"
     ]
    },
    {
     "data": {
      "application/vnd.jupyter.widget-view+json": {
       "model_id": "fcb30d4070c043069d85797425d21f8b",
       "version_major": 2,
       "version_minor": 0
      },
      "text/plain": [
       "A Jupyter Widget"
      ]
     },
     "metadata": {},
     "output_type": "display_data"
    },
    {
     "name": "stdout",
     "output_type": "stream",
     "text": [
      "\n",
      "Instituto de Salud Pública (ISP)\n",
      "No contract data per_honorarios in http://www.gobiernotransparentechile.cl/directorio/entidad/15/196\n"
     ]
    },
    {
     "name": "stderr",
     "output_type": "stream",
     "text": [
      "Traceback (most recent call last):\n",
      "  File \"./lib/functions.py\", line 109, in getDepartmentData\n",
      "    div_years = browser.find_element_by_class_name(\"linksIntermedios\")\n",
      "  File \"/Users/jaime/anaconda3/lib/python3.6/site-packages/selenium/webdriver/remote/webdriver.py\", line 555, in find_element_by_class_name\n",
      "    return self.find_element(by=By.CLASS_NAME, value=name)\n",
      "  File \"/Users/jaime/anaconda3/lib/python3.6/site-packages/selenium/webdriver/remote/webdriver.py\", line 955, in find_element\n",
      "    'value': value})['value']\n",
      "  File \"/Users/jaime/anaconda3/lib/python3.6/site-packages/selenium/webdriver/remote/webdriver.py\", line 312, in execute\n",
      "    self.error_handler.check_response(response)\n",
      "  File \"/Users/jaime/anaconda3/lib/python3.6/site-packages/selenium/webdriver/remote/errorhandler.py\", line 237, in check_response\n",
      "    raise exception_class(message, screen, stacktrace)\n",
      "selenium.common.exceptions.NoSuchElementException: Message: no such element: Unable to locate element: {\"method\":\"class name\",\"selector\":\"linksIntermedios\"}\n",
      "  (Session info: chrome=65.0.3325.181)\n",
      "  (Driver info: chromedriver=2.35.528157 (4429ca2590d6988c0745c24c8858745aaaec01ef),platform=Mac OS X 10.13.3 x86_64)\n",
      "\n"
     ]
    },
    {
     "data": {
      "application/vnd.jupyter.widget-view+json": {
       "model_id": "81ec2c0e04ab4419b0ebe12482771458",
       "version_major": 2,
       "version_minor": 0
      },
      "text/plain": [
       "A Jupyter Widget"
      ]
     },
     "metadata": {},
     "output_type": "display_data"
    },
    {
     "name": "stdout",
     "output_type": "stream",
     "text": [
      "\n",
      "Superintendencia de Salud\n"
     ]
    },
    {
     "data": {
      "application/vnd.jupyter.widget-view+json": {
       "model_id": "e8be96d5dcd547a8ad4cccac104a14a4",
       "version_major": 2,
       "version_minor": 0
      },
      "text/plain": [
       "A Jupyter Widget"
      ]
     },
     "metadata": {},
     "output_type": "display_data"
    },
    {
     "name": "stdout",
     "output_type": "stream",
     "text": [
      "per_honorarios Año 2009\n",
      "per_honorarios Año 2008\n",
      "per_honorarios Año 2007\n",
      "per_honorarios Año 2006\n",
      "per_honorarios Año 2018\n",
      "per_honorarios Año 2017\n",
      "per_honorarios Año 2016\n",
      "per_honorarios Año 2015\n",
      "per_honorarios Año 2014\n",
      "per_honorarios Año 2013\n",
      "per_honorarios Año 2012\n",
      "per_honorarios Año 2011\n",
      "per_honorarios Año 2010\n",
      "\n",
      "Servicio de Salud Metropolitano Central\n",
      "No contract data per_honorarios in http://www.gobiernotransparentechile.cl/directorio/entidad/15/198\n"
     ]
    },
    {
     "name": "stderr",
     "output_type": "stream",
     "text": [
      "Traceback (most recent call last):\n",
      "  File \"./lib/functions.py\", line 109, in getDepartmentData\n",
      "    div_years = browser.find_element_by_class_name(\"linksIntermedios\")\n",
      "  File \"/Users/jaime/anaconda3/lib/python3.6/site-packages/selenium/webdriver/remote/webdriver.py\", line 555, in find_element_by_class_name\n",
      "    return self.find_element(by=By.CLASS_NAME, value=name)\n",
      "  File \"/Users/jaime/anaconda3/lib/python3.6/site-packages/selenium/webdriver/remote/webdriver.py\", line 955, in find_element\n",
      "    'value': value})['value']\n",
      "  File \"/Users/jaime/anaconda3/lib/python3.6/site-packages/selenium/webdriver/remote/webdriver.py\", line 312, in execute\n",
      "    self.error_handler.check_response(response)\n",
      "  File \"/Users/jaime/anaconda3/lib/python3.6/site-packages/selenium/webdriver/remote/errorhandler.py\", line 237, in check_response\n",
      "    raise exception_class(message, screen, stacktrace)\n",
      "selenium.common.exceptions.NoSuchElementException: Message: no such element: Unable to locate element: {\"method\":\"class name\",\"selector\":\"linksIntermedios\"}\n",
      "  (Session info: chrome=65.0.3325.181)\n",
      "  (Driver info: chromedriver=2.35.528157 (4429ca2590d6988c0745c24c8858745aaaec01ef),platform=Mac OS X 10.13.3 x86_64)\n",
      "\n"
     ]
    },
    {
     "data": {
      "application/vnd.jupyter.widget-view+json": {
       "model_id": "6a09840e343744fdafca39148e9f0d29",
       "version_major": 2,
       "version_minor": 0
      },
      "text/plain": [
       "A Jupyter Widget"
      ]
     },
     "metadata": {},
     "output_type": "display_data"
    },
    {
     "name": "stdout",
     "output_type": "stream",
     "text": [
      "\n",
      "Servicio de Salud Metropolitano Norte\n",
      "No contract data per_honorarios in http://www.gobiernotransparentechile.cl/directorio/entidad/15/199\n"
     ]
    },
    {
     "name": "stderr",
     "output_type": "stream",
     "text": [
      "Traceback (most recent call last):\n",
      "  File \"./lib/functions.py\", line 109, in getDepartmentData\n",
      "    div_years = browser.find_element_by_class_name(\"linksIntermedios\")\n",
      "  File \"/Users/jaime/anaconda3/lib/python3.6/site-packages/selenium/webdriver/remote/webdriver.py\", line 555, in find_element_by_class_name\n",
      "    return self.find_element(by=By.CLASS_NAME, value=name)\n",
      "  File \"/Users/jaime/anaconda3/lib/python3.6/site-packages/selenium/webdriver/remote/webdriver.py\", line 955, in find_element\n",
      "    'value': value})['value']\n",
      "  File \"/Users/jaime/anaconda3/lib/python3.6/site-packages/selenium/webdriver/remote/webdriver.py\", line 312, in execute\n",
      "    self.error_handler.check_response(response)\n",
      "  File \"/Users/jaime/anaconda3/lib/python3.6/site-packages/selenium/webdriver/remote/errorhandler.py\", line 237, in check_response\n",
      "    raise exception_class(message, screen, stacktrace)\n",
      "selenium.common.exceptions.NoSuchElementException: Message: no such element: Unable to locate element: {\"method\":\"class name\",\"selector\":\"linksIntermedios\"}\n",
      "  (Session info: chrome=65.0.3325.181)\n",
      "  (Driver info: chromedriver=2.35.528157 (4429ca2590d6988c0745c24c8858745aaaec01ef),platform=Mac OS X 10.13.3 x86_64)\n",
      "\n"
     ]
    },
    {
     "data": {
      "application/vnd.jupyter.widget-view+json": {
       "model_id": "23d143dee3484fa0b94c7ffd257eefb4",
       "version_major": 2,
       "version_minor": 0
      },
      "text/plain": [
       "A Jupyter Widget"
      ]
     },
     "metadata": {},
     "output_type": "display_data"
    },
    {
     "name": "stdout",
     "output_type": "stream",
     "text": [
      "\n",
      "Servicio de Salud Metropolitano Occidente\n",
      "No contract data per_honorarios in http://www.gobiernotransparentechile.cl/directorio/entidad/15/200\n"
     ]
    },
    {
     "name": "stderr",
     "output_type": "stream",
     "text": [
      "Traceback (most recent call last):\n",
      "  File \"./lib/functions.py\", line 109, in getDepartmentData\n",
      "    div_years = browser.find_element_by_class_name(\"linksIntermedios\")\n",
      "  File \"/Users/jaime/anaconda3/lib/python3.6/site-packages/selenium/webdriver/remote/webdriver.py\", line 555, in find_element_by_class_name\n",
      "    return self.find_element(by=By.CLASS_NAME, value=name)\n",
      "  File \"/Users/jaime/anaconda3/lib/python3.6/site-packages/selenium/webdriver/remote/webdriver.py\", line 955, in find_element\n",
      "    'value': value})['value']\n",
      "  File \"/Users/jaime/anaconda3/lib/python3.6/site-packages/selenium/webdriver/remote/webdriver.py\", line 312, in execute\n",
      "    self.error_handler.check_response(response)\n",
      "  File \"/Users/jaime/anaconda3/lib/python3.6/site-packages/selenium/webdriver/remote/errorhandler.py\", line 237, in check_response\n",
      "    raise exception_class(message, screen, stacktrace)\n",
      "selenium.common.exceptions.NoSuchElementException: Message: no such element: Unable to locate element: {\"method\":\"class name\",\"selector\":\"linksIntermedios\"}\n",
      "  (Session info: chrome=65.0.3325.181)\n",
      "  (Driver info: chromedriver=2.35.528157 (4429ca2590d6988c0745c24c8858745aaaec01ef),platform=Mac OS X 10.13.3 x86_64)\n",
      "\n"
     ]
    },
    {
     "data": {
      "application/vnd.jupyter.widget-view+json": {
       "model_id": "1a86a2d5ed674e9aa9e0b33242db5122",
       "version_major": 2,
       "version_minor": 0
      },
      "text/plain": [
       "A Jupyter Widget"
      ]
     },
     "metadata": {},
     "output_type": "display_data"
    },
    {
     "name": "stdout",
     "output_type": "stream",
     "text": [
      "\n",
      "Servicio de Salud Metropolitano Oriente\n",
      "No contract data per_honorarios in http://www.gobiernotransparentechile.cl/directorio/entidad/15/201\n"
     ]
    },
    {
     "name": "stderr",
     "output_type": "stream",
     "text": [
      "Traceback (most recent call last):\n",
      "  File \"./lib/functions.py\", line 109, in getDepartmentData\n",
      "    div_years = browser.find_element_by_class_name(\"linksIntermedios\")\n",
      "  File \"/Users/jaime/anaconda3/lib/python3.6/site-packages/selenium/webdriver/remote/webdriver.py\", line 555, in find_element_by_class_name\n",
      "    return self.find_element(by=By.CLASS_NAME, value=name)\n",
      "  File \"/Users/jaime/anaconda3/lib/python3.6/site-packages/selenium/webdriver/remote/webdriver.py\", line 955, in find_element\n",
      "    'value': value})['value']\n",
      "  File \"/Users/jaime/anaconda3/lib/python3.6/site-packages/selenium/webdriver/remote/webdriver.py\", line 312, in execute\n",
      "    self.error_handler.check_response(response)\n",
      "  File \"/Users/jaime/anaconda3/lib/python3.6/site-packages/selenium/webdriver/remote/errorhandler.py\", line 237, in check_response\n",
      "    raise exception_class(message, screen, stacktrace)\n",
      "selenium.common.exceptions.NoSuchElementException: Message: no such element: Unable to locate element: {\"method\":\"class name\",\"selector\":\"linksIntermedios\"}\n",
      "  (Session info: chrome=65.0.3325.181)\n",
      "  (Driver info: chromedriver=2.35.528157 (4429ca2590d6988c0745c24c8858745aaaec01ef),platform=Mac OS X 10.13.3 x86_64)\n",
      "\n"
     ]
    },
    {
     "data": {
      "application/vnd.jupyter.widget-view+json": {
       "model_id": "e74027f08f154bf2ade82dc3ae2277ea",
       "version_major": 2,
       "version_minor": 0
      },
      "text/plain": [
       "A Jupyter Widget"
      ]
     },
     "metadata": {},
     "output_type": "display_data"
    },
    {
     "name": "stdout",
     "output_type": "stream",
     "text": [
      "\n",
      "Servicio de Salud Metropolitano Sur\n",
      "No contract data per_honorarios in http://www.gobiernotransparentechile.cl/directorio/entidad/15/202\n"
     ]
    },
    {
     "name": "stderr",
     "output_type": "stream",
     "text": [
      "Traceback (most recent call last):\n",
      "  File \"./lib/functions.py\", line 109, in getDepartmentData\n",
      "    div_years = browser.find_element_by_class_name(\"linksIntermedios\")\n",
      "  File \"/Users/jaime/anaconda3/lib/python3.6/site-packages/selenium/webdriver/remote/webdriver.py\", line 555, in find_element_by_class_name\n",
      "    return self.find_element(by=By.CLASS_NAME, value=name)\n",
      "  File \"/Users/jaime/anaconda3/lib/python3.6/site-packages/selenium/webdriver/remote/webdriver.py\", line 955, in find_element\n",
      "    'value': value})['value']\n",
      "  File \"/Users/jaime/anaconda3/lib/python3.6/site-packages/selenium/webdriver/remote/webdriver.py\", line 312, in execute\n",
      "    self.error_handler.check_response(response)\n",
      "  File \"/Users/jaime/anaconda3/lib/python3.6/site-packages/selenium/webdriver/remote/errorhandler.py\", line 237, in check_response\n",
      "    raise exception_class(message, screen, stacktrace)\n",
      "selenium.common.exceptions.NoSuchElementException: Message: no such element: Unable to locate element: {\"method\":\"class name\",\"selector\":\"linksIntermedios\"}\n",
      "  (Session info: chrome=65.0.3325.181)\n",
      "  (Driver info: chromedriver=2.35.528157 (4429ca2590d6988c0745c24c8858745aaaec01ef),platform=Mac OS X 10.13.3 x86_64)\n",
      "\n"
     ]
    },
    {
     "data": {
      "application/vnd.jupyter.widget-view+json": {
       "model_id": "3d5e043aa9a04d42af966c98d09035a7",
       "version_major": 2,
       "version_minor": 0
      },
      "text/plain": [
       "A Jupyter Widget"
      ]
     },
     "metadata": {},
     "output_type": "display_data"
    },
    {
     "name": "stdout",
     "output_type": "stream",
     "text": [
      "\n",
      "Servicio de Salud Metropolitano Sur Oriente\n",
      "No contract data per_honorarios in http://www.gobiernotransparentechile.cl/directorio/entidad/15/203\n"
     ]
    },
    {
     "name": "stderr",
     "output_type": "stream",
     "text": [
      "Traceback (most recent call last):\n",
      "  File \"./lib/functions.py\", line 109, in getDepartmentData\n",
      "    div_years = browser.find_element_by_class_name(\"linksIntermedios\")\n",
      "  File \"/Users/jaime/anaconda3/lib/python3.6/site-packages/selenium/webdriver/remote/webdriver.py\", line 555, in find_element_by_class_name\n",
      "    return self.find_element(by=By.CLASS_NAME, value=name)\n",
      "  File \"/Users/jaime/anaconda3/lib/python3.6/site-packages/selenium/webdriver/remote/webdriver.py\", line 955, in find_element\n",
      "    'value': value})['value']\n",
      "  File \"/Users/jaime/anaconda3/lib/python3.6/site-packages/selenium/webdriver/remote/webdriver.py\", line 312, in execute\n",
      "    self.error_handler.check_response(response)\n",
      "  File \"/Users/jaime/anaconda3/lib/python3.6/site-packages/selenium/webdriver/remote/errorhandler.py\", line 237, in check_response\n",
      "    raise exception_class(message, screen, stacktrace)\n",
      "selenium.common.exceptions.NoSuchElementException: Message: no such element: Unable to locate element: {\"method\":\"class name\",\"selector\":\"linksIntermedios\"}\n",
      "  (Session info: chrome=65.0.3325.181)\n",
      "  (Driver info: chromedriver=2.35.528157 (4429ca2590d6988c0745c24c8858745aaaec01ef),platform=Mac OS X 10.13.3 x86_64)\n",
      "\n"
     ]
    },
    {
     "data": {
      "application/vnd.jupyter.widget-view+json": {
       "model_id": "16aa3023dd63487ebd8dd7378a05ce22",
       "version_major": 2,
       "version_minor": 0
      },
      "text/plain": [
       "A Jupyter Widget"
      ]
     },
     "metadata": {},
     "output_type": "display_data"
    },
    {
     "name": "stdout",
     "output_type": "stream",
     "text": [
      "\n",
      "Hospital Padre Hurtado\n",
      "No contract data per_honorarios in http://www.gobiernotransparentechile.cl/directorio/entidad/15/204\n"
     ]
    },
    {
     "name": "stderr",
     "output_type": "stream",
     "text": [
      "Traceback (most recent call last):\n",
      "  File \"./lib/functions.py\", line 109, in getDepartmentData\n",
      "    div_years = browser.find_element_by_class_name(\"linksIntermedios\")\n",
      "  File \"/Users/jaime/anaconda3/lib/python3.6/site-packages/selenium/webdriver/remote/webdriver.py\", line 555, in find_element_by_class_name\n",
      "    return self.find_element(by=By.CLASS_NAME, value=name)\n",
      "  File \"/Users/jaime/anaconda3/lib/python3.6/site-packages/selenium/webdriver/remote/webdriver.py\", line 955, in find_element\n",
      "    'value': value})['value']\n",
      "  File \"/Users/jaime/anaconda3/lib/python3.6/site-packages/selenium/webdriver/remote/webdriver.py\", line 312, in execute\n",
      "    self.error_handler.check_response(response)\n",
      "  File \"/Users/jaime/anaconda3/lib/python3.6/site-packages/selenium/webdriver/remote/errorhandler.py\", line 237, in check_response\n",
      "    raise exception_class(message, screen, stacktrace)\n",
      "selenium.common.exceptions.NoSuchElementException: Message: no such element: Unable to locate element: {\"method\":\"class name\",\"selector\":\"linksIntermedios\"}\n",
      "  (Session info: chrome=65.0.3325.181)\n",
      "  (Driver info: chromedriver=2.35.528157 (4429ca2590d6988c0745c24c8858745aaaec01ef),platform=Mac OS X 10.13.3 x86_64)\n",
      "\n"
     ]
    },
    {
     "data": {
      "application/vnd.jupyter.widget-view+json": {
       "model_id": "8c38087038c04b788e16f23095abdb3f",
       "version_major": 2,
       "version_minor": 0
      },
      "text/plain": [
       "A Jupyter Widget"
      ]
     },
     "metadata": {},
     "output_type": "display_data"
    },
    {
     "name": "stdout",
     "output_type": "stream",
     "text": [
      "\n",
      "Centro de Referencia de Salud de Peñalolén Cordillera Oriente\n",
      "No contract data per_honorarios in http://www.gobiernotransparentechile.cl/directorio/entidad/15/205\n"
     ]
    },
    {
     "name": "stderr",
     "output_type": "stream",
     "text": [
      "Traceback (most recent call last):\n",
      "  File \"./lib/functions.py\", line 109, in getDepartmentData\n",
      "    div_years = browser.find_element_by_class_name(\"linksIntermedios\")\n",
      "  File \"/Users/jaime/anaconda3/lib/python3.6/site-packages/selenium/webdriver/remote/webdriver.py\", line 555, in find_element_by_class_name\n",
      "    return self.find_element(by=By.CLASS_NAME, value=name)\n",
      "  File \"/Users/jaime/anaconda3/lib/python3.6/site-packages/selenium/webdriver/remote/webdriver.py\", line 955, in find_element\n",
      "    'value': value})['value']\n",
      "  File \"/Users/jaime/anaconda3/lib/python3.6/site-packages/selenium/webdriver/remote/webdriver.py\", line 312, in execute\n",
      "    self.error_handler.check_response(response)\n",
      "  File \"/Users/jaime/anaconda3/lib/python3.6/site-packages/selenium/webdriver/remote/errorhandler.py\", line 237, in check_response\n",
      "    raise exception_class(message, screen, stacktrace)\n",
      "selenium.common.exceptions.NoSuchElementException: Message: no such element: Unable to locate element: {\"method\":\"class name\",\"selector\":\"linksIntermedios\"}\n",
      "  (Session info: chrome=65.0.3325.181)\n",
      "  (Driver info: chromedriver=2.35.528157 (4429ca2590d6988c0745c24c8858745aaaec01ef),platform=Mac OS X 10.13.3 x86_64)\n",
      "\n"
     ]
    },
    {
     "data": {
      "application/vnd.jupyter.widget-view+json": {
       "model_id": "3751f0fbe4e740b3ad74b7e9ec18e00c",
       "version_major": 2,
       "version_minor": 0
      },
      "text/plain": [
       "A Jupyter Widget"
      ]
     },
     "metadata": {},
     "output_type": "display_data"
    },
    {
     "name": "stdout",
     "output_type": "stream",
     "text": [
      "\n",
      "Centro de Referencia de Salud de Maipú\n",
      "No contract data per_honorarios in http://www.gobiernotransparentechile.cl/directorio/entidad/15/206\n"
     ]
    },
    {
     "name": "stderr",
     "output_type": "stream",
     "text": [
      "Traceback (most recent call last):\n",
      "  File \"./lib/functions.py\", line 109, in getDepartmentData\n",
      "    div_years = browser.find_element_by_class_name(\"linksIntermedios\")\n",
      "  File \"/Users/jaime/anaconda3/lib/python3.6/site-packages/selenium/webdriver/remote/webdriver.py\", line 555, in find_element_by_class_name\n",
      "    return self.find_element(by=By.CLASS_NAME, value=name)\n",
      "  File \"/Users/jaime/anaconda3/lib/python3.6/site-packages/selenium/webdriver/remote/webdriver.py\", line 955, in find_element\n",
      "    'value': value})['value']\n",
      "  File \"/Users/jaime/anaconda3/lib/python3.6/site-packages/selenium/webdriver/remote/webdriver.py\", line 312, in execute\n",
      "    self.error_handler.check_response(response)\n",
      "  File \"/Users/jaime/anaconda3/lib/python3.6/site-packages/selenium/webdriver/remote/errorhandler.py\", line 237, in check_response\n",
      "    raise exception_class(message, screen, stacktrace)\n",
      "selenium.common.exceptions.NoSuchElementException: Message: no such element: Unable to locate element: {\"method\":\"class name\",\"selector\":\"linksIntermedios\"}\n",
      "  (Session info: chrome=65.0.3325.181)\n",
      "  (Driver info: chromedriver=2.35.528157 (4429ca2590d6988c0745c24c8858745aaaec01ef),platform=Mac OS X 10.13.3 x86_64)\n",
      "\n"
     ]
    },
    {
     "data": {
      "application/vnd.jupyter.widget-view+json": {
       "model_id": "1cabf5fedd87414992ddc3d831124553",
       "version_major": 2,
       "version_minor": 0
      },
      "text/plain": [
       "A Jupyter Widget"
      ]
     },
     "metadata": {},
     "output_type": "display_data"
    },
    {
     "name": "stdout",
     "output_type": "stream",
     "text": [
      "\n",
      "Servicio de Salud Arica\n",
      "No contract data per_honorarios in http://www.gobiernotransparentechile.cl/directorio/entidad/15/207\n"
     ]
    },
    {
     "name": "stderr",
     "output_type": "stream",
     "text": [
      "Traceback (most recent call last):\n",
      "  File \"./lib/functions.py\", line 109, in getDepartmentData\n",
      "    div_years = browser.find_element_by_class_name(\"linksIntermedios\")\n",
      "  File \"/Users/jaime/anaconda3/lib/python3.6/site-packages/selenium/webdriver/remote/webdriver.py\", line 555, in find_element_by_class_name\n",
      "    return self.find_element(by=By.CLASS_NAME, value=name)\n",
      "  File \"/Users/jaime/anaconda3/lib/python3.6/site-packages/selenium/webdriver/remote/webdriver.py\", line 955, in find_element\n",
      "    'value': value})['value']\n",
      "  File \"/Users/jaime/anaconda3/lib/python3.6/site-packages/selenium/webdriver/remote/webdriver.py\", line 312, in execute\n",
      "    self.error_handler.check_response(response)\n",
      "  File \"/Users/jaime/anaconda3/lib/python3.6/site-packages/selenium/webdriver/remote/errorhandler.py\", line 237, in check_response\n",
      "    raise exception_class(message, screen, stacktrace)\n",
      "selenium.common.exceptions.NoSuchElementException: Message: no such element: Unable to locate element: {\"method\":\"class name\",\"selector\":\"linksIntermedios\"}\n",
      "  (Session info: chrome=65.0.3325.181)\n",
      "  (Driver info: chromedriver=2.35.528157 (4429ca2590d6988c0745c24c8858745aaaec01ef),platform=Mac OS X 10.13.3 x86_64)\n",
      "\n"
     ]
    },
    {
     "data": {
      "application/vnd.jupyter.widget-view+json": {
       "model_id": "af5f7ff731de48edae491c35ddb835a1",
       "version_major": 2,
       "version_minor": 0
      },
      "text/plain": [
       "A Jupyter Widget"
      ]
     },
     "metadata": {},
     "output_type": "display_data"
    },
    {
     "name": "stdout",
     "output_type": "stream",
     "text": [
      "\n",
      "Servicio de Salud Iquique\n",
      "No contract data per_honorarios in http://www.gobiernotransparentechile.cl/directorio/entidad/15/208\n"
     ]
    },
    {
     "name": "stderr",
     "output_type": "stream",
     "text": [
      "Traceback (most recent call last):\n",
      "  File \"./lib/functions.py\", line 109, in getDepartmentData\n",
      "    div_years = browser.find_element_by_class_name(\"linksIntermedios\")\n",
      "  File \"/Users/jaime/anaconda3/lib/python3.6/site-packages/selenium/webdriver/remote/webdriver.py\", line 555, in find_element_by_class_name\n",
      "    return self.find_element(by=By.CLASS_NAME, value=name)\n",
      "  File \"/Users/jaime/anaconda3/lib/python3.6/site-packages/selenium/webdriver/remote/webdriver.py\", line 955, in find_element\n",
      "    'value': value})['value']\n",
      "  File \"/Users/jaime/anaconda3/lib/python3.6/site-packages/selenium/webdriver/remote/webdriver.py\", line 312, in execute\n",
      "    self.error_handler.check_response(response)\n",
      "  File \"/Users/jaime/anaconda3/lib/python3.6/site-packages/selenium/webdriver/remote/errorhandler.py\", line 237, in check_response\n",
      "    raise exception_class(message, screen, stacktrace)\n",
      "selenium.common.exceptions.NoSuchElementException: Message: no such element: Unable to locate element: {\"method\":\"class name\",\"selector\":\"linksIntermedios\"}\n",
      "  (Session info: chrome=65.0.3325.181)\n",
      "  (Driver info: chromedriver=2.35.528157 (4429ca2590d6988c0745c24c8858745aaaec01ef),platform=Mac OS X 10.13.3 x86_64)\n",
      "\n"
     ]
    },
    {
     "data": {
      "application/vnd.jupyter.widget-view+json": {
       "model_id": "86b8b37e77174a9f945ce10c85d59df5",
       "version_major": 2,
       "version_minor": 0
      },
      "text/plain": [
       "A Jupyter Widget"
      ]
     },
     "metadata": {},
     "output_type": "display_data"
    },
    {
     "name": "stdout",
     "output_type": "stream",
     "text": [
      "\n",
      "Servicio de Salud Antofagasta\n",
      "No contract data per_honorarios in http://www.gobiernotransparentechile.cl/directorio/entidad/15/209\n"
     ]
    },
    {
     "name": "stderr",
     "output_type": "stream",
     "text": [
      "Traceback (most recent call last):\n",
      "  File \"./lib/functions.py\", line 109, in getDepartmentData\n",
      "    div_years = browser.find_element_by_class_name(\"linksIntermedios\")\n",
      "  File \"/Users/jaime/anaconda3/lib/python3.6/site-packages/selenium/webdriver/remote/webdriver.py\", line 555, in find_element_by_class_name\n",
      "    return self.find_element(by=By.CLASS_NAME, value=name)\n",
      "  File \"/Users/jaime/anaconda3/lib/python3.6/site-packages/selenium/webdriver/remote/webdriver.py\", line 955, in find_element\n",
      "    'value': value})['value']\n",
      "  File \"/Users/jaime/anaconda3/lib/python3.6/site-packages/selenium/webdriver/remote/webdriver.py\", line 312, in execute\n",
      "    self.error_handler.check_response(response)\n",
      "  File \"/Users/jaime/anaconda3/lib/python3.6/site-packages/selenium/webdriver/remote/errorhandler.py\", line 237, in check_response\n",
      "    raise exception_class(message, screen, stacktrace)\n",
      "selenium.common.exceptions.NoSuchElementException: Message: no such element: Unable to locate element: {\"method\":\"class name\",\"selector\":\"linksIntermedios\"}\n",
      "  (Session info: chrome=65.0.3325.181)\n",
      "  (Driver info: chromedriver=2.35.528157 (4429ca2590d6988c0745c24c8858745aaaec01ef),platform=Mac OS X 10.13.3 x86_64)\n",
      "\n"
     ]
    },
    {
     "data": {
      "application/vnd.jupyter.widget-view+json": {
       "model_id": "4b498c36c569407895e5df413cd965f3",
       "version_major": 2,
       "version_minor": 0
      },
      "text/plain": [
       "A Jupyter Widget"
      ]
     },
     "metadata": {},
     "output_type": "display_data"
    },
    {
     "name": "stdout",
     "output_type": "stream",
     "text": [
      "\n",
      "Servicio de Salud Atacama\n",
      "No contract data per_honorarios in http://www.gobiernotransparentechile.cl/directorio/entidad/15/210\n"
     ]
    },
    {
     "name": "stderr",
     "output_type": "stream",
     "text": [
      "Traceback (most recent call last):\n",
      "  File \"./lib/functions.py\", line 109, in getDepartmentData\n",
      "    div_years = browser.find_element_by_class_name(\"linksIntermedios\")\n",
      "  File \"/Users/jaime/anaconda3/lib/python3.6/site-packages/selenium/webdriver/remote/webdriver.py\", line 555, in find_element_by_class_name\n",
      "    return self.find_element(by=By.CLASS_NAME, value=name)\n",
      "  File \"/Users/jaime/anaconda3/lib/python3.6/site-packages/selenium/webdriver/remote/webdriver.py\", line 955, in find_element\n",
      "    'value': value})['value']\n",
      "  File \"/Users/jaime/anaconda3/lib/python3.6/site-packages/selenium/webdriver/remote/webdriver.py\", line 312, in execute\n",
      "    self.error_handler.check_response(response)\n",
      "  File \"/Users/jaime/anaconda3/lib/python3.6/site-packages/selenium/webdriver/remote/errorhandler.py\", line 237, in check_response\n",
      "    raise exception_class(message, screen, stacktrace)\n",
      "selenium.common.exceptions.NoSuchElementException: Message: no such element: Unable to locate element: {\"method\":\"class name\",\"selector\":\"linksIntermedios\"}\n",
      "  (Session info: chrome=65.0.3325.181)\n",
      "  (Driver info: chromedriver=2.35.528157 (4429ca2590d6988c0745c24c8858745aaaec01ef),platform=Mac OS X 10.13.3 x86_64)\n",
      "\n"
     ]
    },
    {
     "data": {
      "application/vnd.jupyter.widget-view+json": {
       "model_id": "f5cc4eabfe3844f78eb98ea40b688d79",
       "version_major": 2,
       "version_minor": 0
      },
      "text/plain": [
       "A Jupyter Widget"
      ]
     },
     "metadata": {},
     "output_type": "display_data"
    },
    {
     "name": "stdout",
     "output_type": "stream",
     "text": [
      "\n",
      "Servicio de Salud Coquimbo\n",
      "No contract data per_honorarios in http://www.gobiernotransparentechile.cl/directorio/entidad/15/211\n"
     ]
    },
    {
     "name": "stderr",
     "output_type": "stream",
     "text": [
      "Traceback (most recent call last):\n",
      "  File \"./lib/functions.py\", line 109, in getDepartmentData\n",
      "    div_years = browser.find_element_by_class_name(\"linksIntermedios\")\n",
      "  File \"/Users/jaime/anaconda3/lib/python3.6/site-packages/selenium/webdriver/remote/webdriver.py\", line 555, in find_element_by_class_name\n",
      "    return self.find_element(by=By.CLASS_NAME, value=name)\n",
      "  File \"/Users/jaime/anaconda3/lib/python3.6/site-packages/selenium/webdriver/remote/webdriver.py\", line 955, in find_element\n",
      "    'value': value})['value']\n",
      "  File \"/Users/jaime/anaconda3/lib/python3.6/site-packages/selenium/webdriver/remote/webdriver.py\", line 312, in execute\n",
      "    self.error_handler.check_response(response)\n",
      "  File \"/Users/jaime/anaconda3/lib/python3.6/site-packages/selenium/webdriver/remote/errorhandler.py\", line 237, in check_response\n",
      "    raise exception_class(message, screen, stacktrace)\n",
      "selenium.common.exceptions.NoSuchElementException: Message: no such element: Unable to locate element: {\"method\":\"class name\",\"selector\":\"linksIntermedios\"}\n",
      "  (Session info: chrome=65.0.3325.181)\n",
      "  (Driver info: chromedriver=2.35.528157 (4429ca2590d6988c0745c24c8858745aaaec01ef),platform=Mac OS X 10.13.3 x86_64)\n",
      "\n"
     ]
    },
    {
     "data": {
      "application/vnd.jupyter.widget-view+json": {
       "model_id": "43937a670ea14cd59e90569de89f0975",
       "version_major": 2,
       "version_minor": 0
      },
      "text/plain": [
       "A Jupyter Widget"
      ]
     },
     "metadata": {},
     "output_type": "display_data"
    },
    {
     "name": "stdout",
     "output_type": "stream",
     "text": [
      "\n",
      "Servicio de Salud Aconcagua\n",
      "No contract data per_honorarios in http://www.gobiernotransparentechile.cl/directorio/entidad/15/212\n"
     ]
    },
    {
     "name": "stderr",
     "output_type": "stream",
     "text": [
      "Traceback (most recent call last):\n",
      "  File \"./lib/functions.py\", line 109, in getDepartmentData\n",
      "    div_years = browser.find_element_by_class_name(\"linksIntermedios\")\n",
      "  File \"/Users/jaime/anaconda3/lib/python3.6/site-packages/selenium/webdriver/remote/webdriver.py\", line 555, in find_element_by_class_name\n",
      "    return self.find_element(by=By.CLASS_NAME, value=name)\n",
      "  File \"/Users/jaime/anaconda3/lib/python3.6/site-packages/selenium/webdriver/remote/webdriver.py\", line 955, in find_element\n",
      "    'value': value})['value']\n",
      "  File \"/Users/jaime/anaconda3/lib/python3.6/site-packages/selenium/webdriver/remote/webdriver.py\", line 312, in execute\n",
      "    self.error_handler.check_response(response)\n",
      "  File \"/Users/jaime/anaconda3/lib/python3.6/site-packages/selenium/webdriver/remote/errorhandler.py\", line 237, in check_response\n",
      "    raise exception_class(message, screen, stacktrace)\n",
      "selenium.common.exceptions.NoSuchElementException: Message: no such element: Unable to locate element: {\"method\":\"class name\",\"selector\":\"linksIntermedios\"}\n",
      "  (Session info: chrome=65.0.3325.181)\n",
      "  (Driver info: chromedriver=2.35.528157 (4429ca2590d6988c0745c24c8858745aaaec01ef),platform=Mac OS X 10.13.3 x86_64)\n",
      "\n"
     ]
    },
    {
     "data": {
      "application/vnd.jupyter.widget-view+json": {
       "model_id": "0addd27cd60a47bda0ac13c9fe85fc50",
       "version_major": 2,
       "version_minor": 0
      },
      "text/plain": [
       "A Jupyter Widget"
      ]
     },
     "metadata": {},
     "output_type": "display_data"
    },
    {
     "name": "stdout",
     "output_type": "stream",
     "text": [
      "\n",
      "Servicio de Salud Valparaíso - San Antonio\n",
      "No contract data per_honorarios in http://www.gobiernotransparentechile.cl/directorio/entidad/15/213\n"
     ]
    },
    {
     "name": "stderr",
     "output_type": "stream",
     "text": [
      "Traceback (most recent call last):\n",
      "  File \"./lib/functions.py\", line 109, in getDepartmentData\n",
      "    div_years = browser.find_element_by_class_name(\"linksIntermedios\")\n",
      "  File \"/Users/jaime/anaconda3/lib/python3.6/site-packages/selenium/webdriver/remote/webdriver.py\", line 555, in find_element_by_class_name\n",
      "    return self.find_element(by=By.CLASS_NAME, value=name)\n",
      "  File \"/Users/jaime/anaconda3/lib/python3.6/site-packages/selenium/webdriver/remote/webdriver.py\", line 955, in find_element\n",
      "    'value': value})['value']\n",
      "  File \"/Users/jaime/anaconda3/lib/python3.6/site-packages/selenium/webdriver/remote/webdriver.py\", line 312, in execute\n",
      "    self.error_handler.check_response(response)\n",
      "  File \"/Users/jaime/anaconda3/lib/python3.6/site-packages/selenium/webdriver/remote/errorhandler.py\", line 237, in check_response\n",
      "    raise exception_class(message, screen, stacktrace)\n",
      "selenium.common.exceptions.NoSuchElementException: Message: no such element: Unable to locate element: {\"method\":\"class name\",\"selector\":\"linksIntermedios\"}\n",
      "  (Session info: chrome=65.0.3325.181)\n",
      "  (Driver info: chromedriver=2.35.528157 (4429ca2590d6988c0745c24c8858745aaaec01ef),platform=Mac OS X 10.13.3 x86_64)\n",
      "\n"
     ]
    },
    {
     "data": {
      "application/vnd.jupyter.widget-view+json": {
       "model_id": "24bdbd23548944349d12ac603ce1dd70",
       "version_major": 2,
       "version_minor": 0
      },
      "text/plain": [
       "A Jupyter Widget"
      ]
     },
     "metadata": {},
     "output_type": "display_data"
    },
    {
     "name": "stdout",
     "output_type": "stream",
     "text": [
      "\n",
      "Servicio de Salud Viña Del Mar - Quillota\n",
      "No contract data per_honorarios in http://www.gobiernotransparentechile.cl/directorio/entidad/15/214\n"
     ]
    },
    {
     "name": "stderr",
     "output_type": "stream",
     "text": [
      "Traceback (most recent call last):\n",
      "  File \"./lib/functions.py\", line 109, in getDepartmentData\n",
      "    div_years = browser.find_element_by_class_name(\"linksIntermedios\")\n",
      "  File \"/Users/jaime/anaconda3/lib/python3.6/site-packages/selenium/webdriver/remote/webdriver.py\", line 555, in find_element_by_class_name\n",
      "    return self.find_element(by=By.CLASS_NAME, value=name)\n",
      "  File \"/Users/jaime/anaconda3/lib/python3.6/site-packages/selenium/webdriver/remote/webdriver.py\", line 955, in find_element\n",
      "    'value': value})['value']\n",
      "  File \"/Users/jaime/anaconda3/lib/python3.6/site-packages/selenium/webdriver/remote/webdriver.py\", line 312, in execute\n",
      "    self.error_handler.check_response(response)\n",
      "  File \"/Users/jaime/anaconda3/lib/python3.6/site-packages/selenium/webdriver/remote/errorhandler.py\", line 237, in check_response\n",
      "    raise exception_class(message, screen, stacktrace)\n",
      "selenium.common.exceptions.NoSuchElementException: Message: no such element: Unable to locate element: {\"method\":\"class name\",\"selector\":\"linksIntermedios\"}\n",
      "  (Session info: chrome=65.0.3325.181)\n",
      "  (Driver info: chromedriver=2.35.528157 (4429ca2590d6988c0745c24c8858745aaaec01ef),platform=Mac OS X 10.13.3 x86_64)\n",
      "\n"
     ]
    },
    {
     "data": {
      "application/vnd.jupyter.widget-view+json": {
       "model_id": "2b4ef53c79174116ba02e053ba18275f",
       "version_major": 2,
       "version_minor": 0
      },
      "text/plain": [
       "A Jupyter Widget"
      ]
     },
     "metadata": {},
     "output_type": "display_data"
    },
    {
     "name": "stdout",
     "output_type": "stream",
     "text": [
      "\n",
      "Servicio de Salud O'Higgins\n",
      "No contract data per_honorarios in http://www.gobiernotransparentechile.cl/directorio/entidad/15/215\n"
     ]
    },
    {
     "name": "stderr",
     "output_type": "stream",
     "text": [
      "Traceback (most recent call last):\n",
      "  File \"./lib/functions.py\", line 109, in getDepartmentData\n",
      "    div_years = browser.find_element_by_class_name(\"linksIntermedios\")\n",
      "  File \"/Users/jaime/anaconda3/lib/python3.6/site-packages/selenium/webdriver/remote/webdriver.py\", line 555, in find_element_by_class_name\n",
      "    return self.find_element(by=By.CLASS_NAME, value=name)\n",
      "  File \"/Users/jaime/anaconda3/lib/python3.6/site-packages/selenium/webdriver/remote/webdriver.py\", line 955, in find_element\n",
      "    'value': value})['value']\n",
      "  File \"/Users/jaime/anaconda3/lib/python3.6/site-packages/selenium/webdriver/remote/webdriver.py\", line 312, in execute\n",
      "    self.error_handler.check_response(response)\n",
      "  File \"/Users/jaime/anaconda3/lib/python3.6/site-packages/selenium/webdriver/remote/errorhandler.py\", line 237, in check_response\n",
      "    raise exception_class(message, screen, stacktrace)\n",
      "selenium.common.exceptions.NoSuchElementException: Message: no such element: Unable to locate element: {\"method\":\"class name\",\"selector\":\"linksIntermedios\"}\n",
      "  (Session info: chrome=65.0.3325.181)\n",
      "  (Driver info: chromedriver=2.35.528157 (4429ca2590d6988c0745c24c8858745aaaec01ef),platform=Mac OS X 10.13.3 x86_64)\n",
      "\n"
     ]
    },
    {
     "data": {
      "application/vnd.jupyter.widget-view+json": {
       "model_id": "3b4f0a6b3a7642c8b8689a6c92a018c4",
       "version_major": 2,
       "version_minor": 0
      },
      "text/plain": [
       "A Jupyter Widget"
      ]
     },
     "metadata": {},
     "output_type": "display_data"
    },
    {
     "name": "stdout",
     "output_type": "stream",
     "text": [
      "\n",
      "Servicio de Salud Maule\n",
      "No contract data per_honorarios in http://www.gobiernotransparentechile.cl/directorio/entidad/15/216\n"
     ]
    },
    {
     "name": "stderr",
     "output_type": "stream",
     "text": [
      "Traceback (most recent call last):\n",
      "  File \"./lib/functions.py\", line 109, in getDepartmentData\n",
      "    div_years = browser.find_element_by_class_name(\"linksIntermedios\")\n",
      "  File \"/Users/jaime/anaconda3/lib/python3.6/site-packages/selenium/webdriver/remote/webdriver.py\", line 555, in find_element_by_class_name\n",
      "    return self.find_element(by=By.CLASS_NAME, value=name)\n",
      "  File \"/Users/jaime/anaconda3/lib/python3.6/site-packages/selenium/webdriver/remote/webdriver.py\", line 955, in find_element\n",
      "    'value': value})['value']\n",
      "  File \"/Users/jaime/anaconda3/lib/python3.6/site-packages/selenium/webdriver/remote/webdriver.py\", line 312, in execute\n",
      "    self.error_handler.check_response(response)\n",
      "  File \"/Users/jaime/anaconda3/lib/python3.6/site-packages/selenium/webdriver/remote/errorhandler.py\", line 237, in check_response\n",
      "    raise exception_class(message, screen, stacktrace)\n",
      "selenium.common.exceptions.NoSuchElementException: Message: no such element: Unable to locate element: {\"method\":\"class name\",\"selector\":\"linksIntermedios\"}\n",
      "  (Session info: chrome=65.0.3325.181)\n",
      "  (Driver info: chromedriver=2.35.528157 (4429ca2590d6988c0745c24c8858745aaaec01ef),platform=Mac OS X 10.13.3 x86_64)\n",
      "\n"
     ]
    },
    {
     "data": {
      "application/vnd.jupyter.widget-view+json": {
       "model_id": "eb27d9cd697047e094b7e0becd047975",
       "version_major": 2,
       "version_minor": 0
      },
      "text/plain": [
       "A Jupyter Widget"
      ]
     },
     "metadata": {},
     "output_type": "display_data"
    },
    {
     "name": "stdout",
     "output_type": "stream",
     "text": [
      "\n",
      "Servicio de Salud Ñuble\n",
      "No contract data per_honorarios in http://www.gobiernotransparentechile.cl/directorio/entidad/15/217\n"
     ]
    },
    {
     "name": "stderr",
     "output_type": "stream",
     "text": [
      "Traceback (most recent call last):\n",
      "  File \"./lib/functions.py\", line 109, in getDepartmentData\n",
      "    div_years = browser.find_element_by_class_name(\"linksIntermedios\")\n",
      "  File \"/Users/jaime/anaconda3/lib/python3.6/site-packages/selenium/webdriver/remote/webdriver.py\", line 555, in find_element_by_class_name\n",
      "    return self.find_element(by=By.CLASS_NAME, value=name)\n",
      "  File \"/Users/jaime/anaconda3/lib/python3.6/site-packages/selenium/webdriver/remote/webdriver.py\", line 955, in find_element\n",
      "    'value': value})['value']\n",
      "  File \"/Users/jaime/anaconda3/lib/python3.6/site-packages/selenium/webdriver/remote/webdriver.py\", line 312, in execute\n",
      "    self.error_handler.check_response(response)\n",
      "  File \"/Users/jaime/anaconda3/lib/python3.6/site-packages/selenium/webdriver/remote/errorhandler.py\", line 237, in check_response\n",
      "    raise exception_class(message, screen, stacktrace)\n",
      "selenium.common.exceptions.NoSuchElementException: Message: no such element: Unable to locate element: {\"method\":\"class name\",\"selector\":\"linksIntermedios\"}\n",
      "  (Session info: chrome=65.0.3325.181)\n",
      "  (Driver info: chromedriver=2.35.528157 (4429ca2590d6988c0745c24c8858745aaaec01ef),platform=Mac OS X 10.13.3 x86_64)\n",
      "\n"
     ]
    },
    {
     "data": {
      "application/vnd.jupyter.widget-view+json": {
       "model_id": "e3c88c33717b4cfab2fcbe7d99dfa2d5",
       "version_major": 2,
       "version_minor": 0
      },
      "text/plain": [
       "A Jupyter Widget"
      ]
     },
     "metadata": {},
     "output_type": "display_data"
    },
    {
     "name": "stdout",
     "output_type": "stream",
     "text": [
      "\n",
      "Servicio de Salud Concepción\n",
      "No contract data per_honorarios in http://www.gobiernotransparentechile.cl/directorio/entidad/15/218\n"
     ]
    },
    {
     "name": "stderr",
     "output_type": "stream",
     "text": [
      "Traceback (most recent call last):\n",
      "  File \"./lib/functions.py\", line 109, in getDepartmentData\n",
      "    div_years = browser.find_element_by_class_name(\"linksIntermedios\")\n",
      "  File \"/Users/jaime/anaconda3/lib/python3.6/site-packages/selenium/webdriver/remote/webdriver.py\", line 555, in find_element_by_class_name\n",
      "    return self.find_element(by=By.CLASS_NAME, value=name)\n",
      "  File \"/Users/jaime/anaconda3/lib/python3.6/site-packages/selenium/webdriver/remote/webdriver.py\", line 955, in find_element\n",
      "    'value': value})['value']\n",
      "  File \"/Users/jaime/anaconda3/lib/python3.6/site-packages/selenium/webdriver/remote/webdriver.py\", line 312, in execute\n",
      "    self.error_handler.check_response(response)\n",
      "  File \"/Users/jaime/anaconda3/lib/python3.6/site-packages/selenium/webdriver/remote/errorhandler.py\", line 237, in check_response\n",
      "    raise exception_class(message, screen, stacktrace)\n",
      "selenium.common.exceptions.NoSuchElementException: Message: no such element: Unable to locate element: {\"method\":\"class name\",\"selector\":\"linksIntermedios\"}\n",
      "  (Session info: chrome=65.0.3325.181)\n",
      "  (Driver info: chromedriver=2.35.528157 (4429ca2590d6988c0745c24c8858745aaaec01ef),platform=Mac OS X 10.13.3 x86_64)\n",
      "\n"
     ]
    },
    {
     "data": {
      "application/vnd.jupyter.widget-view+json": {
       "model_id": "f8e438f3330b414f99d6ff83af1651dd",
       "version_major": 2,
       "version_minor": 0
      },
      "text/plain": [
       "A Jupyter Widget"
      ]
     },
     "metadata": {},
     "output_type": "display_data"
    },
    {
     "name": "stdout",
     "output_type": "stream",
     "text": [
      "\n",
      "Servicio de Salud Talcahuano\n",
      "No contract data per_honorarios in http://www.gobiernotransparentechile.cl/directorio/entidad/15/219\n"
     ]
    },
    {
     "name": "stderr",
     "output_type": "stream",
     "text": [
      "Traceback (most recent call last):\n",
      "  File \"./lib/functions.py\", line 109, in getDepartmentData\n",
      "    div_years = browser.find_element_by_class_name(\"linksIntermedios\")\n",
      "  File \"/Users/jaime/anaconda3/lib/python3.6/site-packages/selenium/webdriver/remote/webdriver.py\", line 555, in find_element_by_class_name\n",
      "    return self.find_element(by=By.CLASS_NAME, value=name)\n",
      "  File \"/Users/jaime/anaconda3/lib/python3.6/site-packages/selenium/webdriver/remote/webdriver.py\", line 955, in find_element\n",
      "    'value': value})['value']\n",
      "  File \"/Users/jaime/anaconda3/lib/python3.6/site-packages/selenium/webdriver/remote/webdriver.py\", line 312, in execute\n",
      "    self.error_handler.check_response(response)\n",
      "  File \"/Users/jaime/anaconda3/lib/python3.6/site-packages/selenium/webdriver/remote/errorhandler.py\", line 237, in check_response\n",
      "    raise exception_class(message, screen, stacktrace)\n",
      "selenium.common.exceptions.NoSuchElementException: Message: no such element: Unable to locate element: {\"method\":\"class name\",\"selector\":\"linksIntermedios\"}\n",
      "  (Session info: chrome=65.0.3325.181)\n",
      "  (Driver info: chromedriver=2.35.528157 (4429ca2590d6988c0745c24c8858745aaaec01ef),platform=Mac OS X 10.13.3 x86_64)\n",
      "\n"
     ]
    },
    {
     "data": {
      "application/vnd.jupyter.widget-view+json": {
       "model_id": "a142af55bbfe45c09a58972b2619c279",
       "version_major": 2,
       "version_minor": 0
      },
      "text/plain": [
       "A Jupyter Widget"
      ]
     },
     "metadata": {},
     "output_type": "display_data"
    },
    {
     "name": "stdout",
     "output_type": "stream",
     "text": [
      "\n",
      "Servicio de Salud Bío-Bío\n",
      "No contract data per_honorarios in http://www.gobiernotransparentechile.cl/directorio/entidad/15/220\n"
     ]
    },
    {
     "name": "stderr",
     "output_type": "stream",
     "text": [
      "Traceback (most recent call last):\n",
      "  File \"./lib/functions.py\", line 109, in getDepartmentData\n",
      "    div_years = browser.find_element_by_class_name(\"linksIntermedios\")\n",
      "  File \"/Users/jaime/anaconda3/lib/python3.6/site-packages/selenium/webdriver/remote/webdriver.py\", line 555, in find_element_by_class_name\n",
      "    return self.find_element(by=By.CLASS_NAME, value=name)\n",
      "  File \"/Users/jaime/anaconda3/lib/python3.6/site-packages/selenium/webdriver/remote/webdriver.py\", line 955, in find_element\n",
      "    'value': value})['value']\n",
      "  File \"/Users/jaime/anaconda3/lib/python3.6/site-packages/selenium/webdriver/remote/webdriver.py\", line 312, in execute\n",
      "    self.error_handler.check_response(response)\n",
      "  File \"/Users/jaime/anaconda3/lib/python3.6/site-packages/selenium/webdriver/remote/errorhandler.py\", line 237, in check_response\n",
      "    raise exception_class(message, screen, stacktrace)\n",
      "selenium.common.exceptions.NoSuchElementException: Message: no such element: Unable to locate element: {\"method\":\"class name\",\"selector\":\"linksIntermedios\"}\n",
      "  (Session info: chrome=65.0.3325.181)\n",
      "  (Driver info: chromedriver=2.35.528157 (4429ca2590d6988c0745c24c8858745aaaec01ef),platform=Mac OS X 10.13.3 x86_64)\n",
      "\n"
     ]
    },
    {
     "data": {
      "application/vnd.jupyter.widget-view+json": {
       "model_id": "f0143ac4cdeb47da95d7d73152ca0b81",
       "version_major": 2,
       "version_minor": 0
      },
      "text/plain": [
       "A Jupyter Widget"
      ]
     },
     "metadata": {},
     "output_type": "display_data"
    },
    {
     "name": "stdout",
     "output_type": "stream",
     "text": [
      "\n",
      "Servicio de Salud Arauco\n",
      "No contract data per_honorarios in http://www.gobiernotransparentechile.cl/directorio/entidad/15/221\n"
     ]
    },
    {
     "name": "stderr",
     "output_type": "stream",
     "text": [
      "Traceback (most recent call last):\n",
      "  File \"./lib/functions.py\", line 109, in getDepartmentData\n",
      "    div_years = browser.find_element_by_class_name(\"linksIntermedios\")\n",
      "  File \"/Users/jaime/anaconda3/lib/python3.6/site-packages/selenium/webdriver/remote/webdriver.py\", line 555, in find_element_by_class_name\n",
      "    return self.find_element(by=By.CLASS_NAME, value=name)\n",
      "  File \"/Users/jaime/anaconda3/lib/python3.6/site-packages/selenium/webdriver/remote/webdriver.py\", line 955, in find_element\n",
      "    'value': value})['value']\n",
      "  File \"/Users/jaime/anaconda3/lib/python3.6/site-packages/selenium/webdriver/remote/webdriver.py\", line 312, in execute\n",
      "    self.error_handler.check_response(response)\n",
      "  File \"/Users/jaime/anaconda3/lib/python3.6/site-packages/selenium/webdriver/remote/errorhandler.py\", line 237, in check_response\n",
      "    raise exception_class(message, screen, stacktrace)\n",
      "selenium.common.exceptions.NoSuchElementException: Message: no such element: Unable to locate element: {\"method\":\"class name\",\"selector\":\"linksIntermedios\"}\n",
      "  (Session info: chrome=65.0.3325.181)\n",
      "  (Driver info: chromedriver=2.35.528157 (4429ca2590d6988c0745c24c8858745aaaec01ef),platform=Mac OS X 10.13.3 x86_64)\n",
      "\n"
     ]
    },
    {
     "data": {
      "application/vnd.jupyter.widget-view+json": {
       "model_id": "f3868fbb0ec34cbfaac908df46ec1540",
       "version_major": 2,
       "version_minor": 0
      },
      "text/plain": [
       "A Jupyter Widget"
      ]
     },
     "metadata": {},
     "output_type": "display_data"
    },
    {
     "name": "stdout",
     "output_type": "stream",
     "text": [
      "\n",
      "Servicio de Salud Araucanía Norte\n",
      "No contract data per_honorarios in http://www.gobiernotransparentechile.cl/directorio/entidad/15/222\n"
     ]
    },
    {
     "name": "stderr",
     "output_type": "stream",
     "text": [
      "Traceback (most recent call last):\n",
      "  File \"./lib/functions.py\", line 109, in getDepartmentData\n",
      "    div_years = browser.find_element_by_class_name(\"linksIntermedios\")\n",
      "  File \"/Users/jaime/anaconda3/lib/python3.6/site-packages/selenium/webdriver/remote/webdriver.py\", line 555, in find_element_by_class_name\n",
      "    return self.find_element(by=By.CLASS_NAME, value=name)\n",
      "  File \"/Users/jaime/anaconda3/lib/python3.6/site-packages/selenium/webdriver/remote/webdriver.py\", line 955, in find_element\n",
      "    'value': value})['value']\n",
      "  File \"/Users/jaime/anaconda3/lib/python3.6/site-packages/selenium/webdriver/remote/webdriver.py\", line 312, in execute\n",
      "    self.error_handler.check_response(response)\n",
      "  File \"/Users/jaime/anaconda3/lib/python3.6/site-packages/selenium/webdriver/remote/errorhandler.py\", line 237, in check_response\n",
      "    raise exception_class(message, screen, stacktrace)\n",
      "selenium.common.exceptions.NoSuchElementException: Message: no such element: Unable to locate element: {\"method\":\"class name\",\"selector\":\"linksIntermedios\"}\n",
      "  (Session info: chrome=65.0.3325.181)\n",
      "  (Driver info: chromedriver=2.35.528157 (4429ca2590d6988c0745c24c8858745aaaec01ef),platform=Mac OS X 10.13.3 x86_64)\n",
      "\n"
     ]
    },
    {
     "data": {
      "application/vnd.jupyter.widget-view+json": {
       "model_id": "e758b285afa34683b9b997cf3eaf2542",
       "version_major": 2,
       "version_minor": 0
      },
      "text/plain": [
       "A Jupyter Widget"
      ]
     },
     "metadata": {},
     "output_type": "display_data"
    },
    {
     "name": "stdout",
     "output_type": "stream",
     "text": [
      "\n",
      "Servicio de Salud Araucanía Sur\n",
      "No contract data per_honorarios in http://www.gobiernotransparentechile.cl/directorio/entidad/15/223\n"
     ]
    },
    {
     "name": "stderr",
     "output_type": "stream",
     "text": [
      "Traceback (most recent call last):\n",
      "  File \"./lib/functions.py\", line 109, in getDepartmentData\n",
      "    div_years = browser.find_element_by_class_name(\"linksIntermedios\")\n",
      "  File \"/Users/jaime/anaconda3/lib/python3.6/site-packages/selenium/webdriver/remote/webdriver.py\", line 555, in find_element_by_class_name\n",
      "    return self.find_element(by=By.CLASS_NAME, value=name)\n",
      "  File \"/Users/jaime/anaconda3/lib/python3.6/site-packages/selenium/webdriver/remote/webdriver.py\", line 955, in find_element\n",
      "    'value': value})['value']\n",
      "  File \"/Users/jaime/anaconda3/lib/python3.6/site-packages/selenium/webdriver/remote/webdriver.py\", line 312, in execute\n",
      "    self.error_handler.check_response(response)\n",
      "  File \"/Users/jaime/anaconda3/lib/python3.6/site-packages/selenium/webdriver/remote/errorhandler.py\", line 237, in check_response\n",
      "    raise exception_class(message, screen, stacktrace)\n",
      "selenium.common.exceptions.NoSuchElementException: Message: no such element: Unable to locate element: {\"method\":\"class name\",\"selector\":\"linksIntermedios\"}\n",
      "  (Session info: chrome=65.0.3325.181)\n",
      "  (Driver info: chromedriver=2.35.528157 (4429ca2590d6988c0745c24c8858745aaaec01ef),platform=Mac OS X 10.13.3 x86_64)\n",
      "\n"
     ]
    },
    {
     "data": {
      "application/vnd.jupyter.widget-view+json": {
       "model_id": "33528c8e98e746aeabcf62f4e03bfe58",
       "version_major": 2,
       "version_minor": 0
      },
      "text/plain": [
       "A Jupyter Widget"
      ]
     },
     "metadata": {},
     "output_type": "display_data"
    },
    {
     "name": "stdout",
     "output_type": "stream",
     "text": [
      "\n",
      "Servicio de Salud Valdivia\n",
      "No contract data per_honorarios in http://www.gobiernotransparentechile.cl/directorio/entidad/15/224\n"
     ]
    },
    {
     "name": "stderr",
     "output_type": "stream",
     "text": [
      "Traceback (most recent call last):\n",
      "  File \"./lib/functions.py\", line 109, in getDepartmentData\n",
      "    div_years = browser.find_element_by_class_name(\"linksIntermedios\")\n",
      "  File \"/Users/jaime/anaconda3/lib/python3.6/site-packages/selenium/webdriver/remote/webdriver.py\", line 555, in find_element_by_class_name\n",
      "    return self.find_element(by=By.CLASS_NAME, value=name)\n",
      "  File \"/Users/jaime/anaconda3/lib/python3.6/site-packages/selenium/webdriver/remote/webdriver.py\", line 955, in find_element\n",
      "    'value': value})['value']\n",
      "  File \"/Users/jaime/anaconda3/lib/python3.6/site-packages/selenium/webdriver/remote/webdriver.py\", line 312, in execute\n",
      "    self.error_handler.check_response(response)\n",
      "  File \"/Users/jaime/anaconda3/lib/python3.6/site-packages/selenium/webdriver/remote/errorhandler.py\", line 237, in check_response\n",
      "    raise exception_class(message, screen, stacktrace)\n",
      "selenium.common.exceptions.NoSuchElementException: Message: no such element: Unable to locate element: {\"method\":\"class name\",\"selector\":\"linksIntermedios\"}\n",
      "  (Session info: chrome=65.0.3325.181)\n",
      "  (Driver info: chromedriver=2.35.528157 (4429ca2590d6988c0745c24c8858745aaaec01ef),platform=Mac OS X 10.13.3 x86_64)\n",
      "\n"
     ]
    },
    {
     "data": {
      "application/vnd.jupyter.widget-view+json": {
       "model_id": "8a792539b4ba490db1e9e90fcc645e22",
       "version_major": 2,
       "version_minor": 0
      },
      "text/plain": [
       "A Jupyter Widget"
      ]
     },
     "metadata": {},
     "output_type": "display_data"
    },
    {
     "name": "stdout",
     "output_type": "stream",
     "text": [
      "\n",
      "Servicio de Salud Osorno\n",
      "No contract data per_honorarios in http://www.gobiernotransparentechile.cl/directorio/entidad/15/225\n"
     ]
    },
    {
     "name": "stderr",
     "output_type": "stream",
     "text": [
      "Traceback (most recent call last):\n",
      "  File \"./lib/functions.py\", line 109, in getDepartmentData\n",
      "    div_years = browser.find_element_by_class_name(\"linksIntermedios\")\n",
      "  File \"/Users/jaime/anaconda3/lib/python3.6/site-packages/selenium/webdriver/remote/webdriver.py\", line 555, in find_element_by_class_name\n",
      "    return self.find_element(by=By.CLASS_NAME, value=name)\n",
      "  File \"/Users/jaime/anaconda3/lib/python3.6/site-packages/selenium/webdriver/remote/webdriver.py\", line 955, in find_element\n",
      "    'value': value})['value']\n",
      "  File \"/Users/jaime/anaconda3/lib/python3.6/site-packages/selenium/webdriver/remote/webdriver.py\", line 312, in execute\n",
      "    self.error_handler.check_response(response)\n",
      "  File \"/Users/jaime/anaconda3/lib/python3.6/site-packages/selenium/webdriver/remote/errorhandler.py\", line 237, in check_response\n",
      "    raise exception_class(message, screen, stacktrace)\n",
      "selenium.common.exceptions.NoSuchElementException: Message: no such element: Unable to locate element: {\"method\":\"class name\",\"selector\":\"linksIntermedios\"}\n",
      "  (Session info: chrome=65.0.3325.181)\n",
      "  (Driver info: chromedriver=2.35.528157 (4429ca2590d6988c0745c24c8858745aaaec01ef),platform=Mac OS X 10.13.3 x86_64)\n",
      "\n"
     ]
    },
    {
     "data": {
      "application/vnd.jupyter.widget-view+json": {
       "model_id": "f0b7648b92b843f991b4fb052c5c1db6",
       "version_major": 2,
       "version_minor": 0
      },
      "text/plain": [
       "A Jupyter Widget"
      ]
     },
     "metadata": {},
     "output_type": "display_data"
    },
    {
     "name": "stdout",
     "output_type": "stream",
     "text": [
      "\n",
      "Servicio de Salud de Chiloé\n",
      "No contract data per_honorarios in http://www.gobiernotransparentechile.cl/directorio/entidad/15/226\n"
     ]
    },
    {
     "name": "stderr",
     "output_type": "stream",
     "text": [
      "Traceback (most recent call last):\n",
      "  File \"./lib/functions.py\", line 109, in getDepartmentData\n",
      "    div_years = browser.find_element_by_class_name(\"linksIntermedios\")\n",
      "  File \"/Users/jaime/anaconda3/lib/python3.6/site-packages/selenium/webdriver/remote/webdriver.py\", line 555, in find_element_by_class_name\n",
      "    return self.find_element(by=By.CLASS_NAME, value=name)\n",
      "  File \"/Users/jaime/anaconda3/lib/python3.6/site-packages/selenium/webdriver/remote/webdriver.py\", line 955, in find_element\n",
      "    'value': value})['value']\n",
      "  File \"/Users/jaime/anaconda3/lib/python3.6/site-packages/selenium/webdriver/remote/webdriver.py\", line 312, in execute\n",
      "    self.error_handler.check_response(response)\n",
      "  File \"/Users/jaime/anaconda3/lib/python3.6/site-packages/selenium/webdriver/remote/errorhandler.py\", line 237, in check_response\n",
      "    raise exception_class(message, screen, stacktrace)\n",
      "selenium.common.exceptions.NoSuchElementException: Message: no such element: Unable to locate element: {\"method\":\"class name\",\"selector\":\"linksIntermedios\"}\n",
      "  (Session info: chrome=65.0.3325.181)\n",
      "  (Driver info: chromedriver=2.35.528157 (4429ca2590d6988c0745c24c8858745aaaec01ef),platform=Mac OS X 10.13.3 x86_64)\n",
      "\n"
     ]
    },
    {
     "data": {
      "application/vnd.jupyter.widget-view+json": {
       "model_id": "ca8700915167425fab44d167375a5312",
       "version_major": 2,
       "version_minor": 0
      },
      "text/plain": [
       "A Jupyter Widget"
      ]
     },
     "metadata": {},
     "output_type": "display_data"
    },
    {
     "name": "stdout",
     "output_type": "stream",
     "text": [
      "\n",
      "Servicio de Salud Aysén\n",
      "No contract data per_honorarios in http://www.gobiernotransparentechile.cl/directorio/entidad/15/227\n"
     ]
    },
    {
     "name": "stderr",
     "output_type": "stream",
     "text": [
      "Traceback (most recent call last):\n",
      "  File \"./lib/functions.py\", line 109, in getDepartmentData\n",
      "    div_years = browser.find_element_by_class_name(\"linksIntermedios\")\n",
      "  File \"/Users/jaime/anaconda3/lib/python3.6/site-packages/selenium/webdriver/remote/webdriver.py\", line 555, in find_element_by_class_name\n",
      "    return self.find_element(by=By.CLASS_NAME, value=name)\n",
      "  File \"/Users/jaime/anaconda3/lib/python3.6/site-packages/selenium/webdriver/remote/webdriver.py\", line 955, in find_element\n",
      "    'value': value})['value']\n",
      "  File \"/Users/jaime/anaconda3/lib/python3.6/site-packages/selenium/webdriver/remote/webdriver.py\", line 312, in execute\n",
      "    self.error_handler.check_response(response)\n",
      "  File \"/Users/jaime/anaconda3/lib/python3.6/site-packages/selenium/webdriver/remote/errorhandler.py\", line 237, in check_response\n",
      "    raise exception_class(message, screen, stacktrace)\n",
      "selenium.common.exceptions.NoSuchElementException: Message: no such element: Unable to locate element: {\"method\":\"class name\",\"selector\":\"linksIntermedios\"}\n",
      "  (Session info: chrome=65.0.3325.181)\n",
      "  (Driver info: chromedriver=2.35.528157 (4429ca2590d6988c0745c24c8858745aaaec01ef),platform=Mac OS X 10.13.3 x86_64)\n",
      "\n"
     ]
    },
    {
     "data": {
      "application/vnd.jupyter.widget-view+json": {
       "model_id": "55c63a1f69ea493b86dc4a281105ba80",
       "version_major": 2,
       "version_minor": 0
      },
      "text/plain": [
       "A Jupyter Widget"
      ]
     },
     "metadata": {},
     "output_type": "display_data"
    },
    {
     "name": "stdout",
     "output_type": "stream",
     "text": [
      "\n",
      "Servicio de Salud del Reloncaví\n",
      "No contract data per_honorarios in http://www.gobiernotransparentechile.cl/directorio/entidad/15/228\n"
     ]
    },
    {
     "name": "stderr",
     "output_type": "stream",
     "text": [
      "Traceback (most recent call last):\n",
      "  File \"./lib/functions.py\", line 109, in getDepartmentData\n",
      "    div_years = browser.find_element_by_class_name(\"linksIntermedios\")\n",
      "  File \"/Users/jaime/anaconda3/lib/python3.6/site-packages/selenium/webdriver/remote/webdriver.py\", line 555, in find_element_by_class_name\n",
      "    return self.find_element(by=By.CLASS_NAME, value=name)\n",
      "  File \"/Users/jaime/anaconda3/lib/python3.6/site-packages/selenium/webdriver/remote/webdriver.py\", line 955, in find_element\n",
      "    'value': value})['value']\n",
      "  File \"/Users/jaime/anaconda3/lib/python3.6/site-packages/selenium/webdriver/remote/webdriver.py\", line 312, in execute\n",
      "    self.error_handler.check_response(response)\n",
      "  File \"/Users/jaime/anaconda3/lib/python3.6/site-packages/selenium/webdriver/remote/errorhandler.py\", line 237, in check_response\n",
      "    raise exception_class(message, screen, stacktrace)\n",
      "selenium.common.exceptions.NoSuchElementException: Message: no such element: Unable to locate element: {\"method\":\"class name\",\"selector\":\"linksIntermedios\"}\n",
      "  (Session info: chrome=65.0.3325.181)\n",
      "  (Driver info: chromedriver=2.35.528157 (4429ca2590d6988c0745c24c8858745aaaec01ef),platform=Mac OS X 10.13.3 x86_64)\n",
      "\n"
     ]
    },
    {
     "data": {
      "application/vnd.jupyter.widget-view+json": {
       "model_id": "a73df400a232490487c092a594faea50",
       "version_major": 2,
       "version_minor": 0
      },
      "text/plain": [
       "A Jupyter Widget"
      ]
     },
     "metadata": {},
     "output_type": "display_data"
    },
    {
     "name": "stdout",
     "output_type": "stream",
     "text": [
      "\n",
      "Servicio de Salud Magallanes\n",
      "No contract data per_honorarios in http://www.gobiernotransparentechile.cl/directorio/entidad/15/229\n"
     ]
    },
    {
     "name": "stderr",
     "output_type": "stream",
     "text": [
      "Traceback (most recent call last):\n",
      "  File \"./lib/functions.py\", line 109, in getDepartmentData\n",
      "    div_years = browser.find_element_by_class_name(\"linksIntermedios\")\n",
      "  File \"/Users/jaime/anaconda3/lib/python3.6/site-packages/selenium/webdriver/remote/webdriver.py\", line 555, in find_element_by_class_name\n",
      "    return self.find_element(by=By.CLASS_NAME, value=name)\n",
      "  File \"/Users/jaime/anaconda3/lib/python3.6/site-packages/selenium/webdriver/remote/webdriver.py\", line 955, in find_element\n",
      "    'value': value})['value']\n",
      "  File \"/Users/jaime/anaconda3/lib/python3.6/site-packages/selenium/webdriver/remote/webdriver.py\", line 312, in execute\n",
      "    self.error_handler.check_response(response)\n",
      "  File \"/Users/jaime/anaconda3/lib/python3.6/site-packages/selenium/webdriver/remote/errorhandler.py\", line 237, in check_response\n",
      "    raise exception_class(message, screen, stacktrace)\n",
      "selenium.common.exceptions.NoSuchElementException: Message: no such element: Unable to locate element: {\"method\":\"class name\",\"selector\":\"linksIntermedios\"}\n",
      "  (Session info: chrome=65.0.3325.181)\n",
      "  (Driver info: chromedriver=2.35.528157 (4429ca2590d6988c0745c24c8858745aaaec01ef),platform=Mac OS X 10.13.3 x86_64)\n",
      "\n"
     ]
    },
    {
     "data": {
      "application/vnd.jupyter.widget-view+json": {
       "model_id": "acb5ab61e26f41338866be9071b5f85c",
       "version_major": 2,
       "version_minor": 0
      },
      "text/plain": [
       "A Jupyter Widget"
      ]
     },
     "metadata": {},
     "output_type": "display_data"
    },
    {
     "name": "stdout",
     "output_type": "stream",
     "text": [
      "\n",
      "Secretaría Regional Ministerial de Arica y Parinacota\n",
      "No contract data per_honorarios in http://www.gobiernotransparentechile.cl/directorio/entidad/15/230\n"
     ]
    },
    {
     "name": "stderr",
     "output_type": "stream",
     "text": [
      "Traceback (most recent call last):\n",
      "  File \"./lib/functions.py\", line 109, in getDepartmentData\n",
      "    div_years = browser.find_element_by_class_name(\"linksIntermedios\")\n",
      "  File \"/Users/jaime/anaconda3/lib/python3.6/site-packages/selenium/webdriver/remote/webdriver.py\", line 555, in find_element_by_class_name\n",
      "    return self.find_element(by=By.CLASS_NAME, value=name)\n",
      "  File \"/Users/jaime/anaconda3/lib/python3.6/site-packages/selenium/webdriver/remote/webdriver.py\", line 955, in find_element\n",
      "    'value': value})['value']\n",
      "  File \"/Users/jaime/anaconda3/lib/python3.6/site-packages/selenium/webdriver/remote/webdriver.py\", line 312, in execute\n",
      "    self.error_handler.check_response(response)\n",
      "  File \"/Users/jaime/anaconda3/lib/python3.6/site-packages/selenium/webdriver/remote/errorhandler.py\", line 237, in check_response\n",
      "    raise exception_class(message, screen, stacktrace)\n",
      "selenium.common.exceptions.NoSuchElementException: Message: no such element: Unable to locate element: {\"method\":\"class name\",\"selector\":\"linksIntermedios\"}\n",
      "  (Session info: chrome=65.0.3325.181)\n",
      "  (Driver info: chromedriver=2.35.528157 (4429ca2590d6988c0745c24c8858745aaaec01ef),platform=Mac OS X 10.13.3 x86_64)\n",
      "\n"
     ]
    },
    {
     "data": {
      "application/vnd.jupyter.widget-view+json": {
       "model_id": "8e1d0fce8ea84a95a83a60d196266a8f",
       "version_major": 2,
       "version_minor": 0
      },
      "text/plain": [
       "A Jupyter Widget"
      ]
     },
     "metadata": {},
     "output_type": "display_data"
    },
    {
     "name": "stdout",
     "output_type": "stream",
     "text": [
      "\n",
      "Secretaría Regional Ministerial de Tarapacá\n",
      "No contract data per_honorarios in http://www.gobiernotransparentechile.cl/directorio/entidad/15/231\n"
     ]
    },
    {
     "name": "stderr",
     "output_type": "stream",
     "text": [
      "Traceback (most recent call last):\n",
      "  File \"./lib/functions.py\", line 109, in getDepartmentData\n",
      "    div_years = browser.find_element_by_class_name(\"linksIntermedios\")\n",
      "  File \"/Users/jaime/anaconda3/lib/python3.6/site-packages/selenium/webdriver/remote/webdriver.py\", line 555, in find_element_by_class_name\n",
      "    return self.find_element(by=By.CLASS_NAME, value=name)\n",
      "  File \"/Users/jaime/anaconda3/lib/python3.6/site-packages/selenium/webdriver/remote/webdriver.py\", line 955, in find_element\n",
      "    'value': value})['value']\n",
      "  File \"/Users/jaime/anaconda3/lib/python3.6/site-packages/selenium/webdriver/remote/webdriver.py\", line 312, in execute\n",
      "    self.error_handler.check_response(response)\n",
      "  File \"/Users/jaime/anaconda3/lib/python3.6/site-packages/selenium/webdriver/remote/errorhandler.py\", line 237, in check_response\n",
      "    raise exception_class(message, screen, stacktrace)\n",
      "selenium.common.exceptions.NoSuchElementException: Message: no such element: Unable to locate element: {\"method\":\"class name\",\"selector\":\"linksIntermedios\"}\n",
      "  (Session info: chrome=65.0.3325.181)\n",
      "  (Driver info: chromedriver=2.35.528157 (4429ca2590d6988c0745c24c8858745aaaec01ef),platform=Mac OS X 10.13.3 x86_64)\n",
      "\n"
     ]
    },
    {
     "data": {
      "application/vnd.jupyter.widget-view+json": {
       "model_id": "5a0192b1c74a4e7db99dc323f7dba3bd",
       "version_major": 2,
       "version_minor": 0
      },
      "text/plain": [
       "A Jupyter Widget"
      ]
     },
     "metadata": {},
     "output_type": "display_data"
    },
    {
     "name": "stdout",
     "output_type": "stream",
     "text": [
      "\n",
      "Secretaría Regional Ministerial de Antofagasta\n",
      "No contract data per_honorarios in http://www.gobiernotransparentechile.cl/directorio/entidad/15/232\n"
     ]
    },
    {
     "name": "stderr",
     "output_type": "stream",
     "text": [
      "Traceback (most recent call last):\n",
      "  File \"./lib/functions.py\", line 109, in getDepartmentData\n",
      "    div_years = browser.find_element_by_class_name(\"linksIntermedios\")\n",
      "  File \"/Users/jaime/anaconda3/lib/python3.6/site-packages/selenium/webdriver/remote/webdriver.py\", line 555, in find_element_by_class_name\n",
      "    return self.find_element(by=By.CLASS_NAME, value=name)\n",
      "  File \"/Users/jaime/anaconda3/lib/python3.6/site-packages/selenium/webdriver/remote/webdriver.py\", line 955, in find_element\n",
      "    'value': value})['value']\n",
      "  File \"/Users/jaime/anaconda3/lib/python3.6/site-packages/selenium/webdriver/remote/webdriver.py\", line 312, in execute\n",
      "    self.error_handler.check_response(response)\n",
      "  File \"/Users/jaime/anaconda3/lib/python3.6/site-packages/selenium/webdriver/remote/errorhandler.py\", line 237, in check_response\n",
      "    raise exception_class(message, screen, stacktrace)\n",
      "selenium.common.exceptions.NoSuchElementException: Message: no such element: Unable to locate element: {\"method\":\"class name\",\"selector\":\"linksIntermedios\"}\n",
      "  (Session info: chrome=65.0.3325.181)\n",
      "  (Driver info: chromedriver=2.35.528157 (4429ca2590d6988c0745c24c8858745aaaec01ef),platform=Mac OS X 10.13.3 x86_64)\n",
      "\n"
     ]
    },
    {
     "data": {
      "application/vnd.jupyter.widget-view+json": {
       "model_id": "242b7245897f4891a8165a5d51ef6a40",
       "version_major": 2,
       "version_minor": 0
      },
      "text/plain": [
       "A Jupyter Widget"
      ]
     },
     "metadata": {},
     "output_type": "display_data"
    },
    {
     "name": "stdout",
     "output_type": "stream",
     "text": [
      "\n",
      "Secretaría Regional Ministerial de Atacama\n",
      "No contract data per_honorarios in http://www.gobiernotransparentechile.cl/directorio/entidad/15/233\n"
     ]
    },
    {
     "name": "stderr",
     "output_type": "stream",
     "text": [
      "Traceback (most recent call last):\n",
      "  File \"./lib/functions.py\", line 109, in getDepartmentData\n",
      "    div_years = browser.find_element_by_class_name(\"linksIntermedios\")\n",
      "  File \"/Users/jaime/anaconda3/lib/python3.6/site-packages/selenium/webdriver/remote/webdriver.py\", line 555, in find_element_by_class_name\n",
      "    return self.find_element(by=By.CLASS_NAME, value=name)\n",
      "  File \"/Users/jaime/anaconda3/lib/python3.6/site-packages/selenium/webdriver/remote/webdriver.py\", line 955, in find_element\n",
      "    'value': value})['value']\n",
      "  File \"/Users/jaime/anaconda3/lib/python3.6/site-packages/selenium/webdriver/remote/webdriver.py\", line 312, in execute\n",
      "    self.error_handler.check_response(response)\n",
      "  File \"/Users/jaime/anaconda3/lib/python3.6/site-packages/selenium/webdriver/remote/errorhandler.py\", line 237, in check_response\n",
      "    raise exception_class(message, screen, stacktrace)\n",
      "selenium.common.exceptions.NoSuchElementException: Message: no such element: Unable to locate element: {\"method\":\"class name\",\"selector\":\"linksIntermedios\"}\n",
      "  (Session info: chrome=65.0.3325.181)\n",
      "  (Driver info: chromedriver=2.35.528157 (4429ca2590d6988c0745c24c8858745aaaec01ef),platform=Mac OS X 10.13.3 x86_64)\n",
      "\n"
     ]
    },
    {
     "data": {
      "application/vnd.jupyter.widget-view+json": {
       "model_id": "4a81e5dfbd864f2d9022defe43b1d443",
       "version_major": 2,
       "version_minor": 0
      },
      "text/plain": [
       "A Jupyter Widget"
      ]
     },
     "metadata": {},
     "output_type": "display_data"
    },
    {
     "name": "stdout",
     "output_type": "stream",
     "text": [
      "\n",
      "Secretaría Regional Ministerial de Coquimbo\n",
      "No contract data per_honorarios in http://www.gobiernotransparentechile.cl/directorio/entidad/15/234\n"
     ]
    },
    {
     "name": "stderr",
     "output_type": "stream",
     "text": [
      "Traceback (most recent call last):\n",
      "  File \"./lib/functions.py\", line 109, in getDepartmentData\n",
      "    div_years = browser.find_element_by_class_name(\"linksIntermedios\")\n",
      "  File \"/Users/jaime/anaconda3/lib/python3.6/site-packages/selenium/webdriver/remote/webdriver.py\", line 555, in find_element_by_class_name\n",
      "    return self.find_element(by=By.CLASS_NAME, value=name)\n",
      "  File \"/Users/jaime/anaconda3/lib/python3.6/site-packages/selenium/webdriver/remote/webdriver.py\", line 955, in find_element\n",
      "    'value': value})['value']\n",
      "  File \"/Users/jaime/anaconda3/lib/python3.6/site-packages/selenium/webdriver/remote/webdriver.py\", line 312, in execute\n",
      "    self.error_handler.check_response(response)\n",
      "  File \"/Users/jaime/anaconda3/lib/python3.6/site-packages/selenium/webdriver/remote/errorhandler.py\", line 237, in check_response\n",
      "    raise exception_class(message, screen, stacktrace)\n",
      "selenium.common.exceptions.NoSuchElementException: Message: no such element: Unable to locate element: {\"method\":\"class name\",\"selector\":\"linksIntermedios\"}\n",
      "  (Session info: chrome=65.0.3325.181)\n",
      "  (Driver info: chromedriver=2.35.528157 (4429ca2590d6988c0745c24c8858745aaaec01ef),platform=Mac OS X 10.13.3 x86_64)\n",
      "\n"
     ]
    },
    {
     "data": {
      "application/vnd.jupyter.widget-view+json": {
       "model_id": "dfb13edff2874e3c9f0d6f6534bb0528",
       "version_major": 2,
       "version_minor": 0
      },
      "text/plain": [
       "A Jupyter Widget"
      ]
     },
     "metadata": {},
     "output_type": "display_data"
    },
    {
     "name": "stdout",
     "output_type": "stream",
     "text": [
      "\n",
      "Secretaría Regional Ministerial de Valparaíso\n",
      "No contract data per_honorarios in http://www.gobiernotransparentechile.cl/directorio/entidad/15/235\n"
     ]
    },
    {
     "name": "stderr",
     "output_type": "stream",
     "text": [
      "Traceback (most recent call last):\n",
      "  File \"./lib/functions.py\", line 109, in getDepartmentData\n",
      "    div_years = browser.find_element_by_class_name(\"linksIntermedios\")\n",
      "  File \"/Users/jaime/anaconda3/lib/python3.6/site-packages/selenium/webdriver/remote/webdriver.py\", line 555, in find_element_by_class_name\n",
      "    return self.find_element(by=By.CLASS_NAME, value=name)\n",
      "  File \"/Users/jaime/anaconda3/lib/python3.6/site-packages/selenium/webdriver/remote/webdriver.py\", line 955, in find_element\n",
      "    'value': value})['value']\n",
      "  File \"/Users/jaime/anaconda3/lib/python3.6/site-packages/selenium/webdriver/remote/webdriver.py\", line 312, in execute\n",
      "    self.error_handler.check_response(response)\n",
      "  File \"/Users/jaime/anaconda3/lib/python3.6/site-packages/selenium/webdriver/remote/errorhandler.py\", line 237, in check_response\n",
      "    raise exception_class(message, screen, stacktrace)\n",
      "selenium.common.exceptions.NoSuchElementException: Message: no such element: Unable to locate element: {\"method\":\"class name\",\"selector\":\"linksIntermedios\"}\n",
      "  (Session info: chrome=65.0.3325.181)\n",
      "  (Driver info: chromedriver=2.35.528157 (4429ca2590d6988c0745c24c8858745aaaec01ef),platform=Mac OS X 10.13.3 x86_64)\n",
      "\n"
     ]
    },
    {
     "data": {
      "application/vnd.jupyter.widget-view+json": {
       "model_id": "126b877256e5425b87fc04f1d1397ed9",
       "version_major": 2,
       "version_minor": 0
      },
      "text/plain": [
       "A Jupyter Widget"
      ]
     },
     "metadata": {},
     "output_type": "display_data"
    },
    {
     "name": "stdout",
     "output_type": "stream",
     "text": [
      "\n",
      "Secretaría Regional Ministerial Metropolitano de Santiago\n",
      "No contract data per_honorarios in http://www.gobiernotransparentechile.cl/directorio/entidad/15/236\n"
     ]
    },
    {
     "name": "stderr",
     "output_type": "stream",
     "text": [
      "Traceback (most recent call last):\n",
      "  File \"./lib/functions.py\", line 109, in getDepartmentData\n",
      "    div_years = browser.find_element_by_class_name(\"linksIntermedios\")\n",
      "  File \"/Users/jaime/anaconda3/lib/python3.6/site-packages/selenium/webdriver/remote/webdriver.py\", line 555, in find_element_by_class_name\n",
      "    return self.find_element(by=By.CLASS_NAME, value=name)\n",
      "  File \"/Users/jaime/anaconda3/lib/python3.6/site-packages/selenium/webdriver/remote/webdriver.py\", line 955, in find_element\n",
      "    'value': value})['value']\n",
      "  File \"/Users/jaime/anaconda3/lib/python3.6/site-packages/selenium/webdriver/remote/webdriver.py\", line 312, in execute\n",
      "    self.error_handler.check_response(response)\n",
      "  File \"/Users/jaime/anaconda3/lib/python3.6/site-packages/selenium/webdriver/remote/errorhandler.py\", line 237, in check_response\n",
      "    raise exception_class(message, screen, stacktrace)\n",
      "selenium.common.exceptions.NoSuchElementException: Message: no such element: Unable to locate element: {\"method\":\"class name\",\"selector\":\"linksIntermedios\"}\n",
      "  (Session info: chrome=65.0.3325.181)\n",
      "  (Driver info: chromedriver=2.35.528157 (4429ca2590d6988c0745c24c8858745aaaec01ef),platform=Mac OS X 10.13.3 x86_64)\n",
      "\n"
     ]
    },
    {
     "data": {
      "application/vnd.jupyter.widget-view+json": {
       "model_id": "f540afce3be048cfb56b379c24a8b8e9",
       "version_major": 2,
       "version_minor": 0
      },
      "text/plain": [
       "A Jupyter Widget"
      ]
     },
     "metadata": {},
     "output_type": "display_data"
    },
    {
     "name": "stdout",
     "output_type": "stream",
     "text": [
      "\n",
      "Secretaría Regional Ministerial de O’Higgins\n",
      "No contract data per_honorarios in http://www.gobiernotransparentechile.cl/directorio/entidad/15/237\n"
     ]
    },
    {
     "name": "stderr",
     "output_type": "stream",
     "text": [
      "Traceback (most recent call last):\n",
      "  File \"./lib/functions.py\", line 109, in getDepartmentData\n",
      "    div_years = browser.find_element_by_class_name(\"linksIntermedios\")\n",
      "  File \"/Users/jaime/anaconda3/lib/python3.6/site-packages/selenium/webdriver/remote/webdriver.py\", line 555, in find_element_by_class_name\n",
      "    return self.find_element(by=By.CLASS_NAME, value=name)\n",
      "  File \"/Users/jaime/anaconda3/lib/python3.6/site-packages/selenium/webdriver/remote/webdriver.py\", line 955, in find_element\n",
      "    'value': value})['value']\n",
      "  File \"/Users/jaime/anaconda3/lib/python3.6/site-packages/selenium/webdriver/remote/webdriver.py\", line 312, in execute\n",
      "    self.error_handler.check_response(response)\n",
      "  File \"/Users/jaime/anaconda3/lib/python3.6/site-packages/selenium/webdriver/remote/errorhandler.py\", line 237, in check_response\n",
      "    raise exception_class(message, screen, stacktrace)\n",
      "selenium.common.exceptions.NoSuchElementException: Message: no such element: Unable to locate element: {\"method\":\"class name\",\"selector\":\"linksIntermedios\"}\n",
      "  (Session info: chrome=65.0.3325.181)\n",
      "  (Driver info: chromedriver=2.35.528157 (4429ca2590d6988c0745c24c8858745aaaec01ef),platform=Mac OS X 10.13.3 x86_64)\n",
      "\n"
     ]
    },
    {
     "data": {
      "application/vnd.jupyter.widget-view+json": {
       "model_id": "851ea6cba6a249488bceb7c20ad8f24e",
       "version_major": 2,
       "version_minor": 0
      },
      "text/plain": [
       "A Jupyter Widget"
      ]
     },
     "metadata": {},
     "output_type": "display_data"
    },
    {
     "name": "stdout",
     "output_type": "stream",
     "text": [
      "\n",
      "Secretaría Regional Ministerial de Maule\n",
      "No contract data per_honorarios in http://www.gobiernotransparentechile.cl/directorio/entidad/15/238\n"
     ]
    },
    {
     "name": "stderr",
     "output_type": "stream",
     "text": [
      "Traceback (most recent call last):\n",
      "  File \"./lib/functions.py\", line 109, in getDepartmentData\n",
      "    div_years = browser.find_element_by_class_name(\"linksIntermedios\")\n",
      "  File \"/Users/jaime/anaconda3/lib/python3.6/site-packages/selenium/webdriver/remote/webdriver.py\", line 555, in find_element_by_class_name\n",
      "    return self.find_element(by=By.CLASS_NAME, value=name)\n",
      "  File \"/Users/jaime/anaconda3/lib/python3.6/site-packages/selenium/webdriver/remote/webdriver.py\", line 955, in find_element\n",
      "    'value': value})['value']\n",
      "  File \"/Users/jaime/anaconda3/lib/python3.6/site-packages/selenium/webdriver/remote/webdriver.py\", line 312, in execute\n",
      "    self.error_handler.check_response(response)\n",
      "  File \"/Users/jaime/anaconda3/lib/python3.6/site-packages/selenium/webdriver/remote/errorhandler.py\", line 237, in check_response\n",
      "    raise exception_class(message, screen, stacktrace)\n",
      "selenium.common.exceptions.NoSuchElementException: Message: no such element: Unable to locate element: {\"method\":\"class name\",\"selector\":\"linksIntermedios\"}\n",
      "  (Session info: chrome=65.0.3325.181)\n",
      "  (Driver info: chromedriver=2.35.528157 (4429ca2590d6988c0745c24c8858745aaaec01ef),platform=Mac OS X 10.13.3 x86_64)\n",
      "\n"
     ]
    },
    {
     "data": {
      "application/vnd.jupyter.widget-view+json": {
       "model_id": "bfb3b4af24664f2fbde07c605e438ab2",
       "version_major": 2,
       "version_minor": 0
      },
      "text/plain": [
       "A Jupyter Widget"
      ]
     },
     "metadata": {},
     "output_type": "display_data"
    },
    {
     "name": "stdout",
     "output_type": "stream",
     "text": [
      "\n",
      "Secretaría Regional Ministerial del Bío-Bío\n",
      "No contract data per_honorarios in http://www.gobiernotransparentechile.cl/directorio/entidad/15/239\n"
     ]
    },
    {
     "name": "stderr",
     "output_type": "stream",
     "text": [
      "Traceback (most recent call last):\n",
      "  File \"./lib/functions.py\", line 109, in getDepartmentData\n",
      "    div_years = browser.find_element_by_class_name(\"linksIntermedios\")\n",
      "  File \"/Users/jaime/anaconda3/lib/python3.6/site-packages/selenium/webdriver/remote/webdriver.py\", line 555, in find_element_by_class_name\n",
      "    return self.find_element(by=By.CLASS_NAME, value=name)\n",
      "  File \"/Users/jaime/anaconda3/lib/python3.6/site-packages/selenium/webdriver/remote/webdriver.py\", line 955, in find_element\n",
      "    'value': value})['value']\n",
      "  File \"/Users/jaime/anaconda3/lib/python3.6/site-packages/selenium/webdriver/remote/webdriver.py\", line 312, in execute\n",
      "    self.error_handler.check_response(response)\n",
      "  File \"/Users/jaime/anaconda3/lib/python3.6/site-packages/selenium/webdriver/remote/errorhandler.py\", line 237, in check_response\n",
      "    raise exception_class(message, screen, stacktrace)\n",
      "selenium.common.exceptions.NoSuchElementException: Message: no such element: Unable to locate element: {\"method\":\"class name\",\"selector\":\"linksIntermedios\"}\n",
      "  (Session info: chrome=65.0.3325.181)\n",
      "  (Driver info: chromedriver=2.35.528157 (4429ca2590d6988c0745c24c8858745aaaec01ef),platform=Mac OS X 10.13.3 x86_64)\n",
      "\n"
     ]
    },
    {
     "data": {
      "application/vnd.jupyter.widget-view+json": {
       "model_id": "5a19d55ef20e4ec19d177afb56edc233",
       "version_major": 2,
       "version_minor": 0
      },
      "text/plain": [
       "A Jupyter Widget"
      ]
     },
     "metadata": {},
     "output_type": "display_data"
    },
    {
     "name": "stdout",
     "output_type": "stream",
     "text": [
      "\n",
      "Secretaría Regional Ministerial de La Araucanía\n",
      "No contract data per_honorarios in http://www.gobiernotransparentechile.cl/directorio/entidad/15/240\n"
     ]
    },
    {
     "name": "stderr",
     "output_type": "stream",
     "text": [
      "Traceback (most recent call last):\n",
      "  File \"./lib/functions.py\", line 109, in getDepartmentData\n",
      "    div_years = browser.find_element_by_class_name(\"linksIntermedios\")\n",
      "  File \"/Users/jaime/anaconda3/lib/python3.6/site-packages/selenium/webdriver/remote/webdriver.py\", line 555, in find_element_by_class_name\n",
      "    return self.find_element(by=By.CLASS_NAME, value=name)\n",
      "  File \"/Users/jaime/anaconda3/lib/python3.6/site-packages/selenium/webdriver/remote/webdriver.py\", line 955, in find_element\n",
      "    'value': value})['value']\n",
      "  File \"/Users/jaime/anaconda3/lib/python3.6/site-packages/selenium/webdriver/remote/webdriver.py\", line 312, in execute\n",
      "    self.error_handler.check_response(response)\n",
      "  File \"/Users/jaime/anaconda3/lib/python3.6/site-packages/selenium/webdriver/remote/errorhandler.py\", line 237, in check_response\n",
      "    raise exception_class(message, screen, stacktrace)\n",
      "selenium.common.exceptions.NoSuchElementException: Message: no such element: Unable to locate element: {\"method\":\"class name\",\"selector\":\"linksIntermedios\"}\n",
      "  (Session info: chrome=65.0.3325.181)\n",
      "  (Driver info: chromedriver=2.35.528157 (4429ca2590d6988c0745c24c8858745aaaec01ef),platform=Mac OS X 10.13.3 x86_64)\n",
      "\n"
     ]
    },
    {
     "data": {
      "application/vnd.jupyter.widget-view+json": {
       "model_id": "9874624289a546828cbe99059016ba91",
       "version_major": 2,
       "version_minor": 0
      },
      "text/plain": [
       "A Jupyter Widget"
      ]
     },
     "metadata": {},
     "output_type": "display_data"
    },
    {
     "name": "stdout",
     "output_type": "stream",
     "text": [
      "\n",
      "Secretaría Regional Ministerial de Los Ríos\n",
      "No contract data per_honorarios in http://www.gobiernotransparentechile.cl/directorio/entidad/15/241\n"
     ]
    },
    {
     "name": "stderr",
     "output_type": "stream",
     "text": [
      "Traceback (most recent call last):\n",
      "  File \"./lib/functions.py\", line 109, in getDepartmentData\n",
      "    div_years = browser.find_element_by_class_name(\"linksIntermedios\")\n",
      "  File \"/Users/jaime/anaconda3/lib/python3.6/site-packages/selenium/webdriver/remote/webdriver.py\", line 555, in find_element_by_class_name\n",
      "    return self.find_element(by=By.CLASS_NAME, value=name)\n",
      "  File \"/Users/jaime/anaconda3/lib/python3.6/site-packages/selenium/webdriver/remote/webdriver.py\", line 955, in find_element\n",
      "    'value': value})['value']\n",
      "  File \"/Users/jaime/anaconda3/lib/python3.6/site-packages/selenium/webdriver/remote/webdriver.py\", line 312, in execute\n",
      "    self.error_handler.check_response(response)\n",
      "  File \"/Users/jaime/anaconda3/lib/python3.6/site-packages/selenium/webdriver/remote/errorhandler.py\", line 237, in check_response\n",
      "    raise exception_class(message, screen, stacktrace)\n",
      "selenium.common.exceptions.NoSuchElementException: Message: no such element: Unable to locate element: {\"method\":\"class name\",\"selector\":\"linksIntermedios\"}\n",
      "  (Session info: chrome=65.0.3325.181)\n",
      "  (Driver info: chromedriver=2.35.528157 (4429ca2590d6988c0745c24c8858745aaaec01ef),platform=Mac OS X 10.13.3 x86_64)\n",
      "\n"
     ]
    },
    {
     "data": {
      "application/vnd.jupyter.widget-view+json": {
       "model_id": "c0a3b2deea87421cbba43f461f03e7ce",
       "version_major": 2,
       "version_minor": 0
      },
      "text/plain": [
       "A Jupyter Widget"
      ]
     },
     "metadata": {},
     "output_type": "display_data"
    },
    {
     "name": "stdout",
     "output_type": "stream",
     "text": [
      "\n",
      "Secretaría Regional Ministerial de Los Lagos\n",
      "No contract data per_honorarios in http://www.gobiernotransparentechile.cl/directorio/entidad/15/242\n"
     ]
    },
    {
     "name": "stderr",
     "output_type": "stream",
     "text": [
      "Traceback (most recent call last):\n",
      "  File \"./lib/functions.py\", line 109, in getDepartmentData\n",
      "    div_years = browser.find_element_by_class_name(\"linksIntermedios\")\n",
      "  File \"/Users/jaime/anaconda3/lib/python3.6/site-packages/selenium/webdriver/remote/webdriver.py\", line 555, in find_element_by_class_name\n",
      "    return self.find_element(by=By.CLASS_NAME, value=name)\n",
      "  File \"/Users/jaime/anaconda3/lib/python3.6/site-packages/selenium/webdriver/remote/webdriver.py\", line 955, in find_element\n",
      "    'value': value})['value']\n",
      "  File \"/Users/jaime/anaconda3/lib/python3.6/site-packages/selenium/webdriver/remote/webdriver.py\", line 312, in execute\n",
      "    self.error_handler.check_response(response)\n",
      "  File \"/Users/jaime/anaconda3/lib/python3.6/site-packages/selenium/webdriver/remote/errorhandler.py\", line 237, in check_response\n",
      "    raise exception_class(message, screen, stacktrace)\n",
      "selenium.common.exceptions.NoSuchElementException: Message: no such element: Unable to locate element: {\"method\":\"class name\",\"selector\":\"linksIntermedios\"}\n",
      "  (Session info: chrome=65.0.3325.181)\n",
      "  (Driver info: chromedriver=2.35.528157 (4429ca2590d6988c0745c24c8858745aaaec01ef),platform=Mac OS X 10.13.3 x86_64)\n",
      "\n"
     ]
    },
    {
     "data": {
      "application/vnd.jupyter.widget-view+json": {
       "model_id": "974faf81844546349f156a668563fdac",
       "version_major": 2,
       "version_minor": 0
      },
      "text/plain": [
       "A Jupyter Widget"
      ]
     },
     "metadata": {},
     "output_type": "display_data"
    },
    {
     "name": "stdout",
     "output_type": "stream",
     "text": [
      "\n",
      "Secretaría Regional Ministerial de Aysén\n",
      "No contract data per_honorarios in http://www.gobiernotransparentechile.cl/directorio/entidad/15/243\n"
     ]
    },
    {
     "name": "stderr",
     "output_type": "stream",
     "text": [
      "Traceback (most recent call last):\n",
      "  File \"./lib/functions.py\", line 109, in getDepartmentData\n",
      "    div_years = browser.find_element_by_class_name(\"linksIntermedios\")\n",
      "  File \"/Users/jaime/anaconda3/lib/python3.6/site-packages/selenium/webdriver/remote/webdriver.py\", line 555, in find_element_by_class_name\n",
      "    return self.find_element(by=By.CLASS_NAME, value=name)\n",
      "  File \"/Users/jaime/anaconda3/lib/python3.6/site-packages/selenium/webdriver/remote/webdriver.py\", line 955, in find_element\n",
      "    'value': value})['value']\n",
      "  File \"/Users/jaime/anaconda3/lib/python3.6/site-packages/selenium/webdriver/remote/webdriver.py\", line 312, in execute\n",
      "    self.error_handler.check_response(response)\n",
      "  File \"/Users/jaime/anaconda3/lib/python3.6/site-packages/selenium/webdriver/remote/errorhandler.py\", line 237, in check_response\n",
      "    raise exception_class(message, screen, stacktrace)\n",
      "selenium.common.exceptions.NoSuchElementException: Message: no such element: Unable to locate element: {\"method\":\"class name\",\"selector\":\"linksIntermedios\"}\n",
      "  (Session info: chrome=65.0.3325.181)\n",
      "  (Driver info: chromedriver=2.35.528157 (4429ca2590d6988c0745c24c8858745aaaec01ef),platform=Mac OS X 10.13.3 x86_64)\n",
      "\n"
     ]
    },
    {
     "data": {
      "application/vnd.jupyter.widget-view+json": {
       "model_id": "60c8a49f1a014ff4a86bc6b781eeeaa6",
       "version_major": 2,
       "version_minor": 0
      },
      "text/plain": [
       "A Jupyter Widget"
      ]
     },
     "metadata": {},
     "output_type": "display_data"
    },
    {
     "name": "stdout",
     "output_type": "stream",
     "text": [
      "\n",
      "Secretaría Regional Ministerial de Magallanes y Antártica Chilena\n",
      "No contract data per_honorarios in http://www.gobiernotransparentechile.cl/directorio/entidad/15/244\n"
     ]
    },
    {
     "name": "stderr",
     "output_type": "stream",
     "text": [
      "Traceback (most recent call last):\n",
      "  File \"./lib/functions.py\", line 109, in getDepartmentData\n",
      "    div_years = browser.find_element_by_class_name(\"linksIntermedios\")\n",
      "  File \"/Users/jaime/anaconda3/lib/python3.6/site-packages/selenium/webdriver/remote/webdriver.py\", line 555, in find_element_by_class_name\n",
      "    return self.find_element(by=By.CLASS_NAME, value=name)\n",
      "  File \"/Users/jaime/anaconda3/lib/python3.6/site-packages/selenium/webdriver/remote/webdriver.py\", line 955, in find_element\n",
      "    'value': value})['value']\n",
      "  File \"/Users/jaime/anaconda3/lib/python3.6/site-packages/selenium/webdriver/remote/webdriver.py\", line 312, in execute\n",
      "    self.error_handler.check_response(response)\n",
      "  File \"/Users/jaime/anaconda3/lib/python3.6/site-packages/selenium/webdriver/remote/errorhandler.py\", line 237, in check_response\n",
      "    raise exception_class(message, screen, stacktrace)\n",
      "selenium.common.exceptions.NoSuchElementException: Message: no such element: Unable to locate element: {\"method\":\"class name\",\"selector\":\"linksIntermedios\"}\n",
      "  (Session info: chrome=65.0.3325.181)\n",
      "  (Driver info: chromedriver=2.35.528157 (4429ca2590d6988c0745c24c8858745aaaec01ef),platform=Mac OS X 10.13.3 x86_64)\n",
      "\n"
     ]
    },
    {
     "data": {
      "application/vnd.jupyter.widget-view+json": {
       "model_id": "4fc88d0d1114449790b09d3a656f2a4a",
       "version_major": 2,
       "version_minor": 0
      },
      "text/plain": [
       "A Jupyter Widget"
      ]
     },
     "metadata": {},
     "output_type": "display_data"
    },
    {
     "name": "stdout",
     "output_type": "stream",
     "text": [
      "\n",
      "Hospital de San Camilo\n",
      "No contract data per_honorarios in http://www.gobiernotransparentechile.cl/directorio/entidad/15/286\n"
     ]
    },
    {
     "name": "stderr",
     "output_type": "stream",
     "text": [
      "Traceback (most recent call last):\n",
      "  File \"./lib/functions.py\", line 109, in getDepartmentData\n",
      "    div_years = browser.find_element_by_class_name(\"linksIntermedios\")\n",
      "  File \"/Users/jaime/anaconda3/lib/python3.6/site-packages/selenium/webdriver/remote/webdriver.py\", line 555, in find_element_by_class_name\n",
      "    return self.find_element(by=By.CLASS_NAME, value=name)\n",
      "  File \"/Users/jaime/anaconda3/lib/python3.6/site-packages/selenium/webdriver/remote/webdriver.py\", line 955, in find_element\n",
      "    'value': value})['value']\n",
      "  File \"/Users/jaime/anaconda3/lib/python3.6/site-packages/selenium/webdriver/remote/webdriver.py\", line 312, in execute\n",
      "    self.error_handler.check_response(response)\n",
      "  File \"/Users/jaime/anaconda3/lib/python3.6/site-packages/selenium/webdriver/remote/errorhandler.py\", line 237, in check_response\n",
      "    raise exception_class(message, screen, stacktrace)\n",
      "selenium.common.exceptions.NoSuchElementException: Message: no such element: Unable to locate element: {\"method\":\"class name\",\"selector\":\"linksIntermedios\"}\n",
      "  (Session info: chrome=65.0.3325.181)\n",
      "  (Driver info: chromedriver=2.35.528157 (4429ca2590d6988c0745c24c8858745aaaec01ef),platform=Mac OS X 10.13.3 x86_64)\n",
      "\n"
     ]
    },
    {
     "data": {
      "application/vnd.jupyter.widget-view+json": {
       "model_id": "638c244d9800441dbc45c781c6f04e40",
       "version_major": 2,
       "version_minor": 0
      },
      "text/plain": [
       "A Jupyter Widget"
      ]
     },
     "metadata": {},
     "output_type": "display_data"
    },
    {
     "name": "stdout",
     "output_type": "stream",
     "text": [
      "\n",
      "Hospital Leonardo Guzmán de Antofagasta\n",
      "No contract data per_honorarios in http://www.gobiernotransparentechile.cl/directorio/entidad/15/287\n"
     ]
    },
    {
     "name": "stderr",
     "output_type": "stream",
     "text": [
      "Traceback (most recent call last):\n",
      "  File \"./lib/functions.py\", line 109, in getDepartmentData\n",
      "    div_years = browser.find_element_by_class_name(\"linksIntermedios\")\n",
      "  File \"/Users/jaime/anaconda3/lib/python3.6/site-packages/selenium/webdriver/remote/webdriver.py\", line 555, in find_element_by_class_name\n",
      "    return self.find_element(by=By.CLASS_NAME, value=name)\n",
      "  File \"/Users/jaime/anaconda3/lib/python3.6/site-packages/selenium/webdriver/remote/webdriver.py\", line 955, in find_element\n",
      "    'value': value})['value']\n",
      "  File \"/Users/jaime/anaconda3/lib/python3.6/site-packages/selenium/webdriver/remote/webdriver.py\", line 312, in execute\n",
      "    self.error_handler.check_response(response)\n",
      "  File \"/Users/jaime/anaconda3/lib/python3.6/site-packages/selenium/webdriver/remote/errorhandler.py\", line 237, in check_response\n",
      "    raise exception_class(message, screen, stacktrace)\n",
      "selenium.common.exceptions.NoSuchElementException: Message: no such element: Unable to locate element: {\"method\":\"class name\",\"selector\":\"linksIntermedios\"}\n",
      "  (Session info: chrome=65.0.3325.181)\n",
      "  (Driver info: chromedriver=2.35.528157 (4429ca2590d6988c0745c24c8858745aaaec01ef),platform=Mac OS X 10.13.3 x86_64)\n",
      "\n"
     ]
    },
    {
     "data": {
      "application/vnd.jupyter.widget-view+json": {
       "model_id": "fdd4c4de754a4f939c0ab3b0ed1f74de",
       "version_major": 2,
       "version_minor": 0
      },
      "text/plain": [
       "A Jupyter Widget"
      ]
     },
     "metadata": {},
     "output_type": "display_data"
    },
    {
     "name": "stdout",
     "output_type": "stream",
     "text": [
      "\n",
      "Hospital de Victoria\n",
      "No contract data per_honorarios in http://www.gobiernotransparentechile.cl/directorio/entidad/15/288\n"
     ]
    },
    {
     "name": "stderr",
     "output_type": "stream",
     "text": [
      "Traceback (most recent call last):\n",
      "  File \"./lib/functions.py\", line 109, in getDepartmentData\n",
      "    div_years = browser.find_element_by_class_name(\"linksIntermedios\")\n",
      "  File \"/Users/jaime/anaconda3/lib/python3.6/site-packages/selenium/webdriver/remote/webdriver.py\", line 555, in find_element_by_class_name\n",
      "    return self.find_element(by=By.CLASS_NAME, value=name)\n",
      "  File \"/Users/jaime/anaconda3/lib/python3.6/site-packages/selenium/webdriver/remote/webdriver.py\", line 955, in find_element\n",
      "    'value': value})['value']\n",
      "  File \"/Users/jaime/anaconda3/lib/python3.6/site-packages/selenium/webdriver/remote/webdriver.py\", line 312, in execute\n",
      "    self.error_handler.check_response(response)\n",
      "  File \"/Users/jaime/anaconda3/lib/python3.6/site-packages/selenium/webdriver/remote/errorhandler.py\", line 237, in check_response\n",
      "    raise exception_class(message, screen, stacktrace)\n",
      "selenium.common.exceptions.NoSuchElementException: Message: no such element: Unable to locate element: {\"method\":\"class name\",\"selector\":\"linksIntermedios\"}\n",
      "  (Session info: chrome=65.0.3325.181)\n",
      "  (Driver info: chromedriver=2.35.528157 (4429ca2590d6988c0745c24c8858745aaaec01ef),platform=Mac OS X 10.13.3 x86_64)\n",
      "\n"
     ]
    },
    {
     "data": {
      "application/vnd.jupyter.widget-view+json": {
       "model_id": "157723dc5dde4e77a144172f81e636f3",
       "version_major": 2,
       "version_minor": 0
      },
      "text/plain": [
       "A Jupyter Widget"
      ]
     },
     "metadata": {},
     "output_type": "display_data"
    },
    {
     "name": "stdout",
     "output_type": "stream",
     "text": [
      "\n",
      "Hospital Mauricio Heyermann de Angol\n",
      "No contract data per_honorarios in http://www.gobiernotransparentechile.cl/directorio/entidad/15/289\n"
     ]
    },
    {
     "name": "stderr",
     "output_type": "stream",
     "text": [
      "Traceback (most recent call last):\n",
      "  File \"./lib/functions.py\", line 109, in getDepartmentData\n",
      "    div_years = browser.find_element_by_class_name(\"linksIntermedios\")\n",
      "  File \"/Users/jaime/anaconda3/lib/python3.6/site-packages/selenium/webdriver/remote/webdriver.py\", line 555, in find_element_by_class_name\n",
      "    return self.find_element(by=By.CLASS_NAME, value=name)\n",
      "  File \"/Users/jaime/anaconda3/lib/python3.6/site-packages/selenium/webdriver/remote/webdriver.py\", line 955, in find_element\n",
      "    'value': value})['value']\n",
      "  File \"/Users/jaime/anaconda3/lib/python3.6/site-packages/selenium/webdriver/remote/webdriver.py\", line 312, in execute\n",
      "    self.error_handler.check_response(response)\n",
      "  File \"/Users/jaime/anaconda3/lib/python3.6/site-packages/selenium/webdriver/remote/errorhandler.py\", line 237, in check_response\n",
      "    raise exception_class(message, screen, stacktrace)\n",
      "selenium.common.exceptions.NoSuchElementException: Message: no such element: Unable to locate element: {\"method\":\"class name\",\"selector\":\"linksIntermedios\"}\n",
      "  (Session info: chrome=65.0.3325.181)\n",
      "  (Driver info: chromedriver=2.35.528157 (4429ca2590d6988c0745c24c8858745aaaec01ef),platform=Mac OS X 10.13.3 x86_64)\n",
      "\n"
     ]
    },
    {
     "data": {
      "application/vnd.jupyter.widget-view+json": {
       "model_id": "470e6b902c044d97a6a2babd68de8caa",
       "version_major": 2,
       "version_minor": 0
      },
      "text/plain": [
       "A Jupyter Widget"
      ]
     },
     "metadata": {},
     "output_type": "display_data"
    },
    {
     "name": "stdout",
     "output_type": "stream",
     "text": [
      "\n",
      "Hospital Juan Noé de Arica\n",
      "No contract data per_honorarios in http://www.gobiernotransparentechile.cl/directorio/entidad/15/290\n"
     ]
    },
    {
     "name": "stderr",
     "output_type": "stream",
     "text": [
      "Traceback (most recent call last):\n",
      "  File \"./lib/functions.py\", line 109, in getDepartmentData\n",
      "    div_years = browser.find_element_by_class_name(\"linksIntermedios\")\n",
      "  File \"/Users/jaime/anaconda3/lib/python3.6/site-packages/selenium/webdriver/remote/webdriver.py\", line 555, in find_element_by_class_name\n",
      "    return self.find_element(by=By.CLASS_NAME, value=name)\n",
      "  File \"/Users/jaime/anaconda3/lib/python3.6/site-packages/selenium/webdriver/remote/webdriver.py\", line 955, in find_element\n",
      "    'value': value})['value']\n",
      "  File \"/Users/jaime/anaconda3/lib/python3.6/site-packages/selenium/webdriver/remote/webdriver.py\", line 312, in execute\n",
      "    self.error_handler.check_response(response)\n",
      "  File \"/Users/jaime/anaconda3/lib/python3.6/site-packages/selenium/webdriver/remote/errorhandler.py\", line 237, in check_response\n",
      "    raise exception_class(message, screen, stacktrace)\n",
      "selenium.common.exceptions.NoSuchElementException: Message: no such element: Unable to locate element: {\"method\":\"class name\",\"selector\":\"linksIntermedios\"}\n",
      "  (Session info: chrome=65.0.3325.181)\n",
      "  (Driver info: chromedriver=2.35.528157 (4429ca2590d6988c0745c24c8858745aaaec01ef),platform=Mac OS X 10.13.3 x86_64)\n",
      "\n"
     ]
    },
    {
     "data": {
      "application/vnd.jupyter.widget-view+json": {
       "model_id": "a569089338dc4f529e813c5469430367",
       "version_major": 2,
       "version_minor": 0
      },
      "text/plain": [
       "A Jupyter Widget"
      ]
     },
     "metadata": {},
     "output_type": "display_data"
    },
    {
     "name": "stdout",
     "output_type": "stream",
     "text": [
      "\n",
      "Hospital Regional de Coyhaique\n",
      "No contract data per_honorarios in http://www.gobiernotransparentechile.cl/directorio/entidad/15/291\n"
     ]
    },
    {
     "name": "stderr",
     "output_type": "stream",
     "text": [
      "Traceback (most recent call last):\n",
      "  File \"./lib/functions.py\", line 109, in getDepartmentData\n",
      "    div_years = browser.find_element_by_class_name(\"linksIntermedios\")\n",
      "  File \"/Users/jaime/anaconda3/lib/python3.6/site-packages/selenium/webdriver/remote/webdriver.py\", line 555, in find_element_by_class_name\n",
      "    return self.find_element(by=By.CLASS_NAME, value=name)\n",
      "  File \"/Users/jaime/anaconda3/lib/python3.6/site-packages/selenium/webdriver/remote/webdriver.py\", line 955, in find_element\n",
      "    'value': value})['value']\n",
      "  File \"/Users/jaime/anaconda3/lib/python3.6/site-packages/selenium/webdriver/remote/webdriver.py\", line 312, in execute\n",
      "    self.error_handler.check_response(response)\n",
      "  File \"/Users/jaime/anaconda3/lib/python3.6/site-packages/selenium/webdriver/remote/errorhandler.py\", line 237, in check_response\n",
      "    raise exception_class(message, screen, stacktrace)\n",
      "selenium.common.exceptions.NoSuchElementException: Message: no such element: Unable to locate element: {\"method\":\"class name\",\"selector\":\"linksIntermedios\"}\n",
      "  (Session info: chrome=65.0.3325.181)\n",
      "  (Driver info: chromedriver=2.35.528157 (4429ca2590d6988c0745c24c8858745aaaec01ef),platform=Mac OS X 10.13.3 x86_64)\n",
      "\n"
     ]
    },
    {
     "data": {
      "application/vnd.jupyter.widget-view+json": {
       "model_id": "7b1cd615c2524ba0a650dc9db5efc16e",
       "version_major": 2,
       "version_minor": 0
      },
      "text/plain": [
       "A Jupyter Widget"
      ]
     },
     "metadata": {},
     "output_type": "display_data"
    },
    {
     "name": "stdout",
     "output_type": "stream",
     "text": [
      "\n",
      "Hospital Víctor Ríos Ruiz de Los Angeles\n",
      "No contract data per_honorarios in http://www.gobiernotransparentechile.cl/directorio/entidad/15/292\n"
     ]
    },
    {
     "name": "stderr",
     "output_type": "stream",
     "text": [
      "Traceback (most recent call last):\n",
      "  File \"./lib/functions.py\", line 109, in getDepartmentData\n",
      "    div_years = browser.find_element_by_class_name(\"linksIntermedios\")\n",
      "  File \"/Users/jaime/anaconda3/lib/python3.6/site-packages/selenium/webdriver/remote/webdriver.py\", line 555, in find_element_by_class_name\n",
      "    return self.find_element(by=By.CLASS_NAME, value=name)\n",
      "  File \"/Users/jaime/anaconda3/lib/python3.6/site-packages/selenium/webdriver/remote/webdriver.py\", line 955, in find_element\n",
      "    'value': value})['value']\n",
      "  File \"/Users/jaime/anaconda3/lib/python3.6/site-packages/selenium/webdriver/remote/webdriver.py\", line 312, in execute\n",
      "    self.error_handler.check_response(response)\n",
      "  File \"/Users/jaime/anaconda3/lib/python3.6/site-packages/selenium/webdriver/remote/errorhandler.py\", line 237, in check_response\n",
      "    raise exception_class(message, screen, stacktrace)\n",
      "selenium.common.exceptions.NoSuchElementException: Message: no such element: Unable to locate element: {\"method\":\"class name\",\"selector\":\"linksIntermedios\"}\n",
      "  (Session info: chrome=65.0.3325.181)\n",
      "  (Driver info: chromedriver=2.35.528157 (4429ca2590d6988c0745c24c8858745aaaec01ef),platform=Mac OS X 10.13.3 x86_64)\n",
      "\n"
     ]
    },
    {
     "data": {
      "application/vnd.jupyter.widget-view+json": {
       "model_id": "0eaac891d14b4f52b392c205a16ee67b",
       "version_major": 2,
       "version_minor": 0
      },
      "text/plain": [
       "A Jupyter Widget"
      ]
     },
     "metadata": {},
     "output_type": "display_data"
    },
    {
     "name": "stdout",
     "output_type": "stream",
     "text": [
      "\n",
      "Hospital Dr. Augusto Riffart de Castro\n",
      "No contract data per_honorarios in http://www.gobiernotransparentechile.cl/directorio/entidad/15/293\n"
     ]
    },
    {
     "name": "stderr",
     "output_type": "stream",
     "text": [
      "Traceback (most recent call last):\n",
      "  File \"./lib/functions.py\", line 109, in getDepartmentData\n",
      "    div_years = browser.find_element_by_class_name(\"linksIntermedios\")\n",
      "  File \"/Users/jaime/anaconda3/lib/python3.6/site-packages/selenium/webdriver/remote/webdriver.py\", line 555, in find_element_by_class_name\n",
      "    return self.find_element(by=By.CLASS_NAME, value=name)\n",
      "  File \"/Users/jaime/anaconda3/lib/python3.6/site-packages/selenium/webdriver/remote/webdriver.py\", line 955, in find_element\n",
      "    'value': value})['value']\n",
      "  File \"/Users/jaime/anaconda3/lib/python3.6/site-packages/selenium/webdriver/remote/webdriver.py\", line 312, in execute\n",
      "    self.error_handler.check_response(response)\n",
      "  File \"/Users/jaime/anaconda3/lib/python3.6/site-packages/selenium/webdriver/remote/errorhandler.py\", line 237, in check_response\n",
      "    raise exception_class(message, screen, stacktrace)\n",
      "selenium.common.exceptions.NoSuchElementException: Message: no such element: Unable to locate element: {\"method\":\"class name\",\"selector\":\"linksIntermedios\"}\n",
      "  (Session info: chrome=65.0.3325.181)\n",
      "  (Driver info: chromedriver=2.35.528157 (4429ca2590d6988c0745c24c8858745aaaec01ef),platform=Mac OS X 10.13.3 x86_64)\n",
      "\n"
     ]
    },
    {
     "data": {
      "application/vnd.jupyter.widget-view+json": {
       "model_id": "dca1757f785a438a99b9ac8d67520d09",
       "version_major": 2,
       "version_minor": 0
      },
      "text/plain": [
       "A Jupyter Widget"
      ]
     },
     "metadata": {},
     "output_type": "display_data"
    },
    {
     "name": "stdout",
     "output_type": "stream",
     "text": [
      "\n",
      "Hospital San Jose de Coronel\n",
      "No contract data per_honorarios in http://www.gobiernotransparentechile.cl/directorio/entidad/15/294\n"
     ]
    },
    {
     "name": "stderr",
     "output_type": "stream",
     "text": [
      "Traceback (most recent call last):\n",
      "  File \"./lib/functions.py\", line 109, in getDepartmentData\n",
      "    div_years = browser.find_element_by_class_name(\"linksIntermedios\")\n",
      "  File \"/Users/jaime/anaconda3/lib/python3.6/site-packages/selenium/webdriver/remote/webdriver.py\", line 555, in find_element_by_class_name\n",
      "    return self.find_element(by=By.CLASS_NAME, value=name)\n",
      "  File \"/Users/jaime/anaconda3/lib/python3.6/site-packages/selenium/webdriver/remote/webdriver.py\", line 955, in find_element\n",
      "    'value': value})['value']\n",
      "  File \"/Users/jaime/anaconda3/lib/python3.6/site-packages/selenium/webdriver/remote/webdriver.py\", line 312, in execute\n",
      "    self.error_handler.check_response(response)\n",
      "  File \"/Users/jaime/anaconda3/lib/python3.6/site-packages/selenium/webdriver/remote/errorhandler.py\", line 237, in check_response\n",
      "    raise exception_class(message, screen, stacktrace)\n",
      "selenium.common.exceptions.NoSuchElementException: Message: no such element: Unable to locate element: {\"method\":\"class name\",\"selector\":\"linksIntermedios\"}\n",
      "  (Session info: chrome=65.0.3325.181)\n",
      "  (Driver info: chromedriver=2.35.528157 (4429ca2590d6988c0745c24c8858745aaaec01ef),platform=Mac OS X 10.13.3 x86_64)\n",
      "\n"
     ]
    },
    {
     "data": {
      "application/vnd.jupyter.widget-view+json": {
       "model_id": "b036f21820f14839b80963403f780f13",
       "version_major": 2,
       "version_minor": 0
      },
      "text/plain": [
       "A Jupyter Widget"
      ]
     },
     "metadata": {},
     "output_type": "display_data"
    },
    {
     "name": "stdout",
     "output_type": "stream",
     "text": [
      "\n",
      "Hospital de Lota\n",
      "No contract data per_honorarios in http://www.gobiernotransparentechile.cl/directorio/entidad/15/295\n"
     ]
    },
    {
     "name": "stderr",
     "output_type": "stream",
     "text": [
      "Traceback (most recent call last):\n",
      "  File \"./lib/functions.py\", line 109, in getDepartmentData\n",
      "    div_years = browser.find_element_by_class_name(\"linksIntermedios\")\n",
      "  File \"/Users/jaime/anaconda3/lib/python3.6/site-packages/selenium/webdriver/remote/webdriver.py\", line 555, in find_element_by_class_name\n",
      "    return self.find_element(by=By.CLASS_NAME, value=name)\n",
      "  File \"/Users/jaime/anaconda3/lib/python3.6/site-packages/selenium/webdriver/remote/webdriver.py\", line 955, in find_element\n",
      "    'value': value})['value']\n",
      "  File \"/Users/jaime/anaconda3/lib/python3.6/site-packages/selenium/webdriver/remote/webdriver.py\", line 312, in execute\n",
      "    self.error_handler.check_response(response)\n",
      "  File \"/Users/jaime/anaconda3/lib/python3.6/site-packages/selenium/webdriver/remote/errorhandler.py\", line 237, in check_response\n",
      "    raise exception_class(message, screen, stacktrace)\n",
      "selenium.common.exceptions.NoSuchElementException: Message: no such element: Unable to locate element: {\"method\":\"class name\",\"selector\":\"linksIntermedios\"}\n",
      "  (Session info: chrome=65.0.3325.181)\n",
      "  (Driver info: chromedriver=2.35.528157 (4429ca2590d6988c0745c24c8858745aaaec01ef),platform=Mac OS X 10.13.3 x86_64)\n",
      "\n"
     ]
    },
    {
     "data": {
      "application/vnd.jupyter.widget-view+json": {
       "model_id": "bd6df82f95b545ee9f182dd2ac8b3607",
       "version_major": 2,
       "version_minor": 0
      },
      "text/plain": [
       "A Jupyter Widget"
      ]
     },
     "metadata": {},
     "output_type": "display_data"
    },
    {
     "name": "stdout",
     "output_type": "stream",
     "text": [
      "\n",
      "Hospital Guillermo Grant Benavente de Concepción\n",
      "No contract data per_honorarios in http://www.gobiernotransparentechile.cl/directorio/entidad/15/296\n"
     ]
    },
    {
     "name": "stderr",
     "output_type": "stream",
     "text": [
      "Traceback (most recent call last):\n",
      "  File \"./lib/functions.py\", line 109, in getDepartmentData\n",
      "    div_years = browser.find_element_by_class_name(\"linksIntermedios\")\n",
      "  File \"/Users/jaime/anaconda3/lib/python3.6/site-packages/selenium/webdriver/remote/webdriver.py\", line 555, in find_element_by_class_name\n",
      "    return self.find_element(by=By.CLASS_NAME, value=name)\n",
      "  File \"/Users/jaime/anaconda3/lib/python3.6/site-packages/selenium/webdriver/remote/webdriver.py\", line 955, in find_element\n",
      "    'value': value})['value']\n",
      "  File \"/Users/jaime/anaconda3/lib/python3.6/site-packages/selenium/webdriver/remote/webdriver.py\", line 312, in execute\n",
      "    self.error_handler.check_response(response)\n",
      "  File \"/Users/jaime/anaconda3/lib/python3.6/site-packages/selenium/webdriver/remote/errorhandler.py\", line 237, in check_response\n",
      "    raise exception_class(message, screen, stacktrace)\n",
      "selenium.common.exceptions.NoSuchElementException: Message: no such element: Unable to locate element: {\"method\":\"class name\",\"selector\":\"linksIntermedios\"}\n",
      "  (Session info: chrome=65.0.3325.181)\n",
      "  (Driver info: chromedriver=2.35.528157 (4429ca2590d6988c0745c24c8858745aaaec01ef),platform=Mac OS X 10.13.3 x86_64)\n",
      "\n"
     ]
    },
    {
     "data": {
      "application/vnd.jupyter.widget-view+json": {
       "model_id": "ef5ebdeebc8c45b69dc193e5b10ad371",
       "version_major": 2,
       "version_minor": 0
      },
      "text/plain": [
       "A Jupyter Widget"
      ]
     },
     "metadata": {},
     "output_type": "display_data"
    },
    {
     "name": "stdout",
     "output_type": "stream",
     "text": [
      "\n",
      "Hospital de Ovalle\n",
      "No contract data per_honorarios in http://www.gobiernotransparentechile.cl/directorio/entidad/15/297\n"
     ]
    },
    {
     "name": "stderr",
     "output_type": "stream",
     "text": [
      "Traceback (most recent call last):\n",
      "  File \"./lib/functions.py\", line 109, in getDepartmentData\n",
      "    div_years = browser.find_element_by_class_name(\"linksIntermedios\")\n",
      "  File \"/Users/jaime/anaconda3/lib/python3.6/site-packages/selenium/webdriver/remote/webdriver.py\", line 555, in find_element_by_class_name\n",
      "    return self.find_element(by=By.CLASS_NAME, value=name)\n",
      "  File \"/Users/jaime/anaconda3/lib/python3.6/site-packages/selenium/webdriver/remote/webdriver.py\", line 955, in find_element\n",
      "    'value': value})['value']\n",
      "  File \"/Users/jaime/anaconda3/lib/python3.6/site-packages/selenium/webdriver/remote/webdriver.py\", line 312, in execute\n",
      "    self.error_handler.check_response(response)\n",
      "  File \"/Users/jaime/anaconda3/lib/python3.6/site-packages/selenium/webdriver/remote/errorhandler.py\", line 237, in check_response\n",
      "    raise exception_class(message, screen, stacktrace)\n",
      "selenium.common.exceptions.NoSuchElementException: Message: no such element: Unable to locate element: {\"method\":\"class name\",\"selector\":\"linksIntermedios\"}\n",
      "  (Session info: chrome=65.0.3325.181)\n",
      "  (Driver info: chromedriver=2.35.528157 (4429ca2590d6988c0745c24c8858745aaaec01ef),platform=Mac OS X 10.13.3 x86_64)\n",
      "\n"
     ]
    },
    {
     "data": {
      "application/vnd.jupyter.widget-view+json": {
       "model_id": "4022b4f1679d4586b25f50a013272821",
       "version_major": 2,
       "version_minor": 0
      },
      "text/plain": [
       "A Jupyter Widget"
      ]
     },
     "metadata": {},
     "output_type": "display_data"
    },
    {
     "name": "stdout",
     "output_type": "stream",
     "text": [
      "\n",
      "Hospital La Serena\n",
      "No contract data per_honorarios in http://www.gobiernotransparentechile.cl/directorio/entidad/15/298\n"
     ]
    },
    {
     "name": "stderr",
     "output_type": "stream",
     "text": [
      "Traceback (most recent call last):\n",
      "  File \"./lib/functions.py\", line 109, in getDepartmentData\n",
      "    div_years = browser.find_element_by_class_name(\"linksIntermedios\")\n",
      "  File \"/Users/jaime/anaconda3/lib/python3.6/site-packages/selenium/webdriver/remote/webdriver.py\", line 555, in find_element_by_class_name\n",
      "    return self.find_element(by=By.CLASS_NAME, value=name)\n",
      "  File \"/Users/jaime/anaconda3/lib/python3.6/site-packages/selenium/webdriver/remote/webdriver.py\", line 955, in find_element\n",
      "    'value': value})['value']\n",
      "  File \"/Users/jaime/anaconda3/lib/python3.6/site-packages/selenium/webdriver/remote/webdriver.py\", line 312, in execute\n",
      "    self.error_handler.check_response(response)\n",
      "  File \"/Users/jaime/anaconda3/lib/python3.6/site-packages/selenium/webdriver/remote/errorhandler.py\", line 237, in check_response\n",
      "    raise exception_class(message, screen, stacktrace)\n",
      "selenium.common.exceptions.NoSuchElementException: Message: no such element: Unable to locate element: {\"method\":\"class name\",\"selector\":\"linksIntermedios\"}\n",
      "  (Session info: chrome=65.0.3325.181)\n",
      "  (Driver info: chromedriver=2.35.528157 (4429ca2590d6988c0745c24c8858745aaaec01ef),platform=Mac OS X 10.13.3 x86_64)\n",
      "\n"
     ]
    },
    {
     "data": {
      "application/vnd.jupyter.widget-view+json": {
       "model_id": "70336151f4ce45fba525a0070fb6db92",
       "version_major": 2,
       "version_minor": 0
      },
      "text/plain": [
       "A Jupyter Widget"
      ]
     },
     "metadata": {},
     "output_type": "display_data"
    },
    {
     "name": "stdout",
     "output_type": "stream",
     "text": [
      "\n",
      "Hospital San Pablo de Coquimbo\n",
      "No contract data per_honorarios in http://www.gobiernotransparentechile.cl/directorio/entidad/15/299\n"
     ]
    },
    {
     "name": "stderr",
     "output_type": "stream",
     "text": [
      "Traceback (most recent call last):\n",
      "  File \"./lib/functions.py\", line 109, in getDepartmentData\n",
      "    div_years = browser.find_element_by_class_name(\"linksIntermedios\")\n",
      "  File \"/Users/jaime/anaconda3/lib/python3.6/site-packages/selenium/webdriver/remote/webdriver.py\", line 555, in find_element_by_class_name\n",
      "    return self.find_element(by=By.CLASS_NAME, value=name)\n",
      "  File \"/Users/jaime/anaconda3/lib/python3.6/site-packages/selenium/webdriver/remote/webdriver.py\", line 955, in find_element\n",
      "    'value': value})['value']\n",
      "  File \"/Users/jaime/anaconda3/lib/python3.6/site-packages/selenium/webdriver/remote/webdriver.py\", line 312, in execute\n",
      "    self.error_handler.check_response(response)\n",
      "  File \"/Users/jaime/anaconda3/lib/python3.6/site-packages/selenium/webdriver/remote/errorhandler.py\", line 237, in check_response\n",
      "    raise exception_class(message, screen, stacktrace)\n",
      "selenium.common.exceptions.NoSuchElementException: Message: no such element: Unable to locate element: {\"method\":\"class name\",\"selector\":\"linksIntermedios\"}\n",
      "  (Session info: chrome=65.0.3325.181)\n",
      "  (Driver info: chromedriver=2.35.528157 (4429ca2590d6988c0745c24c8858745aaaec01ef),platform=Mac OS X 10.13.3 x86_64)\n",
      "\n"
     ]
    },
    {
     "data": {
      "application/vnd.jupyter.widget-view+json": {
       "model_id": "81dc1df782a94f8a9c03cb7130d5efc1",
       "version_major": 2,
       "version_minor": 0
      },
      "text/plain": [
       "A Jupyter Widget"
      ]
     },
     "metadata": {},
     "output_type": "display_data"
    },
    {
     "name": "stdout",
     "output_type": "stream",
     "text": [
      "\n",
      "Hospital Ernesto Torres de Iquique\n",
      "No contract data per_honorarios in http://www.gobiernotransparentechile.cl/directorio/entidad/15/300\n"
     ]
    },
    {
     "name": "stderr",
     "output_type": "stream",
     "text": [
      "Traceback (most recent call last):\n",
      "  File \"./lib/functions.py\", line 109, in getDepartmentData\n",
      "    div_years = browser.find_element_by_class_name(\"linksIntermedios\")\n",
      "  File \"/Users/jaime/anaconda3/lib/python3.6/site-packages/selenium/webdriver/remote/webdriver.py\", line 555, in find_element_by_class_name\n",
      "    return self.find_element(by=By.CLASS_NAME, value=name)\n",
      "  File \"/Users/jaime/anaconda3/lib/python3.6/site-packages/selenium/webdriver/remote/webdriver.py\", line 955, in find_element\n",
      "    'value': value})['value']\n",
      "  File \"/Users/jaime/anaconda3/lib/python3.6/site-packages/selenium/webdriver/remote/webdriver.py\", line 312, in execute\n",
      "    self.error_handler.check_response(response)\n",
      "  File \"/Users/jaime/anaconda3/lib/python3.6/site-packages/selenium/webdriver/remote/errorhandler.py\", line 237, in check_response\n",
      "    raise exception_class(message, screen, stacktrace)\n",
      "selenium.common.exceptions.NoSuchElementException: Message: no such element: Unable to locate element: {\"method\":\"class name\",\"selector\":\"linksIntermedios\"}\n",
      "  (Session info: chrome=65.0.3325.181)\n",
      "  (Driver info: chromedriver=2.35.528157 (4429ca2590d6988c0745c24c8858745aaaec01ef),platform=Mac OS X 10.13.3 x86_64)\n",
      "\n"
     ]
    },
    {
     "data": {
      "application/vnd.jupyter.widget-view+json": {
       "model_id": "ca924865e3444d908219939d76fae378",
       "version_major": 2,
       "version_minor": 0
      },
      "text/plain": [
       "A Jupyter Widget"
      ]
     },
     "metadata": {},
     "output_type": "display_data"
    },
    {
     "name": "stdout",
     "output_type": "stream",
     "text": [
      "\n",
      "HUAP Posta central\n",
      "No contract data per_honorarios in http://www.gobiernotransparentechile.cl/directorio/entidad/15/301\n"
     ]
    },
    {
     "name": "stderr",
     "output_type": "stream",
     "text": [
      "Traceback (most recent call last):\n",
      "  File \"./lib/functions.py\", line 109, in getDepartmentData\n",
      "    div_years = browser.find_element_by_class_name(\"linksIntermedios\")\n",
      "  File \"/Users/jaime/anaconda3/lib/python3.6/site-packages/selenium/webdriver/remote/webdriver.py\", line 555, in find_element_by_class_name\n",
      "    return self.find_element(by=By.CLASS_NAME, value=name)\n",
      "  File \"/Users/jaime/anaconda3/lib/python3.6/site-packages/selenium/webdriver/remote/webdriver.py\", line 955, in find_element\n",
      "    'value': value})['value']\n",
      "  File \"/Users/jaime/anaconda3/lib/python3.6/site-packages/selenium/webdriver/remote/webdriver.py\", line 312, in execute\n",
      "    self.error_handler.check_response(response)\n",
      "  File \"/Users/jaime/anaconda3/lib/python3.6/site-packages/selenium/webdriver/remote/errorhandler.py\", line 237, in check_response\n",
      "    raise exception_class(message, screen, stacktrace)\n",
      "selenium.common.exceptions.NoSuchElementException: Message: no such element: Unable to locate element: {\"method\":\"class name\",\"selector\":\"linksIntermedios\"}\n",
      "  (Session info: chrome=65.0.3325.181)\n",
      "  (Driver info: chromedriver=2.35.528157 (4429ca2590d6988c0745c24c8858745aaaec01ef),platform=Mac OS X 10.13.3 x86_64)\n",
      "\n"
     ]
    },
    {
     "data": {
      "application/vnd.jupyter.widget-view+json": {
       "model_id": "07ee3b4763074136aa204d89a7d9e76a",
       "version_major": 2,
       "version_minor": 0
      },
      "text/plain": [
       "A Jupyter Widget"
      ]
     },
     "metadata": {},
     "output_type": "display_data"
    },
    {
     "name": "stdout",
     "output_type": "stream",
     "text": [
      "\n",
      "Hospital San Borja Arriarán\n",
      "No contract data per_honorarios in http://www.gobiernotransparentechile.cl/directorio/entidad/15/302\n"
     ]
    },
    {
     "name": "stderr",
     "output_type": "stream",
     "text": [
      "Traceback (most recent call last):\n",
      "  File \"./lib/functions.py\", line 109, in getDepartmentData\n",
      "    div_years = browser.find_element_by_class_name(\"linksIntermedios\")\n",
      "  File \"/Users/jaime/anaconda3/lib/python3.6/site-packages/selenium/webdriver/remote/webdriver.py\", line 555, in find_element_by_class_name\n",
      "    return self.find_element(by=By.CLASS_NAME, value=name)\n",
      "  File \"/Users/jaime/anaconda3/lib/python3.6/site-packages/selenium/webdriver/remote/webdriver.py\", line 955, in find_element\n",
      "    'value': value})['value']\n",
      "  File \"/Users/jaime/anaconda3/lib/python3.6/site-packages/selenium/webdriver/remote/webdriver.py\", line 312, in execute\n",
      "    self.error_handler.check_response(response)\n",
      "  File \"/Users/jaime/anaconda3/lib/python3.6/site-packages/selenium/webdriver/remote/errorhandler.py\", line 237, in check_response\n",
      "    raise exception_class(message, screen, stacktrace)\n",
      "selenium.common.exceptions.NoSuchElementException: Message: no such element: Unable to locate element: {\"method\":\"class name\",\"selector\":\"linksIntermedios\"}\n",
      "  (Session info: chrome=65.0.3325.181)\n",
      "  (Driver info: chromedriver=2.35.528157 (4429ca2590d6988c0745c24c8858745aaaec01ef),platform=Mac OS X 10.13.3 x86_64)\n",
      "\n"
     ]
    },
    {
     "data": {
      "application/vnd.jupyter.widget-view+json": {
       "model_id": "52fb8f219dfd4f56b50895918d6c4424",
       "version_major": 2,
       "version_minor": 0
      },
      "text/plain": [
       "A Jupyter Widget"
      ]
     },
     "metadata": {},
     "output_type": "display_data"
    },
    {
     "name": "stdout",
     "output_type": "stream",
     "text": [
      "\n",
      "Hospital San José\n",
      "No contract data per_honorarios in http://www.gobiernotransparentechile.cl/directorio/entidad/15/303\n"
     ]
    },
    {
     "name": "stderr",
     "output_type": "stream",
     "text": [
      "Traceback (most recent call last):\n",
      "  File \"./lib/functions.py\", line 109, in getDepartmentData\n",
      "    div_years = browser.find_element_by_class_name(\"linksIntermedios\")\n",
      "  File \"/Users/jaime/anaconda3/lib/python3.6/site-packages/selenium/webdriver/remote/webdriver.py\", line 555, in find_element_by_class_name\n",
      "    return self.find_element(by=By.CLASS_NAME, value=name)\n",
      "  File \"/Users/jaime/anaconda3/lib/python3.6/site-packages/selenium/webdriver/remote/webdriver.py\", line 955, in find_element\n",
      "    'value': value})['value']\n",
      "  File \"/Users/jaime/anaconda3/lib/python3.6/site-packages/selenium/webdriver/remote/webdriver.py\", line 312, in execute\n",
      "    self.error_handler.check_response(response)\n",
      "  File \"/Users/jaime/anaconda3/lib/python3.6/site-packages/selenium/webdriver/remote/errorhandler.py\", line 237, in check_response\n",
      "    raise exception_class(message, screen, stacktrace)\n",
      "selenium.common.exceptions.NoSuchElementException: Message: no such element: Unable to locate element: {\"method\":\"class name\",\"selector\":\"linksIntermedios\"}\n",
      "  (Session info: chrome=65.0.3325.181)\n",
      "  (Driver info: chromedriver=2.35.528157 (4429ca2590d6988c0745c24c8858745aaaec01ef),platform=Mac OS X 10.13.3 x86_64)\n",
      "\n"
     ]
    },
    {
     "data": {
      "application/vnd.jupyter.widget-view+json": {
       "model_id": "e2a752a3162041cb9c89aed67f7cc12c",
       "version_major": 2,
       "version_minor": 0
      },
      "text/plain": [
       "A Jupyter Widget"
      ]
     },
     "metadata": {},
     "output_type": "display_data"
    },
    {
     "name": "stdout",
     "output_type": "stream",
     "text": [
      "\n",
      "Hospital Roberto del Río\n",
      "No contract data per_honorarios in http://www.gobiernotransparentechile.cl/directorio/entidad/15/304\n"
     ]
    },
    {
     "name": "stderr",
     "output_type": "stream",
     "text": [
      "Traceback (most recent call last):\n",
      "  File \"./lib/functions.py\", line 109, in getDepartmentData\n",
      "    div_years = browser.find_element_by_class_name(\"linksIntermedios\")\n",
      "  File \"/Users/jaime/anaconda3/lib/python3.6/site-packages/selenium/webdriver/remote/webdriver.py\", line 555, in find_element_by_class_name\n",
      "    return self.find_element(by=By.CLASS_NAME, value=name)\n",
      "  File \"/Users/jaime/anaconda3/lib/python3.6/site-packages/selenium/webdriver/remote/webdriver.py\", line 955, in find_element\n",
      "    'value': value})['value']\n",
      "  File \"/Users/jaime/anaconda3/lib/python3.6/site-packages/selenium/webdriver/remote/webdriver.py\", line 312, in execute\n",
      "    self.error_handler.check_response(response)\n",
      "  File \"/Users/jaime/anaconda3/lib/python3.6/site-packages/selenium/webdriver/remote/errorhandler.py\", line 237, in check_response\n",
      "    raise exception_class(message, screen, stacktrace)\n",
      "selenium.common.exceptions.NoSuchElementException: Message: no such element: Unable to locate element: {\"method\":\"class name\",\"selector\":\"linksIntermedios\"}\n",
      "  (Session info: chrome=65.0.3325.181)\n",
      "  (Driver info: chromedriver=2.35.528157 (4429ca2590d6988c0745c24c8858745aaaec01ef),platform=Mac OS X 10.13.3 x86_64)\n",
      "\n"
     ]
    },
    {
     "data": {
      "application/vnd.jupyter.widget-view+json": {
       "model_id": "8ae7a925c46d411a994627b8ad94a104",
       "version_major": 2,
       "version_minor": 0
      },
      "text/plain": [
       "A Jupyter Widget"
      ]
     },
     "metadata": {},
     "output_type": "display_data"
    },
    {
     "name": "stdout",
     "output_type": "stream",
     "text": [
      "\n",
      "Hospital Félix Bulnes\n",
      "No contract data per_honorarios in http://www.gobiernotransparentechile.cl/directorio/entidad/15/305\n"
     ]
    },
    {
     "name": "stderr",
     "output_type": "stream",
     "text": [
      "Traceback (most recent call last):\n",
      "  File \"./lib/functions.py\", line 109, in getDepartmentData\n",
      "    div_years = browser.find_element_by_class_name(\"linksIntermedios\")\n",
      "  File \"/Users/jaime/anaconda3/lib/python3.6/site-packages/selenium/webdriver/remote/webdriver.py\", line 555, in find_element_by_class_name\n",
      "    return self.find_element(by=By.CLASS_NAME, value=name)\n",
      "  File \"/Users/jaime/anaconda3/lib/python3.6/site-packages/selenium/webdriver/remote/webdriver.py\", line 955, in find_element\n",
      "    'value': value})['value']\n",
      "  File \"/Users/jaime/anaconda3/lib/python3.6/site-packages/selenium/webdriver/remote/webdriver.py\", line 312, in execute\n",
      "    self.error_handler.check_response(response)\n",
      "  File \"/Users/jaime/anaconda3/lib/python3.6/site-packages/selenium/webdriver/remote/errorhandler.py\", line 237, in check_response\n",
      "    raise exception_class(message, screen, stacktrace)\n",
      "selenium.common.exceptions.NoSuchElementException: Message: no such element: Unable to locate element: {\"method\":\"class name\",\"selector\":\"linksIntermedios\"}\n",
      "  (Session info: chrome=65.0.3325.181)\n",
      "  (Driver info: chromedriver=2.35.528157 (4429ca2590d6988c0745c24c8858745aaaec01ef),platform=Mac OS X 10.13.3 x86_64)\n",
      "\n"
     ]
    },
    {
     "data": {
      "application/vnd.jupyter.widget-view+json": {
       "model_id": "04bb52f6ace14cf486867d3ce9a3dee0",
       "version_major": 2,
       "version_minor": 0
      },
      "text/plain": [
       "A Jupyter Widget"
      ]
     },
     "metadata": {},
     "output_type": "display_data"
    },
    {
     "name": "stdout",
     "output_type": "stream",
     "text": [
      "\n",
      "Hospital de Melipilla\n",
      "No contract data per_honorarios in http://www.gobiernotransparentechile.cl/directorio/entidad/15/306\n"
     ]
    },
    {
     "name": "stderr",
     "output_type": "stream",
     "text": [
      "Traceback (most recent call last):\n",
      "  File \"./lib/functions.py\", line 109, in getDepartmentData\n",
      "    div_years = browser.find_element_by_class_name(\"linksIntermedios\")\n",
      "  File \"/Users/jaime/anaconda3/lib/python3.6/site-packages/selenium/webdriver/remote/webdriver.py\", line 555, in find_element_by_class_name\n",
      "    return self.find_element(by=By.CLASS_NAME, value=name)\n",
      "  File \"/Users/jaime/anaconda3/lib/python3.6/site-packages/selenium/webdriver/remote/webdriver.py\", line 955, in find_element\n",
      "    'value': value})['value']\n",
      "  File \"/Users/jaime/anaconda3/lib/python3.6/site-packages/selenium/webdriver/remote/webdriver.py\", line 312, in execute\n",
      "    self.error_handler.check_response(response)\n",
      "  File \"/Users/jaime/anaconda3/lib/python3.6/site-packages/selenium/webdriver/remote/errorhandler.py\", line 237, in check_response\n",
      "    raise exception_class(message, screen, stacktrace)\n",
      "selenium.common.exceptions.NoSuchElementException: Message: no such element: Unable to locate element: {\"method\":\"class name\",\"selector\":\"linksIntermedios\"}\n",
      "  (Session info: chrome=65.0.3325.181)\n",
      "  (Driver info: chromedriver=2.35.528157 (4429ca2590d6988c0745c24c8858745aaaec01ef),platform=Mac OS X 10.13.3 x86_64)\n",
      "\n"
     ]
    },
    {
     "data": {
      "application/vnd.jupyter.widget-view+json": {
       "model_id": "ceeb99db1d884385b73f125c693b3452",
       "version_major": 2,
       "version_minor": 0
      },
      "text/plain": [
       "A Jupyter Widget"
      ]
     },
     "metadata": {},
     "output_type": "display_data"
    },
    {
     "name": "stdout",
     "output_type": "stream",
     "text": [
      "\n",
      "Hospital San Juan de Dios\n",
      "No contract data per_honorarios in http://www.gobiernotransparentechile.cl/directorio/entidad/15/307\n"
     ]
    },
    {
     "name": "stderr",
     "output_type": "stream",
     "text": [
      "Traceback (most recent call last):\n",
      "  File \"./lib/functions.py\", line 109, in getDepartmentData\n",
      "    div_years = browser.find_element_by_class_name(\"linksIntermedios\")\n",
      "  File \"/Users/jaime/anaconda3/lib/python3.6/site-packages/selenium/webdriver/remote/webdriver.py\", line 555, in find_element_by_class_name\n",
      "    return self.find_element(by=By.CLASS_NAME, value=name)\n",
      "  File \"/Users/jaime/anaconda3/lib/python3.6/site-packages/selenium/webdriver/remote/webdriver.py\", line 955, in find_element\n",
      "    'value': value})['value']\n",
      "  File \"/Users/jaime/anaconda3/lib/python3.6/site-packages/selenium/webdriver/remote/webdriver.py\", line 312, in execute\n",
      "    self.error_handler.check_response(response)\n",
      "  File \"/Users/jaime/anaconda3/lib/python3.6/site-packages/selenium/webdriver/remote/errorhandler.py\", line 237, in check_response\n",
      "    raise exception_class(message, screen, stacktrace)\n",
      "selenium.common.exceptions.NoSuchElementException: Message: no such element: Unable to locate element: {\"method\":\"class name\",\"selector\":\"linksIntermedios\"}\n",
      "  (Session info: chrome=65.0.3325.181)\n",
      "  (Driver info: chromedriver=2.35.528157 (4429ca2590d6988c0745c24c8858745aaaec01ef),platform=Mac OS X 10.13.3 x86_64)\n",
      "\n"
     ]
    },
    {
     "data": {
      "application/vnd.jupyter.widget-view+json": {
       "model_id": "22cc6f419d8a451dbf660a4d85c07758",
       "version_major": 2,
       "version_minor": 0
      },
      "text/plain": [
       "A Jupyter Widget"
      ]
     },
     "metadata": {},
     "output_type": "display_data"
    },
    {
     "name": "stdout",
     "output_type": "stream",
     "text": [
      "\n",
      "Instituto Pedro Aguirre Cerda\n",
      "No contract data per_honorarios in http://www.gobiernotransparentechile.cl/directorio/entidad/15/308\n"
     ]
    },
    {
     "name": "stderr",
     "output_type": "stream",
     "text": [
      "Traceback (most recent call last):\n",
      "  File \"./lib/functions.py\", line 109, in getDepartmentData\n",
      "    div_years = browser.find_element_by_class_name(\"linksIntermedios\")\n",
      "  File \"/Users/jaime/anaconda3/lib/python3.6/site-packages/selenium/webdriver/remote/webdriver.py\", line 555, in find_element_by_class_name\n",
      "    return self.find_element(by=By.CLASS_NAME, value=name)\n",
      "  File \"/Users/jaime/anaconda3/lib/python3.6/site-packages/selenium/webdriver/remote/webdriver.py\", line 955, in find_element\n",
      "    'value': value})['value']\n",
      "  File \"/Users/jaime/anaconda3/lib/python3.6/site-packages/selenium/webdriver/remote/webdriver.py\", line 312, in execute\n",
      "    self.error_handler.check_response(response)\n",
      "  File \"/Users/jaime/anaconda3/lib/python3.6/site-packages/selenium/webdriver/remote/errorhandler.py\", line 237, in check_response\n",
      "    raise exception_class(message, screen, stacktrace)\n",
      "selenium.common.exceptions.NoSuchElementException: Message: no such element: Unable to locate element: {\"method\":\"class name\",\"selector\":\"linksIntermedios\"}\n",
      "  (Session info: chrome=65.0.3325.181)\n",
      "  (Driver info: chromedriver=2.35.528157 (4429ca2590d6988c0745c24c8858745aaaec01ef),platform=Mac OS X 10.13.3 x86_64)\n",
      "\n"
     ]
    },
    {
     "data": {
      "application/vnd.jupyter.widget-view+json": {
       "model_id": "bfa553b3d7cf437c9bfcc5c8888a6196",
       "version_major": 2,
       "version_minor": 0
      },
      "text/plain": [
       "A Jupyter Widget"
      ]
     },
     "metadata": {},
     "output_type": "display_data"
    },
    {
     "name": "stdout",
     "output_type": "stream",
     "text": [
      "\n",
      "Instituto de Neurocirugía\n",
      "No contract data per_honorarios in http://www.gobiernotransparentechile.cl/directorio/entidad/15/309\n"
     ]
    },
    {
     "name": "stderr",
     "output_type": "stream",
     "text": [
      "Traceback (most recent call last):\n",
      "  File \"./lib/functions.py\", line 109, in getDepartmentData\n",
      "    div_years = browser.find_element_by_class_name(\"linksIntermedios\")\n",
      "  File \"/Users/jaime/anaconda3/lib/python3.6/site-packages/selenium/webdriver/remote/webdriver.py\", line 555, in find_element_by_class_name\n",
      "    return self.find_element(by=By.CLASS_NAME, value=name)\n",
      "  File \"/Users/jaime/anaconda3/lib/python3.6/site-packages/selenium/webdriver/remote/webdriver.py\", line 955, in find_element\n",
      "    'value': value})['value']\n",
      "  File \"/Users/jaime/anaconda3/lib/python3.6/site-packages/selenium/webdriver/remote/webdriver.py\", line 312, in execute\n",
      "    self.error_handler.check_response(response)\n",
      "  File \"/Users/jaime/anaconda3/lib/python3.6/site-packages/selenium/webdriver/remote/errorhandler.py\", line 237, in check_response\n",
      "    raise exception_class(message, screen, stacktrace)\n",
      "selenium.common.exceptions.NoSuchElementException: Message: no such element: Unable to locate element: {\"method\":\"class name\",\"selector\":\"linksIntermedios\"}\n",
      "  (Session info: chrome=65.0.3325.181)\n",
      "  (Driver info: chromedriver=2.35.528157 (4429ca2590d6988c0745c24c8858745aaaec01ef),platform=Mac OS X 10.13.3 x86_64)\n",
      "\n"
     ]
    },
    {
     "data": {
      "application/vnd.jupyter.widget-view+json": {
       "model_id": "0dcda3936236419fbe7407d1ad81d2a6",
       "version_major": 2,
       "version_minor": 0
      },
      "text/plain": [
       "A Jupyter Widget"
      ]
     },
     "metadata": {},
     "output_type": "display_data"
    },
    {
     "name": "stdout",
     "output_type": "stream",
     "text": [
      "\n",
      "Instituto Nacional de Geriatría\n",
      "No contract data per_honorarios in http://www.gobiernotransparentechile.cl/directorio/entidad/15/310\n"
     ]
    },
    {
     "name": "stderr",
     "output_type": "stream",
     "text": [
      "Traceback (most recent call last):\n",
      "  File \"./lib/functions.py\", line 109, in getDepartmentData\n",
      "    div_years = browser.find_element_by_class_name(\"linksIntermedios\")\n",
      "  File \"/Users/jaime/anaconda3/lib/python3.6/site-packages/selenium/webdriver/remote/webdriver.py\", line 555, in find_element_by_class_name\n",
      "    return self.find_element(by=By.CLASS_NAME, value=name)\n",
      "  File \"/Users/jaime/anaconda3/lib/python3.6/site-packages/selenium/webdriver/remote/webdriver.py\", line 955, in find_element\n",
      "    'value': value})['value']\n",
      "  File \"/Users/jaime/anaconda3/lib/python3.6/site-packages/selenium/webdriver/remote/webdriver.py\", line 312, in execute\n",
      "    self.error_handler.check_response(response)\n",
      "  File \"/Users/jaime/anaconda3/lib/python3.6/site-packages/selenium/webdriver/remote/errorhandler.py\", line 237, in check_response\n",
      "    raise exception_class(message, screen, stacktrace)\n",
      "selenium.common.exceptions.NoSuchElementException: Message: no such element: Unable to locate element: {\"method\":\"class name\",\"selector\":\"linksIntermedios\"}\n",
      "  (Session info: chrome=65.0.3325.181)\n",
      "  (Driver info: chromedriver=2.35.528157 (4429ca2590d6988c0745c24c8858745aaaec01ef),platform=Mac OS X 10.13.3 x86_64)\n",
      "\n"
     ]
    },
    {
     "data": {
      "application/vnd.jupyter.widget-view+json": {
       "model_id": "c78b84ae8c784ff697f21fe08cc93fd5",
       "version_major": 2,
       "version_minor": 0
      },
      "text/plain": [
       "A Jupyter Widget"
      ]
     },
     "metadata": {},
     "output_type": "display_data"
    },
    {
     "name": "stdout",
     "output_type": "stream",
     "text": [
      "\n",
      "Hospital Del Salvador\n",
      "No contract data per_honorarios in http://www.gobiernotransparentechile.cl/directorio/entidad/15/311\n"
     ]
    },
    {
     "name": "stderr",
     "output_type": "stream",
     "text": [
      "Traceback (most recent call last):\n",
      "  File \"./lib/functions.py\", line 109, in getDepartmentData\n",
      "    div_years = browser.find_element_by_class_name(\"linksIntermedios\")\n",
      "  File \"/Users/jaime/anaconda3/lib/python3.6/site-packages/selenium/webdriver/remote/webdriver.py\", line 555, in find_element_by_class_name\n",
      "    return self.find_element(by=By.CLASS_NAME, value=name)\n",
      "  File \"/Users/jaime/anaconda3/lib/python3.6/site-packages/selenium/webdriver/remote/webdriver.py\", line 955, in find_element\n",
      "    'value': value})['value']\n",
      "  File \"/Users/jaime/anaconda3/lib/python3.6/site-packages/selenium/webdriver/remote/webdriver.py\", line 312, in execute\n",
      "    self.error_handler.check_response(response)\n",
      "  File \"/Users/jaime/anaconda3/lib/python3.6/site-packages/selenium/webdriver/remote/errorhandler.py\", line 237, in check_response\n",
      "    raise exception_class(message, screen, stacktrace)\n",
      "selenium.common.exceptions.NoSuchElementException: Message: no such element: Unable to locate element: {\"method\":\"class name\",\"selector\":\"linksIntermedios\"}\n",
      "  (Session info: chrome=65.0.3325.181)\n",
      "  (Driver info: chromedriver=2.35.528157 (4429ca2590d6988c0745c24c8858745aaaec01ef),platform=Mac OS X 10.13.3 x86_64)\n",
      "\n"
     ]
    },
    {
     "data": {
      "application/vnd.jupyter.widget-view+json": {
       "model_id": "27fd2a32fea04176bc2fbec1f44e3d70",
       "version_major": 2,
       "version_minor": 0
      },
      "text/plain": [
       "A Jupyter Widget"
      ]
     },
     "metadata": {},
     "output_type": "display_data"
    },
    {
     "name": "stdout",
     "output_type": "stream",
     "text": [
      "\n",
      "Hospital Barros Luco\n",
      "No contract data per_honorarios in http://www.gobiernotransparentechile.cl/directorio/entidad/15/312\n"
     ]
    },
    {
     "name": "stderr",
     "output_type": "stream",
     "text": [
      "Traceback (most recent call last):\n",
      "  File \"./lib/functions.py\", line 109, in getDepartmentData\n",
      "    div_years = browser.find_element_by_class_name(\"linksIntermedios\")\n",
      "  File \"/Users/jaime/anaconda3/lib/python3.6/site-packages/selenium/webdriver/remote/webdriver.py\", line 555, in find_element_by_class_name\n",
      "    return self.find_element(by=By.CLASS_NAME, value=name)\n",
      "  File \"/Users/jaime/anaconda3/lib/python3.6/site-packages/selenium/webdriver/remote/webdriver.py\", line 955, in find_element\n",
      "    'value': value})['value']\n",
      "  File \"/Users/jaime/anaconda3/lib/python3.6/site-packages/selenium/webdriver/remote/webdriver.py\", line 312, in execute\n",
      "    self.error_handler.check_response(response)\n",
      "  File \"/Users/jaime/anaconda3/lib/python3.6/site-packages/selenium/webdriver/remote/errorhandler.py\", line 237, in check_response\n",
      "    raise exception_class(message, screen, stacktrace)\n",
      "selenium.common.exceptions.NoSuchElementException: Message: no such element: Unable to locate element: {\"method\":\"class name\",\"selector\":\"linksIntermedios\"}\n",
      "  (Session info: chrome=65.0.3325.181)\n",
      "  (Driver info: chromedriver=2.35.528157 (4429ca2590d6988c0745c24c8858745aaaec01ef),platform=Mac OS X 10.13.3 x86_64)\n",
      "\n"
     ]
    },
    {
     "data": {
      "application/vnd.jupyter.widget-view+json": {
       "model_id": "566cdd9e0e524496b37506b16a623d81",
       "version_major": 2,
       "version_minor": 0
      },
      "text/plain": [
       "A Jupyter Widget"
      ]
     },
     "metadata": {},
     "output_type": "display_data"
    },
    {
     "name": "stdout",
     "output_type": "stream",
     "text": [
      "\n",
      "Hospital Sótero del Río\n",
      "No contract data per_honorarios in http://www.gobiernotransparentechile.cl/directorio/entidad/15/313\n"
     ]
    },
    {
     "name": "stderr",
     "output_type": "stream",
     "text": [
      "Traceback (most recent call last):\n",
      "  File \"./lib/functions.py\", line 109, in getDepartmentData\n",
      "    div_years = browser.find_element_by_class_name(\"linksIntermedios\")\n",
      "  File \"/Users/jaime/anaconda3/lib/python3.6/site-packages/selenium/webdriver/remote/webdriver.py\", line 555, in find_element_by_class_name\n",
      "    return self.find_element(by=By.CLASS_NAME, value=name)\n",
      "  File \"/Users/jaime/anaconda3/lib/python3.6/site-packages/selenium/webdriver/remote/webdriver.py\", line 955, in find_element\n",
      "    'value': value})['value']\n",
      "  File \"/Users/jaime/anaconda3/lib/python3.6/site-packages/selenium/webdriver/remote/webdriver.py\", line 312, in execute\n",
      "    self.error_handler.check_response(response)\n",
      "  File \"/Users/jaime/anaconda3/lib/python3.6/site-packages/selenium/webdriver/remote/errorhandler.py\", line 237, in check_response\n",
      "    raise exception_class(message, screen, stacktrace)\n",
      "selenium.common.exceptions.NoSuchElementException: Message: no such element: Unable to locate element: {\"method\":\"class name\",\"selector\":\"linksIntermedios\"}\n",
      "  (Session info: chrome=65.0.3325.181)\n",
      "  (Driver info: chromedriver=2.35.528157 (4429ca2590d6988c0745c24c8858745aaaec01ef),platform=Mac OS X 10.13.3 x86_64)\n",
      "\n"
     ]
    },
    {
     "data": {
      "application/vnd.jupyter.widget-view+json": {
       "model_id": "81f67ae9e8bb43e1bbcb7e02e7f7a9f6",
       "version_major": 2,
       "version_minor": 0
      },
      "text/plain": [
       "A Jupyter Widget"
      ]
     },
     "metadata": {},
     "output_type": "display_data"
    },
    {
     "name": "stdout",
     "output_type": "stream",
     "text": [
      "\n",
      "Hospital Lautaro Navarro de Punta Arenas\n",
      "No contract data per_honorarios in http://www.gobiernotransparentechile.cl/directorio/entidad/15/314\n"
     ]
    },
    {
     "name": "stderr",
     "output_type": "stream",
     "text": [
      "Traceback (most recent call last):\n",
      "  File \"./lib/functions.py\", line 109, in getDepartmentData\n",
      "    div_years = browser.find_element_by_class_name(\"linksIntermedios\")\n",
      "  File \"/Users/jaime/anaconda3/lib/python3.6/site-packages/selenium/webdriver/remote/webdriver.py\", line 555, in find_element_by_class_name\n",
      "    return self.find_element(by=By.CLASS_NAME, value=name)\n",
      "  File \"/Users/jaime/anaconda3/lib/python3.6/site-packages/selenium/webdriver/remote/webdriver.py\", line 955, in find_element\n",
      "    'value': value})['value']\n",
      "  File \"/Users/jaime/anaconda3/lib/python3.6/site-packages/selenium/webdriver/remote/webdriver.py\", line 312, in execute\n",
      "    self.error_handler.check_response(response)\n",
      "  File \"/Users/jaime/anaconda3/lib/python3.6/site-packages/selenium/webdriver/remote/errorhandler.py\", line 237, in check_response\n",
      "    raise exception_class(message, screen, stacktrace)\n",
      "selenium.common.exceptions.NoSuchElementException: Message: no such element: Unable to locate element: {\"method\":\"class name\",\"selector\":\"linksIntermedios\"}\n",
      "  (Session info: chrome=65.0.3325.181)\n",
      "  (Driver info: chromedriver=2.35.528157 (4429ca2590d6988c0745c24c8858745aaaec01ef),platform=Mac OS X 10.13.3 x86_64)\n",
      "\n"
     ]
    },
    {
     "data": {
      "application/vnd.jupyter.widget-view+json": {
       "model_id": "e823883f708d4dd393fc2f2fac09a0bc",
       "version_major": 2,
       "version_minor": 0
      },
      "text/plain": [
       "A Jupyter Widget"
      ]
     },
     "metadata": {},
     "output_type": "display_data"
    },
    {
     "name": "stdout",
     "output_type": "stream",
     "text": [
      "\n",
      "Hospital de Curicó\n",
      "No contract data per_honorarios in http://www.gobiernotransparentechile.cl/directorio/entidad/15/315\n"
     ]
    },
    {
     "name": "stderr",
     "output_type": "stream",
     "text": [
      "Traceback (most recent call last):\n",
      "  File \"./lib/functions.py\", line 109, in getDepartmentData\n",
      "    div_years = browser.find_element_by_class_name(\"linksIntermedios\")\n",
      "  File \"/Users/jaime/anaconda3/lib/python3.6/site-packages/selenium/webdriver/remote/webdriver.py\", line 555, in find_element_by_class_name\n",
      "    return self.find_element(by=By.CLASS_NAME, value=name)\n",
      "  File \"/Users/jaime/anaconda3/lib/python3.6/site-packages/selenium/webdriver/remote/webdriver.py\", line 955, in find_element\n",
      "    'value': value})['value']\n",
      "  File \"/Users/jaime/anaconda3/lib/python3.6/site-packages/selenium/webdriver/remote/webdriver.py\", line 312, in execute\n",
      "    self.error_handler.check_response(response)\n",
      "  File \"/Users/jaime/anaconda3/lib/python3.6/site-packages/selenium/webdriver/remote/errorhandler.py\", line 237, in check_response\n",
      "    raise exception_class(message, screen, stacktrace)\n",
      "selenium.common.exceptions.NoSuchElementException: Message: no such element: Unable to locate element: {\"method\":\"class name\",\"selector\":\"linksIntermedios\"}\n",
      "  (Session info: chrome=65.0.3325.181)\n",
      "  (Driver info: chromedriver=2.35.528157 (4429ca2590d6988c0745c24c8858745aaaec01ef),platform=Mac OS X 10.13.3 x86_64)\n",
      "\n"
     ]
    },
    {
     "data": {
      "application/vnd.jupyter.widget-view+json": {
       "model_id": "4d70e8e3903c48e1851454b1ef0de974",
       "version_major": 2,
       "version_minor": 0
      },
      "text/plain": [
       "A Jupyter Widget"
      ]
     },
     "metadata": {},
     "output_type": "display_data"
    },
    {
     "name": "stdout",
     "output_type": "stream",
     "text": [
      "\n",
      "Hospital de Linares\n",
      "No contract data per_honorarios in http://www.gobiernotransparentechile.cl/directorio/entidad/15/316\n"
     ]
    },
    {
     "name": "stderr",
     "output_type": "stream",
     "text": [
      "Traceback (most recent call last):\n",
      "  File \"./lib/functions.py\", line 109, in getDepartmentData\n",
      "    div_years = browser.find_element_by_class_name(\"linksIntermedios\")\n",
      "  File \"/Users/jaime/anaconda3/lib/python3.6/site-packages/selenium/webdriver/remote/webdriver.py\", line 555, in find_element_by_class_name\n",
      "    return self.find_element(by=By.CLASS_NAME, value=name)\n",
      "  File \"/Users/jaime/anaconda3/lib/python3.6/site-packages/selenium/webdriver/remote/webdriver.py\", line 955, in find_element\n",
      "    'value': value})['value']\n",
      "  File \"/Users/jaime/anaconda3/lib/python3.6/site-packages/selenium/webdriver/remote/webdriver.py\", line 312, in execute\n",
      "    self.error_handler.check_response(response)\n",
      "  File \"/Users/jaime/anaconda3/lib/python3.6/site-packages/selenium/webdriver/remote/errorhandler.py\", line 237, in check_response\n",
      "    raise exception_class(message, screen, stacktrace)\n",
      "selenium.common.exceptions.NoSuchElementException: Message: no such element: Unable to locate element: {\"method\":\"class name\",\"selector\":\"linksIntermedios\"}\n",
      "  (Session info: chrome=65.0.3325.181)\n",
      "  (Driver info: chromedriver=2.35.528157 (4429ca2590d6988c0745c24c8858745aaaec01ef),platform=Mac OS X 10.13.3 x86_64)\n",
      "\n"
     ]
    },
    {
     "data": {
      "application/vnd.jupyter.widget-view+json": {
       "model_id": "15c385e3e89b41cfa2251b2e292c8bfd",
       "version_major": 2,
       "version_minor": 0
      },
      "text/plain": [
       "A Jupyter Widget"
      ]
     },
     "metadata": {},
     "output_type": "display_data"
    },
    {
     "name": "stdout",
     "output_type": "stream",
     "text": [
      "\n",
      "Hospital Regional de Talca\n",
      "No contract data per_honorarios in http://www.gobiernotransparentechile.cl/directorio/entidad/15/317\n"
     ]
    },
    {
     "name": "stderr",
     "output_type": "stream",
     "text": [
      "Traceback (most recent call last):\n",
      "  File \"./lib/functions.py\", line 109, in getDepartmentData\n",
      "    div_years = browser.find_element_by_class_name(\"linksIntermedios\")\n",
      "  File \"/Users/jaime/anaconda3/lib/python3.6/site-packages/selenium/webdriver/remote/webdriver.py\", line 555, in find_element_by_class_name\n",
      "    return self.find_element(by=By.CLASS_NAME, value=name)\n",
      "  File \"/Users/jaime/anaconda3/lib/python3.6/site-packages/selenium/webdriver/remote/webdriver.py\", line 955, in find_element\n",
      "    'value': value})['value']\n",
      "  File \"/Users/jaime/anaconda3/lib/python3.6/site-packages/selenium/webdriver/remote/webdriver.py\", line 312, in execute\n",
      "    self.error_handler.check_response(response)\n",
      "  File \"/Users/jaime/anaconda3/lib/python3.6/site-packages/selenium/webdriver/remote/errorhandler.py\", line 237, in check_response\n",
      "    raise exception_class(message, screen, stacktrace)\n",
      "selenium.common.exceptions.NoSuchElementException: Message: no such element: Unable to locate element: {\"method\":\"class name\",\"selector\":\"linksIntermedios\"}\n",
      "  (Session info: chrome=65.0.3325.181)\n",
      "  (Driver info: chromedriver=2.35.528157 (4429ca2590d6988c0745c24c8858745aaaec01ef),platform=Mac OS X 10.13.3 x86_64)\n",
      "\n"
     ]
    },
    {
     "data": {
      "application/vnd.jupyter.widget-view+json": {
       "model_id": "d3a6b33a99144fb5ab9ac73a45a81edb",
       "version_major": 2,
       "version_minor": 0
      },
      "text/plain": [
       "A Jupyter Widget"
      ]
     },
     "metadata": {},
     "output_type": "display_data"
    },
    {
     "name": "stdout",
     "output_type": "stream",
     "text": [
      "\n",
      "Hospital de San Carlos\n",
      "No contract data per_honorarios in http://www.gobiernotransparentechile.cl/directorio/entidad/15/318\n"
     ]
    },
    {
     "name": "stderr",
     "output_type": "stream",
     "text": [
      "Traceback (most recent call last):\n",
      "  File \"./lib/functions.py\", line 109, in getDepartmentData\n",
      "    div_years = browser.find_element_by_class_name(\"linksIntermedios\")\n",
      "  File \"/Users/jaime/anaconda3/lib/python3.6/site-packages/selenium/webdriver/remote/webdriver.py\", line 555, in find_element_by_class_name\n",
      "    return self.find_element(by=By.CLASS_NAME, value=name)\n",
      "  File \"/Users/jaime/anaconda3/lib/python3.6/site-packages/selenium/webdriver/remote/webdriver.py\", line 955, in find_element\n",
      "    'value': value})['value']\n",
      "  File \"/Users/jaime/anaconda3/lib/python3.6/site-packages/selenium/webdriver/remote/webdriver.py\", line 312, in execute\n",
      "    self.error_handler.check_response(response)\n",
      "  File \"/Users/jaime/anaconda3/lib/python3.6/site-packages/selenium/webdriver/remote/errorhandler.py\", line 237, in check_response\n",
      "    raise exception_class(message, screen, stacktrace)\n",
      "selenium.common.exceptions.NoSuchElementException: Message: no such element: Unable to locate element: {\"method\":\"class name\",\"selector\":\"linksIntermedios\"}\n",
      "  (Session info: chrome=65.0.3325.181)\n",
      "  (Driver info: chromedriver=2.35.528157 (4429ca2590d6988c0745c24c8858745aaaec01ef),platform=Mac OS X 10.13.3 x86_64)\n",
      "\n"
     ]
    },
    {
     "data": {
      "application/vnd.jupyter.widget-view+json": {
       "model_id": "6f7acfe5db924f159ddd8a4d34290469",
       "version_major": 2,
       "version_minor": 0
      },
      "text/plain": [
       "A Jupyter Widget"
      ]
     },
     "metadata": {},
     "output_type": "display_data"
    },
    {
     "name": "stdout",
     "output_type": "stream",
     "text": [
      "\n",
      "Hospital San Juan de Dios de San Fernando\n",
      "No contract data per_honorarios in http://www.gobiernotransparentechile.cl/directorio/entidad/15/319\n"
     ]
    },
    {
     "name": "stderr",
     "output_type": "stream",
     "text": [
      "Traceback (most recent call last):\n",
      "  File \"./lib/functions.py\", line 109, in getDepartmentData\n",
      "    div_years = browser.find_element_by_class_name(\"linksIntermedios\")\n",
      "  File \"/Users/jaime/anaconda3/lib/python3.6/site-packages/selenium/webdriver/remote/webdriver.py\", line 555, in find_element_by_class_name\n",
      "    return self.find_element(by=By.CLASS_NAME, value=name)\n",
      "  File \"/Users/jaime/anaconda3/lib/python3.6/site-packages/selenium/webdriver/remote/webdriver.py\", line 955, in find_element\n",
      "    'value': value})['value']\n",
      "  File \"/Users/jaime/anaconda3/lib/python3.6/site-packages/selenium/webdriver/remote/webdriver.py\", line 312, in execute\n",
      "    self.error_handler.check_response(response)\n",
      "  File \"/Users/jaime/anaconda3/lib/python3.6/site-packages/selenium/webdriver/remote/errorhandler.py\", line 237, in check_response\n",
      "    raise exception_class(message, screen, stacktrace)\n",
      "selenium.common.exceptions.NoSuchElementException: Message: no such element: Unable to locate element: {\"method\":\"class name\",\"selector\":\"linksIntermedios\"}\n",
      "  (Session info: chrome=65.0.3325.181)\n",
      "  (Driver info: chromedriver=2.35.528157 (4429ca2590d6988c0745c24c8858745aaaec01ef),platform=Mac OS X 10.13.3 x86_64)\n",
      "\n"
     ]
    },
    {
     "data": {
      "application/vnd.jupyter.widget-view+json": {
       "model_id": "48a7ae4448ba4a01973addbfddd046f6",
       "version_major": 2,
       "version_minor": 0
      },
      "text/plain": [
       "A Jupyter Widget"
      ]
     },
     "metadata": {},
     "output_type": "display_data"
    },
    {
     "name": "stdout",
     "output_type": "stream",
     "text": [
      "\n",
      "Hospital Regional de Rancagua\n",
      "No contract data per_honorarios in http://www.gobiernotransparentechile.cl/directorio/entidad/15/320\n"
     ]
    },
    {
     "name": "stderr",
     "output_type": "stream",
     "text": [
      "Traceback (most recent call last):\n",
      "  File \"./lib/functions.py\", line 109, in getDepartmentData\n",
      "    div_years = browser.find_element_by_class_name(\"linksIntermedios\")\n",
      "  File \"/Users/jaime/anaconda3/lib/python3.6/site-packages/selenium/webdriver/remote/webdriver.py\", line 555, in find_element_by_class_name\n",
      "    return self.find_element(by=By.CLASS_NAME, value=name)\n",
      "  File \"/Users/jaime/anaconda3/lib/python3.6/site-packages/selenium/webdriver/remote/webdriver.py\", line 955, in find_element\n",
      "    'value': value})['value']\n",
      "  File \"/Users/jaime/anaconda3/lib/python3.6/site-packages/selenium/webdriver/remote/webdriver.py\", line 312, in execute\n",
      "    self.error_handler.check_response(response)\n",
      "  File \"/Users/jaime/anaconda3/lib/python3.6/site-packages/selenium/webdriver/remote/errorhandler.py\", line 237, in check_response\n",
      "    raise exception_class(message, screen, stacktrace)\n",
      "selenium.common.exceptions.NoSuchElementException: Message: no such element: Unable to locate element: {\"method\":\"class name\",\"selector\":\"linksIntermedios\"}\n",
      "  (Session info: chrome=65.0.3325.181)\n",
      "  (Driver info: chromedriver=2.35.528157 (4429ca2590d6988c0745c24c8858745aaaec01ef),platform=Mac OS X 10.13.3 x86_64)\n",
      "\n"
     ]
    },
    {
     "data": {
      "application/vnd.jupyter.widget-view+json": {
       "model_id": "8299a89f0f21400fa8c56ce3b60f3810",
       "version_major": 2,
       "version_minor": 0
      },
      "text/plain": [
       "A Jupyter Widget"
      ]
     },
     "metadata": {},
     "output_type": "display_data"
    },
    {
     "name": "stdout",
     "output_type": "stream",
     "text": [
      "\n",
      "Hospital de Osorno\n",
      "No contract data per_honorarios in http://www.gobiernotransparentechile.cl/directorio/entidad/15/321\n"
     ]
    },
    {
     "name": "stderr",
     "output_type": "stream",
     "text": [
      "Traceback (most recent call last):\n",
      "  File \"./lib/functions.py\", line 109, in getDepartmentData\n",
      "    div_years = browser.find_element_by_class_name(\"linksIntermedios\")\n",
      "  File \"/Users/jaime/anaconda3/lib/python3.6/site-packages/selenium/webdriver/remote/webdriver.py\", line 555, in find_element_by_class_name\n",
      "    return self.find_element(by=By.CLASS_NAME, value=name)\n",
      "  File \"/Users/jaime/anaconda3/lib/python3.6/site-packages/selenium/webdriver/remote/webdriver.py\", line 955, in find_element\n",
      "    'value': value})['value']\n",
      "  File \"/Users/jaime/anaconda3/lib/python3.6/site-packages/selenium/webdriver/remote/webdriver.py\", line 312, in execute\n",
      "    self.error_handler.check_response(response)\n",
      "  File \"/Users/jaime/anaconda3/lib/python3.6/site-packages/selenium/webdriver/remote/errorhandler.py\", line 237, in check_response\n",
      "    raise exception_class(message, screen, stacktrace)\n",
      "selenium.common.exceptions.NoSuchElementException: Message: no such element: Unable to locate element: {\"method\":\"class name\",\"selector\":\"linksIntermedios\"}\n",
      "  (Session info: chrome=65.0.3325.181)\n",
      "  (Driver info: chromedriver=2.35.528157 (4429ca2590d6988c0745c24c8858745aaaec01ef),platform=Mac OS X 10.13.3 x86_64)\n",
      "\n"
     ]
    },
    {
     "data": {
      "application/vnd.jupyter.widget-view+json": {
       "model_id": "8d0b7e8de57043458307688b9df93707",
       "version_major": 2,
       "version_minor": 0
      },
      "text/plain": [
       "A Jupyter Widget"
      ]
     },
     "metadata": {},
     "output_type": "display_data"
    },
    {
     "name": "stdout",
     "output_type": "stream",
     "text": [
      "\n",
      "Hospital de Puerto Montt\n",
      "No contract data per_honorarios in http://www.gobiernotransparentechile.cl/directorio/entidad/15/322\n"
     ]
    },
    {
     "name": "stderr",
     "output_type": "stream",
     "text": [
      "Traceback (most recent call last):\n",
      "  File \"./lib/functions.py\", line 109, in getDepartmentData\n",
      "    div_years = browser.find_element_by_class_name(\"linksIntermedios\")\n",
      "  File \"/Users/jaime/anaconda3/lib/python3.6/site-packages/selenium/webdriver/remote/webdriver.py\", line 555, in find_element_by_class_name\n",
      "    return self.find_element(by=By.CLASS_NAME, value=name)\n",
      "  File \"/Users/jaime/anaconda3/lib/python3.6/site-packages/selenium/webdriver/remote/webdriver.py\", line 955, in find_element\n",
      "    'value': value})['value']\n",
      "  File \"/Users/jaime/anaconda3/lib/python3.6/site-packages/selenium/webdriver/remote/webdriver.py\", line 312, in execute\n",
      "    self.error_handler.check_response(response)\n",
      "  File \"/Users/jaime/anaconda3/lib/python3.6/site-packages/selenium/webdriver/remote/errorhandler.py\", line 237, in check_response\n",
      "    raise exception_class(message, screen, stacktrace)\n",
      "selenium.common.exceptions.NoSuchElementException: Message: no such element: Unable to locate element: {\"method\":\"class name\",\"selector\":\"linksIntermedios\"}\n",
      "  (Session info: chrome=65.0.3325.181)\n",
      "  (Driver info: chromedriver=2.35.528157 (4429ca2590d6988c0745c24c8858745aaaec01ef),platform=Mac OS X 10.13.3 x86_64)\n",
      "\n"
     ]
    },
    {
     "data": {
      "application/vnd.jupyter.widget-view+json": {
       "model_id": "06a3b2fb361a455d82fdf12a83e45c55",
       "version_major": 2,
       "version_minor": 0
      },
      "text/plain": [
       "A Jupyter Widget"
      ]
     },
     "metadata": {},
     "output_type": "display_data"
    },
    {
     "name": "stdout",
     "output_type": "stream",
     "text": [
      "\n",
      "Hospital de Tomé\n",
      "No contract data per_honorarios in http://www.gobiernotransparentechile.cl/directorio/entidad/15/323\n"
     ]
    },
    {
     "name": "stderr",
     "output_type": "stream",
     "text": [
      "Traceback (most recent call last):\n",
      "  File \"./lib/functions.py\", line 109, in getDepartmentData\n",
      "    div_years = browser.find_element_by_class_name(\"linksIntermedios\")\n",
      "  File \"/Users/jaime/anaconda3/lib/python3.6/site-packages/selenium/webdriver/remote/webdriver.py\", line 555, in find_element_by_class_name\n",
      "    return self.find_element(by=By.CLASS_NAME, value=name)\n",
      "  File \"/Users/jaime/anaconda3/lib/python3.6/site-packages/selenium/webdriver/remote/webdriver.py\", line 955, in find_element\n",
      "    'value': value})['value']\n",
      "  File \"/Users/jaime/anaconda3/lib/python3.6/site-packages/selenium/webdriver/remote/webdriver.py\", line 312, in execute\n",
      "    self.error_handler.check_response(response)\n",
      "  File \"/Users/jaime/anaconda3/lib/python3.6/site-packages/selenium/webdriver/remote/errorhandler.py\", line 237, in check_response\n",
      "    raise exception_class(message, screen, stacktrace)\n",
      "selenium.common.exceptions.NoSuchElementException: Message: no such element: Unable to locate element: {\"method\":\"class name\",\"selector\":\"linksIntermedios\"}\n",
      "  (Session info: chrome=65.0.3325.181)\n",
      "  (Driver info: chromedriver=2.35.528157 (4429ca2590d6988c0745c24c8858745aaaec01ef),platform=Mac OS X 10.13.3 x86_64)\n",
      "\n"
     ]
    },
    {
     "data": {
      "application/vnd.jupyter.widget-view+json": {
       "model_id": "a522edfec91c4172b57fd2c16ff8918c",
       "version_major": 2,
       "version_minor": 0
      },
      "text/plain": [
       "A Jupyter Widget"
      ]
     },
     "metadata": {},
     "output_type": "display_data"
    },
    {
     "name": "stdout",
     "output_type": "stream",
     "text": [
      "\n",
      "Hospital de Las Higueras\n",
      "No contract data per_honorarios in http://www.gobiernotransparentechile.cl/directorio/entidad/15/324\n"
     ]
    },
    {
     "name": "stderr",
     "output_type": "stream",
     "text": [
      "Traceback (most recent call last):\n",
      "  File \"./lib/functions.py\", line 109, in getDepartmentData\n",
      "    div_years = browser.find_element_by_class_name(\"linksIntermedios\")\n",
      "  File \"/Users/jaime/anaconda3/lib/python3.6/site-packages/selenium/webdriver/remote/webdriver.py\", line 555, in find_element_by_class_name\n",
      "    return self.find_element(by=By.CLASS_NAME, value=name)\n",
      "  File \"/Users/jaime/anaconda3/lib/python3.6/site-packages/selenium/webdriver/remote/webdriver.py\", line 955, in find_element\n",
      "    'value': value})['value']\n",
      "  File \"/Users/jaime/anaconda3/lib/python3.6/site-packages/selenium/webdriver/remote/webdriver.py\", line 312, in execute\n",
      "    self.error_handler.check_response(response)\n",
      "  File \"/Users/jaime/anaconda3/lib/python3.6/site-packages/selenium/webdriver/remote/errorhandler.py\", line 237, in check_response\n",
      "    raise exception_class(message, screen, stacktrace)\n",
      "selenium.common.exceptions.NoSuchElementException: Message: no such element: Unable to locate element: {\"method\":\"class name\",\"selector\":\"linksIntermedios\"}\n",
      "  (Session info: chrome=65.0.3325.181)\n",
      "  (Driver info: chromedriver=2.35.528157 (4429ca2590d6988c0745c24c8858745aaaec01ef),platform=Mac OS X 10.13.3 x86_64)\n",
      "\n"
     ]
    },
    {
     "data": {
      "application/vnd.jupyter.widget-view+json": {
       "model_id": "7e6b4e1377cd4921a2131dc9326a2afa",
       "version_major": 2,
       "version_minor": 0
      },
      "text/plain": [
       "A Jupyter Widget"
      ]
     },
     "metadata": {},
     "output_type": "display_data"
    },
    {
     "name": "stdout",
     "output_type": "stream",
     "text": [
      "\n",
      "Hospital Base de Valdivia\n",
      "No contract data per_honorarios in http://www.gobiernotransparentechile.cl/directorio/entidad/15/325\n"
     ]
    },
    {
     "name": "stderr",
     "output_type": "stream",
     "text": [
      "Traceback (most recent call last):\n",
      "  File \"./lib/functions.py\", line 109, in getDepartmentData\n",
      "    div_years = browser.find_element_by_class_name(\"linksIntermedios\")\n",
      "  File \"/Users/jaime/anaconda3/lib/python3.6/site-packages/selenium/webdriver/remote/webdriver.py\", line 555, in find_element_by_class_name\n",
      "    return self.find_element(by=By.CLASS_NAME, value=name)\n",
      "  File \"/Users/jaime/anaconda3/lib/python3.6/site-packages/selenium/webdriver/remote/webdriver.py\", line 955, in find_element\n",
      "    'value': value})['value']\n",
      "  File \"/Users/jaime/anaconda3/lib/python3.6/site-packages/selenium/webdriver/remote/webdriver.py\", line 312, in execute\n",
      "    self.error_handler.check_response(response)\n",
      "  File \"/Users/jaime/anaconda3/lib/python3.6/site-packages/selenium/webdriver/remote/errorhandler.py\", line 237, in check_response\n",
      "    raise exception_class(message, screen, stacktrace)\n",
      "selenium.common.exceptions.NoSuchElementException: Message: no such element: Unable to locate element: {\"method\":\"class name\",\"selector\":\"linksIntermedios\"}\n",
      "  (Session info: chrome=65.0.3325.181)\n",
      "  (Driver info: chromedriver=2.35.528157 (4429ca2590d6988c0745c24c8858745aaaec01ef),platform=Mac OS X 10.13.3 x86_64)\n",
      "\n"
     ]
    },
    {
     "data": {
      "application/vnd.jupyter.widget-view+json": {
       "model_id": "eab6acc4ecec42099d5508284aeff932",
       "version_major": 2,
       "version_minor": 0
      },
      "text/plain": [
       "A Jupyter Widget"
      ]
     },
     "metadata": {},
     "output_type": "display_data"
    },
    {
     "name": "stdout",
     "output_type": "stream",
     "text": [
      "\n",
      "Hospital Claudio Vicuña de San Antonio\n",
      "No contract data per_honorarios in http://www.gobiernotransparentechile.cl/directorio/entidad/15/326\n"
     ]
    },
    {
     "name": "stderr",
     "output_type": "stream",
     "text": [
      "Traceback (most recent call last):\n",
      "  File \"./lib/functions.py\", line 109, in getDepartmentData\n",
      "    div_years = browser.find_element_by_class_name(\"linksIntermedios\")\n",
      "  File \"/Users/jaime/anaconda3/lib/python3.6/site-packages/selenium/webdriver/remote/webdriver.py\", line 555, in find_element_by_class_name\n",
      "    return self.find_element(by=By.CLASS_NAME, value=name)\n",
      "  File \"/Users/jaime/anaconda3/lib/python3.6/site-packages/selenium/webdriver/remote/webdriver.py\", line 955, in find_element\n",
      "    'value': value})['value']\n",
      "  File \"/Users/jaime/anaconda3/lib/python3.6/site-packages/selenium/webdriver/remote/webdriver.py\", line 312, in execute\n",
      "    self.error_handler.check_response(response)\n",
      "  File \"/Users/jaime/anaconda3/lib/python3.6/site-packages/selenium/webdriver/remote/errorhandler.py\", line 237, in check_response\n",
      "    raise exception_class(message, screen, stacktrace)\n",
      "selenium.common.exceptions.NoSuchElementException: Message: no such element: Unable to locate element: {\"method\":\"class name\",\"selector\":\"linksIntermedios\"}\n",
      "  (Session info: chrome=65.0.3325.181)\n",
      "  (Driver info: chromedriver=2.35.528157 (4429ca2590d6988c0745c24c8858745aaaec01ef),platform=Mac OS X 10.13.3 x86_64)\n",
      "\n"
     ]
    },
    {
     "data": {
      "application/vnd.jupyter.widget-view+json": {
       "model_id": "107e75d8289a427fa2ed9972c779be2a",
       "version_major": 2,
       "version_minor": 0
      },
      "text/plain": [
       "A Jupyter Widget"
      ]
     },
     "metadata": {},
     "output_type": "display_data"
    },
    {
     "name": "stdout",
     "output_type": "stream",
     "text": [
      "\n",
      "Hospital Carlos Van Büren\n",
      "No contract data per_honorarios in http://www.gobiernotransparentechile.cl/directorio/entidad/15/327\n"
     ]
    },
    {
     "name": "stderr",
     "output_type": "stream",
     "text": [
      "Traceback (most recent call last):\n",
      "  File \"./lib/functions.py\", line 109, in getDepartmentData\n",
      "    div_years = browser.find_element_by_class_name(\"linksIntermedios\")\n",
      "  File \"/Users/jaime/anaconda3/lib/python3.6/site-packages/selenium/webdriver/remote/webdriver.py\", line 555, in find_element_by_class_name\n",
      "    return self.find_element(by=By.CLASS_NAME, value=name)\n",
      "  File \"/Users/jaime/anaconda3/lib/python3.6/site-packages/selenium/webdriver/remote/webdriver.py\", line 955, in find_element\n",
      "    'value': value})['value']\n",
      "  File \"/Users/jaime/anaconda3/lib/python3.6/site-packages/selenium/webdriver/remote/webdriver.py\", line 312, in execute\n",
      "    self.error_handler.check_response(response)\n",
      "  File \"/Users/jaime/anaconda3/lib/python3.6/site-packages/selenium/webdriver/remote/errorhandler.py\", line 237, in check_response\n",
      "    raise exception_class(message, screen, stacktrace)\n",
      "selenium.common.exceptions.NoSuchElementException: Message: no such element: Unable to locate element: {\"method\":\"class name\",\"selector\":\"linksIntermedios\"}\n",
      "  (Session info: chrome=65.0.3325.181)\n",
      "  (Driver info: chromedriver=2.35.528157 (4429ca2590d6988c0745c24c8858745aaaec01ef),platform=Mac OS X 10.13.3 x86_64)\n",
      "\n"
     ]
    },
    {
     "data": {
      "application/vnd.jupyter.widget-view+json": {
       "model_id": "697c8876d9b0433baacee8cc7738767a",
       "version_major": 2,
       "version_minor": 0
      },
      "text/plain": [
       "A Jupyter Widget"
      ]
     },
     "metadata": {},
     "output_type": "display_data"
    },
    {
     "name": "stdout",
     "output_type": "stream",
     "text": [
      "\n",
      "Hospital Eduardo Pereira de Valparaíso\n",
      "No contract data per_honorarios in http://www.gobiernotransparentechile.cl/directorio/entidad/15/328\n"
     ]
    },
    {
     "name": "stderr",
     "output_type": "stream",
     "text": [
      "Traceback (most recent call last):\n",
      "  File \"./lib/functions.py\", line 109, in getDepartmentData\n",
      "    div_years = browser.find_element_by_class_name(\"linksIntermedios\")\n",
      "  File \"/Users/jaime/anaconda3/lib/python3.6/site-packages/selenium/webdriver/remote/webdriver.py\", line 555, in find_element_by_class_name\n",
      "    return self.find_element(by=By.CLASS_NAME, value=name)\n",
      "  File \"/Users/jaime/anaconda3/lib/python3.6/site-packages/selenium/webdriver/remote/webdriver.py\", line 955, in find_element\n",
      "    'value': value})['value']\n",
      "  File \"/Users/jaime/anaconda3/lib/python3.6/site-packages/selenium/webdriver/remote/webdriver.py\", line 312, in execute\n",
      "    self.error_handler.check_response(response)\n",
      "  File \"/Users/jaime/anaconda3/lib/python3.6/site-packages/selenium/webdriver/remote/errorhandler.py\", line 237, in check_response\n",
      "    raise exception_class(message, screen, stacktrace)\n",
      "selenium.common.exceptions.NoSuchElementException: Message: no such element: Unable to locate element: {\"method\":\"class name\",\"selector\":\"linksIntermedios\"}\n",
      "  (Session info: chrome=65.0.3325.181)\n",
      "  (Driver info: chromedriver=2.35.528157 (4429ca2590d6988c0745c24c8858745aaaec01ef),platform=Mac OS X 10.13.3 x86_64)\n",
      "\n"
     ]
    },
    {
     "data": {
      "application/vnd.jupyter.widget-view+json": {
       "model_id": "15a398508285487598812f428706e243",
       "version_major": 2,
       "version_minor": 0
      },
      "text/plain": [
       "A Jupyter Widget"
      ]
     },
     "metadata": {},
     "output_type": "display_data"
    },
    {
     "name": "stdout",
     "output_type": "stream",
     "text": [
      "\n",
      "Hospital de Quilpué\n",
      "No contract data per_honorarios in http://www.gobiernotransparentechile.cl/directorio/entidad/15/329\n"
     ]
    },
    {
     "name": "stderr",
     "output_type": "stream",
     "text": [
      "Traceback (most recent call last):\n",
      "  File \"./lib/functions.py\", line 109, in getDepartmentData\n",
      "    div_years = browser.find_element_by_class_name(\"linksIntermedios\")\n",
      "  File \"/Users/jaime/anaconda3/lib/python3.6/site-packages/selenium/webdriver/remote/webdriver.py\", line 555, in find_element_by_class_name\n",
      "    return self.find_element(by=By.CLASS_NAME, value=name)\n",
      "  File \"/Users/jaime/anaconda3/lib/python3.6/site-packages/selenium/webdriver/remote/webdriver.py\", line 955, in find_element\n",
      "    'value': value})['value']\n",
      "  File \"/Users/jaime/anaconda3/lib/python3.6/site-packages/selenium/webdriver/remote/webdriver.py\", line 312, in execute\n",
      "    self.error_handler.check_response(response)\n",
      "  File \"/Users/jaime/anaconda3/lib/python3.6/site-packages/selenium/webdriver/remote/errorhandler.py\", line 237, in check_response\n",
      "    raise exception_class(message, screen, stacktrace)\n",
      "selenium.common.exceptions.NoSuchElementException: Message: no such element: Unable to locate element: {\"method\":\"class name\",\"selector\":\"linksIntermedios\"}\n",
      "  (Session info: chrome=65.0.3325.181)\n",
      "  (Driver info: chromedriver=2.35.528157 (4429ca2590d6988c0745c24c8858745aaaec01ef),platform=Mac OS X 10.13.3 x86_64)\n",
      "\n"
     ]
    },
    {
     "data": {
      "application/vnd.jupyter.widget-view+json": {
       "model_id": "6e3e207325864a7489e468f767b37a77",
       "version_major": 2,
       "version_minor": 0
      },
      "text/plain": [
       "A Jupyter Widget"
      ]
     },
     "metadata": {},
     "output_type": "display_data"
    },
    {
     "name": "stdout",
     "output_type": "stream",
     "text": [
      "\n",
      "Hospital Gustavo Fricke\n",
      "No contract data per_honorarios in http://www.gobiernotransparentechile.cl/directorio/entidad/15/330\n"
     ]
    },
    {
     "name": "stderr",
     "output_type": "stream",
     "text": [
      "Traceback (most recent call last):\n",
      "  File \"./lib/functions.py\", line 109, in getDepartmentData\n",
      "    div_years = browser.find_element_by_class_name(\"linksIntermedios\")\n",
      "  File \"/Users/jaime/anaconda3/lib/python3.6/site-packages/selenium/webdriver/remote/webdriver.py\", line 555, in find_element_by_class_name\n",
      "    return self.find_element(by=By.CLASS_NAME, value=name)\n",
      "  File \"/Users/jaime/anaconda3/lib/python3.6/site-packages/selenium/webdriver/remote/webdriver.py\", line 955, in find_element\n",
      "    'value': value})['value']\n",
      "  File \"/Users/jaime/anaconda3/lib/python3.6/site-packages/selenium/webdriver/remote/webdriver.py\", line 312, in execute\n",
      "    self.error_handler.check_response(response)\n",
      "  File \"/Users/jaime/anaconda3/lib/python3.6/site-packages/selenium/webdriver/remote/errorhandler.py\", line 237, in check_response\n",
      "    raise exception_class(message, screen, stacktrace)\n",
      "selenium.common.exceptions.NoSuchElementException: Message: no such element: Unable to locate element: {\"method\":\"class name\",\"selector\":\"linksIntermedios\"}\n",
      "  (Session info: chrome=65.0.3325.181)\n",
      "  (Driver info: chromedriver=2.35.528157 (4429ca2590d6988c0745c24c8858745aaaec01ef),platform=Mac OS X 10.13.3 x86_64)\n",
      "\n"
     ]
    },
    {
     "data": {
      "application/vnd.jupyter.widget-view+json": {
       "model_id": "8a7c507800954b5ba4d33f730f6705ea",
       "version_major": 2,
       "version_minor": 0
      },
      "text/plain": [
       "A Jupyter Widget"
      ]
     },
     "metadata": {},
     "output_type": "display_data"
    },
    {
     "name": "stdout",
     "output_type": "stream",
     "text": [
      "\n",
      "Hospital San Martín de Quillota\n",
      "No contract data per_honorarios in http://www.gobiernotransparentechile.cl/directorio/entidad/15/331\n"
     ]
    },
    {
     "name": "stderr",
     "output_type": "stream",
     "text": [
      "Traceback (most recent call last):\n",
      "  File \"./lib/functions.py\", line 109, in getDepartmentData\n",
      "    div_years = browser.find_element_by_class_name(\"linksIntermedios\")\n",
      "  File \"/Users/jaime/anaconda3/lib/python3.6/site-packages/selenium/webdriver/remote/webdriver.py\", line 555, in find_element_by_class_name\n",
      "    return self.find_element(by=By.CLASS_NAME, value=name)\n",
      "  File \"/Users/jaime/anaconda3/lib/python3.6/site-packages/selenium/webdriver/remote/webdriver.py\", line 955, in find_element\n",
      "    'value': value})['value']\n",
      "  File \"/Users/jaime/anaconda3/lib/python3.6/site-packages/selenium/webdriver/remote/webdriver.py\", line 312, in execute\n",
      "    self.error_handler.check_response(response)\n",
      "  File \"/Users/jaime/anaconda3/lib/python3.6/site-packages/selenium/webdriver/remote/errorhandler.py\", line 237, in check_response\n",
      "    raise exception_class(message, screen, stacktrace)\n",
      "selenium.common.exceptions.NoSuchElementException: Message: no such element: Unable to locate element: {\"method\":\"class name\",\"selector\":\"linksIntermedios\"}\n",
      "  (Session info: chrome=65.0.3325.181)\n",
      "  (Driver info: chromedriver=2.35.528157 (4429ca2590d6988c0745c24c8858745aaaec01ef),platform=Mac OS X 10.13.3 x86_64)\n",
      "\n"
     ]
    },
    {
     "data": {
      "application/vnd.jupyter.widget-view+json": {
       "model_id": "13011aa606dd405d85db6f23a89bfcc9",
       "version_major": 2,
       "version_minor": 0
      },
      "text/plain": [
       "A Jupyter Widget"
      ]
     },
     "metadata": {},
     "output_type": "display_data"
    },
    {
     "name": "stdout",
     "output_type": "stream",
     "text": [
      "\n",
      "Instituto Psiquiátrico\n",
      "No contract data per_honorarios in http://www.gobiernotransparentechile.cl/directorio/entidad/15/332\n"
     ]
    },
    {
     "name": "stderr",
     "output_type": "stream",
     "text": [
      "Traceback (most recent call last):\n",
      "  File \"./lib/functions.py\", line 109, in getDepartmentData\n",
      "    div_years = browser.find_element_by_class_name(\"linksIntermedios\")\n",
      "  File \"/Users/jaime/anaconda3/lib/python3.6/site-packages/selenium/webdriver/remote/webdriver.py\", line 555, in find_element_by_class_name\n",
      "    return self.find_element(by=By.CLASS_NAME, value=name)\n",
      "  File \"/Users/jaime/anaconda3/lib/python3.6/site-packages/selenium/webdriver/remote/webdriver.py\", line 955, in find_element\n",
      "    'value': value})['value']\n",
      "  File \"/Users/jaime/anaconda3/lib/python3.6/site-packages/selenium/webdriver/remote/webdriver.py\", line 312, in execute\n",
      "    self.error_handler.check_response(response)\n",
      "  File \"/Users/jaime/anaconda3/lib/python3.6/site-packages/selenium/webdriver/remote/errorhandler.py\", line 237, in check_response\n",
      "    raise exception_class(message, screen, stacktrace)\n",
      "selenium.common.exceptions.NoSuchElementException: Message: no such element: Unable to locate element: {\"method\":\"class name\",\"selector\":\"linksIntermedios\"}\n",
      "  (Session info: chrome=65.0.3325.181)\n",
      "  (Driver info: chromedriver=2.35.528157 (4429ca2590d6988c0745c24c8858745aaaec01ef),platform=Mac OS X 10.13.3 x86_64)\n",
      "\n"
     ]
    },
    {
     "data": {
      "application/vnd.jupyter.widget-view+json": {
       "model_id": "f8ca228c9b2a422fa4499825f8d6c9e2",
       "version_major": 2,
       "version_minor": 0
      },
      "text/plain": [
       "A Jupyter Widget"
      ]
     },
     "metadata": {},
     "output_type": "display_data"
    },
    {
     "name": "stdout",
     "output_type": "stream",
     "text": [
      "\n",
      "Hospital San Juan de Dios de Los Andes\n",
      "No contract data per_honorarios in http://www.gobiernotransparentechile.cl/directorio/entidad/15/333\n"
     ]
    },
    {
     "name": "stderr",
     "output_type": "stream",
     "text": [
      "Traceback (most recent call last):\n",
      "  File \"./lib/functions.py\", line 109, in getDepartmentData\n",
      "    div_years = browser.find_element_by_class_name(\"linksIntermedios\")\n",
      "  File \"/Users/jaime/anaconda3/lib/python3.6/site-packages/selenium/webdriver/remote/webdriver.py\", line 555, in find_element_by_class_name\n",
      "    return self.find_element(by=By.CLASS_NAME, value=name)\n",
      "  File \"/Users/jaime/anaconda3/lib/python3.6/site-packages/selenium/webdriver/remote/webdriver.py\", line 955, in find_element\n",
      "    'value': value})['value']\n",
      "  File \"/Users/jaime/anaconda3/lib/python3.6/site-packages/selenium/webdriver/remote/webdriver.py\", line 312, in execute\n",
      "    self.error_handler.check_response(response)\n",
      "  File \"/Users/jaime/anaconda3/lib/python3.6/site-packages/selenium/webdriver/remote/errorhandler.py\", line 237, in check_response\n",
      "    raise exception_class(message, screen, stacktrace)\n",
      "selenium.common.exceptions.NoSuchElementException: Message: no such element: Unable to locate element: {\"method\":\"class name\",\"selector\":\"linksIntermedios\"}\n",
      "  (Session info: chrome=65.0.3325.181)\n",
      "  (Driver info: chromedriver=2.35.528157 (4429ca2590d6988c0745c24c8858745aaaec01ef),platform=Mac OS X 10.13.3 x86_64)\n",
      "\n"
     ]
    },
    {
     "data": {
      "application/vnd.jupyter.widget-view+json": {
       "model_id": "5412b3ca336f4beb884ca13329ad423c",
       "version_major": 2,
       "version_minor": 0
      },
      "text/plain": [
       "A Jupyter Widget"
      ]
     },
     "metadata": {},
     "output_type": "display_data"
    },
    {
     "name": "stdout",
     "output_type": "stream",
     "text": [
      "\n",
      "Hospital Exequiel González\n",
      "No contract data per_honorarios in http://www.gobiernotransparentechile.cl/directorio/entidad/15/334\n"
     ]
    },
    {
     "name": "stderr",
     "output_type": "stream",
     "text": [
      "Traceback (most recent call last):\n",
      "  File \"./lib/functions.py\", line 109, in getDepartmentData\n",
      "    div_years = browser.find_element_by_class_name(\"linksIntermedios\")\n",
      "  File \"/Users/jaime/anaconda3/lib/python3.6/site-packages/selenium/webdriver/remote/webdriver.py\", line 555, in find_element_by_class_name\n",
      "    return self.find_element(by=By.CLASS_NAME, value=name)\n",
      "  File \"/Users/jaime/anaconda3/lib/python3.6/site-packages/selenium/webdriver/remote/webdriver.py\", line 955, in find_element\n",
      "    'value': value})['value']\n",
      "  File \"/Users/jaime/anaconda3/lib/python3.6/site-packages/selenium/webdriver/remote/webdriver.py\", line 312, in execute\n",
      "    self.error_handler.check_response(response)\n",
      "  File \"/Users/jaime/anaconda3/lib/python3.6/site-packages/selenium/webdriver/remote/errorhandler.py\", line 237, in check_response\n",
      "    raise exception_class(message, screen, stacktrace)\n",
      "selenium.common.exceptions.NoSuchElementException: Message: no such element: Unable to locate element: {\"method\":\"class name\",\"selector\":\"linksIntermedios\"}\n",
      "  (Session info: chrome=65.0.3325.181)\n",
      "  (Driver info: chromedriver=2.35.528157 (4429ca2590d6988c0745c24c8858745aaaec01ef),platform=Mac OS X 10.13.3 x86_64)\n",
      "\n"
     ]
    },
    {
     "data": {
      "application/vnd.jupyter.widget-view+json": {
       "model_id": "177f8ca6ec1743a58523667c97997a91",
       "version_major": 2,
       "version_minor": 0
      },
      "text/plain": [
       "A Jupyter Widget"
      ]
     },
     "metadata": {},
     "output_type": "display_data"
    },
    {
     "name": "stdout",
     "output_type": "stream",
     "text": [
      "\n",
      "Hospital El Pino\n",
      "No contract data per_honorarios in http://www.gobiernotransparentechile.cl/directorio/entidad/15/335\n"
     ]
    },
    {
     "name": "stderr",
     "output_type": "stream",
     "text": [
      "Traceback (most recent call last):\n",
      "  File \"./lib/functions.py\", line 109, in getDepartmentData\n",
      "    div_years = browser.find_element_by_class_name(\"linksIntermedios\")\n",
      "  File \"/Users/jaime/anaconda3/lib/python3.6/site-packages/selenium/webdriver/remote/webdriver.py\", line 555, in find_element_by_class_name\n",
      "    return self.find_element(by=By.CLASS_NAME, value=name)\n",
      "  File \"/Users/jaime/anaconda3/lib/python3.6/site-packages/selenium/webdriver/remote/webdriver.py\", line 955, in find_element\n",
      "    'value': value})['value']\n",
      "  File \"/Users/jaime/anaconda3/lib/python3.6/site-packages/selenium/webdriver/remote/webdriver.py\", line 312, in execute\n",
      "    self.error_handler.check_response(response)\n",
      "  File \"/Users/jaime/anaconda3/lib/python3.6/site-packages/selenium/webdriver/remote/errorhandler.py\", line 237, in check_response\n",
      "    raise exception_class(message, screen, stacktrace)\n",
      "selenium.common.exceptions.NoSuchElementException: Message: no such element: Unable to locate element: {\"method\":\"class name\",\"selector\":\"linksIntermedios\"}\n",
      "  (Session info: chrome=65.0.3325.181)\n",
      "  (Driver info: chromedriver=2.35.528157 (4429ca2590d6988c0745c24c8858745aaaec01ef),platform=Mac OS X 10.13.3 x86_64)\n",
      "\n"
     ]
    },
    {
     "data": {
      "application/vnd.jupyter.widget-view+json": {
       "model_id": "c2f5d70fe63a4a3daf88687f2cce9ba6",
       "version_major": 2,
       "version_minor": 0
      },
      "text/plain": [
       "A Jupyter Widget"
      ]
     },
     "metadata": {},
     "output_type": "display_data"
    },
    {
     "name": "stdout",
     "output_type": "stream",
     "text": [
      "\n",
      "Hospital Herminda Martin\n",
      "No contract data per_honorarios in http://www.gobiernotransparentechile.cl/directorio/entidad/15/336\n"
     ]
    },
    {
     "name": "stderr",
     "output_type": "stream",
     "text": [
      "Traceback (most recent call last):\n",
      "  File \"./lib/functions.py\", line 109, in getDepartmentData\n",
      "    div_years = browser.find_element_by_class_name(\"linksIntermedios\")\n",
      "  File \"/Users/jaime/anaconda3/lib/python3.6/site-packages/selenium/webdriver/remote/webdriver.py\", line 555, in find_element_by_class_name\n",
      "    return self.find_element(by=By.CLASS_NAME, value=name)\n",
      "  File \"/Users/jaime/anaconda3/lib/python3.6/site-packages/selenium/webdriver/remote/webdriver.py\", line 955, in find_element\n",
      "    'value': value})['value']\n",
      "  File \"/Users/jaime/anaconda3/lib/python3.6/site-packages/selenium/webdriver/remote/webdriver.py\", line 312, in execute\n",
      "    self.error_handler.check_response(response)\n",
      "  File \"/Users/jaime/anaconda3/lib/python3.6/site-packages/selenium/webdriver/remote/errorhandler.py\", line 237, in check_response\n",
      "    raise exception_class(message, screen, stacktrace)\n",
      "selenium.common.exceptions.NoSuchElementException: Message: no such element: Unable to locate element: {\"method\":\"class name\",\"selector\":\"linksIntermedios\"}\n",
      "  (Session info: chrome=65.0.3325.181)\n",
      "  (Driver info: chromedriver=2.35.528157 (4429ca2590d6988c0745c24c8858745aaaec01ef),platform=Mac OS X 10.13.3 x86_64)\n",
      "\n"
     ]
    },
    {
     "data": {
      "application/vnd.jupyter.widget-view+json": {
       "model_id": "c3158f5e9a714d7a933b3f58ad2e6cfc",
       "version_major": 2,
       "version_minor": 0
      },
      "text/plain": [
       "A Jupyter Widget"
      ]
     },
     "metadata": {},
     "output_type": "display_data"
    },
    {
     "name": "stdout",
     "output_type": "stream",
     "text": [
      "\n",
      "Instituto Nacional del Tórax\n",
      "No contract data per_honorarios in http://www.gobiernotransparentechile.cl/directorio/entidad/15/337\n"
     ]
    },
    {
     "name": "stderr",
     "output_type": "stream",
     "text": [
      "Traceback (most recent call last):\n",
      "  File \"./lib/functions.py\", line 109, in getDepartmentData\n",
      "    div_years = browser.find_element_by_class_name(\"linksIntermedios\")\n",
      "  File \"/Users/jaime/anaconda3/lib/python3.6/site-packages/selenium/webdriver/remote/webdriver.py\", line 555, in find_element_by_class_name\n",
      "    return self.find_element(by=By.CLASS_NAME, value=name)\n",
      "  File \"/Users/jaime/anaconda3/lib/python3.6/site-packages/selenium/webdriver/remote/webdriver.py\", line 955, in find_element\n",
      "    'value': value})['value']\n",
      "  File \"/Users/jaime/anaconda3/lib/python3.6/site-packages/selenium/webdriver/remote/webdriver.py\", line 312, in execute\n",
      "    self.error_handler.check_response(response)\n",
      "  File \"/Users/jaime/anaconda3/lib/python3.6/site-packages/selenium/webdriver/remote/errorhandler.py\", line 237, in check_response\n",
      "    raise exception_class(message, screen, stacktrace)\n",
      "selenium.common.exceptions.NoSuchElementException: Message: no such element: Unable to locate element: {\"method\":\"class name\",\"selector\":\"linksIntermedios\"}\n",
      "  (Session info: chrome=65.0.3325.181)\n",
      "  (Driver info: chromedriver=2.35.528157 (4429ca2590d6988c0745c24c8858745aaaec01ef),platform=Mac OS X 10.13.3 x86_64)\n",
      "\n"
     ]
    },
    {
     "data": {
      "application/vnd.jupyter.widget-view+json": {
       "model_id": "f37a7c2ff9ab42bd8f3802fd5f573086",
       "version_major": 2,
       "version_minor": 0
      },
      "text/plain": [
       "A Jupyter Widget"
      ]
     },
     "metadata": {},
     "output_type": "display_data"
    },
    {
     "name": "stdout",
     "output_type": "stream",
     "text": [
      "\n",
      "Hospital Luis Tisné\n",
      "No contract data per_honorarios in http://www.gobiernotransparentechile.cl/directorio/entidad/15/338\n"
     ]
    },
    {
     "name": "stderr",
     "output_type": "stream",
     "text": [
      "Traceback (most recent call last):\n",
      "  File \"./lib/functions.py\", line 109, in getDepartmentData\n",
      "    div_years = browser.find_element_by_class_name(\"linksIntermedios\")\n",
      "  File \"/Users/jaime/anaconda3/lib/python3.6/site-packages/selenium/webdriver/remote/webdriver.py\", line 555, in find_element_by_class_name\n",
      "    return self.find_element(by=By.CLASS_NAME, value=name)\n",
      "  File \"/Users/jaime/anaconda3/lib/python3.6/site-packages/selenium/webdriver/remote/webdriver.py\", line 955, in find_element\n",
      "    'value': value})['value']\n",
      "  File \"/Users/jaime/anaconda3/lib/python3.6/site-packages/selenium/webdriver/remote/webdriver.py\", line 312, in execute\n",
      "    self.error_handler.check_response(response)\n",
      "  File \"/Users/jaime/anaconda3/lib/python3.6/site-packages/selenium/webdriver/remote/errorhandler.py\", line 237, in check_response\n",
      "    raise exception_class(message, screen, stacktrace)\n",
      "selenium.common.exceptions.NoSuchElementException: Message: no such element: Unable to locate element: {\"method\":\"class name\",\"selector\":\"linksIntermedios\"}\n",
      "  (Session info: chrome=65.0.3325.181)\n",
      "  (Driver info: chromedriver=2.35.528157 (4429ca2590d6988c0745c24c8858745aaaec01ef),platform=Mac OS X 10.13.3 x86_64)\n",
      "\n"
     ]
    },
    {
     "data": {
      "application/vnd.jupyter.widget-view+json": {
       "model_id": "66e9cc19ae754c7fad7ac09d55bd912a",
       "version_major": 2,
       "version_minor": 0
      },
      "text/plain": [
       "A Jupyter Widget"
      ]
     },
     "metadata": {},
     "output_type": "display_data"
    },
    {
     "name": "stdout",
     "output_type": "stream",
     "text": [
      "\n",
      "Instituto Traumatológico\n",
      "No contract data per_honorarios in http://www.gobiernotransparentechile.cl/directorio/entidad/15/339\n"
     ]
    },
    {
     "name": "stderr",
     "output_type": "stream",
     "text": [
      "Traceback (most recent call last):\n",
      "  File \"./lib/functions.py\", line 109, in getDepartmentData\n",
      "    div_years = browser.find_element_by_class_name(\"linksIntermedios\")\n",
      "  File \"/Users/jaime/anaconda3/lib/python3.6/site-packages/selenium/webdriver/remote/webdriver.py\", line 555, in find_element_by_class_name\n",
      "    return self.find_element(by=By.CLASS_NAME, value=name)\n",
      "  File \"/Users/jaime/anaconda3/lib/python3.6/site-packages/selenium/webdriver/remote/webdriver.py\", line 955, in find_element\n",
      "    'value': value})['value']\n",
      "  File \"/Users/jaime/anaconda3/lib/python3.6/site-packages/selenium/webdriver/remote/webdriver.py\", line 312, in execute\n",
      "    self.error_handler.check_response(response)\n",
      "  File \"/Users/jaime/anaconda3/lib/python3.6/site-packages/selenium/webdriver/remote/errorhandler.py\", line 237, in check_response\n",
      "    raise exception_class(message, screen, stacktrace)\n",
      "selenium.common.exceptions.NoSuchElementException: Message: no such element: Unable to locate element: {\"method\":\"class name\",\"selector\":\"linksIntermedios\"}\n",
      "  (Session info: chrome=65.0.3325.181)\n",
      "  (Driver info: chromedriver=2.35.528157 (4429ca2590d6988c0745c24c8858745aaaec01ef),platform=Mac OS X 10.13.3 x86_64)\n",
      "\n"
     ]
    },
    {
     "data": {
      "application/vnd.jupyter.widget-view+json": {
       "model_id": "ed8494b1310e476eacb7e8f893f4e890",
       "version_major": 2,
       "version_minor": 0
      },
      "text/plain": [
       "A Jupyter Widget"
      ]
     },
     "metadata": {},
     "output_type": "display_data"
    },
    {
     "name": "stdout",
     "output_type": "stream",
     "text": [
      "\n",
      "Instituto Nacional del Cáncer\n",
      "No contract data per_honorarios in http://www.gobiernotransparentechile.cl/directorio/entidad/15/340\n"
     ]
    },
    {
     "name": "stderr",
     "output_type": "stream",
     "text": [
      "Traceback (most recent call last):\n",
      "  File \"./lib/functions.py\", line 109, in getDepartmentData\n",
      "    div_years = browser.find_element_by_class_name(\"linksIntermedios\")\n",
      "  File \"/Users/jaime/anaconda3/lib/python3.6/site-packages/selenium/webdriver/remote/webdriver.py\", line 555, in find_element_by_class_name\n",
      "    return self.find_element(by=By.CLASS_NAME, value=name)\n",
      "  File \"/Users/jaime/anaconda3/lib/python3.6/site-packages/selenium/webdriver/remote/webdriver.py\", line 955, in find_element\n",
      "    'value': value})['value']\n",
      "  File \"/Users/jaime/anaconda3/lib/python3.6/site-packages/selenium/webdriver/remote/webdriver.py\", line 312, in execute\n",
      "    self.error_handler.check_response(response)\n",
      "  File \"/Users/jaime/anaconda3/lib/python3.6/site-packages/selenium/webdriver/remote/errorhandler.py\", line 237, in check_response\n",
      "    raise exception_class(message, screen, stacktrace)\n",
      "selenium.common.exceptions.NoSuchElementException: Message: no such element: Unable to locate element: {\"method\":\"class name\",\"selector\":\"linksIntermedios\"}\n",
      "  (Session info: chrome=65.0.3325.181)\n",
      "  (Driver info: chromedriver=2.35.528157 (4429ca2590d6988c0745c24c8858745aaaec01ef),platform=Mac OS X 10.13.3 x86_64)\n",
      "\n"
     ]
    },
    {
     "data": {
      "application/vnd.jupyter.widget-view+json": {
       "model_id": "62ad88ed0f014c33a9136162a5ee1b88",
       "version_major": 2,
       "version_minor": 0
      },
      "text/plain": [
       "A Jupyter Widget"
      ]
     },
     "metadata": {},
     "output_type": "display_data"
    },
    {
     "name": "stdout",
     "output_type": "stream",
     "text": [
      "\n",
      "Hospital Luis Calvo Mackenna\n",
      "No contract data per_honorarios in http://www.gobiernotransparentechile.cl/directorio/entidad/15/341\n"
     ]
    },
    {
     "name": "stderr",
     "output_type": "stream",
     "text": [
      "Traceback (most recent call last):\n",
      "  File \"./lib/functions.py\", line 109, in getDepartmentData\n",
      "    div_years = browser.find_element_by_class_name(\"linksIntermedios\")\n",
      "  File \"/Users/jaime/anaconda3/lib/python3.6/site-packages/selenium/webdriver/remote/webdriver.py\", line 555, in find_element_by_class_name\n",
      "    return self.find_element(by=By.CLASS_NAME, value=name)\n",
      "  File \"/Users/jaime/anaconda3/lib/python3.6/site-packages/selenium/webdriver/remote/webdriver.py\", line 955, in find_element\n",
      "    'value': value})['value']\n",
      "  File \"/Users/jaime/anaconda3/lib/python3.6/site-packages/selenium/webdriver/remote/webdriver.py\", line 312, in execute\n",
      "    self.error_handler.check_response(response)\n",
      "  File \"/Users/jaime/anaconda3/lib/python3.6/site-packages/selenium/webdriver/remote/errorhandler.py\", line 237, in check_response\n",
      "    raise exception_class(message, screen, stacktrace)\n",
      "selenium.common.exceptions.NoSuchElementException: Message: no such element: Unable to locate element: {\"method\":\"class name\",\"selector\":\"linksIntermedios\"}\n",
      "  (Session info: chrome=65.0.3325.181)\n",
      "  (Driver info: chromedriver=2.35.528157 (4429ca2590d6988c0745c24c8858745aaaec01ef),platform=Mac OS X 10.13.3 x86_64)\n",
      "\n"
     ]
    },
    {
     "data": {
      "application/vnd.jupyter.widget-view+json": {
       "model_id": "7863b9c60f8e42389e63b1190c4ed436",
       "version_major": 2,
       "version_minor": 0
      },
      "text/plain": [
       "A Jupyter Widget"
      ]
     },
     "metadata": {},
     "output_type": "display_data"
    },
    {
     "name": "stdout",
     "output_type": "stream",
     "text": [
      "\n",
      "Hospital Dr. Hernán Henríquez Aravena de Temuco\n",
      "No contract data per_honorarios in http://www.gobiernotransparentechile.cl/directorio/entidad/15/342\n"
     ]
    },
    {
     "name": "stderr",
     "output_type": "stream",
     "text": [
      "Traceback (most recent call last):\n",
      "  File \"./lib/functions.py\", line 109, in getDepartmentData\n",
      "    div_years = browser.find_element_by_class_name(\"linksIntermedios\")\n",
      "  File \"/Users/jaime/anaconda3/lib/python3.6/site-packages/selenium/webdriver/remote/webdriver.py\", line 555, in find_element_by_class_name\n",
      "    return self.find_element(by=By.CLASS_NAME, value=name)\n",
      "  File \"/Users/jaime/anaconda3/lib/python3.6/site-packages/selenium/webdriver/remote/webdriver.py\", line 955, in find_element\n",
      "    'value': value})['value']\n",
      "  File \"/Users/jaime/anaconda3/lib/python3.6/site-packages/selenium/webdriver/remote/webdriver.py\", line 312, in execute\n",
      "    self.error_handler.check_response(response)\n",
      "  File \"/Users/jaime/anaconda3/lib/python3.6/site-packages/selenium/webdriver/remote/errorhandler.py\", line 237, in check_response\n",
      "    raise exception_class(message, screen, stacktrace)\n",
      "selenium.common.exceptions.NoSuchElementException: Message: no such element: Unable to locate element: {\"method\":\"class name\",\"selector\":\"linksIntermedios\"}\n",
      "  (Session info: chrome=65.0.3325.181)\n",
      "  (Driver info: chromedriver=2.35.528157 (4429ca2590d6988c0745c24c8858745aaaec01ef),platform=Mac OS X 10.13.3 x86_64)\n",
      "\n"
     ]
    },
    {
     "data": {
      "application/vnd.jupyter.widget-view+json": {
       "model_id": "d25e0436dc774b27aa53f00958dd9ae7",
       "version_major": 2,
       "version_minor": 0
      },
      "text/plain": [
       "A Jupyter Widget"
      ]
     },
     "metadata": {},
     "output_type": "display_data"
    },
    {
     "name": "stdout",
     "output_type": "stream",
     "text": [
      "\n",
      "Ministerio de Vivienda y Urbanismo\n",
      "Subsecretaría de Vivienda y Urbanismo\n"
     ]
    },
    {
     "data": {
      "application/vnd.jupyter.widget-view+json": {
       "model_id": "ec6bdf3fbf10470a8e868527f40c2ebe",
       "version_major": 2,
       "version_minor": 0
      },
      "text/plain": [
       "A Jupyter Widget"
      ]
     },
     "metadata": {},
     "output_type": "display_data"
    },
    {
     "name": "stdout",
     "output_type": "stream",
     "text": [
      "per_honorarios Diciembre\n",
      "per_honorarios Noviembre\n",
      "per_honorarios Octubre\n",
      "per_honorarios Septiembre\n",
      "per_honorarios Agosto\n",
      "per_honorarios Julio\n",
      "per_honorarios Junio\n",
      "per_honorarios Mayo\n",
      "per_honorarios Abril\n",
      "per_honorarios Marzo\n",
      "per_honorarios Febrero\n",
      "per_honorarios Enero\n",
      "per_honorarios Año 2015\n",
      "per_honorarios Año 2014\n",
      "per_honorarios Año 2013\n",
      "per_honorarios Año 2012\n",
      "could not get breadcrumbs from http://www.gobiernotransparentechile.cl/directorio/entidad/16/245/per_honorarios/A%C3%B1o%202012/Mayo?x=0&y=0&page_number=2&sort=id&direction=asc\n",
      "could not get breadcrumbs from http://www.gobiernotransparentechile.cl/directorio/entidad/16/245/per_honorarios/A%C3%B1o%202012/Agosto?x=0&y=0&page_number=4&sort=id&direction=asc\n",
      "per_honorarios Año 2011\n",
      "per_honorarios Año 2010\n",
      "per_honorarios Año 2009\n",
      "per_honorarios Año 2008\n",
      "per_honorarios Año 2007\n",
      "per_honorarios Año 2006\n",
      "\n",
      "SERVIU I Región\n"
     ]
    },
    {
     "data": {
      "application/vnd.jupyter.widget-view+json": {
       "model_id": "577a80512dff4c86abdcbb82e6e79837",
       "version_major": 2,
       "version_minor": 0
      },
      "text/plain": [
       "A Jupyter Widget"
      ]
     },
     "metadata": {},
     "output_type": "display_data"
    },
    {
     "name": "stdout",
     "output_type": "stream",
     "text": [
      "per_honorarios Año 2016\n",
      "could not get breadcrumbs from http://tarapaca.serviu.cl/transparencia/archivos/2016/honorarios2016.html\n",
      "per_honorarios Año 2015\n",
      "could not get breadcrumbs from http://tarapaca.serviu.cl/transparencia/archivos/2015/honorarios2015.html\n",
      "per_honorarios Año 2014\n",
      "could not get breadcrumbs from http://tarapaca.serviu.cl/transparencia/archivos/2014/honorarios2014.html\n",
      "per_honorarios Año 2013\n",
      "could not get breadcrumbs from http://tarapaca.serviu.cl/transparencia/archivos/2013/honorarios2013.html\n",
      "per_honorarios Año 2012\n",
      "could not get breadcrumbs from http://tarapaca.serviu.cl/transparencia/archivos/2012/honorarios2012.html\n",
      "per_honorarios Año 2011\n",
      "could not get breadcrumbs from http://tarapaca.serviu.cl/transparencia/archivos/2011/honorarios2011.html\n",
      "per_honorarios Año 2010\n",
      "could not get breadcrumbs from http://tarapaca.serviu.cl/transparencia/archivos/2010/honorarios2010.html\n",
      "per_honorarios Año 2009\n",
      "could not get breadcrumbs from http://tarapaca.serviu.cl/transparencia/archivos/2009/honorarios2009.html\n",
      "per_honorarios Año 2008\n",
      "could not get breadcrumbs from http://tarapaca.serviu.cl/transparencia/archivos/2008/honorarios2008.htm\n",
      "per_honorarios Año 2007\n",
      "could not get breadcrumbs from http://tarapaca.serviu.cl/transparencia/archivos/2007/honorarios2007.htm\n",
      "per_honorarios Año 2006\n",
      "could not get breadcrumbs from http://tarapaca.serviu.cl/transparencia/archivos/2006/honorarios2006.htm\n",
      "\n",
      "SERVIU II Región\n"
     ]
    },
    {
     "data": {
      "application/vnd.jupyter.widget-view+json": {
       "model_id": "a75a1cd0556f41209c600d3fdd98fe81",
       "version_major": 2,
       "version_minor": 0
      },
      "text/plain": [
       "A Jupyter Widget"
      ]
     },
     "metadata": {},
     "output_type": "display_data"
    },
    {
     "name": "stdout",
     "output_type": "stream",
     "text": [
      "per_honorarios Año 2017\n",
      "could not get breadcrumbs from http://www.serviuantofagasta.cl/transparencia/honorarios201703.html\n",
      "per_honorarios Año 2016\n",
      "could not get breadcrumbs from http://www.serviuantofagasta.cl/transparencia/honorarios20160104.html\n",
      "per_honorarios Año 2015\n",
      "could not get breadcrumbs from http://www.serviuantofagasta.cl/transparencia/honorarios2015.html\n",
      "per_honorarios Año 2014\n",
      "could not get breadcrumbs from http://www.serviuantofagasta.cl/transparencia/honorarios2014.html\n",
      "per_honorarios Año 2013\n",
      "could not get breadcrumbs from http://www.serviuantofagasta.cl/transparencia/honorarios2013.html\n",
      "per_honorarios Año 2012\n",
      "could not get breadcrumbs from http://www.serviuantofagasta.cl/transparencia/honorarios2012.html\n",
      "per_honorarios Año 2011\n",
      "could not get breadcrumbs from http://www.serviuantofagasta.cl/transparencia/honorarios2011.html\n",
      "per_honorarios Año 2010\n",
      "could not get breadcrumbs from http://www.serviuantofagasta.cl/transparencia/honorarios2010.html\n",
      "per_honorarios Año 2009\n",
      "could not get breadcrumbs from http://www.serviuantofagasta.cl/transparencia/honorarios2009.html\n",
      "per_honorarios Año 2008\n",
      "could not get breadcrumbs from http://www.serviuantofagasta.cl/transparencia/honorarios2008.html\n",
      "per_honorarios Año 2007\n",
      "could not get breadcrumbs from http://www.serviuantofagasta.cl/transparencia/honorarios2007.html\n",
      "per_honorarios Año 2006\n",
      "could not get breadcrumbs from http://www.serviuantofagasta.cl/transparencia/honorarios2006.html\n",
      "\n",
      "SERVIU III Región\n"
     ]
    },
    {
     "data": {
      "application/vnd.jupyter.widget-view+json": {
       "model_id": "bedad6ecf3304434af20d7ac120e5bed",
       "version_major": 2,
       "version_minor": 0
      },
      "text/plain": [
       "A Jupyter Widget"
      ]
     },
     "metadata": {},
     "output_type": "display_data"
    },
    {
     "name": "stdout",
     "output_type": "stream",
     "text": [
      "per_honorarios Año 2016\n",
      "per_honorarios Año 2015\n",
      "per_honorarios Año 2014\n",
      "per_honorarios Año 2013\n",
      "per_honorarios Año 2012\n",
      "per_honorarios Año 2011\n",
      "per_honorarios Año 2010\n",
      "per_honorarios Año 2009\n",
      "per_honorarios Año 2008\n",
      "per_honorarios Año 2007\n",
      "per_honorarios Año 2006\n",
      "per_honorarios Año 2017\n",
      "\n",
      "SERVIU IV Región\n"
     ]
    },
    {
     "data": {
      "application/vnd.jupyter.widget-view+json": {
       "model_id": "9eb2c09c22334cb0987d148719e5ba4f",
       "version_major": 2,
       "version_minor": 0
      },
      "text/plain": [
       "A Jupyter Widget"
      ]
     },
     "metadata": {},
     "output_type": "display_data"
    },
    {
     "name": "stdout",
     "output_type": "stream",
     "text": [
      "per_honorarios Año 2016\n",
      "could not get breadcrumbs from http://www.serviu4.cl/transparenciaactiva/2016/honorariosmensual/per_honorarios_abril.html\n",
      "per_honorarios Año 2015\n",
      "could not get breadcrumbs from http://www.serviu4.cl/transparenciaactiva/2015/per_honorarios.html\n",
      "per_honorarios Año 2014\n",
      "could not get breadcrumbs from http://www.serviu4.cl/transparenciaactiva/2014/per_honorarios.html\n",
      "per_honorarios Año 2013\n",
      "could not get breadcrumbs from http://www.serviu4.cl/transparenciaactiva/2013/per_honorarios.html\n",
      "per_honorarios Año 2012\n",
      "could not get breadcrumbs from http://www.serviu4.cl/transparenciaactiva/2012/per_honorarios.html\n",
      "per_honorarios Año 2011\n",
      "could not get breadcrumbs from http://www.serviu4.cl/transparenciaactiva/2011/per_honorarios.html\n",
      "per_honorarios Año 2010\n",
      "could not get breadcrumbs from http://www.serviu4.cl/transparenciaactiva/2010/per_honorarios.html\n",
      "per_honorarios Año 2009\n",
      "could not get breadcrumbs from http://www.serviu4.cl/transparenciaactiva/2009/per_honorarios.html\n",
      "per_honorarios Año 2008\n",
      "could not get breadcrumbs from http://www.serviu4.cl/transparenciaactiva/2008/per_honorarios.html\n",
      "per_honorarios Año 2007\n",
      "could not get breadcrumbs from http://www.serviu4.cl/transparenciaactiva/2007/per_honorarios.html\n",
      "per_honorarios Año 2006\n",
      "could not get breadcrumbs from http://www.serviu4.cl/transparenciaactiva/2006/per_honorarios.html\n",
      "\n",
      "SERVIU V Región\n"
     ]
    },
    {
     "data": {
      "application/vnd.jupyter.widget-view+json": {
       "model_id": "0de97cc62e6b4560a2798b3830154520",
       "version_major": 2,
       "version_minor": 0
      },
      "text/plain": [
       "A Jupyter Widget"
      ]
     },
     "metadata": {},
     "output_type": "display_data"
    },
    {
     "name": "stdout",
     "output_type": "stream",
     "text": [
      "per_honorarios Año 2017\n",
      "per_honorarios Año 2016\n",
      "per_honorarios Año 2015\n",
      "per_honorarios Año 2014\n",
      "per_honorarios Año 2013\n",
      "per_honorarios Año 2012\n",
      "per_honorarios Año 2011\n",
      "per_honorarios Año 2010\n",
      "per_honorarios Año 2009\n",
      "per_honorarios Año 2008\n",
      "could not get breadcrumbs from http://transparencia.valparaiso.minvu.cl/serviuvalpo/2008/per_honorarios.html\n",
      "per_honorarios Año 2007\n",
      "could not get breadcrumbs from http://transparencia.valparaiso.minvu.cl/serviuvalpo/2007/per_honorarios.html\n",
      "per_honorarios Año 2006\n",
      "\n",
      "SERVIU RM\n"
     ]
    },
    {
     "data": {
      "application/vnd.jupyter.widget-view+json": {
       "model_id": "f82018a05c05425d8eb29a558a079bae",
       "version_major": 2,
       "version_minor": 0
      },
      "text/plain": [
       "A Jupyter Widget"
      ]
     },
     "metadata": {},
     "output_type": "display_data"
    },
    {
     "name": "stdout",
     "output_type": "stream",
     "text": [
      "per_honorarios A�o 2017\n",
      "per_honorarios A�o 2016\n",
      "per_honorarios A�o 2015\n",
      "per_honorarios A�o 2014\n",
      "per_honorarios A�o 2013\n",
      "per_honorarios A�o 2012\n",
      "per_honorarios A�o 2011\n",
      "per_honorarios A�o 2010\n",
      "per_honorarios A�o 2009\n",
      "per_honorarios Año 2008\n",
      "per_honorarios Año 2007\n",
      "per_honorarios Año 2006\n",
      "\n",
      "SERVIU VI Región\n",
      "No contract data per_honorarios in http://www.gobiernotransparentechile.cl/directorio/entidad/16/252\n"
     ]
    },
    {
     "name": "stderr",
     "output_type": "stream",
     "text": [
      "Traceback (most recent call last):\n",
      "  File \"./lib/functions.py\", line 109, in getDepartmentData\n",
      "    div_years = browser.find_element_by_class_name(\"linksIntermedios\")\n",
      "  File \"/Users/jaime/anaconda3/lib/python3.6/site-packages/selenium/webdriver/remote/webdriver.py\", line 555, in find_element_by_class_name\n",
      "    return self.find_element(by=By.CLASS_NAME, value=name)\n",
      "  File \"/Users/jaime/anaconda3/lib/python3.6/site-packages/selenium/webdriver/remote/webdriver.py\", line 955, in find_element\n",
      "    'value': value})['value']\n",
      "  File \"/Users/jaime/anaconda3/lib/python3.6/site-packages/selenium/webdriver/remote/webdriver.py\", line 312, in execute\n",
      "    self.error_handler.check_response(response)\n",
      "  File \"/Users/jaime/anaconda3/lib/python3.6/site-packages/selenium/webdriver/remote/errorhandler.py\", line 237, in check_response\n",
      "    raise exception_class(message, screen, stacktrace)\n",
      "selenium.common.exceptions.NoSuchElementException: Message: no such element: Unable to locate element: {\"method\":\"class name\",\"selector\":\"linksIntermedios\"}\n",
      "  (Session info: chrome=65.0.3325.181)\n",
      "  (Driver info: chromedriver=2.35.528157 (4429ca2590d6988c0745c24c8858745aaaec01ef),platform=Mac OS X 10.13.3 x86_64)\n",
      "\n"
     ]
    },
    {
     "data": {
      "application/vnd.jupyter.widget-view+json": {
       "model_id": "1efbe87c7ff04ae0a7f9e4d7be737b4f",
       "version_major": 2,
       "version_minor": 0
      },
      "text/plain": [
       "A Jupyter Widget"
      ]
     },
     "metadata": {},
     "output_type": "display_data"
    },
    {
     "name": "stdout",
     "output_type": "stream",
     "text": [
      "\n",
      "SERVIU VII Región\n"
     ]
    },
    {
     "data": {
      "application/vnd.jupyter.widget-view+json": {
       "model_id": "a1c30bf4e0d6496797fe31a2454a27f0",
       "version_major": 2,
       "version_minor": 0
      },
      "text/plain": [
       "A Jupyter Widget"
      ]
     },
     "metadata": {},
     "output_type": "display_data"
    },
    {
     "name": "stdout",
     "output_type": "stream",
     "text": [
      "per_honorarios Año 2017\n",
      "per_honorarios Año 2008\n",
      "per_honorarios Año 2007\n",
      "per_honorarios Año 2006\n",
      "per_honorarios Año 2016\n",
      "per_honorarios Año 2015\n",
      "per_honorarios Año 2014\n",
      "per_honorarios Año 2013\n",
      "per_honorarios Año 2012\n",
      "per_honorarios Año 2011\n",
      "per_honorarios Año 2010\n",
      "per_honorarios Año 2009\n",
      "\n",
      "SERVIU VIII Región\n"
     ]
    },
    {
     "data": {
      "application/vnd.jupyter.widget-view+json": {
       "model_id": "a8a7974a09fc40e28e9d4e0943184215",
       "version_major": 2,
       "version_minor": 0
      },
      "text/plain": [
       "A Jupyter Widget"
      ]
     },
     "metadata": {},
     "output_type": "display_data"
    },
    {
     "name": "stdout",
     "output_type": "stream",
     "text": [
      "per_honorarios Año 2017\n",
      "per_honorarios Año 2016\n",
      "per_honorarios Año 2015\n",
      "per_honorarios Año 2014\n",
      "per_honorarios Año 2013\n",
      "per_honorarios Año 2012\n",
      "per_honorarios Año 2011\n",
      "per_honorarios Año 2010\n",
      "per_honorarios Año 2009\n",
      "\n",
      "SERVIU IX Región\n"
     ]
    },
    {
     "data": {
      "application/vnd.jupyter.widget-view+json": {
       "model_id": "05a33cac861741258ef27c635c439433",
       "version_major": 2,
       "version_minor": 0
      },
      "text/plain": [
       "A Jupyter Widget"
      ]
     },
     "metadata": {},
     "output_type": "display_data"
    },
    {
     "name": "stdout",
     "output_type": "stream",
     "text": [
      "per_honorarios Año 2010\n",
      "could not get breadcrumbs from http://www.serviuaraucania.cl/transparencia/Historicos/2010/Diciembre/per_honorarios.html\n",
      "per_honorarios Año 2009\n",
      "could not get breadcrumbs from http://www.serviuaraucania.cl/transparencia/Historicos/2009/Diciembre/per_honorarios.html\n",
      "per_honorarios Año 2016\n",
      "could not get breadcrumbs from http://www.serviuaraucania.cl/transparencia/2016/per_honorarios.html\n",
      "per_honorarios Año 2015\n",
      "could not get breadcrumbs from http://www.serviuaraucania.cl/transparencia/2015/per_honorarios.html\n",
      "per_honorarios Año 2014\n",
      "could not get breadcrumbs from http://www.serviuaraucania.cl/transparencia/2014/per_honorarios.html\n",
      "per_honorarios Año 2013\n",
      "could not get breadcrumbs from http://www.serviuaraucania.cl/transparencia/2013/per_honorarios.html\n",
      "per_honorarios Año 2012\n",
      "could not get breadcrumbs from http://www.serviuaraucania.cl/transparencia/2012/per_honorarios.html\n",
      "per_honorarios Año 2011\n",
      "could not get breadcrumbs from http://www.serviuaraucania.cl/transparencia/2011/per_honorarios.html\n",
      "\n",
      "SERVIU X Región\n"
     ]
    },
    {
     "data": {
      "application/vnd.jupyter.widget-view+json": {
       "model_id": "c10b946919a5429495dc5dabbb0a0177",
       "version_major": 2,
       "version_minor": 0
      },
      "text/plain": [
       "A Jupyter Widget"
      ]
     },
     "metadata": {},
     "output_type": "display_data"
    },
    {
     "name": "stdout",
     "output_type": "stream",
     "text": [
      "per_honorarios Año 2017\n",
      "per_honorarios Año 2016\n",
      "per_honorarios Año 2015\n",
      "per_honorarios Año 2014\n",
      "per_honorarios Año 2013\n",
      "per_honorarios Año 2012\n",
      "per_honorarios Año 2011\n",
      "per_honorarios Año 2010\n",
      "\n",
      "SERVIU XI Región\n"
     ]
    },
    {
     "data": {
      "application/vnd.jupyter.widget-view+json": {
       "model_id": "c12a54a91c59406197a11ce677f84d1f",
       "version_major": 2,
       "version_minor": 0
      },
      "text/plain": [
       "A Jupyter Widget"
      ]
     },
     "metadata": {},
     "output_type": "display_data"
    },
    {
     "name": "stdout",
     "output_type": "stream",
     "text": [
      "per_honorarios Año 2007\n",
      "per_honorarios Año 2008\n",
      "per_honorarios Año 2006\n",
      "per_honorarios Año 2009\n",
      "per_honorarios Año 2017\n",
      "per_honorarios Año 2016\n",
      "per_honorarios Año 2015\n",
      "per_honorarios Año 2014\n",
      "per_honorarios Año 2013\n",
      "per_honorarios Año 2011\n",
      "per_honorarios Año 2010\n",
      "per_honorarios Año 2012\n",
      "could not get breadcrumbs from http://xi.serviu.cl/2012/historico/honorarios_enero.html\n",
      "\n",
      "SERVIU XII Región\n",
      "No contract data per_honorarios in http://www.gobiernotransparentechile.cl/directorio/entidad/16/258\n"
     ]
    },
    {
     "name": "stderr",
     "output_type": "stream",
     "text": [
      "Traceback (most recent call last):\n",
      "  File \"./lib/functions.py\", line 109, in getDepartmentData\n",
      "    div_years = browser.find_element_by_class_name(\"linksIntermedios\")\n",
      "  File \"/Users/jaime/anaconda3/lib/python3.6/site-packages/selenium/webdriver/remote/webdriver.py\", line 555, in find_element_by_class_name\n",
      "    return self.find_element(by=By.CLASS_NAME, value=name)\n",
      "  File \"/Users/jaime/anaconda3/lib/python3.6/site-packages/selenium/webdriver/remote/webdriver.py\", line 955, in find_element\n",
      "    'value': value})['value']\n",
      "  File \"/Users/jaime/anaconda3/lib/python3.6/site-packages/selenium/webdriver/remote/webdriver.py\", line 312, in execute\n",
      "    self.error_handler.check_response(response)\n",
      "  File \"/Users/jaime/anaconda3/lib/python3.6/site-packages/selenium/webdriver/remote/errorhandler.py\", line 237, in check_response\n",
      "    raise exception_class(message, screen, stacktrace)\n",
      "selenium.common.exceptions.NoSuchElementException: Message: no such element: Unable to locate element: {\"method\":\"class name\",\"selector\":\"linksIntermedios\"}\n",
      "  (Session info: chrome=65.0.3325.181)\n",
      "  (Driver info: chromedriver=2.35.528157 (4429ca2590d6988c0745c24c8858745aaaec01ef),platform=Mac OS X 10.13.3 x86_64)\n",
      "\n"
     ]
    },
    {
     "data": {
      "application/vnd.jupyter.widget-view+json": {
       "model_id": "d96f7934152643fcba1815b76b74851d",
       "version_major": 2,
       "version_minor": 0
      },
      "text/plain": [
       "A Jupyter Widget"
      ]
     },
     "metadata": {},
     "output_type": "display_data"
    },
    {
     "name": "stdout",
     "output_type": "stream",
     "text": [
      "\n",
      "SERVIU Región de Los Ríos\n"
     ]
    },
    {
     "data": {
      "application/vnd.jupyter.widget-view+json": {
       "model_id": "1e130274d92f4c3da29dfb69c517eb49",
       "version_major": 2,
       "version_minor": 0
      },
      "text/plain": [
       "A Jupyter Widget"
      ]
     },
     "metadata": {},
     "output_type": "display_data"
    },
    {
     "name": "stdout",
     "output_type": "stream",
     "text": [
      "per_honorarios Año 2017\n",
      "per_honorarios Año 2012\n",
      "per_honorarios Año 2011\n",
      "per_honorarios Año 2010\n",
      "per_honorarios Año 2009\n",
      "per_honorarios Año 2016\n",
      "per_honorarios Año 2015\n",
      "per_honorarios Año 2014\n",
      "per_honorarios Año 2013\n",
      "\n",
      "SERVIU Arica y Parinacota\n"
     ]
    },
    {
     "data": {
      "application/vnd.jupyter.widget-view+json": {
       "model_id": "1858964cbf79490aa08290e29e72466b",
       "version_major": 2,
       "version_minor": 0
      },
      "text/plain": [
       "A Jupyter Widget"
      ]
     },
     "metadata": {},
     "output_type": "display_data"
    },
    {
     "name": "stdout",
     "output_type": "stream",
     "text": [
      "per_honorarios Año 2017\n",
      "per_honorarios Año 2016\n",
      "per_honorarios Año 2015\n",
      "per_honorarios Año 2014\n",
      "per_honorarios Año 2013\n",
      "per_honorarios Año 2012\n",
      "per_honorarios Año 2011\n",
      "per_honorarios Año 2010\n",
      "per_honorarios Año 2009\n",
      "\n",
      "Parque Metropolitano de Santiago\n"
     ]
    },
    {
     "data": {
      "application/vnd.jupyter.widget-view+json": {
       "model_id": "9d8b2578c8f8415493129da333aafaaa",
       "version_major": 2,
       "version_minor": 0
      },
      "text/plain": [
       "A Jupyter Widget"
      ]
     },
     "metadata": {},
     "output_type": "display_data"
    },
    {
     "name": "stdout",
     "output_type": "stream",
     "text": [
      "per_honorarios A�o 2018\n",
      "could not get breadcrumbs from http://www.parquemet.gob.cl/transparencia/2018/01_enero/per_honorarios.html\n",
      "per_honorarios A�o 2017\n",
      "could not get breadcrumbs from http://www.parquemet.gob.cl/transparencia/2017/01_enero/per_honorarios.html\n",
      "per_honorarios A�o 2016\n",
      "could not get breadcrumbs from http://www.parquemet.gob.cl/transparencia/2016/01_enero/per_honorarios.html\n",
      "per_honorarios A�o 2015\n",
      "could not get breadcrumbs from http://www.parquemet.gob.cl/transparencia/2015/abril/per_honorarios.html\n",
      "per_honorarios A�o 2014\n",
      "could not get breadcrumbs from http://www.parquemet.gob.cl/transparencia/2014/abril/per_honorarios.html\n",
      "per_honorarios A�o 2013\n",
      "could not get breadcrumbs from http://www.parquemet.gob.cl/transparencia/2013/abril/per_honorarios.html\n",
      "per_honorarios A�o 2012\n",
      "could not get breadcrumbs from http://www.parquemet.gob.cl/transparencia/2012/abril/per_honorarios.html\n",
      "per_honorarios A�o 2011\n",
      "could not get breadcrumbs from http://www.parquemet.gob.cl/transparencia/2011/abril/per_honorarios.html\n",
      "per_honorarios A�o 2010\n",
      "could not get breadcrumbs from http://www.parquemet.gob.cl/transparencia/2010/agosto/per_honorarios.html\n",
      "per_honorarios A�o 2009\n",
      "could not get breadcrumbs from http://www.parquemet.gob.cl/transparencia/2009/per_honorarios.html\n",
      "per_honorarios A�o 2008\n",
      "could not get breadcrumbs from http://www.parquemet.gob.cl/transparencia/2008/per_honorarios.html\n",
      "per_honorarios A�o 2007\n",
      "could not get breadcrumbs from http://www.parquemet.gob.cl/transparencia/2007/per_honorarios.html\n",
      "per_honorarios A�o 2006\n",
      "could not get breadcrumbs from http://www.parquemet.gob.cl/transparencia/2006/per_honorarios.html\n",
      "\n",
      "Ministerio de Bienes Nacionales\n",
      "Subsecretaría de Bienes Nacionales\n"
     ]
    },
    {
     "data": {
      "application/vnd.jupyter.widget-view+json": {
       "model_id": "db12716f57bf428091bf0bda1867dad4",
       "version_major": 2,
       "version_minor": 0
      },
      "text/plain": [
       "A Jupyter Widget"
      ]
     },
     "metadata": {},
     "output_type": "display_data"
    },
    {
     "name": "stdout",
     "output_type": "stream",
     "text": [
      "per_honorarios Año 2016\n",
      "could not get breadcrumbs from http://old.bienes.cl/transparencia/2016/per_honorarios.html\n",
      "per_honorarios Año 2015\n",
      "could not get breadcrumbs from http://old.bienes.cl/transparencia/2015/per_honorarios.html\n",
      "per_honorarios Año 2014\n",
      "could not get breadcrumbs from http://old.bienes.cl/transparencia/2014/per_honorarios.html\n",
      "per_honorarios Año 2013\n",
      "could not get breadcrumbs from http://old.bienes.cl/transparencia/2013/per_honorarios.html\n",
      "per_honorarios Año 2012\n",
      "could not get breadcrumbs from http://old.bienes.cl/transparencia/2012/per_honorarios.html\n",
      "per_honorarios Año 2011\n",
      "could not get breadcrumbs from http://old.bienes.cl/transparencia/2011/per_honorarios.html\n",
      "per_honorarios Año 2010\n",
      "could not get breadcrumbs from http://old.bienes.cl/transparencia/2010/per_honorarios.html\n",
      "per_honorarios Año 2009\n",
      "could not get breadcrumbs from http://old.bienes.cl/transparencia/2009/per_honorarios.html\n",
      "per_honorarios Año 2008\n",
      "could not get breadcrumbs from http://old.bienes.cl/transparencia/2008/per_honorarios.html\n",
      "per_honorarios Año 2007\n",
      "could not get breadcrumbs from http://old.bienes.cl/transparencia/2007/per_honorarios.html\n",
      "per_honorarios Año 2006\n",
      "could not get breadcrumbs from http://old.bienes.cl/transparencia/2006/per_honorarios.html\n",
      "\n",
      "Ministerio de Agricultura\n",
      "Subsecretaría de Agricultura\n"
     ]
    },
    {
     "data": {
      "application/vnd.jupyter.widget-view+json": {
       "model_id": "4938cba7b3e54c96bb6be547811a512c",
       "version_major": 2,
       "version_minor": 0
      },
      "text/plain": [
       "A Jupyter Widget"
      ]
     },
     "metadata": {},
     "output_type": "display_data"
    },
    {
     "name": "stdout",
     "output_type": "stream",
     "text": [
      "per_honorarios Año 2017\n",
      "per_honorarios Año 2016\n",
      "per_honorarios Año 2015\n",
      "per_honorarios Año 2014\n",
      "per_honorarios Año 2013\n",
      "per_honorarios Año 2012\n",
      "\n",
      "Comisión Nacional de Riego (CNR)\n",
      "No contract data per_honorarios in http://www.gobiernotransparentechile.cl/directorio/entidad/18/264\n"
     ]
    },
    {
     "name": "stderr",
     "output_type": "stream",
     "text": [
      "Traceback (most recent call last):\n",
      "  File \"./lib/functions.py\", line 109, in getDepartmentData\n",
      "    div_years = browser.find_element_by_class_name(\"linksIntermedios\")\n",
      "  File \"/Users/jaime/anaconda3/lib/python3.6/site-packages/selenium/webdriver/remote/webdriver.py\", line 555, in find_element_by_class_name\n",
      "    return self.find_element(by=By.CLASS_NAME, value=name)\n",
      "  File \"/Users/jaime/anaconda3/lib/python3.6/site-packages/selenium/webdriver/remote/webdriver.py\", line 955, in find_element\n",
      "    'value': value})['value']\n",
      "  File \"/Users/jaime/anaconda3/lib/python3.6/site-packages/selenium/webdriver/remote/webdriver.py\", line 312, in execute\n",
      "    self.error_handler.check_response(response)\n",
      "  File \"/Users/jaime/anaconda3/lib/python3.6/site-packages/selenium/webdriver/remote/errorhandler.py\", line 237, in check_response\n",
      "    raise exception_class(message, screen, stacktrace)\n",
      "selenium.common.exceptions.NoSuchElementException: Message: no such element: Unable to locate element: {\"method\":\"class name\",\"selector\":\"linksIntermedios\"}\n",
      "  (Session info: chrome=65.0.3325.181)\n",
      "  (Driver info: chromedriver=2.35.528157 (4429ca2590d6988c0745c24c8858745aaaec01ef),platform=Mac OS X 10.13.3 x86_64)\n",
      "\n"
     ]
    },
    {
     "data": {
      "application/vnd.jupyter.widget-view+json": {
       "model_id": "77b7adbcc937435aa62173327bd9dae1",
       "version_major": 2,
       "version_minor": 0
      },
      "text/plain": [
       "A Jupyter Widget"
      ]
     },
     "metadata": {},
     "output_type": "display_data"
    },
    {
     "name": "stdout",
     "output_type": "stream",
     "text": [
      "\n",
      "Instituto de Desarrollo Agropecuario (INDAP)\n"
     ]
    },
    {
     "data": {
      "application/vnd.jupyter.widget-view+json": {
       "model_id": "ff57d9ec47d84b77b071cb4bc45ea6cd",
       "version_major": 2,
       "version_minor": 0
      },
      "text/plain": [
       "A Jupyter Widget"
      ]
     },
     "metadata": {},
     "output_type": "display_data"
    },
    {
     "name": "stdout",
     "output_type": "stream",
     "text": [
      "per_honorarios Año 2017\n",
      "per_honorarios Año 2016\n",
      "per_honorarios Año 2015\n",
      "per_honorarios Año 2014\n",
      "per_honorarios Año 2013\n",
      "per_honorarios Año 2012\n",
      "per_honorarios Año 2011\n",
      "per_honorarios Año 2010\n",
      "per_honorarios Año 2009\n",
      "per_honorarios Año 2007\n",
      "could not get breadcrumbs from http://portal.indap.cl/transparencia/menu_honorarios.php\n",
      "per_honorarios Año 2008\n",
      "could not get breadcrumbs from http://portal.indap.cl/transparencia/2008menu_honorarios.php\n",
      "per_honorarios Año 2006\n",
      "could not get breadcrumbs from http://portal.indap.cl/transparencia/2006menu_honorarios.html\n",
      "\n",
      "Oficina de Estudios y Políticas Agrarias (ODEPA)\n"
     ]
    },
    {
     "data": {
      "application/vnd.jupyter.widget-view+json": {
       "model_id": "b86e7fa25dda4073a8ed4e13f8196c61",
       "version_major": 2,
       "version_minor": 0
      },
      "text/plain": [
       "A Jupyter Widget"
      ]
     },
     "metadata": {},
     "output_type": "display_data"
    },
    {
     "name": "stdout",
     "output_type": "stream",
     "text": [
      "per_honorarios Año 2018\n",
      "per_honorarios Año 2017\n",
      "per_honorarios Año 2016\n",
      "per_honorarios Año 2015\n",
      "per_honorarios Año 2014\n",
      "per_honorarios Año 2013\n",
      "per_honorarios Año 2012\n",
      "per_honorarios Año 2011\n",
      "per_honorarios Año 2010\n",
      "per_honorarios Año 2009\n",
      "per_honorarios Año 2008\n",
      "per_honorarios Año 2007\n",
      "per_honorarios Año 2006\n",
      "\n",
      "Servicio Agrícola Ganadero (SAG)\n"
     ]
    },
    {
     "data": {
      "application/vnd.jupyter.widget-view+json": {
       "model_id": "7c5d315fada0499d821d58d6515ddf2a",
       "version_major": 2,
       "version_minor": 0
      },
      "text/plain": [
       "A Jupyter Widget"
      ]
     },
     "metadata": {},
     "output_type": "display_data"
    },
    {
     "name": "stdout",
     "output_type": "stream",
     "text": [
      "per_honorarios Año 2016\n",
      "could not get breadcrumbs from http://www2.sag.gob.cl/transparencia/2016/per_honorarios.html\n",
      "per_honorarios Año 2015\n",
      "could not get breadcrumbs from http://www2.sag.gob.cl/transparencia/2015/per_honorarios.html\n",
      "per_honorarios Año 2014\n",
      "could not get breadcrumbs from http://www2.sag.gob.cl/transparencia/2014/per_honorarios.html\n",
      "per_honorarios Año 2013\n",
      "could not get breadcrumbs from http://www2.sag.gob.cl/transparencia/2013/per_honorarios.html\n",
      "per_honorarios Año 2012\n",
      "could not get breadcrumbs from http://www2.sag.gob.cl/transparencia/2012/per_honorarios.html\n",
      "per_honorarios Año 2011\n",
      "could not get breadcrumbs from http://www2.sag.gob.cl/transparencia/2011/per_honorarios.html\n",
      "per_honorarios Año 2010\n",
      "could not get breadcrumbs from http://www2.sag.gob.cl/transparencia/2010/per_honorarios.html\n",
      "per_honorarios Año 2009\n",
      "could not get breadcrumbs from http://www2.sag.gob.cl/transparencia/2009/per_honorarios.html\n",
      "per_honorarios Año 2008\n",
      "could not get breadcrumbs from http://www2.sag.gob.cl/transparencia/2008/per_honorarios.html\n",
      "per_honorarios Año 2007\n",
      "per_honorarios Año 2006\n",
      "\n",
      "Corporación Nacional Forestal\n",
      "No contract data per_honorarios in http://www.gobiernotransparentechile.cl/directorio/entidad/18/360\n"
     ]
    },
    {
     "name": "stderr",
     "output_type": "stream",
     "text": [
      "Traceback (most recent call last):\n",
      "  File \"./lib/functions.py\", line 109, in getDepartmentData\n",
      "    div_years = browser.find_element_by_class_name(\"linksIntermedios\")\n",
      "  File \"/Users/jaime/anaconda3/lib/python3.6/site-packages/selenium/webdriver/remote/webdriver.py\", line 555, in find_element_by_class_name\n",
      "    return self.find_element(by=By.CLASS_NAME, value=name)\n",
      "  File \"/Users/jaime/anaconda3/lib/python3.6/site-packages/selenium/webdriver/remote/webdriver.py\", line 955, in find_element\n",
      "    'value': value})['value']\n",
      "  File \"/Users/jaime/anaconda3/lib/python3.6/site-packages/selenium/webdriver/remote/webdriver.py\", line 312, in execute\n",
      "    self.error_handler.check_response(response)\n",
      "  File \"/Users/jaime/anaconda3/lib/python3.6/site-packages/selenium/webdriver/remote/errorhandler.py\", line 237, in check_response\n",
      "    raise exception_class(message, screen, stacktrace)\n",
      "selenium.common.exceptions.NoSuchElementException: Message: no such element: Unable to locate element: {\"method\":\"class name\",\"selector\":\"linksIntermedios\"}\n",
      "  (Session info: chrome=65.0.3325.181)\n",
      "  (Driver info: chromedriver=2.35.528157 (4429ca2590d6988c0745c24c8858745aaaec01ef),platform=Mac OS X 10.13.3 x86_64)\n",
      "\n"
     ]
    },
    {
     "data": {
      "application/vnd.jupyter.widget-view+json": {
       "model_id": "15bbe94c7a9d4be8802978418a179435",
       "version_major": 2,
       "version_minor": 0
      },
      "text/plain": [
       "A Jupyter Widget"
      ]
     },
     "metadata": {},
     "output_type": "display_data"
    },
    {
     "name": "stdout",
     "output_type": "stream",
     "text": [
      "\n",
      "Ministerio de Minería\n",
      "Subsecretaría de Minería\n"
     ]
    },
    {
     "data": {
      "application/vnd.jupyter.widget-view+json": {
       "model_id": "448a269d38704b12964c89504bb0d32f",
       "version_major": 2,
       "version_minor": 0
      },
      "text/plain": [
       "A Jupyter Widget"
      ]
     },
     "metadata": {},
     "output_type": "display_data"
    },
    {
     "name": "stdout",
     "output_type": "stream",
     "text": [
      "per_honorarios Año 2018\n",
      "per_honorarios Año 2017\n",
      "per_honorarios Año 2016\n",
      "per_honorarios Año 2015\n",
      "per_honorarios Año 2014\n",
      "per_honorarios Año 2013\n",
      "per_honorarios Año 2012\n",
      "per_honorarios Año 2011\n",
      "per_honorarios Año 2010 Después de Septiembre\n",
      "per_honorarios Año 2010 Antes de Septiembre\n",
      "per_honorarios Año 2009\n",
      "per_honorarios Año 2008\n",
      "per_honorarios Año 2007\n",
      "per_honorarios Año 2006\n",
      "\n",
      "Comisión Chilena del Cobre (COCHILCO)\n",
      "No contract data per_honorarios in http://www.gobiernotransparentechile.cl/directorio/entidad/19/269\n"
     ]
    },
    {
     "name": "stderr",
     "output_type": "stream",
     "text": [
      "Traceback (most recent call last):\n",
      "  File \"./lib/functions.py\", line 109, in getDepartmentData\n",
      "    div_years = browser.find_element_by_class_name(\"linksIntermedios\")\n",
      "  File \"/Users/jaime/anaconda3/lib/python3.6/site-packages/selenium/webdriver/remote/webdriver.py\", line 555, in find_element_by_class_name\n",
      "    return self.find_element(by=By.CLASS_NAME, value=name)\n",
      "  File \"/Users/jaime/anaconda3/lib/python3.6/site-packages/selenium/webdriver/remote/webdriver.py\", line 955, in find_element\n",
      "    'value': value})['value']\n",
      "  File \"/Users/jaime/anaconda3/lib/python3.6/site-packages/selenium/webdriver/remote/webdriver.py\", line 312, in execute\n",
      "    self.error_handler.check_response(response)\n",
      "  File \"/Users/jaime/anaconda3/lib/python3.6/site-packages/selenium/webdriver/remote/errorhandler.py\", line 237, in check_response\n",
      "    raise exception_class(message, screen, stacktrace)\n",
      "selenium.common.exceptions.NoSuchElementException: Message: no such element: Unable to locate element: {\"method\":\"class name\",\"selector\":\"linksIntermedios\"}\n",
      "  (Session info: chrome=65.0.3325.181)\n",
      "  (Driver info: chromedriver=2.35.528157 (4429ca2590d6988c0745c24c8858745aaaec01ef),platform=Mac OS X 10.13.3 x86_64)\n",
      "\n"
     ]
    },
    {
     "data": {
      "application/vnd.jupyter.widget-view+json": {
       "model_id": "72b103fe7686463182301a963ddcb016",
       "version_major": 2,
       "version_minor": 0
      },
      "text/plain": [
       "A Jupyter Widget"
      ]
     },
     "metadata": {},
     "output_type": "display_data"
    },
    {
     "name": "stdout",
     "output_type": "stream",
     "text": [
      "\n",
      "Servicio Nacional de Geología y Minería (SERNAGEOMIN)\n"
     ]
    },
    {
     "data": {
      "application/vnd.jupyter.widget-view+json": {
       "model_id": "afaef88bb2234616a1b593cd70e54011",
       "version_major": 2,
       "version_minor": 0
      },
      "text/plain": [
       "A Jupyter Widget"
      ]
     },
     "metadata": {},
     "output_type": "display_data"
    },
    {
     "name": "stdout",
     "output_type": "stream",
     "text": [
      "per_honorarios Año 2018\n",
      "per_honorarios Año 2017\n",
      "per_honorarios Año 2016\n",
      "per_honorarios Año 2015\n",
      "per_honorarios Año 2014\n",
      "per_honorarios Año 2013\n",
      "per_honorarios Año 2012\n",
      "per_honorarios Año 2011\n",
      "\n",
      "Ministerio de la Mujer y la Equidad de Género\n",
      "Subsecretaría de la Mujer y la Equidad de Género\n",
      "No contract data per_honorarios in http://www.gobiernotransparentechile.cl/directorio/entidad/20/357\n"
     ]
    },
    {
     "name": "stderr",
     "output_type": "stream",
     "text": [
      "Traceback (most recent call last):\n",
      "  File \"./lib/functions.py\", line 109, in getDepartmentData\n",
      "    div_years = browser.find_element_by_class_name(\"linksIntermedios\")\n",
      "  File \"/Users/jaime/anaconda3/lib/python3.6/site-packages/selenium/webdriver/remote/webdriver.py\", line 555, in find_element_by_class_name\n",
      "    return self.find_element(by=By.CLASS_NAME, value=name)\n",
      "  File \"/Users/jaime/anaconda3/lib/python3.6/site-packages/selenium/webdriver/remote/webdriver.py\", line 955, in find_element\n",
      "    'value': value})['value']\n",
      "  File \"/Users/jaime/anaconda3/lib/python3.6/site-packages/selenium/webdriver/remote/webdriver.py\", line 312, in execute\n",
      "    self.error_handler.check_response(response)\n",
      "  File \"/Users/jaime/anaconda3/lib/python3.6/site-packages/selenium/webdriver/remote/errorhandler.py\", line 237, in check_response\n",
      "    raise exception_class(message, screen, stacktrace)\n",
      "selenium.common.exceptions.NoSuchElementException: Message: no such element: Unable to locate element: {\"method\":\"class name\",\"selector\":\"linksIntermedios\"}\n",
      "  (Session info: chrome=65.0.3325.181)\n",
      "  (Driver info: chromedriver=2.35.528157 (4429ca2590d6988c0745c24c8858745aaaec01ef),platform=Mac OS X 10.13.3 x86_64)\n",
      "\n"
     ]
    },
    {
     "data": {
      "application/vnd.jupyter.widget-view+json": {
       "model_id": "725c280fe0c34e34ae398fee29f3b14e",
       "version_major": 2,
       "version_minor": 0
      },
      "text/plain": [
       "A Jupyter Widget"
      ]
     },
     "metadata": {},
     "output_type": "display_data"
    },
    {
     "name": "stdout",
     "output_type": "stream",
     "text": [
      "\n",
      "Servicio Nacional de la Mujer (SERNAM)\n"
     ]
    },
    {
     "data": {
      "application/vnd.jupyter.widget-view+json": {
       "model_id": "3eddf2a271c346b3a9be5a4b0b7b7e46",
       "version_major": 2,
       "version_minor": 0
      },
      "text/plain": [
       "A Jupyter Widget"
      ]
     },
     "metadata": {},
     "output_type": "display_data"
    },
    {
     "name": "stdout",
     "output_type": "stream",
     "text": [
      "per_honorarios Año 2016\n",
      "could not get breadcrumbs from http://www.sernam.cl/transparencia/05_3_2016.php\n",
      "per_honorarios Año 2015\n",
      "could not get breadcrumbs from http://www.sernam.cl/transparencia/05_3_2015.php\n",
      "per_honorarios Año 2014\n",
      "could not get breadcrumbs from http://www.sernam.cl/transparencia/05_3_2014.php\n",
      "per_honorarios Año 2013\n",
      "could not get breadcrumbs from http://www.sernam.cl/transparencia/05_3_2013.php\n",
      "per_honorarios Año 2012\n",
      "could not get breadcrumbs from http://www.sernam.cl/transparencia/05_3_2012.php\n",
      "per_honorarios Año 2011\n",
      "could not get breadcrumbs from http://www.sernam.cl/transparencia/05_3_2011.php\n",
      "per_honorarios Año 2010\n",
      "could not get breadcrumbs from http://www.sernam.cl/transparencia/05_3_2010.php\n",
      "per_honorarios Año 2009\n",
      "could not get breadcrumbs from http://www.sernam.cl/transparencia/05_3_2009.php\n",
      "per_honorarios Año 2008\n",
      "could not get breadcrumbs from http://www.sernam.cl/transparencia/05_3_2008.php\n",
      "per_honorarios Año 2007\n",
      "could not get breadcrumbs from http://www.sernam.cl/transparencia/05_3_2007.php\n",
      "per_honorarios Año 2006\n",
      "could not get breadcrumbs from http://www.sernam.cl/transparencia/05_3_2006.php\n",
      "\n"
     ]
    }
   ],
   "source": [
    "global period \n",
    "period = '20180417-1'\n",
    "\n",
    "output = '../data/output/scraped_data_{}.csv'.format(period)\n",
    "\n",
    "url = 'http://www.gobiernotransparentechile.cl/'\n",
    "\n",
    "\n",
    "option = webdriver.ChromeOptions()\n",
    "prefs = {'profile.default_content_setting_values': {'images': 2, 'javascript': 2}}\n",
    "option.add_experimental_option('prefs', prefs)\n",
    "browser = webdriver.Chrome(chrome_options = option)\n",
    "#browser = webdriver.Chrome(chrome_options=options)\n",
    "\n",
    "\n",
    "#browser = webdriver.Chrome()\n",
    "#browser = webdriver.Firefox()\n",
    "\n",
    "df = getGovernmentData(output, url, browser, period, cont=['per_honorarios'], start=10, end=20)"
   ]
  },
  {
   "cell_type": "markdown",
   "metadata": {},
   "source": [
    "# Debugging\n"
   ]
  },
  {
   "cell_type": "markdown",
   "metadata": {},
   "source": [
    "## Pulling specific table "
   ]
  },
  {
   "cell_type": "code",
   "execution_count": 6,
   "metadata": {
    "collapsed": true,
    "scrolled": true
   },
   "outputs": [],
   "source": [
    "browser_debug = webdriver.Chrome()\n",
    "getTableData2('./output/debugging.csv', 'http://www.gobiernotransparentechile.cl/directorio/entidad/12/167/per_planta/A%C3%B1o%202016/Enero', browser_debug)"
   ]
  },
  {
   "cell_type": "markdown",
   "metadata": {},
   "source": [
    "## Output "
   ]
  },
  {
   "cell_type": "code",
   "execution_count": 33,
   "metadata": {},
   "outputs": [
    {
     "name": "stderr",
     "output_type": "stream",
     "text": [
      "/Users/jaime/anaconda3/lib/python3.6/site-packages/IPython/core/interactiveshell.py:2698: DtypeWarning: Columns (3,8,9,11) have mixed types. Specify dtype option on import or set low_memory=False.\n",
      "  interactivity=interactivity, compiler=compiler, result=result)\n"
     ]
    }
   ],
   "source": [
    "out = pd.read_csv('../data/output/scraped_data_hon_{}.csv'.format(period), sep='|', encoding='utf-8', header=None)"
   ]
  },
  {
   "cell_type": "code",
   "execution_count": 34,
   "metadata": {},
   "outputs": [
    {
     "data": {
      "text/html": [
       "<div>\n",
       "<style>\n",
       "    .dataframe thead tr:only-child th {\n",
       "        text-align: right;\n",
       "    }\n",
       "\n",
       "    .dataframe thead th {\n",
       "        text-align: left;\n",
       "    }\n",
       "\n",
       "    .dataframe tbody tr th {\n",
       "        vertical-align: top;\n",
       "    }\n",
       "</style>\n",
       "<table border=\"1\" class=\"dataframe\">\n",
       "  <thead>\n",
       "    <tr style=\"text-align: right;\">\n",
       "      <th></th>\n",
       "      <th>0</th>\n",
       "      <th>1</th>\n",
       "      <th>2</th>\n",
       "      <th>3</th>\n",
       "      <th>4</th>\n",
       "      <th>5</th>\n",
       "      <th>6</th>\n",
       "      <th>7</th>\n",
       "      <th>8</th>\n",
       "      <th>9</th>\n",
       "      <th>10</th>\n",
       "      <th>11</th>\n",
       "      <th>12</th>\n",
       "      <th>13</th>\n",
       "      <th>14</th>\n",
       "      <th>15</th>\n",
       "      <th>16</th>\n",
       "      <th>17</th>\n",
       "      <th>18</th>\n",
       "    </tr>\n",
       "  </thead>\n",
       "  <tbody>\n",
       "    <tr>\n",
       "      <th>0</th>\n",
       "      <td>Presidencia de la República</td>\n",
       "      <td>Presidencia de la República</td>\n",
       "      <td>Dotación a honorarios</td>\n",
       "      <td>Año 2018</td>\n",
       "      <td>allyear</td>\n",
       "      <td>ABBAGLIATI</td>\n",
       "      <td>BOILS</td>\n",
       "      <td>ENZO VITTORIO</td>\n",
       "      <td>ASESOR, DIRECCIÓN DE PRENSA, EN EL MARCO DEL P...</td>\n",
       "      <td>LICENCIADO EN HISTORIA</td>\n",
       "      <td>NaN</td>\n",
       "      <td>RM</td>\n",
       "      <td>PESOS</td>\n",
       "      <td>5309100.0</td>\n",
       "      <td>SI</td>\n",
       "      <td>01/01/2018</td>\n",
       "      <td>10/03/2018</td>\n",
       "      <td>1, 5</td>\n",
       "      <td>http://www.gobiernotransparentechile.cl/direct...</td>\n",
       "    </tr>\n",
       "    <tr>\n",
       "      <th>1</th>\n",
       "      <td>Presidencia de la República</td>\n",
       "      <td>Presidencia de la República</td>\n",
       "      <td>Dotación a honorarios</td>\n",
       "      <td>Año 2018</td>\n",
       "      <td>allyear</td>\n",
       "      <td>ADONIS</td>\n",
       "      <td>PARRAGUEZ</td>\n",
       "      <td>HUGO RENE</td>\n",
       "      <td>ASISTENTE ACTIVIDADES FOTOGRÁFICAS Y DE REGIST...</td>\n",
       "      <td>LICENCIADO EN ARTES PLÁSTICAS CON MENCIÓN EN G...</td>\n",
       "      <td>NaN</td>\n",
       "      <td>RM</td>\n",
       "      <td>PESOS</td>\n",
       "      <td>1738943.0</td>\n",
       "      <td>SI</td>\n",
       "      <td>01/01/2018</td>\n",
       "      <td>31/12/2018</td>\n",
       "      <td>NaN</td>\n",
       "      <td>http://www.gobiernotransparentechile.cl/direct...</td>\n",
       "    </tr>\n",
       "    <tr>\n",
       "      <th>2</th>\n",
       "      <td>Presidencia de la República</td>\n",
       "      <td>Presidencia de la República</td>\n",
       "      <td>Dotación a honorarios</td>\n",
       "      <td>Año 2018</td>\n",
       "      <td>allyear</td>\n",
       "      <td>AGUILERA</td>\n",
       "      <td>ARAVENA</td>\n",
       "      <td>MARIO ALEJANDRO</td>\n",
       "      <td>PRODUCCIÓN Y DESARROLLO DE ACTIVIDADES COMUNIC...</td>\n",
       "      <td>PUBLICISTA</td>\n",
       "      <td>NaN</td>\n",
       "      <td>RM</td>\n",
       "      <td>PESOS</td>\n",
       "      <td>2040000.0</td>\n",
       "      <td>SI</td>\n",
       "      <td>01/01/2018</td>\n",
       "      <td>31/12/2018</td>\n",
       "      <td>NaN</td>\n",
       "      <td>http://www.gobiernotransparentechile.cl/direct...</td>\n",
       "    </tr>\n",
       "    <tr>\n",
       "      <th>3</th>\n",
       "      <td>Presidencia de la República</td>\n",
       "      <td>Presidencia de la República</td>\n",
       "      <td>Dotación a honorarios</td>\n",
       "      <td>Año 2018</td>\n",
       "      <td>allyear</td>\n",
       "      <td>AGUIRRE</td>\n",
       "      <td>ROMERO</td>\n",
       "      <td>BENJAMIN PEDRO</td>\n",
       "      <td>PERIODISTA, DIRECCIÓN DE PRENSA, EN EL MARCO D...</td>\n",
       "      <td>MAGÍSTER EN PERIODISMO, MENCIÓN PRENSA ESCRITA</td>\n",
       "      <td>NaN</td>\n",
       "      <td>RM</td>\n",
       "      <td>PESOS</td>\n",
       "      <td>3598480.0</td>\n",
       "      <td>SI</td>\n",
       "      <td>01/01/2018</td>\n",
       "      <td>10/03/2018</td>\n",
       "      <td>1, 5</td>\n",
       "      <td>http://www.gobiernotransparentechile.cl/direct...</td>\n",
       "    </tr>\n",
       "    <tr>\n",
       "      <th>4</th>\n",
       "      <td>Presidencia de la República</td>\n",
       "      <td>Presidencia de la República</td>\n",
       "      <td>Dotación a honorarios</td>\n",
       "      <td>Año 2018</td>\n",
       "      <td>allyear</td>\n",
       "      <td>AHUMADA</td>\n",
       "      <td>TORRES</td>\n",
       "      <td>JORGE</td>\n",
       "      <td>PRODUCTOR, DEPARTAMENTO DE PRODUCCIÓN PRESIDEN...</td>\n",
       "      <td>EXPERTO EN AVANZADA PRESIDENCIAL</td>\n",
       "      <td>NaN</td>\n",
       "      <td>RM</td>\n",
       "      <td>PESOS</td>\n",
       "      <td>2400000.0</td>\n",
       "      <td>SI</td>\n",
       "      <td>11/03/2018</td>\n",
       "      <td>31/12/2018</td>\n",
       "      <td>1</td>\n",
       "      <td>http://www.gobiernotransparentechile.cl/direct...</td>\n",
       "    </tr>\n",
       "    <tr>\n",
       "      <th>5</th>\n",
       "      <td>Presidencia de la República</td>\n",
       "      <td>Presidencia de la República</td>\n",
       "      <td>Dotación a honorarios</td>\n",
       "      <td>Año 2018</td>\n",
       "      <td>allyear</td>\n",
       "      <td>AJENJO</td>\n",
       "      <td>MARTINEZ</td>\n",
       "      <td>FELIPE ANDRES</td>\n",
       "      <td>ASESOR, DEPARTAMENTO DE GESTIÓN DE POLÍTICAS P...</td>\n",
       "      <td>SOCIÓLOGO, MASTER IN PUBLIC POLICY</td>\n",
       "      <td>NaN</td>\n",
       "      <td>RM</td>\n",
       "      <td>PESOS</td>\n",
       "      <td>5002352.0</td>\n",
       "      <td>SI</td>\n",
       "      <td>01/01/2018</td>\n",
       "      <td>10/03/2018</td>\n",
       "      <td>1, 5</td>\n",
       "      <td>http://www.gobiernotransparentechile.cl/direct...</td>\n",
       "    </tr>\n",
       "    <tr>\n",
       "      <th>6</th>\n",
       "      <td>Presidencia de la República</td>\n",
       "      <td>Presidencia de la República</td>\n",
       "      <td>Dotación a honorarios</td>\n",
       "      <td>Año 2018</td>\n",
       "      <td>allyear</td>\n",
       "      <td>ALARCON</td>\n",
       "      <td>CANCINO</td>\n",
       "      <td>JOHANA LESLEI</td>\n",
       "      <td>APOYO AUDITOR, SUBVENCIONES PRESIDENCIALES, EN...</td>\n",
       "      <td>LICENCIA DE ENSEÑANZA MEDIA</td>\n",
       "      <td>NaN</td>\n",
       "      <td>RM</td>\n",
       "      <td>PESOS</td>\n",
       "      <td>510000.0</td>\n",
       "      <td>SI</td>\n",
       "      <td>01/01/2018</td>\n",
       "      <td>31/12/2018</td>\n",
       "      <td>12 = Desde 31-10-2017 hasta 27-02-2018, 13= De...</td>\n",
       "      <td>http://www.gobiernotransparentechile.cl/direct...</td>\n",
       "    </tr>\n",
       "    <tr>\n",
       "      <th>7</th>\n",
       "      <td>Presidencia de la República</td>\n",
       "      <td>Presidencia de la República</td>\n",
       "      <td>Dotación a honorarios</td>\n",
       "      <td>Año 2018</td>\n",
       "      <td>allyear</td>\n",
       "      <td>ALCALDE</td>\n",
       "      <td>CORREA</td>\n",
       "      <td>FRANCISCA</td>\n",
       "      <td>ENCARGADA, DEPARTAMENTO REPOSTERO PRESIDENCIAL...</td>\n",
       "      <td>PRODUCCIÓN CULINARIA CON MENCIÓN EN ADMINISTRA...</td>\n",
       "      <td>NaN</td>\n",
       "      <td>RM</td>\n",
       "      <td>PESOS</td>\n",
       "      <td>3500000.0</td>\n",
       "      <td>SI</td>\n",
       "      <td>11/03/2018</td>\n",
       "      <td>31/12/2018</td>\n",
       "      <td>1</td>\n",
       "      <td>http://www.gobiernotransparentechile.cl/direct...</td>\n",
       "    </tr>\n",
       "    <tr>\n",
       "      <th>8</th>\n",
       "      <td>Presidencia de la República</td>\n",
       "      <td>Presidencia de la República</td>\n",
       "      <td>Dotación a honorarios</td>\n",
       "      <td>Año 2018</td>\n",
       "      <td>allyear</td>\n",
       "      <td>ALTAMIRANO</td>\n",
       "      <td>MOLINA</td>\n",
       "      <td>XAVIER</td>\n",
       "      <td>ASESOR, DEPARTAMENTO DE CONTENIDOS, EN EL MARC...</td>\n",
       "      <td>CIENTISTA POLÍTICO, MASTER EN COMUNICACIÓN POL...</td>\n",
       "      <td>NaN</td>\n",
       "      <td>RM</td>\n",
       "      <td>PESOS</td>\n",
       "      <td>4986667.0</td>\n",
       "      <td>SI</td>\n",
       "      <td>01/01/2018</td>\n",
       "      <td>10/03/2018</td>\n",
       "      <td>1, 5</td>\n",
       "      <td>http://www.gobiernotransparentechile.cl/direct...</td>\n",
       "    </tr>\n",
       "    <tr>\n",
       "      <th>9</th>\n",
       "      <td>Presidencia de la República</td>\n",
       "      <td>Presidencia de la República</td>\n",
       "      <td>Dotación a honorarios</td>\n",
       "      <td>Año 2018</td>\n",
       "      <td>allyear</td>\n",
       "      <td>ARACENA</td>\n",
       "      <td>GARRIDO</td>\n",
       "      <td>GUSTAVO ISMAEL</td>\n",
       "      <td>PERIODISTA, DIRECCIÓN DE PRENSA, EN EL MARCO D...</td>\n",
       "      <td>PERIODISTA</td>\n",
       "      <td>NaN</td>\n",
       "      <td>RM</td>\n",
       "      <td>PESOS</td>\n",
       "      <td>3598480.0</td>\n",
       "      <td>SI</td>\n",
       "      <td>01/01/2018</td>\n",
       "      <td>10/03/2018</td>\n",
       "      <td>1, 5</td>\n",
       "      <td>http://www.gobiernotransparentechile.cl/direct...</td>\n",
       "    </tr>\n",
       "    <tr>\n",
       "      <th>10</th>\n",
       "      <td>Presidencia de la República</td>\n",
       "      <td>Presidencia de la República</td>\n",
       "      <td>Dotación a honorarios</td>\n",
       "      <td>Año 2018</td>\n",
       "      <td>allyear</td>\n",
       "      <td>ARANEDA</td>\n",
       "      <td>SANHUEZA</td>\n",
       "      <td>FELIPE ANDRES</td>\n",
       "      <td>ASISTENTE, DEPARTAMENTO DE AVANZADA PRESIDENCI...</td>\n",
       "      <td>TÉCNICO ADMINISTRACIÓN DE EMPRESAS, MENCIÓN MA...</td>\n",
       "      <td>NaN</td>\n",
       "      <td>RM</td>\n",
       "      <td>PESOS</td>\n",
       "      <td>1360000.0</td>\n",
       "      <td>SI</td>\n",
       "      <td>01/01/2018</td>\n",
       "      <td>10/03/2018</td>\n",
       "      <td>1, 5</td>\n",
       "      <td>http://www.gobiernotransparentechile.cl/direct...</td>\n",
       "    </tr>\n",
       "    <tr>\n",
       "      <th>11</th>\n",
       "      <td>Presidencia de la República</td>\n",
       "      <td>Presidencia de la República</td>\n",
       "      <td>Dotación a honorarios</td>\n",
       "      <td>Año 2018</td>\n",
       "      <td>allyear</td>\n",
       "      <td>ARANEDA</td>\n",
       "      <td>BARAHONA</td>\n",
       "      <td>FRANCISCO ALFONSO</td>\n",
       "      <td>ASISTENTE ACTIVIDADES FOTOGRÁFICAS Y DE REGIST...</td>\n",
       "      <td>FOTÓGRAFO</td>\n",
       "      <td>NaN</td>\n",
       "      <td>RM</td>\n",
       "      <td>PESOS</td>\n",
       "      <td>1738943.0</td>\n",
       "      <td>SI</td>\n",
       "      <td>01/01/2018</td>\n",
       "      <td>31/12/2018</td>\n",
       "      <td>NaN</td>\n",
       "      <td>http://www.gobiernotransparentechile.cl/direct...</td>\n",
       "    </tr>\n",
       "    <tr>\n",
       "      <th>12</th>\n",
       "      <td>Presidencia de la República</td>\n",
       "      <td>Presidencia de la República</td>\n",
       "      <td>Dotación a honorarios</td>\n",
       "      <td>Año 2018</td>\n",
       "      <td>allyear</td>\n",
       "      <td>ARIZTÍA</td>\n",
       "      <td>CORREA</td>\n",
       "      <td>RAFAEL</td>\n",
       "      <td>DIRECTOR DE PROYECTOS ESPECIALES, GABINETE PRE...</td>\n",
       "      <td>INGENIERO CIVIL DE INDUSTRIAS</td>\n",
       "      <td>NaN</td>\n",
       "      <td>RM</td>\n",
       "      <td>PESOS</td>\n",
       "      <td>7000000.0</td>\n",
       "      <td>SI</td>\n",
       "      <td>11/03/2018</td>\n",
       "      <td>31/12/2018</td>\n",
       "      <td>1</td>\n",
       "      <td>http://www.gobiernotransparentechile.cl/direct...</td>\n",
       "    </tr>\n",
       "    <tr>\n",
       "      <th>13</th>\n",
       "      <td>Presidencia de la República</td>\n",
       "      <td>Presidencia de la República</td>\n",
       "      <td>Dotación a honorarios</td>\n",
       "      <td>Año 2018</td>\n",
       "      <td>allyear</td>\n",
       "      <td>ARRIAGADA</td>\n",
       "      <td>RIQUELME</td>\n",
       "      <td>ARMANDO HELENO</td>\n",
       "      <td>AVANZADA PRESIDENCIAL, DEPARTAMENTO DE AVANZAD...</td>\n",
       "      <td>LICENCIA DE ENSEÑANZA MEDIA, EXPERTO EN GESTIÓ...</td>\n",
       "      <td>NaN</td>\n",
       "      <td>RM</td>\n",
       "      <td>PESOS</td>\n",
       "      <td>3220264.0</td>\n",
       "      <td>SI</td>\n",
       "      <td>01/01/2018</td>\n",
       "      <td>10/03/2018</td>\n",
       "      <td>1, 5</td>\n",
       "      <td>http://www.gobiernotransparentechile.cl/direct...</td>\n",
       "    </tr>\n",
       "    <tr>\n",
       "      <th>14</th>\n",
       "      <td>Presidencia de la República</td>\n",
       "      <td>Presidencia de la República</td>\n",
       "      <td>Dotación a honorarios</td>\n",
       "      <td>Año 2018</td>\n",
       "      <td>allyear</td>\n",
       "      <td>ARROYO</td>\n",
       "      <td>SEPULVEDA</td>\n",
       "      <td>JUAN MANUEL</td>\n",
       "      <td>PERIODISTA, CAMBIO DE MANDO PRESIDENCIAL</td>\n",
       "      <td>PERIODISTA</td>\n",
       "      <td>NaN</td>\n",
       "      <td>RM</td>\n",
       "      <td>PESOS</td>\n",
       "      <td>1800000.0</td>\n",
       "      <td>SI</td>\n",
       "      <td>23/01/2018</td>\n",
       "      <td>11/03/2018</td>\n",
       "      <td>1, 5</td>\n",
       "      <td>http://www.gobiernotransparentechile.cl/direct...</td>\n",
       "    </tr>\n",
       "    <tr>\n",
       "      <th>15</th>\n",
       "      <td>Presidencia de la República</td>\n",
       "      <td>Presidencia de la República</td>\n",
       "      <td>Dotación a honorarios</td>\n",
       "      <td>Año 2018</td>\n",
       "      <td>allyear</td>\n",
       "      <td>ATIAS</td>\n",
       "      <td>CASTILLO</td>\n",
       "      <td>PAULA ANTONIA</td>\n",
       "      <td>ASISTENTE DIRECTORA, GABINETE PRESIDENCIAL, EN...</td>\n",
       "      <td>LICENCIADA EN LETRAS</td>\n",
       "      <td>NaN</td>\n",
       "      <td>RM</td>\n",
       "      <td>PESOS</td>\n",
       "      <td>3246027.0</td>\n",
       "      <td>SI</td>\n",
       "      <td>01/01/2018</td>\n",
       "      <td>10/03/2018</td>\n",
       "      <td>1, 5</td>\n",
       "      <td>http://www.gobiernotransparentechile.cl/direct...</td>\n",
       "    </tr>\n",
       "    <tr>\n",
       "      <th>16</th>\n",
       "      <td>Presidencia de la República</td>\n",
       "      <td>Presidencia de la República</td>\n",
       "      <td>Dotación a honorarios</td>\n",
       "      <td>Año 2018</td>\n",
       "      <td>allyear</td>\n",
       "      <td>AYALA</td>\n",
       "      <td>BARRIA</td>\n",
       "      <td>JORGE SEBASTIAN</td>\n",
       "      <td>ANALISTA, SUBVENCIONES PRESIDENCIALES, EN EL M...</td>\n",
       "      <td>EGRESADO PROGRAMA DE ESTUDIO ANALISTA PROGRAMADOR</td>\n",
       "      <td>NaN</td>\n",
       "      <td>RM</td>\n",
       "      <td>PESOS</td>\n",
       "      <td>840480.0</td>\n",
       "      <td>SI</td>\n",
       "      <td>01/01/2018</td>\n",
       "      <td>31/12/2018</td>\n",
       "      <td>NaN</td>\n",
       "      <td>http://www.gobiernotransparentechile.cl/direct...</td>\n",
       "    </tr>\n",
       "    <tr>\n",
       "      <th>17</th>\n",
       "      <td>Presidencia de la República</td>\n",
       "      <td>Presidencia de la República</td>\n",
       "      <td>Dotación a honorarios</td>\n",
       "      <td>Año 2018</td>\n",
       "      <td>allyear</td>\n",
       "      <td>BAEZA</td>\n",
       "      <td>RIVERO</td>\n",
       "      <td>VERÓNICA DEL CARMEN</td>\n",
       "      <td>ASESORA, GABINETE PRESIDENCIAL, EN EL MARCO DE...</td>\n",
       "      <td>TÉCNICO EN ADMINISTRACIÓN, MENCIÓN DECORACIÓN ...</td>\n",
       "      <td>NaN</td>\n",
       "      <td>RM</td>\n",
       "      <td>PESOS</td>\n",
       "      <td>2833832.0</td>\n",
       "      <td>SI</td>\n",
       "      <td>01/01/2018</td>\n",
       "      <td>10/03/2018</td>\n",
       "      <td>1, 5</td>\n",
       "      <td>http://www.gobiernotransparentechile.cl/direct...</td>\n",
       "    </tr>\n",
       "    <tr>\n",
       "      <th>18</th>\n",
       "      <td>Presidencia de la República</td>\n",
       "      <td>Presidencia de la República</td>\n",
       "      <td>Dotación a honorarios</td>\n",
       "      <td>Año 2018</td>\n",
       "      <td>allyear</td>\n",
       "      <td>BALLADARES</td>\n",
       "      <td>LETELIER</td>\n",
       "      <td>ANDREA PAZ</td>\n",
       "      <td>CORDINADORA VISITAS OFICIALES E INVITADOS , CA...</td>\n",
       "      <td>LICENCIA DE ENSEÑANZA MEDIA</td>\n",
       "      <td>NaN</td>\n",
       "      <td>RM</td>\n",
       "      <td>PESOS</td>\n",
       "      <td>1777778.0</td>\n",
       "      <td>SI</td>\n",
       "      <td>23/01/2018</td>\n",
       "      <td>11/03/2018</td>\n",
       "      <td>1, 5</td>\n",
       "      <td>http://www.gobiernotransparentechile.cl/direct...</td>\n",
       "    </tr>\n",
       "    <tr>\n",
       "      <th>19</th>\n",
       "      <td>Presidencia de la República</td>\n",
       "      <td>Presidencia de la República</td>\n",
       "      <td>Dotación a honorarios</td>\n",
       "      <td>Año 2018</td>\n",
       "      <td>allyear</td>\n",
       "      <td>BARANDA</td>\n",
       "      <td>FERRÁN</td>\n",
       "      <td>BENITO JOSÉ</td>\n",
       "      <td>COORDINADOR DE LA VISITA PAPAL A CHILE, DIRECC...</td>\n",
       "      <td>PSICÓLOGO</td>\n",
       "      <td>NaN</td>\n",
       "      <td>RM</td>\n",
       "      <td>PESOS</td>\n",
       "      <td>3400000.0</td>\n",
       "      <td>SI</td>\n",
       "      <td>01/01/2018</td>\n",
       "      <td>31/01/2018</td>\n",
       "      <td>5</td>\n",
       "      <td>http://www.gobiernotransparentechile.cl/direct...</td>\n",
       "    </tr>\n",
       "    <tr>\n",
       "      <th>20</th>\n",
       "      <td>Presidencia de la República</td>\n",
       "      <td>Presidencia de la República</td>\n",
       "      <td>Dotación a honorarios</td>\n",
       "      <td>Año 2018</td>\n",
       "      <td>allyear</td>\n",
       "      <td>BARNACHEA</td>\n",
       "      <td>VASQUEZ</td>\n",
       "      <td>HUMBERTO FELIPE</td>\n",
       "      <td>ENCARGADO, DEPARTAMENTO DE AVANZADA PRESIDENCI...</td>\n",
       "      <td>PROFESOR DE ESTADO EN FILOSOFÍA, MAGÍSTER EN C...</td>\n",
       "      <td>NaN</td>\n",
       "      <td>RM</td>\n",
       "      <td>PESOS</td>\n",
       "      <td>5252470.0</td>\n",
       "      <td>SI</td>\n",
       "      <td>01/01/2018</td>\n",
       "      <td>10/03/2018</td>\n",
       "      <td>1, 5</td>\n",
       "      <td>http://www.gobiernotransparentechile.cl/direct...</td>\n",
       "    </tr>\n",
       "    <tr>\n",
       "      <th>21</th>\n",
       "      <td>Presidencia de la República</td>\n",
       "      <td>Presidencia de la República</td>\n",
       "      <td>Dotación a honorarios</td>\n",
       "      <td>Año 2018</td>\n",
       "      <td>allyear</td>\n",
       "      <td>BASCUÑÁN</td>\n",
       "      <td>TORO</td>\n",
       "      <td>RODRIGO JAVIER</td>\n",
       "      <td>ANALISTA, DIRECCIÓN DE GESTIÓN Y CORRESPONDENC...</td>\n",
       "      <td>LICENCIADO EN INGENIERÍA EXPERTO EN GESTIÓN Y ...</td>\n",
       "      <td>NaN</td>\n",
       "      <td>RM</td>\n",
       "      <td>PESOS</td>\n",
       "      <td>1246666.0</td>\n",
       "      <td>SI</td>\n",
       "      <td>01/01/2018</td>\n",
       "      <td>10/03/2018</td>\n",
       "      <td>1, 5</td>\n",
       "      <td>http://www.gobiernotransparentechile.cl/direct...</td>\n",
       "    </tr>\n",
       "    <tr>\n",
       "      <th>22</th>\n",
       "      <td>Presidencia de la República</td>\n",
       "      <td>Presidencia de la República</td>\n",
       "      <td>Dotación a honorarios</td>\n",
       "      <td>Año 2018</td>\n",
       "      <td>allyear</td>\n",
       "      <td>BASCUR</td>\n",
       "      <td>TAPIA</td>\n",
       "      <td>FRANCISCO ANDRÉS</td>\n",
       "      <td>AVANZADA PRESIDENCIAL, DEPARTAMENTO DE AVANZAD...</td>\n",
       "      <td>ASISTENTE SOCIAL</td>\n",
       "      <td>NaN</td>\n",
       "      <td>RM</td>\n",
       "      <td>PESOS</td>\n",
       "      <td>3220264.0</td>\n",
       "      <td>SI</td>\n",
       "      <td>01/01/2018</td>\n",
       "      <td>10/03/2018</td>\n",
       "      <td>1, 5</td>\n",
       "      <td>http://www.gobiernotransparentechile.cl/direct...</td>\n",
       "    </tr>\n",
       "    <tr>\n",
       "      <th>23</th>\n",
       "      <td>Presidencia de la República</td>\n",
       "      <td>Presidencia de la República</td>\n",
       "      <td>Dotación a honorarios</td>\n",
       "      <td>Año 2018</td>\n",
       "      <td>allyear</td>\n",
       "      <td>BELLO</td>\n",
       "      <td>ARELLANO</td>\n",
       "      <td>DANIEL</td>\n",
       "      <td>ASESOR, DEPARTAMENTO DE CONTENIDOS, EN EL MARC...</td>\n",
       "      <td>PROFESOR DE ARTES MUSICALES PARA EDUCACIÓN BÁS...</td>\n",
       "      <td>NaN</td>\n",
       "      <td>RM</td>\n",
       "      <td>PESOS</td>\n",
       "      <td>3709744.0</td>\n",
       "      <td>SI</td>\n",
       "      <td>01/01/2018</td>\n",
       "      <td>10/03/2018</td>\n",
       "      <td>1, 5</td>\n",
       "      <td>http://www.gobiernotransparentechile.cl/direct...</td>\n",
       "    </tr>\n",
       "    <tr>\n",
       "      <th>24</th>\n",
       "      <td>Presidencia de la República</td>\n",
       "      <td>Presidencia de la República</td>\n",
       "      <td>Dotación a honorarios</td>\n",
       "      <td>Año 2018</td>\n",
       "      <td>allyear</td>\n",
       "      <td>BERRIOS</td>\n",
       "      <td>CORNEJO</td>\n",
       "      <td>PATRICIO ALFREDO</td>\n",
       "      <td>PRODUCTOR PRESIDENCIAL, DEPARTAMENTO DE PRODUC...</td>\n",
       "      <td>DISEÑADOR, CON MENCIÓN EN COMUNICACIÓN VISUAL</td>\n",
       "      <td>NaN</td>\n",
       "      <td>RM</td>\n",
       "      <td>PESOS</td>\n",
       "      <td>3220264.0</td>\n",
       "      <td>SI</td>\n",
       "      <td>01/01/2018</td>\n",
       "      <td>10/03/2018</td>\n",
       "      <td>1, 5</td>\n",
       "      <td>http://www.gobiernotransparentechile.cl/direct...</td>\n",
       "    </tr>\n",
       "    <tr>\n",
       "      <th>25</th>\n",
       "      <td>Presidencia de la República</td>\n",
       "      <td>Presidencia de la República</td>\n",
       "      <td>Dotación a honorarios</td>\n",
       "      <td>Año 2018</td>\n",
       "      <td>allyear</td>\n",
       "      <td>BOZO</td>\n",
       "      <td>HERRERA</td>\n",
       "      <td>JUAN CARLOS</td>\n",
       "      <td>CAMARÓGRAFO, DIRECCIÓN DE PRENSA, EN EL MARCO ...</td>\n",
       "      <td>COMUNICADOR AUDIOVISUAL</td>\n",
       "      <td>NaN</td>\n",
       "      <td>RM</td>\n",
       "      <td>PESOS</td>\n",
       "      <td>1932158.0</td>\n",
       "      <td>SI</td>\n",
       "      <td>01/01/2018</td>\n",
       "      <td>31/12/2018</td>\n",
       "      <td>NaN</td>\n",
       "      <td>http://www.gobiernotransparentechile.cl/direct...</td>\n",
       "    </tr>\n",
       "    <tr>\n",
       "      <th>26</th>\n",
       "      <td>Presidencia de la República</td>\n",
       "      <td>Presidencia de la República</td>\n",
       "      <td>Dotación a honorarios</td>\n",
       "      <td>Año 2018</td>\n",
       "      <td>allyear</td>\n",
       "      <td>BRAVO</td>\n",
       "      <td>VALDES</td>\n",
       "      <td>LUZ ELENA</td>\n",
       "      <td>AVANZADA PRESIDENCIAL, DEPARTAMENTO DE AVANZAD...</td>\n",
       "      <td>LICENCIA DE ENSEÑANZA MEDIA, EXPERTA EN PRODUC...</td>\n",
       "      <td>NaN</td>\n",
       "      <td>RM</td>\n",
       "      <td>PESOS</td>\n",
       "      <td>3220264.0</td>\n",
       "      <td>SI</td>\n",
       "      <td>01/01/2018</td>\n",
       "      <td>10/03/2018</td>\n",
       "      <td>1, 5</td>\n",
       "      <td>http://www.gobiernotransparentechile.cl/direct...</td>\n",
       "    </tr>\n",
       "    <tr>\n",
       "      <th>27</th>\n",
       "      <td>Presidencia de la República</td>\n",
       "      <td>Presidencia de la República</td>\n",
       "      <td>Dotación a honorarios</td>\n",
       "      <td>Año 2018</td>\n",
       "      <td>allyear</td>\n",
       "      <td>BRUNA</td>\n",
       "      <td>CARAFI</td>\n",
       "      <td>JUAN JOSÉ</td>\n",
       "      <td>DIRECTOR DE PRENSA, DIRECCIÓN DE PRENSA, EN EL...</td>\n",
       "      <td>PERIODISTA</td>\n",
       "      <td>NaN</td>\n",
       "      <td>RM</td>\n",
       "      <td>PESOS</td>\n",
       "      <td>5500000.0</td>\n",
       "      <td>SI</td>\n",
       "      <td>12/03/2018</td>\n",
       "      <td>31/12/2018</td>\n",
       "      <td>1</td>\n",
       "      <td>http://www.gobiernotransparentechile.cl/direct...</td>\n",
       "    </tr>\n",
       "    <tr>\n",
       "      <th>28</th>\n",
       "      <td>Presidencia de la República</td>\n",
       "      <td>Presidencia de la República</td>\n",
       "      <td>Dotación a honorarios</td>\n",
       "      <td>Año 2018</td>\n",
       "      <td>allyear</td>\n",
       "      <td>BRUNA</td>\n",
       "      <td>CARAFI</td>\n",
       "      <td>JUAN FRANCISCO</td>\n",
       "      <td>ENCARGADO DE PRENSA, CAMBIO DE MANDO PRESIDENCIAL</td>\n",
       "      <td>PERIODISTA</td>\n",
       "      <td>NaN</td>\n",
       "      <td>RM</td>\n",
       "      <td>PESOS</td>\n",
       "      <td>4316000.0</td>\n",
       "      <td>SI</td>\n",
       "      <td>23/01/2018</td>\n",
       "      <td>11/03/2018</td>\n",
       "      <td>1, 5</td>\n",
       "      <td>http://www.gobiernotransparentechile.cl/direct...</td>\n",
       "    </tr>\n",
       "    <tr>\n",
       "      <th>29</th>\n",
       "      <td>Presidencia de la República</td>\n",
       "      <td>Presidencia de la República</td>\n",
       "      <td>Dotación a honorarios</td>\n",
       "      <td>Año 2018</td>\n",
       "      <td>allyear</td>\n",
       "      <td>CAÑAS</td>\n",
       "      <td>MONTT</td>\n",
       "      <td>JUAN PABLO</td>\n",
       "      <td>ENCARGADO DE PRENSA GABINETE PRIMERA DAMA, GAB...</td>\n",
       "      <td>PERIODISTA</td>\n",
       "      <td>NaN</td>\n",
       "      <td>RM</td>\n",
       "      <td>PESOS</td>\n",
       "      <td>3666667.0</td>\n",
       "      <td>SI</td>\n",
       "      <td>11/03/2018</td>\n",
       "      <td>31/12/2018</td>\n",
       "      <td>1</td>\n",
       "      <td>http://www.gobiernotransparentechile.cl/direct...</td>\n",
       "    </tr>\n",
       "    <tr>\n",
       "      <th>...</th>\n",
       "      <td>...</td>\n",
       "      <td>...</td>\n",
       "      <td>...</td>\n",
       "      <td>...</td>\n",
       "      <td>...</td>\n",
       "      <td>...</td>\n",
       "      <td>...</td>\n",
       "      <td>...</td>\n",
       "      <td>...</td>\n",
       "      <td>...</td>\n",
       "      <td>...</td>\n",
       "      <td>...</td>\n",
       "      <td>...</td>\n",
       "      <td>...</td>\n",
       "      <td>...</td>\n",
       "      <td>...</td>\n",
       "      <td>...</td>\n",
       "      <td>...</td>\n",
       "      <td>...</td>\n",
       "    </tr>\n",
       "    <tr>\n",
       "      <th>111158</th>\n",
       "      <td>Ministerio del Interior y Seguridad Pública</td>\n",
       "      <td>Subsecretaría de Prevención del Delito</td>\n",
       "      <td>Dotación a honorarios</td>\n",
       "      <td>Año 2017</td>\n",
       "      <td>Abril</td>\n",
       "      <td>VALENZUELA</td>\n",
       "      <td>AQUEVEQUE</td>\n",
       "      <td>MANUEL ALFREDO</td>\n",
       "      <td>ESTAFETA ADMINISTRATIVO CAVD CONCEPCION</td>\n",
       "      <td>EXPERTO EN LABORES ADMINISTRATIVAS</td>\n",
       "      <td>NO APLICA</td>\n",
       "      <td>8</td>\n",
       "      <td>PESOS</td>\n",
       "      <td>446126.0</td>\n",
       "      <td>SI</td>\n",
       "      <td>01/01/2017</td>\n",
       "      <td>31/12/2017</td>\n",
       "      <td>NaN</td>\n",
       "      <td>http://www.gobiernotransparentechile.cl/direct...</td>\n",
       "    </tr>\n",
       "    <tr>\n",
       "      <th>111159</th>\n",
       "      <td>Ministerio del Interior y Seguridad Pública</td>\n",
       "      <td>Subsecretaría de Prevención del Delito</td>\n",
       "      <td>Dotación a honorarios</td>\n",
       "      <td>Año 2017</td>\n",
       "      <td>Abril</td>\n",
       "      <td>VALENZUELA</td>\n",
       "      <td>MAASS</td>\n",
       "      <td>CESAR IGNACIO</td>\n",
       "      <td>COORDINADOR PROGRAMA DENUNCIA SEGURO</td>\n",
       "      <td>ABOGADO</td>\n",
       "      <td>NO APLICA</td>\n",
       "      <td>13</td>\n",
       "      <td>PESOS</td>\n",
       "      <td>3416312.0</td>\n",
       "      <td>SI</td>\n",
       "      <td>01/01/2017</td>\n",
       "      <td>31/12/2017</td>\n",
       "      <td>NaN</td>\n",
       "      <td>http://www.gobiernotransparentechile.cl/direct...</td>\n",
       "    </tr>\n",
       "    <tr>\n",
       "      <th>111160</th>\n",
       "      <td>Ministerio del Interior y Seguridad Pública</td>\n",
       "      <td>Subsecretaría de Prevención del Delito</td>\n",
       "      <td>Dotación a honorarios</td>\n",
       "      <td>Año 2017</td>\n",
       "      <td>Abril</td>\n",
       "      <td>VARGAS</td>\n",
       "      <td>ARRIAGADA</td>\n",
       "      <td>LUZ GWENDOLINE ETELINDA</td>\n",
       "      <td>TRABAJADORA SOCIAL CAVD TEMUCO</td>\n",
       "      <td>ASISTENTE SOCIAL</td>\n",
       "      <td>NO APLICA</td>\n",
       "      <td>9</td>\n",
       "      <td>PESOS</td>\n",
       "      <td>1405071.0</td>\n",
       "      <td>SI</td>\n",
       "      <td>01/01/2017</td>\n",
       "      <td>31/12/2017</td>\n",
       "      <td>NaN</td>\n",
       "      <td>http://www.gobiernotransparentechile.cl/direct...</td>\n",
       "    </tr>\n",
       "    <tr>\n",
       "      <th>111161</th>\n",
       "      <td>Ministerio del Interior y Seguridad Pública</td>\n",
       "      <td>Subsecretaría de Prevención del Delito</td>\n",
       "      <td>Dotación a honorarios</td>\n",
       "      <td>Año 2017</td>\n",
       "      <td>Abril</td>\n",
       "      <td>VARGAS</td>\n",
       "      <td>CABELLO</td>\n",
       "      <td>JULIA DEL CARMEN</td>\n",
       "      <td>ESTAFETA ADMINISTRATIVA CAVD PROVIDENCIA</td>\n",
       "      <td>EXPERTA EN LABORES ADMINISTRATIVAS</td>\n",
       "      <td>NO APLICA</td>\n",
       "      <td>13</td>\n",
       "      <td>PESOS</td>\n",
       "      <td>430454.0</td>\n",
       "      <td>SI</td>\n",
       "      <td>01/01/2017</td>\n",
       "      <td>31/12/2017</td>\n",
       "      <td>NaN</td>\n",
       "      <td>http://www.gobiernotransparentechile.cl/direct...</td>\n",
       "    </tr>\n",
       "    <tr>\n",
       "      <th>111162</th>\n",
       "      <td>Ministerio del Interior y Seguridad Pública</td>\n",
       "      <td>Subsecretaría de Prevención del Delito</td>\n",
       "      <td>Dotación a honorarios</td>\n",
       "      <td>Año 2017</td>\n",
       "      <td>Abril</td>\n",
       "      <td>VARGAS</td>\n",
       "      <td>HAZBUN</td>\n",
       "      <td>CAROLINA ANDREA</td>\n",
       "      <td>PROFESIONAL UNIDAD GESTION Y DESARROLLO PROGRA...</td>\n",
       "      <td>PSICOLOGA</td>\n",
       "      <td>NO APLICA</td>\n",
       "      <td>13</td>\n",
       "      <td>PESOS</td>\n",
       "      <td>1878972.0</td>\n",
       "      <td>SI</td>\n",
       "      <td>01/01/2017</td>\n",
       "      <td>31/12/2017</td>\n",
       "      <td>NaN</td>\n",
       "      <td>http://www.gobiernotransparentechile.cl/direct...</td>\n",
       "    </tr>\n",
       "    <tr>\n",
       "      <th>111163</th>\n",
       "      <td>Ministerio del Interior y Seguridad Pública</td>\n",
       "      <td>Subsecretaría de Prevención del Delito</td>\n",
       "      <td>Dotación a honorarios</td>\n",
       "      <td>Año 2017</td>\n",
       "      <td>Abril</td>\n",
       "      <td>VARGAS</td>\n",
       "      <td>VALENZUELA</td>\n",
       "      <td>VERONICA MARGARITA</td>\n",
       "      <td>TRABAJADORA SOCIAL CAVD CONCEPCION</td>\n",
       "      <td>ASISTENTE SOCIAL</td>\n",
       "      <td>NO APLICA</td>\n",
       "      <td>8</td>\n",
       "      <td>PESOS</td>\n",
       "      <td>1528500.0</td>\n",
       "      <td>SI</td>\n",
       "      <td>01/01/2017</td>\n",
       "      <td>31/12/2017</td>\n",
       "      <td>NaN</td>\n",
       "      <td>http://www.gobiernotransparentechile.cl/direct...</td>\n",
       "    </tr>\n",
       "    <tr>\n",
       "      <th>111164</th>\n",
       "      <td>Ministerio del Interior y Seguridad Pública</td>\n",
       "      <td>Subsecretaría de Prevención del Delito</td>\n",
       "      <td>Dotación a honorarios</td>\n",
       "      <td>Año 2017</td>\n",
       "      <td>Abril</td>\n",
       "      <td>VASQUEZ</td>\n",
       "      <td>CONTRERAS</td>\n",
       "      <td>MARIA ALEJANDRA</td>\n",
       "      <td>TRABAJADORA SOCIAL CAVD SAN FERNANDO</td>\n",
       "      <td>ASISTENTE SOCIAL</td>\n",
       "      <td>NO APLICA</td>\n",
       "      <td>6</td>\n",
       "      <td>PESOS</td>\n",
       "      <td>1024894.0</td>\n",
       "      <td>SI</td>\n",
       "      <td>01/01/2017</td>\n",
       "      <td>31/12/2017</td>\n",
       "      <td>NaN</td>\n",
       "      <td>http://www.gobiernotransparentechile.cl/direct...</td>\n",
       "    </tr>\n",
       "    <tr>\n",
       "      <th>111165</th>\n",
       "      <td>Ministerio del Interior y Seguridad Pública</td>\n",
       "      <td>Subsecretaría de Prevención del Delito</td>\n",
       "      <td>Dotación a honorarios</td>\n",
       "      <td>Año 2017</td>\n",
       "      <td>Abril</td>\n",
       "      <td>VASQUEZ</td>\n",
       "      <td>FREDES</td>\n",
       "      <td>PATRICIO LEANDRO</td>\n",
       "      <td>PROFESIONAL RECEPTOR DE LLAMADAS Y ANALISTA PR...</td>\n",
       "      <td>CIENTISTA CRIMINALISTICO</td>\n",
       "      <td>NO APLICA</td>\n",
       "      <td>13</td>\n",
       "      <td>PESOS</td>\n",
       "      <td>1081832.0</td>\n",
       "      <td>SI</td>\n",
       "      <td>01/01/2017</td>\n",
       "      <td>31/12/2017</td>\n",
       "      <td>NaN</td>\n",
       "      <td>http://www.gobiernotransparentechile.cl/direct...</td>\n",
       "    </tr>\n",
       "    <tr>\n",
       "      <th>111166</th>\n",
       "      <td>Ministerio del Interior y Seguridad Pública</td>\n",
       "      <td>Subsecretaría de Prevención del Delito</td>\n",
       "      <td>Dotación a honorarios</td>\n",
       "      <td>Año 2017</td>\n",
       "      <td>Abril</td>\n",
       "      <td>VASQUEZ</td>\n",
       "      <td>MANSILLA</td>\n",
       "      <td>DANIELA ALEJANDRA</td>\n",
       "      <td>PSICOLOGA CAVD PUNTA ARENAS</td>\n",
       "      <td>PSICOLOGA</td>\n",
       "      <td>NO APLICA</td>\n",
       "      <td>12</td>\n",
       "      <td>PESOS</td>\n",
       "      <td>1342029.0</td>\n",
       "      <td>SI</td>\n",
       "      <td>01/01/2017</td>\n",
       "      <td>31/12/2017</td>\n",
       "      <td>NaN</td>\n",
       "      <td>http://www.gobiernotransparentechile.cl/direct...</td>\n",
       "    </tr>\n",
       "    <tr>\n",
       "      <th>111167</th>\n",
       "      <td>Ministerio del Interior y Seguridad Pública</td>\n",
       "      <td>Subsecretaría de Prevención del Delito</td>\n",
       "      <td>Dotación a honorarios</td>\n",
       "      <td>Año 2017</td>\n",
       "      <td>Abril</td>\n",
       "      <td>VEAS</td>\n",
       "      <td>FUENTES</td>\n",
       "      <td>CAROLINA ANDREA</td>\n",
       "      <td>ESTAFETA ADMINISTRATIVA CAVD ANTOFAGASTA</td>\n",
       "      <td>EXPERTA EN LABORES ADMINISTRATIVAS</td>\n",
       "      <td>NO APLICA</td>\n",
       "      <td>2</td>\n",
       "      <td>PESOS</td>\n",
       "      <td>453688.0</td>\n",
       "      <td>SI</td>\n",
       "      <td>01/01/2017</td>\n",
       "      <td>31/12/2017</td>\n",
       "      <td>NaN</td>\n",
       "      <td>http://www.gobiernotransparentechile.cl/direct...</td>\n",
       "    </tr>\n",
       "    <tr>\n",
       "      <th>111168</th>\n",
       "      <td>Ministerio del Interior y Seguridad Pública</td>\n",
       "      <td>Subsecretaría de Prevención del Delito</td>\n",
       "      <td>Dotación a honorarios</td>\n",
       "      <td>Año 2017</td>\n",
       "      <td>Abril</td>\n",
       "      <td>VEGA</td>\n",
       "      <td>CAMPOS</td>\n",
       "      <td>ALEJANDRO ANDRES</td>\n",
       "      <td>ASESOR DE GABINETE</td>\n",
       "      <td>ADMINISTRADOR PUBLICO</td>\n",
       "      <td>NO APLICA</td>\n",
       "      <td>13</td>\n",
       "      <td>PESOS</td>\n",
       "      <td>2990000.0</td>\n",
       "      <td>SI</td>\n",
       "      <td>13/04/2017</td>\n",
       "      <td>31/12/2017</td>\n",
       "      <td>NaN</td>\n",
       "      <td>http://www.gobiernotransparentechile.cl/direct...</td>\n",
       "    </tr>\n",
       "    <tr>\n",
       "      <th>111169</th>\n",
       "      <td>Ministerio del Interior y Seguridad Pública</td>\n",
       "      <td>Subsecretaría de Prevención del Delito</td>\n",
       "      <td>Dotación a honorarios</td>\n",
       "      <td>Año 2017</td>\n",
       "      <td>Abril</td>\n",
       "      <td>VELASCO</td>\n",
       "      <td>PEREZ</td>\n",
       "      <td>XIMENA YOLANDA</td>\n",
       "      <td>ASESORA SUBSECRETARIO</td>\n",
       "      <td>CONTADORA AUDITORA</td>\n",
       "      <td>NO APLICA</td>\n",
       "      <td>13</td>\n",
       "      <td>PESOS</td>\n",
       "      <td>3300000.0</td>\n",
       "      <td>SI</td>\n",
       "      <td>03/01/2017</td>\n",
       "      <td>31/12/2017</td>\n",
       "      <td>NaN</td>\n",
       "      <td>http://www.gobiernotransparentechile.cl/direct...</td>\n",
       "    </tr>\n",
       "    <tr>\n",
       "      <th>111170</th>\n",
       "      <td>Ministerio del Interior y Seguridad Pública</td>\n",
       "      <td>Subsecretaría de Prevención del Delito</td>\n",
       "      <td>Dotación a honorarios</td>\n",
       "      <td>Año 2017</td>\n",
       "      <td>Abril</td>\n",
       "      <td>VERA</td>\n",
       "      <td>VERA</td>\n",
       "      <td>MARJORIE ELIZABETH</td>\n",
       "      <td>PROFESIONAL RECEPTOR DE LLAMADAS Y ANALISTA PR...</td>\n",
       "      <td>TRABAJADORA SOCIAL</td>\n",
       "      <td>NO APLICA</td>\n",
       "      <td>13</td>\n",
       "      <td>PESOS</td>\n",
       "      <td>1081832.0</td>\n",
       "      <td>SI</td>\n",
       "      <td>01/01/2017</td>\n",
       "      <td>31/12/2017</td>\n",
       "      <td>NaN</td>\n",
       "      <td>http://www.gobiernotransparentechile.cl/direct...</td>\n",
       "    </tr>\n",
       "    <tr>\n",
       "      <th>111171</th>\n",
       "      <td>Ministerio del Interior y Seguridad Pública</td>\n",
       "      <td>Subsecretaría de Prevención del Delito</td>\n",
       "      <td>Dotación a honorarios</td>\n",
       "      <td>Año 2017</td>\n",
       "      <td>Abril</td>\n",
       "      <td>VERGARA</td>\n",
       "      <td>PINO</td>\n",
       "      <td>JOSE ARTURO</td>\n",
       "      <td>ASESOR DEPARTAMENTO DE ESTUDIOS Y EVALUACION D...</td>\n",
       "      <td>ASESOR(A)</td>\n",
       "      <td>NO APLICA</td>\n",
       "      <td>13</td>\n",
       "      <td>PESOS</td>\n",
       "      <td>2400000.0</td>\n",
       "      <td>SI</td>\n",
       "      <td>06/02/2017</td>\n",
       "      <td>05/05/2017</td>\n",
       "      <td>NaN</td>\n",
       "      <td>http://www.gobiernotransparentechile.cl/direct...</td>\n",
       "    </tr>\n",
       "    <tr>\n",
       "      <th>111172</th>\n",
       "      <td>Ministerio del Interior y Seguridad Pública</td>\n",
       "      <td>Subsecretaría de Prevención del Delito</td>\n",
       "      <td>Dotación a honorarios</td>\n",
       "      <td>Año 2017</td>\n",
       "      <td>Abril</td>\n",
       "      <td>VERNAL</td>\n",
       "      <td>LUNA</td>\n",
       "      <td>CAROLINA ISABEL</td>\n",
       "      <td>ASESORA TECNICA METODOLOGICO</td>\n",
       "      <td>ASISTENTE SOCIAL</td>\n",
       "      <td>NO APLICA</td>\n",
       "      <td>13</td>\n",
       "      <td>PESOS</td>\n",
       "      <td>1933762.0</td>\n",
       "      <td>SI</td>\n",
       "      <td>01/01/2017</td>\n",
       "      <td>31/12/2017</td>\n",
       "      <td>NaN</td>\n",
       "      <td>http://www.gobiernotransparentechile.cl/direct...</td>\n",
       "    </tr>\n",
       "    <tr>\n",
       "      <th>111173</th>\n",
       "      <td>Ministerio del Interior y Seguridad Pública</td>\n",
       "      <td>Subsecretaría de Prevención del Delito</td>\n",
       "      <td>Dotación a honorarios</td>\n",
       "      <td>Año 2017</td>\n",
       "      <td>Abril</td>\n",
       "      <td>VILCHES</td>\n",
       "      <td>MALHUE</td>\n",
       "      <td>HERNAN SEGUNDO</td>\n",
       "      <td>PSICOLOGO CAVD VALPARAISO</td>\n",
       "      <td>PSICOLOGO</td>\n",
       "      <td>NO APLICA</td>\n",
       "      <td>5</td>\n",
       "      <td>PESOS</td>\n",
       "      <td>966881.0</td>\n",
       "      <td>SI</td>\n",
       "      <td>01/01/2017</td>\n",
       "      <td>31/12/2017</td>\n",
       "      <td>NaN</td>\n",
       "      <td>http://www.gobiernotransparentechile.cl/direct...</td>\n",
       "    </tr>\n",
       "    <tr>\n",
       "      <th>111174</th>\n",
       "      <td>Ministerio del Interior y Seguridad Pública</td>\n",
       "      <td>Subsecretaría de Prevención del Delito</td>\n",
       "      <td>Dotación a honorarios</td>\n",
       "      <td>Año 2017</td>\n",
       "      <td>Abril</td>\n",
       "      <td>VILLABLANCA</td>\n",
       "      <td>NAVEA</td>\n",
       "      <td>VERONICA EUGENIA</td>\n",
       "      <td>ASESORA TERAPIA MULTISISTEMICA</td>\n",
       "      <td>PSICOLOGA</td>\n",
       "      <td>NO APLICA</td>\n",
       "      <td>13</td>\n",
       "      <td>PESOS</td>\n",
       "      <td>2625408.0</td>\n",
       "      <td>SI</td>\n",
       "      <td>01/01/2017</td>\n",
       "      <td>31/12/2017</td>\n",
       "      <td>NaN</td>\n",
       "      <td>http://www.gobiernotransparentechile.cl/direct...</td>\n",
       "    </tr>\n",
       "    <tr>\n",
       "      <th>111175</th>\n",
       "      <td>Ministerio del Interior y Seguridad Pública</td>\n",
       "      <td>Subsecretaría de Prevención del Delito</td>\n",
       "      <td>Dotación a honorarios</td>\n",
       "      <td>Año 2017</td>\n",
       "      <td>Abril</td>\n",
       "      <td>VILLAGRAN</td>\n",
       "      <td>MUÑOZ</td>\n",
       "      <td>KARLA ANDREA</td>\n",
       "      <td>TRABAJADORA SOCIAL CAVD CHILLAN</td>\n",
       "      <td>TRABAJADORA SOCIAL</td>\n",
       "      <td>NO APLICA</td>\n",
       "      <td>8</td>\n",
       "      <td>PESOS</td>\n",
       "      <td>1024894.0</td>\n",
       "      <td>SI</td>\n",
       "      <td>01/01/2017</td>\n",
       "      <td>31/12/2017</td>\n",
       "      <td>NaN</td>\n",
       "      <td>http://www.gobiernotransparentechile.cl/direct...</td>\n",
       "    </tr>\n",
       "    <tr>\n",
       "      <th>111176</th>\n",
       "      <td>Ministerio del Interior y Seguridad Pública</td>\n",
       "      <td>Subsecretaría de Prevención del Delito</td>\n",
       "      <td>Dotación a honorarios</td>\n",
       "      <td>Año 2017</td>\n",
       "      <td>Abril</td>\n",
       "      <td>VILLAGRAN</td>\n",
       "      <td>MUÑOZ</td>\n",
       "      <td>PAOLA BERNARDITA</td>\n",
       "      <td>ASESORA JURIDICA CAVD CONCEPCION</td>\n",
       "      <td>EXPERTA EN ASESORIA JURIDICA</td>\n",
       "      <td>NO APLICA</td>\n",
       "      <td>8</td>\n",
       "      <td>PESOS</td>\n",
       "      <td>1024608.0</td>\n",
       "      <td>SI</td>\n",
       "      <td>01/01/2017</td>\n",
       "      <td>31/12/2017</td>\n",
       "      <td>NaN</td>\n",
       "      <td>http://www.gobiernotransparentechile.cl/direct...</td>\n",
       "    </tr>\n",
       "    <tr>\n",
       "      <th>111177</th>\n",
       "      <td>Ministerio del Interior y Seguridad Pública</td>\n",
       "      <td>Subsecretaría de Prevención del Delito</td>\n",
       "      <td>Dotación a honorarios</td>\n",
       "      <td>Año 2017</td>\n",
       "      <td>Abril</td>\n",
       "      <td>VILLARREAL</td>\n",
       "      <td>JIMENEZ</td>\n",
       "      <td>ANA MARIA</td>\n",
       "      <td>ANALISTA DE TRANSPARENCIA Y ATENCION CIUDADANA</td>\n",
       "      <td>EXPERTA EN ATENCION DE USUARIOS</td>\n",
       "      <td>NO APLICA</td>\n",
       "      <td>13</td>\n",
       "      <td>PESOS</td>\n",
       "      <td>1396606.0</td>\n",
       "      <td>SI</td>\n",
       "      <td>01/01/2017</td>\n",
       "      <td>31/12/2017</td>\n",
       "      <td>NaN</td>\n",
       "      <td>http://www.gobiernotransparentechile.cl/direct...</td>\n",
       "    </tr>\n",
       "    <tr>\n",
       "      <th>111178</th>\n",
       "      <td>Ministerio del Interior y Seguridad Pública</td>\n",
       "      <td>Subsecretaría de Prevención del Delito</td>\n",
       "      <td>Dotación a honorarios</td>\n",
       "      <td>Año 2017</td>\n",
       "      <td>Abril</td>\n",
       "      <td>VIÑALS</td>\n",
       "      <td>LEZCANO</td>\n",
       "      <td>DAPNE NYCOL</td>\n",
       "      <td>PROFESIONAL RECEPTOR DE LLAMADAS Y ANALISTA PR...</td>\n",
       "      <td>CIENTISTA CRIMINALISTICO</td>\n",
       "      <td>NO APLICA</td>\n",
       "      <td>13</td>\n",
       "      <td>PESOS</td>\n",
       "      <td>569385.0</td>\n",
       "      <td>SI</td>\n",
       "      <td>01/01/2017</td>\n",
       "      <td>31/12/2017</td>\n",
       "      <td>NaN</td>\n",
       "      <td>http://www.gobiernotransparentechile.cl/direct...</td>\n",
       "    </tr>\n",
       "    <tr>\n",
       "      <th>111179</th>\n",
       "      <td>Ministerio del Interior y Seguridad Pública</td>\n",
       "      <td>Subsecretaría de Prevención del Delito</td>\n",
       "      <td>Dotación a honorarios</td>\n",
       "      <td>Año 2017</td>\n",
       "      <td>Abril</td>\n",
       "      <td>VISCAY</td>\n",
       "      <td>SANTANA</td>\n",
       "      <td>IVONNE DE FRANCIA</td>\n",
       "      <td>PSICOLOGA CAVD MAIPU</td>\n",
       "      <td>PSICOLOGA</td>\n",
       "      <td>NO APLICA</td>\n",
       "      <td>13</td>\n",
       "      <td>PESOS</td>\n",
       "      <td>928800.0</td>\n",
       "      <td>SI</td>\n",
       "      <td>01/01/2017</td>\n",
       "      <td>31/12/2017</td>\n",
       "      <td>NaN</td>\n",
       "      <td>http://www.gobiernotransparentechile.cl/direct...</td>\n",
       "    </tr>\n",
       "    <tr>\n",
       "      <th>111180</th>\n",
       "      <td>Ministerio del Interior y Seguridad Pública</td>\n",
       "      <td>Subsecretaría de Prevención del Delito</td>\n",
       "      <td>Dotación a honorarios</td>\n",
       "      <td>Año 2017</td>\n",
       "      <td>Abril</td>\n",
       "      <td>WINTER</td>\n",
       "      <td>PEREZ</td>\n",
       "      <td>CRISTHIAN KARL</td>\n",
       "      <td>ASESOR TECNICO VALDIVIA</td>\n",
       "      <td>EXPERTO EN MATERIAS DE SEGURIDAD</td>\n",
       "      <td>NO APLICA</td>\n",
       "      <td>14</td>\n",
       "      <td>PESOS</td>\n",
       "      <td>1897951.0</td>\n",
       "      <td>SI</td>\n",
       "      <td>01/01/2017</td>\n",
       "      <td>31/12/2017</td>\n",
       "      <td>NaN</td>\n",
       "      <td>http://www.gobiernotransparentechile.cl/direct...</td>\n",
       "    </tr>\n",
       "    <tr>\n",
       "      <th>111181</th>\n",
       "      <td>Ministerio del Interior y Seguridad Pública</td>\n",
       "      <td>Subsecretaría de Prevención del Delito</td>\n",
       "      <td>Dotación a honorarios</td>\n",
       "      <td>Año 2017</td>\n",
       "      <td>Abril</td>\n",
       "      <td>YAÑEZ</td>\n",
       "      <td>CONTRERAS</td>\n",
       "      <td>LUIS HUMBERTO</td>\n",
       "      <td>APOYO ADMINISTRATIVO DEPARTAMENTO DE ADMINISTR...</td>\n",
       "      <td>EXPERTO EN LABORES ADMINISTRATIVAS</td>\n",
       "      <td>NO APLICA</td>\n",
       "      <td>13</td>\n",
       "      <td>PESOS</td>\n",
       "      <td>930375.0</td>\n",
       "      <td>SI</td>\n",
       "      <td>01/01/2017</td>\n",
       "      <td>31/12/2017</td>\n",
       "      <td>NaN</td>\n",
       "      <td>http://www.gobiernotransparentechile.cl/direct...</td>\n",
       "    </tr>\n",
       "    <tr>\n",
       "      <th>111182</th>\n",
       "      <td>Ministerio del Interior y Seguridad Pública</td>\n",
       "      <td>Subsecretaría de Prevención del Delito</td>\n",
       "      <td>Dotación a honorarios</td>\n",
       "      <td>Año 2017</td>\n",
       "      <td>Abril</td>\n",
       "      <td>ZAMBRANO</td>\n",
       "      <td>PANTOJA</td>\n",
       "      <td>KARLA ANDREA</td>\n",
       "      <td>ASESORA TERAPIA MULTISISTEMICA</td>\n",
       "      <td>PSICOLOGA</td>\n",
       "      <td>NO APLICA</td>\n",
       "      <td>13</td>\n",
       "      <td>PESOS</td>\n",
       "      <td>2505296.0</td>\n",
       "      <td>SI</td>\n",
       "      <td>01/01/2017</td>\n",
       "      <td>31/12/2017</td>\n",
       "      <td>NaN</td>\n",
       "      <td>http://www.gobiernotransparentechile.cl/direct...</td>\n",
       "    </tr>\n",
       "    <tr>\n",
       "      <th>111183</th>\n",
       "      <td>Ministerio del Interior y Seguridad Pública</td>\n",
       "      <td>Subsecretaría de Prevención del Delito</td>\n",
       "      <td>Dotación a honorarios</td>\n",
       "      <td>Año 2017</td>\n",
       "      <td>Abril</td>\n",
       "      <td>ZENTENO</td>\n",
       "      <td>GAJARDO</td>\n",
       "      <td>LORENA ANDREA</td>\n",
       "      <td>PSICOLOGA CAVD CURICO</td>\n",
       "      <td>PSICOLOGA</td>\n",
       "      <td>NO APLICA</td>\n",
       "      <td>7</td>\n",
       "      <td>PESOS</td>\n",
       "      <td>1178628.0</td>\n",
       "      <td>SI</td>\n",
       "      <td>01/01/2017</td>\n",
       "      <td>31/12/2017</td>\n",
       "      <td>NaN</td>\n",
       "      <td>http://www.gobiernotransparentechile.cl/direct...</td>\n",
       "    </tr>\n",
       "    <tr>\n",
       "      <th>111184</th>\n",
       "      <td>Ministerio del Interior y Seguridad Pública</td>\n",
       "      <td>Subsecretaría de Prevención del Delito</td>\n",
       "      <td>Dotación a honorarios</td>\n",
       "      <td>Año 2017</td>\n",
       "      <td>Abril</td>\n",
       "      <td>ZENTENO</td>\n",
       "      <td>ORTEGA</td>\n",
       "      <td>HELIA CATALINA ROSA</td>\n",
       "      <td>ESTAFETA ADMINISTRATIVA CAVD LOS ANGELES</td>\n",
       "      <td>EXPERTA EN LABORES ADMINISTRATIVAS</td>\n",
       "      <td>NO APLICA</td>\n",
       "      <td>8</td>\n",
       "      <td>PESOS</td>\n",
       "      <td>371520.0</td>\n",
       "      <td>SI</td>\n",
       "      <td>01/01/2017</td>\n",
       "      <td>31/12/2017</td>\n",
       "      <td>NaN</td>\n",
       "      <td>http://www.gobiernotransparentechile.cl/direct...</td>\n",
       "    </tr>\n",
       "    <tr>\n",
       "      <th>111185</th>\n",
       "      <td>Ministerio del Interior y Seguridad Pública</td>\n",
       "      <td>Subsecretaría de Prevención del Delito</td>\n",
       "      <td>Dotación a honorarios</td>\n",
       "      <td>Año 2017</td>\n",
       "      <td>Abril</td>\n",
       "      <td>ZEPEDA</td>\n",
       "      <td>OSORIO</td>\n",
       "      <td>NADIA CAROLINA</td>\n",
       "      <td>ASESORA SERVICIO DE INTERVENCION INMEDIATA CAV...</td>\n",
       "      <td>PSICOLOGA</td>\n",
       "      <td>NO APLICA</td>\n",
       "      <td>13</td>\n",
       "      <td>PESOS</td>\n",
       "      <td>1252648.0</td>\n",
       "      <td>SI</td>\n",
       "      <td>01/01/2017</td>\n",
       "      <td>31/12/2017</td>\n",
       "      <td>NaN</td>\n",
       "      <td>http://www.gobiernotransparentechile.cl/direct...</td>\n",
       "    </tr>\n",
       "    <tr>\n",
       "      <th>111186</th>\n",
       "      <td>Ministerio del Interior y Seguridad Pública</td>\n",
       "      <td>Subsecretaría de Prevención del Delito</td>\n",
       "      <td>Dotación a honorarios</td>\n",
       "      <td>Año 2017</td>\n",
       "      <td>Abril</td>\n",
       "      <td>ZEPEDA</td>\n",
       "      <td>TORRES</td>\n",
       "      <td>CAROLINA ALEJANDRA</td>\n",
       "      <td>COORDINADORA REGIONAL IQUIQUE</td>\n",
       "      <td>ASISTENTE SOCIAL</td>\n",
       "      <td>NO APLICA</td>\n",
       "      <td>1</td>\n",
       "      <td>PESOS</td>\n",
       "      <td>3163251.0</td>\n",
       "      <td>SI</td>\n",
       "      <td>01/01/2017</td>\n",
       "      <td>31/12/2017</td>\n",
       "      <td>NaN</td>\n",
       "      <td>http://www.gobiernotransparentechile.cl/direct...</td>\n",
       "    </tr>\n",
       "    <tr>\n",
       "      <th>111187</th>\n",
       "      <td>Ministerio del Interior y Seguridad Pública</td>\n",
       "      <td>Subsecretaría de Prevención del Delito</td>\n",
       "      <td>Dotación a honorarios</td>\n",
       "      <td>Año 2017</td>\n",
       "      <td>Abril</td>\n",
       "      <td>ZUÑIGA</td>\n",
       "      <td>LIZAMA</td>\n",
       "      <td>LILIAN MERCEDES</td>\n",
       "      <td>ABOGADA CAVD LINARES</td>\n",
       "      <td>ABOGADA</td>\n",
       "      <td>NO APLICA</td>\n",
       "      <td>7</td>\n",
       "      <td>PESOS</td>\n",
       "      <td>1423463.0</td>\n",
       "      <td>SI</td>\n",
       "      <td>01/01/2017</td>\n",
       "      <td>31/12/2017</td>\n",
       "      <td>NaN</td>\n",
       "      <td>http://www.gobiernotransparentechile.cl/direct...</td>\n",
       "    </tr>\n",
       "  </tbody>\n",
       "</table>\n",
       "<p>111188 rows × 19 columns</p>\n",
       "</div>"
      ],
      "text/plain": [
       "                                                 0   \\\n",
       "0                       Presidencia de la República   \n",
       "1                       Presidencia de la República   \n",
       "2                       Presidencia de la República   \n",
       "3                       Presidencia de la República   \n",
       "4                       Presidencia de la República   \n",
       "5                       Presidencia de la República   \n",
       "6                       Presidencia de la República   \n",
       "7                       Presidencia de la República   \n",
       "8                       Presidencia de la República   \n",
       "9                       Presidencia de la República   \n",
       "10                      Presidencia de la República   \n",
       "11                      Presidencia de la República   \n",
       "12                      Presidencia de la República   \n",
       "13                      Presidencia de la República   \n",
       "14                      Presidencia de la República   \n",
       "15                      Presidencia de la República   \n",
       "16                      Presidencia de la República   \n",
       "17                      Presidencia de la República   \n",
       "18                      Presidencia de la República   \n",
       "19                      Presidencia de la República   \n",
       "20                      Presidencia de la República   \n",
       "21                      Presidencia de la República   \n",
       "22                      Presidencia de la República   \n",
       "23                      Presidencia de la República   \n",
       "24                      Presidencia de la República   \n",
       "25                      Presidencia de la República   \n",
       "26                      Presidencia de la República   \n",
       "27                      Presidencia de la República   \n",
       "28                      Presidencia de la República   \n",
       "29                      Presidencia de la República   \n",
       "...                                             ...   \n",
       "111158  Ministerio del Interior y Seguridad Pública   \n",
       "111159  Ministerio del Interior y Seguridad Pública   \n",
       "111160  Ministerio del Interior y Seguridad Pública   \n",
       "111161  Ministerio del Interior y Seguridad Pública   \n",
       "111162  Ministerio del Interior y Seguridad Pública   \n",
       "111163  Ministerio del Interior y Seguridad Pública   \n",
       "111164  Ministerio del Interior y Seguridad Pública   \n",
       "111165  Ministerio del Interior y Seguridad Pública   \n",
       "111166  Ministerio del Interior y Seguridad Pública   \n",
       "111167  Ministerio del Interior y Seguridad Pública   \n",
       "111168  Ministerio del Interior y Seguridad Pública   \n",
       "111169  Ministerio del Interior y Seguridad Pública   \n",
       "111170  Ministerio del Interior y Seguridad Pública   \n",
       "111171  Ministerio del Interior y Seguridad Pública   \n",
       "111172  Ministerio del Interior y Seguridad Pública   \n",
       "111173  Ministerio del Interior y Seguridad Pública   \n",
       "111174  Ministerio del Interior y Seguridad Pública   \n",
       "111175  Ministerio del Interior y Seguridad Pública   \n",
       "111176  Ministerio del Interior y Seguridad Pública   \n",
       "111177  Ministerio del Interior y Seguridad Pública   \n",
       "111178  Ministerio del Interior y Seguridad Pública   \n",
       "111179  Ministerio del Interior y Seguridad Pública   \n",
       "111180  Ministerio del Interior y Seguridad Pública   \n",
       "111181  Ministerio del Interior y Seguridad Pública   \n",
       "111182  Ministerio del Interior y Seguridad Pública   \n",
       "111183  Ministerio del Interior y Seguridad Pública   \n",
       "111184  Ministerio del Interior y Seguridad Pública   \n",
       "111185  Ministerio del Interior y Seguridad Pública   \n",
       "111186  Ministerio del Interior y Seguridad Pública   \n",
       "111187  Ministerio del Interior y Seguridad Pública   \n",
       "\n",
       "                                            1                      2   \\\n",
       "0                  Presidencia de la República  Dotación a honorarios   \n",
       "1                  Presidencia de la República  Dotación a honorarios   \n",
       "2                  Presidencia de la República  Dotación a honorarios   \n",
       "3                  Presidencia de la República  Dotación a honorarios   \n",
       "4                  Presidencia de la República  Dotación a honorarios   \n",
       "5                  Presidencia de la República  Dotación a honorarios   \n",
       "6                  Presidencia de la República  Dotación a honorarios   \n",
       "7                  Presidencia de la República  Dotación a honorarios   \n",
       "8                  Presidencia de la República  Dotación a honorarios   \n",
       "9                  Presidencia de la República  Dotación a honorarios   \n",
       "10                 Presidencia de la República  Dotación a honorarios   \n",
       "11                 Presidencia de la República  Dotación a honorarios   \n",
       "12                 Presidencia de la República  Dotación a honorarios   \n",
       "13                 Presidencia de la República  Dotación a honorarios   \n",
       "14                 Presidencia de la República  Dotación a honorarios   \n",
       "15                 Presidencia de la República  Dotación a honorarios   \n",
       "16                 Presidencia de la República  Dotación a honorarios   \n",
       "17                 Presidencia de la República  Dotación a honorarios   \n",
       "18                 Presidencia de la República  Dotación a honorarios   \n",
       "19                 Presidencia de la República  Dotación a honorarios   \n",
       "20                 Presidencia de la República  Dotación a honorarios   \n",
       "21                 Presidencia de la República  Dotación a honorarios   \n",
       "22                 Presidencia de la República  Dotación a honorarios   \n",
       "23                 Presidencia de la República  Dotación a honorarios   \n",
       "24                 Presidencia de la República  Dotación a honorarios   \n",
       "25                 Presidencia de la República  Dotación a honorarios   \n",
       "26                 Presidencia de la República  Dotación a honorarios   \n",
       "27                 Presidencia de la República  Dotación a honorarios   \n",
       "28                 Presidencia de la República  Dotación a honorarios   \n",
       "29                 Presidencia de la República  Dotación a honorarios   \n",
       "...                                        ...                    ...   \n",
       "111158  Subsecretaría de Prevención del Delito  Dotación a honorarios   \n",
       "111159  Subsecretaría de Prevención del Delito  Dotación a honorarios   \n",
       "111160  Subsecretaría de Prevención del Delito  Dotación a honorarios   \n",
       "111161  Subsecretaría de Prevención del Delito  Dotación a honorarios   \n",
       "111162  Subsecretaría de Prevención del Delito  Dotación a honorarios   \n",
       "111163  Subsecretaría de Prevención del Delito  Dotación a honorarios   \n",
       "111164  Subsecretaría de Prevención del Delito  Dotación a honorarios   \n",
       "111165  Subsecretaría de Prevención del Delito  Dotación a honorarios   \n",
       "111166  Subsecretaría de Prevención del Delito  Dotación a honorarios   \n",
       "111167  Subsecretaría de Prevención del Delito  Dotación a honorarios   \n",
       "111168  Subsecretaría de Prevención del Delito  Dotación a honorarios   \n",
       "111169  Subsecretaría de Prevención del Delito  Dotación a honorarios   \n",
       "111170  Subsecretaría de Prevención del Delito  Dotación a honorarios   \n",
       "111171  Subsecretaría de Prevención del Delito  Dotación a honorarios   \n",
       "111172  Subsecretaría de Prevención del Delito  Dotación a honorarios   \n",
       "111173  Subsecretaría de Prevención del Delito  Dotación a honorarios   \n",
       "111174  Subsecretaría de Prevención del Delito  Dotación a honorarios   \n",
       "111175  Subsecretaría de Prevención del Delito  Dotación a honorarios   \n",
       "111176  Subsecretaría de Prevención del Delito  Dotación a honorarios   \n",
       "111177  Subsecretaría de Prevención del Delito  Dotación a honorarios   \n",
       "111178  Subsecretaría de Prevención del Delito  Dotación a honorarios   \n",
       "111179  Subsecretaría de Prevención del Delito  Dotación a honorarios   \n",
       "111180  Subsecretaría de Prevención del Delito  Dotación a honorarios   \n",
       "111181  Subsecretaría de Prevención del Delito  Dotación a honorarios   \n",
       "111182  Subsecretaría de Prevención del Delito  Dotación a honorarios   \n",
       "111183  Subsecretaría de Prevención del Delito  Dotación a honorarios   \n",
       "111184  Subsecretaría de Prevención del Delito  Dotación a honorarios   \n",
       "111185  Subsecretaría de Prevención del Delito  Dotación a honorarios   \n",
       "111186  Subsecretaría de Prevención del Delito  Dotación a honorarios   \n",
       "111187  Subsecretaría de Prevención del Delito  Dotación a honorarios   \n",
       "\n",
       "              3        4            5           6                        7   \\\n",
       "0       Año 2018  allyear   ABBAGLIATI       BOILS            ENZO VITTORIO   \n",
       "1       Año 2018  allyear       ADONIS   PARRAGUEZ                HUGO RENE   \n",
       "2       Año 2018  allyear     AGUILERA     ARAVENA          MARIO ALEJANDRO   \n",
       "3       Año 2018  allyear      AGUIRRE      ROMERO           BENJAMIN PEDRO   \n",
       "4       Año 2018  allyear      AHUMADA      TORRES                    JORGE   \n",
       "5       Año 2018  allyear       AJENJO    MARTINEZ            FELIPE ANDRES   \n",
       "6       Año 2018  allyear      ALARCON     CANCINO            JOHANA LESLEI   \n",
       "7       Año 2018  allyear      ALCALDE      CORREA                FRANCISCA   \n",
       "8       Año 2018  allyear   ALTAMIRANO      MOLINA                   XAVIER   \n",
       "9       Año 2018  allyear      ARACENA     GARRIDO           GUSTAVO ISMAEL   \n",
       "10      Año 2018  allyear      ARANEDA    SANHUEZA            FELIPE ANDRES   \n",
       "11      Año 2018  allyear      ARANEDA    BARAHONA        FRANCISCO ALFONSO   \n",
       "12      Año 2018  allyear      ARIZTÍA      CORREA                   RAFAEL   \n",
       "13      Año 2018  allyear    ARRIAGADA    RIQUELME           ARMANDO HELENO   \n",
       "14      Año 2018  allyear       ARROYO   SEPULVEDA              JUAN MANUEL   \n",
       "15      Año 2018  allyear        ATIAS    CASTILLO            PAULA ANTONIA   \n",
       "16      Año 2018  allyear        AYALA      BARRIA          JORGE SEBASTIAN   \n",
       "17      Año 2018  allyear        BAEZA      RIVERO      VERÓNICA DEL CARMEN   \n",
       "18      Año 2018  allyear   BALLADARES    LETELIER               ANDREA PAZ   \n",
       "19      Año 2018  allyear      BARANDA      FERRÁN              BENITO JOSÉ   \n",
       "20      Año 2018  allyear    BARNACHEA     VASQUEZ          HUMBERTO FELIPE   \n",
       "21      Año 2018  allyear     BASCUÑÁN        TORO           RODRIGO JAVIER   \n",
       "22      Año 2018  allyear       BASCUR       TAPIA         FRANCISCO ANDRÉS   \n",
       "23      Año 2018  allyear        BELLO    ARELLANO                   DANIEL   \n",
       "24      Año 2018  allyear      BERRIOS     CORNEJO         PATRICIO ALFREDO   \n",
       "25      Año 2018  allyear         BOZO     HERRERA              JUAN CARLOS   \n",
       "26      Año 2018  allyear        BRAVO      VALDES                LUZ ELENA   \n",
       "27      Año 2018  allyear        BRUNA      CARAFI                JUAN JOSÉ   \n",
       "28      Año 2018  allyear        BRUNA      CARAFI           JUAN FRANCISCO   \n",
       "29      Año 2018  allyear        CAÑAS       MONTT               JUAN PABLO   \n",
       "...          ...      ...          ...         ...                      ...   \n",
       "111158  Año 2017    Abril   VALENZUELA   AQUEVEQUE           MANUEL ALFREDO   \n",
       "111159  Año 2017    Abril   VALENZUELA       MAASS            CESAR IGNACIO   \n",
       "111160  Año 2017    Abril       VARGAS   ARRIAGADA  LUZ GWENDOLINE ETELINDA   \n",
       "111161  Año 2017    Abril       VARGAS     CABELLO         JULIA DEL CARMEN   \n",
       "111162  Año 2017    Abril       VARGAS      HAZBUN          CAROLINA ANDREA   \n",
       "111163  Año 2017    Abril       VARGAS  VALENZUELA       VERONICA MARGARITA   \n",
       "111164  Año 2017    Abril      VASQUEZ   CONTRERAS          MARIA ALEJANDRA   \n",
       "111165  Año 2017    Abril      VASQUEZ      FREDES         PATRICIO LEANDRO   \n",
       "111166  Año 2017    Abril      VASQUEZ    MANSILLA        DANIELA ALEJANDRA   \n",
       "111167  Año 2017    Abril         VEAS     FUENTES          CAROLINA ANDREA   \n",
       "111168  Año 2017    Abril         VEGA      CAMPOS         ALEJANDRO ANDRES   \n",
       "111169  Año 2017    Abril      VELASCO       PEREZ           XIMENA YOLANDA   \n",
       "111170  Año 2017    Abril         VERA        VERA       MARJORIE ELIZABETH   \n",
       "111171  Año 2017    Abril      VERGARA        PINO              JOSE ARTURO   \n",
       "111172  Año 2017    Abril       VERNAL        LUNA          CAROLINA ISABEL   \n",
       "111173  Año 2017    Abril      VILCHES      MALHUE           HERNAN SEGUNDO   \n",
       "111174  Año 2017    Abril  VILLABLANCA       NAVEA         VERONICA EUGENIA   \n",
       "111175  Año 2017    Abril    VILLAGRAN       MUÑOZ             KARLA ANDREA   \n",
       "111176  Año 2017    Abril    VILLAGRAN       MUÑOZ         PAOLA BERNARDITA   \n",
       "111177  Año 2017    Abril   VILLARREAL     JIMENEZ                ANA MARIA   \n",
       "111178  Año 2017    Abril       VIÑALS     LEZCANO              DAPNE NYCOL   \n",
       "111179  Año 2017    Abril       VISCAY     SANTANA        IVONNE DE FRANCIA   \n",
       "111180  Año 2017    Abril       WINTER       PEREZ           CRISTHIAN KARL   \n",
       "111181  Año 2017    Abril        YAÑEZ   CONTRERAS            LUIS HUMBERTO   \n",
       "111182  Año 2017    Abril     ZAMBRANO     PANTOJA             KARLA ANDREA   \n",
       "111183  Año 2017    Abril      ZENTENO     GAJARDO            LORENA ANDREA   \n",
       "111184  Año 2017    Abril      ZENTENO      ORTEGA      HELIA CATALINA ROSA   \n",
       "111185  Año 2017    Abril       ZEPEDA      OSORIO           NADIA CAROLINA   \n",
       "111186  Año 2017    Abril       ZEPEDA      TORRES       CAROLINA ALEJANDRA   \n",
       "111187  Año 2017    Abril       ZUÑIGA      LIZAMA          LILIAN MERCEDES   \n",
       "\n",
       "                                                       8   \\\n",
       "0       ASESOR, DIRECCIÓN DE PRENSA, EN EL MARCO DEL P...   \n",
       "1       ASISTENTE ACTIVIDADES FOTOGRÁFICAS Y DE REGIST...   \n",
       "2       PRODUCCIÓN Y DESARROLLO DE ACTIVIDADES COMUNIC...   \n",
       "3       PERIODISTA, DIRECCIÓN DE PRENSA, EN EL MARCO D...   \n",
       "4       PRODUCTOR, DEPARTAMENTO DE PRODUCCIÓN PRESIDEN...   \n",
       "5       ASESOR, DEPARTAMENTO DE GESTIÓN DE POLÍTICAS P...   \n",
       "6       APOYO AUDITOR, SUBVENCIONES PRESIDENCIALES, EN...   \n",
       "7       ENCARGADA, DEPARTAMENTO REPOSTERO PRESIDENCIAL...   \n",
       "8       ASESOR, DEPARTAMENTO DE CONTENIDOS, EN EL MARC...   \n",
       "9       PERIODISTA, DIRECCIÓN DE PRENSA, EN EL MARCO D...   \n",
       "10      ASISTENTE, DEPARTAMENTO DE AVANZADA PRESIDENCI...   \n",
       "11      ASISTENTE ACTIVIDADES FOTOGRÁFICAS Y DE REGIST...   \n",
       "12      DIRECTOR DE PROYECTOS ESPECIALES, GABINETE PRE...   \n",
       "13      AVANZADA PRESIDENCIAL, DEPARTAMENTO DE AVANZAD...   \n",
       "14               PERIODISTA, CAMBIO DE MANDO PRESIDENCIAL   \n",
       "15      ASISTENTE DIRECTORA, GABINETE PRESIDENCIAL, EN...   \n",
       "16      ANALISTA, SUBVENCIONES PRESIDENCIALES, EN EL M...   \n",
       "17      ASESORA, GABINETE PRESIDENCIAL, EN EL MARCO DE...   \n",
       "18      CORDINADORA VISITAS OFICIALES E INVITADOS , CA...   \n",
       "19      COORDINADOR DE LA VISITA PAPAL A CHILE, DIRECC...   \n",
       "20      ENCARGADO, DEPARTAMENTO DE AVANZADA PRESIDENCI...   \n",
       "21      ANALISTA, DIRECCIÓN DE GESTIÓN Y CORRESPONDENC...   \n",
       "22      AVANZADA PRESIDENCIAL, DEPARTAMENTO DE AVANZAD...   \n",
       "23      ASESOR, DEPARTAMENTO DE CONTENIDOS, EN EL MARC...   \n",
       "24      PRODUCTOR PRESIDENCIAL, DEPARTAMENTO DE PRODUC...   \n",
       "25      CAMARÓGRAFO, DIRECCIÓN DE PRENSA, EN EL MARCO ...   \n",
       "26      AVANZADA PRESIDENCIAL, DEPARTAMENTO DE AVANZAD...   \n",
       "27      DIRECTOR DE PRENSA, DIRECCIÓN DE PRENSA, EN EL...   \n",
       "28      ENCARGADO DE PRENSA, CAMBIO DE MANDO PRESIDENCIAL   \n",
       "29      ENCARGADO DE PRENSA GABINETE PRIMERA DAMA, GAB...   \n",
       "...                                                   ...   \n",
       "111158            ESTAFETA ADMINISTRATIVO CAVD CONCEPCION   \n",
       "111159               COORDINADOR PROGRAMA DENUNCIA SEGURO   \n",
       "111160                     TRABAJADORA SOCIAL CAVD TEMUCO   \n",
       "111161           ESTAFETA ADMINISTRATIVA CAVD PROVIDENCIA   \n",
       "111162  PROFESIONAL UNIDAD GESTION Y DESARROLLO PROGRA...   \n",
       "111163                 TRABAJADORA SOCIAL CAVD CONCEPCION   \n",
       "111164               TRABAJADORA SOCIAL CAVD SAN FERNANDO   \n",
       "111165  PROFESIONAL RECEPTOR DE LLAMADAS Y ANALISTA PR...   \n",
       "111166                        PSICOLOGA CAVD PUNTA ARENAS   \n",
       "111167           ESTAFETA ADMINISTRATIVA CAVD ANTOFAGASTA   \n",
       "111168                                 ASESOR DE GABINETE   \n",
       "111169                              ASESORA SUBSECRETARIO   \n",
       "111170  PROFESIONAL RECEPTOR DE LLAMADAS Y ANALISTA PR...   \n",
       "111171  ASESOR DEPARTAMENTO DE ESTUDIOS Y EVALUACION D...   \n",
       "111172                       ASESORA TECNICA METODOLOGICO   \n",
       "111173                          PSICOLOGO CAVD VALPARAISO   \n",
       "111174                     ASESORA TERAPIA MULTISISTEMICA   \n",
       "111175                    TRABAJADORA SOCIAL CAVD CHILLAN   \n",
       "111176                   ASESORA JURIDICA CAVD CONCEPCION   \n",
       "111177     ANALISTA DE TRANSPARENCIA Y ATENCION CIUDADANA   \n",
       "111178  PROFESIONAL RECEPTOR DE LLAMADAS Y ANALISTA PR...   \n",
       "111179                               PSICOLOGA CAVD MAIPU   \n",
       "111180                            ASESOR TECNICO VALDIVIA   \n",
       "111181  APOYO ADMINISTRATIVO DEPARTAMENTO DE ADMINISTR...   \n",
       "111182                     ASESORA TERAPIA MULTISISTEMICA   \n",
       "111183                              PSICOLOGA CAVD CURICO   \n",
       "111184           ESTAFETA ADMINISTRATIVA CAVD LOS ANGELES   \n",
       "111185  ASESORA SERVICIO DE INTERVENCION INMEDIATA CAV...   \n",
       "111186                      COORDINADORA REGIONAL IQUIQUE   \n",
       "111187                               ABOGADA CAVD LINARES   \n",
       "\n",
       "                                                       9          10  11  \\\n",
       "0                                  LICENCIADO EN HISTORIA        NaN  RM   \n",
       "1       LICENCIADO EN ARTES PLÁSTICAS CON MENCIÓN EN G...        NaN  RM   \n",
       "2                                              PUBLICISTA        NaN  RM   \n",
       "3          MAGÍSTER EN PERIODISMO, MENCIÓN PRENSA ESCRITA        NaN  RM   \n",
       "4                        EXPERTO EN AVANZADA PRESIDENCIAL        NaN  RM   \n",
       "5                      SOCIÓLOGO, MASTER IN PUBLIC POLICY        NaN  RM   \n",
       "6                             LICENCIA DE ENSEÑANZA MEDIA        NaN  RM   \n",
       "7       PRODUCCIÓN CULINARIA CON MENCIÓN EN ADMINISTRA...        NaN  RM   \n",
       "8       CIENTISTA POLÍTICO, MASTER EN COMUNICACIÓN POL...        NaN  RM   \n",
       "9                                              PERIODISTA        NaN  RM   \n",
       "10      TÉCNICO ADMINISTRACIÓN DE EMPRESAS, MENCIÓN MA...        NaN  RM   \n",
       "11                                              FOTÓGRAFO        NaN  RM   \n",
       "12                          INGENIERO CIVIL DE INDUSTRIAS        NaN  RM   \n",
       "13      LICENCIA DE ENSEÑANZA MEDIA, EXPERTO EN GESTIÓ...        NaN  RM   \n",
       "14                                             PERIODISTA        NaN  RM   \n",
       "15                                   LICENCIADA EN LETRAS        NaN  RM   \n",
       "16      EGRESADO PROGRAMA DE ESTUDIO ANALISTA PROGRAMADOR        NaN  RM   \n",
       "17      TÉCNICO EN ADMINISTRACIÓN, MENCIÓN DECORACIÓN ...        NaN  RM   \n",
       "18                            LICENCIA DE ENSEÑANZA MEDIA        NaN  RM   \n",
       "19                                              PSICÓLOGO        NaN  RM   \n",
       "20      PROFESOR DE ESTADO EN FILOSOFÍA, MAGÍSTER EN C...        NaN  RM   \n",
       "21      LICENCIADO EN INGENIERÍA EXPERTO EN GESTIÓN Y ...        NaN  RM   \n",
       "22                                       ASISTENTE SOCIAL        NaN  RM   \n",
       "23      PROFESOR DE ARTES MUSICALES PARA EDUCACIÓN BÁS...        NaN  RM   \n",
       "24          DISEÑADOR, CON MENCIÓN EN COMUNICACIÓN VISUAL        NaN  RM   \n",
       "25                                COMUNICADOR AUDIOVISUAL        NaN  RM   \n",
       "26      LICENCIA DE ENSEÑANZA MEDIA, EXPERTA EN PRODUC...        NaN  RM   \n",
       "27                                             PERIODISTA        NaN  RM   \n",
       "28                                             PERIODISTA        NaN  RM   \n",
       "29                                             PERIODISTA        NaN  RM   \n",
       "...                                                   ...        ...  ..   \n",
       "111158                 EXPERTO EN LABORES ADMINISTRATIVAS  NO APLICA   8   \n",
       "111159                                            ABOGADO  NO APLICA  13   \n",
       "111160                                   ASISTENTE SOCIAL  NO APLICA   9   \n",
       "111161                 EXPERTA EN LABORES ADMINISTRATIVAS  NO APLICA  13   \n",
       "111162                                          PSICOLOGA  NO APLICA  13   \n",
       "111163                                   ASISTENTE SOCIAL  NO APLICA   8   \n",
       "111164                                   ASISTENTE SOCIAL  NO APLICA   6   \n",
       "111165                           CIENTISTA CRIMINALISTICO  NO APLICA  13   \n",
       "111166                                          PSICOLOGA  NO APLICA  12   \n",
       "111167                 EXPERTA EN LABORES ADMINISTRATIVAS  NO APLICA   2   \n",
       "111168                              ADMINISTRADOR PUBLICO  NO APLICA  13   \n",
       "111169                                 CONTADORA AUDITORA  NO APLICA  13   \n",
       "111170                                 TRABAJADORA SOCIAL  NO APLICA  13   \n",
       "111171                                          ASESOR(A)  NO APLICA  13   \n",
       "111172                                   ASISTENTE SOCIAL  NO APLICA  13   \n",
       "111173                                          PSICOLOGO  NO APLICA   5   \n",
       "111174                                          PSICOLOGA  NO APLICA  13   \n",
       "111175                                 TRABAJADORA SOCIAL  NO APLICA   8   \n",
       "111176                       EXPERTA EN ASESORIA JURIDICA  NO APLICA   8   \n",
       "111177                    EXPERTA EN ATENCION DE USUARIOS  NO APLICA  13   \n",
       "111178                           CIENTISTA CRIMINALISTICO  NO APLICA  13   \n",
       "111179                                          PSICOLOGA  NO APLICA  13   \n",
       "111180                   EXPERTO EN MATERIAS DE SEGURIDAD  NO APLICA  14   \n",
       "111181                 EXPERTO EN LABORES ADMINISTRATIVAS  NO APLICA  13   \n",
       "111182                                          PSICOLOGA  NO APLICA  13   \n",
       "111183                                          PSICOLOGA  NO APLICA   7   \n",
       "111184                 EXPERTA EN LABORES ADMINISTRATIVAS  NO APLICA   8   \n",
       "111185                                          PSICOLOGA  NO APLICA  13   \n",
       "111186                                   ASISTENTE SOCIAL  NO APLICA   1   \n",
       "111187                                            ABOGADA  NO APLICA   7   \n",
       "\n",
       "           12         13  14          15          16  \\\n",
       "0       PESOS  5309100.0  SI  01/01/2018  10/03/2018   \n",
       "1       PESOS  1738943.0  SI  01/01/2018  31/12/2018   \n",
       "2       PESOS  2040000.0  SI  01/01/2018  31/12/2018   \n",
       "3       PESOS  3598480.0  SI  01/01/2018  10/03/2018   \n",
       "4       PESOS  2400000.0  SI  11/03/2018  31/12/2018   \n",
       "5       PESOS  5002352.0  SI  01/01/2018  10/03/2018   \n",
       "6       PESOS   510000.0  SI  01/01/2018  31/12/2018   \n",
       "7       PESOS  3500000.0  SI  11/03/2018  31/12/2018   \n",
       "8       PESOS  4986667.0  SI  01/01/2018  10/03/2018   \n",
       "9       PESOS  3598480.0  SI  01/01/2018  10/03/2018   \n",
       "10      PESOS  1360000.0  SI  01/01/2018  10/03/2018   \n",
       "11      PESOS  1738943.0  SI  01/01/2018  31/12/2018   \n",
       "12      PESOS  7000000.0  SI  11/03/2018  31/12/2018   \n",
       "13      PESOS  3220264.0  SI  01/01/2018  10/03/2018   \n",
       "14      PESOS  1800000.0  SI  23/01/2018  11/03/2018   \n",
       "15      PESOS  3246027.0  SI  01/01/2018  10/03/2018   \n",
       "16      PESOS   840480.0  SI  01/01/2018  31/12/2018   \n",
       "17      PESOS  2833832.0  SI  01/01/2018  10/03/2018   \n",
       "18      PESOS  1777778.0  SI  23/01/2018  11/03/2018   \n",
       "19      PESOS  3400000.0  SI  01/01/2018  31/01/2018   \n",
       "20      PESOS  5252470.0  SI  01/01/2018  10/03/2018   \n",
       "21      PESOS  1246666.0  SI  01/01/2018  10/03/2018   \n",
       "22      PESOS  3220264.0  SI  01/01/2018  10/03/2018   \n",
       "23      PESOS  3709744.0  SI  01/01/2018  10/03/2018   \n",
       "24      PESOS  3220264.0  SI  01/01/2018  10/03/2018   \n",
       "25      PESOS  1932158.0  SI  01/01/2018  31/12/2018   \n",
       "26      PESOS  3220264.0  SI  01/01/2018  10/03/2018   \n",
       "27      PESOS  5500000.0  SI  12/03/2018  31/12/2018   \n",
       "28      PESOS  4316000.0  SI  23/01/2018  11/03/2018   \n",
       "29      PESOS  3666667.0  SI  11/03/2018  31/12/2018   \n",
       "...       ...        ...  ..         ...         ...   \n",
       "111158  PESOS   446126.0  SI  01/01/2017  31/12/2017   \n",
       "111159  PESOS  3416312.0  SI  01/01/2017  31/12/2017   \n",
       "111160  PESOS  1405071.0  SI  01/01/2017  31/12/2017   \n",
       "111161  PESOS   430454.0  SI  01/01/2017  31/12/2017   \n",
       "111162  PESOS  1878972.0  SI  01/01/2017  31/12/2017   \n",
       "111163  PESOS  1528500.0  SI  01/01/2017  31/12/2017   \n",
       "111164  PESOS  1024894.0  SI  01/01/2017  31/12/2017   \n",
       "111165  PESOS  1081832.0  SI  01/01/2017  31/12/2017   \n",
       "111166  PESOS  1342029.0  SI  01/01/2017  31/12/2017   \n",
       "111167  PESOS   453688.0  SI  01/01/2017  31/12/2017   \n",
       "111168  PESOS  2990000.0  SI  13/04/2017  31/12/2017   \n",
       "111169  PESOS  3300000.0  SI  03/01/2017  31/12/2017   \n",
       "111170  PESOS  1081832.0  SI  01/01/2017  31/12/2017   \n",
       "111171  PESOS  2400000.0  SI  06/02/2017  05/05/2017   \n",
       "111172  PESOS  1933762.0  SI  01/01/2017  31/12/2017   \n",
       "111173  PESOS   966881.0  SI  01/01/2017  31/12/2017   \n",
       "111174  PESOS  2625408.0  SI  01/01/2017  31/12/2017   \n",
       "111175  PESOS  1024894.0  SI  01/01/2017  31/12/2017   \n",
       "111176  PESOS  1024608.0  SI  01/01/2017  31/12/2017   \n",
       "111177  PESOS  1396606.0  SI  01/01/2017  31/12/2017   \n",
       "111178  PESOS   569385.0  SI  01/01/2017  31/12/2017   \n",
       "111179  PESOS   928800.0  SI  01/01/2017  31/12/2017   \n",
       "111180  PESOS  1897951.0  SI  01/01/2017  31/12/2017   \n",
       "111181  PESOS   930375.0  SI  01/01/2017  31/12/2017   \n",
       "111182  PESOS  2505296.0  SI  01/01/2017  31/12/2017   \n",
       "111183  PESOS  1178628.0  SI  01/01/2017  31/12/2017   \n",
       "111184  PESOS   371520.0  SI  01/01/2017  31/12/2017   \n",
       "111185  PESOS  1252648.0  SI  01/01/2017  31/12/2017   \n",
       "111186  PESOS  3163251.0  SI  01/01/2017  31/12/2017   \n",
       "111187  PESOS  1423463.0  SI  01/01/2017  31/12/2017   \n",
       "\n",
       "                                                       17  \\\n",
       "0                                                    1, 5   \n",
       "1                                                     NaN   \n",
       "2                                                     NaN   \n",
       "3                                                    1, 5   \n",
       "4                                                       1   \n",
       "5                                                    1, 5   \n",
       "6       12 = Desde 31-10-2017 hasta 27-02-2018, 13= De...   \n",
       "7                                                       1   \n",
       "8                                                    1, 5   \n",
       "9                                                    1, 5   \n",
       "10                                                   1, 5   \n",
       "11                                                    NaN   \n",
       "12                                                      1   \n",
       "13                                                   1, 5   \n",
       "14                                                   1, 5   \n",
       "15                                                   1, 5   \n",
       "16                                                    NaN   \n",
       "17                                                   1, 5   \n",
       "18                                                   1, 5   \n",
       "19                                                      5   \n",
       "20                                                   1, 5   \n",
       "21                                                   1, 5   \n",
       "22                                                   1, 5   \n",
       "23                                                   1, 5   \n",
       "24                                                   1, 5   \n",
       "25                                                    NaN   \n",
       "26                                                   1, 5   \n",
       "27                                                      1   \n",
       "28                                                   1, 5   \n",
       "29                                                      1   \n",
       "...                                                   ...   \n",
       "111158                                                NaN   \n",
       "111159                                                NaN   \n",
       "111160                                                NaN   \n",
       "111161                                                NaN   \n",
       "111162                                                NaN   \n",
       "111163                                                NaN   \n",
       "111164                                                NaN   \n",
       "111165                                                NaN   \n",
       "111166                                                NaN   \n",
       "111167                                                NaN   \n",
       "111168                                                NaN   \n",
       "111169                                                NaN   \n",
       "111170                                                NaN   \n",
       "111171                                                NaN   \n",
       "111172                                                NaN   \n",
       "111173                                                NaN   \n",
       "111174                                                NaN   \n",
       "111175                                                NaN   \n",
       "111176                                                NaN   \n",
       "111177                                                NaN   \n",
       "111178                                                NaN   \n",
       "111179                                                NaN   \n",
       "111180                                                NaN   \n",
       "111181                                                NaN   \n",
       "111182                                                NaN   \n",
       "111183                                                NaN   \n",
       "111184                                                NaN   \n",
       "111185                                                NaN   \n",
       "111186                                                NaN   \n",
       "111187                                                NaN   \n",
       "\n",
       "                                                       18  \n",
       "0       http://www.gobiernotransparentechile.cl/direct...  \n",
       "1       http://www.gobiernotransparentechile.cl/direct...  \n",
       "2       http://www.gobiernotransparentechile.cl/direct...  \n",
       "3       http://www.gobiernotransparentechile.cl/direct...  \n",
       "4       http://www.gobiernotransparentechile.cl/direct...  \n",
       "5       http://www.gobiernotransparentechile.cl/direct...  \n",
       "6       http://www.gobiernotransparentechile.cl/direct...  \n",
       "7       http://www.gobiernotransparentechile.cl/direct...  \n",
       "8       http://www.gobiernotransparentechile.cl/direct...  \n",
       "9       http://www.gobiernotransparentechile.cl/direct...  \n",
       "10      http://www.gobiernotransparentechile.cl/direct...  \n",
       "11      http://www.gobiernotransparentechile.cl/direct...  \n",
       "12      http://www.gobiernotransparentechile.cl/direct...  \n",
       "13      http://www.gobiernotransparentechile.cl/direct...  \n",
       "14      http://www.gobiernotransparentechile.cl/direct...  \n",
       "15      http://www.gobiernotransparentechile.cl/direct...  \n",
       "16      http://www.gobiernotransparentechile.cl/direct...  \n",
       "17      http://www.gobiernotransparentechile.cl/direct...  \n",
       "18      http://www.gobiernotransparentechile.cl/direct...  \n",
       "19      http://www.gobiernotransparentechile.cl/direct...  \n",
       "20      http://www.gobiernotransparentechile.cl/direct...  \n",
       "21      http://www.gobiernotransparentechile.cl/direct...  \n",
       "22      http://www.gobiernotransparentechile.cl/direct...  \n",
       "23      http://www.gobiernotransparentechile.cl/direct...  \n",
       "24      http://www.gobiernotransparentechile.cl/direct...  \n",
       "25      http://www.gobiernotransparentechile.cl/direct...  \n",
       "26      http://www.gobiernotransparentechile.cl/direct...  \n",
       "27      http://www.gobiernotransparentechile.cl/direct...  \n",
       "28      http://www.gobiernotransparentechile.cl/direct...  \n",
       "29      http://www.gobiernotransparentechile.cl/direct...  \n",
       "...                                                   ...  \n",
       "111158  http://www.gobiernotransparentechile.cl/direct...  \n",
       "111159  http://www.gobiernotransparentechile.cl/direct...  \n",
       "111160  http://www.gobiernotransparentechile.cl/direct...  \n",
       "111161  http://www.gobiernotransparentechile.cl/direct...  \n",
       "111162  http://www.gobiernotransparentechile.cl/direct...  \n",
       "111163  http://www.gobiernotransparentechile.cl/direct...  \n",
       "111164  http://www.gobiernotransparentechile.cl/direct...  \n",
       "111165  http://www.gobiernotransparentechile.cl/direct...  \n",
       "111166  http://www.gobiernotransparentechile.cl/direct...  \n",
       "111167  http://www.gobiernotransparentechile.cl/direct...  \n",
       "111168  http://www.gobiernotransparentechile.cl/direct...  \n",
       "111169  http://www.gobiernotransparentechile.cl/direct...  \n",
       "111170  http://www.gobiernotransparentechile.cl/direct...  \n",
       "111171  http://www.gobiernotransparentechile.cl/direct...  \n",
       "111172  http://www.gobiernotransparentechile.cl/direct...  \n",
       "111173  http://www.gobiernotransparentechile.cl/direct...  \n",
       "111174  http://www.gobiernotransparentechile.cl/direct...  \n",
       "111175  http://www.gobiernotransparentechile.cl/direct...  \n",
       "111176  http://www.gobiernotransparentechile.cl/direct...  \n",
       "111177  http://www.gobiernotransparentechile.cl/direct...  \n",
       "111178  http://www.gobiernotransparentechile.cl/direct...  \n",
       "111179  http://www.gobiernotransparentechile.cl/direct...  \n",
       "111180  http://www.gobiernotransparentechile.cl/direct...  \n",
       "111181  http://www.gobiernotransparentechile.cl/direct...  \n",
       "111182  http://www.gobiernotransparentechile.cl/direct...  \n",
       "111183  http://www.gobiernotransparentechile.cl/direct...  \n",
       "111184  http://www.gobiernotransparentechile.cl/direct...  \n",
       "111185  http://www.gobiernotransparentechile.cl/direct...  \n",
       "111186  http://www.gobiernotransparentechile.cl/direct...  \n",
       "111187  http://www.gobiernotransparentechile.cl/direct...  \n",
       "\n",
       "[111188 rows x 19 columns]"
      ]
     },
     "execution_count": 34,
     "metadata": {},
     "output_type": "execute_result"
    }
   ],
   "source": [
    "out"
   ]
  },
  {
   "cell_type": "code",
   "execution_count": null,
   "metadata": {
    "collapsed": true
   },
   "outputs": [],
   "source": []
  }
 ],
 "metadata": {
  "anaconda-cloud": {},
  "kernelspec": {
   "display_name": "Python 3",
   "language": "python",
   "name": "python3"
  },
  "language_info": {
   "codemirror_mode": {
    "name": "ipython",
    "version": 3
   },
   "file_extension": ".py",
   "mimetype": "text/x-python",
   "name": "python",
   "nbconvert_exporter": "python",
   "pygments_lexer": "ipython3",
   "version": "3.6.2"
  }
 },
 "nbformat": 4,
 "nbformat_minor": 1
}
