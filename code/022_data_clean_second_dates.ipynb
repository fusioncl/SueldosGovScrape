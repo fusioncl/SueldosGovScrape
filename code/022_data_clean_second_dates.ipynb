{
 "cells": [
  {
   "cell_type": "code",
   "execution_count": 75,
   "metadata": {},
   "outputs": [
    {
     "name": "stdout",
     "output_type": "stream",
     "text": [
      "The autoreload extension is already loaded. To reload it, use:\n",
      "  %reload_ext autoreload\n"
     ]
    }
   ],
   "source": [
    "%load_ext autoreload\n",
    "\n",
    "%autoreload 2"
   ]
  },
  {
   "cell_type": "code",
   "execution_count": 76,
   "metadata": {},
   "outputs": [
    {
     "data": {
      "text/html": [
       "<style>.container { width:100% !important; }</style>"
      ],
      "text/plain": [
       "<IPython.core.display.HTML object>"
      ]
     },
     "metadata": {},
     "output_type": "display_data"
    },
    {
     "data": {
      "text/plain": [
       "'es_ES'"
      ]
     },
     "execution_count": 76,
     "metadata": {},
     "output_type": "execute_result"
    }
   ],
   "source": [
    "import pandas as pd\n",
    "import numpy as np\n",
    "\n",
    "pd.options.display.max_columns = 999\n",
    "pd.options.display.max_rows = 999\n",
    "\n",
    "\n",
    "import time\n",
    "import unicodedata\n",
    "\n",
    "import datetime\n",
    "from datetime import timedelta, datetime\n",
    "\n",
    "import csv\n",
    "import os\n",
    "\n",
    "import sys\n",
    "sys.path.append('./lib/')\n",
    "from functions import *\n",
    "from tqdm import tnrange, tqdm_notebook\n",
    "from unidecode import unidecode\n",
    "\n",
    "from IPython.core.display import display, HTML\n",
    "display(HTML(\"<style>.container { width:100% !important; }</style>\"))\n",
    "\n",
    "import glob\n",
    "\n",
    "%matplotlib inline\n",
    "\n",
    "import matplotlib\n",
    "import numpy as np\n",
    "import matplotlib.pyplot as plt\n",
    "\n",
    "import seaborn as sns\n",
    "sns.set_style(\"darkgrid\")\n",
    "\n",
    "import locale\n",
    "locale.setlocale(locale.LC_ALL, 'es_ES')"
   ]
  },
  {
   "cell_type": "markdown",
   "metadata": {},
   "source": [
    "# Import data"
   ]
  },
  {
   "cell_type": "code",
   "execution_count": 77,
   "metadata": {
    "collapsed": true
   },
   "outputs": [],
   "source": [
    "period = '20180210-3'"
   ]
  },
  {
   "cell_type": "code",
   "execution_count": 78,
   "metadata": {},
   "outputs": [],
   "source": [
    "df = pd.read_csv('../data/output/scraped_data_clean_first_{}.csv'.format(period), encoding='utf-8', low_memory=False)"
   ]
  },
  {
   "cell_type": "code",
   "execution_count": 79,
   "metadata": {},
   "outputs": [
    {
     "data": {
      "text/plain": [
       "(1954998, 23)"
      ]
     },
     "execution_count": 79,
     "metadata": {},
     "output_type": "execute_result"
    }
   ],
   "source": [
    "df.shape"
   ]
  },
  {
   "cell_type": "markdown",
   "metadata": {},
   "source": [
    "# Shifted table because of extra column "
   ]
  },
  {
   "cell_type": "code",
   "execution_count": null,
   "metadata": {
    "collapsed": true
   },
   "outputs": [],
   "source": []
  },
  {
   "cell_type": "markdown",
   "metadata": {},
   "source": [
    "# Contract filpped with Department "
   ]
  },
  {
   "cell_type": "code",
   "execution_count": 80,
   "metadata": {},
   "outputs": [
    {
     "data": {
      "text/html": [
       "<div>\n",
       "<style>\n",
       "    .dataframe thead tr:only-child th {\n",
       "        text-align: right;\n",
       "    }\n",
       "\n",
       "    .dataframe thead th {\n",
       "        text-align: left;\n",
       "    }\n",
       "\n",
       "    .dataframe tbody tr th {\n",
       "        vertical-align: top;\n",
       "    }\n",
       "</style>\n",
       "<table border=\"1\" class=\"dataframe\">\n",
       "  <thead>\n",
       "    <tr style=\"text-align: right;\">\n",
       "      <th></th>\n",
       "      <th>entity</th>\n",
       "      <th>department</th>\n",
       "      <th>contract</th>\n",
       "      <th>year</th>\n",
       "      <th>month</th>\n",
       "      <th>group</th>\n",
       "      <th>lastn</th>\n",
       "      <th>lastn2</th>\n",
       "      <th>givenn</th>\n",
       "      <th>degree</th>\n",
       "      <th>qualif</th>\n",
       "      <th>position</th>\n",
       "      <th>region</th>\n",
       "      <th>specials</th>\n",
       "      <th>currency</th>\n",
       "      <th>salary</th>\n",
       "      <th>overt</th>\n",
       "      <th>start_date</th>\n",
       "      <th>end_date</th>\n",
       "      <th>obs</th>\n",
       "      <th>url</th>\n",
       "      <th>other</th>\n",
       "      <th>filename</th>\n",
       "    </tr>\n",
       "  </thead>\n",
       "  <tbody>\n",
       "    <tr>\n",
       "      <th>174046</th>\n",
       "      <td>Ministerio del Interior y Seguridad Pública</td>\n",
       "      <td>per_contrata</td>\n",
       "      <td>Gobernación de Los Andes</td>\n",
       "      <td>2017</td>\n",
       "      <td>allyear</td>\n",
       "      <td>1</td>\n",
       "      <td>profesional</td>\n",
       "      <td>aedo</td>\n",
       "      <td>torres</td>\n",
       "      <td>BORIS CRISTIAN</td>\n",
       "      <td></td>\n",
       "      <td>ADMINISTRACION PUBLICA</td>\n",
       "      <td>PROFESIONAL</td>\n",
       "      <td>5</td>\n",
       "      <td>1</td>\n",
       "      <td>Pesos</td>\n",
       "      <td>975.647</td>\n",
       "      <td>NO</td>\n",
       "      <td>15/01/2017</td>\n",
       "      <td>31/12/2017</td>\n",
       "      <td>PAGO PROPORCIONAL A LOS DÍAS TRABAJADOS EN EL...</td>\n",
       "      <td>http://www.interior.gov.cl/transparenciaactiva...</td>\n",
       "      <td>../data/output/scraped_data_20180210-3.csv</td>\n",
       "    </tr>\n",
       "  </tbody>\n",
       "</table>\n",
       "</div>"
      ],
      "text/plain": [
       "                                             entity    department  \\\n",
       "174046  Ministerio del Interior y Seguridad Pública  per_contrata   \n",
       "\n",
       "                        contract  year    month group                  lastn  \\\n",
       "174046  Gobernación de Los Andes  2017  allyear     1   profesional            \n",
       "\n",
       "                lastn2            givenn                    degree    qualif  \\\n",
       "174046   aedo            torres            BORIS CRISTIAN                      \n",
       "\n",
       "                                position                 region     specials  \\\n",
       "174046   ADMINISTRACION PUBLICA            PROFESIONAL            5            \n",
       "\n",
       "           currency           salary              overt    start_date  \\\n",
       "174046   1            Pesos            975.647            NO            \n",
       "\n",
       "                    end_date                   obs  \\\n",
       "174046   15/01/2017            31/12/2017            \n",
       "\n",
       "                                                      url  \\\n",
       "174046   PAGO PROPORCIONAL A LOS DÍAS TRABAJADOS EN EL...   \n",
       "\n",
       "                                                    other  \\\n",
       "174046  http://www.interior.gov.cl/transparenciaactiva...   \n",
       "\n",
       "                                          filename  \n",
       "174046  ../data/output/scraped_data_20180210-3.csv  "
      ]
     },
     "execution_count": 80,
     "metadata": {},
     "output_type": "execute_result"
    }
   ],
   "source": [
    "df.loc[df['department'].str.contains('per')].head(1)"
   ]
  },
  {
   "cell_type": "code",
   "execution_count": 81,
   "metadata": {},
   "outputs": [
    {
     "name": "stdout",
     "output_type": "stream",
     "text": [
      "178,466 rows of data with flipped Department and Contract (9.1%)\n"
     ]
    }
   ],
   "source": [
    "a = df.loc[df['department'].str.contains('per')].shape\n",
    "b = round((a[0] / df.shape[0])*100,1)\n",
    "print('{:,} rows of data with flipped Department and Contract ({}%)'.format(a[0], b))"
   ]
  },
  {
   "cell_type": "code",
   "execution_count": 82,
   "metadata": {
    "collapsed": true
   },
   "outputs": [],
   "source": [
    "df['auxDept'] = [dept if 'per' not in dept else cont for (dept,cont) in zip(df['department'], df['contract'])]\n",
    "df['auxCont'] = [cont if 'per' in cont else dept for (dept,cont) in zip(df['department'], df['contract'])]\n",
    "\n",
    "df['department'] = df['auxDept']\n",
    "df['contract'] = df['auxCont']\n",
    "\n",
    "del df['auxCont']\n",
    "del df['auxDept']"
   ]
  },
  {
   "cell_type": "code",
   "execution_count": 83,
   "metadata": {},
   "outputs": [
    {
     "name": "stdout",
     "output_type": "stream",
     "text": [
      "1,023 rows of data with flipped Department and Contract (0.1%)\n"
     ]
    }
   ],
   "source": [
    "a = df.loc[df['department'].str.contains('per')].shape\n",
    "b = round((a[0] / df.shape[0])*100,1)\n",
    "print('{:,} rows of data with flipped Department and Contract ({}%)'.format(a[0], b))"
   ]
  },
  {
   "cell_type": "code",
   "execution_count": 84,
   "metadata": {},
   "outputs": [
    {
     "data": {
      "text/html": [
       "<div>\n",
       "<style>\n",
       "    .dataframe thead tr:only-child th {\n",
       "        text-align: right;\n",
       "    }\n",
       "\n",
       "    .dataframe thead th {\n",
       "        text-align: left;\n",
       "    }\n",
       "\n",
       "    .dataframe tbody tr th {\n",
       "        vertical-align: top;\n",
       "    }\n",
       "</style>\n",
       "<table border=\"1\" class=\"dataframe\">\n",
       "  <thead>\n",
       "    <tr style=\"text-align: right;\">\n",
       "      <th></th>\n",
       "      <th>entity</th>\n",
       "      <th>department</th>\n",
       "      <th>contract</th>\n",
       "      <th>year</th>\n",
       "      <th>month</th>\n",
       "      <th>group</th>\n",
       "      <th>lastn</th>\n",
       "      <th>lastn2</th>\n",
       "      <th>givenn</th>\n",
       "      <th>degree</th>\n",
       "      <th>qualif</th>\n",
       "      <th>position</th>\n",
       "      <th>region</th>\n",
       "      <th>specials</th>\n",
       "      <th>currency</th>\n",
       "      <th>salary</th>\n",
       "      <th>overt</th>\n",
       "      <th>start_date</th>\n",
       "      <th>end_date</th>\n",
       "      <th>obs</th>\n",
       "      <th>url</th>\n",
       "      <th>other</th>\n",
       "      <th>filename</th>\n",
       "    </tr>\n",
       "  </thead>\n",
       "  <tbody>\n",
       "    <tr>\n",
       "      <th>1305764</th>\n",
       "      <td>Ministerio del Trabajo y Previsión Social</td>\n",
       "      <td>Superintendencia de Seguridad Social (SUSESO)</td>\n",
       "      <td>Superintendencia de Seguridad Social (SUSESO)</td>\n",
       "      <td>Año 2008</td>\n",
       "      <td>allyear</td>\n",
       "      <td>-1</td>\n",
       "      <td>-1</td>\n",
       "      <td>-1</td>\n",
       "      <td>-1</td>\n",
       "      <td>-1</td>\n",
       "      <td>-1</td>\n",
       "      <td>-1</td>\n",
       "      <td>-1</td>\n",
       "      <td>-1</td>\n",
       "      <td>-1</td>\n",
       "      <td>http://163.247.55.110/PortalWEB/GTransparente/...</td>\n",
       "      <td>-1</td>\n",
       "      <td>-1</td>\n",
       "      <td>-1</td>\n",
       "      <td>-1</td>\n",
       "      <td>-1</td>\n",
       "      <td>-1</td>\n",
       "      <td>../data/output/scraped_data_20180210-3.csv</td>\n",
       "    </tr>\n",
       "  </tbody>\n",
       "</table>\n",
       "</div>"
      ],
      "text/plain": [
       "                                            entity  \\\n",
       "1305764  Ministerio del Trabajo y Previsión Social   \n",
       "\n",
       "                                            department  \\\n",
       "1305764  Superintendencia de Seguridad Social (SUSESO)   \n",
       "\n",
       "                                              contract      year    month  \\\n",
       "1305764  Superintendencia de Seguridad Social (SUSESO)  Año 2008  allyear   \n",
       "\n",
       "        group lastn lastn2 givenn degree qualif position region specials  \\\n",
       "1305764    -1    -1     -1     -1     -1     -1       -1     -1       -1   \n",
       "\n",
       "        currency                                             salary overt  \\\n",
       "1305764       -1  http://163.247.55.110/PortalWEB/GTransparente/...    -1   \n",
       "\n",
       "        start_date end_date obs url other  \\\n",
       "1305764         -1       -1  -1  -1    -1   \n",
       "\n",
       "                                           filename  \n",
       "1305764  ../data/output/scraped_data_20180210-3.csv  "
      ]
     },
     "execution_count": 84,
     "metadata": {},
     "output_type": "execute_result"
    }
   ],
   "source": [
    "df.loc[df['department'].str.contains('per')].head(1)"
   ]
  },
  {
   "cell_type": "markdown",
   "metadata": {},
   "source": [
    "What's left could be dummy data (0.1% of rows)"
   ]
  },
  {
   "cell_type": "markdown",
   "metadata": {},
   "source": [
    "# Salary into int "
   ]
  },
  {
   "cell_type": "markdown",
   "metadata": {},
   "source": [
    "## Cleaning script "
   ]
  },
  {
   "cell_type": "code",
   "execution_count": 85,
   "metadata": {},
   "outputs": [],
   "source": [
    "df['salary1'] = df['salary'].str.replace('.', '')\n",
    "\n",
    "clean_list = ['.', ',', ' ', '\\t', '$', '-', 'Pesos']\n",
    "for c in clean_list:\n",
    "    df['salary1'] = df['salary1'].str.replace(c, '')\n",
    "\n",
    "clean_vals = ['', '0', '1', '10']\n",
    "for c in clean_vals:\n",
    "    df.loc[df['salary1'] == c] = None\n"
   ]
  },
  {
   "cell_type": "markdown",
   "metadata": {},
   "source": [
    "## Checks "
   ]
  },
  {
   "cell_type": "code",
   "execution_count": 86,
   "metadata": {},
   "outputs": [
    {
     "data": {
      "text/plain": [
       "1740429     100000\n",
       "724037     1000000\n",
       "723844     1000000\n",
       "724231     1000000\n",
       "728733     1000000\n",
       "Name: salary1, dtype: object"
      ]
     },
     "execution_count": 86,
     "metadata": {},
     "output_type": "execute_result"
    }
   ],
   "source": [
    "df['salary1'].sort_values().head()"
   ]
  },
  {
   "cell_type": "code",
   "execution_count": 87,
   "metadata": {},
   "outputs": [
    {
     "data": {
      "text/plain": [
       "1954993    None\n",
       "1954994    None\n",
       "1954995    None\n",
       "1954996    None\n",
       "1954997    None\n",
       "Name: salary1, dtype: object"
      ]
     },
     "execution_count": 87,
     "metadata": {},
     "output_type": "execute_result"
    }
   ],
   "source": [
    "df['salary1'].sort_values().tail()"
   ]
  },
  {
   "cell_type": "markdown",
   "metadata": {},
   "source": [
    "## Results "
   ]
  },
  {
   "cell_type": "code",
   "execution_count": 88,
   "metadata": {
    "scrolled": false
   },
   "outputs": [],
   "source": [
    "df['salary1'] = pd.to_numeric(df['salary1'], errors='coerce')"
   ]
  },
  {
   "cell_type": "code",
   "execution_count": 89,
   "metadata": {},
   "outputs": [
    {
     "data": {
      "text/plain": [
       "False    0.821408\n",
       "True     0.178592\n",
       "Name: salary1, dtype: float64"
      ]
     },
     "execution_count": 89,
     "metadata": {},
     "output_type": "execute_result"
    }
   ],
   "source": [
    "pd.isnull(df['salary1']).value_counts() / df.shape[0]"
   ]
  },
  {
   "cell_type": "markdown",
   "metadata": {},
   "source": [
    "# Print output "
   ]
  },
  {
   "cell_type": "code",
   "execution_count": 90,
   "metadata": {
    "collapsed": true
   },
   "outputs": [],
   "source": [
    "df.to_csv('../data/output/scraped_data_clean_second_{}.csv'.format(period), encoding='utf-8', index=False)"
   ]
  }
 ],
 "metadata": {
  "anaconda-cloud": {},
  "kernelspec": {
   "display_name": "Python 3",
   "language": "python",
   "name": "python3"
  },
  "language_info": {
   "codemirror_mode": {
    "name": "ipython",
    "version": 3
   },
   "file_extension": ".py",
   "mimetype": "text/x-python",
   "name": "python",
   "nbconvert_exporter": "python",
   "pygments_lexer": "ipython3",
   "version": "3.6.2"
  },
  "widgets": {
   "state": {
    "0c8091040c644c0e99d57b5b322ab22f": {
     "views": [
      {
       "cell_index": 18
      }
     ]
    },
    "6c1f6e5bbe634c699819b49f90a095d2": {
     "views": [
      {
       "cell_index": 23
      }
     ]
    }
   },
   "version": "1.2.0"
  }
 },
 "nbformat": 4,
 "nbformat_minor": 1
}
