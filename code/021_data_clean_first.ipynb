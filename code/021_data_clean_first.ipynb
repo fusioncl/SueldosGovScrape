{
 "cells": [
  {
   "cell_type": "markdown",
   "metadata": {},
   "source": [
    "# First data cleaner "
   ]
  },
  {
   "cell_type": "markdown",
   "metadata": {},
   "source": [
    "* Latin characters"
   ]
  },
  {
   "cell_type": "code",
   "execution_count": 4,
   "metadata": {},
   "outputs": [
    {
     "data": {
      "text/html": [
       "<style>.container { width:100% !important; }</style>"
      ],
      "text/plain": [
       "<IPython.core.display.HTML object>"
      ]
     },
     "metadata": {},
     "output_type": "display_data"
    }
   ],
   "source": [
    "import pandas as pd\n",
    "import numpy as np\n",
    "\n",
    "pd.options.display.max_columns = 999\n",
    "pd.options.display.max_rows = 999\n",
    "\n",
    "\n",
    "import time\n",
    "import unicodedata\n",
    "from selenium import webdriver\n",
    "from selenium.common.exceptions import NoSuchElementException, WebDriverException\n",
    "\n",
    "import datetime\n",
    "from datetime import timedelta, datetime\n",
    "\n",
    "import csv\n",
    "import os\n",
    "\n",
    "import sys\n",
    "sys.path.append('./lib/')\n",
    "from functions import *\n",
    "from tqdm import tnrange, tqdm_notebook\n",
    "from unidecode import unidecode\n",
    "\n",
    "from IPython.core.display import display, HTML\n",
    "display(HTML(\"<style>.container { width:100% !important; }</style>\"))\n",
    "\n",
    "import lxml.html\n",
    "import lxml\n",
    "\n",
    "import glob\n",
    "\n",
    "%matplotlib inline\n",
    "\n",
    "import matplotlib\n",
    "import numpy as np\n",
    "import matplotlib.pyplot as plt\n",
    "\n",
    "import seaborn as sns\n",
    "sns.set_style(\"darkgrid\")"
   ]
  },
  {
   "cell_type": "markdown",
   "metadata": {},
   "source": [
    "# Import data"
   ]
  },
  {
   "cell_type": "code",
   "execution_count": 2,
   "metadata": {},
   "outputs": [
    {
     "data": {
      "text/plain": [
       "22"
      ]
     },
     "execution_count": 2,
     "metadata": {},
     "output_type": "execute_result"
    }
   ],
   "source": [
    "col_names = ['entity', 'department', 'contract', 'year', 'month', 'group', 'lastn', 'lastn2', 'givenn', 'degree', \n",
    "             'qualif', 'position', 'region', 'specials', 'currency', 'salary', 'overt', 'start_date', 'end_date', 'obs', 'url', 'other']\n",
    "len(col_names)"
   ]
  },
  {
   "cell_type": "code",
   "execution_count": 3,
   "metadata": {
    "collapsed": true
   },
   "outputs": [],
   "source": [
    "period = '20180210-3'"
   ]
  },
  {
   "cell_type": "code",
   "execution_count": 9,
   "metadata": {
    "collapsed": true
   },
   "outputs": [],
   "source": [
    "file = '../data/output/scraped_data_{}.csv'.format(period)\n",
    "dfscraped = pd.read_csv(file, low_memory=False, delimiter='|', quoting=csv.QUOTE_ALL, names=col_names)"
   ]
  },
  {
   "cell_type": "code",
   "execution_count": 10,
   "metadata": {
    "collapsed": true
   },
   "outputs": [],
   "source": [
    "dfscraped['filename'] = file"
   ]
  },
  {
   "cell_type": "code",
   "execution_count": 11,
   "metadata": {},
   "outputs": [
    {
     "data": {
      "text/plain": [
       "../data/output/scraped_data_20180210-3.csv    2366454\n",
       "Name: filename, dtype: int64"
      ]
     },
     "execution_count": 11,
     "metadata": {},
     "output_type": "execute_result"
    }
   ],
   "source": [
    "dfscraped.filename.value_counts()"
   ]
  },
  {
   "cell_type": "code",
   "execution_count": 12,
   "metadata": {},
   "outputs": [
    {
     "data": {
      "text/plain": [
       "Index(['entity', 'department', 'contract', 'year', 'month', 'group', 'lastn',\n",
       "       'lastn2', 'givenn', 'degree', 'qualif', 'position', 'region',\n",
       "       'specials', 'currency', 'salary', 'overt', 'start_date', 'end_date',\n",
       "       'obs', 'url', 'other', 'filename'],\n",
       "      dtype='object')"
      ]
     },
     "execution_count": 12,
     "metadata": {},
     "output_type": "execute_result"
    }
   ],
   "source": [
    "dfscraped.columns"
   ]
  },
  {
   "cell_type": "code",
   "execution_count": 14,
   "metadata": {},
   "outputs": [
    {
     "data": {
      "text/html": [
       "<div>\n",
       "<style>\n",
       "    .dataframe thead tr:only-child th {\n",
       "        text-align: right;\n",
       "    }\n",
       "\n",
       "    .dataframe thead th {\n",
       "        text-align: left;\n",
       "    }\n",
       "\n",
       "    .dataframe tbody tr th {\n",
       "        vertical-align: top;\n",
       "    }\n",
       "</style>\n",
       "<table border=\"1\" class=\"dataframe\">\n",
       "  <thead>\n",
       "    <tr style=\"text-align: right;\">\n",
       "      <th></th>\n",
       "      <th>entity</th>\n",
       "      <th>department</th>\n",
       "      <th>contract</th>\n",
       "      <th>year</th>\n",
       "      <th>month</th>\n",
       "      <th>group</th>\n",
       "      <th>lastn</th>\n",
       "      <th>lastn2</th>\n",
       "      <th>givenn</th>\n",
       "      <th>degree</th>\n",
       "      <th>qualif</th>\n",
       "      <th>position</th>\n",
       "      <th>region</th>\n",
       "      <th>specials</th>\n",
       "      <th>currency</th>\n",
       "      <th>salary</th>\n",
       "      <th>overt</th>\n",
       "      <th>start_date</th>\n",
       "      <th>end_date</th>\n",
       "      <th>obs</th>\n",
       "      <th>url</th>\n",
       "      <th>other</th>\n",
       "      <th>filename</th>\n",
       "    </tr>\n",
       "  </thead>\n",
       "  <tbody>\n",
       "    <tr>\n",
       "      <th>0</th>\n",
       "      <td>Presidencia de la República</td>\n",
       "      <td>Presidencia de la República</td>\n",
       "      <td>Dotación de planta</td>\n",
       "      <td>Año 2017</td>\n",
       "      <td>allyear</td>\n",
       "      <td>AUTORIDAD DE GOBIERNO</td>\n",
       "      <td>BACHELET</td>\n",
       "      <td>JERIA</td>\n",
       "      <td>VERONICA MICHELLE</td>\n",
       "      <td>NaN</td>\n",
       "      <td>MÉDICO</td>\n",
       "      <td>PRESIDENTA DE LA REPÚBLICA</td>\n",
       "      <td>RM</td>\n",
       "      <td>2, 4, 8, 9</td>\n",
       "      <td>PESOS</td>\n",
       "      <td>10.168.106</td>\n",
       "      <td>No</td>\n",
       "      <td>11/03/2014</td>\n",
       "      <td>30/11/-1</td>\n",
       "      <td>NaN</td>\n",
       "      <td>http://www.gobiernotransparentechile.cl/direct...</td>\n",
       "      <td>NaN</td>\n",
       "      <td>../data/output/scraped_data_20180210-3.csv</td>\n",
       "    </tr>\n",
       "    <tr>\n",
       "      <th>1</th>\n",
       "      <td>Presidencia de la República</td>\n",
       "      <td>Presidencia de la República</td>\n",
       "      <td>Dotación de planta</td>\n",
       "      <td>Año 2017</td>\n",
       "      <td>allyear</td>\n",
       "      <td>DIRECTIVO</td>\n",
       "      <td>SANDOVAL</td>\n",
       "      <td>NAVARRETE</td>\n",
       "      <td>OSCAR OMAR</td>\n",
       "      <td>NaN</td>\n",
       "      <td>ABOGADO</td>\n",
       "      <td>DIRECTOR ADMINISTRATIVO, DIRECCIÓN ADMINISTRATIVA</td>\n",
       "      <td>RM</td>\n",
       "      <td>5, 7, 8, 9</td>\n",
       "      <td>PESOS</td>\n",
       "      <td>7.959.883</td>\n",
       "      <td>No</td>\n",
       "      <td>01/04/2014</td>\n",
       "      <td>30/11/-1</td>\n",
       "      <td>FUNCIÓN CRÍTICA = 100%</td>\n",
       "      <td>http://www.gobiernotransparentechile.cl/direct...</td>\n",
       "      <td>NaN</td>\n",
       "      <td>../data/output/scraped_data_20180210-3.csv</td>\n",
       "    </tr>\n",
       "  </tbody>\n",
       "</table>\n",
       "</div>"
      ],
      "text/plain": [
       "                        entity                   department  \\\n",
       "0  Presidencia de la República  Presidencia de la República   \n",
       "1  Presidencia de la República  Presidencia de la República   \n",
       "\n",
       "             contract      year    month                  group     lastn  \\\n",
       "0  Dotación de planta  Año 2017  allyear  AUTORIDAD DE GOBIERNO  BACHELET   \n",
       "1  Dotación de planta  Año 2017  allyear              DIRECTIVO  SANDOVAL   \n",
       "\n",
       "      lastn2             givenn degree   qualif  \\\n",
       "0      JERIA  VERONICA MICHELLE    NaN   MÉDICO   \n",
       "1  NAVARRETE         OSCAR OMAR    NaN  ABOGADO   \n",
       "\n",
       "                                            position region    specials  \\\n",
       "0                         PRESIDENTA DE LA REPÚBLICA     RM  2, 4, 8, 9   \n",
       "1  DIRECTOR ADMINISTRATIVO, DIRECCIÓN ADMINISTRATIVA     RM  5, 7, 8, 9   \n",
       "\n",
       "  currency      salary overt  start_date  end_date                     obs  \\\n",
       "0    PESOS  10.168.106    No  11/03/2014  30/11/-1                     NaN   \n",
       "1    PESOS   7.959.883    No  01/04/2014  30/11/-1  FUNCIÓN CRÍTICA = 100%   \n",
       "\n",
       "                                                 url other  \\\n",
       "0  http://www.gobiernotransparentechile.cl/direct...   NaN   \n",
       "1  http://www.gobiernotransparentechile.cl/direct...   NaN   \n",
       "\n",
       "                                     filename  \n",
       "0  ../data/output/scraped_data_20180210-3.csv  \n",
       "1  ../data/output/scraped_data_20180210-3.csv  "
      ]
     },
     "execution_count": 14,
     "metadata": {},
     "output_type": "execute_result"
    }
   ],
   "source": [
    "dfscraped.head(2)"
   ]
  },
  {
   "cell_type": "code",
   "execution_count": 25,
   "metadata": {},
   "outputs": [
    {
     "data": {
      "text/plain": [
       "False    2308040\n",
       "True       58414\n",
       "Name: other, dtype: int64"
      ]
     },
     "execution_count": 25,
     "metadata": {},
     "output_type": "execute_result"
    }
   ],
   "source": [
    "pd.notnull(dfscraped['other']).value_counts()"
   ]
  },
  {
   "cell_type": "code",
   "execution_count": 16,
   "metadata": {
    "scrolled": false
   },
   "outputs": [
    {
     "data": {
      "text/plain": [
       "Ministerio del Interior y Seguridad Pública        682791\n",
       "Ministerio de Obras Públicas                       298220\n",
       "Ministerio de Hacienda                             194651\n",
       "Ministerio de Justicia y Derechos Humanos          181450\n",
       "Ministerio de Educación                            180334\n",
       "Ministerio de Vivienda y Urbanismo                 171786\n",
       "Ministerio de Economía, Fomento y Turismo          132745\n",
       "Ministerio del Trabajo y Previsión Social          129472\n",
       "Ministerio de Desarrollo Social                    106972\n",
       "Consejo de Defensa del Estado                       59255\n",
       "Ministerio de Defensa Nacional                      47427\n",
       "Ministerio de Minería                               45374\n",
       "Ministerio de Agricultura                           44597\n",
       "Ministerio de Relaciones Exteriores                 25493\n",
       "Ministerio Secretaría General de la Presidencia     14657\n",
       "Presidencia de la República                         13062\n",
       "Ministerio del Medio Ambiente                        7227\n",
       "Ministerio del Deporte                               6236\n",
       "Ministerio de Energía                                6222\n",
       "Ministerio Secretaría General de Gobierno            5159\n",
       "Consejo Nacional de la Cultura y las Artes           3932\n",
       "Ministerio de Transporte y Telecomunicaciones        3630\n",
       "Ministerio de Salud                                  3592\n",
       "Consejo Nacional de Televisión                       2170\n",
       "Name: entity, dtype: int64"
      ]
     },
     "execution_count": 16,
     "metadata": {},
     "output_type": "execute_result"
    }
   ],
   "source": [
    "dfscraped.entity.value_counts()"
   ]
  },
  {
   "cell_type": "code",
   "execution_count": 17,
   "metadata": {},
   "outputs": [
    {
     "data": {
      "text/plain": [
       "36466"
      ]
     },
     "execution_count": 17,
     "metadata": {},
     "output_type": "execute_result"
    }
   ],
   "source": [
    "dfscraped.url.nunique()"
   ]
  },
  {
   "cell_type": "markdown",
   "metadata": {},
   "source": [
    "# Data that was not captured with the right encoding, scrape again"
   ]
  },
  {
   "cell_type": "code",
   "execution_count": 20,
   "metadata": {
    "collapsed": true
   },
   "outputs": [],
   "source": [
    "retake_entity = list(dfscraped[dfscraped.entity.str.contains(\"b'\", na=False)].entity.value_counts().index)\n",
    "retake_entity = retake_entity + list(dfscraped[dfscraped.entity.str.contains(\"Ã\", na=False)].entity.value_counts().index)\n",
    "retake_entity = retake_entity + list(dfscraped[dfscraped.entity.str.contains(\"Ã­\", na=False)].entity.value_counts().index)\n",
    "retake_entity = retake_entity + ['Ministerio del Interior y Seguridad Pblica', 'Presidencia de la Repblica ']  "
   ]
  },
  {
   "cell_type": "code",
   "execution_count": 21,
   "metadata": {},
   "outputs": [
    {
     "name": "stdout",
     "output_type": "stream",
     "text": [
      "Total Urls 36466\n",
      "Urls to retake 0\n"
     ]
    }
   ],
   "source": [
    "print('Total Urls', dfscraped.url.nunique())\n",
    "print('Urls to retake', dfscraped[dfscraped.entity.isin(retake_entity)].url.nunique())"
   ]
  },
  {
   "cell_type": "code",
   "execution_count": 22,
   "metadata": {},
   "outputs": [
    {
     "data": {
      "text/plain": [
       "0"
      ]
     },
     "execution_count": 22,
     "metadata": {},
     "output_type": "execute_result"
    }
   ],
   "source": [
    "retake_entity_urls = []\n",
    "for u in list(set(dfscraped.loc[dfscraped.entity.isin(retake_entity), 'url'].unique())):\n",
    "    if str(u) != 'nan':\n",
    "        if \"b'\" in u:\n",
    "            u = u[2:]\n",
    "        if u[-1] == \"'\":\n",
    "            u = u[:len(u)-1]\n",
    "        retake_entity_urls.append(u)\n",
    "len(retake_entity_urls)"
   ]
  },
  {
   "cell_type": "code",
   "execution_count": 23,
   "metadata": {},
   "outputs": [
    {
     "data": {
      "text/plain": [
       "[]"
      ]
     },
     "execution_count": 23,
     "metadata": {},
     "output_type": "execute_result"
    }
   ],
   "source": [
    "retake_entity_urls"
   ]
  },
  {
   "cell_type": "markdown",
   "metadata": {},
   "source": [
    "### Open browser and re-scrape data "
   ]
  },
  {
   "cell_type": "code",
   "execution_count": 20,
   "metadata": {
    "collapsed": true
   },
   "outputs": [],
   "source": [
    "output_file = '..data/output/retake_entity_0.csv'"
   ]
  },
  {
   "cell_type": "code",
   "execution_count": 22,
   "metadata": {
    "collapsed": true,
    "scrolled": true
   },
   "outputs": [],
   "source": [
    "if not os.path.isfile(output_file):\n",
    "    browser = webdriver.Chrome()\n",
    "    for url in retake_entity_urls[0:5]:\n",
    "        functions.getTableData2(output_file, url, browser)\n",
    "    "
   ]
  },
  {
   "cell_type": "code",
   "execution_count": 26,
   "metadata": {
    "collapsed": true
   },
   "outputs": [],
   "source": [
    "try:\n",
    "    retake_entity_df = pd.read_csv(output_file, encoding='latin1', names=col_names)\n",
    "except:\n",
    "    retake_entity_df = pd.DataFrame()"
   ]
  },
  {
   "cell_type": "code",
   "execution_count": 28,
   "metadata": {
    "collapsed": true,
    "scrolled": true
   },
   "outputs": [],
   "source": [
    "try:\n",
    "    retake_entity_df.entity.value_counts()\n",
    "except:\n",
    "    pass"
   ]
  },
  {
   "cell_type": "code",
   "execution_count": 29,
   "metadata": {},
   "outputs": [
    {
     "data": {
      "application/vnd.jupyter.widget-view+json": {
       "model_id": "4f1bd5e041d94fbbb3d4601bd6bf8dbd",
       "version_major": 2,
       "version_minor": 0
      },
      "text/plain": [
       "A Jupyter Widget"
      ]
     },
     "metadata": {},
     "output_type": "display_data"
    },
    {
     "name": "stdout",
     "output_type": "stream",
     "text": [
      "\n"
     ]
    }
   ],
   "source": [
    "cleanLatin(retake_entity_df)"
   ]
  },
  {
   "cell_type": "markdown",
   "metadata": {},
   "source": [
    "### Delete the corresponding rows and add the new ones "
   ]
  },
  {
   "cell_type": "code",
   "execution_count": 30,
   "metadata": {
    "scrolled": false
   },
   "outputs": [
    {
     "name": "stdout",
     "output_type": "stream",
     "text": [
      "(0, 1)\n",
      "(0, 23)\n"
     ]
    },
    {
     "data": {
      "text/plain": [
       "(906540, 23)"
      ]
     },
     "execution_count": 30,
     "metadata": {},
     "output_type": "execute_result"
    }
   ],
   "source": [
    "retake_entity_df['filename'] = output_file\n",
    "print(retake_entity_df.shape)\n",
    "print(dfscraped[dfscraped.entity.isin(retake_entity)].shape)\n",
    "dfscraped = dfscraped[~dfscraped.entity.isin(retake_entity)]\n",
    "dfscraped = pd.concat([dfscraped, retake_entity_df])\n",
    "dfscraped.shape"
   ]
  },
  {
   "cell_type": "markdown",
   "metadata": {},
   "source": [
    "# Transformations "
   ]
  },
  {
   "cell_type": "markdown",
   "metadata": {},
   "source": [
    "## Write or Read clean file, wrong characters, duplicate rows"
   ]
  },
  {
   "cell_type": "code",
   "execution_count": 2,
   "metadata": {
    "collapsed": true,
    "scrolled": true
   },
   "outputs": [],
   "source": [
    "print('Before Processing:', dfscraped.shape)\n",
    "columns_dupe = [col for col in dfscraped.columns if not 'filename' in col]\n",
    "cleanLatin(dfscraped)"
   ]
  },
  {
   "cell_type": "code",
   "execution_count": 28,
   "metadata": {},
   "outputs": [
    {
     "name": "stdout",
     "output_type": "stream",
     "text": [
      "After Processing: (1954998, 23)\n"
     ]
    }
   ],
   "source": [
    "dfscraped1 = dfscraped\n",
    "# Lower case values\n",
    "dfscraped1.givenn = dfscraped1.givenn.str.lower()\n",
    "dfscraped1.lastn = dfscraped1.lastn.str.lower()\n",
    "dfscraped1.lastn2 = dfscraped1.lastn2.str.lower()\n",
    "\n",
    "dfscraped1 = dfscraped.replace(np.nan, -1).drop_duplicates(columns_dupe) # Result used to be 1693274, with no replace()\n",
    "print('After Processing:', dfscraped1.shape)\n",
    "\n",
    "\n",
    "# Write file\n",
    "dfscraped1.to_csv('../data/output/scraped_data_clean_first_{}.csv'.format(period), encoding='utf-8', index=False)\n",
    "    "
   ]
  }
 ],
 "metadata": {
  "anaconda-cloud": {},
  "kernelspec": {
   "display_name": "Python 3",
   "language": "python",
   "name": "python3"
  },
  "language_info": {
   "codemirror_mode": {
    "name": "ipython",
    "version": 3
   },
   "file_extension": ".py",
   "mimetype": "text/x-python",
   "name": "python",
   "nbconvert_exporter": "python",
   "pygments_lexer": "ipython3",
   "version": "3.6.2"
  },
  "widgets": {
   "state": {
    "0c8091040c644c0e99d57b5b322ab22f": {
     "views": [
      {
       "cell_index": 18
      }
     ]
    },
    "6c1f6e5bbe634c699819b49f90a095d2": {
     "views": [
      {
       "cell_index": 23
      }
     ]
    }
   },
   "version": "1.2.0"
  }
 },
 "nbformat": 4,
 "nbformat_minor": 1
}
