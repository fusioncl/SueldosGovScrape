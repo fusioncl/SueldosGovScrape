{
 "cells": [
  {
   "cell_type": "markdown",
   "metadata": {
    "collapsed": true
   },
   "source": [
    "# Web Scraping Gobierno Transparente Chile\n",
    "##### Exploring wage expenses in the goberment. Public information."
   ]
  },
  {
   "cell_type": "markdown",
   "metadata": {},
   "source": [
    "Beautiful soup did not work. The server time outs when you connect through bsoup.\n",
    "\n",
    "## Trying Selenium"
   ]
  },
  {
   "cell_type": "code",
   "execution_count": 1,
   "metadata": {},
   "outputs": [
    {
     "data": {
      "text/html": [
       "<style>.container { width:100% !important; }</style>"
      ],
      "text/plain": [
       "<IPython.core.display.HTML object>"
      ]
     },
     "metadata": {},
     "output_type": "display_data"
    }
   ],
   "source": [
    "import pandas as pd\n",
    "import numpy as np\n",
    "import unicodedata\n",
    "from selenium import webdriver\n",
    "from selenium.common.exceptions import NoSuchElementException\n",
    "\n",
    "import csv\n",
    "\n",
    "import sys\n",
    "sys.path.append('./lib/')\n",
    "\n",
    "import functions\n",
    "from functions import *\n",
    "from tqdm import tnrange, tqdm_notebook\n",
    "from unidecode import unidecode\n",
    "\n",
    "from IPython.core.display import display, HTML\n",
    "display(HTML(\"<style>.container { width:100% !important; }</style>\"))\n",
    "\n",
    "import lxml.html\n",
    "import lxml\n",
    "\n",
    "%load_ext autoreload\n",
    "\n",
    "%autoreload 2"
   ]
  },
  {
   "cell_type": "markdown",
   "metadata": {},
   "source": [
    "#  Parameters"
   ]
  },
  {
   "cell_type": "markdown",
   "metadata": {},
   "source": [
    "# OPTIONAL Gather data already scraped, before re-run"
   ]
  },
  {
   "cell_type": "code",
   "execution_count": 12,
   "metadata": {},
   "outputs": [
    {
     "name": "stdout",
     "output_type": "stream",
     "text": [
      "(44783, 21)\n",
      "(25227, 21)\n",
      "(50586, 20)\n",
      "(3145, 20)\n",
      "(36591, 20)\n",
      "(15300, 20)\n"
     ]
    }
   ],
   "source": [
    "df_scraped_1 = pd.read_csv('./output/scraped_data_20170214.csv', encoding='latin_1', header=None, index_col=0, low_memory=False)\n",
    "print(df_scraped_1.shape)\n",
    "df_scraped_2 = pd.read_csv('./output/scraped_data_20170212.csv', encoding='latin_1', header=None, index_col=0, low_memory=False)\n",
    "print(df_scraped_2.shape)\n",
    "df_scraped_3 = pd.read_csv('./output/scraped_data_20170215.csv', encoding='latin_1', header=None, index_col=0, low_memory=False)\n",
    "print(df_scraped_3.shape)\n",
    "df_scraped_4 = pd.read_csv('./output/scraped_data_20170215-1.csv', encoding='latin_1', header=None, index_col=0, low_memory=False)\n",
    "print(df_scraped_4.shape)\n",
    "df_scraped_5 = pd.read_csv('./output/scraped_data_20170216.csv', encoding='latin_1', header=None, index_col=0, low_memory=False)\n",
    "print(df_scraped_5.shape)\n",
    "df_scraped_6 = pd.read_csv('./output/scraped_data_20170221.csv', encoding='latin_1', header=None, index_col=0, low_memory=False)\n",
    "print(df_scraped_6.shape)"
   ]
  },
  {
   "cell_type": "code",
   "execution_count": 13,
   "metadata": {},
   "outputs": [
    {
     "data": {
      "text/plain": [
       "(114551, 21)"
      ]
     },
     "execution_count": 13,
     "metadata": {},
     "output_type": "execute_result"
    }
   ],
   "source": [
    "df_scraped = pd.concat([df_scraped_1, df_scraped_2, df_scraped_3, df_scraped_4, df_scraped_5, df_scraped_6]).drop_duplicates()\n",
    "df_scraped.shape"
   ]
  },
  {
   "cell_type": "code",
   "execution_count": 2,
   "metadata": {
    "collapsed": true
   },
   "outputs": [],
   "source": [
    "df_visited = []"
   ]
  },
  {
   "cell_type": "code",
   "execution_count": 3,
   "metadata": {
    "scrolled": true
   },
   "outputs": [
    {
     "name": "stdout",
     "output_type": "stream",
     "text": [
      "14746\n",
      "168\n",
      "482\n",
      "1797\n",
      "156\n",
      "1031\n",
      "11130\n"
     ]
    }
   ],
   "source": [
    "df_visited_1 = pd.read_csv('./output/log_opened_20170212.csv', header=None).ix[:,0].drop_duplicates().tolist()\n",
    "df_visited_2 = pd.read_csv('./output/log_opened_20170214.csv', header=None).ix[:,0].drop_duplicates().tolist()\n",
    "df_visited_3 = pd.read_csv('./output/log_opened_20170215.csv', header=None).ix[:,0].drop_duplicates().tolist()\n",
    "df_visited_4 = pd.read_csv('./output/log_opened_20170221.csv', header=None).ix[:,0].drop_duplicates().tolist()\n",
    "df_visited_5 = pd.read_csv('./output/log_opened_20170224.csv', header=None).ix[:,0].drop_duplicates().tolist()\n",
    "df_visited_6 = pd.read_csv('./output/log_opened_20170225.csv', header=None).ix[:,0].drop_duplicates().tolist()\n",
    "\n",
    "\n",
    "df_visited = list(set(df_visited_1 + df_visited_2 + df_visited_3 + df_visited_4 + df_visited_5 + df_visited_6))\n",
    "print(len(df_visited))\n",
    "print(len(df_visited_1))\n",
    "print(len(df_visited_2))\n",
    "print(len(df_visited_3))\n",
    "print(len(df_visited_4))\n",
    "print(len(df_visited_5))\n",
    "print(len(df_visited_6))\n",
    "\n",
    "\n"
   ]
  },
  {
   "cell_type": "markdown",
   "metadata": {},
   "source": [
    "# Main Scraping Run"
   ]
  },
  {
   "cell_type": "code",
   "execution_count": null,
   "metadata": {
    "scrolled": false
   },
   "outputs": [
    {
     "name": "stdout",
     "output_type": "stream",
     "text": [
      "Entities:\n",
      "0.- Presidencia de la República: http://www.gobiernotransparentechile.cl/directorio/entidad/1\n",
      "1.- Ministerio del Interior y Seguridad Pública: http://www.gobiernotransparentechile.cl/directorio/entidad/2\n",
      "2.- Ministerio de Relaciones Exteriores: http://www.gobiernotransparentechile.cl/directorio/entidad/3\n",
      "3.- Ministerio de Defensa Nacional: http://www.gobiernotransparentechile.cl/directorio/entidad/4\n",
      "4.- Ministerio de Hacienda: http://www.gobiernotransparentechile.cl/directorio/entidad/5\n",
      "5.- Ministerio Secretaría General de la Presidencia: http://www.gobiernotransparentechile.cl/directorio/entidad/6\n",
      "6.- Ministerio Secretaría General de Gobierno: http://www.gobiernotransparentechile.cl/directorio/entidad/7\n",
      "7.- Ministerio de Economía, Fomento y Turismo: http://www.gobiernotransparentechile.cl/directorio/entidad/8\n",
      "8.- Ministerio de Desarrollo Social: http://www.gobiernotransparentechile.cl/directorio/entidad/9\n",
      "9.- Ministerio de Educación: http://www.gobiernotransparentechile.cl/directorio/entidad/10\n",
      "10.- Ministerio de Justicia y Derechos Humanos: http://www.gobiernotransparentechile.cl/directorio/entidad/11\n",
      "11.- Ministerio del Trabajo y Previsión Social: http://www.gobiernotransparentechile.cl/directorio/entidad/12\n",
      "12.- Ministerio de Obras Públicas: http://www.gobiernotransparentechile.cl/directorio/entidad/13\n",
      "13.- Ministerio de Transporte y Telecomunicaciones: http://www.gobiernotransparentechile.cl/directorio/entidad/14\n",
      "14.- Ministerio de Salud: http://www.gobiernotransparentechile.cl/directorio/entidad/15\n",
      "15.- Ministerio de Vivienda y Urbanismo: http://www.gobiernotransparentechile.cl/directorio/entidad/16\n",
      "16.- Ministerio de Bienes Nacionales: http://www.gobiernotransparentechile.cl/directorio/entidad/17\n",
      "17.- Ministerio de Agricultura: http://www.gobiernotransparentechile.cl/directorio/entidad/18\n",
      "18.- Ministerio de Minería: http://www.gobiernotransparentechile.cl/directorio/entidad/19\n",
      "19.- Ministerio de la Mujer y la Equidad de Género: http://www.gobiernotransparentechile.cl/directorio/entidad/20\n",
      "20.- Ministerio de Energía: http://www.gobiernotransparentechile.cl/directorio/entidad/21\n",
      "21.- Consejo Nacional de la Cultura y las Artes: http://www.gobiernotransparentechile.cl/directorio/entidad/22\n",
      "22.- Ministerio del Medio Ambiente: http://www.gobiernotransparentechile.cl/directorio/entidad/23\n",
      "23.- Consejo de Defensa del Estado: http://www.gobiernotransparentechile.cl/directorio/entidad/24\n",
      "24.- Consejo Nacional de Televisión: http://www.gobiernotransparentechile.cl/directorio/entidad/25\n",
      "25.- Ministerio del Deporte: http://www.gobiernotransparentechile.cl/directorio/entidad/26\n",
      "26.- Servicio Electoral (SERVEL): http://www.gobiernotransparentechile.cl/directorio/entidad/27\n",
      "27.- : http://www.gobiernotransparentechile.cl/directorio/entidad/28\n",
      "Presidencia de la República\n",
      "Presidencia de la República\n"
     ]
    },
    {
     "data": {
      "application/vnd.jupyter.widget-view+json": {
       "model_id": "dd7b5b5e603c43e7bbc00f68feabb79a",
       "version_major": 2,
       "version_minor": 0
      },
      "text/plain": [
       "A Jupyter Widget"
      ]
     },
     "metadata": {},
     "output_type": "display_data"
    },
    {
     "name": "stdout",
     "output_type": "stream",
     "text": [
      "per_planta Año 2017\n",
      "per_planta Año 2016\n",
      "per_planta Año 2015\n",
      "per_planta Año 2014\n",
      "per_planta Año 2013\n",
      "per_planta Año 2012\n",
      "per_planta Año 2011\n",
      "per_planta Año 2010\n",
      "per_planta Año 2009\n",
      "per_planta Año 2008\n",
      "per_planta Año 2007\n",
      "per_planta Año 2006\n",
      "per_contrata Año 2017\n",
      "per_contrata Año 2016\n",
      "per_contrata Año 2015\n",
      "per_contrata Año 2014\n",
      "per_contrata Año 2013\n",
      "per_contrata Año 2012\n",
      "per_contrata Año 2011\n",
      "per_contrata Año 2010\n",
      "per_contrata Año 2009\n",
      "per_contrata Año 2008\n",
      "per_contrata Año 2007\n",
      "per_contrata Año 2006\n",
      "\n",
      "Ministerio del Interior y Seguridad Pública\n",
      "Subsecretaría del Interior\n"
     ]
    },
    {
     "data": {
      "application/vnd.jupyter.widget-view+json": {
       "model_id": "c5e2b56009c84798a05f72681e91c43c",
       "version_major": 2,
       "version_minor": 0
      },
      "text/plain": [
       "A Jupyter Widget"
      ]
     },
     "metadata": {},
     "output_type": "display_data"
    },
    {
     "name": "stdout",
     "output_type": "stream",
     "text": [
      "per_planta Ver Hist�rico antes de la Ley N� 20.285\n",
      "could not get breadcrumbs from http://www.interior.gov.cl/transparenciahistorico/sag/dotacionplanta.html\n",
      "per_planta 2018\n",
      "could not get breadcrumbs from http://www.interior.gov.cl/transparenciaactiva/sag/dotacionplanta_2018.html\n",
      "per_planta 2017\n",
      "per_planta 2016\n",
      "per_planta 2015\n",
      "per_planta 2014\n",
      "per_planta 2013\n",
      "per_planta 2012\n",
      "per_planta 2011\n",
      "per_planta 2010\n",
      "per_planta 2009\n",
      "per_contrata Ver Hist�rico antes de la Ley N� 20.285\n",
      "could not get breadcrumbs from http://www.interior.gov.cl/transparenciahistorico/sag/dotacioncontrata.html\n",
      "per_contrata 2018\n",
      "could not get breadcrumbs from http://www.interior.gov.cl/transparenciaactiva/sag/dotacioncontrata_2018.html\n",
      "per_contrata 2017\n",
      "per_contrata 2016\n",
      "per_contrata 2015\n",
      "per_contrata 2014\n",
      "per_contrata 2013\n",
      "per_contrata 2012\n",
      "per_contrata 2011\n",
      "per_contrata 2010\n",
      "per_contrata 2009\n",
      "\n",
      "Subsecretaría de Desarrollo Regional (SUBDERE)\n"
     ]
    },
    {
     "data": {
      "application/vnd.jupyter.widget-view+json": {
       "model_id": "f0a51b3c571046c784404f5671546a44",
       "version_major": 2,
       "version_minor": 0
      },
      "text/plain": [
       "A Jupyter Widget"
      ]
     },
     "metadata": {},
     "output_type": "display_data"
    },
    {
     "name": "stdout",
     "output_type": "stream",
     "text": [
      "per_planta Año 2008\n",
      "could not get breadcrumbs from http://www.subdere.gov.cl/transparencia/dotacion_2008.html\n",
      "per_planta Año 2007\n",
      "could not get breadcrumbs from http://www.subdere.gov.cl/transparencia/dotacion_2007.html\n",
      "per_planta Año 2006\n",
      "could not get breadcrumbs from http://www.subdere.gov.cl/transparencia/dotacion_2006.html\n",
      "per_contrata Año 2008\n",
      "could not get breadcrumbs from http://www.subdere.gov.cl/transparencia/contrata_2008.html\n",
      "per_contrata Año 2007\n",
      "could not get breadcrumbs from http://www.subdere.gov.cl/transparencia/contrata_2007.html\n",
      "per_contrata Año 2006\n",
      "could not get breadcrumbs from http://www.subdere.gov.cl/transparencia/contrata_2006.html\n",
      "\n",
      "Subsecretaría de Prevención del Delito\n"
     ]
    },
    {
     "data": {
      "application/vnd.jupyter.widget-view+json": {
       "model_id": "4c42a79934aa4221bed2db85db43ac1d",
       "version_major": 2,
       "version_minor": 0
      },
      "text/plain": [
       "A Jupyter Widget"
      ]
     },
     "metadata": {},
     "output_type": "display_data"
    },
    {
     "name": "stdout",
     "output_type": "stream",
     "text": [
      "per_planta Año 2017\n",
      "per_planta Año 2016\n",
      "per_planta Año 2015\n",
      "per_planta Año 2014\n",
      "per_planta Año 2013\n",
      "per_planta Año 2012\n",
      "per_planta Año 2011\n",
      "per_contrata Año 2017\n",
      "per_contrata Año 2016\n",
      "per_contrata Año 2015\n",
      "per_contrata Año 2014\n",
      "per_contrata Año 2013\n",
      "per_contrata Año 2012\n",
      "per_contrata Año 2011\n",
      "\n",
      "Agencia Nacional de Inteligencia (ANI)\n"
     ]
    },
    {
     "name": "stderr",
     "output_type": "stream",
     "text": [
      "Traceback (most recent call last):\n",
      "  File \"./lib/functions.py\", line 103, in getDepartmentData\n",
      "    div_years = browser.find_element_by_class_name(\"linksIntermedios\")\n",
      "  File \"/Users/jaime/anaconda3/lib/python3.6/site-packages/selenium/webdriver/remote/webdriver.py\", line 555, in find_element_by_class_name\n",
      "    return self.find_element(by=By.CLASS_NAME, value=name)\n",
      "  File \"/Users/jaime/anaconda3/lib/python3.6/site-packages/selenium/webdriver/remote/webdriver.py\", line 955, in find_element\n",
      "    'value': value})['value']\n",
      "  File \"/Users/jaime/anaconda3/lib/python3.6/site-packages/selenium/webdriver/remote/webdriver.py\", line 312, in execute\n",
      "    self.error_handler.check_response(response)\n",
      "  File \"/Users/jaime/anaconda3/lib/python3.6/site-packages/selenium/webdriver/remote/errorhandler.py\", line 237, in check_response\n",
      "    raise exception_class(message, screen, stacktrace)\n",
      "selenium.common.exceptions.NoSuchElementException: Message: no such element: Unable to locate element: {\"method\":\"class name\",\"selector\":\"linksIntermedios\"}\n",
      "  (Session info: chrome=64.0.3282.140)\n",
      "  (Driver info: chromedriver=2.35.528157 (4429ca2590d6988c0745c24c8858745aaaec01ef),platform=Mac OS X 10.13.3 x86_64)\n",
      "\n"
     ]
    },
    {
     "name": "stdout",
     "output_type": "stream",
     "text": [
      "No contract data per_planta in http://www.gobiernotransparentechile.cl/directorio/entidad/2/4\n",
      "No contract data per_contrata in http://www.gobiernotransparentechile.cl/directorio/entidad/2/4\n"
     ]
    },
    {
     "name": "stderr",
     "output_type": "stream",
     "text": [
      "Traceback (most recent call last):\n",
      "  File \"./lib/functions.py\", line 103, in getDepartmentData\n",
      "    div_years = browser.find_element_by_class_name(\"linksIntermedios\")\n",
      "  File \"/Users/jaime/anaconda3/lib/python3.6/site-packages/selenium/webdriver/remote/webdriver.py\", line 555, in find_element_by_class_name\n",
      "    return self.find_element(by=By.CLASS_NAME, value=name)\n",
      "  File \"/Users/jaime/anaconda3/lib/python3.6/site-packages/selenium/webdriver/remote/webdriver.py\", line 955, in find_element\n",
      "    'value': value})['value']\n",
      "  File \"/Users/jaime/anaconda3/lib/python3.6/site-packages/selenium/webdriver/remote/webdriver.py\", line 312, in execute\n",
      "    self.error_handler.check_response(response)\n",
      "  File \"/Users/jaime/anaconda3/lib/python3.6/site-packages/selenium/webdriver/remote/errorhandler.py\", line 237, in check_response\n",
      "    raise exception_class(message, screen, stacktrace)\n",
      "selenium.common.exceptions.NoSuchElementException: Message: no such element: Unable to locate element: {\"method\":\"class name\",\"selector\":\"linksIntermedios\"}\n",
      "  (Session info: chrome=64.0.3282.140)\n",
      "  (Driver info: chromedriver=2.35.528157 (4429ca2590d6988c0745c24c8858745aaaec01ef),platform=Mac OS X 10.13.3 x86_64)\n",
      "\n"
     ]
    },
    {
     "data": {
      "application/vnd.jupyter.widget-view+json": {
       "model_id": "143396d50f66462b8a139b4d5130c6b9",
       "version_major": 2,
       "version_minor": 0
      },
      "text/plain": [
       "A Jupyter Widget"
      ]
     },
     "metadata": {},
     "output_type": "display_data"
    },
    {
     "name": "stdout",
     "output_type": "stream",
     "text": [
      "\n",
      "Oficina Nacional de Emergencia (ONEMI)\n"
     ]
    },
    {
     "data": {
      "application/vnd.jupyter.widget-view+json": {
       "model_id": "839b9ef04b984a71b3779b89d98168f5",
       "version_major": 2,
       "version_minor": 0
      },
      "text/plain": [
       "A Jupyter Widget"
      ]
     },
     "metadata": {},
     "output_type": "display_data"
    },
    {
     "name": "stdout",
     "output_type": "stream",
     "text": [
      "per_planta Año 2017\n",
      "per_planta Año 2016\n",
      "per_planta Año 2015\n",
      "per_planta Año 2014\n",
      "per_planta Año 2013\n",
      "per_planta Año 2012\n",
      "per_planta Año 2011\n",
      "per_planta Año 2010\n",
      "per_planta Año 2009\n",
      "per_planta Año 2008\n",
      "per_planta Año 2007\n",
      "per_planta Año 2006\n",
      "per_contrata Año 2017\n",
      "per_contrata Año 2016\n",
      "per_contrata Año 2015\n",
      "per_contrata Año 2014\n",
      "per_contrata Año 2013\n",
      "per_contrata Año 2012\n",
      "per_contrata Año 2011\n",
      "per_contrata Año 2010\n",
      "per_contrata Año 2009\n",
      "per_contrata Año 2008\n",
      "per_contrata Año 2007\n",
      "per_contrata Año 2006\n",
      "\n",
      "Servicio de Gobierno Interior\n"
     ]
    },
    {
     "data": {
      "application/vnd.jupyter.widget-view+json": {
       "model_id": "951879b3775c4d24aded031f0dfb5be0",
       "version_major": 2,
       "version_minor": 0
      },
      "text/plain": [
       "A Jupyter Widget"
      ]
     },
     "metadata": {},
     "output_type": "display_data"
    },
    {
     "name": "stdout",
     "output_type": "stream",
     "text": [
      "per_planta Ver Histórico antes de la Ley N° 20.285\n",
      "could not get breadcrumbs from http://www.interior.gov.cl/transparenciahistorico/sgi/20/dotacionplanta.html\n",
      "per_planta 2018\n",
      "could not get breadcrumbs from http://www.interior.gov.cl/transparenciaactiva/sgi/20/dotacionplanta_2018.html\n",
      "per_planta 2017\n",
      "per_planta 2016\n",
      "per_planta 2015\n",
      "per_planta 2014\n",
      "per_planta 2013\n",
      "per_planta 2012\n",
      "per_planta 2011\n",
      "per_planta 2010\n",
      "per_planta 2009\n",
      "per_contrata Ver Histórico antes de la Ley N° 20.285\n",
      "could not get breadcrumbs from http://www.interior.gov.cl/transparenciahistorico/sgi/20/dotacioncontrata.html\n",
      "per_contrata 2018\n",
      "could not get breadcrumbs from http://www.interior.gov.cl/transparenciaactiva/sgi/20/dotacioncontrata_2018.html\n",
      "per_contrata 2017\n",
      "per_contrata 2016\n",
      "per_contrata 2015\n",
      "per_contrata 2014\n",
      "per_contrata 2013\n",
      "per_contrata 2012\n",
      "per_contrata 2011\n",
      "per_contrata 2010\n",
      "per_contrata 2009\n",
      "\n",
      "Servicio Nacional para la Prevención y Rehabilitación del Consumo de Drogas y Alcohol\n"
     ]
    },
    {
     "data": {
      "application/vnd.jupyter.widget-view+json": {
       "model_id": "bdde49d36e7f43ada8550ff7c7f8faf0",
       "version_major": 2,
       "version_minor": 0
      },
      "text/plain": [
       "A Jupyter Widget"
      ]
     },
     "metadata": {},
     "output_type": "display_data"
    },
    {
     "name": "stdout",
     "output_type": "stream",
     "text": [
      "per_planta 2011\n",
      "per_planta 2017\n",
      "per_planta 2016\n",
      "per_planta 2015\n",
      "per_planta 2014\n",
      "per_planta 2013\n",
      "per_planta 2012\n",
      "per_contrata 2011\n",
      "per_contrata 2017\n",
      "per_contrata 2016\n",
      "per_contrata 2015\n",
      "per_contrata 2014\n",
      "per_contrata 2013\n",
      "per_contrata 2012\n",
      "\n",
      "Carabineros de Chile\n"
     ]
    },
    {
     "name": "stderr",
     "output_type": "stream",
     "text": [
      "Traceback (most recent call last):\n",
      "  File \"./lib/functions.py\", line 103, in getDepartmentData\n",
      "    div_years = browser.find_element_by_class_name(\"linksIntermedios\")\n",
      "  File \"/Users/jaime/anaconda3/lib/python3.6/site-packages/selenium/webdriver/remote/webdriver.py\", line 555, in find_element_by_class_name\n",
      "    return self.find_element(by=By.CLASS_NAME, value=name)\n",
      "  File \"/Users/jaime/anaconda3/lib/python3.6/site-packages/selenium/webdriver/remote/webdriver.py\", line 955, in find_element\n",
      "    'value': value})['value']\n",
      "  File \"/Users/jaime/anaconda3/lib/python3.6/site-packages/selenium/webdriver/remote/webdriver.py\", line 312, in execute\n",
      "    self.error_handler.check_response(response)\n",
      "  File \"/Users/jaime/anaconda3/lib/python3.6/site-packages/selenium/webdriver/remote/errorhandler.py\", line 237, in check_response\n",
      "    raise exception_class(message, screen, stacktrace)\n",
      "selenium.common.exceptions.NoSuchElementException: Message: no such element: Unable to locate element: {\"method\":\"class name\",\"selector\":\"linksIntermedios\"}\n",
      "  (Session info: chrome=64.0.3282.140)\n",
      "  (Driver info: chromedriver=2.35.528157 (4429ca2590d6988c0745c24c8858745aaaec01ef),platform=Mac OS X 10.13.3 x86_64)\n",
      "\n"
     ]
    },
    {
     "name": "stdout",
     "output_type": "stream",
     "text": [
      "No contract data per_planta in http://www.gobiernotransparentechile.cl/directorio/entidad/2/103\n",
      "No contract data per_contrata in http://www.gobiernotransparentechile.cl/directorio/entidad/2/103\n"
     ]
    },
    {
     "name": "stderr",
     "output_type": "stream",
     "text": [
      "Traceback (most recent call last):\n",
      "  File \"./lib/functions.py\", line 103, in getDepartmentData\n",
      "    div_years = browser.find_element_by_class_name(\"linksIntermedios\")\n",
      "  File \"/Users/jaime/anaconda3/lib/python3.6/site-packages/selenium/webdriver/remote/webdriver.py\", line 555, in find_element_by_class_name\n",
      "    return self.find_element(by=By.CLASS_NAME, value=name)\n",
      "  File \"/Users/jaime/anaconda3/lib/python3.6/site-packages/selenium/webdriver/remote/webdriver.py\", line 955, in find_element\n",
      "    'value': value})['value']\n",
      "  File \"/Users/jaime/anaconda3/lib/python3.6/site-packages/selenium/webdriver/remote/webdriver.py\", line 312, in execute\n",
      "    self.error_handler.check_response(response)\n",
      "  File \"/Users/jaime/anaconda3/lib/python3.6/site-packages/selenium/webdriver/remote/errorhandler.py\", line 237, in check_response\n",
      "    raise exception_class(message, screen, stacktrace)\n",
      "selenium.common.exceptions.NoSuchElementException: Message: no such element: Unable to locate element: {\"method\":\"class name\",\"selector\":\"linksIntermedios\"}\n",
      "  (Session info: chrome=64.0.3282.140)\n",
      "  (Driver info: chromedriver=2.35.528157 (4429ca2590d6988c0745c24c8858745aaaec01ef),platform=Mac OS X 10.13.3 x86_64)\n",
      "\n"
     ]
    },
    {
     "data": {
      "application/vnd.jupyter.widget-view+json": {
       "model_id": "2c56ce5ff5154674b0684b4a0c953bed",
       "version_major": 2,
       "version_minor": 0
      },
      "text/plain": [
       "A Jupyter Widget"
      ]
     },
     "metadata": {},
     "output_type": "display_data"
    },
    {
     "name": "stdout",
     "output_type": "stream",
     "text": [
      "\n",
      "Policía de Investigaciones\n"
     ]
    },
    {
     "name": "stderr",
     "output_type": "stream",
     "text": [
      "Traceback (most recent call last):\n",
      "  File \"./lib/functions.py\", line 103, in getDepartmentData\n",
      "    div_years = browser.find_element_by_class_name(\"linksIntermedios\")\n",
      "  File \"/Users/jaime/anaconda3/lib/python3.6/site-packages/selenium/webdriver/remote/webdriver.py\", line 555, in find_element_by_class_name\n",
      "    return self.find_element(by=By.CLASS_NAME, value=name)\n",
      "  File \"/Users/jaime/anaconda3/lib/python3.6/site-packages/selenium/webdriver/remote/webdriver.py\", line 955, in find_element\n",
      "    'value': value})['value']\n",
      "  File \"/Users/jaime/anaconda3/lib/python3.6/site-packages/selenium/webdriver/remote/webdriver.py\", line 312, in execute\n",
      "    self.error_handler.check_response(response)\n",
      "  File \"/Users/jaime/anaconda3/lib/python3.6/site-packages/selenium/webdriver/remote/errorhandler.py\", line 237, in check_response\n",
      "    raise exception_class(message, screen, stacktrace)\n",
      "selenium.common.exceptions.NoSuchElementException: Message: no such element: Unable to locate element: {\"method\":\"class name\",\"selector\":\"linksIntermedios\"}\n",
      "  (Session info: chrome=64.0.3282.140)\n",
      "  (Driver info: chromedriver=2.35.528157 (4429ca2590d6988c0745c24c8858745aaaec01ef),platform=Mac OS X 10.13.3 x86_64)\n",
      "\n"
     ]
    },
    {
     "name": "stdout",
     "output_type": "stream",
     "text": [
      "No contract data per_planta in http://www.gobiernotransparentechile.cl/directorio/entidad/2/104\n",
      "No contract data per_contrata in http://www.gobiernotransparentechile.cl/directorio/entidad/2/104\n"
     ]
    },
    {
     "name": "stderr",
     "output_type": "stream",
     "text": [
      "Traceback (most recent call last):\n",
      "  File \"./lib/functions.py\", line 103, in getDepartmentData\n",
      "    div_years = browser.find_element_by_class_name(\"linksIntermedios\")\n",
      "  File \"/Users/jaime/anaconda3/lib/python3.6/site-packages/selenium/webdriver/remote/webdriver.py\", line 555, in find_element_by_class_name\n",
      "    return self.find_element(by=By.CLASS_NAME, value=name)\n",
      "  File \"/Users/jaime/anaconda3/lib/python3.6/site-packages/selenium/webdriver/remote/webdriver.py\", line 955, in find_element\n",
      "    'value': value})['value']\n",
      "  File \"/Users/jaime/anaconda3/lib/python3.6/site-packages/selenium/webdriver/remote/webdriver.py\", line 312, in execute\n",
      "    self.error_handler.check_response(response)\n",
      "  File \"/Users/jaime/anaconda3/lib/python3.6/site-packages/selenium/webdriver/remote/errorhandler.py\", line 237, in check_response\n",
      "    raise exception_class(message, screen, stacktrace)\n",
      "selenium.common.exceptions.NoSuchElementException: Message: no such element: Unable to locate element: {\"method\":\"class name\",\"selector\":\"linksIntermedios\"}\n",
      "  (Session info: chrome=64.0.3282.140)\n",
      "  (Driver info: chromedriver=2.35.528157 (4429ca2590d6988c0745c24c8858745aaaec01ef),platform=Mac OS X 10.13.3 x86_64)\n",
      "\n"
     ]
    },
    {
     "data": {
      "application/vnd.jupyter.widget-view+json": {
       "model_id": "449066b4fd8b4f1b81908cc90ae7f3bb",
       "version_major": 2,
       "version_minor": 0
      },
      "text/plain": [
       "A Jupyter Widget"
      ]
     },
     "metadata": {},
     "output_type": "display_data"
    },
    {
     "name": "stdout",
     "output_type": "stream",
     "text": [
      "\n",
      "Dirección de Previsión de Carabineros de Chile (DIPRECA)\n"
     ]
    },
    {
     "name": "stderr",
     "output_type": "stream",
     "text": [
      "Traceback (most recent call last):\n",
      "  File \"./lib/functions.py\", line 103, in getDepartmentData\n",
      "    div_years = browser.find_element_by_class_name(\"linksIntermedios\")\n",
      "  File \"/Users/jaime/anaconda3/lib/python3.6/site-packages/selenium/webdriver/remote/webdriver.py\", line 555, in find_element_by_class_name\n",
      "    return self.find_element(by=By.CLASS_NAME, value=name)\n",
      "  File \"/Users/jaime/anaconda3/lib/python3.6/site-packages/selenium/webdriver/remote/webdriver.py\", line 955, in find_element\n",
      "    'value': value})['value']\n",
      "  File \"/Users/jaime/anaconda3/lib/python3.6/site-packages/selenium/webdriver/remote/webdriver.py\", line 312, in execute\n",
      "    self.error_handler.check_response(response)\n",
      "  File \"/Users/jaime/anaconda3/lib/python3.6/site-packages/selenium/webdriver/remote/errorhandler.py\", line 237, in check_response\n",
      "    raise exception_class(message, screen, stacktrace)\n",
      "selenium.common.exceptions.NoSuchElementException: Message: no such element: Unable to locate element: {\"method\":\"class name\",\"selector\":\"linksIntermedios\"}\n",
      "  (Session info: chrome=64.0.3282.140)\n",
      "  (Driver info: chromedriver=2.35.528157 (4429ca2590d6988c0745c24c8858745aaaec01ef),platform=Mac OS X 10.13.3 x86_64)\n",
      "\n"
     ]
    },
    {
     "name": "stdout",
     "output_type": "stream",
     "text": [
      "No contract data per_planta in http://www.gobiernotransparentechile.cl/directorio/entidad/2/110\n",
      "No contract data per_contrata in http://www.gobiernotransparentechile.cl/directorio/entidad/2/110\n"
     ]
    },
    {
     "name": "stderr",
     "output_type": "stream",
     "text": [
      "Traceback (most recent call last):\n",
      "  File \"./lib/functions.py\", line 103, in getDepartmentData\n",
      "    div_years = browser.find_element_by_class_name(\"linksIntermedios\")\n",
      "  File \"/Users/jaime/anaconda3/lib/python3.6/site-packages/selenium/webdriver/remote/webdriver.py\", line 555, in find_element_by_class_name\n",
      "    return self.find_element(by=By.CLASS_NAME, value=name)\n",
      "  File \"/Users/jaime/anaconda3/lib/python3.6/site-packages/selenium/webdriver/remote/webdriver.py\", line 955, in find_element\n",
      "    'value': value})['value']\n",
      "  File \"/Users/jaime/anaconda3/lib/python3.6/site-packages/selenium/webdriver/remote/webdriver.py\", line 312, in execute\n",
      "    self.error_handler.check_response(response)\n",
      "  File \"/Users/jaime/anaconda3/lib/python3.6/site-packages/selenium/webdriver/remote/errorhandler.py\", line 237, in check_response\n",
      "    raise exception_class(message, screen, stacktrace)\n",
      "selenium.common.exceptions.NoSuchElementException: Message: no such element: Unable to locate element: {\"method\":\"class name\",\"selector\":\"linksIntermedios\"}\n",
      "  (Session info: chrome=64.0.3282.140)\n",
      "  (Driver info: chromedriver=2.35.528157 (4429ca2590d6988c0745c24c8858745aaaec01ef),platform=Mac OS X 10.13.3 x86_64)\n",
      "\n"
     ]
    },
    {
     "data": {
      "application/vnd.jupyter.widget-view+json": {
       "model_id": "b956809a3b6e47b0ac1fe51ca0d5ef47",
       "version_major": 2,
       "version_minor": 0
      },
      "text/plain": [
       "A Jupyter Widget"
      ]
     },
     "metadata": {},
     "output_type": "display_data"
    },
    {
     "name": "stdout",
     "output_type": "stream",
     "text": [
      "\n",
      "Intendencia Arica y Parinacota\n"
     ]
    },
    {
     "data": {
      "application/vnd.jupyter.widget-view+json": {
       "model_id": "9c9c270f71764b78a59e30a5655e7270",
       "version_major": 2,
       "version_minor": 0
      },
      "text/plain": [
       "A Jupyter Widget"
      ]
     },
     "metadata": {},
     "output_type": "display_data"
    },
    {
     "name": "stdout",
     "output_type": "stream",
     "text": [
      "per_planta Ver Histórico antes de la Ley N° 20.285\n",
      "could not get breadcrumbs from http://www.interior.gov.cl/transparenciahistorico/sgi/123/dotacionplanta.html\n",
      "per_planta 2018\n",
      "could not get breadcrumbs from http://www.interior.gov.cl/transparenciaactiva/sgi/123/dotacionplanta_2018.html\n",
      "per_planta 2017\n",
      "per_planta 2016\n",
      "per_planta 2015\n",
      "per_planta 2014\n",
      "per_planta 2013\n",
      "per_planta 2012\n",
      "per_planta 2011\n",
      "per_planta 2010\n",
      "per_planta 2009\n",
      "per_contrata Ver Histórico antes de la Ley N° 20.285\n",
      "could not get breadcrumbs from http://www.interior.gov.cl/transparenciahistorico/sgi/123/dotacioncontrata.html\n",
      "per_contrata 2018\n",
      "could not get breadcrumbs from http://www.interior.gov.cl/transparenciaactiva/sgi/123/dotacioncontrata_2018.html\n",
      "per_contrata 2017\n",
      "per_contrata 2016\n",
      "per_contrata 2015\n",
      "per_contrata 2014\n",
      "per_contrata 2013\n",
      "per_contrata 2012\n",
      "per_contrata 2011\n",
      "per_contrata 2010\n",
      "per_contrata 2009\n",
      "\n",
      "Intendencia de Antofagasta\n"
     ]
    },
    {
     "data": {
      "application/vnd.jupyter.widget-view+json": {
       "model_id": "06762d42b7334e54bf4cdb3bf27a4300",
       "version_major": 2,
       "version_minor": 0
      },
      "text/plain": [
       "A Jupyter Widget"
      ]
     },
     "metadata": {},
     "output_type": "display_data"
    },
    {
     "name": "stdout",
     "output_type": "stream",
     "text": [
      "per_planta Ver Histórico antes de la Ley N° 20.285\n",
      "could not get breadcrumbs from http://www.interior.gov.cl/transparenciahistorico/sgi/26/dotacionplanta.html\n",
      "per_planta 2018\n",
      "could not get breadcrumbs from http://www.interior.gov.cl/transparenciaactiva/sgi/26/dotacionplanta_2018.html\n",
      "per_planta 2017\n",
      "per_planta 2016\n",
      "per_planta 2015\n",
      "per_planta 2014\n",
      "per_planta 2013\n",
      "per_planta 2012\n",
      "per_planta 2011\n",
      "per_planta 2010\n",
      "per_planta 2009\n",
      "per_contrata Ver Histórico antes de la Ley N° 20.285\n",
      "could not get breadcrumbs from http://www.interior.gov.cl/transparenciahistorico/sgi/26/dotacioncontrata.html\n",
      "per_contrata 2018\n",
      "could not get breadcrumbs from http://www.interior.gov.cl/transparenciaactiva/sgi/26/dotacioncontrata_2018.html\n",
      "per_contrata 2017\n",
      "per_contrata 2016\n",
      "per_contrata 2015\n",
      "per_contrata 2014\n",
      "per_contrata 2013\n",
      "per_contrata 2012\n",
      "per_contrata 2011\n",
      "per_contrata 2010\n",
      "per_contrata 2009\n",
      "\n",
      "Intendencia de Atacama\n"
     ]
    },
    {
     "data": {
      "application/vnd.jupyter.widget-view+json": {
       "model_id": "6131a544edd849f2b537a15653e29617",
       "version_major": 2,
       "version_minor": 0
      },
      "text/plain": [
       "A Jupyter Widget"
      ]
     },
     "metadata": {},
     "output_type": "display_data"
    },
    {
     "name": "stdout",
     "output_type": "stream",
     "text": [
      "per_planta Ver Histórico antes de la Ley N° 20.285\n",
      "could not get breadcrumbs from http://www.interior.gov.cl/transparenciahistorico/sgi/27/dotacionplanta.html\n",
      "per_planta 2018\n",
      "could not get breadcrumbs from http://www.interior.gov.cl/transparenciaactiva/sgi/27/dotacionplanta_2018.html\n",
      "per_planta 2017\n",
      "per_planta 2016\n",
      "per_planta 2015\n",
      "per_planta 2014\n",
      "per_planta 2013\n",
      "per_planta 2012\n",
      "per_planta 2011\n",
      "per_planta 2010\n",
      "per_planta 2009\n",
      "per_contrata Ver Histórico antes de la Ley N° 20.285\n",
      "could not get breadcrumbs from http://www.interior.gov.cl/transparenciahistorico/sgi/27/dotacioncontrata.html\n",
      "per_contrata 2018\n",
      "could not get breadcrumbs from http://www.interior.gov.cl/transparenciaactiva/sgi/27/dotacioncontrata_2018.html\n",
      "per_contrata 2017\n",
      "per_contrata 2016\n",
      "per_contrata 2015\n",
      "per_contrata 2014\n",
      "per_contrata 2013\n",
      "per_contrata 2012\n",
      "per_contrata 2011\n",
      "per_contrata 2010\n",
      "per_contrata 2009\n",
      "\n",
      "Intendencia de Aysén\n"
     ]
    },
    {
     "data": {
      "application/vnd.jupyter.widget-view+json": {
       "model_id": "54e095febfb44b708954f7a89ec2d61c",
       "version_major": 2,
       "version_minor": 0
      },
      "text/plain": [
       "A Jupyter Widget"
      ]
     },
     "metadata": {},
     "output_type": "display_data"
    },
    {
     "name": "stdout",
     "output_type": "stream",
     "text": [
      "per_planta Ver Histórico antes de la Ley N° 20.285\n",
      "could not get breadcrumbs from http://www.interior.gov.cl/transparenciahistorico/sgi/35/dotacionplanta.html\n",
      "per_planta 2018\n",
      "could not get breadcrumbs from http://www.interior.gov.cl/transparenciaactiva/sgi/35/dotacionplanta_2018.html\n",
      "per_planta 2017\n",
      "per_planta 2016\n",
      "per_planta 2015\n",
      "per_planta 2014\n",
      "per_planta 2013\n",
      "per_planta 2012\n",
      "per_planta 2011\n",
      "per_planta 2010\n",
      "per_planta 2009\n",
      "per_contrata Ver Histórico antes de la Ley N° 20.285\n",
      "could not get breadcrumbs from http://www.interior.gov.cl/transparenciahistorico/sgi/35/dotacioncontrata.html\n",
      "per_contrata 2018\n",
      "could not get breadcrumbs from http://www.interior.gov.cl/transparenciaactiva/sgi/35/dotacioncontrata_2018.html\n",
      "per_contrata 2017\n",
      "per_contrata 2016\n",
      "per_contrata 2015\n",
      "per_contrata 2014\n",
      "per_contrata 2013\n",
      "per_contrata 2012\n",
      "per_contrata 2011\n",
      "per_contrata 2010\n",
      "per_contrata 2009\n",
      "\n",
      "Intendencia de Coquimbo\n"
     ]
    },
    {
     "data": {
      "application/vnd.jupyter.widget-view+json": {
       "model_id": "68eb02d639c94f46b295f7dac02f4202",
       "version_major": 2,
       "version_minor": 0
      },
      "text/plain": [
       "A Jupyter Widget"
      ]
     },
     "metadata": {},
     "output_type": "display_data"
    },
    {
     "name": "stdout",
     "output_type": "stream",
     "text": [
      "per_planta Ver Histórico antes de la Ley N° 20.285\n",
      "could not get breadcrumbs from http://www.interior.gov.cl/transparenciahistorico/sgi/28/dotacionplanta.html\n",
      "per_planta 2018\n",
      "could not get breadcrumbs from http://www.interior.gov.cl/transparenciaactiva/sgi/28/dotacionplanta_2018.html\n",
      "per_planta 2017\n",
      "per_planta 2016\n",
      "per_planta 2015\n",
      "per_planta 2014\n",
      "per_planta 2013\n",
      "per_planta 2012\n",
      "per_planta 2011\n",
      "per_planta 2010\n",
      "per_planta 2009\n",
      "per_contrata Ver Histórico antes de la Ley N° 20.285\n",
      "could not get breadcrumbs from http://www.interior.gov.cl/transparenciahistorico/sgi/28/dotacioncontrata.html\n",
      "per_contrata 2018\n",
      "could not get breadcrumbs from http://www.interior.gov.cl/transparenciaactiva/sgi/28/dotacioncontrata_2018.html\n",
      "per_contrata 2017\n",
      "per_contrata 2016\n",
      "per_contrata 2015\n",
      "per_contrata 2014\n",
      "per_contrata 2013\n",
      "per_contrata 2012\n",
      "per_contrata 2011\n",
      "per_contrata 2010\n",
      "per_contrata 2009\n",
      "\n",
      "Intendencia de La Araucanía\n"
     ]
    },
    {
     "data": {
      "application/vnd.jupyter.widget-view+json": {
       "model_id": "1a9b02c039534ae4aa008e7a18e11a8e",
       "version_major": 2,
       "version_minor": 0
      },
      "text/plain": [
       "A Jupyter Widget"
      ]
     },
     "metadata": {},
     "output_type": "display_data"
    },
    {
     "name": "stdout",
     "output_type": "stream",
     "text": [
      "per_planta Ver Histórico antes de la Ley N° 20.285\n",
      "could not get breadcrumbs from http://www.interior.gov.cl/transparenciahistorico/sgi/33/dotacionplanta.html\n",
      "per_planta 2018\n",
      "could not get breadcrumbs from http://www.interior.gov.cl/transparenciaactiva/sgi/33/dotacionplanta_2018.html\n",
      "per_planta 2017\n",
      "per_planta 2016\n",
      "per_planta 2015\n",
      "per_planta 2014\n",
      "per_planta 2013\n",
      "per_planta 2012\n",
      "per_planta 2011\n",
      "per_planta 2010\n",
      "per_planta 2009\n",
      "per_contrata Ver Histórico antes de la Ley N° 20.285\n",
      "could not get breadcrumbs from http://www.interior.gov.cl/transparenciahistorico/sgi/33/dotacioncontrata.html\n",
      "per_contrata 2018\n",
      "could not get breadcrumbs from http://www.interior.gov.cl/transparenciaactiva/sgi/33/dotacioncontrata_2018.html\n",
      "per_contrata 2017\n",
      "per_contrata 2016\n",
      "per_contrata 2015\n",
      "per_contrata 2014\n",
      "per_contrata 2013\n",
      "per_contrata 2012\n",
      "per_contrata 2011\n",
      "per_contrata 2010\n",
      "per_contrata 2009\n",
      "\n",
      "Intendencia de Los Lagos\n"
     ]
    },
    {
     "data": {
      "application/vnd.jupyter.widget-view+json": {
       "model_id": "73e617377aee47b494255d04a3caa43c",
       "version_major": 2,
       "version_minor": 0
      },
      "text/plain": [
       "A Jupyter Widget"
      ]
     },
     "metadata": {},
     "output_type": "display_data"
    },
    {
     "name": "stdout",
     "output_type": "stream",
     "text": [
      "per_planta Ver Histórico antes de la Ley N° 20.285\n",
      "could not get breadcrumbs from http://www.interior.gov.cl/transparenciahistorico/sgi/34/dotacionplanta.html\n",
      "per_planta 2018\n",
      "could not get breadcrumbs from http://www.interior.gov.cl/transparenciaactiva/sgi/34/dotacionplanta_2018.html\n",
      "per_planta 2017\n",
      "per_planta 2016\n",
      "per_planta 2015\n",
      "per_planta 2014\n",
      "per_planta 2013\n",
      "per_planta 2012\n",
      "per_planta 2011\n",
      "per_planta 2010\n",
      "per_planta 2009\n",
      "per_contrata Ver Histórico antes de la Ley N° 20.285\n",
      "could not get breadcrumbs from http://www.interior.gov.cl/transparenciahistorico/sgi/34/dotacioncontrata.html\n",
      "per_contrata 2018\n",
      "could not get breadcrumbs from http://www.interior.gov.cl/transparenciaactiva/sgi/34/dotacioncontrata_2018.html\n",
      "per_contrata 2017\n",
      "per_contrata 2016\n",
      "per_contrata 2015\n",
      "per_contrata 2014\n",
      "per_contrata 2013\n",
      "per_contrata 2012\n",
      "per_contrata 2011\n",
      "per_contrata 2010\n",
      "per_contrata 2009\n",
      "\n",
      "Intendencia de Los Ríos\n"
     ]
    },
    {
     "data": {
      "application/vnd.jupyter.widget-view+json": {
       "model_id": "c02803a802784c979c52eb858da92abc",
       "version_major": 2,
       "version_minor": 0
      },
      "text/plain": [
       "A Jupyter Widget"
      ]
     },
     "metadata": {},
     "output_type": "display_data"
    },
    {
     "name": "stdout",
     "output_type": "stream",
     "text": [
      "per_planta Ver Histórico antes de la Ley N° 20.285\n",
      "could not get breadcrumbs from http://www.interior.gov.cl/transparenciahistorico/sgi/122/dotacionplanta.html\n",
      "per_planta 2018\n",
      "could not get breadcrumbs from http://www.interior.gov.cl/transparenciaactiva/sgi/122/dotacionplanta_2018.html\n",
      "per_planta 2017\n",
      "per_planta 2016\n",
      "per_planta 2015\n",
      "per_planta 2014\n",
      "per_planta 2013\n",
      "per_planta 2012\n",
      "per_planta 2011\n",
      "per_planta 2010\n",
      "per_planta 2009\n",
      "per_contrata Ver Histórico antes de la Ley N° 20.285\n",
      "could not get breadcrumbs from http://www.interior.gov.cl/transparenciahistorico/sgi/122/dotacioncontrata.html\n",
      "per_contrata 2018\n",
      "could not get breadcrumbs from http://www.interior.gov.cl/transparenciaactiva/sgi/122/dotacioncontrata_2018.html\n",
      "per_contrata 2017\n",
      "per_contrata 2016\n",
      "per_contrata 2015\n",
      "per_contrata 2014\n",
      "per_contrata 2013\n",
      "per_contrata 2012\n",
      "per_contrata 2011\n",
      "per_contrata 2010\n",
      "per_contrata 2009\n",
      "\n",
      "Intendencia de Magallanes\n"
     ]
    },
    {
     "data": {
      "application/vnd.jupyter.widget-view+json": {
       "model_id": "82675bcbebb34d639ae18876baf9dfeb",
       "version_major": 2,
       "version_minor": 0
      },
      "text/plain": [
       "A Jupyter Widget"
      ]
     },
     "metadata": {},
     "output_type": "display_data"
    },
    {
     "name": "stdout",
     "output_type": "stream",
     "text": [
      "per_planta Ver Histórico antes de la Ley N° 20.285\n",
      "could not get breadcrumbs from http://www.interior.gov.cl/transparenciahistorico/sgi/36/dotacionplanta.html\n",
      "per_planta 2018\n",
      "could not get breadcrumbs from http://www.interior.gov.cl/transparenciaactiva/sgi/36/dotacionplanta_2018.html\n",
      "per_planta 2017\n",
      "per_planta 2016\n",
      "per_planta 2015\n",
      "per_planta 2014\n",
      "per_planta 2013\n",
      "per_planta 2012\n",
      "per_planta 2011\n",
      "per_planta 2010\n",
      "per_planta 2009\n",
      "per_contrata Ver Histórico antes de la Ley N° 20.285\n",
      "could not get breadcrumbs from http://www.interior.gov.cl/transparenciahistorico/sgi/36/dotacioncontrata.html\n",
      "per_contrata 2018\n",
      "could not get breadcrumbs from http://www.interior.gov.cl/transparenciaactiva/sgi/36/dotacioncontrata_2018.html\n",
      "per_contrata 2017\n",
      "per_contrata 2016\n",
      "per_contrata 2015\n",
      "per_contrata 2014\n",
      "per_contrata 2013\n",
      "per_contrata 2012\n",
      "per_contrata 2011\n",
      "per_contrata 2010\n",
      "per_contrata 2009\n",
      "\n",
      "Intendencia de O'Higgins\n"
     ]
    },
    {
     "data": {
      "application/vnd.jupyter.widget-view+json": {
       "model_id": "a4ab22ebb26b41bbb466a7a0a470ac4d",
       "version_major": 2,
       "version_minor": 0
      },
      "text/plain": [
       "A Jupyter Widget"
      ]
     },
     "metadata": {},
     "output_type": "display_data"
    },
    {
     "name": "stdout",
     "output_type": "stream",
     "text": [
      "per_planta Ver Histórico antes de la Ley N° 20.285\n",
      "could not get breadcrumbs from http://www.interior.gov.cl/transparenciahistorico/sgi/30/dotacionplanta.html\n",
      "per_planta 2018\n",
      "could not get breadcrumbs from http://www.interior.gov.cl/transparenciaactiva/sgi/30/dotacionplanta_2018.html\n",
      "per_planta 2017\n",
      "per_planta 2016\n",
      "per_planta 2015\n",
      "per_planta 2014\n",
      "per_planta 2013\n",
      "per_planta 2012\n",
      "per_planta 2011\n",
      "per_planta 2010\n",
      "per_planta 2009\n",
      "per_contrata Ver Histórico antes de la Ley N° 20.285\n",
      "could not get breadcrumbs from http://www.interior.gov.cl/transparenciahistorico/sgi/30/dotacioncontrata.html\n",
      "per_contrata 2018\n",
      "could not get breadcrumbs from http://www.interior.gov.cl/transparenciaactiva/sgi/30/dotacioncontrata_2018.html\n",
      "per_contrata 2017\n",
      "per_contrata 2016\n",
      "per_contrata 2015\n",
      "per_contrata 2014\n",
      "per_contrata 2013\n",
      "per_contrata 2012\n",
      "per_contrata 2011\n"
     ]
    }
   ],
   "source": [
    "global period \n",
    "period = '20180210-3'\n",
    "\n",
    "output = '../data/output/scraped_data_{}.csv'.format(period)\n",
    "\n",
    "url = 'http://www.gobiernotransparentechile.cl/'\n",
    "\n",
    "browser = webdriver.Chrome()\n",
    "#browser = webdriver.Firefox()\n",
    "\n",
    "df = getGovernmentData(output, url, browser, 0, period)"
   ]
  },
  {
   "cell_type": "markdown",
   "metadata": {},
   "source": [
    "# Debugging\n"
   ]
  },
  {
   "cell_type": "code",
   "execution_count": 6,
   "metadata": {
    "collapsed": true,
    "scrolled": true
   },
   "outputs": [],
   "source": [
    "browser_debug = webdriver.Chrome()\n",
    "getTableData2('./output/debugging.csv', 'http://www.gobiernotransparentechile.cl/directorio/entidad/12/167/per_planta/A%C3%B1o%202016/Enero', browser_debug)"
   ]
  },
  {
   "cell_type": "code",
   "execution_count": null,
   "metadata": {
    "collapsed": true
   },
   "outputs": [],
   "source": []
  },
  {
   "cell_type": "code",
   "execution_count": null,
   "metadata": {
    "collapsed": true
   },
   "outputs": [],
   "source": []
  }
 ],
 "metadata": {
  "anaconda-cloud": {},
  "kernelspec": {
   "display_name": "Python 3",
   "language": "python",
   "name": "python3"
  },
  "language_info": {
   "codemirror_mode": {
    "name": "ipython",
    "version": 3
   },
   "file_extension": ".py",
   "mimetype": "text/x-python",
   "name": "python",
   "nbconvert_exporter": "python",
   "pygments_lexer": "ipython3",
   "version": "3.6.2"
  }
 },
 "nbformat": 4,
 "nbformat_minor": 1
}
