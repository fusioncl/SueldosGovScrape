{
 "cells": [
  {
   "cell_type": "markdown",
   "metadata": {
    "collapsed": true
   },
   "source": [
    "# Web Scraping Gobierno Transparente Chile\n",
    "##### Exploring wage expenses in the goberment. Public information."
   ]
  },
  {
   "cell_type": "markdown",
   "metadata": {},
   "source": [
    "Beautiful soup did not work. The server time outs when you connect through bsoup.\n",
    "\n",
    "## Trying Selenium"
   ]
  },
  {
   "cell_type": "code",
   "execution_count": 5,
   "metadata": {},
   "outputs": [
    {
     "data": {
      "text/html": [
       "<style>.container { width:100% !important; }</style>"
      ],
      "text/plain": [
       "<IPython.core.display.HTML object>"
      ]
     },
     "metadata": {},
     "output_type": "display_data"
    },
    {
     "name": "stdout",
     "output_type": "stream",
     "text": [
      "The autoreload extension is already loaded. To reload it, use:\n",
      "  %reload_ext autoreload\n"
     ]
    }
   ],
   "source": [
    "import pandas as pd\n",
    "import numpy as np\n",
    "import unicodedata\n",
    "from selenium import webdriver\n",
    "from selenium.common.exceptions import NoSuchElementException\n",
    "\n",
    "import csv\n",
    "\n",
    "import sys\n",
    "sys.path.append('./lib/')\n",
    "\n",
    "import functions\n",
    "from functions import *\n",
    "from tqdm import tnrange, tqdm_notebook\n",
    "from unidecode import unidecode\n",
    "\n",
    "from IPython.core.display import display, HTML\n",
    "display(HTML(\"<style>.container { width:100% !important; }</style>\"))\n",
    "\n",
    "import lxml.html\n",
    "import lxml\n",
    "\n",
    "%load_ext autoreload\n",
    "%load_ext line_profiler\n",
    "%autoreload 2"
   ]
  },
  {
   "cell_type": "markdown",
   "metadata": {},
   "source": [
    "#  Parameters"
   ]
  },
  {
   "cell_type": "markdown",
   "metadata": {},
   "source": [
    "# OPTIONAL Gather data already scraped, before re-run"
   ]
  },
  {
   "cell_type": "code",
   "execution_count": 12,
   "metadata": {},
   "outputs": [
    {
     "name": "stdout",
     "output_type": "stream",
     "text": [
      "(44783, 21)\n",
      "(25227, 21)\n",
      "(50586, 20)\n",
      "(3145, 20)\n",
      "(36591, 20)\n",
      "(15300, 20)\n"
     ]
    }
   ],
   "source": [
    "df_scraped_1 = pd.read_csv('./output/scraped_data_20170214.csv', encoding='latin_1', header=None, index_col=0, low_memory=False)\n",
    "print(df_scraped_1.shape)\n",
    "df_scraped_2 = pd.read_csv('./output/scraped_data_20170212.csv', encoding='latin_1', header=None, index_col=0, low_memory=False)\n",
    "print(df_scraped_2.shape)\n",
    "df_scraped_3 = pd.read_csv('./output/scraped_data_20170215.csv', encoding='latin_1', header=None, index_col=0, low_memory=False)\n",
    "print(df_scraped_3.shape)\n",
    "df_scraped_4 = pd.read_csv('./output/scraped_data_20170215-1.csv', encoding='latin_1', header=None, index_col=0, low_memory=False)\n",
    "print(df_scraped_4.shape)\n",
    "df_scraped_5 = pd.read_csv('./output/scraped_data_20170216.csv', encoding='latin_1', header=None, index_col=0, low_memory=False)\n",
    "print(df_scraped_5.shape)\n",
    "df_scraped_6 = pd.read_csv('./output/scraped_data_20170221.csv', encoding='latin_1', header=None, index_col=0, low_memory=False)\n",
    "print(df_scraped_6.shape)"
   ]
  },
  {
   "cell_type": "code",
   "execution_count": 13,
   "metadata": {},
   "outputs": [
    {
     "data": {
      "text/plain": [
       "(114551, 21)"
      ]
     },
     "execution_count": 13,
     "metadata": {},
     "output_type": "execute_result"
    }
   ],
   "source": [
    "df_scraped = pd.concat([df_scraped_1, df_scraped_2, df_scraped_3, df_scraped_4, df_scraped_5, df_scraped_6]).drop_duplicates()\n",
    "df_scraped.shape"
   ]
  },
  {
   "cell_type": "code",
   "execution_count": 2,
   "metadata": {
    "collapsed": true
   },
   "outputs": [],
   "source": [
    "df_visited = []"
   ]
  },
  {
   "cell_type": "code",
   "execution_count": 3,
   "metadata": {
    "scrolled": true
   },
   "outputs": [
    {
     "name": "stdout",
     "output_type": "stream",
     "text": [
      "14746\n",
      "168\n",
      "482\n",
      "1797\n",
      "156\n",
      "1031\n",
      "11130\n"
     ]
    }
   ],
   "source": [
    "df_visited_1 = pd.read_csv('./output/log_opened_20170212.csv', header=None).ix[:,0].drop_duplicates().tolist()\n",
    "df_visited_2 = pd.read_csv('./output/log_opened_20170214.csv', header=None).ix[:,0].drop_duplicates().tolist()\n",
    "df_visited_3 = pd.read_csv('./output/log_opened_20170215.csv', header=None).ix[:,0].drop_duplicates().tolist()\n",
    "df_visited_4 = pd.read_csv('./output/log_opened_20170221.csv', header=None).ix[:,0].drop_duplicates().tolist()\n",
    "df_visited_5 = pd.read_csv('./output/log_opened_20170224.csv', header=None).ix[:,0].drop_duplicates().tolist()\n",
    "df_visited_6 = pd.read_csv('./output/log_opened_20170225.csv', header=None).ix[:,0].drop_duplicates().tolist()\n",
    "\n",
    "\n",
    "df_visited = list(set(df_visited_1 + df_visited_2 + df_visited_3 + df_visited_4 + df_visited_5 + df_visited_6))\n",
    "print(len(df_visited))\n",
    "print(len(df_visited_1))\n",
    "print(len(df_visited_2))\n",
    "print(len(df_visited_3))\n",
    "print(len(df_visited_4))\n",
    "print(len(df_visited_5))\n",
    "print(len(df_visited_6))\n",
    "\n",
    "\n"
   ]
  },
  {
   "cell_type": "markdown",
   "metadata": {},
   "source": [
    "# Main Scraping Run"
   ]
  },
  {
   "cell_type": "code",
   "execution_count": 38,
   "metadata": {
    "scrolled": true
   },
   "outputs": [
    {
     "name": "stdout",
     "output_type": "stream",
     "text": [
      "Entities:\n",
      "0.- Presidencia de la República: http://www.gobiernotransparentechile.cl/directorio/entidad/1\n",
      "1.- Ministerio del Interior y Seguridad Pública: http://www.gobiernotransparentechile.cl/directorio/entidad/2\n",
      "2.- Ministerio de Relaciones Exteriores: http://www.gobiernotransparentechile.cl/directorio/entidad/3\n",
      "3.- Ministerio de Defensa Nacional: http://www.gobiernotransparentechile.cl/directorio/entidad/4\n",
      "4.- Ministerio de Hacienda: http://www.gobiernotransparentechile.cl/directorio/entidad/5\n",
      "5.- Ministerio Secretaría General de la Presidencia: http://www.gobiernotransparentechile.cl/directorio/entidad/6\n",
      "6.- Ministerio Secretaría General de Gobierno: http://www.gobiernotransparentechile.cl/directorio/entidad/7\n",
      "7.- Ministerio de Economía, Fomento y Turismo: http://www.gobiernotransparentechile.cl/directorio/entidad/8\n",
      "8.- Ministerio de Desarrollo Social: http://www.gobiernotransparentechile.cl/directorio/entidad/9\n",
      "9.- Ministerio de Educación: http://www.gobiernotransparentechile.cl/directorio/entidad/10\n",
      "10.- Ministerio de Justicia y Derechos Humanos: http://www.gobiernotransparentechile.cl/directorio/entidad/11\n",
      "11.- Ministerio del Trabajo y Previsión Social: http://www.gobiernotransparentechile.cl/directorio/entidad/12\n",
      "12.- Ministerio de Obras Públicas: http://www.gobiernotransparentechile.cl/directorio/entidad/13\n",
      "13.- Ministerio de Transporte y Telecomunicaciones: http://www.gobiernotransparentechile.cl/directorio/entidad/14\n",
      "14.- Ministerio de Salud: http://www.gobiernotransparentechile.cl/directorio/entidad/15\n",
      "15.- Ministerio de Vivienda y Urbanismo: http://www.gobiernotransparentechile.cl/directorio/entidad/16\n",
      "16.- Ministerio de Bienes Nacionales: http://www.gobiernotransparentechile.cl/directorio/entidad/17\n",
      "17.- Ministerio de Agricultura: http://www.gobiernotransparentechile.cl/directorio/entidad/18\n",
      "18.- Ministerio de Minería: http://www.gobiernotransparentechile.cl/directorio/entidad/19\n",
      "19.- Ministerio de la Mujer y la Equidad de Género: http://www.gobiernotransparentechile.cl/directorio/entidad/20\n",
      "20.- Ministerio de Energía: http://www.gobiernotransparentechile.cl/directorio/entidad/21\n",
      "21.- Consejo Nacional de la Cultura y las Artes: http://www.gobiernotransparentechile.cl/directorio/entidad/22\n",
      "22.- Ministerio del Medio Ambiente: http://www.gobiernotransparentechile.cl/directorio/entidad/23\n",
      "23.- Consejo de Defensa del Estado: http://www.gobiernotransparentechile.cl/directorio/entidad/24\n",
      "24.- Consejo Nacional de Televisión: http://www.gobiernotransparentechile.cl/directorio/entidad/25\n",
      "25.- Ministerio del Deporte: http://www.gobiernotransparentechile.cl/directorio/entidad/26\n",
      "26.- Servicio Electoral (SERVEL): http://www.gobiernotransparentechile.cl/directorio/entidad/27\n",
      "27.- : http://www.gobiernotransparentechile.cl/directorio/entidad/28\n",
      "Presidencia de la República\n",
      "Presidencia de la República\n"
     ]
    },
    {
     "data": {
      "application/vnd.jupyter.widget-view+json": {
       "model_id": "b22005b8227c4bd7b341692e0e217e66",
       "version_major": 2,
       "version_minor": 0
      },
      "text/plain": [
       "A Jupyter Widget"
      ]
     },
     "metadata": {},
     "output_type": "display_data"
    },
    {
     "name": "stdout",
     "output_type": "stream",
     "text": [
      "per_honorarios Año 2018\n",
      "per_honorarios Año 2017\n",
      "per_honorarios Año 2016\n",
      "per_honorarios Año 2015\n",
      "\n"
     ]
    },
    {
     "name": "stderr",
     "output_type": "stream",
     "text": [
      "Exception in thread Thread-20:\n",
      "Traceback (most recent call last):\n",
      "  File \"/Users/jaime/anaconda3/lib/python3.6/threading.py\", line 916, in _bootstrap_inner\n",
      "    self.run()\n",
      "  File \"/Users/jaime/anaconda3/lib/python3.6/site-packages/tqdm/_tqdm.py\", line 144, in run\n",
      "    for instance in self.tqdm_cls._instances:\n",
      "  File \"/Users/jaime/anaconda3/lib/python3.6/_weakrefset.py\", line 60, in __iter__\n",
      "    for itemref in self.data:\n",
      "RuntimeError: Set changed size during iteration\n",
      "\n"
     ]
    },
    {
     "name": "stdout",
     "output_type": "stream",
     "text": [
      "per_honorarios Año 2014\n",
      "per_honorarios Año 2013\n",
      "per_honorarios Año 2012\n",
      "per_honorarios Año 2011\n",
      "per_honorarios Año 2010\n",
      "per_honorarios Año 2009\n",
      "per_honorarios Año 2008\n",
      "per_honorarios Año 2007\n",
      "per_honorarios Año 2006\n",
      "\n",
      "Ministerio del Interior y Seguridad Pública\n",
      "Subsecretaría del Interior\n"
     ]
    },
    {
     "data": {
      "application/vnd.jupyter.widget-view+json": {
       "model_id": "0d72cbfaf9a5409db30c3c2993f3e076",
       "version_major": 2,
       "version_minor": 0
      },
      "text/plain": [
       "A Jupyter Widget"
      ]
     },
     "metadata": {},
     "output_type": "display_data"
    },
    {
     "name": "stdout",
     "output_type": "stream",
     "text": [
      "per_honorarios Ver Hist�rico antes de la Ley N� 20.285\n",
      "could not get breadcrumbs from http://www.interior.gov.cl/transparenciahistorico/sag/index.html\n",
      "per_honorarios 2018\n",
      "per_honorarios 2017\n",
      "per_honorarios 2016\n",
      "per_honorarios 2015\n",
      "per_honorarios 2014\n",
      "per_honorarios 2013\n",
      "per_honorarios 2012\n",
      "per_honorarios 2011\n",
      "per_honorarios 2010\n",
      "per_honorarios 2009\n",
      "\n",
      "Subsecretaría de Desarrollo Regional (SUBDERE)\n"
     ]
    },
    {
     "data": {
      "application/vnd.jupyter.widget-view+json": {
       "model_id": "199625bb862d4197b208a0c0ff1ba8a3",
       "version_major": 2,
       "version_minor": 0
      },
      "text/plain": [
       "A Jupyter Widget"
      ]
     },
     "metadata": {},
     "output_type": "display_data"
    },
    {
     "name": "stdout",
     "output_type": "stream",
     "text": [
      "per_honorarios Año 2008\n",
      "per_honorarios Año 2007\n",
      "per_honorarios Año 2018\n",
      "\n",
      "Subsecretaría de Prevención del Delito\n"
     ]
    },
    {
     "data": {
      "application/vnd.jupyter.widget-view+json": {
       "model_id": "56555789db8d497a987f906170f2a5d6",
       "version_major": 2,
       "version_minor": 0
      },
      "text/plain": [
       "A Jupyter Widget"
      ]
     },
     "metadata": {},
     "output_type": "display_data"
    },
    {
     "name": "stdout",
     "output_type": "stream",
     "text": [
      "per_honorarios Año 2017\n",
      "per_honorarios Año 2016\n",
      "per_honorarios Año 2015\n",
      "per_honorarios Año 2014\n",
      "per_honorarios Año 2013\n",
      "per_honorarios Año 2012\n",
      "per_honorarios Año 2011\n",
      "\n",
      "Agencia Nacional de Inteligencia (ANI)\n",
      "No contract data per_honorarios in http://www.gobiernotransparentechile.cl/directorio/entidad/2/4\n"
     ]
    },
    {
     "name": "stderr",
     "output_type": "stream",
     "text": [
      "Traceback (most recent call last):\n",
      "  File \"./lib/functions.py\", line 109, in getDepartmentData\n",
      "    div_years = browser.find_element_by_class_name(\"linksIntermedios\")\n",
      "  File \"/Users/jaime/anaconda3/lib/python3.6/site-packages/selenium/webdriver/remote/webdriver.py\", line 555, in find_element_by_class_name\n",
      "    return self.find_element(by=By.CLASS_NAME, value=name)\n",
      "  File \"/Users/jaime/anaconda3/lib/python3.6/site-packages/selenium/webdriver/remote/webdriver.py\", line 955, in find_element\n",
      "    'value': value})['value']\n",
      "  File \"/Users/jaime/anaconda3/lib/python3.6/site-packages/selenium/webdriver/remote/webdriver.py\", line 312, in execute\n",
      "    self.error_handler.check_response(response)\n",
      "  File \"/Users/jaime/anaconda3/lib/python3.6/site-packages/selenium/webdriver/remote/errorhandler.py\", line 237, in check_response\n",
      "    raise exception_class(message, screen, stacktrace)\n",
      "selenium.common.exceptions.NoSuchElementException: Message: no such element: Unable to locate element: {\"method\":\"class name\",\"selector\":\"linksIntermedios\"}\n",
      "  (Session info: chrome=65.0.3325.181)\n",
      "  (Driver info: chromedriver=2.35.528157 (4429ca2590d6988c0745c24c8858745aaaec01ef),platform=Mac OS X 10.13.3 x86_64)\n",
      "\n"
     ]
    },
    {
     "data": {
      "application/vnd.jupyter.widget-view+json": {
       "model_id": "d54c520f1fbd44239fab25f84b06f03c",
       "version_major": 2,
       "version_minor": 0
      },
      "text/plain": [
       "A Jupyter Widget"
      ]
     },
     "metadata": {},
     "output_type": "display_data"
    },
    {
     "name": "stdout",
     "output_type": "stream",
     "text": [
      "\n",
      "Oficina Nacional de Emergencia (ONEMI)\n"
     ]
    },
    {
     "data": {
      "application/vnd.jupyter.widget-view+json": {
       "model_id": "2f681262c1cf44f79fb9138e4652103a",
       "version_major": 2,
       "version_minor": 0
      },
      "text/plain": [
       "A Jupyter Widget"
      ]
     },
     "metadata": {},
     "output_type": "display_data"
    },
    {
     "name": "stdout",
     "output_type": "stream",
     "text": [
      "per_honorarios Año 2017\n",
      "per_honorarios Año 2016\n",
      "per_honorarios Año 2015\n",
      "per_honorarios Año 2014\n",
      "per_honorarios Año 2013\n",
      "per_honorarios Año 2012\n",
      "per_honorarios Año 2011\n",
      "per_honorarios Año 2010\n",
      "per_honorarios Año 2009\n",
      "per_honorarios Año 2008\n",
      "per_honorarios Año 2007\n",
      "per_honorarios Año 2006\n",
      "\n",
      "Servicio de Gobierno Interior\n"
     ]
    },
    {
     "data": {
      "application/vnd.jupyter.widget-view+json": {
       "model_id": "fa8fdc403d794f6ebfe1afe29625dea7",
       "version_major": 2,
       "version_minor": 0
      },
      "text/plain": [
       "A Jupyter Widget"
      ]
     },
     "metadata": {},
     "output_type": "display_data"
    },
    {
     "name": "stdout",
     "output_type": "stream",
     "text": [
      "per_honorarios Ver Histórico antes de la Ley N° 20.285\n",
      "could not get breadcrumbs from http://www.interior.gov.cl/transparenciahistorico/sgi/20/index.html\n",
      "per_honorarios 2018\n",
      "per_honorarios 2017\n",
      "per_honorarios 2016\n",
      "could not get breadcrumbs from http://www.gobiernotransparentechile.cl/directorio/entidad/2/6/per_honorarios/2016/Agosto\n",
      "per_honorarios 2015\n",
      "per_honorarios 2014\n",
      "per_honorarios 2013\n",
      "per_honorarios 2012\n",
      "per_honorarios 2011\n",
      "per_honorarios 2010\n",
      "per_honorarios 2009\n",
      "\n",
      "Servicio Nacional para la Prevención y Rehabilitación del Consumo de Drogas y Alcohol\n"
     ]
    },
    {
     "data": {
      "application/vnd.jupyter.widget-view+json": {
       "model_id": "9a3c6394bf7c4aa5b7e06a28c10b6594",
       "version_major": 2,
       "version_minor": 0
      },
      "text/plain": [
       "A Jupyter Widget"
      ]
     },
     "metadata": {},
     "output_type": "display_data"
    },
    {
     "name": "stdout",
     "output_type": "stream",
     "text": [
      "per_honorarios 2011\n",
      "could not get breadcrumbs from http://www.senda.gob.cl/transparencia/dotacionhonorarios_2011_10.html\n",
      "per_honorarios 2018\n",
      "could not get breadcrumbs from http://www.senda.gob.cl/transparencia/dotacionhonorarios_2018_1.html\n",
      "per_honorarios 2017\n",
      "could not get breadcrumbs from http://www.senda.gob.cl/transparencia/dotacionhonorarios_2017_1.html\n",
      "per_honorarios 2016\n",
      "could not get breadcrumbs from http://www.senda.gob.cl/transparencia/dotacionhonorarios_2016_1.html\n",
      "per_honorarios 2015\n",
      "could not get breadcrumbs from http://www.senda.gob.cl/transparencia/dotacionhonorarios_2015_01-1.html\n",
      "per_honorarios 2014\n",
      "could not get breadcrumbs from http://www.senda.gob.cl/transparencia/dotacionhonorarios_2014_01-1.html\n",
      "per_honorarios 2013\n",
      "could not get breadcrumbs from http://www.senda.gob.cl/transparencia/dotacionhonorarios_2013_01-1.html\n",
      "per_honorarios 2012\n",
      "could not get breadcrumbs from http://www.senda.gob.cl/transparencia/dotacionhonorarios_2012_01-1.html\n",
      "\n",
      "Carabineros de Chile\n",
      "No contract data per_honorarios in http://www.gobiernotransparentechile.cl/directorio/entidad/2/103\n"
     ]
    },
    {
     "name": "stderr",
     "output_type": "stream",
     "text": [
      "Traceback (most recent call last):\n",
      "  File \"./lib/functions.py\", line 109, in getDepartmentData\n",
      "    div_years = browser.find_element_by_class_name(\"linksIntermedios\")\n",
      "  File \"/Users/jaime/anaconda3/lib/python3.6/site-packages/selenium/webdriver/remote/webdriver.py\", line 555, in find_element_by_class_name\n",
      "    return self.find_element(by=By.CLASS_NAME, value=name)\n",
      "  File \"/Users/jaime/anaconda3/lib/python3.6/site-packages/selenium/webdriver/remote/webdriver.py\", line 955, in find_element\n",
      "    'value': value})['value']\n",
      "  File \"/Users/jaime/anaconda3/lib/python3.6/site-packages/selenium/webdriver/remote/webdriver.py\", line 312, in execute\n",
      "    self.error_handler.check_response(response)\n",
      "  File \"/Users/jaime/anaconda3/lib/python3.6/site-packages/selenium/webdriver/remote/errorhandler.py\", line 237, in check_response\n",
      "    raise exception_class(message, screen, stacktrace)\n",
      "selenium.common.exceptions.NoSuchElementException: Message: no such element: Unable to locate element: {\"method\":\"class name\",\"selector\":\"linksIntermedios\"}\n",
      "  (Session info: chrome=65.0.3325.181)\n",
      "  (Driver info: chromedriver=2.35.528157 (4429ca2590d6988c0745c24c8858745aaaec01ef),platform=Mac OS X 10.13.3 x86_64)\n",
      "\n"
     ]
    },
    {
     "data": {
      "application/vnd.jupyter.widget-view+json": {
       "model_id": "aec299aa311342d7b15ce28887a04705",
       "version_major": 2,
       "version_minor": 0
      },
      "text/plain": [
       "A Jupyter Widget"
      ]
     },
     "metadata": {},
     "output_type": "display_data"
    },
    {
     "name": "stdout",
     "output_type": "stream",
     "text": [
      "\n",
      "Policía de Investigaciones\n"
     ]
    },
    {
     "data": {
      "application/vnd.jupyter.widget-view+json": {
       "model_id": "411fd219c7744a4a98fe8c13cfa0c7c4",
       "version_major": 2,
       "version_minor": 0
      },
      "text/plain": [
       "A Jupyter Widget"
      ]
     },
     "metadata": {},
     "output_type": "display_data"
    },
    {
     "name": "stdout",
     "output_type": "stream",
     "text": [
      "per_honorarios Año 2018\n",
      "per_honorarios Año 2017\n",
      "per_honorarios Año 2016\n",
      "per_honorarios Año 2015\n",
      "per_honorarios Año 2014\n",
      "per_honorarios Año 2013\n",
      "per_honorarios Año 2012\n",
      "per_honorarios Año 2011\n",
      "per_honorarios Año 2010\n",
      "per_honorarios Año 2009\n",
      "per_honorarios Año 2008\n",
      "per_honorarios Año 2007\n",
      "per_honorarios Año 2006\n",
      "\n",
      "Dirección de Previsión de Carabineros de Chile (DIPRECA)\n",
      "No contract data per_honorarios in http://www.gobiernotransparentechile.cl/directorio/entidad/2/110\n"
     ]
    },
    {
     "name": "stderr",
     "output_type": "stream",
     "text": [
      "Traceback (most recent call last):\n",
      "  File \"./lib/functions.py\", line 109, in getDepartmentData\n",
      "    div_years = browser.find_element_by_class_name(\"linksIntermedios\")\n",
      "  File \"/Users/jaime/anaconda3/lib/python3.6/site-packages/selenium/webdriver/remote/webdriver.py\", line 555, in find_element_by_class_name\n",
      "    return self.find_element(by=By.CLASS_NAME, value=name)\n",
      "  File \"/Users/jaime/anaconda3/lib/python3.6/site-packages/selenium/webdriver/remote/webdriver.py\", line 955, in find_element\n",
      "    'value': value})['value']\n",
      "  File \"/Users/jaime/anaconda3/lib/python3.6/site-packages/selenium/webdriver/remote/webdriver.py\", line 312, in execute\n",
      "    self.error_handler.check_response(response)\n",
      "  File \"/Users/jaime/anaconda3/lib/python3.6/site-packages/selenium/webdriver/remote/errorhandler.py\", line 237, in check_response\n",
      "    raise exception_class(message, screen, stacktrace)\n",
      "selenium.common.exceptions.NoSuchElementException: Message: no such element: Unable to locate element: {\"method\":\"class name\",\"selector\":\"linksIntermedios\"}\n",
      "  (Session info: chrome=65.0.3325.181)\n",
      "  (Driver info: chromedriver=2.35.528157 (4429ca2590d6988c0745c24c8858745aaaec01ef),platform=Mac OS X 10.13.3 x86_64)\n",
      "\n"
     ]
    },
    {
     "data": {
      "application/vnd.jupyter.widget-view+json": {
       "model_id": "d84f076fb072421197ef67033214fdb0",
       "version_major": 2,
       "version_minor": 0
      },
      "text/plain": [
       "A Jupyter Widget"
      ]
     },
     "metadata": {},
     "output_type": "display_data"
    },
    {
     "name": "stdout",
     "output_type": "stream",
     "text": [
      "\n",
      "Intendencia Arica y Parinacota\n"
     ]
    },
    {
     "data": {
      "application/vnd.jupyter.widget-view+json": {
       "model_id": "8128a07541ff4c4c8bb1f9cea309976c",
       "version_major": 2,
       "version_minor": 0
      },
      "text/plain": [
       "A Jupyter Widget"
      ]
     },
     "metadata": {},
     "output_type": "display_data"
    },
    {
     "name": "stdout",
     "output_type": "stream",
     "text": [
      "per_honorarios Ver Histórico antes de la Ley N° 20.285\n",
      "could not get breadcrumbs from http://www.interior.gov.cl/transparenciahistorico/sgi/123/index.html\n",
      "per_honorarios 2018\n",
      "per_honorarios 2017\n",
      "per_honorarios 2016\n",
      "per_honorarios 2015\n",
      "per_honorarios 2014\n",
      "per_honorarios 2013\n",
      "per_honorarios 2012\n",
      "per_honorarios 2011\n",
      "per_honorarios 2010\n",
      "per_honorarios 2009\n",
      "\n",
      "Intendencia de Antofagasta\n"
     ]
    },
    {
     "data": {
      "application/vnd.jupyter.widget-view+json": {
       "model_id": "81818fcbcb56494eb943f4850914c47b",
       "version_major": 2,
       "version_minor": 0
      },
      "text/plain": [
       "A Jupyter Widget"
      ]
     },
     "metadata": {},
     "output_type": "display_data"
    },
    {
     "name": "stdout",
     "output_type": "stream",
     "text": [
      "per_honorarios Ver Histórico antes de la Ley N° 20.285\n",
      "could not get breadcrumbs from http://www.interior.gov.cl/transparenciahistorico/sgi/26/index.html\n",
      "per_honorarios 2018\n",
      "per_honorarios 2017\n",
      "per_honorarios 2016\n",
      "per_honorarios 2015\n",
      "per_honorarios 2014\n",
      "per_honorarios 2013\n",
      "per_honorarios 2012\n",
      "per_honorarios 2011\n",
      "per_honorarios 2010\n",
      "per_honorarios 2009\n",
      "\n",
      "Intendencia de Atacama\n"
     ]
    },
    {
     "data": {
      "application/vnd.jupyter.widget-view+json": {
       "model_id": "2ecff32c8a3d489789525979f49a78d7",
       "version_major": 2,
       "version_minor": 0
      },
      "text/plain": [
       "A Jupyter Widget"
      ]
     },
     "metadata": {},
     "output_type": "display_data"
    },
    {
     "name": "stdout",
     "output_type": "stream",
     "text": [
      "per_honorarios Ver Histórico antes de la Ley N° 20.285\n",
      "could not get breadcrumbs from http://www.interior.gov.cl/transparenciahistorico/sgi/27/index.html\n",
      "per_honorarios 2018\n",
      "per_honorarios 2017\n",
      "per_honorarios 2016\n",
      "per_honorarios 2015\n",
      "per_honorarios 2014\n",
      "per_honorarios 2013\n",
      "per_honorarios 2012\n",
      "per_honorarios 2011\n",
      "per_honorarios 2010\n",
      "per_honorarios 2009\n",
      "\n",
      "Intendencia de Aysén\n"
     ]
    },
    {
     "data": {
      "application/vnd.jupyter.widget-view+json": {
       "model_id": "7590275c34b04f76ae1bb24feaa69dfd",
       "version_major": 2,
       "version_minor": 0
      },
      "text/plain": [
       "A Jupyter Widget"
      ]
     },
     "metadata": {},
     "output_type": "display_data"
    },
    {
     "name": "stdout",
     "output_type": "stream",
     "text": [
      "per_honorarios Ver Histórico antes de la Ley N° 20.285\n",
      "could not get breadcrumbs from http://www.interior.gov.cl/transparenciahistorico/sgi/35/index.html\n",
      "per_honorarios 2018\n",
      "per_honorarios 2017\n",
      "per_honorarios 2016\n",
      "per_honorarios 2015\n",
      "per_honorarios 2014\n",
      "per_honorarios 2013\n",
      "per_honorarios 2012\n",
      "per_honorarios 2011\n",
      "per_honorarios 2010\n",
      "per_honorarios 2009\n",
      "\n",
      "Intendencia de Coquimbo\n"
     ]
    },
    {
     "data": {
      "application/vnd.jupyter.widget-view+json": {
       "model_id": "185d14617440479a8944ff69879e2033",
       "version_major": 2,
       "version_minor": 0
      },
      "text/plain": [
       "A Jupyter Widget"
      ]
     },
     "metadata": {},
     "output_type": "display_data"
    },
    {
     "name": "stdout",
     "output_type": "stream",
     "text": [
      "per_honorarios Ver Histórico antes de la Ley N° 20.285\n",
      "could not get breadcrumbs from http://www.interior.gov.cl/transparenciahistorico/sgi/28/index.html\n",
      "per_honorarios 2018\n",
      "per_honorarios 2017\n",
      "per_honorarios 2016\n",
      "per_honorarios 2015\n",
      "per_honorarios 2014\n",
      "per_honorarios 2013\n",
      "per_honorarios 2012\n",
      "per_honorarios 2011\n",
      "per_honorarios 2010\n",
      "per_honorarios 2009\n",
      "\n",
      "Intendencia de La Araucanía\n"
     ]
    },
    {
     "data": {
      "application/vnd.jupyter.widget-view+json": {
       "model_id": "c4db34c14cac4a04b46b1caabf15fa0c",
       "version_major": 2,
       "version_minor": 0
      },
      "text/plain": [
       "A Jupyter Widget"
      ]
     },
     "metadata": {},
     "output_type": "display_data"
    },
    {
     "name": "stdout",
     "output_type": "stream",
     "text": [
      "per_honorarios Ver Histórico antes de la Ley N° 20.285\n",
      "could not get breadcrumbs from http://www.interior.gov.cl/transparenciahistorico/sgi/33/index.html\n",
      "per_honorarios 2018\n",
      "per_honorarios 2017\n",
      "per_honorarios 2016\n",
      "per_honorarios 2015\n",
      "per_honorarios 2014\n",
      "per_honorarios 2013\n",
      "per_honorarios 2012\n",
      "per_honorarios 2011\n",
      "per_honorarios 2010\n",
      "per_honorarios 2009\n",
      "\n",
      "Intendencia de Los Lagos\n"
     ]
    },
    {
     "data": {
      "application/vnd.jupyter.widget-view+json": {
       "model_id": "cb3594c6cafd49f2864c95c5f22af5cb",
       "version_major": 2,
       "version_minor": 0
      },
      "text/plain": [
       "A Jupyter Widget"
      ]
     },
     "metadata": {},
     "output_type": "display_data"
    },
    {
     "name": "stdout",
     "output_type": "stream",
     "text": [
      "per_honorarios Ver Histórico antes de la Ley N° 20.285\n",
      "could not get breadcrumbs from http://www.interior.gov.cl/transparenciahistorico/sgi/34/index.html\n",
      "per_honorarios 2018\n",
      "per_honorarios 2017\n",
      "per_honorarios 2016\n",
      "per_honorarios 2015\n",
      "per_honorarios 2014\n",
      "per_honorarios 2013\n",
      "per_honorarios 2012\n",
      "per_honorarios 2011\n",
      "per_honorarios 2010\n",
      "per_honorarios 2009\n",
      "\n",
      "Intendencia de Los Ríos\n"
     ]
    },
    {
     "data": {
      "application/vnd.jupyter.widget-view+json": {
       "model_id": "9446b42401c74ee884bf915e848b64de",
       "version_major": 2,
       "version_minor": 0
      },
      "text/plain": [
       "A Jupyter Widget"
      ]
     },
     "metadata": {},
     "output_type": "display_data"
    },
    {
     "name": "stdout",
     "output_type": "stream",
     "text": [
      "per_honorarios Ver Histórico antes de la Ley N° 20.285\n",
      "could not get breadcrumbs from http://www.interior.gov.cl/transparenciahistorico/sgi/122/index.html\n",
      "per_honorarios 2018\n",
      "per_honorarios 2017\n",
      "per_honorarios 2016\n",
      "per_honorarios 2015\n",
      "per_honorarios 2014\n",
      "per_honorarios 2013\n",
      "per_honorarios 2012\n",
      "per_honorarios 2011\n",
      "per_honorarios 2010\n",
      "per_honorarios 2009\n",
      "\n",
      "Intendencia de Magallanes\n"
     ]
    },
    {
     "data": {
      "application/vnd.jupyter.widget-view+json": {
       "model_id": "160a3bfdf88e406c9661b91a8b6947e3",
       "version_major": 2,
       "version_minor": 0
      },
      "text/plain": [
       "A Jupyter Widget"
      ]
     },
     "metadata": {},
     "output_type": "display_data"
    },
    {
     "name": "stdout",
     "output_type": "stream",
     "text": [
      "per_honorarios Ver Histórico antes de la Ley N° 20.285\n",
      "could not get breadcrumbs from http://www.interior.gov.cl/transparenciahistorico/sgi/36/index.html\n",
      "per_honorarios 2018\n",
      "per_honorarios 2017\n",
      "per_honorarios 2016\n",
      "per_honorarios 2015\n",
      "per_honorarios 2014\n",
      "per_honorarios 2013\n",
      "per_honorarios 2012\n",
      "per_honorarios 2011\n",
      "per_honorarios 2010\n",
      "per_honorarios 2009\n",
      "\n",
      "Intendencia de O'Higgins\n"
     ]
    },
    {
     "data": {
      "application/vnd.jupyter.widget-view+json": {
       "model_id": "fa38940ba79a496f87307185a036620e",
       "version_major": 2,
       "version_minor": 0
      },
      "text/plain": [
       "A Jupyter Widget"
      ]
     },
     "metadata": {},
     "output_type": "display_data"
    },
    {
     "name": "stdout",
     "output_type": "stream",
     "text": [
      "per_honorarios Ver Histórico antes de la Ley N° 20.285\n",
      "could not get breadcrumbs from http://www.interior.gov.cl/transparenciahistorico/sgi/30/index.html\n",
      "per_honorarios 2018\n",
      "per_honorarios 2017\n",
      "per_honorarios 2016\n",
      "per_honorarios 2015\n",
      "per_honorarios 2014\n",
      "per_honorarios 2013\n",
      "per_honorarios 2012\n",
      "per_honorarios 2011\n",
      "per_honorarios 2010\n",
      "per_honorarios 2009\n",
      "\n",
      "Intendencia de Tarapacá\n"
     ]
    },
    {
     "data": {
      "application/vnd.jupyter.widget-view+json": {
       "model_id": "e7e0eec1ca104abea50bf7133fc8cacd",
       "version_major": 2,
       "version_minor": 0
      },
      "text/plain": [
       "A Jupyter Widget"
      ]
     },
     "metadata": {},
     "output_type": "display_data"
    },
    {
     "name": "stdout",
     "output_type": "stream",
     "text": [
      "per_honorarios Ver Histórico antes de la Ley N° 20.285\n",
      "could not get breadcrumbs from http://www.interior.gov.cl/transparenciahistorico/sgi/25/index.html\n",
      "per_honorarios 2018\n",
      "per_honorarios 2017\n",
      "per_honorarios 2016\n",
      "per_honorarios 2015\n",
      "per_honorarios 2014\n",
      "per_honorarios 2013\n",
      "per_honorarios 2012\n",
      "per_honorarios 2011\n",
      "per_honorarios 2010\n",
      "per_honorarios 2009\n",
      "\n",
      "Intendencia de Valparaíso\n"
     ]
    },
    {
     "data": {
      "application/vnd.jupyter.widget-view+json": {
       "model_id": "e93cd6a5130149b695ece6ee09cceddd",
       "version_major": 2,
       "version_minor": 0
      },
      "text/plain": [
       "A Jupyter Widget"
      ]
     },
     "metadata": {},
     "output_type": "display_data"
    },
    {
     "name": "stdout",
     "output_type": "stream",
     "text": [
      "per_honorarios Ver Histórico antes de la Ley N° 20.285\n",
      "could not get breadcrumbs from http://www.interior.gov.cl/transparenciahistorico/sgi/23/index.html\n",
      "per_honorarios 2018\n",
      "per_honorarios 2017\n",
      "per_honorarios 2016\n",
      "per_honorarios 2015\n",
      "per_honorarios 2014\n",
      "per_honorarios 2013\n",
      "per_honorarios 2012\n",
      "per_honorarios 2011\n",
      "per_honorarios 2010\n",
      "per_honorarios 2009\n",
      "\n",
      "Intendencia del Bío Bío\n"
     ]
    },
    {
     "data": {
      "application/vnd.jupyter.widget-view+json": {
       "model_id": "e89445db55f9492e946add79c09eeef7",
       "version_major": 2,
       "version_minor": 0
      },
      "text/plain": [
       "A Jupyter Widget"
      ]
     },
     "metadata": {},
     "output_type": "display_data"
    },
    {
     "name": "stdout",
     "output_type": "stream",
     "text": [
      "per_honorarios Ver Histórico antes de la Ley N° 20.285\n",
      "could not get breadcrumbs from http://www.interior.gov.cl/transparenciahistorico/sgi/32/index.html\n",
      "per_honorarios 2018\n",
      "per_honorarios 2017\n",
      "per_honorarios 2016\n",
      "per_honorarios 2015\n",
      "per_honorarios 2014\n",
      "per_honorarios 2013\n",
      "per_honorarios 2012\n",
      "per_honorarios 2011\n",
      "per_honorarios 2010\n",
      "per_honorarios 2009\n",
      "\n",
      "Intendencia del Maule\n"
     ]
    },
    {
     "data": {
      "application/vnd.jupyter.widget-view+json": {
       "model_id": "36b2c642c52f4c13b2baf021c209f577",
       "version_major": 2,
       "version_minor": 0
      },
      "text/plain": [
       "A Jupyter Widget"
      ]
     },
     "metadata": {},
     "output_type": "display_data"
    },
    {
     "name": "stdout",
     "output_type": "stream",
     "text": [
      "per_honorarios Ver Histórico antes de la Ley N° 20.285\n",
      "could not get breadcrumbs from http://www.interior.gov.cl/transparenciahistorico/sgi/31/index.html\n",
      "per_honorarios 2018\n",
      "per_honorarios 2017\n",
      "per_honorarios 2016\n",
      "per_honorarios 2015\n",
      "per_honorarios 2014\n",
      "per_honorarios 2013\n",
      "per_honorarios 2012\n",
      "per_honorarios 2011\n",
      "per_honorarios 2010\n",
      "per_honorarios 2009\n",
      "\n",
      "Intendencia Metropolitana\n"
     ]
    },
    {
     "data": {
      "application/vnd.jupyter.widget-view+json": {
       "model_id": "329d48b82665414f8a3df41724f963c1",
       "version_major": 2,
       "version_minor": 0
      },
      "text/plain": [
       "A Jupyter Widget"
      ]
     },
     "metadata": {},
     "output_type": "display_data"
    },
    {
     "name": "stdout",
     "output_type": "stream",
     "text": [
      "per_honorarios Ver Histórico antes de la Ley N° 20.285\n",
      "could not get breadcrumbs from http://www.interior.gov.cl/transparenciahistorico/sgi/29/index.html\n",
      "per_honorarios 2018\n",
      "per_honorarios 2017\n",
      "per_honorarios 2016\n",
      "per_honorarios 2015\n",
      "per_honorarios 2014\n",
      "per_honorarios 2013\n",
      "per_honorarios 2012\n",
      "per_honorarios 2011\n",
      "per_honorarios 2010\n",
      "per_honorarios 2009\n",
      "\n",
      "Gobernación de Arica\n"
     ]
    },
    {
     "data": {
      "application/vnd.jupyter.widget-view+json": {
       "model_id": "e0b0c2d1f22e4ba8ba96476a4b6dfc24",
       "version_major": 2,
       "version_minor": 0
      },
      "text/plain": [
       "A Jupyter Widget"
      ]
     },
     "metadata": {},
     "output_type": "display_data"
    },
    {
     "name": "stdout",
     "output_type": "stream",
     "text": [
      "per_honorarios Ver Histórico antes de la Ley N° 20.285\n",
      "could not get breadcrumbs from http://www.interior.gov.cl/transparenciahistorico/sgi/37/index.html\n",
      "per_honorarios 2018\n",
      "per_honorarios 2017\n",
      "per_honorarios 2016\n",
      "per_honorarios 2015\n",
      "per_honorarios 2014\n",
      "per_honorarios 2013\n",
      "per_honorarios 2012\n",
      "per_honorarios 2011\n",
      "per_honorarios 2010\n",
      "per_honorarios 2009\n",
      "\n",
      "Gobernación de Parinacota\n"
     ]
    },
    {
     "data": {
      "application/vnd.jupyter.widget-view+json": {
       "model_id": "9e3a9aa3f2324fafad1a5bcc2cf967d7",
       "version_major": 2,
       "version_minor": 0
      },
      "text/plain": [
       "A Jupyter Widget"
      ]
     },
     "metadata": {},
     "output_type": "display_data"
    },
    {
     "name": "stdout",
     "output_type": "stream",
     "text": [
      "per_honorarios Ver Histórico antes de la Ley N° 20.285\n",
      "could not get breadcrumbs from http://www.interior.gov.cl/transparenciahistorico/sgi/39/index.html\n",
      "per_honorarios 2018\n",
      "per_honorarios 2017\n",
      "per_honorarios 2016\n",
      "per_honorarios 2015\n",
      "per_honorarios 2014\n",
      "per_honorarios 2013\n",
      "per_honorarios 2012\n",
      "per_honorarios 2011\n",
      "per_honorarios 2010\n",
      "per_honorarios 2009\n",
      "\n",
      "Gobernación de Iquique\n"
     ]
    },
    {
     "data": {
      "application/vnd.jupyter.widget-view+json": {
       "model_id": "c988065a30704cb08bfab71f03c303b9",
       "version_major": 2,
       "version_minor": 0
      },
      "text/plain": [
       "A Jupyter Widget"
      ]
     },
     "metadata": {},
     "output_type": "display_data"
    },
    {
     "name": "stdout",
     "output_type": "stream",
     "text": [
      "per_honorarios Ver Histórico antes de la Ley N° 20.285\n",
      "could not get breadcrumbs from http://www.interior.gov.cl/transparenciahistorico/sgi/38/index.html\n",
      "per_honorarios 2018\n",
      "per_honorarios 2017\n",
      "per_honorarios 2016\n",
      "per_honorarios 2015\n",
      "per_honorarios 2014\n",
      "per_honorarios 2013\n",
      "per_honorarios 2012\n",
      "per_honorarios 2011\n",
      "per_honorarios 2010\n",
      "per_honorarios 2009\n",
      "\n",
      "Gobernación de Tamarugal\n"
     ]
    },
    {
     "data": {
      "application/vnd.jupyter.widget-view+json": {
       "model_id": "976677a80a314524acb6fdd95f51b227",
       "version_major": 2,
       "version_minor": 0
      },
      "text/plain": [
       "A Jupyter Widget"
      ]
     },
     "metadata": {},
     "output_type": "display_data"
    },
    {
     "name": "stdout",
     "output_type": "stream",
     "text": [
      "per_honorarios Ver Histórico antes de la Ley N° 20.285\n",
      "could not get breadcrumbs from http://www.interior.gov.cl/transparenciahistorico/sgi/125/index.html\n",
      "per_honorarios 2018\n",
      "per_honorarios 2017\n",
      "per_honorarios 2016\n",
      "per_honorarios 2015\n",
      "per_honorarios 2014\n",
      "per_honorarios 2013\n",
      "per_honorarios 2012\n",
      "per_honorarios 2011\n",
      "per_honorarios 2010\n",
      "per_honorarios 2009\n",
      "\n",
      "Gobernación de Antofagasta\n"
     ]
    },
    {
     "data": {
      "application/vnd.jupyter.widget-view+json": {
       "model_id": "3174984810cb40b99840ab77bac84564",
       "version_major": 2,
       "version_minor": 0
      },
      "text/plain": [
       "A Jupyter Widget"
      ]
     },
     "metadata": {},
     "output_type": "display_data"
    },
    {
     "name": "stdout",
     "output_type": "stream",
     "text": [
      "per_honorarios Ver Histórico antes de la Ley N° 20.285\n",
      "could not get breadcrumbs from http://www.interior.gov.cl/transparenciahistorico/sgi/40/index.html\n",
      "per_honorarios 2018\n",
      "per_honorarios 2017\n",
      "per_honorarios 2016\n",
      "per_honorarios 2015\n",
      "per_honorarios 2014\n",
      "per_honorarios 2013\n",
      "per_honorarios 2012\n",
      "per_honorarios 2011\n",
      "per_honorarios 2010\n",
      "per_honorarios 2009\n",
      "\n",
      "Gobernación de El Loa\n"
     ]
    },
    {
     "data": {
      "application/vnd.jupyter.widget-view+json": {
       "model_id": "43077606f59641dfbebb30fab4963aa1",
       "version_major": 2,
       "version_minor": 0
      },
      "text/plain": [
       "A Jupyter Widget"
      ]
     },
     "metadata": {},
     "output_type": "display_data"
    },
    {
     "name": "stdout",
     "output_type": "stream",
     "text": [
      "per_honorarios Ver Histórico antes de la Ley N° 20.285\n",
      "could not get breadcrumbs from http://www.interior.gov.cl/transparenciahistorico/sgi/41/index.html\n",
      "per_honorarios 2018\n",
      "per_honorarios 2017\n",
      "per_honorarios 2016\n",
      "per_honorarios 2015\n",
      "per_honorarios 2014\n",
      "per_honorarios 2013\n",
      "per_honorarios 2012\n",
      "per_honorarios 2011\n",
      "per_honorarios 2010\n",
      "per_honorarios 2009\n",
      "\n",
      "Gobernación de Tocopilla\n"
     ]
    },
    {
     "data": {
      "application/vnd.jupyter.widget-view+json": {
       "model_id": "69133e5890ee41188dc6a4824b81be5b",
       "version_major": 2,
       "version_minor": 0
      },
      "text/plain": [
       "A Jupyter Widget"
      ]
     },
     "metadata": {},
     "output_type": "display_data"
    },
    {
     "name": "stdout",
     "output_type": "stream",
     "text": [
      "per_honorarios Ver Histórico antes de la Ley N° 20.285\n",
      "could not get breadcrumbs from http://www.interior.gov.cl/transparenciahistorico/sgi/42/index.html\n",
      "per_honorarios 2018\n",
      "per_honorarios 2017\n",
      "per_honorarios 2016\n",
      "per_honorarios 2015\n",
      "per_honorarios 2014\n",
      "per_honorarios 2013\n",
      "per_honorarios 2012\n",
      "per_honorarios 2011\n",
      "per_honorarios 2010\n",
      "per_honorarios 2009\n",
      "\n",
      "Gobernación de Chañaral\n"
     ]
    },
    {
     "data": {
      "application/vnd.jupyter.widget-view+json": {
       "model_id": "a2610caeb89d4cfaa46723831a40ff60",
       "version_major": 2,
       "version_minor": 0
      },
      "text/plain": [
       "A Jupyter Widget"
      ]
     },
     "metadata": {},
     "output_type": "display_data"
    },
    {
     "name": "stdout",
     "output_type": "stream",
     "text": [
      "per_honorarios Ver Histórico antes de la Ley N° 20.285\n",
      "could not get breadcrumbs from http://www.interior.gov.cl/transparenciahistorico/sgi/44/index.html\n",
      "per_honorarios 2018\n",
      "per_honorarios 2017\n",
      "per_honorarios 2016\n",
      "per_honorarios 2015\n",
      "per_honorarios 2014\n",
      "per_honorarios 2013\n",
      "per_honorarios 2012\n",
      "per_honorarios 2011\n",
      "per_honorarios 2010\n",
      "per_honorarios 2009\n",
      "\n",
      "Gobernación de Copiapó\n"
     ]
    },
    {
     "data": {
      "application/vnd.jupyter.widget-view+json": {
       "model_id": "e52f68da0ee64019acb8bd8a24f300e4",
       "version_major": 2,
       "version_minor": 0
      },
      "text/plain": [
       "A Jupyter Widget"
      ]
     },
     "metadata": {},
     "output_type": "display_data"
    },
    {
     "name": "stdout",
     "output_type": "stream",
     "text": [
      "per_honorarios Ver Histórico antes de la Ley N° 20.285\n",
      "could not get breadcrumbs from http://www.interior.gov.cl/transparenciahistorico/sgi/43/index.html\n",
      "per_honorarios 2018\n",
      "per_honorarios 2017\n",
      "per_honorarios 2016\n",
      "per_honorarios 2015\n",
      "per_honorarios 2014\n",
      "per_honorarios 2013\n",
      "per_honorarios 2012\n",
      "per_honorarios 2011\n",
      "per_honorarios 2010\n",
      "per_honorarios 2009\n",
      "\n",
      "Gobernación de Huasco\n"
     ]
    },
    {
     "data": {
      "application/vnd.jupyter.widget-view+json": {
       "model_id": "6990f4c60ac24408bf9c485c132720ba",
       "version_major": 2,
       "version_minor": 0
      },
      "text/plain": [
       "A Jupyter Widget"
      ]
     },
     "metadata": {},
     "output_type": "display_data"
    },
    {
     "name": "stdout",
     "output_type": "stream",
     "text": [
      "per_honorarios Ver Histórico antes de la Ley N° 20.285\n",
      "could not get breadcrumbs from http://www.interior.gov.cl/transparenciahistorico/sgi/45/index.html\n",
      "per_honorarios 2018\n",
      "per_honorarios 2017\n",
      "per_honorarios 2016\n",
      "per_honorarios 2015\n",
      "per_honorarios 2014\n",
      "per_honorarios 2013\n",
      "per_honorarios 2012\n",
      "per_honorarios 2011\n",
      "per_honorarios 2010\n",
      "per_honorarios 2009\n",
      "\n",
      "Gobernación de Elqui\n"
     ]
    },
    {
     "data": {
      "application/vnd.jupyter.widget-view+json": {
       "model_id": "95cad35e59a1435785cfe0342fd7e16e",
       "version_major": 2,
       "version_minor": 0
      },
      "text/plain": [
       "A Jupyter Widget"
      ]
     },
     "metadata": {},
     "output_type": "display_data"
    },
    {
     "name": "stdout",
     "output_type": "stream",
     "text": [
      "per_honorarios Ver Histórico antes de la Ley N° 20.285\n",
      "could not get breadcrumbs from http://www.interior.gov.cl/transparenciahistorico/sgi/47/index.html\n",
      "per_honorarios 2018\n",
      "per_honorarios 2017\n",
      "per_honorarios 2016\n",
      "per_honorarios 2015\n",
      "per_honorarios 2014\n",
      "per_honorarios 2013\n",
      "per_honorarios 2012\n",
      "per_honorarios 2011\n",
      "per_honorarios 2010\n",
      "per_honorarios 2009\n",
      "\n",
      "Gobernación de Limarí\n"
     ]
    },
    {
     "data": {
      "application/vnd.jupyter.widget-view+json": {
       "model_id": "d73a9931929e459d8f263f34ce7542d9",
       "version_major": 2,
       "version_minor": 0
      },
      "text/plain": [
       "A Jupyter Widget"
      ]
     },
     "metadata": {},
     "output_type": "display_data"
    },
    {
     "name": "stdout",
     "output_type": "stream",
     "text": [
      "per_honorarios Ver Histórico antes de la Ley N° 20.285\n",
      "could not get breadcrumbs from http://www.interior.gov.cl/transparenciahistorico/sgi/46/index.html\n",
      "per_honorarios 2018\n",
      "per_honorarios 2017\n",
      "per_honorarios 2016\n",
      "per_honorarios 2015\n",
      "per_honorarios 2014\n",
      "per_honorarios 2013\n",
      "per_honorarios 2012\n",
      "per_honorarios 2011\n",
      "per_honorarios 2010\n",
      "per_honorarios 2009\n",
      "\n",
      "Gobernación de Choapa\n"
     ]
    },
    {
     "data": {
      "application/vnd.jupyter.widget-view+json": {
       "model_id": "4a335fcbc96944c89ffa919725bc67a8",
       "version_major": 2,
       "version_minor": 0
      },
      "text/plain": [
       "A Jupyter Widget"
      ]
     },
     "metadata": {},
     "output_type": "display_data"
    },
    {
     "name": "stdout",
     "output_type": "stream",
     "text": [
      "per_honorarios Ver Histórico antes de la Ley N° 20.285\n",
      "could not get breadcrumbs from http://www.interior.gov.cl/transparenciahistorico/sgi/48/index.html\n",
      "per_honorarios 2018\n",
      "per_honorarios 2017\n",
      "per_honorarios 2016\n",
      "per_honorarios 2015\n",
      "per_honorarios 2014\n",
      "per_honorarios 2013\n",
      "per_honorarios 2012\n",
      "per_honorarios 2011\n",
      "per_honorarios 2010\n",
      "per_honorarios 2009\n",
      "\n",
      "Gobernación de Petorca\n"
     ]
    },
    {
     "data": {
      "application/vnd.jupyter.widget-view+json": {
       "model_id": "7481561528f94cbb92196322bab75b00",
       "version_major": 2,
       "version_minor": 0
      },
      "text/plain": [
       "A Jupyter Widget"
      ]
     },
     "metadata": {},
     "output_type": "display_data"
    },
    {
     "name": "stdout",
     "output_type": "stream",
     "text": [
      "per_honorarios Ver Histórico antes de la Ley N° 20.285\n",
      "could not get breadcrumbs from http://www.interior.gov.cl/transparenciahistorico/sgi/55/index.html\n",
      "per_honorarios 2018\n",
      "per_honorarios 2017\n",
      "per_honorarios 2016\n",
      "per_honorarios 2015\n",
      "per_honorarios 2014\n",
      "per_honorarios 2013\n",
      "per_honorarios 2012\n",
      "per_honorarios 2011\n",
      "per_honorarios 2010\n",
      "per_honorarios 2009\n",
      "\n",
      "Gobernación de Valparaíso\n"
     ]
    },
    {
     "data": {
      "application/vnd.jupyter.widget-view+json": {
       "model_id": "67477fbc96b444af9bea02fd20baf016",
       "version_major": 2,
       "version_minor": 0
      },
      "text/plain": [
       "A Jupyter Widget"
      ]
     },
     "metadata": {},
     "output_type": "display_data"
    },
    {
     "name": "stdout",
     "output_type": "stream",
     "text": [
      "per_honorarios Ver Histórico antes de la Ley N° 20.285\n",
      "could not get breadcrumbs from http://www.interior.gov.cl/transparenciahistorico/sgi/49/index.html\n",
      "per_honorarios 2018\n",
      "per_honorarios 2017\n",
      "per_honorarios 2016\n",
      "per_honorarios 2015\n",
      "per_honorarios 2014\n",
      "per_honorarios 2013\n",
      "per_honorarios 2012\n",
      "per_honorarios 2011\n",
      "per_honorarios 2010\n",
      "per_honorarios 2009\n",
      "\n",
      "Gobernación de San Felipe\n"
     ]
    },
    {
     "data": {
      "application/vnd.jupyter.widget-view+json": {
       "model_id": "f2fe73629d2b4f229d5a657d5af09553",
       "version_major": 2,
       "version_minor": 0
      },
      "text/plain": [
       "A Jupyter Widget"
      ]
     },
     "metadata": {},
     "output_type": "display_data"
    },
    {
     "name": "stdout",
     "output_type": "stream",
     "text": [
      "per_honorarios Ver Histórico antes de la Ley N° 20.285\n",
      "could not get breadcrumbs from http://www.interior.gov.cl/transparenciahistorico/sgi/52/index.html\n",
      "per_honorarios 2018\n",
      "per_honorarios 2017\n",
      "per_honorarios 2016\n",
      "per_honorarios 2015\n",
      "per_honorarios 2014\n",
      "per_honorarios 2013\n",
      "per_honorarios 2012\n",
      "per_honorarios 2011\n",
      "per_honorarios 2010\n",
      "per_honorarios 2009\n",
      "\n",
      "Gobernación de Los Andes\n"
     ]
    },
    {
     "data": {
      "application/vnd.jupyter.widget-view+json": {
       "model_id": "8a70a69b9f02403b831f6758e48d1809",
       "version_major": 2,
       "version_minor": 0
      },
      "text/plain": [
       "A Jupyter Widget"
      ]
     },
     "metadata": {},
     "output_type": "display_data"
    },
    {
     "name": "stdout",
     "output_type": "stream",
     "text": [
      "per_honorarios Ver Histórico antes de la Ley N° 20.285\n",
      "could not get breadcrumbs from http://www.interior.gov.cl/transparenciahistorico/sgi/54/index.html\n",
      "per_honorarios 2018\n",
      "per_honorarios 2017\n",
      "per_honorarios 2016\n",
      "per_honorarios 2015\n",
      "per_honorarios 2014\n",
      "per_honorarios 2013\n",
      "per_honorarios 2012\n",
      "per_honorarios 2011\n",
      "per_honorarios 2010\n",
      "per_honorarios 2009\n",
      "\n",
      "Gobernación de Quillota\n"
     ]
    },
    {
     "data": {
      "application/vnd.jupyter.widget-view+json": {
       "model_id": "6a24d8f218384c048502e847f589db21",
       "version_major": 2,
       "version_minor": 0
      },
      "text/plain": [
       "A Jupyter Widget"
      ]
     },
     "metadata": {},
     "output_type": "display_data"
    },
    {
     "name": "stdout",
     "output_type": "stream",
     "text": [
      "per_honorarios Ver Histórico antes de la Ley N° 20.285\n",
      "could not get breadcrumbs from http://www.interior.gov.cl/transparenciahistorico/sgi/53/index.html\n",
      "per_honorarios 2018\n",
      "per_honorarios 2017\n",
      "per_honorarios 2016\n",
      "per_honorarios 2015\n",
      "per_honorarios 2014\n",
      "per_honorarios 2013\n",
      "per_honorarios 2012\n",
      "per_honorarios 2011\n",
      "per_honorarios 2010\n",
      "per_honorarios 2009\n",
      "\n",
      "Gobernación de San Antonio\n"
     ]
    },
    {
     "data": {
      "application/vnd.jupyter.widget-view+json": {
       "model_id": "0a759037507f46729c60be9f0d898a17",
       "version_major": 2,
       "version_minor": 0
      },
      "text/plain": [
       "A Jupyter Widget"
      ]
     },
     "metadata": {},
     "output_type": "display_data"
    },
    {
     "name": "stdout",
     "output_type": "stream",
     "text": [
      "per_honorarios Ver Histórico antes de la Ley N° 20.285\n",
      "could not get breadcrumbs from http://www.interior.gov.cl/transparenciahistorico/sgi/24/index.html\n",
      "per_honorarios 2018\n",
      "per_honorarios 2017\n",
      "per_honorarios 2016\n",
      "per_honorarios 2015\n",
      "per_honorarios 2014\n",
      "per_honorarios 2013\n",
      "per_honorarios 2012\n",
      "per_honorarios 2011\n",
      "per_honorarios 2010\n",
      "per_honorarios 2009\n",
      "\n",
      "Gobernación de Marga Marga\n"
     ]
    },
    {
     "data": {
      "application/vnd.jupyter.widget-view+json": {
       "model_id": "67ce344ce4a141af9c58f771a4a3f78e",
       "version_major": 2,
       "version_minor": 0
      },
      "text/plain": [
       "A Jupyter Widget"
      ]
     },
     "metadata": {},
     "output_type": "display_data"
    },
    {
     "name": "stdout",
     "output_type": "stream",
     "text": [
      "per_honorarios Ver Histórico antes de la Ley N° 20.285\n",
      "could not get breadcrumbs from http://www.interior.gov.cl/transparenciahistorico/sgi/132/index.html\n",
      "per_honorarios 2018\n",
      "per_honorarios 2017\n",
      "per_honorarios 2016\n",
      "per_honorarios 2015\n",
      "per_honorarios 2014\n",
      "per_honorarios 2013\n",
      "per_honorarios 2012\n",
      "per_honorarios 2011\n",
      "per_honorarios 2010\n",
      "per_honorarios 2009\n",
      "\n",
      "Gobernación de Isla de Pascua\n"
     ]
    },
    {
     "data": {
      "application/vnd.jupyter.widget-view+json": {
       "model_id": "d272296c6caa449bb90d0103b9963d6b",
       "version_major": 2,
       "version_minor": 0
      },
      "text/plain": [
       "A Jupyter Widget"
      ]
     },
     "metadata": {},
     "output_type": "display_data"
    },
    {
     "name": "stdout",
     "output_type": "stream",
     "text": [
      "per_honorarios Ver Histórico antes de la Ley N° 20.285\n",
      "could not get breadcrumbs from http://www.interior.gov.cl/transparenciahistorico/sgi/51/index.html\n",
      "per_honorarios 2018\n",
      "per_honorarios 2017\n",
      "per_honorarios 2016\n",
      "per_honorarios 2015\n",
      "per_honorarios 2014\n",
      "per_honorarios 2013\n",
      "per_honorarios 2012\n",
      "per_honorarios 2011\n",
      "per_honorarios 2010\n",
      "per_honorarios 2009\n",
      "\n",
      "Gobernación de Cachapoal\n"
     ]
    },
    {
     "data": {
      "application/vnd.jupyter.widget-view+json": {
       "model_id": "96dad279b5af4bb98069e6cfdd15e999",
       "version_major": 2,
       "version_minor": 0
      },
      "text/plain": [
       "A Jupyter Widget"
      ]
     },
     "metadata": {},
     "output_type": "display_data"
    },
    {
     "name": "stdout",
     "output_type": "stream",
     "text": [
      "per_honorarios Ver Histórico antes de la Ley N° 20.285\n",
      "could not get breadcrumbs from http://www.interior.gov.cl/transparenciahistorico/sgi/56/index.html\n",
      "per_honorarios 2018\n",
      "per_honorarios 2017\n",
      "per_honorarios 2016\n",
      "per_honorarios 2015\n",
      "per_honorarios 2014\n",
      "per_honorarios 2013\n",
      "per_honorarios 2012\n",
      "per_honorarios 2011\n",
      "per_honorarios 2010\n",
      "per_honorarios 2009\n",
      "\n",
      "Gobernación de Colchagua\n"
     ]
    },
    {
     "data": {
      "application/vnd.jupyter.widget-view+json": {
       "model_id": "f3db77263eec41cd86f3cc042a064236",
       "version_major": 2,
       "version_minor": 0
      },
      "text/plain": [
       "A Jupyter Widget"
      ]
     },
     "metadata": {},
     "output_type": "display_data"
    },
    {
     "name": "stdout",
     "output_type": "stream",
     "text": [
      "per_honorarios Ver Histórico antes de la Ley N° 20.285\n",
      "could not get breadcrumbs from http://www.interior.gov.cl/transparenciahistorico/sgi/57/index.html\n",
      "per_honorarios 2018\n",
      "per_honorarios 2017\n",
      "per_honorarios 2016\n",
      "per_honorarios 2015\n",
      "per_honorarios 2014\n",
      "per_honorarios 2013\n",
      "per_honorarios 2012\n",
      "per_honorarios 2011\n",
      "per_honorarios 2010\n",
      "per_honorarios 2009\n",
      "\n",
      "Gobernación de Cardenal Caro\n"
     ]
    },
    {
     "data": {
      "application/vnd.jupyter.widget-view+json": {
       "model_id": "20fb4420686849259415a3c83d5865ee",
       "version_major": 2,
       "version_minor": 0
      },
      "text/plain": [
       "A Jupyter Widget"
      ]
     },
     "metadata": {},
     "output_type": "display_data"
    },
    {
     "name": "stdout",
     "output_type": "stream",
     "text": [
      "per_honorarios Ver Histórico antes de la Ley N° 20.285\n",
      "could not get breadcrumbs from http://www.interior.gov.cl/transparenciahistorico/sgi/58/index.html\n",
      "per_honorarios 2018\n",
      "per_honorarios 2017\n",
      "per_honorarios 2016\n",
      "per_honorarios 2015\n",
      "per_honorarios 2014\n",
      "per_honorarios 2013\n",
      "per_honorarios 2012\n",
      "per_honorarios 2011\n",
      "per_honorarios 2010\n",
      "per_honorarios 2009\n",
      "\n",
      "Gobernación de Curicó\n"
     ]
    },
    {
     "data": {
      "application/vnd.jupyter.widget-view+json": {
       "model_id": "e14c72483fad4cfa9e3bf847f8290bb6",
       "version_major": 2,
       "version_minor": 0
      },
      "text/plain": [
       "A Jupyter Widget"
      ]
     },
     "metadata": {},
     "output_type": "display_data"
    },
    {
     "name": "stdout",
     "output_type": "stream",
     "text": [
      "per_honorarios Ver Histórico antes de la Ley N° 20.285\n",
      "could not get breadcrumbs from http://www.interior.gov.cl/transparenciahistorico/sgi/60/index.html\n",
      "per_honorarios 2018\n",
      "per_honorarios 2017\n",
      "per_honorarios 2016\n",
      "per_honorarios 2015\n",
      "per_honorarios 2014\n",
      "per_honorarios 2013\n",
      "per_honorarios 2012\n",
      "per_honorarios 2011\n",
      "per_honorarios 2010\n",
      "per_honorarios 2009\n",
      "\n",
      "Gobernación de Talca\n"
     ]
    },
    {
     "data": {
      "application/vnd.jupyter.widget-view+json": {
       "model_id": "4e78724ebb964bddbbe1ddf392010ae7",
       "version_major": 2,
       "version_minor": 0
      },
      "text/plain": [
       "A Jupyter Widget"
      ]
     },
     "metadata": {},
     "output_type": "display_data"
    },
    {
     "name": "stdout",
     "output_type": "stream",
     "text": [
      "per_honorarios Ver Histórico antes de la Ley N° 20.285\n",
      "could not get breadcrumbs from http://www.interior.gov.cl/transparenciahistorico/sgi/59/index.html\n",
      "per_honorarios 2018\n",
      "per_honorarios 2017\n",
      "per_honorarios 2016\n",
      "per_honorarios 2015\n",
      "per_honorarios 2014\n",
      "per_honorarios 2013\n",
      "per_honorarios 2012\n",
      "per_honorarios 2011\n",
      "per_honorarios 2010\n",
      "per_honorarios 2009\n",
      "\n",
      "Gobernación de Linares\n"
     ]
    },
    {
     "data": {
      "application/vnd.jupyter.widget-view+json": {
       "model_id": "e0264b675fc147c397930c606490067d",
       "version_major": 2,
       "version_minor": 0
      },
      "text/plain": [
       "A Jupyter Widget"
      ]
     },
     "metadata": {},
     "output_type": "display_data"
    },
    {
     "name": "stdout",
     "output_type": "stream",
     "text": [
      "per_honorarios Ver Histórico antes de la Ley N° 20.285\n",
      "could not get breadcrumbs from http://www.interior.gov.cl/transparenciahistorico/sgi/61/index.html\n",
      "per_honorarios 2018\n",
      "per_honorarios 2017\n",
      "per_honorarios 2016\n",
      "per_honorarios 2015\n",
      "per_honorarios 2014\n",
      "per_honorarios 2013\n",
      "per_honorarios 2012\n",
      "per_honorarios 2011\n",
      "per_honorarios 2010\n",
      "per_honorarios 2009\n",
      "\n",
      "Gobernación de Cauquenes\n"
     ]
    },
    {
     "data": {
      "application/vnd.jupyter.widget-view+json": {
       "model_id": "69dda907e3364331b47e7e8e7a450e14",
       "version_major": 2,
       "version_minor": 0
      },
      "text/plain": [
       "A Jupyter Widget"
      ]
     },
     "metadata": {},
     "output_type": "display_data"
    },
    {
     "name": "stdout",
     "output_type": "stream",
     "text": [
      "per_honorarios Ver Histórico antes de la Ley N° 20.285\n",
      "could not get breadcrumbs from http://www.interior.gov.cl/transparenciahistorico/sgi/62/index.html\n",
      "per_honorarios 2018\n",
      "per_honorarios 2017\n",
      "per_honorarios 2016\n",
      "per_honorarios 2015\n",
      "per_honorarios 2014\n",
      "per_honorarios 2013\n",
      "per_honorarios 2012\n",
      "per_honorarios 2011\n",
      "per_honorarios 2010\n",
      "per_honorarios 2009\n",
      "\n",
      "Gobernación de Ñuble\n"
     ]
    },
    {
     "data": {
      "application/vnd.jupyter.widget-view+json": {
       "model_id": "454133644d15417288e068ab1ae4ec90",
       "version_major": 2,
       "version_minor": 0
      },
      "text/plain": [
       "A Jupyter Widget"
      ]
     },
     "metadata": {},
     "output_type": "display_data"
    },
    {
     "name": "stdout",
     "output_type": "stream",
     "text": [
      "per_honorarios Ver Histórico antes de la Ley N° 20.285\n",
      "could not get breadcrumbs from http://www.interior.gov.cl/transparenciahistorico/sgi/64/index.html\n",
      "per_honorarios 2018\n",
      "per_honorarios 2017\n",
      "per_honorarios 2016\n",
      "per_honorarios 2015\n",
      "per_honorarios 2014\n",
      "per_honorarios 2013\n",
      "per_honorarios 2012\n",
      "per_honorarios 2011\n",
      "per_honorarios 2010\n",
      "per_honorarios 2009\n",
      "\n",
      "Gobernación del Bío Bío\n"
     ]
    },
    {
     "data": {
      "application/vnd.jupyter.widget-view+json": {
       "model_id": "bed533ad13c2422ca923a87413e67eef",
       "version_major": 2,
       "version_minor": 0
      },
      "text/plain": [
       "A Jupyter Widget"
      ]
     },
     "metadata": {},
     "output_type": "display_data"
    },
    {
     "name": "stdout",
     "output_type": "stream",
     "text": [
      "per_honorarios Ver Histórico antes de la Ley N° 20.285\n",
      "could not get breadcrumbs from http://www.interior.gov.cl/transparenciahistorico/sgi/65/index.html\n",
      "per_honorarios 2018\n",
      "per_honorarios 2017\n",
      "per_honorarios 2016\n",
      "per_honorarios 2015\n",
      "per_honorarios 2014\n",
      "per_honorarios 2013\n",
      "per_honorarios 2012\n",
      "per_honorarios 2011\n",
      "per_honorarios 2010\n",
      "per_honorarios 2009\n",
      "\n",
      "Gobernación de Concepción\n"
     ]
    },
    {
     "data": {
      "application/vnd.jupyter.widget-view+json": {
       "model_id": "de290d094ad14ef3974c951890b9f8aa",
       "version_major": 2,
       "version_minor": 0
      },
      "text/plain": [
       "A Jupyter Widget"
      ]
     },
     "metadata": {},
     "output_type": "display_data"
    },
    {
     "name": "stdout",
     "output_type": "stream",
     "text": [
      "per_honorarios Ver Histórico antes de la Ley N° 20.285\n",
      "could not get breadcrumbs from http://www.interior.gov.cl/transparenciahistorico/sgi/63/index.html\n",
      "per_honorarios 2018\n",
      "per_honorarios 2017\n",
      "per_honorarios 2016\n",
      "per_honorarios 2015\n",
      "per_honorarios 2014\n",
      "per_honorarios 2013\n",
      "per_honorarios 2012\n",
      "per_honorarios 2011\n",
      "per_honorarios 2010\n",
      "per_honorarios 2009\n",
      "\n",
      "Gobernación de Arauco\n"
     ]
    },
    {
     "data": {
      "application/vnd.jupyter.widget-view+json": {
       "model_id": "fd94668b2ba2496f9322d3db1c84598a",
       "version_major": 2,
       "version_minor": 0
      },
      "text/plain": [
       "A Jupyter Widget"
      ]
     },
     "metadata": {},
     "output_type": "display_data"
    },
    {
     "name": "stdout",
     "output_type": "stream",
     "text": [
      "per_honorarios Ver Histórico antes de la Ley N° 20.285\n",
      "could not get breadcrumbs from http://www.interior.gov.cl/transparenciahistorico/sgi/66/index.html\n",
      "per_honorarios 2018\n",
      "per_honorarios 2017\n",
      "per_honorarios 2016\n",
      "per_honorarios 2015\n",
      "per_honorarios 2014\n",
      "per_honorarios 2013\n",
      "per_honorarios 2012\n",
      "per_honorarios 2011\n",
      "per_honorarios 2010\n",
      "per_honorarios 2009\n",
      "\n",
      "Gobernación de Malleco\n"
     ]
    },
    {
     "data": {
      "application/vnd.jupyter.widget-view+json": {
       "model_id": "0ea6ecca0e04451ab884b8f16bf02e13",
       "version_major": 2,
       "version_minor": 0
      },
      "text/plain": [
       "A Jupyter Widget"
      ]
     },
     "metadata": {},
     "output_type": "display_data"
    },
    {
     "name": "stdout",
     "output_type": "stream",
     "text": [
      "per_honorarios Ver Histórico antes de la Ley N° 20.285\n",
      "could not get breadcrumbs from http://www.interior.gov.cl/transparenciahistorico/sgi/68/index.html\n",
      "per_honorarios 2018\n",
      "per_honorarios 2017\n",
      "per_honorarios 2016\n",
      "per_honorarios 2015\n",
      "per_honorarios 2014\n",
      "per_honorarios 2013\n",
      "per_honorarios 2012\n",
      "per_honorarios 2011\n",
      "per_honorarios 2010\n",
      "per_honorarios 2009\n",
      "\n",
      "Gobernación de Cautín\n"
     ]
    },
    {
     "data": {
      "application/vnd.jupyter.widget-view+json": {
       "model_id": "37731cd3a6434c09ba8582d2c5019e04",
       "version_major": 2,
       "version_minor": 0
      },
      "text/plain": [
       "A Jupyter Widget"
      ]
     },
     "metadata": {},
     "output_type": "display_data"
    },
    {
     "name": "stdout",
     "output_type": "stream",
     "text": [
      "per_honorarios Ver Histórico antes de la Ley N° 20.285\n",
      "could not get breadcrumbs from http://www.interior.gov.cl/transparenciahistorico/sgi/67/index.html\n",
      "per_honorarios 2018\n",
      "per_honorarios 2017\n",
      "per_honorarios 2016\n",
      "per_honorarios 2015\n",
      "per_honorarios 2014\n",
      "per_honorarios 2013\n",
      "per_honorarios 2012\n",
      "per_honorarios 2011\n",
      "per_honorarios 2010\n",
      "per_honorarios 2009\n",
      "\n",
      "Gobernación de Valdivia\n"
     ]
    },
    {
     "data": {
      "application/vnd.jupyter.widget-view+json": {
       "model_id": "ee884d4dc52a4e8984d19e215c97e47e",
       "version_major": 2,
       "version_minor": 0
      },
      "text/plain": [
       "A Jupyter Widget"
      ]
     },
     "metadata": {},
     "output_type": "display_data"
    },
    {
     "name": "stdout",
     "output_type": "stream",
     "text": [
      "per_honorarios Ver Histórico antes de la Ley N° 20.285\n",
      "could not get breadcrumbs from http://www.interior.gov.cl/transparenciahistorico/sgi/70/index.html\n",
      "per_honorarios 2018\n",
      "per_honorarios 2017\n",
      "per_honorarios 2016\n",
      "per_honorarios 2015\n",
      "per_honorarios 2014\n",
      "per_honorarios 2013\n",
      "per_honorarios 2012\n",
      "per_honorarios 2011\n",
      "per_honorarios 2010\n",
      "per_honorarios 2009\n",
      "\n",
      "Gobernación de Ranco\n"
     ]
    },
    {
     "data": {
      "application/vnd.jupyter.widget-view+json": {
       "model_id": "3197cd34432b4d9185765d9b03ef1445",
       "version_major": 2,
       "version_minor": 0
      },
      "text/plain": [
       "A Jupyter Widget"
      ]
     },
     "metadata": {},
     "output_type": "display_data"
    },
    {
     "name": "stdout",
     "output_type": "stream",
     "text": [
      "per_honorarios Ver Histórico antes de la Ley N° 20.285\n",
      "could not get breadcrumbs from http://www.interior.gov.cl/transparenciahistorico/sgi/124/index.html\n",
      "per_honorarios 2018\n",
      "per_honorarios 2017\n",
      "per_honorarios 2016\n",
      "per_honorarios 2015\n",
      "per_honorarios 2014\n",
      "per_honorarios 2013\n",
      "per_honorarios 2012\n",
      "per_honorarios 2011\n",
      "per_honorarios 2010\n",
      "per_honorarios 2009\n",
      "\n",
      "Gobernación de Osorno\n"
     ]
    },
    {
     "data": {
      "application/vnd.jupyter.widget-view+json": {
       "model_id": "bf0c4b204aa84e2b99a19be0efbfa1df",
       "version_major": 2,
       "version_minor": 0
      },
      "text/plain": [
       "A Jupyter Widget"
      ]
     },
     "metadata": {},
     "output_type": "display_data"
    },
    {
     "name": "stdout",
     "output_type": "stream",
     "text": [
      "per_honorarios Ver Histórico antes de la Ley N° 20.285\n",
      "could not get breadcrumbs from http://www.interior.gov.cl/transparenciahistorico/sgi/71/index.html\n",
      "per_honorarios 2018\n",
      "per_honorarios 2017\n",
      "per_honorarios 2016\n",
      "per_honorarios 2015\n",
      "per_honorarios 2014\n",
      "per_honorarios 2013\n",
      "per_honorarios 2012\n",
      "per_honorarios 2011\n",
      "per_honorarios 2010\n",
      "per_honorarios 2009\n",
      "\n",
      "Gobernación de Llanquihue\n"
     ]
    },
    {
     "data": {
      "application/vnd.jupyter.widget-view+json": {
       "model_id": "30fcdea80fe6468b82256f550d44e8e1",
       "version_major": 2,
       "version_minor": 0
      },
      "text/plain": [
       "A Jupyter Widget"
      ]
     },
     "metadata": {},
     "output_type": "display_data"
    },
    {
     "name": "stdout",
     "output_type": "stream",
     "text": [
      "per_honorarios Ver Histórico antes de la Ley N° 20.285\n",
      "could not get breadcrumbs from http://www.interior.gov.cl/transparenciahistorico/sgi/69/index.html\n",
      "per_honorarios 2018\n",
      "per_honorarios 2017\n",
      "per_honorarios 2016\n",
      "per_honorarios 2015\n",
      "per_honorarios 2014\n",
      "per_honorarios 2013\n",
      "per_honorarios 2012\n",
      "per_honorarios 2011\n",
      "per_honorarios 2010\n",
      "per_honorarios 2009\n",
      "\n",
      "Gobernación de Chiloé\n"
     ]
    },
    {
     "data": {
      "application/vnd.jupyter.widget-view+json": {
       "model_id": "da704b129c48456aa3c894aa54169449",
       "version_major": 2,
       "version_minor": 0
      },
      "text/plain": [
       "A Jupyter Widget"
      ]
     },
     "metadata": {},
     "output_type": "display_data"
    },
    {
     "name": "stdout",
     "output_type": "stream",
     "text": [
      "per_honorarios Ver Histórico antes de la Ley N° 20.285\n",
      "could not get breadcrumbs from http://www.interior.gov.cl/transparenciahistorico/sgi/72/index.html\n",
      "per_honorarios 2018\n",
      "per_honorarios 2017\n",
      "per_honorarios 2016\n",
      "per_honorarios 2015\n",
      "per_honorarios 2014\n",
      "per_honorarios 2013\n",
      "per_honorarios 2012\n",
      "per_honorarios 2011\n",
      "per_honorarios 2010\n",
      "per_honorarios 2009\n",
      "\n",
      "Gobernación de Palena\n"
     ]
    },
    {
     "data": {
      "application/vnd.jupyter.widget-view+json": {
       "model_id": "3a59df19f49246ceaf0086e0454a1ccc",
       "version_major": 2,
       "version_minor": 0
      },
      "text/plain": [
       "A Jupyter Widget"
      ]
     },
     "metadata": {},
     "output_type": "display_data"
    },
    {
     "name": "stdout",
     "output_type": "stream",
     "text": [
      "per_honorarios Ver Histórico antes de la Ley N° 20.285\n",
      "could not get breadcrumbs from http://www.interior.gov.cl/transparenciahistorico/sgi/73/index.html\n",
      "per_honorarios 2018\n",
      "per_honorarios 2017\n",
      "per_honorarios 2016\n",
      "per_honorarios 2015\n",
      "per_honorarios 2014\n",
      "per_honorarios 2013\n",
      "per_honorarios 2012\n",
      "per_honorarios 2011\n",
      "per_honorarios 2010\n",
      "per_honorarios 2009\n",
      "\n",
      "Gobernación de Coyhaique\n"
     ]
    },
    {
     "data": {
      "application/vnd.jupyter.widget-view+json": {
       "model_id": "f1fe351cf26a4a1f9048d4b84b30a3ae",
       "version_major": 2,
       "version_minor": 0
      },
      "text/plain": [
       "A Jupyter Widget"
      ]
     },
     "metadata": {},
     "output_type": "display_data"
    },
    {
     "name": "stdout",
     "output_type": "stream",
     "text": [
      "per_honorarios Ver Histórico antes de la Ley N° 20.285\n",
      "could not get breadcrumbs from http://www.interior.gov.cl/transparenciahistorico/sgi/74/index.html\n",
      "per_honorarios 2018\n",
      "could not get breadcrumbs from http://www.interior.gov.cl/transparenciaactiva/sgi/74/honorarios_2018_13_1.html\n",
      "per_honorarios 2017\n",
      "could not get breadcrumbs from http://www.interior.gov.cl/transparenciaactiva/sgi/74/honorarios_2017_13_1.html\n",
      "per_honorarios 2016\n",
      "could not get breadcrumbs from http://www.interior.gov.cl/transparenciaactiva/sgi/74/honorarios_2016_13_1.html\n",
      "per_honorarios 2015\n",
      "could not get breadcrumbs from http://www.interior.gov.cl/transparenciaactiva/sgi/74/honorarios_2015_13_1.html\n",
      "per_honorarios 2014\n",
      "could not get breadcrumbs from http://www.interior.gov.cl/transparenciaactiva/sgi/74/honorarios_2014_13_1.html\n",
      "per_honorarios 2013\n",
      "could not get breadcrumbs from http://www.interior.gov.cl/transparenciaactiva/sgi/74/honorarios_2013_13_1.html\n",
      "per_honorarios 2012\n",
      "could not get breadcrumbs from http://www.interior.gov.cl/transparenciaactiva/sgi/74/honorarios_2012_13_1.html\n",
      "per_honorarios 2011\n",
      "could not get breadcrumbs from http://www.interior.gov.cl/transparenciaactiva/sgi/74/honorarios_2011_13_1.html\n",
      "per_honorarios 2010\n",
      "could not get breadcrumbs from http://www.interior.gov.cl/transparenciaactiva/sgi/74/honorarios_2010_13_1.html\n",
      "per_honorarios 2009\n",
      "could not get breadcrumbs from http://www.interior.gov.cl/transparenciaactiva/sgi/74/honorarios_2009_13_10.html\n",
      "\n",
      "Gobernación de Puerto Aysén\n"
     ]
    },
    {
     "data": {
      "application/vnd.jupyter.widget-view+json": {
       "model_id": "efdffc79ef324e56b07958e921f15c5a",
       "version_major": 2,
       "version_minor": 0
      },
      "text/plain": [
       "A Jupyter Widget"
      ]
     },
     "metadata": {},
     "output_type": "display_data"
    },
    {
     "name": "stdout",
     "output_type": "stream",
     "text": [
      "per_honorarios Ver Histórico antes de la Ley N° 20.285\n",
      "could not get breadcrumbs from http://www.interior.gov.cl/transparenciahistorico/sgi/75/index.html\n",
      "per_honorarios 2018\n",
      "could not get breadcrumbs from http://www.interior.gov.cl/transparenciaactiva/sgi/75/honorarios_2018_13_1.html\n",
      "per_honorarios 2017\n",
      "could not get breadcrumbs from http://www.interior.gov.cl/transparenciaactiva/sgi/75/honorarios_2017_13_1.html\n",
      "per_honorarios 2016\n",
      "could not get breadcrumbs from http://www.interior.gov.cl/transparenciaactiva/sgi/75/honorarios_2016_13_1.html\n",
      "per_honorarios 2015\n",
      "could not get breadcrumbs from http://www.interior.gov.cl/transparenciaactiva/sgi/75/honorarios_2015_13_1.html\n",
      "per_honorarios 2014\n",
      "could not get breadcrumbs from http://www.interior.gov.cl/transparenciaactiva/sgi/75/honorarios_2014_13_1.html\n",
      "per_honorarios 2013\n",
      "could not get breadcrumbs from http://www.interior.gov.cl/transparenciaactiva/sgi/75/honorarios_2013_13_1.html\n",
      "per_honorarios 2012\n",
      "could not get breadcrumbs from http://www.interior.gov.cl/transparenciaactiva/sgi/75/honorarios_2012_13_1.html\n",
      "per_honorarios 2011\n",
      "could not get breadcrumbs from http://www.interior.gov.cl/transparenciaactiva/sgi/75/honorarios_2011_13_1.html\n",
      "per_honorarios 2010\n",
      "could not get breadcrumbs from http://www.interior.gov.cl/transparenciaactiva/sgi/75/honorarios_2010_13_1.html\n",
      "per_honorarios 2009\n",
      "could not get breadcrumbs from http://www.interior.gov.cl/transparenciaactiva/sgi/75/honorarios_2009_13_10.html\n",
      "\n",
      "Gobernación de General Carrera\n"
     ]
    },
    {
     "data": {
      "application/vnd.jupyter.widget-view+json": {
       "model_id": "2da35dac801d44cfaf221c193bf81387",
       "version_major": 2,
       "version_minor": 0
      },
      "text/plain": [
       "A Jupyter Widget"
      ]
     },
     "metadata": {},
     "output_type": "display_data"
    },
    {
     "name": "stdout",
     "output_type": "stream",
     "text": [
      "per_honorarios Ver Histórico antes de la Ley N° 20.285\n",
      "could not get breadcrumbs from http://www.interior.gov.cl/transparenciahistorico/sgi/76/index.html\n",
      "per_honorarios 2018\n",
      "per_honorarios 2017\n",
      "per_honorarios 2016\n",
      "per_honorarios 2015\n",
      "per_honorarios 2014\n",
      "per_honorarios 2013\n",
      "per_honorarios 2012\n",
      "per_honorarios 2011\n",
      "per_honorarios 2010\n",
      "per_honorarios 2009\n",
      "\n",
      "Gobernación de Capitán Prat\n"
     ]
    },
    {
     "data": {
      "application/vnd.jupyter.widget-view+json": {
       "model_id": "d7f0006bc411496a805515629de50cf2",
       "version_major": 2,
       "version_minor": 0
      },
      "text/plain": [
       "A Jupyter Widget"
      ]
     },
     "metadata": {},
     "output_type": "display_data"
    },
    {
     "name": "stdout",
     "output_type": "stream",
     "text": [
      "per_honorarios Ver Histórico antes de la Ley N° 20.285\n",
      "could not get breadcrumbs from http://www.interior.gov.cl/transparenciahistorico/sgi/77/index.html\n",
      "per_honorarios 2018\n",
      "per_honorarios 2017\n",
      "per_honorarios 2016\n",
      "per_honorarios 2015\n",
      "per_honorarios 2014\n",
      "per_honorarios 2013\n",
      "per_honorarios 2012\n",
      "per_honorarios 2011\n",
      "per_honorarios 2010\n",
      "per_honorarios 2009\n",
      "\n",
      "Gobernación de Última Esperanza\n"
     ]
    },
    {
     "data": {
      "application/vnd.jupyter.widget-view+json": {
       "model_id": "21267f6727a74bf6b4e0e3d020652784",
       "version_major": 2,
       "version_minor": 0
      },
      "text/plain": [
       "A Jupyter Widget"
      ]
     },
     "metadata": {},
     "output_type": "display_data"
    },
    {
     "name": "stdout",
     "output_type": "stream",
     "text": [
      "per_honorarios Ver Histórico antes de la Ley N° 20.285\n",
      "could not get breadcrumbs from http://www.interior.gov.cl/transparenciahistorico/sgi/79/index.html\n",
      "per_honorarios 2018\n",
      "per_honorarios 2017\n",
      "per_honorarios 2016\n",
      "per_honorarios 2015\n",
      "per_honorarios 2014\n",
      "per_honorarios 2013\n",
      "per_honorarios 2012\n",
      "per_honorarios 2011\n",
      "per_honorarios 2010\n",
      "per_honorarios 2009\n",
      "\n",
      "Gobernación de Magallanes\n"
     ]
    },
    {
     "data": {
      "application/vnd.jupyter.widget-view+json": {
       "model_id": "de4db17070ad45a39586ef751c776b98",
       "version_major": 2,
       "version_minor": 0
      },
      "text/plain": [
       "A Jupyter Widget"
      ]
     },
     "metadata": {},
     "output_type": "display_data"
    },
    {
     "name": "stdout",
     "output_type": "stream",
     "text": [
      "per_honorarios Ver Histórico antes de la Ley N° 20.285\n",
      "could not get breadcrumbs from http://www.interior.gov.cl/transparenciahistorico/sgi/78/index.html\n",
      "per_honorarios 2018\n",
      "per_honorarios 2017\n",
      "per_honorarios 2016\n",
      "per_honorarios 2015\n",
      "per_honorarios 2014\n",
      "per_honorarios 2013\n",
      "per_honorarios 2012\n",
      "per_honorarios 2011\n",
      "per_honorarios 2010\n",
      "per_honorarios 2009\n",
      "\n",
      "Gobernación de Tierra del Fuego\n"
     ]
    },
    {
     "data": {
      "application/vnd.jupyter.widget-view+json": {
       "model_id": "9a1d640a00e2491d87c5071b6a6a447b",
       "version_major": 2,
       "version_minor": 0
      },
      "text/plain": [
       "A Jupyter Widget"
      ]
     },
     "metadata": {},
     "output_type": "display_data"
    },
    {
     "name": "stdout",
     "output_type": "stream",
     "text": [
      "per_honorarios Ver Histórico antes de la Ley N° 20.285\n",
      "could not get breadcrumbs from http://www.interior.gov.cl/transparenciahistorico/sgi/80/index.html\n",
      "per_honorarios 2018\n",
      "per_honorarios 2017\n",
      "per_honorarios 2016\n",
      "per_honorarios 2015\n",
      "per_honorarios 2014\n",
      "per_honorarios 2013\n",
      "per_honorarios 2012\n",
      "per_honorarios 2011\n",
      "per_honorarios 2010\n",
      "per_honorarios 2009\n",
      "\n",
      "Gobernación de la Antártica Chilena\n"
     ]
    },
    {
     "data": {
      "application/vnd.jupyter.widget-view+json": {
       "model_id": "6da2cca92a80466e9804dbc283c5668d",
       "version_major": 2,
       "version_minor": 0
      },
      "text/plain": [
       "A Jupyter Widget"
      ]
     },
     "metadata": {},
     "output_type": "display_data"
    },
    {
     "name": "stdout",
     "output_type": "stream",
     "text": [
      "per_honorarios Ver Histórico antes de la Ley N° 20.285\n",
      "could not get breadcrumbs from http://www.interior.gov.cl/transparenciahistorico/sgi/81/index.html\n",
      "per_honorarios 2018\n",
      "per_honorarios 2017\n",
      "per_honorarios 2016\n",
      "per_honorarios 2015\n",
      "per_honorarios 2014\n",
      "per_honorarios 2013\n",
      "per_honorarios 2012\n",
      "per_honorarios 2011\n",
      "per_honorarios 2010\n",
      "per_honorarios 2009\n",
      "\n",
      "Gobernación de Chacabuco\n"
     ]
    },
    {
     "data": {
      "application/vnd.jupyter.widget-view+json": {
       "model_id": "1613549e5cbf47caa576eeba95918b47",
       "version_major": 2,
       "version_minor": 0
      },
      "text/plain": [
       "A Jupyter Widget"
      ]
     },
     "metadata": {},
     "output_type": "display_data"
    },
    {
     "name": "stdout",
     "output_type": "stream",
     "text": [
      "per_honorarios Ver Histórico antes de la Ley N° 20.285\n",
      "could not get breadcrumbs from http://www.interior.gov.cl/transparenciahistorico/sgi/86/index.html\n",
      "per_honorarios 2018\n",
      "per_honorarios 2017\n",
      "per_honorarios 2016\n",
      "per_honorarios 2015\n",
      "per_honorarios 2014\n",
      "per_honorarios 2013\n",
      "per_honorarios 2012\n",
      "per_honorarios 2011\n",
      "per_honorarios 2010\n",
      "per_honorarios 2009\n",
      "\n",
      "Gobernación de Cordillera\n"
     ]
    },
    {
     "data": {
      "application/vnd.jupyter.widget-view+json": {
       "model_id": "53ecde92a3fb4d85a023ee483f0b9c19",
       "version_major": 2,
       "version_minor": 0
      },
      "text/plain": [
       "A Jupyter Widget"
      ]
     },
     "metadata": {},
     "output_type": "display_data"
    },
    {
     "name": "stdout",
     "output_type": "stream",
     "text": [
      "per_honorarios Ver Histórico antes de la Ley N° 20.285\n",
      "could not get breadcrumbs from http://www.interior.gov.cl/transparenciahistorico/sgi/83/index.html\n",
      "per_honorarios 2018\n",
      "per_honorarios 2017\n",
      "per_honorarios 2016\n",
      "per_honorarios 2015\n",
      "per_honorarios 2014\n",
      "per_honorarios 2013\n",
      "per_honorarios 2012\n",
      "per_honorarios 2011\n",
      "per_honorarios 2010\n",
      "per_honorarios 2009\n",
      "\n",
      "Gobernación de Maipo\n"
     ]
    },
    {
     "data": {
      "application/vnd.jupyter.widget-view+json": {
       "model_id": "b8a17147567e4b97b19d02978c47a568",
       "version_major": 2,
       "version_minor": 0
      },
      "text/plain": [
       "A Jupyter Widget"
      ]
     },
     "metadata": {},
     "output_type": "display_data"
    },
    {
     "name": "stdout",
     "output_type": "stream",
     "text": [
      "per_honorarios Ver Histórico antes de la Ley N° 20.285\n",
      "could not get breadcrumbs from http://www.interior.gov.cl/transparenciahistorico/sgi/82/index.html\n",
      "per_honorarios 2018\n",
      "per_honorarios 2017\n",
      "per_honorarios 2016\n",
      "per_honorarios 2015\n",
      "per_honorarios 2014\n",
      "per_honorarios 2013\n",
      "per_honorarios 2012\n",
      "per_honorarios 2011\n",
      "per_honorarios 2010\n",
      "per_honorarios 2009\n",
      "\n",
      "Gobernación de Talagante\n"
     ]
    },
    {
     "data": {
      "application/vnd.jupyter.widget-view+json": {
       "model_id": "cd86dcdad0e74eb787dc21a3144cf2d8",
       "version_major": 2,
       "version_minor": 0
      },
      "text/plain": [
       "A Jupyter Widget"
      ]
     },
     "metadata": {},
     "output_type": "display_data"
    },
    {
     "name": "stdout",
     "output_type": "stream",
     "text": [
      "per_honorarios Ver Histórico antes de la Ley N° 20.285\n",
      "could not get breadcrumbs from http://www.interior.gov.cl/transparenciahistorico/sgi/84/index.html\n",
      "per_honorarios 2018\n",
      "per_honorarios 2017\n",
      "per_honorarios 2016\n",
      "per_honorarios 2015\n",
      "per_honorarios 2014\n",
      "per_honorarios 2013\n",
      "per_honorarios 2012\n",
      "per_honorarios 2011\n",
      "per_honorarios 2010\n",
      "per_honorarios 2009\n",
      "\n",
      "Gobernación de Melipilla\n"
     ]
    },
    {
     "data": {
      "application/vnd.jupyter.widget-view+json": {
       "model_id": "dfb4344c5f9f4d0a8f0335ab123aea25",
       "version_major": 2,
       "version_minor": 0
      },
      "text/plain": [
       "A Jupyter Widget"
      ]
     },
     "metadata": {},
     "output_type": "display_data"
    },
    {
     "name": "stdout",
     "output_type": "stream",
     "text": [
      "per_honorarios Ver Histórico antes de la Ley N° 20.285\n",
      "could not get breadcrumbs from http://www.interior.gov.cl/transparenciahistorico/sgi/85/index.html\n",
      "per_honorarios 2018\n",
      "per_honorarios 2017\n",
      "per_honorarios 2016\n",
      "per_honorarios 2015\n",
      "per_honorarios 2014\n",
      "per_honorarios 2013\n",
      "per_honorarios 2012\n",
      "per_honorarios 2011\n",
      "per_honorarios 2010\n",
      "per_honorarios 2009\n",
      "\n",
      "Gobierno Regional de Arica y Parinacota\n"
     ]
    },
    {
     "data": {
      "application/vnd.jupyter.widget-view+json": {
       "model_id": "35d5fbe891a0440d85593db4831c3695",
       "version_major": 2,
       "version_minor": 0
      },
      "text/plain": [
       "A Jupyter Widget"
      ]
     },
     "metadata": {},
     "output_type": "display_data"
    },
    {
     "name": "stdout",
     "output_type": "stream",
     "text": [
      "per_honorarios Año 2018\n",
      "per_honorarios Año 2017\n",
      "per_honorarios Año 2016\n",
      "per_honorarios Año 2015\n",
      "per_honorarios Año 2014\n",
      "per_honorarios Año 2013\n",
      "per_honorarios Año 2012\n",
      "per_honorarios Año 2011\n",
      "per_honorarios Año 2010\n",
      "per_honorarios Año 2009\n",
      "per_honorarios Año 2008\n",
      "\n",
      "Gobierno Regional de Tarapacá\n",
      "No contract data per_honorarios in http://www.gobiernotransparentechile.cl/directorio/entidad/2/76\n"
     ]
    },
    {
     "name": "stderr",
     "output_type": "stream",
     "text": [
      "Traceback (most recent call last):\n",
      "  File \"./lib/functions.py\", line 109, in getDepartmentData\n",
      "    div_years = browser.find_element_by_class_name(\"linksIntermedios\")\n",
      "  File \"/Users/jaime/anaconda3/lib/python3.6/site-packages/selenium/webdriver/remote/webdriver.py\", line 555, in find_element_by_class_name\n",
      "    return self.find_element(by=By.CLASS_NAME, value=name)\n",
      "  File \"/Users/jaime/anaconda3/lib/python3.6/site-packages/selenium/webdriver/remote/webdriver.py\", line 955, in find_element\n",
      "    'value': value})['value']\n",
      "  File \"/Users/jaime/anaconda3/lib/python3.6/site-packages/selenium/webdriver/remote/webdriver.py\", line 312, in execute\n",
      "    self.error_handler.check_response(response)\n",
      "  File \"/Users/jaime/anaconda3/lib/python3.6/site-packages/selenium/webdriver/remote/errorhandler.py\", line 237, in check_response\n",
      "    raise exception_class(message, screen, stacktrace)\n",
      "selenium.common.exceptions.NoSuchElementException: Message: no such element: Unable to locate element: {\"method\":\"class name\",\"selector\":\"linksIntermedios\"}\n",
      "  (Session info: chrome=65.0.3325.181)\n",
      "  (Driver info: chromedriver=2.35.528157 (4429ca2590d6988c0745c24c8858745aaaec01ef),platform=Mac OS X 10.13.3 x86_64)\n",
      "\n"
     ]
    },
    {
     "data": {
      "application/vnd.jupyter.widget-view+json": {
       "model_id": "6d21b9938cbb45298405f81adadb2670",
       "version_major": 2,
       "version_minor": 0
      },
      "text/plain": [
       "A Jupyter Widget"
      ]
     },
     "metadata": {},
     "output_type": "display_data"
    },
    {
     "name": "stdout",
     "output_type": "stream",
     "text": [
      "\n",
      "Gobierno Regional de Antofagasta\n",
      "No contract data per_honorarios in http://www.gobiernotransparentechile.cl/directorio/entidad/2/77\n"
     ]
    },
    {
     "name": "stderr",
     "output_type": "stream",
     "text": [
      "Traceback (most recent call last):\n",
      "  File \"./lib/functions.py\", line 109, in getDepartmentData\n",
      "    div_years = browser.find_element_by_class_name(\"linksIntermedios\")\n",
      "  File \"/Users/jaime/anaconda3/lib/python3.6/site-packages/selenium/webdriver/remote/webdriver.py\", line 555, in find_element_by_class_name\n",
      "    return self.find_element(by=By.CLASS_NAME, value=name)\n",
      "  File \"/Users/jaime/anaconda3/lib/python3.6/site-packages/selenium/webdriver/remote/webdriver.py\", line 955, in find_element\n",
      "    'value': value})['value']\n",
      "  File \"/Users/jaime/anaconda3/lib/python3.6/site-packages/selenium/webdriver/remote/webdriver.py\", line 312, in execute\n",
      "    self.error_handler.check_response(response)\n",
      "  File \"/Users/jaime/anaconda3/lib/python3.6/site-packages/selenium/webdriver/remote/errorhandler.py\", line 237, in check_response\n",
      "    raise exception_class(message, screen, stacktrace)\n",
      "selenium.common.exceptions.NoSuchElementException: Message: no such element: Unable to locate element: {\"method\":\"class name\",\"selector\":\"linksIntermedios\"}\n",
      "  (Session info: chrome=65.0.3325.181)\n",
      "  (Driver info: chromedriver=2.35.528157 (4429ca2590d6988c0745c24c8858745aaaec01ef),platform=Mac OS X 10.13.3 x86_64)\n",
      "\n"
     ]
    },
    {
     "data": {
      "application/vnd.jupyter.widget-view+json": {
       "model_id": "0ea7706f45014ffe8c99f2bd76119b3b",
       "version_major": 2,
       "version_minor": 0
      },
      "text/plain": [
       "A Jupyter Widget"
      ]
     },
     "metadata": {},
     "output_type": "display_data"
    },
    {
     "name": "stdout",
     "output_type": "stream",
     "text": [
      "\n",
      "Gobierno Regional de Atacama\n"
     ]
    },
    {
     "data": {
      "application/vnd.jupyter.widget-view+json": {
       "model_id": "a8e38dbdb76c4ac4b2bf0216cc071a6e",
       "version_major": 2,
       "version_minor": 0
      },
      "text/plain": [
       "A Jupyter Widget"
      ]
     },
     "metadata": {},
     "output_type": "display_data"
    },
    {
     "name": "stdout",
     "output_type": "stream",
     "text": [
      "per_honorarios Año 2018\n",
      "per_honorarios Año 2017\n",
      "per_honorarios Año 2016\n",
      "per_honorarios Año 2015\n",
      "per_honorarios Año 2014\n",
      "per_honorarios Año 2013\n",
      "per_honorarios Año 2012\n",
      "per_honorarios Año 2011\n",
      "per_honorarios Año 2010\n",
      "\n",
      "Gobierno Regional de Coquimbo\n",
      "No contract data per_honorarios in http://www.gobiernotransparentechile.cl/directorio/entidad/2/79\n"
     ]
    },
    {
     "name": "stderr",
     "output_type": "stream",
     "text": [
      "Traceback (most recent call last):\n",
      "  File \"./lib/functions.py\", line 109, in getDepartmentData\n",
      "    div_years = browser.find_element_by_class_name(\"linksIntermedios\")\n",
      "  File \"/Users/jaime/anaconda3/lib/python3.6/site-packages/selenium/webdriver/remote/webdriver.py\", line 555, in find_element_by_class_name\n",
      "    return self.find_element(by=By.CLASS_NAME, value=name)\n",
      "  File \"/Users/jaime/anaconda3/lib/python3.6/site-packages/selenium/webdriver/remote/webdriver.py\", line 955, in find_element\n",
      "    'value': value})['value']\n",
      "  File \"/Users/jaime/anaconda3/lib/python3.6/site-packages/selenium/webdriver/remote/webdriver.py\", line 312, in execute\n",
      "    self.error_handler.check_response(response)\n",
      "  File \"/Users/jaime/anaconda3/lib/python3.6/site-packages/selenium/webdriver/remote/errorhandler.py\", line 237, in check_response\n",
      "    raise exception_class(message, screen, stacktrace)\n",
      "selenium.common.exceptions.NoSuchElementException: Message: no such element: Unable to locate element: {\"method\":\"class name\",\"selector\":\"linksIntermedios\"}\n",
      "  (Session info: chrome=65.0.3325.181)\n",
      "  (Driver info: chromedriver=2.35.528157 (4429ca2590d6988c0745c24c8858745aaaec01ef),platform=Mac OS X 10.13.3 x86_64)\n",
      "\n"
     ]
    },
    {
     "data": {
      "application/vnd.jupyter.widget-view+json": {
       "model_id": "76a35fdd91324417b62dad8310bc4755",
       "version_major": 2,
       "version_minor": 0
      },
      "text/plain": [
       "A Jupyter Widget"
      ]
     },
     "metadata": {},
     "output_type": "display_data"
    },
    {
     "name": "stdout",
     "output_type": "stream",
     "text": [
      "\n",
      "Gobierno Regional de Valparaíso\n"
     ]
    },
    {
     "data": {
      "application/vnd.jupyter.widget-view+json": {
       "model_id": "1cdbf5de35544c54a4aff9697e74d41d",
       "version_major": 2,
       "version_minor": 0
      },
      "text/plain": [
       "A Jupyter Widget"
      ]
     },
     "metadata": {},
     "output_type": "display_data"
    },
    {
     "name": "stdout",
     "output_type": "stream",
     "text": [
      "per_honorarios Año 2018\n",
      "per_honorarios Año 2017\n",
      "per_honorarios Año 2016\n",
      "per_honorarios Año 2015\n",
      "per_honorarios Año 2014\n",
      "per_honorarios Año 2013\n",
      "per_honorarios Año 2012\n",
      "per_honorarios Año 2011\n",
      "per_honorarios Año 2010\n",
      "\n",
      "Gobierno Regional Metropolitano de Santiago\n"
     ]
    },
    {
     "data": {
      "application/vnd.jupyter.widget-view+json": {
       "model_id": "e13c925d503b4f81a73002d8c08a6405",
       "version_major": 2,
       "version_minor": 0
      },
      "text/plain": [
       "A Jupyter Widget"
      ]
     },
     "metadata": {},
     "output_type": "display_data"
    },
    {
     "name": "stdout",
     "output_type": "stream",
     "text": [
      "per_honorarios Año 2012\n",
      "per_honorarios Año 2011\n",
      "per_honorarios Año 2010\n",
      "per_honorarios Año 2009\n",
      "per_honorarios Año 2016\n",
      "per_honorarios Año 2015\n",
      "could not get breadcrumbs from https://www.gobiernosantiago.cl/transparencia/2015/diciembre/per_honorarios.html\n",
      "per_honorarios Año 2014\n",
      "per_honorarios Año 2013\n",
      "could not get breadcrumbs from https://www.gobiernosantiago.cl/transparencia/2014/enero/html%20enero%202014/per_honorarios.html\n",
      "\n",
      "Gobierno Regional de O'Higgins\n"
     ]
    },
    {
     "data": {
      "application/vnd.jupyter.widget-view+json": {
       "model_id": "39821a425a124166b71d04e19b129144",
       "version_major": 2,
       "version_minor": 0
      },
      "text/plain": [
       "A Jupyter Widget"
      ]
     },
     "metadata": {},
     "output_type": "display_data"
    },
    {
     "name": "stdout",
     "output_type": "stream",
     "text": [
      "per_honorarios Año 2018\n",
      "per_honorarios Año 2017\n",
      "per_honorarios Año 2016\n",
      "per_honorarios Año 2015\n",
      "per_honorarios Año 2014\n",
      "per_honorarios Año 2013\n",
      "per_honorarios Año 2012\n",
      "per_honorarios Año 2011\n",
      "per_honorarios Año 2010\n",
      "per_honorarios Año 2009\n",
      "\n",
      "Gobierno Regional del Maule\n"
     ]
    },
    {
     "data": {
      "application/vnd.jupyter.widget-view+json": {
       "model_id": "29933555b71a4bfcbd5d39cd345bf70f",
       "version_major": 2,
       "version_minor": 0
      },
      "text/plain": [
       "A Jupyter Widget"
      ]
     },
     "metadata": {},
     "output_type": "display_data"
    },
    {
     "name": "stdout",
     "output_type": "stream",
     "text": [
      "per_honorarios Año 2015\n",
      "per_honorarios Año 2013\n",
      "could not get breadcrumbs from http://www.gobiernoregionaldelmaule.cl/transparencia/2015/2013/per_honorariosdic.html\n",
      "per_honorarios Año 2014\n",
      "per_honorarios Año 2012\n",
      "per_honorarios Año 2011\n",
      "per_honorarios Año 2010\n",
      "per_honorarios Año 2009\n",
      "per_honorarios Año 2008\n",
      "could not get breadcrumbs from http://www.gobiernoregionaldelmaule.cl/transparencia/2009/2008/per_honorarios.html\n",
      "per_honorarios Año 2007\n",
      "could not get breadcrumbs from http://www.gobiernoregionaldelmaule.cl/transparencia/2009/2007/per_honorarios.html\n",
      "\n",
      "Gobierno Regional del Bío Bío\n"
     ]
    },
    {
     "data": {
      "application/vnd.jupyter.widget-view+json": {
       "model_id": "0beb3dc11f764335bde0248fd427e16a",
       "version_major": 2,
       "version_minor": 0
      },
      "text/plain": [
       "A Jupyter Widget"
      ]
     },
     "metadata": {},
     "output_type": "display_data"
    },
    {
     "name": "stdout",
     "output_type": "stream",
     "text": [
      "per_honorarios Año 2015\n",
      "could not get breadcrumbs from http://www.gorebiobio.cl/Transparencia/2015/01_Enero/p_honorarios_2015_01.html\n",
      "per_honorarios Año 2014\n",
      "could not get breadcrumbs from http://www.gorebiobio.cl/Transparencia/2014/01_Enero/p_honorarios_2014_01.html\n",
      "per_honorarios Año 2013\n",
      "could not get breadcrumbs from http://www.gorebiobio.cl/Transparencia/2013/01_Enero/p_honorarios_2013_01.html\n",
      "per_honorarios Año 2012\n",
      "could not get breadcrumbs from http://www.gorebiobio.cl/Transparencia/2012/01_Enero/p_honorarios_2012_01.html\n",
      "per_honorarios Año 2011\n",
      "could not get breadcrumbs from http://www.gorebiobio.cl/Transparencia/2011/per_honorarios.php\n",
      "per_honorarios Año 2010\n",
      "could not get breadcrumbs from http://www.gorebiobio.cl/Transparencia/2010/per_honorarios.php\n",
      "per_honorarios Año 2009\n",
      "could not get breadcrumbs from http://www.gorebiobio.cl/Transparencia/2009/per_honorarios.html\n",
      "per_honorarios Año 2008\n",
      "could not get breadcrumbs from http://www.gorebiobio.cl/Transparencia/2008/per_honorarios.html\n",
      "per_honorarios Año 2007\n",
      "could not get breadcrumbs from http://www.gorebiobio.cl/Transparencia/2007/per_honorarios.html\n",
      "per_honorarios Año 2006\n",
      "could not get breadcrumbs from http://www.gorebiobio.cl/Transparencia/2006/per_honorarios.html\n",
      "\n",
      "Gobierno Regional de La Araucanía\n"
     ]
    },
    {
     "data": {
      "application/vnd.jupyter.widget-view+json": {
       "model_id": "3299e42cdbd94270ba4e3931046e6a9f",
       "version_major": 2,
       "version_minor": 0
      },
      "text/plain": [
       "A Jupyter Widget"
      ]
     },
     "metadata": {},
     "output_type": "display_data"
    },
    {
     "name": "stdout",
     "output_type": "stream",
     "text": [
      "per_honorarios Año 2018\n",
      "per_honorarios Año 2017\n",
      "per_honorarios Año 2016\n",
      "per_honorarios Año 2015\n",
      "could not get breadcrumbs from http://www.laaraucania.cl/transparencia/2015/Meses/Abril/per_honorarios.html\n",
      "per_honorarios Año 2014\n",
      "per_honorarios Año 2013\n",
      "per_honorarios Año 2012\n",
      "per_honorarios Año 2011\n",
      "per_honorarios Año 2010\n",
      "per_honorarios Año 2009\n",
      "per_honorarios Año 2008\n",
      "could not get breadcrumbs from http://www.laaraucania.cl/transparencia/2008/per_honorarios.html\n",
      "per_honorarios Año 2007\n",
      "per_honorarios Año 2006\n",
      "\n",
      "Gobierno Regional de Los Ríos\n"
     ]
    },
    {
     "data": {
      "application/vnd.jupyter.widget-view+json": {
       "model_id": "7fe61efc3f31442599c15dd0a075387f",
       "version_major": 2,
       "version_minor": 0
      },
      "text/plain": [
       "A Jupyter Widget"
      ]
     },
     "metadata": {},
     "output_type": "display_data"
    },
    {
     "name": "stdout",
     "output_type": "stream",
     "text": [
      "per_honorarios Ver Histórico\n",
      "could not get breadcrumbs from http://www.goredelosrios.cl/transparencia/2009/dotacionhonorarios032009.html\n",
      "per_honorarios Marzo\n",
      "could not get breadcrumbs from http://www.goredelosrios.cl/transparencia/2018/dotacionhonorarios032018.html\n",
      "per_honorarios Febrero\n",
      "could not get breadcrumbs from http://www.goredelosrios.cl/transparencia/2018/dotacionhonorarios022018.html\n",
      "per_honorarios Enero\n",
      "\n",
      "Gobierno Regional de Los Lagos\n"
     ]
    },
    {
     "data": {
      "application/vnd.jupyter.widget-view+json": {
       "model_id": "76a9c3ce2bee409fa6de2b78d5f0743e",
       "version_major": 2,
       "version_minor": 0
      },
      "text/plain": [
       "A Jupyter Widget"
      ]
     },
     "metadata": {},
     "output_type": "display_data"
    },
    {
     "name": "stdout",
     "output_type": "stream",
     "text": [
      "per_honorarios Año 2016\n",
      "per_honorarios Año 2015\n",
      "per_honorarios Año 2014\n",
      "per_honorarios Año 2013\n",
      "per_honorarios Año 2012\n",
      "per_honorarios Año 2011\n",
      "per_honorarios Año 2010\n",
      "could not get breadcrumbs from http://www.goreloslagos.cl/transparencia/2010/per_honorarios.html\n",
      "per_honorarios Año 2009\n",
      "per_honorarios Año 2008\n",
      "per_honorarios Año 2007\n",
      "per_honorarios Año 2006\n",
      "\n",
      "Gobierno Regional de Aysén\n"
     ]
    },
    {
     "data": {
      "application/vnd.jupyter.widget-view+json": {
       "model_id": "422f37a6f53d42f68e0f2ce77ded51b3",
       "version_major": 2,
       "version_minor": 0
      },
      "text/plain": [
       "A Jupyter Widget"
      ]
     },
     "metadata": {},
     "output_type": "display_data"
    },
    {
     "name": "stdout",
     "output_type": "stream",
     "text": [
      "per_honorarios Año 2018\n",
      "per_honorarios Año 2017\n",
      "per_honorarios Año 2016\n",
      "per_honorarios Año 2015\n",
      "per_honorarios Año 2014\n",
      "per_honorarios Año 2013\n",
      "per_honorarios Año 2012\n",
      "per_honorarios Año 2011\n",
      "per_honorarios Año 2010\n",
      "per_honorarios Año 2009\n",
      "per_honorarios Año 2008\n",
      "per_honorarios Año 2007\n",
      "per_honorarios Año 2006\n",
      "\n",
      "Gobierno Regional de Magallanes y Antártica Chilena\n"
     ]
    },
    {
     "data": {
      "application/vnd.jupyter.widget-view+json": {
       "model_id": "a7c8a4f3c5164da98082e053e2305c5b",
       "version_major": 2,
       "version_minor": 0
      },
      "text/plain": [
       "A Jupyter Widget"
      ]
     },
     "metadata": {},
     "output_type": "display_data"
    },
    {
     "name": "stdout",
     "output_type": "stream",
     "text": [
      "per_honorarios Año 2013\n",
      "could not get breadcrumbs from http://164.77.209.178/sitioweb2011/transparencia/2013/per_honorarios.html\n",
      "per_honorarios Año 2012\n",
      "could not get breadcrumbs from http://164.77.209.178/sitioweb2011/transparencia/2012/per_honorarios.html\n",
      "per_honorarios Año 2011\n",
      "could not get breadcrumbs from http://164.77.209.178/sitioweb2011/transparencia/2011/per_honorarios.html\n",
      "per_honorarios Año 2010\n",
      "could not get breadcrumbs from http://164.77.209.178/sitioweb2011/transparencia/2010/per_honorarios.html\n",
      "per_honorarios Año 2009\n",
      "could not get breadcrumbs from http://164.77.209.178/sitioweb2011/transparencia/2009/per_honorarios.html\n",
      "per_honorarios Año 2008\n",
      "could not get breadcrumbs from http://164.77.209.178/sitioweb2011/transparencia/2008/per_honorarios.html\n",
      "per_honorarios Año 2007\n",
      "could not get breadcrumbs from http://164.77.209.178/sitioweb2011/transparencia/2007/per_honorarios.html\n",
      "per_honorarios Año 2006\n",
      "could not get breadcrumbs from http://164.77.209.178/sitioweb2011/transparencia/2006/per_honorarios.html\n",
      "\n",
      "Ministerio de Relaciones Exteriores\n",
      "Subsecretaría de Relaciones Exteriores\n"
     ]
    },
    {
     "data": {
      "application/vnd.jupyter.widget-view+json": {
       "model_id": "94c1091f3a664b5fab5bd62dfe537524",
       "version_major": 2,
       "version_minor": 0
      },
      "text/plain": [
       "A Jupyter Widget"
      ]
     },
     "metadata": {},
     "output_type": "display_data"
    },
    {
     "name": "stdout",
     "output_type": "stream",
     "text": [
      "per_honorarios Año 2017\n",
      "per_honorarios Año 2016\n",
      "per_honorarios Año 2015\n",
      "per_honorarios Año 2014\n",
      "per_honorarios Año 2013\n",
      "per_honorarios Año 2012\n",
      "per_honorarios Año 2011\n",
      "per_honorarios Año 2010\n",
      "per_honorarios Año 2009\n",
      "per_honorarios Año 2008\n",
      "per_honorarios Año 2007\n",
      "per_honorarios Año 2006\n",
      "\n",
      "Dirección General de Relaciones Económicas Internacionales (DIRECON)\n"
     ]
    },
    {
     "data": {
      "application/vnd.jupyter.widget-view+json": {
       "model_id": "e628cdc71acd47518c8438559103b4b7",
       "version_major": 2,
       "version_minor": 0
      },
      "text/plain": [
       "A Jupyter Widget"
      ]
     },
     "metadata": {},
     "output_type": "display_data"
    },
    {
     "name": "stdout",
     "output_type": "stream",
     "text": [
      "per_honorarios Año 2017\n",
      "per_honorarios Año 2016\n",
      "per_honorarios Año 2015\n",
      "per_honorarios Año 2014\n",
      "per_honorarios Año 2013\n",
      "per_honorarios Año 2012\n",
      "per_honorarios Año 2011\n",
      "per_honorarios Año 2010\n",
      "per_honorarios Año 2009\n",
      "per_honorarios Año 2008\n",
      "per_honorarios Año 2007\n",
      "per_honorarios Año 2006\n",
      "\n",
      "Dirección Nacional de Fronteras y Límites del Estado (DIFROL)\n"
     ]
    },
    {
     "data": {
      "application/vnd.jupyter.widget-view+json": {
       "model_id": "0e1b2ba8abd74774b483248f2215ce13",
       "version_major": 2,
       "version_minor": 0
      },
      "text/plain": [
       "A Jupyter Widget"
      ]
     },
     "metadata": {},
     "output_type": "display_data"
    },
    {
     "name": "stdout",
     "output_type": "stream",
     "text": [
      "per_honorarios Año 2018\n",
      "per_honorarios Año 2017\n",
      "could not get breadcrumbs from http://www.difrol.cl/transparencia/2017/per_honorarios.html\n",
      "per_honorarios Año 2016\n",
      "per_honorarios Año 2015\n",
      "per_honorarios Año 2014\n",
      "could not get breadcrumbs from http://www.difrol.cl/transparencia/2014/per_honorarios.html\n",
      "per_honorarios Año 2013\n",
      "per_honorarios Año 2012\n",
      "per_honorarios Año 2011\n",
      "per_honorarios Año 2010\n",
      "per_honorarios Año 2009\n",
      "per_honorarios Año 2008\n",
      "per_honorarios Año 2007\n",
      "could not get breadcrumbs from http://www.difrol.cl/transparencia/2007/per_honorarios.html\n",
      "per_honorarios Año 2006\n",
      "\n",
      "Agencia de Cooperación Internacional (AGCI)\n"
     ]
    },
    {
     "data": {
      "application/vnd.jupyter.widget-view+json": {
       "model_id": "d4ab8d9f2bb645b8be2b32abbb4619ac",
       "version_major": 2,
       "version_minor": 0
      },
      "text/plain": [
       "A Jupyter Widget"
      ]
     },
     "metadata": {},
     "output_type": "display_data"
    },
    {
     "name": "stdout",
     "output_type": "stream",
     "text": [
      "per_honorarios Dotación a Honorarios Programa UE\n",
      "per_honorarios Dotación a Honorarios Programa Chile-México\n",
      "per_honorarios Dotación a Honorarios Geotermia\n",
      "per_honorarios Dotación a Honorarios Fondo Verde\n",
      "per_honorarios Dotación a Honorarios Fondo Adaptación\n",
      "could not get breadcrumbs from http://www.agci.cl/gobiernotransparente/per_honorarios_ch_fa.html\n",
      "per_honorarios Dotación a Honorarios Banco Mundial\n",
      "could not get breadcrumbs from http://www.agci.cl/gobiernotransparente/per_honorarios_ch_bm.html\n",
      "per_honorarios Dotación a Honorarios AGCI\n",
      "\n",
      "Instituto Antártico Chileno (INACH)\n"
     ]
    },
    {
     "data": {
      "application/vnd.jupyter.widget-view+json": {
       "model_id": "b3fd154c3d494ae695b5a86f559ce8a6",
       "version_major": 2,
       "version_minor": 0
      },
      "text/plain": [
       "A Jupyter Widget"
      ]
     },
     "metadata": {},
     "output_type": "display_data"
    },
    {
     "name": "stdout",
     "output_type": "stream",
     "text": [
      "per_honorarios A�o 2018\n",
      "per_honorarios A�o 2017\n",
      "per_honorarios A�o 2016\n",
      "per_honorarios A�o 2015\n",
      "per_honorarios A�o 2014\n",
      "per_honorarios A�o 2013\n",
      "per_honorarios A�o 2012\n",
      "per_honorarios A�o 2011\n",
      "per_honorarios A�o 2010\n",
      "per_honorarios A�o 2009\n",
      "per_honorarios A�o 2008\n",
      "per_honorarios A�o 2007\n",
      "per_honorarios A�o 2006\n",
      "\n",
      "Ministerio de Defensa Nacional\n",
      "Estado Mayor Conjunto\n"
     ]
    },
    {
     "data": {
      "application/vnd.jupyter.widget-view+json": {
       "model_id": "264de3d1fe9a424eb8b66ae9477b6d85",
       "version_major": 2,
       "version_minor": 0
      },
      "text/plain": [
       "A Jupyter Widget"
      ]
     },
     "metadata": {},
     "output_type": "display_data"
    },
    {
     "name": "stdout",
     "output_type": "stream",
     "text": [
      "per_honorarios Honorarios 2010\n",
      "could not get breadcrumbs from http://www.emc.mil.cl/transparencia/honorarios/Hagosto2010.pdf\n",
      "per_honorarios Honorarios 2018\n",
      "could not get breadcrumbs from http://www.emco.mil.cl/transparencia/honorarios/2018/H18_01.html\n",
      "per_honorarios Honorarios 2017\n",
      "could not get breadcrumbs from http://www.gobiernotransparentechile.cl/directorio/entidad/4/346/per_honorarios/Honorarios%202017/Diciembre%3Cbr%20%2F%3E\n",
      "per_honorarios Honorarios 2016\n",
      "could not get breadcrumbs from http://www.gobiernotransparentechile.cl/directorio/entidad/4/346/per_honorarios/Honorarios%202016/Diciembre%3Cbr%20%2F%3E\n",
      "per_honorarios Honorarios 2015\n",
      "per_honorarios Honorarios 2014\n",
      "per_honorarios Honorarios 2013\n",
      "per_honorarios Honorarios 2012\n",
      "per_honorarios Honorarios 2009\n",
      "per_honorarios Honorarios 2011\n",
      "could not get breadcrumbs from http://www.emco.mil.cl/honorarios/honorariostodos11.html\n",
      "\n",
      "Subsecretaría para las Fuerzas Armadas\n"
     ]
    },
    {
     "data": {
      "application/vnd.jupyter.widget-view+json": {
       "model_id": "132258fccbbc4020ab18d7f58ff681b8",
       "version_major": 2,
       "version_minor": 0
      },
      "text/plain": [
       "A Jupyter Widget"
      ]
     },
     "metadata": {},
     "output_type": "display_data"
    },
    {
     "name": "stdout",
     "output_type": "stream",
     "text": [
      "per_honorarios 2018\n",
      "per_honorarios 2017\n",
      "per_honorarios 2016\n",
      "per_honorarios 2015\n",
      "per_honorarios 2014\n",
      "per_honorarios 2013\n",
      "per_honorarios 2012\n",
      "per_honorarios 2011\n",
      "per_honorarios 2010\n",
      "per_honorarios 2009\n",
      "per_honorarios 2008\n",
      "per_honorarios 2007\n",
      "per_honorarios 2006\n",
      "\n",
      "Subsecretaría de Defensa\n"
     ]
    },
    {
     "data": {
      "application/vnd.jupyter.widget-view+json": {
       "model_id": "687a07ec381a484da77181b55523b497",
       "version_major": 2,
       "version_minor": 0
      },
      "text/plain": [
       "A Jupyter Widget"
      ]
     },
     "metadata": {},
     "output_type": "display_data"
    },
    {
     "name": "stdout",
     "output_type": "stream",
     "text": [
      "per_honorarios 2018\n",
      "per_honorarios 2017\n",
      "per_honorarios 2016\n",
      "per_honorarios 2015\n",
      "per_honorarios 2014\n",
      "per_honorarios 2013\n",
      "per_honorarios 2012\n",
      "per_honorarios 2011\n",
      "\n",
      "Subsecretaría de Carabineros\n",
      "No contract data per_honorarios in http://www.gobiernotransparentechile.cl/directorio/entidad/4/98\n"
     ]
    },
    {
     "name": "stderr",
     "output_type": "stream",
     "text": [
      "Traceback (most recent call last):\n",
      "  File \"./lib/functions.py\", line 109, in getDepartmentData\n",
      "    div_years = browser.find_element_by_class_name(\"linksIntermedios\")\n",
      "  File \"/Users/jaime/anaconda3/lib/python3.6/site-packages/selenium/webdriver/remote/webdriver.py\", line 555, in find_element_by_class_name\n",
      "    return self.find_element(by=By.CLASS_NAME, value=name)\n",
      "  File \"/Users/jaime/anaconda3/lib/python3.6/site-packages/selenium/webdriver/remote/webdriver.py\", line 955, in find_element\n",
      "    'value': value})['value']\n",
      "  File \"/Users/jaime/anaconda3/lib/python3.6/site-packages/selenium/webdriver/remote/webdriver.py\", line 312, in execute\n",
      "    self.error_handler.check_response(response)\n",
      "  File \"/Users/jaime/anaconda3/lib/python3.6/site-packages/selenium/webdriver/remote/errorhandler.py\", line 237, in check_response\n",
      "    raise exception_class(message, screen, stacktrace)\n",
      "selenium.common.exceptions.NoSuchElementException: Message: no such element: Unable to locate element: {\"method\":\"class name\",\"selector\":\"linksIntermedios\"}\n",
      "  (Session info: chrome=65.0.3325.181)\n",
      "  (Driver info: chromedriver=2.35.528157 (4429ca2590d6988c0745c24c8858745aaaec01ef),platform=Mac OS X 10.13.3 x86_64)\n",
      "\n"
     ]
    },
    {
     "data": {
      "application/vnd.jupyter.widget-view+json": {
       "model_id": "a019b5b46fd346d1b87b4c963ed4fe9a",
       "version_major": 2,
       "version_minor": 0
      },
      "text/plain": [
       "A Jupyter Widget"
      ]
     },
     "metadata": {},
     "output_type": "display_data"
    },
    {
     "name": "stdout",
     "output_type": "stream",
     "text": [
      "\n",
      "Subsecretaría de Investigaciones\n"
     ]
    },
    {
     "data": {
      "application/vnd.jupyter.widget-view+json": {
       "model_id": "40daa41e0a0d421480a3ad988895e801",
       "version_major": 2,
       "version_minor": 0
      },
      "text/plain": [
       "A Jupyter Widget"
      ]
     },
     "metadata": {},
     "output_type": "display_data"
    },
    {
     "name": "stdout",
     "output_type": "stream",
     "text": [
      "per_honorarios Año 2010\n",
      "per_honorarios Año 2009\n",
      "per_honorarios Año 2011\n",
      "per_honorarios Año 2008\n",
      "could not get breadcrumbs from http://www.ssi.gov.cl/transparencia/dotacionhonorarios2008.htm\n",
      "per_honorarios Año 2007\n",
      "could not get breadcrumbs from http://www.ssi.gov.cl/transparencia/dotacionhonorarios2007.htm\n",
      "per_honorarios Año 2006\n",
      "could not get breadcrumbs from http://www.ssi.gov.cl/transparencia/dotacionhonorarios2006.htm\n",
      "\n",
      "Ejército de Chile\n"
     ]
    },
    {
     "data": {
      "application/vnd.jupyter.widget-view+json": {
       "model_id": "d27dd25fde064a9890dc19a150469a72",
       "version_major": 2,
       "version_minor": 0
      },
      "text/plain": [
       "A Jupyter Widget"
      ]
     },
     "metadata": {},
     "output_type": "display_data"
    },
    {
     "name": "stdout",
     "output_type": "stream",
     "text": [
      "per_honorarios 2018.\n",
      "could not get breadcrumbs from http://transparencia.ejercito.cl/Personal/2018/Honorarios/BAVE/01/honorariosBAVE.html\n",
      "per_honorarios 2017.\n",
      "could not get breadcrumbs from http://transparencia.ejercito.cl/Personal/2017/Honorarios/BAVE/01/honorariosBAVE.html\n",
      "per_honorarios 2016 (Junio a Diciembre)\n",
      "could not get breadcrumbs from http://transparencia.ejercito.cl/Personal/2016_2/Honorarios/BAVE/06/honorariosBAVE.html\n",
      "per_honorarios 2016.\n",
      "could not get breadcrumbs from http://transparencia.ejercito.cl/Personal/2016/Honorarios/BAVE/01/honorariosBAVE.html\n",
      "per_honorarios 2016 (Enero a Mayo)\n",
      "could not get breadcrumbs from http://transparencia.ejercito.cl/Personal/2016/Honorarios/CGGERM/03/honorariosCGGERM_REP1.html\n",
      "per_honorarios 2015.\n",
      "could not get breadcrumbs from http://transparencia.ejercito.cl/Personal/2015/Honorarios/BAVE/01/honorariosBAVE.html\n",
      "per_honorarios 2014.\n",
      "could not get breadcrumbs from http://transparencia.ejercito.cl/Personal/2014/Honorarios/BAVE/01/honorariosBAVE.html\n",
      "per_honorarios 2013.\n",
      "could not get breadcrumbs from http://transparencia.ejercito.cl/Personal/2013/Honorarios/BAVE/01/honorariosBAVE.html\n",
      "per_honorarios 2012.\n",
      "could not get breadcrumbs from http://transparencia.ejercito.cl/Personal/2012/Honorarios/CEDOC/01/honorariosCEDOC_ACAPOMIL.html\n",
      "per_honorarios 2011.\n",
      "could not get breadcrumbs from http://transparencia.ejercito.cl/Personal/2011/Honorarios/BOE/01/honorariosBOE.html\n",
      "per_honorarios 2010.\n",
      "\n",
      "Armada de Chile\n"
     ]
    },
    {
     "data": {
      "application/vnd.jupyter.widget-view+json": {
       "model_id": "49bf515fbf5d4abba034461aae224910",
       "version_major": 2,
       "version_minor": 0
      },
      "text/plain": [
       "A Jupyter Widget"
      ]
     },
     "metadata": {},
     "output_type": "display_data"
    },
    {
     "name": "stdout",
     "output_type": "stream",
     "text": [
      "per_honorarios Servicio Hidrográfico y Oceanográfico de la Armada\n",
      "per_honorarios Dirección Gral. del Territorio Marítimo y MM.\n",
      "per_honorarios Armada\n",
      "\n",
      "Fuerza Aérea de Chile (FACH)\n"
     ]
    },
    {
     "data": {
      "application/vnd.jupyter.widget-view+json": {
       "model_id": "cc161f47c1e540ffa1e8681f2d5eb2b8",
       "version_major": 2,
       "version_minor": 0
      },
      "text/plain": [
       "A Jupyter Widget"
      ]
     },
     "metadata": {},
     "output_type": "display_data"
    },
    {
     "name": "stdout",
     "output_type": "stream",
     "text": [
      "per_honorarios Año 2018\n",
      "could not get breadcrumbs from http://www.fach.cl/gob_transp/honorarios/directorio_honorarios2018.html\n",
      "per_honorarios Año 2017\n",
      "could not get breadcrumbs from http://www.fach.cl/gob_transp/honorarios/directorio_honorarios2017.html\n",
      "per_honorarios Año 2016\n",
      "could not get breadcrumbs from http://www.fach.cl/gob_transp/honorarios/directorio_honorarios2016.html\n",
      "per_honorarios Año 2015\n",
      "could not get breadcrumbs from http://www.fach.cl/gob_transp/honorarios/directorio_honorarios2015.html\n",
      "per_honorarios Año 2014\n",
      "could not get breadcrumbs from http://www.fach.cl/gob_transp/honorarios/directorio_honorarios2014.html\n",
      "per_honorarios Año 2013\n",
      "could not get breadcrumbs from http://www.fach.cl/gob_transp/honorarios/directorio_honorarios2013.html\n",
      "per_honorarios Año 2012\n",
      "could not get breadcrumbs from http://www.fach.cl/gob_transp/honorarios/directorio_honorarios2012.html\n",
      "per_honorarios Año 2011\n",
      "could not get breadcrumbs from http://www.fach.cl/gob_transp/honorarios/directorio_honorarios2011.html\n",
      "per_honorarios Año 2010\n",
      "could not get breadcrumbs from http://www.fach.cl/gob_transp/honorarios/directorio_honorarios2010.html\n",
      "per_honorarios Año 2009\n",
      "could not get breadcrumbs from http://www.fach.cl/gob_transp/honorarios/directorio_honorarios2009.html\n",
      "\n",
      "Defensa Civil de Chile\n",
      "No contract data per_honorarios in http://www.gobiernotransparentechile.cl/directorio/entidad/4/106\n"
     ]
    },
    {
     "name": "stderr",
     "output_type": "stream",
     "text": [
      "Traceback (most recent call last):\n",
      "  File \"./lib/functions.py\", line 109, in getDepartmentData\n",
      "    div_years = browser.find_element_by_class_name(\"linksIntermedios\")\n",
      "  File \"/Users/jaime/anaconda3/lib/python3.6/site-packages/selenium/webdriver/remote/webdriver.py\", line 555, in find_element_by_class_name\n",
      "    return self.find_element(by=By.CLASS_NAME, value=name)\n",
      "  File \"/Users/jaime/anaconda3/lib/python3.6/site-packages/selenium/webdriver/remote/webdriver.py\", line 955, in find_element\n",
      "    'value': value})['value']\n",
      "  File \"/Users/jaime/anaconda3/lib/python3.6/site-packages/selenium/webdriver/remote/webdriver.py\", line 312, in execute\n",
      "    self.error_handler.check_response(response)\n",
      "  File \"/Users/jaime/anaconda3/lib/python3.6/site-packages/selenium/webdriver/remote/errorhandler.py\", line 237, in check_response\n",
      "    raise exception_class(message, screen, stacktrace)\n",
      "selenium.common.exceptions.NoSuchElementException: Message: no such element: Unable to locate element: {\"method\":\"class name\",\"selector\":\"linksIntermedios\"}\n",
      "  (Session info: chrome=65.0.3325.181)\n",
      "  (Driver info: chromedriver=2.35.528157 (4429ca2590d6988c0745c24c8858745aaaec01ef),platform=Mac OS X 10.13.3 x86_64)\n",
      "\n"
     ]
    },
    {
     "data": {
      "application/vnd.jupyter.widget-view+json": {
       "model_id": "271d3e0f205d4184b9bbdd2a686c2232",
       "version_major": 2,
       "version_minor": 0
      },
      "text/plain": [
       "A Jupyter Widget"
      ]
     },
     "metadata": {},
     "output_type": "display_data"
    },
    {
     "name": "stdout",
     "output_type": "stream",
     "text": [
      "\n",
      "Dirección General de Movilización Nacional (DGMN)\n",
      "No contract data per_honorarios in http://www.gobiernotransparentechile.cl/directorio/entidad/4/107\n"
     ]
    },
    {
     "name": "stderr",
     "output_type": "stream",
     "text": [
      "Traceback (most recent call last):\n",
      "  File \"./lib/functions.py\", line 109, in getDepartmentData\n",
      "    div_years = browser.find_element_by_class_name(\"linksIntermedios\")\n",
      "  File \"/Users/jaime/anaconda3/lib/python3.6/site-packages/selenium/webdriver/remote/webdriver.py\", line 555, in find_element_by_class_name\n",
      "    return self.find_element(by=By.CLASS_NAME, value=name)\n",
      "  File \"/Users/jaime/anaconda3/lib/python3.6/site-packages/selenium/webdriver/remote/webdriver.py\", line 955, in find_element\n",
      "    'value': value})['value']\n",
      "  File \"/Users/jaime/anaconda3/lib/python3.6/site-packages/selenium/webdriver/remote/webdriver.py\", line 312, in execute\n",
      "    self.error_handler.check_response(response)\n",
      "  File \"/Users/jaime/anaconda3/lib/python3.6/site-packages/selenium/webdriver/remote/errorhandler.py\", line 237, in check_response\n",
      "    raise exception_class(message, screen, stacktrace)\n",
      "selenium.common.exceptions.NoSuchElementException: Message: no such element: Unable to locate element: {\"method\":\"class name\",\"selector\":\"linksIntermedios\"}\n",
      "  (Session info: chrome=65.0.3325.181)\n",
      "  (Driver info: chromedriver=2.35.528157 (4429ca2590d6988c0745c24c8858745aaaec01ef),platform=Mac OS X 10.13.3 x86_64)\n",
      "\n"
     ]
    },
    {
     "data": {
      "application/vnd.jupyter.widget-view+json": {
       "model_id": "ffc251d509e243928e6800edddffd0cf",
       "version_major": 2,
       "version_minor": 0
      },
      "text/plain": [
       "A Jupyter Widget"
      ]
     },
     "metadata": {},
     "output_type": "display_data"
    },
    {
     "name": "stdout",
     "output_type": "stream",
     "text": [
      "\n",
      "Dirección General del Territorio Marítimo y Marina Mercante (DIRECTEMAR)\n"
     ]
    },
    {
     "data": {
      "application/vnd.jupyter.widget-view+json": {
       "model_id": "658863619e234ce3a440758ec8ffa352",
       "version_major": 2,
       "version_minor": 0
      },
      "text/plain": [
       "A Jupyter Widget"
      ]
     },
     "metadata": {},
     "output_type": "display_data"
    },
    {
     "name": "stdout",
     "output_type": "stream",
     "text": [
      "per_honorarios Servicio Hidrográfico y Oceanográfico de la Armada\n",
      "per_honorarios Dirección Gral. del Territorio Marítimo y MM.\n",
      "per_honorarios Armada\n",
      "\n",
      "Caja de Previsión de la Defensa Nacional (CAPREDENA)\n"
     ]
    },
    {
     "data": {
      "application/vnd.jupyter.widget-view+json": {
       "model_id": "7c30b59967024fc4a113db07bd5d2bfb",
       "version_major": 2,
       "version_minor": 0
      },
      "text/plain": [
       "A Jupyter Widget"
      ]
     },
     "metadata": {},
     "output_type": "display_data"
    },
    {
     "name": "stdout",
     "output_type": "stream",
     "text": [
      "per_honorarios Año 2018\n",
      "could not get breadcrumbs from http://www.capredena.cl/transparencia/2018/personalhonorarios/enero/per_honorarios.html\n",
      "per_honorarios Año 2017\n",
      "could not get breadcrumbs from http://www.capredena.cl/transparencia/2017/personalhonorarios/agosto/per_honorarios.html\n",
      "per_honorarios Año 2016\n",
      "per_honorarios Año 2015\n",
      "per_honorarios Año 2014\n",
      "per_honorarios Año 2013\n",
      "per_honorarios Año 2012\n",
      "could not get breadcrumbs from http://www.capredena.cl/transparencia/2012/per_honorarios.html\n",
      "per_honorarios Año 2011\n",
      "per_honorarios Año 2010\n",
      "per_honorarios Año 2009\n",
      "could not get breadcrumbs from http://www.capredena.cl/transparencia/2009/per_honorarios.html\n",
      "per_honorarios Año 2008\n",
      "could not get breadcrumbs from http://www.capredena.cl/transparencia/2008/per_honorarios.html\n",
      "per_honorarios Año 2007\n",
      "could not get breadcrumbs from http://www.capredena.cl/transparencia/2007/per_honorarios.html\n",
      "per_honorarios Año 2006\n",
      "\n",
      "Instituto Geográfico Militar (IGM)\n"
     ]
    },
    {
     "data": {
      "application/vnd.jupyter.widget-view+json": {
       "model_id": "0664e84a1e2242d794c53957b4943bc5",
       "version_major": 2,
       "version_minor": 0
      },
      "text/plain": [
       "A Jupyter Widget"
      ]
     },
     "metadata": {},
     "output_type": "display_data"
    },
    {
     "name": "stdout",
     "output_type": "stream",
     "text": [
      "per_honorarios 2018.\n",
      "could not get breadcrumbs from http://transparencia.ejercito.cl/Personal/2018/Honorarios/BAVE/01/honorariosBAVE.html\n",
      "per_honorarios 2017.\n",
      "could not get breadcrumbs from http://transparencia.ejercito.cl/Personal/2017/Honorarios/BAVE/01/honorariosBAVE.html\n",
      "per_honorarios 2016 (Junio a Diciembre)\n",
      "could not get breadcrumbs from http://transparencia.ejercito.cl/Personal/2016_2/Honorarios/BAVE/06/honorariosBAVE.html\n",
      "per_honorarios 2016 (Enero a Mayo)\n",
      "could not get breadcrumbs from http://transparencia.ejercito.cl/Personal/2016/Honorarios/BAVE/01/honorariosBAVE.html\n",
      "per_honorarios 2015.\n",
      "could not get breadcrumbs from http://transparencia.ejercito.cl/Personal/2015/Honorarios/BAVE/01/honorariosBAVE.html\n",
      "per_honorarios 2014.\n",
      "could not get breadcrumbs from http://transparencia.ejercito.cl/Personal/2014/Honorarios/BAVE/01/honorariosBAVE.html\n",
      "per_honorarios 2013.\n",
      "could not get breadcrumbs from http://transparencia.ejercito.cl/Personal/2013/Honorarios/BAVE/01/honorariosBAVE.html\n",
      "per_honorarios 2012.\n",
      "could not get breadcrumbs from http://transparencia.ejercito.cl/Personal/2012/Honorarios/CEDOC/01/honorariosCEDOC_ACAPOMIL.html\n",
      "per_honorarios 2011.\n",
      "per_honorarios 2010.\n",
      "\n",
      "Servicio Aerofotogramétrico FACH\n"
     ]
    },
    {
     "data": {
      "application/vnd.jupyter.widget-view+json": {
       "model_id": "98c474fbc7bd4b36a7d92ac0d8489e86",
       "version_major": 2,
       "version_minor": 0
      },
      "text/plain": [
       "A Jupyter Widget"
      ]
     },
     "metadata": {},
     "output_type": "display_data"
    },
    {
     "name": "stdout",
     "output_type": "stream",
     "text": [
      "per_honorarios Año 2018\n",
      "could not get breadcrumbs from http://www.fach.cl/gob_transp/honorarios/directorio_honorarios2018.html\n",
      "per_honorarios Año 2017\n",
      "could not get breadcrumbs from http://www.fach.cl/gob_transp/honorarios/directorio_honorarios2017.html\n",
      "per_honorarios Año 2016\n",
      "could not get breadcrumbs from http://www.fach.cl/gob_transp/honorarios/directorio_honorarios2016.html\n",
      "per_honorarios Año 2015\n",
      "could not get breadcrumbs from http://www.fach.cl/gob_transp/honorarios/directorio_honorarios2015.html\n",
      "per_honorarios Año 2014\n",
      "could not get breadcrumbs from http://www.fach.cl/gob_transp/honorarios/directorio_honorarios2014.html\n",
      "per_honorarios Año 2013\n",
      "could not get breadcrumbs from http://www.fach.cl/gob_transp/honorarios/directorio_honorarios2013.html\n",
      "per_honorarios Año 2012\n",
      "could not get breadcrumbs from http://www.fach.cl/gob_transp/honorarios/directorio_honorarios2012.html\n",
      "per_honorarios Año 2011\n",
      "could not get breadcrumbs from http://www.fach.cl/gob_transp/honorarios/directorio_honorarios2011.html\n",
      "per_honorarios Año 2010\n",
      "could not get breadcrumbs from http://www.fach.cl/gob_transp/honorarios/directorio_honorarios2010.html\n",
      "per_honorarios Año 2009\n",
      "could not get breadcrumbs from http://www.fach.cl/gob_transp/honorarios/directorio_honorarios2009.html\n",
      "\n",
      "Servicio Hidrográfico y Oceanográfico de la Armada\n"
     ]
    },
    {
     "data": {
      "application/vnd.jupyter.widget-view+json": {
       "model_id": "76f9ac3d8f46436192bcb7b037641e70",
       "version_major": 2,
       "version_minor": 0
      },
      "text/plain": [
       "A Jupyter Widget"
      ]
     },
     "metadata": {},
     "output_type": "display_data"
    },
    {
     "name": "stdout",
     "output_type": "stream",
     "text": [
      "per_honorarios Servicio Hidrográfico y Oceanográfico de la Armada\n",
      "per_honorarios Dirección Gral. del Territorio Marítimo y MM.\n",
      "per_honorarios Armada\n",
      "\n",
      "Dirección General de Aeronáutica Civil (DGAC)\n",
      "No contract data per_honorarios in http://www.gobiernotransparentechile.cl/directorio/entidad/4/114\n"
     ]
    },
    {
     "name": "stderr",
     "output_type": "stream",
     "text": [
      "Traceback (most recent call last):\n",
      "  File \"./lib/functions.py\", line 109, in getDepartmentData\n",
      "    div_years = browser.find_element_by_class_name(\"linksIntermedios\")\n",
      "  File \"/Users/jaime/anaconda3/lib/python3.6/site-packages/selenium/webdriver/remote/webdriver.py\", line 555, in find_element_by_class_name\n",
      "    return self.find_element(by=By.CLASS_NAME, value=name)\n",
      "  File \"/Users/jaime/anaconda3/lib/python3.6/site-packages/selenium/webdriver/remote/webdriver.py\", line 955, in find_element\n",
      "    'value': value})['value']\n",
      "  File \"/Users/jaime/anaconda3/lib/python3.6/site-packages/selenium/webdriver/remote/webdriver.py\", line 312, in execute\n",
      "    self.error_handler.check_response(response)\n",
      "  File \"/Users/jaime/anaconda3/lib/python3.6/site-packages/selenium/webdriver/remote/errorhandler.py\", line 237, in check_response\n",
      "    raise exception_class(message, screen, stacktrace)\n",
      "selenium.common.exceptions.NoSuchElementException: Message: no such element: Unable to locate element: {\"method\":\"class name\",\"selector\":\"linksIntermedios\"}\n",
      "  (Session info: chrome=65.0.3325.181)\n",
      "  (Driver info: chromedriver=2.35.528157 (4429ca2590d6988c0745c24c8858745aaaec01ef),platform=Mac OS X 10.13.3 x86_64)\n",
      "\n"
     ]
    },
    {
     "data": {
      "application/vnd.jupyter.widget-view+json": {
       "model_id": "8fade8821435416598a5ff31fd972b9f",
       "version_major": 2,
       "version_minor": 0
      },
      "text/plain": [
       "A Jupyter Widget"
      ]
     },
     "metadata": {},
     "output_type": "display_data"
    },
    {
     "name": "stdout",
     "output_type": "stream",
     "text": [
      "\n",
      "Ministerio de Hacienda\n",
      "Subsecretaría de Hacienda\n"
     ]
    },
    {
     "data": {
      "application/vnd.jupyter.widget-view+json": {
       "model_id": "4d2464ebad97449d9d8ac9e49ff34fb6",
       "version_major": 2,
       "version_minor": 0
      },
      "text/plain": [
       "A Jupyter Widget"
      ]
     },
     "metadata": {},
     "output_type": "display_data"
    },
    {
     "name": "stdout",
     "output_type": "stream",
     "text": [
      "per_honorarios Año 2017\n",
      "per_honorarios Año 2016\n",
      "per_honorarios Año 2015\n",
      "per_honorarios Año 2014\n",
      "per_honorarios Año 2013\n",
      "per_honorarios Año 2012\n",
      "per_honorarios Año 2011\n",
      "per_honorarios Año 2010\n",
      "per_honorarios Año 2009\n",
      "per_honorarios Año 2008\n",
      "per_honorarios Año 2007\n",
      "per_honorarios Año 2006\n",
      "\n",
      "Dirección de Presupuestos (DIPRES)\n"
     ]
    },
    {
     "data": {
      "application/vnd.jupyter.widget-view+json": {
       "model_id": "c6cd5987cda2412dbe7ac94c522b6fdd",
       "version_major": 2,
       "version_minor": 0
      },
      "text/plain": [
       "A Jupyter Widget"
      ]
     },
     "metadata": {},
     "output_type": "display_data"
    },
    {
     "name": "stdout",
     "output_type": "stream",
     "text": [
      "per_honorarios Hist�rico\n",
      "per_honorarios Otros Honorarios Ocasionales\n",
      "per_honorarios Evaluadores de Programas e Instituciones del sector p�blico\n",
      "per_honorarios Programa 01: Direcci�n de Presupuestos\n",
      "\n",
      "Tesorería General de la República\n"
     ]
    },
    {
     "data": {
      "application/vnd.jupyter.widget-view+json": {
       "model_id": "8756cf236fd04d6c94dfc68276aa78b3",
       "version_major": 2,
       "version_minor": 0
      },
      "text/plain": [
       "A Jupyter Widget"
      ]
     },
     "metadata": {},
     "output_type": "display_data"
    },
    {
     "name": "stdout",
     "output_type": "stream",
     "text": [
      "per_honorarios Año 2013\n",
      "could not get breadcrumbs from https://www.tesoreria.cl/LeyTransparencia/dotacionPersonal/honorarios.do?tipo=honorarios&pag=1&historico=201312\n",
      "per_honorarios Año 2012\n",
      "per_honorarios Año 2011\n",
      "per_honorarios Año 2010\n",
      "per_honorarios Año 2009\n",
      "per_honorarios Año 2017\n",
      "per_honorarios Año 2016\n",
      "per_honorarios Año 2015\n",
      "per_honorarios Año 2014\n",
      "per_honorarios Año 2008\n",
      "per_honorarios Año 2007\n",
      "per_honorarios Año 2006\n",
      "\n",
      "Dirección Nacional del Servicio Civil\n"
     ]
    },
    {
     "data": {
      "application/vnd.jupyter.widget-view+json": {
       "model_id": "d28d0f578ad64d2c9da70ff8055c9c1d",
       "version_major": 2,
       "version_minor": 0
      },
      "text/plain": [
       "A Jupyter Widget"
      ]
     },
     "metadata": {},
     "output_type": "display_data"
    },
    {
     "name": "stdout",
     "output_type": "stream",
     "text": [
      "per_honorarios Año 2015\n",
      "per_honorarios Año 2014\n",
      "could not get breadcrumbs from http://www.serviciocivil.gob.cl/transparencia/honorarios_2014.html\n",
      "per_honorarios Año 2013\n",
      "could not get breadcrumbs from http://www.serviciocivil.gob.cl/transparencia/honorarios_2013.html\n",
      "per_honorarios Año 2012\n",
      "per_honorarios Año 2016\n",
      "could not get breadcrumbs from http://www.serviciocivil.gob.cl/transparencia/honorarios_2016.html\n",
      "per_honorarios Año 2011\n",
      "per_honorarios Año 2010\n",
      "per_honorarios Año 2009\n",
      "per_honorarios Año 2008\n",
      "could not get breadcrumbs from http://www.serviciocivil.gob.cl/transparencia/honorarios_2008.html\n",
      "per_honorarios Año 2007\n",
      "could not get breadcrumbs from http://www.serviciocivil.gob.cl/transparencia/honorarios_2007.html\n",
      "per_honorarios Año 2006\n",
      "\n",
      "Unidad de Análisis Financiero (UAF)\n"
     ]
    },
    {
     "data": {
      "application/vnd.jupyter.widget-view+json": {
       "model_id": "8cbc840319564727abf0f503dfba8ed7",
       "version_major": 2,
       "version_minor": 0
      },
      "text/plain": [
       "A Jupyter Widget"
      ]
     },
     "metadata": {},
     "output_type": "display_data"
    },
    {
     "name": "stdout",
     "output_type": "stream",
     "text": [
      "per_honorarios Año 2017\n",
      "per_honorarios Año 2016\n",
      "per_honorarios Año 2015\n",
      "per_honorarios Año 2014\n",
      "per_honorarios Año 2013\n",
      "per_honorarios Año 2012\n",
      "per_honorarios Año 2011\n",
      "could not get breadcrumbs from http://www.uaf.cl/transparencia/2011/per_honorarios.html\n",
      "per_honorarios Año 2010\n",
      "per_honorarios Año 2009\n",
      "per_honorarios Año 2008\n",
      "could not get breadcrumbs from http://www.uaf.cl/transparencia/2008/per_honorarios.html\n",
      "per_honorarios Año 2007\n",
      "per_honorarios Año 2006\n",
      "\n",
      "Servicio de Impuestos Internos (SII)\n"
     ]
    },
    {
     "data": {
      "application/vnd.jupyter.widget-view+json": {
       "model_id": "75c325dc5ed943c196c724e4002974d8",
       "version_major": 2,
       "version_minor": 0
      },
      "text/plain": [
       "A Jupyter Widget"
      ]
     },
     "metadata": {},
     "output_type": "display_data"
    },
    {
     "name": "stdout",
     "output_type": "stream",
     "text": [
      "per_honorarios Año 2008\n",
      "could not get breadcrumbs from http://www.sii.cl/transparencia/honorarios2008.html\n",
      "per_honorarios Año 2007\n",
      "could not get breadcrumbs from http://www.sii.cl/transparencia/honorarios2007.html\n",
      "per_honorarios Año 2006\n",
      "could not get breadcrumbs from http://www.sii.cl/transparencia/honorarios2006.html\n",
      "per_honorarios Año 2016\n",
      "could not get breadcrumbs from http://www.sii.cl/transparencia/2016/per_honorarios_abr.html\n",
      "per_honorarios Año 2015\n",
      "could not get breadcrumbs from http://www.sii.cl/transparencia/2015/per_honorarios_abr.html\n",
      "per_honorarios Año 2014\n",
      "could not get breadcrumbs from http://www.sii.cl/transparencia/2014/per_honorarios_abr.html\n",
      "per_honorarios Año 2013\n",
      "could not get breadcrumbs from http://www.sii.cl/transparencia/2013/per_honorarios_abr.html\n",
      "per_honorarios Año 2012\n",
      "could not get breadcrumbs from http://www.sii.cl/transparencia/2012/per_honorarios_abr.html\n",
      "per_honorarios Año 2011\n",
      "could not get breadcrumbs from http://www.sii.cl/transparencia/2011/per_honorarios_abr.html\n",
      "per_honorarios Año 2010\n",
      "could not get breadcrumbs from http://www.sii.cl/transparencia/2010/per_honorarios_abr.html\n",
      "per_honorarios Año 2009\n",
      "could not get breadcrumbs from http://www.sii.cl/transparencia/2009/per_honorarios.html\n",
      "\n",
      "Servicio Nacional de Aduanas\n"
     ]
    },
    {
     "data": {
      "application/vnd.jupyter.widget-view+json": {
       "model_id": "6bff2ab484d445f5bbfa0298dec49798",
       "version_major": 2,
       "version_minor": 0
      },
      "text/plain": [
       "A Jupyter Widget"
      ]
     },
     "metadata": {},
     "output_type": "display_data"
    },
    {
     "name": "stdout",
     "output_type": "stream",
     "text": [
      "per_honorarios Año 2017\n",
      "per_honorarios Año 2016\n",
      "per_honorarios Año 2015\n",
      "per_honorarios Año 2014\n",
      "per_honorarios Año 2013\n",
      "per_honorarios Año 2012\n",
      "per_honorarios Año 2011\n",
      "per_honorarios Año 2010\n",
      "per_honorarios Año 2009\n",
      "per_honorarios Año 2008\n",
      "per_honorarios Año 2007\n",
      "per_honorarios Año 2006\n",
      "\n",
      "Superintendencia de Bancos e Instituciones Financieras (SBIF)\n",
      "No contract data per_honorarios in http://www.gobiernotransparentechile.cl/directorio/entidad/5/122\n"
     ]
    },
    {
     "name": "stderr",
     "output_type": "stream",
     "text": [
      "Traceback (most recent call last):\n",
      "  File \"./lib/functions.py\", line 109, in getDepartmentData\n",
      "    div_years = browser.find_element_by_class_name(\"linksIntermedios\")\n",
      "  File \"/Users/jaime/anaconda3/lib/python3.6/site-packages/selenium/webdriver/remote/webdriver.py\", line 555, in find_element_by_class_name\n",
      "    return self.find_element(by=By.CLASS_NAME, value=name)\n",
      "  File \"/Users/jaime/anaconda3/lib/python3.6/site-packages/selenium/webdriver/remote/webdriver.py\", line 955, in find_element\n",
      "    'value': value})['value']\n",
      "  File \"/Users/jaime/anaconda3/lib/python3.6/site-packages/selenium/webdriver/remote/webdriver.py\", line 312, in execute\n",
      "    self.error_handler.check_response(response)\n",
      "  File \"/Users/jaime/anaconda3/lib/python3.6/site-packages/selenium/webdriver/remote/errorhandler.py\", line 237, in check_response\n",
      "    raise exception_class(message, screen, stacktrace)\n",
      "selenium.common.exceptions.NoSuchElementException: Message: no such element: Unable to locate element: {\"method\":\"class name\",\"selector\":\"linksIntermedios\"}\n",
      "  (Session info: chrome=65.0.3325.181)\n",
      "  (Driver info: chromedriver=2.35.528157 (4429ca2590d6988c0745c24c8858745aaaec01ef),platform=Mac OS X 10.13.3 x86_64)\n",
      "\n"
     ]
    },
    {
     "data": {
      "application/vnd.jupyter.widget-view+json": {
       "model_id": "84152767c1b740d69fdf9fa74d4d46ab",
       "version_major": 2,
       "version_minor": 0
      },
      "text/plain": [
       "A Jupyter Widget"
      ]
     },
     "metadata": {},
     "output_type": "display_data"
    },
    {
     "name": "stdout",
     "output_type": "stream",
     "text": [
      "\n",
      "Superintendencia de Valores y Seguros (SVS)\n"
     ]
    },
    {
     "data": {
      "application/vnd.jupyter.widget-view+json": {
       "model_id": "0609b509982c4d169705b29618c12911",
       "version_major": 2,
       "version_minor": 0
      },
      "text/plain": [
       "A Jupyter Widget"
      ]
     },
     "metadata": {},
     "output_type": "display_data"
    },
    {
     "name": "stdout",
     "output_type": "stream",
     "text": [
      "per_honorarios Año 2018\n",
      "could not get breadcrumbs from http://www.svs.cl/transparencia/2018/per_honorarios.html\n",
      "per_honorarios Año 2017\n",
      "per_honorarios Año 2016\n",
      "per_honorarios Año 2015\n",
      "could not get breadcrumbs from http://www.svs.cl/transparencia/2015/per_honorarios.html\n",
      "per_honorarios Año 2014\n",
      "per_honorarios Año 2013\n",
      "per_honorarios Año 2012\n",
      "could not get breadcrumbs from http://www.svs.cl/transparencia/2012/per_honorarios.html\n",
      "per_honorarios Año 2011\n",
      "could not get breadcrumbs from http://www.svs.cl/transparencia/2011/per_honorarios.html\n",
      "per_honorarios Año 2010\n",
      "per_honorarios Año 2009\n",
      "per_honorarios Año 2008\n",
      "per_honorarios Año 2007\n",
      "per_honorarios Año 2006\n",
      "\n",
      "Dirección de Compras y Contratación Pública (Chilecompra)\n",
      "No contract data per_honorarios in http://www.gobiernotransparentechile.cl/directorio/entidad/5/124\n"
     ]
    },
    {
     "name": "stderr",
     "output_type": "stream",
     "text": [
      "Traceback (most recent call last):\n",
      "  File \"./lib/functions.py\", line 109, in getDepartmentData\n",
      "    div_years = browser.find_element_by_class_name(\"linksIntermedios\")\n",
      "  File \"/Users/jaime/anaconda3/lib/python3.6/site-packages/selenium/webdriver/remote/webdriver.py\", line 555, in find_element_by_class_name\n",
      "    return self.find_element(by=By.CLASS_NAME, value=name)\n",
      "  File \"/Users/jaime/anaconda3/lib/python3.6/site-packages/selenium/webdriver/remote/webdriver.py\", line 955, in find_element\n",
      "    'value': value})['value']\n",
      "  File \"/Users/jaime/anaconda3/lib/python3.6/site-packages/selenium/webdriver/remote/webdriver.py\", line 312, in execute\n",
      "    self.error_handler.check_response(response)\n",
      "  File \"/Users/jaime/anaconda3/lib/python3.6/site-packages/selenium/webdriver/remote/errorhandler.py\", line 237, in check_response\n",
      "    raise exception_class(message, screen, stacktrace)\n",
      "selenium.common.exceptions.NoSuchElementException: Message: no such element: Unable to locate element: {\"method\":\"class name\",\"selector\":\"linksIntermedios\"}\n",
      "  (Session info: chrome=65.0.3325.181)\n",
      "  (Driver info: chromedriver=2.35.528157 (4429ca2590d6988c0745c24c8858745aaaec01ef),platform=Mac OS X 10.13.3 x86_64)\n",
      "\n"
     ]
    },
    {
     "data": {
      "application/vnd.jupyter.widget-view+json": {
       "model_id": "4498687fb30e40859559ceea67d1683a",
       "version_major": 2,
       "version_minor": 0
      },
      "text/plain": [
       "A Jupyter Widget"
      ]
     },
     "metadata": {},
     "output_type": "display_data"
    },
    {
     "name": "stdout",
     "output_type": "stream",
     "text": [
      "\n",
      "Superintendencia de Casinos de Juego (SCJ)\n"
     ]
    },
    {
     "data": {
      "application/vnd.jupyter.widget-view+json": {
       "model_id": "0e956dd8bc284e458f30464e5f4add76",
       "version_major": 2,
       "version_minor": 0
      },
      "text/plain": [
       "A Jupyter Widget"
      ]
     },
     "metadata": {},
     "output_type": "display_data"
    },
    {
     "name": "stdout",
     "output_type": "stream",
     "text": [
      "per_honorarios Año 2017\n",
      "per_honorarios Año 2016\n",
      "per_honorarios Año 2015\n",
      "per_honorarios Año 2014\n",
      "per_honorarios Año 2013\n",
      "per_honorarios Año 2012\n",
      "per_honorarios Año 2011\n",
      "per_honorarios Año 2010\n",
      "per_honorarios Año 2009\n",
      "per_honorarios Año 2008\n",
      "per_honorarios Año 2007\n",
      "per_honorarios Año 2006\n",
      "\n",
      "Ministerio Secretaría General de la Presidencia\n",
      "Subsecretaría General de la Presidencia\n"
     ]
    },
    {
     "data": {
      "application/vnd.jupyter.widget-view+json": {
       "model_id": "74c39ad91b284c6b96567290fae29b8c",
       "version_major": 2,
       "version_minor": 0
      },
      "text/plain": [
       "A Jupyter Widget"
      ]
     },
     "metadata": {},
     "output_type": "display_data"
    },
    {
     "name": "stdout",
     "output_type": "stream",
     "text": [
      "per_honorarios Año 2017\n",
      "per_honorarios Año 2016\n",
      "per_honorarios Año 2015\n",
      "per_honorarios Año 2014\n",
      "per_honorarios Año 2013\n",
      "per_honorarios Año 2012\n",
      "per_honorarios Año 2011\n",
      "per_honorarios Año 2010\n",
      "per_honorarios Año 2009\n",
      "per_honorarios Año 2008\n",
      "per_honorarios Año 2007\n",
      "per_honorarios Año 2006\n",
      "\n",
      "Ministerio Secretaría General de Gobierno\n",
      "Subsecretaría General de Gobierno\n"
     ]
    },
    {
     "data": {
      "application/vnd.jupyter.widget-view+json": {
       "model_id": "1ec1d588b41545ecabfddd9adb1bc6c9",
       "version_major": 2,
       "version_minor": 0
      },
      "text/plain": [
       "A Jupyter Widget"
      ]
     },
     "metadata": {},
     "output_type": "display_data"
    },
    {
     "name": "stdout",
     "output_type": "stream",
     "text": [
      "per_honorarios Año 2018\n",
      "per_honorarios Año 2017\n",
      "per_honorarios Año 2016\n",
      "per_honorarios Año 2015\n",
      "per_honorarios Año 2014\n",
      "per_honorarios Año 2013\n",
      "per_honorarios Año 2012\n",
      "per_honorarios Año 2011\n",
      "per_honorarios Año 2010\n",
      "per_honorarios Año 2009\n",
      "per_honorarios Año 2008\n",
      "per_honorarios Año 2007\n",
      "per_honorarios Año 2006\n",
      "\n",
      "Ministerio de Economía, Fomento y Turismo\n",
      "Subsecretaría de Economía\n"
     ]
    },
    {
     "data": {
      "application/vnd.jupyter.widget-view+json": {
       "model_id": "4203b0f9fa1f4e8c87444e185acdbf00",
       "version_major": 2,
       "version_minor": 0
      },
      "text/plain": [
       "A Jupyter Widget"
      ]
     },
     "metadata": {},
     "output_type": "display_data"
    },
    {
     "name": "stdout",
     "output_type": "stream",
     "text": [
      "per_honorarios Año 2018\n",
      "could not get breadcrumbs from http://www.economia.cl/transparencia/2018/Personal/Honorarios/per_honorarios_012018.html\n",
      "per_honorarios Año 2017\n",
      "per_honorarios Año 2016\n",
      "per_honorarios Año 2015\n",
      "per_honorarios Año 2014\n",
      "could not get breadcrumbs from http://www.economia.cl/transparencia/2014/per_honorarios.html\n",
      "per_honorarios Año 2013\n",
      "could not get breadcrumbs from http://www.economia.cl/transparencia/2013/per_honorarios.html\n",
      "per_honorarios Año 2012\n",
      "per_honorarios Año 2011\n",
      "per_honorarios Año 2010\n",
      "could not get breadcrumbs from http://www.economia.cl/transparencia/2010/per_honorarios.html\n",
      "per_honorarios Año 2009\n",
      "per_honorarios Año 2008\n",
      "per_honorarios Año 2007\n",
      "per_honorarios Año 2006\n",
      "\n",
      "Subsecretaría de Turismo\n"
     ]
    },
    {
     "data": {
      "application/vnd.jupyter.widget-view+json": {
       "model_id": "693331643c6640ec89b5f390493794b6",
       "version_major": 2,
       "version_minor": 0
      },
      "text/plain": [
       "A Jupyter Widget"
      ]
     },
     "metadata": {},
     "output_type": "display_data"
    },
    {
     "name": "stdout",
     "output_type": "stream",
     "text": [
      "per_honorarios Año 2018\n",
      "per_honorarios Año 2017\n",
      "could not get breadcrumbs from http://www.economia.cl/transparencia/turismo/2017/per_honorarios.html\n",
      "per_honorarios Año 2016\n",
      "could not get breadcrumbs from http://www.economia.cl/transparencia/turismo/2016/per_honorarios.html\n",
      "per_honorarios Año 2015\n",
      "could not get breadcrumbs from http://www.economia.cl/transparencia/turismo/2015/per_honorarios.html\n",
      "per_honorarios Año 2014\n",
      "per_honorarios Año 2013\n",
      "could not get breadcrumbs from http://www.economia.cl/transparencia/turismo/2013/per_honorarios.html\n",
      "per_honorarios Año 2012\n",
      "per_honorarios Año 2011\n",
      "\n",
      "Subsecretaría de Pesca\n"
     ]
    },
    {
     "data": {
      "application/vnd.jupyter.widget-view+json": {
       "model_id": "ff878578088f4cc6a4e166fabcd1b272",
       "version_major": 2,
       "version_minor": 0
      },
      "text/plain": [
       "A Jupyter Widget"
      ]
     },
     "metadata": {},
     "output_type": "display_data"
    },
    {
     "name": "stdout",
     "output_type": "stream",
     "text": [
      "per_honorarios Año 2018\n",
      "per_honorarios Año 2017\n",
      "per_honorarios Año 2016\n",
      "per_honorarios Año 2015\n",
      "per_honorarios Año 2014\n",
      "per_honorarios Año 2013\n",
      "per_honorarios Año 2012\n",
      "per_honorarios Año 2011\n",
      "per_honorarios Año 2010\n",
      "per_honorarios Año 2009\n",
      "per_honorarios Año 2008\n",
      "per_honorarios Año 2007\n",
      "per_honorarios Año 2006\n",
      "\n",
      "Comité de Inversiones Extranjeras\n"
     ]
    },
    {
     "data": {
      "application/vnd.jupyter.widget-view+json": {
       "model_id": "bdf33933cc4149f4ad07f0caff39477e",
       "version_major": 2,
       "version_minor": 0
      },
      "text/plain": [
       "A Jupyter Widget"
      ]
     },
     "metadata": {},
     "output_type": "display_data"
    },
    {
     "name": "stdout",
     "output_type": "stream",
     "text": [
      "per_honorarios Año 2018\n",
      "per_honorarios Año 2017\n",
      "per_honorarios Año 2016\n",
      "per_honorarios Año 2015\n",
      "per_honorarios Año 2014\n",
      "per_honorarios Año 2013\n",
      "per_honorarios Año 2012\n",
      "per_honorarios Año 2011\n",
      "per_honorarios Año 2010\n",
      "per_honorarios Año 2009\n",
      "per_honorarios Año 2008\n",
      "per_honorarios Año 2007\n",
      "per_honorarios Año 2006\n",
      "\n",
      "Corporación de Fomento para la Producción (CORFO)\n",
      "No contract data per_honorarios in http://www.gobiernotransparentechile.cl/directorio/entidad/8/133\n"
     ]
    },
    {
     "name": "stderr",
     "output_type": "stream",
     "text": [
      "Traceback (most recent call last):\n",
      "  File \"./lib/functions.py\", line 109, in getDepartmentData\n",
      "    div_years = browser.find_element_by_class_name(\"linksIntermedios\")\n",
      "  File \"/Users/jaime/anaconda3/lib/python3.6/site-packages/selenium/webdriver/remote/webdriver.py\", line 555, in find_element_by_class_name\n",
      "    return self.find_element(by=By.CLASS_NAME, value=name)\n",
      "  File \"/Users/jaime/anaconda3/lib/python3.6/site-packages/selenium/webdriver/remote/webdriver.py\", line 955, in find_element\n",
      "    'value': value})['value']\n",
      "  File \"/Users/jaime/anaconda3/lib/python3.6/site-packages/selenium/webdriver/remote/webdriver.py\", line 312, in execute\n",
      "    self.error_handler.check_response(response)\n",
      "  File \"/Users/jaime/anaconda3/lib/python3.6/site-packages/selenium/webdriver/remote/errorhandler.py\", line 237, in check_response\n",
      "    raise exception_class(message, screen, stacktrace)\n",
      "selenium.common.exceptions.NoSuchElementException: Message: no such element: Unable to locate element: {\"method\":\"class name\",\"selector\":\"linksIntermedios\"}\n",
      "  (Session info: chrome=65.0.3325.181)\n",
      "  (Driver info: chromedriver=2.35.528157 (4429ca2590d6988c0745c24c8858745aaaec01ef),platform=Mac OS X 10.13.3 x86_64)\n",
      "\n"
     ]
    },
    {
     "data": {
      "application/vnd.jupyter.widget-view+json": {
       "model_id": "59799721960e4052830867577870b442",
       "version_major": 2,
       "version_minor": 0
      },
      "text/plain": [
       "A Jupyter Widget"
      ]
     },
     "metadata": {},
     "output_type": "display_data"
    },
    {
     "name": "stdout",
     "output_type": "stream",
     "text": [
      "\n",
      "Fiscalía Nacional Económica (FNE)\n"
     ]
    },
    {
     "data": {
      "application/vnd.jupyter.widget-view+json": {
       "model_id": "80f8a06e6cfd423389d54d443dd6550f",
       "version_major": 2,
       "version_minor": 0
      },
      "text/plain": [
       "A Jupyter Widget"
      ]
     },
     "metadata": {},
     "output_type": "display_data"
    },
    {
     "name": "stdout",
     "output_type": "stream",
     "text": [
      "per_honorarios Año 2018\n",
      "per_honorarios Año 2017\n",
      "per_honorarios Año 2016\n",
      "per_honorarios Año 2015\n",
      "per_honorarios Año 2014\n",
      "could not get breadcrumbs from http://www.fne.gob.cl/transparencia/2014/per_honorarios.html\n",
      "per_honorarios Año 2013\n",
      "per_honorarios Año 2012\n",
      "per_honorarios Año 2011\n",
      "per_honorarios Año 2010\n",
      "could not get breadcrumbs from http://www.fne.gob.cl/transparencia/2010/per_honorarios.html\n",
      "per_honorarios Año 2009\n",
      "per_honorarios Año 2008\n",
      "per_honorarios Año 2007\n",
      "could not get breadcrumbs from http://www.fne.gob.cl/transparencia/2007/per_honorarios.html\n",
      "per_honorarios Año 2006\n",
      "\n",
      "Instituto Nacional de Estadísticas (INE)\n"
     ]
    },
    {
     "data": {
      "application/vnd.jupyter.widget-view+json": {
       "model_id": "bd2a1b9cb94f42fb84e43642dfb0b8e3",
       "version_major": 2,
       "version_minor": 0
      },
      "text/plain": [
       "A Jupyter Widget"
      ]
     },
     "metadata": {},
     "output_type": "display_data"
    },
    {
     "name": "stdout",
     "output_type": "stream",
     "text": [
      "per_honorarios Año 2018\n",
      "could not get breadcrumbs from http://transparencia.ine.cl/personal/2018/enero/honorarios/per_honorarios.html\n",
      "per_honorarios Año 2017\n",
      "could not get breadcrumbs from http://transparencia.ine.cl/personal/2017/abril/honorarios/per_honorarios.html\n",
      "per_honorarios Año 2016\n",
      "could not get breadcrumbs from http://transparencia.ine.cl/personal/2016/diciembre/honorarios/per_honorarios.html\n",
      "per_honorarios Año 2015\n",
      "could not get breadcrumbs from http://transparencia.ine.cl/personal/2015/diciembre/honorarios/per_honorarios.html\n",
      "per_honorarios Año 2014\n",
      "could not get breadcrumbs from http://transparencia.ine.cl/personal/2014/enero/honorarios/per_honorarios.html\n",
      "per_honorarios Año 2013\n",
      "could not get breadcrumbs from http://transparencia.ine.cl/personal/2013/enero/honorarios/per_honorarios.html\n",
      "per_honorarios Año 2012\n",
      "could not get breadcrumbs from http://transparencia.ine.cl/personal/2012/per_honorarios.html\n",
      "per_honorarios Año 2011\n",
      "could not get breadcrumbs from http://transparencia.ine.cl/personal/2011/Honorarios/per_honorarios.html\n",
      "per_honorarios Año 2010\n",
      "per_honorarios Año 2009\n",
      "per_honorarios Año 2008\n",
      "per_honorarios Año 2007\n",
      "per_honorarios Año 2006\n",
      "\n",
      "Servicio Nacional de Turismo (SERNATUR)\n",
      "No contract data per_honorarios in http://www.gobiernotransparentechile.cl/directorio/entidad/8/137\n"
     ]
    },
    {
     "name": "stderr",
     "output_type": "stream",
     "text": [
      "Traceback (most recent call last):\n",
      "  File \"./lib/functions.py\", line 109, in getDepartmentData\n",
      "    div_years = browser.find_element_by_class_name(\"linksIntermedios\")\n",
      "  File \"/Users/jaime/anaconda3/lib/python3.6/site-packages/selenium/webdriver/remote/webdriver.py\", line 555, in find_element_by_class_name\n",
      "    return self.find_element(by=By.CLASS_NAME, value=name)\n",
      "  File \"/Users/jaime/anaconda3/lib/python3.6/site-packages/selenium/webdriver/remote/webdriver.py\", line 955, in find_element\n",
      "    'value': value})['value']\n",
      "  File \"/Users/jaime/anaconda3/lib/python3.6/site-packages/selenium/webdriver/remote/webdriver.py\", line 312, in execute\n",
      "    self.error_handler.check_response(response)\n",
      "  File \"/Users/jaime/anaconda3/lib/python3.6/site-packages/selenium/webdriver/remote/errorhandler.py\", line 237, in check_response\n",
      "    raise exception_class(message, screen, stacktrace)\n",
      "selenium.common.exceptions.NoSuchElementException: Message: no such element: Unable to locate element: {\"method\":\"class name\",\"selector\":\"linksIntermedios\"}\n",
      "  (Session info: chrome=65.0.3325.181)\n",
      "  (Driver info: chromedriver=2.35.528157 (4429ca2590d6988c0745c24c8858745aaaec01ef),platform=Mac OS X 10.13.3 x86_64)\n",
      "\n"
     ]
    },
    {
     "data": {
      "application/vnd.jupyter.widget-view+json": {
       "model_id": "b90ad9876b8c4bffb545478273c658d6",
       "version_major": 2,
       "version_minor": 0
      },
      "text/plain": [
       "A Jupyter Widget"
      ]
     },
     "metadata": {},
     "output_type": "display_data"
    },
    {
     "name": "stdout",
     "output_type": "stream",
     "text": [
      "\n",
      "Servicio Nacional del Consumidor (SERNAC)\n"
     ]
    },
    {
     "data": {
      "application/vnd.jupyter.widget-view+json": {
       "model_id": "d04e73b761384844884f375b76e3d28f",
       "version_major": 2,
       "version_minor": 0
      },
      "text/plain": [
       "A Jupyter Widget"
      ]
     },
     "metadata": {},
     "output_type": "display_data"
    },
    {
     "name": "stdout",
     "output_type": "stream",
     "text": [
      "per_honorarios Año 2017\n",
      "per_honorarios Año 2016\n",
      "per_honorarios Año 2015\n",
      "per_honorarios Año 2014\n",
      "per_honorarios Año 2013\n",
      "per_honorarios Año 2012\n",
      "per_honorarios Año 2011\n",
      "per_honorarios Año 2010\n",
      "per_honorarios Año 2009\n",
      "per_honorarios Año 2008\n",
      "per_honorarios Año 2007\n",
      "per_honorarios Año 2006\n",
      "\n",
      "Servicio Nacional de Pesca (SERNAPESCA)\n"
     ]
    },
    {
     "data": {
      "application/vnd.jupyter.widget-view+json": {
       "model_id": "e731e20bf5ef4b2791265d1e073330b7",
       "version_major": 2,
       "version_minor": 0
      },
      "text/plain": [
       "A Jupyter Widget"
      ]
     },
     "metadata": {},
     "output_type": "display_data"
    },
    {
     "name": "stdout",
     "output_type": "stream",
     "text": [
      "per_honorarios Año 2018\n",
      "per_honorarios Año 2017\n",
      "per_honorarios Año 2016\n",
      "per_honorarios Año 2015\n",
      "per_honorarios Año 2014\n",
      "per_honorarios Año 2013\n",
      "per_honorarios Año 2012\n",
      "per_honorarios Año 2011\n",
      "per_honorarios Año 2010\n",
      "per_honorarios Año 2009\n",
      "per_honorarios Año 2008\n",
      "per_honorarios Año 2007\n",
      "per_honorarios Año 2006\n",
      "\n",
      "Instituto Nacional de Propiedad Industrial (INAPI)\n"
     ]
    },
    {
     "data": {
      "application/vnd.jupyter.widget-view+json": {
       "model_id": "f16d2ea9a2a84e4fb3033f12f558f423",
       "version_major": 2,
       "version_minor": 0
      },
      "text/plain": [
       "A Jupyter Widget"
      ]
     },
     "metadata": {},
     "output_type": "display_data"
    },
    {
     "name": "stdout",
     "output_type": "stream",
     "text": [
      "per_honorarios Año 2017\n",
      "per_honorarios Año 2016\n",
      "per_honorarios Año 2015\n",
      "could not get breadcrumbs from http://www.inapi.cl/transparencia/doc/honorarios/2015/hono.php\n",
      "per_honorarios Año 2014\n",
      "per_honorarios Año 2013\n",
      "per_honorarios Año 2012\n",
      "could not get breadcrumbs from http://www.inapi.cl/transparencia/doc/honorarios/2012/hono.php\n",
      "per_honorarios Año 2011\n",
      "could not get breadcrumbs from http://www.inapi.cl/transparencia/doc/honorarios/2011/hono.php\n",
      "per_honorarios Año 2010\n",
      "per_honorarios Año 2009\n",
      "\n",
      "Superintendencia de Insolvencia y Reemprendimiento (SIR)\n"
     ]
    },
    {
     "data": {
      "application/vnd.jupyter.widget-view+json": {
       "model_id": "7a846a2c7827402cbbd78d9d6dddbc94",
       "version_major": 2,
       "version_minor": 0
      },
      "text/plain": [
       "A Jupyter Widget"
      ]
     },
     "metadata": {},
     "output_type": "display_data"
    },
    {
     "name": "stdout",
     "output_type": "stream",
     "text": [
      "per_honorarios Año 2018\n",
      "per_honorarios Año 2017\n",
      "per_honorarios Año 2016\n",
      "per_honorarios Año 2015\n",
      "per_honorarios Año 2014\n",
      "per_honorarios Año 2013\n",
      "per_honorarios Año 2012\n",
      "per_honorarios Año 2011\n",
      "per_honorarios Año 2010\n",
      "per_honorarios Año 2009\n",
      "per_honorarios Año 2008\n",
      "per_honorarios Año 2007\n",
      "per_honorarios Año 2006\n",
      "\n",
      "Ministerio de Desarrollo Social\n",
      "Subsecretaría de Evaluación Social\n"
     ]
    },
    {
     "data": {
      "application/vnd.jupyter.widget-view+json": {
       "model_id": "9a87f04c844548a4981a0ed5f76fc48a",
       "version_major": 2,
       "version_minor": 0
      },
      "text/plain": [
       "A Jupyter Widget"
      ]
     },
     "metadata": {},
     "output_type": "display_data"
    },
    {
     "name": "stdout",
     "output_type": "stream",
     "text": [
      "per_honorarios Año 2018\n",
      "per_honorarios Año 2017\n",
      "per_honorarios Año 2016\n",
      "per_honorarios Año 2015\n",
      "per_honorarios Año 2014\n",
      "per_honorarios Año 2013\n",
      "per_honorarios Año 2012\n",
      "\n",
      "Subsecretaría de Servicios Sociales\n"
     ]
    },
    {
     "data": {
      "application/vnd.jupyter.widget-view+json": {
       "model_id": "0b18c5e4d7314a52868942b0c48e74cd",
       "version_major": 2,
       "version_minor": 0
      },
      "text/plain": [
       "A Jupyter Widget"
      ]
     },
     "metadata": {},
     "output_type": "display_data"
    },
    {
     "name": "stdout",
     "output_type": "stream",
     "text": [
      "per_honorarios Año 2017\n",
      "per_honorarios Año 2016\n",
      "per_honorarios Año 2015\n",
      "per_honorarios Año 2014\n",
      "per_honorarios Año 2013\n",
      "per_honorarios Año 2012\n",
      "\n",
      "Subsecretaría de Planificación\n"
     ]
    },
    {
     "data": {
      "application/vnd.jupyter.widget-view+json": {
       "model_id": "f9765750e10f4e5587149260feb73858",
       "version_major": 2,
       "version_minor": 0
      },
      "text/plain": [
       "A Jupyter Widget"
      ]
     },
     "metadata": {},
     "output_type": "display_data"
    },
    {
     "name": "stdout",
     "output_type": "stream",
     "text": [
      "per_honorarios Año 2010\n",
      "per_honorarios Año 2009(Enero-Abril)\n",
      "per_honorarios Año 2009\n",
      "per_honorarios Año 2008\n",
      "per_honorarios Año 2007\n",
      "per_honorarios Año 2006\n",
      "per_honorarios Año 2012\n",
      "per_honorarios Año 2011\n",
      "\n",
      "Corporación Nacional de Desarrollo Indígena (CONADI)\n"
     ]
    },
    {
     "data": {
      "application/vnd.jupyter.widget-view+json": {
       "model_id": "b788002369534e2c83265a3fb74596c6",
       "version_major": 2,
       "version_minor": 0
      },
      "text/plain": [
       "A Jupyter Widget"
      ]
     },
     "metadata": {},
     "output_type": "display_data"
    },
    {
     "name": "stdout",
     "output_type": "stream",
     "text": [
      "per_honorarios Año 2017\n",
      "per_honorarios Año 2016\n",
      "per_honorarios Año 2015\n",
      "per_honorarios Año 2018\n",
      "\n",
      "Servicio Nacional de la Discapacidad (SENADIS)\n"
     ]
    },
    {
     "data": {
      "application/vnd.jupyter.widget-view+json": {
       "model_id": "274e5b1ee0cc47f2b1088a4f3c22804a",
       "version_major": 2,
       "version_minor": 0
      },
      "text/plain": [
       "A Jupyter Widget"
      ]
     },
     "metadata": {},
     "output_type": "display_data"
    },
    {
     "name": "stdout",
     "output_type": "stream",
     "text": [
      "per_honorarios Año 2018\n",
      "per_honorarios Año 2017\n",
      "per_honorarios Año 2016\n",
      "could not get breadcrumbs from http://transparencia.senadis.cl/2016/per_honorarios.html\n",
      "per_honorarios Año 2015\n",
      "per_honorarios Año 2014\n",
      "per_honorarios Año 2013\n",
      "per_honorarios Año 2012\n",
      "could not get breadcrumbs from http://transparencia.senadis.cl/2012/per_honorarios.html\n",
      "per_honorarios Año 2011\n",
      "per_honorarios Año 2010\n",
      "could not get breadcrumbs from http://transparencia.senadis.cl/2010/per_honorarios.html\n",
      "per_honorarios Año 2009\n",
      "per_honorarios Año 2008\n",
      "per_honorarios Año 2007\n",
      "per_honorarios Año 2006\n",
      "\n",
      "Fondo de Solidaridad e Inversión Social (FOSIS)\n",
      "No contract data per_honorarios in http://www.gobiernotransparentechile.cl/directorio/entidad/9/144\n"
     ]
    },
    {
     "name": "stderr",
     "output_type": "stream",
     "text": [
      "Traceback (most recent call last):\n",
      "  File \"./lib/functions.py\", line 109, in getDepartmentData\n",
      "    div_years = browser.find_element_by_class_name(\"linksIntermedios\")\n",
      "  File \"/Users/jaime/anaconda3/lib/python3.6/site-packages/selenium/webdriver/remote/webdriver.py\", line 555, in find_element_by_class_name\n",
      "    return self.find_element(by=By.CLASS_NAME, value=name)\n",
      "  File \"/Users/jaime/anaconda3/lib/python3.6/site-packages/selenium/webdriver/remote/webdriver.py\", line 955, in find_element\n",
      "    'value': value})['value']\n",
      "  File \"/Users/jaime/anaconda3/lib/python3.6/site-packages/selenium/webdriver/remote/webdriver.py\", line 312, in execute\n",
      "    self.error_handler.check_response(response)\n",
      "  File \"/Users/jaime/anaconda3/lib/python3.6/site-packages/selenium/webdriver/remote/errorhandler.py\", line 237, in check_response\n",
      "    raise exception_class(message, screen, stacktrace)\n",
      "selenium.common.exceptions.NoSuchElementException: Message: no such element: Unable to locate element: {\"method\":\"class name\",\"selector\":\"linksIntermedios\"}\n",
      "  (Session info: chrome=65.0.3325.181)\n",
      "  (Driver info: chromedriver=2.35.528157 (4429ca2590d6988c0745c24c8858745aaaec01ef),platform=Mac OS X 10.13.3 x86_64)\n",
      "\n"
     ]
    },
    {
     "data": {
      "application/vnd.jupyter.widget-view+json": {
       "model_id": "00466b27f90641b69217ac708b0bb066",
       "version_major": 2,
       "version_minor": 0
      },
      "text/plain": [
       "A Jupyter Widget"
      ]
     },
     "metadata": {},
     "output_type": "display_data"
    },
    {
     "name": "stdout",
     "output_type": "stream",
     "text": [
      "\n",
      "Instituto Nacional de la Juventud (INJUV)\n"
     ]
    },
    {
     "data": {
      "application/vnd.jupyter.widget-view+json": {
       "model_id": "624a181b2eb54dba98bd4e581430b3df",
       "version_major": 2,
       "version_minor": 0
      },
      "text/plain": [
       "A Jupyter Widget"
      ]
     },
     "metadata": {},
     "output_type": "display_data"
    },
    {
     "name": "stdout",
     "output_type": "stream",
     "text": [
      "per_honorarios Año 2017\n",
      "per_honorarios Año 2016\n",
      "per_honorarios Año 2015\n",
      "per_honorarios Año 2014\n",
      "per_honorarios Año 2013\n",
      "per_honorarios Año 2012\n",
      "per_honorarios Año 2011\n",
      "per_honorarios Año 2010\n",
      "per_honorarios Año 2009\n",
      "per_honorarios Año 2008\n",
      "could not get breadcrumbs from http://extranet.injuv.gob.cl/institucional/transparencia/2008/per_honorarios.html\n",
      "per_honorarios Año 2007\n",
      "could not get breadcrumbs from http://extranet.injuv.gob.cl/institucional/transparencia/2007/per_honorarios.html\n",
      "per_honorarios Año 2006\n",
      "\n",
      "Servicio Nacional del Adulto Mayor (SENAMA)\n"
     ]
    },
    {
     "data": {
      "application/vnd.jupyter.widget-view+json": {
       "model_id": "6480c5fe79fe4a84b3eb62545b7bcd72",
       "version_major": 2,
       "version_minor": 0
      },
      "text/plain": [
       "A Jupyter Widget"
      ]
     },
     "metadata": {},
     "output_type": "display_data"
    },
    {
     "name": "stdout",
     "output_type": "stream",
     "text": [
      "per_honorarios Diciembre\n",
      "per_honorarios Noviembre\n",
      "per_honorarios Octubre\n",
      "per_honorarios Septiembre\n",
      "per_honorarios Agosto\n",
      "per_honorarios Julio\n",
      "per_honorarios Junio\n",
      "per_honorarios Mayo\n",
      "per_honorarios Abril\n",
      "per_honorarios Marzo\n",
      "per_honorarios Febrero\n",
      "per_honorarios Enero\n",
      "could not get breadcrumbs from http://www2.senama.cl/transparencia/dotacion_personal/2017/per_honorarios_0117.html\n",
      "per_honorarios Año 2016\n",
      "per_honorarios Año 2015\n",
      "per_honorarios Año 2014\n",
      "per_honorarios Año 2013\n",
      "per_honorarios Año 2012\n",
      "could not get breadcrumbs from http://www2.senama.cl/transparencia/dotacion_personal/2012/per_honorarios_0112.html\n",
      "per_honorarios Año 2011\n",
      "\n",
      "Ministerio de Educación\n",
      "Subsecretaría de Educación\n"
     ]
    },
    {
     "data": {
      "application/vnd.jupyter.widget-view+json": {
       "model_id": "7623043f3775467a899632ce65901845",
       "version_major": 2,
       "version_minor": 0
      },
      "text/plain": [
       "A Jupyter Widget"
      ]
     },
     "metadata": {},
     "output_type": "display_data"
    },
    {
     "name": "stdout",
     "output_type": "stream",
     "text": [
      "per_honorarios Año 2010\n",
      "per_honorarios Año 2009\n",
      "per_honorarios Año 2008\n",
      "per_honorarios Año 2007\n",
      "per_honorarios Año 2006\n",
      "per_honorarios Año 2018\n",
      "per_honorarios Año 2017\n",
      "per_honorarios Año 2016\n",
      "per_honorarios Año 2015\n",
      "per_honorarios Año 2014\n",
      "per_honorarios Año 2013\n",
      "per_honorarios Año 2012\n",
      "per_honorarios Año 2011\n",
      "\n",
      "Subsecretaría de Educación Parvularia\n"
     ]
    },
    {
     "data": {
      "application/vnd.jupyter.widget-view+json": {
       "model_id": "f031d617ebb84b14876b2e66bb23faff",
       "version_major": 2,
       "version_minor": 0
      },
      "text/plain": [
       "A Jupyter Widget"
      ]
     },
     "metadata": {},
     "output_type": "display_data"
    },
    {
     "name": "stdout",
     "output_type": "stream",
     "text": [
      "per_honorarios Año 2016\n",
      "\n",
      "Consejo de Rectores de las Universidades Chilenas\n"
     ]
    },
    {
     "data": {
      "application/vnd.jupyter.widget-view+json": {
       "model_id": "bf67e970cea74dd981d20ae1788312ed",
       "version_major": 2,
       "version_minor": 0
      },
      "text/plain": [
       "A Jupyter Widget"
      ]
     },
     "metadata": {},
     "output_type": "display_data"
    },
    {
     "name": "stdout",
     "output_type": "stream",
     "text": [
      "per_honorarios Año 2018\n",
      "per_honorarios Año 2017\n",
      "per_honorarios Año 2016\n",
      "per_honorarios Año 2015\n",
      "per_honorarios Año 2014\n",
      "per_honorarios Año 2013\n",
      "per_honorarios Año 2012\n",
      "per_honorarios Año 2011\n",
      "per_honorarios Año 2010\n",
      "per_honorarios Año 2009\n",
      "\n",
      "Consejo Nacional de Educación\n",
      "No contract data per_honorarios in http://www.gobiernotransparentechile.cl/directorio/entidad/10/148\n"
     ]
    },
    {
     "name": "stderr",
     "output_type": "stream",
     "text": [
      "Traceback (most recent call last):\n",
      "  File \"./lib/functions.py\", line 109, in getDepartmentData\n",
      "    div_years = browser.find_element_by_class_name(\"linksIntermedios\")\n",
      "  File \"/Users/jaime/anaconda3/lib/python3.6/site-packages/selenium/webdriver/remote/webdriver.py\", line 555, in find_element_by_class_name\n",
      "    return self.find_element(by=By.CLASS_NAME, value=name)\n",
      "  File \"/Users/jaime/anaconda3/lib/python3.6/site-packages/selenium/webdriver/remote/webdriver.py\", line 955, in find_element\n",
      "    'value': value})['value']\n",
      "  File \"/Users/jaime/anaconda3/lib/python3.6/site-packages/selenium/webdriver/remote/webdriver.py\", line 312, in execute\n",
      "    self.error_handler.check_response(response)\n",
      "  File \"/Users/jaime/anaconda3/lib/python3.6/site-packages/selenium/webdriver/remote/errorhandler.py\", line 237, in check_response\n",
      "    raise exception_class(message, screen, stacktrace)\n",
      "selenium.common.exceptions.NoSuchElementException: Message: no such element: Unable to locate element: {\"method\":\"class name\",\"selector\":\"linksIntermedios\"}\n",
      "  (Session info: chrome=65.0.3325.181)\n",
      "  (Driver info: chromedriver=2.35.528157 (4429ca2590d6988c0745c24c8858745aaaec01ef),platform=Mac OS X 10.13.3 x86_64)\n",
      "\n"
     ]
    },
    {
     "data": {
      "application/vnd.jupyter.widget-view+json": {
       "model_id": "81b7dd0d835b4751b0192327612806c1",
       "version_major": 2,
       "version_minor": 0
      },
      "text/plain": [
       "A Jupyter Widget"
      ]
     },
     "metadata": {},
     "output_type": "display_data"
    },
    {
     "name": "stdout",
     "output_type": "stream",
     "text": [
      "\n",
      "Comisión Administradora del Sistema de Créditos para Estudios Superiores\n",
      "No contract data per_honorarios in http://www.gobiernotransparentechile.cl/directorio/entidad/10/149\n"
     ]
    },
    {
     "name": "stderr",
     "output_type": "stream",
     "text": [
      "Traceback (most recent call last):\n",
      "  File \"./lib/functions.py\", line 109, in getDepartmentData\n",
      "    div_years = browser.find_element_by_class_name(\"linksIntermedios\")\n",
      "  File \"/Users/jaime/anaconda3/lib/python3.6/site-packages/selenium/webdriver/remote/webdriver.py\", line 555, in find_element_by_class_name\n",
      "    return self.find_element(by=By.CLASS_NAME, value=name)\n",
      "  File \"/Users/jaime/anaconda3/lib/python3.6/site-packages/selenium/webdriver/remote/webdriver.py\", line 955, in find_element\n",
      "    'value': value})['value']\n",
      "  File \"/Users/jaime/anaconda3/lib/python3.6/site-packages/selenium/webdriver/remote/webdriver.py\", line 312, in execute\n",
      "    self.error_handler.check_response(response)\n",
      "  File \"/Users/jaime/anaconda3/lib/python3.6/site-packages/selenium/webdriver/remote/errorhandler.py\", line 237, in check_response\n",
      "    raise exception_class(message, screen, stacktrace)\n",
      "selenium.common.exceptions.NoSuchElementException: Message: no such element: Unable to locate element: {\"method\":\"class name\",\"selector\":\"linksIntermedios\"}\n",
      "  (Session info: chrome=65.0.3325.181)\n",
      "  (Driver info: chromedriver=2.35.528157 (4429ca2590d6988c0745c24c8858745aaaec01ef),platform=Mac OS X 10.13.3 x86_64)\n",
      "\n"
     ]
    },
    {
     "data": {
      "application/vnd.jupyter.widget-view+json": {
       "model_id": "afb7b4dfa97d440297a722529a195906",
       "version_major": 2,
       "version_minor": 0
      },
      "text/plain": [
       "A Jupyter Widget"
      ]
     },
     "metadata": {},
     "output_type": "display_data"
    },
    {
     "name": "stdout",
     "output_type": "stream",
     "text": [
      "\n",
      "Dirección de Bibliotecas, Archivos y Museos (DIBAM)\n",
      "No contract data per_honorarios in http://www.gobiernotransparentechile.cl/directorio/entidad/10/150\n"
     ]
    },
    {
     "name": "stderr",
     "output_type": "stream",
     "text": [
      "Traceback (most recent call last):\n",
      "  File \"./lib/functions.py\", line 109, in getDepartmentData\n",
      "    div_years = browser.find_element_by_class_name(\"linksIntermedios\")\n",
      "  File \"/Users/jaime/anaconda3/lib/python3.6/site-packages/selenium/webdriver/remote/webdriver.py\", line 555, in find_element_by_class_name\n",
      "    return self.find_element(by=By.CLASS_NAME, value=name)\n",
      "  File \"/Users/jaime/anaconda3/lib/python3.6/site-packages/selenium/webdriver/remote/webdriver.py\", line 955, in find_element\n",
      "    'value': value})['value']\n",
      "  File \"/Users/jaime/anaconda3/lib/python3.6/site-packages/selenium/webdriver/remote/webdriver.py\", line 312, in execute\n",
      "    self.error_handler.check_response(response)\n",
      "  File \"/Users/jaime/anaconda3/lib/python3.6/site-packages/selenium/webdriver/remote/errorhandler.py\", line 237, in check_response\n",
      "    raise exception_class(message, screen, stacktrace)\n",
      "selenium.common.exceptions.NoSuchElementException: Message: no such element: Unable to locate element: {\"method\":\"class name\",\"selector\":\"linksIntermedios\"}\n",
      "  (Session info: chrome=65.0.3325.181)\n",
      "  (Driver info: chromedriver=2.35.528157 (4429ca2590d6988c0745c24c8858745aaaec01ef),platform=Mac OS X 10.13.3 x86_64)\n",
      "\n"
     ]
    },
    {
     "data": {
      "application/vnd.jupyter.widget-view+json": {
       "model_id": "c3213679f7d34b0a808f9b238ef15cea",
       "version_major": 2,
       "version_minor": 0
      },
      "text/plain": [
       "A Jupyter Widget"
      ]
     },
     "metadata": {},
     "output_type": "display_data"
    },
    {
     "name": "stdout",
     "output_type": "stream",
     "text": [
      "\n",
      "Consejo de Calificación Cinematográfica\n"
     ]
    },
    {
     "data": {
      "application/vnd.jupyter.widget-view+json": {
       "model_id": "ee09720e8724406f997dca4e66856339",
       "version_major": 2,
       "version_minor": 0
      },
      "text/plain": [
       "A Jupyter Widget"
      ]
     },
     "metadata": {},
     "output_type": "display_data"
    },
    {
     "name": "stdout",
     "output_type": "stream",
     "text": [
      "per_honorarios Año 2010\n",
      "could not get breadcrumbs from http://www.consejodecalificacioncinematografica.cl/transparencia/consejo/generados/honorarios.html\n",
      "per_honorarios Año 2018\n",
      "per_honorarios Año 2017\n",
      "per_honorarios Año 2016\n",
      "per_honorarios Año 2015\n",
      "per_honorarios Año 2014\n",
      "per_honorarios Año 2013\n",
      "per_honorarios Año 2012\n",
      "per_honorarios Año 2011\n",
      "\n",
      "Comisión Nacional de Investigación en Ciencia y Tecnología (CONICYT)\n"
     ]
    },
    {
     "data": {
      "application/vnd.jupyter.widget-view+json": {
       "model_id": "b0c3b5a45c3d4f01a42ae61c52ea55ba",
       "version_major": 2,
       "version_minor": 0
      },
      "text/plain": [
       "A Jupyter Widget"
      ]
     },
     "metadata": {},
     "output_type": "display_data"
    },
    {
     "name": "stdout",
     "output_type": "stream",
     "text": [
      "per_honorarios Año 2015\n",
      "per_honorarios Año 2014\n",
      "per_honorarios Año 2013\n",
      "per_honorarios Año 2012\n",
      "per_honorarios Año 2011\n",
      "per_honorarios Año 2010\n",
      "per_honorarios Año 2009\n",
      "per_honorarios Año 2008\n",
      "could not get breadcrumbs from http://www.conicyt.cl/transparencia/personal/2008/per_honorarios.html\n",
      "per_honorarios Año 2007\n",
      "per_honorarios Año 2006\n",
      "\n",
      "Junta Nacional de Auxilio Escolar y Becas (JUNAEB)\n",
      "No contract data per_honorarios in http://www.gobiernotransparentechile.cl/directorio/entidad/10/153\n"
     ]
    },
    {
     "name": "stderr",
     "output_type": "stream",
     "text": [
      "Traceback (most recent call last):\n",
      "  File \"./lib/functions.py\", line 109, in getDepartmentData\n",
      "    div_years = browser.find_element_by_class_name(\"linksIntermedios\")\n",
      "  File \"/Users/jaime/anaconda3/lib/python3.6/site-packages/selenium/webdriver/remote/webdriver.py\", line 555, in find_element_by_class_name\n",
      "    return self.find_element(by=By.CLASS_NAME, value=name)\n",
      "  File \"/Users/jaime/anaconda3/lib/python3.6/site-packages/selenium/webdriver/remote/webdriver.py\", line 955, in find_element\n",
      "    'value': value})['value']\n",
      "  File \"/Users/jaime/anaconda3/lib/python3.6/site-packages/selenium/webdriver/remote/webdriver.py\", line 312, in execute\n",
      "    self.error_handler.check_response(response)\n",
      "  File \"/Users/jaime/anaconda3/lib/python3.6/site-packages/selenium/webdriver/remote/errorhandler.py\", line 237, in check_response\n",
      "    raise exception_class(message, screen, stacktrace)\n",
      "selenium.common.exceptions.NoSuchElementException: Message: no such element: Unable to locate element: {\"method\":\"class name\",\"selector\":\"linksIntermedios\"}\n",
      "  (Session info: chrome=65.0.3325.181)\n",
      "  (Driver info: chromedriver=2.35.528157 (4429ca2590d6988c0745c24c8858745aaaec01ef),platform=Mac OS X 10.13.3 x86_64)\n",
      "\n"
     ]
    },
    {
     "data": {
      "application/vnd.jupyter.widget-view+json": {
       "model_id": "7da81366cc2c4bf0b7e385641e621fa5",
       "version_major": 2,
       "version_minor": 0
      },
      "text/plain": [
       "A Jupyter Widget"
      ]
     },
     "metadata": {},
     "output_type": "display_data"
    },
    {
     "name": "stdout",
     "output_type": "stream",
     "text": [
      "\n",
      "Junta Nacional de Jardines Infantiles (JUNJI)\n",
      "No contract data per_honorarios in http://www.gobiernotransparentechile.cl/directorio/entidad/10/154\n"
     ]
    },
    {
     "name": "stderr",
     "output_type": "stream",
     "text": [
      "Traceback (most recent call last):\n",
      "  File \"./lib/functions.py\", line 109, in getDepartmentData\n",
      "    div_years = browser.find_element_by_class_name(\"linksIntermedios\")\n",
      "  File \"/Users/jaime/anaconda3/lib/python3.6/site-packages/selenium/webdriver/remote/webdriver.py\", line 555, in find_element_by_class_name\n",
      "    return self.find_element(by=By.CLASS_NAME, value=name)\n",
      "  File \"/Users/jaime/anaconda3/lib/python3.6/site-packages/selenium/webdriver/remote/webdriver.py\", line 955, in find_element\n",
      "    'value': value})['value']\n",
      "  File \"/Users/jaime/anaconda3/lib/python3.6/site-packages/selenium/webdriver/remote/webdriver.py\", line 312, in execute\n",
      "    self.error_handler.check_response(response)\n",
      "  File \"/Users/jaime/anaconda3/lib/python3.6/site-packages/selenium/webdriver/remote/errorhandler.py\", line 237, in check_response\n",
      "    raise exception_class(message, screen, stacktrace)\n",
      "selenium.common.exceptions.NoSuchElementException: Message: no such element: Unable to locate element: {\"method\":\"class name\",\"selector\":\"linksIntermedios\"}\n",
      "  (Session info: chrome=65.0.3325.181)\n",
      "  (Driver info: chromedriver=2.35.528157 (4429ca2590d6988c0745c24c8858745aaaec01ef),platform=Mac OS X 10.13.3 x86_64)\n",
      "\n"
     ]
    },
    {
     "data": {
      "application/vnd.jupyter.widget-view+json": {
       "model_id": "f9b4685349af4209a2cb3bf9a8bb8f3e",
       "version_major": 2,
       "version_minor": 0
      },
      "text/plain": [
       "A Jupyter Widget"
      ]
     },
     "metadata": {},
     "output_type": "display_data"
    },
    {
     "name": "stdout",
     "output_type": "stream",
     "text": [
      "\n",
      "Comisión Nacional de Acreditación (CNA)\n",
      "No contract data per_honorarios in http://www.gobiernotransparentechile.cl/directorio/entidad/10/155\n"
     ]
    },
    {
     "name": "stderr",
     "output_type": "stream",
     "text": [
      "Traceback (most recent call last):\n",
      "  File \"./lib/functions.py\", line 109, in getDepartmentData\n",
      "    div_years = browser.find_element_by_class_name(\"linksIntermedios\")\n",
      "  File \"/Users/jaime/anaconda3/lib/python3.6/site-packages/selenium/webdriver/remote/webdriver.py\", line 555, in find_element_by_class_name\n",
      "    return self.find_element(by=By.CLASS_NAME, value=name)\n",
      "  File \"/Users/jaime/anaconda3/lib/python3.6/site-packages/selenium/webdriver/remote/webdriver.py\", line 955, in find_element\n",
      "    'value': value})['value']\n",
      "  File \"/Users/jaime/anaconda3/lib/python3.6/site-packages/selenium/webdriver/remote/webdriver.py\", line 312, in execute\n",
      "    self.error_handler.check_response(response)\n",
      "  File \"/Users/jaime/anaconda3/lib/python3.6/site-packages/selenium/webdriver/remote/errorhandler.py\", line 237, in check_response\n",
      "    raise exception_class(message, screen, stacktrace)\n",
      "selenium.common.exceptions.NoSuchElementException: Message: no such element: Unable to locate element: {\"method\":\"class name\",\"selector\":\"linksIntermedios\"}\n",
      "  (Session info: chrome=65.0.3325.181)\n",
      "  (Driver info: chromedriver=2.35.528157 (4429ca2590d6988c0745c24c8858745aaaec01ef),platform=Mac OS X 10.13.3 x86_64)\n",
      "\n"
     ]
    },
    {
     "data": {
      "application/vnd.jupyter.widget-view+json": {
       "model_id": "b5bf70b537294dbeb1e2ccabae744d32",
       "version_major": 2,
       "version_minor": 0
      },
      "text/plain": [
       "A Jupyter Widget"
      ]
     },
     "metadata": {},
     "output_type": "display_data"
    },
    {
     "name": "stdout",
     "output_type": "stream",
     "text": [
      "\n",
      "Superintendencia de Educación\n"
     ]
    },
    {
     "data": {
      "application/vnd.jupyter.widget-view+json": {
       "model_id": "290c3276ce7b4e618170c8b8596b4075",
       "version_major": 2,
       "version_minor": 0
      },
      "text/plain": [
       "A Jupyter Widget"
      ]
     },
     "metadata": {},
     "output_type": "display_data"
    },
    {
     "name": "stdout",
     "output_type": "stream",
     "text": [
      "per_honorarios Año 2016\n",
      "per_honorarios Año 2015\n",
      "per_honorarios Año 2014\n",
      "per_honorarios Año 2013\n",
      "per_honorarios Año 2012\n",
      "\n",
      "Agencia de calidad de la educación\n",
      "No contract data per_honorarios in http://www.gobiernotransparentechile.cl/directorio/entidad/10/359\n"
     ]
    },
    {
     "name": "stderr",
     "output_type": "stream",
     "text": [
      "Traceback (most recent call last):\n",
      "  File \"./lib/functions.py\", line 109, in getDepartmentData\n",
      "    div_years = browser.find_element_by_class_name(\"linksIntermedios\")\n",
      "  File \"/Users/jaime/anaconda3/lib/python3.6/site-packages/selenium/webdriver/remote/webdriver.py\", line 555, in find_element_by_class_name\n",
      "    return self.find_element(by=By.CLASS_NAME, value=name)\n",
      "  File \"/Users/jaime/anaconda3/lib/python3.6/site-packages/selenium/webdriver/remote/webdriver.py\", line 955, in find_element\n",
      "    'value': value})['value']\n",
      "  File \"/Users/jaime/anaconda3/lib/python3.6/site-packages/selenium/webdriver/remote/webdriver.py\", line 312, in execute\n",
      "    self.error_handler.check_response(response)\n",
      "  File \"/Users/jaime/anaconda3/lib/python3.6/site-packages/selenium/webdriver/remote/errorhandler.py\", line 237, in check_response\n",
      "    raise exception_class(message, screen, stacktrace)\n",
      "selenium.common.exceptions.NoSuchElementException: Message: no such element: Unable to locate element: {\"method\":\"class name\",\"selector\":\"linksIntermedios\"}\n",
      "  (Session info: chrome=65.0.3325.181)\n",
      "  (Driver info: chromedriver=2.35.528157 (4429ca2590d6988c0745c24c8858745aaaec01ef),platform=Mac OS X 10.13.3 x86_64)\n",
      "\n"
     ]
    },
    {
     "data": {
      "application/vnd.jupyter.widget-view+json": {
       "model_id": "4e1fd9a102564425af65e58e9e0c49c1",
       "version_major": 2,
       "version_minor": 0
      },
      "text/plain": [
       "A Jupyter Widget"
      ]
     },
     "metadata": {},
     "output_type": "display_data"
    },
    {
     "name": "stdout",
     "output_type": "stream",
     "text": [
      "\n"
     ]
    }
   ],
   "source": [
    "global period \n",
    "period = '20180417'\n",
    "\n",
    "output = '../data/output/scraped_data_{}.csv'.format(period)\n",
    "\n",
    "url = 'http://www.gobiernotransparentechile.cl/'\n",
    "\n",
    "\n",
    "option = webdriver.ChromeOptions()\n",
    "prefs = {'profile.default_content_setting_values': {'images': 2, 'javascript': 2}}\n",
    "option.add_experimental_option('prefs', prefs)\n",
    "browser = webdriver.Chrome(chrome_options = option)\n",
    "#browser = webdriver.Chrome(chrome_options=options)\n",
    "\n",
    "\n",
    "#browser = webdriver.Chrome()\n",
    "#browser = webdriver.Firefox()\n",
    "\n",
    "df = getGovernmentData(output, url, browser, period, cont=['per_honorarios'], start=0, end=10)"
   ]
  },
  {
   "cell_type": "markdown",
   "metadata": {},
   "source": [
    "# Debugging\n"
   ]
  },
  {
   "cell_type": "markdown",
   "metadata": {},
   "source": [
    "## Pulling specific table "
   ]
  },
  {
   "cell_type": "code",
   "execution_count": 6,
   "metadata": {
    "collapsed": true,
    "scrolled": true
   },
   "outputs": [],
   "source": [
    "browser_debug = webdriver.Chrome()\n",
    "getTableData2('./output/debugging.csv', 'http://www.gobiernotransparentechile.cl/directorio/entidad/12/167/per_planta/A%C3%B1o%202016/Enero', browser_debug)"
   ]
  },
  {
   "cell_type": "markdown",
   "metadata": {},
   "source": [
    "## Output "
   ]
  },
  {
   "cell_type": "code",
   "execution_count": 33,
   "metadata": {},
   "outputs": [
    {
     "name": "stderr",
     "output_type": "stream",
     "text": [
      "/Users/jaime/anaconda3/lib/python3.6/site-packages/IPython/core/interactiveshell.py:2698: DtypeWarning: Columns (3,8,9,11) have mixed types. Specify dtype option on import or set low_memory=False.\n",
      "  interactivity=interactivity, compiler=compiler, result=result)\n"
     ]
    }
   ],
   "source": [
    "out = pd.read_csv('../data/output/scraped_data_hon_{}.csv'.format(period), sep='|', encoding='utf-8', header=None)"
   ]
  },
  {
   "cell_type": "code",
   "execution_count": 34,
   "metadata": {},
   "outputs": [
    {
     "data": {
      "text/html": [
       "<div>\n",
       "<style>\n",
       "    .dataframe thead tr:only-child th {\n",
       "        text-align: right;\n",
       "    }\n",
       "\n",
       "    .dataframe thead th {\n",
       "        text-align: left;\n",
       "    }\n",
       "\n",
       "    .dataframe tbody tr th {\n",
       "        vertical-align: top;\n",
       "    }\n",
       "</style>\n",
       "<table border=\"1\" class=\"dataframe\">\n",
       "  <thead>\n",
       "    <tr style=\"text-align: right;\">\n",
       "      <th></th>\n",
       "      <th>0</th>\n",
       "      <th>1</th>\n",
       "      <th>2</th>\n",
       "      <th>3</th>\n",
       "      <th>4</th>\n",
       "      <th>5</th>\n",
       "      <th>6</th>\n",
       "      <th>7</th>\n",
       "      <th>8</th>\n",
       "      <th>9</th>\n",
       "      <th>10</th>\n",
       "      <th>11</th>\n",
       "      <th>12</th>\n",
       "      <th>13</th>\n",
       "      <th>14</th>\n",
       "      <th>15</th>\n",
       "      <th>16</th>\n",
       "      <th>17</th>\n",
       "      <th>18</th>\n",
       "    </tr>\n",
       "  </thead>\n",
       "  <tbody>\n",
       "    <tr>\n",
       "      <th>0</th>\n",
       "      <td>Presidencia de la República</td>\n",
       "      <td>Presidencia de la República</td>\n",
       "      <td>Dotación a honorarios</td>\n",
       "      <td>Año 2018</td>\n",
       "      <td>allyear</td>\n",
       "      <td>ABBAGLIATI</td>\n",
       "      <td>BOILS</td>\n",
       "      <td>ENZO VITTORIO</td>\n",
       "      <td>ASESOR, DIRECCIÓN DE PRENSA, EN EL MARCO DEL P...</td>\n",
       "      <td>LICENCIADO EN HISTORIA</td>\n",
       "      <td>NaN</td>\n",
       "      <td>RM</td>\n",
       "      <td>PESOS</td>\n",
       "      <td>5309100.0</td>\n",
       "      <td>SI</td>\n",
       "      <td>01/01/2018</td>\n",
       "      <td>10/03/2018</td>\n",
       "      <td>1, 5</td>\n",
       "      <td>http://www.gobiernotransparentechile.cl/direct...</td>\n",
       "    </tr>\n",
       "    <tr>\n",
       "      <th>1</th>\n",
       "      <td>Presidencia de la República</td>\n",
       "      <td>Presidencia de la República</td>\n",
       "      <td>Dotación a honorarios</td>\n",
       "      <td>Año 2018</td>\n",
       "      <td>allyear</td>\n",
       "      <td>ADONIS</td>\n",
       "      <td>PARRAGUEZ</td>\n",
       "      <td>HUGO RENE</td>\n",
       "      <td>ASISTENTE ACTIVIDADES FOTOGRÁFICAS Y DE REGIST...</td>\n",
       "      <td>LICENCIADO EN ARTES PLÁSTICAS CON MENCIÓN EN G...</td>\n",
       "      <td>NaN</td>\n",
       "      <td>RM</td>\n",
       "      <td>PESOS</td>\n",
       "      <td>1738943.0</td>\n",
       "      <td>SI</td>\n",
       "      <td>01/01/2018</td>\n",
       "      <td>31/12/2018</td>\n",
       "      <td>NaN</td>\n",
       "      <td>http://www.gobiernotransparentechile.cl/direct...</td>\n",
       "    </tr>\n",
       "    <tr>\n",
       "      <th>2</th>\n",
       "      <td>Presidencia de la República</td>\n",
       "      <td>Presidencia de la República</td>\n",
       "      <td>Dotación a honorarios</td>\n",
       "      <td>Año 2018</td>\n",
       "      <td>allyear</td>\n",
       "      <td>AGUILERA</td>\n",
       "      <td>ARAVENA</td>\n",
       "      <td>MARIO ALEJANDRO</td>\n",
       "      <td>PRODUCCIÓN Y DESARROLLO DE ACTIVIDADES COMUNIC...</td>\n",
       "      <td>PUBLICISTA</td>\n",
       "      <td>NaN</td>\n",
       "      <td>RM</td>\n",
       "      <td>PESOS</td>\n",
       "      <td>2040000.0</td>\n",
       "      <td>SI</td>\n",
       "      <td>01/01/2018</td>\n",
       "      <td>31/12/2018</td>\n",
       "      <td>NaN</td>\n",
       "      <td>http://www.gobiernotransparentechile.cl/direct...</td>\n",
       "    </tr>\n",
       "    <tr>\n",
       "      <th>3</th>\n",
       "      <td>Presidencia de la República</td>\n",
       "      <td>Presidencia de la República</td>\n",
       "      <td>Dotación a honorarios</td>\n",
       "      <td>Año 2018</td>\n",
       "      <td>allyear</td>\n",
       "      <td>AGUIRRE</td>\n",
       "      <td>ROMERO</td>\n",
       "      <td>BENJAMIN PEDRO</td>\n",
       "      <td>PERIODISTA, DIRECCIÓN DE PRENSA, EN EL MARCO D...</td>\n",
       "      <td>MAGÍSTER EN PERIODISMO, MENCIÓN PRENSA ESCRITA</td>\n",
       "      <td>NaN</td>\n",
       "      <td>RM</td>\n",
       "      <td>PESOS</td>\n",
       "      <td>3598480.0</td>\n",
       "      <td>SI</td>\n",
       "      <td>01/01/2018</td>\n",
       "      <td>10/03/2018</td>\n",
       "      <td>1, 5</td>\n",
       "      <td>http://www.gobiernotransparentechile.cl/direct...</td>\n",
       "    </tr>\n",
       "    <tr>\n",
       "      <th>4</th>\n",
       "      <td>Presidencia de la República</td>\n",
       "      <td>Presidencia de la República</td>\n",
       "      <td>Dotación a honorarios</td>\n",
       "      <td>Año 2018</td>\n",
       "      <td>allyear</td>\n",
       "      <td>AHUMADA</td>\n",
       "      <td>TORRES</td>\n",
       "      <td>JORGE</td>\n",
       "      <td>PRODUCTOR, DEPARTAMENTO DE PRODUCCIÓN PRESIDEN...</td>\n",
       "      <td>EXPERTO EN AVANZADA PRESIDENCIAL</td>\n",
       "      <td>NaN</td>\n",
       "      <td>RM</td>\n",
       "      <td>PESOS</td>\n",
       "      <td>2400000.0</td>\n",
       "      <td>SI</td>\n",
       "      <td>11/03/2018</td>\n",
       "      <td>31/12/2018</td>\n",
       "      <td>1</td>\n",
       "      <td>http://www.gobiernotransparentechile.cl/direct...</td>\n",
       "    </tr>\n",
       "    <tr>\n",
       "      <th>5</th>\n",
       "      <td>Presidencia de la República</td>\n",
       "      <td>Presidencia de la República</td>\n",
       "      <td>Dotación a honorarios</td>\n",
       "      <td>Año 2018</td>\n",
       "      <td>allyear</td>\n",
       "      <td>AJENJO</td>\n",
       "      <td>MARTINEZ</td>\n",
       "      <td>FELIPE ANDRES</td>\n",
       "      <td>ASESOR, DEPARTAMENTO DE GESTIÓN DE POLÍTICAS P...</td>\n",
       "      <td>SOCIÓLOGO, MASTER IN PUBLIC POLICY</td>\n",
       "      <td>NaN</td>\n",
       "      <td>RM</td>\n",
       "      <td>PESOS</td>\n",
       "      <td>5002352.0</td>\n",
       "      <td>SI</td>\n",
       "      <td>01/01/2018</td>\n",
       "      <td>10/03/2018</td>\n",
       "      <td>1, 5</td>\n",
       "      <td>http://www.gobiernotransparentechile.cl/direct...</td>\n",
       "    </tr>\n",
       "    <tr>\n",
       "      <th>6</th>\n",
       "      <td>Presidencia de la República</td>\n",
       "      <td>Presidencia de la República</td>\n",
       "      <td>Dotación a honorarios</td>\n",
       "      <td>Año 2018</td>\n",
       "      <td>allyear</td>\n",
       "      <td>ALARCON</td>\n",
       "      <td>CANCINO</td>\n",
       "      <td>JOHANA LESLEI</td>\n",
       "      <td>APOYO AUDITOR, SUBVENCIONES PRESIDENCIALES, EN...</td>\n",
       "      <td>LICENCIA DE ENSEÑANZA MEDIA</td>\n",
       "      <td>NaN</td>\n",
       "      <td>RM</td>\n",
       "      <td>PESOS</td>\n",
       "      <td>510000.0</td>\n",
       "      <td>SI</td>\n",
       "      <td>01/01/2018</td>\n",
       "      <td>31/12/2018</td>\n",
       "      <td>12 = Desde 31-10-2017 hasta 27-02-2018, 13= De...</td>\n",
       "      <td>http://www.gobiernotransparentechile.cl/direct...</td>\n",
       "    </tr>\n",
       "    <tr>\n",
       "      <th>7</th>\n",
       "      <td>Presidencia de la República</td>\n",
       "      <td>Presidencia de la República</td>\n",
       "      <td>Dotación a honorarios</td>\n",
       "      <td>Año 2018</td>\n",
       "      <td>allyear</td>\n",
       "      <td>ALCALDE</td>\n",
       "      <td>CORREA</td>\n",
       "      <td>FRANCISCA</td>\n",
       "      <td>ENCARGADA, DEPARTAMENTO REPOSTERO PRESIDENCIAL...</td>\n",
       "      <td>PRODUCCIÓN CULINARIA CON MENCIÓN EN ADMINISTRA...</td>\n",
       "      <td>NaN</td>\n",
       "      <td>RM</td>\n",
       "      <td>PESOS</td>\n",
       "      <td>3500000.0</td>\n",
       "      <td>SI</td>\n",
       "      <td>11/03/2018</td>\n",
       "      <td>31/12/2018</td>\n",
       "      <td>1</td>\n",
       "      <td>http://www.gobiernotransparentechile.cl/direct...</td>\n",
       "    </tr>\n",
       "    <tr>\n",
       "      <th>8</th>\n",
       "      <td>Presidencia de la República</td>\n",
       "      <td>Presidencia de la República</td>\n",
       "      <td>Dotación a honorarios</td>\n",
       "      <td>Año 2018</td>\n",
       "      <td>allyear</td>\n",
       "      <td>ALTAMIRANO</td>\n",
       "      <td>MOLINA</td>\n",
       "      <td>XAVIER</td>\n",
       "      <td>ASESOR, DEPARTAMENTO DE CONTENIDOS, EN EL MARC...</td>\n",
       "      <td>CIENTISTA POLÍTICO, MASTER EN COMUNICACIÓN POL...</td>\n",
       "      <td>NaN</td>\n",
       "      <td>RM</td>\n",
       "      <td>PESOS</td>\n",
       "      <td>4986667.0</td>\n",
       "      <td>SI</td>\n",
       "      <td>01/01/2018</td>\n",
       "      <td>10/03/2018</td>\n",
       "      <td>1, 5</td>\n",
       "      <td>http://www.gobiernotransparentechile.cl/direct...</td>\n",
       "    </tr>\n",
       "    <tr>\n",
       "      <th>9</th>\n",
       "      <td>Presidencia de la República</td>\n",
       "      <td>Presidencia de la República</td>\n",
       "      <td>Dotación a honorarios</td>\n",
       "      <td>Año 2018</td>\n",
       "      <td>allyear</td>\n",
       "      <td>ARACENA</td>\n",
       "      <td>GARRIDO</td>\n",
       "      <td>GUSTAVO ISMAEL</td>\n",
       "      <td>PERIODISTA, DIRECCIÓN DE PRENSA, EN EL MARCO D...</td>\n",
       "      <td>PERIODISTA</td>\n",
       "      <td>NaN</td>\n",
       "      <td>RM</td>\n",
       "      <td>PESOS</td>\n",
       "      <td>3598480.0</td>\n",
       "      <td>SI</td>\n",
       "      <td>01/01/2018</td>\n",
       "      <td>10/03/2018</td>\n",
       "      <td>1, 5</td>\n",
       "      <td>http://www.gobiernotransparentechile.cl/direct...</td>\n",
       "    </tr>\n",
       "    <tr>\n",
       "      <th>10</th>\n",
       "      <td>Presidencia de la República</td>\n",
       "      <td>Presidencia de la República</td>\n",
       "      <td>Dotación a honorarios</td>\n",
       "      <td>Año 2018</td>\n",
       "      <td>allyear</td>\n",
       "      <td>ARANEDA</td>\n",
       "      <td>SANHUEZA</td>\n",
       "      <td>FELIPE ANDRES</td>\n",
       "      <td>ASISTENTE, DEPARTAMENTO DE AVANZADA PRESIDENCI...</td>\n",
       "      <td>TÉCNICO ADMINISTRACIÓN DE EMPRESAS, MENCIÓN MA...</td>\n",
       "      <td>NaN</td>\n",
       "      <td>RM</td>\n",
       "      <td>PESOS</td>\n",
       "      <td>1360000.0</td>\n",
       "      <td>SI</td>\n",
       "      <td>01/01/2018</td>\n",
       "      <td>10/03/2018</td>\n",
       "      <td>1, 5</td>\n",
       "      <td>http://www.gobiernotransparentechile.cl/direct...</td>\n",
       "    </tr>\n",
       "    <tr>\n",
       "      <th>11</th>\n",
       "      <td>Presidencia de la República</td>\n",
       "      <td>Presidencia de la República</td>\n",
       "      <td>Dotación a honorarios</td>\n",
       "      <td>Año 2018</td>\n",
       "      <td>allyear</td>\n",
       "      <td>ARANEDA</td>\n",
       "      <td>BARAHONA</td>\n",
       "      <td>FRANCISCO ALFONSO</td>\n",
       "      <td>ASISTENTE ACTIVIDADES FOTOGRÁFICAS Y DE REGIST...</td>\n",
       "      <td>FOTÓGRAFO</td>\n",
       "      <td>NaN</td>\n",
       "      <td>RM</td>\n",
       "      <td>PESOS</td>\n",
       "      <td>1738943.0</td>\n",
       "      <td>SI</td>\n",
       "      <td>01/01/2018</td>\n",
       "      <td>31/12/2018</td>\n",
       "      <td>NaN</td>\n",
       "      <td>http://www.gobiernotransparentechile.cl/direct...</td>\n",
       "    </tr>\n",
       "    <tr>\n",
       "      <th>12</th>\n",
       "      <td>Presidencia de la República</td>\n",
       "      <td>Presidencia de la República</td>\n",
       "      <td>Dotación a honorarios</td>\n",
       "      <td>Año 2018</td>\n",
       "      <td>allyear</td>\n",
       "      <td>ARIZTÍA</td>\n",
       "      <td>CORREA</td>\n",
       "      <td>RAFAEL</td>\n",
       "      <td>DIRECTOR DE PROYECTOS ESPECIALES, GABINETE PRE...</td>\n",
       "      <td>INGENIERO CIVIL DE INDUSTRIAS</td>\n",
       "      <td>NaN</td>\n",
       "      <td>RM</td>\n",
       "      <td>PESOS</td>\n",
       "      <td>7000000.0</td>\n",
       "      <td>SI</td>\n",
       "      <td>11/03/2018</td>\n",
       "      <td>31/12/2018</td>\n",
       "      <td>1</td>\n",
       "      <td>http://www.gobiernotransparentechile.cl/direct...</td>\n",
       "    </tr>\n",
       "    <tr>\n",
       "      <th>13</th>\n",
       "      <td>Presidencia de la República</td>\n",
       "      <td>Presidencia de la República</td>\n",
       "      <td>Dotación a honorarios</td>\n",
       "      <td>Año 2018</td>\n",
       "      <td>allyear</td>\n",
       "      <td>ARRIAGADA</td>\n",
       "      <td>RIQUELME</td>\n",
       "      <td>ARMANDO HELENO</td>\n",
       "      <td>AVANZADA PRESIDENCIAL, DEPARTAMENTO DE AVANZAD...</td>\n",
       "      <td>LICENCIA DE ENSEÑANZA MEDIA, EXPERTO EN GESTIÓ...</td>\n",
       "      <td>NaN</td>\n",
       "      <td>RM</td>\n",
       "      <td>PESOS</td>\n",
       "      <td>3220264.0</td>\n",
       "      <td>SI</td>\n",
       "      <td>01/01/2018</td>\n",
       "      <td>10/03/2018</td>\n",
       "      <td>1, 5</td>\n",
       "      <td>http://www.gobiernotransparentechile.cl/direct...</td>\n",
       "    </tr>\n",
       "    <tr>\n",
       "      <th>14</th>\n",
       "      <td>Presidencia de la República</td>\n",
       "      <td>Presidencia de la República</td>\n",
       "      <td>Dotación a honorarios</td>\n",
       "      <td>Año 2018</td>\n",
       "      <td>allyear</td>\n",
       "      <td>ARROYO</td>\n",
       "      <td>SEPULVEDA</td>\n",
       "      <td>JUAN MANUEL</td>\n",
       "      <td>PERIODISTA, CAMBIO DE MANDO PRESIDENCIAL</td>\n",
       "      <td>PERIODISTA</td>\n",
       "      <td>NaN</td>\n",
       "      <td>RM</td>\n",
       "      <td>PESOS</td>\n",
       "      <td>1800000.0</td>\n",
       "      <td>SI</td>\n",
       "      <td>23/01/2018</td>\n",
       "      <td>11/03/2018</td>\n",
       "      <td>1, 5</td>\n",
       "      <td>http://www.gobiernotransparentechile.cl/direct...</td>\n",
       "    </tr>\n",
       "    <tr>\n",
       "      <th>15</th>\n",
       "      <td>Presidencia de la República</td>\n",
       "      <td>Presidencia de la República</td>\n",
       "      <td>Dotación a honorarios</td>\n",
       "      <td>Año 2018</td>\n",
       "      <td>allyear</td>\n",
       "      <td>ATIAS</td>\n",
       "      <td>CASTILLO</td>\n",
       "      <td>PAULA ANTONIA</td>\n",
       "      <td>ASISTENTE DIRECTORA, GABINETE PRESIDENCIAL, EN...</td>\n",
       "      <td>LICENCIADA EN LETRAS</td>\n",
       "      <td>NaN</td>\n",
       "      <td>RM</td>\n",
       "      <td>PESOS</td>\n",
       "      <td>3246027.0</td>\n",
       "      <td>SI</td>\n",
       "      <td>01/01/2018</td>\n",
       "      <td>10/03/2018</td>\n",
       "      <td>1, 5</td>\n",
       "      <td>http://www.gobiernotransparentechile.cl/direct...</td>\n",
       "    </tr>\n",
       "    <tr>\n",
       "      <th>16</th>\n",
       "      <td>Presidencia de la República</td>\n",
       "      <td>Presidencia de la República</td>\n",
       "      <td>Dotación a honorarios</td>\n",
       "      <td>Año 2018</td>\n",
       "      <td>allyear</td>\n",
       "      <td>AYALA</td>\n",
       "      <td>BARRIA</td>\n",
       "      <td>JORGE SEBASTIAN</td>\n",
       "      <td>ANALISTA, SUBVENCIONES PRESIDENCIALES, EN EL M...</td>\n",
       "      <td>EGRESADO PROGRAMA DE ESTUDIO ANALISTA PROGRAMADOR</td>\n",
       "      <td>NaN</td>\n",
       "      <td>RM</td>\n",
       "      <td>PESOS</td>\n",
       "      <td>840480.0</td>\n",
       "      <td>SI</td>\n",
       "      <td>01/01/2018</td>\n",
       "      <td>31/12/2018</td>\n",
       "      <td>NaN</td>\n",
       "      <td>http://www.gobiernotransparentechile.cl/direct...</td>\n",
       "    </tr>\n",
       "    <tr>\n",
       "      <th>17</th>\n",
       "      <td>Presidencia de la República</td>\n",
       "      <td>Presidencia de la República</td>\n",
       "      <td>Dotación a honorarios</td>\n",
       "      <td>Año 2018</td>\n",
       "      <td>allyear</td>\n",
       "      <td>BAEZA</td>\n",
       "      <td>RIVERO</td>\n",
       "      <td>VERÓNICA DEL CARMEN</td>\n",
       "      <td>ASESORA, GABINETE PRESIDENCIAL, EN EL MARCO DE...</td>\n",
       "      <td>TÉCNICO EN ADMINISTRACIÓN, MENCIÓN DECORACIÓN ...</td>\n",
       "      <td>NaN</td>\n",
       "      <td>RM</td>\n",
       "      <td>PESOS</td>\n",
       "      <td>2833832.0</td>\n",
       "      <td>SI</td>\n",
       "      <td>01/01/2018</td>\n",
       "      <td>10/03/2018</td>\n",
       "      <td>1, 5</td>\n",
       "      <td>http://www.gobiernotransparentechile.cl/direct...</td>\n",
       "    </tr>\n",
       "    <tr>\n",
       "      <th>18</th>\n",
       "      <td>Presidencia de la República</td>\n",
       "      <td>Presidencia de la República</td>\n",
       "      <td>Dotación a honorarios</td>\n",
       "      <td>Año 2018</td>\n",
       "      <td>allyear</td>\n",
       "      <td>BALLADARES</td>\n",
       "      <td>LETELIER</td>\n",
       "      <td>ANDREA PAZ</td>\n",
       "      <td>CORDINADORA VISITAS OFICIALES E INVITADOS , CA...</td>\n",
       "      <td>LICENCIA DE ENSEÑANZA MEDIA</td>\n",
       "      <td>NaN</td>\n",
       "      <td>RM</td>\n",
       "      <td>PESOS</td>\n",
       "      <td>1777778.0</td>\n",
       "      <td>SI</td>\n",
       "      <td>23/01/2018</td>\n",
       "      <td>11/03/2018</td>\n",
       "      <td>1, 5</td>\n",
       "      <td>http://www.gobiernotransparentechile.cl/direct...</td>\n",
       "    </tr>\n",
       "    <tr>\n",
       "      <th>19</th>\n",
       "      <td>Presidencia de la República</td>\n",
       "      <td>Presidencia de la República</td>\n",
       "      <td>Dotación a honorarios</td>\n",
       "      <td>Año 2018</td>\n",
       "      <td>allyear</td>\n",
       "      <td>BARANDA</td>\n",
       "      <td>FERRÁN</td>\n",
       "      <td>BENITO JOSÉ</td>\n",
       "      <td>COORDINADOR DE LA VISITA PAPAL A CHILE, DIRECC...</td>\n",
       "      <td>PSICÓLOGO</td>\n",
       "      <td>NaN</td>\n",
       "      <td>RM</td>\n",
       "      <td>PESOS</td>\n",
       "      <td>3400000.0</td>\n",
       "      <td>SI</td>\n",
       "      <td>01/01/2018</td>\n",
       "      <td>31/01/2018</td>\n",
       "      <td>5</td>\n",
       "      <td>http://www.gobiernotransparentechile.cl/direct...</td>\n",
       "    </tr>\n",
       "    <tr>\n",
       "      <th>20</th>\n",
       "      <td>Presidencia de la República</td>\n",
       "      <td>Presidencia de la República</td>\n",
       "      <td>Dotación a honorarios</td>\n",
       "      <td>Año 2018</td>\n",
       "      <td>allyear</td>\n",
       "      <td>BARNACHEA</td>\n",
       "      <td>VASQUEZ</td>\n",
       "      <td>HUMBERTO FELIPE</td>\n",
       "      <td>ENCARGADO, DEPARTAMENTO DE AVANZADA PRESIDENCI...</td>\n",
       "      <td>PROFESOR DE ESTADO EN FILOSOFÍA, MAGÍSTER EN C...</td>\n",
       "      <td>NaN</td>\n",
       "      <td>RM</td>\n",
       "      <td>PESOS</td>\n",
       "      <td>5252470.0</td>\n",
       "      <td>SI</td>\n",
       "      <td>01/01/2018</td>\n",
       "      <td>10/03/2018</td>\n",
       "      <td>1, 5</td>\n",
       "      <td>http://www.gobiernotransparentechile.cl/direct...</td>\n",
       "    </tr>\n",
       "    <tr>\n",
       "      <th>21</th>\n",
       "      <td>Presidencia de la República</td>\n",
       "      <td>Presidencia de la República</td>\n",
       "      <td>Dotación a honorarios</td>\n",
       "      <td>Año 2018</td>\n",
       "      <td>allyear</td>\n",
       "      <td>BASCUÑÁN</td>\n",
       "      <td>TORO</td>\n",
       "      <td>RODRIGO JAVIER</td>\n",
       "      <td>ANALISTA, DIRECCIÓN DE GESTIÓN Y CORRESPONDENC...</td>\n",
       "      <td>LICENCIADO EN INGENIERÍA EXPERTO EN GESTIÓN Y ...</td>\n",
       "      <td>NaN</td>\n",
       "      <td>RM</td>\n",
       "      <td>PESOS</td>\n",
       "      <td>1246666.0</td>\n",
       "      <td>SI</td>\n",
       "      <td>01/01/2018</td>\n",
       "      <td>10/03/2018</td>\n",
       "      <td>1, 5</td>\n",
       "      <td>http://www.gobiernotransparentechile.cl/direct...</td>\n",
       "    </tr>\n",
       "    <tr>\n",
       "      <th>22</th>\n",
       "      <td>Presidencia de la República</td>\n",
       "      <td>Presidencia de la República</td>\n",
       "      <td>Dotación a honorarios</td>\n",
       "      <td>Año 2018</td>\n",
       "      <td>allyear</td>\n",
       "      <td>BASCUR</td>\n",
       "      <td>TAPIA</td>\n",
       "      <td>FRANCISCO ANDRÉS</td>\n",
       "      <td>AVANZADA PRESIDENCIAL, DEPARTAMENTO DE AVANZAD...</td>\n",
       "      <td>ASISTENTE SOCIAL</td>\n",
       "      <td>NaN</td>\n",
       "      <td>RM</td>\n",
       "      <td>PESOS</td>\n",
       "      <td>3220264.0</td>\n",
       "      <td>SI</td>\n",
       "      <td>01/01/2018</td>\n",
       "      <td>10/03/2018</td>\n",
       "      <td>1, 5</td>\n",
       "      <td>http://www.gobiernotransparentechile.cl/direct...</td>\n",
       "    </tr>\n",
       "    <tr>\n",
       "      <th>23</th>\n",
       "      <td>Presidencia de la República</td>\n",
       "      <td>Presidencia de la República</td>\n",
       "      <td>Dotación a honorarios</td>\n",
       "      <td>Año 2018</td>\n",
       "      <td>allyear</td>\n",
       "      <td>BELLO</td>\n",
       "      <td>ARELLANO</td>\n",
       "      <td>DANIEL</td>\n",
       "      <td>ASESOR, DEPARTAMENTO DE CONTENIDOS, EN EL MARC...</td>\n",
       "      <td>PROFESOR DE ARTES MUSICALES PARA EDUCACIÓN BÁS...</td>\n",
       "      <td>NaN</td>\n",
       "      <td>RM</td>\n",
       "      <td>PESOS</td>\n",
       "      <td>3709744.0</td>\n",
       "      <td>SI</td>\n",
       "      <td>01/01/2018</td>\n",
       "      <td>10/03/2018</td>\n",
       "      <td>1, 5</td>\n",
       "      <td>http://www.gobiernotransparentechile.cl/direct...</td>\n",
       "    </tr>\n",
       "    <tr>\n",
       "      <th>24</th>\n",
       "      <td>Presidencia de la República</td>\n",
       "      <td>Presidencia de la República</td>\n",
       "      <td>Dotación a honorarios</td>\n",
       "      <td>Año 2018</td>\n",
       "      <td>allyear</td>\n",
       "      <td>BERRIOS</td>\n",
       "      <td>CORNEJO</td>\n",
       "      <td>PATRICIO ALFREDO</td>\n",
       "      <td>PRODUCTOR PRESIDENCIAL, DEPARTAMENTO DE PRODUC...</td>\n",
       "      <td>DISEÑADOR, CON MENCIÓN EN COMUNICACIÓN VISUAL</td>\n",
       "      <td>NaN</td>\n",
       "      <td>RM</td>\n",
       "      <td>PESOS</td>\n",
       "      <td>3220264.0</td>\n",
       "      <td>SI</td>\n",
       "      <td>01/01/2018</td>\n",
       "      <td>10/03/2018</td>\n",
       "      <td>1, 5</td>\n",
       "      <td>http://www.gobiernotransparentechile.cl/direct...</td>\n",
       "    </tr>\n",
       "    <tr>\n",
       "      <th>25</th>\n",
       "      <td>Presidencia de la República</td>\n",
       "      <td>Presidencia de la República</td>\n",
       "      <td>Dotación a honorarios</td>\n",
       "      <td>Año 2018</td>\n",
       "      <td>allyear</td>\n",
       "      <td>BOZO</td>\n",
       "      <td>HERRERA</td>\n",
       "      <td>JUAN CARLOS</td>\n",
       "      <td>CAMARÓGRAFO, DIRECCIÓN DE PRENSA, EN EL MARCO ...</td>\n",
       "      <td>COMUNICADOR AUDIOVISUAL</td>\n",
       "      <td>NaN</td>\n",
       "      <td>RM</td>\n",
       "      <td>PESOS</td>\n",
       "      <td>1932158.0</td>\n",
       "      <td>SI</td>\n",
       "      <td>01/01/2018</td>\n",
       "      <td>31/12/2018</td>\n",
       "      <td>NaN</td>\n",
       "      <td>http://www.gobiernotransparentechile.cl/direct...</td>\n",
       "    </tr>\n",
       "    <tr>\n",
       "      <th>26</th>\n",
       "      <td>Presidencia de la República</td>\n",
       "      <td>Presidencia de la República</td>\n",
       "      <td>Dotación a honorarios</td>\n",
       "      <td>Año 2018</td>\n",
       "      <td>allyear</td>\n",
       "      <td>BRAVO</td>\n",
       "      <td>VALDES</td>\n",
       "      <td>LUZ ELENA</td>\n",
       "      <td>AVANZADA PRESIDENCIAL, DEPARTAMENTO DE AVANZAD...</td>\n",
       "      <td>LICENCIA DE ENSEÑANZA MEDIA, EXPERTA EN PRODUC...</td>\n",
       "      <td>NaN</td>\n",
       "      <td>RM</td>\n",
       "      <td>PESOS</td>\n",
       "      <td>3220264.0</td>\n",
       "      <td>SI</td>\n",
       "      <td>01/01/2018</td>\n",
       "      <td>10/03/2018</td>\n",
       "      <td>1, 5</td>\n",
       "      <td>http://www.gobiernotransparentechile.cl/direct...</td>\n",
       "    </tr>\n",
       "    <tr>\n",
       "      <th>27</th>\n",
       "      <td>Presidencia de la República</td>\n",
       "      <td>Presidencia de la República</td>\n",
       "      <td>Dotación a honorarios</td>\n",
       "      <td>Año 2018</td>\n",
       "      <td>allyear</td>\n",
       "      <td>BRUNA</td>\n",
       "      <td>CARAFI</td>\n",
       "      <td>JUAN JOSÉ</td>\n",
       "      <td>DIRECTOR DE PRENSA, DIRECCIÓN DE PRENSA, EN EL...</td>\n",
       "      <td>PERIODISTA</td>\n",
       "      <td>NaN</td>\n",
       "      <td>RM</td>\n",
       "      <td>PESOS</td>\n",
       "      <td>5500000.0</td>\n",
       "      <td>SI</td>\n",
       "      <td>12/03/2018</td>\n",
       "      <td>31/12/2018</td>\n",
       "      <td>1</td>\n",
       "      <td>http://www.gobiernotransparentechile.cl/direct...</td>\n",
       "    </tr>\n",
       "    <tr>\n",
       "      <th>28</th>\n",
       "      <td>Presidencia de la República</td>\n",
       "      <td>Presidencia de la República</td>\n",
       "      <td>Dotación a honorarios</td>\n",
       "      <td>Año 2018</td>\n",
       "      <td>allyear</td>\n",
       "      <td>BRUNA</td>\n",
       "      <td>CARAFI</td>\n",
       "      <td>JUAN FRANCISCO</td>\n",
       "      <td>ENCARGADO DE PRENSA, CAMBIO DE MANDO PRESIDENCIAL</td>\n",
       "      <td>PERIODISTA</td>\n",
       "      <td>NaN</td>\n",
       "      <td>RM</td>\n",
       "      <td>PESOS</td>\n",
       "      <td>4316000.0</td>\n",
       "      <td>SI</td>\n",
       "      <td>23/01/2018</td>\n",
       "      <td>11/03/2018</td>\n",
       "      <td>1, 5</td>\n",
       "      <td>http://www.gobiernotransparentechile.cl/direct...</td>\n",
       "    </tr>\n",
       "    <tr>\n",
       "      <th>29</th>\n",
       "      <td>Presidencia de la República</td>\n",
       "      <td>Presidencia de la República</td>\n",
       "      <td>Dotación a honorarios</td>\n",
       "      <td>Año 2018</td>\n",
       "      <td>allyear</td>\n",
       "      <td>CAÑAS</td>\n",
       "      <td>MONTT</td>\n",
       "      <td>JUAN PABLO</td>\n",
       "      <td>ENCARGADO DE PRENSA GABINETE PRIMERA DAMA, GAB...</td>\n",
       "      <td>PERIODISTA</td>\n",
       "      <td>NaN</td>\n",
       "      <td>RM</td>\n",
       "      <td>PESOS</td>\n",
       "      <td>3666667.0</td>\n",
       "      <td>SI</td>\n",
       "      <td>11/03/2018</td>\n",
       "      <td>31/12/2018</td>\n",
       "      <td>1</td>\n",
       "      <td>http://www.gobiernotransparentechile.cl/direct...</td>\n",
       "    </tr>\n",
       "    <tr>\n",
       "      <th>...</th>\n",
       "      <td>...</td>\n",
       "      <td>...</td>\n",
       "      <td>...</td>\n",
       "      <td>...</td>\n",
       "      <td>...</td>\n",
       "      <td>...</td>\n",
       "      <td>...</td>\n",
       "      <td>...</td>\n",
       "      <td>...</td>\n",
       "      <td>...</td>\n",
       "      <td>...</td>\n",
       "      <td>...</td>\n",
       "      <td>...</td>\n",
       "      <td>...</td>\n",
       "      <td>...</td>\n",
       "      <td>...</td>\n",
       "      <td>...</td>\n",
       "      <td>...</td>\n",
       "      <td>...</td>\n",
       "    </tr>\n",
       "    <tr>\n",
       "      <th>111158</th>\n",
       "      <td>Ministerio del Interior y Seguridad Pública</td>\n",
       "      <td>Subsecretaría de Prevención del Delito</td>\n",
       "      <td>Dotación a honorarios</td>\n",
       "      <td>Año 2017</td>\n",
       "      <td>Abril</td>\n",
       "      <td>VALENZUELA</td>\n",
       "      <td>AQUEVEQUE</td>\n",
       "      <td>MANUEL ALFREDO</td>\n",
       "      <td>ESTAFETA ADMINISTRATIVO CAVD CONCEPCION</td>\n",
       "      <td>EXPERTO EN LABORES ADMINISTRATIVAS</td>\n",
       "      <td>NO APLICA</td>\n",
       "      <td>8</td>\n",
       "      <td>PESOS</td>\n",
       "      <td>446126.0</td>\n",
       "      <td>SI</td>\n",
       "      <td>01/01/2017</td>\n",
       "      <td>31/12/2017</td>\n",
       "      <td>NaN</td>\n",
       "      <td>http://www.gobiernotransparentechile.cl/direct...</td>\n",
       "    </tr>\n",
       "    <tr>\n",
       "      <th>111159</th>\n",
       "      <td>Ministerio del Interior y Seguridad Pública</td>\n",
       "      <td>Subsecretaría de Prevención del Delito</td>\n",
       "      <td>Dotación a honorarios</td>\n",
       "      <td>Año 2017</td>\n",
       "      <td>Abril</td>\n",
       "      <td>VALENZUELA</td>\n",
       "      <td>MAASS</td>\n",
       "      <td>CESAR IGNACIO</td>\n",
       "      <td>COORDINADOR PROGRAMA DENUNCIA SEGURO</td>\n",
       "      <td>ABOGADO</td>\n",
       "      <td>NO APLICA</td>\n",
       "      <td>13</td>\n",
       "      <td>PESOS</td>\n",
       "      <td>3416312.0</td>\n",
       "      <td>SI</td>\n",
       "      <td>01/01/2017</td>\n",
       "      <td>31/12/2017</td>\n",
       "      <td>NaN</td>\n",
       "      <td>http://www.gobiernotransparentechile.cl/direct...</td>\n",
       "    </tr>\n",
       "    <tr>\n",
       "      <th>111160</th>\n",
       "      <td>Ministerio del Interior y Seguridad Pública</td>\n",
       "      <td>Subsecretaría de Prevención del Delito</td>\n",
       "      <td>Dotación a honorarios</td>\n",
       "      <td>Año 2017</td>\n",
       "      <td>Abril</td>\n",
       "      <td>VARGAS</td>\n",
       "      <td>ARRIAGADA</td>\n",
       "      <td>LUZ GWENDOLINE ETELINDA</td>\n",
       "      <td>TRABAJADORA SOCIAL CAVD TEMUCO</td>\n",
       "      <td>ASISTENTE SOCIAL</td>\n",
       "      <td>NO APLICA</td>\n",
       "      <td>9</td>\n",
       "      <td>PESOS</td>\n",
       "      <td>1405071.0</td>\n",
       "      <td>SI</td>\n",
       "      <td>01/01/2017</td>\n",
       "      <td>31/12/2017</td>\n",
       "      <td>NaN</td>\n",
       "      <td>http://www.gobiernotransparentechile.cl/direct...</td>\n",
       "    </tr>\n",
       "    <tr>\n",
       "      <th>111161</th>\n",
       "      <td>Ministerio del Interior y Seguridad Pública</td>\n",
       "      <td>Subsecretaría de Prevención del Delito</td>\n",
       "      <td>Dotación a honorarios</td>\n",
       "      <td>Año 2017</td>\n",
       "      <td>Abril</td>\n",
       "      <td>VARGAS</td>\n",
       "      <td>CABELLO</td>\n",
       "      <td>JULIA DEL CARMEN</td>\n",
       "      <td>ESTAFETA ADMINISTRATIVA CAVD PROVIDENCIA</td>\n",
       "      <td>EXPERTA EN LABORES ADMINISTRATIVAS</td>\n",
       "      <td>NO APLICA</td>\n",
       "      <td>13</td>\n",
       "      <td>PESOS</td>\n",
       "      <td>430454.0</td>\n",
       "      <td>SI</td>\n",
       "      <td>01/01/2017</td>\n",
       "      <td>31/12/2017</td>\n",
       "      <td>NaN</td>\n",
       "      <td>http://www.gobiernotransparentechile.cl/direct...</td>\n",
       "    </tr>\n",
       "    <tr>\n",
       "      <th>111162</th>\n",
       "      <td>Ministerio del Interior y Seguridad Pública</td>\n",
       "      <td>Subsecretaría de Prevención del Delito</td>\n",
       "      <td>Dotación a honorarios</td>\n",
       "      <td>Año 2017</td>\n",
       "      <td>Abril</td>\n",
       "      <td>VARGAS</td>\n",
       "      <td>HAZBUN</td>\n",
       "      <td>CAROLINA ANDREA</td>\n",
       "      <td>PROFESIONAL UNIDAD GESTION Y DESARROLLO PROGRA...</td>\n",
       "      <td>PSICOLOGA</td>\n",
       "      <td>NO APLICA</td>\n",
       "      <td>13</td>\n",
       "      <td>PESOS</td>\n",
       "      <td>1878972.0</td>\n",
       "      <td>SI</td>\n",
       "      <td>01/01/2017</td>\n",
       "      <td>31/12/2017</td>\n",
       "      <td>NaN</td>\n",
       "      <td>http://www.gobiernotransparentechile.cl/direct...</td>\n",
       "    </tr>\n",
       "    <tr>\n",
       "      <th>111163</th>\n",
       "      <td>Ministerio del Interior y Seguridad Pública</td>\n",
       "      <td>Subsecretaría de Prevención del Delito</td>\n",
       "      <td>Dotación a honorarios</td>\n",
       "      <td>Año 2017</td>\n",
       "      <td>Abril</td>\n",
       "      <td>VARGAS</td>\n",
       "      <td>VALENZUELA</td>\n",
       "      <td>VERONICA MARGARITA</td>\n",
       "      <td>TRABAJADORA SOCIAL CAVD CONCEPCION</td>\n",
       "      <td>ASISTENTE SOCIAL</td>\n",
       "      <td>NO APLICA</td>\n",
       "      <td>8</td>\n",
       "      <td>PESOS</td>\n",
       "      <td>1528500.0</td>\n",
       "      <td>SI</td>\n",
       "      <td>01/01/2017</td>\n",
       "      <td>31/12/2017</td>\n",
       "      <td>NaN</td>\n",
       "      <td>http://www.gobiernotransparentechile.cl/direct...</td>\n",
       "    </tr>\n",
       "    <tr>\n",
       "      <th>111164</th>\n",
       "      <td>Ministerio del Interior y Seguridad Pública</td>\n",
       "      <td>Subsecretaría de Prevención del Delito</td>\n",
       "      <td>Dotación a honorarios</td>\n",
       "      <td>Año 2017</td>\n",
       "      <td>Abril</td>\n",
       "      <td>VASQUEZ</td>\n",
       "      <td>CONTRERAS</td>\n",
       "      <td>MARIA ALEJANDRA</td>\n",
       "      <td>TRABAJADORA SOCIAL CAVD SAN FERNANDO</td>\n",
       "      <td>ASISTENTE SOCIAL</td>\n",
       "      <td>NO APLICA</td>\n",
       "      <td>6</td>\n",
       "      <td>PESOS</td>\n",
       "      <td>1024894.0</td>\n",
       "      <td>SI</td>\n",
       "      <td>01/01/2017</td>\n",
       "      <td>31/12/2017</td>\n",
       "      <td>NaN</td>\n",
       "      <td>http://www.gobiernotransparentechile.cl/direct...</td>\n",
       "    </tr>\n",
       "    <tr>\n",
       "      <th>111165</th>\n",
       "      <td>Ministerio del Interior y Seguridad Pública</td>\n",
       "      <td>Subsecretaría de Prevención del Delito</td>\n",
       "      <td>Dotación a honorarios</td>\n",
       "      <td>Año 2017</td>\n",
       "      <td>Abril</td>\n",
       "      <td>VASQUEZ</td>\n",
       "      <td>FREDES</td>\n",
       "      <td>PATRICIO LEANDRO</td>\n",
       "      <td>PROFESIONAL RECEPTOR DE LLAMADAS Y ANALISTA PR...</td>\n",
       "      <td>CIENTISTA CRIMINALISTICO</td>\n",
       "      <td>NO APLICA</td>\n",
       "      <td>13</td>\n",
       "      <td>PESOS</td>\n",
       "      <td>1081832.0</td>\n",
       "      <td>SI</td>\n",
       "      <td>01/01/2017</td>\n",
       "      <td>31/12/2017</td>\n",
       "      <td>NaN</td>\n",
       "      <td>http://www.gobiernotransparentechile.cl/direct...</td>\n",
       "    </tr>\n",
       "    <tr>\n",
       "      <th>111166</th>\n",
       "      <td>Ministerio del Interior y Seguridad Pública</td>\n",
       "      <td>Subsecretaría de Prevención del Delito</td>\n",
       "      <td>Dotación a honorarios</td>\n",
       "      <td>Año 2017</td>\n",
       "      <td>Abril</td>\n",
       "      <td>VASQUEZ</td>\n",
       "      <td>MANSILLA</td>\n",
       "      <td>DANIELA ALEJANDRA</td>\n",
       "      <td>PSICOLOGA CAVD PUNTA ARENAS</td>\n",
       "      <td>PSICOLOGA</td>\n",
       "      <td>NO APLICA</td>\n",
       "      <td>12</td>\n",
       "      <td>PESOS</td>\n",
       "      <td>1342029.0</td>\n",
       "      <td>SI</td>\n",
       "      <td>01/01/2017</td>\n",
       "      <td>31/12/2017</td>\n",
       "      <td>NaN</td>\n",
       "      <td>http://www.gobiernotransparentechile.cl/direct...</td>\n",
       "    </tr>\n",
       "    <tr>\n",
       "      <th>111167</th>\n",
       "      <td>Ministerio del Interior y Seguridad Pública</td>\n",
       "      <td>Subsecretaría de Prevención del Delito</td>\n",
       "      <td>Dotación a honorarios</td>\n",
       "      <td>Año 2017</td>\n",
       "      <td>Abril</td>\n",
       "      <td>VEAS</td>\n",
       "      <td>FUENTES</td>\n",
       "      <td>CAROLINA ANDREA</td>\n",
       "      <td>ESTAFETA ADMINISTRATIVA CAVD ANTOFAGASTA</td>\n",
       "      <td>EXPERTA EN LABORES ADMINISTRATIVAS</td>\n",
       "      <td>NO APLICA</td>\n",
       "      <td>2</td>\n",
       "      <td>PESOS</td>\n",
       "      <td>453688.0</td>\n",
       "      <td>SI</td>\n",
       "      <td>01/01/2017</td>\n",
       "      <td>31/12/2017</td>\n",
       "      <td>NaN</td>\n",
       "      <td>http://www.gobiernotransparentechile.cl/direct...</td>\n",
       "    </tr>\n",
       "    <tr>\n",
       "      <th>111168</th>\n",
       "      <td>Ministerio del Interior y Seguridad Pública</td>\n",
       "      <td>Subsecretaría de Prevención del Delito</td>\n",
       "      <td>Dotación a honorarios</td>\n",
       "      <td>Año 2017</td>\n",
       "      <td>Abril</td>\n",
       "      <td>VEGA</td>\n",
       "      <td>CAMPOS</td>\n",
       "      <td>ALEJANDRO ANDRES</td>\n",
       "      <td>ASESOR DE GABINETE</td>\n",
       "      <td>ADMINISTRADOR PUBLICO</td>\n",
       "      <td>NO APLICA</td>\n",
       "      <td>13</td>\n",
       "      <td>PESOS</td>\n",
       "      <td>2990000.0</td>\n",
       "      <td>SI</td>\n",
       "      <td>13/04/2017</td>\n",
       "      <td>31/12/2017</td>\n",
       "      <td>NaN</td>\n",
       "      <td>http://www.gobiernotransparentechile.cl/direct...</td>\n",
       "    </tr>\n",
       "    <tr>\n",
       "      <th>111169</th>\n",
       "      <td>Ministerio del Interior y Seguridad Pública</td>\n",
       "      <td>Subsecretaría de Prevención del Delito</td>\n",
       "      <td>Dotación a honorarios</td>\n",
       "      <td>Año 2017</td>\n",
       "      <td>Abril</td>\n",
       "      <td>VELASCO</td>\n",
       "      <td>PEREZ</td>\n",
       "      <td>XIMENA YOLANDA</td>\n",
       "      <td>ASESORA SUBSECRETARIO</td>\n",
       "      <td>CONTADORA AUDITORA</td>\n",
       "      <td>NO APLICA</td>\n",
       "      <td>13</td>\n",
       "      <td>PESOS</td>\n",
       "      <td>3300000.0</td>\n",
       "      <td>SI</td>\n",
       "      <td>03/01/2017</td>\n",
       "      <td>31/12/2017</td>\n",
       "      <td>NaN</td>\n",
       "      <td>http://www.gobiernotransparentechile.cl/direct...</td>\n",
       "    </tr>\n",
       "    <tr>\n",
       "      <th>111170</th>\n",
       "      <td>Ministerio del Interior y Seguridad Pública</td>\n",
       "      <td>Subsecretaría de Prevención del Delito</td>\n",
       "      <td>Dotación a honorarios</td>\n",
       "      <td>Año 2017</td>\n",
       "      <td>Abril</td>\n",
       "      <td>VERA</td>\n",
       "      <td>VERA</td>\n",
       "      <td>MARJORIE ELIZABETH</td>\n",
       "      <td>PROFESIONAL RECEPTOR DE LLAMADAS Y ANALISTA PR...</td>\n",
       "      <td>TRABAJADORA SOCIAL</td>\n",
       "      <td>NO APLICA</td>\n",
       "      <td>13</td>\n",
       "      <td>PESOS</td>\n",
       "      <td>1081832.0</td>\n",
       "      <td>SI</td>\n",
       "      <td>01/01/2017</td>\n",
       "      <td>31/12/2017</td>\n",
       "      <td>NaN</td>\n",
       "      <td>http://www.gobiernotransparentechile.cl/direct...</td>\n",
       "    </tr>\n",
       "    <tr>\n",
       "      <th>111171</th>\n",
       "      <td>Ministerio del Interior y Seguridad Pública</td>\n",
       "      <td>Subsecretaría de Prevención del Delito</td>\n",
       "      <td>Dotación a honorarios</td>\n",
       "      <td>Año 2017</td>\n",
       "      <td>Abril</td>\n",
       "      <td>VERGARA</td>\n",
       "      <td>PINO</td>\n",
       "      <td>JOSE ARTURO</td>\n",
       "      <td>ASESOR DEPARTAMENTO DE ESTUDIOS Y EVALUACION D...</td>\n",
       "      <td>ASESOR(A)</td>\n",
       "      <td>NO APLICA</td>\n",
       "      <td>13</td>\n",
       "      <td>PESOS</td>\n",
       "      <td>2400000.0</td>\n",
       "      <td>SI</td>\n",
       "      <td>06/02/2017</td>\n",
       "      <td>05/05/2017</td>\n",
       "      <td>NaN</td>\n",
       "      <td>http://www.gobiernotransparentechile.cl/direct...</td>\n",
       "    </tr>\n",
       "    <tr>\n",
       "      <th>111172</th>\n",
       "      <td>Ministerio del Interior y Seguridad Pública</td>\n",
       "      <td>Subsecretaría de Prevención del Delito</td>\n",
       "      <td>Dotación a honorarios</td>\n",
       "      <td>Año 2017</td>\n",
       "      <td>Abril</td>\n",
       "      <td>VERNAL</td>\n",
       "      <td>LUNA</td>\n",
       "      <td>CAROLINA ISABEL</td>\n",
       "      <td>ASESORA TECNICA METODOLOGICO</td>\n",
       "      <td>ASISTENTE SOCIAL</td>\n",
       "      <td>NO APLICA</td>\n",
       "      <td>13</td>\n",
       "      <td>PESOS</td>\n",
       "      <td>1933762.0</td>\n",
       "      <td>SI</td>\n",
       "      <td>01/01/2017</td>\n",
       "      <td>31/12/2017</td>\n",
       "      <td>NaN</td>\n",
       "      <td>http://www.gobiernotransparentechile.cl/direct...</td>\n",
       "    </tr>\n",
       "    <tr>\n",
       "      <th>111173</th>\n",
       "      <td>Ministerio del Interior y Seguridad Pública</td>\n",
       "      <td>Subsecretaría de Prevención del Delito</td>\n",
       "      <td>Dotación a honorarios</td>\n",
       "      <td>Año 2017</td>\n",
       "      <td>Abril</td>\n",
       "      <td>VILCHES</td>\n",
       "      <td>MALHUE</td>\n",
       "      <td>HERNAN SEGUNDO</td>\n",
       "      <td>PSICOLOGO CAVD VALPARAISO</td>\n",
       "      <td>PSICOLOGO</td>\n",
       "      <td>NO APLICA</td>\n",
       "      <td>5</td>\n",
       "      <td>PESOS</td>\n",
       "      <td>966881.0</td>\n",
       "      <td>SI</td>\n",
       "      <td>01/01/2017</td>\n",
       "      <td>31/12/2017</td>\n",
       "      <td>NaN</td>\n",
       "      <td>http://www.gobiernotransparentechile.cl/direct...</td>\n",
       "    </tr>\n",
       "    <tr>\n",
       "      <th>111174</th>\n",
       "      <td>Ministerio del Interior y Seguridad Pública</td>\n",
       "      <td>Subsecretaría de Prevención del Delito</td>\n",
       "      <td>Dotación a honorarios</td>\n",
       "      <td>Año 2017</td>\n",
       "      <td>Abril</td>\n",
       "      <td>VILLABLANCA</td>\n",
       "      <td>NAVEA</td>\n",
       "      <td>VERONICA EUGENIA</td>\n",
       "      <td>ASESORA TERAPIA MULTISISTEMICA</td>\n",
       "      <td>PSICOLOGA</td>\n",
       "      <td>NO APLICA</td>\n",
       "      <td>13</td>\n",
       "      <td>PESOS</td>\n",
       "      <td>2625408.0</td>\n",
       "      <td>SI</td>\n",
       "      <td>01/01/2017</td>\n",
       "      <td>31/12/2017</td>\n",
       "      <td>NaN</td>\n",
       "      <td>http://www.gobiernotransparentechile.cl/direct...</td>\n",
       "    </tr>\n",
       "    <tr>\n",
       "      <th>111175</th>\n",
       "      <td>Ministerio del Interior y Seguridad Pública</td>\n",
       "      <td>Subsecretaría de Prevención del Delito</td>\n",
       "      <td>Dotación a honorarios</td>\n",
       "      <td>Año 2017</td>\n",
       "      <td>Abril</td>\n",
       "      <td>VILLAGRAN</td>\n",
       "      <td>MUÑOZ</td>\n",
       "      <td>KARLA ANDREA</td>\n",
       "      <td>TRABAJADORA SOCIAL CAVD CHILLAN</td>\n",
       "      <td>TRABAJADORA SOCIAL</td>\n",
       "      <td>NO APLICA</td>\n",
       "      <td>8</td>\n",
       "      <td>PESOS</td>\n",
       "      <td>1024894.0</td>\n",
       "      <td>SI</td>\n",
       "      <td>01/01/2017</td>\n",
       "      <td>31/12/2017</td>\n",
       "      <td>NaN</td>\n",
       "      <td>http://www.gobiernotransparentechile.cl/direct...</td>\n",
       "    </tr>\n",
       "    <tr>\n",
       "      <th>111176</th>\n",
       "      <td>Ministerio del Interior y Seguridad Pública</td>\n",
       "      <td>Subsecretaría de Prevención del Delito</td>\n",
       "      <td>Dotación a honorarios</td>\n",
       "      <td>Año 2017</td>\n",
       "      <td>Abril</td>\n",
       "      <td>VILLAGRAN</td>\n",
       "      <td>MUÑOZ</td>\n",
       "      <td>PAOLA BERNARDITA</td>\n",
       "      <td>ASESORA JURIDICA CAVD CONCEPCION</td>\n",
       "      <td>EXPERTA EN ASESORIA JURIDICA</td>\n",
       "      <td>NO APLICA</td>\n",
       "      <td>8</td>\n",
       "      <td>PESOS</td>\n",
       "      <td>1024608.0</td>\n",
       "      <td>SI</td>\n",
       "      <td>01/01/2017</td>\n",
       "      <td>31/12/2017</td>\n",
       "      <td>NaN</td>\n",
       "      <td>http://www.gobiernotransparentechile.cl/direct...</td>\n",
       "    </tr>\n",
       "    <tr>\n",
       "      <th>111177</th>\n",
       "      <td>Ministerio del Interior y Seguridad Pública</td>\n",
       "      <td>Subsecretaría de Prevención del Delito</td>\n",
       "      <td>Dotación a honorarios</td>\n",
       "      <td>Año 2017</td>\n",
       "      <td>Abril</td>\n",
       "      <td>VILLARREAL</td>\n",
       "      <td>JIMENEZ</td>\n",
       "      <td>ANA MARIA</td>\n",
       "      <td>ANALISTA DE TRANSPARENCIA Y ATENCION CIUDADANA</td>\n",
       "      <td>EXPERTA EN ATENCION DE USUARIOS</td>\n",
       "      <td>NO APLICA</td>\n",
       "      <td>13</td>\n",
       "      <td>PESOS</td>\n",
       "      <td>1396606.0</td>\n",
       "      <td>SI</td>\n",
       "      <td>01/01/2017</td>\n",
       "      <td>31/12/2017</td>\n",
       "      <td>NaN</td>\n",
       "      <td>http://www.gobiernotransparentechile.cl/direct...</td>\n",
       "    </tr>\n",
       "    <tr>\n",
       "      <th>111178</th>\n",
       "      <td>Ministerio del Interior y Seguridad Pública</td>\n",
       "      <td>Subsecretaría de Prevención del Delito</td>\n",
       "      <td>Dotación a honorarios</td>\n",
       "      <td>Año 2017</td>\n",
       "      <td>Abril</td>\n",
       "      <td>VIÑALS</td>\n",
       "      <td>LEZCANO</td>\n",
       "      <td>DAPNE NYCOL</td>\n",
       "      <td>PROFESIONAL RECEPTOR DE LLAMADAS Y ANALISTA PR...</td>\n",
       "      <td>CIENTISTA CRIMINALISTICO</td>\n",
       "      <td>NO APLICA</td>\n",
       "      <td>13</td>\n",
       "      <td>PESOS</td>\n",
       "      <td>569385.0</td>\n",
       "      <td>SI</td>\n",
       "      <td>01/01/2017</td>\n",
       "      <td>31/12/2017</td>\n",
       "      <td>NaN</td>\n",
       "      <td>http://www.gobiernotransparentechile.cl/direct...</td>\n",
       "    </tr>\n",
       "    <tr>\n",
       "      <th>111179</th>\n",
       "      <td>Ministerio del Interior y Seguridad Pública</td>\n",
       "      <td>Subsecretaría de Prevención del Delito</td>\n",
       "      <td>Dotación a honorarios</td>\n",
       "      <td>Año 2017</td>\n",
       "      <td>Abril</td>\n",
       "      <td>VISCAY</td>\n",
       "      <td>SANTANA</td>\n",
       "      <td>IVONNE DE FRANCIA</td>\n",
       "      <td>PSICOLOGA CAVD MAIPU</td>\n",
       "      <td>PSICOLOGA</td>\n",
       "      <td>NO APLICA</td>\n",
       "      <td>13</td>\n",
       "      <td>PESOS</td>\n",
       "      <td>928800.0</td>\n",
       "      <td>SI</td>\n",
       "      <td>01/01/2017</td>\n",
       "      <td>31/12/2017</td>\n",
       "      <td>NaN</td>\n",
       "      <td>http://www.gobiernotransparentechile.cl/direct...</td>\n",
       "    </tr>\n",
       "    <tr>\n",
       "      <th>111180</th>\n",
       "      <td>Ministerio del Interior y Seguridad Pública</td>\n",
       "      <td>Subsecretaría de Prevención del Delito</td>\n",
       "      <td>Dotación a honorarios</td>\n",
       "      <td>Año 2017</td>\n",
       "      <td>Abril</td>\n",
       "      <td>WINTER</td>\n",
       "      <td>PEREZ</td>\n",
       "      <td>CRISTHIAN KARL</td>\n",
       "      <td>ASESOR TECNICO VALDIVIA</td>\n",
       "      <td>EXPERTO EN MATERIAS DE SEGURIDAD</td>\n",
       "      <td>NO APLICA</td>\n",
       "      <td>14</td>\n",
       "      <td>PESOS</td>\n",
       "      <td>1897951.0</td>\n",
       "      <td>SI</td>\n",
       "      <td>01/01/2017</td>\n",
       "      <td>31/12/2017</td>\n",
       "      <td>NaN</td>\n",
       "      <td>http://www.gobiernotransparentechile.cl/direct...</td>\n",
       "    </tr>\n",
       "    <tr>\n",
       "      <th>111181</th>\n",
       "      <td>Ministerio del Interior y Seguridad Pública</td>\n",
       "      <td>Subsecretaría de Prevención del Delito</td>\n",
       "      <td>Dotación a honorarios</td>\n",
       "      <td>Año 2017</td>\n",
       "      <td>Abril</td>\n",
       "      <td>YAÑEZ</td>\n",
       "      <td>CONTRERAS</td>\n",
       "      <td>LUIS HUMBERTO</td>\n",
       "      <td>APOYO ADMINISTRATIVO DEPARTAMENTO DE ADMINISTR...</td>\n",
       "      <td>EXPERTO EN LABORES ADMINISTRATIVAS</td>\n",
       "      <td>NO APLICA</td>\n",
       "      <td>13</td>\n",
       "      <td>PESOS</td>\n",
       "      <td>930375.0</td>\n",
       "      <td>SI</td>\n",
       "      <td>01/01/2017</td>\n",
       "      <td>31/12/2017</td>\n",
       "      <td>NaN</td>\n",
       "      <td>http://www.gobiernotransparentechile.cl/direct...</td>\n",
       "    </tr>\n",
       "    <tr>\n",
       "      <th>111182</th>\n",
       "      <td>Ministerio del Interior y Seguridad Pública</td>\n",
       "      <td>Subsecretaría de Prevención del Delito</td>\n",
       "      <td>Dotación a honorarios</td>\n",
       "      <td>Año 2017</td>\n",
       "      <td>Abril</td>\n",
       "      <td>ZAMBRANO</td>\n",
       "      <td>PANTOJA</td>\n",
       "      <td>KARLA ANDREA</td>\n",
       "      <td>ASESORA TERAPIA MULTISISTEMICA</td>\n",
       "      <td>PSICOLOGA</td>\n",
       "      <td>NO APLICA</td>\n",
       "      <td>13</td>\n",
       "      <td>PESOS</td>\n",
       "      <td>2505296.0</td>\n",
       "      <td>SI</td>\n",
       "      <td>01/01/2017</td>\n",
       "      <td>31/12/2017</td>\n",
       "      <td>NaN</td>\n",
       "      <td>http://www.gobiernotransparentechile.cl/direct...</td>\n",
       "    </tr>\n",
       "    <tr>\n",
       "      <th>111183</th>\n",
       "      <td>Ministerio del Interior y Seguridad Pública</td>\n",
       "      <td>Subsecretaría de Prevención del Delito</td>\n",
       "      <td>Dotación a honorarios</td>\n",
       "      <td>Año 2017</td>\n",
       "      <td>Abril</td>\n",
       "      <td>ZENTENO</td>\n",
       "      <td>GAJARDO</td>\n",
       "      <td>LORENA ANDREA</td>\n",
       "      <td>PSICOLOGA CAVD CURICO</td>\n",
       "      <td>PSICOLOGA</td>\n",
       "      <td>NO APLICA</td>\n",
       "      <td>7</td>\n",
       "      <td>PESOS</td>\n",
       "      <td>1178628.0</td>\n",
       "      <td>SI</td>\n",
       "      <td>01/01/2017</td>\n",
       "      <td>31/12/2017</td>\n",
       "      <td>NaN</td>\n",
       "      <td>http://www.gobiernotransparentechile.cl/direct...</td>\n",
       "    </tr>\n",
       "    <tr>\n",
       "      <th>111184</th>\n",
       "      <td>Ministerio del Interior y Seguridad Pública</td>\n",
       "      <td>Subsecretaría de Prevención del Delito</td>\n",
       "      <td>Dotación a honorarios</td>\n",
       "      <td>Año 2017</td>\n",
       "      <td>Abril</td>\n",
       "      <td>ZENTENO</td>\n",
       "      <td>ORTEGA</td>\n",
       "      <td>HELIA CATALINA ROSA</td>\n",
       "      <td>ESTAFETA ADMINISTRATIVA CAVD LOS ANGELES</td>\n",
       "      <td>EXPERTA EN LABORES ADMINISTRATIVAS</td>\n",
       "      <td>NO APLICA</td>\n",
       "      <td>8</td>\n",
       "      <td>PESOS</td>\n",
       "      <td>371520.0</td>\n",
       "      <td>SI</td>\n",
       "      <td>01/01/2017</td>\n",
       "      <td>31/12/2017</td>\n",
       "      <td>NaN</td>\n",
       "      <td>http://www.gobiernotransparentechile.cl/direct...</td>\n",
       "    </tr>\n",
       "    <tr>\n",
       "      <th>111185</th>\n",
       "      <td>Ministerio del Interior y Seguridad Pública</td>\n",
       "      <td>Subsecretaría de Prevención del Delito</td>\n",
       "      <td>Dotación a honorarios</td>\n",
       "      <td>Año 2017</td>\n",
       "      <td>Abril</td>\n",
       "      <td>ZEPEDA</td>\n",
       "      <td>OSORIO</td>\n",
       "      <td>NADIA CAROLINA</td>\n",
       "      <td>ASESORA SERVICIO DE INTERVENCION INMEDIATA CAV...</td>\n",
       "      <td>PSICOLOGA</td>\n",
       "      <td>NO APLICA</td>\n",
       "      <td>13</td>\n",
       "      <td>PESOS</td>\n",
       "      <td>1252648.0</td>\n",
       "      <td>SI</td>\n",
       "      <td>01/01/2017</td>\n",
       "      <td>31/12/2017</td>\n",
       "      <td>NaN</td>\n",
       "      <td>http://www.gobiernotransparentechile.cl/direct...</td>\n",
       "    </tr>\n",
       "    <tr>\n",
       "      <th>111186</th>\n",
       "      <td>Ministerio del Interior y Seguridad Pública</td>\n",
       "      <td>Subsecretaría de Prevención del Delito</td>\n",
       "      <td>Dotación a honorarios</td>\n",
       "      <td>Año 2017</td>\n",
       "      <td>Abril</td>\n",
       "      <td>ZEPEDA</td>\n",
       "      <td>TORRES</td>\n",
       "      <td>CAROLINA ALEJANDRA</td>\n",
       "      <td>COORDINADORA REGIONAL IQUIQUE</td>\n",
       "      <td>ASISTENTE SOCIAL</td>\n",
       "      <td>NO APLICA</td>\n",
       "      <td>1</td>\n",
       "      <td>PESOS</td>\n",
       "      <td>3163251.0</td>\n",
       "      <td>SI</td>\n",
       "      <td>01/01/2017</td>\n",
       "      <td>31/12/2017</td>\n",
       "      <td>NaN</td>\n",
       "      <td>http://www.gobiernotransparentechile.cl/direct...</td>\n",
       "    </tr>\n",
       "    <tr>\n",
       "      <th>111187</th>\n",
       "      <td>Ministerio del Interior y Seguridad Pública</td>\n",
       "      <td>Subsecretaría de Prevención del Delito</td>\n",
       "      <td>Dotación a honorarios</td>\n",
       "      <td>Año 2017</td>\n",
       "      <td>Abril</td>\n",
       "      <td>ZUÑIGA</td>\n",
       "      <td>LIZAMA</td>\n",
       "      <td>LILIAN MERCEDES</td>\n",
       "      <td>ABOGADA CAVD LINARES</td>\n",
       "      <td>ABOGADA</td>\n",
       "      <td>NO APLICA</td>\n",
       "      <td>7</td>\n",
       "      <td>PESOS</td>\n",
       "      <td>1423463.0</td>\n",
       "      <td>SI</td>\n",
       "      <td>01/01/2017</td>\n",
       "      <td>31/12/2017</td>\n",
       "      <td>NaN</td>\n",
       "      <td>http://www.gobiernotransparentechile.cl/direct...</td>\n",
       "    </tr>\n",
       "  </tbody>\n",
       "</table>\n",
       "<p>111188 rows × 19 columns</p>\n",
       "</div>"
      ],
      "text/plain": [
       "                                                 0   \\\n",
       "0                       Presidencia de la República   \n",
       "1                       Presidencia de la República   \n",
       "2                       Presidencia de la República   \n",
       "3                       Presidencia de la República   \n",
       "4                       Presidencia de la República   \n",
       "5                       Presidencia de la República   \n",
       "6                       Presidencia de la República   \n",
       "7                       Presidencia de la República   \n",
       "8                       Presidencia de la República   \n",
       "9                       Presidencia de la República   \n",
       "10                      Presidencia de la República   \n",
       "11                      Presidencia de la República   \n",
       "12                      Presidencia de la República   \n",
       "13                      Presidencia de la República   \n",
       "14                      Presidencia de la República   \n",
       "15                      Presidencia de la República   \n",
       "16                      Presidencia de la República   \n",
       "17                      Presidencia de la República   \n",
       "18                      Presidencia de la República   \n",
       "19                      Presidencia de la República   \n",
       "20                      Presidencia de la República   \n",
       "21                      Presidencia de la República   \n",
       "22                      Presidencia de la República   \n",
       "23                      Presidencia de la República   \n",
       "24                      Presidencia de la República   \n",
       "25                      Presidencia de la República   \n",
       "26                      Presidencia de la República   \n",
       "27                      Presidencia de la República   \n",
       "28                      Presidencia de la República   \n",
       "29                      Presidencia de la República   \n",
       "...                                             ...   \n",
       "111158  Ministerio del Interior y Seguridad Pública   \n",
       "111159  Ministerio del Interior y Seguridad Pública   \n",
       "111160  Ministerio del Interior y Seguridad Pública   \n",
       "111161  Ministerio del Interior y Seguridad Pública   \n",
       "111162  Ministerio del Interior y Seguridad Pública   \n",
       "111163  Ministerio del Interior y Seguridad Pública   \n",
       "111164  Ministerio del Interior y Seguridad Pública   \n",
       "111165  Ministerio del Interior y Seguridad Pública   \n",
       "111166  Ministerio del Interior y Seguridad Pública   \n",
       "111167  Ministerio del Interior y Seguridad Pública   \n",
       "111168  Ministerio del Interior y Seguridad Pública   \n",
       "111169  Ministerio del Interior y Seguridad Pública   \n",
       "111170  Ministerio del Interior y Seguridad Pública   \n",
       "111171  Ministerio del Interior y Seguridad Pública   \n",
       "111172  Ministerio del Interior y Seguridad Pública   \n",
       "111173  Ministerio del Interior y Seguridad Pública   \n",
       "111174  Ministerio del Interior y Seguridad Pública   \n",
       "111175  Ministerio del Interior y Seguridad Pública   \n",
       "111176  Ministerio del Interior y Seguridad Pública   \n",
       "111177  Ministerio del Interior y Seguridad Pública   \n",
       "111178  Ministerio del Interior y Seguridad Pública   \n",
       "111179  Ministerio del Interior y Seguridad Pública   \n",
       "111180  Ministerio del Interior y Seguridad Pública   \n",
       "111181  Ministerio del Interior y Seguridad Pública   \n",
       "111182  Ministerio del Interior y Seguridad Pública   \n",
       "111183  Ministerio del Interior y Seguridad Pública   \n",
       "111184  Ministerio del Interior y Seguridad Pública   \n",
       "111185  Ministerio del Interior y Seguridad Pública   \n",
       "111186  Ministerio del Interior y Seguridad Pública   \n",
       "111187  Ministerio del Interior y Seguridad Pública   \n",
       "\n",
       "                                            1                      2   \\\n",
       "0                  Presidencia de la República  Dotación a honorarios   \n",
       "1                  Presidencia de la República  Dotación a honorarios   \n",
       "2                  Presidencia de la República  Dotación a honorarios   \n",
       "3                  Presidencia de la República  Dotación a honorarios   \n",
       "4                  Presidencia de la República  Dotación a honorarios   \n",
       "5                  Presidencia de la República  Dotación a honorarios   \n",
       "6                  Presidencia de la República  Dotación a honorarios   \n",
       "7                  Presidencia de la República  Dotación a honorarios   \n",
       "8                  Presidencia de la República  Dotación a honorarios   \n",
       "9                  Presidencia de la República  Dotación a honorarios   \n",
       "10                 Presidencia de la República  Dotación a honorarios   \n",
       "11                 Presidencia de la República  Dotación a honorarios   \n",
       "12                 Presidencia de la República  Dotación a honorarios   \n",
       "13                 Presidencia de la República  Dotación a honorarios   \n",
       "14                 Presidencia de la República  Dotación a honorarios   \n",
       "15                 Presidencia de la República  Dotación a honorarios   \n",
       "16                 Presidencia de la República  Dotación a honorarios   \n",
       "17                 Presidencia de la República  Dotación a honorarios   \n",
       "18                 Presidencia de la República  Dotación a honorarios   \n",
       "19                 Presidencia de la República  Dotación a honorarios   \n",
       "20                 Presidencia de la República  Dotación a honorarios   \n",
       "21                 Presidencia de la República  Dotación a honorarios   \n",
       "22                 Presidencia de la República  Dotación a honorarios   \n",
       "23                 Presidencia de la República  Dotación a honorarios   \n",
       "24                 Presidencia de la República  Dotación a honorarios   \n",
       "25                 Presidencia de la República  Dotación a honorarios   \n",
       "26                 Presidencia de la República  Dotación a honorarios   \n",
       "27                 Presidencia de la República  Dotación a honorarios   \n",
       "28                 Presidencia de la República  Dotación a honorarios   \n",
       "29                 Presidencia de la República  Dotación a honorarios   \n",
       "...                                        ...                    ...   \n",
       "111158  Subsecretaría de Prevención del Delito  Dotación a honorarios   \n",
       "111159  Subsecretaría de Prevención del Delito  Dotación a honorarios   \n",
       "111160  Subsecretaría de Prevención del Delito  Dotación a honorarios   \n",
       "111161  Subsecretaría de Prevención del Delito  Dotación a honorarios   \n",
       "111162  Subsecretaría de Prevención del Delito  Dotación a honorarios   \n",
       "111163  Subsecretaría de Prevención del Delito  Dotación a honorarios   \n",
       "111164  Subsecretaría de Prevención del Delito  Dotación a honorarios   \n",
       "111165  Subsecretaría de Prevención del Delito  Dotación a honorarios   \n",
       "111166  Subsecretaría de Prevención del Delito  Dotación a honorarios   \n",
       "111167  Subsecretaría de Prevención del Delito  Dotación a honorarios   \n",
       "111168  Subsecretaría de Prevención del Delito  Dotación a honorarios   \n",
       "111169  Subsecretaría de Prevención del Delito  Dotación a honorarios   \n",
       "111170  Subsecretaría de Prevención del Delito  Dotación a honorarios   \n",
       "111171  Subsecretaría de Prevención del Delito  Dotación a honorarios   \n",
       "111172  Subsecretaría de Prevención del Delito  Dotación a honorarios   \n",
       "111173  Subsecretaría de Prevención del Delito  Dotación a honorarios   \n",
       "111174  Subsecretaría de Prevención del Delito  Dotación a honorarios   \n",
       "111175  Subsecretaría de Prevención del Delito  Dotación a honorarios   \n",
       "111176  Subsecretaría de Prevención del Delito  Dotación a honorarios   \n",
       "111177  Subsecretaría de Prevención del Delito  Dotación a honorarios   \n",
       "111178  Subsecretaría de Prevención del Delito  Dotación a honorarios   \n",
       "111179  Subsecretaría de Prevención del Delito  Dotación a honorarios   \n",
       "111180  Subsecretaría de Prevención del Delito  Dotación a honorarios   \n",
       "111181  Subsecretaría de Prevención del Delito  Dotación a honorarios   \n",
       "111182  Subsecretaría de Prevención del Delito  Dotación a honorarios   \n",
       "111183  Subsecretaría de Prevención del Delito  Dotación a honorarios   \n",
       "111184  Subsecretaría de Prevención del Delito  Dotación a honorarios   \n",
       "111185  Subsecretaría de Prevención del Delito  Dotación a honorarios   \n",
       "111186  Subsecretaría de Prevención del Delito  Dotación a honorarios   \n",
       "111187  Subsecretaría de Prevención del Delito  Dotación a honorarios   \n",
       "\n",
       "              3        4            5           6                        7   \\\n",
       "0       Año 2018  allyear   ABBAGLIATI       BOILS            ENZO VITTORIO   \n",
       "1       Año 2018  allyear       ADONIS   PARRAGUEZ                HUGO RENE   \n",
       "2       Año 2018  allyear     AGUILERA     ARAVENA          MARIO ALEJANDRO   \n",
       "3       Año 2018  allyear      AGUIRRE      ROMERO           BENJAMIN PEDRO   \n",
       "4       Año 2018  allyear      AHUMADA      TORRES                    JORGE   \n",
       "5       Año 2018  allyear       AJENJO    MARTINEZ            FELIPE ANDRES   \n",
       "6       Año 2018  allyear      ALARCON     CANCINO            JOHANA LESLEI   \n",
       "7       Año 2018  allyear      ALCALDE      CORREA                FRANCISCA   \n",
       "8       Año 2018  allyear   ALTAMIRANO      MOLINA                   XAVIER   \n",
       "9       Año 2018  allyear      ARACENA     GARRIDO           GUSTAVO ISMAEL   \n",
       "10      Año 2018  allyear      ARANEDA    SANHUEZA            FELIPE ANDRES   \n",
       "11      Año 2018  allyear      ARANEDA    BARAHONA        FRANCISCO ALFONSO   \n",
       "12      Año 2018  allyear      ARIZTÍA      CORREA                   RAFAEL   \n",
       "13      Año 2018  allyear    ARRIAGADA    RIQUELME           ARMANDO HELENO   \n",
       "14      Año 2018  allyear       ARROYO   SEPULVEDA              JUAN MANUEL   \n",
       "15      Año 2018  allyear        ATIAS    CASTILLO            PAULA ANTONIA   \n",
       "16      Año 2018  allyear        AYALA      BARRIA          JORGE SEBASTIAN   \n",
       "17      Año 2018  allyear        BAEZA      RIVERO      VERÓNICA DEL CARMEN   \n",
       "18      Año 2018  allyear   BALLADARES    LETELIER               ANDREA PAZ   \n",
       "19      Año 2018  allyear      BARANDA      FERRÁN              BENITO JOSÉ   \n",
       "20      Año 2018  allyear    BARNACHEA     VASQUEZ          HUMBERTO FELIPE   \n",
       "21      Año 2018  allyear     BASCUÑÁN        TORO           RODRIGO JAVIER   \n",
       "22      Año 2018  allyear       BASCUR       TAPIA         FRANCISCO ANDRÉS   \n",
       "23      Año 2018  allyear        BELLO    ARELLANO                   DANIEL   \n",
       "24      Año 2018  allyear      BERRIOS     CORNEJO         PATRICIO ALFREDO   \n",
       "25      Año 2018  allyear         BOZO     HERRERA              JUAN CARLOS   \n",
       "26      Año 2018  allyear        BRAVO      VALDES                LUZ ELENA   \n",
       "27      Año 2018  allyear        BRUNA      CARAFI                JUAN JOSÉ   \n",
       "28      Año 2018  allyear        BRUNA      CARAFI           JUAN FRANCISCO   \n",
       "29      Año 2018  allyear        CAÑAS       MONTT               JUAN PABLO   \n",
       "...          ...      ...          ...         ...                      ...   \n",
       "111158  Año 2017    Abril   VALENZUELA   AQUEVEQUE           MANUEL ALFREDO   \n",
       "111159  Año 2017    Abril   VALENZUELA       MAASS            CESAR IGNACIO   \n",
       "111160  Año 2017    Abril       VARGAS   ARRIAGADA  LUZ GWENDOLINE ETELINDA   \n",
       "111161  Año 2017    Abril       VARGAS     CABELLO         JULIA DEL CARMEN   \n",
       "111162  Año 2017    Abril       VARGAS      HAZBUN          CAROLINA ANDREA   \n",
       "111163  Año 2017    Abril       VARGAS  VALENZUELA       VERONICA MARGARITA   \n",
       "111164  Año 2017    Abril      VASQUEZ   CONTRERAS          MARIA ALEJANDRA   \n",
       "111165  Año 2017    Abril      VASQUEZ      FREDES         PATRICIO LEANDRO   \n",
       "111166  Año 2017    Abril      VASQUEZ    MANSILLA        DANIELA ALEJANDRA   \n",
       "111167  Año 2017    Abril         VEAS     FUENTES          CAROLINA ANDREA   \n",
       "111168  Año 2017    Abril         VEGA      CAMPOS         ALEJANDRO ANDRES   \n",
       "111169  Año 2017    Abril      VELASCO       PEREZ           XIMENA YOLANDA   \n",
       "111170  Año 2017    Abril         VERA        VERA       MARJORIE ELIZABETH   \n",
       "111171  Año 2017    Abril      VERGARA        PINO              JOSE ARTURO   \n",
       "111172  Año 2017    Abril       VERNAL        LUNA          CAROLINA ISABEL   \n",
       "111173  Año 2017    Abril      VILCHES      MALHUE           HERNAN SEGUNDO   \n",
       "111174  Año 2017    Abril  VILLABLANCA       NAVEA         VERONICA EUGENIA   \n",
       "111175  Año 2017    Abril    VILLAGRAN       MUÑOZ             KARLA ANDREA   \n",
       "111176  Año 2017    Abril    VILLAGRAN       MUÑOZ         PAOLA BERNARDITA   \n",
       "111177  Año 2017    Abril   VILLARREAL     JIMENEZ                ANA MARIA   \n",
       "111178  Año 2017    Abril       VIÑALS     LEZCANO              DAPNE NYCOL   \n",
       "111179  Año 2017    Abril       VISCAY     SANTANA        IVONNE DE FRANCIA   \n",
       "111180  Año 2017    Abril       WINTER       PEREZ           CRISTHIAN KARL   \n",
       "111181  Año 2017    Abril        YAÑEZ   CONTRERAS            LUIS HUMBERTO   \n",
       "111182  Año 2017    Abril     ZAMBRANO     PANTOJA             KARLA ANDREA   \n",
       "111183  Año 2017    Abril      ZENTENO     GAJARDO            LORENA ANDREA   \n",
       "111184  Año 2017    Abril      ZENTENO      ORTEGA      HELIA CATALINA ROSA   \n",
       "111185  Año 2017    Abril       ZEPEDA      OSORIO           NADIA CAROLINA   \n",
       "111186  Año 2017    Abril       ZEPEDA      TORRES       CAROLINA ALEJANDRA   \n",
       "111187  Año 2017    Abril       ZUÑIGA      LIZAMA          LILIAN MERCEDES   \n",
       "\n",
       "                                                       8   \\\n",
       "0       ASESOR, DIRECCIÓN DE PRENSA, EN EL MARCO DEL P...   \n",
       "1       ASISTENTE ACTIVIDADES FOTOGRÁFICAS Y DE REGIST...   \n",
       "2       PRODUCCIÓN Y DESARROLLO DE ACTIVIDADES COMUNIC...   \n",
       "3       PERIODISTA, DIRECCIÓN DE PRENSA, EN EL MARCO D...   \n",
       "4       PRODUCTOR, DEPARTAMENTO DE PRODUCCIÓN PRESIDEN...   \n",
       "5       ASESOR, DEPARTAMENTO DE GESTIÓN DE POLÍTICAS P...   \n",
       "6       APOYO AUDITOR, SUBVENCIONES PRESIDENCIALES, EN...   \n",
       "7       ENCARGADA, DEPARTAMENTO REPOSTERO PRESIDENCIAL...   \n",
       "8       ASESOR, DEPARTAMENTO DE CONTENIDOS, EN EL MARC...   \n",
       "9       PERIODISTA, DIRECCIÓN DE PRENSA, EN EL MARCO D...   \n",
       "10      ASISTENTE, DEPARTAMENTO DE AVANZADA PRESIDENCI...   \n",
       "11      ASISTENTE ACTIVIDADES FOTOGRÁFICAS Y DE REGIST...   \n",
       "12      DIRECTOR DE PROYECTOS ESPECIALES, GABINETE PRE...   \n",
       "13      AVANZADA PRESIDENCIAL, DEPARTAMENTO DE AVANZAD...   \n",
       "14               PERIODISTA, CAMBIO DE MANDO PRESIDENCIAL   \n",
       "15      ASISTENTE DIRECTORA, GABINETE PRESIDENCIAL, EN...   \n",
       "16      ANALISTA, SUBVENCIONES PRESIDENCIALES, EN EL M...   \n",
       "17      ASESORA, GABINETE PRESIDENCIAL, EN EL MARCO DE...   \n",
       "18      CORDINADORA VISITAS OFICIALES E INVITADOS , CA...   \n",
       "19      COORDINADOR DE LA VISITA PAPAL A CHILE, DIRECC...   \n",
       "20      ENCARGADO, DEPARTAMENTO DE AVANZADA PRESIDENCI...   \n",
       "21      ANALISTA, DIRECCIÓN DE GESTIÓN Y CORRESPONDENC...   \n",
       "22      AVANZADA PRESIDENCIAL, DEPARTAMENTO DE AVANZAD...   \n",
       "23      ASESOR, DEPARTAMENTO DE CONTENIDOS, EN EL MARC...   \n",
       "24      PRODUCTOR PRESIDENCIAL, DEPARTAMENTO DE PRODUC...   \n",
       "25      CAMARÓGRAFO, DIRECCIÓN DE PRENSA, EN EL MARCO ...   \n",
       "26      AVANZADA PRESIDENCIAL, DEPARTAMENTO DE AVANZAD...   \n",
       "27      DIRECTOR DE PRENSA, DIRECCIÓN DE PRENSA, EN EL...   \n",
       "28      ENCARGADO DE PRENSA, CAMBIO DE MANDO PRESIDENCIAL   \n",
       "29      ENCARGADO DE PRENSA GABINETE PRIMERA DAMA, GAB...   \n",
       "...                                                   ...   \n",
       "111158            ESTAFETA ADMINISTRATIVO CAVD CONCEPCION   \n",
       "111159               COORDINADOR PROGRAMA DENUNCIA SEGURO   \n",
       "111160                     TRABAJADORA SOCIAL CAVD TEMUCO   \n",
       "111161           ESTAFETA ADMINISTRATIVA CAVD PROVIDENCIA   \n",
       "111162  PROFESIONAL UNIDAD GESTION Y DESARROLLO PROGRA...   \n",
       "111163                 TRABAJADORA SOCIAL CAVD CONCEPCION   \n",
       "111164               TRABAJADORA SOCIAL CAVD SAN FERNANDO   \n",
       "111165  PROFESIONAL RECEPTOR DE LLAMADAS Y ANALISTA PR...   \n",
       "111166                        PSICOLOGA CAVD PUNTA ARENAS   \n",
       "111167           ESTAFETA ADMINISTRATIVA CAVD ANTOFAGASTA   \n",
       "111168                                 ASESOR DE GABINETE   \n",
       "111169                              ASESORA SUBSECRETARIO   \n",
       "111170  PROFESIONAL RECEPTOR DE LLAMADAS Y ANALISTA PR...   \n",
       "111171  ASESOR DEPARTAMENTO DE ESTUDIOS Y EVALUACION D...   \n",
       "111172                       ASESORA TECNICA METODOLOGICO   \n",
       "111173                          PSICOLOGO CAVD VALPARAISO   \n",
       "111174                     ASESORA TERAPIA MULTISISTEMICA   \n",
       "111175                    TRABAJADORA SOCIAL CAVD CHILLAN   \n",
       "111176                   ASESORA JURIDICA CAVD CONCEPCION   \n",
       "111177     ANALISTA DE TRANSPARENCIA Y ATENCION CIUDADANA   \n",
       "111178  PROFESIONAL RECEPTOR DE LLAMADAS Y ANALISTA PR...   \n",
       "111179                               PSICOLOGA CAVD MAIPU   \n",
       "111180                            ASESOR TECNICO VALDIVIA   \n",
       "111181  APOYO ADMINISTRATIVO DEPARTAMENTO DE ADMINISTR...   \n",
       "111182                     ASESORA TERAPIA MULTISISTEMICA   \n",
       "111183                              PSICOLOGA CAVD CURICO   \n",
       "111184           ESTAFETA ADMINISTRATIVA CAVD LOS ANGELES   \n",
       "111185  ASESORA SERVICIO DE INTERVENCION INMEDIATA CAV...   \n",
       "111186                      COORDINADORA REGIONAL IQUIQUE   \n",
       "111187                               ABOGADA CAVD LINARES   \n",
       "\n",
       "                                                       9          10  11  \\\n",
       "0                                  LICENCIADO EN HISTORIA        NaN  RM   \n",
       "1       LICENCIADO EN ARTES PLÁSTICAS CON MENCIÓN EN G...        NaN  RM   \n",
       "2                                              PUBLICISTA        NaN  RM   \n",
       "3          MAGÍSTER EN PERIODISMO, MENCIÓN PRENSA ESCRITA        NaN  RM   \n",
       "4                        EXPERTO EN AVANZADA PRESIDENCIAL        NaN  RM   \n",
       "5                      SOCIÓLOGO, MASTER IN PUBLIC POLICY        NaN  RM   \n",
       "6                             LICENCIA DE ENSEÑANZA MEDIA        NaN  RM   \n",
       "7       PRODUCCIÓN CULINARIA CON MENCIÓN EN ADMINISTRA...        NaN  RM   \n",
       "8       CIENTISTA POLÍTICO, MASTER EN COMUNICACIÓN POL...        NaN  RM   \n",
       "9                                              PERIODISTA        NaN  RM   \n",
       "10      TÉCNICO ADMINISTRACIÓN DE EMPRESAS, MENCIÓN MA...        NaN  RM   \n",
       "11                                              FOTÓGRAFO        NaN  RM   \n",
       "12                          INGENIERO CIVIL DE INDUSTRIAS        NaN  RM   \n",
       "13      LICENCIA DE ENSEÑANZA MEDIA, EXPERTO EN GESTIÓ...        NaN  RM   \n",
       "14                                             PERIODISTA        NaN  RM   \n",
       "15                                   LICENCIADA EN LETRAS        NaN  RM   \n",
       "16      EGRESADO PROGRAMA DE ESTUDIO ANALISTA PROGRAMADOR        NaN  RM   \n",
       "17      TÉCNICO EN ADMINISTRACIÓN, MENCIÓN DECORACIÓN ...        NaN  RM   \n",
       "18                            LICENCIA DE ENSEÑANZA MEDIA        NaN  RM   \n",
       "19                                              PSICÓLOGO        NaN  RM   \n",
       "20      PROFESOR DE ESTADO EN FILOSOFÍA, MAGÍSTER EN C...        NaN  RM   \n",
       "21      LICENCIADO EN INGENIERÍA EXPERTO EN GESTIÓN Y ...        NaN  RM   \n",
       "22                                       ASISTENTE SOCIAL        NaN  RM   \n",
       "23      PROFESOR DE ARTES MUSICALES PARA EDUCACIÓN BÁS...        NaN  RM   \n",
       "24          DISEÑADOR, CON MENCIÓN EN COMUNICACIÓN VISUAL        NaN  RM   \n",
       "25                                COMUNICADOR AUDIOVISUAL        NaN  RM   \n",
       "26      LICENCIA DE ENSEÑANZA MEDIA, EXPERTA EN PRODUC...        NaN  RM   \n",
       "27                                             PERIODISTA        NaN  RM   \n",
       "28                                             PERIODISTA        NaN  RM   \n",
       "29                                             PERIODISTA        NaN  RM   \n",
       "...                                                   ...        ...  ..   \n",
       "111158                 EXPERTO EN LABORES ADMINISTRATIVAS  NO APLICA   8   \n",
       "111159                                            ABOGADO  NO APLICA  13   \n",
       "111160                                   ASISTENTE SOCIAL  NO APLICA   9   \n",
       "111161                 EXPERTA EN LABORES ADMINISTRATIVAS  NO APLICA  13   \n",
       "111162                                          PSICOLOGA  NO APLICA  13   \n",
       "111163                                   ASISTENTE SOCIAL  NO APLICA   8   \n",
       "111164                                   ASISTENTE SOCIAL  NO APLICA   6   \n",
       "111165                           CIENTISTA CRIMINALISTICO  NO APLICA  13   \n",
       "111166                                          PSICOLOGA  NO APLICA  12   \n",
       "111167                 EXPERTA EN LABORES ADMINISTRATIVAS  NO APLICA   2   \n",
       "111168                              ADMINISTRADOR PUBLICO  NO APLICA  13   \n",
       "111169                                 CONTADORA AUDITORA  NO APLICA  13   \n",
       "111170                                 TRABAJADORA SOCIAL  NO APLICA  13   \n",
       "111171                                          ASESOR(A)  NO APLICA  13   \n",
       "111172                                   ASISTENTE SOCIAL  NO APLICA  13   \n",
       "111173                                          PSICOLOGO  NO APLICA   5   \n",
       "111174                                          PSICOLOGA  NO APLICA  13   \n",
       "111175                                 TRABAJADORA SOCIAL  NO APLICA   8   \n",
       "111176                       EXPERTA EN ASESORIA JURIDICA  NO APLICA   8   \n",
       "111177                    EXPERTA EN ATENCION DE USUARIOS  NO APLICA  13   \n",
       "111178                           CIENTISTA CRIMINALISTICO  NO APLICA  13   \n",
       "111179                                          PSICOLOGA  NO APLICA  13   \n",
       "111180                   EXPERTO EN MATERIAS DE SEGURIDAD  NO APLICA  14   \n",
       "111181                 EXPERTO EN LABORES ADMINISTRATIVAS  NO APLICA  13   \n",
       "111182                                          PSICOLOGA  NO APLICA  13   \n",
       "111183                                          PSICOLOGA  NO APLICA   7   \n",
       "111184                 EXPERTA EN LABORES ADMINISTRATIVAS  NO APLICA   8   \n",
       "111185                                          PSICOLOGA  NO APLICA  13   \n",
       "111186                                   ASISTENTE SOCIAL  NO APLICA   1   \n",
       "111187                                            ABOGADA  NO APLICA   7   \n",
       "\n",
       "           12         13  14          15          16  \\\n",
       "0       PESOS  5309100.0  SI  01/01/2018  10/03/2018   \n",
       "1       PESOS  1738943.0  SI  01/01/2018  31/12/2018   \n",
       "2       PESOS  2040000.0  SI  01/01/2018  31/12/2018   \n",
       "3       PESOS  3598480.0  SI  01/01/2018  10/03/2018   \n",
       "4       PESOS  2400000.0  SI  11/03/2018  31/12/2018   \n",
       "5       PESOS  5002352.0  SI  01/01/2018  10/03/2018   \n",
       "6       PESOS   510000.0  SI  01/01/2018  31/12/2018   \n",
       "7       PESOS  3500000.0  SI  11/03/2018  31/12/2018   \n",
       "8       PESOS  4986667.0  SI  01/01/2018  10/03/2018   \n",
       "9       PESOS  3598480.0  SI  01/01/2018  10/03/2018   \n",
       "10      PESOS  1360000.0  SI  01/01/2018  10/03/2018   \n",
       "11      PESOS  1738943.0  SI  01/01/2018  31/12/2018   \n",
       "12      PESOS  7000000.0  SI  11/03/2018  31/12/2018   \n",
       "13      PESOS  3220264.0  SI  01/01/2018  10/03/2018   \n",
       "14      PESOS  1800000.0  SI  23/01/2018  11/03/2018   \n",
       "15      PESOS  3246027.0  SI  01/01/2018  10/03/2018   \n",
       "16      PESOS   840480.0  SI  01/01/2018  31/12/2018   \n",
       "17      PESOS  2833832.0  SI  01/01/2018  10/03/2018   \n",
       "18      PESOS  1777778.0  SI  23/01/2018  11/03/2018   \n",
       "19      PESOS  3400000.0  SI  01/01/2018  31/01/2018   \n",
       "20      PESOS  5252470.0  SI  01/01/2018  10/03/2018   \n",
       "21      PESOS  1246666.0  SI  01/01/2018  10/03/2018   \n",
       "22      PESOS  3220264.0  SI  01/01/2018  10/03/2018   \n",
       "23      PESOS  3709744.0  SI  01/01/2018  10/03/2018   \n",
       "24      PESOS  3220264.0  SI  01/01/2018  10/03/2018   \n",
       "25      PESOS  1932158.0  SI  01/01/2018  31/12/2018   \n",
       "26      PESOS  3220264.0  SI  01/01/2018  10/03/2018   \n",
       "27      PESOS  5500000.0  SI  12/03/2018  31/12/2018   \n",
       "28      PESOS  4316000.0  SI  23/01/2018  11/03/2018   \n",
       "29      PESOS  3666667.0  SI  11/03/2018  31/12/2018   \n",
       "...       ...        ...  ..         ...         ...   \n",
       "111158  PESOS   446126.0  SI  01/01/2017  31/12/2017   \n",
       "111159  PESOS  3416312.0  SI  01/01/2017  31/12/2017   \n",
       "111160  PESOS  1405071.0  SI  01/01/2017  31/12/2017   \n",
       "111161  PESOS   430454.0  SI  01/01/2017  31/12/2017   \n",
       "111162  PESOS  1878972.0  SI  01/01/2017  31/12/2017   \n",
       "111163  PESOS  1528500.0  SI  01/01/2017  31/12/2017   \n",
       "111164  PESOS  1024894.0  SI  01/01/2017  31/12/2017   \n",
       "111165  PESOS  1081832.0  SI  01/01/2017  31/12/2017   \n",
       "111166  PESOS  1342029.0  SI  01/01/2017  31/12/2017   \n",
       "111167  PESOS   453688.0  SI  01/01/2017  31/12/2017   \n",
       "111168  PESOS  2990000.0  SI  13/04/2017  31/12/2017   \n",
       "111169  PESOS  3300000.0  SI  03/01/2017  31/12/2017   \n",
       "111170  PESOS  1081832.0  SI  01/01/2017  31/12/2017   \n",
       "111171  PESOS  2400000.0  SI  06/02/2017  05/05/2017   \n",
       "111172  PESOS  1933762.0  SI  01/01/2017  31/12/2017   \n",
       "111173  PESOS   966881.0  SI  01/01/2017  31/12/2017   \n",
       "111174  PESOS  2625408.0  SI  01/01/2017  31/12/2017   \n",
       "111175  PESOS  1024894.0  SI  01/01/2017  31/12/2017   \n",
       "111176  PESOS  1024608.0  SI  01/01/2017  31/12/2017   \n",
       "111177  PESOS  1396606.0  SI  01/01/2017  31/12/2017   \n",
       "111178  PESOS   569385.0  SI  01/01/2017  31/12/2017   \n",
       "111179  PESOS   928800.0  SI  01/01/2017  31/12/2017   \n",
       "111180  PESOS  1897951.0  SI  01/01/2017  31/12/2017   \n",
       "111181  PESOS   930375.0  SI  01/01/2017  31/12/2017   \n",
       "111182  PESOS  2505296.0  SI  01/01/2017  31/12/2017   \n",
       "111183  PESOS  1178628.0  SI  01/01/2017  31/12/2017   \n",
       "111184  PESOS   371520.0  SI  01/01/2017  31/12/2017   \n",
       "111185  PESOS  1252648.0  SI  01/01/2017  31/12/2017   \n",
       "111186  PESOS  3163251.0  SI  01/01/2017  31/12/2017   \n",
       "111187  PESOS  1423463.0  SI  01/01/2017  31/12/2017   \n",
       "\n",
       "                                                       17  \\\n",
       "0                                                    1, 5   \n",
       "1                                                     NaN   \n",
       "2                                                     NaN   \n",
       "3                                                    1, 5   \n",
       "4                                                       1   \n",
       "5                                                    1, 5   \n",
       "6       12 = Desde 31-10-2017 hasta 27-02-2018, 13= De...   \n",
       "7                                                       1   \n",
       "8                                                    1, 5   \n",
       "9                                                    1, 5   \n",
       "10                                                   1, 5   \n",
       "11                                                    NaN   \n",
       "12                                                      1   \n",
       "13                                                   1, 5   \n",
       "14                                                   1, 5   \n",
       "15                                                   1, 5   \n",
       "16                                                    NaN   \n",
       "17                                                   1, 5   \n",
       "18                                                   1, 5   \n",
       "19                                                      5   \n",
       "20                                                   1, 5   \n",
       "21                                                   1, 5   \n",
       "22                                                   1, 5   \n",
       "23                                                   1, 5   \n",
       "24                                                   1, 5   \n",
       "25                                                    NaN   \n",
       "26                                                   1, 5   \n",
       "27                                                      1   \n",
       "28                                                   1, 5   \n",
       "29                                                      1   \n",
       "...                                                   ...   \n",
       "111158                                                NaN   \n",
       "111159                                                NaN   \n",
       "111160                                                NaN   \n",
       "111161                                                NaN   \n",
       "111162                                                NaN   \n",
       "111163                                                NaN   \n",
       "111164                                                NaN   \n",
       "111165                                                NaN   \n",
       "111166                                                NaN   \n",
       "111167                                                NaN   \n",
       "111168                                                NaN   \n",
       "111169                                                NaN   \n",
       "111170                                                NaN   \n",
       "111171                                                NaN   \n",
       "111172                                                NaN   \n",
       "111173                                                NaN   \n",
       "111174                                                NaN   \n",
       "111175                                                NaN   \n",
       "111176                                                NaN   \n",
       "111177                                                NaN   \n",
       "111178                                                NaN   \n",
       "111179                                                NaN   \n",
       "111180                                                NaN   \n",
       "111181                                                NaN   \n",
       "111182                                                NaN   \n",
       "111183                                                NaN   \n",
       "111184                                                NaN   \n",
       "111185                                                NaN   \n",
       "111186                                                NaN   \n",
       "111187                                                NaN   \n",
       "\n",
       "                                                       18  \n",
       "0       http://www.gobiernotransparentechile.cl/direct...  \n",
       "1       http://www.gobiernotransparentechile.cl/direct...  \n",
       "2       http://www.gobiernotransparentechile.cl/direct...  \n",
       "3       http://www.gobiernotransparentechile.cl/direct...  \n",
       "4       http://www.gobiernotransparentechile.cl/direct...  \n",
       "5       http://www.gobiernotransparentechile.cl/direct...  \n",
       "6       http://www.gobiernotransparentechile.cl/direct...  \n",
       "7       http://www.gobiernotransparentechile.cl/direct...  \n",
       "8       http://www.gobiernotransparentechile.cl/direct...  \n",
       "9       http://www.gobiernotransparentechile.cl/direct...  \n",
       "10      http://www.gobiernotransparentechile.cl/direct...  \n",
       "11      http://www.gobiernotransparentechile.cl/direct...  \n",
       "12      http://www.gobiernotransparentechile.cl/direct...  \n",
       "13      http://www.gobiernotransparentechile.cl/direct...  \n",
       "14      http://www.gobiernotransparentechile.cl/direct...  \n",
       "15      http://www.gobiernotransparentechile.cl/direct...  \n",
       "16      http://www.gobiernotransparentechile.cl/direct...  \n",
       "17      http://www.gobiernotransparentechile.cl/direct...  \n",
       "18      http://www.gobiernotransparentechile.cl/direct...  \n",
       "19      http://www.gobiernotransparentechile.cl/direct...  \n",
       "20      http://www.gobiernotransparentechile.cl/direct...  \n",
       "21      http://www.gobiernotransparentechile.cl/direct...  \n",
       "22      http://www.gobiernotransparentechile.cl/direct...  \n",
       "23      http://www.gobiernotransparentechile.cl/direct...  \n",
       "24      http://www.gobiernotransparentechile.cl/direct...  \n",
       "25      http://www.gobiernotransparentechile.cl/direct...  \n",
       "26      http://www.gobiernotransparentechile.cl/direct...  \n",
       "27      http://www.gobiernotransparentechile.cl/direct...  \n",
       "28      http://www.gobiernotransparentechile.cl/direct...  \n",
       "29      http://www.gobiernotransparentechile.cl/direct...  \n",
       "...                                                   ...  \n",
       "111158  http://www.gobiernotransparentechile.cl/direct...  \n",
       "111159  http://www.gobiernotransparentechile.cl/direct...  \n",
       "111160  http://www.gobiernotransparentechile.cl/direct...  \n",
       "111161  http://www.gobiernotransparentechile.cl/direct...  \n",
       "111162  http://www.gobiernotransparentechile.cl/direct...  \n",
       "111163  http://www.gobiernotransparentechile.cl/direct...  \n",
       "111164  http://www.gobiernotransparentechile.cl/direct...  \n",
       "111165  http://www.gobiernotransparentechile.cl/direct...  \n",
       "111166  http://www.gobiernotransparentechile.cl/direct...  \n",
       "111167  http://www.gobiernotransparentechile.cl/direct...  \n",
       "111168  http://www.gobiernotransparentechile.cl/direct...  \n",
       "111169  http://www.gobiernotransparentechile.cl/direct...  \n",
       "111170  http://www.gobiernotransparentechile.cl/direct...  \n",
       "111171  http://www.gobiernotransparentechile.cl/direct...  \n",
       "111172  http://www.gobiernotransparentechile.cl/direct...  \n",
       "111173  http://www.gobiernotransparentechile.cl/direct...  \n",
       "111174  http://www.gobiernotransparentechile.cl/direct...  \n",
       "111175  http://www.gobiernotransparentechile.cl/direct...  \n",
       "111176  http://www.gobiernotransparentechile.cl/direct...  \n",
       "111177  http://www.gobiernotransparentechile.cl/direct...  \n",
       "111178  http://www.gobiernotransparentechile.cl/direct...  \n",
       "111179  http://www.gobiernotransparentechile.cl/direct...  \n",
       "111180  http://www.gobiernotransparentechile.cl/direct...  \n",
       "111181  http://www.gobiernotransparentechile.cl/direct...  \n",
       "111182  http://www.gobiernotransparentechile.cl/direct...  \n",
       "111183  http://www.gobiernotransparentechile.cl/direct...  \n",
       "111184  http://www.gobiernotransparentechile.cl/direct...  \n",
       "111185  http://www.gobiernotransparentechile.cl/direct...  \n",
       "111186  http://www.gobiernotransparentechile.cl/direct...  \n",
       "111187  http://www.gobiernotransparentechile.cl/direct...  \n",
       "\n",
       "[111188 rows x 19 columns]"
      ]
     },
     "execution_count": 34,
     "metadata": {},
     "output_type": "execute_result"
    }
   ],
   "source": [
    "out"
   ]
  },
  {
   "cell_type": "code",
   "execution_count": null,
   "metadata": {
    "collapsed": true
   },
   "outputs": [],
   "source": []
  }
 ],
 "metadata": {
  "anaconda-cloud": {},
  "kernelspec": {
   "display_name": "Python 3",
   "language": "python",
   "name": "python3"
  },
  "language_info": {
   "codemirror_mode": {
    "name": "ipython",
    "version": 3
   },
   "file_extension": ".py",
   "mimetype": "text/x-python",
   "name": "python",
   "nbconvert_exporter": "python",
   "pygments_lexer": "ipython3",
   "version": "3.6.2"
  }
 },
 "nbformat": 4,
 "nbformat_minor": 1
}
