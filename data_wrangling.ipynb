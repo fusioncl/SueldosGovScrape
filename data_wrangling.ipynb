{
 "cells": [
  {
   "cell_type": "code",
   "execution_count": 126,
   "metadata": {
    "collapsed": false
   },
   "outputs": [
    {
     "data": {
      "text/html": [
       "<style>.container { width:100% !important; }</style>"
      ],
      "text/plain": [
       "<IPython.core.display.HTML object>"
      ]
     },
     "metadata": {},
     "output_type": "display_data"
    }
   ],
   "source": [
    "import pandas as pd\n",
    "import numpy as np\n",
    "import time\n",
    "import unicodedata\n",
    "from selenium import webdriver\n",
    "from selenium.common.exceptions import NoSuchElementException, WebDriverException\n",
    "\n",
    "import csv\n",
    "import os\n",
    "\n",
    "import sys\n",
    "sys.path.append('./lib/')\n",
    "from functions import *\n",
    "from tqdm import tnrange, tqdm_notebook\n",
    "from unidecode import unidecode\n",
    "\n",
    "from IPython.core.display import display, HTML\n",
    "display(HTML(\"<style>.container { width:100% !important; }</style>\"))\n",
    "\n",
    "import lxml.html\n",
    "import lxml\n",
    "\n",
    "import glob"
   ]
  },
  {
   "cell_type": "code",
   "execution_count": 2,
   "metadata": {
    "collapsed": false,
    "scrolled": true
   },
   "outputs": [
    {
     "data": {
      "text/plain": [
       "['output\\\\debugging.csv',\n",
       " 'output\\\\log_error_20170215.csv',\n",
       " 'output\\\\log_error_20170221.csv',\n",
       " 'output\\\\log_error_20170224.csv',\n",
       " 'output\\\\log_error_20170225-1.csv',\n",
       " 'output\\\\log_error_20170225.csv',\n",
       " 'output\\\\log_opened_20170212.csv',\n",
       " 'output\\\\log_opened_20170214.csv',\n",
       " 'output\\\\log_opened_20170215.csv',\n",
       " 'output\\\\log_opened_20170221.csv',\n",
       " 'output\\\\log_opened_20170224.csv',\n",
       " 'output\\\\log_opened_20170225-1.csv',\n",
       " 'output\\\\log_opened_20170225.csv',\n",
       " 'output\\\\scraped_data.csv',\n",
       " 'output\\\\scraped_data_20170212.csv',\n",
       " 'output\\\\scraped_data_20170214.csv',\n",
       " 'output\\\\scraped_data_20170215-1.csv',\n",
       " 'output\\\\scraped_data_20170215.csv',\n",
       " 'output\\\\scraped_data_20170216.csv',\n",
       " 'output\\\\scraped_data_20170221.csv',\n",
       " 'output\\\\scraped_data_20170224.csv',\n",
       " 'output\\\\scraped_data_20170225.csv',\n",
       " 'output\\\\output_1\\\\log_error_1.csv',\n",
       " 'output\\\\output_1\\\\log_opened_1.csv',\n",
       " 'output\\\\output_1\\\\log_opened_20170222_1.csv',\n",
       " 'output\\\\output_1\\\\log_opened_20170224_1.csv',\n",
       " 'output\\\\output_1\\\\scraped_data_1.csv',\n",
       " 'output\\\\output_1\\\\scraped_data_20170223_1.csv',\n",
       " 'output\\\\output_1\\\\scraped_data_20170224_1.csv',\n",
       " 'output\\\\output_1\\\\old\\\\dept_contract_years_list.csv',\n",
       " 'output\\\\output_1\\\\old\\\\dept_contract_years_list_short.csv',\n",
       " 'output\\\\output_1\\\\old\\\\scraped_data.csv',\n",
       " 'output\\\\output_1\\\\old\\\\scraped_data_2_backup.csv',\n",
       " 'output\\\\output_1\\\\old\\\\scraped_data_old.csv',\n",
       " 'output\\\\output_1\\\\old\\\\visited_pages.csv']"
      ]
     },
     "execution_count": 2,
     "metadata": {},
     "output_type": "execute_result"
    }
   ],
   "source": [
    "files = glob.glob('output/**/*.csv', recursive=True)\n",
    "files\n",
    "    "
   ]
  },
  {
   "cell_type": "code",
   "execution_count": 3,
   "metadata": {
    "collapsed": false
   },
   "outputs": [
    {
     "data": {
      "text/plain": [
       "21"
      ]
     },
     "execution_count": 3,
     "metadata": {},
     "output_type": "execute_result"
    }
   ],
   "source": [
    "col_names = ['entity', 'department', 'contract', 'year', 'month', 'group', 'lastn', 'lastn2', 'givenn', 'degree', \n",
    "             'qualif', 'position', 'region', 'specials', 'currency', 'salary', 'overt', 'start_date', 'end_date', 'obs', 'url']\n",
    "len(col_names)"
   ]
  },
  {
   "cell_type": "code",
   "execution_count": 4,
   "metadata": {
    "collapsed": false,
    "scrolled": true
   },
   "outputs": [],
   "source": [
    "\n",
    "dfscraped = pd.DataFrame()\n",
    "\n",
    "for f in files:\n",
    "    if 'scraped' in f:\n",
    "        df = pd.read_csv(f, header=None, encoding='latin1', names=col_names, warn_bad_lines=True, low_memory=False)\n",
    "        df['filename'] = f\n",
    "        dfscraped = pd.concat([dfscraped, df], ignore_index=True)\n"
   ]
  },
  {
   "cell_type": "code",
   "execution_count": 5,
   "metadata": {
    "collapsed": false
   },
   "outputs": [
    {
     "data": {
      "text/plain": [
       "output\\scraped_data_20170225.csv                 998922\n",
       "output\\output_1\\scraped_data_1.csv               360598\n",
       "output\\output_1\\scraped_data_20170224_1.csv      193449\n",
       "output\\scraped_data_20170224.csv                  78909\n",
       "output\\output_1\\scraped_data_20170223_1.csv       67889\n",
       "output\\scraped_data_20170215.csv                  50586\n",
       "output\\scraped_data_20170214.csv                  44783\n",
       "output\\scraped_data_20170216.csv                  36591\n",
       "output\\scraped_data_20170212.csv                  25227\n",
       "output\\scraped_data_20170221.csv                  15300\n",
       "output\\output_1\\old\\scraped_data_2_backup.csv      9215\n",
       "output\\output_1\\old\\scraped_data.csv               8224\n",
       "output\\scraped_data.csv                            4531\n",
       "output\\scraped_data_20170215-1.csv                 3145\n",
       "output\\output_1\\old\\scraped_data_old.csv           1766\n",
       "Name: filename, dtype: int64"
      ]
     },
     "execution_count": 5,
     "metadata": {},
     "output_type": "execute_result"
    }
   ],
   "source": [
    "dfscraped.filename.value_counts()"
   ]
  },
  {
   "cell_type": "code",
   "execution_count": 6,
   "metadata": {
    "collapsed": false,
    "scrolled": true
   },
   "outputs": [
    {
     "data": {
      "text/plain": [
       "Ministerio de Justicia                             336990\n",
       "Ministerio de Vivienda y Urbanismo                 196956\n",
       "Ministerio de Obras Públicas                       183468\n",
       "Ministerio de Educación                            128751\n",
       "Ministerio del Trabajo y Previsión Social          113612\n",
       "entity                                              92509\n",
       "Ministerio de Economía, Fomento y Turismo           92159\n",
       "Ministerio de Desarrollo Social                     84779\n",
       "Ministerio del Trabajo y PrevisiÃ³n Social          80198\n",
       "Ministerio de Defensa Nacional                      63995\n",
       "Ministerio del Interior y Seguridad Pública         53894\n",
       "Consejo de Defensa del Estado                       52169\n",
       "b'Ministerio del Interior y Seguridad Pblica'       47911\n",
       "Ministerio de Agricultura                           44494\n",
       "b'Ministerio del Trabajo y Previsin Social'         43390\n",
       "Ministerio del Interior y Seguridad Pblica          40850\n",
       "Ministerio de MinerÃ­a                              37899\n",
       "b'Ministerio de Obras Pblicas'                      27853\n",
       "Presidencia de la República                         27483\n",
       "Ministerio de Relaciones Exteriores                 21294\n",
       "b'Ministerio de Educacin'                           19799\n",
       "b'Ministerio de Economa, Fomento y Turismo'         14122\n",
       "Ministerio Secretaría General de la Presidencia     13534\n",
       "b'Ministerio de Justicia'                           12252\n",
       "b'Ministerio de Desarrollo Social'                   9425\n",
       "presidencia_de_la_republica                          9215\n",
       "Ministerio de Bienes Nacionales                      6584\n",
       "Ministerio del Deporte                               6236\n",
       "Ministerio del Medio Ambiente                        6172\n",
       "Ministerio de EnergÃ­a                               5735\n",
       "                                                    ...  \n",
       "75.0                                                   15\n",
       "71.0                                                   15\n",
       "76.0                                                   15\n",
       "77.0                                                   15\n",
       "74.0                                                   15\n",
       "72.0                                                   15\n",
       "73.0                                                   15\n",
       "78.0                                                   14\n",
       "79.0                                                   14\n",
       "80.0                                                   13\n",
       "b'Presidencia de la Repblica'                          13\n",
       "88.0                                                   12\n",
       "87.0                                                   12\n",
       "86.0                                                   12\n",
       "85.0                                                   12\n",
       "84.0                                                   12\n",
       "83.0                                                   12\n",
       "82.0                                                   12\n",
       "81.0                                                   12\n",
       "90.0                                                   11\n",
       "91.0                                                   11\n",
       "92.0                                                   11\n",
       "93.0                                                   11\n",
       "94.0                                                   11\n",
       "95.0                                                   11\n",
       "96.0                                                   11\n",
       "97.0                                                   11\n",
       "98.0                                                   11\n",
       "99.0                                                   11\n",
       "89.0                                                   11\n",
       "Name: entity, dtype: int64"
      ]
     },
     "execution_count": 6,
     "metadata": {},
     "output_type": "execute_result"
    }
   ],
   "source": [
    "dfscraped.entity.value_counts()"
   ]
  },
  {
   "cell_type": "code",
   "execution_count": 33,
   "metadata": {
    "collapsed": false
   },
   "outputs": [
    {
     "data": {
      "text/plain": [
       "20597"
      ]
     },
     "execution_count": 33,
     "metadata": {},
     "output_type": "execute_result"
    }
   ],
   "source": [
    "dfscraped.url.nunique()"
   ]
  },
  {
   "cell_type": "raw",
   "metadata": {},
   "source": []
  },
  {
   "cell_type": "markdown",
   "metadata": {},
   "source": [
    "## Data that was not captured with the right encoding, get again"
   ]
  },
  {
   "cell_type": "code",
   "execution_count": 7,
   "metadata": {
    "collapsed": false
   },
   "outputs": [
    {
     "data": {
      "text/plain": [
       "[\"b'Ministerio del Interior y Seguridad Pblica'\",\n",
       " \"b'Ministerio del Trabajo y Previsin Social'\",\n",
       " \"b'Ministerio de Obras Pblicas'\",\n",
       " \"b'Ministerio de Educacin'\",\n",
       " \"b'Ministerio de Economa, Fomento y Turismo'\",\n",
       " \"b'Ministerio de Justicia'\",\n",
       " \"b'Ministerio de Desarrollo Social'\",\n",
       " \"b'Ministerio de Defensa Nacional'\",\n",
       " \"b'Ministerio de Salud'\",\n",
       " \"b'Ministerio de Relaciones Exteriores'\",\n",
       " \"b'entity'\",\n",
       " \"b'Ministerio de Transporte y Telecomunicaciones'\",\n",
       " \"b'Ministerio Secretara General de Gobierno'\",\n",
       " \"b'Presidencia de la Repblica'\",\n",
       " 'Ministerio del Trabajo y PrevisiÃ³n Social',\n",
       " 'Ministerio de MinerÃ\\xada',\n",
       " 'Ministerio de EnergÃ\\xada',\n",
       " 'Consejo Nacional de TelevisiÃ³n',\n",
       " 'Ministerio de MinerÃ\\xada',\n",
       " 'Ministerio de EnergÃ\\xada']"
      ]
     },
     "execution_count": 7,
     "metadata": {},
     "output_type": "execute_result"
    }
   ],
   "source": [
    "retake_entity = list(dfscraped[dfscraped.entity.str.contains(\"b'\", na=False)].entity.value_counts().index)\n",
    "retake_entity = retake_entity + list(dfscraped[dfscraped.entity.str.contains(\"Ã\", na=False)].entity.value_counts().index)\n",
    "retake_entity = retake_entity + list(dfscraped[dfscraped.entity.str.contains(\"Ã­\", na=False)].entity.value_counts().index)\n",
    "retake_entity = retake_entity + ['Ministerio del Interior y Seguridad Pblica', 'Presidencia de la Repblica ']  "
   ]
  },
  {
   "cell_type": "code",
   "execution_count": 8,
   "metadata": {
    "collapsed": false
   },
   "outputs": [
    {
     "name": "stdout",
     "output_type": "stream",
     "text": [
      "Total Urls 20597\n",
      "Urls to retake 3918\n"
     ]
    }
   ],
   "source": [
    "print('Total Urls', dfscraped.url.nunique())\n",
    "print('Urls to retake', dfscraped[dfscraped.entity.isin(retake_entity)].url.nunique())"
   ]
  },
  {
   "cell_type": "code",
   "execution_count": 9,
   "metadata": {
    "collapsed": false
   },
   "outputs": [
    {
     "data": {
      "text/plain": [
       "3918"
      ]
     },
     "execution_count": 9,
     "metadata": {},
     "output_type": "execute_result"
    }
   ],
   "source": [
    "retake_entity_urls = []\n",
    "for u in list(set(dfscraped.ix[dfscraped.entity.isin(retake_entity), 'url'].unique())):\n",
    "    if str(u) != 'nan':\n",
    "        if \"b'\" in u:\n",
    "            u = u[2:]\n",
    "        if u[-1] == \"'\":\n",
    "            u = u[:len(u)-1]\n",
    "        retake_entity_urls.append(u)\n",
    "len(retake_entity_urls)"
   ]
  },
  {
   "cell_type": "code",
   "execution_count": 10,
   "metadata": {
    "collapsed": false,
    "scrolled": true
   },
   "outputs": [
    {
     "data": {
      "text/plain": [
       "['http://www.gobiernotransparentechile.cl/directorio/entidad/8/138/per_contrata/A%C3%B1o%202008/Octubre?x=0&y=0&page_number=3&sort=id&direction=asc',\n",
       " 'http://www.gobiernotransparentechile.cl/directorio/entidad/12/169/per_contrata/Ao-2008?x=0&y=0&page_number=3&sort=id&direction=asc',\n",
       " 'http://www.gobiernotransparentechile.cl/directorio/entidad/12/167/per_planta/A%C3%B1o%202013/Octubre',\n",
       " 'http://www.gobiernotransparentechile.cl/directorio/entidad/11/156/per_planta/Ao-2008',\n",
       " 'http://www.gobiernotransparentechile.cl/directorio/entidad/19/271/per_contrata/A%C3%B1o%202014/A%C3%B1o%202014%20-%20Mayo?x=0&y=0&page_number=2&sort=id&direction=asc',\n",
       " 'http://www.gobiernotransparentechile.cl/directorio/entidad/19/271/per_contrata/A%C3%B1o%202014/A%C3%B1o%202014%20-%20Mayo',\n",
       " 'http://www.gobiernotransparentechile.cl/directorio/entidad/2/9/per_planta/2014/Noviembre',\n",
       " 'http://www.gobiernotransparentechile.cl/directorio/entidad/4/285/per_planta/2014/Junio',\n",
       " 'http://www.gobiernotransparentechile.cl/directorio/entidad/10/146/per_planta/Ao-2009?x=0&y=0&page_number=12&sort=id&direction=asc',\n",
       " 'http://www.gobiernotransparentechile.cl/directorio/entidad/11/159/per_contrata/DICIEMBRE?x=0&y=0&page_number=30&sort=id&direction=asc',\n",
       " 'http://www.gobiernotransparentechile.cl/directorio/entidad/13/179/per_contrata/A%EF%BF%BDo%202014/Junio?x=0&y=0&page_number=2&sort=id&direction=asc',\n",
       " 'http://www.gobiernotransparentechile.cl/directorio/entidad/2/2/per_contrata/2011/Diciembre?x=0&y=0&page_number=4&sort=id&direction=asc',\n",
       " 'http://www.gobiernotransparentechile.cl/directorio/entidad/2/9/per_contrata/2014/Marzo',\n",
       " 'http://www.gobiernotransparentechile.cl/directorio/entidad/9/141/per_contrata/A%C3%B1o%202012/Febrero?x=0&y=0&page_number=5&sort=id&direction=asc',\n",
       " 'http://www.gobiernotransparentechile.cl/directorio/entidad/2/2/per_planta/2016/Julio?x=0&y=0&page_number=2&sort=id&direction=asc',\n",
       " 'http://www.gobiernotransparentechile.cl/directorio/entidad/9/145/per_contrata/A%C3%B1o%202016/Octubre',\n",
       " 'http://www.gobiernotransparentechile.cl/directorio/entidad/19/271/per_contrata/A%C3%B1o%202014/A%C3%B1o%202014%20-%20Julio?x=0&y=0&page_number=4&sort=id&direction=asc',\n",
       " 'http://www.gobiernotransparentechile.cl/directorio/entidad/2/2/per_planta/2010/Noviembre?x=0&y=0&page_number=4&sort=id&direction=asc',\n",
       " 'http://www.gobiernotransparentechile.cl/directorio/entidad/12/169/per_contrata/Ao-2008?x=0&y=0&page_number=10&sort=id&direction=asc',\n",
       " 'http://www.gobiernotransparentechile.cl/directorio/entidad/25/351/per_contrata/Ao-2013',\n",
       " 'http://www.gobiernotransparentechile.cl/directorio/entidad/12/170/per_contrata/Ao-2006',\n",
       " 'http://www.gobiernotransparentechile.cl/directorio/entidad/12/171/per_contrata/A%C3%B1o%202016/Mayo?x=0&y=0&page_number=11&sort=id&direction=asc',\n",
       " 'http://www.gobiernotransparentechile.cl/directorio/entidad/13/179/per_planta/A%EF%BF%BDo%202015/Octubre',\n",
       " 'http://www.gobiernotransparentechile.cl/directorio/entidad/10/146/per_contrata/Ao-2009?x=0&y=0&page_number=14&sort=id&direction=asc',\n",
       " 'http://www.gobiernotransparentechile.cl/directorio/entidad/12/171/per_contrata/A%C3%B1o%202016/Septiembre?x=0&y=0&page_number=15&sort=id&direction=asc',\n",
       " 'http://www.gobiernotransparentechile.cl/directorio/entidad/19/271/per_contrata/A%C3%B1o%202012/A%C3%B1o%202012%20-%20Diciembre?x=0&y=0&page_number=5&sort=id&direction=asc',\n",
       " 'http://www.gobiernotransparentechile.cl/directorio/entidad/12/167/per_contrata/A%C3%B1o%202010/Diciembre?x=0&y=0&page_number=2&sort=id&direction=asc',\n",
       " 'http://www.gobiernotransparentechile.cl/directorio/entidad/12/167/per_contrata/A%C3%B1o%202013/Julio',\n",
       " 'http://www.gobiernotransparentechile.cl/directorio/entidad/25/351/per_contrata/A%C3%B1o%202016/Agosto',\n",
       " 'http://www.gobiernotransparentechile.cl/directorio/entidad/2/2/per_planta/2010/Mayo?x=0&y=0&page_number=3&sort=id&direction=asc',\n",
       " 'http://www.gobiernotransparentechile.cl/directorio/entidad/19/271/per_contrata/A%C3%B1o%202015/A%C3%B1o%202015%20-%20Marzo',\n",
       " 'http://www.gobiernotransparentechile.cl/directorio/entidad/2/2/per_planta/2010/Marzo?x=0&y=0&page_number=4&sort=id&direction=asc',\n",
       " 'http://www.gobiernotransparentechile.cl/directorio/entidad/12/169/per_contrata/Ao-2016?x=0&y=0&page_number=6&sort=id&direction=asc',\n",
       " 'http://www.gobiernotransparentechile.cl/directorio/entidad/21/135/per_planta/Ao-2008',\n",
       " 'http://www.gobiernotransparentechile.cl/directorio/entidad/2/10/per_contrata/2012/Noviembre',\n",
       " 'http://www.gobiernotransparentechile.cl/directorio/entidad/2/2/per_contrata/2015/Mayo',\n",
       " 'http://www.gobiernotransparentechile.cl/directorio/entidad/11/159/per_contrata/Ao-2008?x=0&y=0&page_number=27&sort=id&direction=asc',\n",
       " 'http://www.gobiernotransparentechile.cl/directorio/entidad/12/173/per_contrata/A%EF%BF%BDo%202014/Mayo?x=0&y=0&page_number=4&sort=id&direction=asc',\n",
       " 'http://www.gobiernotransparentechile.cl/directorio/entidad/2/9/per_contrata/2014/Noviembre',\n",
       " 'http://www.gobiernotransparentechile.cl/directorio/entidad/13/177/per_planta/A%EF%BF%BDo%202011/A%C3%B1o%202011%20Junio',\n",
       " 'http://www.gobiernotransparentechile.cl/directorio/entidad/12/171/per_contrata/A%C3%B1o%202016/Febrero?x=0&y=0&page_number=24&sort=id&direction=asc',\n",
       " 'http://www.gobiernotransparentechile.cl/directorio/entidad/13/179/per_planta/A%EF%BF%BDo%202016/Febrero',\n",
       " 'http://www.gobiernotransparentechile.cl/directorio/entidad/12/173/per_contrata/A%EF%BF%BDo%202015/Diciembre?x=0&y=0&page_number=3&sort=id&direction=asc',\n",
       " 'http://www.gobiernotransparentechile.cl/directorio/entidad/19/271/per_contrata/A%C3%B1o%202016/A%C3%B1o%202016%20-%20Septiembre?x=0&y=0&page_number=5&sort=id&direction=asc',\n",
       " 'http://www.gobiernotransparentechile.cl/directorio/entidad/11/159/per_contrata/Ao-2008?x=0&y=0&page_number=26&sort=id&direction=asc',\n",
       " 'http://www.gobiernotransparentechile.cl/directorio/entidad/12/167/per_planta/A%C3%B1o%202010/Diciembre',\n",
       " 'http://www.gobiernotransparentechile.cl/directorio/entidad/21/279/per_contrata/Ao-2014?x=0&y=0&page_number=2&sort=id&direction=asc',\n",
       " 'http://www.gobiernotransparentechile.cl/directorio/entidad/19/271/per_contrata/A%C3%B1o%202015/A%C3%B1o%202015%20-%20Diciembre?x=0&y=0&page_number=3&sort=id&direction=asc',\n",
       " 'http://www.gobiernotransparentechile.cl/directorio/entidad/2/2/per_contrata/2011/Junio?x=0&y=0&page_number=5&sort=id&direction=asc',\n",
       " 'http://www.gobiernotransparentechile.cl/directorio/entidad/9/127/per_planta/Ao-2010',\n",
       " 'http://www.gobiernotransparentechile.cl/directorio/entidad/12/173/per_contrata/A%EF%BF%BDo%202013/Diciembre?x=0&y=0&page_number=4&sort=id&direction=asc',\n",
       " 'http://www.gobiernotransparentechile.cl/directorio/entidad/12/173/per_contrata/A%EF%BF%BDo%202012/Julio?x=0&y=0&page_number=3&sort=id&direction=asc',\n",
       " 'http://www.gobiernotransparentechile.cl/directorio/entidad/10/146/per_contrata/Ao-2007',\n",
       " 'http://www.gobiernotransparentechile.cl/directorio/entidad/9/145/per_contrata/A%C3%B1o%202016/Abril?x=0&y=0&page_number=2&sort=id&direction=asc',\n",
       " 'http://www.gobiernotransparentechile.cl/directorio/entidad/12/173/per_contrata/A%EF%BF%BDo%202013/Diciembre?x=0&y=0&page_number=5&sort=id&direction=asc',\n",
       " 'http://www.gobiernotransparentechile.cl/directorio/entidad/8/136/per_contrata/Ao-2012?x=0&y=0&page_number=3&sort=id&direction=asc',\n",
       " 'http://www.gobiernotransparentechile.cl/directorio/entidad/2/2/per_contrata/2015/Octubre?x=0&y=0&page_number=2&sort=id&direction=asc',\n",
       " 'http://www.gobiernotransparentechile.cl/directorio/entidad/12/169/per_contrata/Ao-2012?x=0&y=0&page_number=20&sort=id&direction=asc',\n",
       " 'http://www.gobiernotransparentechile.cl/directorio/entidad/19/271/per_contrata/A%C3%B1o%202016/A%C3%B1o%202016%20-%20Junio?x=0&y=0&page_number=7&sort=id&direction=asc',\n",
       " 'http://www.gobiernotransparentechile.cl/directorio/entidad/19/271/per_contrata/A%C3%B1o%202013/A%C3%B1o%202013%20-%20Febrero?x=0&y=0&page_number=6&sort=id&direction=asc',\n",
       " 'http://www.gobiernotransparentechile.cl/directorio/entidad/2/2/per_contrata/2015/Septiembre?x=0&y=0&page_number=5&sort=id&direction=asc',\n",
       " 'http://www.gobiernotransparentechile.cl/directorio/entidad/12/173/per_contrata/A%EF%BF%BDo%202012/Junio?x=0&y=0&page_number=5&sort=id&direction=asc',\n",
       " 'http://www.gobiernotransparentechile.cl/directorio/entidad/12/169/per_planta/Ao-2013?x=0&y=0&page_number=3&sort=id&direction=asc',\n",
       " 'http://www.gobiernotransparentechile.cl/directorio/entidad/2/9/per_planta/2012/Septiembre',\n",
       " 'http://www.gobiernotransparentechile.cl/directorio/entidad/12/173/per_contrata/A%EF%BF%BDo%202016/Julio?x=0&y=0&page_number=6&sort=id&direction=asc',\n",
       " 'http://www.gobiernotransparentechile.cl/directorio/entidad/8/138/per_contrata/A%C3%B1o%202008/Agosto?x=0&y=0&page_number=3&sort=id&direction=asc',\n",
       " 'http://www.gobiernotransparentechile.cl/directorio/entidad/12/171/per_contrata/A%C3%B1o%202016/Septiembre',\n",
       " 'http://www.gobiernotransparentechile.cl/directorio/entidad/12/170/per_contrata/Ao-2008?x=0&y=0&page_number=2&sort=id&direction=asc',\n",
       " 'http://www.gobiernotransparentechile.cl/directorio/entidad/19/271/per_planta/A%C3%B1o%202014/A%C3%B1o%202014%20-%20Febrero',\n",
       " 'http://www.gobiernotransparentechile.cl/directorio/entidad/12/169/per_contrata/Ao-2007?x=0&y=0&page_number=12&sort=id&direction=asc',\n",
       " 'http://www.gobiernotransparentechile.cl/directorio/entidad/11/159/per_contrata/Ao-2008?x=0&y=0&page_number=11&sort=id&direction=asc',\n",
       " 'http://www.gobiernotransparentechile.cl/directorio/entidad/10/146/per_planta/Ao-2006?x=0&y=0&page_number=17&sort=id&direction=asc',\n",
       " 'http://www.gobiernotransparentechile.cl/directorio/entidad/12/173/per_contrata/A%EF%BF%BDo%202013/Febrero?x=0&y=0&page_number=4&sort=id&direction=asc',\n",
       " 'http://www.gobiernotransparentechile.cl/directorio/entidad/9/348/per_contrata/A%C3%B1o%202013/Noviembre?x=0&y=0&page_number=6&sort=id&direction=asc',\n",
       " 'http://www.gobiernotransparentechile.cl/directorio/entidad/12/173/per_contrata/A%EF%BF%BDo%202014/Agosto?x=0&y=0&page_number=5&sort=id&direction=asc',\n",
       " 'http://www.gobiernotransparentechile.cl/directorio/entidad/19/271/per_contrata/A%C3%B1o%202014/A%C3%B1o%202014%20-%20Octubre',\n",
       " 'http://www.gobiernotransparentechile.cl/directorio/entidad/12/169/per_planta/Ao-2016?x=0&y=0&page_number=5&sort=id&direction=asc',\n",
       " 'http://www.gobiernotransparentechile.cl/directorio/entidad/2/2/per_contrata/2015/Septiembre',\n",
       " 'http://www.gobiernotransparentechile.cl/directorio/entidad/2/8/per_planta/2013/Abril',\n",
       " 'http://www.gobiernotransparentechile.cl/directorio/entidad/25/351/per_planta/A%C3%B1o%202016/Septiembre',\n",
       " 'http://www.gobiernotransparentechile.cl/directorio/entidad/12/167/per_contrata/A%C3%B1o%202015/Septiembre?x=0&y=0&page_number=2&sort=id&direction=asc',\n",
       " 'http://www.gobiernotransparentechile.cl/directorio/entidad/10/146/per_contrata/Ao-2014?x=0&y=0&page_number=90&sort=id&direction=asc',\n",
       " 'http://www.gobiernotransparentechile.cl/directorio/entidad/12/173/per_contrata/A%EF%BF%BDo%202015/Noviembre?x=0&y=0&page_number=5&sort=id&direction=asc',\n",
       " 'http://www.gobiernotransparentechile.cl/directorio/entidad/12/171/per_contrata/A%C3%B1o%202016/Mayo?x=0&y=0&page_number=22&sort=id&direction=asc',\n",
       " 'http://www.gobiernotransparentechile.cl/directorio/entidad/8/138/per_contrata/A%C3%B1o%202008/Abril',\n",
       " 'http://www.gobiernotransparentechile.cl/directorio/entidad/8/138/per_contrata/A%C3%B1o%202007/Abril',\n",
       " 'http://www.gobiernotransparentechile.cl/directorio/entidad/9/348/per_contrata/A%C3%B1o%202013/Julio?x=0&y=0&page_number=3&sort=id&direction=asc',\n",
       " 'http://www.gobiernotransparentechile.cl/directorio/entidad/2/11/per_planta/2014/Febrero',\n",
       " 'http://www.gobiernotransparentechile.cl/directorio/entidad/2/2/per_contrata/2015/Diciembre?x=0&y=0&page_number=4&sort=id&direction=asc',\n",
       " 'http://www.gobiernotransparentechile.cl/directorio/entidad/12/171/per_planta/Ao-2006?x=0&y=0&page_number=6&sort=id&direction=asc',\n",
       " 'http://www.gobiernotransparentechile.cl/directorio/entidad/12/167/per_planta/Ao-2008',\n",
       " 'http://www.gobiernotransparentechile.cl/directorio/entidad/2/2/per_contrata/2015/Mayo?x=0&y=0&page_number=3&sort=id&direction=asc',\n",
       " 'http://www.gobiernotransparentechile.cl/directorio/entidad/12/173/per_contrata/A%EF%BF%BDo%202012/Agosto',\n",
       " 'http://www.gobiernotransparentechile.cl/directorio/entidad/12/169/per_planta/Ao-2013?x=0&y=0&page_number=6&sort=id&direction=asc',\n",
       " 'http://www.gobiernotransparentechile.cl/directorio/entidad/12/171/per_planta/Ao-2010',\n",
       " 'http://www.gobiernotransparentechile.cl/directorio/entidad/12/171/per_contrata/A%C3%B1o%202016/Marzo?x=0&y=0&page_number=11&sort=id&direction=asc',\n",
       " 'http://www.gobiernotransparentechile.cl/directorio/entidad/12/173/per_contrata/A%EF%BF%BDo%202015/Mayo?x=0&y=0&page_number=2&sort=id&direction=asc',\n",
       " 'http://www.gobiernotransparentechile.cl/directorio/entidad/12/167/per_contrata/A%C3%B1o%202010/Noviembre?x=0&y=0&page_number=2&sort=id&direction=asc',\n",
       " 'http://www.gobiernotransparentechile.cl/directorio/entidad/4/285/per_contrata/2015/Enero',\n",
       " 'http://www.gobiernotransparentechile.cl/directorio/entidad/12/173/per_contrata/A%EF%BF%BDo%202015/Julio?x=0&y=0&page_number=5&sort=id&direction=asc',\n",
       " 'http://www.gobiernotransparentechile.cl/directorio/entidad/12/173/per_contrata/A%EF%BF%BDo%202011/Enero?x=0&y=0&page_number=2&sort=id&direction=asc',\n",
       " 'http://www.gobiernotransparentechile.cl/directorio/entidad/12/173/per_contrata/A%EF%BF%BDo%202015/Diciembre?x=0&y=0&page_number=5&sort=id&direction=asc',\n",
       " 'http://www.gobiernotransparentechile.cl/directorio/entidad/13/179/per_contrata/A%EF%BF%BDo%202012/Enero',\n",
       " 'http://www.gobiernotransparentechile.cl/directorio/entidad/2/2/per_contrata/2013/Febrero?x=0&y=0&page_number=4&sort=id&direction=asc',\n",
       " 'http://www.gobiernotransparentechile.cl/directorio/entidad/19/271/per_contrata/A%C3%B1o%202013/A%C3%B1o%202013%20-%20Enero?x=0&y=0&page_number=5&sort=id&direction=asc',\n",
       " 'http://www.gobiernotransparentechile.cl/directorio/entidad/13/179/per_planta/A%EF%BF%BDo%202014/Marzo',\n",
       " 'http://www.gobiernotransparentechile.cl/directorio/entidad/19/271/per_contrata/A%C3%B1o%202016/A%C3%B1o%202016%20-%20Abril?x=0&y=0&page_number=4&sort=id&direction=asc',\n",
       " 'http://www.gobiernotransparentechile.cl/directorio/entidad/2/11/per_planta/2011/Marzo',\n",
       " 'http://www.gobiernotransparentechile.cl/directorio/entidad/10/146/per_planta/Ao-2006?x=0&y=0&page_number=15&sort=id&direction=asc',\n",
       " 'http://www.gobiernotransparentechile.cl/directorio/entidad/2/11/per_planta/2012/Junio',\n",
       " 'http://www.gobiernotransparentechile.cl/directorio/entidad/12/169/per_planta/Ao-2010?x=0&y=0&page_number=3&sort=id&direction=asc',\n",
       " 'http://www.gobiernotransparentechile.cl/directorio/entidad/3/94/per_planta/Ao-2017',\n",
       " 'http://www.gobiernotransparentechile.cl/directorio/entidad/12/173/per_contrata/A%EF%BF%BDo%202014/Mayo?x=0&y=0&page_number=5&sort=id&direction=asc',\n",
       " 'http://www.gobiernotransparentechile.cl/directorio/entidad/10/146/per_contrata/Ao-2014?x=0&y=0&page_number=17&sort=id&direction=asc',\n",
       " 'http://www.gobiernotransparentechile.cl/directorio/entidad/13/179/per_planta/A%EF%BF%BDo%202011/Septiembre',\n",
       " 'http://www.gobiernotransparentechile.cl/directorio/entidad/2/2/per_contrata/2011/Enero?x=0&y=0&page_number=4&sort=id&direction=asc',\n",
       " 'http://www.gobiernotransparentechile.cl/directorio/entidad/8/136/per_contrata/Ao-2013?x=0&y=0&page_number=2&sort=id&direction=asc',\n",
       " 'http://www.gobiernotransparentechile.cl/directorio/entidad/10/146/per_planta/Ao-2008?x=0&y=0&page_number=8&sort=id&direction=asc',\n",
       " 'http://www.gobiernotransparentechile.cl/directorio/entidad/13/179/per_contrata/A%EF%BF%BDo%202013/Noviembre?x=0&y=0&page_number=2&sort=id&direction=asc',\n",
       " 'http://www.gobiernotransparentechile.cl/directorio/entidad/12/169/per_planta/Ao-2012?x=0&y=0&page_number=4&sort=id&direction=asc',\n",
       " 'http://www.gobiernotransparentechile.cl/directorio/entidad/10/146/per_planta/Ao-2006?x=0&y=0&page_number=7&sort=id&direction=asc',\n",
       " 'http://www.gobiernotransparentechile.cl/directorio/entidad/12/169/per_contrata/Ao-2012?x=0&y=0&page_number=5&sort=id&direction=asc',\n",
       " 'http://www.gobiernotransparentechile.cl/directorio/entidad/2/2/per_planta/2010/Abril?x=0&y=0&page_number=2&sort=id&direction=asc',\n",
       " 'http://www.gobiernotransparentechile.cl/directorio/entidad/12/171/per_contrata/A%C3%B1o%202016/Febrero?x=0&y=0&page_number=19&sort=id&direction=asc',\n",
       " 'http://www.gobiernotransparentechile.cl/directorio/entidad/11/159/per_contrata/Ao-2008?x=0&y=0&page_number=25&sort=id&direction=asc',\n",
       " 'http://www.gobiernotransparentechile.cl/directorio/entidad/13/179/per_contrata/A%EF%BF%BDo%202010/Agosto',\n",
       " 'http://www.gobiernotransparentechile.cl/directorio/entidad/21/135/per_contrata/Ao-2016',\n",
       " 'http://www.gobiernotransparentechile.cl/directorio/entidad/12/171/per_planta/A%C3%B1o%202016/Marzo',\n",
       " 'http://www.gobiernotransparentechile.cl/directorio/entidad/2/9/per_planta/2012/Diciembre',\n",
       " 'http://www.gobiernotransparentechile.cl/directorio/entidad/12/171/per_contrata/A%C3%B1o%202016/Mayo?x=0&y=0&page_number=4&sort=id&direction=asc',\n",
       " 'http://www.gobiernotransparentechile.cl/directorio/entidad/15/197/per_contrata/Ao-2013?x=0&y=0&page_number=2&sort=id&direction=asc',\n",
       " 'http://www.gobiernotransparentechile.cl/directorio/entidad/13/179/per_contrata/A%EF%BF%BDo%202012/Enero?x=0&y=0&page_number=2&sort=id&direction=asc',\n",
       " 'http://www.gobiernotransparentechile.cl/directorio/entidad/2/2/per_contrata/2013/Octubre?x=0&y=0&page_number=5&sort=id&direction=asc',\n",
       " 'http://www.gobiernotransparentechile.cl/directorio/entidad/12/169/per_contrata/Ao-2008?x=0&y=0&page_number=13&sort=id&direction=asc',\n",
       " 'http://www.gobiernotransparentechile.cl/directorio/entidad/13/177/per_planta/A%EF%BF%BDo%202016/Noviembre',\n",
       " 'http://www.gobiernotransparentechile.cl/directorio/entidad/21/279/per_planta/Ao-2010',\n",
       " 'http://www.gobiernotransparentechile.cl/directorio/entidad/8/138/per_contrata/A%C3%B1o%202008/Marzo?x=0&y=0&page_number=2&sort=id&direction=asc',\n",
       " 'http://www.gobiernotransparentechile.cl/directorio/entidad/12/171/per_planta/Ao-2007',\n",
       " 'http://www.gobiernotransparentechile.cl/directorio/entidad/19/271/per_contrata/A%C3%B1o%202011/A%C3%B1o%202011%20-%20Octubre?x=0&y=0&page_number=3&sort=id&direction=asc',\n",
       " 'http://www.gobiernotransparentechile.cl/directorio/entidad/12/173/per_contrata/A%EF%BF%BDo%202015/Abril?x=0&y=0&page_number=4&sort=id&direction=asc',\n",
       " 'http://www.gobiernotransparentechile.cl/directorio/entidad/12/171/per_planta/Ao-2010?x=0&y=0&page_number=3&sort=id&direction=asc',\n",
       " 'http://www.gobiernotransparentechile.cl/directorio/entidad/21/135/per_planta/Ao-2012',\n",
       " 'http://www.gobiernotransparentechile.cl/directorio/entidad/9/348/per_contrata/A%C3%B1o%202015/Febrero?x=0&y=0&page_number=4&sort=id&direction=asc',\n",
       " 'http://www.gobiernotransparentechile.cl/directorio/entidad/13/179/per_contrata/A%EF%BF%BDo%202013/Mayo?x=0&y=0&page_number=2&sort=id&direction=asc',\n",
       " 'http://www.gobiernotransparentechile.cl/directorio/entidad/12/171/per_contrata/A%C3%B1o%202016/Febrero?x=0&y=0&page_number=18&sort=id&direction=asc',\n",
       " 'http://www.gobiernotransparentechile.cl/directorio/entidad/12/171/per_contrata/A%C3%B1o%202016/Septiembre?x=0&y=0&page_number=7&sort=id&direction=asc',\n",
       " 'http://www.gobiernotransparentechile.cl/directorio/entidad/13/179/per_contrata/A%EF%BF%BDo%202012/Marzo?x=0&y=0&page_number=2&sort=id&direction=asc',\n",
       " 'http://www.gobiernotransparentechile.cl/directorio/entidad/19/271/per_contrata/A%C3%B1o%202013/A%C3%B1o%202013%20-%20Junio?x=0&y=0&page_number=5&sort=id&direction=asc',\n",
       " 'http://www.gobiernotransparentechile.cl/directorio/entidad/19/271/per_contrata/A%C3%B1o%202011/A%C3%B1o%202011%20-%20Octubre?x=0&y=0&page_number=4&sort=id&direction=asc',\n",
       " 'http://www.gobiernotransparentechile.cl/directorio/entidad/12/167/per_contrata/A%C3%B1o%202016/Julio?x=0&y=0&page_number=2&sort=id&direction=asc',\n",
       " 'http://www.gobiernotransparentechile.cl/directorio/entidad/4/114/per_planta/Ao-2008?x=0&y=0&page_number=13&sort=id&direction=asc',\n",
       " 'http://www.gobiernotransparentechile.cl/directorio/entidad/12/171/per_planta/A%C3%B1o%202016/Junio?x=0&y=0&page_number=2&sort=id&direction=asc',\n",
       " 'http://www.gobiernotransparentechile.cl/directorio/entidad/12/173/per_contrata/A%EF%BF%BDo%202012/Octubre',\n",
       " 'http://www.gobiernotransparentechile.cl/directorio/entidad/4/285/per_planta/2007',\n",
       " 'http://www.gobiernotransparentechile.cl/directorio/entidad/12/171/per_planta/Ao-2012?x=0&y=0&page_number=3&sort=id&direction=asc',\n",
       " 'http://www.gobiernotransparentechile.cl/directorio/entidad/12/173/per_contrata/A%EF%BF%BDo%202015/Mayo?x=0&y=0&page_number=6&sort=id&direction=asc',\n",
       " 'http://www.gobiernotransparentechile.cl/directorio/entidad/9/348/per_contrata/A%C3%B1o%202014/Enero?x=0&y=0&page_number=3&sort=id&direction=asc',\n",
       " 'http://www.gobiernotransparentechile.cl/directorio/entidad/12/171/per_contrata/A%C3%B1o%202016/Enero?x=0&y=0&page_number=17&sort=id&direction=asc',\n",
       " 'http://www.gobiernotransparentechile.cl/directorio/entidad/13/179/per_contrata/A%EF%BF%BDo%202013/Julio',\n",
       " 'http://www.gobiernotransparentechile.cl/directorio/entidad/2/2/per_contrata/2011/Marzo?x=0&y=0&page_number=5&sort=id&direction=asc',\n",
       " 'http://www.gobiernotransparentechile.cl/directorio/entidad/2/11/per_planta/2014/Marzo',\n",
       " 'http://www.gobiernotransparentechile.cl/directorio/entidad/13/178/per_contrata/A%C3%B1o%202008/A%C3%B1o%202008%20Enero-Diciembre?x=0&y=0&page_number=2&sort=id&direction=asc',\n",
       " 'http://www.gobiernotransparentechile.cl/directorio/entidad/2/8/per_planta/2011/Abril',\n",
       " 'http://www.gobiernotransparentechile.cl/directorio/entidad/9/141/per_contrata/A%C3%B1o%202011/Septiembre?x=0&y=0&page_number=5&sort=id&direction=asc',\n",
       " 'http://www.gobiernotransparentechile.cl/directorio/entidad/13/177/per_planta/A%EF%BF%BDo%202016/Abril',\n",
       " 'http://www.gobiernotransparentechile.cl/directorio/entidad/2/2/per_contrata/2011/Agosto?x=0&y=0&page_number=2&sort=id&direction=asc',\n",
       " 'http://www.gobiernotransparentechile.cl/directorio/entidad/12/167/per_planta/A%C3%B1o%202010/Febrero',\n",
       " 'http://www.gobiernotransparentechile.cl/directorio/entidad/12/171/per_planta/A%C3%B1o%202016/Febrero?x=0&y=0&page_number=4&sort=id&direction=asc',\n",
       " 'http://www.gobiernotransparentechile.cl/directorio/entidad/12/169/per_planta/Ao-2009?x=0&y=0&page_number=3&sort=id&direction=asc',\n",
       " 'http://www.gobiernotransparentechile.cl/directorio/entidad/8/136/per_contrata/Ao-2011?x=0&y=0&page_number=2&sort=id&direction=asc',\n",
       " 'http://www.gobiernotransparentechile.cl/directorio/entidad/19/271/per_contrata/A%C3%B1o%202014/A%C3%B1o%202014%20-%20Febrero?x=0&y=0&page_number=6&sort=id&direction=asc',\n",
       " 'http://www.gobiernotransparentechile.cl/directorio/entidad/10/146/per_contrata/Ao-2007?x=0&y=0&page_number=6&sort=id&direction=asc',\n",
       " 'http://www.gobiernotransparentechile.cl/directorio/entidad/11/159/per_contrata/Ao-2007?x=0&y=0&page_number=18&sort=id&direction=asc',\n",
       " 'http://www.gobiernotransparentechile.cl/directorio/entidad/13/179/per_contrata/A%EF%BF%BDo%202011/Junio',\n",
       " 'http://www.gobiernotransparentechile.cl/directorio/entidad/12/169/per_contrata/Ao-2008?x=0&y=0&page_number=4&sort=id&direction=asc',\n",
       " 'http://www.gobiernotransparentechile.cl/directorio/entidad/2/2/per_planta/2010/Septiembre?x=0&y=0&page_number=4&sort=id&direction=asc',\n",
       " 'http://www.gobiernotransparentechile.cl/directorio/entidad/19/271/per_contrata/A%C3%B1o%202013/A%C3%B1o%202013%20-%20Abril?x=0&y=0&page_number=2&sort=id&direction=asc',\n",
       " 'http://www.gobiernotransparentechile.cl/directorio/entidad/2/2/per_planta/2016/Enero',\n",
       " 'http://www.gobiernotransparentechile.cl/directorio/entidad/2/2/per_contrata/2011/Septiembre?x=0&y=0&page_number=2&sort=id&direction=asc',\n",
       " 'http://www.gobiernotransparentechile.cl/directorio/entidad/2/8/per_contrata/2013/Noviembre',\n",
       " 'http://www.gobiernotransparentechile.cl/directorio/entidad/2/2/per_planta/2014/Febrero?x=0&y=0&page_number=4&sort=id&direction=asc',\n",
       " 'http://www.gobiernotransparentechile.cl/directorio/entidad/10/146/per_contrata/Ao-2014?x=0&y=0&page_number=2&sort=id&direction=asc',\n",
       " 'http://www.gobiernotransparentechile.cl/directorio/entidad/12/173/per_contrata/A%EF%BF%BDo%202012/Febrero',\n",
       " 'http://www.gobiernotransparentechile.cl/directorio/entidad/15/197/per_planta/Ao-2012',\n",
       " 'http://www.gobiernotransparentechile.cl/directorio/entidad/13/179/per_planta/A%EF%BF%BDo%202015/Marzo',\n",
       " 'http://www.gobiernotransparentechile.cl/directorio/entidad/25/351/per_contrata/Ao-2011',\n",
       " 'http://www.gobiernotransparentechile.cl/directorio/entidad/12/171/per_contrata/A%C3%B1o%202016/Agosto?x=0&y=0&page_number=12&sort=id&direction=asc',\n",
       " 'http://www.gobiernotransparentechile.cl/directorio/entidad/13/178/per_planta/A%C3%B1o%202008/A%C3%B1o%202008%20Enero-Diciembre?x=0&y=0&page_number=2&sort=id&direction=asc',\n",
       " 'http://www.gobiernotransparentechile.cl/directorio/entidad/13/283/per_planta/A%EF%BF%BDo%202016/Enero',\n",
       " 'http://www.gobiernotransparentechile.cl/directorio/entidad/11/159/per_contrata/Ao-2008?x=0&y=0&page_number=21&sort=id&direction=asc',\n",
       " 'http://www.gobiernotransparentechile.cl/directorio/entidad/2/2/per_contrata/2015/Febrero?x=0&y=0&page_number=4&sort=id&direction=asc',\n",
       " 'http://www.gobiernotransparentechile.cl/directorio/entidad/9/348/per_contrata/A%C3%B1o%202013/Noviembre?x=0&y=0&page_number=3&sort=id&direction=asc',\n",
       " 'http://www.gobiernotransparentechile.cl/directorio/entidad/12/173/per_contrata/A%EF%BF%BDo%202016/Marzo?x=0&y=0&page_number=5&sort=id&direction=asc',\n",
       " 'http://www.gobiernotransparentechile.cl/directorio/entidad/9/348/per_contrata/A%C3%B1o%202012/Noviembre?x=0&y=0&page_number=5&sort=id&direction=asc',\n",
       " 'http://www.gobiernotransparentechile.cl/directorio/entidad/12/171/per_contrata/A%C3%B1o%202016/Marzo?x=0&y=0&page_number=14&sort=id&direction=asc',\n",
       " 'http://www.gobiernotransparentechile.cl/directorio/entidad/12/171/per_contrata/A%C3%B1o%202016/Febrero',\n",
       " 'http://www.gobiernotransparentechile.cl/directorio/entidad/12/171/per_contrata/A%C3%B1o%202016/Septiembre?x=0&y=0&page_number=20&sort=id&direction=asc',\n",
       " 'http://www.gobiernotransparentechile.cl/directorio/entidad/13/179/per_contrata/A%EF%BF%BDo%202014/Diciembre',\n",
       " 'http://www.gobiernotransparentechile.cl/directorio/entidad/21/135/per_planta/Ao-2014',\n",
       " 'http://www.gobiernotransparentechile.cl/directorio/entidad/2/9/per_planta/2011/Diciembre',\n",
       " 'http://www.gobiernotransparentechile.cl/directorio/entidad/11/159/per_contrata/Ao-2007?x=0&y=0&page_number=23&sort=id&direction=asc',\n",
       " 'http://www.gobiernotransparentechile.cl/directorio/entidad/12/167/per_contrata/A%C3%B1o%202010/Octubre',\n",
       " 'http://www.gobiernotransparentechile.cl/directorio/entidad/2/2/per_planta/2014/Abril?x=0&y=0&page_number=4&sort=id&direction=asc',\n",
       " 'http://www.gobiernotransparentechile.cl/directorio/entidad/12/173/per_contrata/A%EF%BF%BDo%202011/Junio?x=0&y=0&page_number=5&sort=id&direction=asc',\n",
       " 'http://www.gobiernotransparentechile.cl/directorio/entidad/12/171/per_contrata/A%C3%B1o%202016/Octubre?x=0&y=0&page_number=2&sort=id&direction=asc',\n",
       " 'http://www.gobiernotransparentechile.cl/directorio/entidad/12/169/per_contrata/Ao-2012?x=0&y=0&page_number=10&sort=id&direction=asc',\n",
       " 'http://www.gobiernotransparentechile.cl/directorio/entidad/12/168/per_contrata/A%C3%B1o%202013%20Programa%2001/Marzo%202013%20Programa01',\n",
       " 'http://www.gobiernotransparentechile.cl/directorio/entidad/8/138/per_contrata/A%C3%B1o%202013/Noviembre?x=0&y=0&page_number=2&sort=id&direction=asc',\n",
       " 'http://www.gobiernotransparentechile.cl/directorio/entidad/21/273/per_contrata/Hist%EF%BF%BDrico/A%C3%B1o%202006',\n",
       " 'http://www.gobiernotransparentechile.cl/directorio/entidad/12/167/per_planta/A%C3%B1o%202014/Noviembre',\n",
       " 'http://www.gobiernotransparentechile.cl/directorio/entidad/19/271/per_planta/A%C3%B1o%202012/A%C3%B1o%202012%20-%20Abril',\n",
       " 'http://www.gobiernotransparentechile.cl/directorio/entidad/12/173/per_contrata/A%EF%BF%BDo%202014/Febrero?x=0&y=0&page_number=3&sort=id&direction=asc',\n",
       " 'http://www.gobiernotransparentechile.cl/directorio/entidad/12/168/per_contrata/A%C3%B1o%202013%20Programa%2001/Junio%202013%20Programa01',\n",
       " 'http://www.gobiernotransparentechile.cl/directorio/entidad/2/2/per_planta/2014/Febrero?x=0&y=0&page_number=2&sort=id&direction=asc',\n",
       " 'http://www.gobiernotransparentechile.cl/directorio/entidad/2/2/per_contrata/2015/Junio?x=0&y=0&page_number=2&sort=id&direction=asc',\n",
       " 'http://www.gobiernotransparentechile.cl/directorio/entidad/2/8/per_planta/2010/Julio',\n",
       " 'http://www.gobiernotransparentechile.cl/directorio/entidad/13/283/per_planta/A%EF%BF%BDo%202015/Octubre',\n",
       " 'http://www.gobiernotransparentechile.cl/directorio/entidad/13/179/per_contrata/A%EF%BF%BDo%202014/Febrero?x=0&y=0&page_number=2&sort=id&direction=asc',\n",
       " 'http://www.gobiernotransparentechile.cl/directorio/entidad/12/171/per_contrata/A%C3%B1o%202016/Abril?x=0&y=0&page_number=10&sort=id&direction=asc',\n",
       " 'http://www.gobiernotransparentechile.cl/directorio/entidad/12/167/per_planta/A%C3%B1o%202010/Abril',\n",
       " 'http://www.gobiernotransparentechile.cl/directorio/entidad/14/190/per_contrata/Ao-2011?x=0&y=0&page_number=3&sort=id&direction=asc',\n",
       " 'http://www.gobiernotransparentechile.cl/directorio/entidad/12/173/per_contrata/A%EF%BF%BDo%202013/Junio?x=0&y=0&page_number=3&sort=id&direction=asc',\n",
       " 'http://www.gobiernotransparentechile.cl/directorio/entidad/13/177/per_planta/A%EF%BF%BDo%202013/A%C3%B1o%202013%20Julio',\n",
       " 'http://www.gobiernotransparentechile.cl/directorio/entidad/12/169/per_planta/Ao-2014?x=0&y=0&page_number=8&sort=id&direction=asc',\n",
       " 'http://www.gobiernotransparentechile.cl/directorio/entidad/2/2/per_contrata/2011/Abril?x=0&y=0&page_number=4&sort=id&direction=asc',\n",
       " 'http://www.gobiernotransparentechile.cl/directorio/entidad/2/6/per_contrata/2014/Agosto',\n",
       " 'http://www.gobiernotransparentechile.cl/directorio/entidad/10/146/per_contrata/Ao-2009?x=0&y=0&page_number=12&sort=id&direction=asc',\n",
       " 'http://www.gobiernotransparentechile.cl/directorio/entidad/12/173/per_contrata/A%EF%BF%BDo%202015/Marzo?x=0&y=0&page_number=3&sort=id&direction=asc',\n",
       " 'http://www.gobiernotransparentechile.cl/directorio/entidad/12/170/per_contrata/-Febrero?x=0&y=0&page_number=4&sort=id&direction=asc',\n",
       " 'http://www.gobiernotransparentechile.cl/directorio/entidad/10/146/per_contrata/Ao-2014?x=0&y=0&page_number=53&sort=id&direction=asc',\n",
       " 'http://www.gobiernotransparentechile.cl/directorio/entidad/12/171/per_contrata/A%C3%B1o%202016/Septiembre?x=0&y=0&page_number=5&sort=id&direction=asc',\n",
       " 'http://www.gobiernotransparentechile.cl/directorio/entidad/19/271/per_contrata/A%C3%B1o%202015/A%C3%B1o%202015%20-%20Octubre?x=0&y=0&page_number=2&sort=id&direction=asc',\n",
       " 'http://www.gobiernotransparentechile.cl/directorio/entidad/12/173/per_contrata/A%EF%BF%BDo%202016/Octubre',\n",
       " 'http://www.gobiernotransparentechile.cl/directorio/entidad/2/10/per_planta/2014/Marzo',\n",
       " 'http://www.gobiernotransparentechile.cl/directorio/entidad/12/170/per_contrata/Ao-2015',\n",
       " 'http://www.gobiernotransparentechile.cl/directorio/entidad/2/2/per_planta/2010/Diciembre?x=0&y=0&page_number=4&sort=id&direction=asc',\n",
       " 'http://www.gobiernotransparentechile.cl/directorio/entidad/12/169/per_planta/Ao-2008?x=0&y=0&page_number=4&sort=id&direction=asc',\n",
       " 'http://www.gobiernotransparentechile.cl/directorio/entidad/15/197/per_contrata/Ao-2013?x=0&y=0&page_number=3&sort=id&direction=asc',\n",
       " 'http://www.gobiernotransparentechile.cl/directorio/entidad/12/169/per_planta/Ao-2014',\n",
       " 'http://www.gobiernotransparentechile.cl/directorio/entidad/9/127/per_contrata/A%C3%B1o%202011/Diciembre',\n",
       " 'http://www.gobiernotransparentechile.cl/directorio/entidad/10/146/per_contrata/Ao-2014?x=0&y=0&page_number=9&sort=id&direction=asc',\n",
       " 'http://www.gobiernotransparentechile.cl/directorio/entidad/19/271/per_contrata/A%C3%B1o%202011/A%C3%B1o%202011%20-%20Septiembre?x=0&y=0&page_number=5&sort=id&direction=asc',\n",
       " 'http://www.gobiernotransparentechile.cl/directorio/entidad/8/138/per_contrata/A%C3%B1o%202007/Junio?x=0&y=0&page_number=2&sort=id&direction=asc',\n",
       " 'http://www.gobiernotransparentechile.cl/directorio/entidad/12/171/per_contrata/A%C3%B1o%202016/Febrero?x=0&y=0&page_number=23&sort=id&direction=asc',\n",
       " 'http://www.gobiernotransparentechile.cl/directorio/entidad/11/159/per_contrata/Ao-2008?x=0&y=0&page_number=15&sort=id&direction=asc',\n",
       " 'http://www.gobiernotransparentechile.cl/directorio/entidad/12/173/per_contrata/A%EF%BF%BDo%202016/Noviembre?x=0&y=0&page_number=3&sort=id&direction=asc',\n",
       " 'http://www.gobiernotransparentechile.cl/directorio/entidad/12/169/per_contrata/Ao-2016?x=0&y=0&page_number=3&sort=id&direction=asc',\n",
       " 'http://www.gobiernotransparentechile.cl/directorio/entidad/13/179/per_planta/A%EF%BF%BDo%202015/Mayo',\n",
       " 'http://www.gobiernotransparentechile.cl/directorio/entidad/13/179/per_contrata/A%EF%BF%BDo%202016/Agosto?x=0&y=0&page_number=2&sort=id&direction=asc',\n",
       " 'http://www.gobiernotransparentechile.cl/directorio/entidad/12/171/per_planta/A%C3%B1o%202016/Enero?x=0&y=0&page_number=3&sort=id&direction=asc',\n",
       " 'http://www.gobiernotransparentechile.cl/directorio/entidad/19/271/per_contrata/A%C3%B1o%202013/A%C3%B1o%202013%20-%20Diciembre?x=0&y=0&page_number=4&sort=id&direction=asc',\n",
       " 'http://www.gobiernotransparentechile.cl/directorio/entidad/12/173/per_contrata/A%EF%BF%BDo%202016/Abril?x=0&y=0&page_number=4&sort=id&direction=asc',\n",
       " 'http://www.gobiernotransparentechile.cl/directorio/entidad/2/11/per_planta/2010/Julio',\n",
       " 'http://www.gobiernotransparentechile.cl/directorio/entidad/19/271/per_planta/A%C3%B1o%202015/A%C3%B1o%202015%20-%20Enero',\n",
       " 'http://www.gobiernotransparentechile.cl/directorio/entidad/2/11/per_planta/2014/Diciembre',\n",
       " 'http://www.gobiernotransparentechile.cl/directorio/entidad/8/138/per_contrata/A%C3%B1o%202013/Enero?x=0&y=0&page_number=2&sort=id&direction=asc',\n",
       " 'http://www.gobiernotransparentechile.cl/directorio/entidad/19/271/per_contrata/A%C3%B1o%202013/A%C3%B1o%202013%20-%20Diciembre?x=0&y=0&page_number=2&sort=id&direction=asc',\n",
       " 'http://www.gobiernotransparentechile.cl/directorio/entidad/19/271/per_contrata/A%C3%B1o%202013/A%C3%B1o%202013%20-%20Agosto?x=0&y=0&page_number=4&sort=id&direction=asc',\n",
       " 'http://www.gobiernotransparentechile.cl/directorio/entidad/19/271/per_contrata/A%C3%B1o%202014/A%C3%B1o%202014%20-%20Febrero?x=0&y=0&page_number=4&sort=id&direction=asc',\n",
       " 'http://www.gobiernotransparentechile.cl/directorio/entidad/21/279/per_contrata/Ao-2014',\n",
       " 'http://www.gobiernotransparentechile.cl/directorio/entidad/8/138/per_contrata/A%C3%B1o%202007/Julio?x=0&y=0&page_number=2&sort=id&direction=asc',\n",
       " 'http://www.gobiernotransparentechile.cl/directorio/entidad/12/169/per_planta/Ao-2007?x=0&y=0&page_number=5&sort=id&direction=asc',\n",
       " 'http://www.gobiernotransparentechile.cl/directorio/entidad/2/2/per_contrata/2011/Agosto?x=0&y=0&page_number=3&sort=id&direction=asc',\n",
       " 'http://www.gobiernotransparentechile.cl/directorio/entidad/2/10/per_planta/2013/Abril',\n",
       " 'http://www.gobiernotransparentechile.cl/directorio/entidad/2/10/per_planta/2012/Marzo',\n",
       " 'http://www.gobiernotransparentechile.cl/directorio/entidad/2/2/per_contrata/2013/Junio',\n",
       " 'http://www.gobiernotransparentechile.cl/directorio/entidad/13/179/per_planta/A%EF%BF%BDo%202012/Mayo',\n",
       " 'http://www.gobiernotransparentechile.cl/directorio/entidad/12/169/per_planta/Ao-2006?x=0&y=0&page_number=6&sort=id&direction=asc',\n",
       " 'http://www.gobiernotransparentechile.cl/directorio/entidad/2/2/per_planta/2014/Enero?x=0&y=0&page_number=3&sort=id&direction=asc',\n",
       " 'http://www.gobiernotransparentechile.cl/directorio/entidad/12/169/per_contrata/Ao-2012?x=0&y=0&page_number=17&sort=id&direction=asc',\n",
       " 'http://www.gobiernotransparentechile.cl/directorio/entidad/12/169/per_contrata/Ao-2007?x=0&y=0&page_number=7&sort=id&direction=asc',\n",
       " 'http://www.gobiernotransparentechile.cl/directorio/entidad/19/271/per_planta/A%C3%B1o%202016/A%C3%B1o%202016%20-%20Enero',\n",
       " 'http://www.gobiernotransparentechile.cl/directorio/entidad/13/177/per_planta/A%EF%BF%BDo%202014/A%C3%B1o%202014%20Mayo',\n",
       " 'http://www.gobiernotransparentechile.cl/directorio/entidad/12/169/per_contrata/Ao-2009?x=0&y=0&page_number=5&sort=id&direction=asc',\n",
       " 'http://www.gobiernotransparentechile.cl/directorio/entidad/12/169/per_planta/Ao-2015?x=0&y=0&page_number=2&sort=id&direction=asc',\n",
       " 'http://www.gobiernotransparentechile.cl/directorio/entidad/9/127/per_planta/A%C3%B1o%202011/Febrero',\n",
       " 'http://www.gobiernotransparentechile.cl/directorio/entidad/2/2/per_contrata/2011/Mayo?x=0&y=0&page_number=2&sort=id&direction=asc',\n",
       " 'http://www.gobiernotransparentechile.cl/directorio/entidad/2/10/per_planta/2014/Abril',\n",
       " 'http://www.gobiernotransparentechile.cl/directorio/entidad/19/271/per_contrata/A%C3%B1o%202012/A%C3%B1o%202012%20-%20Diciembre',\n",
       " 'http://www.gobiernotransparentechile.cl/directorio/entidad/19/271/per_contrata/A%C3%B1o%202013/A%C3%B1o%202013%20-%20Enero',\n",
       " 'http://www.gobiernotransparentechile.cl/directorio/entidad/12/167/per_planta/A%C3%B1o%202016/Junio',\n",
       " 'http://www.gobiernotransparentechile.cl/directorio/entidad/12/169/per_contrata/Ao-2009?x=0&y=0&page_number=16&sort=id&direction=asc',\n",
       " 'http://www.gobiernotransparentechile.cl/directorio/entidad/2/2/per_planta/2010/Febrero?x=0&y=0&page_number=5&sort=id&direction=asc',\n",
       " 'http://www.gobiernotransparentechile.cl/directorio/entidad/10/146/per_contrata/Ao-2008?x=0&y=0&page_number=20&sort=id&direction=asc',\n",
       " 'http://www.gobiernotransparentechile.cl/directorio/entidad/12/173/per_contrata/A%EF%BF%BDo%202014/Septiembre',\n",
       " 'http://www.gobiernotransparentechile.cl/directorio/entidad/13/177/per_planta/A%EF%BF%BDo%202012/A%C3%B1o%202012%20Diciembre',\n",
       " 'http://www.gobiernotransparentechile.cl/directorio/entidad/2/6/per_contrata/2013/Agosto',\n",
       " 'http://www.gobiernotransparentechile.cl/directorio/entidad/13/179/per_planta/A%EF%BF%BDo%202015/Julio',\n",
       " 'http://www.gobiernotransparentechile.cl/directorio/entidad/2/11/per_planta/2012/Septiembre',\n",
       " 'http://www.gobiernotransparentechile.cl/directorio/entidad/19/271/per_contrata/A%C3%B1o%202013/A%C3%B1o%202013%20-%20Julio?x=0&y=0&page_number=4&sort=id&direction=asc',\n",
       " 'http://www.gobiernotransparentechile.cl/directorio/entidad/12/173/per_contrata/A%EF%BF%BDo%202014/Abril?x=0&y=0&page_number=3&sort=id&direction=asc',\n",
       " 'http://www.gobiernotransparentechile.cl/directorio/entidad/2/2/per_contrata/2013/Marzo?x=0&y=0&page_number=3&sort=id&direction=asc',\n",
       " 'http://www.gobiernotransparentechile.cl/directorio/entidad/21/273/per_contrata/Hist%EF%BF%BDrico/A%C3%B1o%202016',\n",
       " 'http://www.gobiernotransparentechile.cl/directorio/entidad/19/271/per_contrata/A%C3%B1o%202011/A%C3%B1o%202011%20-%20Agosto',\n",
       " 'http://www.gobiernotransparentechile.cl/directorio/entidad/12/170/per_contrata/-Mayo?x=0&y=0&page_number=2&sort=id&direction=asc',\n",
       " 'http://www.gobiernotransparentechile.cl/directorio/entidad/10/146/per_planta/Ao-2006?x=0&y=0&page_number=3&sort=id&direction=asc',\n",
       " 'http://www.gobiernotransparentechile.cl/directorio/entidad/13/179/per_contrata/A%EF%BF%BDo%202011/Julio?x=0&y=0&page_number=2&sort=id&direction=asc',\n",
       " 'http://www.gobiernotransparentechile.cl/directorio/entidad/12/169/per_contrata/Ao-2009?x=0&y=0&page_number=12&sort=id&direction=asc',\n",
       " 'http://www.gobiernotransparentechile.cl/directorio/entidad/12/169/per_contrata/Ao-2011?x=0&y=0&page_number=13&sort=id&direction=asc',\n",
       " 'http://www.gobiernotransparentechile.cl/directorio/entidad/12/171/per_contrata/A%C3%B1o%202016/Julio?x=0&y=0&page_number=7&sort=id&direction=asc',\n",
       " 'http://www.gobiernotransparentechile.cl/directorio/entidad/2/8/per_contrata/2014/Abril',\n",
       " 'http://www.gobiernotransparentechile.cl/directorio/entidad/2/2/per_contrata/2015/Julio?x=0&y=0&page_number=5&sort=id&direction=asc',\n",
       " 'http://www.gobiernotransparentechile.cl/directorio/entidad/15/197/per_planta/Ao-2006',\n",
       " 'http://www.gobiernotransparentechile.cl/directorio/entidad/12/173/per_contrata/A%EF%BF%BDo%202016/Septiembre?x=0&y=0&page_number=5&sort=id&direction=asc',\n",
       " 'http://www.gobiernotransparentechile.cl/directorio/entidad/12/171/per_contrata/A%C3%B1o%202016/Mayo?x=0&y=0&page_number=21&sort=id&direction=asc',\n",
       " 'http://www.gobiernotransparentechile.cl/directorio/entidad/10/146/per_planta/Ao-2014?x=0&y=0&page_number=11&sort=id&direction=asc',\n",
       " 'http://www.gobiernotransparentechile.cl/directorio/entidad/12/173/per_contrata/A%EF%BF%BDo%202012/Marzo?x=0&y=0&page_number=4&sort=id&direction=asc',\n",
       " 'http://www.gobiernotransparentechile.cl/directorio/entidad/3/92/per_contrata/Ao-2006',\n",
       " 'http://www.gobiernotransparentechile.cl/directorio/entidad/19/271/per_contrata/A%C3%B1o%202011/A%C3%B1o%202011%20-%20Diciembre?x=0&y=0&page_number=2&sort=id&direction=asc',\n",
       " 'http://www.gobiernotransparentechile.cl/directorio/entidad/8/138/per_planta/A%C3%B1o%202007/Marzo',\n",
       " 'http://www.gobiernotransparentechile.cl/directorio/entidad/25/351/per_planta/A%C3%B1o%202016/Marzo',\n",
       " 'http://www.gobiernotransparentechile.cl/directorio/entidad/4/114/per_planta/Ao-2008?x=0&y=0&page_number=11&sort=id&direction=asc',\n",
       " 'http://www.gobiernotransparentechile.cl/directorio/entidad/13/177/per_planta/A%EF%BF%BDo%202013/A%C3%B1o%202013%20Agosto',\n",
       " 'http://www.gobiernotransparentechile.cl/directorio/entidad/9/348/per_contrata/A%C3%B1o%202012/Diciembre?x=0&y=0&page_number=5&sort=id&direction=asc',\n",
       " 'http://www.gobiernotransparentechile.cl/directorio/entidad/12/171/per_planta/A%C3%B1o%202016/Marzo?x=0&y=0&page_number=2&sort=id&direction=asc',\n",
       " 'http://www.gobiernotransparentechile.cl/directorio/entidad/12/170/per_contrata/-Diciembre?x=0&y=0&page_number=4&sort=id&direction=asc',\n",
       " 'http://www.gobiernotransparentechile.cl/directorio/entidad/10/146/per_planta/Ao-2009?x=0&y=0&page_number=3&sort=id&direction=asc',\n",
       " 'http://www.gobiernotransparentechile.cl/directorio/entidad/12/173/per_contrata/A%EF%BF%BDo%202012/Noviembre?x=0&y=0&page_number=4&sort=id&direction=asc',\n",
       " 'http://www.gobiernotransparentechile.cl/directorio/entidad/10/146/per_planta/Ao-2008?x=0&y=0&page_number=10&sort=id&direction=asc',\n",
       " 'http://www.gobiernotransparentechile.cl/directorio/entidad/8/136/per_contrata/Ao-2009?x=0&y=0&page_number=4&sort=id&direction=asc',\n",
       " 'http://www.gobiernotransparentechile.cl/directorio/entidad/13/179/per_planta/A%EF%BF%BDo%202012/Marzo',\n",
       " 'http://www.gobiernotransparentechile.cl/directorio/entidad/12/169/per_planta/Ao-2009?x=0&y=0&page_number=4&sort=id&direction=asc',\n",
       " 'http://www.gobiernotransparentechile.cl/directorio/entidad/13/179/per_planta/A%EF%BF%BDo%202013/Abril',\n",
       " 'http://www.gobiernotransparentechile.cl/directorio/entidad/2/9/per_planta/2013/Febrero',\n",
       " 'http://www.gobiernotransparentechile.cl/directorio/entidad/21/135/per_contrata/Ao-2009',\n",
       " 'http://www.gobiernotransparentechile.cl/directorio/entidad/8/130/per_planta/Ao-2007',\n",
       " 'http://www.gobiernotransparentechile.cl/directorio/entidad/9/127/per_planta/A%C3%B1o%202011/Marzo',\n",
       " 'http://www.gobiernotransparentechile.cl/directorio/entidad/2/2/per_planta/2016/Agosto?x=0&y=0&page_number=5&sort=id&direction=asc',\n",
       " 'http://www.gobiernotransparentechile.cl/directorio/entidad/13/283/per_planta/A%EF%BF%BDo%202013/A%C3%B1o%202013%20Septiembre',\n",
       " 'http://www.gobiernotransparentechile.cl/directorio/entidad/12/169/per_contrata/Ao-2009?x=0&y=0&page_number=12&sort=id&direction=asc',\n",
       " 'http://www.gobiernotransparentechile.cl/directorio/entidad/2/2/per_contrata/2013/Julio',\n",
       " 'http://www.gobiernotransparentechile.cl/directorio/entidad/8/138/per_planta/A%C3%B1o%202007/Noviembre',\n",
       " 'http://www.gobiernotransparentechile.cl/directorio/entidad/13/179/per_contrata/A%EF%BF%BDo%202016/Diciembre?x=0&y=0&page_number=2&sort=id&direction=asc',\n",
       " 'http://www.gobiernotransparentechile.cl/directorio/entidad/13/177/per_planta/A%EF%BF%BDo%202016/Agosto',\n",
       " 'http://www.gobiernotransparentechile.cl/directorio/entidad/12/169/per_planta/Ao-2016',\n",
       " 'http://www.gobiernotransparentechile.cl/directorio/entidad/12/170/per_contrata/-Junio',\n",
       " 'http://www.gobiernotransparentechile.cl/directorio/entidad/2/2/per_contrata/2015/Mayo?x=0&y=0&page_number=5&sort=id&direction=asc',\n",
       " 'http://www.gobiernotransparentechile.cl/directorio/entidad/10/146/per_contrata/Ao-2014?x=0&y=0&page_number=52&sort=id&direction=asc',\n",
       " 'http://www.gobiernotransparentechile.cl/directorio/entidad/13/177/per_planta/A%EF%BF%BDo%202015/Mayo',\n",
       " 'http://www.gobiernotransparentechile.cl/directorio/entidad/8/138/per_planta/A%C3%B1o%202008/Mayo',\n",
       " 'http://www.gobiernotransparentechile.cl/directorio/entidad/12/171/per_planta/A%C3%B1o%202016/Marzo?x=0&y=0&page_number=3&sort=id&direction=asc',\n",
       " 'http://www.gobiernotransparentechile.cl/directorio/entidad/8/138/per_planta/A%C3%B1o%202007/Abril',\n",
       " 'http://www.gobiernotransparentechile.cl/directorio/entidad/19/271/per_contrata/A%C3%B1o%202014/A%C3%B1o%202014%20-%20Julio?x=0&y=0&page_number=2&sort=id&direction=asc',\n",
       " 'http://www.gobiernotransparentechile.cl/directorio/entidad/19/271/per_contrata/A%C3%B1o%202012/A%C3%B1o%202012%20-%20Mayo',\n",
       " 'http://www.gobiernotransparentechile.cl/directorio/entidad/12/170/per_planta/-Enero',\n",
       " 'http://www.gobiernotransparentechile.cl/directorio/entidad/8/131/per_planta/Ao-2012',\n",
       " 'http://www.gobiernotransparentechile.cl/directorio/entidad/10/146/per_contrata/Ao-2007?x=0&y=0&page_number=12&sort=id&direction=asc',\n",
       " 'http://www.gobiernotransparentechile.cl/directorio/entidad/12/169/per_contrata/Ao-2009?x=0&y=0&page_number=2&sort=id&direction=asc',\n",
       " 'http://www.gobiernotransparentechile.cl/directorio/entidad/12/169/per_contrata/Ao-2009?x=0&y=0&page_number=9&sort=id&direction=asc',\n",
       " 'http://www.gobiernotransparentechile.cl/directorio/entidad/12/173/per_contrata/A%EF%BF%BDo%202016/Noviembre?x=0&y=0&page_number=2&sort=id&direction=asc',\n",
       " 'http://www.gobiernotransparentechile.cl/directorio/entidad/21/273/per_planta/Hist%C3%B3rico/A%C3%B1o%202008',\n",
       " 'http://www.gobiernotransparentechile.cl/directorio/entidad/11/156/per_planta/Ao-2007',\n",
       " 'http://www.gobiernotransparentechile.cl/directorio/entidad/12/167/per_contrata/Ao-2009-Enero-Marzo',\n",
       " 'http://www.gobiernotransparentechile.cl/directorio/entidad/12/171/per_contrata/A%C3%B1o%202016/Septiembre?x=0&y=0&page_number=4&sort=id&direction=asc',\n",
       " 'http://www.gobiernotransparentechile.cl/directorio/entidad/12/169/per_contrata/Ao-2008?x=0&y=0&page_number=6&sort=id&direction=asc',\n",
       " 'http://www.gobiernotransparentechile.cl/directorio/entidad/19/271/per_contrata/A%C3%B1o%202014/A%C3%B1o%202014%20-%20Agosto',\n",
       " 'http://www.gobiernotransparentechile.cl/directorio/entidad/12/173/per_contrata/A%EF%BF%BDo%202012/Octubre?x=0&y=0&page_number=4&sort=id&direction=asc',\n",
       " 'http://www.gobiernotransparentechile.cl/directorio/entidad/19/271/per_contrata/A%C3%B1o%202016/A%C3%B1o%202016%20-%20Julio?x=0&y=0&page_number=3&sort=id&direction=asc',\n",
       " 'http://www.gobiernotransparentechile.cl/directorio/entidad/10/146/per_contrata/Ao-2008?x=0&y=0&page_number=9&sort=id&direction=asc',\n",
       " 'http://www.gobiernotransparentechile.cl/directorio/entidad/19/271/per_planta/A%C3%B1o%202012/A%C3%B1o%202012%20-%20Diciembre',\n",
       " 'http://www.gobiernotransparentechile.cl/directorio/entidad/12/167/per_planta/A%C3%B1o%202009%20%28Abril-Diciembre%29/Mayo',\n",
       " 'http://www.gobiernotransparentechile.cl/directorio/entidad/12/169/per_contrata/Ao-2009?x=0&y=0&page_number=14&sort=id&direction=asc',\n",
       " 'http://www.gobiernotransparentechile.cl/directorio/entidad/12/167/per_contrata/A%C3%B1o%202015/Mayo',\n",
       " 'http://www.gobiernotransparentechile.cl/directorio/entidad/3/94/per_planta/Ao-2009',\n",
       " 'http://www.gobiernotransparentechile.cl/directorio/entidad/9/145/per_contrata/A%C3%B1o%202016/Mayo',\n",
       " 'http://www.gobiernotransparentechile.cl/directorio/entidad/12/173/per_contrata/A%EF%BF%BDo%202016/Diciembre?x=0&y=0&page_number=4&sort=id&direction=asc',\n",
       " 'http://www.gobiernotransparentechile.cl/directorio/entidad/13/177/per_planta/A%EF%BF%BDo%202012/A%C3%B1o%202012%20Febrero',\n",
       " 'http://www.gobiernotransparentechile.cl/directorio/entidad/12/167/per_contrata/A%C3%B1o%202014/Junio',\n",
       " 'http://www.gobiernotransparentechile.cl/directorio/entidad/9/348/per_contrata/A%C3%B1o%202013/Diciembre?x=0&y=0&page_number=6&sort=id&direction=asc',\n",
       " 'http://www.gobiernotransparentechile.cl/directorio/entidad/12/171/per_contrata/A%C3%B1o%202016/Junio?x=0&y=0&page_number=20&sort=id&direction=asc',\n",
       " 'http://www.gobiernotransparentechile.cl/directorio/entidad/12/167/per_contrata/A%C3%B1o%202009%20%28Abril-Diciembre%29/Mayo',\n",
       " 'http://www.gobiernotransparentechile.cl/directorio/entidad/2/2/per_contrata/2011/Noviembre?x=0&y=0&page_number=4&sort=id&direction=asc',\n",
       " 'http://www.gobiernotransparentechile.cl/directorio/entidad/12/169/per_planta/Ao-2008?x=0&y=0&page_number=5&sort=id&direction=asc',\n",
       " 'http://www.gobiernotransparentechile.cl/directorio/entidad/2/2/per_contrata/2013/Abril?x=0&y=0&page_number=5&sort=id&direction=asc',\n",
       " 'http://www.gobiernotransparentechile.cl/directorio/entidad/11/159/per_contrata/MARZO?x=0&y=0&page_number=30&sort=id&direction=asc',\n",
       " 'http://www.gobiernotransparentechile.cl/directorio/entidad/2/8/per_contrata/2013/Octubre',\n",
       " 'http://www.gobiernotransparentechile.cl/directorio/entidad/19/271/per_planta/A%C3%B1o%202013/A%C3%B1o%202013%20-%20Abril',\n",
       " 'http://www.gobiernotransparentechile.cl/directorio/entidad/12/167/per_contrata/Ao-2007',\n",
       " 'http://www.gobiernotransparentechile.cl/directorio/entidad/2/2/per_planta/2009/Octubre?x=0&y=0&page_number=5&sort=id&direction=asc',\n",
       " 'http://www.gobiernotransparentechile.cl/directorio/entidad/12/173/per_contrata/A%EF%BF%BDo%202016/Diciembre?x=0&y=0&page_number=2&sort=id&direction=asc',\n",
       " 'http://www.gobiernotransparentechile.cl/directorio/entidad/2/2/per_planta/2016/Abril',\n",
       " 'http://www.gobiernotransparentechile.cl/directorio/entidad/25/351/per_contrata/Ao-2015',\n",
       " 'http://www.gobiernotransparentechile.cl/directorio/entidad/13/283/per_planta/A%EF%BF%BDo%202011/A%C3%B1o%202011%20Abril',\n",
       " 'http://www.gobiernotransparentechile.cl/directorio/entidad/10/146/per_contrata/Ao-2008?x=0&y=0&page_number=19&sort=id&direction=asc',\n",
       " 'http://www.gobiernotransparentechile.cl/directorio/entidad/2/2/per_planta/2014/Enero?x=0&y=0&page_number=5&sort=id&direction=asc',\n",
       " 'http://www.gobiernotransparentechile.cl/directorio/entidad/2/8/per_planta/2013/Octubre',\n",
       " 'http://www.gobiernotransparentechile.cl/directorio/entidad/2/2/per_contrata/2011/Mayo?x=0&y=0&page_number=5&sort=id&direction=asc',\n",
       " 'http://www.gobiernotransparentechile.cl/directorio/entidad/2/5/per_contrata/A%C3%B1o%202016/Abril',\n",
       " 'http://www.gobiernotransparentechile.cl/directorio/entidad/19/271/per_planta/A%C3%B1o%202011/A%C3%B1o%202011%20-%20Diciembre',\n",
       " 'http://www.gobiernotransparentechile.cl/directorio/entidad/19/271/per_planta/A%C3%B1o%202012/A%C3%B1o%202012%20-%20Febrero',\n",
       " 'http://www.gobiernotransparentechile.cl/directorio/entidad/25/351/per_contrata/A%C3%B1o%202016/Enero',\n",
       " 'http://www.gobiernotransparentechile.cl/directorio/entidad/9/348/per_contrata/A%C3%B1o%202015/Enero?x=0&y=0&page_number=3&sort=id&direction=asc',\n",
       " 'http://www.gobiernotransparentechile.cl/directorio/entidad/12/169/per_planta/Ao-2015?x=0&y=0&page_number=6&sort=id&direction=asc',\n",
       " 'http://www.gobiernotransparentechile.cl/directorio/entidad/12/169/per_contrata/Ao-2011?x=0&y=0&page_number=6&sort=id&direction=asc',\n",
       " 'http://www.gobiernotransparentechile.cl/directorio/entidad/2/5/per_contrata/A%C3%B1o%202016/Julio?x=0&y=0&page_number=3&sort=id&direction=asc',\n",
       " 'http://www.gobiernotransparentechile.cl/directorio/entidad/8/138/per_planta/A%C3%B1o%202008/Noviembre',\n",
       " 'http://www.gobiernotransparentechile.cl/directorio/entidad/10/146/per_contrata/Ao-2014?x=0&y=0&page_number=61&sort=id&direction=asc',\n",
       " 'http://www.gobiernotransparentechile.cl/directorio/entidad/19/271/per_contrata/A%C3%B1o%202016/A%C3%B1o%202016%20-%20Mayo?x=0&y=0&page_number=7&sort=id&direction=asc',\n",
       " 'http://www.gobiernotransparentechile.cl/directorio/entidad/13/179/per_contrata/Ao-2006',\n",
       " 'http://www.gobiernotransparentechile.cl/directorio/entidad/12/167/per_contrata/A%C3%B1o%202013/Marzo',\n",
       " 'http://www.gobiernotransparentechile.cl/directorio/entidad/9/348/per_contrata/A%C3%B1o%202014/Febrero?x=0&y=0&page_number=3&sort=id&direction=asc',\n",
       " 'http://www.gobiernotransparentechile.cl/directorio/entidad/12/167/per_planta/A%C3%B1o%202013/Mayo',\n",
       " 'http://www.gobiernotransparentechile.cl/directorio/entidad/13/179/per_contrata/A%EF%BF%BDo%202014/Marzo',\n",
       " 'http://www.gobiernotransparentechile.cl/directorio/entidad/10/146/per_planta/Ao-2009?x=0&y=0&page_number=2&sort=id&direction=asc',\n",
       " 'http://www.gobiernotransparentechile.cl/directorio/entidad/2/2/per_contrata/2013/Marzo?x=0&y=0&page_number=2&sort=id&direction=asc',\n",
       " 'http://www.gobiernotransparentechile.cl/directorio/entidad/12/173/per_contrata/A%EF%BF%BDo%202016/Septiembre?x=0&y=0&page_number=6&sort=id&direction=asc',\n",
       " 'http://www.gobiernotransparentechile.cl/directorio/entidad/12/169/per_contrata/Ao-2012?x=0&y=0&page_number=19&sort=id&direction=asc',\n",
       " 'http://www.gobiernotransparentechile.cl/directorio/entidad/2/9/per_planta/2013/Septiembre',\n",
       " 'http://www.gobiernotransparentechile.cl/directorio/entidad/2/10/per_contrata/2013/Agosto',\n",
       " 'http://www.gobiernotransparentechile.cl/directorio/entidad/2/10/per_contrata/2012/Julio',\n",
       " 'http://www.gobiernotransparentechile.cl/directorio/entidad/2/5/per_planta/A%C3%B1o%202016/Junio',\n",
       " 'http://www.gobiernotransparentechile.cl/directorio/entidad/11/159/per_contrata/Ao-2007?x=0&y=0&page_number=20&sort=id&direction=asc',\n",
       " 'http://www.gobiernotransparentechile.cl/directorio/entidad/12/173/per_contrata/A%EF%BF%BDo%202016/Febrero?x=0&y=0&page_number=4&sort=id&direction=asc',\n",
       " 'http://www.gobiernotransparentechile.cl/directorio/entidad/12/173/per_contrata/A%EF%BF%BDo%202011/Noviembre?x=0&y=0&page_number=7&sort=id&direction=asc',\n",
       " 'http://www.gobiernotransparentechile.cl/directorio/entidad/19/271/per_planta/A%C3%B1o%202016/A%C3%B1o%202016%20-%20Marzo',\n",
       " 'http://www.gobiernotransparentechile.cl/directorio/entidad/10/146/per_contrata/Ao-2014?x=0&y=0&page_number=34&sort=id&direction=asc',\n",
       " 'http://www.gobiernotransparentechile.cl/directorio/entidad/2/2/per_contrata/2011/Febrero?x=0&y=0&page_number=3&sort=id&direction=asc',\n",
       " 'http://www.gobiernotransparentechile.cl/directorio/entidad/2/2/per_contrata/2013/Julio?x=0&y=0&page_number=5&sort=id&direction=asc',\n",
       " 'http://www.gobiernotransparentechile.cl/directorio/entidad/2/11/per_planta/2011/Julio',\n",
       " 'http://www.gobiernotransparentechile.cl/directorio/entidad/9/145/per_contrata/A%C3%B1o%202014/Agosto',\n",
       " 'http://www.gobiernotransparentechile.cl/directorio/entidad/10/146/per_contrata/Ao-2014?x=0&y=0&page_number=88&sort=id&direction=asc',\n",
       " 'http://www.gobiernotransparentechile.cl/directorio/entidad/12/171/per_planta/Ao-2006?x=0&y=0&page_number=3&sort=id&direction=asc',\n",
       " 'http://www.gobiernotransparentechile.cl/directorio/entidad/12/167/per_contrata/A%C3%B1o%202014/Enero',\n",
       " 'http://www.gobiernotransparentechile.cl/directorio/entidad/2/9/per_contrata/2013/Febrero',\n",
       " 'http://www.gobiernotransparentechile.cl/directorio/entidad/2/11/per_planta/2011/Diciembre',\n",
       " 'http://www.gobiernotransparentechile.cl/directorio/entidad/2/2/per_contrata/2013/Mayo?x=0&y=0&page_number=4&sort=id&direction=asc',\n",
       " 'http://www.gobiernotransparentechile.cl/directorio/entidad/12/169/per_contrata/Ao-2009?x=0&y=0&page_number=11&sort=id&direction=asc',\n",
       " 'http://www.gobiernotransparentechile.cl/directorio/entidad/15/197/per_contrata/Ao-2008?x=0&y=0&page_number=2&sort=id&direction=asc',\n",
       " 'http://www.gobiernotransparentechile.cl/directorio/entidad/9/145/per_contrata/Ao-2012',\n",
       " 'http://www.gobiernotransparentechile.cl/directorio/entidad/2/11/per_planta/2014/Septiembre',\n",
       " 'http://www.gobiernotransparentechile.cl/directorio/entidad/2/2/per_planta/2016/Diciembre?x=0&y=0&page_number=3&sort=id&direction=asc',\n",
       " 'http://www.gobiernotransparentechile.cl/directorio/entidad/10/146/per_contrata/Ao-2009?x=0&y=0&page_number=22&sort=id&direction=asc',\n",
       " 'http://www.gobiernotransparentechile.cl/directorio/entidad/11/159/per_contrata/JUNIO?x=0&y=0&page_number=12&sort=id&direction=asc',\n",
       " 'http://www.gobiernotransparentechile.cl/directorio/entidad/12/171/per_contrata/A%C3%B1o%202016/Septiembre?x=0&y=0&page_number=2&sort=id&direction=asc',\n",
       " 'http://www.gobiernotransparentechile.cl/directorio/entidad/2/2/per_contrata/2011/Octubre?x=0&y=0&page_number=2&sort=id&direction=asc',\n",
       " 'http://www.gobiernotransparentechile.cl/directorio/entidad/12/173/per_contrata/A%EF%BF%BDo%202015/Marzo?x=0&y=0&page_number=6&sort=id&direction=asc',\n",
       " 'http://www.gobiernotransparentechile.cl/directorio/entidad/2/10/per_planta/2012/Julio',\n",
       " 'http://www.gobiernotransparentechile.cl/directorio/entidad/2/5/per_contrata/A%C3%B1o%202017/Enero?x=0&y=0&page_number=2&sort=id&direction=asc',\n",
       " 'http://www.gobiernotransparentechile.cl/directorio/entidad/13/187/per_contrata/A%C3%B1o%202015/Mayo%20-%20A%C3%B1o%202015',\n",
       " 'http://www.gobiernotransparentechile.cl/directorio/entidad/12/169/per_contrata/Ao-2012?x=0&y=0&page_number=6&sort=id&direction=asc',\n",
       " 'http://www.gobiernotransparentechile.cl/directorio/entidad/13/179/per_contrata/A%EF%BF%BDo%202015/Enero?x=0&y=0&page_number=2&sort=id&direction=asc',\n",
       " 'http://www.gobiernotransparentechile.cl/directorio/entidad/19/271/per_contrata/A%C3%B1o%202015/A%C3%B1o%202015%20-%20Marzo?x=0&y=0&page_number=6&sort=id&direction=asc',\n",
       " 'http://www.gobiernotransparentechile.cl/directorio/entidad/9/141/per_contrata/A%C3%B1o%202011/Octubre?x=0&y=0&page_number=6&sort=id&direction=asc',\n",
       " 'http://www.gobiernotransparentechile.cl/directorio/entidad/2/6/per_contrata/2012/Noviembre',\n",
       " 'http://www.gobiernotransparentechile.cl/directorio/entidad/12/171/per_planta/A%C3%B1o%202016/Julio?x=0&y=0&page_number=2&sort=id&direction=asc',\n",
       " 'http://www.gobiernotransparentechile.cl/directorio/entidad/21/135/per_contrata/Ao-2014?x=0&y=0&page_number=2&sort=id&direction=asc',\n",
       " 'http://www.gobiernotransparentechile.cl/directorio/entidad/12/167/per_contrata/A%C3%B1o%202009%20%28Abril-Diciembre%29/Agosto',\n",
       " 'http://www.gobiernotransparentechile.cl/directorio/entidad/19/271/per_contrata/A%C3%B1o%202016/A%C3%B1o%202016%20-%20Noviembre?x=0&y=0&page_number=4&sort=id&direction=asc',\n",
       " 'http://www.gobiernotransparentechile.cl/directorio/entidad/9/348/per_contrata/A%C3%B1o%202013/Octubre?x=0&y=0&page_number=6&sort=id&direction=asc',\n",
       " 'http://www.gobiernotransparentechile.cl/directorio/entidad/2/2/per_contrata/2013/Diciembre',\n",
       " 'http://www.gobiernotransparentechile.cl/directorio/entidad/13/179/per_contrata/A%EF%BF%BDo%202011/Febrero?x=0&y=0&page_number=2&sort=id&direction=asc',\n",
       " 'http://www.gobiernotransparentechile.cl/directorio/entidad/19/271/per_contrata/A%C3%B1o%202012/A%C3%B1o%202012%20-%20Mayo?x=0&y=0&page_number=5&sort=id&direction=asc',\n",
       " 'http://www.gobiernotransparentechile.cl/directorio/entidad/2/2/per_contrata/2011/Mayo?x=0&y=0&page_number=3&sort=id&direction=asc',\n",
       " 'http://www.gobiernotransparentechile.cl/directorio/entidad/19/271/per_contrata/A%C3%B1o%202016/A%C3%B1o%202016%20-%20Abril?x=0&y=0&page_number=3&sort=id&direction=asc',\n",
       " 'http://www.gobiernotransparentechile.cl/directorio/entidad/19/271/per_contrata/A%C3%B1o%202014/A%C3%B1o%202014%20-%20Agosto?x=0&y=0&page_number=5&sort=id&direction=asc',\n",
       " 'http://www.gobiernotransparentechile.cl/directorio/entidad/12/173/per_contrata/A%EF%BF%BDo%202012/Marzo',\n",
       " 'http://www.gobiernotransparentechile.cl/directorio/entidad/19/271/per_contrata/A%C3%B1o%202014/A%C3%B1o%202014%20-%20Marzo?x=0&y=0&page_number=5&sort=id&direction=asc',\n",
       " 'http://www.gobiernotransparentechile.cl/directorio/entidad/8/131/per_contrata/Ao-2006',\n",
       " 'http://www.gobiernotransparentechile.cl/directorio/entidad/21/135/per_contrata/Ao-2014?x=0&y=0&page_number=3&sort=id&direction=asc',\n",
       " 'http://www.gobiernotransparentechile.cl/directorio/entidad/8/139/per_contrata/A%C3%B1o%202015/Septiembre?x=0&y=0&page_number=4&sort=id&direction=asc',\n",
       " 'http://www.gobiernotransparentechile.cl/directorio/entidad/2/2/per_contrata/2015/Diciembre',\n",
       " 'http://www.gobiernotransparentechile.cl/directorio/entidad/8/138/per_contrata/A%C3%B1o%202007/Enero',\n",
       " 'http://www.gobiernotransparentechile.cl/directorio/entidad/12/167/per_planta/A%C3%B1o%202009%20%28Abril-Diciembre%29/Septiembre',\n",
       " 'http://www.gobiernotransparentechile.cl/directorio/entidad/2/2/per_planta/2016/Febrero?x=0&y=0&page_number=2&sort=id&direction=asc',\n",
       " 'http://www.gobiernotransparentechile.cl/directorio/entidad/8/138/per_planta/A%C3%B1o%202008/Julio',\n",
       " 'http://www.gobiernotransparentechile.cl/directorio/entidad/12/171/per_contrata/A%C3%B1o%202016/Enero?x=0&y=0&page_number=11&sort=id&direction=asc',\n",
       " 'http://www.gobiernotransparentechile.cl/directorio/entidad/13/177/per_planta/A%EF%BF%BDo%202012/A%C3%B1o%202012%20Enero',\n",
       " 'http://www.gobiernotransparentechile.cl/directorio/entidad/2/8/per_contrata/2014/Mayo',\n",
       " 'http://www.gobiernotransparentechile.cl/directorio/entidad/19/271/per_contrata/A%C3%B1o%202014/A%C3%B1o%202014%20-%20Agosto?x=0&y=0&page_number=3&sort=id&direction=asc',\n",
       " 'http://www.gobiernotransparentechile.cl/directorio/entidad/12/167/per_planta/A%C3%B1o%202014/Agosto',\n",
       " 'http://www.gobiernotransparentechile.cl/directorio/entidad/19/271/per_planta/A%C3%B1o%202012/A%C3%B1o%202012%20-%20Septiembre',\n",
       " 'http://www.gobiernotransparentechile.cl/directorio/entidad/8/138/per_contrata/A%C3%B1o%202007/Octubre?x=0&y=0&page_number=2&sort=id&direction=asc',\n",
       " 'http://www.gobiernotransparentechile.cl/directorio/entidad/3/92/per_planta/Ao-2008',\n",
       " 'http://www.gobiernotransparentechile.cl/directorio/entidad/12/169/per_planta/Ao-2012?x=0&y=0&page_number=3&sort=id&direction=asc',\n",
       " 'http://www.gobiernotransparentechile.cl/directorio/entidad/12/171/per_contrata/A%C3%B1o%202016/Mayo?x=0&y=0&page_number=7&sort=id&direction=asc',\n",
       " 'http://www.gobiernotransparentechile.cl/directorio/entidad/13/177/per_planta/A%EF%BF%BDo%202014/A%C3%B1o%202014%20Agosto',\n",
       " 'http://www.gobiernotransparentechile.cl/directorio/entidad/12/173/per_contrata/A%EF%BF%BDo%202011/Octubre?x=0&y=0&page_number=6&sort=id&direction=asc',\n",
       " 'http://www.gobiernotransparentechile.cl/directorio/entidad/13/177/per_planta/A%EF%BF%BDo%202015/Agosto',\n",
       " 'http://www.gobiernotransparentechile.cl/directorio/entidad/2/5/per_contrata/A%C3%B1o%202017/Enero',\n",
       " 'http://www.gobiernotransparentechile.cl/directorio/entidad/10/146/per_planta/Ao-2008?x=0&y=0&page_number=13&sort=id&direction=asc',\n",
       " 'http://www.gobiernotransparentechile.cl/directorio/entidad/15/197/per_contrata/Ao-2007',\n",
       " 'http://www.gobiernotransparentechile.cl/directorio/entidad/3/94/per_contrata/Ao-2007',\n",
       " 'http://www.gobiernotransparentechile.cl/directorio/entidad/11/157/per_planta/Ao-2009?x=0&y=0&page_number=2&sort=id&direction=asc',\n",
       " 'http://www.gobiernotransparentechile.cl/directorio/entidad/12/171/per_planta/A%C3%B1o%202016/Junio?x=0&y=0&page_number=4&sort=id&direction=asc',\n",
       " 'http://www.gobiernotransparentechile.cl/directorio/entidad/11/159/per_contrata/Ao-2013?x=0&y=0&page_number=24&sort=id&direction=asc',\n",
       " 'http://www.gobiernotransparentechile.cl/directorio/entidad/15/197/per_contrata/Ao-2010',\n",
       " 'http://www.gobiernotransparentechile.cl/directorio/entidad/10/146/per_contrata/Ao-2014?x=0&y=0&page_number=12&sort=id&direction=asc',\n",
       " 'http://www.gobiernotransparentechile.cl/directorio/entidad/19/271/per_contrata/A%C3%B1o%202016/A%C3%B1o%202016%20-%20Marzo?x=0&y=0&page_number=6&sort=id&direction=asc',\n",
       " 'http://www.gobiernotransparentechile.cl/directorio/entidad/12/173/per_contrata/A%EF%BF%BDo%202013/Noviembre?x=0&y=0&page_number=4&sort=id&direction=asc',\n",
       " 'http://www.gobiernotransparentechile.cl/directorio/entidad/12/173/per_contrata/A%EF%BF%BDo%202013/Enero',\n",
       " 'http://www.gobiernotransparentechile.cl/directorio/entidad/12/173/per_contrata/A%EF%BF%BDo%202016/Marzo?x=0&y=0&page_number=4&sort=id&direction=asc',\n",
       " 'http://www.gobiernotransparentechile.cl/directorio/entidad/19/271/per_contrata/A%C3%B1o%202014/A%C3%B1o%202014%20-%20Noviembre?x=0&y=0&page_number=6&sort=id&direction=asc',\n",
       " 'http://www.gobiernotransparentechile.cl/directorio/entidad/12/167/per_contrata/A%C3%B1o%202014/Julio',\n",
       " 'http://www.gobiernotransparentechile.cl/directorio/entidad/12/171/per_planta/A%C3%B1o%202016/Noviembre?x=0&y=0&page_number=3&sort=id&direction=asc',\n",
       " 'http://www.gobiernotransparentechile.cl/directorio/entidad/19/271/per_contrata/A%C3%B1o%202012/A%C3%B1o%202012%20-%20Noviembre?x=0&y=0&page_number=3&sort=id&direction=asc',\n",
       " 'http://www.gobiernotransparentechile.cl/directorio/entidad/12/171/per_contrata/A%C3%B1o%202016/Enero?x=0&y=0&page_number=21&sort=id&direction=asc',\n",
       " 'http://www.gobiernotransparentechile.cl/directorio/entidad/13/179/per_contrata/Ao-2007',\n",
       " 'http://www.gobiernotransparentechile.cl/directorio/entidad/25/351/per_planta/A%C3%B1o%202016/Enero',\n",
       " 'http://www.gobiernotransparentechile.cl/directorio/entidad/19/271/per_contrata/A%C3%B1o%202016/A%C3%B1o%202016%20-%20Abril?x=0&y=0&page_number=5&sort=id&direction=asc',\n",
       " 'http://www.gobiernotransparentechile.cl/directorio/entidad/12/167/per_contrata/A%C3%B1o%202015/Julio?x=0&y=0&page_number=2&sort=id&direction=asc',\n",
       " 'http://www.gobiernotransparentechile.cl/directorio/entidad/12/173/per_contrata/A%EF%BF%BDo%202011/Octubre?x=0&y=0&page_number=2&sort=id&direction=asc',\n",
       " 'http://www.gobiernotransparentechile.cl/directorio/entidad/12/173/per_contrata/A%EF%BF%BDo%202011/Agosto?x=0&y=0&page_number=7&sort=id&direction=asc',\n",
       " 'http://www.gobiernotransparentechile.cl/directorio/entidad/2/2/per_contrata/2015/Octubre',\n",
       " 'http://www.gobiernotransparentechile.cl/directorio/entidad/8/136/per_planta/Ao-2008?x=0&y=0&page_number=3&sort=id&direction=asc',\n",
       " 'http://www.gobiernotransparentechile.cl/directorio/entidad/12/173/per_contrata/A%EF%BF%BDo%202014/Septiembre?x=0&y=0&page_number=5&sort=id&direction=asc',\n",
       " 'http://www.gobiernotransparentechile.cl/directorio/entidad/2/11/per_planta/2012/Febrero',\n",
       " 'http://www.gobiernotransparentechile.cl/directorio/entidad/2/11/per_planta/2010/Junio',\n",
       " 'http://www.gobiernotransparentechile.cl/directorio/entidad/2/2/per_planta/2017/Enero',\n",
       " 'http://www.gobiernotransparentechile.cl/directorio/entidad/3/90/per_contrata/Ao-2009?x=0&y=0&page_number=3&sort=id&direction=asc',\n",
       " 'http://www.gobiernotransparentechile.cl/directorio/entidad/15/197/per_contrata/Ao-2015?x=0&y=0&page_number=3&sort=id&direction=asc',\n",
       " 'http://www.gobiernotransparentechile.cl/directorio/entidad/19/271/per_contrata/A%C3%B1o%202012/A%C3%B1o%202012%20-%20Septiembre?x=0&y=0&page_number=4&sort=id&direction=asc',\n",
       " 'http://www.gobiernotransparentechile.cl/directorio/entidad/12/170/per_contrata/Ao-2010?x=0&y=0&page_number=3&sort=id&direction=asc',\n",
       " 'http://www.gobiernotransparentechile.cl/directorio/entidad/19/271/per_planta/A%C3%B1o%202014/A%C3%B1o%202014%20-%20Junio',\n",
       " 'http://www.gobiernotransparentechile.cl/directorio/entidad/13/179/per_contrata/A%EF%BF%BDo%202014/Mayo',\n",
       " 'http://www.gobiernotransparentechile.cl/directorio/entidad/2/2/per_contrata/2011/Enero?x=0&y=0&page_number=5&sort=id&direction=asc',\n",
       " 'http://www.gobiernotransparentechile.cl/directorio/entidad/12/170/per_planta/Ao-2006?x=0&y=0&page_number=3&sort=id&direction=asc',\n",
       " 'http://www.gobiernotransparentechile.cl/directorio/entidad/12/173/per_contrata/A%EF%BF%BDo%202015/Junio?x=0&y=0&page_number=2&sort=id&direction=asc',\n",
       " 'http://www.gobiernotransparentechile.cl/directorio/entidad/2/8/per_planta/2013/Mayo',\n",
       " 'http://www.gobiernotransparentechile.cl/directorio/entidad/21/279/per_contrata/Ao-2013?x=0&y=0&page_number=2&sort=id&direction=asc',\n",
       " 'http://www.gobiernotransparentechile.cl/directorio/entidad/12/170/per_contrata/-Febrero?x=0&y=0&page_number=3&sort=id&direction=asc',\n",
       " 'http://www.gobiernotransparentechile.cl/directorio/entidad/2/5/per_contrata/A%C3%B1o%202016/Abril?x=0&y=0&page_number=3&sort=id&direction=asc',\n",
       " 'http://www.gobiernotransparentechile.cl/directorio/entidad/13/283/per_planta/A%EF%BF%BDo%202012/A%C3%B1o%202012%20Septiembre',\n",
       " 'http://www.gobiernotransparentechile.cl/directorio/entidad/12/169/per_contrata/Ao-2013?x=0&y=0&page_number=13&sort=id&direction=asc',\n",
       " 'http://www.gobiernotransparentechile.cl/directorio/entidad/12/173/per_contrata/A%EF%BF%BDo%202016/Abril?x=0&y=0&page_number=2&sort=id&direction=asc',\n",
       " 'http://www.gobiernotransparentechile.cl/directorio/entidad/8/138/per_contrata/A%C3%B1o%202008/Julio?x=0&y=0&page_number=3&sort=id&direction=asc',\n",
       " 'http://www.gobiernotransparentechile.cl/directorio/entidad/12/167/per_contrata/A%C3%B1o%202016/Mayo',\n",
       " 'http://www.gobiernotransparentechile.cl/directorio/entidad/12/173/per_contrata/A%EF%BF%BDo%202011/Julio?x=0&y=0&page_number=5&sort=id&direction=asc',\n",
       " 'http://www.gobiernotransparentechile.cl/directorio/entidad/12/173/per_contrata/A%EF%BF%BDo%202011/Junio?x=0&y=0&page_number=6&sort=id&direction=asc',\n",
       " 'http://www.gobiernotransparentechile.cl/directorio/entidad/12/170/per_contrata/-Mayo?x=0&y=0&page_number=4&sort=id&direction=asc',\n",
       " 'http://www.gobiernotransparentechile.cl/directorio/entidad/2/9/per_planta/2011/Agosto',\n",
       " 'http://www.gobiernotransparentechile.cl/directorio/entidad/19/271/per_contrata/A%C3%B1o%202013/A%C3%B1o%202013%20-%20Diciembre?x=0&y=0&page_number=3&sort=id&direction=asc',\n",
       " 'http://www.gobiernotransparentechile.cl/directorio/entidad/2/2/per_planta/2016/Noviembre?x=0&y=0&page_number=3&sort=id&direction=asc',\n",
       " 'http://www.gobiernotransparentechile.cl/directorio/entidad/19/271/per_contrata/A%C3%B1o%202015/A%C3%B1o%202015%20-%20Febrero',\n",
       " 'http://www.gobiernotransparentechile.cl/directorio/entidad/11/159/per_contrata/JUNIO?x=0&y=0&page_number=31&sort=id&direction=asc',\n",
       " 'http://www.gobiernotransparentechile.cl/directorio/entidad/19/271/per_contrata/A%C3%B1o%202013/A%C3%B1o%202013%20-%20Noviembre?x=0&y=0&page_number=4&sort=id&direction=asc',\n",
       " 'http://www.gobiernotransparentechile.cl/directorio/entidad/2/2/per_planta/2010/Julio?x=0&y=0&page_number=3&sort=id&direction=asc',\n",
       " 'http://www.gobiernotransparentechile.cl/directorio/entidad/2/6/per_contrata/2012/Mayo',\n",
       " 'http://www.gobiernotransparentechile.cl/directorio/entidad/25/351/per_planta/Ao-2013',\n",
       " 'http://www.gobiernotransparentechile.cl/directorio/entidad/10/146/per_contrata/Ao-2006?x=0&y=0&page_number=8&sort=id&direction=asc',\n",
       " 'http://www.gobiernotransparentechile.cl/directorio/entidad/13/179/per_contrata/A%EF%BF%BDo%202009/Enero-Marzo',\n",
       " 'http://www.gobiernotransparentechile.cl/directorio/entidad/12/169/per_contrata/Ao-2009?x=0&y=0&page_number=8&sort=id&direction=asc',\n",
       " 'http://www.gobiernotransparentechile.cl/directorio/entidad/12/169/per_contrata/Ao-2012?x=0&y=0&page_number=13&sort=id&direction=asc',\n",
       " 'http://www.gobiernotransparentechile.cl/directorio/entidad/12/173/per_contrata/A%EF%BF%BDo%202011/Septiembre?x=0&y=0&page_number=3&sort=id&direction=asc',\n",
       " 'http://www.gobiernotransparentechile.cl/directorio/entidad/13/179/per_contrata/A%EF%BF%BDo%202016/Abril',\n",
       " 'http://www.gobiernotransparentechile.cl/directorio/entidad/12/167/per_contrata/A%C3%B1o%202015/Marzo?x=0&y=0&page_number=2&sort=id&direction=asc',\n",
       " 'http://www.gobiernotransparentechile.cl/directorio/entidad/12/173/per_contrata/A%EF%BF%BDo%202015/Septiembre',\n",
       " 'http://www.gobiernotransparentechile.cl/directorio/entidad/12/173/per_contrata/A%EF%BF%BDo%202013/Febrero?x=0&y=0&page_number=3&sort=id&direction=asc',\n",
       " 'http://www.gobiernotransparentechile.cl/directorio/entidad/12/170/per_contrata/-Noviembre?x=0&y=0&page_number=5&sort=id&direction=asc',\n",
       " 'http://www.gobiernotransparentechile.cl/directorio/entidad/2/5/per_planta/A%C3%B1o%202016/Mayo',\n",
       " 'http://www.gobiernotransparentechile.cl/directorio/entidad/12/169/per_planta/Ao-2010?x=0&y=0&page_number=4&sort=id&direction=asc',\n",
       " 'http://www.gobiernotransparentechile.cl/directorio/entidad/12/169/per_planta/Ao-2013?x=0&y=0&page_number=4&sort=id&direction=asc',\n",
       " 'http://www.gobiernotransparentechile.cl/directorio/entidad/13/179/per_planta/Ao-2006',\n",
       " 'http://www.gobiernotransparentechile.cl/directorio/entidad/19/271/per_contrata/A%C3%B1o%202013/A%C3%B1o%202013%20-%20Abril?x=0&y=0&page_number=3&sort=id&direction=asc',\n",
       " 'http://www.gobiernotransparentechile.cl/directorio/entidad/2/2/per_planta/2012/Enero?x=0&y=0&page_number=2&sort=id&direction=asc',\n",
       " 'http://www.gobiernotransparentechile.cl/directorio/entidad/2/2/per_planta/2009/Agosto?x=0&y=0&page_number=5&sort=id&direction=asc',\n",
       " 'http://www.gobiernotransparentechile.cl/directorio/entidad/8/138/per_contrata/A%C3%B1o%202013/Diciembre?x=0&y=0&page_number=2&sort=id&direction=asc',\n",
       " 'http://www.gobiernotransparentechile.cl/directorio/entidad/2/2/per_planta/2014/Julio?x=0&y=0&page_number=2&sort=id&direction=asc',\n",
       " 'http://www.gobiernotransparentechile.cl/directorio/entidad/19/271/per_planta/A%C3%B1o%202013/A%C3%B1o%202013%20-%20Mayo',\n",
       " 'http://www.gobiernotransparentechile.cl/directorio/entidad/19/271/per_contrata/A%C3%B1o%202016/A%C3%B1o%202016%20-%20Febrero?x=0&y=0&page_number=2&sort=id&direction=asc',\n",
       " 'http://www.gobiernotransparentechile.cl/directorio/entidad/2/2/per_planta/2010/Julio?x=0&y=0&page_number=4&sort=id&direction=asc',\n",
       " 'http://www.gobiernotransparentechile.cl/directorio/entidad/12/173/per_contrata/A%EF%BF%BDo%202013/Febrero',\n",
       " 'http://www.gobiernotransparentechile.cl/directorio/entidad/11/159/per_contrata/Ao-2008?x=0&y=0&page_number=9&sort=id&direction=asc',\n",
       " 'http://www.gobiernotransparentechile.cl/directorio/entidad/12/167/per_planta/A%C3%B1o%202016/Agosto',\n",
       " 'http://www.gobiernotransparentechile.cl/directorio/entidad/10/146/per_contrata/Ao-2014?x=0&y=0&page_number=35&sort=id&direction=asc',\n",
       " 'http://www.gobiernotransparentechile.cl/directorio/entidad/19/271/per_contrata/A%C3%B1o%202016/A%C3%B1o%202016%20-%20Febrero?x=0&y=0&page_number=5&sort=id&direction=asc',\n",
       " 'http://www.gobiernotransparentechile.cl/directorio/entidad/12/173/per_contrata/A%EF%BF%BDo%202012/Mayo?x=0&y=0&page_number=2&sort=id&direction=asc',\n",
       " 'http://www.gobiernotransparentechile.cl/directorio/entidad/12/169/per_planta/Ao-2016?x=0&y=0&page_number=4&sort=id&direction=asc',\n",
       " 'http://www.gobiernotransparentechile.cl/directorio/entidad/13/283/per_planta/A%EF%BF%BDo%202015/Agosto',\n",
       " 'http://www.gobiernotransparentechile.cl/directorio/entidad/12/169/per_contrata/Ao-2009?x=0&y=0&page_number=6&sort=id&direction=asc',\n",
       " 'http://www.gobiernotransparentechile.cl/directorio/entidad/12/171/per_planta/Ao-2014?x=0&y=0&page_number=3&sort=id&direction=asc',\n",
       " 'http://www.gobiernotransparentechile.cl/directorio/entidad/13/179/per_contrata/A%EF%BF%BDo%202016/Marzo?x=0&y=0&page_number=2&sort=id&direction=asc',\n",
       " 'http://www.gobiernotransparentechile.cl/directorio/entidad/13/283/per_planta/A%EF%BF%BDo%202016/Septiembre',\n",
       " 'http://www.gobiernotransparentechile.cl/directorio/entidad/13/283/per_planta/A%EF%BF%BDo%202014/A%C3%B1o%202014%20Noviembre',\n",
       " 'http://www.gobiernotransparentechile.cl/directorio/entidad/4/285/per_planta/2016/Febrero?x=0&y=0&page_number=2&sort=id&direction=asc',\n",
       " 'http://www.gobiernotransparentechile.cl/directorio/entidad/12/170/per_contrata/Ao-2011?x=0&y=0&page_number=4&sort=id&direction=asc',\n",
       " 'http://www.gobiernotransparentechile.cl/directorio/entidad/13/179/per_contrata/A%EF%BF%BDo%202010/Noviembre?x=0&y=0&page_number=2&sort=id&direction=asc',\n",
       " 'http://www.gobiernotransparentechile.cl/directorio/entidad/19/271/per_contrata/A%C3%B1o%202013/A%C3%B1o%202013%20-%20Mayo?x=0&y=0&page_number=4&sort=id&direction=asc',\n",
       " 'http://www.gobiernotransparentechile.cl/directorio/entidad/13/283/per_planta/Ao-2007?x=0&y=0&page_number=2&sort=id&direction=asc',\n",
       " 'http://www.gobiernotransparentechile.cl/directorio/entidad/2/8/per_contrata/2012/Enero',\n",
       " 'http://www.gobiernotransparentechile.cl/directorio/entidad/21/135/per_contrata/Ao-2015?x=0&y=0&page_number=4&sort=id&direction=asc',\n",
       " 'http://www.gobiernotransparentechile.cl/directorio/entidad/12/171/per_contrata/A%C3%B1o%202016/Abril',\n",
       " 'http://www.gobiernotransparentechile.cl/directorio/entidad/19/271/per_contrata/A%C3%B1o%202015/A%C3%B1o%202015%20-%20Agosto?x=0&y=0&page_number=4&sort=id&direction=asc',\n",
       " 'http://www.gobiernotransparentechile.cl/directorio/entidad/2/2/per_planta/2009/Octubre?x=0&y=0&page_number=4&sort=id&direction=asc',\n",
       " 'http://www.gobiernotransparentechile.cl/directorio/entidad/8/138/per_contrata/A%C3%B1o%202008/Marzo',\n",
       " 'http://www.gobiernotransparentechile.cl/directorio/entidad/11/159/per_planta/Ao-2007',\n",
       " 'http://www.gobiernotransparentechile.cl/directorio/entidad/12/169/per_planta/Ao-2009',\n",
       " 'http://www.gobiernotransparentechile.cl/directorio/entidad/12/173/per_contrata/A%EF%BF%BDo%202011/Noviembre',\n",
       " 'http://www.gobiernotransparentechile.cl/directorio/entidad/15/197/per_contrata/Ao-2013',\n",
       " 'http://www.gobiernotransparentechile.cl/directorio/entidad/12/173/per_contrata/A%EF%BF%BDo%202013/Enero?x=0&y=0&page_number=2&sort=id&direction=asc',\n",
       " 'http://www.gobiernotransparentechile.cl/directorio/entidad/13/179/per_planta/A%EF%BF%BDo%202010/Agosto',\n",
       " 'http://www.gobiernotransparentechile.cl/directorio/entidad/10/146/per_planta/Ao-2009?x=0&y=0&page_number=7&sort=id&direction=asc',\n",
       " 'http://www.gobiernotransparentechile.cl/directorio/entidad/19/271/per_contrata/A%C3%B1o%202016/A%C3%B1o%202016%20-%20Septiembre',\n",
       " 'http://www.gobiernotransparentechile.cl/directorio/entidad/13/179/per_contrata/A%EF%BF%BDo%202011/Abril?x=0&y=0&page_number=2&sort=id&direction=asc',\n",
       " 'http://www.gobiernotransparentechile.cl/directorio/entidad/11/156/per_contrata/Ao-2014',\n",
       " 'http://www.gobiernotransparentechile.cl/directorio/entidad/10/146/per_contrata/Ao-2009?x=0&y=0&page_number=9&sort=id&direction=asc',\n",
       " 'http://www.gobiernotransparentechile.cl/directorio/entidad/19/271/per_contrata/A%C3%B1o%202014/A%C3%B1o%202014%20-%20Febrero?x=0&y=0&page_number=5&sort=id&direction=asc',\n",
       " 'http://www.gobiernotransparentechile.cl/directorio/entidad/12/167/per_contrata/Ao-2008',\n",
       " 'http://www.gobiernotransparentechile.cl/directorio/entidad/13/283/per_planta/A%EF%BF%BDo%202012/A%C3%B1o%202012%20Octubre',\n",
       " 'http://www.gobiernotransparentechile.cl/directorio/entidad/19/271/per_contrata/A%C3%B1o%202014/A%C3%B1o%202014%20-%20Octubre?x=0&y=0&page_number=5&sort=id&direction=asc',\n",
       " 'http://www.gobiernotransparentechile.cl/directorio/entidad/12/167/per_planta/Ao-2009-Enero-Marzo',\n",
       " 'http://www.gobiernotransparentechile.cl/directorio/entidad/19/271/per_contrata/A%C3%B1o%202013/A%C3%B1o%202013%20-%20Noviembre',\n",
       " 'http://www.gobiernotransparentechile.cl/directorio/entidad/8/139/per_contrata/A%C3%B1o%202015/Agosto?x=0&y=0&page_number=4&sort=id&direction=asc',\n",
       " 'http://www.gobiernotransparentechile.cl/directorio/entidad/19/271/per_contrata/A%C3%B1o%202015/A%C3%B1o%202015%20-%20Julio?x=0&y=0&page_number=5&sort=id&direction=asc',\n",
       " 'http://www.gobiernotransparentechile.cl/directorio/entidad/8/138/per_contrata/A%C3%B1o%202007/Mayo',\n",
       " 'http://www.gobiernotransparentechile.cl/directorio/entidad/3/94/per_planta/Ao-2010',\n",
       " 'http://www.gobiernotransparentechile.cl/directorio/entidad/2/2/per_planta/2009/Diciembre?x=0&y=0&page_number=4&sort=id&direction=asc',\n",
       " 'http://www.gobiernotransparentechile.cl/directorio/entidad/12/173/per_contrata/A%EF%BF%BDo%202011/Marzo?x=0&y=0&page_number=5&sort=id&direction=asc',\n",
       " 'http://www.gobiernotransparentechile.cl/directorio/entidad/12/169/per_contrata/Ao-2014?x=0&y=0&page_number=15&sort=id&direction=asc',\n",
       " 'http://www.gobiernotransparentechile.cl/directorio/entidad/12/168/per_planta/Ao-2009-Programa-01',\n",
       " 'http://www.gobiernotransparentechile.cl/directorio/entidad/2/5/per_contrata/A%C3%B1o%202016/Septiembre?x=0&y=0&page_number=2&sort=id&direction=asc',\n",
       " 'http://www.gobiernotransparentechile.cl/directorio/entidad/2/2/per_planta/2009/Septiembre?x=0&y=0&page_number=4&sort=id&direction=asc',\n",
       " 'http://www.gobiernotransparentechile.cl/directorio/entidad/2/10/per_planta/2013/Febrero',\n",
       " 'http://www.gobiernotransparentechile.cl/directorio/entidad/21/135/per_contrata/Ao-2016?x=0&y=0&page_number=4&sort=id&direction=asc',\n",
       " 'http://www.gobiernotransparentechile.cl/directorio/entidad/10/146/per_contrata/Ao-2008?x=0&y=0&page_number=7&sort=id&direction=asc',\n",
       " 'http://www.gobiernotransparentechile.cl/directorio/entidad/12/170/per_contrata/Ao-2014?x=0&y=0&page_number=4&sort=id&direction=asc',\n",
       " 'http://www.gobiernotransparentechile.cl/directorio/entidad/12/169/per_contrata/Ao-2010?x=0&y=0&page_number=9&sort=id&direction=asc',\n",
       " 'http://www.gobiernotransparentechile.cl/directorio/entidad/19/271/per_contrata/A%C3%B1o%202011/A%C3%B1o%202011%20-%20Noviembre?x=0&y=0&page_number=5&sort=id&direction=asc',\n",
       " 'http://www.gobiernotransparentechile.cl/directorio/entidad/8/136/per_contrata/Ao-2014?x=0&y=0&page_number=3&sort=id&direction=asc',\n",
       " 'http://www.gobiernotransparentechile.cl/directorio/entidad/12/171/per_contrata/A%C3%B1o%202016/Febrero?x=0&y=0&page_number=12&sort=id&direction=asc',\n",
       " 'http://www.gobiernotransparentechile.cl/directorio/entidad/10/146/per_planta/Ao-2006?x=0&y=0&page_number=14&sort=id&direction=asc',\n",
       " 'http://www.gobiernotransparentechile.cl/directorio/entidad/2/2/per_contrata/2013/Abril?x=0&y=0&page_number=2&sort=id&direction=asc',\n",
       " 'http://www.gobiernotransparentechile.cl/directorio/entidad/9/145/per_contrata/A%C3%B1o%202015/Octubre',\n",
       " 'http://www.gobiernotransparentechile.cl/directorio/entidad/10/146/per_contrata/Ao-2008?x=0&y=0&page_number=3&sort=id&direction=asc',\n",
       " 'http://www.gobiernotransparentechile.cl/directorio/entidad/12/170/per_planta/-Noviembre',\n",
       " 'http://www.gobiernotransparentechile.cl/directorio/entidad/12/173/per_contrata/A%EF%BF%BDo%202015/Octubre',\n",
       " 'http://www.gobiernotransparentechile.cl/directorio/entidad/12/173/per_contrata/A%EF%BF%BDo%202013/Mayo',\n",
       " 'http://www.gobiernotransparentechile.cl/directorio/entidad/12/167/per_contrata/A%C3%B1o%202016/Septiembre',\n",
       " 'http://www.gobiernotransparentechile.cl/directorio/entidad/2/2/per_planta/2017/Enero?x=0&y=0&page_number=3&sort=id&direction=asc',\n",
       " 'http://www.gobiernotransparentechile.cl/directorio/entidad/12/168/per_contrata/Ao-2012-Programa-01',\n",
       " 'http://www.gobiernotransparentechile.cl/directorio/entidad/12/168/per_contrata/A%C3%B1o%202013%20Programa%2001/Julio%202013%20Programa01',\n",
       " 'http://www.gobiernotransparentechile.cl/directorio/entidad/19/271/per_contrata/A%C3%B1o%202016/A%C3%B1o%202016%20-%20Abril?x=0&y=0&page_number=2&sort=id&direction=asc',\n",
       " 'http://www.gobiernotransparentechile.cl/directorio/entidad/19/271/per_contrata/A%C3%B1o%202011/A%C3%B1o%202011%20-%20Diciembre?x=0&y=0&page_number=4&sort=id&direction=asc',\n",
       " 'http://www.gobiernotransparentechile.cl/directorio/entidad/2/8/per_planta/2011/Junio',\n",
       " 'http://www.gobiernotransparentechile.cl/directorio/entidad/12/167/per_contrata/A%C3%B1o%202013/Agosto?x=0&y=0&page_number=2&sort=id&direction=asc',\n",
       " 'http://www.gobiernotransparentechile.cl/directorio/entidad/19/271/per_contrata/A%C3%B1o%202015/A%C3%B1o%202015%20-%20Noviembre?x=0&y=0&page_number=6&sort=id&direction=asc',\n",
       " 'http://www.gobiernotransparentechile.cl/directorio/entidad/2/2/per_planta/2016/Marzo?x=0&y=0&page_number=2&sort=id&direction=asc',\n",
       " 'http://www.gobiernotransparentechile.cl/directorio/entidad/12/173/per_contrata/A%EF%BF%BDo%202011/Agosto?x=0&y=0&page_number=5&sort=id&direction=asc',\n",
       " 'http://www.gobiernotransparentechile.cl/directorio/entidad/12/173/per_contrata/A%EF%BF%BDo%202011/Agosto?x=0&y=0&page_number=2&sort=id&direction=asc',\n",
       " 'http://www.gobiernotransparentechile.cl/directorio/entidad/12/173/per_contrata/A%EF%BF%BDo%202015/Mayo',\n",
       " 'http://www.gobiernotransparentechile.cl/directorio/entidad/12/169/per_contrata/Ao-2009?x=0&y=0&page_number=11&sort=id&direction=asc',\n",
       " 'http://www.gobiernotransparentechile.cl/directorio/entidad/12/171/per_contrata/A%C3%B1o%202016/Agosto?x=0&y=0&page_number=5&sort=id&direction=asc',\n",
       " 'http://www.gobiernotransparentechile.cl/directorio/entidad/13/177/per_planta/A%EF%BF%BDo%202015/Diciembre',\n",
       " 'http://www.gobiernotransparentechile.cl/directorio/entidad/12/169/per_contrata/Ao-2007?x=0&y=0&page_number=2&sort=id&direction=asc',\n",
       " 'http://www.gobiernotransparentechile.cl/directorio/entidad/8/131/per_contrata/Ao-2012',\n",
       " 'http://www.gobiernotransparentechile.cl/directorio/entidad/8/138/per_contrata/A%C3%B1o%202008/Junio?x=0&y=0&page_number=3&sort=id&direction=asc',\n",
       " 'http://www.gobiernotransparentechile.cl/directorio/entidad/10/146/per_contrata/Ao-2009?x=0&y=0&page_number=4&sort=id&direction=asc',\n",
       " 'http://www.gobiernotransparentechile.cl/directorio/entidad/12/171/per_contrata/A%C3%B1o%202016/Junio',\n",
       " 'http://www.gobiernotransparentechile.cl/directorio/entidad/19/271/per_planta/A%C3%B1o%202013/A%C3%B1o%202013%20-%20Diciembre',\n",
       " 'http://www.gobiernotransparentechile.cl/directorio/entidad/2/5/per_contrata/A%C3%B1o%202012/Noviembre',\n",
       " 'http://www.gobiernotransparentechile.cl/directorio/entidad/10/146/per_contrata/Ao-2006?x=0&y=0&page_number=4&sort=id&direction=asc',\n",
       " 'http://www.gobiernotransparentechile.cl/directorio/entidad/12/173/per_contrata/A%EF%BF%BDo%202012/Septiembre?x=0&y=0&page_number=2&sort=id&direction=asc',\n",
       " 'http://www.gobiernotransparentechile.cl/directorio/entidad/12/171/per_contrata/A%C3%B1o%202016/Abril?x=0&y=0&page_number=4&sort=id&direction=asc',\n",
       " 'http://www.gobiernotransparentechile.cl/directorio/entidad/2/8/per_planta/2011/Noviembre',\n",
       " 'http://www.gobiernotransparentechile.cl/directorio/entidad/19/271/per_contrata/A%C3%B1o%202013/A%C3%B1o%202013%20-%20Septiembre?x=0&y=0&page_number=4&sort=id&direction=asc',\n",
       " 'http://www.gobiernotransparentechile.cl/directorio/entidad/2/2/per_contrata/2013/Septiembre?x=0&y=0&page_number=5&sort=id&direction=asc',\n",
       " 'http://www.gobiernotransparentechile.cl/directorio/entidad/19/271/per_contrata/A%C3%B1o%202011/A%C3%B1o%202011%20-%20Septiembre?x=0&y=0&page_number=3&sort=id&direction=asc',\n",
       " 'http://www.gobiernotransparentechile.cl/directorio/entidad/13/179/per_contrata/A%EF%BF%BDo%202014/Enero',\n",
       " 'http://www.gobiernotransparentechile.cl/directorio/entidad/21/135/per_contrata/Ao-2013?x=0&y=0&page_number=3&sort=id&direction=asc',\n",
       " 'http://www.gobiernotransparentechile.cl/directorio/entidad/12/171/per_contrata/A%C3%B1o%202016/Julio?x=0&y=0&page_number=15&sort=id&direction=asc',\n",
       " 'http://www.gobiernotransparentechile.cl/directorio/entidad/2/2/per_planta/2017/Enero?x=0&y=0&page_number=4&sort=id&direction=asc',\n",
       " 'http://www.gobiernotransparentechile.cl/directorio/entidad/19/271/per_contrata/A%C3%B1o%202011/A%C3%B1o%202011%20-%20Noviembre',\n",
       " 'http://www.gobiernotransparentechile.cl/directorio/entidad/2/2/per_planta/2016/Mayo?x=0&y=0&page_number=3&sort=id&direction=asc',\n",
       " 'http://www.gobiernotransparentechile.cl/directorio/entidad/21/273/per_planta/Hist%C3%B3rico/A%C3%B1o%202010',\n",
       " 'http://www.gobiernotransparentechile.cl/directorio/entidad/12/173/per_contrata/A%EF%BF%BDo%202015/Octubre?x=0&y=0&page_number=3&sort=id&direction=asc',\n",
       " 'http://www.gobiernotransparentechile.cl/directorio/entidad/2/5/per_contrata/A%C3%B1o%202016/Noviembre?x=0&y=0&page_number=3&sort=id&direction=asc',\n",
       " 'http://www.gobiernotransparentechile.cl/directorio/entidad/13/179/per_contrata/A%EF%BF%BDo%202010/Septiembre',\n",
       " 'http://www.gobiernotransparentechile.cl/directorio/entidad/12/173/per_contrata/A%EF%BF%BDo%202016/Junio',\n",
       " 'http://www.gobiernotransparentechile.cl/directorio/entidad/25/351/per_contrata/Ao-2012',\n",
       " 'http://www.gobiernotransparentechile.cl/directorio/entidad/12/171/per_contrata/A%C3%B1o%202016/Febrero?x=0&y=0&page_number=16&sort=id&direction=asc',\n",
       " 'http://www.gobiernotransparentechile.cl/directorio/entidad/19/271/per_contrata/A%C3%B1o%202015/A%C3%B1o%202015%20-%20Diciembre?x=0&y=0&page_number=6&sort=id&direction=asc',\n",
       " 'http://www.gobiernotransparentechile.cl/directorio/entidad/12/170/per_contrata/-Junio?x=0&y=0&page_number=3&sort=id&direction=asc',\n",
       " 'http://www.gobiernotransparentechile.cl/directorio/entidad/12/167/per_contrata/A%C3%B1o%202013/Diciembre?x=0&y=0&page_number=2&sort=id&direction=asc',\n",
       " 'http://www.gobiernotransparentechile.cl/directorio/entidad/12/171/per_contrata/A%C3%B1o%202016/Julio?x=0&y=0&page_number=10&sort=id&direction=asc',\n",
       " 'http://www.gobiernotransparentechile.cl/directorio/entidad/2/2/per_contrata/2013/Julio?x=0&y=0&page_number=4&sort=id&direction=asc',\n",
       " 'http://www.gobiernotransparentechile.cl/directorio/entidad/12/167/per_planta/A%C3%B1o%202010/Octubre',\n",
       " 'http://www.gobiernotransparentechile.cl/directorio/entidad/2/9/per_planta/2011/Marzo',\n",
       " 'http://www.gobiernotransparentechile.cl/directorio/entidad/10/146/per_planta/Ao-2006?x=0&y=0&page_number=8&sort=id&direction=asc',\n",
       " 'http://www.gobiernotransparentechile.cl/directorio/entidad/12/169/per_planta/Ao-2011?x=0&y=0&page_number=5&sort=id&direction=asc',\n",
       " 'http://www.gobiernotransparentechile.cl/directorio/entidad/13/283/per_planta/A%EF%BF%BDo%202011/A%C3%B1o%202011%20Diciembre',\n",
       " 'http://www.gobiernotransparentechile.cl/directorio/entidad/19/271/per_contrata/A%C3%B1o%202014/A%C3%B1o%202014%20-%20Septiembre?x=0&y=0&page_number=5&sort=id&direction=asc',\n",
       " 'http://www.gobiernotransparentechile.cl/directorio/entidad/12/169/per_contrata/Ao-2011?x=0&y=0&page_number=15&sort=id&direction=asc',\n",
       " 'http://www.gobiernotransparentechile.cl/directorio/entidad/10/146/per_contrata/Ao-2008?x=0&y=0&page_number=8&sort=id&direction=asc',\n",
       " 'http://www.gobiernotransparentechile.cl/directorio/entidad/2/8/per_contrata/2012/Marzo',\n",
       " 'http://www.gobiernotransparentechile.cl/directorio/entidad/13/177/per_planta/A%EF%BF%BDo%202016/Febrero',\n",
       " 'http://www.gobiernotransparentechile.cl/directorio/entidad/8/136/per_contrata/Ao-2013?x=0&y=0&page_number=4&sort=id&direction=asc',\n",
       " 'http://www.gobiernotransparentechile.cl/directorio/entidad/2/2/per_planta/2009/Julio?x=0&y=0&page_number=5&sort=id&direction=asc',\n",
       " 'http://www.gobiernotransparentechile.cl/directorio/entidad/2/6/per_contrata/2012/Octubre',\n",
       " 'http://www.gobiernotransparentechile.cl/directorio/entidad/12/167/per_contrata/A%C3%B1o%202015/Enero?x=0&y=0&page_number=2&sort=id&direction=asc',\n",
       " 'http://www.gobiernotransparentechile.cl/directorio/entidad/12/171/per_contrata/A%C3%B1o%202016/Agosto?x=0&y=0&page_number=19&sort=id&direction=asc',\n",
       " 'http://www.gobiernotransparentechile.cl/directorio/entidad/12/173/per_contrata/A%EF%BF%BDo%202012/Abril?x=0&y=0&page_number=5&sort=id&direction=asc',\n",
       " 'http://www.gobiernotransparentechile.cl/directorio/entidad/9/348/per_contrata/A%C3%B1o%202012/Septiembre?x=0&y=0&page_number=5&sort=id&direction=asc',\n",
       " 'http://www.gobiernotransparentechile.cl/directorio/entidad/12/173/per_contrata/A%EF%BF%BDo%202016/Julio?x=0&y=0&page_number=2&sort=id&direction=asc',\n",
       " 'http://www.gobiernotransparentechile.cl/directorio/entidad/12/167/per_planta/A%C3%B1o%202015/Mayo',\n",
       " 'http://www.gobiernotransparentechile.cl/directorio/entidad/12/167/per_contrata/A%C3%B1o%202016/Noviembre?x=0&y=0&page_number=2&sort=id&direction=asc',\n",
       " 'http://www.gobiernotransparentechile.cl/directorio/entidad/12/171/per_contrata/A%C3%B1o%202016/Marzo?x=0&y=0&page_number=24&sort=id&direction=asc',\n",
       " 'http://www.gobiernotransparentechile.cl/directorio/entidad/2/2/per_planta/2016/Abril?x=0&y=0&page_number=4&sort=id&direction=asc',\n",
       " 'http://www.gobiernotransparentechile.cl/directorio/entidad/13/283/per_planta/A%EF%BF%BDo%202015/Septiembre',\n",
       " 'http://www.gobiernotransparentechile.cl/directorio/entidad/8/138/per_contrata/A%C3%B1o%202007/Junio',\n",
       " 'http://www.gobiernotransparentechile.cl/directorio/entidad/12/171/per_contrata/A%C3%B1o%202016/Junio?x=0&y=0&page_number=7&sort=id&direction=asc',\n",
       " 'http://www.gobiernotransparentechile.cl/directorio/entidad/2/2/per_contrata/2013/Julio?x=0&y=0&page_number=3&sort=id&direction=asc',\n",
       " 'http://www.gobiernotransparentechile.cl/directorio/entidad/12/169/per_contrata/Ao-2009',\n",
       " 'http://www.gobiernotransparentechile.cl/directorio/entidad/3/94/per_planta/Ao-2008',\n",
       " 'http://www.gobiernotransparentechile.cl/directorio/entidad/10/146/per_contrata/Ao-2009?x=0&y=0&page_number=28&sort=id&direction=asc',\n",
       " 'http://www.gobiernotransparentechile.cl/directorio/entidad/12/167/per_contrata/A%C3%B1o%202016/Marzo?x=0&y=0&page_number=2&sort=id&direction=asc',\n",
       " 'http://www.gobiernotransparentechile.cl/directorio/entidad/8/136/per_contrata/Ao-2009?x=0&y=0&page_number=5&sort=id&direction=asc',\n",
       " 'http://www.gobiernotransparentechile.cl/directorio/entidad/12/168/per_planta/Ao-2013-Programa-01',\n",
       " 'http://www.gobiernotransparentechile.cl/directorio/entidad/11/159/per_contrata/OCTUBRE?x=0&y=0&page_number=12&sort=id&direction=asc',\n",
       " 'http://www.gobiernotransparentechile.cl/directorio/entidad/19/271/per_contrata/A%C3%B1o%202016/A%C3%B1o%202016%20-%20Diciembre?x=0&y=0&page_number=3&sort=id&direction=asc',\n",
       " 'http://www.gobiernotransparentechile.cl/directorio/entidad/12/173/per_contrata/A%EF%BF%BDo%202016/Junio?x=0&y=0&page_number=3&sort=id&direction=asc',\n",
       " 'http://www.gobiernotransparentechile.cl/directorio/entidad/11/159/per_contrata/Ao-2007?x=0&y=0&page_number=30&sort=id&direction=asc',\n",
       " 'http://www.gobiernotransparentechile.cl/directorio/entidad/12/173/per_contrata/A%EF%BF%BDo%202011/Junio?x=0&y=0&page_number=4&sort=id&direction=asc',\n",
       " 'http://www.gobiernotransparentechile.cl/directorio/entidad/12/169/per_contrata/Ao-2010?x=0&y=0&page_number=4&sort=id&direction=asc',\n",
       " 'http://www.gobiernotransparentechile.cl/directorio/entidad/12/167/per_contrata/A%C3%B1o%202014/Diciembre',\n",
       " 'http://www.gobiernotransparentechile.cl/directorio/entidad/19/271/per_contrata/A%C3%B1o%202015/A%C3%B1o%202015%20-%20Diciembre?x=0&y=0&page_number=5&sort=id&direction=asc',\n",
       " 'http://www.gobiernotransparentechile.cl/directorio/entidad/19/271/per_contrata/A%C3%B1o%202013/A%C3%B1o%202013%20-%20Abril?x=0&y=0&page_number=4&sort=id&direction=asc',\n",
       " 'http://www.gobiernotransparentechile.cl/directorio/entidad/13/179/per_planta/A%EF%BF%BDo%202014/Enero',\n",
       " 'http://www.gobiernotransparentechile.cl/directorio/entidad/2/10/per_planta/2011/Noviembre',\n",
       " 'http://www.gobiernotransparentechile.cl/directorio/entidad/8/136/per_contrata/Ao-2008?x=0&y=0&page_number=4&sort=id&direction=asc',\n",
       " 'http://www.gobiernotransparentechile.cl/directorio/entidad/19/271/per_contrata/A%C3%B1o%202016/A%C3%B1o%202016%20-%20Junio?x=0&y=0&page_number=2&sort=id&direction=asc',\n",
       " 'http://www.gobiernotransparentechile.cl/directorio/entidad/2/2/per_contrata/2013/Mayo?x=0&y=0&page_number=5&sort=id&direction=asc',\n",
       " 'http://www.gobiernotransparentechile.cl/directorio/entidad/11/159/per_contrata/SEPTIEMBRE?x=0&y=0&page_number=32&sort=id&direction=asc',\n",
       " 'http://www.gobiernotransparentechile.cl/directorio/entidad/19/271/per_contrata/A%C3%B1o%202015/A%C3%B1o%202015%20-%20Marzo?x=0&y=0&page_number=3&sort=id&direction=asc',\n",
       " 'http://www.gobiernotransparentechile.cl/directorio/entidad/12/169/per_planta/Ao-2011?x=0&y=0&page_number=2&sort=id&direction=asc',\n",
       " 'http://www.gobiernotransparentechile.cl/directorio/entidad/8/136/per_contrata/Ao-2009?x=0&y=0&page_number=3&sort=id&direction=asc',\n",
       " 'http://www.gobiernotransparentechile.cl/directorio/entidad/10/146/per_contrata/Ao-2014?x=0&y=0&page_number=3&sort=id&direction=asc',\n",
       " 'http://www.gobiernotransparentechile.cl/directorio/entidad/12/173/per_contrata/A%EF%BF%BDo%202016/Febrero?x=0&y=0&page_number=5&sort=id&direction=asc',\n",
       " 'http://www.gobiernotransparentechile.cl/directorio/entidad/12/167/per_contrata/A%C3%B1o%202016/Enero',\n",
       " 'http://www.gobiernotransparentechile.cl/directorio/entidad/13/177/per_planta/A%EF%BF%BDo%202012/A%C3%B1o%202012%20Abril',\n",
       " 'http://www.gobiernotransparentechile.cl/directorio/entidad/21/135/per_contrata/Ao-2015',\n",
       " 'http://www.gobiernotransparentechile.cl/directorio/entidad/19/271/per_contrata/A%C3%B1o%202016/A%C3%B1o%202016%20-%20Agosto',\n",
       " 'http://www.gobiernotransparentechile.cl/directorio/entidad/2/6/per_contrata/2011/Noviembre',\n",
       " 'http://www.gobiernotransparentechile.cl/directorio/entidad/13/179/per_planta/A%EF%BF%BDo%202016/Diciembre',\n",
       " 'http://www.gobiernotransparentechile.cl/directorio/entidad/19/271/per_contrata/A%C3%B1o%202015/A%C3%B1o%202015%20-%20Noviembre?x=0&y=0&page_number=2&sort=id&direction=asc',\n",
       " 'http://www.gobiernotransparentechile.cl/directorio/entidad/10/146/per_contrata/Ao-2014?x=0&y=0&page_number=56&sort=id&direction=asc',\n",
       " 'http://www.gobiernotransparentechile.cl/directorio/entidad/12/171/per_planta/Ao-2007?x=0&y=0&page_number=2&sort=id&direction=asc',\n",
       " 'http://www.gobiernotransparentechile.cl/directorio/entidad/2/2/per_contrata/2011/Octubre?x=0&y=0&page_number=4&sort=id&direction=asc',\n",
       " 'http://www.gobiernotransparentechile.cl/directorio/entidad/12/173/per_contrata/A%EF%BF%BDo%202015/Mayo?x=0&y=0&page_number=3&sort=id&direction=asc',\n",
       " 'http://www.gobiernotransparentechile.cl/directorio/entidad/12/173/per_contrata/A%EF%BF%BDo%202011/Julio?x=0&y=0&page_number=7&sort=id&direction=asc',\n",
       " 'http://www.gobiernotransparentechile.cl/directorio/entidad/12/170/per_planta/Ao-2007?x=0&y=0&page_number=2&sort=id&direction=asc',\n",
       " 'http://www.gobiernotransparentechile.cl/directorio/entidad/13/283/per_planta/A%EF%BF%BDo%202014/A%C3%B1o%202014%20Junio',\n",
       " 'http://www.gobiernotransparentechile.cl/directorio/entidad/12/173/per_contrata/A%EF%BF%BDo%202012/Enero?x=0&y=0&page_number=3&sort=id&direction=asc',\n",
       " 'http://www.gobiernotransparentechile.cl/directorio/entidad/8/138/per_planta/A%C3%B1o%202008/Agosto',\n",
       " 'http://www.gobiernotransparentechile.cl/directorio/entidad/12/173/per_contrata/A%EF%BF%BDo%202016/Noviembre?x=0&y=0&page_number=6&sort=id&direction=asc',\n",
       " 'http://www.gobiernotransparentechile.cl/directorio/entidad/10/146/per_contrata/Ao-2014?x=0&y=0&page_number=4&sort=id&direction=asc',\n",
       " 'http://www.gobiernotransparentechile.cl/directorio/entidad/2/2/per_planta/2010/Agosto?x=0&y=0&page_number=4&sort=id&direction=asc',\n",
       " 'http://www.gobiernotransparentechile.cl/directorio/entidad/19/271/per_contrata/A%C3%B1o%202013/A%C3%B1o%202013%20-%20Agosto?x=0&y=0&page_number=6&sort=id&direction=asc',\n",
       " 'http://www.gobiernotransparentechile.cl/directorio/entidad/21/135/per_contrata/Ao-2011',\n",
       " 'http://www.gobiernotransparentechile.cl/directorio/entidad/25/351/per_planta/A%C3%B1o%202016/Junio',\n",
       " 'http://www.gobiernotransparentechile.cl/directorio/entidad/2/2/per_contrata/2013/Mayo',\n",
       " 'http://www.gobiernotransparentechile.cl/directorio/entidad/2/2/per_contrata/2015/Febrero?x=0&y=0&page_number=5&sort=id&direction=asc',\n",
       " 'http://www.gobiernotransparentechile.cl/directorio/entidad/12/167/per_planta/A%C3%B1o%202013/Marzo',\n",
       " 'http://www.gobiernotransparentechile.cl/directorio/entidad/13/283/per_planta/A%EF%BF%BDo%202014/A%C3%B1o%202014%20Octubre',\n",
       " 'http://www.gobiernotransparentechile.cl/directorio/entidad/12/169/per_planta/Ao-2012?x=0&y=0&page_number=5&sort=id&direction=asc',\n",
       " 'http://www.gobiernotransparentechile.cl/directorio/entidad/2/2/per_planta/2016/Enero?x=0&y=0&page_number=5&sort=id&direction=asc',\n",
       " 'http://www.gobiernotransparentechile.cl/directorio/entidad/4/114/per_planta/Ao-2008?x=0&y=0&page_number=9&sort=id&direction=asc',\n",
       " 'http://www.gobiernotransparentechile.cl/directorio/entidad/8/130/per_contrata/Ao-2014',\n",
       " 'http://www.gobiernotransparentechile.cl/directorio/entidad/9/348/per_contrata/A%C3%B1o%202014/Octubre?x=0&y=0&page_number=4&sort=id&direction=asc',\n",
       " 'http://www.gobiernotransparentechile.cl/directorio/entidad/10/146/per_contrata/Ao-2014?x=0&y=0&page_number=47&sort=id&direction=asc',\n",
       " 'http://www.gobiernotransparentechile.cl/directorio/entidad/2/9/per_planta/2013/Octubre',\n",
       " 'http://www.gobiernotransparentechile.cl/directorio/entidad/19/271/per_contrata/A%C3%B1o%202016/A%C3%B1o%202016%20-%20Diciembre',\n",
       " 'http://www.gobiernotransparentechile.cl/directorio/entidad/12/173/per_contrata/A%EF%BF%BDo%202011/Julio?x=0&y=0&page_number=3&sort=id&direction=asc',\n",
       " 'http://www.gobiernotransparentechile.cl/directorio/entidad/10/356/per_planta/A%C3%B1o%202016/Mayo',\n",
       " 'http://www.gobiernotransparentechile.cl/directorio/entidad/12/173/per_contrata/A%EF%BF%BDo%202016/Junio?x=0&y=0&page_number=2&sort=id&direction=asc',\n",
       " 'http://www.gobiernotransparentechile.cl/directorio/entidad/2/10/per_planta/2012/Enero',\n",
       " 'http://www.gobiernotransparentechile.cl/directorio/entidad/12/169/per_contrata/Ao-2013?x=0&y=0&page_number=4&sort=id&direction=asc',\n",
       " 'http://www.gobiernotransparentechile.cl/directorio/entidad/2/11/per_planta/2013/Mayo',\n",
       " 'http://www.gobiernotransparentechile.cl/directorio/entidad/19/271/per_contrata/A%C3%B1o%202013/A%C3%B1o%202013%20-%20Abril?x=0&y=0&page_number=6&sort=id&direction=asc',\n",
       " 'http://www.gobiernotransparentechile.cl/directorio/entidad/12/174/per_contrata/Ao-2016?x=0&y=0&page_number=3&sort=id&direction=asc',\n",
       " 'http://www.gobiernotransparentechile.cl/directorio/entidad/13/179/per_contrata/A%EF%BF%BDo%202016/Febrero',\n",
       " 'http://www.gobiernotransparentechile.cl/directorio/entidad/10/146/per_planta/Ao-2014?x=0&y=0&page_number=4&sort=id&direction=asc',\n",
       " 'http://www.gobiernotransparentechile.cl/directorio/entidad/12/170/per_contrata/-Noviembre',\n",
       " 'http://www.gobiernotransparentechile.cl/directorio/entidad/13/179/per_contrata/A%EF%BF%BDo%202012/Septiembre',\n",
       " 'http://www.gobiernotransparentechile.cl/directorio/entidad/2/11/per_planta/2012/Noviembre',\n",
       " 'http://www.gobiernotransparentechile.cl/directorio/entidad/19/271/per_contrata/A%C3%B1o%202014/A%C3%B1o%202014%20-%20Noviembre?x=0&y=0&page_number=2&sort=id&direction=asc',\n",
       " 'http://www.gobiernotransparentechile.cl/directorio/entidad/12/169/per_planta/Ao-2009?x=0&y=0&page_number=5&sort=id&direction=asc',\n",
       " 'http://www.gobiernotransparentechile.cl/directorio/entidad/12/170/per_contrata/Ao-2008?x=0&y=0&page_number=3&sort=id&direction=asc',\n",
       " 'http://www.gobiernotransparentechile.cl/directorio/entidad/12/173/per_contrata/A%EF%BF%BDo%202012/Junio?x=0&y=0&page_number=2&sort=id&direction=asc',\n",
       " 'http://www.gobiernotransparentechile.cl/directorio/entidad/13/178/per_planta/A%C3%B1o%202009/A%C3%B1o%202009%20Enero-Marzo?x=0&y=0&page_number=2&sort=id&direction=asc',\n",
       " 'http://www.gobiernotransparentechile.cl/directorio/entidad/12/171/per_contrata/A%C3%B1o%202016/Agosto?x=0&y=0&page_number=23&sort=id&direction=asc',\n",
       " 'http://www.gobiernotransparentechile.cl/directorio/entidad/4/285/per_planta/2006',\n",
       " 'http://www.gobiernotransparentechile.cl/directorio/entidad/12/173/per_contrata/A%EF%BF%BDo%202016/Abril?x=0&y=0&page_number=3&sort=id&direction=asc',\n",
       " 'http://www.gobiernotransparentechile.cl/directorio/entidad/2/2/per_planta/2014/Agosto?x=0&y=0&page_number=4&sort=id&direction=asc',\n",
       " 'http://www.gobiernotransparentechile.cl/directorio/entidad/19/271/per_contrata/A%C3%B1o%202014/A%C3%B1o%202014%20-%20Agosto?x=0&y=0&page_number=4&sort=id&direction=asc',\n",
       " 'http://www.gobiernotransparentechile.cl/directorio/entidad/12/167/per_planta/A%C3%B1o%202015/Noviembre',\n",
       " 'http://www.gobiernotransparentechile.cl/directorio/entidad/8/139/per_contrata/A%C3%B1o%202014/Diciembre?x=0&y=0&page_number=5&sort=id&direction=asc',\n",
       " 'http://www.gobiernotransparentechile.cl/directorio/entidad/21/279/per_planta/Ao-2014',\n",
       " 'http://www.gobiernotransparentechile.cl/directorio/entidad/12/167/per_planta/A%C3%B1o%202015/Abril',\n",
       " 'http://www.gobiernotransparentechile.cl/directorio/entidad/2/2/per_planta/2016/Julio?x=0&y=0&page_number=4&sort=id&direction=asc',\n",
       " 'http://www.gobiernotransparentechile.cl/directorio/entidad/2/10/per_contrata/2012/Febrero',\n",
       " 'http://www.gobiernotransparentechile.cl/directorio/entidad/8/139/per_contrata/A%C3%B1o%202012/Diciembre?x=0&y=0&page_number=4&sort=id&direction=asc',\n",
       " 'http://www.gobiernotransparentechile.cl/directorio/entidad/12/173/per_contrata/A%EF%BF%BDo%202012/Mayo?x=0&y=0&page_number=3&sort=id&direction=asc',\n",
       " 'http://www.gobiernotransparentechile.cl/directorio/entidad/19/271/per_contrata/A%C3%B1o%202016/A%C3%B1o%202016%20-%20Enero?x=0&y=0&page_number=5&sort=id&direction=asc',\n",
       " 'http://www.gobiernotransparentechile.cl/directorio/entidad/10/146/per_contrata/Ao-2008?x=0&y=0&page_number=17&sort=id&direction=asc',\n",
       " 'http://www.gobiernotransparentechile.cl/directorio/entidad/2/2/per_planta/2009/Agosto?x=0&y=0&page_number=4&sort=id&direction=asc',\n",
       " 'http://www.gobiernotransparentechile.cl/directorio/entidad/12/171/per_contrata/A%C3%B1o%202016/Junio?x=0&y=0&page_number=19&sort=id&direction=asc',\n",
       " 'http://www.gobiernotransparentechile.cl/directorio/entidad/13/179/per_planta/A%EF%BF%BDo%202013/Marzo',\n",
       " 'http://www.gobiernotransparentechile.cl/directorio/entidad/2/2/per_contrata/2011/Julio?x=0&y=0&page_number=3&sort=id&direction=asc',\n",
       " 'http://www.gobiernotransparentechile.cl/directorio/entidad/11/159/per_contrata/SEPTIEMBRE?x=0&y=0&page_number=31&sort=id&direction=asc',\n",
       " 'http://www.gobiernotransparentechile.cl/directorio/entidad/12/173/per_contrata/A%EF%BF%BDo%202015/Junio?x=0&y=0&page_number=6&sort=id&direction=asc',\n",
       " 'http://www.gobiernotransparentechile.cl/directorio/entidad/12/173/per_contrata/A%EF%BF%BDo%202016/Junio?x=0&y=0&page_number=5&sort=id&direction=asc',\n",
       " 'http://www.gobiernotransparentechile.cl/directorio/entidad/12/173/per_contrata/A%EF%BF%BDo%202015/Mayo?x=0&y=0&page_number=5&sort=id&direction=asc',\n",
       " 'http://www.gobiernotransparentechile.cl/directorio/entidad/19/271/per_contrata/A%C3%B1o%202015/A%C3%B1o%202015%20-%20Julio?x=0&y=0&page_number=2&sort=id&direction=asc',\n",
       " 'http://www.gobiernotransparentechile.cl/directorio/entidad/2/2/per_contrata/2013/Octubre',\n",
       " 'http://www.gobiernotransparentechile.cl/directorio/entidad/2/2/per_planta/2010/Febrero?x=0&y=0&page_number=3&sort=id&direction=asc',\n",
       " 'http://www.gobiernotransparentechile.cl/directorio/entidad/2/9/per_planta/2010/Septiembre',\n",
       " 'http://www.gobiernotransparentechile.cl/directorio/entidad/12/173/per_contrata/A%EF%BF%BDo%202011/Agosto?x=0&y=0&page_number=6&sort=id&direction=asc',\n",
       " 'http://www.gobiernotransparentechile.cl/directorio/entidad/12/171/per_contrata/A%C3%B1o%202016/Agosto?x=0&y=0&page_number=2&sort=id&direction=asc',\n",
       " 'http://www.gobiernotransparentechile.cl/directorio/entidad/2/10/per_contrata/2014/Agosto',\n",
       " 'http://www.gobiernotransparentechile.cl/directorio/entidad/12/169/per_planta/Ao-2006',\n",
       " 'http://www.gobiernotransparentechile.cl/directorio/entidad/2/2/per_contrata/2015/Noviembre?x=0&y=0&page_number=4&sort=id&direction=asc',\n",
       " 'http://www.gobiernotransparentechile.cl/directorio/entidad/12/171/per_contrata/A%C3%B1o%202016/Junio?x=0&y=0&page_number=5&sort=id&direction=asc',\n",
       " 'http://www.gobiernotransparentechile.cl/directorio/entidad/8/138/per_contrata/A%C3%B1o%202007/Diciembre',\n",
       " 'http://www.gobiernotransparentechile.cl/directorio/entidad/12/171/per_planta/Ao-2010?x=0&y=0&page_number=2&sort=id&direction=asc',\n",
       " 'http://www.gobiernotransparentechile.cl/directorio/entidad/12/173/per_contrata/A%EF%BF%BDo%202015/Febrero?x=0&y=0&page_number=4&sort=id&direction=asc',\n",
       " 'http://www.gobiernotransparentechile.cl/directorio/entidad/8/130/per_contrata/Ao-2007?x=0&y=0&page_number=2&sort=id&direction=asc',\n",
       " 'http://www.gobiernotransparentechile.cl/directorio/entidad/12/173/per_contrata/A%EF%BF%BDo%202016/Marzo?x=0&y=0&page_number=6&sort=id&direction=asc',\n",
       " 'http://www.gobiernotransparentechile.cl/directorio/entidad/12/171/per_contrata/A%C3%B1o%202016/Agosto?x=0&y=0&page_number=10&sort=id&direction=asc',\n",
       " 'http://www.gobiernotransparentechile.cl/directorio/entidad/12/169/per_contrata/Ao-2009?x=0&y=0&page_number=8&sort=id&direction=asc',\n",
       " 'http://www.gobiernotransparentechile.cl/directorio/entidad/12/169/per_contrata/Ao-2014',\n",
       " 'http://www.gobiernotransparentechile.cl/directorio/entidad/4/114/per_planta/Ao-2008?x=0&y=0&page_number=5&sort=id&direction=asc',\n",
       " 'http://www.gobiernotransparentechile.cl/directorio/entidad/19/271/per_contrata/A%C3%B1o%202014/A%C3%B1o%202014%20-%20Enero?x=0&y=0&page_number=5&sort=id&direction=asc',\n",
       " 'http://www.gobiernotransparentechile.cl/directorio/entidad/2/2/per_contrata/2015/Enero?x=0&y=0&page_number=4&sort=id&direction=asc',\n",
       " 'http://www.gobiernotransparentechile.cl/directorio/entidad/9/348/per_contrata/A%C3%B1o%202014/Noviembre?x=0&y=0&page_number=5&sort=id&direction=asc',\n",
       " 'http://www.gobiernotransparentechile.cl/directorio/entidad/19/271/per_contrata/A%C3%B1o%202014/A%C3%B1o%202014%20-%20Agosto?x=0&y=0&page_number=6&sort=id&direction=asc',\n",
       " 'http://www.gobiernotransparentechile.cl/directorio/entidad/2/5/per_planta/A%C3%B1o%202017/Enero',\n",
       " 'http://www.gobiernotransparentechile.cl/directorio/entidad/12/173/per_contrata/A%EF%BF%BDo%202011/Octubre?x=0&y=0&page_number=4&sort=id&direction=asc',\n",
       " 'http://www.gobiernotransparentechile.cl/directorio/entidad/12/173/per_contrata/A%EF%BF%BDo%202014/Noviembre?x=0&y=0&page_number=5&sort=id&direction=asc',\n",
       " 'http://www.gobiernotransparentechile.cl/directorio/entidad/13/179/per_contrata/A%EF%BF%BDo%202011/Noviembre',\n",
       " 'http://www.gobiernotransparentechile.cl/directorio/entidad/12/167/per_contrata/A%C3%B1o%202014/Noviembre?x=0&y=0&page_number=2&sort=id&direction=asc',\n",
       " 'http://www.gobiernotransparentechile.cl/directorio/entidad/12/171/per_contrata/A%C3%B1o%202016/Marzo?x=0&y=0&page_number=21&sort=id&direction=asc',\n",
       " 'http://www.gobiernotransparentechile.cl/directorio/entidad/12/169/per_contrata/Ao-2008?x=0&y=0&page_number=13&sort=id&direction=asc',\n",
       " 'http://www.gobiernotransparentechile.cl/directorio/entidad/2/2/per_planta/2012/Diciembre?x=0&y=0&page_number=2&sort=id&direction=asc',\n",
       " 'http://www.gobiernotransparentechile.cl/directorio/entidad/19/271/per_contrata/A%C3%B1o%202013/A%C3%B1o%202013%20-%20Noviembre?x=0&y=0&page_number=2&sort=id&direction=asc',\n",
       " 'http://www.gobiernotransparentechile.cl/directorio/entidad/10/146/per_planta/Ao-2008?x=0&y=0&page_number=7&sort=id&direction=asc',\n",
       " 'http://www.gobiernotransparentechile.cl/directorio/entidad/13/179/per_contrata/A%EF%BF%BDo%202012/Febrero',\n",
       " 'http://www.gobiernotransparentechile.cl/directorio/entidad/12/170/per_contrata/-Diciembre',\n",
       " 'http://www.gobiernotransparentechile.cl/directorio/entidad/13/283/per_planta/A%EF%BF%BDo%202013/A%C3%B1o%202013%20Enero',\n",
       " 'http://www.gobiernotransparentechile.cl/directorio/entidad/12/170/per_planta/Ao-2006?x=0&y=0&page_number=2&sort=id&direction=asc',\n",
       " 'http://www.gobiernotransparentechile.cl/directorio/entidad/19/271/per_contrata/A%C3%B1o%202014/A%C3%B1o%202014%20-%20Febrero?x=0&y=0&page_number=3&sort=id&direction=asc',\n",
       " 'http://www.gobiernotransparentechile.cl/directorio/entidad/19/271/per_contrata/A%C3%B1o%202011/A%C3%B1o%202011%20-%20Julio?x=0&y=0&page_number=4&sort=id&direction=asc',\n",
       " 'http://www.gobiernotransparentechile.cl/directorio/entidad/2/2/per_contrata/2013/Mayo?x=0&y=0&page_number=3&sort=id&direction=asc',\n",
       " 'http://www.gobiernotransparentechile.cl/directorio/entidad/19/271/per_contrata/A%C3%B1o%202015/A%C3%B1o%202015%20-%20Abril?x=0&y=0&page_number=4&sort=id&direction=asc',\n",
       " 'http://www.gobiernotransparentechile.cl/directorio/entidad/21/135/per_contrata/Ao-2010',\n",
       " 'http://www.gobiernotransparentechile.cl/directorio/entidad/12/170/per_contrata/-Febrero?x=0&y=0&page_number=2&sort=id&direction=asc',\n",
       " 'http://www.gobiernotransparentechile.cl/directorio/entidad/12/169/per_planta/Ao-2012',\n",
       " 'http://www.gobiernotransparentechile.cl/directorio/entidad/14/190/per_contrata/Ao-2013?x=0&y=0&page_number=3&sort=id&direction=asc',\n",
       " 'http://www.gobiernotransparentechile.cl/directorio/entidad/12/171/per_contrata/A%C3%B1o%202016/Septiembre?x=0&y=0&page_number=21&sort=id&direction=asc',\n",
       " 'http://www.gobiernotransparentechile.cl/directorio/entidad/12/171/per_contrata/A%C3%B1o%202016/Enero?x=0&y=0&page_number=24&sort=id&direction=asc',\n",
       " 'http://www.gobiernotransparentechile.cl/directorio/entidad/12/169/per_contrata/Ao-2009?x=0&y=0&page_number=15&sort=id&direction=asc',\n",
       " 'http://www.gobiernotransparentechile.cl/directorio/entidad/12/173/per_contrata/A%EF%BF%BDo%202011/Septiembre?x=0&y=0&page_number=6&sort=id&direction=asc',\n",
       " 'http://www.gobiernotransparentechile.cl/directorio/entidad/13/179/per_contrata/A%EF%BF%BDo%202013/Septiembre?x=0&y=0&page_number=2&sort=id&direction=asc',\n",
       " 'http://www.gobiernotransparentechile.cl/directorio/entidad/19/271/per_contrata/A%C3%B1o%202013/A%C3%B1o%202013%20-%20Febrero?x=0&y=0&page_number=3&sort=id&direction=asc',\n",
       " 'http://www.gobiernotransparentechile.cl/directorio/entidad/2/2/per_planta/2016/Mayo?x=0&y=0&page_number=2&sort=id&direction=asc',\n",
       " 'http://www.gobiernotransparentechile.cl/directorio/entidad/2/2/per_contrata/2015/Noviembre',\n",
       " 'http://www.gobiernotransparentechile.cl/directorio/entidad/19/271/per_contrata/A%C3%B1o%202015/A%C3%B1o%202015%20-%20Abril',\n",
       " 'http://www.gobiernotransparentechile.cl/directorio/entidad/11/159/per_contrata/Ao-2007?x=0&y=0&page_number=29&sort=id&direction=asc',\n",
       " 'http://www.gobiernotransparentechile.cl/directorio/entidad/12/173/per_contrata/A%EF%BF%BDo%202014/Junio',\n",
       " 'http://www.gobiernotransparentechile.cl/directorio/entidad/10/146/per_planta/Ao-2009?x=0&y=0&page_number=13&sort=id&direction=asc',\n",
       " 'http://www.gobiernotransparentechile.cl/directorio/entidad/13/179/per_planta/A%EF%BF%BDo%202015/Agosto',\n",
       " 'http://www.gobiernotransparentechile.cl/directorio/entidad/19/271/per_planta/A%C3%B1o%202013/A%C3%B1o%202013%20-%20Febrero',\n",
       " 'http://www.gobiernotransparentechile.cl/directorio/entidad/12/167/per_planta/A%C3%B1o%202015/Diciembre',\n",
       " 'http://www.gobiernotransparentechile.cl/directorio/entidad/21/273/per_planta/Hist%C3%B3rico/A%C3%B1o%202009',\n",
       " 'http://www.gobiernotransparentechile.cl/directorio/entidad/12/170/per_contrata/Ao-2007',\n",
       " 'http://www.gobiernotransparentechile.cl/directorio/entidad/21/135/per_planta/Ao-2015',\n",
       " 'http://www.gobiernotransparentechile.cl/directorio/entidad/12/169/per_contrata/Ao-2013?x=0&y=0&page_number=5&sort=id&direction=asc',\n",
       " 'http://www.gobiernotransparentechile.cl/directorio/entidad/2/2/per_contrata/2013/Noviembre?x=0&y=0&page_number=4&sort=id&direction=asc',\n",
       " 'http://www.gobiernotransparentechile.cl/directorio/entidad/4/114/per_planta/Ao-2008?x=0&y=0&page_number=7&sort=id&direction=asc',\n",
       " 'http://www.gobiernotransparentechile.cl/directorio/entidad/10/146/per_contrata/Ao-2009?x=0&y=0&page_number=23&sort=id&direction=asc',\n",
       " 'http://www.gobiernotransparentechile.cl/directorio/entidad/21/273/per_planta/Hist%C3%B3rico/A%C3%B1o%202011',\n",
       " 'http://www.gobiernotransparentechile.cl/directorio/entidad/2/2/per_planta/2016/Febrero?x=0&y=0&page_number=3&sort=id&direction=asc',\n",
       " 'http://www.gobiernotransparentechile.cl/directorio/entidad/12/169/per_contrata/Ao-2014?x=0&y=0&page_number=17&sort=id&direction=asc',\n",
       " 'http://www.gobiernotransparentechile.cl/directorio/entidad/10/146/per_contrata/Ao-2014?x=0&y=0&page_number=38&sort=id&direction=asc',\n",
       " 'http://www.gobiernotransparentechile.cl/directorio/entidad/19/271/per_contrata/A%C3%B1o%202016/A%C3%B1o%202016%20-%20Julio',\n",
       " 'http://www.gobiernotransparentechile.cl/directorio/entidad/12/167/per_planta/A%C3%B1o%202010/Julio',\n",
       " 'http://www.gobiernotransparentechile.cl/directorio/entidad/3/94/per_contrata/Ao-2010',\n",
       " 'http://www.gobiernotransparentechile.cl/directorio/entidad/12/167/per_planta/A%C3%B1o%202009%20%28Abril-Diciembre%29/Junio',\n",
       " 'http://www.gobiernotransparentechile.cl/directorio/entidad/2/11/per_planta/2012/Diciembre',\n",
       " 'http://www.gobiernotransparentechile.cl/directorio/entidad/12/169/per_contrata/Ao-2006?x=0&y=0&page_number=7&sort=id&direction=asc',\n",
       " 'http://www.gobiernotransparentechile.cl/directorio/entidad/19/271/per_contrata/A%C3%B1o%202012/A%C3%B1o%202012%20-%20Diciembre?x=0&y=0&page_number=4&sort=id&direction=asc',\n",
       " 'http://www.gobiernotransparentechile.cl/directorio/entidad/12/171/per_contrata/A%C3%B1o%202016/Junio?x=0&y=0&page_number=9&sort=id&direction=asc',\n",
       " 'http://www.gobiernotransparentechile.cl/directorio/entidad/8/139/per_contrata/A%C3%B1o%202015/Marzo?x=0&y=0&page_number=4&sort=id&direction=asc',\n",
       " 'http://www.gobiernotransparentechile.cl/directorio/entidad/12/167/per_planta/A%C3%B1o%202015/Septiembre',\n",
       " 'http://www.gobiernotransparentechile.cl/directorio/entidad/2/6/per_contrata/2011/Agosto',\n",
       " 'http://www.gobiernotransparentechile.cl/directorio/entidad/12/171/per_contrata/A%C3%B1o%202016/Mayo?x=0&y=0&page_number=13&sort=id&direction=asc',\n",
       " 'http://www.gobiernotransparentechile.cl/directorio/entidad/10/146/per_contrata/Ao-2009?x=0&y=0&page_number=25&sort=id&direction=asc',\n",
       " 'http://www.gobiernotransparentechile.cl/directorio/entidad/9/145/per_contrata/A%C3%B1o%202016/Agosto',\n",
       " 'http://www.gobiernotransparentechile.cl/directorio/entidad/12/169/per_planta/Ao-2009',\n",
       " 'http://www.gobiernotransparentechile.cl/directorio/entidad/2/8/per_planta/2012/Febrero',\n",
       " 'http://www.gobiernotransparentechile.cl/directorio/entidad/2/2/per_contrata/2015/Octubre?x=0&y=0&page_number=5&sort=id&direction=asc',\n",
       " 'http://www.gobiernotransparentechile.cl/directorio/entidad/19/271/per_planta/A%C3%B1o%202016/A%C3%B1o%202016%20-%20Junio',\n",
       " 'http://www.gobiernotransparentechile.cl/directorio/entidad/12/173/per_contrata/A%EF%BF%BDo%202015/Septiembre?x=0&y=0&page_number=3&sort=id&direction=asc',\n",
       " 'http://www.gobiernotransparentechile.cl/directorio/entidad/12/171/per_planta/A%C3%B1o%202016/Noviembre',\n",
       " 'http://www.gobiernotransparentechile.cl/directorio/entidad/12/173/per_contrata/A%EF%BF%BDo%202012/Diciembre?x=0&y=0&page_number=2&sort=id&direction=asc',\n",
       " 'http://www.gobiernotransparentechile.cl/directorio/entidad/19/271/per_planta/A%C3%B1o%202016/A%C3%B1o%202016%20-%20Julio',\n",
       " 'http://www.gobiernotransparentechile.cl/directorio/entidad/19/271/per_contrata/A%C3%B1o%202015/A%C3%B1o%202015%20-%20Noviembre?x=0&y=0&page_number=4&sort=id&direction=asc',\n",
       " 'http://www.gobiernotransparentechile.cl/directorio/entidad/2/2/per_contrata/2013/Octubre?x=0&y=0&page_number=3&sort=id&direction=asc',\n",
       " 'http://www.gobiernotransparentechile.cl/directorio/entidad/13/179/per_planta/A%EF%BF%BDo%202014/Septiembre',\n",
       " 'http://www.gobiernotransparentechile.cl/directorio/entidad/12/169/per_planta/Ao-2008',\n",
       " 'http://www.gobiernotransparentechile.cl/directorio/entidad/12/170/per_contrata/-Marzo?x=0&y=0&page_number=4&sort=id&direction=asc',\n",
       " 'http://www.gobiernotransparentechile.cl/directorio/entidad/12/170/per_contrata/-Abril?x=0&y=0&page_number=4&sort=id&direction=asc',\n",
       " 'http://www.gobiernotransparentechile.cl/directorio/entidad/19/271/per_planta/A%C3%B1o%202016/A%C3%B1o%202016%20-%20Octubre',\n",
       " 'http://www.gobiernotransparentechile.cl/directorio/entidad/19/271/per_contrata/A%C3%B1o%202012/A%C3%B1o%202012%20-%20Enero?x=0&y=0&page_number=4&sort=id&direction=asc',\n",
       " 'http://www.gobiernotransparentechile.cl/directorio/entidad/13/177/per_planta/A%EF%BF%BDo%202011/A%C3%B1o%202011%20Julio',\n",
       " 'http://www.gobiernotransparentechile.cl/directorio/entidad/2/2/per_contrata/2015/Febrero?x=0&y=0&page_number=2&sort=id&direction=asc',\n",
       " 'http://www.gobiernotransparentechile.cl/directorio/entidad/13/178/per_planta/A%C3%B1o%202009/A%C3%B1o%202009%20Enero-Marzo',\n",
       " 'http://www.gobiernotransparentechile.cl/directorio/entidad/12/171/per_contrata/A%C3%B1o%202016/Enero?x=0&y=0&page_number=16&sort=id&direction=asc',\n",
       " 'http://www.gobiernotransparentechile.cl/directorio/entidad/2/6/per_contrata/2013/Octubre',\n",
       " 'http://www.gobiernotransparentechile.cl/directorio/entidad/10/146/per_planta/Ao-2007?x=0&y=0&page_number=16&sort=id&direction=asc',\n",
       " 'http://www.gobiernotransparentechile.cl/directorio/entidad/2/9/per_planta/2011/Febrero',\n",
       " 'http://www.gobiernotransparentechile.cl/directorio/entidad/2/2/per_contrata/2015/Julio?x=0&y=0&page_number=3&sort=id&direction=asc',\n",
       " 'http://www.gobiernotransparentechile.cl/directorio/entidad/13/179/per_planta/A%EF%BF%BDo%202016/Septiembre',\n",
       " 'http://www.gobiernotransparentechile.cl/directorio/entidad/2/2/per_planta/2016/Enero?x=0&y=0&page_number=4&sort=id&direction=asc',\n",
       " 'http://www.gobiernotransparentechile.cl/directorio/entidad/12/170/per_planta/Ao-2010',\n",
       " 'http://www.gobiernotransparentechile.cl/directorio/entidad/19/271/per_contrata/A%C3%B1o%202016/A%C3%B1o%202016%20-%20Diciembre?x=0&y=0&page_number=2&sort=id&direction=asc',\n",
       " 'http://www.gobiernotransparentechile.cl/directorio/entidad/12/170/per_contrata/-Abril?x=0&y=0&page_number=2&sort=id&direction=asc',\n",
       " 'http://www.gobiernotransparentechile.cl/directorio/entidad/19/271/per_contrata/A%C3%B1o%202016/A%C3%B1o%202016%20-%20Septiembre?x=0&y=0&page_number=7&sort=id&direction=asc',\n",
       " 'http://www.gobiernotransparentechile.cl/directorio/entidad/2/11/per_planta/2012/Octubre',\n",
       " 'http://www.gobiernotransparentechile.cl/directorio/entidad/12/173/per_contrata/A%EF%BF%BDo%202014/Diciembre?x=0&y=0&page_number=6&sort=id&direction=asc',\n",
       " 'http://www.gobiernotransparentechile.cl/directorio/entidad/12/171/per_contrata/A%C3%B1o%202016/Agosto?x=0&y=0&page_number=22&sort=id&direction=asc',\n",
       " 'http://www.gobiernotransparentechile.cl/directorio/entidad/12/173/per_contrata/A%EF%BF%BDo%202015/Agosto?x=0&y=0&page_number=6&sort=id&direction=asc',\n",
       " 'http://www.gobiernotransparentechile.cl/directorio/entidad/19/271/per_contrata/A%C3%B1o%202015/A%C3%B1o%202015%20-%20Abril?x=0&y=0&page_number=6&sort=id&direction=asc',\n",
       " 'http://www.gobiernotransparentechile.cl/directorio/entidad/12/169/per_contrata/Ao-2008?x=0&y=0&page_number=14&sort=id&direction=asc',\n",
       " 'http://www.gobiernotransparentechile.cl/directorio/entidad/8/138/per_contrata/A%C3%B1o%202013/Septiembre?x=0&y=0&page_number=2&sort=id&direction=asc',\n",
       " 'http://www.gobiernotransparentechile.cl/directorio/entidad/13/179/per_contrata/Ao-2008',\n",
       " 'http://www.gobiernotransparentechile.cl/directorio/entidad/12/171/per_contrata/A%C3%B1o%202016/Abril?x=0&y=0&page_number=2&sort=id&direction=asc',\n",
       " 'http://www.gobiernotransparentechile.cl/directorio/entidad/13/177/per_planta/A%EF%BF%BDo%202016/Marzo',\n",
       " 'http://www.gobiernotransparentechile.cl/directorio/entidad/8/138/per_contrata/A%C3%B1o%202008/Septiembre',\n",
       " 'http://www.gobiernotransparentechile.cl/directorio/entidad/2/10/per_planta/2014/Enero',\n",
       " 'http://www.gobiernotransparentechile.cl/directorio/entidad/13/177/per_planta/A%EF%BF%BDo%202011/A%C3%B1o%202011%20Octubre',\n",
       " 'http://www.gobiernotransparentechile.cl/directorio/entidad/12/170/per_contrata/-Septiembre?x=0&y=0&page_number=3&sort=id&direction=asc',\n",
       " 'http://www.gobiernotransparentechile.cl/directorio/entidad/2/2/per_planta/2010/Marzo?x=0&y=0&page_number=5&sort=id&direction=asc',\n",
       " 'http://www.gobiernotransparentechile.cl/directorio/entidad/8/139/per_contrata/Ao-2011?x=0&y=0&page_number=5&sort=id&direction=asc',\n",
       " 'http://www.gobiernotransparentechile.cl/directorio/entidad/9/348/per_contrata/A%C3%B1o%202012/Agosto?x=0&y=0&page_number=4&sort=id&direction=asc',\n",
       " 'http://www.gobiernotransparentechile.cl/directorio/entidad/19/271/per_contrata/A%C3%B1o%202015/A%C3%B1o%202015%20-%20Septiembre?x=0&y=0&page_number=5&sort=id&direction=asc',\n",
       " 'http://www.gobiernotransparentechile.cl/directorio/entidad/12/169/per_contrata/Ao-2012?x=0&y=0&page_number=9&sort=id&direction=asc',\n",
       " 'http://www.gobiernotransparentechile.cl/directorio/entidad/12/167/per_contrata/A%C3%B1o%202010/Abril',\n",
       " 'http://www.gobiernotransparentechile.cl/directorio/entidad/8/138/per_contrata/A%C3%B1o%202008/Abril?x=0&y=0&page_number=2&sort=id&direction=asc',\n",
       " 'http://www.gobiernotransparentechile.cl/directorio/entidad/12/173/per_contrata/A%EF%BF%BDo%202014/Octubre?x=0&y=0&page_number=2&sort=id&direction=asc',\n",
       " 'http://www.gobiernotransparentechile.cl/directorio/entidad/13/283/per_planta/A%EF%BF%BDo%202015/Julio',\n",
       " 'http://www.gobiernotransparentechile.cl/directorio/entidad/2/2/per_planta/2014/Marzo?x=0&y=0&page_number=3&sort=id&direction=asc',\n",
       " 'http://www.gobiernotransparentechile.cl/directorio/entidad/2/8/per_planta/2013/Febrero',\n",
       " 'http://www.gobiernotransparentechile.cl/directorio/entidad/2/2/per_contrata/2013/Abril?x=0&y=0&page_number=3&sort=id&direction=asc',\n",
       " 'http://www.gobiernotransparentechile.cl/directorio/entidad/11/159/per_contrata/DICIEMBRE?x=0&y=0&page_number=20&sort=id&direction=asc',\n",
       " 'http://www.gobiernotransparentechile.cl/directorio/entidad/10/146/per_contrata/Ao-2014?x=0&y=0&page_number=79&sort=id&direction=asc',\n",
       " 'http://www.gobiernotransparentechile.cl/directorio/entidad/12/175/per_planta/Ao-2011',\n",
       " 'http://www.gobiernotransparentechile.cl/directorio/entidad/10/146/per_planta/Ao-2008?x=0&y=0&page_number=6&sort=id&direction=asc',\n",
       " 'http://www.gobiernotransparentechile.cl/directorio/entidad/19/271/per_contrata/A%C3%B1o%202012/A%C3%B1o%202012%20-%20Enero',\n",
       " 'http://www.gobiernotransparentechile.cl/directorio/entidad/2/2/per_planta/2010/Noviembre',\n",
       " 'http://www.gobiernotransparentechile.cl/directorio/entidad/12/167/per_contrata/A%C3%B1o%202013/Septiembre?x=0&y=0&page_number=2&sort=id&direction=asc',\n",
       " 'http://www.gobiernotransparentechile.cl/directorio/entidad/12/173/per_contrata/A%EF%BF%BDo%202013/Mayo?x=0&y=0&page_number=2&sort=id&direction=asc',\n",
       " 'http://www.gobiernotransparentechile.cl/directorio/entidad/2/2/per_contrata/2015/Marzo?x=0&y=0&page_number=4&sort=id&direction=asc',\n",
       " 'http://www.gobiernotransparentechile.cl/directorio/entidad/8/138/per_contrata/A%C3%B1o%202008/Mayo?x=0&y=0&page_number=2&sort=id&direction=asc',\n",
       " 'http://www.gobiernotransparentechile.cl/directorio/entidad/12/169/per_contrata/Ao-2016?x=0&y=0&page_number=18&sort=id&direction=asc',\n",
       " 'http://www.gobiernotransparentechile.cl/directorio/entidad/12/171/per_contrata/A%C3%B1o%202016/Marzo?x=0&y=0&page_number=15&sort=id&direction=asc',\n",
       " 'http://www.gobiernotransparentechile.cl/directorio/entidad/2/2/per_contrata/2015/Marzo?x=0&y=0&page_number=3&sort=id&direction=asc',\n",
       " 'http://www.gobiernotransparentechile.cl/directorio/entidad/13/179/per_contrata/A%EF%BF%BDo%202012/Diciembre',\n",
       " 'http://www.gobiernotransparentechile.cl/directorio/entidad/2/6/per_contrata/2012/Abril',\n",
       " 'http://www.gobiernotransparentechile.cl/directorio/entidad/2/8/per_contrata/2013/Abril',\n",
       " 'http://www.gobiernotransparentechile.cl/directorio/entidad/12/173/per_contrata/A%EF%BF%BDo%202011/Mayo?x=0&y=0&page_number=5&sort=id&direction=asc',\n",
       " 'http://www.gobiernotransparentechile.cl/directorio/entidad/13/179/per_planta/A%EF%BF%BDo%202014/Noviembre',\n",
       " 'http://www.gobiernotransparentechile.cl/directorio/entidad/19/271/per_contrata/A%C3%B1o%202016/A%C3%B1o%202016%20-%20Marzo?x=0&y=0&page_number=3&sort=id&direction=asc',\n",
       " 'http://www.gobiernotransparentechile.cl/directorio/entidad/12/167/per_contrata/A%C3%B1o%202010/Julio',\n",
       " 'http://www.gobiernotransparentechile.cl/directorio/entidad/12/170/per_contrata/-Octubre',\n",
       " 'http://www.gobiernotransparentechile.cl/directorio/entidad/12/171/per_contrata/A%C3%B1o%202016/Septiembre?x=0&y=0&page_number=8&sort=id&direction=asc',\n",
       " 'http://www.gobiernotransparentechile.cl/directorio/entidad/11/156/per_contrata/Ao-2006?x=0&y=0&page_number=2&sort=id&direction=asc',\n",
       " 'http://www.gobiernotransparentechile.cl/directorio/entidad/12/170/per_planta/-Septiembre',\n",
       " 'http://www.gobiernotransparentechile.cl/directorio/entidad/12/170/per_contrata/-Octubre?x=0&y=0&page_number=3&sort=id&direction=asc',\n",
       " 'http://www.gobiernotransparentechile.cl/directorio/entidad/2/2/per_planta/2010/Octubre?x=0&y=0&page_number=4&sort=id&direction=asc',\n",
       " 'http://www.gobiernotransparentechile.cl/directorio/entidad/2/2/per_contrata/2015/Septiembre?x=0&y=0&page_number=3&sort=id&direction=asc',\n",
       " 'http://www.gobiernotransparentechile.cl/directorio/entidad/12/167/per_contrata/A%C3%B1o%202010/Marzo',\n",
       " 'http://www.gobiernotransparentechile.cl/directorio/entidad/11/156/per_contrata/Ao-2016',\n",
       " 'http://www.gobiernotransparentechile.cl/directorio/entidad/12/169/per_planta/Ao-2006?x=0&y=0&page_number=12&sort=id&direction=asc',\n",
       " 'http://www.gobiernotransparentechile.cl/directorio/entidad/12/167/per_planta/A%C3%B1o%202016/Julio',\n",
       " 'http://www.gobiernotransparentechile.cl/directorio/entidad/8/136/per_planta/Ao-2009',\n",
       " 'http://www.gobiernotransparentechile.cl/directorio/entidad/19/271/per_contrata/A%C3%B1o%202013/A%C3%B1o%202013%20-%20Enero?x=0&y=0&page_number=4&sort=id&direction=asc',\n",
       " 'http://www.gobiernotransparentechile.cl/directorio/entidad/12/173/per_contrata/A%EF%BF%BDo%202012/Septiembre?x=0&y=0&page_number=4&sort=id&direction=asc',\n",
       " 'http://www.gobiernotransparentechile.cl/directorio/entidad/12/167/per_contrata/A%C3%B1o%202015/Junio',\n",
       " 'http://www.gobiernotransparentechile.cl/directorio/entidad/2/2/per_planta/2014/Junio?x=0&y=0&page_number=2&sort=id&direction=asc',\n",
       " 'http://www.gobiernotransparentechile.cl/directorio/entidad/9/348/per_contrata/A%C3%B1o%202013/Diciembre?x=0&y=0&page_number=3&sort=id&direction=asc',\n",
       " 'http://www.gobiernotransparentechile.cl/directorio/entidad/12/169/per_planta/Ao-2007?x=0&y=0&page_number=2&sort=id&direction=asc',\n",
       " 'http://www.gobiernotransparentechile.cl/directorio/entidad/2/2/per_planta/2009/Mayo?x=0&y=0&page_number=4&sort=id&direction=asc',\n",
       " 'http://www.gobiernotransparentechile.cl/directorio/entidad/2/11/per_planta/2012/Marzo',\n",
       " 'http://www.gobiernotransparentechile.cl/directorio/entidad/9/145/per_contrata/A%C3%B1o%202016/Abril',\n",
       " 'http://www.gobiernotransparentechile.cl/directorio/entidad/8/139/per_contrata/A%C3%B1o%202014/Abril?x=0&y=0&page_number=4&sort=id&direction=asc',\n",
       " 'http://www.gobiernotransparentechile.cl/directorio/entidad/3/90/per_planta/Ao-2011',\n",
       " 'http://www.gobiernotransparentechile.cl/directorio/entidad/13/177/per_planta/A%EF%BF%BDo%202013/A%C3%B1o%202013%20Mayo',\n",
       " 'http://www.gobiernotransparentechile.cl/directorio/entidad/10/146/per_planta/Ao-2006?x=0&y=0&page_number=2&sort=id&direction=asc',\n",
       " 'http://www.gobiernotransparentechile.cl/directorio/entidad/12/169/per_contrata/Ao-2012?x=0&y=0&page_number=12&sort=id&direction=asc',\n",
       " 'http://www.gobiernotransparentechile.cl/directorio/entidad/12/171/per_contrata/A%C3%B1o%202016/Marzo?x=0&y=0&page_number=23&sort=id&direction=asc',\n",
       " 'http://www.gobiernotransparentechile.cl/directorio/entidad/2/2/per_planta/2010/Agosto',\n",
       " 'http://www.gobiernotransparentechile.cl/directorio/entidad/4/285/per_contrata/2015/Abril',\n",
       " 'http://www.gobiernotransparentechile.cl/directorio/entidad/12/171/per_contrata/A%C3%B1o%202016/Agosto?x=0&y=0&page_number=20&sort=id&direction=asc',\n",
       " 'http://www.gobiernotransparentechile.cl/directorio/entidad/12/170/per_contrata/-Agosto',\n",
       " 'http://www.gobiernotransparentechile.cl/directorio/entidad/2/11/per_planta/2011/Abril',\n",
       " 'http://www.gobiernotransparentechile.cl/directorio/entidad/12/173/per_contrata/A%EF%BF%BDo%202011/Septiembre',\n",
       " 'http://www.gobiernotransparentechile.cl/directorio/entidad/13/179/per_contrata/A%EF%BF%BDo%202015/Noviembre?x=0&y=0&page_number=2&sort=id&direction=asc',\n",
       " 'http://www.gobiernotransparentechile.cl/directorio/entidad/19/271/per_contrata/A%C3%B1o%202013/A%C3%B1o%202013%20-%20Junio',\n",
       " 'http://www.gobiernotransparentechile.cl/directorio/entidad/19/271/per_contrata/A%C3%B1o%202016/A%C3%B1o%202016%20-%20Mayo?x=0&y=0&page_number=4&sort=id&direction=asc',\n",
       " 'http://www.gobiernotransparentechile.cl/directorio/entidad/2/10/per_contrata/2012/Abril',\n",
       " 'http://www.gobiernotransparentechile.cl/directorio/entidad/10/146/per_contrata/Ao-2014?x=0&y=0&page_number=86&sort=id&direction=asc',\n",
       " ...]"
      ]
     },
     "execution_count": 10,
     "metadata": {},
     "output_type": "execute_result"
    }
   ],
   "source": [
    "retake_entity_urls"
   ]
  },
  {
   "cell_type": "markdown",
   "metadata": {},
   "source": [
    "### Open browser and re-scrape data "
   ]
  },
  {
   "cell_type": "code",
   "execution_count": 129,
   "metadata": {
    "collapsed": true
   },
   "outputs": [],
   "source": [
    "output_file = output_file = './output/retake_entity_0.csv'"
   ]
  },
  {
   "cell_type": "code",
   "execution_count": 131,
   "metadata": {
    "collapsed": false,
    "scrolled": true
   },
   "outputs": [],
   "source": [
    "if not os.path.isfile(output_file):\n",
    "    browser = webdriver.Firefox()\n",
    "    for url in retake_entity_urls[0:5]:\n",
    "        functions.getTableData2(output_file, url, browser)\n",
    "    "
   ]
  },
  {
   "cell_type": "code",
   "execution_count": 65,
   "metadata": {
    "collapsed": false
   },
   "outputs": [],
   "source": [
    "retake_entity_df = pd.read_csv(output_file, encoding='latin1', names=col_names)"
   ]
  },
  {
   "cell_type": "code",
   "execution_count": 66,
   "metadata": {
    "collapsed": false,
    "scrolled": true
   },
   "outputs": [
    {
     "data": {
      "text/plain": [
       "Ministerio del Trabajo y Previsión Social            75041\n",
       "b'Ministerio del Trabajo y Previsi\\xf3n Social'      50531\n",
       "Ministerio de Minería                                37565\n",
       "b'Ministerio de Obras P\\xfablicas'                   27766\n",
       "b'Ministerio del Interior y Seguridad P\\xfablica'    25799\n",
       "b'Ministerio de Educaci\\xf3n'                        19799\n",
       "b'Ministerio de Econom\\xeda, Fomento y Turismo'      14122\n",
       "b'Ministerio de Justicia'                            12252\n",
       "b'Ministerio de Desarrollo Social'                    9425\n",
       "b'Ministerio de Defensa Nacional'                     4552\n",
       "Ministerio de Energía                                 4545\n",
       "Ministerio de Desarrollo Social                       4113\n",
       "Ministerio de Educación                               3450\n",
       "Ministerio de Justicia                                3168\n",
       "Ministerio de Economía, Fomento y Turismo             3124\n",
       "b'Ministerio de Salud'                                3089\n",
       "Ministerio del Interior y Seguridad Pública           2225\n",
       "b'Ministerio de Relaciones Exteriores'                1901\n",
       "Ministerio de Defensa Nacional                        1359\n",
       "Consejo Nacional de Televisión                        1239\n",
       "b'Ministerio de Energ\\xeda'                           1204\n",
       "b'Ministerio de Miner\\xeda'                            630\n",
       "Ministerio de Relaciones Exteriores                    581\n",
       "Ministerio de Obras Públicas                           381\n",
       "b'Ministerio de Transporte y Telecomunicaciones'       304\n",
       "Ministerio de Transporte y Telecomunicaciones          206\n",
       "b'Ministerio Secretar\\xeda General de Gobierno'        100\n",
       "Ministerio Secretaría General de Gobierno               45\n",
       "b'Consejo Nacional de Televisi\\xf3n'                    39\n",
       "Name: entity, dtype: int64"
      ]
     },
     "execution_count": 66,
     "metadata": {},
     "output_type": "execute_result"
    }
   ],
   "source": [
    "retake_entity_df.entity.value_counts()"
   ]
  },
  {
   "cell_type": "code",
   "execution_count": null,
   "metadata": {
    "collapsed": true
   },
   "outputs": [],
   "source": [
    "cleanLatin(retake_entity_df)"
   ]
  },
  {
   "cell_type": "markdown",
   "metadata": {},
   "source": [
    "### Let's delete the corresponding rows and add the new ones "
   ]
  },
  {
   "cell_type": "code",
   "execution_count": 118,
   "metadata": {
    "collapsed": false
   },
   "outputs": [
    {
     "name": "stdout",
     "output_type": "stream",
     "text": [
      "(308555, 22)\n",
      "(310284, 22)\n"
     ]
    }
   ],
   "source": [
    "retake_entity_df['filename'] = 'retake_entity_0.csv'\n",
    "print(retake_entity_df.shape)\n",
    "print(dfscraped[dfscraped.entity.isin(retake_entity)].shape)\n",
    "dfscraped = dfscraped[~dfscraped.entity.isin(retake_entity)]\n",
    "dfscraped = pd.concat([dfscraped, retake_entity_df])\n",
    "dfscraped.shape"
   ]
  },
  {
   "cell_type": "code",
   "execution_count": 120,
   "metadata": {
    "collapsed": false,
    "scrolled": true
   },
   "outputs": [
    {
     "data": {
      "text/plain": [
       "Ministerio de Justicia                             352410\n",
       "Ministerio del Trabajo y Previsión Social          239184\n",
       "Ministerio de Obras Públicas                       211615\n",
       "Ministerio de Vivienda y Urbanismo                 196956\n",
       "Ministerio de Educación                            152000\n",
       "Ministerio de Economía, Fomento y Turismo          109405\n",
       "Ministerio de Desarrollo Social                     98317\n",
       "entity                                              92509\n",
       "Ministerio del Interior y Seguridad Pública         81918\n",
       "Ministerio de Defensa Nacional                      69906\n",
       "Consejo de Defensa del Estado                       52169\n",
       "Ministerio de Agricultura                           44494\n",
       "Ministerio del Interior y Seguridad Pblica          40850\n",
       "Ministerio de Minería                               38195\n",
       "Presidencia de la República                         27483\n",
       "Ministerio de Relaciones Exteriores                 23776\n",
       "Ministerio Secretaría General de la Presidencia     13534\n",
       "presidencia_de_la_republica                          9215\n",
       "Ministerio de Bienes Nacionales                      6584\n",
       "Ministerio del Deporte                               6236\n",
       "Ministerio del Medio Ambiente                        6172\n",
       "Ministerio de Energía                                5749\n",
       "Ministerio Secretaría General de Gobierno            4806\n",
       "Consejo Nacional de la Cultura y las Artes           3922\n",
       "Ministerio de Transporte y Telecomunicaciones        3726\n",
       "Ministerio de Salud                                  3089\n",
       "Consejo Nacional de Televisión                       1278\n",
       "Presidencia de la Repblica                            142\n",
       "32.0                                                   20\n",
       "35.0                                                   20\n",
       "                                                    ...  \n",
       "70.0                                                   16\n",
       "75.0                                                   15\n",
       "77.0                                                   15\n",
       "76.0                                                   15\n",
       "74.0                                                   15\n",
       "73.0                                                   15\n",
       "72.0                                                   15\n",
       "71.0                                                   15\n",
       "78.0                                                   14\n",
       "79.0                                                   14\n",
       "80.0                                                   13\n",
       "82.0                                                   12\n",
       "87.0                                                   12\n",
       "83.0                                                   12\n",
       "81.0                                                   12\n",
       "88.0                                                   12\n",
       "86.0                                                   12\n",
       "85.0                                                   12\n",
       "84.0                                                   12\n",
       "89.0                                                   11\n",
       "90.0                                                   11\n",
       "92.0                                                   11\n",
       "93.0                                                   11\n",
       "94.0                                                   11\n",
       "95.0                                                   11\n",
       "96.0                                                   11\n",
       "97.0                                                   11\n",
       "98.0                                                   11\n",
       "99.0                                                   11\n",
       "91.0                                                   11\n",
       "Name: entity, dtype: int64"
      ]
     },
     "execution_count": 120,
     "metadata": {},
     "output_type": "execute_result"
    }
   ],
   "source": [
    "dfscraped.entity.value_counts()"
   ]
  },
  {
   "cell_type": "markdown",
   "metadata": {},
   "source": [
    "### Two entities that signal missing vowels "
   ]
  },
  {
   "cell_type": "code",
   "execution_count": 158,
   "metadata": {
    "collapsed": false
   },
   "outputs": [
    {
     "data": {
      "text/plain": [
       "['Ministerio del Interior y Seguridad Pblica', 'Presidencia de la Repblica']"
      ]
     },
     "execution_count": 158,
     "metadata": {},
     "output_type": "execute_result"
    }
   ],
   "source": [
    "retake_entity = list(dfscraped[dfscraped.entity.str.contains(\"b'\", na=False)].entity.value_counts().index)\n",
    "retake_entity = retake_entity + list(dfscraped[dfscraped.entity.str.contains(\"Ã\", na=False)].entity.value_counts().index)\n",
    "retake_entity = retake_entity + list(dfscraped[dfscraped.entity.str.contains(\"Ã­\", na=False)].entity.value_counts().index)\n",
    "retake_entity = retake_entity + ['Ministerio del Interior y Seguridad Pblica', 'Presidencia de la Repblica']  \n",
    "print retake_entity\n",
    "print('Total Urls', dfscraped.url.nunique())\n",
    "print('Urls to retake', dfscraped[dfscraped.entity.isin(retake_entity)].url.nunique())\n",
    "retake_entity_urls = []\n",
    "for u in list(set(dfscraped.ix[dfscraped.entity.isin(retake_entity), 'url'].unique())):\n",
    "    if str(u) != 'nan':\n",
    "        if \"b'\" in u:\n",
    "            u = u[2:]\n",
    "        if u[-1] == \"'\":\n",
    "            u = u[:len(u)-1]\n",
    "        retake_entity_urls.append(u)\n",
    "len(retake_entity_urls)"
   ]
  },
  {
   "cell_type": "code",
   "execution_count": 159,
   "metadata": {
    "collapsed": false
   },
   "outputs": [
    {
     "name": "stdout",
     "output_type": "stream",
     "text": [
      "Total Urls 19208\n",
      "Urls to retake 445\n"
     ]
    }
   ],
   "source": []
  },
  {
   "cell_type": "code",
   "execution_count": 160,
   "metadata": {
    "collapsed": false
   },
   "outputs": [
    {
     "data": {
      "text/plain": [
       "445"
      ]
     },
     "execution_count": 160,
     "metadata": {},
     "output_type": "execute_result"
    }
   ],
   "source": []
  },
  {
   "cell_type": "code",
   "execution_count": 154,
   "metadata": {
    "collapsed": true
   },
   "outputs": [],
   "source": [
    "output_file = output_file = './output/retake_entity_1.csv'"
   ]
  },
  {
   "cell_type": "code",
   "execution_count": 155,
   "metadata": {
    "collapsed": false
   },
   "outputs": [],
   "source": [
    "if not os.path.isfile(output_file):\n",
    "    browser = webdriver.Firefox()\n",
    "    for url in tqdm_notebook(retake_entity_urls):\n",
    "        functions.getTableData2(output_file, url, browser)\n",
    "    "
   ]
  },
  {
   "cell_type": "code",
   "execution_count": 156,
   "metadata": {
    "collapsed": false
   },
   "outputs": [
    {
     "data": {
      "text/plain": [
       "b'Ministerio del Interior y Seguridad P\\xfablica'    19800\n",
       "Ministerio del Interior y Seguridad Pública            258\n",
       "b'Presidencia de la Rep\\xfablica'                      142\n",
       "Presidencia de la República                             89\n",
       "Name: entity, dtype: int64"
      ]
     },
     "execution_count": 156,
     "metadata": {},
     "output_type": "execute_result"
    }
   ],
   "source": [
    "retake_entity_df = pd.read_csv(output_file, encoding='latin1', names=col_names)\n",
    "retake_entity_df.entity.value_counts()"
   ]
  },
  {
   "cell_type": "code",
   "execution_count": 157,
   "metadata": {
    "collapsed": false
   },
   "outputs": [
    {
     "name": "stdout",
     "output_type": "stream",
     "text": [
      "\n",
      "\n",
      "\n",
      "\n"
     ]
    },
    {
     "data": {
      "text/plain": [
       "Ministerio del Interior y Seguridad Pública    20058\n",
       "Presidencia de la República                      231\n",
       "Name: entity, dtype: int64"
      ]
     },
     "execution_count": 157,
     "metadata": {},
     "output_type": "execute_result"
    }
   ],
   "source": [
    "cleanLatin(retake_entity_df)\n",
    "retake_entity_df.entity.value_counts()"
   ]
  },
  {
   "cell_type": "code",
   "execution_count": 161,
   "metadata": {
    "collapsed": false
   },
   "outputs": [
    {
     "name": "stdout",
     "output_type": "stream",
     "text": [
      "(20289, 22)\n",
      "(40992, 22)\n"
     ]
    },
    {
     "data": {
      "text/plain": [
       "(1876703, 22)"
      ]
     },
     "execution_count": 161,
     "metadata": {},
     "output_type": "execute_result"
    }
   ],
   "source": [
    "retake_entity_df['filename'] = 'retake_entity_1.csv'\n",
    "print(retake_entity_df.shape)\n",
    "print(dfscraped[dfscraped.entity.isin(retake_entity)].shape)\n",
    "dfscraped = dfscraped[~dfscraped.entity.isin(retake_entity)]\n",
    "dfscraped = pd.concat([dfscraped, retake_entity_df])\n",
    "dfscraped.shape"
   ]
  },
  {
   "cell_type": "code",
   "execution_count": 163,
   "metadata": {
    "collapsed": false,
    "scrolled": true
   },
   "outputs": [
    {
     "data": {
      "text/plain": [
       "Ministerio de Justicia                             352410\n",
       "Ministerio del Trabajo y Previsión Social          239184\n",
       "Ministerio de Obras Públicas                       211615\n",
       "Ministerio de Vivienda y Urbanismo                 196956\n",
       "Ministerio de Educación                            152000\n",
       "Ministerio de Economía, Fomento y Turismo          109405\n",
       "Ministerio del Interior y Seguridad Pública        101976\n",
       "Ministerio de Desarrollo Social                     98317\n",
       "entity                                              92509\n",
       "Ministerio de Defensa Nacional                      69906\n",
       "Consejo de Defensa del Estado                       52169\n",
       "Ministerio de Agricultura                           44494\n",
       "Ministerio de Minería                               38195\n",
       "Presidencia de la República                         27714\n",
       "Ministerio de Relaciones Exteriores                 23776\n",
       "Ministerio Secretaría General de la Presidencia     13534\n",
       "presidencia_de_la_republica                          9215\n",
       "Ministerio de Bienes Nacionales                      6584\n",
       "Ministerio del Deporte                               6236\n",
       "Ministerio del Medio Ambiente                        6172\n",
       "Ministerio de Energía                                5749\n",
       "Ministerio Secretaría General de Gobierno            4806\n",
       "Consejo Nacional de la Cultura y las Artes           3922\n",
       "Ministerio de Transporte y Telecomunicaciones        3726\n",
       "Ministerio de Salud                                  3089\n",
       "Consejo Nacional de Televisión                       1278\n",
       "37.0                                                   20\n",
       "27.0                                                   20\n",
       "28.0                                                   20\n",
       "29.0                                                   20\n",
       "                                                    ...  \n",
       "70.0                                                   16\n",
       "75.0                                                   15\n",
       "77.0                                                   15\n",
       "76.0                                                   15\n",
       "74.0                                                   15\n",
       "73.0                                                   15\n",
       "72.0                                                   15\n",
       "71.0                                                   15\n",
       "78.0                                                   14\n",
       "79.0                                                   14\n",
       "80.0                                                   13\n",
       "82.0                                                   12\n",
       "87.0                                                   12\n",
       "83.0                                                   12\n",
       "81.0                                                   12\n",
       "88.0                                                   12\n",
       "86.0                                                   12\n",
       "85.0                                                   12\n",
       "84.0                                                   12\n",
       "89.0                                                   11\n",
       "90.0                                                   11\n",
       "92.0                                                   11\n",
       "93.0                                                   11\n",
       "94.0                                                   11\n",
       "95.0                                                   11\n",
       "96.0                                                   11\n",
       "97.0                                                   11\n",
       "98.0                                                   11\n",
       "99.0                                                   11\n",
       "91.0                                                   11\n",
       "Name: entity, dtype: int64"
      ]
     },
     "execution_count": 163,
     "metadata": {},
     "output_type": "execute_result"
    }
   ],
   "source": [
    "dfscraped.entity.value_counts()"
   ]
  },
  {
   "cell_type": "code",
   "execution_count": 167,
   "metadata": {
    "collapsed": false,
    "scrolled": true
   },
   "outputs": [
    {
     "data": {
      "text/plain": [
       "1161960     - FUNCIONARIO PERCIBE ASIGNACION DE FUNCION C...\n",
       "1161962     - FUNCIONARIO PERCIBE ASIGNACION DE FUNCION C...\n",
       "1161964     - FUNCIONARIO PERCIBE ASIGNACION DE FUNCION C...\n",
       "1162023     - FUNCIONARIO PERCIBE ASIGNACION DE FUNCION C...\n",
       "1162079     - FUNCIONARIO PERCIBE ASIGNACION DE FUNCION C...\n",
       "1162085     - FUNCIONARIO PERCIBE ASIGNACION DE FUNCION C...\n",
       "1162143     - FUNCIONARIO PERCIBE ASIGNACIÓN DE FUNCIÓN C...\n",
       "1162145     - FUNCIONARIO PERCIBE ASIGNACIÓN DE FUNCIÓN C...\n",
       "1162146     - FUNCIONARIO PERCIBE ASIGNACIÓN DE FUNCIÓN C...\n",
       "1162150     - FUNCIONARIO PERCIBE ASIGNACIÓN DE FUNCIÓN C...\n",
       "1162162     - FUNCIONARIO SE ENCUENTRA EN COMISIÓN DE SER...\n",
       "1167886     - FUNCIONARIO PERCIBE ASIGNACION DE FUNCION C...\n",
       "1167887     - FUNCIONARIO PERCIBE ASIGNACION DE FUNCION C...\n",
       "1167888     - FUNCIONARIO PERCIBE ASIGNACION DE FUNCION C...\n",
       "1167889     - FUNCIONARIO PERCIBE ASIGNACION DE FUNCION C...\n",
       "1167890     - FUNCIONARIO PERCIBE ASIGNACION DE FUNCION C...\n",
       "1167891     - FUNCIONARIO PERCIBE ASIGNACION DE FUNCION C...\n",
       "1167892     - FUNCIONARIO PERCIBE ASIGNACION DE FUNCION C...\n",
       "1167893     - FUNCIONARIO PERCIBE ASIGNACION DE FUNCION C...\n",
       "1167895     - FUNCIONARIO PERCIBE ASIGNACION DE FUNCION C...\n",
       "1167897     - FUNCIONARIO PERCIBE ASIGNACION DE FUNCION C...\n",
       "1167900     - FUNCIONARIO PERCIBE ASIGNACION DE FUNCION C...\n",
       "1167903     - FUNCIONARIO PERCIBE ASIGNACION DE FUNCION C...\n",
       "1167904     - FUNCIONARIO PERCIBE ASIGNACION DE FUNCION C...\n",
       "1167927     - FUNCIONARIO PERCIBE ASIGNACION DE FUNCION C...\n",
       "1167937     - FUNCIONARIO CONTRATADO COMO EXPERTO DECRETO...\n",
       "1167940     - FUNCIONARIO PERCIBE ASIGNACION DE FUNCION C...\n",
       "1167983     - FUNCIONARIO PERCIBE ASIGNACION DE FUNCION C...\n",
       "1168028     - FUNCIONARIO CONTRATADO COMO EXPERTO DECRETO...\n",
       "1168033     - FUNCIONARIO CONSERVA CARGO EN LA PLANTA DE:...\n",
       "                                 ...                        \n",
       "1220032     - FUNCIONARIO PERCIBE ASIGNACIÓN DE FUNCIÓN C...\n",
       "1220033     - FUNCIONARIO PERCIBE ASIGNACIÓN DE FUNCIÓN C...\n",
       "1220035     - FUNCIONARIO PERCIBE ASIGNACIÓN DE FUNCIÓN C...\n",
       "1220037     - FUNCIONARIO PERCIBE ASIGNACIÓN DE FUNCIÓN C...\n",
       "1220048     - FUNCIONARIO PERCIBE ASIGNACIÓN DE FUNCIÓN C...\n",
       "1220059     - FUNCIONARIO PERCIBE ASIGNACIÓN DE FUNCIÓN C...\n",
       "1220064     - FUNCIONARIO PERCIBE ASIGNACIÓN DE FUNCIÓN C...\n",
       "1220069     - FUNCIONARIO PERCIBE ASIGNACIÓN DE FUNCIÓN C...\n",
       "1220088     - FUNCIONARIO PERCIBE ASIGNACIÓN DE FUNCIÓN C...\n",
       "1220090     - FUNCIONARIO PERCIBE ASIGNACIÓN DE FUNCIÓN C...\n",
       "1220094     - FUNCIONARIO PERCIBE ASIGNACIÓN DE FUNCIÓN C...\n",
       "1220095     - FUNCIONARIO PERCIBE ASIGNACIÓN DE FUNCIÓN C...\n",
       "1220098     - FUNCIONARIO PERCIBE ASIGNACIÓN DE FUNCIÓN C...\n",
       "1220115     - FUNCIONARIO PERCIBE ASIGNACIÓN DE FUNCIÓN C...\n",
       "1220116     - FUNCIONARIO PERCIBE ASIGNACIÓN DE FUNCIÓN C...\n",
       "1220137     - FUNCIONARIO PERCIBE ASIGNACIÓN DE FUNCIÓN C...\n",
       "1220146     - FUNCIONARIO PERCIBE ASIGNACIÓN DE FUNCIÓN C...\n",
       "1220149     - FUNCIONARIO PERCIBE ASIGNACIÓN DE FUNCIÓN C...\n",
       "1220151     - FUNCIONARIO POR SU FECHA DE INICIO DE CONTR...\n",
       "1220180     - FUNCIONARIO PERCIBE ASIGNACIÓN DE FUNCIÓN C...\n",
       "1220200     - FUNCIONARIO PERCIBE ASIGNACIÓN DE FUNCIÓN C...\n",
       "1220308     - FUNCIONARIO PERCIBE ASIGNACIÓN DE FUNCIÓN C...\n",
       "1220325     - FUNCIONARIO PERCIBE ASIGNACIÓN DE FUNCIÓN C...\n",
       "1220376     - FUNCIONARIO PERCIBE ASIGNACIÓN DE FUNCIÓN C...\n",
       "1220496     - FUNCIONARIO CONSERVA CARGO EN LA PLANTA DE:...\n",
       "1221093     - FUNCIONARIO POR SU FECHA DE INICIO DE CONTR...\n",
       "1221168     - FUNCIONARIO POR SU FECHA DE INICIO DE CONTR...\n",
       "1221778     - FUNCIONARIO POR SU FECHA DE INICIO DE CONTR...\n",
       "1221957     - FUNCIONARIO POR SU FECHA DE INICIO DE CONTR...\n",
       "1222454     - FUNCIONARIO POR SU FECHA DE INICIO DE CONTR...\n",
       "Name: url, dtype: object"
      ]
     },
     "execution_count": 167,
     "metadata": {},
     "output_type": "execute_result"
    }
   ],
   "source": [
    "dfscraped.ix[(dfscraped.entity == 'entity') & (dfscraped.url.str.contains('FUNCIONARIO')), 'url']"
   ]
  },
  {
   "cell_type": "code",
   "execution_count": 168,
   "metadata": {
    "collapsed": false
   },
   "outputs": [
    {
     "data": {
      "text/plain": [
       "'\\xa0- FUNCIONARIO PERCIBE ASIGNACION DE FUNCION CRITICA DE UN:39.1%'"
      ]
     },
     "execution_count": 168,
     "metadata": {},
     "output_type": "execute_result"
    }
   ],
   "source": [
    "dfscraped.ix[1161960, 'url']"
   ]
  },
  {
   "cell_type": "code",
   "execution_count": null,
   "metadata": {
    "collapsed": true
   },
   "outputs": [],
   "source": []
  },
  {
   "cell_type": "code",
   "execution_count": null,
   "metadata": {
    "collapsed": true
   },
   "outputs": [],
   "source": []
  },
  {
   "cell_type": "code",
   "execution_count": 195,
   "metadata": {
    "collapsed": false
   },
   "outputs": [],
   "source": [
    "# Clean Salary\n",
    "dfscraped.salary = dfscraped.salary.str.replace('.', '')\n",
    "\n",
    "# Drop duplicates and write new\n",
    "dfscraped_clean = dfscraped.drop_duplicates()"
   ]
  },
  {
   "cell_type": "markdown",
   "metadata": {},
   "source": [
    "# Write clean file "
   ]
  },
  {
   "cell_type": "code",
   "execution_count": 170,
   "metadata": {
    "collapsed": false
   },
   "outputs": [
    {
     "name": "stdout",
     "output_type": "stream",
     "text": [
      "(1876703, 22)\n",
      "(1815944, 22)\n"
     ]
    }
   ],
   "source": [
    "\n",
    "print(dfscraped.shape)\n",
    "print(dfscraped_clean.shape)\n",
    "dfscraped_clean.to_csv('./output/scraped_data_clean.csv')"
   ]
  },
  {
   "cell_type": "markdown",
   "metadata": {},
   "source": [
    "# Some stats "
   ]
  },
  {
   "cell_type": "code",
   "execution_count": 204,
   "metadata": {
    "collapsed": true
   },
   "outputs": [],
   "source": [
    "# Be able to get first stats in Ministerio de Justicia"
   ]
  },
  {
   "cell_type": "code",
   "execution_count": null,
   "metadata": {
    "collapsed": true
   },
   "outputs": [],
   "source": []
  }
 ],
 "metadata": {
  "anaconda-cloud": {},
  "kernelspec": {
   "display_name": "Python [default]",
   "language": "python",
   "name": "python3"
  },
  "language_info": {
   "codemirror_mode": {
    "name": "ipython",
    "version": 3
   },
   "file_extension": ".py",
   "mimetype": "text/x-python",
   "name": "python",
   "nbconvert_exporter": "python",
   "pygments_lexer": "ipython3",
   "version": "3.5.2"
  },
  "widgets": {
   "state": {
    "2f37820aaf914792af6db79bba893d7f": {
     "views": [
      {
       "cell_index": 17
      }
     ]
    },
    "46557e2596b14f56a074472139b09955": {
     "views": [
      {
       "cell_index": 31
      }
     ]
    },
    "6c209c89b67240169a1dbfa18f999c64": {
     "views": [
      {
       "cell_index": 17
      }
     ]
    },
    "856b84142d0b470db0b2ace7442754cd": {
     "views": [
      {
       "cell_index": 29
      }
     ]
    },
    "a125e78557a3403d8f153f8911455271": {
     "views": [
      {
       "cell_index": 29
      }
     ]
    },
    "a1bb9b11d6c74a869fcfd9be5e674b12": {
     "views": [
      {
       "cell_index": 29
      }
     ]
    },
    "a438d9060701489096556352bc7e9428": {
     "views": [
      {
       "cell_index": 31
      }
     ]
    },
    "c723a72f4de340f6b897f50d36af7162": {
     "views": [
      {
       "cell_index": 29
      }
     ]
    }
   },
   "version": "1.2.0"
  }
 },
 "nbformat": 4,
 "nbformat_minor": 1
}
