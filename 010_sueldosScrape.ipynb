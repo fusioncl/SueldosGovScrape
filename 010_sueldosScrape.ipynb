{
 "cells": [
  {
   "cell_type": "markdown",
   "metadata": {
    "collapsed": true
   },
   "source": [
    "# Web Scraping Gobierno Transparente Chile\n",
    "##### Exploring wage expenses in the goberment. Public information."
   ]
  },
  {
   "cell_type": "markdown",
   "metadata": {},
   "source": [
    "Beautiful soup did not work. The server time outs when you connect through bsoup.\n",
    "\n",
    "## Trying Selenium"
   ]
  },
  {
   "cell_type": "code",
   "execution_count": 5,
   "metadata": {},
   "outputs": [
    {
     "data": {
      "text/html": [
       "<style>.container { width:100% !important; }</style>"
      ],
      "text/plain": [
       "<IPython.core.display.HTML object>"
      ]
     },
     "metadata": {},
     "output_type": "display_data"
    }
   ],
   "source": [
    "import pandas as pd\n",
    "import numpy as np\n",
    "import unicodedata\n",
    "from selenium import webdriver\n",
    "from selenium.common.exceptions import NoSuchElementException\n",
    "\n",
    "import csv\n",
    "\n",
    "import sys\n",
    "sys.path.append('./lib/')\n",
    "\n",
    "import functions\n",
    "from functions import *\n",
    "from tqdm import tnrange, tqdm_notebook\n",
    "from unidecode import unidecode\n",
    "\n",
    "from IPython.core.display import display, HTML\n",
    "display(HTML(\"<style>.container { width:100% !important; }</style>\"))\n",
    "\n",
    "import lxml.html\n",
    "import lxml\n",
    "\n",
    "%load_ext autoreload\n",
    "\n",
    "%autoreload 2"
   ]
  },
  {
   "cell_type": "markdown",
   "metadata": {},
   "source": [
    "#  Parameters"
   ]
  },
  {
   "cell_type": "markdown",
   "metadata": {},
   "source": [
    "# OPTIONAL Gather data already scraped, before re-run"
   ]
  },
  {
   "cell_type": "code",
   "execution_count": 12,
   "metadata": {},
   "outputs": [
    {
     "name": "stdout",
     "output_type": "stream",
     "text": [
      "(44783, 21)\n",
      "(25227, 21)\n",
      "(50586, 20)\n",
      "(3145, 20)\n",
      "(36591, 20)\n",
      "(15300, 20)\n"
     ]
    }
   ],
   "source": [
    "df_scraped_1 = pd.read_csv('./output/scraped_data_20170214.csv', encoding='latin_1', header=None, index_col=0, low_memory=False)\n",
    "print(df_scraped_1.shape)\n",
    "df_scraped_2 = pd.read_csv('./output/scraped_data_20170212.csv', encoding='latin_1', header=None, index_col=0, low_memory=False)\n",
    "print(df_scraped_2.shape)\n",
    "df_scraped_3 = pd.read_csv('./output/scraped_data_20170215.csv', encoding='latin_1', header=None, index_col=0, low_memory=False)\n",
    "print(df_scraped_3.shape)\n",
    "df_scraped_4 = pd.read_csv('./output/scraped_data_20170215-1.csv', encoding='latin_1', header=None, index_col=0, low_memory=False)\n",
    "print(df_scraped_4.shape)\n",
    "df_scraped_5 = pd.read_csv('./output/scraped_data_20170216.csv', encoding='latin_1', header=None, index_col=0, low_memory=False)\n",
    "print(df_scraped_5.shape)\n",
    "df_scraped_6 = pd.read_csv('./output/scraped_data_20170221.csv', encoding='latin_1', header=None, index_col=0, low_memory=False)\n",
    "print(df_scraped_6.shape)"
   ]
  },
  {
   "cell_type": "code",
   "execution_count": 13,
   "metadata": {},
   "outputs": [
    {
     "data": {
      "text/plain": [
       "(114551, 21)"
      ]
     },
     "execution_count": 13,
     "metadata": {},
     "output_type": "execute_result"
    }
   ],
   "source": [
    "df_scraped = pd.concat([df_scraped_1, df_scraped_2, df_scraped_3, df_scraped_4, df_scraped_5, df_scraped_6]).drop_duplicates()\n",
    "df_scraped.shape"
   ]
  },
  {
   "cell_type": "code",
   "execution_count": 2,
   "metadata": {
    "collapsed": true
   },
   "outputs": [],
   "source": [
    "df_visited = []"
   ]
  },
  {
   "cell_type": "code",
   "execution_count": 3,
   "metadata": {
    "scrolled": true
   },
   "outputs": [
    {
     "name": "stdout",
     "output_type": "stream",
     "text": [
      "14746\n",
      "168\n",
      "482\n",
      "1797\n",
      "156\n",
      "1031\n",
      "11130\n"
     ]
    }
   ],
   "source": [
    "df_visited_1 = pd.read_csv('./output/log_opened_20170212.csv', header=None).ix[:,0].drop_duplicates().tolist()\n",
    "df_visited_2 = pd.read_csv('./output/log_opened_20170214.csv', header=None).ix[:,0].drop_duplicates().tolist()\n",
    "df_visited_3 = pd.read_csv('./output/log_opened_20170215.csv', header=None).ix[:,0].drop_duplicates().tolist()\n",
    "df_visited_4 = pd.read_csv('./output/log_opened_20170221.csv', header=None).ix[:,0].drop_duplicates().tolist()\n",
    "df_visited_5 = pd.read_csv('./output/log_opened_20170224.csv', header=None).ix[:,0].drop_duplicates().tolist()\n",
    "df_visited_6 = pd.read_csv('./output/log_opened_20170225.csv', header=None).ix[:,0].drop_duplicates().tolist()\n",
    "\n",
    "\n",
    "df_visited = list(set(df_visited_1 + df_visited_2 + df_visited_3 + df_visited_4 + df_visited_5 + df_visited_6))\n",
    "print(len(df_visited))\n",
    "print(len(df_visited_1))\n",
    "print(len(df_visited_2))\n",
    "print(len(df_visited_3))\n",
    "print(len(df_visited_4))\n",
    "print(len(df_visited_5))\n",
    "print(len(df_visited_6))\n",
    "\n",
    "\n"
   ]
  },
  {
   "cell_type": "markdown",
   "metadata": {},
   "source": [
    "# Main Scraping Run"
   ]
  },
  {
   "cell_type": "code",
   "execution_count": null,
   "metadata": {
    "scrolled": false
   },
   "outputs": [
    {
     "name": "stdout",
     "output_type": "stream",
     "text": [
      "Entities:\n",
      "['http://www.gobiernotransparentechile.cl/directorio/entidad/1', 'http://www.gobiernotransparentechile.cl/directorio/entidad/2', 'http://www.gobiernotransparentechile.cl/directorio/entidad/3', 'http://www.gobiernotransparentechile.cl/directorio/entidad/4', 'http://www.gobiernotransparentechile.cl/directorio/entidad/5', 'http://www.gobiernotransparentechile.cl/directorio/entidad/6', 'http://www.gobiernotransparentechile.cl/directorio/entidad/7', 'http://www.gobiernotransparentechile.cl/directorio/entidad/8', 'http://www.gobiernotransparentechile.cl/directorio/entidad/9', 'http://www.gobiernotransparentechile.cl/directorio/entidad/10', 'http://www.gobiernotransparentechile.cl/directorio/entidad/11', 'http://www.gobiernotransparentechile.cl/directorio/entidad/12', 'http://www.gobiernotransparentechile.cl/directorio/entidad/13', 'http://www.gobiernotransparentechile.cl/directorio/entidad/14', 'http://www.gobiernotransparentechile.cl/directorio/entidad/15', 'http://www.gobiernotransparentechile.cl/directorio/entidad/16', 'http://www.gobiernotransparentechile.cl/directorio/entidad/17', 'http://www.gobiernotransparentechile.cl/directorio/entidad/18', 'http://www.gobiernotransparentechile.cl/directorio/entidad/19', 'http://www.gobiernotransparentechile.cl/directorio/entidad/20', 'http://www.gobiernotransparentechile.cl/directorio/entidad/21', 'http://www.gobiernotransparentechile.cl/directorio/entidad/22', 'http://www.gobiernotransparentechile.cl/directorio/entidad/23', 'http://www.gobiernotransparentechile.cl/directorio/entidad/24', 'http://www.gobiernotransparentechile.cl/directorio/entidad/25', 'http://www.gobiernotransparentechile.cl/directorio/entidad/26', 'http://www.gobiernotransparentechile.cl/directorio/entidad/27']\n"
     ]
    },
    {
     "data": {
      "application/vnd.jupyter.widget-view+json": {
       "model_id": "59462d81ebc144cebe404c62ecfd9a46",
       "version_major": 2,
       "version_minor": 0
      },
      "text/plain": [
       "A Jupyter Widget"
      ]
     },
     "metadata": {},
     "output_type": "display_data"
    },
    {
     "name": "stdout",
     "output_type": "stream",
     "text": [
      "could not get breadcrumbs from http://www.gobiernotransparentechile.cl/directorio/entidad/1/1/per_planta/Ao-2006?x=0&y=0&page_number=5&sort=id&direction=asc\n",
      "could not get breadcrumbs from http://www.gobiernotransparentechile.cl/directorio/entidad/1/1/per_planta/Ao-2006?x=0&y=0&page_number=6&sort=id&direction=asc\n",
      "could not get pagination from http://www.gobiernotransparentechile.cl/directorio/entidad/1/1/per_contrata/Ao-2017\n",
      "could not get breadcrumbs from http://www.gobiernotransparentechile.cl/directorio/entidad/1/1/per_contrata/Ao-2017\n",
      "\n"
     ]
    },
    {
     "data": {
      "application/vnd.jupyter.widget-view+json": {
       "model_id": "76c315287ea045e483e26829b682c58c",
       "version_major": 2,
       "version_minor": 0
      },
      "text/plain": [
       "A Jupyter Widget"
      ]
     },
     "metadata": {},
     "output_type": "display_data"
    },
    {
     "name": "stdout",
     "output_type": "stream",
     "text": [
      "could not get pagination from http://www.interior.gov.cl/transparenciahistorico/sag/dotacionplanta.html\n",
      "could not get breadcrumbs from http://www.interior.gov.cl/transparenciahistorico/sag/dotacionplanta.html\n",
      "could not get pagination from http://www.interior.gov.cl/transparenciahistorico/sag/dotacioncontrata.html\n",
      "could not get breadcrumbs from http://www.interior.gov.cl/transparenciahistorico/sag/dotacioncontrata.html\n",
      "\n"
     ]
    },
    {
     "data": {
      "application/vnd.jupyter.widget-view+json": {
       "model_id": "2c5dc82b1d0a4a6f9ceab881104c7779",
       "version_major": 2,
       "version_minor": 0
      },
      "text/plain": [
       "A Jupyter Widget"
      ]
     },
     "metadata": {},
     "output_type": "display_data"
    },
    {
     "name": "stdout",
     "output_type": "stream",
     "text": [
      "could not get pagination from http://www.subdere.gov.cl/transparencia/dotacion_2008.html\n",
      "could not get breadcrumbs from http://www.subdere.gov.cl/transparencia/dotacion_2008.html\n",
      "could not get pagination from http://www.subdere.gov.cl/transparencia/dotacion_2007.html\n",
      "could not get breadcrumbs from http://www.subdere.gov.cl/transparencia/dotacion_2007.html\n",
      "could not get pagination from http://www.subdere.gov.cl/transparencia/dotacion_2006.html\n",
      "could not get breadcrumbs from http://www.subdere.gov.cl/transparencia/dotacion_2006.html\n",
      "could not get pagination from http://www.subdere.gov.cl/transparencia/contrata_2008.html\n",
      "could not get breadcrumbs from http://www.subdere.gov.cl/transparencia/contrata_2008.html\n",
      "could not get pagination from http://www.subdere.gov.cl/transparencia/contrata_2007.html\n",
      "could not get breadcrumbs from http://www.subdere.gov.cl/transparencia/contrata_2007.html\n",
      "could not get pagination from http://www.subdere.gov.cl/transparencia/contrata_2006.html\n",
      "could not get breadcrumbs from http://www.subdere.gov.cl/transparencia/contrata_2006.html\n",
      "\n"
     ]
    },
    {
     "data": {
      "application/vnd.jupyter.widget-view+json": {
       "model_id": "4095be605d7a4b3faecacb54fa54a05c",
       "version_major": 2,
       "version_minor": 0
      },
      "text/plain": [
       "A Jupyter Widget"
      ]
     },
     "metadata": {},
     "output_type": "display_data"
    },
    {
     "name": "stdout",
     "output_type": "stream",
     "text": [
      "could not get pagination from http://www.gobiernotransparentechile.cl/directorio/entidad/2/343/per_planta/A%C3%B1o%202017/Enero\n",
      "could not get pagination from http://www.gobiernotransparentechile.cl/directorio/entidad/2/343/per_planta/A%C3%B1o%202017/Febrero\n",
      "could not get pagination from http://www.gobiernotransparentechile.cl/directorio/entidad/2/343/per_planta/A%C3%B1o%202017/Marzo\n",
      "could not get pagination from http://www.gobiernotransparentechile.cl/directorio/entidad/2/343/per_planta/A%C3%B1o%202017/Abril\n",
      "could not get pagination from http://www.gobiernotransparentechile.cl/directorio/entidad/2/343/per_planta/A%C3%B1o%202017/Mayo\n",
      "could not get pagination from http://www.gobiernotransparentechile.cl/directorio/entidad/2/343/per_planta/A%C3%B1o%202017/Junio\n",
      "could not get pagination from http://www.gobiernotransparentechile.cl/directorio/entidad/2/343/per_planta/A%C3%B1o%202017/Julio\n",
      "could not get pagination from http://www.gobiernotransparentechile.cl/directorio/entidad/2/343/per_planta/A%C3%B1o%202017/Agosto\n",
      "could not get pagination from http://www.gobiernotransparentechile.cl/directorio/entidad/2/343/per_planta/A%C3%B1o%202017/Septiembre\n",
      "could not get pagination from http://www.gobiernotransparentechile.cl/directorio/entidad/2/343/per_planta/A%C3%B1o%202017/Octubre\n",
      "could not get pagination from http://www.gobiernotransparentechile.cl/directorio/entidad/2/343/per_planta/A%C3%B1o%202016/Enero\n",
      "could not get pagination from http://www.gobiernotransparentechile.cl/directorio/entidad/2/343/per_planta/A%C3%B1o%202016/Febrero\n",
      "could not get pagination from http://www.gobiernotransparentechile.cl/directorio/entidad/2/343/per_planta/A%C3%B1o%202016/Marzo\n",
      "could not get pagination from http://www.gobiernotransparentechile.cl/directorio/entidad/2/343/per_planta/A%C3%B1o%202016/Abril\n",
      "could not get pagination from http://www.gobiernotransparentechile.cl/directorio/entidad/2/343/per_planta/A%C3%B1o%202016/Mayo\n",
      "could not get pagination from http://www.gobiernotransparentechile.cl/directorio/entidad/2/343/per_planta/A%C3%B1o%202016/Junio\n",
      "could not get pagination from http://www.gobiernotransparentechile.cl/directorio/entidad/2/343/per_planta/A%C3%B1o%202016/Julio\n",
      "could not get pagination from http://www.gobiernotransparentechile.cl/directorio/entidad/2/343/per_planta/A%C3%B1o%202016/Agosto\n",
      "could not get pagination from http://www.gobiernotransparentechile.cl/directorio/entidad/2/343/per_planta/A%C3%B1o%202016/Septiembre\n",
      "could not get pagination from http://www.gobiernotransparentechile.cl/directorio/entidad/2/343/per_planta/A%C3%B1o%202016/Octubre\n",
      "could not get pagination from http://www.gobiernotransparentechile.cl/directorio/entidad/2/343/per_planta/A%C3%B1o%202016/Noviembre\n",
      "could not get pagination from http://www.gobiernotransparentechile.cl/directorio/entidad/2/343/per_planta/A%C3%B1o%202016/Diciembre\n",
      "could not get pagination from http://www.gobiernotransparentechile.cl/directorio/entidad/2/343/per_planta/Ao-2015\n",
      "could not get pagination from http://www.gobiernotransparentechile.cl/directorio/entidad/2/343/per_planta/Ao-2014\n",
      "could not get pagination from http://www.gobiernotransparentechile.cl/directorio/entidad/2/343/per_planta/Ao-2013\n",
      "could not get pagination from http://www.gobiernotransparentechile.cl/directorio/entidad/2/343/per_planta/Ao-2012\n",
      "could not get pagination from http://www.gobiernotransparentechile.cl/directorio/entidad/2/343/per_planta/Ao-2011\n",
      "could not get pagination from http://www.gobiernotransparentechile.cl/directorio/entidad/2/343/per_contrata/Ao-2011\n",
      "\n"
     ]
    },
    {
     "name": "stderr",
     "output_type": "stream",
     "text": [
      "Traceback (most recent call last):\n",
      "  File \"./lib/functions.py\", line 62, in getDepartmentData\n",
      "    div_years = browser.find_element_by_class_name(\"linksIntermedios\")\n",
      "  File \"/Users/jaime/anaconda3/lib/python3.6/site-packages/selenium/webdriver/remote/webdriver.py\", line 555, in find_element_by_class_name\n",
      "    return self.find_element(by=By.CLASS_NAME, value=name)\n",
      "  File \"/Users/jaime/anaconda3/lib/python3.6/site-packages/selenium/webdriver/remote/webdriver.py\", line 955, in find_element\n",
      "    'value': value})['value']\n",
      "  File \"/Users/jaime/anaconda3/lib/python3.6/site-packages/selenium/webdriver/remote/webdriver.py\", line 312, in execute\n",
      "    self.error_handler.check_response(response)\n",
      "  File \"/Users/jaime/anaconda3/lib/python3.6/site-packages/selenium/webdriver/remote/errorhandler.py\", line 237, in check_response\n",
      "    raise exception_class(message, screen, stacktrace)\n",
      "selenium.common.exceptions.NoSuchElementException: Message: no such element: Unable to locate element: {\"method\":\"class name\",\"selector\":\"linksIntermedios\"}\n",
      "  (Session info: chrome=63.0.3239.132)\n",
      "  (Driver info: chromedriver=2.35.528157 (4429ca2590d6988c0745c24c8858745aaaec01ef),platform=Mac OS X 10.13.2 x86_64)\n",
      "\n"
     ]
    },
    {
     "name": "stdout",
     "output_type": "stream",
     "text": [
      "No contract data per_planta in http://www.gobiernotransparentechile.cl/directorio/entidad/2/4\n",
      "No contract data per_contrata in http://www.gobiernotransparentechile.cl/directorio/entidad/2/4\n"
     ]
    },
    {
     "name": "stderr",
     "output_type": "stream",
     "text": [
      "Traceback (most recent call last):\n",
      "  File \"./lib/functions.py\", line 62, in getDepartmentData\n",
      "    div_years = browser.find_element_by_class_name(\"linksIntermedios\")\n",
      "  File \"/Users/jaime/anaconda3/lib/python3.6/site-packages/selenium/webdriver/remote/webdriver.py\", line 555, in find_element_by_class_name\n",
      "    return self.find_element(by=By.CLASS_NAME, value=name)\n",
      "  File \"/Users/jaime/anaconda3/lib/python3.6/site-packages/selenium/webdriver/remote/webdriver.py\", line 955, in find_element\n",
      "    'value': value})['value']\n",
      "  File \"/Users/jaime/anaconda3/lib/python3.6/site-packages/selenium/webdriver/remote/webdriver.py\", line 312, in execute\n",
      "    self.error_handler.check_response(response)\n",
      "  File \"/Users/jaime/anaconda3/lib/python3.6/site-packages/selenium/webdriver/remote/errorhandler.py\", line 237, in check_response\n",
      "    raise exception_class(message, screen, stacktrace)\n",
      "selenium.common.exceptions.NoSuchElementException: Message: no such element: Unable to locate element: {\"method\":\"class name\",\"selector\":\"linksIntermedios\"}\n",
      "  (Session info: chrome=63.0.3239.132)\n",
      "  (Driver info: chromedriver=2.35.528157 (4429ca2590d6988c0745c24c8858745aaaec01ef),platform=Mac OS X 10.13.2 x86_64)\n",
      "\n"
     ]
    },
    {
     "data": {
      "application/vnd.jupyter.widget-view+json": {
       "model_id": "7ac2c4a5aca742ce978920fa0cb08b31",
       "version_major": 2,
       "version_minor": 0
      },
      "text/plain": [
       "A Jupyter Widget"
      ]
     },
     "metadata": {},
     "output_type": "display_data"
    },
    {
     "name": "stdout",
     "output_type": "stream",
     "text": [
      "\n"
     ]
    },
    {
     "data": {
      "application/vnd.jupyter.widget-view+json": {
       "model_id": "f283e924bafd49f990b4d0a02a365581",
       "version_major": 2,
       "version_minor": 0
      },
      "text/plain": [
       "A Jupyter Widget"
      ]
     },
     "metadata": {},
     "output_type": "display_data"
    },
    {
     "name": "stdout",
     "output_type": "stream",
     "text": [
      "could not get pagination from http://www.gobiernotransparentechile.cl/directorio/entidad/2/5/per_planta/A%C3%B1o%202017/Enero\n",
      "could not get pagination from http://www.gobiernotransparentechile.cl/directorio/entidad/2/5/per_planta/A%C3%B1o%202017/Febrero\n",
      "could not get pagination from http://www.gobiernotransparentechile.cl/directorio/entidad/2/5/per_planta/A%C3%B1o%202017/Marzo\n",
      "could not get pagination from http://www.gobiernotransparentechile.cl/directorio/entidad/2/5/per_planta/A%C3%B1o%202017/Abril\n",
      "could not get pagination from http://www.gobiernotransparentechile.cl/directorio/entidad/2/5/per_planta/A%C3%B1o%202017/Mayo\n",
      "could not get pagination from http://www.gobiernotransparentechile.cl/directorio/entidad/2/5/per_planta/A%C3%B1o%202017/Junio\n",
      "could not get pagination from http://www.gobiernotransparentechile.cl/directorio/entidad/2/5/per_planta/A%C3%B1o%202017/Julio\n",
      "could not get pagination from http://www.gobiernotransparentechile.cl/directorio/entidad/2/5/per_planta/A%C3%B1o%202017/Agosto\n",
      "could not get pagination from http://www.gobiernotransparentechile.cl/directorio/entidad/2/5/per_planta/A%C3%B1o%202017/Septiembre\n",
      "could not get pagination from http://www.gobiernotransparentechile.cl/directorio/entidad/2/5/per_planta/A%C3%B1o%202017/Octubre\n",
      "could not get pagination from http://www.gobiernotransparentechile.cl/directorio/entidad/2/5/per_planta/A%C3%B1o%202016/Enero\n",
      "could not get pagination from http://www.gobiernotransparentechile.cl/directorio/entidad/2/5/per_planta/A%C3%B1o%202016/Febrero\n",
      "could not get pagination from http://www.gobiernotransparentechile.cl/directorio/entidad/2/5/per_planta/A%C3%B1o%202016/Marzo\n",
      "could not get pagination from http://www.gobiernotransparentechile.cl/directorio/entidad/2/5/per_planta/A%C3%B1o%202016/Abril\n",
      "could not get pagination from http://www.gobiernotransparentechile.cl/directorio/entidad/2/5/per_planta/A%C3%B1o%202016/Mayo\n",
      "could not get pagination from http://www.gobiernotransparentechile.cl/directorio/entidad/2/5/per_planta/A%C3%B1o%202016/Junio\n",
      "could not get pagination from http://www.gobiernotransparentechile.cl/directorio/entidad/2/5/per_planta/A%C3%B1o%202016/Julio\n",
      "could not get pagination from http://www.gobiernotransparentechile.cl/directorio/entidad/2/5/per_planta/A%C3%B1o%202016/Agosto\n",
      "could not get pagination from http://www.gobiernotransparentechile.cl/directorio/entidad/2/5/per_planta/A%C3%B1o%202016/Septiembre\n",
      "could not get pagination from http://www.gobiernotransparentechile.cl/directorio/entidad/2/5/per_planta/A%C3%B1o%202016/Octubre\n",
      "could not get pagination from http://www.gobiernotransparentechile.cl/directorio/entidad/2/5/per_planta/A%C3%B1o%202016/Noviembre\n",
      "could not get pagination from http://www.gobiernotransparentechile.cl/directorio/entidad/2/5/per_planta/A%C3%B1o%202016/Diciembre\n",
      "could not get pagination from http://www.gobiernotransparentechile.cl/directorio/entidad/2/5/per_planta/A%C3%B1o%202015/Enero\n",
      "could not get pagination from http://www.gobiernotransparentechile.cl/directorio/entidad/2/5/per_planta/A%C3%B1o%202015/Febrero\n",
      "could not get pagination from http://www.gobiernotransparentechile.cl/directorio/entidad/2/5/per_planta/A%C3%B1o%202015/Marzo\n",
      "could not get pagination from http://www.gobiernotransparentechile.cl/directorio/entidad/2/5/per_planta/A%C3%B1o%202015/Abril\n",
      "could not get pagination from http://www.gobiernotransparentechile.cl/directorio/entidad/2/5/per_planta/A%C3%B1o%202015/Mayo\n",
      "could not get pagination from http://www.gobiernotransparentechile.cl/directorio/entidad/2/5/per_planta/A%C3%B1o%202015/Junio\n",
      "could not get pagination from http://www.gobiernotransparentechile.cl/directorio/entidad/2/5/per_planta/A%C3%B1o%202015/Julio\n",
      "could not get pagination from http://www.gobiernotransparentechile.cl/directorio/entidad/2/5/per_planta/A%C3%B1o%202015/Agosto\n",
      "could not get pagination from http://www.gobiernotransparentechile.cl/directorio/entidad/2/5/per_planta/A%C3%B1o%202015/Septiembre\n",
      "could not get pagination from http://www.gobiernotransparentechile.cl/directorio/entidad/2/5/per_planta/A%C3%B1o%202015/Octubre\n",
      "could not get pagination from http://www.gobiernotransparentechile.cl/directorio/entidad/2/5/per_planta/A%C3%B1o%202015/Noviembre\n",
      "could not get pagination from http://www.gobiernotransparentechile.cl/directorio/entidad/2/5/per_planta/A%C3%B1o%202015/Diciembre\n",
      "could not get pagination from http://www.gobiernotransparentechile.cl/directorio/entidad/2/5/per_planta/A%C3%B1o%202014/Enero\n",
      "could not get pagination from http://www.gobiernotransparentechile.cl/directorio/entidad/2/5/per_planta/A%C3%B1o%202014/Febrero\n",
      "could not get pagination from http://www.gobiernotransparentechile.cl/directorio/entidad/2/5/per_planta/A%C3%B1o%202014/Marzo\n",
      "could not get pagination from http://www.gobiernotransparentechile.cl/directorio/entidad/2/5/per_planta/A%C3%B1o%202014/Abril\n",
      "could not get pagination from http://www.gobiernotransparentechile.cl/directorio/entidad/2/5/per_planta/A%C3%B1o%202014/Mayo\n",
      "could not get pagination from http://www.gobiernotransparentechile.cl/directorio/entidad/2/5/per_planta/A%C3%B1o%202014/Junio\n",
      "could not get pagination from http://www.gobiernotransparentechile.cl/directorio/entidad/2/5/per_planta/A%C3%B1o%202014/Julio\n",
      "could not get pagination from http://www.gobiernotransparentechile.cl/directorio/entidad/2/5/per_planta/A%C3%B1o%202014/Agosto\n",
      "could not get pagination from http://www.gobiernotransparentechile.cl/directorio/entidad/2/5/per_planta/A%C3%B1o%202014/Septiembre\n",
      "could not get pagination from http://www.gobiernotransparentechile.cl/directorio/entidad/2/5/per_planta/A%C3%B1o%202014/Octubre\n",
      "could not get pagination from http://www.gobiernotransparentechile.cl/directorio/entidad/2/5/per_planta/A%C3%B1o%202014/Noviembre\n",
      "could not get pagination from http://www.gobiernotransparentechile.cl/directorio/entidad/2/5/per_planta/A%C3%B1o%202014/Diciembre\n",
      "could not get pagination from http://www.gobiernotransparentechile.cl/directorio/entidad/2/5/per_planta/A%C3%B1o%202013/Enero\n",
      "could not get pagination from http://www.gobiernotransparentechile.cl/directorio/entidad/2/5/per_planta/A%C3%B1o%202013/Febrero\n",
      "could not get pagination from http://www.gobiernotransparentechile.cl/directorio/entidad/2/5/per_planta/A%C3%B1o%202013/Marzo\n",
      "could not get pagination from http://www.gobiernotransparentechile.cl/directorio/entidad/2/5/per_planta/A%C3%B1o%202013/Abril\n",
      "could not get pagination from http://www.gobiernotransparentechile.cl/directorio/entidad/2/5/per_planta/A%C3%B1o%202013/Mayo\n",
      "could not get pagination from http://www.gobiernotransparentechile.cl/directorio/entidad/2/5/per_planta/A%C3%B1o%202013/Junio\n",
      "could not get pagination from http://www.gobiernotransparentechile.cl/directorio/entidad/2/5/per_planta/A%C3%B1o%202013/Julio\n",
      "could not get pagination from http://www.gobiernotransparentechile.cl/directorio/entidad/2/5/per_planta/A%C3%B1o%202013/Agosto\n",
      "could not get pagination from http://www.gobiernotransparentechile.cl/directorio/entidad/2/5/per_planta/A%C3%B1o%202013/Septiembre\n",
      "could not get pagination from http://www.gobiernotransparentechile.cl/directorio/entidad/2/5/per_planta/A%C3%B1o%202013/Octubre\n",
      "could not get pagination from http://www.gobiernotransparentechile.cl/directorio/entidad/2/5/per_planta/A%C3%B1o%202013/Noviembre\n",
      "could not get pagination from http://www.gobiernotransparentechile.cl/directorio/entidad/2/5/per_planta/A%C3%B1o%202013/Diciembre\n",
      "could not get pagination from http://www.gobiernotransparentechile.cl/directorio/entidad/2/5/per_planta/A%C3%B1o%202012/Enero\n",
      "could not get pagination from http://www.gobiernotransparentechile.cl/directorio/entidad/2/5/per_planta/A%C3%B1o%202012/Febrero\n",
      "could not get pagination from http://www.gobiernotransparentechile.cl/directorio/entidad/2/5/per_planta/A%C3%B1o%202012/Marzo\n",
      "could not get pagination from http://www.gobiernotransparentechile.cl/directorio/entidad/2/5/per_planta/A%C3%B1o%202012/Abril\n",
      "could not get pagination from http://www.gobiernotransparentechile.cl/directorio/entidad/2/5/per_planta/A%C3%B1o%202012/Mayo\n",
      "could not get pagination from http://www.gobiernotransparentechile.cl/directorio/entidad/2/5/per_planta/A%C3%B1o%202012/Junio\n",
      "could not get pagination from http://www.gobiernotransparentechile.cl/directorio/entidad/2/5/per_planta/A%C3%B1o%202012/Julio\n"
     ]
    },
    {
     "name": "stdout",
     "output_type": "stream",
     "text": [
      "could not get pagination from http://www.gobiernotransparentechile.cl/directorio/entidad/2/5/per_planta/A%C3%B1o%202012/Agosto\n",
      "could not get pagination from http://www.gobiernotransparentechile.cl/directorio/entidad/2/5/per_planta/A%C3%B1o%202012/Septiembre\n",
      "could not get pagination from http://www.gobiernotransparentechile.cl/directorio/entidad/2/5/per_planta/A%C3%B1o%202012/Octubre\n",
      "could not get pagination from http://www.gobiernotransparentechile.cl/directorio/entidad/2/5/per_planta/A%C3%B1o%202012/Noviembre\n",
      "could not get pagination from http://www.gobiernotransparentechile.cl/directorio/entidad/2/5/per_planta/A%C3%B1o%202012/Diciembre\n"
     ]
    }
   ],
   "source": [
    "period = '20180113'\n",
    "\n",
    "output = './output/scraped_data_{}.csv'.format(period)\n",
    "\n",
    "url = 'http://www.gobiernotransparentechile.cl/'\n",
    "\n",
    "browser = webdriver.Chrome()\n",
    "#browser = webdriver.Firefox()\n",
    "\n",
    "df = getGovernmentData(output, url, browser, 0)"
   ]
  },
  {
   "cell_type": "markdown",
   "metadata": {},
   "source": [
    "# Debugging\n"
   ]
  },
  {
   "cell_type": "code",
   "execution_count": 6,
   "metadata": {
    "collapsed": true,
    "scrolled": true
   },
   "outputs": [],
   "source": [
    "browser_debug = webdriver.Chrome()\n",
    "getTableData2('./output/debugging.csv', 'http://www.gobiernotransparentechile.cl/directorio/entidad/12/167/per_planta/A%C3%B1o%202016/Enero', browser_debug)"
   ]
  },
  {
   "cell_type": "code",
   "execution_count": null,
   "metadata": {
    "collapsed": true
   },
   "outputs": [],
   "source": []
  },
  {
   "cell_type": "code",
   "execution_count": null,
   "metadata": {
    "collapsed": true
   },
   "outputs": [],
   "source": []
  }
 ],
 "metadata": {
  "anaconda-cloud": {},
  "kernelspec": {
   "display_name": "Python 3",
   "language": "python",
   "name": "python3"
  },
  "language_info": {
   "codemirror_mode": {
    "name": "ipython",
    "version": 3
   },
   "file_extension": ".py",
   "mimetype": "text/x-python",
   "name": "python",
   "nbconvert_exporter": "python",
   "pygments_lexer": "ipython3",
   "version": "3.6.2"
  }
 },
 "nbformat": 4,
 "nbformat_minor": 1
}
